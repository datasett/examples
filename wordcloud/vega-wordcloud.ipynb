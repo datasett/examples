{
 "cells": [
  {
   "cell_type": "code",
   "execution_count": 1,
   "metadata": {},
   "outputs": [],
   "source": [
    "import os\n",
    "os.environ['GOOGLE_APPLICATION_CREDENTIALS'] = '/users/b149899/projects/binder/binder/keys/nav_opendata.json'"
   ]
  },
  {
   "cell_type": "code",
   "execution_count": 2,
   "metadata": {},
   "outputs": [],
   "source": [
    "from dataverk import Client, Datapackage\n",
    "import datetime"
   ]
  },
  {
   "cell_type": "code",
   "execution_count": 3,
   "metadata": {},
   "outputs": [],
   "source": [
    "readme = \"\"\"\n",
    "# Vega wordcloud examples\n",
    "\n",
    "Source: \n",
    "\n",
    "\"\"\"\n",
    "\n",
    "auth = 'paul.bencze@nav.no'\n",
    "published = datetime.datetime.now().isoformat()\n",
    "\n",
    "metadata = {\n",
    "'readme': readme,\n",
    "'store': 'gs',\n",
    "'accessRights': 'Open',\n",
    "'author': auth,\n",
    "'published': published,\n",
    "'license': 'CC BY 4.0',\n",
    "'category': 'Åpne data',\n",
    "'created_by': auth,\n",
    "'description': 'Examples: wordcloud',\n",
    "'format': 'datapackage',\n",
    "'keywords': ['wordcloud example'],\n",
    "'provenance': 'NAV',\n",
    "'publisher': 'NAV',\n",
    "'spatial': 'Norge',\n",
    "'theme': ['Åpne data'],\n",
    "'title': 'Trygdemisbruk',\n",
    "'type': 'datakatalog',\n",
    "'project': 'odata', \n",
    "'user':'nav-examples',\n",
    "'repo': 'https://github.com/datasett/examples/blob/master/wordcloud/vega-wordcloud.ipynb',\n",
    "'bucket': 'nav-opendata'\n",
    "}"
   ]
  },
  {
   "cell_type": "code",
   "execution_count": 4,
   "metadata": {},
   "outputs": [],
   "source": [
    "dp = Datapackage(metadata)"
   ]
  },
  {
   "cell_type": "code",
   "execution_count": 5,
   "metadata": {},
   "outputs": [],
   "source": [
    "text = \"\"\"\n",
    "Det legemeldte sykefraværet var 4,9 prosent i 2. kvartal 2019. Sammenlignet med samme kvartal i fjor innebærer dette en økning på 2,2 prosent. Økningen var størst hos kvinner hvor sykefraværet gikk fra 6,2 prosent til 6,4 prosent. For menn var sykefraværet stabilt på 3,6 prosent\n",
    "Endringene i sykefraværet fra 2. kvartal 2018 til 2. kvartal 2019 for kvinner viser størst økning blant de aller yngste aldersgruppene under 25 år og blant de aller eldste. For menn økte sykefraværet mest for de yngste under 19 år. For menn mellom 50-59 år gikk sykefraværet noe ned.\n",
    "Blant fylkene er det Sogn og Fjordane som har den største økningen i sykefraværet med 9,6 prosent. Deretter fulgte Finnmark med 8,1 prosent oppgang og Nordland med 6,5 prosent. To fylker hadde nedgang i sykefraværet. I Vestfold gikk sykefraværet ned med 3,1 prosent og i Troms med 1,8 prosent. \n",
    "Oslo har fremdeles det laveste legemeldte sykefraværet med 4,0 prosent. Finnmark og Nordland har det høyeste sykefraværet med 5,9 prosent\n",
    "Statistikk fra Arbeids- og velferdsdirektoratet omfatter bare legemeldt fravær\n",
    "\"\"\""
   ]
  },
  {
   "cell_type": "code",
   "execution_count": 6,
   "metadata": {},
   "outputs": [],
   "source": [
    "stopwords_no = \"(i|var|fra|på)\" "
   ]
  },
  {
   "cell_type": "code",
   "execution_count": 7,
   "metadata": {},
   "outputs": [],
   "source": [
    "stopwords_en = \"(i|me|my|myself|we|us|our|ours|ourselves|you|your|yours|yourself|yourselves|he|him|his|himself|she|her|hers|herself|it|its|itself|they|them|their|theirs|themselves|what|which|who|whom|whose|this|that|these|those|am|is|are|was|were|be|been|being|have|has|had|having|do|does|did|doing|will|would|should|can|could|ought|i'm|you're|he's|she's|it's|we're|they're|i've|you've|we've|they've|i'd|you'd|he'd|she'd|we'd|they'd|i'll|you'll|he'll|she'll|we'll|they'll|isn't|aren't|wasn't|weren't|hasn't|haven't|hadn't|doesn't|don't|didn't|won't|wouldn't|shan't|shouldn't|can't|cannot|couldn't|mustn't|let's|that's|who's|what's|here's|there's|when's|where's|why's|how's|a|an|the|and|but|if|or|because|as|until|while|of|at|by|for|with|about|against|between|into|through|during|before|after|above|below|to|from|up|upon|down|in|out|on|off|over|under|again|further|then|once|here|there|when|where|why|how|all|any|both|each|few|more|most|other|some|such|no|nor|not|only|own|same|so|than|too|very|say|says|said|shall)\""
   ]
  },
  {
   "cell_type": "code",
   "execution_count": 8,
   "metadata": {},
   "outputs": [],
   "source": [
    "spec = {\n",
    "  \"$schema\": \"https://vega.github.io/schema/vega/v5.json\",\n",
    "  \"width\": 800,\n",
    "  \"height\": 400,\n",
    "  \"padding\": 0,\n",
    "\n",
    "  \"data\": [\n",
    "    {\n",
    "      \"name\": \"table\",\n",
    "      \"values\": [text],\n",
    "      \"transform\": [\n",
    "        {\n",
    "          \"type\": \"countpattern\",\n",
    "          \"field\": \"data\",\n",
    "          \"case\": \"upper\",\n",
    "          \"pattern\": \"[\\\\w']{3,}\",\n",
    "          \"stopwords\": stopwords_no\n",
    "        },\n",
    "        {\n",
    "          \"type\": \"formula\", \"as\": \"angle\",\n",
    "          \"expr\": \"[-45, 0, 45][~~(random() * 3)]\"\n",
    "        },\n",
    "        {\n",
    "          \"type\": \"formula\", \"as\": \"weight\",\n",
    "          \"expr\": \"if(datum.text=='VEGA', 600, 300)\"\n",
    "        }\n",
    "      ]\n",
    "    }\n",
    "  ],\n",
    "\n",
    "  \"scales\": [\n",
    "    {\n",
    "      \"name\": \"color\",\n",
    "      \"type\": \"ordinal\",\n",
    "      \"domain\": {\"data\": \"table\", \"field\": \"text\"},\n",
    "      \"range\": [\"#d5a928\", \"#652c90\", \"#939597\"]\n",
    "    }\n",
    "  ],\n",
    "\n",
    "  \"marks\": [\n",
    "    {\n",
    "      \"type\": \"text\",\n",
    "      \"from\": {\"data\": \"table\"},\n",
    "      \"encode\": {\n",
    "        \"enter\": {\n",
    "          \"text\": {\"field\": \"text\"},\n",
    "          \"align\": {\"value\": \"center\"},\n",
    "          \"baseline\": {\"value\": \"alphabetic\"},\n",
    "          \"fill\": {\"scale\": \"color\", \"field\": \"text\"}\n",
    "        },\n",
    "        \"update\": {\n",
    "          \"fillOpacity\": {\"value\": 1}\n",
    "        },\n",
    "        \"hover\": {\n",
    "          \"fillOpacity\": {\"value\": 0.5}\n",
    "        }\n",
    "      },\n",
    "      \"transform\": [\n",
    "        {\n",
    "          \"type\": \"wordcloud\",\n",
    "          \"size\": [800, 400],\n",
    "          \"text\": {\"field\": \"text\"},\n",
    "          \"rotate\": {\"field\": \"datum.angle\"},\n",
    "          \"font\": \"Open Sans, Arial\",\n",
    "          \"fontSize\": {\"field\": \"datum.count\"},\n",
    "          \"fontWeight\": {\"field\": \"datum.weight\"},\n",
    "          \"fontSizeRange\": [12, 56],\n",
    "          \"padding\": 2\n",
    "        }\n",
    "      ]\n",
    "    }\n",
    "  ]\n",
    "}"
   ]
  },
  {
   "cell_type": "code",
   "execution_count": 9,
   "metadata": {},
   "outputs": [],
   "source": [
    "description = '''\n",
    "Sykefravær rapport 2019\n",
    "'''\n",
    "\n",
    "dp.add_view(\n",
    "    spec_type='vega',\n",
    "    name='Sykefravær rapport 2019',\n",
    "    description = description,\n",
    "    resources=[],\n",
    "    attribution = \"Kilde: Dataverk\",\n",
    "    spec=spec\n",
    ")"
   ]
  },
  {
   "cell_type": "code",
   "execution_count": 10,
   "metadata": {},
   "outputs": [
    {
     "name": "stdout",
     "output_type": "stream",
     "text": [
      "gs\n",
      "2019-10-02T21:05:25.322349: B149899 <class 'dataverk.connectors.google_storage.GoogleStorageConnector'>: String (format: json) written to https://storage.googleapis.com/nav-opendata/ec09d325ad41cc5b001ece8a9876ec66/datapackage.json\n",
      "2019-10-02T21:05:26.064455: B149899 <class 'dataverk.connectors.elasticsearch.ElasticsearchConnector'>: Document ec09d325ad41cc5b001ece8a9876ec66 of type dcat indexed to elastic index: dcat.\n"
     ]
    }
   ],
   "source": [
    "client = Client()\n",
    "client.publish(dp)"
   ]
  }
 ],
 "metadata": {
  "kernelspec": {
   "display_name": "Python (dv)",
   "language": "python",
   "name": "dv"
  },
  "language_info": {
   "codemirror_mode": {
    "name": "ipython",
    "version": 3
   },
   "file_extension": ".py",
   "mimetype": "text/x-python",
   "name": "python",
   "nbconvert_exporter": "python",
   "pygments_lexer": "ipython3",
   "version": "3.7.3"
  },
  "varInspector": {
   "cols": {
    "lenName": 16,
    "lenType": 16,
    "lenVar": 40
   },
   "kernels_config": {
    "python": {
     "delete_cmd_postfix": "",
     "delete_cmd_prefix": "del ",
     "library": "var_list.py",
     "varRefreshCmd": "print(var_dic_list())"
    },
    "r": {
     "delete_cmd_postfix": ") ",
     "delete_cmd_prefix": "rm(",
     "library": "var_list.r",
     "varRefreshCmd": "cat(var_dic_list()) "
    }
   },
   "types_to_exclude": [
    "module",
    "function",
    "builtin_function_or_method",
    "instance",
    "_Feature"
   ],
   "window_display": false
  }
 },
 "nbformat": 4,
 "nbformat_minor": 2
}
