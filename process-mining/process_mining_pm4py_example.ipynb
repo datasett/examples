{
 "cells": [
  {
   "cell_type": "code",
   "execution_count": 59,
   "metadata": {},
   "outputs": [
    {
     "data": {
      "text/plain": [
       "RendererRegistry.enable('notebook')"
      ]
     },
     "execution_count": 59,
     "metadata": {},
     "output_type": "execute_result"
    }
   ],
   "source": [
    "import altair as alt\n",
    "import pandas as pd\n",
    "import numpy as np\n",
    "import altair as alt\n",
    "from vega_datasets import data\n",
    "\n",
    "alt.renderers.enable('notebook')"
   ]
  },
  {
   "cell_type": "code",
   "execution_count": 76,
   "metadata": {},
   "outputs": [],
   "source": [
    "from pm4py.algo.discovery.alpha import factory as alpha_miner\n",
    "from pm4py.algo.discovery.simple.model.log import factory as simple_miner\n",
    "from pm4py.objects.log.importer.xes import factory as xes_importer\n",
    "from pm4py.visualization.petrinet import factory as vis_factory\n",
    "from pm4py.objects.petri.check_soundness import check_petri_wfnet_and_soundness"
   ]
  },
  {
   "cell_type": "code",
   "execution_count": 77,
   "metadata": {},
   "outputs": [],
   "source": [
    "import requests\n",
    "url = 'https://storage.googleapis.com/vega-datasets/process-mining/receipt.xes'\n",
    "response = requests.get(url)\n",
    "xes = response.text"
   ]
  },
  {
   "cell_type": "code",
   "execution_count": 78,
   "metadata": {},
   "outputs": [
    {
     "data": {
      "text/plain": [
       "<Response [200]>"
      ]
     },
     "execution_count": 78,
     "metadata": {},
     "output_type": "execute_result"
    }
   ],
   "source": [
    "response"
   ]
  },
  {
   "cell_type": "code",
   "execution_count": null,
   "metadata": {},
   "outputs": [],
   "source": [
    "log = xes_importer.import_log_from_string(xes)"
   ]
  },
  {
   "cell_type": "code",
   "execution_count": 84,
   "metadata": {},
   "outputs": [
    {
     "name": "stdout",
     "output_type": "stream",
     "text": [
      "False\n"
     ]
    }
   ],
   "source": [
    "net, initial_marking, final_marking = alpha_miner.apply(log)\n",
    "print(check_petri_wfnet_and_soundness(net))"
   ]
  },
  {
   "cell_type": "code",
   "execution_count": 85,
   "metadata": {},
   "outputs": [
    {
     "name": "stdout",
     "output_type": "stream",
     "text": [
      "True\n"
     ]
    }
   ],
   "source": [
    "net, initial_marking, final_marking = simple_miner.apply(log, classic_output=True)\n",
    "print(check_petri_wfnet_and_soundness(net))"
   ]
  },
  {
   "cell_type": "code",
   "execution_count": 86,
   "metadata": {},
   "outputs": [],
   "source": [
    "#dir(net)"
   ]
  },
  {
   "cell_type": "code",
   "execution_count": 89,
   "metadata": {},
   "outputs": [
    {
     "name": "stdout",
     "output_type": "stream",
     "text": [
      "(start, 1)\n"
     ]
    }
   ],
   "source": [
    "for val in initial_marking.items():\n",
    "    print(val)"
   ]
  },
  {
   "cell_type": "code",
   "execution_count": 90,
   "metadata": {},
   "outputs": [
    {
     "name": "stdout",
     "output_type": "stream",
     "text": [
      "(end, 1)\n"
     ]
    }
   ],
   "source": [
    "for val in final_marking.items():\n",
    "    print(val)"
   ]
  },
  {
   "cell_type": "code",
   "execution_count": 91,
   "metadata": {},
   "outputs": [],
   "source": [
    "if initial_marking is None:\n",
    "    initial_marking = Marking()\n",
    "if final_marking is None:\n",
    "    final_marking = Marking()\n",
    "\n",
    "nodes = []\n",
    "edges = []\n",
    "    \n",
    "for t in net.transitions:\n",
    "    if t.label is None:\n",
    "        t.label = ''\n",
    "    node = {'name': str(hash(t.name)), 'label': str(t.label), 'style':'filled', 'fillcolor':'black'}\n",
    "    nodes.append(node)\n",
    "\n",
    "for p in net.places:\n",
    "    if p in initial_marking:\n",
    "        node = {'name': str(hash(t.name)), 'label': str(initial_marking[p]), 'style':'filled', 'fillcolor':'green'}\n",
    "    elif p in final_marking:\n",
    "        node = {'name': str(hash(t.name)), 'label': \"\", 'style':'filled', 'fillcolor':'orange'}\n",
    "\n",
    "\n",
    "for a in net.arcs:\n",
    "    edge = {'source': str(hash(a.source.name)), 'target': str(hash(a.target.name))}\n",
    "    edges.append(edge)                     \n"
   ]
  },
  {
   "cell_type": "code",
   "execution_count": 94,
   "metadata": {},
   "outputs": [
    {
     "data": {
      "text/plain": [
       "{Confirmation of receipt+complete,\n",
       " T02 Check confirmation of receipt+complete,\n",
       " T10 Determine necessity to stop indication+complete,\n",
       " T05 Print and send confirmation of receipt+complete,\n",
       " T06 Determine necessity of stop advice+complete,\n",
       " T04 Determine confirmation of receipt+complete}"
      ]
     },
     "execution_count": 94,
     "metadata": {},
     "output_type": "execute_result"
    }
   ],
   "source": [
    "net.transitions"
   ]
  },
  {
   "cell_type": "code",
   "execution_count": 95,
   "metadata": {},
   "outputs": [
    {
     "data": {
      "text/plain": [
       "{(p)({'T04 Determine confirmation of receipt+complete'}, {'T05 Print and send confirmation of receipt+complete'})->(t)T05 Print and send confirmation of receipt+complete,\n",
       " (t)T04 Determine confirmation of receipt+complete->(p)({'T04 Determine confirmation of receipt+complete'}, {'T06 Determine necessity of stop advice+complete'}),\n",
       " (t)T04 Determine confirmation of receipt+complete->(p)({'T04 Determine confirmation of receipt+complete'}, {'T05 Print and send confirmation of receipt+complete'}),\n",
       " (t)T06 Determine necessity of stop advice+complete->(p)({'T06 Determine necessity of stop advice+complete'}, {'T10 Determine necessity to stop indication+complete'}),\n",
       " (t)T05 Print and send confirmation of receipt+complete->(p)({'T05 Print and send confirmation of receipt+complete'}, {'T10 Determine necessity to stop indication+complete'}),\n",
       " (p)({'T02 Check confirmation of receipt+complete'}, {'T04 Determine confirmation of receipt+complete'})->(t)T04 Determine confirmation of receipt+complete,\n",
       " (p)({'T04 Determine confirmation of receipt+complete'}, {'T06 Determine necessity of stop advice+complete'})->(t)T06 Determine necessity of stop advice+complete,\n",
       " (p)start->(t)Confirmation of receipt+complete,\n",
       " (t)Confirmation of receipt+complete->(p)({'Confirmation of receipt+complete'}, {'T02 Check confirmation of receipt+complete'}),\n",
       " (p)({'T06 Determine necessity of stop advice+complete'}, {'T10 Determine necessity to stop indication+complete'})->(t)T10 Determine necessity to stop indication+complete,\n",
       " (t)T10 Determine necessity to stop indication+complete->(p)end,\n",
       " (p)({'T05 Print and send confirmation of receipt+complete'}, {'T10 Determine necessity to stop indication+complete'})->(t)T10 Determine necessity to stop indication+complete,\n",
       " (p)({'Confirmation of receipt+complete'}, {'T02 Check confirmation of receipt+complete'})->(t)T02 Check confirmation of receipt+complete,\n",
       " (t)T02 Check confirmation of receipt+complete->(p)({'T02 Check confirmation of receipt+complete'}, {'T04 Determine confirmation of receipt+complete'})}"
      ]
     },
     "execution_count": 95,
     "metadata": {},
     "output_type": "execute_result"
    }
   ],
   "source": [
    "net.arcs"
   ]
  },
  {
   "cell_type": "code",
   "execution_count": 92,
   "metadata": {},
   "outputs": [
    {
     "name": "stdout",
     "output_type": "stream",
     "text": [
      "{'name': '-2747065098433459077', 'label': 'Confirmation of receipt+complete', 'style': 'filled', 'fillcolor': 'black'}\n",
      "{'name': '-6838051243741296124', 'label': 'T02 Check confirmation of receipt+complete', 'style': 'filled', 'fillcolor': 'black'}\n",
      "{'name': '2160717460083170022', 'label': 'T10 Determine necessity to stop indication+complete', 'style': 'filled', 'fillcolor': 'black'}\n",
      "{'name': '-1511659696263904828', 'label': 'T05 Print and send confirmation of receipt+complete', 'style': 'filled', 'fillcolor': 'black'}\n",
      "{'name': '-4925603063786482525', 'label': 'T06 Determine necessity of stop advice+complete', 'style': 'filled', 'fillcolor': 'black'}\n",
      "{'name': '220930113678211902', 'label': 'T04 Determine confirmation of receipt+complete', 'style': 'filled', 'fillcolor': 'black'}\n"
     ]
    }
   ],
   "source": [
    "for node in nodes[:10]:\n",
    "    print(node)"
   ]
  },
  {
   "cell_type": "code",
   "execution_count": 93,
   "metadata": {},
   "outputs": [
    {
     "name": "stdout",
     "output_type": "stream",
     "text": [
      "{'source': '-6838051243741296124', 'target': '-1782603040837785522'}\n",
      "{'source': '-6838051243741296124', 'target': '-1782603040837785522'}\n",
      "{'source': '-6838051243741296124', 'target': '-1782603040837785522'}\n",
      "{'source': '-6838051243741296124', 'target': '-1782603040837785522'}\n",
      "{'source': '-6838051243741296124', 'target': '-1782603040837785522'}\n",
      "{'source': '-6838051243741296124', 'target': '-1782603040837785522'}\n",
      "{'source': '-6838051243741296124', 'target': '-1782603040837785522'}\n",
      "{'source': '-6838051243741296124', 'target': '-1782603040837785522'}\n",
      "{'source': '-6838051243741296124', 'target': '-1782603040837785522'}\n",
      "{'source': '-6838051243741296124', 'target': '-1782603040837785522'}\n",
      "{'source': '-6838051243741296124', 'target': '-1782603040837785522'}\n",
      "{'source': '-6838051243741296124', 'target': '-1782603040837785522'}\n",
      "{'source': '-6838051243741296124', 'target': '-1782603040837785522'}\n",
      "{'source': '-6838051243741296124', 'target': '-1782603040837785522'}\n"
     ]
    }
   ],
   "source": [
    "for edges in edges:\n",
    "    print(edge)"
   ]
  },
  {
   "cell_type": "code",
   "execution_count": null,
   "metadata": {},
   "outputs": [],
   "source": [
    "*# ref https://plot.ly/~empet/14007.embed"
   ]
  }
 ],
 "metadata": {
  "kernelspec": {
   "display_name": "Python (py37)",
   "language": "python",
   "name": "py37"
  },
  "language_info": {
   "codemirror_mode": {
    "name": "ipython",
    "version": 3
   },
   "file_extension": ".py",
   "mimetype": "text/x-python",
   "name": "python",
   "nbconvert_exporter": "python",
   "pygments_lexer": "ipython3",
   "version": "3.7.2"
  },
  "varInspector": {
   "cols": {
    "lenName": 16,
    "lenType": 16,
    "lenVar": 40
   },
   "kernels_config": {
    "python": {
     "delete_cmd_postfix": "",
     "delete_cmd_prefix": "del ",
     "library": "var_list.py",
     "varRefreshCmd": "print(var_dic_list())"
    },
    "r": {
     "delete_cmd_postfix": ") ",
     "delete_cmd_prefix": "rm(",
     "library": "var_list.r",
     "varRefreshCmd": "cat(var_dic_list()) "
    }
   },
   "types_to_exclude": [
    "module",
    "function",
    "builtin_function_or_method",
    "instance",
    "_Feature"
   ],
   "window_display": false
  }
 },
 "nbformat": 4,
 "nbformat_minor": 2
}
