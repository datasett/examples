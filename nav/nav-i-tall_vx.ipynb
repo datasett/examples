{
 "cells": [
  {
   "cell_type": "code",
   "execution_count": null,
   "metadata": {},
   "outputs": [],
   "source": [
    "import dataverk as dv\n",
    "from dataverk_theme.themes import nav\n",
    "\n",
    "import pandas as pd\n",
    "import ipywidgets as widgets\n",
    "\n",
    "import plotly.graph_objs as go\n",
    "import plotly.io as plio\n",
    "import plotly_express as px\n",
    "import plotly.figure_factory as ff\n",
    "\n",
    "import numpy as np\n",
    "\n",
    "import squarify"
   ]
  },
  {
   "cell_type": "code",
   "execution_count": 2,
   "metadata": {},
   "outputs": [
    {
     "data": {
      "text/plain": [
       "['__builtins__',\n",
       " '__cached__',\n",
       " '__doc__',\n",
       " '__file__',\n",
       " '__loader__',\n",
       " '__name__',\n",
       " '__package__',\n",
       " '__spec__',\n",
       " 'bgcolor',\n",
       " 'colorscale',\n",
       " 'colorscale_diverging',\n",
       " 'colorscale_sequential',\n",
       " 'colorscale_sequentialminus',\n",
       " 'discrete',\n",
       " 'diverging',\n",
       " 'fillcolor',\n",
       " 'font_color',\n",
       " 'font_family',\n",
       " 'grayBackground',\n",
       " 'grayIcon',\n",
       " 'grayInactive',\n",
       " 'grayModia',\n",
       " 'gridcolor',\n",
       " 'linear3color',\n",
       " 'linecolor',\n",
       " 'navBla',\n",
       " 'navDypBla',\n",
       " 'navGra20',\n",
       " 'navGra40',\n",
       " 'navGra60',\n",
       " 'navGra80',\n",
       " 'navGronn',\n",
       " 'navLilla',\n",
       " 'navLimeGronn',\n",
       " 'navLysBla',\n",
       " 'navLysGra',\n",
       " 'navMorkGra',\n",
       " 'navOransje',\n",
       " 'navRod',\n",
       " 'orangeFocus',\n",
       " 'pinkErrorBg',\n",
       " 'plotly_template',\n",
       " 'redError',\n",
       " 'sequential',\n",
       " 'sequentialminus',\n",
       " 'white']"
      ]
     },
     "execution_count": 2,
     "metadata": {},
     "output_type": "execute_result"
    }
   ],
   "source": [
    "dir(nav)"
   ]
  },
  {
   "cell_type": "code",
   "execution_count": 3,
   "metadata": {},
   "outputs": [],
   "source": [
    "sequences = [('navBlåRød', nav.sequential)]"
   ]
  },
  {
   "cell_type": "code",
   "execution_count": 4,
   "metadata": {},
   "outputs": [
    {
     "data": {
      "text/plain": [
       "[('navBlåRød',\n",
       "  ['#c30000',\n",
       "   '#a73c46',\n",
       "   '#8b7b8f',\n",
       "   '#6fb7d5',\n",
       "   '#5bc1e8',\n",
       "   '#4cb1e2',\n",
       "   '#3da3dc',\n",
       "   '#2d93d6',\n",
       "   '#1e85d1',\n",
       "   '#0f76cb',\n",
       "   '#0067c5'])]"
      ]
     },
     "execution_count": 4,
     "metadata": {},
     "output_type": "execute_result"
    }
   ],
   "source": [
    "sequences"
   ]
  },
  {
   "cell_type": "code",
   "execution_count": 5,
   "metadata": {},
   "outputs": [
    {
     "data": {
      "application/vnd.jupyter.widget-view+json": {
       "model_id": "17464a0d5d7047da95bc1a9d68d48b42",
       "version_major": 2,
       "version_minor": 0
      },
      "text/plain": [
       "FigureWidget({\n",
       "    'data': [{'customdata': [0, 1, 2, 3, 4, 5, 6, 7, 8, 9, 10],\n",
       "              'hovertemplate': …"
      ]
     },
     "metadata": {},
     "output_type": "display_data"
    }
   ],
   "source": [
    "data=[\n",
    "    go.Bar(\n",
    "        orientation=\"h\",\n",
    "        y=[name] * len(colors),\n",
    "        x=[1] * len(colors),\n",
    "        customdata=list(range(len(colors))),\n",
    "        marker=dict(color=colors),\n",
    "        hovertemplate=\"%{y}[%{customdata}] = %{marker.color}<extra></extra>\",\n",
    "    )\n",
    "    for name, colors in reversed(sequences)\n",
    "]\n",
    "           \n",
    "layout=dict(\n",
    "    title='NAV color scales',\n",
    "    barmode=\"stack\",\n",
    "    barnorm=\"fraction\",\n",
    "    template=\"plotly\",\n",
    "    bargap=0.5,\n",
    "    showlegend=False,\n",
    "    xaxis=dict(range=[-0.02, 1.02], showticklabels=False, showgrid=False),\n",
    "    height=max(600, 40 * len(sequences))\n",
    ")\n",
    "\n",
    "fig = go.Figure(data,layout)\n",
    "go.FigureWidget(fig)"
   ]
  },
  {
   "cell_type": "code",
   "execution_count": 6,
   "metadata": {},
   "outputs": [],
   "source": [
    "#plio.templates.default = nav_template\n",
    "px.defaults.template = nav.plotly_template\n",
    "px.defaults.color_continuous_scale = nav.sequential\n",
    "px.defaults.color_discrete_sequence = nav.discrete\n",
    "px.defaults.height = None"
   ]
  },
  {
   "cell_type": "code",
   "execution_count": 7,
   "metadata": {},
   "outputs": [
    {
     "ename": "AttributeError",
     "evalue": "'list' object has no attribute 'swatches'",
     "output_type": "error",
     "traceback": [
      "\u001b[0;31m---------------------------------------------------------------------------\u001b[0m",
      "\u001b[0;31mAttributeError\u001b[0m                            Traceback (most recent call last)",
      "\u001b[0;32m<ipython-input-7-d2744a54a575>\u001b[0m in \u001b[0;36m<module>\u001b[0;34m\u001b[0m\n\u001b[0;32m----> 1\u001b[0;31m \u001b[0mnav\u001b[0m\u001b[0;34m.\u001b[0m\u001b[0msequential\u001b[0m\u001b[0;34m.\u001b[0m\u001b[0mswatches\u001b[0m\u001b[0;34m(\u001b[0m\u001b[0;34m)\u001b[0m\u001b[0;34m\u001b[0m\u001b[0;34m\u001b[0m\u001b[0m\n\u001b[0m",
      "\u001b[0;31mAttributeError\u001b[0m: 'list' object has no attribute 'swatches'"
     ]
    }
   ],
   "source": [
    "nav.sequential.swatches()"
   ]
  },
  {
   "cell_type": "code",
   "execution_count": 8,
   "metadata": {},
   "outputs": [],
   "source": [
    "url = 'https://dfo.no/filer/Fagomr%C3%A5der/Statsregnskapet/2019/April/Raadata201904.xlsx'"
   ]
  },
  {
   "cell_type": "code",
   "execution_count": 9,
   "metadata": {},
   "outputs": [],
   "source": [
    "df = pd.read_excel(url, skiprows=3)"
   ]
  },
  {
   "cell_type": "code",
   "execution_count": 26,
   "metadata": {},
   "outputs": [],
   "source": [
    "nav_konti = df[df['Orgnavn']=='Arbeids- og velferdsetaten']"
   ]
  },
  {
   "cell_type": "code",
   "execution_count": 27,
   "metadata": {},
   "outputs": [],
   "source": [
    "nav_sum_konto = nav_konti[['Artskontotekst', 'Regnskap HIÅ']].groupby('Artskontotekst').sum().reset_index()"
   ]
  },
  {
   "cell_type": "code",
   "execution_count": 28,
   "metadata": {},
   "outputs": [
    {
     "data": {
      "text/html": [
       "<div>\n",
       "<style scoped>\n",
       "    .dataframe tbody tr th:only-of-type {\n",
       "        vertical-align: middle;\n",
       "    }\n",
       "\n",
       "    .dataframe tbody tr th {\n",
       "        vertical-align: top;\n",
       "    }\n",
       "\n",
       "    .dataframe thead th {\n",
       "        text-align: right;\n",
       "    }\n",
       "</style>\n",
       "<table border=\"1\" class=\"dataframe\">\n",
       "  <thead>\n",
       "    <tr style=\"text-align: right;\">\n",
       "      <th></th>\n",
       "      <th>Artskontotekst</th>\n",
       "      <th>Regnskap HIÅ</th>\n",
       "    </tr>\n",
       "  </thead>\n",
       "  <tbody>\n",
       "    <tr>\n",
       "      <th>0</th>\n",
       "      <td>Andre driftsmidler</td>\n",
       "      <td>3.680456e+06</td>\n",
       "    </tr>\n",
       "    <tr>\n",
       "      <th>1</th>\n",
       "      <td>Andre konsulenttjenester</td>\n",
       "      <td>8.832636e+07</td>\n",
       "    </tr>\n",
       "    <tr>\n",
       "      <th>2</th>\n",
       "      <td>Andre kontormaskiner</td>\n",
       "      <td>4.379837e+06</td>\n",
       "    </tr>\n",
       "    <tr>\n",
       "      <th>3</th>\n",
       "      <td>Andre overføringer etter avtale med DFØ</td>\n",
       "      <td>3.045700e+07</td>\n",
       "    </tr>\n",
       "    <tr>\n",
       "      <th>4</th>\n",
       "      <td>Annen driftsrelatert inntekt</td>\n",
       "      <td>-1.140416e+08</td>\n",
       "    </tr>\n",
       "  </tbody>\n",
       "</table>\n",
       "</div>"
      ],
      "text/plain": [
       "                            Artskontotekst  Regnskap HIÅ\n",
       "0                       Andre driftsmidler  3.680456e+06\n",
       "1                 Andre konsulenttjenester  8.832636e+07\n",
       "2                     Andre kontormaskiner  4.379837e+06\n",
       "3  Andre overføringer etter avtale med DFØ  3.045700e+07\n",
       "4             Annen driftsrelatert inntekt -1.140416e+08"
      ]
     },
     "execution_count": 28,
     "metadata": {},
     "output_type": "execute_result"
    }
   ],
   "source": [
    "nav_sum_konto.head()"
   ]
  },
  {
   "cell_type": "code",
   "execution_count": 29,
   "metadata": {},
   "outputs": [
    {
     "data": {
      "application/vnd.plotly.v1+json": {
       "config": {
        "linkText": "Export to plot.ly",
        "plotlyServerURL": "https://plot.ly",
        "showLink": false
       },
       "data": [
        {
         "alignmentgroup": "True",
         "hoverlabel": {
          "namelength": 0
         },
         "hovertemplate": "Artskontotekst=%{x}<br>Regnskap HIÅ=%{y}",
         "legendgroup": "",
         "marker": {
          "color": "#C30000"
         },
         "name": "",
         "offsetgroup": "",
         "orientation": "v",
         "showlegend": false,
         "textposition": "auto",
         "type": "bar",
         "uid": "021a776e-12da-4cd3-97f9-185181a100e4",
         "x": [
          "Andre driftsmidler",
          "Andre konsulenttjenester",
          "Andre kontormaskiner",
          "Andre overføringer etter avtale med DFØ",
          "Annen driftsrelatert inntekt",
          "Annen kontorkostnad",
          "Annen kostnad",
          "Annen kostnad lokaler",
          "Annen kostnad transportmidler",
          "Annen kostnadsgodtgjørelse",
          "Annen oppgavepliktig godtgjørelse",
          "Annen personalkostnad",
          "Annen refusjon vedrørende arbeidskraft",
          "Annet driftsmateriale",
          "Annonser, kunngjøringer",
          "Arbeidsgiveravgift",
          "Arbeidsgiveravgift innberettede ytelser",
          "Arbeidsklær og verneutstyr",
          "Arbeidsmarkedstiltak",
          "Aviser, tidsskrifter, bøker o.l.",
          "Bank- og kortgebyr",
          "Biler",
          "Bilgodtgjørelse",
          "Datamaskiner (PCer, servere m.m.)",
          "Diettkostnad",
          "Drivstoff",
          "Erstatninger",
          "Forbruk av innkjøpte varer og tjenester",
          "Forsikring",
          "Gave",
          "Gaver til ansatte",
          "Gebyrer med videre - driftsinntekt",
          "Gruppelivsforsikring",
          "Honorarer",
          "Innleie av vikarer",
          "Inventar",
          "Kantinekostnad",
          "Kjøp av andre fremmede tjenester",
          "Kjøp av tjenester til løpende driftsoppgaver, IKT",
          "Konsulenttjenester innen økonomi, revisjon og juss",
          "Konsulenttjenester til organisasjonsutvikling, kommunikasjonsrådgivning mv.",
          "Konsulenttjenester til utvikling av programvare, IKT-løsninger mv.",
          "Kontingent",
          "Kontorrekvisita",
          "Kurs og seminarer for egne ansatte",
          "Leie av andre kontormaskiner",
          "Leie av biler",
          "Leie av datamaskiner",
          "Leie av datasystemer (årlige lisenser m.m.)",
          "Leie inventar",
          "Leie lokaler",
          "Leie lokaler fra Statsbygg",
          "Leieinntekt fast eiendom",
          "Lys, varme",
          "Lærlingtilskudd",
          "Lønn fast ansatte",
          "Lønn midlertidig ansatte",
          "Møter",
          "Nettoføringsordning for mva.",
          "Overtid fast ansatte",
          "Overtid midlertidig ansatte",
          "Pensjonspremie til SPK (virksomheter som betaler pensjonspremie)",
          "Porto",
          "Programvare (anskaffelse)",
          "Programvarelisenser",
          "Refusjon av foreldrepenger",
          "Refusjon av sykepenger",
          "Reisekostnad",
          "Reklamekostnad",
          "Renhold, vakthold, vaktmestertjenester",
          "Rentekostnad",
          "Reparasjon og vedlikehold annet",
          "Reparasjon og vedlikehold leide lokaler",
          "Representasjon",
          "Salgsinntekt tjenester, avgiftspliktig",
          "Salgsinntekt tjenester, unntatt avgiftsplikt",
          "Salgsinntekt varer, avgiftspliktig, fortsettelse",
          "Salgssum ved avgang anleggsmidler",
          "Styrer, råd og utvalg",
          "Telefoni og datakommunikasjon, samband, internett",
          "Tilfeldige og andre inntekter",
          "Tilretteleggingstilskudd",
          "Tilskudd fra EU",
          "Tilskudd fra Norges forskningsråd",
          "Tilskudd fra andre statlige virksomheter",
          "Tilskudd fra kommunale og fylkeskommunale etater",
          "Tilskudd til husholdninger",
          "Tilskudd til ideelle organisasjoner",
          "Tilskudd til kommuner",
          "Trygder og pensjonspremier",
          "Trykksak",
          "Valutatap (disagio)",
          "Vedlikehold",
          "Velferdstiltak"
         ],
         "xaxis": "x",
         "y": [
          3680456.28,
          88326362.1,
          4379836.8100000005,
          30457000,
          -114041572.73,
          14145386.970000003,
          15738767.72,
          61563561.160000004,
          1449058.77,
          143031.87,
          2527383.0599999996,
          8737617.47,
          -668047.82,
          2992093.37,
          1625901.12,
          -349868854.83,
          342915013.23999995,
          186451.87,
          -6804146.77,
          3307902.84,
          3152658.31,
          -31985,
          8347197.529999999,
          51657770.36,
          7001848.6899999995,
          1298181.06,
          2539563.09,
          239354.78,
          327827.97,
          105837,
          2574895.72,
          -3803837.5,
          -20700,
          -6720,
          2300449.52,
          5118620.06,
          4760425.57,
          66117402.3,
          90139753.96,
          261838.13,
          1318368.18,
          126955834.55,
          1794934.99,
          12896195.739999998,
          8470414.47,
          2983142.04,
          1858736.08,
          310238.64,
          88058761.68,
          378880.03,
          376341632.09,
          1100178,
          -1167643.15,
          19942581.15,
          -328545.01,
          2339090304.7599998,
          123178600.47,
          24076125.87,
          654208.4,
          35279360.85000001,
          1228990.53,
          291504657.90999997,
          30007686.36,
          120754.97,
          1394648.27,
          -31587707,
          -79819279,
          32015533.94,
          729227.3099999999,
          32980791.72,
          93440.34000000001,
          130402074.92,
          5654779.7,
          204268.63,
          -270624.87,
          -1086306.21,
          -168426.94,
          -549141,
          978661.25,
          21135097.869999994,
          -9533021.89,
          -1357435.11,
          -26329,
          -1174086.63,
          -1135920.04,
          -4447108.4,
          154855766006.22998,
          21499645,
          3639064.17,
          -218330149.97,
          1641453.94,
          89606.03,
          1227414.69,
          7312135.6899999995
         ],
         "yaxis": "y"
        }
       ],
       "layout": {
        "barmode": "relative",
        "grid": {
         "xaxes": [
          "x"
         ],
         "xgap": 0.1,
         "xside": "bottom",
         "yaxes": [
          "y"
         ],
         "ygap": 0.1,
         "yside": "left"
        },
        "legend": {
         "tracegroupgap": 0
        },
        "template": {
         "data": {
          "bar": [
           {
            "marker": {
             "line": {
              "color": "white",
              "width": 0.5
             }
            },
            "type": "bar"
           }
          ],
          "barpolar": [
           {
            "marker": {
             "line": {
              "color": "white",
              "width": 0.5
             }
            },
            "type": "barpolar"
           }
          ],
          "carpet": [
           {
            "aaxis": {
             "endlinecolor": "#2a3f5f",
             "gridcolor": "#C8D4E3",
             "linecolor": "#C8D4E3",
             "minorgridcolor": "#C8D4E3",
             "startlinecolor": "#2a3f5f"
            },
            "baxis": {
             "endlinecolor": "#2a3f5f",
             "gridcolor": "#C8D4E3",
             "linecolor": "#C8D4E3",
             "minorgridcolor": "#C8D4E3",
             "startlinecolor": "#2a3f5f"
            },
            "type": "carpet"
           }
          ],
          "choropleth": [
           {
            "colorbar": {
             "outlinewidth": 0,
             "ticks": ""
            },
            "type": "choropleth"
           }
          ],
          "contour": [
           {
            "colorbar": {
             "outlinewidth": 0,
             "ticks": ""
            },
            "colorscale": [
             [
              0,
              "#0508b8"
             ],
             [
              0.0893854748603352,
              "#1910d8"
             ],
             [
              0.1787709497206704,
              "#3c19f0"
             ],
             [
              0.2681564245810056,
              "#6b1cfb"
             ],
             [
              0.3575418994413408,
              "#981cfd"
             ],
             [
              0.44692737430167595,
              "#bf1cfd"
             ],
             [
              0.5363128491620112,
              "#dd2bfd"
             ],
             [
              0.6256983240223464,
              "#f246fe"
             ],
             [
              0.7150837988826816,
              "#fc67fd"
             ],
             [
              0.8044692737430168,
              "#fe88fc"
             ],
             [
              0.8938547486033519,
              "#fea5fd"
             ],
             [
              0.9832402234636871,
              "#febefe"
             ],
             [
              1,
              "#fec3fe"
             ]
            ],
            "type": "contour"
           }
          ],
          "contourcarpet": [
           {
            "colorbar": {
             "outlinewidth": 0,
             "ticks": ""
            },
            "type": "contourcarpet"
           }
          ],
          "heatmap": [
           {
            "colorbar": {
             "outlinewidth": 0,
             "ticks": ""
            },
            "colorscale": [
             [
              0,
              "#0508b8"
             ],
             [
              0.0893854748603352,
              "#1910d8"
             ],
             [
              0.1787709497206704,
              "#3c19f0"
             ],
             [
              0.2681564245810056,
              "#6b1cfb"
             ],
             [
              0.3575418994413408,
              "#981cfd"
             ],
             [
              0.44692737430167595,
              "#bf1cfd"
             ],
             [
              0.5363128491620112,
              "#dd2bfd"
             ],
             [
              0.6256983240223464,
              "#f246fe"
             ],
             [
              0.7150837988826816,
              "#fc67fd"
             ],
             [
              0.8044692737430168,
              "#fe88fc"
             ],
             [
              0.8938547486033519,
              "#fea5fd"
             ],
             [
              0.9832402234636871,
              "#febefe"
             ],
             [
              1,
              "#fec3fe"
             ]
            ],
            "type": "heatmap"
           }
          ],
          "heatmapgl": [
           {
            "colorbar": {
             "outlinewidth": 0,
             "ticks": ""
            },
            "type": "heatmapgl"
           }
          ],
          "histogram": [
           {
            "marker": {
             "colorbar": {
              "outlinewidth": 0,
              "ticks": ""
             }
            },
            "type": "histogram"
           }
          ],
          "histogram2d": [
           {
            "colorbar": {
             "outlinewidth": 0,
             "ticks": ""
            },
            "colorscale": [
             [
              0,
              "#0508b8"
             ],
             [
              0.0893854748603352,
              "#1910d8"
             ],
             [
              0.1787709497206704,
              "#3c19f0"
             ],
             [
              0.2681564245810056,
              "#6b1cfb"
             ],
             [
              0.3575418994413408,
              "#981cfd"
             ],
             [
              0.44692737430167595,
              "#bf1cfd"
             ],
             [
              0.5363128491620112,
              "#dd2bfd"
             ],
             [
              0.6256983240223464,
              "#f246fe"
             ],
             [
              0.7150837988826816,
              "#fc67fd"
             ],
             [
              0.8044692737430168,
              "#fe88fc"
             ],
             [
              0.8938547486033519,
              "#fea5fd"
             ],
             [
              0.9832402234636871,
              "#febefe"
             ],
             [
              1,
              "#fec3fe"
             ]
            ],
            "type": "histogram2d"
           }
          ],
          "histogram2dcontour": [
           {
            "colorbar": {
             "outlinewidth": 0,
             "ticks": ""
            },
            "colorscale": [
             [
              0,
              "#0508b8"
             ],
             [
              0.0893854748603352,
              "#1910d8"
             ],
             [
              0.1787709497206704,
              "#3c19f0"
             ],
             [
              0.2681564245810056,
              "#6b1cfb"
             ],
             [
              0.3575418994413408,
              "#981cfd"
             ],
             [
              0.44692737430167595,
              "#bf1cfd"
             ],
             [
              0.5363128491620112,
              "#dd2bfd"
             ],
             [
              0.6256983240223464,
              "#f246fe"
             ],
             [
              0.7150837988826816,
              "#fc67fd"
             ],
             [
              0.8044692737430168,
              "#fe88fc"
             ],
             [
              0.8938547486033519,
              "#fea5fd"
             ],
             [
              0.9832402234636871,
              "#febefe"
             ],
             [
              1,
              "#fec3fe"
             ]
            ],
            "type": "histogram2dcontour"
           }
          ],
          "mesh3d": [
           {
            "colorbar": {
             "outlinewidth": 0,
             "ticks": ""
            },
            "type": "mesh3d"
           }
          ],
          "parcoords": [
           {
            "line": {
             "colorbar": {
              "outlinewidth": 0,
              "ticks": ""
             }
            },
            "type": "parcoords"
           }
          ],
          "scatter": [
           {
            "marker": {
             "colorbar": {
              "outlinewidth": 0,
              "ticks": ""
             }
            },
            "type": "scatter"
           }
          ],
          "scatter3d": [
           {
            "marker": {
             "colorbar": {
              "outlinewidth": 0,
              "ticks": ""
             }
            },
            "type": "scatter3d"
           }
          ],
          "scattercarpet": [
           {
            "marker": {
             "colorbar": {
              "outlinewidth": 0,
              "ticks": ""
             }
            },
            "type": "scattercarpet"
           }
          ],
          "scattergeo": [
           {
            "marker": {
             "colorbar": {
              "outlinewidth": 0,
              "ticks": ""
             }
            },
            "type": "scattergeo"
           }
          ],
          "scattergl": [
           {
            "marker": {
             "colorbar": {
              "outlinewidth": 0,
              "ticks": ""
             }
            },
            "type": "scattergl"
           }
          ],
          "scattermapbox": [
           {
            "marker": {
             "colorbar": {
              "outlinewidth": 0,
              "ticks": ""
             }
            },
            "type": "scattermapbox"
           }
          ],
          "scatterpolar": [
           {
            "marker": {
             "colorbar": {
              "outlinewidth": 0,
              "ticks": ""
             }
            },
            "type": "scatterpolar"
           }
          ],
          "scatterpolargl": [
           {
            "marker": {
             "colorbar": {
              "outlinewidth": 0,
              "ticks": ""
             }
            },
            "type": "scatterpolargl"
           }
          ],
          "scatterternary": [
           {
            "marker": {
             "colorbar": {
              "outlinewidth": 0,
              "ticks": ""
             }
            },
            "type": "scatterternary"
           }
          ],
          "surface": [
           {
            "colorbar": {
             "outlinewidth": 0,
             "ticks": ""
            },
            "type": "surface"
           }
          ],
          "table": [
           {
            "cells": {
             "fill": {
              "color": "#EBF0F8"
             },
             "line": {
              "color": "white"
             }
            },
            "header": {
             "fill": {
              "color": "#C8D4E3"
             },
             "line": {
              "color": "white"
             }
            },
            "type": "table"
           }
          ]
         },
         "layout": {
          "annotationdefaults": {
           "arrowcolor": "#506784",
           "arrowhead": 0,
           "arrowwidth": 1
          },
          "colorscale": {
           "diverging": [
            [
             0,
             "#8e0152"
            ],
            [
             0.1,
             "#c51b7d"
            ],
            [
             0.2,
             "#de77ae"
            ],
            [
             0.3,
             "#f1b6da"
            ],
            [
             0.4,
             "#fde0ef"
            ],
            [
             0.5,
             "#f7f7f7"
            ],
            [
             0.6,
             "#e6f5d0"
            ],
            [
             0.7,
             "#b8e186"
            ],
            [
             0.8,
             "#7fbc41"
            ],
            [
             0.9,
             "#4d9221"
            ],
            [
             1,
             "#276419"
            ]
           ],
           "sequential": [
            [
             0,
             "#0508b8"
            ],
            [
             0.0893854748603352,
             "#1910d8"
            ],
            [
             0.1787709497206704,
             "#3c19f0"
            ],
            [
             0.2681564245810056,
             "#6b1cfb"
            ],
            [
             0.3575418994413408,
             "#981cfd"
            ],
            [
             0.44692737430167595,
             "#bf1cfd"
            ],
            [
             0.5363128491620112,
             "#dd2bfd"
            ],
            [
             0.6256983240223464,
             "#f246fe"
            ],
            [
             0.7150837988826816,
             "#fc67fd"
            ],
            [
             0.8044692737430168,
             "#fe88fc"
            ],
            [
             0.8938547486033519,
             "#fea5fd"
            ],
            [
             0.9832402234636871,
             "#febefe"
            ],
            [
             1,
             "#fec3fe"
            ]
           ],
           "sequentialminus": [
            [
             0,
             "#0508b8"
            ],
            [
             0.0893854748603352,
             "#1910d8"
            ],
            [
             0.1787709497206704,
             "#3c19f0"
            ],
            [
             0.2681564245810056,
             "#6b1cfb"
            ],
            [
             0.3575418994413408,
             "#981cfd"
            ],
            [
             0.44692737430167595,
             "#bf1cfd"
            ],
            [
             0.5363128491620112,
             "#dd2bfd"
            ],
            [
             0.6256983240223464,
             "#f246fe"
            ],
            [
             0.7150837988826816,
             "#fc67fd"
            ],
            [
             0.8044692737430168,
             "#fe88fc"
            ],
            [
             0.8938547486033519,
             "#fea5fd"
            ],
            [
             0.9832402234636871,
             "#febefe"
            ],
            [
             1,
             "#fec3fe"
            ]
           ]
          },
          "colorway": [
           "#636efa",
           "#EF553B",
           "#00cc96",
           "#ab63fa",
           "#19d3f3",
           "#e763fa",
           "#FECB52",
           "#FFA15A",
           "#FF6692",
           "#B6E880"
          ],
          "font": {
           "color": "#2a3f5f"
          },
          "geo": {
           "bgcolor": "white",
           "lakecolor": "white",
           "landcolor": "white",
           "showlakes": true,
           "showland": true,
           "subunitcolor": "#C8D4E3"
          },
          "hoverlabel": {
           "align": "left"
          },
          "hovermode": "closest",
          "mapbox": {
           "style": "light"
          },
          "paper_bgcolor": "white",
          "plot_bgcolor": "white",
          "polar": {
           "angularaxis": {
            "gridcolor": "#EBF0F8",
            "linecolor": "#EBF0F8",
            "ticks": ""
           },
           "bgcolor": "white",
           "radialaxis": {
            "gridcolor": "#EBF0F8",
            "linecolor": "#EBF0F8",
            "ticks": ""
           }
          },
          "scene": {
           "xaxis": {
            "backgroundcolor": "white",
            "gridcolor": "#DFE8F3",
            "gridwidth": 2,
            "linecolor": "#EBF0F8",
            "showbackground": true,
            "ticks": "",
            "zerolinecolor": "#EBF0F8"
           },
           "yaxis": {
            "backgroundcolor": "white",
            "gridcolor": "#DFE8F3",
            "gridwidth": 2,
            "linecolor": "#EBF0F8",
            "showbackground": true,
            "ticks": "",
            "zerolinecolor": "#EBF0F8"
           },
           "zaxis": {
            "backgroundcolor": "white",
            "gridcolor": "#DFE8F3",
            "gridwidth": 2,
            "linecolor": "#EBF0F8",
            "showbackground": true,
            "ticks": "",
            "zerolinecolor": "#EBF0F8"
           }
          },
          "shapedefaults": {
           "fillcolor": "#506784",
           "line": {
            "width": 0
           },
           "opacity": 0.4
          },
          "ternary": {
           "aaxis": {
            "gridcolor": "#DFE8F3",
            "linecolor": "#A2B1C6",
            "ticks": ""
           },
           "baxis": {
            "gridcolor": "#DFE8F3",
            "linecolor": "#A2B1C6",
            "ticks": ""
           },
           "bgcolor": "white",
           "caxis": {
            "gridcolor": "#DFE8F3",
            "linecolor": "#A2B1C6",
            "ticks": ""
           }
          },
          "title": {
           "x": 0.05
          },
          "xaxis": {
           "automargin": true,
           "gridcolor": "#EBF0F8",
           "linecolor": "#EBF0F8",
           "ticks": "",
           "zerolinecolor": "#EBF0F8",
           "zerolinewidth": 2
          },
          "yaxis": {
           "automargin": true,
           "gridcolor": "#EBF0F8",
           "linecolor": "#EBF0F8",
           "ticks": "",
           "zerolinecolor": "#EBF0F8",
           "zerolinewidth": 2
          }
         }
        },
        "title": {
         "text": "NAV"
        },
        "xaxis": {
         "title": {
          "text": "Artskontotekst"
         }
        },
        "yaxis": {
         "title": {
          "text": "Regnskap HIÅ"
         }
        }
       }
      },
      "text/html": [
       "<div>\n",
       "        \n",
       "        \n",
       "            <div id=\"b394aa84-07df-4d0e-bc6b-2c26f7080cf6\" class=\"plotly-graph-div\" style=\"height:525px; width:100%;\"></div>\n",
       "            <script type=\"text/javascript\">\n",
       "                require([\"plotly\"], function(Plotly) {\n",
       "                    window.PLOTLYENV=window.PLOTLYENV || {};\n",
       "                    window.PLOTLYENV.BASE_URL='https://plot.ly';\n",
       "                    \n",
       "                if (document.getElementById(\"b394aa84-07df-4d0e-bc6b-2c26f7080cf6\")) {\n",
       "                    Plotly.newPlot(\n",
       "                        'b394aa84-07df-4d0e-bc6b-2c26f7080cf6',\n",
       "                        [{\"alignmentgroup\": \"True\", \"hoverlabel\": {\"namelength\": 0}, \"hovertemplate\": \"Artskontotekst=%{x}<br>Regnskap HI\\u00c5=%{y}\", \"legendgroup\": \"\", \"marker\": {\"color\": \"#C30000\"}, \"name\": \"\", \"offsetgroup\": \"\", \"orientation\": \"v\", \"showlegend\": false, \"textposition\": \"auto\", \"type\": \"bar\", \"uid\": \"021a776e-12da-4cd3-97f9-185181a100e4\", \"x\": [\"Andre driftsmidler\", \"Andre konsulenttjenester\", \"Andre kontormaskiner\", \"Andre overf\\u00f8ringer etter avtale med DF\\u00d8\", \"Annen driftsrelatert inntekt\", \"Annen kontorkostnad\", \"Annen kostnad\", \"Annen kostnad lokaler\", \"Annen kostnad transportmidler\", \"Annen kostnadsgodtgj\\u00f8relse\", \"Annen oppgavepliktig godtgj\\u00f8relse\", \"Annen personalkostnad\", \"Annen refusjon vedr\\u00f8rende arbeidskraft\", \"Annet driftsmateriale\", \"Annonser, kunngj\\u00f8ringer\", \"Arbeidsgiveravgift\", \"Arbeidsgiveravgift innberettede ytelser\", \"Arbeidskl\\u00e6r og verneutstyr\", \"Arbeidsmarkedstiltak\", \"Aviser, tidsskrifter, b\\u00f8ker o.l.\", \"Bank- og kortgebyr\", \"Biler\", \"Bilgodtgj\\u00f8relse\", \"Datamaskiner (PCer, servere m.m.)\", \"Diettkostnad\", \"Drivstoff\", \"Erstatninger\", \"Forbruk av innkj\\u00f8pte varer og tjenester\", \"Forsikring\", \"Gave\", \"Gaver til ansatte\", \"Gebyrer med videre - driftsinntekt\", \"Gruppelivsforsikring\", \"Honorarer\", \"Innleie av vikarer\", \"Inventar\", \"Kantinekostnad\", \"Kj\\u00f8p av andre fremmede tjenester\", \"Kj\\u00f8p av tjenester til l\\u00f8pende driftsoppgaver, IKT\", \"Konsulenttjenester innen \\u00f8konomi, revisjon og juss\", \"Konsulenttjenester til organisasjonsutvikling, kommunikasjonsr\\u00e5dgivning mv.\", \"Konsulenttjenester til utvikling av programvare, IKT-l\\u00f8sninger mv.\", \"Kontingent\", \"Kontorrekvisita\", \"Kurs og seminarer for egne ansatte\", \"Leie av andre kontormaskiner\", \"Leie av biler\", \"Leie av datamaskiner\", \"Leie av datasystemer (\\u00e5rlige lisenser m.m.)\", \"Leie inventar\", \"Leie lokaler\", \"Leie lokaler fra Statsbygg\", \"Leieinntekt fast eiendom\", \"Lys, varme\", \"L\\u00e6rlingtilskudd\", \"L\\u00f8nn fast ansatte\", \"L\\u00f8nn midlertidig ansatte\", \"M\\u00f8ter\", \"Nettof\\u00f8ringsordning for mva.\", \"Overtid fast ansatte\", \"Overtid midlertidig ansatte\", \"Pensjonspremie til SPK (virksomheter som betaler pensjonspremie)\", \"Porto\", \"Programvare (anskaffelse)\", \"Programvarelisenser\", \"Refusjon av foreldrepenger\", \"Refusjon av sykepenger\", \"Reisekostnad\", \"Reklamekostnad\", \"Renhold, vakthold, vaktmestertjenester\", \"Rentekostnad\", \"Reparasjon og vedlikehold annet\", \"Reparasjon og vedlikehold leide lokaler\", \"Representasjon\", \"Salgsinntekt tjenester, avgiftspliktig\", \"Salgsinntekt tjenester, unntatt avgiftsplikt\", \"Salgsinntekt varer, avgiftspliktig, fortsettelse\", \"Salgssum ved avgang anleggsmidler\", \"Styrer, r\\u00e5d og utvalg\", \"Telefoni og datakommunikasjon, samband, internett\", \"Tilfeldige og andre inntekter\", \"Tilretteleggingstilskudd\", \"Tilskudd fra EU\", \"Tilskudd fra Norges forskningsr\\u00e5d\", \"Tilskudd fra andre statlige virksomheter\", \"Tilskudd fra kommunale og fylkeskommunale etater\", \"Tilskudd til husholdninger\", \"Tilskudd til ideelle organisasjoner\", \"Tilskudd til kommuner\", \"Trygder og pensjonspremier\", \"Trykksak\", \"Valutatap (disagio)\", \"Vedlikehold\", \"Velferdstiltak\"], \"xaxis\": \"x\", \"y\": [3680456.28, 88326362.1, 4379836.8100000005, 30457000.0, -114041572.73, 14145386.970000003, 15738767.72, 61563561.160000004, 1449058.77, 143031.87, 2527383.0599999996, 8737617.47, -668047.82, 2992093.37, 1625901.12, -349868854.83, 342915013.23999995, 186451.87, -6804146.77, 3307902.84, 3152658.31, -31985.0, 8347197.529999999, 51657770.36, 7001848.6899999995, 1298181.06, 2539563.09, 239354.78, 327827.97, 105837.0, 2574895.72, -3803837.5, -20700.0, -6720.0, 2300449.52, 5118620.06, 4760425.57, 66117402.3, 90139753.96, 261838.13, 1318368.18, 126955834.55, 1794934.99, 12896195.739999998, 8470414.47, 2983142.04, 1858736.08, 310238.64, 88058761.68, 378880.03, 376341632.09, 1100178.0, -1167643.15, 19942581.15, -328545.01, 2339090304.7599998, 123178600.47, 24076125.87, 654208.4, 35279360.85000001, 1228990.53, 291504657.90999997, 30007686.36, 120754.97, 1394648.27, -31587707.0, -79819279.0, 32015533.94, 729227.3099999999, 32980791.72, 93440.34000000001, 130402074.92, 5654779.7, 204268.63, -270624.87, -1086306.21, -168426.94, -549141.0, 978661.25, 21135097.869999994, -9533021.89, -1357435.11, -26329.0, -1174086.63, -1135920.04, -4447108.4, 154855766006.22998, 21499645.0, 3639064.17, -218330149.97, 1641453.94, 89606.03, 1227414.69, 7312135.6899999995], \"yaxis\": \"y\"}],\n",
       "                        {\"barmode\": \"relative\", \"grid\": {\"xaxes\": [\"x\"], \"xgap\": 0.1, \"xside\": \"bottom\", \"yaxes\": [\"y\"], \"ygap\": 0.1, \"yside\": \"left\"}, \"legend\": {\"tracegroupgap\": 0}, \"template\": {\"data\": {\"bar\": [{\"marker\": {\"line\": {\"color\": \"white\", \"width\": 0.5}}, \"type\": \"bar\"}], \"barpolar\": [{\"marker\": {\"line\": {\"color\": \"white\", \"width\": 0.5}}, \"type\": \"barpolar\"}], \"carpet\": [{\"aaxis\": {\"endlinecolor\": \"#2a3f5f\", \"gridcolor\": \"#C8D4E3\", \"linecolor\": \"#C8D4E3\", \"minorgridcolor\": \"#C8D4E3\", \"startlinecolor\": \"#2a3f5f\"}, \"baxis\": {\"endlinecolor\": \"#2a3f5f\", \"gridcolor\": \"#C8D4E3\", \"linecolor\": \"#C8D4E3\", \"minorgridcolor\": \"#C8D4E3\", \"startlinecolor\": \"#2a3f5f\"}, \"type\": \"carpet\"}], \"choropleth\": [{\"colorbar\": {\"outlinewidth\": 0, \"ticks\": \"\"}, \"type\": \"choropleth\"}], \"contour\": [{\"colorbar\": {\"outlinewidth\": 0, \"ticks\": \"\"}, \"colorscale\": [[0.0, \"#0508b8\"], [0.0893854748603352, \"#1910d8\"], [0.1787709497206704, \"#3c19f0\"], [0.2681564245810056, \"#6b1cfb\"], [0.3575418994413408, \"#981cfd\"], [0.44692737430167595, \"#bf1cfd\"], [0.5363128491620112, \"#dd2bfd\"], [0.6256983240223464, \"#f246fe\"], [0.7150837988826816, \"#fc67fd\"], [0.8044692737430168, \"#fe88fc\"], [0.8938547486033519, \"#fea5fd\"], [0.9832402234636871, \"#febefe\"], [1.0, \"#fec3fe\"]], \"type\": \"contour\"}], \"contourcarpet\": [{\"colorbar\": {\"outlinewidth\": 0, \"ticks\": \"\"}, \"type\": \"contourcarpet\"}], \"heatmap\": [{\"colorbar\": {\"outlinewidth\": 0, \"ticks\": \"\"}, \"colorscale\": [[0.0, \"#0508b8\"], [0.0893854748603352, \"#1910d8\"], [0.1787709497206704, \"#3c19f0\"], [0.2681564245810056, \"#6b1cfb\"], [0.3575418994413408, \"#981cfd\"], [0.44692737430167595, \"#bf1cfd\"], [0.5363128491620112, \"#dd2bfd\"], [0.6256983240223464, \"#f246fe\"], [0.7150837988826816, \"#fc67fd\"], [0.8044692737430168, \"#fe88fc\"], [0.8938547486033519, \"#fea5fd\"], [0.9832402234636871, \"#febefe\"], [1.0, \"#fec3fe\"]], \"type\": \"heatmap\"}], \"heatmapgl\": [{\"colorbar\": {\"outlinewidth\": 0, \"ticks\": \"\"}, \"type\": \"heatmapgl\"}], \"histogram\": [{\"marker\": {\"colorbar\": {\"outlinewidth\": 0, \"ticks\": \"\"}}, \"type\": \"histogram\"}], \"histogram2d\": [{\"colorbar\": {\"outlinewidth\": 0, \"ticks\": \"\"}, \"colorscale\": [[0.0, \"#0508b8\"], [0.0893854748603352, \"#1910d8\"], [0.1787709497206704, \"#3c19f0\"], [0.2681564245810056, \"#6b1cfb\"], [0.3575418994413408, \"#981cfd\"], [0.44692737430167595, \"#bf1cfd\"], [0.5363128491620112, \"#dd2bfd\"], [0.6256983240223464, \"#f246fe\"], [0.7150837988826816, \"#fc67fd\"], [0.8044692737430168, \"#fe88fc\"], [0.8938547486033519, \"#fea5fd\"], [0.9832402234636871, \"#febefe\"], [1.0, \"#fec3fe\"]], \"type\": \"histogram2d\"}], \"histogram2dcontour\": [{\"colorbar\": {\"outlinewidth\": 0, \"ticks\": \"\"}, \"colorscale\": [[0.0, \"#0508b8\"], [0.0893854748603352, \"#1910d8\"], [0.1787709497206704, \"#3c19f0\"], [0.2681564245810056, \"#6b1cfb\"], [0.3575418994413408, \"#981cfd\"], [0.44692737430167595, \"#bf1cfd\"], [0.5363128491620112, \"#dd2bfd\"], [0.6256983240223464, \"#f246fe\"], [0.7150837988826816, \"#fc67fd\"], [0.8044692737430168, \"#fe88fc\"], [0.8938547486033519, \"#fea5fd\"], [0.9832402234636871, \"#febefe\"], [1.0, \"#fec3fe\"]], \"type\": \"histogram2dcontour\"}], \"mesh3d\": [{\"colorbar\": {\"outlinewidth\": 0, \"ticks\": \"\"}, \"type\": \"mesh3d\"}], \"parcoords\": [{\"line\": {\"colorbar\": {\"outlinewidth\": 0, \"ticks\": \"\"}}, \"type\": \"parcoords\"}], \"scatter\": [{\"marker\": {\"colorbar\": {\"outlinewidth\": 0, \"ticks\": \"\"}}, \"type\": \"scatter\"}], \"scatter3d\": [{\"marker\": {\"colorbar\": {\"outlinewidth\": 0, \"ticks\": \"\"}}, \"type\": \"scatter3d\"}], \"scattercarpet\": [{\"marker\": {\"colorbar\": {\"outlinewidth\": 0, \"ticks\": \"\"}}, \"type\": \"scattercarpet\"}], \"scattergeo\": [{\"marker\": {\"colorbar\": {\"outlinewidth\": 0, \"ticks\": \"\"}}, \"type\": \"scattergeo\"}], \"scattergl\": [{\"marker\": {\"colorbar\": {\"outlinewidth\": 0, \"ticks\": \"\"}}, \"type\": \"scattergl\"}], \"scattermapbox\": [{\"marker\": {\"colorbar\": {\"outlinewidth\": 0, \"ticks\": \"\"}}, \"type\": \"scattermapbox\"}], \"scatterpolar\": [{\"marker\": {\"colorbar\": {\"outlinewidth\": 0, \"ticks\": \"\"}}, \"type\": \"scatterpolar\"}], \"scatterpolargl\": [{\"marker\": {\"colorbar\": {\"outlinewidth\": 0, \"ticks\": \"\"}}, \"type\": \"scatterpolargl\"}], \"scatterternary\": [{\"marker\": {\"colorbar\": {\"outlinewidth\": 0, \"ticks\": \"\"}}, \"type\": \"scatterternary\"}], \"surface\": [{\"colorbar\": {\"outlinewidth\": 0, \"ticks\": \"\"}, \"type\": \"surface\"}], \"table\": [{\"cells\": {\"fill\": {\"color\": \"#EBF0F8\"}, \"line\": {\"color\": \"white\"}}, \"header\": {\"fill\": {\"color\": \"#C8D4E3\"}, \"line\": {\"color\": \"white\"}}, \"type\": \"table\"}]}, \"layout\": {\"annotationdefaults\": {\"arrowcolor\": \"#506784\", \"arrowhead\": 0, \"arrowwidth\": 1}, \"colorscale\": {\"diverging\": [[0, \"#8e0152\"], [0.1, \"#c51b7d\"], [0.2, \"#de77ae\"], [0.3, \"#f1b6da\"], [0.4, \"#fde0ef\"], [0.5, \"#f7f7f7\"], [0.6, \"#e6f5d0\"], [0.7, \"#b8e186\"], [0.8, \"#7fbc41\"], [0.9, \"#4d9221\"], [1, \"#276419\"]], \"sequential\": [[0.0, \"#0508b8\"], [0.0893854748603352, \"#1910d8\"], [0.1787709497206704, \"#3c19f0\"], [0.2681564245810056, \"#6b1cfb\"], [0.3575418994413408, \"#981cfd\"], [0.44692737430167595, \"#bf1cfd\"], [0.5363128491620112, \"#dd2bfd\"], [0.6256983240223464, \"#f246fe\"], [0.7150837988826816, \"#fc67fd\"], [0.8044692737430168, \"#fe88fc\"], [0.8938547486033519, \"#fea5fd\"], [0.9832402234636871, \"#febefe\"], [1.0, \"#fec3fe\"]], \"sequentialminus\": [[0.0, \"#0508b8\"], [0.0893854748603352, \"#1910d8\"], [0.1787709497206704, \"#3c19f0\"], [0.2681564245810056, \"#6b1cfb\"], [0.3575418994413408, \"#981cfd\"], [0.44692737430167595, \"#bf1cfd\"], [0.5363128491620112, \"#dd2bfd\"], [0.6256983240223464, \"#f246fe\"], [0.7150837988826816, \"#fc67fd\"], [0.8044692737430168, \"#fe88fc\"], [0.8938547486033519, \"#fea5fd\"], [0.9832402234636871, \"#febefe\"], [1.0, \"#fec3fe\"]]}, \"colorway\": [\"#636efa\", \"#EF553B\", \"#00cc96\", \"#ab63fa\", \"#19d3f3\", \"#e763fa\", \"#FECB52\", \"#FFA15A\", \"#FF6692\", \"#B6E880\"], \"font\": {\"color\": \"#2a3f5f\"}, \"geo\": {\"bgcolor\": \"white\", \"lakecolor\": \"white\", \"landcolor\": \"white\", \"showlakes\": true, \"showland\": true, \"subunitcolor\": \"#C8D4E3\"}, \"hoverlabel\": {\"align\": \"left\"}, \"hovermode\": \"closest\", \"mapbox\": {\"style\": \"light\"}, \"paper_bgcolor\": \"white\", \"plot_bgcolor\": \"white\", \"polar\": {\"angularaxis\": {\"gridcolor\": \"#EBF0F8\", \"linecolor\": \"#EBF0F8\", \"ticks\": \"\"}, \"bgcolor\": \"white\", \"radialaxis\": {\"gridcolor\": \"#EBF0F8\", \"linecolor\": \"#EBF0F8\", \"ticks\": \"\"}}, \"scene\": {\"xaxis\": {\"backgroundcolor\": \"white\", \"gridcolor\": \"#DFE8F3\", \"gridwidth\": 2, \"linecolor\": \"#EBF0F8\", \"showbackground\": true, \"ticks\": \"\", \"zerolinecolor\": \"#EBF0F8\"}, \"yaxis\": {\"backgroundcolor\": \"white\", \"gridcolor\": \"#DFE8F3\", \"gridwidth\": 2, \"linecolor\": \"#EBF0F8\", \"showbackground\": true, \"ticks\": \"\", \"zerolinecolor\": \"#EBF0F8\"}, \"zaxis\": {\"backgroundcolor\": \"white\", \"gridcolor\": \"#DFE8F3\", \"gridwidth\": 2, \"linecolor\": \"#EBF0F8\", \"showbackground\": true, \"ticks\": \"\", \"zerolinecolor\": \"#EBF0F8\"}}, \"shapedefaults\": {\"fillcolor\": \"#506784\", \"line\": {\"width\": 0}, \"opacity\": 0.4}, \"ternary\": {\"aaxis\": {\"gridcolor\": \"#DFE8F3\", \"linecolor\": \"#A2B1C6\", \"ticks\": \"\"}, \"baxis\": {\"gridcolor\": \"#DFE8F3\", \"linecolor\": \"#A2B1C6\", \"ticks\": \"\"}, \"bgcolor\": \"white\", \"caxis\": {\"gridcolor\": \"#DFE8F3\", \"linecolor\": \"#A2B1C6\", \"ticks\": \"\"}}, \"title\": {\"x\": 0.05}, \"xaxis\": {\"automargin\": true, \"gridcolor\": \"#EBF0F8\", \"linecolor\": \"#EBF0F8\", \"ticks\": \"\", \"zerolinecolor\": \"#EBF0F8\", \"zerolinewidth\": 2}, \"yaxis\": {\"automargin\": true, \"gridcolor\": \"#EBF0F8\", \"linecolor\": \"#EBF0F8\", \"ticks\": \"\", \"zerolinecolor\": \"#EBF0F8\", \"zerolinewidth\": 2}}}, \"title\": {\"text\": \"NAV\"}, \"xaxis\": {\"title\": {\"text\": \"Artskontotekst\"}}, \"yaxis\": {\"title\": {\"text\": \"Regnskap HI\\u00c5\"}}},\n",
       "                        {\"showLink\": false, \"linkText\": \"Export to plot.ly\", \"plotlyServerURL\": \"https://plot.ly\", \"responsive\": true}\n",
       "                    ).then(function(){\n",
       "                            \n",
       "var gd = document.getElementById('b394aa84-07df-4d0e-bc6b-2c26f7080cf6');\n",
       "var x = new MutationObserver(function (mutations, observer) {{\n",
       "        var display = window.getComputedStyle(gd).display;\n",
       "        if (!display || display === 'none') {{\n",
       "            console.log([gd, 'removed!']);\n",
       "            Plotly.purge(gd);\n",
       "            observer.disconnect();\n",
       "        }}\n",
       "}});\n",
       "\n",
       "// Listen for the removal of the full notebook cells\n",
       "var notebookContainer = gd.closest('#notebook-container');\n",
       "if (notebookContainer) {{\n",
       "    x.observe(notebookContainer, {childList: true});\n",
       "}}\n",
       "\n",
       "// Listen for the clearing of the current output cell\n",
       "var outputEl = gd.closest('.output');\n",
       "if (outputEl) {{\n",
       "    x.observe(outputEl, {childList: true});\n",
       "}}\n",
       "\n",
       "                        })\n",
       "                };\n",
       "                });\n",
       "            </script>\n",
       "        </div>"
      ]
     },
     "metadata": {},
     "output_type": "display_data"
    }
   ],
   "source": [
    "px.bar(nav_sum_konto\n",
    "       , x='Artskontotekst'\n",
    "       , y='Regnskap HIÅ'\n",
    "       , template='plotly_white'\n",
    "       , title='NAV'\n",
    "      )"
   ]
  },
  {
   "cell_type": "code",
   "execution_count": 30,
   "metadata": {},
   "outputs": [],
   "source": [
    "nav_sum_konto_hushold = nav_sum_konto[nav_sum_konto['Artskontotekst']!='Tilskudd til husholdninger']"
   ]
  },
  {
   "cell_type": "code",
   "execution_count": 31,
   "metadata": {},
   "outputs": [
    {
     "data": {
      "application/vnd.plotly.v1+json": {
       "config": {
        "linkText": "Export to plot.ly",
        "plotlyServerURL": "https://plot.ly",
        "showLink": false
       },
       "data": [
        {
         "alignmentgroup": "True",
         "hoverlabel": {
          "namelength": 0
         },
         "hovertemplate": "Artskontotekst=%{x}<br>Regnskap HIÅ=%{y}",
         "legendgroup": "",
         "marker": {
          "color": "#C30000"
         },
         "name": "",
         "offsetgroup": "",
         "orientation": "v",
         "showlegend": false,
         "textposition": "auto",
         "type": "bar",
         "uid": "f6d1528e-271d-463c-b753-e7819fd3b72d",
         "x": [
          "Andre driftsmidler",
          "Andre konsulenttjenester",
          "Andre kontormaskiner",
          "Andre overføringer etter avtale med DFØ",
          "Annen driftsrelatert inntekt",
          "Annen kontorkostnad",
          "Annen kostnad",
          "Annen kostnad lokaler",
          "Annen kostnad transportmidler",
          "Annen kostnadsgodtgjørelse",
          "Annen oppgavepliktig godtgjørelse",
          "Annen personalkostnad",
          "Annen refusjon vedrørende arbeidskraft",
          "Annet driftsmateriale",
          "Annonser, kunngjøringer",
          "Arbeidsgiveravgift",
          "Arbeidsgiveravgift innberettede ytelser",
          "Arbeidsklær og verneutstyr",
          "Arbeidsmarkedstiltak",
          "Aviser, tidsskrifter, bøker o.l.",
          "Bank- og kortgebyr",
          "Biler",
          "Bilgodtgjørelse",
          "Datamaskiner (PCer, servere m.m.)",
          "Diettkostnad",
          "Drivstoff",
          "Erstatninger",
          "Forbruk av innkjøpte varer og tjenester",
          "Forsikring",
          "Gave",
          "Gaver til ansatte",
          "Gebyrer med videre - driftsinntekt",
          "Gruppelivsforsikring",
          "Honorarer",
          "Innleie av vikarer",
          "Inventar",
          "Kantinekostnad",
          "Kjøp av andre fremmede tjenester",
          "Kjøp av tjenester til løpende driftsoppgaver, IKT",
          "Konsulenttjenester innen økonomi, revisjon og juss",
          "Konsulenttjenester til organisasjonsutvikling, kommunikasjonsrådgivning mv.",
          "Konsulenttjenester til utvikling av programvare, IKT-løsninger mv.",
          "Kontingent",
          "Kontorrekvisita",
          "Kurs og seminarer for egne ansatte",
          "Leie av andre kontormaskiner",
          "Leie av biler",
          "Leie av datamaskiner",
          "Leie av datasystemer (årlige lisenser m.m.)",
          "Leie inventar",
          "Leie lokaler",
          "Leie lokaler fra Statsbygg",
          "Leieinntekt fast eiendom",
          "Lys, varme",
          "Lærlingtilskudd",
          "Lønn fast ansatte",
          "Lønn midlertidig ansatte",
          "Møter",
          "Nettoføringsordning for mva.",
          "Overtid fast ansatte",
          "Overtid midlertidig ansatte",
          "Pensjonspremie til SPK (virksomheter som betaler pensjonspremie)",
          "Porto",
          "Programvare (anskaffelse)",
          "Programvarelisenser",
          "Refusjon av foreldrepenger",
          "Refusjon av sykepenger",
          "Reisekostnad",
          "Reklamekostnad",
          "Renhold, vakthold, vaktmestertjenester",
          "Rentekostnad",
          "Reparasjon og vedlikehold annet",
          "Reparasjon og vedlikehold leide lokaler",
          "Representasjon",
          "Salgsinntekt tjenester, avgiftspliktig",
          "Salgsinntekt tjenester, unntatt avgiftsplikt",
          "Salgsinntekt varer, avgiftspliktig, fortsettelse",
          "Salgssum ved avgang anleggsmidler",
          "Styrer, råd og utvalg",
          "Telefoni og datakommunikasjon, samband, internett",
          "Tilfeldige og andre inntekter",
          "Tilretteleggingstilskudd",
          "Tilskudd fra EU",
          "Tilskudd fra Norges forskningsråd",
          "Tilskudd fra andre statlige virksomheter",
          "Tilskudd fra kommunale og fylkeskommunale etater",
          "Tilskudd til ideelle organisasjoner",
          "Tilskudd til kommuner",
          "Trygder og pensjonspremier",
          "Trykksak",
          "Valutatap (disagio)",
          "Vedlikehold",
          "Velferdstiltak"
         ],
         "xaxis": "x",
         "y": [
          3680456.28,
          88326362.1,
          4379836.8100000005,
          30457000,
          -114041572.73,
          14145386.970000003,
          15738767.72,
          61563561.160000004,
          1449058.77,
          143031.87,
          2527383.0599999996,
          8737617.47,
          -668047.82,
          2992093.37,
          1625901.12,
          -349868854.83,
          342915013.23999995,
          186451.87,
          -6804146.77,
          3307902.84,
          3152658.31,
          -31985,
          8347197.529999999,
          51657770.36,
          7001848.6899999995,
          1298181.06,
          2539563.09,
          239354.78,
          327827.97,
          105837,
          2574895.72,
          -3803837.5,
          -20700,
          -6720,
          2300449.52,
          5118620.06,
          4760425.57,
          66117402.3,
          90139753.96,
          261838.13,
          1318368.18,
          126955834.55,
          1794934.99,
          12896195.739999998,
          8470414.47,
          2983142.04,
          1858736.08,
          310238.64,
          88058761.68,
          378880.03,
          376341632.09,
          1100178,
          -1167643.15,
          19942581.15,
          -328545.01,
          2339090304.7599998,
          123178600.47,
          24076125.87,
          654208.4,
          35279360.85000001,
          1228990.53,
          291504657.90999997,
          30007686.36,
          120754.97,
          1394648.27,
          -31587707,
          -79819279,
          32015533.94,
          729227.3099999999,
          32980791.72,
          93440.34000000001,
          130402074.92,
          5654779.7,
          204268.63,
          -270624.87,
          -1086306.21,
          -168426.94,
          -549141,
          978661.25,
          21135097.869999994,
          -9533021.89,
          -1357435.11,
          -26329,
          -1174086.63,
          -1135920.04,
          -4447108.4,
          21499645,
          3639064.17,
          -218330149.97,
          1641453.94,
          89606.03,
          1227414.69,
          7312135.6899999995
         ],
         "yaxis": "y"
        }
       ],
       "layout": {
        "barmode": "relative",
        "grid": {
         "xaxes": [
          "x"
         ],
         "xgap": 0.1,
         "xside": "bottom",
         "yaxes": [
          "y"
         ],
         "ygap": 0.1,
         "yside": "left"
        },
        "legend": {
         "tracegroupgap": 0
        },
        "template": {
         "data": {
          "bar": [
           {
            "marker": {
             "line": {
              "color": "white",
              "width": 0.5
             }
            },
            "type": "bar"
           }
          ],
          "barpolar": [
           {
            "marker": {
             "line": {
              "color": "white",
              "width": 0.5
             }
            },
            "type": "barpolar"
           }
          ],
          "carpet": [
           {
            "aaxis": {
             "endlinecolor": "#2a3f5f",
             "gridcolor": "#C8D4E3",
             "linecolor": "#C8D4E3",
             "minorgridcolor": "#C8D4E3",
             "startlinecolor": "#2a3f5f"
            },
            "baxis": {
             "endlinecolor": "#2a3f5f",
             "gridcolor": "#C8D4E3",
             "linecolor": "#C8D4E3",
             "minorgridcolor": "#C8D4E3",
             "startlinecolor": "#2a3f5f"
            },
            "type": "carpet"
           }
          ],
          "choropleth": [
           {
            "colorbar": {
             "outlinewidth": 0,
             "ticks": ""
            },
            "type": "choropleth"
           }
          ],
          "contour": [
           {
            "colorbar": {
             "outlinewidth": 0,
             "ticks": ""
            },
            "colorscale": [
             [
              0,
              "#0508b8"
             ],
             [
              0.0893854748603352,
              "#1910d8"
             ],
             [
              0.1787709497206704,
              "#3c19f0"
             ],
             [
              0.2681564245810056,
              "#6b1cfb"
             ],
             [
              0.3575418994413408,
              "#981cfd"
             ],
             [
              0.44692737430167595,
              "#bf1cfd"
             ],
             [
              0.5363128491620112,
              "#dd2bfd"
             ],
             [
              0.6256983240223464,
              "#f246fe"
             ],
             [
              0.7150837988826816,
              "#fc67fd"
             ],
             [
              0.8044692737430168,
              "#fe88fc"
             ],
             [
              0.8938547486033519,
              "#fea5fd"
             ],
             [
              0.9832402234636871,
              "#febefe"
             ],
             [
              1,
              "#fec3fe"
             ]
            ],
            "type": "contour"
           }
          ],
          "contourcarpet": [
           {
            "colorbar": {
             "outlinewidth": 0,
             "ticks": ""
            },
            "type": "contourcarpet"
           }
          ],
          "heatmap": [
           {
            "colorbar": {
             "outlinewidth": 0,
             "ticks": ""
            },
            "colorscale": [
             [
              0,
              "#0508b8"
             ],
             [
              0.0893854748603352,
              "#1910d8"
             ],
             [
              0.1787709497206704,
              "#3c19f0"
             ],
             [
              0.2681564245810056,
              "#6b1cfb"
             ],
             [
              0.3575418994413408,
              "#981cfd"
             ],
             [
              0.44692737430167595,
              "#bf1cfd"
             ],
             [
              0.5363128491620112,
              "#dd2bfd"
             ],
             [
              0.6256983240223464,
              "#f246fe"
             ],
             [
              0.7150837988826816,
              "#fc67fd"
             ],
             [
              0.8044692737430168,
              "#fe88fc"
             ],
             [
              0.8938547486033519,
              "#fea5fd"
             ],
             [
              0.9832402234636871,
              "#febefe"
             ],
             [
              1,
              "#fec3fe"
             ]
            ],
            "type": "heatmap"
           }
          ],
          "heatmapgl": [
           {
            "colorbar": {
             "outlinewidth": 0,
             "ticks": ""
            },
            "type": "heatmapgl"
           }
          ],
          "histogram": [
           {
            "marker": {
             "colorbar": {
              "outlinewidth": 0,
              "ticks": ""
             }
            },
            "type": "histogram"
           }
          ],
          "histogram2d": [
           {
            "colorbar": {
             "outlinewidth": 0,
             "ticks": ""
            },
            "colorscale": [
             [
              0,
              "#0508b8"
             ],
             [
              0.0893854748603352,
              "#1910d8"
             ],
             [
              0.1787709497206704,
              "#3c19f0"
             ],
             [
              0.2681564245810056,
              "#6b1cfb"
             ],
             [
              0.3575418994413408,
              "#981cfd"
             ],
             [
              0.44692737430167595,
              "#bf1cfd"
             ],
             [
              0.5363128491620112,
              "#dd2bfd"
             ],
             [
              0.6256983240223464,
              "#f246fe"
             ],
             [
              0.7150837988826816,
              "#fc67fd"
             ],
             [
              0.8044692737430168,
              "#fe88fc"
             ],
             [
              0.8938547486033519,
              "#fea5fd"
             ],
             [
              0.9832402234636871,
              "#febefe"
             ],
             [
              1,
              "#fec3fe"
             ]
            ],
            "type": "histogram2d"
           }
          ],
          "histogram2dcontour": [
           {
            "colorbar": {
             "outlinewidth": 0,
             "ticks": ""
            },
            "colorscale": [
             [
              0,
              "#0508b8"
             ],
             [
              0.0893854748603352,
              "#1910d8"
             ],
             [
              0.1787709497206704,
              "#3c19f0"
             ],
             [
              0.2681564245810056,
              "#6b1cfb"
             ],
             [
              0.3575418994413408,
              "#981cfd"
             ],
             [
              0.44692737430167595,
              "#bf1cfd"
             ],
             [
              0.5363128491620112,
              "#dd2bfd"
             ],
             [
              0.6256983240223464,
              "#f246fe"
             ],
             [
              0.7150837988826816,
              "#fc67fd"
             ],
             [
              0.8044692737430168,
              "#fe88fc"
             ],
             [
              0.8938547486033519,
              "#fea5fd"
             ],
             [
              0.9832402234636871,
              "#febefe"
             ],
             [
              1,
              "#fec3fe"
             ]
            ],
            "type": "histogram2dcontour"
           }
          ],
          "mesh3d": [
           {
            "colorbar": {
             "outlinewidth": 0,
             "ticks": ""
            },
            "type": "mesh3d"
           }
          ],
          "parcoords": [
           {
            "line": {
             "colorbar": {
              "outlinewidth": 0,
              "ticks": ""
             }
            },
            "type": "parcoords"
           }
          ],
          "scatter": [
           {
            "marker": {
             "colorbar": {
              "outlinewidth": 0,
              "ticks": ""
             }
            },
            "type": "scatter"
           }
          ],
          "scatter3d": [
           {
            "marker": {
             "colorbar": {
              "outlinewidth": 0,
              "ticks": ""
             }
            },
            "type": "scatter3d"
           }
          ],
          "scattercarpet": [
           {
            "marker": {
             "colorbar": {
              "outlinewidth": 0,
              "ticks": ""
             }
            },
            "type": "scattercarpet"
           }
          ],
          "scattergeo": [
           {
            "marker": {
             "colorbar": {
              "outlinewidth": 0,
              "ticks": ""
             }
            },
            "type": "scattergeo"
           }
          ],
          "scattergl": [
           {
            "marker": {
             "colorbar": {
              "outlinewidth": 0,
              "ticks": ""
             }
            },
            "type": "scattergl"
           }
          ],
          "scattermapbox": [
           {
            "marker": {
             "colorbar": {
              "outlinewidth": 0,
              "ticks": ""
             }
            },
            "type": "scattermapbox"
           }
          ],
          "scatterpolar": [
           {
            "marker": {
             "colorbar": {
              "outlinewidth": 0,
              "ticks": ""
             }
            },
            "type": "scatterpolar"
           }
          ],
          "scatterpolargl": [
           {
            "marker": {
             "colorbar": {
              "outlinewidth": 0,
              "ticks": ""
             }
            },
            "type": "scatterpolargl"
           }
          ],
          "scatterternary": [
           {
            "marker": {
             "colorbar": {
              "outlinewidth": 0,
              "ticks": ""
             }
            },
            "type": "scatterternary"
           }
          ],
          "surface": [
           {
            "colorbar": {
             "outlinewidth": 0,
             "ticks": ""
            },
            "type": "surface"
           }
          ],
          "table": [
           {
            "cells": {
             "fill": {
              "color": "#EBF0F8"
             },
             "line": {
              "color": "white"
             }
            },
            "header": {
             "fill": {
              "color": "#C8D4E3"
             },
             "line": {
              "color": "white"
             }
            },
            "type": "table"
           }
          ]
         },
         "layout": {
          "annotationdefaults": {
           "arrowcolor": "#506784",
           "arrowhead": 0,
           "arrowwidth": 1
          },
          "colorscale": {
           "diverging": [
            [
             0,
             "#8e0152"
            ],
            [
             0.1,
             "#c51b7d"
            ],
            [
             0.2,
             "#de77ae"
            ],
            [
             0.3,
             "#f1b6da"
            ],
            [
             0.4,
             "#fde0ef"
            ],
            [
             0.5,
             "#f7f7f7"
            ],
            [
             0.6,
             "#e6f5d0"
            ],
            [
             0.7,
             "#b8e186"
            ],
            [
             0.8,
             "#7fbc41"
            ],
            [
             0.9,
             "#4d9221"
            ],
            [
             1,
             "#276419"
            ]
           ],
           "sequential": [
            [
             0,
             "#0508b8"
            ],
            [
             0.0893854748603352,
             "#1910d8"
            ],
            [
             0.1787709497206704,
             "#3c19f0"
            ],
            [
             0.2681564245810056,
             "#6b1cfb"
            ],
            [
             0.3575418994413408,
             "#981cfd"
            ],
            [
             0.44692737430167595,
             "#bf1cfd"
            ],
            [
             0.5363128491620112,
             "#dd2bfd"
            ],
            [
             0.6256983240223464,
             "#f246fe"
            ],
            [
             0.7150837988826816,
             "#fc67fd"
            ],
            [
             0.8044692737430168,
             "#fe88fc"
            ],
            [
             0.8938547486033519,
             "#fea5fd"
            ],
            [
             0.9832402234636871,
             "#febefe"
            ],
            [
             1,
             "#fec3fe"
            ]
           ],
           "sequentialminus": [
            [
             0,
             "#0508b8"
            ],
            [
             0.0893854748603352,
             "#1910d8"
            ],
            [
             0.1787709497206704,
             "#3c19f0"
            ],
            [
             0.2681564245810056,
             "#6b1cfb"
            ],
            [
             0.3575418994413408,
             "#981cfd"
            ],
            [
             0.44692737430167595,
             "#bf1cfd"
            ],
            [
             0.5363128491620112,
             "#dd2bfd"
            ],
            [
             0.6256983240223464,
             "#f246fe"
            ],
            [
             0.7150837988826816,
             "#fc67fd"
            ],
            [
             0.8044692737430168,
             "#fe88fc"
            ],
            [
             0.8938547486033519,
             "#fea5fd"
            ],
            [
             0.9832402234636871,
             "#febefe"
            ],
            [
             1,
             "#fec3fe"
            ]
           ]
          },
          "colorway": [
           "#636efa",
           "#EF553B",
           "#00cc96",
           "#ab63fa",
           "#19d3f3",
           "#e763fa",
           "#FECB52",
           "#FFA15A",
           "#FF6692",
           "#B6E880"
          ],
          "font": {
           "color": "#2a3f5f"
          },
          "geo": {
           "bgcolor": "white",
           "lakecolor": "white",
           "landcolor": "white",
           "showlakes": true,
           "showland": true,
           "subunitcolor": "#C8D4E3"
          },
          "hoverlabel": {
           "align": "left"
          },
          "hovermode": "closest",
          "mapbox": {
           "style": "light"
          },
          "paper_bgcolor": "white",
          "plot_bgcolor": "white",
          "polar": {
           "angularaxis": {
            "gridcolor": "#EBF0F8",
            "linecolor": "#EBF0F8",
            "ticks": ""
           },
           "bgcolor": "white",
           "radialaxis": {
            "gridcolor": "#EBF0F8",
            "linecolor": "#EBF0F8",
            "ticks": ""
           }
          },
          "scene": {
           "xaxis": {
            "backgroundcolor": "white",
            "gridcolor": "#DFE8F3",
            "gridwidth": 2,
            "linecolor": "#EBF0F8",
            "showbackground": true,
            "ticks": "",
            "zerolinecolor": "#EBF0F8"
           },
           "yaxis": {
            "backgroundcolor": "white",
            "gridcolor": "#DFE8F3",
            "gridwidth": 2,
            "linecolor": "#EBF0F8",
            "showbackground": true,
            "ticks": "",
            "zerolinecolor": "#EBF0F8"
           },
           "zaxis": {
            "backgroundcolor": "white",
            "gridcolor": "#DFE8F3",
            "gridwidth": 2,
            "linecolor": "#EBF0F8",
            "showbackground": true,
            "ticks": "",
            "zerolinecolor": "#EBF0F8"
           }
          },
          "shapedefaults": {
           "fillcolor": "#506784",
           "line": {
            "width": 0
           },
           "opacity": 0.4
          },
          "ternary": {
           "aaxis": {
            "gridcolor": "#DFE8F3",
            "linecolor": "#A2B1C6",
            "ticks": ""
           },
           "baxis": {
            "gridcolor": "#DFE8F3",
            "linecolor": "#A2B1C6",
            "ticks": ""
           },
           "bgcolor": "white",
           "caxis": {
            "gridcolor": "#DFE8F3",
            "linecolor": "#A2B1C6",
            "ticks": ""
           }
          },
          "title": {
           "x": 0.05
          },
          "xaxis": {
           "automargin": true,
           "gridcolor": "#EBF0F8",
           "linecolor": "#EBF0F8",
           "ticks": "",
           "zerolinecolor": "#EBF0F8",
           "zerolinewidth": 2
          },
          "yaxis": {
           "automargin": true,
           "gridcolor": "#EBF0F8",
           "linecolor": "#EBF0F8",
           "ticks": "",
           "zerolinecolor": "#EBF0F8",
           "zerolinewidth": 2
          }
         }
        },
        "title": {
         "text": "NAV"
        },
        "xaxis": {
         "title": {
          "text": "Artskontotekst"
         }
        },
        "yaxis": {
         "title": {
          "text": "Regnskap HIÅ"
         }
        }
       }
      },
      "text/html": [
       "<div>\n",
       "        \n",
       "        \n",
       "            <div id=\"48b9df3e-a237-44a0-b636-a9cc105efc1e\" class=\"plotly-graph-div\" style=\"height:525px; width:100%;\"></div>\n",
       "            <script type=\"text/javascript\">\n",
       "                require([\"plotly\"], function(Plotly) {\n",
       "                    window.PLOTLYENV=window.PLOTLYENV || {};\n",
       "                    window.PLOTLYENV.BASE_URL='https://plot.ly';\n",
       "                    \n",
       "                if (document.getElementById(\"48b9df3e-a237-44a0-b636-a9cc105efc1e\")) {\n",
       "                    Plotly.newPlot(\n",
       "                        '48b9df3e-a237-44a0-b636-a9cc105efc1e',\n",
       "                        [{\"alignmentgroup\": \"True\", \"hoverlabel\": {\"namelength\": 0}, \"hovertemplate\": \"Artskontotekst=%{x}<br>Regnskap HI\\u00c5=%{y}\", \"legendgroup\": \"\", \"marker\": {\"color\": \"#C30000\"}, \"name\": \"\", \"offsetgroup\": \"\", \"orientation\": \"v\", \"showlegend\": false, \"textposition\": \"auto\", \"type\": \"bar\", \"uid\": \"f6d1528e-271d-463c-b753-e7819fd3b72d\", \"x\": [\"Andre driftsmidler\", \"Andre konsulenttjenester\", \"Andre kontormaskiner\", \"Andre overf\\u00f8ringer etter avtale med DF\\u00d8\", \"Annen driftsrelatert inntekt\", \"Annen kontorkostnad\", \"Annen kostnad\", \"Annen kostnad lokaler\", \"Annen kostnad transportmidler\", \"Annen kostnadsgodtgj\\u00f8relse\", \"Annen oppgavepliktig godtgj\\u00f8relse\", \"Annen personalkostnad\", \"Annen refusjon vedr\\u00f8rende arbeidskraft\", \"Annet driftsmateriale\", \"Annonser, kunngj\\u00f8ringer\", \"Arbeidsgiveravgift\", \"Arbeidsgiveravgift innberettede ytelser\", \"Arbeidskl\\u00e6r og verneutstyr\", \"Arbeidsmarkedstiltak\", \"Aviser, tidsskrifter, b\\u00f8ker o.l.\", \"Bank- og kortgebyr\", \"Biler\", \"Bilgodtgj\\u00f8relse\", \"Datamaskiner (PCer, servere m.m.)\", \"Diettkostnad\", \"Drivstoff\", \"Erstatninger\", \"Forbruk av innkj\\u00f8pte varer og tjenester\", \"Forsikring\", \"Gave\", \"Gaver til ansatte\", \"Gebyrer med videre - driftsinntekt\", \"Gruppelivsforsikring\", \"Honorarer\", \"Innleie av vikarer\", \"Inventar\", \"Kantinekostnad\", \"Kj\\u00f8p av andre fremmede tjenester\", \"Kj\\u00f8p av tjenester til l\\u00f8pende driftsoppgaver, IKT\", \"Konsulenttjenester innen \\u00f8konomi, revisjon og juss\", \"Konsulenttjenester til organisasjonsutvikling, kommunikasjonsr\\u00e5dgivning mv.\", \"Konsulenttjenester til utvikling av programvare, IKT-l\\u00f8sninger mv.\", \"Kontingent\", \"Kontorrekvisita\", \"Kurs og seminarer for egne ansatte\", \"Leie av andre kontormaskiner\", \"Leie av biler\", \"Leie av datamaskiner\", \"Leie av datasystemer (\\u00e5rlige lisenser m.m.)\", \"Leie inventar\", \"Leie lokaler\", \"Leie lokaler fra Statsbygg\", \"Leieinntekt fast eiendom\", \"Lys, varme\", \"L\\u00e6rlingtilskudd\", \"L\\u00f8nn fast ansatte\", \"L\\u00f8nn midlertidig ansatte\", \"M\\u00f8ter\", \"Nettof\\u00f8ringsordning for mva.\", \"Overtid fast ansatte\", \"Overtid midlertidig ansatte\", \"Pensjonspremie til SPK (virksomheter som betaler pensjonspremie)\", \"Porto\", \"Programvare (anskaffelse)\", \"Programvarelisenser\", \"Refusjon av foreldrepenger\", \"Refusjon av sykepenger\", \"Reisekostnad\", \"Reklamekostnad\", \"Renhold, vakthold, vaktmestertjenester\", \"Rentekostnad\", \"Reparasjon og vedlikehold annet\", \"Reparasjon og vedlikehold leide lokaler\", \"Representasjon\", \"Salgsinntekt tjenester, avgiftspliktig\", \"Salgsinntekt tjenester, unntatt avgiftsplikt\", \"Salgsinntekt varer, avgiftspliktig, fortsettelse\", \"Salgssum ved avgang anleggsmidler\", \"Styrer, r\\u00e5d og utvalg\", \"Telefoni og datakommunikasjon, samband, internett\", \"Tilfeldige og andre inntekter\", \"Tilretteleggingstilskudd\", \"Tilskudd fra EU\", \"Tilskudd fra Norges forskningsr\\u00e5d\", \"Tilskudd fra andre statlige virksomheter\", \"Tilskudd fra kommunale og fylkeskommunale etater\", \"Tilskudd til ideelle organisasjoner\", \"Tilskudd til kommuner\", \"Trygder og pensjonspremier\", \"Trykksak\", \"Valutatap (disagio)\", \"Vedlikehold\", \"Velferdstiltak\"], \"xaxis\": \"x\", \"y\": [3680456.28, 88326362.1, 4379836.8100000005, 30457000.0, -114041572.73, 14145386.970000003, 15738767.72, 61563561.160000004, 1449058.77, 143031.87, 2527383.0599999996, 8737617.47, -668047.82, 2992093.37, 1625901.12, -349868854.83, 342915013.23999995, 186451.87, -6804146.77, 3307902.84, 3152658.31, -31985.0, 8347197.529999999, 51657770.36, 7001848.6899999995, 1298181.06, 2539563.09, 239354.78, 327827.97, 105837.0, 2574895.72, -3803837.5, -20700.0, -6720.0, 2300449.52, 5118620.06, 4760425.57, 66117402.3, 90139753.96, 261838.13, 1318368.18, 126955834.55, 1794934.99, 12896195.739999998, 8470414.47, 2983142.04, 1858736.08, 310238.64, 88058761.68, 378880.03, 376341632.09, 1100178.0, -1167643.15, 19942581.15, -328545.01, 2339090304.7599998, 123178600.47, 24076125.87, 654208.4, 35279360.85000001, 1228990.53, 291504657.90999997, 30007686.36, 120754.97, 1394648.27, -31587707.0, -79819279.0, 32015533.94, 729227.3099999999, 32980791.72, 93440.34000000001, 130402074.92, 5654779.7, 204268.63, -270624.87, -1086306.21, -168426.94, -549141.0, 978661.25, 21135097.869999994, -9533021.89, -1357435.11, -26329.0, -1174086.63, -1135920.04, -4447108.4, 21499645.0, 3639064.17, -218330149.97, 1641453.94, 89606.03, 1227414.69, 7312135.6899999995], \"yaxis\": \"y\"}],\n",
       "                        {\"barmode\": \"relative\", \"grid\": {\"xaxes\": [\"x\"], \"xgap\": 0.1, \"xside\": \"bottom\", \"yaxes\": [\"y\"], \"ygap\": 0.1, \"yside\": \"left\"}, \"legend\": {\"tracegroupgap\": 0}, \"template\": {\"data\": {\"bar\": [{\"marker\": {\"line\": {\"color\": \"white\", \"width\": 0.5}}, \"type\": \"bar\"}], \"barpolar\": [{\"marker\": {\"line\": {\"color\": \"white\", \"width\": 0.5}}, \"type\": \"barpolar\"}], \"carpet\": [{\"aaxis\": {\"endlinecolor\": \"#2a3f5f\", \"gridcolor\": \"#C8D4E3\", \"linecolor\": \"#C8D4E3\", \"minorgridcolor\": \"#C8D4E3\", \"startlinecolor\": \"#2a3f5f\"}, \"baxis\": {\"endlinecolor\": \"#2a3f5f\", \"gridcolor\": \"#C8D4E3\", \"linecolor\": \"#C8D4E3\", \"minorgridcolor\": \"#C8D4E3\", \"startlinecolor\": \"#2a3f5f\"}, \"type\": \"carpet\"}], \"choropleth\": [{\"colorbar\": {\"outlinewidth\": 0, \"ticks\": \"\"}, \"type\": \"choropleth\"}], \"contour\": [{\"colorbar\": {\"outlinewidth\": 0, \"ticks\": \"\"}, \"colorscale\": [[0.0, \"#0508b8\"], [0.0893854748603352, \"#1910d8\"], [0.1787709497206704, \"#3c19f0\"], [0.2681564245810056, \"#6b1cfb\"], [0.3575418994413408, \"#981cfd\"], [0.44692737430167595, \"#bf1cfd\"], [0.5363128491620112, \"#dd2bfd\"], [0.6256983240223464, \"#f246fe\"], [0.7150837988826816, \"#fc67fd\"], [0.8044692737430168, \"#fe88fc\"], [0.8938547486033519, \"#fea5fd\"], [0.9832402234636871, \"#febefe\"], [1.0, \"#fec3fe\"]], \"type\": \"contour\"}], \"contourcarpet\": [{\"colorbar\": {\"outlinewidth\": 0, \"ticks\": \"\"}, \"type\": \"contourcarpet\"}], \"heatmap\": [{\"colorbar\": {\"outlinewidth\": 0, \"ticks\": \"\"}, \"colorscale\": [[0.0, \"#0508b8\"], [0.0893854748603352, \"#1910d8\"], [0.1787709497206704, \"#3c19f0\"], [0.2681564245810056, \"#6b1cfb\"], [0.3575418994413408, \"#981cfd\"], [0.44692737430167595, \"#bf1cfd\"], [0.5363128491620112, \"#dd2bfd\"], [0.6256983240223464, \"#f246fe\"], [0.7150837988826816, \"#fc67fd\"], [0.8044692737430168, \"#fe88fc\"], [0.8938547486033519, \"#fea5fd\"], [0.9832402234636871, \"#febefe\"], [1.0, \"#fec3fe\"]], \"type\": \"heatmap\"}], \"heatmapgl\": [{\"colorbar\": {\"outlinewidth\": 0, \"ticks\": \"\"}, \"type\": \"heatmapgl\"}], \"histogram\": [{\"marker\": {\"colorbar\": {\"outlinewidth\": 0, \"ticks\": \"\"}}, \"type\": \"histogram\"}], \"histogram2d\": [{\"colorbar\": {\"outlinewidth\": 0, \"ticks\": \"\"}, \"colorscale\": [[0.0, \"#0508b8\"], [0.0893854748603352, \"#1910d8\"], [0.1787709497206704, \"#3c19f0\"], [0.2681564245810056, \"#6b1cfb\"], [0.3575418994413408, \"#981cfd\"], [0.44692737430167595, \"#bf1cfd\"], [0.5363128491620112, \"#dd2bfd\"], [0.6256983240223464, \"#f246fe\"], [0.7150837988826816, \"#fc67fd\"], [0.8044692737430168, \"#fe88fc\"], [0.8938547486033519, \"#fea5fd\"], [0.9832402234636871, \"#febefe\"], [1.0, \"#fec3fe\"]], \"type\": \"histogram2d\"}], \"histogram2dcontour\": [{\"colorbar\": {\"outlinewidth\": 0, \"ticks\": \"\"}, \"colorscale\": [[0.0, \"#0508b8\"], [0.0893854748603352, \"#1910d8\"], [0.1787709497206704, \"#3c19f0\"], [0.2681564245810056, \"#6b1cfb\"], [0.3575418994413408, \"#981cfd\"], [0.44692737430167595, \"#bf1cfd\"], [0.5363128491620112, \"#dd2bfd\"], [0.6256983240223464, \"#f246fe\"], [0.7150837988826816, \"#fc67fd\"], [0.8044692737430168, \"#fe88fc\"], [0.8938547486033519, \"#fea5fd\"], [0.9832402234636871, \"#febefe\"], [1.0, \"#fec3fe\"]], \"type\": \"histogram2dcontour\"}], \"mesh3d\": [{\"colorbar\": {\"outlinewidth\": 0, \"ticks\": \"\"}, \"type\": \"mesh3d\"}], \"parcoords\": [{\"line\": {\"colorbar\": {\"outlinewidth\": 0, \"ticks\": \"\"}}, \"type\": \"parcoords\"}], \"scatter\": [{\"marker\": {\"colorbar\": {\"outlinewidth\": 0, \"ticks\": \"\"}}, \"type\": \"scatter\"}], \"scatter3d\": [{\"marker\": {\"colorbar\": {\"outlinewidth\": 0, \"ticks\": \"\"}}, \"type\": \"scatter3d\"}], \"scattercarpet\": [{\"marker\": {\"colorbar\": {\"outlinewidth\": 0, \"ticks\": \"\"}}, \"type\": \"scattercarpet\"}], \"scattergeo\": [{\"marker\": {\"colorbar\": {\"outlinewidth\": 0, \"ticks\": \"\"}}, \"type\": \"scattergeo\"}], \"scattergl\": [{\"marker\": {\"colorbar\": {\"outlinewidth\": 0, \"ticks\": \"\"}}, \"type\": \"scattergl\"}], \"scattermapbox\": [{\"marker\": {\"colorbar\": {\"outlinewidth\": 0, \"ticks\": \"\"}}, \"type\": \"scattermapbox\"}], \"scatterpolar\": [{\"marker\": {\"colorbar\": {\"outlinewidth\": 0, \"ticks\": \"\"}}, \"type\": \"scatterpolar\"}], \"scatterpolargl\": [{\"marker\": {\"colorbar\": {\"outlinewidth\": 0, \"ticks\": \"\"}}, \"type\": \"scatterpolargl\"}], \"scatterternary\": [{\"marker\": {\"colorbar\": {\"outlinewidth\": 0, \"ticks\": \"\"}}, \"type\": \"scatterternary\"}], \"surface\": [{\"colorbar\": {\"outlinewidth\": 0, \"ticks\": \"\"}, \"type\": \"surface\"}], \"table\": [{\"cells\": {\"fill\": {\"color\": \"#EBF0F8\"}, \"line\": {\"color\": \"white\"}}, \"header\": {\"fill\": {\"color\": \"#C8D4E3\"}, \"line\": {\"color\": \"white\"}}, \"type\": \"table\"}]}, \"layout\": {\"annotationdefaults\": {\"arrowcolor\": \"#506784\", \"arrowhead\": 0, \"arrowwidth\": 1}, \"colorscale\": {\"diverging\": [[0, \"#8e0152\"], [0.1, \"#c51b7d\"], [0.2, \"#de77ae\"], [0.3, \"#f1b6da\"], [0.4, \"#fde0ef\"], [0.5, \"#f7f7f7\"], [0.6, \"#e6f5d0\"], [0.7, \"#b8e186\"], [0.8, \"#7fbc41\"], [0.9, \"#4d9221\"], [1, \"#276419\"]], \"sequential\": [[0.0, \"#0508b8\"], [0.0893854748603352, \"#1910d8\"], [0.1787709497206704, \"#3c19f0\"], [0.2681564245810056, \"#6b1cfb\"], [0.3575418994413408, \"#981cfd\"], [0.44692737430167595, \"#bf1cfd\"], [0.5363128491620112, \"#dd2bfd\"], [0.6256983240223464, \"#f246fe\"], [0.7150837988826816, \"#fc67fd\"], [0.8044692737430168, \"#fe88fc\"], [0.8938547486033519, \"#fea5fd\"], [0.9832402234636871, \"#febefe\"], [1.0, \"#fec3fe\"]], \"sequentialminus\": [[0.0, \"#0508b8\"], [0.0893854748603352, \"#1910d8\"], [0.1787709497206704, \"#3c19f0\"], [0.2681564245810056, \"#6b1cfb\"], [0.3575418994413408, \"#981cfd\"], [0.44692737430167595, \"#bf1cfd\"], [0.5363128491620112, \"#dd2bfd\"], [0.6256983240223464, \"#f246fe\"], [0.7150837988826816, \"#fc67fd\"], [0.8044692737430168, \"#fe88fc\"], [0.8938547486033519, \"#fea5fd\"], [0.9832402234636871, \"#febefe\"], [1.0, \"#fec3fe\"]]}, \"colorway\": [\"#636efa\", \"#EF553B\", \"#00cc96\", \"#ab63fa\", \"#19d3f3\", \"#e763fa\", \"#FECB52\", \"#FFA15A\", \"#FF6692\", \"#B6E880\"], \"font\": {\"color\": \"#2a3f5f\"}, \"geo\": {\"bgcolor\": \"white\", \"lakecolor\": \"white\", \"landcolor\": \"white\", \"showlakes\": true, \"showland\": true, \"subunitcolor\": \"#C8D4E3\"}, \"hoverlabel\": {\"align\": \"left\"}, \"hovermode\": \"closest\", \"mapbox\": {\"style\": \"light\"}, \"paper_bgcolor\": \"white\", \"plot_bgcolor\": \"white\", \"polar\": {\"angularaxis\": {\"gridcolor\": \"#EBF0F8\", \"linecolor\": \"#EBF0F8\", \"ticks\": \"\"}, \"bgcolor\": \"white\", \"radialaxis\": {\"gridcolor\": \"#EBF0F8\", \"linecolor\": \"#EBF0F8\", \"ticks\": \"\"}}, \"scene\": {\"xaxis\": {\"backgroundcolor\": \"white\", \"gridcolor\": \"#DFE8F3\", \"gridwidth\": 2, \"linecolor\": \"#EBF0F8\", \"showbackground\": true, \"ticks\": \"\", \"zerolinecolor\": \"#EBF0F8\"}, \"yaxis\": {\"backgroundcolor\": \"white\", \"gridcolor\": \"#DFE8F3\", \"gridwidth\": 2, \"linecolor\": \"#EBF0F8\", \"showbackground\": true, \"ticks\": \"\", \"zerolinecolor\": \"#EBF0F8\"}, \"zaxis\": {\"backgroundcolor\": \"white\", \"gridcolor\": \"#DFE8F3\", \"gridwidth\": 2, \"linecolor\": \"#EBF0F8\", \"showbackground\": true, \"ticks\": \"\", \"zerolinecolor\": \"#EBF0F8\"}}, \"shapedefaults\": {\"fillcolor\": \"#506784\", \"line\": {\"width\": 0}, \"opacity\": 0.4}, \"ternary\": {\"aaxis\": {\"gridcolor\": \"#DFE8F3\", \"linecolor\": \"#A2B1C6\", \"ticks\": \"\"}, \"baxis\": {\"gridcolor\": \"#DFE8F3\", \"linecolor\": \"#A2B1C6\", \"ticks\": \"\"}, \"bgcolor\": \"white\", \"caxis\": {\"gridcolor\": \"#DFE8F3\", \"linecolor\": \"#A2B1C6\", \"ticks\": \"\"}}, \"title\": {\"x\": 0.05}, \"xaxis\": {\"automargin\": true, \"gridcolor\": \"#EBF0F8\", \"linecolor\": \"#EBF0F8\", \"ticks\": \"\", \"zerolinecolor\": \"#EBF0F8\", \"zerolinewidth\": 2}, \"yaxis\": {\"automargin\": true, \"gridcolor\": \"#EBF0F8\", \"linecolor\": \"#EBF0F8\", \"ticks\": \"\", \"zerolinecolor\": \"#EBF0F8\", \"zerolinewidth\": 2}}}, \"title\": {\"text\": \"NAV\"}, \"xaxis\": {\"title\": {\"text\": \"Artskontotekst\"}}, \"yaxis\": {\"title\": {\"text\": \"Regnskap HI\\u00c5\"}}},\n",
       "                        {\"showLink\": false, \"linkText\": \"Export to plot.ly\", \"plotlyServerURL\": \"https://plot.ly\", \"responsive\": true}\n",
       "                    ).then(function(){\n",
       "                            \n",
       "var gd = document.getElementById('48b9df3e-a237-44a0-b636-a9cc105efc1e');\n",
       "var x = new MutationObserver(function (mutations, observer) {{\n",
       "        var display = window.getComputedStyle(gd).display;\n",
       "        if (!display || display === 'none') {{\n",
       "            console.log([gd, 'removed!']);\n",
       "            Plotly.purge(gd);\n",
       "            observer.disconnect();\n",
       "        }}\n",
       "}});\n",
       "\n",
       "// Listen for the removal of the full notebook cells\n",
       "var notebookContainer = gd.closest('#notebook-container');\n",
       "if (notebookContainer) {{\n",
       "    x.observe(notebookContainer, {childList: true});\n",
       "}}\n",
       "\n",
       "// Listen for the clearing of the current output cell\n",
       "var outputEl = gd.closest('.output');\n",
       "if (outputEl) {{\n",
       "    x.observe(outputEl, {childList: true});\n",
       "}}\n",
       "\n",
       "                        })\n",
       "                };\n",
       "                });\n",
       "            </script>\n",
       "        </div>"
      ]
     },
     "metadata": {},
     "output_type": "display_data"
    }
   ],
   "source": [
    "px.bar(nav_sum_konto_hushold\n",
    "       , x='Artskontotekst'\n",
    "       , y='Regnskap HIÅ'\n",
    "       , template='plotly_white'\n",
    "       , title='NAV'\n",
    "      )"
   ]
  },
  {
   "cell_type": "code",
   "execution_count": 32,
   "metadata": {},
   "outputs": [],
   "source": [
    "nav_hushold = nav[nav['Artskontotekst']=='Tilskudd til husholdninger']"
   ]
  },
  {
   "cell_type": "code",
   "execution_count": 33,
   "metadata": {},
   "outputs": [
    {
     "data": {
      "text/html": [
       "<div>\n",
       "<style scoped>\n",
       "    .dataframe tbody tr th:only-of-type {\n",
       "        vertical-align: middle;\n",
       "    }\n",
       "\n",
       "    .dataframe tbody tr th {\n",
       "        vertical-align: top;\n",
       "    }\n",
       "\n",
       "    .dataframe thead th {\n",
       "        text-align: right;\n",
       "    }\n",
       "</style>\n",
       "<table border=\"1\" class=\"dataframe\">\n",
       "  <thead>\n",
       "    <tr style=\"text-align: right;\">\n",
       "      <th></th>\n",
       "      <th>Fagdep</th>\n",
       "      <th>Fagdepartement</th>\n",
       "      <th>Kap</th>\n",
       "      <th>Kaptekst</th>\n",
       "      <th>Statskonto</th>\n",
       "      <th>Post</th>\n",
       "      <th>Posttekst</th>\n",
       "      <th>Artskonto</th>\n",
       "      <th>Artskontotekst</th>\n",
       "      <th>Orgnr</th>\n",
       "      <th>Orgnavn</th>\n",
       "      <th>Virksomhet</th>\n",
       "      <th>Dep</th>\n",
       "      <th>Regnskap HIÅ</th>\n",
       "    </tr>\n",
       "  </thead>\n",
       "  <tbody>\n",
       "    <tr>\n",
       "      <th>8447</th>\n",
       "      <td>6</td>\n",
       "      <td>Arbeids- og sosialdepartementet</td>\n",
       "      <td>605</td>\n",
       "      <td>Arbeids- og velferdsetaten</td>\n",
       "      <td>60501</td>\n",
       "      <td>1</td>\n",
       "      <td>Driftsutgifter</td>\n",
       "      <td>874</td>\n",
       "      <td>Tilskudd til husholdninger</td>\n",
       "      <td>889640782</td>\n",
       "      <td>Arbeids- og velferdsetaten</td>\n",
       "      <td>Arbeids- og velferdsetaten (NAV)</td>\n",
       "      <td>6</td>\n",
       "      <td>1.506300e+04</td>\n",
       "    </tr>\n",
       "    <tr>\n",
       "      <th>8494</th>\n",
       "      <td>6</td>\n",
       "      <td>Arbeids- og sosialdepartementet</td>\n",
       "      <td>605</td>\n",
       "      <td>Arbeids- og velferdsetaten</td>\n",
       "      <td>60522</td>\n",
       "      <td>22</td>\n",
       "      <td>Forsknings- og utredningsaktiviteter</td>\n",
       "      <td>874</td>\n",
       "      <td>Tilskudd til husholdninger</td>\n",
       "      <td>889640782</td>\n",
       "      <td>Arbeids- og velferdsetaten</td>\n",
       "      <td>Arbeids- og velferdsetaten (NAV)</td>\n",
       "      <td>6</td>\n",
       "      <td>2.218644e+06</td>\n",
       "    </tr>\n",
       "    <tr>\n",
       "      <th>8770</th>\n",
       "      <td>6</td>\n",
       "      <td>Arbeids- og sosialdepartementet</td>\n",
       "      <td>634</td>\n",
       "      <td>Arbeidsmarkedstiltak</td>\n",
       "      <td>63476</td>\n",
       "      <td>76</td>\n",
       "      <td>Tiltak for arbeidssøkere, kan overføres</td>\n",
       "      <td>874</td>\n",
       "      <td>Tilskudd til husholdninger</td>\n",
       "      <td>889640782</td>\n",
       "      <td>Arbeids- og velferdsetaten</td>\n",
       "      <td>Arbeids- og velferdsetaten (NAV)</td>\n",
       "      <td>6</td>\n",
       "      <td>2.446464e+09</td>\n",
       "    </tr>\n",
       "    <tr>\n",
       "      <th>8772</th>\n",
       "      <td>6</td>\n",
       "      <td>Arbeids- og sosialdepartementet</td>\n",
       "      <td>634</td>\n",
       "      <td>Arbeidsmarkedstiltak</td>\n",
       "      <td>63477</td>\n",
       "      <td>77</td>\n",
       "      <td>Varig tilrettelagt arbeid, kan overføres</td>\n",
       "      <td>874</td>\n",
       "      <td>Tilskudd til husholdninger</td>\n",
       "      <td>889640782</td>\n",
       "      <td>Arbeids- og velferdsetaten</td>\n",
       "      <td>Arbeids- og velferdsetaten (NAV)</td>\n",
       "      <td>6</td>\n",
       "      <td>4.847839e+08</td>\n",
       "    </tr>\n",
       "    <tr>\n",
       "      <th>8773</th>\n",
       "      <td>6</td>\n",
       "      <td>Arbeids- og sosialdepartementet</td>\n",
       "      <td>634</td>\n",
       "      <td>Arbeidsmarkedstiltak</td>\n",
       "      <td>63478</td>\n",
       "      <td>78</td>\n",
       "      <td>Tilskudd til arbeids- og utdanningsreiser</td>\n",
       "      <td>874</td>\n",
       "      <td>Tilskudd til husholdninger</td>\n",
       "      <td>889640782</td>\n",
       "      <td>Arbeids- og velferdsetaten</td>\n",
       "      <td>Arbeids- og velferdsetaten (NAV)</td>\n",
       "      <td>6</td>\n",
       "      <td>2.555505e+07</td>\n",
       "    </tr>\n",
       "    <tr>\n",
       "      <th>8774</th>\n",
       "      <td>6</td>\n",
       "      <td>Arbeids- og sosialdepartementet</td>\n",
       "      <td>634</td>\n",
       "      <td>Arbeidsmarkedstiltak</td>\n",
       "      <td>63479</td>\n",
       "      <td>79</td>\n",
       "      <td>Funksjonsassistanse i arbeidslivet</td>\n",
       "      <td>874</td>\n",
       "      <td>Tilskudd til husholdninger</td>\n",
       "      <td>889640782</td>\n",
       "      <td>Arbeids- og velferdsetaten</td>\n",
       "      <td>Arbeids- og velferdsetaten (NAV)</td>\n",
       "      <td>6</td>\n",
       "      <td>1.996006e+07</td>\n",
       "    </tr>\n",
       "    <tr>\n",
       "      <th>8775</th>\n",
       "      <td>6</td>\n",
       "      <td>Arbeids- og sosialdepartementet</td>\n",
       "      <td>635</td>\n",
       "      <td>Ventelønn</td>\n",
       "      <td>63501</td>\n",
       "      <td>1</td>\n",
       "      <td>Driftsutgifter, overslagsbevilgning</td>\n",
       "      <td>874</td>\n",
       "      <td>Tilskudd til husholdninger</td>\n",
       "      <td>889640782</td>\n",
       "      <td>Arbeids- og velferdsetaten</td>\n",
       "      <td>Arbeids- og velferdsetaten (NAV)</td>\n",
       "      <td>6</td>\n",
       "      <td>4.708281e+06</td>\n",
       "    </tr>\n",
       "    <tr>\n",
       "      <th>9004</th>\n",
       "      <td>6</td>\n",
       "      <td>Arbeids- og sosialdepartementet</td>\n",
       "      <td>660</td>\n",
       "      <td>Krigspensjon</td>\n",
       "      <td>66070</td>\n",
       "      <td>70</td>\n",
       "      <td>Tilskudd, militære, overslagsbevilgning</td>\n",
       "      <td>874</td>\n",
       "      <td>Tilskudd til husholdninger</td>\n",
       "      <td>889640782</td>\n",
       "      <td>Arbeids- og velferdsetaten</td>\n",
       "      <td>Arbeids- og velferdsetaten (NAV)</td>\n",
       "      <td>6</td>\n",
       "      <td>2.041169e+07</td>\n",
       "    </tr>\n",
       "    <tr>\n",
       "      <th>9005</th>\n",
       "      <td>6</td>\n",
       "      <td>Arbeids- og sosialdepartementet</td>\n",
       "      <td>660</td>\n",
       "      <td>Krigspensjon</td>\n",
       "      <td>66071</td>\n",
       "      <td>71</td>\n",
       "      <td>Tilskudd, sivile, overslagsbevilgning</td>\n",
       "      <td>874</td>\n",
       "      <td>Tilskudd til husholdninger</td>\n",
       "      <td>889640782</td>\n",
       "      <td>Arbeids- og velferdsetaten</td>\n",
       "      <td>Arbeids- og velferdsetaten (NAV)</td>\n",
       "      <td>6</td>\n",
       "      <td>5.590676e+07</td>\n",
       "    </tr>\n",
       "    <tr>\n",
       "      <th>9007</th>\n",
       "      <td>6</td>\n",
       "      <td>Arbeids- og sosialdepartementet</td>\n",
       "      <td>666</td>\n",
       "      <td>Avtalefestet pensjon (AFP)</td>\n",
       "      <td>66670</td>\n",
       "      <td>70</td>\n",
       "      <td>Tilskudd, overslagsbevilgning</td>\n",
       "      <td>874</td>\n",
       "      <td>Tilskudd til husholdninger</td>\n",
       "      <td>889640782</td>\n",
       "      <td>Arbeids- og velferdsetaten</td>\n",
       "      <td>Arbeids- og velferdsetaten (NAV)</td>\n",
       "      <td>6</td>\n",
       "      <td>7.961612e+08</td>\n",
       "    </tr>\n",
       "    <tr>\n",
       "      <th>9008</th>\n",
       "      <td>6</td>\n",
       "      <td>Arbeids- og sosialdepartementet</td>\n",
       "      <td>667</td>\n",
       "      <td>Supplerende stønad til personer over 67 år</td>\n",
       "      <td>66770</td>\n",
       "      <td>70</td>\n",
       "      <td>Tilskudd, overslagsbevilgning</td>\n",
       "      <td>874</td>\n",
       "      <td>Tilskudd til husholdninger</td>\n",
       "      <td>889640782</td>\n",
       "      <td>Arbeids- og velferdsetaten</td>\n",
       "      <td>Arbeids- og velferdsetaten (NAV)</td>\n",
       "      <td>6</td>\n",
       "      <td>1.044506e+08</td>\n",
       "    </tr>\n",
       "    <tr>\n",
       "      <th>9078</th>\n",
       "      <td>6</td>\n",
       "      <td>Arbeids- og sosialdepartementet</td>\n",
       "      <td>2541</td>\n",
       "      <td>Dagpenger</td>\n",
       "      <td>254170</td>\n",
       "      <td>70</td>\n",
       "      <td>Dagpenger, overslagsbevilgning</td>\n",
       "      <td>874</td>\n",
       "      <td>Tilskudd til husholdninger</td>\n",
       "      <td>889640782</td>\n",
       "      <td>Arbeids- og velferdsetaten</td>\n",
       "      <td>Arbeids- og velferdsetaten (NAV)</td>\n",
       "      <td>6</td>\n",
       "      <td>3.352936e+09</td>\n",
       "    </tr>\n",
       "    <tr>\n",
       "      <th>9079</th>\n",
       "      <td>6</td>\n",
       "      <td>Arbeids- og sosialdepartementet</td>\n",
       "      <td>2542</td>\n",
       "      <td>Statsgaranti for lønnskrav ved konkurs mv.</td>\n",
       "      <td>254270</td>\n",
       "      <td>70</td>\n",
       "      <td>Statsgaranti for lønnskrav ved konkurs mv., ov...</td>\n",
       "      <td>874</td>\n",
       "      <td>Tilskudd til husholdninger</td>\n",
       "      <td>889640782</td>\n",
       "      <td>Arbeids- og velferdsetaten</td>\n",
       "      <td>Arbeids- og velferdsetaten (NAV)</td>\n",
       "      <td>6</td>\n",
       "      <td>3.207182e+08</td>\n",
       "    </tr>\n",
       "    <tr>\n",
       "      <th>9080</th>\n",
       "      <td>6</td>\n",
       "      <td>Arbeids- og sosialdepartementet</td>\n",
       "      <td>2620</td>\n",
       "      <td>Stønad til enslig mor eller far</td>\n",
       "      <td>262070</td>\n",
       "      <td>70</td>\n",
       "      <td>Overgangsstønad, overslagsbevilgning</td>\n",
       "      <td>874</td>\n",
       "      <td>Tilskudd til husholdninger</td>\n",
       "      <td>889640782</td>\n",
       "      <td>Arbeids- og velferdsetaten</td>\n",
       "      <td>Arbeids- og velferdsetaten (NAV)</td>\n",
       "      <td>6</td>\n",
       "      <td>5.889908e+08</td>\n",
       "    </tr>\n",
       "    <tr>\n",
       "      <th>9081</th>\n",
       "      <td>6</td>\n",
       "      <td>Arbeids- og sosialdepartementet</td>\n",
       "      <td>2620</td>\n",
       "      <td>Stønad til enslig mor eller far</td>\n",
       "      <td>262072</td>\n",
       "      <td>72</td>\n",
       "      <td>Stønad til barnetilsyn til enslig mor eller fa...</td>\n",
       "      <td>874</td>\n",
       "      <td>Tilskudd til husholdninger</td>\n",
       "      <td>889640782</td>\n",
       "      <td>Arbeids- og velferdsetaten</td>\n",
       "      <td>Arbeids- og velferdsetaten (NAV)</td>\n",
       "      <td>6</td>\n",
       "      <td>5.461516e+07</td>\n",
       "    </tr>\n",
       "    <tr>\n",
       "      <th>9082</th>\n",
       "      <td>6</td>\n",
       "      <td>Arbeids- og sosialdepartementet</td>\n",
       "      <td>2620</td>\n",
       "      <td>Stønad til enslig mor eller far</td>\n",
       "      <td>262073</td>\n",
       "      <td>73</td>\n",
       "      <td>Tilleggsstønader og stønad til skolepenger, ov...</td>\n",
       "      <td>874</td>\n",
       "      <td>Tilskudd til husholdninger</td>\n",
       "      <td>889640782</td>\n",
       "      <td>Arbeids- og velferdsetaten</td>\n",
       "      <td>Arbeids- og velferdsetaten (NAV)</td>\n",
       "      <td>6</td>\n",
       "      <td>2.551918e+07</td>\n",
       "    </tr>\n",
       "    <tr>\n",
       "      <th>9083</th>\n",
       "      <td>6</td>\n",
       "      <td>Arbeids- og sosialdepartementet</td>\n",
       "      <td>2620</td>\n",
       "      <td>Stønad til enslig mor eller far</td>\n",
       "      <td>262076</td>\n",
       "      <td>76</td>\n",
       "      <td>Bidragsforskott</td>\n",
       "      <td>874</td>\n",
       "      <td>Tilskudd til husholdninger</td>\n",
       "      <td>889640782</td>\n",
       "      <td>Arbeids- og velferdsetaten</td>\n",
       "      <td>Arbeids- og velferdsetaten (NAV)</td>\n",
       "      <td>6</td>\n",
       "      <td>1.565249e+04</td>\n",
       "    </tr>\n",
       "    <tr>\n",
       "      <th>9085</th>\n",
       "      <td>6</td>\n",
       "      <td>Arbeids- og sosialdepartementet</td>\n",
       "      <td>2650</td>\n",
       "      <td>Sykepenger</td>\n",
       "      <td>265070</td>\n",
       "      <td>70</td>\n",
       "      <td>Sykepenger for arbeidstakere mv., overslagsbev...</td>\n",
       "      <td>874</td>\n",
       "      <td>Tilskudd til husholdninger</td>\n",
       "      <td>889640782</td>\n",
       "      <td>Arbeids- og velferdsetaten</td>\n",
       "      <td>Arbeids- og velferdsetaten (NAV)</td>\n",
       "      <td>6</td>\n",
       "      <td>1.127891e+10</td>\n",
       "    </tr>\n",
       "    <tr>\n",
       "      <th>9086</th>\n",
       "      <td>6</td>\n",
       "      <td>Arbeids- og sosialdepartementet</td>\n",
       "      <td>2650</td>\n",
       "      <td>Sykepenger</td>\n",
       "      <td>265071</td>\n",
       "      <td>71</td>\n",
       "      <td>Sykepenger for selvstendige, overslagsbevilgning</td>\n",
       "      <td>874</td>\n",
       "      <td>Tilskudd til husholdninger</td>\n",
       "      <td>889640782</td>\n",
       "      <td>Arbeids- og velferdsetaten</td>\n",
       "      <td>Arbeids- og velferdsetaten (NAV)</td>\n",
       "      <td>6</td>\n",
       "      <td>4.422950e+08</td>\n",
       "    </tr>\n",
       "    <tr>\n",
       "      <th>9087</th>\n",
       "      <td>6</td>\n",
       "      <td>Arbeids- og sosialdepartementet</td>\n",
       "      <td>2650</td>\n",
       "      <td>Sykepenger</td>\n",
       "      <td>265072</td>\n",
       "      <td>72</td>\n",
       "      <td>Pleie-, opplærings- og omsorgspenger mv., over...</td>\n",
       "      <td>874</td>\n",
       "      <td>Tilskudd til husholdninger</td>\n",
       "      <td>889640782</td>\n",
       "      <td>Arbeids- og velferdsetaten</td>\n",
       "      <td>Arbeids- og velferdsetaten (NAV)</td>\n",
       "      <td>6</td>\n",
       "      <td>2.550951e+08</td>\n",
       "    </tr>\n",
       "    <tr>\n",
       "      <th>9088</th>\n",
       "      <td>6</td>\n",
       "      <td>Arbeids- og sosialdepartementet</td>\n",
       "      <td>2650</td>\n",
       "      <td>Sykepenger</td>\n",
       "      <td>265073</td>\n",
       "      <td>73</td>\n",
       "      <td>Tilskudd til tilretteleggingstiltak mv., kan o...</td>\n",
       "      <td>874</td>\n",
       "      <td>Tilskudd til husholdninger</td>\n",
       "      <td>889640782</td>\n",
       "      <td>Arbeids- og velferdsetaten</td>\n",
       "      <td>Arbeids- og velferdsetaten (NAV)</td>\n",
       "      <td>6</td>\n",
       "      <td>8.318986e+07</td>\n",
       "    </tr>\n",
       "    <tr>\n",
       "      <th>9089</th>\n",
       "      <td>6</td>\n",
       "      <td>Arbeids- og sosialdepartementet</td>\n",
       "      <td>2650</td>\n",
       "      <td>Sykepenger</td>\n",
       "      <td>265075</td>\n",
       "      <td>75</td>\n",
       "      <td>Feriepenger av sykepenger, overslagsbevilgning</td>\n",
       "      <td>874</td>\n",
       "      <td>Tilskudd til husholdninger</td>\n",
       "      <td>889640782</td>\n",
       "      <td>Arbeids- og velferdsetaten</td>\n",
       "      <td>Arbeids- og velferdsetaten (NAV)</td>\n",
       "      <td>6</td>\n",
       "      <td>1.807232e+06</td>\n",
       "    </tr>\n",
       "    <tr>\n",
       "      <th>9090</th>\n",
       "      <td>6</td>\n",
       "      <td>Arbeids- og sosialdepartementet</td>\n",
       "      <td>2651</td>\n",
       "      <td>Arbeidsavklaringspenger</td>\n",
       "      <td>265170</td>\n",
       "      <td>70</td>\n",
       "      <td>Arbeidsavklaringspenger, overslagsbevilgning</td>\n",
       "      <td>874</td>\n",
       "      <td>Tilskudd til husholdninger</td>\n",
       "      <td>889640782</td>\n",
       "      <td>Arbeids- og velferdsetaten</td>\n",
       "      <td>Arbeids- og velferdsetaten (NAV)</td>\n",
       "      <td>6</td>\n",
       "      <td>9.877353e+09</td>\n",
       "    </tr>\n",
       "    <tr>\n",
       "      <th>9091</th>\n",
       "      <td>6</td>\n",
       "      <td>Arbeids- og sosialdepartementet</td>\n",
       "      <td>2651</td>\n",
       "      <td>Arbeidsavklaringspenger</td>\n",
       "      <td>265171</td>\n",
       "      <td>71</td>\n",
       "      <td>Tilleggsstønad, overslagsbevilgning</td>\n",
       "      <td>874</td>\n",
       "      <td>Tilskudd til husholdninger</td>\n",
       "      <td>889640782</td>\n",
       "      <td>Arbeids- og velferdsetaten</td>\n",
       "      <td>Arbeids- og velferdsetaten (NAV)</td>\n",
       "      <td>6</td>\n",
       "      <td>6.548755e+07</td>\n",
       "    </tr>\n",
       "    <tr>\n",
       "      <th>9094</th>\n",
       "      <td>6</td>\n",
       "      <td>Arbeids- og sosialdepartementet</td>\n",
       "      <td>2651</td>\n",
       "      <td>Arbeidsavklaringspenger</td>\n",
       "      <td>265172</td>\n",
       "      <td>72</td>\n",
       "      <td>Legeerklæringer</td>\n",
       "      <td>874</td>\n",
       "      <td>Tilskudd til husholdninger</td>\n",
       "      <td>889640782</td>\n",
       "      <td>Arbeids- og velferdsetaten</td>\n",
       "      <td>Arbeids- og velferdsetaten (NAV)</td>\n",
       "      <td>6</td>\n",
       "      <td>7.672643e+07</td>\n",
       "    </tr>\n",
       "    <tr>\n",
       "      <th>9098</th>\n",
       "      <td>6</td>\n",
       "      <td>Arbeids- og sosialdepartementet</td>\n",
       "      <td>2655</td>\n",
       "      <td>Uførhet</td>\n",
       "      <td>265570</td>\n",
       "      <td>70</td>\n",
       "      <td>Uføretrygd, overslagsbevilgning</td>\n",
       "      <td>874</td>\n",
       "      <td>Tilskudd til husholdninger</td>\n",
       "      <td>889640782</td>\n",
       "      <td>Arbeids- og velferdsetaten</td>\n",
       "      <td>Arbeids- og velferdsetaten (NAV)</td>\n",
       "      <td>6</td>\n",
       "      <td>3.064053e+10</td>\n",
       "    </tr>\n",
       "    <tr>\n",
       "      <th>9099</th>\n",
       "      <td>6</td>\n",
       "      <td>Arbeids- og sosialdepartementet</td>\n",
       "      <td>2655</td>\n",
       "      <td>Uførhet</td>\n",
       "      <td>265575</td>\n",
       "      <td>75</td>\n",
       "      <td>Menerstatning ved yrkesskade, overslagsbevilgning</td>\n",
       "      <td>874</td>\n",
       "      <td>Tilskudd til husholdninger</td>\n",
       "      <td>889640782</td>\n",
       "      <td>Arbeids- og velferdsetaten</td>\n",
       "      <td>Arbeids- og velferdsetaten (NAV)</td>\n",
       "      <td>6</td>\n",
       "      <td>2.214881e+07</td>\n",
       "    </tr>\n",
       "    <tr>\n",
       "      <th>9100</th>\n",
       "      <td>6</td>\n",
       "      <td>Arbeids- og sosialdepartementet</td>\n",
       "      <td>2655</td>\n",
       "      <td>Uførhet</td>\n",
       "      <td>265576</td>\n",
       "      <td>76</td>\n",
       "      <td>Yrkesskadetrygd gml. lovgivning, overslagsbevi...</td>\n",
       "      <td>874</td>\n",
       "      <td>Tilskudd til husholdninger</td>\n",
       "      <td>889640782</td>\n",
       "      <td>Arbeids- og velferdsetaten</td>\n",
       "      <td>Arbeids- og velferdsetaten (NAV)</td>\n",
       "      <td>6</td>\n",
       "      <td>1.395228e+07</td>\n",
       "    </tr>\n",
       "    <tr>\n",
       "      <th>9101</th>\n",
       "      <td>6</td>\n",
       "      <td>Arbeids- og sosialdepartementet</td>\n",
       "      <td>2661</td>\n",
       "      <td>Grunn- og hjelpestønad, hjelpemidler mv.</td>\n",
       "      <td>266170</td>\n",
       "      <td>70</td>\n",
       "      <td>Grunnstønad, overslagsbevilgning</td>\n",
       "      <td>874</td>\n",
       "      <td>Tilskudd til husholdninger</td>\n",
       "      <td>889640782</td>\n",
       "      <td>Arbeids- og velferdsetaten</td>\n",
       "      <td>Arbeids- og velferdsetaten (NAV)</td>\n",
       "      <td>6</td>\n",
       "      <td>5.982578e+08</td>\n",
       "    </tr>\n",
       "    <tr>\n",
       "      <th>9102</th>\n",
       "      <td>6</td>\n",
       "      <td>Arbeids- og sosialdepartementet</td>\n",
       "      <td>2661</td>\n",
       "      <td>Grunn- og hjelpestønad, hjelpemidler mv.</td>\n",
       "      <td>266171</td>\n",
       "      <td>71</td>\n",
       "      <td>Hjelpestønad, overslagsbevilgning</td>\n",
       "      <td>874</td>\n",
       "      <td>Tilskudd til husholdninger</td>\n",
       "      <td>889640782</td>\n",
       "      <td>Arbeids- og velferdsetaten</td>\n",
       "      <td>Arbeids- og velferdsetaten (NAV)</td>\n",
       "      <td>6</td>\n",
       "      <td>5.071947e+08</td>\n",
       "    </tr>\n",
       "    <tr>\n",
       "      <th>...</th>\n",
       "      <td>...</td>\n",
       "      <td>...</td>\n",
       "      <td>...</td>\n",
       "      <td>...</td>\n",
       "      <td>...</td>\n",
       "      <td>...</td>\n",
       "      <td>...</td>\n",
       "      <td>...</td>\n",
       "      <td>...</td>\n",
       "      <td>...</td>\n",
       "      <td>...</td>\n",
       "      <td>...</td>\n",
       "      <td>...</td>\n",
       "      <td>...</td>\n",
       "    </tr>\n",
       "    <tr>\n",
       "      <th>9143</th>\n",
       "      <td>6</td>\n",
       "      <td>Arbeids- og sosialdepartementet</td>\n",
       "      <td>3634</td>\n",
       "      <td>Arbeidsmarkedstiltak</td>\n",
       "      <td>363485</td>\n",
       "      <td>85</td>\n",
       "      <td>Innfordring av feilutbetalinger, arbeidsmarked...</td>\n",
       "      <td>874</td>\n",
       "      <td>Tilskudd til husholdninger</td>\n",
       "      <td>889640782</td>\n",
       "      <td>Arbeids- og velferdsetaten</td>\n",
       "      <td>Arbeids- og velferdsetaten (NAV)</td>\n",
       "      <td>6</td>\n",
       "      <td>-1.852928e+06</td>\n",
       "    </tr>\n",
       "    <tr>\n",
       "      <th>9144</th>\n",
       "      <td>6</td>\n",
       "      <td>Arbeids- og sosialdepartementet</td>\n",
       "      <td>3635</td>\n",
       "      <td>Ventelønn mv.</td>\n",
       "      <td>363501</td>\n",
       "      <td>1</td>\n",
       "      <td>Refusjon statlig virksomhet mv.</td>\n",
       "      <td>874</td>\n",
       "      <td>Tilskudd til husholdninger</td>\n",
       "      <td>889640782</td>\n",
       "      <td>Arbeids- og velferdsetaten</td>\n",
       "      <td>Arbeids- og velferdsetaten (NAV)</td>\n",
       "      <td>6</td>\n",
       "      <td>-3.521311e+06</td>\n",
       "    </tr>\n",
       "    <tr>\n",
       "      <th>9164</th>\n",
       "      <td>6</td>\n",
       "      <td>Arbeids- og sosialdepartementet</td>\n",
       "      <td>5701</td>\n",
       "      <td>Diverse inntekter</td>\n",
       "      <td>570186</td>\n",
       "      <td>86</td>\n",
       "      <td>Innkreving feilutbetalinger</td>\n",
       "      <td>874</td>\n",
       "      <td>Tilskudd til husholdninger</td>\n",
       "      <td>889640782</td>\n",
       "      <td>Arbeids- og velferdsetaten</td>\n",
       "      <td>Arbeids- og velferdsetaten (NAV)</td>\n",
       "      <td>6</td>\n",
       "      <td>-7.820240e+03</td>\n",
       "    </tr>\n",
       "    <tr>\n",
       "      <th>9169</th>\n",
       "      <td>6</td>\n",
       "      <td>Arbeids- og sosialdepartementet</td>\n",
       "      <td>5701</td>\n",
       "      <td>Diverse inntekter</td>\n",
       "      <td>570187</td>\n",
       "      <td>87</td>\n",
       "      <td>Diverse inntekter</td>\n",
       "      <td>874</td>\n",
       "      <td>Tilskudd til husholdninger</td>\n",
       "      <td>889640782</td>\n",
       "      <td>Arbeids- og velferdsetaten</td>\n",
       "      <td>Arbeids- og velferdsetaten (NAV)</td>\n",
       "      <td>6</td>\n",
       "      <td>-1.054676e+06</td>\n",
       "    </tr>\n",
       "    <tr>\n",
       "      <th>9172</th>\n",
       "      <td>6</td>\n",
       "      <td>Arbeids- og sosialdepartementet</td>\n",
       "      <td>5701</td>\n",
       "      <td>Diverse inntekter</td>\n",
       "      <td>570188</td>\n",
       "      <td>88</td>\n",
       "      <td>Hjelpemiddelsentraler m.m.</td>\n",
       "      <td>874</td>\n",
       "      <td>Tilskudd til husholdninger</td>\n",
       "      <td>889640782</td>\n",
       "      <td>Arbeids- og velferdsetaten</td>\n",
       "      <td>Arbeids- og velferdsetaten (NAV)</td>\n",
       "      <td>6</td>\n",
       "      <td>-1.596281e+07</td>\n",
       "    </tr>\n",
       "    <tr>\n",
       "      <th>9174</th>\n",
       "      <td>6</td>\n",
       "      <td>Arbeids- og sosialdepartementet</td>\n",
       "      <td>5704</td>\n",
       "      <td>Statsgaranti for lønnskrav ved konkurs</td>\n",
       "      <td>570470</td>\n",
       "      <td>70</td>\n",
       "      <td>Dividende</td>\n",
       "      <td>874</td>\n",
       "      <td>Tilskudd til husholdninger</td>\n",
       "      <td>889640782</td>\n",
       "      <td>Arbeids- og velferdsetaten</td>\n",
       "      <td>Arbeids- og velferdsetaten (NAV)</td>\n",
       "      <td>6</td>\n",
       "      <td>-5.352250e+07</td>\n",
       "    </tr>\n",
       "    <tr>\n",
       "      <th>9655</th>\n",
       "      <td>7</td>\n",
       "      <td>Helse- og omsorgsdepartementet</td>\n",
       "      <td>732</td>\n",
       "      <td>Regionale helseforetak</td>\n",
       "      <td>73277</td>\n",
       "      <td>77</td>\n",
       "      <td>Laboratorie- og radiologiske undersøkelser, ov...</td>\n",
       "      <td>874</td>\n",
       "      <td>Tilskudd til husholdninger</td>\n",
       "      <td>889640782</td>\n",
       "      <td>Arbeids- og velferdsetaten</td>\n",
       "      <td>Arbeids- og velferdsetaten (NAV)</td>\n",
       "      <td>6</td>\n",
       "      <td>4.580069e+08</td>\n",
       "    </tr>\n",
       "    <tr>\n",
       "      <th>11294</th>\n",
       "      <td>7</td>\n",
       "      <td>Helse- og omsorgsdepartementet</td>\n",
       "      <td>2711</td>\n",
       "      <td>Spesialisthelsetjeneste mv.</td>\n",
       "      <td>271170</td>\n",
       "      <td>70</td>\n",
       "      <td>Spesialisthjelp</td>\n",
       "      <td>874</td>\n",
       "      <td>Tilskudd til husholdninger</td>\n",
       "      <td>889640782</td>\n",
       "      <td>Arbeids- og velferdsetaten</td>\n",
       "      <td>Arbeids- og velferdsetaten (NAV)</td>\n",
       "      <td>6</td>\n",
       "      <td>3.956940e+08</td>\n",
       "    </tr>\n",
       "    <tr>\n",
       "      <th>11296</th>\n",
       "      <td>7</td>\n",
       "      <td>Helse- og omsorgsdepartementet</td>\n",
       "      <td>2711</td>\n",
       "      <td>Spesialisthelsetjeneste mv.</td>\n",
       "      <td>271171</td>\n",
       "      <td>71</td>\n",
       "      <td>Psykologhjelp</td>\n",
       "      <td>874</td>\n",
       "      <td>Tilskudd til husholdninger</td>\n",
       "      <td>889640782</td>\n",
       "      <td>Arbeids- og velferdsetaten</td>\n",
       "      <td>Arbeids- og velferdsetaten (NAV)</td>\n",
       "      <td>6</td>\n",
       "      <td>6.062507e+07</td>\n",
       "    </tr>\n",
       "    <tr>\n",
       "      <th>11299</th>\n",
       "      <td>7</td>\n",
       "      <td>Helse- og omsorgsdepartementet</td>\n",
       "      <td>2711</td>\n",
       "      <td>Spesialisthelsetjeneste mv.</td>\n",
       "      <td>271172</td>\n",
       "      <td>72</td>\n",
       "      <td>Tannbehandling</td>\n",
       "      <td>874</td>\n",
       "      <td>Tilskudd til husholdninger</td>\n",
       "      <td>889640782</td>\n",
       "      <td>Arbeids- og velferdsetaten</td>\n",
       "      <td>Arbeids- og velferdsetaten (NAV)</td>\n",
       "      <td>6</td>\n",
       "      <td>3.526130e+08</td>\n",
       "    </tr>\n",
       "    <tr>\n",
       "      <th>11304</th>\n",
       "      <td>7</td>\n",
       "      <td>Helse- og omsorgsdepartementet</td>\n",
       "      <td>2711</td>\n",
       "      <td>Spesialisthelsetjeneste mv.</td>\n",
       "      <td>271176</td>\n",
       "      <td>76</td>\n",
       "      <td>Private laboratorier og røntgeninstitutt</td>\n",
       "      <td>874</td>\n",
       "      <td>Tilskudd til husholdninger</td>\n",
       "      <td>889640782</td>\n",
       "      <td>Arbeids- og velferdsetaten</td>\n",
       "      <td>Arbeids- og velferdsetaten (NAV)</td>\n",
       "      <td>6</td>\n",
       "      <td>1.427497e+08</td>\n",
       "    </tr>\n",
       "    <tr>\n",
       "      <th>11308</th>\n",
       "      <td>7</td>\n",
       "      <td>Helse- og omsorgsdepartementet</td>\n",
       "      <td>2751</td>\n",
       "      <td>Legemidler mv.</td>\n",
       "      <td>275170</td>\n",
       "      <td>70</td>\n",
       "      <td>Legemidler</td>\n",
       "      <td>874</td>\n",
       "      <td>Tilskudd til husholdninger</td>\n",
       "      <td>889640782</td>\n",
       "      <td>Arbeids- og velferdsetaten</td>\n",
       "      <td>Arbeids- og velferdsetaten (NAV)</td>\n",
       "      <td>6</td>\n",
       "      <td>4.422827e+06</td>\n",
       "    </tr>\n",
       "    <tr>\n",
       "      <th>11313</th>\n",
       "      <td>7</td>\n",
       "      <td>Helse- og omsorgsdepartementet</td>\n",
       "      <td>2751</td>\n",
       "      <td>Legemidler mv.</td>\n",
       "      <td>275171</td>\n",
       "      <td>71</td>\n",
       "      <td>Legeerklæringer</td>\n",
       "      <td>874</td>\n",
       "      <td>Tilskudd til husholdninger</td>\n",
       "      <td>889640782</td>\n",
       "      <td>Arbeids- og velferdsetaten</td>\n",
       "      <td>Arbeids- og velferdsetaten (NAV)</td>\n",
       "      <td>6</td>\n",
       "      <td>1.264482e+06</td>\n",
       "    </tr>\n",
       "    <tr>\n",
       "      <th>11322</th>\n",
       "      <td>7</td>\n",
       "      <td>Helse- og omsorgsdepartementet</td>\n",
       "      <td>2752</td>\n",
       "      <td>Refusjon av egenbetaling</td>\n",
       "      <td>275270</td>\n",
       "      <td>70</td>\n",
       "      <td>Egenandelstak 1</td>\n",
       "      <td>874</td>\n",
       "      <td>Tilskudd til husholdninger</td>\n",
       "      <td>889640782</td>\n",
       "      <td>Arbeids- og velferdsetaten</td>\n",
       "      <td>Arbeids- og velferdsetaten (NAV)</td>\n",
       "      <td>6</td>\n",
       "      <td>3.954439e+08</td>\n",
       "    </tr>\n",
       "    <tr>\n",
       "      <th>11328</th>\n",
       "      <td>7</td>\n",
       "      <td>Helse- og omsorgsdepartementet</td>\n",
       "      <td>2752</td>\n",
       "      <td>Refusjon av egenbetaling</td>\n",
       "      <td>275271</td>\n",
       "      <td>71</td>\n",
       "      <td>Egenandelstak 2</td>\n",
       "      <td>874</td>\n",
       "      <td>Tilskudd til husholdninger</td>\n",
       "      <td>889640782</td>\n",
       "      <td>Arbeids- og velferdsetaten</td>\n",
       "      <td>Arbeids- og velferdsetaten (NAV)</td>\n",
       "      <td>6</td>\n",
       "      <td>7.562050e+07</td>\n",
       "    </tr>\n",
       "    <tr>\n",
       "      <th>11333</th>\n",
       "      <td>7</td>\n",
       "      <td>Helse- og omsorgsdepartementet</td>\n",
       "      <td>2755</td>\n",
       "      <td>Helsetjenester i kommunene mv.</td>\n",
       "      <td>275562</td>\n",
       "      <td>62</td>\n",
       "      <td>Fastlønnsordning fysioterapeuter, kan nyttes u...</td>\n",
       "      <td>874</td>\n",
       "      <td>Tilskudd til husholdninger</td>\n",
       "      <td>889640782</td>\n",
       "      <td>Arbeids- og velferdsetaten</td>\n",
       "      <td>Arbeids- og velferdsetaten (NAV)</td>\n",
       "      <td>6</td>\n",
       "      <td>1.460137e+08</td>\n",
       "    </tr>\n",
       "    <tr>\n",
       "      <th>11336</th>\n",
       "      <td>7</td>\n",
       "      <td>Helse- og omsorgsdepartementet</td>\n",
       "      <td>2755</td>\n",
       "      <td>Helsetjenester i kommunene mv.</td>\n",
       "      <td>275570</td>\n",
       "      <td>70</td>\n",
       "      <td>Allmennlegehjelp</td>\n",
       "      <td>874</td>\n",
       "      <td>Tilskudd til husholdninger</td>\n",
       "      <td>889640782</td>\n",
       "      <td>Arbeids- og velferdsetaten</td>\n",
       "      <td>Arbeids- og velferdsetaten (NAV)</td>\n",
       "      <td>6</td>\n",
       "      <td>8.942489e+08</td>\n",
       "    </tr>\n",
       "    <tr>\n",
       "      <th>11341</th>\n",
       "      <td>7</td>\n",
       "      <td>Helse- og omsorgsdepartementet</td>\n",
       "      <td>2755</td>\n",
       "      <td>Helsetjenester i kommunene mv.</td>\n",
       "      <td>275571</td>\n",
       "      <td>71</td>\n",
       "      <td>Fysioterapi, kan nyttes under post 62</td>\n",
       "      <td>874</td>\n",
       "      <td>Tilskudd til husholdninger</td>\n",
       "      <td>889640782</td>\n",
       "      <td>Arbeids- og velferdsetaten</td>\n",
       "      <td>Arbeids- og velferdsetaten (NAV)</td>\n",
       "      <td>6</td>\n",
       "      <td>2.033031e+08</td>\n",
       "    </tr>\n",
       "    <tr>\n",
       "      <th>11346</th>\n",
       "      <td>7</td>\n",
       "      <td>Helse- og omsorgsdepartementet</td>\n",
       "      <td>2755</td>\n",
       "      <td>Helsetjenester i kommunene mv.</td>\n",
       "      <td>275572</td>\n",
       "      <td>72</td>\n",
       "      <td>Jordmorhjelp</td>\n",
       "      <td>874</td>\n",
       "      <td>Tilskudd til husholdninger</td>\n",
       "      <td>889640782</td>\n",
       "      <td>Arbeids- og velferdsetaten</td>\n",
       "      <td>Arbeids- og velferdsetaten (NAV)</td>\n",
       "      <td>6</td>\n",
       "      <td>9.121062e+06</td>\n",
       "    </tr>\n",
       "    <tr>\n",
       "      <th>11348</th>\n",
       "      <td>7</td>\n",
       "      <td>Helse- og omsorgsdepartementet</td>\n",
       "      <td>2755</td>\n",
       "      <td>Helsetjenester i kommunene mv.</td>\n",
       "      <td>275573</td>\n",
       "      <td>73</td>\n",
       "      <td>Kiropraktorbehandling</td>\n",
       "      <td>874</td>\n",
       "      <td>Tilskudd til husholdninger</td>\n",
       "      <td>889640782</td>\n",
       "      <td>Arbeids- og velferdsetaten</td>\n",
       "      <td>Arbeids- og velferdsetaten (NAV)</td>\n",
       "      <td>6</td>\n",
       "      <td>2.862334e+07</td>\n",
       "    </tr>\n",
       "    <tr>\n",
       "      <th>11351</th>\n",
       "      <td>7</td>\n",
       "      <td>Helse- og omsorgsdepartementet</td>\n",
       "      <td>2755</td>\n",
       "      <td>Helsetjenester i kommunene mv.</td>\n",
       "      <td>275575</td>\n",
       "      <td>75</td>\n",
       "      <td>Logopedisk og ortoptisk behandling</td>\n",
       "      <td>874</td>\n",
       "      <td>Tilskudd til husholdninger</td>\n",
       "      <td>889640782</td>\n",
       "      <td>Arbeids- og velferdsetaten</td>\n",
       "      <td>Arbeids- og velferdsetaten (NAV)</td>\n",
       "      <td>6</td>\n",
       "      <td>2.323661e+07</td>\n",
       "    </tr>\n",
       "    <tr>\n",
       "      <th>11361</th>\n",
       "      <td>7</td>\n",
       "      <td>Helse- og omsorgsdepartementet</td>\n",
       "      <td>2756</td>\n",
       "      <td>Andre helsetjenester</td>\n",
       "      <td>275672</td>\n",
       "      <td>72</td>\n",
       "      <td>Helsetjenester til utenlandsboende mv.</td>\n",
       "      <td>874</td>\n",
       "      <td>Tilskudd til husholdninger</td>\n",
       "      <td>889640782</td>\n",
       "      <td>Arbeids- og velferdsetaten</td>\n",
       "      <td>Arbeids- og velferdsetaten (NAV)</td>\n",
       "      <td>6</td>\n",
       "      <td>4.294242e+07</td>\n",
       "    </tr>\n",
       "    <tr>\n",
       "      <th>11365</th>\n",
       "      <td>7</td>\n",
       "      <td>Helse- og omsorgsdepartementet</td>\n",
       "      <td>2790</td>\n",
       "      <td>Andre helsetiltak</td>\n",
       "      <td>279070</td>\n",
       "      <td>70</td>\n",
       "      <td>Bidrag</td>\n",
       "      <td>874</td>\n",
       "      <td>Tilskudd til husholdninger</td>\n",
       "      <td>889640782</td>\n",
       "      <td>Arbeids- og velferdsetaten</td>\n",
       "      <td>Arbeids- og velferdsetaten (NAV)</td>\n",
       "      <td>6</td>\n",
       "      <td>8.070344e+06</td>\n",
       "    </tr>\n",
       "    <tr>\n",
       "      <th>11630</th>\n",
       "      <td>8</td>\n",
       "      <td>Barne- og likestillingsdepartementet</td>\n",
       "      <td>844</td>\n",
       "      <td>Kontantstøtte</td>\n",
       "      <td>84470</td>\n",
       "      <td>70</td>\n",
       "      <td>Tilskudd, overslagsbevilgning</td>\n",
       "      <td>874</td>\n",
       "      <td>Tilskudd til husholdninger</td>\n",
       "      <td>889640782</td>\n",
       "      <td>Arbeids- og velferdsetaten</td>\n",
       "      <td>Arbeids- og velferdsetaten (NAV)</td>\n",
       "      <td>6</td>\n",
       "      <td>5.003961e+08</td>\n",
       "    </tr>\n",
       "    <tr>\n",
       "      <th>11631</th>\n",
       "      <td>8</td>\n",
       "      <td>Barne- og likestillingsdepartementet</td>\n",
       "      <td>845</td>\n",
       "      <td>Barnetrygd</td>\n",
       "      <td>84570</td>\n",
       "      <td>70</td>\n",
       "      <td>Tilskudd, overslagsbevilgning</td>\n",
       "      <td>874</td>\n",
       "      <td>Tilskudd til husholdninger</td>\n",
       "      <td>889640782</td>\n",
       "      <td>Arbeids- og velferdsetaten</td>\n",
       "      <td>Arbeids- og velferdsetaten (NAV)</td>\n",
       "      <td>6</td>\n",
       "      <td>5.132805e+09</td>\n",
       "    </tr>\n",
       "    <tr>\n",
       "      <th>12344</th>\n",
       "      <td>8</td>\n",
       "      <td>Barne- og likestillingsdepartementet</td>\n",
       "      <td>2530</td>\n",
       "      <td>Foreldrepenger</td>\n",
       "      <td>253070</td>\n",
       "      <td>70</td>\n",
       "      <td>Foreldrepenger ved fødsel, overslagsbevilgning</td>\n",
       "      <td>874</td>\n",
       "      <td>Tilskudd til husholdninger</td>\n",
       "      <td>889640782</td>\n",
       "      <td>Arbeids- og velferdsetaten</td>\n",
       "      <td>Arbeids- og velferdsetaten (NAV)</td>\n",
       "      <td>6</td>\n",
       "      <td>5.105945e+09</td>\n",
       "    </tr>\n",
       "    <tr>\n",
       "      <th>12345</th>\n",
       "      <td>8</td>\n",
       "      <td>Barne- og likestillingsdepartementet</td>\n",
       "      <td>2530</td>\n",
       "      <td>Foreldrepenger</td>\n",
       "      <td>253071</td>\n",
       "      <td>71</td>\n",
       "      <td>Engangsstønad ved fødsel og adopsjon, overslag...</td>\n",
       "      <td>874</td>\n",
       "      <td>Tilskudd til husholdninger</td>\n",
       "      <td>889640782</td>\n",
       "      <td>Arbeids- og velferdsetaten</td>\n",
       "      <td>Arbeids- og velferdsetaten (NAV)</td>\n",
       "      <td>6</td>\n",
       "      <td>2.973970e+08</td>\n",
       "    </tr>\n",
       "    <tr>\n",
       "      <th>12346</th>\n",
       "      <td>8</td>\n",
       "      <td>Barne- og likestillingsdepartementet</td>\n",
       "      <td>2530</td>\n",
       "      <td>Foreldrepenger</td>\n",
       "      <td>253072</td>\n",
       "      <td>72</td>\n",
       "      <td>Feriepenger av foreldrepenger, overslagsbevilg...</td>\n",
       "      <td>874</td>\n",
       "      <td>Tilskudd til husholdninger</td>\n",
       "      <td>889640782</td>\n",
       "      <td>Arbeids- og velferdsetaten</td>\n",
       "      <td>Arbeids- og velferdsetaten (NAV)</td>\n",
       "      <td>6</td>\n",
       "      <td>9.720300e+04</td>\n",
       "    </tr>\n",
       "    <tr>\n",
       "      <th>12347</th>\n",
       "      <td>8</td>\n",
       "      <td>Barne- og likestillingsdepartementet</td>\n",
       "      <td>2530</td>\n",
       "      <td>Foreldrepenger</td>\n",
       "      <td>253073</td>\n",
       "      <td>73</td>\n",
       "      <td>Foreldrepenger ved adopsjon, overslagsbevilgning</td>\n",
       "      <td>874</td>\n",
       "      <td>Tilskudd til husholdninger</td>\n",
       "      <td>889640782</td>\n",
       "      <td>Arbeids- og velferdsetaten</td>\n",
       "      <td>Arbeids- og velferdsetaten (NAV)</td>\n",
       "      <td>6</td>\n",
       "      <td>1.272619e+07</td>\n",
       "    </tr>\n",
       "    <tr>\n",
       "      <th>18344</th>\n",
       "      <td>16</td>\n",
       "      <td>Finansdepartementet</td>\n",
       "      <td>5700</td>\n",
       "      <td>Folketrygdens inntekter</td>\n",
       "      <td>570071</td>\n",
       "      <td>71</td>\n",
       "      <td>Trygdeavgift</td>\n",
       "      <td>874</td>\n",
       "      <td>Tilskudd til husholdninger</td>\n",
       "      <td>889640782</td>\n",
       "      <td>Arbeids- og velferdsetaten</td>\n",
       "      <td>Arbeids- og velferdsetaten (NAV)</td>\n",
       "      <td>6</td>\n",
       "      <td>5.306243e+06</td>\n",
       "    </tr>\n",
       "  </tbody>\n",
       "</table>\n",
       "<p>78 rows × 14 columns</p>\n",
       "</div>"
      ],
      "text/plain": [
       "       Fagdep                        Fagdepartement   Kap  \\\n",
       "8447        6       Arbeids- og sosialdepartementet   605   \n",
       "8494        6       Arbeids- og sosialdepartementet   605   \n",
       "8770        6       Arbeids- og sosialdepartementet   634   \n",
       "8772        6       Arbeids- og sosialdepartementet   634   \n",
       "8773        6       Arbeids- og sosialdepartementet   634   \n",
       "8774        6       Arbeids- og sosialdepartementet   634   \n",
       "8775        6       Arbeids- og sosialdepartementet   635   \n",
       "9004        6       Arbeids- og sosialdepartementet   660   \n",
       "9005        6       Arbeids- og sosialdepartementet   660   \n",
       "9007        6       Arbeids- og sosialdepartementet   666   \n",
       "9008        6       Arbeids- og sosialdepartementet   667   \n",
       "9078        6       Arbeids- og sosialdepartementet  2541   \n",
       "9079        6       Arbeids- og sosialdepartementet  2542   \n",
       "9080        6       Arbeids- og sosialdepartementet  2620   \n",
       "9081        6       Arbeids- og sosialdepartementet  2620   \n",
       "9082        6       Arbeids- og sosialdepartementet  2620   \n",
       "9083        6       Arbeids- og sosialdepartementet  2620   \n",
       "9085        6       Arbeids- og sosialdepartementet  2650   \n",
       "9086        6       Arbeids- og sosialdepartementet  2650   \n",
       "9087        6       Arbeids- og sosialdepartementet  2650   \n",
       "9088        6       Arbeids- og sosialdepartementet  2650   \n",
       "9089        6       Arbeids- og sosialdepartementet  2650   \n",
       "9090        6       Arbeids- og sosialdepartementet  2651   \n",
       "9091        6       Arbeids- og sosialdepartementet  2651   \n",
       "9094        6       Arbeids- og sosialdepartementet  2651   \n",
       "9098        6       Arbeids- og sosialdepartementet  2655   \n",
       "9099        6       Arbeids- og sosialdepartementet  2655   \n",
       "9100        6       Arbeids- og sosialdepartementet  2655   \n",
       "9101        6       Arbeids- og sosialdepartementet  2661   \n",
       "9102        6       Arbeids- og sosialdepartementet  2661   \n",
       "...       ...                                   ...   ...   \n",
       "9143        6       Arbeids- og sosialdepartementet  3634   \n",
       "9144        6       Arbeids- og sosialdepartementet  3635   \n",
       "9164        6       Arbeids- og sosialdepartementet  5701   \n",
       "9169        6       Arbeids- og sosialdepartementet  5701   \n",
       "9172        6       Arbeids- og sosialdepartementet  5701   \n",
       "9174        6       Arbeids- og sosialdepartementet  5704   \n",
       "9655        7        Helse- og omsorgsdepartementet   732   \n",
       "11294       7        Helse- og omsorgsdepartementet  2711   \n",
       "11296       7        Helse- og omsorgsdepartementet  2711   \n",
       "11299       7        Helse- og omsorgsdepartementet  2711   \n",
       "11304       7        Helse- og omsorgsdepartementet  2711   \n",
       "11308       7        Helse- og omsorgsdepartementet  2751   \n",
       "11313       7        Helse- og omsorgsdepartementet  2751   \n",
       "11322       7        Helse- og omsorgsdepartementet  2752   \n",
       "11328       7        Helse- og omsorgsdepartementet  2752   \n",
       "11333       7        Helse- og omsorgsdepartementet  2755   \n",
       "11336       7        Helse- og omsorgsdepartementet  2755   \n",
       "11341       7        Helse- og omsorgsdepartementet  2755   \n",
       "11346       7        Helse- og omsorgsdepartementet  2755   \n",
       "11348       7        Helse- og omsorgsdepartementet  2755   \n",
       "11351       7        Helse- og omsorgsdepartementet  2755   \n",
       "11361       7        Helse- og omsorgsdepartementet  2756   \n",
       "11365       7        Helse- og omsorgsdepartementet  2790   \n",
       "11630       8  Barne- og likestillingsdepartementet   844   \n",
       "11631       8  Barne- og likestillingsdepartementet   845   \n",
       "12344       8  Barne- og likestillingsdepartementet  2530   \n",
       "12345       8  Barne- og likestillingsdepartementet  2530   \n",
       "12346       8  Barne- og likestillingsdepartementet  2530   \n",
       "12347       8  Barne- og likestillingsdepartementet  2530   \n",
       "18344      16                   Finansdepartementet  5700   \n",
       "\n",
       "                                         Kaptekst  Statskonto  Post  \\\n",
       "8447                   Arbeids- og velferdsetaten       60501     1   \n",
       "8494                   Arbeids- og velferdsetaten       60522    22   \n",
       "8770                         Arbeidsmarkedstiltak       63476    76   \n",
       "8772                         Arbeidsmarkedstiltak       63477    77   \n",
       "8773                         Arbeidsmarkedstiltak       63478    78   \n",
       "8774                         Arbeidsmarkedstiltak       63479    79   \n",
       "8775                                    Ventelønn       63501     1   \n",
       "9004                                 Krigspensjon       66070    70   \n",
       "9005                                 Krigspensjon       66071    71   \n",
       "9007                   Avtalefestet pensjon (AFP)       66670    70   \n",
       "9008   Supplerende stønad til personer over 67 år       66770    70   \n",
       "9078                                    Dagpenger      254170    70   \n",
       "9079   Statsgaranti for lønnskrav ved konkurs mv.      254270    70   \n",
       "9080              Stønad til enslig mor eller far      262070    70   \n",
       "9081              Stønad til enslig mor eller far      262072    72   \n",
       "9082              Stønad til enslig mor eller far      262073    73   \n",
       "9083              Stønad til enslig mor eller far      262076    76   \n",
       "9085                                   Sykepenger      265070    70   \n",
       "9086                                   Sykepenger      265071    71   \n",
       "9087                                   Sykepenger      265072    72   \n",
       "9088                                   Sykepenger      265073    73   \n",
       "9089                                   Sykepenger      265075    75   \n",
       "9090                      Arbeidsavklaringspenger      265170    70   \n",
       "9091                      Arbeidsavklaringspenger      265171    71   \n",
       "9094                      Arbeidsavklaringspenger      265172    72   \n",
       "9098                                      Uførhet      265570    70   \n",
       "9099                                      Uførhet      265575    75   \n",
       "9100                                      Uførhet      265576    76   \n",
       "9101     Grunn- og hjelpestønad, hjelpemidler mv.      266170    70   \n",
       "9102     Grunn- og hjelpestønad, hjelpemidler mv.      266171    71   \n",
       "...                                           ...         ...   ...   \n",
       "9143                         Arbeidsmarkedstiltak      363485    85   \n",
       "9144                                Ventelønn mv.      363501     1   \n",
       "9164                            Diverse inntekter      570186    86   \n",
       "9169                            Diverse inntekter      570187    87   \n",
       "9172                            Diverse inntekter      570188    88   \n",
       "9174       Statsgaranti for lønnskrav ved konkurs      570470    70   \n",
       "9655                       Regionale helseforetak       73277    77   \n",
       "11294                 Spesialisthelsetjeneste mv.      271170    70   \n",
       "11296                 Spesialisthelsetjeneste mv.      271171    71   \n",
       "11299                 Spesialisthelsetjeneste mv.      271172    72   \n",
       "11304                 Spesialisthelsetjeneste mv.      271176    76   \n",
       "11308                              Legemidler mv.      275170    70   \n",
       "11313                              Legemidler mv.      275171    71   \n",
       "11322                    Refusjon av egenbetaling      275270    70   \n",
       "11328                    Refusjon av egenbetaling      275271    71   \n",
       "11333              Helsetjenester i kommunene mv.      275562    62   \n",
       "11336              Helsetjenester i kommunene mv.      275570    70   \n",
       "11341              Helsetjenester i kommunene mv.      275571    71   \n",
       "11346              Helsetjenester i kommunene mv.      275572    72   \n",
       "11348              Helsetjenester i kommunene mv.      275573    73   \n",
       "11351              Helsetjenester i kommunene mv.      275575    75   \n",
       "11361                        Andre helsetjenester      275672    72   \n",
       "11365                           Andre helsetiltak      279070    70   \n",
       "11630                               Kontantstøtte       84470    70   \n",
       "11631                                  Barnetrygd       84570    70   \n",
       "12344                              Foreldrepenger      253070    70   \n",
       "12345                              Foreldrepenger      253071    71   \n",
       "12346                              Foreldrepenger      253072    72   \n",
       "12347                              Foreldrepenger      253073    73   \n",
       "18344                     Folketrygdens inntekter      570071    71   \n",
       "\n",
       "                                               Posttekst  Artskonto  \\\n",
       "8447                                      Driftsutgifter        874   \n",
       "8494                Forsknings- og utredningsaktiviteter        874   \n",
       "8770             Tiltak for arbeidssøkere, kan overføres        874   \n",
       "8772            Varig tilrettelagt arbeid, kan overføres        874   \n",
       "8773           Tilskudd til arbeids- og utdanningsreiser        874   \n",
       "8774                  Funksjonsassistanse i arbeidslivet        874   \n",
       "8775                 Driftsutgifter, overslagsbevilgning        874   \n",
       "9004             Tilskudd, militære, overslagsbevilgning        874   \n",
       "9005               Tilskudd, sivile, overslagsbevilgning        874   \n",
       "9007                       Tilskudd, overslagsbevilgning        874   \n",
       "9008                       Tilskudd, overslagsbevilgning        874   \n",
       "9078                      Dagpenger, overslagsbevilgning        874   \n",
       "9079   Statsgaranti for lønnskrav ved konkurs mv., ov...        874   \n",
       "9080                Overgangsstønad, overslagsbevilgning        874   \n",
       "9081   Stønad til barnetilsyn til enslig mor eller fa...        874   \n",
       "9082   Tilleggsstønader og stønad til skolepenger, ov...        874   \n",
       "9083                                     Bidragsforskott        874   \n",
       "9085   Sykepenger for arbeidstakere mv., overslagsbev...        874   \n",
       "9086    Sykepenger for selvstendige, overslagsbevilgning        874   \n",
       "9087   Pleie-, opplærings- og omsorgspenger mv., over...        874   \n",
       "9088   Tilskudd til tilretteleggingstiltak mv., kan o...        874   \n",
       "9089      Feriepenger av sykepenger, overslagsbevilgning        874   \n",
       "9090        Arbeidsavklaringspenger, overslagsbevilgning        874   \n",
       "9091                 Tilleggsstønad, overslagsbevilgning        874   \n",
       "9094                                     Legeerklæringer        874   \n",
       "9098                     Uføretrygd, overslagsbevilgning        874   \n",
       "9099   Menerstatning ved yrkesskade, overslagsbevilgning        874   \n",
       "9100   Yrkesskadetrygd gml. lovgivning, overslagsbevi...        874   \n",
       "9101                    Grunnstønad, overslagsbevilgning        874   \n",
       "9102                   Hjelpestønad, overslagsbevilgning        874   \n",
       "...                                                  ...        ...   \n",
       "9143   Innfordring av feilutbetalinger, arbeidsmarked...        874   \n",
       "9144                     Refusjon statlig virksomhet mv.        874   \n",
       "9164                         Innkreving feilutbetalinger        874   \n",
       "9169                                   Diverse inntekter        874   \n",
       "9172                          Hjelpemiddelsentraler m.m.        874   \n",
       "9174                                           Dividende        874   \n",
       "9655   Laboratorie- og radiologiske undersøkelser, ov...        874   \n",
       "11294                                    Spesialisthjelp        874   \n",
       "11296                                      Psykologhjelp        874   \n",
       "11299                                     Tannbehandling        874   \n",
       "11304           Private laboratorier og røntgeninstitutt        874   \n",
       "11308                                         Legemidler        874   \n",
       "11313                                    Legeerklæringer        874   \n",
       "11322                                    Egenandelstak 1        874   \n",
       "11328                                    Egenandelstak 2        874   \n",
       "11333  Fastlønnsordning fysioterapeuter, kan nyttes u...        874   \n",
       "11336                                   Allmennlegehjelp        874   \n",
       "11341              Fysioterapi, kan nyttes under post 62        874   \n",
       "11346                                       Jordmorhjelp        874   \n",
       "11348                              Kiropraktorbehandling        874   \n",
       "11351                 Logopedisk og ortoptisk behandling        874   \n",
       "11361             Helsetjenester til utenlandsboende mv.        874   \n",
       "11365                                             Bidrag        874   \n",
       "11630                      Tilskudd, overslagsbevilgning        874   \n",
       "11631                      Tilskudd, overslagsbevilgning        874   \n",
       "12344     Foreldrepenger ved fødsel, overslagsbevilgning        874   \n",
       "12345  Engangsstønad ved fødsel og adopsjon, overslag...        874   \n",
       "12346  Feriepenger av foreldrepenger, overslagsbevilg...        874   \n",
       "12347   Foreldrepenger ved adopsjon, overslagsbevilgning        874   \n",
       "18344                                       Trygdeavgift        874   \n",
       "\n",
       "                   Artskontotekst      Orgnr                     Orgnavn  \\\n",
       "8447   Tilskudd til husholdninger  889640782  Arbeids- og velferdsetaten   \n",
       "8494   Tilskudd til husholdninger  889640782  Arbeids- og velferdsetaten   \n",
       "8770   Tilskudd til husholdninger  889640782  Arbeids- og velferdsetaten   \n",
       "8772   Tilskudd til husholdninger  889640782  Arbeids- og velferdsetaten   \n",
       "8773   Tilskudd til husholdninger  889640782  Arbeids- og velferdsetaten   \n",
       "8774   Tilskudd til husholdninger  889640782  Arbeids- og velferdsetaten   \n",
       "8775   Tilskudd til husholdninger  889640782  Arbeids- og velferdsetaten   \n",
       "9004   Tilskudd til husholdninger  889640782  Arbeids- og velferdsetaten   \n",
       "9005   Tilskudd til husholdninger  889640782  Arbeids- og velferdsetaten   \n",
       "9007   Tilskudd til husholdninger  889640782  Arbeids- og velferdsetaten   \n",
       "9008   Tilskudd til husholdninger  889640782  Arbeids- og velferdsetaten   \n",
       "9078   Tilskudd til husholdninger  889640782  Arbeids- og velferdsetaten   \n",
       "9079   Tilskudd til husholdninger  889640782  Arbeids- og velferdsetaten   \n",
       "9080   Tilskudd til husholdninger  889640782  Arbeids- og velferdsetaten   \n",
       "9081   Tilskudd til husholdninger  889640782  Arbeids- og velferdsetaten   \n",
       "9082   Tilskudd til husholdninger  889640782  Arbeids- og velferdsetaten   \n",
       "9083   Tilskudd til husholdninger  889640782  Arbeids- og velferdsetaten   \n",
       "9085   Tilskudd til husholdninger  889640782  Arbeids- og velferdsetaten   \n",
       "9086   Tilskudd til husholdninger  889640782  Arbeids- og velferdsetaten   \n",
       "9087   Tilskudd til husholdninger  889640782  Arbeids- og velferdsetaten   \n",
       "9088   Tilskudd til husholdninger  889640782  Arbeids- og velferdsetaten   \n",
       "9089   Tilskudd til husholdninger  889640782  Arbeids- og velferdsetaten   \n",
       "9090   Tilskudd til husholdninger  889640782  Arbeids- og velferdsetaten   \n",
       "9091   Tilskudd til husholdninger  889640782  Arbeids- og velferdsetaten   \n",
       "9094   Tilskudd til husholdninger  889640782  Arbeids- og velferdsetaten   \n",
       "9098   Tilskudd til husholdninger  889640782  Arbeids- og velferdsetaten   \n",
       "9099   Tilskudd til husholdninger  889640782  Arbeids- og velferdsetaten   \n",
       "9100   Tilskudd til husholdninger  889640782  Arbeids- og velferdsetaten   \n",
       "9101   Tilskudd til husholdninger  889640782  Arbeids- og velferdsetaten   \n",
       "9102   Tilskudd til husholdninger  889640782  Arbeids- og velferdsetaten   \n",
       "...                           ...        ...                         ...   \n",
       "9143   Tilskudd til husholdninger  889640782  Arbeids- og velferdsetaten   \n",
       "9144   Tilskudd til husholdninger  889640782  Arbeids- og velferdsetaten   \n",
       "9164   Tilskudd til husholdninger  889640782  Arbeids- og velferdsetaten   \n",
       "9169   Tilskudd til husholdninger  889640782  Arbeids- og velferdsetaten   \n",
       "9172   Tilskudd til husholdninger  889640782  Arbeids- og velferdsetaten   \n",
       "9174   Tilskudd til husholdninger  889640782  Arbeids- og velferdsetaten   \n",
       "9655   Tilskudd til husholdninger  889640782  Arbeids- og velferdsetaten   \n",
       "11294  Tilskudd til husholdninger  889640782  Arbeids- og velferdsetaten   \n",
       "11296  Tilskudd til husholdninger  889640782  Arbeids- og velferdsetaten   \n",
       "11299  Tilskudd til husholdninger  889640782  Arbeids- og velferdsetaten   \n",
       "11304  Tilskudd til husholdninger  889640782  Arbeids- og velferdsetaten   \n",
       "11308  Tilskudd til husholdninger  889640782  Arbeids- og velferdsetaten   \n",
       "11313  Tilskudd til husholdninger  889640782  Arbeids- og velferdsetaten   \n",
       "11322  Tilskudd til husholdninger  889640782  Arbeids- og velferdsetaten   \n",
       "11328  Tilskudd til husholdninger  889640782  Arbeids- og velferdsetaten   \n",
       "11333  Tilskudd til husholdninger  889640782  Arbeids- og velferdsetaten   \n",
       "11336  Tilskudd til husholdninger  889640782  Arbeids- og velferdsetaten   \n",
       "11341  Tilskudd til husholdninger  889640782  Arbeids- og velferdsetaten   \n",
       "11346  Tilskudd til husholdninger  889640782  Arbeids- og velferdsetaten   \n",
       "11348  Tilskudd til husholdninger  889640782  Arbeids- og velferdsetaten   \n",
       "11351  Tilskudd til husholdninger  889640782  Arbeids- og velferdsetaten   \n",
       "11361  Tilskudd til husholdninger  889640782  Arbeids- og velferdsetaten   \n",
       "11365  Tilskudd til husholdninger  889640782  Arbeids- og velferdsetaten   \n",
       "11630  Tilskudd til husholdninger  889640782  Arbeids- og velferdsetaten   \n",
       "11631  Tilskudd til husholdninger  889640782  Arbeids- og velferdsetaten   \n",
       "12344  Tilskudd til husholdninger  889640782  Arbeids- og velferdsetaten   \n",
       "12345  Tilskudd til husholdninger  889640782  Arbeids- og velferdsetaten   \n",
       "12346  Tilskudd til husholdninger  889640782  Arbeids- og velferdsetaten   \n",
       "12347  Tilskudd til husholdninger  889640782  Arbeids- og velferdsetaten   \n",
       "18344  Tilskudd til husholdninger  889640782  Arbeids- og velferdsetaten   \n",
       "\n",
       "                             Virksomhet  Dep  Regnskap HIÅ  \n",
       "8447   Arbeids- og velferdsetaten (NAV)    6  1.506300e+04  \n",
       "8494   Arbeids- og velferdsetaten (NAV)    6  2.218644e+06  \n",
       "8770   Arbeids- og velferdsetaten (NAV)    6  2.446464e+09  \n",
       "8772   Arbeids- og velferdsetaten (NAV)    6  4.847839e+08  \n",
       "8773   Arbeids- og velferdsetaten (NAV)    6  2.555505e+07  \n",
       "8774   Arbeids- og velferdsetaten (NAV)    6  1.996006e+07  \n",
       "8775   Arbeids- og velferdsetaten (NAV)    6  4.708281e+06  \n",
       "9004   Arbeids- og velferdsetaten (NAV)    6  2.041169e+07  \n",
       "9005   Arbeids- og velferdsetaten (NAV)    6  5.590676e+07  \n",
       "9007   Arbeids- og velferdsetaten (NAV)    6  7.961612e+08  \n",
       "9008   Arbeids- og velferdsetaten (NAV)    6  1.044506e+08  \n",
       "9078   Arbeids- og velferdsetaten (NAV)    6  3.352936e+09  \n",
       "9079   Arbeids- og velferdsetaten (NAV)    6  3.207182e+08  \n",
       "9080   Arbeids- og velferdsetaten (NAV)    6  5.889908e+08  \n",
       "9081   Arbeids- og velferdsetaten (NAV)    6  5.461516e+07  \n",
       "9082   Arbeids- og velferdsetaten (NAV)    6  2.551918e+07  \n",
       "9083   Arbeids- og velferdsetaten (NAV)    6  1.565249e+04  \n",
       "9085   Arbeids- og velferdsetaten (NAV)    6  1.127891e+10  \n",
       "9086   Arbeids- og velferdsetaten (NAV)    6  4.422950e+08  \n",
       "9087   Arbeids- og velferdsetaten (NAV)    6  2.550951e+08  \n",
       "9088   Arbeids- og velferdsetaten (NAV)    6  8.318986e+07  \n",
       "9089   Arbeids- og velferdsetaten (NAV)    6  1.807232e+06  \n",
       "9090   Arbeids- og velferdsetaten (NAV)    6  9.877353e+09  \n",
       "9091   Arbeids- og velferdsetaten (NAV)    6  6.548755e+07  \n",
       "9094   Arbeids- og velferdsetaten (NAV)    6  7.672643e+07  \n",
       "9098   Arbeids- og velferdsetaten (NAV)    6  3.064053e+10  \n",
       "9099   Arbeids- og velferdsetaten (NAV)    6  2.214881e+07  \n",
       "9100   Arbeids- og velferdsetaten (NAV)    6  1.395228e+07  \n",
       "9101   Arbeids- og velferdsetaten (NAV)    6  5.982578e+08  \n",
       "9102   Arbeids- og velferdsetaten (NAV)    6  5.071947e+08  \n",
       "...                                 ...  ...           ...  \n",
       "9143   Arbeids- og velferdsetaten (NAV)    6 -1.852928e+06  \n",
       "9144   Arbeids- og velferdsetaten (NAV)    6 -3.521311e+06  \n",
       "9164   Arbeids- og velferdsetaten (NAV)    6 -7.820240e+03  \n",
       "9169   Arbeids- og velferdsetaten (NAV)    6 -1.054676e+06  \n",
       "9172   Arbeids- og velferdsetaten (NAV)    6 -1.596281e+07  \n",
       "9174   Arbeids- og velferdsetaten (NAV)    6 -5.352250e+07  \n",
       "9655   Arbeids- og velferdsetaten (NAV)    6  4.580069e+08  \n",
       "11294  Arbeids- og velferdsetaten (NAV)    6  3.956940e+08  \n",
       "11296  Arbeids- og velferdsetaten (NAV)    6  6.062507e+07  \n",
       "11299  Arbeids- og velferdsetaten (NAV)    6  3.526130e+08  \n",
       "11304  Arbeids- og velferdsetaten (NAV)    6  1.427497e+08  \n",
       "11308  Arbeids- og velferdsetaten (NAV)    6  4.422827e+06  \n",
       "11313  Arbeids- og velferdsetaten (NAV)    6  1.264482e+06  \n",
       "11322  Arbeids- og velferdsetaten (NAV)    6  3.954439e+08  \n",
       "11328  Arbeids- og velferdsetaten (NAV)    6  7.562050e+07  \n",
       "11333  Arbeids- og velferdsetaten (NAV)    6  1.460137e+08  \n",
       "11336  Arbeids- og velferdsetaten (NAV)    6  8.942489e+08  \n",
       "11341  Arbeids- og velferdsetaten (NAV)    6  2.033031e+08  \n",
       "11346  Arbeids- og velferdsetaten (NAV)    6  9.121062e+06  \n",
       "11348  Arbeids- og velferdsetaten (NAV)    6  2.862334e+07  \n",
       "11351  Arbeids- og velferdsetaten (NAV)    6  2.323661e+07  \n",
       "11361  Arbeids- og velferdsetaten (NAV)    6  4.294242e+07  \n",
       "11365  Arbeids- og velferdsetaten (NAV)    6  8.070344e+06  \n",
       "11630  Arbeids- og velferdsetaten (NAV)    6  5.003961e+08  \n",
       "11631  Arbeids- og velferdsetaten (NAV)    6  5.132805e+09  \n",
       "12344  Arbeids- og velferdsetaten (NAV)    6  5.105945e+09  \n",
       "12345  Arbeids- og velferdsetaten (NAV)    6  2.973970e+08  \n",
       "12346  Arbeids- og velferdsetaten (NAV)    6  9.720300e+04  \n",
       "12347  Arbeids- og velferdsetaten (NAV)    6  1.272619e+07  \n",
       "18344  Arbeids- og velferdsetaten (NAV)    6  5.306243e+06  \n",
       "\n",
       "[78 rows x 14 columns]"
      ]
     },
     "execution_count": 33,
     "metadata": {},
     "output_type": "execute_result"
    }
   ],
   "source": [
    "nav_hushold"
   ]
  },
  {
   "cell_type": "code",
   "execution_count": 34,
   "metadata": {},
   "outputs": [
    {
     "data": {
      "application/vnd.plotly.v1+json": {
       "config": {
        "linkText": "Export to plot.ly",
        "plotlyServerURL": "https://plot.ly",
        "showLink": false
       },
       "data": [
        {
         "alignmentgroup": "True",
         "hoverlabel": {
          "namelength": 0
         },
         "hovertemplate": "Kaptekst=%{x}<br>Regnskap HIÅ=%{y}",
         "legendgroup": "",
         "marker": {
          "color": "#C30000"
         },
         "name": "",
         "offsetgroup": "",
         "orientation": "v",
         "showlegend": false,
         "textposition": "auto",
         "type": "bar",
         "uid": "1087b677-43d6-4aeb-82b2-d36a6e1d6f41",
         "x": [
          "Arbeids- og velferdsetaten",
          "Arbeids- og velferdsetaten",
          "Arbeidsmarkedstiltak",
          "Arbeidsmarkedstiltak",
          "Arbeidsmarkedstiltak",
          "Arbeidsmarkedstiltak",
          "Ventelønn",
          "Krigspensjon",
          "Krigspensjon",
          "Avtalefestet pensjon (AFP)",
          "Supplerende stønad til personer over 67 år",
          "Dagpenger",
          "Statsgaranti for lønnskrav ved konkurs mv.",
          "Stønad til enslig mor eller far",
          "Stønad til enslig mor eller far",
          "Stønad til enslig mor eller far",
          "Stønad til enslig mor eller far",
          "Sykepenger",
          "Sykepenger",
          "Sykepenger",
          "Sykepenger",
          "Sykepenger",
          "Arbeidsavklaringspenger",
          "Arbeidsavklaringspenger",
          "Arbeidsavklaringspenger",
          "Uførhet",
          "Uførhet",
          "Uførhet",
          "Grunn- og hjelpestønad, hjelpemidler mv.",
          "Grunn- og hjelpestønad, hjelpemidler mv.",
          "Grunn- og hjelpestønad, hjelpemidler mv.",
          "Grunn- og hjelpestønad, hjelpemidler mv.",
          "Grunn- og hjelpestønad, hjelpemidler mv.",
          "Grunn- og hjelpestønad, hjelpemidler mv.",
          "Grunn- og hjelpestønad, hjelpemidler mv.",
          "Grunn- og hjelpestønad, hjelpemidler mv.",
          "Grunn- og hjelpestønad, hjelpemidler mv.",
          "Grunn- og hjelpestønad, hjelpemidler mv.",
          "Alderdom",
          "Alderdom",
          "Alderdom",
          "Alderdom",
          "Etterlatte",
          "Etterlatte",
          "Etterlatte",
          "Etterlatte",
          "Etterlatte",
          "Stønad ved gravferd",
          "Arbeidsmarkedstiltak",
          "Ventelønn mv.",
          "Diverse inntekter",
          "Diverse inntekter",
          "Diverse inntekter",
          "Statsgaranti for lønnskrav ved konkurs",
          "Regionale helseforetak",
          "Spesialisthelsetjeneste mv.",
          "Spesialisthelsetjeneste mv.",
          "Spesialisthelsetjeneste mv.",
          "Spesialisthelsetjeneste mv.",
          "Legemidler mv.",
          "Legemidler mv.",
          "Refusjon av egenbetaling",
          "Refusjon av egenbetaling",
          "Helsetjenester i kommunene mv.",
          "Helsetjenester i kommunene mv.",
          "Helsetjenester i kommunene mv.",
          "Helsetjenester i kommunene mv.",
          "Helsetjenester i kommunene mv.",
          "Helsetjenester i kommunene mv.",
          "Andre helsetjenester",
          "Andre helsetiltak",
          "Kontantstøtte",
          "Barnetrygd",
          "Foreldrepenger",
          "Foreldrepenger",
          "Foreldrepenger",
          "Foreldrepenger",
          "Folketrygdens inntekter"
         ],
         "xaxis": "x",
         "y": [
          15063,
          2218643.5,
          2446463594.72,
          484783894.28,
          25555047.96,
          19960063,
          4708281.13,
          20411691,
          55906758,
          796161206,
          104450623,
          3352936239.23,
          320718153.47,
          588990793,
          54615157,
          25519176,
          15652.49,
          11278910109,
          442295023,
          255095091,
          83189859.28,
          1807232,
          9877353016.3,
          65487548.35,
          76726427.31,
          30640525857,
          22148813,
          13952279,
          598257803,
          507194701,
          107244.84,
          42547397.41,
          239172412.96,
          1085555513.32,
          105381396.86,
          511332013.68,
          243875195.51,
          12453010.48,
          24686034519,
          48091928934,
          705859258,
          2012709589,
          364572234,
          272120300,
          27605378,
          64306,
          1859762,
          65462984,
          -1852927.77,
          -3521311.23,
          -7820.24,
          -1054676.41,
          -15962810.17,
          -53522503.03,
          458006933.99,
          395694046.2,
          60625066,
          352613015.3,
          142749739.68,
          4422827,
          1264482,
          395443924.87,
          75620504.83,
          146013733,
          894248939.6,
          203303125,
          9121062,
          28623345,
          23236605.94,
          42942418.52,
          8070344.07,
          500396080,
          5132805188,
          5105944779,
          297397014,
          97203,
          12726190,
          5306243
         ],
         "yaxis": "y"
        }
       ],
       "layout": {
        "barmode": "relative",
        "grid": {
         "xaxes": [
          "x"
         ],
         "xgap": 0.1,
         "xside": "bottom",
         "yaxes": [
          "y"
         ],
         "ygap": 0.1,
         "yside": "left"
        },
        "legend": {
         "tracegroupgap": 0
        },
        "template": {
         "data": {
          "bar": [
           {
            "marker": {
             "line": {
              "color": "white",
              "width": 0.5
             }
            },
            "type": "bar"
           }
          ],
          "barpolar": [
           {
            "marker": {
             "line": {
              "color": "white",
              "width": 0.5
             }
            },
            "type": "barpolar"
           }
          ],
          "carpet": [
           {
            "aaxis": {
             "endlinecolor": "#2a3f5f",
             "gridcolor": "#C8D4E3",
             "linecolor": "#C8D4E3",
             "minorgridcolor": "#C8D4E3",
             "startlinecolor": "#2a3f5f"
            },
            "baxis": {
             "endlinecolor": "#2a3f5f",
             "gridcolor": "#C8D4E3",
             "linecolor": "#C8D4E3",
             "minorgridcolor": "#C8D4E3",
             "startlinecolor": "#2a3f5f"
            },
            "type": "carpet"
           }
          ],
          "choropleth": [
           {
            "colorbar": {
             "outlinewidth": 0,
             "ticks": ""
            },
            "type": "choropleth"
           }
          ],
          "contour": [
           {
            "colorbar": {
             "outlinewidth": 0,
             "ticks": ""
            },
            "colorscale": [
             [
              0,
              "#0508b8"
             ],
             [
              0.0893854748603352,
              "#1910d8"
             ],
             [
              0.1787709497206704,
              "#3c19f0"
             ],
             [
              0.2681564245810056,
              "#6b1cfb"
             ],
             [
              0.3575418994413408,
              "#981cfd"
             ],
             [
              0.44692737430167595,
              "#bf1cfd"
             ],
             [
              0.5363128491620112,
              "#dd2bfd"
             ],
             [
              0.6256983240223464,
              "#f246fe"
             ],
             [
              0.7150837988826816,
              "#fc67fd"
             ],
             [
              0.8044692737430168,
              "#fe88fc"
             ],
             [
              0.8938547486033519,
              "#fea5fd"
             ],
             [
              0.9832402234636871,
              "#febefe"
             ],
             [
              1,
              "#fec3fe"
             ]
            ],
            "type": "contour"
           }
          ],
          "contourcarpet": [
           {
            "colorbar": {
             "outlinewidth": 0,
             "ticks": ""
            },
            "type": "contourcarpet"
           }
          ],
          "heatmap": [
           {
            "colorbar": {
             "outlinewidth": 0,
             "ticks": ""
            },
            "colorscale": [
             [
              0,
              "#0508b8"
             ],
             [
              0.0893854748603352,
              "#1910d8"
             ],
             [
              0.1787709497206704,
              "#3c19f0"
             ],
             [
              0.2681564245810056,
              "#6b1cfb"
             ],
             [
              0.3575418994413408,
              "#981cfd"
             ],
             [
              0.44692737430167595,
              "#bf1cfd"
             ],
             [
              0.5363128491620112,
              "#dd2bfd"
             ],
             [
              0.6256983240223464,
              "#f246fe"
             ],
             [
              0.7150837988826816,
              "#fc67fd"
             ],
             [
              0.8044692737430168,
              "#fe88fc"
             ],
             [
              0.8938547486033519,
              "#fea5fd"
             ],
             [
              0.9832402234636871,
              "#febefe"
             ],
             [
              1,
              "#fec3fe"
             ]
            ],
            "type": "heatmap"
           }
          ],
          "heatmapgl": [
           {
            "colorbar": {
             "outlinewidth": 0,
             "ticks": ""
            },
            "type": "heatmapgl"
           }
          ],
          "histogram": [
           {
            "marker": {
             "colorbar": {
              "outlinewidth": 0,
              "ticks": ""
             }
            },
            "type": "histogram"
           }
          ],
          "histogram2d": [
           {
            "colorbar": {
             "outlinewidth": 0,
             "ticks": ""
            },
            "colorscale": [
             [
              0,
              "#0508b8"
             ],
             [
              0.0893854748603352,
              "#1910d8"
             ],
             [
              0.1787709497206704,
              "#3c19f0"
             ],
             [
              0.2681564245810056,
              "#6b1cfb"
             ],
             [
              0.3575418994413408,
              "#981cfd"
             ],
             [
              0.44692737430167595,
              "#bf1cfd"
             ],
             [
              0.5363128491620112,
              "#dd2bfd"
             ],
             [
              0.6256983240223464,
              "#f246fe"
             ],
             [
              0.7150837988826816,
              "#fc67fd"
             ],
             [
              0.8044692737430168,
              "#fe88fc"
             ],
             [
              0.8938547486033519,
              "#fea5fd"
             ],
             [
              0.9832402234636871,
              "#febefe"
             ],
             [
              1,
              "#fec3fe"
             ]
            ],
            "type": "histogram2d"
           }
          ],
          "histogram2dcontour": [
           {
            "colorbar": {
             "outlinewidth": 0,
             "ticks": ""
            },
            "colorscale": [
             [
              0,
              "#0508b8"
             ],
             [
              0.0893854748603352,
              "#1910d8"
             ],
             [
              0.1787709497206704,
              "#3c19f0"
             ],
             [
              0.2681564245810056,
              "#6b1cfb"
             ],
             [
              0.3575418994413408,
              "#981cfd"
             ],
             [
              0.44692737430167595,
              "#bf1cfd"
             ],
             [
              0.5363128491620112,
              "#dd2bfd"
             ],
             [
              0.6256983240223464,
              "#f246fe"
             ],
             [
              0.7150837988826816,
              "#fc67fd"
             ],
             [
              0.8044692737430168,
              "#fe88fc"
             ],
             [
              0.8938547486033519,
              "#fea5fd"
             ],
             [
              0.9832402234636871,
              "#febefe"
             ],
             [
              1,
              "#fec3fe"
             ]
            ],
            "type": "histogram2dcontour"
           }
          ],
          "mesh3d": [
           {
            "colorbar": {
             "outlinewidth": 0,
             "ticks": ""
            },
            "type": "mesh3d"
           }
          ],
          "parcoords": [
           {
            "line": {
             "colorbar": {
              "outlinewidth": 0,
              "ticks": ""
             }
            },
            "type": "parcoords"
           }
          ],
          "scatter": [
           {
            "marker": {
             "colorbar": {
              "outlinewidth": 0,
              "ticks": ""
             }
            },
            "type": "scatter"
           }
          ],
          "scatter3d": [
           {
            "marker": {
             "colorbar": {
              "outlinewidth": 0,
              "ticks": ""
             }
            },
            "type": "scatter3d"
           }
          ],
          "scattercarpet": [
           {
            "marker": {
             "colorbar": {
              "outlinewidth": 0,
              "ticks": ""
             }
            },
            "type": "scattercarpet"
           }
          ],
          "scattergeo": [
           {
            "marker": {
             "colorbar": {
              "outlinewidth": 0,
              "ticks": ""
             }
            },
            "type": "scattergeo"
           }
          ],
          "scattergl": [
           {
            "marker": {
             "colorbar": {
              "outlinewidth": 0,
              "ticks": ""
             }
            },
            "type": "scattergl"
           }
          ],
          "scattermapbox": [
           {
            "marker": {
             "colorbar": {
              "outlinewidth": 0,
              "ticks": ""
             }
            },
            "type": "scattermapbox"
           }
          ],
          "scatterpolar": [
           {
            "marker": {
             "colorbar": {
              "outlinewidth": 0,
              "ticks": ""
             }
            },
            "type": "scatterpolar"
           }
          ],
          "scatterpolargl": [
           {
            "marker": {
             "colorbar": {
              "outlinewidth": 0,
              "ticks": ""
             }
            },
            "type": "scatterpolargl"
           }
          ],
          "scatterternary": [
           {
            "marker": {
             "colorbar": {
              "outlinewidth": 0,
              "ticks": ""
             }
            },
            "type": "scatterternary"
           }
          ],
          "surface": [
           {
            "colorbar": {
             "outlinewidth": 0,
             "ticks": ""
            },
            "type": "surface"
           }
          ],
          "table": [
           {
            "cells": {
             "fill": {
              "color": "#EBF0F8"
             },
             "line": {
              "color": "white"
             }
            },
            "header": {
             "fill": {
              "color": "#C8D4E3"
             },
             "line": {
              "color": "white"
             }
            },
            "type": "table"
           }
          ]
         },
         "layout": {
          "annotationdefaults": {
           "arrowcolor": "#506784",
           "arrowhead": 0,
           "arrowwidth": 1
          },
          "colorscale": {
           "diverging": [
            [
             0,
             "#8e0152"
            ],
            [
             0.1,
             "#c51b7d"
            ],
            [
             0.2,
             "#de77ae"
            ],
            [
             0.3,
             "#f1b6da"
            ],
            [
             0.4,
             "#fde0ef"
            ],
            [
             0.5,
             "#f7f7f7"
            ],
            [
             0.6,
             "#e6f5d0"
            ],
            [
             0.7,
             "#b8e186"
            ],
            [
             0.8,
             "#7fbc41"
            ],
            [
             0.9,
             "#4d9221"
            ],
            [
             1,
             "#276419"
            ]
           ],
           "sequential": [
            [
             0,
             "#0508b8"
            ],
            [
             0.0893854748603352,
             "#1910d8"
            ],
            [
             0.1787709497206704,
             "#3c19f0"
            ],
            [
             0.2681564245810056,
             "#6b1cfb"
            ],
            [
             0.3575418994413408,
             "#981cfd"
            ],
            [
             0.44692737430167595,
             "#bf1cfd"
            ],
            [
             0.5363128491620112,
             "#dd2bfd"
            ],
            [
             0.6256983240223464,
             "#f246fe"
            ],
            [
             0.7150837988826816,
             "#fc67fd"
            ],
            [
             0.8044692737430168,
             "#fe88fc"
            ],
            [
             0.8938547486033519,
             "#fea5fd"
            ],
            [
             0.9832402234636871,
             "#febefe"
            ],
            [
             1,
             "#fec3fe"
            ]
           ],
           "sequentialminus": [
            [
             0,
             "#0508b8"
            ],
            [
             0.0893854748603352,
             "#1910d8"
            ],
            [
             0.1787709497206704,
             "#3c19f0"
            ],
            [
             0.2681564245810056,
             "#6b1cfb"
            ],
            [
             0.3575418994413408,
             "#981cfd"
            ],
            [
             0.44692737430167595,
             "#bf1cfd"
            ],
            [
             0.5363128491620112,
             "#dd2bfd"
            ],
            [
             0.6256983240223464,
             "#f246fe"
            ],
            [
             0.7150837988826816,
             "#fc67fd"
            ],
            [
             0.8044692737430168,
             "#fe88fc"
            ],
            [
             0.8938547486033519,
             "#fea5fd"
            ],
            [
             0.9832402234636871,
             "#febefe"
            ],
            [
             1,
             "#fec3fe"
            ]
           ]
          },
          "colorway": [
           "#636efa",
           "#EF553B",
           "#00cc96",
           "#ab63fa",
           "#19d3f3",
           "#e763fa",
           "#FECB52",
           "#FFA15A",
           "#FF6692",
           "#B6E880"
          ],
          "font": {
           "color": "#2a3f5f"
          },
          "geo": {
           "bgcolor": "white",
           "lakecolor": "white",
           "landcolor": "white",
           "showlakes": true,
           "showland": true,
           "subunitcolor": "#C8D4E3"
          },
          "hoverlabel": {
           "align": "left"
          },
          "hovermode": "closest",
          "mapbox": {
           "style": "light"
          },
          "paper_bgcolor": "white",
          "plot_bgcolor": "white",
          "polar": {
           "angularaxis": {
            "gridcolor": "#EBF0F8",
            "linecolor": "#EBF0F8",
            "ticks": ""
           },
           "bgcolor": "white",
           "radialaxis": {
            "gridcolor": "#EBF0F8",
            "linecolor": "#EBF0F8",
            "ticks": ""
           }
          },
          "scene": {
           "xaxis": {
            "backgroundcolor": "white",
            "gridcolor": "#DFE8F3",
            "gridwidth": 2,
            "linecolor": "#EBF0F8",
            "showbackground": true,
            "ticks": "",
            "zerolinecolor": "#EBF0F8"
           },
           "yaxis": {
            "backgroundcolor": "white",
            "gridcolor": "#DFE8F3",
            "gridwidth": 2,
            "linecolor": "#EBF0F8",
            "showbackground": true,
            "ticks": "",
            "zerolinecolor": "#EBF0F8"
           },
           "zaxis": {
            "backgroundcolor": "white",
            "gridcolor": "#DFE8F3",
            "gridwidth": 2,
            "linecolor": "#EBF0F8",
            "showbackground": true,
            "ticks": "",
            "zerolinecolor": "#EBF0F8"
           }
          },
          "shapedefaults": {
           "fillcolor": "#506784",
           "line": {
            "width": 0
           },
           "opacity": 0.4
          },
          "ternary": {
           "aaxis": {
            "gridcolor": "#DFE8F3",
            "linecolor": "#A2B1C6",
            "ticks": ""
           },
           "baxis": {
            "gridcolor": "#DFE8F3",
            "linecolor": "#A2B1C6",
            "ticks": ""
           },
           "bgcolor": "white",
           "caxis": {
            "gridcolor": "#DFE8F3",
            "linecolor": "#A2B1C6",
            "ticks": ""
           }
          },
          "title": {
           "x": 0.05
          },
          "xaxis": {
           "automargin": true,
           "gridcolor": "#EBF0F8",
           "linecolor": "#EBF0F8",
           "ticks": "",
           "zerolinecolor": "#EBF0F8",
           "zerolinewidth": 2
          },
          "yaxis": {
           "automargin": true,
           "gridcolor": "#EBF0F8",
           "linecolor": "#EBF0F8",
           "ticks": "",
           "zerolinecolor": "#EBF0F8",
           "zerolinewidth": 2
          }
         }
        },
        "title": {
         "text": "NAV"
        },
        "xaxis": {
         "title": {
          "text": "Kaptekst"
         }
        },
        "yaxis": {
         "title": {
          "text": "Regnskap HIÅ"
         }
        }
       }
      },
      "text/html": [
       "<div>\n",
       "        \n",
       "        \n",
       "            <div id=\"76061fd1-9813-4932-bcb5-d5b79c26b145\" class=\"plotly-graph-div\" style=\"height:525px; width:100%;\"></div>\n",
       "            <script type=\"text/javascript\">\n",
       "                require([\"plotly\"], function(Plotly) {\n",
       "                    window.PLOTLYENV=window.PLOTLYENV || {};\n",
       "                    window.PLOTLYENV.BASE_URL='https://plot.ly';\n",
       "                    \n",
       "                if (document.getElementById(\"76061fd1-9813-4932-bcb5-d5b79c26b145\")) {\n",
       "                    Plotly.newPlot(\n",
       "                        '76061fd1-9813-4932-bcb5-d5b79c26b145',\n",
       "                        [{\"alignmentgroup\": \"True\", \"hoverlabel\": {\"namelength\": 0}, \"hovertemplate\": \"Kaptekst=%{x}<br>Regnskap HI\\u00c5=%{y}\", \"legendgroup\": \"\", \"marker\": {\"color\": \"#C30000\"}, \"name\": \"\", \"offsetgroup\": \"\", \"orientation\": \"v\", \"showlegend\": false, \"textposition\": \"auto\", \"type\": \"bar\", \"uid\": \"1087b677-43d6-4aeb-82b2-d36a6e1d6f41\", \"x\": [\"Arbeids- og velferdsetaten\", \"Arbeids- og velferdsetaten\", \"Arbeidsmarkedstiltak\", \"Arbeidsmarkedstiltak\", \"Arbeidsmarkedstiltak\", \"Arbeidsmarkedstiltak\", \"Ventel\\u00f8nn\", \"Krigspensjon\", \"Krigspensjon\", \"Avtalefestet pensjon (AFP)\", \"Supplerende st\\u00f8nad til personer over 67 \\u00e5r\", \"Dagpenger\", \"Statsgaranti for l\\u00f8nnskrav ved konkurs mv.\", \"St\\u00f8nad til enslig mor eller far\", \"St\\u00f8nad til enslig mor eller far\", \"St\\u00f8nad til enslig mor eller far\", \"St\\u00f8nad til enslig mor eller far\", \"Sykepenger\", \"Sykepenger\", \"Sykepenger\", \"Sykepenger\", \"Sykepenger\", \"Arbeidsavklaringspenger\", \"Arbeidsavklaringspenger\", \"Arbeidsavklaringspenger\", \"Uf\\u00f8rhet\", \"Uf\\u00f8rhet\", \"Uf\\u00f8rhet\", \"Grunn- og hjelpest\\u00f8nad, hjelpemidler mv.\", \"Grunn- og hjelpest\\u00f8nad, hjelpemidler mv.\", \"Grunn- og hjelpest\\u00f8nad, hjelpemidler mv.\", \"Grunn- og hjelpest\\u00f8nad, hjelpemidler mv.\", \"Grunn- og hjelpest\\u00f8nad, hjelpemidler mv.\", \"Grunn- og hjelpest\\u00f8nad, hjelpemidler mv.\", \"Grunn- og hjelpest\\u00f8nad, hjelpemidler mv.\", \"Grunn- og hjelpest\\u00f8nad, hjelpemidler mv.\", \"Grunn- og hjelpest\\u00f8nad, hjelpemidler mv.\", \"Grunn- og hjelpest\\u00f8nad, hjelpemidler mv.\", \"Alderdom\", \"Alderdom\", \"Alderdom\", \"Alderdom\", \"Etterlatte\", \"Etterlatte\", \"Etterlatte\", \"Etterlatte\", \"Etterlatte\", \"St\\u00f8nad ved gravferd\", \"Arbeidsmarkedstiltak\", \"Ventel\\u00f8nn mv.\", \"Diverse inntekter\", \"Diverse inntekter\", \"Diverse inntekter\", \"Statsgaranti for l\\u00f8nnskrav ved konkurs\", \"Regionale helseforetak\", \"Spesialisthelsetjeneste mv.\", \"Spesialisthelsetjeneste mv.\", \"Spesialisthelsetjeneste mv.\", \"Spesialisthelsetjeneste mv.\", \"Legemidler mv.\", \"Legemidler mv.\", \"Refusjon av egenbetaling\", \"Refusjon av egenbetaling\", \"Helsetjenester i kommunene mv.\", \"Helsetjenester i kommunene mv.\", \"Helsetjenester i kommunene mv.\", \"Helsetjenester i kommunene mv.\", \"Helsetjenester i kommunene mv.\", \"Helsetjenester i kommunene mv.\", \"Andre helsetjenester\", \"Andre helsetiltak\", \"Kontantst\\u00f8tte\", \"Barnetrygd\", \"Foreldrepenger\", \"Foreldrepenger\", \"Foreldrepenger\", \"Foreldrepenger\", \"Folketrygdens inntekter\"], \"xaxis\": \"x\", \"y\": [15063.0, 2218643.5, 2446463594.72, 484783894.28, 25555047.96, 19960063.0, 4708281.13, 20411691.0, 55906758.0, 796161206.0, 104450623.0, 3352936239.23, 320718153.47, 588990793.0, 54615157.0, 25519176.0, 15652.49, 11278910109.0, 442295023.0, 255095091.0, 83189859.28, 1807232.0, 9877353016.3, 65487548.35, 76726427.31, 30640525857.0, 22148813.0, 13952279.0, 598257803.0, 507194701.0, 107244.84, 42547397.41, 239172412.96, 1085555513.32, 105381396.86, 511332013.68, 243875195.51, 12453010.48, 24686034519.0, 48091928934.0, 705859258.0, 2012709589.0, 364572234.0, 272120300.0, 27605378.0, 64306.0, 1859762.0, 65462984.0, -1852927.77, -3521311.23, -7820.24, -1054676.41, -15962810.17, -53522503.03, 458006933.99, 395694046.2, 60625066.0, 352613015.3, 142749739.68, 4422827.0, 1264482.0, 395443924.87, 75620504.83, 146013733.0, 894248939.6, 203303125.0, 9121062.0, 28623345.0, 23236605.94, 42942418.52, 8070344.07, 500396080.0, 5132805188.0, 5105944779.0, 297397014.0, 97203.0, 12726190.0, 5306243.0], \"yaxis\": \"y\"}],\n",
       "                        {\"barmode\": \"relative\", \"grid\": {\"xaxes\": [\"x\"], \"xgap\": 0.1, \"xside\": \"bottom\", \"yaxes\": [\"y\"], \"ygap\": 0.1, \"yside\": \"left\"}, \"legend\": {\"tracegroupgap\": 0}, \"template\": {\"data\": {\"bar\": [{\"marker\": {\"line\": {\"color\": \"white\", \"width\": 0.5}}, \"type\": \"bar\"}], \"barpolar\": [{\"marker\": {\"line\": {\"color\": \"white\", \"width\": 0.5}}, \"type\": \"barpolar\"}], \"carpet\": [{\"aaxis\": {\"endlinecolor\": \"#2a3f5f\", \"gridcolor\": \"#C8D4E3\", \"linecolor\": \"#C8D4E3\", \"minorgridcolor\": \"#C8D4E3\", \"startlinecolor\": \"#2a3f5f\"}, \"baxis\": {\"endlinecolor\": \"#2a3f5f\", \"gridcolor\": \"#C8D4E3\", \"linecolor\": \"#C8D4E3\", \"minorgridcolor\": \"#C8D4E3\", \"startlinecolor\": \"#2a3f5f\"}, \"type\": \"carpet\"}], \"choropleth\": [{\"colorbar\": {\"outlinewidth\": 0, \"ticks\": \"\"}, \"type\": \"choropleth\"}], \"contour\": [{\"colorbar\": {\"outlinewidth\": 0, \"ticks\": \"\"}, \"colorscale\": [[0.0, \"#0508b8\"], [0.0893854748603352, \"#1910d8\"], [0.1787709497206704, \"#3c19f0\"], [0.2681564245810056, \"#6b1cfb\"], [0.3575418994413408, \"#981cfd\"], [0.44692737430167595, \"#bf1cfd\"], [0.5363128491620112, \"#dd2bfd\"], [0.6256983240223464, \"#f246fe\"], [0.7150837988826816, \"#fc67fd\"], [0.8044692737430168, \"#fe88fc\"], [0.8938547486033519, \"#fea5fd\"], [0.9832402234636871, \"#febefe\"], [1.0, \"#fec3fe\"]], \"type\": \"contour\"}], \"contourcarpet\": [{\"colorbar\": {\"outlinewidth\": 0, \"ticks\": \"\"}, \"type\": \"contourcarpet\"}], \"heatmap\": [{\"colorbar\": {\"outlinewidth\": 0, \"ticks\": \"\"}, \"colorscale\": [[0.0, \"#0508b8\"], [0.0893854748603352, \"#1910d8\"], [0.1787709497206704, \"#3c19f0\"], [0.2681564245810056, \"#6b1cfb\"], [0.3575418994413408, \"#981cfd\"], [0.44692737430167595, \"#bf1cfd\"], [0.5363128491620112, \"#dd2bfd\"], [0.6256983240223464, \"#f246fe\"], [0.7150837988826816, \"#fc67fd\"], [0.8044692737430168, \"#fe88fc\"], [0.8938547486033519, \"#fea5fd\"], [0.9832402234636871, \"#febefe\"], [1.0, \"#fec3fe\"]], \"type\": \"heatmap\"}], \"heatmapgl\": [{\"colorbar\": {\"outlinewidth\": 0, \"ticks\": \"\"}, \"type\": \"heatmapgl\"}], \"histogram\": [{\"marker\": {\"colorbar\": {\"outlinewidth\": 0, \"ticks\": \"\"}}, \"type\": \"histogram\"}], \"histogram2d\": [{\"colorbar\": {\"outlinewidth\": 0, \"ticks\": \"\"}, \"colorscale\": [[0.0, \"#0508b8\"], [0.0893854748603352, \"#1910d8\"], [0.1787709497206704, \"#3c19f0\"], [0.2681564245810056, \"#6b1cfb\"], [0.3575418994413408, \"#981cfd\"], [0.44692737430167595, \"#bf1cfd\"], [0.5363128491620112, \"#dd2bfd\"], [0.6256983240223464, \"#f246fe\"], [0.7150837988826816, \"#fc67fd\"], [0.8044692737430168, \"#fe88fc\"], [0.8938547486033519, \"#fea5fd\"], [0.9832402234636871, \"#febefe\"], [1.0, \"#fec3fe\"]], \"type\": \"histogram2d\"}], \"histogram2dcontour\": [{\"colorbar\": {\"outlinewidth\": 0, \"ticks\": \"\"}, \"colorscale\": [[0.0, \"#0508b8\"], [0.0893854748603352, \"#1910d8\"], [0.1787709497206704, \"#3c19f0\"], [0.2681564245810056, \"#6b1cfb\"], [0.3575418994413408, \"#981cfd\"], [0.44692737430167595, \"#bf1cfd\"], [0.5363128491620112, \"#dd2bfd\"], [0.6256983240223464, \"#f246fe\"], [0.7150837988826816, \"#fc67fd\"], [0.8044692737430168, \"#fe88fc\"], [0.8938547486033519, \"#fea5fd\"], [0.9832402234636871, \"#febefe\"], [1.0, \"#fec3fe\"]], \"type\": \"histogram2dcontour\"}], \"mesh3d\": [{\"colorbar\": {\"outlinewidth\": 0, \"ticks\": \"\"}, \"type\": \"mesh3d\"}], \"parcoords\": [{\"line\": {\"colorbar\": {\"outlinewidth\": 0, \"ticks\": \"\"}}, \"type\": \"parcoords\"}], \"scatter\": [{\"marker\": {\"colorbar\": {\"outlinewidth\": 0, \"ticks\": \"\"}}, \"type\": \"scatter\"}], \"scatter3d\": [{\"marker\": {\"colorbar\": {\"outlinewidth\": 0, \"ticks\": \"\"}}, \"type\": \"scatter3d\"}], \"scattercarpet\": [{\"marker\": {\"colorbar\": {\"outlinewidth\": 0, \"ticks\": \"\"}}, \"type\": \"scattercarpet\"}], \"scattergeo\": [{\"marker\": {\"colorbar\": {\"outlinewidth\": 0, \"ticks\": \"\"}}, \"type\": \"scattergeo\"}], \"scattergl\": [{\"marker\": {\"colorbar\": {\"outlinewidth\": 0, \"ticks\": \"\"}}, \"type\": \"scattergl\"}], \"scattermapbox\": [{\"marker\": {\"colorbar\": {\"outlinewidth\": 0, \"ticks\": \"\"}}, \"type\": \"scattermapbox\"}], \"scatterpolar\": [{\"marker\": {\"colorbar\": {\"outlinewidth\": 0, \"ticks\": \"\"}}, \"type\": \"scatterpolar\"}], \"scatterpolargl\": [{\"marker\": {\"colorbar\": {\"outlinewidth\": 0, \"ticks\": \"\"}}, \"type\": \"scatterpolargl\"}], \"scatterternary\": [{\"marker\": {\"colorbar\": {\"outlinewidth\": 0, \"ticks\": \"\"}}, \"type\": \"scatterternary\"}], \"surface\": [{\"colorbar\": {\"outlinewidth\": 0, \"ticks\": \"\"}, \"type\": \"surface\"}], \"table\": [{\"cells\": {\"fill\": {\"color\": \"#EBF0F8\"}, \"line\": {\"color\": \"white\"}}, \"header\": {\"fill\": {\"color\": \"#C8D4E3\"}, \"line\": {\"color\": \"white\"}}, \"type\": \"table\"}]}, \"layout\": {\"annotationdefaults\": {\"arrowcolor\": \"#506784\", \"arrowhead\": 0, \"arrowwidth\": 1}, \"colorscale\": {\"diverging\": [[0, \"#8e0152\"], [0.1, \"#c51b7d\"], [0.2, \"#de77ae\"], [0.3, \"#f1b6da\"], [0.4, \"#fde0ef\"], [0.5, \"#f7f7f7\"], [0.6, \"#e6f5d0\"], [0.7, \"#b8e186\"], [0.8, \"#7fbc41\"], [0.9, \"#4d9221\"], [1, \"#276419\"]], \"sequential\": [[0.0, \"#0508b8\"], [0.0893854748603352, \"#1910d8\"], [0.1787709497206704, \"#3c19f0\"], [0.2681564245810056, \"#6b1cfb\"], [0.3575418994413408, \"#981cfd\"], [0.44692737430167595, \"#bf1cfd\"], [0.5363128491620112, \"#dd2bfd\"], [0.6256983240223464, \"#f246fe\"], [0.7150837988826816, \"#fc67fd\"], [0.8044692737430168, \"#fe88fc\"], [0.8938547486033519, \"#fea5fd\"], [0.9832402234636871, \"#febefe\"], [1.0, \"#fec3fe\"]], \"sequentialminus\": [[0.0, \"#0508b8\"], [0.0893854748603352, \"#1910d8\"], [0.1787709497206704, \"#3c19f0\"], [0.2681564245810056, \"#6b1cfb\"], [0.3575418994413408, \"#981cfd\"], [0.44692737430167595, \"#bf1cfd\"], [0.5363128491620112, \"#dd2bfd\"], [0.6256983240223464, \"#f246fe\"], [0.7150837988826816, \"#fc67fd\"], [0.8044692737430168, \"#fe88fc\"], [0.8938547486033519, \"#fea5fd\"], [0.9832402234636871, \"#febefe\"], [1.0, \"#fec3fe\"]]}, \"colorway\": [\"#636efa\", \"#EF553B\", \"#00cc96\", \"#ab63fa\", \"#19d3f3\", \"#e763fa\", \"#FECB52\", \"#FFA15A\", \"#FF6692\", \"#B6E880\"], \"font\": {\"color\": \"#2a3f5f\"}, \"geo\": {\"bgcolor\": \"white\", \"lakecolor\": \"white\", \"landcolor\": \"white\", \"showlakes\": true, \"showland\": true, \"subunitcolor\": \"#C8D4E3\"}, \"hoverlabel\": {\"align\": \"left\"}, \"hovermode\": \"closest\", \"mapbox\": {\"style\": \"light\"}, \"paper_bgcolor\": \"white\", \"plot_bgcolor\": \"white\", \"polar\": {\"angularaxis\": {\"gridcolor\": \"#EBF0F8\", \"linecolor\": \"#EBF0F8\", \"ticks\": \"\"}, \"bgcolor\": \"white\", \"radialaxis\": {\"gridcolor\": \"#EBF0F8\", \"linecolor\": \"#EBF0F8\", \"ticks\": \"\"}}, \"scene\": {\"xaxis\": {\"backgroundcolor\": \"white\", \"gridcolor\": \"#DFE8F3\", \"gridwidth\": 2, \"linecolor\": \"#EBF0F8\", \"showbackground\": true, \"ticks\": \"\", \"zerolinecolor\": \"#EBF0F8\"}, \"yaxis\": {\"backgroundcolor\": \"white\", \"gridcolor\": \"#DFE8F3\", \"gridwidth\": 2, \"linecolor\": \"#EBF0F8\", \"showbackground\": true, \"ticks\": \"\", \"zerolinecolor\": \"#EBF0F8\"}, \"zaxis\": {\"backgroundcolor\": \"white\", \"gridcolor\": \"#DFE8F3\", \"gridwidth\": 2, \"linecolor\": \"#EBF0F8\", \"showbackground\": true, \"ticks\": \"\", \"zerolinecolor\": \"#EBF0F8\"}}, \"shapedefaults\": {\"fillcolor\": \"#506784\", \"line\": {\"width\": 0}, \"opacity\": 0.4}, \"ternary\": {\"aaxis\": {\"gridcolor\": \"#DFE8F3\", \"linecolor\": \"#A2B1C6\", \"ticks\": \"\"}, \"baxis\": {\"gridcolor\": \"#DFE8F3\", \"linecolor\": \"#A2B1C6\", \"ticks\": \"\"}, \"bgcolor\": \"white\", \"caxis\": {\"gridcolor\": \"#DFE8F3\", \"linecolor\": \"#A2B1C6\", \"ticks\": \"\"}}, \"title\": {\"x\": 0.05}, \"xaxis\": {\"automargin\": true, \"gridcolor\": \"#EBF0F8\", \"linecolor\": \"#EBF0F8\", \"ticks\": \"\", \"zerolinecolor\": \"#EBF0F8\", \"zerolinewidth\": 2}, \"yaxis\": {\"automargin\": true, \"gridcolor\": \"#EBF0F8\", \"linecolor\": \"#EBF0F8\", \"ticks\": \"\", \"zerolinecolor\": \"#EBF0F8\", \"zerolinewidth\": 2}}}, \"title\": {\"text\": \"NAV\"}, \"xaxis\": {\"title\": {\"text\": \"Kaptekst\"}}, \"yaxis\": {\"title\": {\"text\": \"Regnskap HI\\u00c5\"}}},\n",
       "                        {\"showLink\": false, \"linkText\": \"Export to plot.ly\", \"plotlyServerURL\": \"https://plot.ly\", \"responsive\": true}\n",
       "                    ).then(function(){\n",
       "                            \n",
       "var gd = document.getElementById('76061fd1-9813-4932-bcb5-d5b79c26b145');\n",
       "var x = new MutationObserver(function (mutations, observer) {{\n",
       "        var display = window.getComputedStyle(gd).display;\n",
       "        if (!display || display === 'none') {{\n",
       "            console.log([gd, 'removed!']);\n",
       "            Plotly.purge(gd);\n",
       "            observer.disconnect();\n",
       "        }}\n",
       "}});\n",
       "\n",
       "// Listen for the removal of the full notebook cells\n",
       "var notebookContainer = gd.closest('#notebook-container');\n",
       "if (notebookContainer) {{\n",
       "    x.observe(notebookContainer, {childList: true});\n",
       "}}\n",
       "\n",
       "// Listen for the clearing of the current output cell\n",
       "var outputEl = gd.closest('.output');\n",
       "if (outputEl) {{\n",
       "    x.observe(outputEl, {childList: true});\n",
       "}}\n",
       "\n",
       "                        })\n",
       "                };\n",
       "                });\n",
       "            </script>\n",
       "        </div>"
      ]
     },
     "metadata": {},
     "output_type": "display_data"
    }
   ],
   "source": [
    "px.bar(nav_hushold\n",
    "       , x='Kaptekst'\n",
    "       , y='Regnskap HIÅ'\n",
    "       , template='plotly_white'\n",
    "       , title='NAV'\n",
    "      )"
   ]
  },
  {
   "cell_type": "code",
   "execution_count": 35,
   "metadata": {},
   "outputs": [],
   "source": [
    "sum_kapittel = nav_hushold[nav_hushold['Regnskap HIÅ']>0] \\\n",
    ".sort_values(by='Regnskap HIÅ', ascending=False) \\\n",
    ".groupby(['Kaptekst'])['Regnskap HIÅ'].sum().reset_index()"
   ]
  },
  {
   "cell_type": "code",
   "execution_count": 36,
   "metadata": {},
   "outputs": [
    {
     "data": {
      "text/plain": [
       "0                                       Alderdom\n",
       "1                              Andre helsetiltak\n",
       "2                           Andre helsetjenester\n",
       "3                     Arbeids- og velferdsetaten\n",
       "4                        Arbeidsavklaringspenger\n",
       "5                           Arbeidsmarkedstiltak\n",
       "6                     Avtalefestet pensjon (AFP)\n",
       "7                                     Barnetrygd\n",
       "8                                      Dagpenger\n",
       "9                                     Etterlatte\n",
       "10                       Folketrygdens inntekter\n",
       "11                                Foreldrepenger\n",
       "12      Grunn- og hjelpestønad, hjelpemidler mv.\n",
       "13                Helsetjenester i kommunene mv.\n",
       "14                                 Kontantstøtte\n",
       "15                                  Krigspensjon\n",
       "16                                Legemidler mv.\n",
       "17                      Refusjon av egenbetaling\n",
       "18                        Regionale helseforetak\n",
       "19                   Spesialisthelsetjeneste mv.\n",
       "20    Statsgaranti for lønnskrav ved konkurs mv.\n",
       "21               Stønad til enslig mor eller far\n",
       "22                           Stønad ved gravferd\n",
       "23    Supplerende stønad til personer over 67 år\n",
       "24                                    Sykepenger\n",
       "25                                       Uførhet\n",
       "26                                     Ventelønn\n",
       "Name: Kaptekst, dtype: object"
      ]
     },
     "execution_count": 36,
     "metadata": {},
     "output_type": "execute_result"
    }
   ],
   "source": [
    "sum_kapittel['Kaptekst']"
   ]
  },
  {
   "cell_type": "code",
   "execution_count": 37,
   "metadata": {},
   "outputs": [],
   "source": [
    "def plotTreemap(values, labels, colors):\n",
    "\n",
    "    x = 0.\n",
    "    y = 0.\n",
    "    width = 100.\n",
    "    height = 100.\n",
    "\n",
    "    normed = squarify.normalize_sizes(values, width, height)\n",
    "    rects = squarify.squarify(normed, x, y, width, height)\n",
    "\n",
    "    shapes = []\n",
    "    annotations = []\n",
    "    counter = 0\n",
    "    color = 0\n",
    "\n",
    "    for r in rects:\n",
    "        shapes.append( \n",
    "            dict(\n",
    "                type = 'rect', \n",
    "                x0 = r['x'], \n",
    "                y0 = r['y'], \n",
    "                x1 = r['x']+r['dx'], \n",
    "                y1 = r['y']+r['dy'],\n",
    "                line = dict( width = 2 ),\n",
    "                fillcolor = colors[color]\n",
    "            ) \n",
    "        )\n",
    "        annotations.append(\n",
    "            dict(\n",
    "                x = r['x']+(r['dx']/2),\n",
    "                y = r['y']+(r['dy']/2),\n",
    "                text = labels[counter],\n",
    "                showarrow = False\n",
    "            )\n",
    "        )\n",
    "        counter = counter + 1\n",
    "        color = color + 1\n",
    "        if color >= len(colors):\n",
    "            color = 0\n",
    "\n",
    "    # For hover text\n",
    "    data = [go.Scatter(\n",
    "        x = [ r['x']+(r['dx']/2) for r in rects ], \n",
    "        y = [ r['y']+(r['dy']/2) for r in rects ],\n",
    "        text = [ str(l) for l in labels ], \n",
    "        mode = 'text',\n",
    "    )]\n",
    "\n",
    "\n",
    "    layout = dict(\n",
    "        height=600, \n",
    "        width=900,\n",
    "        xaxis=dict(showgrid=False,zeroline=False),\n",
    "        yaxis=dict(showgrid=False,zeroline=False),\n",
    "        shapes=shapes,\n",
    "        annotations=annotations,\n",
    "        hovermode='closest'\n",
    "    )\n",
    "\n",
    "    fig = go.Figure(data,layout)\n",
    "    return fig"
   ]
  },
  {
   "cell_type": "code",
   "execution_count": 38,
   "metadata": {},
   "outputs": [],
   "source": [
    "bp1 = 2000000000\n",
    "bp2 = 50000000\n",
    "utv = sum_kapittel[sum_kapittel['Regnskap HIÅ']>bp1]\n",
    "values = utv['Regnskap HIÅ'].to_list()\n",
    "labels = utv['Kaptekst'].to_list()"
   ]
  },
  {
   "cell_type": "code",
   "execution_count": 39,
   "metadata": {},
   "outputs": [],
   "source": [
    "øvrige = utv = sum_kapittel[sum_kapittel['Regnskap HIÅ']<=bp1]\n",
    "sum_øvrige = øvrige['Regnskap HIÅ'].sum()\n",
    "labels.append('Øvrige')\n",
    "values.append(sum_øvrige)"
   ]
  },
  {
   "cell_type": "code",
   "execution_count": 42,
   "metadata": {},
   "outputs": [
    {
     "data": {
      "application/vnd.jupyter.widget-view+json": {
       "model_id": "9880191537904fb49524270192832591",
       "version_major": 2,
       "version_minor": 0
      },
      "text/plain": [
       "FigureWidget({\n",
       "    'data': [{'mode': 'text',\n",
       "              'text': [Alderdom, Arbeidsavklaringspenger, Arbeids…"
      ]
     },
     "metadata": {},
     "output_type": "display_data"
    }
   ],
   "source": [
    "fig = plotTreemap(values, labels, nav.sequential)\n",
    "go.FigureWidget(fig)"
   ]
  },
  {
   "cell_type": "code",
   "execution_count": 60,
   "metadata": {},
   "outputs": [],
   "source": [
    "utv = sum_kapittel[(sum_kapittel['Regnskap HIÅ']<=bp1) & (sum_kapittel['Regnskap HIÅ']>bp2)]\n",
    "values = utv['Regnskap HIÅ'].to_list()\n",
    "labels = utv['Kaptekst'].to_list()"
   ]
  },
  {
   "cell_type": "code",
   "execution_count": 61,
   "metadata": {},
   "outputs": [],
   "source": [
    "øvrige = utv = sum_kapittel[sum_kapittel['Regnskap HIÅ']<=bp2]\n",
    "sum_øvrige = øvrige['Regnskap HIÅ'].sum()\n",
    "labels.append('Øvrige')\n",
    "values.append(sum_øvrige)"
   ]
  },
  {
   "cell_type": "code",
   "execution_count": 62,
   "metadata": {},
   "outputs": [
    {
     "data": {
      "application/vnd.jupyter.widget-view+json": {
       "model_id": "8d04260057594fc98134296e52e5bdea",
       "version_major": 2,
       "version_minor": 0
      },
      "text/plain": [
       "FigureWidget({\n",
       "    'data': [{'mode': 'text',\n",
       "              'text': [Avtalefestet pensjon (AFP), Etterlatte, He…"
      ]
     },
     "metadata": {},
     "output_type": "display_data"
    }
   ],
   "source": [
    "fig = plotTreemap(values, labels)\n",
    "go.FigureWidget(fig)"
   ]
  },
  {
   "cell_type": "code",
   "execution_count": 63,
   "metadata": {},
   "outputs": [],
   "source": [
    "utv = sum_kapittel[(sum_kapittel['Regnskap HIÅ']<=bp2)]\n",
    "values = utv['Regnskap HIÅ'].to_list()\n",
    "labels = utv['Kaptekst'].to_list()"
   ]
  },
  {
   "cell_type": "code",
   "execution_count": 64,
   "metadata": {},
   "outputs": [
    {
     "data": {
      "application/vnd.jupyter.widget-view+json": {
       "model_id": "89a5056df4aa499c91d1b937b044cc29",
       "version_major": 2,
       "version_minor": 0
      },
      "text/plain": [
       "FigureWidget({\n",
       "    'data': [{'mode': 'text',\n",
       "              'text': [Andre helsetiltak, Andre helsetjenester, A…"
      ]
     },
     "metadata": {},
     "output_type": "display_data"
    }
   ],
   "source": [
    "fig = plotTreemap(values, labels)\n",
    "go.FigureWidget(fig)"
   ]
  },
  {
   "cell_type": "code",
   "execution_count": 65,
   "metadata": {},
   "outputs": [
    {
     "data": {
      "text/plain": [
       "layout.Template({\n",
       "    'data': {'scatter': [{'mode': 'text', 'type': 'scatter'}]},\n",
       "    'layout': {'annotationdefaults': {'showarrow': False, 'x': 86.99348711098692, 'y': 86.8744369360244},\n",
       "               'height': 600,\n",
       "               'hovermode': 'closest',\n",
       "               'shapedefaults': {'fillcolor': '#005B82',\n",
       "                                 'line': {'width': 2},\n",
       "                                 'type': 'rect',\n",
       "                                 'x0': 73.98697422197384,\n",
       "                                 'x1': 100.0,\n",
       "                                 'y0': 73.7488738720487,\n",
       "                                 'y1': 100.00000000000009},\n",
       "               'width': 900,\n",
       "               'xaxis': {'showgrid': False, 'zeroline': False},\n",
       "               'yaxis': {'showgrid': False, 'zeroline': False}}\n",
       "})"
      ]
     },
     "execution_count": 65,
     "metadata": {},
     "output_type": "execute_result"
    }
   ],
   "source": [
    "templated_fig = plio.to_templated(fig)\n",
    "templated_fig.layout.template"
   ]
  },
  {
   "cell_type": "code",
   "execution_count": 66,
   "metadata": {},
   "outputs": [
    {
     "data": {
      "text/plain": [
       "layout.Template({\n",
       "    'data': {'scatter': [{'mode': 'text', 'type': 'scatter'}]},\n",
       "    'layout': {'annotationdefaults': {'showarrow': False, 'x': 86.99348711098692, 'y': 86.8744369360244},\n",
       "               'height': 600,\n",
       "               'hovermode': 'closest',\n",
       "               'shapedefaults': {'fillcolor': '#005B82',\n",
       "                                 'line': {'width': 2},\n",
       "                                 'type': 'rect',\n",
       "                                 'x0': 73.98697422197384,\n",
       "                                 'x1': 100.0,\n",
       "                                 'y0': 73.7488738720487,\n",
       "                                 'y1': 100.00000000000009},\n",
       "               'width': 900,\n",
       "               'xaxis': {'showgrid': False, 'zeroline': False},\n",
       "               'yaxis': {'showgrid': False, 'zeroline': False}}\n",
       "})"
      ]
     },
     "execution_count": 66,
     "metadata": {},
     "output_type": "execute_result"
    }
   ],
   "source": [
    "templated_fig.layout.template"
   ]
  },
  {
   "cell_type": "code",
   "execution_count": 67,
   "metadata": {},
   "outputs": [
    {
     "data": {
      "application/vnd.plotly.v1+json": {
       "config": {
        "linkText": "Export to plot.ly",
        "plotlyServerURL": "https://plot.ly",
        "showLink": false
       },
       "data": [
        {
         "alignmentgroup": "True",
         "hoverlabel": {
          "namelength": 0
         },
         "hovertemplate": "Kaptekst=%{x}<br>Regnskap HIÅ=%{y}",
         "legendgroup": "",
         "marker": {
          "color": "#C30000"
         },
         "name": "",
         "offsetgroup": "",
         "orientation": "v",
         "showlegend": false,
         "textposition": "auto",
         "type": "bar",
         "uid": "075a6f1e-1ab1-48d9-98f3-e4d19199ee23",
         "x": [
          "Arbeids- og velferdsetaten",
          "Arbeids- og velferdsetaten",
          "Arbeidsmarkedstiltak",
          "Arbeidsmarkedstiltak",
          "Arbeidsmarkedstiltak",
          "Arbeidsmarkedstiltak",
          "Ventelønn",
          "Krigspensjon",
          "Krigspensjon",
          "Avtalefestet pensjon (AFP)",
          "Supplerende stønad til personer over 67 år",
          "Dagpenger",
          "Statsgaranti for lønnskrav ved konkurs mv.",
          "Stønad til enslig mor eller far",
          "Stønad til enslig mor eller far",
          "Stønad til enslig mor eller far",
          "Stønad til enslig mor eller far",
          "Sykepenger",
          "Sykepenger",
          "Sykepenger",
          "Sykepenger",
          "Sykepenger",
          "Arbeidsavklaringspenger",
          "Arbeidsavklaringspenger",
          "Arbeidsavklaringspenger",
          "Uførhet",
          "Uførhet",
          "Uførhet",
          "Grunn- og hjelpestønad, hjelpemidler mv.",
          "Grunn- og hjelpestønad, hjelpemidler mv.",
          "Grunn- og hjelpestønad, hjelpemidler mv.",
          "Grunn- og hjelpestønad, hjelpemidler mv.",
          "Grunn- og hjelpestønad, hjelpemidler mv.",
          "Grunn- og hjelpestønad, hjelpemidler mv.",
          "Grunn- og hjelpestønad, hjelpemidler mv.",
          "Grunn- og hjelpestønad, hjelpemidler mv.",
          "Grunn- og hjelpestønad, hjelpemidler mv.",
          "Grunn- og hjelpestønad, hjelpemidler mv.",
          "Alderdom",
          "Alderdom",
          "Alderdom",
          "Alderdom",
          "Etterlatte",
          "Etterlatte",
          "Etterlatte",
          "Etterlatte",
          "Etterlatte",
          "Stønad ved gravferd",
          "Arbeidsmarkedstiltak",
          "Ventelønn mv.",
          "Diverse inntekter",
          "Diverse inntekter",
          "Diverse inntekter",
          "Statsgaranti for lønnskrav ved konkurs",
          "Regionale helseforetak",
          "Spesialisthelsetjeneste mv.",
          "Spesialisthelsetjeneste mv.",
          "Spesialisthelsetjeneste mv.",
          "Spesialisthelsetjeneste mv.",
          "Legemidler mv.",
          "Legemidler mv.",
          "Refusjon av egenbetaling",
          "Refusjon av egenbetaling",
          "Helsetjenester i kommunene mv.",
          "Helsetjenester i kommunene mv.",
          "Helsetjenester i kommunene mv.",
          "Helsetjenester i kommunene mv.",
          "Helsetjenester i kommunene mv.",
          "Helsetjenester i kommunene mv.",
          "Andre helsetjenester",
          "Andre helsetiltak",
          "Kontantstøtte",
          "Barnetrygd",
          "Foreldrepenger",
          "Foreldrepenger",
          "Foreldrepenger",
          "Foreldrepenger",
          "Folketrygdens inntekter"
         ],
         "xaxis": "x",
         "y": [
          15063,
          2218643.5,
          2446463594.72,
          484783894.28,
          25555047.96,
          19960063,
          4708281.13,
          20411691,
          55906758,
          796161206,
          104450623,
          3352936239.23,
          320718153.47,
          588990793,
          54615157,
          25519176,
          15652.49,
          11278910109,
          442295023,
          255095091,
          83189859.28,
          1807232,
          9877353016.3,
          65487548.35,
          76726427.31,
          30640525857,
          22148813,
          13952279,
          598257803,
          507194701,
          107244.84,
          42547397.41,
          239172412.96,
          1085555513.32,
          105381396.86,
          511332013.68,
          243875195.51,
          12453010.48,
          24686034519,
          48091928934,
          705859258,
          2012709589,
          364572234,
          272120300,
          27605378,
          64306,
          1859762,
          65462984,
          -1852927.77,
          -3521311.23,
          -7820.24,
          -1054676.41,
          -15962810.17,
          -53522503.03,
          458006933.99,
          395694046.2,
          60625066,
          352613015.3,
          142749739.68,
          4422827,
          1264482,
          395443924.87,
          75620504.83,
          146013733,
          894248939.6,
          203303125,
          9121062,
          28623345,
          23236605.94,
          42942418.52,
          8070344.07,
          500396080,
          5132805188,
          5105944779,
          297397014,
          97203,
          12726190,
          5306243
         ],
         "yaxis": "y"
        }
       ],
       "layout": {
        "barmode": "relative",
        "colorway": [
         "#C30000",
         "#FF9100",
         "#A2AD00",
         "#06893A ",
         "#634689",
         "#005B82",
         "#0067C5",
         "#66CBEC",
         "#3E3832",
         "#B7B1A9"
        ],
        "grid": {
         "xaxes": [
          "x"
         ],
         "xgap": 0.1,
         "xside": "bottom",
         "yaxes": [
          "y"
         ],
         "ygap": 0.1,
         "yside": "left"
        },
        "legend": {
         "tracegroupgap": 0
        },
        "template": {
         "data": {
          "bar": [
           {
            "marker": {
             "line": {
              "color": "white",
              "width": 0.5
             }
            },
            "type": "bar"
           }
          ],
          "barpolar": [
           {
            "marker": {
             "line": {
              "color": "white",
              "width": 0.5
             }
            },
            "type": "barpolar"
           }
          ],
          "carpet": [
           {
            "aaxis": {
             "endlinecolor": "#2a3f5f",
             "gridcolor": "#C6C2BF",
             "linecolor": "#C6C2BF",
             "minorgridcolor": "#C6C2BF",
             "startlinecolor": "#2a3f5f"
            },
            "baxis": {
             "endlinecolor": "#2a3f5f",
             "gridcolor": "#C6C2BF",
             "linecolor": "#C6C2BF",
             "minorgridcolor": "#C6C2BF",
             "startlinecolor": "#2a3f5f"
            },
            "type": "carpet"
           }
          ],
          "choropleth": [
           {
            "colorbar": {
             "outlinewidth": 0,
             "ticks": ""
            },
            "type": "choropleth"
           }
          ],
          "contour": [
           {
            "colorbar": {
             "outlinewidth": 0,
             "ticks": ""
            },
            "colorscale": [
             [
              0,
              "#0508b8"
             ],
             [
              0.0893854748603352,
              "#1910d8"
             ],
             [
              0.1787709497206704,
              "#3c19f0"
             ],
             [
              0.2681564245810056,
              "#6b1cfb"
             ],
             [
              0.3575418994413408,
              "#981cfd"
             ],
             [
              0.44692737430167595,
              "#bf1cfd"
             ],
             [
              0.5363128491620112,
              "#dd2bfd"
             ],
             [
              0.6256983240223464,
              "#f246fe"
             ],
             [
              0.7150837988826816,
              "#fc67fd"
             ],
             [
              0.8044692737430168,
              "#fe88fc"
             ],
             [
              0.8938547486033519,
              "#fea5fd"
             ],
             [
              0.9832402234636871,
              "#febefe"
             ],
             [
              1,
              "#fec3fe"
             ]
            ],
            "type": "contour"
           }
          ],
          "contourcarpet": [
           {
            "colorbar": {
             "outlinewidth": 0,
             "ticks": ""
            },
            "type": "contourcarpet"
           }
          ],
          "heatmap": [
           {
            "colorbar": {
             "outlinewidth": 0,
             "ticks": ""
            },
            "colorscale": [
             [
              0,
              "#0508b8"
             ],
             [
              0.0893854748603352,
              "#1910d8"
             ],
             [
              0.1787709497206704,
              "#3c19f0"
             ],
             [
              0.2681564245810056,
              "#6b1cfb"
             ],
             [
              0.3575418994413408,
              "#981cfd"
             ],
             [
              0.44692737430167595,
              "#bf1cfd"
             ],
             [
              0.5363128491620112,
              "#dd2bfd"
             ],
             [
              0.6256983240223464,
              "#f246fe"
             ],
             [
              0.7150837988826816,
              "#fc67fd"
             ],
             [
              0.8044692737430168,
              "#fe88fc"
             ],
             [
              0.8938547486033519,
              "#fea5fd"
             ],
             [
              0.9832402234636871,
              "#febefe"
             ],
             [
              1,
              "#fec3fe"
             ]
            ],
            "type": "heatmap"
           }
          ],
          "heatmapgl": [
           {
            "colorbar": {
             "outlinewidth": 0,
             "ticks": ""
            },
            "type": "heatmapgl"
           }
          ],
          "histogram": [
           {
            "marker": {
             "colorbar": {
              "outlinewidth": 0,
              "ticks": ""
             }
            },
            "type": "histogram"
           }
          ],
          "histogram2d": [
           {
            "colorbar": {
             "outlinewidth": 0,
             "ticks": ""
            },
            "colorscale": [
             [
              0,
              "#0508b8"
             ],
             [
              0.0893854748603352,
              "#1910d8"
             ],
             [
              0.1787709497206704,
              "#3c19f0"
             ],
             [
              0.2681564245810056,
              "#6b1cfb"
             ],
             [
              0.3575418994413408,
              "#981cfd"
             ],
             [
              0.44692737430167595,
              "#bf1cfd"
             ],
             [
              0.5363128491620112,
              "#dd2bfd"
             ],
             [
              0.6256983240223464,
              "#f246fe"
             ],
             [
              0.7150837988826816,
              "#fc67fd"
             ],
             [
              0.8044692737430168,
              "#fe88fc"
             ],
             [
              0.8938547486033519,
              "#fea5fd"
             ],
             [
              0.9832402234636871,
              "#febefe"
             ],
             [
              1,
              "#fec3fe"
             ]
            ],
            "type": "histogram2d"
           }
          ],
          "histogram2dcontour": [
           {
            "colorbar": {
             "outlinewidth": 0,
             "ticks": ""
            },
            "colorscale": [
             [
              0,
              "#0508b8"
             ],
             [
              0.0893854748603352,
              "#1910d8"
             ],
             [
              0.1787709497206704,
              "#3c19f0"
             ],
             [
              0.2681564245810056,
              "#6b1cfb"
             ],
             [
              0.3575418994413408,
              "#981cfd"
             ],
             [
              0.44692737430167595,
              "#bf1cfd"
             ],
             [
              0.5363128491620112,
              "#dd2bfd"
             ],
             [
              0.6256983240223464,
              "#f246fe"
             ],
             [
              0.7150837988826816,
              "#fc67fd"
             ],
             [
              0.8044692737430168,
              "#fe88fc"
             ],
             [
              0.8938547486033519,
              "#fea5fd"
             ],
             [
              0.9832402234636871,
              "#febefe"
             ],
             [
              1,
              "#fec3fe"
             ]
            ],
            "type": "histogram2dcontour"
           }
          ],
          "mesh3d": [
           {
            "colorbar": {
             "outlinewidth": 0,
             "ticks": ""
            },
            "type": "mesh3d"
           }
          ],
          "parcoords": [
           {
            "line": {
             "colorbar": {
              "outlinewidth": 0,
              "ticks": ""
             }
            },
            "type": "parcoords"
           }
          ],
          "scatter": [
           {
            "marker": {
             "colorbar": {
              "outlinewidth": 0,
              "ticks": ""
             }
            },
            "type": "scatter"
           }
          ],
          "scatter3d": [
           {
            "marker": {
             "colorbar": {
              "outlinewidth": 0,
              "ticks": ""
             }
            },
            "type": "scatter3d"
           }
          ],
          "scattercarpet": [
           {
            "marker": {
             "colorbar": {
              "outlinewidth": 0,
              "ticks": ""
             }
            },
            "type": "scattercarpet"
           }
          ],
          "scattergeo": [
           {
            "marker": {
             "colorbar": {
              "outlinewidth": 0,
              "ticks": ""
             }
            },
            "type": "scattergeo"
           }
          ],
          "scattergl": [
           {
            "marker": {
             "colorbar": {
              "outlinewidth": 0,
              "ticks": ""
             }
            },
            "type": "scattergl"
           }
          ],
          "scattermapbox": [
           {
            "marker": {
             "colorbar": {
              "outlinewidth": 0,
              "ticks": ""
             }
            },
            "type": "scattermapbox"
           }
          ],
          "scatterpolar": [
           {
            "marker": {
             "colorbar": {
              "outlinewidth": 0,
              "ticks": ""
             }
            },
            "type": "scatterpolar"
           }
          ],
          "scatterpolargl": [
           {
            "marker": {
             "colorbar": {
              "outlinewidth": 0,
              "ticks": ""
             }
            },
            "type": "scatterpolargl"
           }
          ],
          "scatterternary": [
           {
            "marker": {
             "colorbar": {
              "outlinewidth": 0,
              "ticks": ""
             }
            },
            "type": "scatterternary"
           }
          ],
          "surface": [
           {
            "colorbar": {
             "outlinewidth": 0,
             "ticks": ""
            },
            "type": "surface"
           }
          ],
          "table": [
           {
            "cells": {
             "fill": {
              "color": "#C6C2BF"
             },
             "line": {
              "color": "white"
             }
            },
            "header": {
             "fill": {
              "color": "#C6C2BF"
             },
             "line": {
              "color": "white"
             }
            },
            "type": "table"
           }
          ]
         },
         "layout": {
          "annotationdefaults": {
           "arrowcolor": "#506784",
           "arrowhead": 0,
           "arrowwidth": 1
          },
          "colorscale": {
           "diverging": [
            [
             0,
             "#8e0152"
            ],
            [
             0.1,
             "#c51b7d"
            ],
            [
             0.2,
             "#de77ae"
            ],
            [
             0.3,
             "#f1b6da"
            ],
            [
             0.4,
             "#fde0ef"
            ],
            [
             0.5,
             "#f7f7f7"
            ],
            [
             0.6,
             "#e6f5d0"
            ],
            [
             0.7,
             "#b8e186"
            ],
            [
             0.8,
             "#7fbc41"
            ],
            [
             0.9,
             "#4d9221"
            ],
            [
             1,
             "#276419"
            ]
           ],
           "sequential": [
            [
             0,
             "#0508b8"
            ],
            [
             0.0893854748603352,
             "#1910d8"
            ],
            [
             0.1787709497206704,
             "#3c19f0"
            ],
            [
             0.2681564245810056,
             "#6b1cfb"
            ],
            [
             0.3575418994413408,
             "#981cfd"
            ],
            [
             0.44692737430167595,
             "#bf1cfd"
            ],
            [
             0.5363128491620112,
             "#dd2bfd"
            ],
            [
             0.6256983240223464,
             "#f246fe"
            ],
            [
             0.7150837988826816,
             "#fc67fd"
            ],
            [
             0.8044692737430168,
             "#fe88fc"
            ],
            [
             0.8938547486033519,
             "#fea5fd"
            ],
            [
             0.9832402234636871,
             "#febefe"
            ],
            [
             1,
             "#fec3fe"
            ]
           ],
           "sequentialminus": [
            [
             0,
             "#0508b8"
            ],
            [
             0.0893854748603352,
             "#1910d8"
            ],
            [
             0.1787709497206704,
             "#3c19f0"
            ],
            [
             0.2681564245810056,
             "#6b1cfb"
            ],
            [
             0.3575418994413408,
             "#981cfd"
            ],
            [
             0.44692737430167595,
             "#bf1cfd"
            ],
            [
             0.5363128491620112,
             "#dd2bfd"
            ],
            [
             0.6256983240223464,
             "#f246fe"
            ],
            [
             0.7150837988826816,
             "#fc67fd"
            ],
            [
             0.8044692737430168,
             "#fe88fc"
            ],
            [
             0.8938547486033519,
             "#fea5fd"
            ],
            [
             0.9832402234636871,
             "#febefe"
            ],
            [
             1,
             "#fec3fe"
            ]
           ]
          },
          "colorway": [
           "#C30000",
           "#FF9100",
           "#A2AD00",
           "#06893A ",
           "#634689",
           "#005B82",
           "#0067C5",
           "#66CBEC",
           "#3E3832",
           "#B7B1A9"
          ],
          "font": {
           "color": "#2a3f5f",
           "family": "Helvetica Neue"
          },
          "geo": {
           "bgcolor": "white",
           "lakecolor": "white",
           "landcolor": "white",
           "showlakes": true,
           "showland": true,
           "subunitcolor": "#C6C2BF"
          },
          "hoverlabel": {
           "align": "left"
          },
          "hovermode": "closest",
          "mapbox": {
           "style": "light"
          },
          "paper_bgcolor": "white",
          "plot_bgcolor": "white",
          "polar": {
           "angularaxis": {
            "gridcolor": "#C6C2BF",
            "linecolor": "#C6C2BF",
            "ticks": ""
           },
           "bgcolor": "white",
           "radialaxis": {
            "gridcolor": "#C6C2BF",
            "linecolor": "#C6C2BF",
            "ticks": ""
           }
          },
          "scene": {
           "xaxis": {
            "backgroundcolor": "white",
            "gridcolor": "#C6C2BF",
            "gridwidth": 2,
            "linecolor": "#C6C2BF",
            "showbackground": true,
            "ticks": "",
            "zerolinecolor": "#C6C2BF"
           },
           "yaxis": {
            "backgroundcolor": "white",
            "gridcolor": "#C6C2BF",
            "gridwidth": 2,
            "linecolor": "#C6C2BF",
            "showbackground": true,
            "ticks": "",
            "zerolinecolor": "#C6C2BF"
           },
           "zaxis": {
            "backgroundcolor": "white",
            "gridcolor": "#C6C2BF",
            "gridwidth": 2,
            "linecolor": "#C6C2BF",
            "showbackground": true,
            "ticks": "",
            "zerolinecolor": "#C6C2BF"
           }
          },
          "shapedefaults": {
           "fillcolor": "#C30000",
           "line": {
            "width": 0
           },
           "opacity": 0.4
          },
          "ternary": {
           "aaxis": {
            "gridcolor": "#C6C2BF",
            "linecolor": "#A2B1C6",
            "ticks": ""
           },
           "baxis": {
            "gridcolor": "#C6C2BF",
            "linecolor": "#A2B1C6",
            "ticks": ""
           },
           "bgcolor": "white",
           "caxis": {
            "gridcolor": "#C6C2BF",
            "linecolor": "#A2B1C6",
            "ticks": ""
           }
          },
          "title": {
           "x": 0.05
          },
          "xaxis": {
           "automargin": true,
           "gridcolor": "#C6C2BF",
           "linecolor": "#C6C2BF",
           "ticks": "",
           "zerolinecolor": "#C6C2BF",
           "zerolinewidth": 2
          },
          "yaxis": {
           "automargin": true,
           "gridcolor": "#C6C2BF",
           "linecolor": "#C6C2BF",
           "ticks": "",
           "zerolinecolor": "#C6C2BF",
           "zerolinewidth": 2
          }
         }
        },
        "title": {
         "text": "NAV"
        },
        "xaxis": {
         "title": {
          "text": "Kaptekst"
         }
        },
        "yaxis": {
         "title": {
          "text": "Regnskap HIÅ"
         }
        }
       }
      },
      "text/html": [
       "<div>\n",
       "        \n",
       "        \n",
       "            <div id=\"3fc9aa50-3b7c-4b49-ad1d-c30837a4430e\" class=\"plotly-graph-div\" style=\"height:525px; width:100%;\"></div>\n",
       "            <script type=\"text/javascript\">\n",
       "                require([\"plotly\"], function(Plotly) {\n",
       "                    window.PLOTLYENV=window.PLOTLYENV || {};\n",
       "                    window.PLOTLYENV.BASE_URL='https://plot.ly';\n",
       "                    \n",
       "                if (document.getElementById(\"3fc9aa50-3b7c-4b49-ad1d-c30837a4430e\")) {\n",
       "                    Plotly.newPlot(\n",
       "                        '3fc9aa50-3b7c-4b49-ad1d-c30837a4430e',\n",
       "                        [{\"alignmentgroup\": \"True\", \"hoverlabel\": {\"namelength\": 0}, \"hovertemplate\": \"Kaptekst=%{x}<br>Regnskap HI\\u00c5=%{y}\", \"legendgroup\": \"\", \"marker\": {\"color\": \"#C30000\"}, \"name\": \"\", \"offsetgroup\": \"\", \"orientation\": \"v\", \"showlegend\": false, \"textposition\": \"auto\", \"type\": \"bar\", \"uid\": \"075a6f1e-1ab1-48d9-98f3-e4d19199ee23\", \"x\": [\"Arbeids- og velferdsetaten\", \"Arbeids- og velferdsetaten\", \"Arbeidsmarkedstiltak\", \"Arbeidsmarkedstiltak\", \"Arbeidsmarkedstiltak\", \"Arbeidsmarkedstiltak\", \"Ventel\\u00f8nn\", \"Krigspensjon\", \"Krigspensjon\", \"Avtalefestet pensjon (AFP)\", \"Supplerende st\\u00f8nad til personer over 67 \\u00e5r\", \"Dagpenger\", \"Statsgaranti for l\\u00f8nnskrav ved konkurs mv.\", \"St\\u00f8nad til enslig mor eller far\", \"St\\u00f8nad til enslig mor eller far\", \"St\\u00f8nad til enslig mor eller far\", \"St\\u00f8nad til enslig mor eller far\", \"Sykepenger\", \"Sykepenger\", \"Sykepenger\", \"Sykepenger\", \"Sykepenger\", \"Arbeidsavklaringspenger\", \"Arbeidsavklaringspenger\", \"Arbeidsavklaringspenger\", \"Uf\\u00f8rhet\", \"Uf\\u00f8rhet\", \"Uf\\u00f8rhet\", \"Grunn- og hjelpest\\u00f8nad, hjelpemidler mv.\", \"Grunn- og hjelpest\\u00f8nad, hjelpemidler mv.\", \"Grunn- og hjelpest\\u00f8nad, hjelpemidler mv.\", \"Grunn- og hjelpest\\u00f8nad, hjelpemidler mv.\", \"Grunn- og hjelpest\\u00f8nad, hjelpemidler mv.\", \"Grunn- og hjelpest\\u00f8nad, hjelpemidler mv.\", \"Grunn- og hjelpest\\u00f8nad, hjelpemidler mv.\", \"Grunn- og hjelpest\\u00f8nad, hjelpemidler mv.\", \"Grunn- og hjelpest\\u00f8nad, hjelpemidler mv.\", \"Grunn- og hjelpest\\u00f8nad, hjelpemidler mv.\", \"Alderdom\", \"Alderdom\", \"Alderdom\", \"Alderdom\", \"Etterlatte\", \"Etterlatte\", \"Etterlatte\", \"Etterlatte\", \"Etterlatte\", \"St\\u00f8nad ved gravferd\", \"Arbeidsmarkedstiltak\", \"Ventel\\u00f8nn mv.\", \"Diverse inntekter\", \"Diverse inntekter\", \"Diverse inntekter\", \"Statsgaranti for l\\u00f8nnskrav ved konkurs\", \"Regionale helseforetak\", \"Spesialisthelsetjeneste mv.\", \"Spesialisthelsetjeneste mv.\", \"Spesialisthelsetjeneste mv.\", \"Spesialisthelsetjeneste mv.\", \"Legemidler mv.\", \"Legemidler mv.\", \"Refusjon av egenbetaling\", \"Refusjon av egenbetaling\", \"Helsetjenester i kommunene mv.\", \"Helsetjenester i kommunene mv.\", \"Helsetjenester i kommunene mv.\", \"Helsetjenester i kommunene mv.\", \"Helsetjenester i kommunene mv.\", \"Helsetjenester i kommunene mv.\", \"Andre helsetjenester\", \"Andre helsetiltak\", \"Kontantst\\u00f8tte\", \"Barnetrygd\", \"Foreldrepenger\", \"Foreldrepenger\", \"Foreldrepenger\", \"Foreldrepenger\", \"Folketrygdens inntekter\"], \"xaxis\": \"x\", \"y\": [15063.0, 2218643.5, 2446463594.72, 484783894.28, 25555047.96, 19960063.0, 4708281.13, 20411691.0, 55906758.0, 796161206.0, 104450623.0, 3352936239.23, 320718153.47, 588990793.0, 54615157.0, 25519176.0, 15652.49, 11278910109.0, 442295023.0, 255095091.0, 83189859.28, 1807232.0, 9877353016.3, 65487548.35, 76726427.31, 30640525857.0, 22148813.0, 13952279.0, 598257803.0, 507194701.0, 107244.84, 42547397.41, 239172412.96, 1085555513.32, 105381396.86, 511332013.68, 243875195.51, 12453010.48, 24686034519.0, 48091928934.0, 705859258.0, 2012709589.0, 364572234.0, 272120300.0, 27605378.0, 64306.0, 1859762.0, 65462984.0, -1852927.77, -3521311.23, -7820.24, -1054676.41, -15962810.17, -53522503.03, 458006933.99, 395694046.2, 60625066.0, 352613015.3, 142749739.68, 4422827.0, 1264482.0, 395443924.87, 75620504.83, 146013733.0, 894248939.6, 203303125.0, 9121062.0, 28623345.0, 23236605.94, 42942418.52, 8070344.07, 500396080.0, 5132805188.0, 5105944779.0, 297397014.0, 97203.0, 12726190.0, 5306243.0], \"yaxis\": \"y\"}],\n",
       "                        {\"barmode\": \"relative\", \"colorway\": [\"#C30000\", \"#FF9100\", \"#A2AD00\", \"#06893A \", \"#634689\", \"#005B82\", \"#0067C5\", \"#66CBEC\", \"#3E3832\", \"#B7B1A9\"], \"grid\": {\"xaxes\": [\"x\"], \"xgap\": 0.1, \"xside\": \"bottom\", \"yaxes\": [\"y\"], \"ygap\": 0.1, \"yside\": \"left\"}, \"legend\": {\"tracegroupgap\": 0}, \"template\": {\"data\": {\"bar\": [{\"marker\": {\"line\": {\"color\": \"white\", \"width\": 0.5}}, \"type\": \"bar\"}], \"barpolar\": [{\"marker\": {\"line\": {\"color\": \"white\", \"width\": 0.5}}, \"type\": \"barpolar\"}], \"carpet\": [{\"aaxis\": {\"endlinecolor\": \"#2a3f5f\", \"gridcolor\": \"#C6C2BF\", \"linecolor\": \"#C6C2BF\", \"minorgridcolor\": \"#C6C2BF\", \"startlinecolor\": \"#2a3f5f\"}, \"baxis\": {\"endlinecolor\": \"#2a3f5f\", \"gridcolor\": \"#C6C2BF\", \"linecolor\": \"#C6C2BF\", \"minorgridcolor\": \"#C6C2BF\", \"startlinecolor\": \"#2a3f5f\"}, \"type\": \"carpet\"}], \"choropleth\": [{\"colorbar\": {\"outlinewidth\": 0, \"ticks\": \"\"}, \"type\": \"choropleth\"}], \"contour\": [{\"colorbar\": {\"outlinewidth\": 0, \"ticks\": \"\"}, \"colorscale\": [[0.0, \"#0508b8\"], [0.0893854748603352, \"#1910d8\"], [0.1787709497206704, \"#3c19f0\"], [0.2681564245810056, \"#6b1cfb\"], [0.3575418994413408, \"#981cfd\"], [0.44692737430167595, \"#bf1cfd\"], [0.5363128491620112, \"#dd2bfd\"], [0.6256983240223464, \"#f246fe\"], [0.7150837988826816, \"#fc67fd\"], [0.8044692737430168, \"#fe88fc\"], [0.8938547486033519, \"#fea5fd\"], [0.9832402234636871, \"#febefe\"], [1.0, \"#fec3fe\"]], \"type\": \"contour\"}], \"contourcarpet\": [{\"colorbar\": {\"outlinewidth\": 0, \"ticks\": \"\"}, \"type\": \"contourcarpet\"}], \"heatmap\": [{\"colorbar\": {\"outlinewidth\": 0, \"ticks\": \"\"}, \"colorscale\": [[0.0, \"#0508b8\"], [0.0893854748603352, \"#1910d8\"], [0.1787709497206704, \"#3c19f0\"], [0.2681564245810056, \"#6b1cfb\"], [0.3575418994413408, \"#981cfd\"], [0.44692737430167595, \"#bf1cfd\"], [0.5363128491620112, \"#dd2bfd\"], [0.6256983240223464, \"#f246fe\"], [0.7150837988826816, \"#fc67fd\"], [0.8044692737430168, \"#fe88fc\"], [0.8938547486033519, \"#fea5fd\"], [0.9832402234636871, \"#febefe\"], [1.0, \"#fec3fe\"]], \"type\": \"heatmap\"}], \"heatmapgl\": [{\"colorbar\": {\"outlinewidth\": 0, \"ticks\": \"\"}, \"type\": \"heatmapgl\"}], \"histogram\": [{\"marker\": {\"colorbar\": {\"outlinewidth\": 0, \"ticks\": \"\"}}, \"type\": \"histogram\"}], \"histogram2d\": [{\"colorbar\": {\"outlinewidth\": 0, \"ticks\": \"\"}, \"colorscale\": [[0.0, \"#0508b8\"], [0.0893854748603352, \"#1910d8\"], [0.1787709497206704, \"#3c19f0\"], [0.2681564245810056, \"#6b1cfb\"], [0.3575418994413408, \"#981cfd\"], [0.44692737430167595, \"#bf1cfd\"], [0.5363128491620112, \"#dd2bfd\"], [0.6256983240223464, \"#f246fe\"], [0.7150837988826816, \"#fc67fd\"], [0.8044692737430168, \"#fe88fc\"], [0.8938547486033519, \"#fea5fd\"], [0.9832402234636871, \"#febefe\"], [1.0, \"#fec3fe\"]], \"type\": \"histogram2d\"}], \"histogram2dcontour\": [{\"colorbar\": {\"outlinewidth\": 0, \"ticks\": \"\"}, \"colorscale\": [[0.0, \"#0508b8\"], [0.0893854748603352, \"#1910d8\"], [0.1787709497206704, \"#3c19f0\"], [0.2681564245810056, \"#6b1cfb\"], [0.3575418994413408, \"#981cfd\"], [0.44692737430167595, \"#bf1cfd\"], [0.5363128491620112, \"#dd2bfd\"], [0.6256983240223464, \"#f246fe\"], [0.7150837988826816, \"#fc67fd\"], [0.8044692737430168, \"#fe88fc\"], [0.8938547486033519, \"#fea5fd\"], [0.9832402234636871, \"#febefe\"], [1.0, \"#fec3fe\"]], \"type\": \"histogram2dcontour\"}], \"mesh3d\": [{\"colorbar\": {\"outlinewidth\": 0, \"ticks\": \"\"}, \"type\": \"mesh3d\"}], \"parcoords\": [{\"line\": {\"colorbar\": {\"outlinewidth\": 0, \"ticks\": \"\"}}, \"type\": \"parcoords\"}], \"scatter\": [{\"marker\": {\"colorbar\": {\"outlinewidth\": 0, \"ticks\": \"\"}}, \"type\": \"scatter\"}], \"scatter3d\": [{\"marker\": {\"colorbar\": {\"outlinewidth\": 0, \"ticks\": \"\"}}, \"type\": \"scatter3d\"}], \"scattercarpet\": [{\"marker\": {\"colorbar\": {\"outlinewidth\": 0, \"ticks\": \"\"}}, \"type\": \"scattercarpet\"}], \"scattergeo\": [{\"marker\": {\"colorbar\": {\"outlinewidth\": 0, \"ticks\": \"\"}}, \"type\": \"scattergeo\"}], \"scattergl\": [{\"marker\": {\"colorbar\": {\"outlinewidth\": 0, \"ticks\": \"\"}}, \"type\": \"scattergl\"}], \"scattermapbox\": [{\"marker\": {\"colorbar\": {\"outlinewidth\": 0, \"ticks\": \"\"}}, \"type\": \"scattermapbox\"}], \"scatterpolar\": [{\"marker\": {\"colorbar\": {\"outlinewidth\": 0, \"ticks\": \"\"}}, \"type\": \"scatterpolar\"}], \"scatterpolargl\": [{\"marker\": {\"colorbar\": {\"outlinewidth\": 0, \"ticks\": \"\"}}, \"type\": \"scatterpolargl\"}], \"scatterternary\": [{\"marker\": {\"colorbar\": {\"outlinewidth\": 0, \"ticks\": \"\"}}, \"type\": \"scatterternary\"}], \"surface\": [{\"colorbar\": {\"outlinewidth\": 0, \"ticks\": \"\"}, \"type\": \"surface\"}], \"table\": [{\"cells\": {\"fill\": {\"color\": \"#C6C2BF\"}, \"line\": {\"color\": \"white\"}}, \"header\": {\"fill\": {\"color\": \"#C6C2BF\"}, \"line\": {\"color\": \"white\"}}, \"type\": \"table\"}]}, \"layout\": {\"annotationdefaults\": {\"arrowcolor\": \"#506784\", \"arrowhead\": 0, \"arrowwidth\": 1}, \"colorscale\": {\"diverging\": [[0, \"#8e0152\"], [0.1, \"#c51b7d\"], [0.2, \"#de77ae\"], [0.3, \"#f1b6da\"], [0.4, \"#fde0ef\"], [0.5, \"#f7f7f7\"], [0.6, \"#e6f5d0\"], [0.7, \"#b8e186\"], [0.8, \"#7fbc41\"], [0.9, \"#4d9221\"], [1, \"#276419\"]], \"sequential\": [[0.0, \"#0508b8\"], [0.0893854748603352, \"#1910d8\"], [0.1787709497206704, \"#3c19f0\"], [0.2681564245810056, \"#6b1cfb\"], [0.3575418994413408, \"#981cfd\"], [0.44692737430167595, \"#bf1cfd\"], [0.5363128491620112, \"#dd2bfd\"], [0.6256983240223464, \"#f246fe\"], [0.7150837988826816, \"#fc67fd\"], [0.8044692737430168, \"#fe88fc\"], [0.8938547486033519, \"#fea5fd\"], [0.9832402234636871, \"#febefe\"], [1.0, \"#fec3fe\"]], \"sequentialminus\": [[0.0, \"#0508b8\"], [0.0893854748603352, \"#1910d8\"], [0.1787709497206704, \"#3c19f0\"], [0.2681564245810056, \"#6b1cfb\"], [0.3575418994413408, \"#981cfd\"], [0.44692737430167595, \"#bf1cfd\"], [0.5363128491620112, \"#dd2bfd\"], [0.6256983240223464, \"#f246fe\"], [0.7150837988826816, \"#fc67fd\"], [0.8044692737430168, \"#fe88fc\"], [0.8938547486033519, \"#fea5fd\"], [0.9832402234636871, \"#febefe\"], [1.0, \"#fec3fe\"]]}, \"colorway\": [\"#C30000\", \"#FF9100\", \"#A2AD00\", \"#06893A \", \"#634689\", \"#005B82\", \"#0067C5\", \"#66CBEC\", \"#3E3832\", \"#B7B1A9\"], \"font\": {\"color\": \"#2a3f5f\", \"family\": \"Helvetica Neue\"}, \"geo\": {\"bgcolor\": \"white\", \"lakecolor\": \"white\", \"landcolor\": \"white\", \"showlakes\": true, \"showland\": true, \"subunitcolor\": \"#C6C2BF\"}, \"hoverlabel\": {\"align\": \"left\"}, \"hovermode\": \"closest\", \"mapbox\": {\"style\": \"light\"}, \"paper_bgcolor\": \"white\", \"plot_bgcolor\": \"white\", \"polar\": {\"angularaxis\": {\"gridcolor\": \"#C6C2BF\", \"linecolor\": \"#C6C2BF\", \"ticks\": \"\"}, \"bgcolor\": \"white\", \"radialaxis\": {\"gridcolor\": \"#C6C2BF\", \"linecolor\": \"#C6C2BF\", \"ticks\": \"\"}}, \"scene\": {\"xaxis\": {\"backgroundcolor\": \"white\", \"gridcolor\": \"#C6C2BF\", \"gridwidth\": 2, \"linecolor\": \"#C6C2BF\", \"showbackground\": true, \"ticks\": \"\", \"zerolinecolor\": \"#C6C2BF\"}, \"yaxis\": {\"backgroundcolor\": \"white\", \"gridcolor\": \"#C6C2BF\", \"gridwidth\": 2, \"linecolor\": \"#C6C2BF\", \"showbackground\": true, \"ticks\": \"\", \"zerolinecolor\": \"#C6C2BF\"}, \"zaxis\": {\"backgroundcolor\": \"white\", \"gridcolor\": \"#C6C2BF\", \"gridwidth\": 2, \"linecolor\": \"#C6C2BF\", \"showbackground\": true, \"ticks\": \"\", \"zerolinecolor\": \"#C6C2BF\"}}, \"shapedefaults\": {\"fillcolor\": \"#C30000\", \"line\": {\"width\": 0}, \"opacity\": 0.4}, \"ternary\": {\"aaxis\": {\"gridcolor\": \"#C6C2BF\", \"linecolor\": \"#A2B1C6\", \"ticks\": \"\"}, \"baxis\": {\"gridcolor\": \"#C6C2BF\", \"linecolor\": \"#A2B1C6\", \"ticks\": \"\"}, \"bgcolor\": \"white\", \"caxis\": {\"gridcolor\": \"#C6C2BF\", \"linecolor\": \"#A2B1C6\", \"ticks\": \"\"}}, \"title\": {\"x\": 0.05}, \"xaxis\": {\"automargin\": true, \"gridcolor\": \"#C6C2BF\", \"linecolor\": \"#C6C2BF\", \"ticks\": \"\", \"zerolinecolor\": \"#C6C2BF\", \"zerolinewidth\": 2}, \"yaxis\": {\"automargin\": true, \"gridcolor\": \"#C6C2BF\", \"linecolor\": \"#C6C2BF\", \"ticks\": \"\", \"zerolinecolor\": \"#C6C2BF\", \"zerolinewidth\": 2}}}, \"title\": {\"text\": \"NAV\"}, \"xaxis\": {\"title\": {\"text\": \"Kaptekst\"}}, \"yaxis\": {\"title\": {\"text\": \"Regnskap HI\\u00c5\"}}},\n",
       "                        {\"showLink\": false, \"linkText\": \"Export to plot.ly\", \"plotlyServerURL\": \"https://plot.ly\", \"responsive\": true}\n",
       "                    ).then(function(){\n",
       "                            \n",
       "var gd = document.getElementById('3fc9aa50-3b7c-4b49-ad1d-c30837a4430e');\n",
       "var x = new MutationObserver(function (mutations, observer) {{\n",
       "        var display = window.getComputedStyle(gd).display;\n",
       "        if (!display || display === 'none') {{\n",
       "            console.log([gd, 'removed!']);\n",
       "            Plotly.purge(gd);\n",
       "            observer.disconnect();\n",
       "        }}\n",
       "}});\n",
       "\n",
       "// Listen for the removal of the full notebook cells\n",
       "var notebookContainer = gd.closest('#notebook-container');\n",
       "if (notebookContainer) {{\n",
       "    x.observe(notebookContainer, {childList: true});\n",
       "}}\n",
       "\n",
       "// Listen for the clearing of the current output cell\n",
       "var outputEl = gd.closest('.output');\n",
       "if (outputEl) {{\n",
       "    x.observe(outputEl, {childList: true});\n",
       "}}\n",
       "\n",
       "                        })\n",
       "                };\n",
       "                });\n",
       "            </script>\n",
       "        </div>"
      ]
     },
     "metadata": {},
     "output_type": "display_data"
    }
   ],
   "source": [
    "fig = px.bar(nav_hushold\n",
    "       , x='Kaptekst'\n",
    "       , y='Regnskap HIÅ'\n",
    "       , title='NAV'\n",
    "       ,template=nav_template\n",
    "      )\n",
    "\n",
    "\n",
    "#fig.layout.template = 'plotly_white'\n",
    "fig.layout.colorway = colorway\n",
    "fig"
   ]
  },
  {
   "cell_type": "code",
   "execution_count": null,
   "metadata": {},
   "outputs": [],
   "source": []
  },
  {
   "cell_type": "code",
   "execution_count": 68,
   "metadata": {},
   "outputs": [],
   "source": [
    "#templated_fig = plio.to_templated(fig)\n",
    "#templated_fig.layout.template"
   ]
  },
  {
   "cell_type": "code",
   "execution_count": 69,
   "metadata": {},
   "outputs": [
    {
     "data": {
      "application/vnd.plotly.v1+json": {
       "config": {
        "linkText": "Export to plot.ly",
        "plotlyServerURL": "https://plot.ly",
        "showLink": false
       },
       "data": [
        {
         "alignmentgroup": "True",
         "hoverlabel": {
          "namelength": 0
         },
         "hovertemplate": "Kaptekst=%{x}<br>Regnskap HIÅ=%{y}",
         "legendgroup": "",
         "marker": {
          "color": "#C30000"
         },
         "name": "",
         "offsetgroup": "",
         "orientation": "v",
         "showlegend": false,
         "textposition": "auto",
         "type": "bar",
         "uid": "d27a1d07-fa94-46cc-84b7-1692790513c7",
         "x": [
          "Arbeids- og velferdsetaten",
          "Arbeids- og velferdsetaten",
          "Arbeidsmarkedstiltak",
          "Arbeidsmarkedstiltak",
          "Arbeidsmarkedstiltak",
          "Arbeidsmarkedstiltak",
          "Ventelønn",
          "Krigspensjon",
          "Krigspensjon",
          "Avtalefestet pensjon (AFP)",
          "Supplerende stønad til personer over 67 år",
          "Dagpenger",
          "Statsgaranti for lønnskrav ved konkurs mv.",
          "Stønad til enslig mor eller far",
          "Stønad til enslig mor eller far",
          "Stønad til enslig mor eller far",
          "Stønad til enslig mor eller far",
          "Sykepenger",
          "Sykepenger",
          "Sykepenger",
          "Sykepenger",
          "Sykepenger",
          "Arbeidsavklaringspenger",
          "Arbeidsavklaringspenger",
          "Arbeidsavklaringspenger",
          "Uførhet",
          "Uførhet",
          "Uførhet",
          "Grunn- og hjelpestønad, hjelpemidler mv.",
          "Grunn- og hjelpestønad, hjelpemidler mv.",
          "Grunn- og hjelpestønad, hjelpemidler mv.",
          "Grunn- og hjelpestønad, hjelpemidler mv.",
          "Grunn- og hjelpestønad, hjelpemidler mv.",
          "Grunn- og hjelpestønad, hjelpemidler mv.",
          "Grunn- og hjelpestønad, hjelpemidler mv.",
          "Grunn- og hjelpestønad, hjelpemidler mv.",
          "Grunn- og hjelpestønad, hjelpemidler mv.",
          "Grunn- og hjelpestønad, hjelpemidler mv.",
          "Alderdom",
          "Alderdom",
          "Alderdom",
          "Alderdom",
          "Etterlatte",
          "Etterlatte",
          "Etterlatte",
          "Etterlatte",
          "Etterlatte",
          "Stønad ved gravferd",
          "Arbeidsmarkedstiltak",
          "Ventelønn mv.",
          "Diverse inntekter",
          "Diverse inntekter",
          "Diverse inntekter",
          "Statsgaranti for lønnskrav ved konkurs",
          "Regionale helseforetak",
          "Spesialisthelsetjeneste mv.",
          "Spesialisthelsetjeneste mv.",
          "Spesialisthelsetjeneste mv.",
          "Spesialisthelsetjeneste mv.",
          "Legemidler mv.",
          "Legemidler mv.",
          "Refusjon av egenbetaling",
          "Refusjon av egenbetaling",
          "Helsetjenester i kommunene mv.",
          "Helsetjenester i kommunene mv.",
          "Helsetjenester i kommunene mv.",
          "Helsetjenester i kommunene mv.",
          "Helsetjenester i kommunene mv.",
          "Helsetjenester i kommunene mv.",
          "Andre helsetjenester",
          "Andre helsetiltak",
          "Kontantstøtte",
          "Barnetrygd",
          "Foreldrepenger",
          "Foreldrepenger",
          "Foreldrepenger",
          "Foreldrepenger",
          "Folketrygdens inntekter"
         ],
         "xaxis": "x",
         "y": [
          15063,
          2218643.5,
          2446463594.72,
          484783894.28,
          25555047.96,
          19960063,
          4708281.13,
          20411691,
          55906758,
          796161206,
          104450623,
          3352936239.23,
          320718153.47,
          588990793,
          54615157,
          25519176,
          15652.49,
          11278910109,
          442295023,
          255095091,
          83189859.28,
          1807232,
          9877353016.3,
          65487548.35,
          76726427.31,
          30640525857,
          22148813,
          13952279,
          598257803,
          507194701,
          107244.84,
          42547397.41,
          239172412.96,
          1085555513.32,
          105381396.86,
          511332013.68,
          243875195.51,
          12453010.48,
          24686034519,
          48091928934,
          705859258,
          2012709589,
          364572234,
          272120300,
          27605378,
          64306,
          1859762,
          65462984,
          -1852927.77,
          -3521311.23,
          -7820.24,
          -1054676.41,
          -15962810.17,
          -53522503.03,
          458006933.99,
          395694046.2,
          60625066,
          352613015.3,
          142749739.68,
          4422827,
          1264482,
          395443924.87,
          75620504.83,
          146013733,
          894248939.6,
          203303125,
          9121062,
          28623345,
          23236605.94,
          42942418.52,
          8070344.07,
          500396080,
          5132805188,
          5105944779,
          297397014,
          97203,
          12726190,
          5306243
         ],
         "yaxis": "y"
        }
       ],
       "layout": {
        "barmode": "relative",
        "grid": {
         "xaxes": [
          "x"
         ],
         "xgap": 0.1,
         "xside": "bottom",
         "yaxes": [
          "y"
         ],
         "ygap": 0.1,
         "yside": "left"
        },
        "legend": {
         "tracegroupgap": 0
        },
        "template": {
         "data": {
          "bar": [
           {
            "marker": {
             "line": {
              "color": "white",
              "width": 0.5
             }
            },
            "type": "bar"
           }
          ],
          "barpolar": [
           {
            "marker": {
             "line": {
              "color": "white",
              "width": 0.5
             }
            },
            "type": "barpolar"
           }
          ],
          "carpet": [
           {
            "aaxis": {
             "endlinecolor": "#2a3f5f",
             "gridcolor": "#C6C2BF",
             "linecolor": "#C6C2BF",
             "minorgridcolor": "#C6C2BF",
             "startlinecolor": "#2a3f5f"
            },
            "baxis": {
             "endlinecolor": "#2a3f5f",
             "gridcolor": "#C6C2BF",
             "linecolor": "#C6C2BF",
             "minorgridcolor": "#C6C2BF",
             "startlinecolor": "#2a3f5f"
            },
            "type": "carpet"
           }
          ],
          "choropleth": [
           {
            "colorbar": {
             "outlinewidth": 0,
             "ticks": ""
            },
            "type": "choropleth"
           }
          ],
          "contour": [
           {
            "colorbar": {
             "outlinewidth": 0,
             "ticks": ""
            },
            "colorscale": [
             [
              0,
              "#0508b8"
             ],
             [
              0.0893854748603352,
              "#1910d8"
             ],
             [
              0.1787709497206704,
              "#3c19f0"
             ],
             [
              0.2681564245810056,
              "#6b1cfb"
             ],
             [
              0.3575418994413408,
              "#981cfd"
             ],
             [
              0.44692737430167595,
              "#bf1cfd"
             ],
             [
              0.5363128491620112,
              "#dd2bfd"
             ],
             [
              0.6256983240223464,
              "#f246fe"
             ],
             [
              0.7150837988826816,
              "#fc67fd"
             ],
             [
              0.8044692737430168,
              "#fe88fc"
             ],
             [
              0.8938547486033519,
              "#fea5fd"
             ],
             [
              0.9832402234636871,
              "#febefe"
             ],
             [
              1,
              "#fec3fe"
             ]
            ],
            "type": "contour"
           }
          ],
          "contourcarpet": [
           {
            "colorbar": {
             "outlinewidth": 0,
             "ticks": ""
            },
            "type": "contourcarpet"
           }
          ],
          "heatmap": [
           {
            "colorbar": {
             "outlinewidth": 0,
             "ticks": ""
            },
            "colorscale": [
             [
              0,
              "#0508b8"
             ],
             [
              0.0893854748603352,
              "#1910d8"
             ],
             [
              0.1787709497206704,
              "#3c19f0"
             ],
             [
              0.2681564245810056,
              "#6b1cfb"
             ],
             [
              0.3575418994413408,
              "#981cfd"
             ],
             [
              0.44692737430167595,
              "#bf1cfd"
             ],
             [
              0.5363128491620112,
              "#dd2bfd"
             ],
             [
              0.6256983240223464,
              "#f246fe"
             ],
             [
              0.7150837988826816,
              "#fc67fd"
             ],
             [
              0.8044692737430168,
              "#fe88fc"
             ],
             [
              0.8938547486033519,
              "#fea5fd"
             ],
             [
              0.9832402234636871,
              "#febefe"
             ],
             [
              1,
              "#fec3fe"
             ]
            ],
            "type": "heatmap"
           }
          ],
          "heatmapgl": [
           {
            "colorbar": {
             "outlinewidth": 0,
             "ticks": ""
            },
            "type": "heatmapgl"
           }
          ],
          "histogram": [
           {
            "marker": {
             "colorbar": {
              "outlinewidth": 0,
              "ticks": ""
             }
            },
            "type": "histogram"
           }
          ],
          "histogram2d": [
           {
            "colorbar": {
             "outlinewidth": 0,
             "ticks": ""
            },
            "colorscale": [
             [
              0,
              "#0508b8"
             ],
             [
              0.0893854748603352,
              "#1910d8"
             ],
             [
              0.1787709497206704,
              "#3c19f0"
             ],
             [
              0.2681564245810056,
              "#6b1cfb"
             ],
             [
              0.3575418994413408,
              "#981cfd"
             ],
             [
              0.44692737430167595,
              "#bf1cfd"
             ],
             [
              0.5363128491620112,
              "#dd2bfd"
             ],
             [
              0.6256983240223464,
              "#f246fe"
             ],
             [
              0.7150837988826816,
              "#fc67fd"
             ],
             [
              0.8044692737430168,
              "#fe88fc"
             ],
             [
              0.8938547486033519,
              "#fea5fd"
             ],
             [
              0.9832402234636871,
              "#febefe"
             ],
             [
              1,
              "#fec3fe"
             ]
            ],
            "type": "histogram2d"
           }
          ],
          "histogram2dcontour": [
           {
            "colorbar": {
             "outlinewidth": 0,
             "ticks": ""
            },
            "colorscale": [
             [
              0,
              "#0508b8"
             ],
             [
              0.0893854748603352,
              "#1910d8"
             ],
             [
              0.1787709497206704,
              "#3c19f0"
             ],
             [
              0.2681564245810056,
              "#6b1cfb"
             ],
             [
              0.3575418994413408,
              "#981cfd"
             ],
             [
              0.44692737430167595,
              "#bf1cfd"
             ],
             [
              0.5363128491620112,
              "#dd2bfd"
             ],
             [
              0.6256983240223464,
              "#f246fe"
             ],
             [
              0.7150837988826816,
              "#fc67fd"
             ],
             [
              0.8044692737430168,
              "#fe88fc"
             ],
             [
              0.8938547486033519,
              "#fea5fd"
             ],
             [
              0.9832402234636871,
              "#febefe"
             ],
             [
              1,
              "#fec3fe"
             ]
            ],
            "type": "histogram2dcontour"
           }
          ],
          "mesh3d": [
           {
            "colorbar": {
             "outlinewidth": 0,
             "ticks": ""
            },
            "type": "mesh3d"
           }
          ],
          "parcoords": [
           {
            "line": {
             "colorbar": {
              "outlinewidth": 0,
              "ticks": ""
             }
            },
            "type": "parcoords"
           }
          ],
          "scatter": [
           {
            "marker": {
             "colorbar": {
              "outlinewidth": 0,
              "ticks": ""
             }
            },
            "type": "scatter"
           }
          ],
          "scatter3d": [
           {
            "marker": {
             "colorbar": {
              "outlinewidth": 0,
              "ticks": ""
             }
            },
            "type": "scatter3d"
           }
          ],
          "scattercarpet": [
           {
            "marker": {
             "colorbar": {
              "outlinewidth": 0,
              "ticks": ""
             }
            },
            "type": "scattercarpet"
           }
          ],
          "scattergeo": [
           {
            "marker": {
             "colorbar": {
              "outlinewidth": 0,
              "ticks": ""
             }
            },
            "type": "scattergeo"
           }
          ],
          "scattergl": [
           {
            "marker": {
             "colorbar": {
              "outlinewidth": 0,
              "ticks": ""
             }
            },
            "type": "scattergl"
           }
          ],
          "scattermapbox": [
           {
            "marker": {
             "colorbar": {
              "outlinewidth": 0,
              "ticks": ""
             }
            },
            "type": "scattermapbox"
           }
          ],
          "scatterpolar": [
           {
            "marker": {
             "colorbar": {
              "outlinewidth": 0,
              "ticks": ""
             }
            },
            "type": "scatterpolar"
           }
          ],
          "scatterpolargl": [
           {
            "marker": {
             "colorbar": {
              "outlinewidth": 0,
              "ticks": ""
             }
            },
            "type": "scatterpolargl"
           }
          ],
          "scatterternary": [
           {
            "marker": {
             "colorbar": {
              "outlinewidth": 0,
              "ticks": ""
             }
            },
            "type": "scatterternary"
           }
          ],
          "surface": [
           {
            "colorbar": {
             "outlinewidth": 0,
             "ticks": ""
            },
            "type": "surface"
           }
          ],
          "table": [
           {
            "cells": {
             "fill": {
              "color": "#C6C2BF"
             },
             "line": {
              "color": "white"
             }
            },
            "header": {
             "fill": {
              "color": "#C6C2BF"
             },
             "line": {
              "color": "white"
             }
            },
            "type": "table"
           }
          ]
         },
         "layout": {
          "annotationdefaults": {
           "arrowcolor": "#506784",
           "arrowhead": 0,
           "arrowwidth": 1
          },
          "colorscale": {
           "diverging": [
            [
             0,
             "#8e0152"
            ],
            [
             0.1,
             "#c51b7d"
            ],
            [
             0.2,
             "#de77ae"
            ],
            [
             0.3,
             "#f1b6da"
            ],
            [
             0.4,
             "#fde0ef"
            ],
            [
             0.5,
             "#f7f7f7"
            ],
            [
             0.6,
             "#e6f5d0"
            ],
            [
             0.7,
             "#b8e186"
            ],
            [
             0.8,
             "#7fbc41"
            ],
            [
             0.9,
             "#4d9221"
            ],
            [
             1,
             "#276419"
            ]
           ],
           "sequential": [
            [
             0,
             "#0508b8"
            ],
            [
             0.0893854748603352,
             "#1910d8"
            ],
            [
             0.1787709497206704,
             "#3c19f0"
            ],
            [
             0.2681564245810056,
             "#6b1cfb"
            ],
            [
             0.3575418994413408,
             "#981cfd"
            ],
            [
             0.44692737430167595,
             "#bf1cfd"
            ],
            [
             0.5363128491620112,
             "#dd2bfd"
            ],
            [
             0.6256983240223464,
             "#f246fe"
            ],
            [
             0.7150837988826816,
             "#fc67fd"
            ],
            [
             0.8044692737430168,
             "#fe88fc"
            ],
            [
             0.8938547486033519,
             "#fea5fd"
            ],
            [
             0.9832402234636871,
             "#febefe"
            ],
            [
             1,
             "#fec3fe"
            ]
           ],
           "sequentialminus": [
            [
             0,
             "#0508b8"
            ],
            [
             0.0893854748603352,
             "#1910d8"
            ],
            [
             0.1787709497206704,
             "#3c19f0"
            ],
            [
             0.2681564245810056,
             "#6b1cfb"
            ],
            [
             0.3575418994413408,
             "#981cfd"
            ],
            [
             0.44692737430167595,
             "#bf1cfd"
            ],
            [
             0.5363128491620112,
             "#dd2bfd"
            ],
            [
             0.6256983240223464,
             "#f246fe"
            ],
            [
             0.7150837988826816,
             "#fc67fd"
            ],
            [
             0.8044692737430168,
             "#fe88fc"
            ],
            [
             0.8938547486033519,
             "#fea5fd"
            ],
            [
             0.9832402234636871,
             "#febefe"
            ],
            [
             1,
             "#fec3fe"
            ]
           ]
          },
          "colorway": [
           "#C30000",
           "#FF9100",
           "#A2AD00",
           "#06893A ",
           "#634689",
           "#005B82",
           "#0067C5",
           "#66CBEC",
           "#3E3832",
           "#B7B1A9"
          ],
          "font": {
           "color": "#2a3f5f",
           "family": "Helvetica Neue"
          },
          "geo": {
           "bgcolor": "white",
           "lakecolor": "white",
           "landcolor": "white",
           "showlakes": true,
           "showland": true,
           "subunitcolor": "#C6C2BF"
          },
          "hoverlabel": {
           "align": "left"
          },
          "hovermode": "closest",
          "mapbox": {
           "style": "light"
          },
          "paper_bgcolor": "white",
          "plot_bgcolor": "white",
          "polar": {
           "angularaxis": {
            "gridcolor": "#C6C2BF",
            "linecolor": "#C6C2BF",
            "ticks": ""
           },
           "bgcolor": "white",
           "radialaxis": {
            "gridcolor": "#C6C2BF",
            "linecolor": "#C6C2BF",
            "ticks": ""
           }
          },
          "scene": {
           "xaxis": {
            "backgroundcolor": "white",
            "gridcolor": "#C6C2BF",
            "gridwidth": 2,
            "linecolor": "#C6C2BF",
            "showbackground": true,
            "ticks": "",
            "zerolinecolor": "#C6C2BF"
           },
           "yaxis": {
            "backgroundcolor": "white",
            "gridcolor": "#C6C2BF",
            "gridwidth": 2,
            "linecolor": "#C6C2BF",
            "showbackground": true,
            "ticks": "",
            "zerolinecolor": "#C6C2BF"
           },
           "zaxis": {
            "backgroundcolor": "white",
            "gridcolor": "#C6C2BF",
            "gridwidth": 2,
            "linecolor": "#C6C2BF",
            "showbackground": true,
            "ticks": "",
            "zerolinecolor": "#C6C2BF"
           }
          },
          "shapedefaults": {
           "fillcolor": "#C30000",
           "line": {
            "width": 0
           },
           "opacity": 0.4
          },
          "ternary": {
           "aaxis": {
            "gridcolor": "#C6C2BF",
            "linecolor": "#A2B1C6",
            "ticks": ""
           },
           "baxis": {
            "gridcolor": "#C6C2BF",
            "linecolor": "#A2B1C6",
            "ticks": ""
           },
           "bgcolor": "white",
           "caxis": {
            "gridcolor": "#C6C2BF",
            "linecolor": "#A2B1C6",
            "ticks": ""
           }
          },
          "title": {
           "x": 0.05
          },
          "xaxis": {
           "automargin": true,
           "gridcolor": "#C6C2BF",
           "linecolor": "#C6C2BF",
           "ticks": "",
           "zerolinecolor": "#C6C2BF",
           "zerolinewidth": 2
          },
          "yaxis": {
           "automargin": true,
           "gridcolor": "#C6C2BF",
           "linecolor": "#C6C2BF",
           "ticks": "",
           "zerolinecolor": "#C6C2BF",
           "zerolinewidth": 2
          }
         }
        },
        "title": {
         "text": "NAV"
        },
        "xaxis": {
         "title": {
          "text": "Kaptekst"
         }
        },
        "yaxis": {
         "title": {
          "text": "Regnskap HIÅ"
         }
        }
       }
      },
      "text/html": [
       "<div>\n",
       "        \n",
       "        \n",
       "            <div id=\"4a8772a5-b677-41e3-a942-60eb70847ee8\" class=\"plotly-graph-div\" style=\"height:525px; width:100%;\"></div>\n",
       "            <script type=\"text/javascript\">\n",
       "                require([\"plotly\"], function(Plotly) {\n",
       "                    window.PLOTLYENV=window.PLOTLYENV || {};\n",
       "                    window.PLOTLYENV.BASE_URL='https://plot.ly';\n",
       "                    \n",
       "                if (document.getElementById(\"4a8772a5-b677-41e3-a942-60eb70847ee8\")) {\n",
       "                    Plotly.newPlot(\n",
       "                        '4a8772a5-b677-41e3-a942-60eb70847ee8',\n",
       "                        [{\"alignmentgroup\": \"True\", \"hoverlabel\": {\"namelength\": 0}, \"hovertemplate\": \"Kaptekst=%{x}<br>Regnskap HI\\u00c5=%{y}\", \"legendgroup\": \"\", \"marker\": {\"color\": \"#C30000\"}, \"name\": \"\", \"offsetgroup\": \"\", \"orientation\": \"v\", \"showlegend\": false, \"textposition\": \"auto\", \"type\": \"bar\", \"uid\": \"d27a1d07-fa94-46cc-84b7-1692790513c7\", \"x\": [\"Arbeids- og velferdsetaten\", \"Arbeids- og velferdsetaten\", \"Arbeidsmarkedstiltak\", \"Arbeidsmarkedstiltak\", \"Arbeidsmarkedstiltak\", \"Arbeidsmarkedstiltak\", \"Ventel\\u00f8nn\", \"Krigspensjon\", \"Krigspensjon\", \"Avtalefestet pensjon (AFP)\", \"Supplerende st\\u00f8nad til personer over 67 \\u00e5r\", \"Dagpenger\", \"Statsgaranti for l\\u00f8nnskrav ved konkurs mv.\", \"St\\u00f8nad til enslig mor eller far\", \"St\\u00f8nad til enslig mor eller far\", \"St\\u00f8nad til enslig mor eller far\", \"St\\u00f8nad til enslig mor eller far\", \"Sykepenger\", \"Sykepenger\", \"Sykepenger\", \"Sykepenger\", \"Sykepenger\", \"Arbeidsavklaringspenger\", \"Arbeidsavklaringspenger\", \"Arbeidsavklaringspenger\", \"Uf\\u00f8rhet\", \"Uf\\u00f8rhet\", \"Uf\\u00f8rhet\", \"Grunn- og hjelpest\\u00f8nad, hjelpemidler mv.\", \"Grunn- og hjelpest\\u00f8nad, hjelpemidler mv.\", \"Grunn- og hjelpest\\u00f8nad, hjelpemidler mv.\", \"Grunn- og hjelpest\\u00f8nad, hjelpemidler mv.\", \"Grunn- og hjelpest\\u00f8nad, hjelpemidler mv.\", \"Grunn- og hjelpest\\u00f8nad, hjelpemidler mv.\", \"Grunn- og hjelpest\\u00f8nad, hjelpemidler mv.\", \"Grunn- og hjelpest\\u00f8nad, hjelpemidler mv.\", \"Grunn- og hjelpest\\u00f8nad, hjelpemidler mv.\", \"Grunn- og hjelpest\\u00f8nad, hjelpemidler mv.\", \"Alderdom\", \"Alderdom\", \"Alderdom\", \"Alderdom\", \"Etterlatte\", \"Etterlatte\", \"Etterlatte\", \"Etterlatte\", \"Etterlatte\", \"St\\u00f8nad ved gravferd\", \"Arbeidsmarkedstiltak\", \"Ventel\\u00f8nn mv.\", \"Diverse inntekter\", \"Diverse inntekter\", \"Diverse inntekter\", \"Statsgaranti for l\\u00f8nnskrav ved konkurs\", \"Regionale helseforetak\", \"Spesialisthelsetjeneste mv.\", \"Spesialisthelsetjeneste mv.\", \"Spesialisthelsetjeneste mv.\", \"Spesialisthelsetjeneste mv.\", \"Legemidler mv.\", \"Legemidler mv.\", \"Refusjon av egenbetaling\", \"Refusjon av egenbetaling\", \"Helsetjenester i kommunene mv.\", \"Helsetjenester i kommunene mv.\", \"Helsetjenester i kommunene mv.\", \"Helsetjenester i kommunene mv.\", \"Helsetjenester i kommunene mv.\", \"Helsetjenester i kommunene mv.\", \"Andre helsetjenester\", \"Andre helsetiltak\", \"Kontantst\\u00f8tte\", \"Barnetrygd\", \"Foreldrepenger\", \"Foreldrepenger\", \"Foreldrepenger\", \"Foreldrepenger\", \"Folketrygdens inntekter\"], \"xaxis\": \"x\", \"y\": [15063.0, 2218643.5, 2446463594.72, 484783894.28, 25555047.96, 19960063.0, 4708281.13, 20411691.0, 55906758.0, 796161206.0, 104450623.0, 3352936239.23, 320718153.47, 588990793.0, 54615157.0, 25519176.0, 15652.49, 11278910109.0, 442295023.0, 255095091.0, 83189859.28, 1807232.0, 9877353016.3, 65487548.35, 76726427.31, 30640525857.0, 22148813.0, 13952279.0, 598257803.0, 507194701.0, 107244.84, 42547397.41, 239172412.96, 1085555513.32, 105381396.86, 511332013.68, 243875195.51, 12453010.48, 24686034519.0, 48091928934.0, 705859258.0, 2012709589.0, 364572234.0, 272120300.0, 27605378.0, 64306.0, 1859762.0, 65462984.0, -1852927.77, -3521311.23, -7820.24, -1054676.41, -15962810.17, -53522503.03, 458006933.99, 395694046.2, 60625066.0, 352613015.3, 142749739.68, 4422827.0, 1264482.0, 395443924.87, 75620504.83, 146013733.0, 894248939.6, 203303125.0, 9121062.0, 28623345.0, 23236605.94, 42942418.52, 8070344.07, 500396080.0, 5132805188.0, 5105944779.0, 297397014.0, 97203.0, 12726190.0, 5306243.0], \"yaxis\": \"y\"}],\n",
       "                        {\"barmode\": \"relative\", \"grid\": {\"xaxes\": [\"x\"], \"xgap\": 0.1, \"xside\": \"bottom\", \"yaxes\": [\"y\"], \"ygap\": 0.1, \"yside\": \"left\"}, \"legend\": {\"tracegroupgap\": 0}, \"template\": {\"data\": {\"bar\": [{\"marker\": {\"line\": {\"color\": \"white\", \"width\": 0.5}}, \"type\": \"bar\"}], \"barpolar\": [{\"marker\": {\"line\": {\"color\": \"white\", \"width\": 0.5}}, \"type\": \"barpolar\"}], \"carpet\": [{\"aaxis\": {\"endlinecolor\": \"#2a3f5f\", \"gridcolor\": \"#C6C2BF\", \"linecolor\": \"#C6C2BF\", \"minorgridcolor\": \"#C6C2BF\", \"startlinecolor\": \"#2a3f5f\"}, \"baxis\": {\"endlinecolor\": \"#2a3f5f\", \"gridcolor\": \"#C6C2BF\", \"linecolor\": \"#C6C2BF\", \"minorgridcolor\": \"#C6C2BF\", \"startlinecolor\": \"#2a3f5f\"}, \"type\": \"carpet\"}], \"choropleth\": [{\"colorbar\": {\"outlinewidth\": 0, \"ticks\": \"\"}, \"type\": \"choropleth\"}], \"contour\": [{\"colorbar\": {\"outlinewidth\": 0, \"ticks\": \"\"}, \"colorscale\": [[0.0, \"#0508b8\"], [0.0893854748603352, \"#1910d8\"], [0.1787709497206704, \"#3c19f0\"], [0.2681564245810056, \"#6b1cfb\"], [0.3575418994413408, \"#981cfd\"], [0.44692737430167595, \"#bf1cfd\"], [0.5363128491620112, \"#dd2bfd\"], [0.6256983240223464, \"#f246fe\"], [0.7150837988826816, \"#fc67fd\"], [0.8044692737430168, \"#fe88fc\"], [0.8938547486033519, \"#fea5fd\"], [0.9832402234636871, \"#febefe\"], [1.0, \"#fec3fe\"]], \"type\": \"contour\"}], \"contourcarpet\": [{\"colorbar\": {\"outlinewidth\": 0, \"ticks\": \"\"}, \"type\": \"contourcarpet\"}], \"heatmap\": [{\"colorbar\": {\"outlinewidth\": 0, \"ticks\": \"\"}, \"colorscale\": [[0.0, \"#0508b8\"], [0.0893854748603352, \"#1910d8\"], [0.1787709497206704, \"#3c19f0\"], [0.2681564245810056, \"#6b1cfb\"], [0.3575418994413408, \"#981cfd\"], [0.44692737430167595, \"#bf1cfd\"], [0.5363128491620112, \"#dd2bfd\"], [0.6256983240223464, \"#f246fe\"], [0.7150837988826816, \"#fc67fd\"], [0.8044692737430168, \"#fe88fc\"], [0.8938547486033519, \"#fea5fd\"], [0.9832402234636871, \"#febefe\"], [1.0, \"#fec3fe\"]], \"type\": \"heatmap\"}], \"heatmapgl\": [{\"colorbar\": {\"outlinewidth\": 0, \"ticks\": \"\"}, \"type\": \"heatmapgl\"}], \"histogram\": [{\"marker\": {\"colorbar\": {\"outlinewidth\": 0, \"ticks\": \"\"}}, \"type\": \"histogram\"}], \"histogram2d\": [{\"colorbar\": {\"outlinewidth\": 0, \"ticks\": \"\"}, \"colorscale\": [[0.0, \"#0508b8\"], [0.0893854748603352, \"#1910d8\"], [0.1787709497206704, \"#3c19f0\"], [0.2681564245810056, \"#6b1cfb\"], [0.3575418994413408, \"#981cfd\"], [0.44692737430167595, \"#bf1cfd\"], [0.5363128491620112, \"#dd2bfd\"], [0.6256983240223464, \"#f246fe\"], [0.7150837988826816, \"#fc67fd\"], [0.8044692737430168, \"#fe88fc\"], [0.8938547486033519, \"#fea5fd\"], [0.9832402234636871, \"#febefe\"], [1.0, \"#fec3fe\"]], \"type\": \"histogram2d\"}], \"histogram2dcontour\": [{\"colorbar\": {\"outlinewidth\": 0, \"ticks\": \"\"}, \"colorscale\": [[0.0, \"#0508b8\"], [0.0893854748603352, \"#1910d8\"], [0.1787709497206704, \"#3c19f0\"], [0.2681564245810056, \"#6b1cfb\"], [0.3575418994413408, \"#981cfd\"], [0.44692737430167595, \"#bf1cfd\"], [0.5363128491620112, \"#dd2bfd\"], [0.6256983240223464, \"#f246fe\"], [0.7150837988826816, \"#fc67fd\"], [0.8044692737430168, \"#fe88fc\"], [0.8938547486033519, \"#fea5fd\"], [0.9832402234636871, \"#febefe\"], [1.0, \"#fec3fe\"]], \"type\": \"histogram2dcontour\"}], \"mesh3d\": [{\"colorbar\": {\"outlinewidth\": 0, \"ticks\": \"\"}, \"type\": \"mesh3d\"}], \"parcoords\": [{\"line\": {\"colorbar\": {\"outlinewidth\": 0, \"ticks\": \"\"}}, \"type\": \"parcoords\"}], \"scatter\": [{\"marker\": {\"colorbar\": {\"outlinewidth\": 0, \"ticks\": \"\"}}, \"type\": \"scatter\"}], \"scatter3d\": [{\"marker\": {\"colorbar\": {\"outlinewidth\": 0, \"ticks\": \"\"}}, \"type\": \"scatter3d\"}], \"scattercarpet\": [{\"marker\": {\"colorbar\": {\"outlinewidth\": 0, \"ticks\": \"\"}}, \"type\": \"scattercarpet\"}], \"scattergeo\": [{\"marker\": {\"colorbar\": {\"outlinewidth\": 0, \"ticks\": \"\"}}, \"type\": \"scattergeo\"}], \"scattergl\": [{\"marker\": {\"colorbar\": {\"outlinewidth\": 0, \"ticks\": \"\"}}, \"type\": \"scattergl\"}], \"scattermapbox\": [{\"marker\": {\"colorbar\": {\"outlinewidth\": 0, \"ticks\": \"\"}}, \"type\": \"scattermapbox\"}], \"scatterpolar\": [{\"marker\": {\"colorbar\": {\"outlinewidth\": 0, \"ticks\": \"\"}}, \"type\": \"scatterpolar\"}], \"scatterpolargl\": [{\"marker\": {\"colorbar\": {\"outlinewidth\": 0, \"ticks\": \"\"}}, \"type\": \"scatterpolargl\"}], \"scatterternary\": [{\"marker\": {\"colorbar\": {\"outlinewidth\": 0, \"ticks\": \"\"}}, \"type\": \"scatterternary\"}], \"surface\": [{\"colorbar\": {\"outlinewidth\": 0, \"ticks\": \"\"}, \"type\": \"surface\"}], \"table\": [{\"cells\": {\"fill\": {\"color\": \"#C6C2BF\"}, \"line\": {\"color\": \"white\"}}, \"header\": {\"fill\": {\"color\": \"#C6C2BF\"}, \"line\": {\"color\": \"white\"}}, \"type\": \"table\"}]}, \"layout\": {\"annotationdefaults\": {\"arrowcolor\": \"#506784\", \"arrowhead\": 0, \"arrowwidth\": 1}, \"colorscale\": {\"diverging\": [[0, \"#8e0152\"], [0.1, \"#c51b7d\"], [0.2, \"#de77ae\"], [0.3, \"#f1b6da\"], [0.4, \"#fde0ef\"], [0.5, \"#f7f7f7\"], [0.6, \"#e6f5d0\"], [0.7, \"#b8e186\"], [0.8, \"#7fbc41\"], [0.9, \"#4d9221\"], [1, \"#276419\"]], \"sequential\": [[0.0, \"#0508b8\"], [0.0893854748603352, \"#1910d8\"], [0.1787709497206704, \"#3c19f0\"], [0.2681564245810056, \"#6b1cfb\"], [0.3575418994413408, \"#981cfd\"], [0.44692737430167595, \"#bf1cfd\"], [0.5363128491620112, \"#dd2bfd\"], [0.6256983240223464, \"#f246fe\"], [0.7150837988826816, \"#fc67fd\"], [0.8044692737430168, \"#fe88fc\"], [0.8938547486033519, \"#fea5fd\"], [0.9832402234636871, \"#febefe\"], [1.0, \"#fec3fe\"]], \"sequentialminus\": [[0.0, \"#0508b8\"], [0.0893854748603352, \"#1910d8\"], [0.1787709497206704, \"#3c19f0\"], [0.2681564245810056, \"#6b1cfb\"], [0.3575418994413408, \"#981cfd\"], [0.44692737430167595, \"#bf1cfd\"], [0.5363128491620112, \"#dd2bfd\"], [0.6256983240223464, \"#f246fe\"], [0.7150837988826816, \"#fc67fd\"], [0.8044692737430168, \"#fe88fc\"], [0.8938547486033519, \"#fea5fd\"], [0.9832402234636871, \"#febefe\"], [1.0, \"#fec3fe\"]]}, \"colorway\": [\"#C30000\", \"#FF9100\", \"#A2AD00\", \"#06893A \", \"#634689\", \"#005B82\", \"#0067C5\", \"#66CBEC\", \"#3E3832\", \"#B7B1A9\"], \"font\": {\"color\": \"#2a3f5f\", \"family\": \"Helvetica Neue\"}, \"geo\": {\"bgcolor\": \"white\", \"lakecolor\": \"white\", \"landcolor\": \"white\", \"showlakes\": true, \"showland\": true, \"subunitcolor\": \"#C6C2BF\"}, \"hoverlabel\": {\"align\": \"left\"}, \"hovermode\": \"closest\", \"mapbox\": {\"style\": \"light\"}, \"paper_bgcolor\": \"white\", \"plot_bgcolor\": \"white\", \"polar\": {\"angularaxis\": {\"gridcolor\": \"#C6C2BF\", \"linecolor\": \"#C6C2BF\", \"ticks\": \"\"}, \"bgcolor\": \"white\", \"radialaxis\": {\"gridcolor\": \"#C6C2BF\", \"linecolor\": \"#C6C2BF\", \"ticks\": \"\"}}, \"scene\": {\"xaxis\": {\"backgroundcolor\": \"white\", \"gridcolor\": \"#C6C2BF\", \"gridwidth\": 2, \"linecolor\": \"#C6C2BF\", \"showbackground\": true, \"ticks\": \"\", \"zerolinecolor\": \"#C6C2BF\"}, \"yaxis\": {\"backgroundcolor\": \"white\", \"gridcolor\": \"#C6C2BF\", \"gridwidth\": 2, \"linecolor\": \"#C6C2BF\", \"showbackground\": true, \"ticks\": \"\", \"zerolinecolor\": \"#C6C2BF\"}, \"zaxis\": {\"backgroundcolor\": \"white\", \"gridcolor\": \"#C6C2BF\", \"gridwidth\": 2, \"linecolor\": \"#C6C2BF\", \"showbackground\": true, \"ticks\": \"\", \"zerolinecolor\": \"#C6C2BF\"}}, \"shapedefaults\": {\"fillcolor\": \"#C30000\", \"line\": {\"width\": 0}, \"opacity\": 0.4}, \"ternary\": {\"aaxis\": {\"gridcolor\": \"#C6C2BF\", \"linecolor\": \"#A2B1C6\", \"ticks\": \"\"}, \"baxis\": {\"gridcolor\": \"#C6C2BF\", \"linecolor\": \"#A2B1C6\", \"ticks\": \"\"}, \"bgcolor\": \"white\", \"caxis\": {\"gridcolor\": \"#C6C2BF\", \"linecolor\": \"#A2B1C6\", \"ticks\": \"\"}}, \"title\": {\"x\": 0.05}, \"xaxis\": {\"automargin\": true, \"gridcolor\": \"#C6C2BF\", \"linecolor\": \"#C6C2BF\", \"ticks\": \"\", \"zerolinecolor\": \"#C6C2BF\", \"zerolinewidth\": 2}, \"yaxis\": {\"automargin\": true, \"gridcolor\": \"#C6C2BF\", \"linecolor\": \"#C6C2BF\", \"ticks\": \"\", \"zerolinecolor\": \"#C6C2BF\", \"zerolinewidth\": 2}}}, \"title\": {\"text\": \"NAV\"}, \"xaxis\": {\"title\": {\"text\": \"Kaptekst\"}}, \"yaxis\": {\"title\": {\"text\": \"Regnskap HI\\u00c5\"}}},\n",
       "                        {\"showLink\": false, \"linkText\": \"Export to plot.ly\", \"plotlyServerURL\": \"https://plot.ly\", \"responsive\": true}\n",
       "                    ).then(function(){\n",
       "                            \n",
       "var gd = document.getElementById('4a8772a5-b677-41e3-a942-60eb70847ee8');\n",
       "var x = new MutationObserver(function (mutations, observer) {{\n",
       "        var display = window.getComputedStyle(gd).display;\n",
       "        if (!display || display === 'none') {{\n",
       "            console.log([gd, 'removed!']);\n",
       "            Plotly.purge(gd);\n",
       "            observer.disconnect();\n",
       "        }}\n",
       "}});\n",
       "\n",
       "// Listen for the removal of the full notebook cells\n",
       "var notebookContainer = gd.closest('#notebook-container');\n",
       "if (notebookContainer) {{\n",
       "    x.observe(notebookContainer, {childList: true});\n",
       "}}\n",
       "\n",
       "// Listen for the clearing of the current output cell\n",
       "var outputEl = gd.closest('.output');\n",
       "if (outputEl) {{\n",
       "    x.observe(outputEl, {childList: true});\n",
       "}}\n",
       "\n",
       "                        })\n",
       "                };\n",
       "                });\n",
       "            </script>\n",
       "        </div>"
      ]
     },
     "metadata": {},
     "output_type": "display_data"
    }
   ],
   "source": [
    "fig = px.bar(nav_hushold\n",
    "       , x='Kaptekst'\n",
    "       , y='Regnskap HIÅ'\n",
    "       , title='NAV'\n",
    "      )\n",
    "fig"
   ]
  },
  {
   "cell_type": "code",
   "execution_count": 36,
   "metadata": {},
   "outputs": [],
   "source": [
    "gapminder = px.data.gapminder()"
   ]
  },
  {
   "cell_type": "code",
   "execution_count": 37,
   "metadata": {},
   "outputs": [
    {
     "data": {
      "application/vnd.plotly.v1+json": {
       "config": {
        "linkText": "Export to plot.ly",
        "plotlyServerURL": "https://plot.ly",
        "showLink": false
       },
       "data": [
        {
         "hoverlabel": {
          "namelength": 0
         },
         "hovertemplate": "continent=Asia<br>gdpPercap=%{x}<br>lifeExp=%{y}",
         "legendgroup": "continent=Asia",
         "marker": {
          "color": "#C30000",
          "symbol": "circle"
         },
         "mode": "markers",
         "name": "continent=Asia",
         "showlegend": true,
         "type": "scatter",
         "uid": "2e077ddd-c6b5-4105-8d12-cf17a0b01ce7",
         "x": [
          974.5803384,
          29796.048339999998,
          1391.253792,
          1713.7786859999999,
          4959.1148539999995,
          39724.97867,
          2452.210407,
          3540.6515640000002,
          11605.71449,
          4471.061906,
          25523.2771,
          31656.06806,
          4519.461171,
          1593.06548,
          23348.139730000003,
          47306.98978,
          10461.05868,
          12451.6558,
          3095.7722710000003,
          944,
          1091.359778,
          22316.19287,
          2605.94758,
          3190.481016,
          21654.83194,
          47143.179639999995,
          3970.0954070000003,
          4184.548089,
          28718.27684,
          7458.3963269999995,
          2441.576404,
          3025.349798,
          2280.769906
         ],
         "xaxis": "x",
         "y": [
          43.828,
          75.635,
          64.062,
          59.723,
          72.961,
          82.208,
          64.69800000000001,
          70.65,
          70.964,
          59.545,
          80.745,
          82.603,
          72.535,
          67.297,
          78.623,
          77.58800000000001,
          71.993,
          74.241,
          66.803,
          62.068999999999996,
          63.785,
          75.64,
          65.483,
          71.688,
          72.777,
          79.972,
          72.396,
          74.143,
          78.4,
          70.616,
          74.249,
          73.422,
          62.698
         ],
         "yaxis": "y"
        },
        {
         "hoverlabel": {
          "namelength": 0
         },
         "hovertemplate": "continent=Europe<br>gdpPercap=%{x}<br>lifeExp=%{y}",
         "legendgroup": "continent=Europe",
         "marker": {
          "color": "#FF9100",
          "symbol": "circle"
         },
         "mode": "markers",
         "name": "continent=Europe",
         "showlegend": true,
         "type": "scatter",
         "uid": "2234e01d-226f-44fd-b585-0a969ba41d7a",
         "x": [
          5937.029525999999,
          36126.4927,
          33692.60508,
          7446.298803,
          10680.79282,
          14619.222719999998,
          22833.30851,
          35278.41874,
          33207.0844,
          30470.0167,
          32170.37442,
          27538.41188,
          18008.94444,
          36180.789189999996,
          40675.99635,
          28569.7197,
          9253.896111,
          36797.93332,
          49357.19017,
          15389.924680000002,
          20509.64777,
          10808.47561,
          9786.534714,
          18678.31435,
          25768.25759,
          28821.0637,
          33859.74835,
          37506.419069999996,
          8458.276384,
          33203.26128
         ],
         "xaxis": "x",
         "y": [
          76.423,
          79.829,
          79.441,
          74.852,
          73.005,
          75.748,
          76.486,
          78.332,
          79.313,
          80.657,
          79.406,
          79.483,
          73.33800000000001,
          81.757,
          78.885,
          80.546,
          74.543,
          79.762,
          80.196,
          75.563,
          78.098,
          72.476,
          74.002,
          74.663,
          77.926,
          80.941,
          80.884,
          81.70100000000001,
          71.777,
          79.425
         ],
         "yaxis": "y"
        },
        {
         "hoverlabel": {
          "namelength": 0
         },
         "hovertemplate": "continent=Africa<br>gdpPercap=%{x}<br>lifeExp=%{y}",
         "legendgroup": "continent=Africa",
         "marker": {
          "color": "#A2AD00",
          "symbol": "circle"
         },
         "mode": "markers",
         "name": "continent=Africa",
         "showlegend": true,
         "type": "scatter",
         "uid": "e4df104a-6d39-4a27-bb36-0de680e74d7e",
         "x": [
          6223.367465,
          4797.231267,
          1441.284873,
          12569.851770000001,
          1217.032994,
          430.07069160000003,
          2042.0952399999999,
          706.016537,
          1704.0637239999999,
          986.1478792000001,
          277.55185869999997,
          3632.557798,
          1544.750112,
          2082.4815670000003,
          5581.180998,
          12154.08975,
          641.3695236000001,
          690.8055759,
          13206.48452,
          752.7497265,
          1327.60891,
          942.6542111,
          579.2317429999999,
          1463.249282,
          1569.331442,
          414.5073415,
          12057.49928,
          1044.770126,
          759.3499101,
          1042.581557,
          1803.1514960000002,
          10956.99112,
          3820.17523,
          823.6856205,
          4811.060429,
          619.6768923999999,
          2013.9773050000001,
          7670.122558,
          863.0884639000001,
          1598.435089,
          1712.4721359999999,
          862.5407561000001,
          926.1410683,
          9269.657808,
          2602.394995,
          4513.480643,
          1107.482182,
          882.9699437999999,
          7092.923025,
          1056.3801210000001,
          1271.211593,
          469.70929810000007
         ],
         "xaxis": "x",
         "y": [
          72.301,
          42.731,
          56.728,
          50.728,
          52.295,
          49.58,
          50.43,
          44.74100000000001,
          50.651,
          65.152,
          46.461999999999996,
          55.321999999999996,
          48.328,
          54.791000000000004,
          71.33800000000001,
          51.57899999999999,
          58.04,
          52.946999999999996,
          56.735,
          59.448,
          60.022,
          56.007,
          46.388000000000005,
          54.11,
          42.592,
          45.678000000000004,
          73.952,
          59.443000000000005,
          48.303000000000004,
          54.467,
          64.164,
          72.801,
          71.164,
          42.082,
          52.906000000000006,
          56.867,
          46.858999999999995,
          76.442,
          46.242,
          65.528,
          63.062,
          42.568000000000005,
          48.159,
          49.339,
          58.556000000000004,
          39.613,
          52.516999999999996,
          58.42,
          73.923,
          51.542,
          42.38399999999999,
          43.486999999999995
         ],
         "yaxis": "y"
        },
        {
         "hoverlabel": {
          "namelength": 0
         },
         "hovertemplate": "continent=Americas<br>gdpPercap=%{x}<br>lifeExp=%{y}",
         "legendgroup": "continent=Americas",
         "marker": {
          "color": "#06893A ",
          "symbol": "circle"
         },
         "mode": "markers",
         "name": "continent=Americas",
         "showlegend": true,
         "type": "scatter",
         "uid": "24938ed4-79bd-4c77-99af-83a274649571",
         "x": [
          12779.379640000001,
          3822.1370840000004,
          9065.800825,
          36319.235010000004,
          13171.63885,
          7006.580419,
          9645.06142,
          8948.102923,
          6025.374752000001,
          6873.262326000001,
          5728.353514,
          5186.050003,
          1201.637154,
          3548.3308460000003,
          7320.880262000001,
          11977.57496,
          2749.320965,
          9809.185636,
          4172.838464,
          7408.905561,
          19328.70901,
          18008.50924,
          42951.65309,
          10611.46299,
          11415.805690000001
         ],
         "xaxis": "x",
         "y": [
          75.32,
          65.554,
          72.39,
          80.653,
          78.553,
          72.889,
          78.782,
          78.273,
          72.235,
          74.994,
          71.878,
          70.259,
          60.916000000000004,
          70.19800000000001,
          72.567,
          76.195,
          72.899,
          75.53699999999999,
          71.752,
          71.421,
          78.74600000000001,
          69.819,
          78.242,
          76.384,
          73.747
         ],
         "yaxis": "y"
        },
        {
         "hoverlabel": {
          "namelength": 0
         },
         "hovertemplate": "continent=Oceania<br>gdpPercap=%{x}<br>lifeExp=%{y}",
         "legendgroup": "continent=Oceania",
         "marker": {
          "color": "#634689",
          "symbol": "circle"
         },
         "mode": "markers",
         "name": "continent=Oceania",
         "showlegend": true,
         "type": "scatter",
         "uid": "adfc2fb3-5ac2-4b0e-997b-e3422d6377a4",
         "x": [
          34435.367439999995,
          25185.00911
         ],
         "xaxis": "x",
         "y": [
          81.235,
          80.204
         ],
         "yaxis": "y"
        }
       ],
       "layout": {
        "grid": {
         "xaxes": [
          "x"
         ],
         "xgap": 0.1,
         "xside": "bottom",
         "yaxes": [
          "y"
         ],
         "ygap": 0.1,
         "yside": "left"
        },
        "legend": {
         "tracegroupgap": 0
        },
        "margin": {
         "t": 60
        },
        "template": {
         "data": {
          "bar": [
           {
            "marker": {
             "line": {
              "color": "white",
              "width": 0.5
             }
            },
            "type": "bar"
           }
          ],
          "barpolar": [
           {
            "marker": {
             "line": {
              "color": "white",
              "width": 0.5
             }
            },
            "type": "barpolar"
           }
          ],
          "carpet": [
           {
            "aaxis": {
             "endlinecolor": "#2a3f5f",
             "gridcolor": "#C6C2BF",
             "linecolor": "#C6C2BF",
             "minorgridcolor": "#C6C2BF",
             "startlinecolor": "#2a3f5f"
            },
            "baxis": {
             "endlinecolor": "#2a3f5f",
             "gridcolor": "#C6C2BF",
             "linecolor": "#C6C2BF",
             "minorgridcolor": "#C6C2BF",
             "startlinecolor": "#2a3f5f"
            },
            "type": "carpet"
           }
          ],
          "choropleth": [
           {
            "colorbar": {
             "outlinewidth": 0,
             "ticks": ""
            },
            "type": "choropleth"
           }
          ],
          "contour": [
           {
            "colorbar": {
             "outlinewidth": 0,
             "ticks": ""
            },
            "colorscale": [
             [
              0,
              "#0508b8"
             ],
             [
              0.0893854748603352,
              "#1910d8"
             ],
             [
              0.1787709497206704,
              "#3c19f0"
             ],
             [
              0.2681564245810056,
              "#6b1cfb"
             ],
             [
              0.3575418994413408,
              "#981cfd"
             ],
             [
              0.44692737430167595,
              "#bf1cfd"
             ],
             [
              0.5363128491620112,
              "#dd2bfd"
             ],
             [
              0.6256983240223464,
              "#f246fe"
             ],
             [
              0.7150837988826816,
              "#fc67fd"
             ],
             [
              0.8044692737430168,
              "#fe88fc"
             ],
             [
              0.8938547486033519,
              "#fea5fd"
             ],
             [
              0.9832402234636871,
              "#febefe"
             ],
             [
              1,
              "#fec3fe"
             ]
            ],
            "type": "contour"
           }
          ],
          "contourcarpet": [
           {
            "colorbar": {
             "outlinewidth": 0,
             "ticks": ""
            },
            "type": "contourcarpet"
           }
          ],
          "heatmap": [
           {
            "colorbar": {
             "outlinewidth": 0,
             "ticks": ""
            },
            "colorscale": [
             [
              0,
              "#0508b8"
             ],
             [
              0.0893854748603352,
              "#1910d8"
             ],
             [
              0.1787709497206704,
              "#3c19f0"
             ],
             [
              0.2681564245810056,
              "#6b1cfb"
             ],
             [
              0.3575418994413408,
              "#981cfd"
             ],
             [
              0.44692737430167595,
              "#bf1cfd"
             ],
             [
              0.5363128491620112,
              "#dd2bfd"
             ],
             [
              0.6256983240223464,
              "#f246fe"
             ],
             [
              0.7150837988826816,
              "#fc67fd"
             ],
             [
              0.8044692737430168,
              "#fe88fc"
             ],
             [
              0.8938547486033519,
              "#fea5fd"
             ],
             [
              0.9832402234636871,
              "#febefe"
             ],
             [
              1,
              "#fec3fe"
             ]
            ],
            "type": "heatmap"
           }
          ],
          "heatmapgl": [
           {
            "colorbar": {
             "outlinewidth": 0,
             "ticks": ""
            },
            "type": "heatmapgl"
           }
          ],
          "histogram": [
           {
            "marker": {
             "colorbar": {
              "outlinewidth": 0,
              "ticks": ""
             }
            },
            "type": "histogram"
           }
          ],
          "histogram2d": [
           {
            "colorbar": {
             "outlinewidth": 0,
             "ticks": ""
            },
            "colorscale": [
             [
              0,
              "#0508b8"
             ],
             [
              0.0893854748603352,
              "#1910d8"
             ],
             [
              0.1787709497206704,
              "#3c19f0"
             ],
             [
              0.2681564245810056,
              "#6b1cfb"
             ],
             [
              0.3575418994413408,
              "#981cfd"
             ],
             [
              0.44692737430167595,
              "#bf1cfd"
             ],
             [
              0.5363128491620112,
              "#dd2bfd"
             ],
             [
              0.6256983240223464,
              "#f246fe"
             ],
             [
              0.7150837988826816,
              "#fc67fd"
             ],
             [
              0.8044692737430168,
              "#fe88fc"
             ],
             [
              0.8938547486033519,
              "#fea5fd"
             ],
             [
              0.9832402234636871,
              "#febefe"
             ],
             [
              1,
              "#fec3fe"
             ]
            ],
            "type": "histogram2d"
           }
          ],
          "histogram2dcontour": [
           {
            "colorbar": {
             "outlinewidth": 0,
             "ticks": ""
            },
            "colorscale": [
             [
              0,
              "#0508b8"
             ],
             [
              0.0893854748603352,
              "#1910d8"
             ],
             [
              0.1787709497206704,
              "#3c19f0"
             ],
             [
              0.2681564245810056,
              "#6b1cfb"
             ],
             [
              0.3575418994413408,
              "#981cfd"
             ],
             [
              0.44692737430167595,
              "#bf1cfd"
             ],
             [
              0.5363128491620112,
              "#dd2bfd"
             ],
             [
              0.6256983240223464,
              "#f246fe"
             ],
             [
              0.7150837988826816,
              "#fc67fd"
             ],
             [
              0.8044692737430168,
              "#fe88fc"
             ],
             [
              0.8938547486033519,
              "#fea5fd"
             ],
             [
              0.9832402234636871,
              "#febefe"
             ],
             [
              1,
              "#fec3fe"
             ]
            ],
            "type": "histogram2dcontour"
           }
          ],
          "mesh3d": [
           {
            "colorbar": {
             "outlinewidth": 0,
             "ticks": ""
            },
            "type": "mesh3d"
           }
          ],
          "parcoords": [
           {
            "line": {
             "colorbar": {
              "outlinewidth": 0,
              "ticks": ""
             }
            },
            "type": "parcoords"
           }
          ],
          "scatter": [
           {
            "marker": {
             "colorbar": {
              "outlinewidth": 0,
              "ticks": ""
             }
            },
            "type": "scatter"
           }
          ],
          "scatter3d": [
           {
            "marker": {
             "colorbar": {
              "outlinewidth": 0,
              "ticks": ""
             }
            },
            "type": "scatter3d"
           }
          ],
          "scattercarpet": [
           {
            "marker": {
             "colorbar": {
              "outlinewidth": 0,
              "ticks": ""
             }
            },
            "type": "scattercarpet"
           }
          ],
          "scattergeo": [
           {
            "marker": {
             "colorbar": {
              "outlinewidth": 0,
              "ticks": ""
             }
            },
            "type": "scattergeo"
           }
          ],
          "scattergl": [
           {
            "marker": {
             "colorbar": {
              "outlinewidth": 0,
              "ticks": ""
             }
            },
            "type": "scattergl"
           }
          ],
          "scattermapbox": [
           {
            "marker": {
             "colorbar": {
              "outlinewidth": 0,
              "ticks": ""
             }
            },
            "type": "scattermapbox"
           }
          ],
          "scatterpolar": [
           {
            "marker": {
             "colorbar": {
              "outlinewidth": 0,
              "ticks": ""
             }
            },
            "type": "scatterpolar"
           }
          ],
          "scatterpolargl": [
           {
            "marker": {
             "colorbar": {
              "outlinewidth": 0,
              "ticks": ""
             }
            },
            "type": "scatterpolargl"
           }
          ],
          "scatterternary": [
           {
            "marker": {
             "colorbar": {
              "outlinewidth": 0,
              "ticks": ""
             }
            },
            "type": "scatterternary"
           }
          ],
          "surface": [
           {
            "colorbar": {
             "outlinewidth": 0,
             "ticks": ""
            },
            "type": "surface"
           }
          ],
          "table": [
           {
            "cells": {
             "fill": {
              "color": "#C6C2BF"
             },
             "line": {
              "color": "white"
             }
            },
            "header": {
             "fill": {
              "color": "#C6C2BF"
             },
             "line": {
              "color": "white"
             }
            },
            "type": "table"
           }
          ]
         },
         "layout": {
          "annotationdefaults": {
           "arrowcolor": "#506784",
           "arrowhead": 0,
           "arrowwidth": 1
          },
          "colorscale": {
           "diverging": [
            [
             0,
             "#8e0152"
            ],
            [
             0.1,
             "#c51b7d"
            ],
            [
             0.2,
             "#de77ae"
            ],
            [
             0.3,
             "#f1b6da"
            ],
            [
             0.4,
             "#fde0ef"
            ],
            [
             0.5,
             "#f7f7f7"
            ],
            [
             0.6,
             "#e6f5d0"
            ],
            [
             0.7,
             "#b8e186"
            ],
            [
             0.8,
             "#7fbc41"
            ],
            [
             0.9,
             "#4d9221"
            ],
            [
             1,
             "#276419"
            ]
           ],
           "sequential": [
            [
             0,
             "#0508b8"
            ],
            [
             0.0893854748603352,
             "#1910d8"
            ],
            [
             0.1787709497206704,
             "#3c19f0"
            ],
            [
             0.2681564245810056,
             "#6b1cfb"
            ],
            [
             0.3575418994413408,
             "#981cfd"
            ],
            [
             0.44692737430167595,
             "#bf1cfd"
            ],
            [
             0.5363128491620112,
             "#dd2bfd"
            ],
            [
             0.6256983240223464,
             "#f246fe"
            ],
            [
             0.7150837988826816,
             "#fc67fd"
            ],
            [
             0.8044692737430168,
             "#fe88fc"
            ],
            [
             0.8938547486033519,
             "#fea5fd"
            ],
            [
             0.9832402234636871,
             "#febefe"
            ],
            [
             1,
             "#fec3fe"
            ]
           ],
           "sequentialminus": [
            [
             0,
             "#0508b8"
            ],
            [
             0.0893854748603352,
             "#1910d8"
            ],
            [
             0.1787709497206704,
             "#3c19f0"
            ],
            [
             0.2681564245810056,
             "#6b1cfb"
            ],
            [
             0.3575418994413408,
             "#981cfd"
            ],
            [
             0.44692737430167595,
             "#bf1cfd"
            ],
            [
             0.5363128491620112,
             "#dd2bfd"
            ],
            [
             0.6256983240223464,
             "#f246fe"
            ],
            [
             0.7150837988826816,
             "#fc67fd"
            ],
            [
             0.8044692737430168,
             "#fe88fc"
            ],
            [
             0.8938547486033519,
             "#fea5fd"
            ],
            [
             0.9832402234636871,
             "#febefe"
            ],
            [
             1,
             "#fec3fe"
            ]
           ]
          },
          "colorway": [
           "#C30000",
           "#FF9100",
           "#A2AD00",
           "#06893A ",
           "#634689",
           "#005B82",
           "#0067C5",
           "#66CBEC",
           "#3E3832",
           "#B7B1A9"
          ],
          "font": {
           "color": "#2a3f5f",
           "family": "Helvetica Neue"
          },
          "geo": {
           "bgcolor": "white",
           "lakecolor": "white",
           "landcolor": "white",
           "showlakes": true,
           "showland": true,
           "subunitcolor": "#C6C2BF"
          },
          "hoverlabel": {
           "align": "left"
          },
          "hovermode": "closest",
          "mapbox": {
           "style": "light"
          },
          "paper_bgcolor": "white",
          "plot_bgcolor": "white",
          "polar": {
           "angularaxis": {
            "gridcolor": "#C6C2BF",
            "linecolor": "#C6C2BF",
            "ticks": ""
           },
           "bgcolor": "white",
           "radialaxis": {
            "gridcolor": "#C6C2BF",
            "linecolor": "#C6C2BF",
            "ticks": ""
           }
          },
          "scene": {
           "xaxis": {
            "backgroundcolor": "white",
            "gridcolor": "#C6C2BF",
            "gridwidth": 2,
            "linecolor": "#C6C2BF",
            "showbackground": true,
            "ticks": "",
            "zerolinecolor": "#C6C2BF"
           },
           "yaxis": {
            "backgroundcolor": "white",
            "gridcolor": "#C6C2BF",
            "gridwidth": 2,
            "linecolor": "#C6C2BF",
            "showbackground": true,
            "ticks": "",
            "zerolinecolor": "#C6C2BF"
           },
           "zaxis": {
            "backgroundcolor": "white",
            "gridcolor": "#C6C2BF",
            "gridwidth": 2,
            "linecolor": "#C6C2BF",
            "showbackground": true,
            "ticks": "",
            "zerolinecolor": "#C6C2BF"
           }
          },
          "shapedefaults": {
           "fillcolor": "#C30000",
           "line": {
            "width": 0
           },
           "opacity": 0.4
          },
          "ternary": {
           "aaxis": {
            "gridcolor": "#C6C2BF",
            "linecolor": "#A2B1C6",
            "ticks": ""
           },
           "baxis": {
            "gridcolor": "#C6C2BF",
            "linecolor": "#A2B1C6",
            "ticks": ""
           },
           "bgcolor": "white",
           "caxis": {
            "gridcolor": "#C6C2BF",
            "linecolor": "#A2B1C6",
            "ticks": ""
           }
          },
          "title": {
           "x": 0.05
          },
          "xaxis": {
           "automargin": true,
           "gridcolor": "#C6C2BF",
           "linecolor": "#C6C2BF",
           "ticks": "",
           "zerolinecolor": "#C6C2BF",
           "zerolinewidth": 2
          },
          "yaxis": {
           "automargin": true,
           "gridcolor": "#C6C2BF",
           "linecolor": "#C6C2BF",
           "ticks": "",
           "zerolinecolor": "#C6C2BF",
           "zerolinewidth": 2
          }
         }
        },
        "xaxis": {
         "title": {
          "text": "gdpPercap"
         }
        },
        "yaxis": {
         "title": {
          "text": "lifeExp"
         }
        }
       }
      },
      "text/html": [
       "<div>\n",
       "        \n",
       "        \n",
       "            <div id=\"49cb47fd-37fe-4026-b3a5-0acfdd22d141\" class=\"plotly-graph-div\" style=\"height:525px; width:100%;\"></div>\n",
       "            <script type=\"text/javascript\">\n",
       "                require([\"plotly\"], function(Plotly) {\n",
       "                    window.PLOTLYENV=window.PLOTLYENV || {};\n",
       "                    window.PLOTLYENV.BASE_URL='https://plot.ly';\n",
       "                    \n",
       "                if (document.getElementById(\"49cb47fd-37fe-4026-b3a5-0acfdd22d141\")) {\n",
       "                    Plotly.newPlot(\n",
       "                        '49cb47fd-37fe-4026-b3a5-0acfdd22d141',\n",
       "                        [{\"hoverlabel\": {\"namelength\": 0}, \"hovertemplate\": \"continent=Asia<br>gdpPercap=%{x}<br>lifeExp=%{y}\", \"legendgroup\": \"continent=Asia\", \"marker\": {\"color\": \"#C30000\", \"symbol\": \"circle\"}, \"mode\": \"markers\", \"name\": \"continent=Asia\", \"showlegend\": true, \"type\": \"scatter\", \"uid\": \"2e077ddd-c6b5-4105-8d12-cf17a0b01ce7\", \"x\": [974.5803384, 29796.048339999998, 1391.253792, 1713.7786859999999, 4959.1148539999995, 39724.97867, 2452.210407, 3540.6515640000002, 11605.71449, 4471.061906, 25523.2771, 31656.06806, 4519.461171, 1593.06548, 23348.139730000003, 47306.98978, 10461.05868, 12451.6558, 3095.7722710000003, 944.0, 1091.359778, 22316.19287, 2605.94758, 3190.481016, 21654.83194, 47143.179639999995, 3970.0954070000003, 4184.548089, 28718.27684, 7458.3963269999995, 2441.576404, 3025.349798, 2280.769906], \"xaxis\": \"x\", \"y\": [43.828, 75.635, 64.062, 59.723, 72.961, 82.208, 64.69800000000001, 70.65, 70.964, 59.545, 80.745, 82.603, 72.535, 67.297, 78.623, 77.58800000000001, 71.993, 74.241, 66.803, 62.068999999999996, 63.785, 75.64, 65.483, 71.688, 72.777, 79.972, 72.396, 74.143, 78.4, 70.616, 74.249, 73.422, 62.698], \"yaxis\": \"y\"}, {\"hoverlabel\": {\"namelength\": 0}, \"hovertemplate\": \"continent=Europe<br>gdpPercap=%{x}<br>lifeExp=%{y}\", \"legendgroup\": \"continent=Europe\", \"marker\": {\"color\": \"#FF9100\", \"symbol\": \"circle\"}, \"mode\": \"markers\", \"name\": \"continent=Europe\", \"showlegend\": true, \"type\": \"scatter\", \"uid\": \"2234e01d-226f-44fd-b585-0a969ba41d7a\", \"x\": [5937.029525999999, 36126.4927, 33692.60508, 7446.298803, 10680.79282, 14619.222719999998, 22833.30851, 35278.41874, 33207.0844, 30470.0167, 32170.37442, 27538.41188, 18008.94444, 36180.789189999996, 40675.99635, 28569.7197, 9253.896111, 36797.93332, 49357.19017, 15389.924680000002, 20509.64777, 10808.47561, 9786.534714, 18678.31435, 25768.25759, 28821.0637, 33859.74835, 37506.419069999996, 8458.276384, 33203.26128], \"xaxis\": \"x\", \"y\": [76.423, 79.829, 79.441, 74.852, 73.005, 75.748, 76.486, 78.332, 79.313, 80.657, 79.406, 79.483, 73.33800000000001, 81.757, 78.885, 80.546, 74.543, 79.762, 80.196, 75.563, 78.098, 72.476, 74.002, 74.663, 77.926, 80.941, 80.884, 81.70100000000001, 71.777, 79.425], \"yaxis\": \"y\"}, {\"hoverlabel\": {\"namelength\": 0}, \"hovertemplate\": \"continent=Africa<br>gdpPercap=%{x}<br>lifeExp=%{y}\", \"legendgroup\": \"continent=Africa\", \"marker\": {\"color\": \"#A2AD00\", \"symbol\": \"circle\"}, \"mode\": \"markers\", \"name\": \"continent=Africa\", \"showlegend\": true, \"type\": \"scatter\", \"uid\": \"e4df104a-6d39-4a27-bb36-0de680e74d7e\", \"x\": [6223.367465, 4797.231267, 1441.284873, 12569.851770000001, 1217.032994, 430.07069160000003, 2042.0952399999999, 706.016537, 1704.0637239999999, 986.1478792000001, 277.55185869999997, 3632.557798, 1544.750112, 2082.4815670000003, 5581.180998, 12154.08975, 641.3695236000001, 690.8055759, 13206.48452, 752.7497265, 1327.60891, 942.6542111, 579.2317429999999, 1463.249282, 1569.331442, 414.5073415, 12057.49928, 1044.770126, 759.3499101, 1042.581557, 1803.1514960000002, 10956.99112, 3820.17523, 823.6856205, 4811.060429, 619.6768923999999, 2013.9773050000001, 7670.122558, 863.0884639000001, 1598.435089, 1712.4721359999999, 862.5407561000001, 926.1410683, 9269.657808, 2602.394995, 4513.480643, 1107.482182, 882.9699437999999, 7092.923025, 1056.3801210000001, 1271.211593, 469.70929810000007], \"xaxis\": \"x\", \"y\": [72.301, 42.731, 56.728, 50.728, 52.295, 49.58, 50.43, 44.74100000000001, 50.651, 65.152, 46.461999999999996, 55.321999999999996, 48.328, 54.791000000000004, 71.33800000000001, 51.57899999999999, 58.04, 52.946999999999996, 56.735, 59.448, 60.022, 56.007, 46.388000000000005, 54.11, 42.592, 45.678000000000004, 73.952, 59.443000000000005, 48.303000000000004, 54.467, 64.164, 72.801, 71.164, 42.082, 52.906000000000006, 56.867, 46.858999999999995, 76.442, 46.242, 65.528, 63.062, 42.568000000000005, 48.159, 49.339, 58.556000000000004, 39.613, 52.516999999999996, 58.42, 73.923, 51.542, 42.38399999999999, 43.486999999999995], \"yaxis\": \"y\"}, {\"hoverlabel\": {\"namelength\": 0}, \"hovertemplate\": \"continent=Americas<br>gdpPercap=%{x}<br>lifeExp=%{y}\", \"legendgroup\": \"continent=Americas\", \"marker\": {\"color\": \"#06893A \", \"symbol\": \"circle\"}, \"mode\": \"markers\", \"name\": \"continent=Americas\", \"showlegend\": true, \"type\": \"scatter\", \"uid\": \"24938ed4-79bd-4c77-99af-83a274649571\", \"x\": [12779.379640000001, 3822.1370840000004, 9065.800825, 36319.235010000004, 13171.63885, 7006.580419, 9645.06142, 8948.102923, 6025.374752000001, 6873.262326000001, 5728.353514, 5186.050003, 1201.637154, 3548.3308460000003, 7320.880262000001, 11977.57496, 2749.320965, 9809.185636, 4172.838464, 7408.905561, 19328.70901, 18008.50924, 42951.65309, 10611.46299, 11415.805690000001], \"xaxis\": \"x\", \"y\": [75.32, 65.554, 72.39, 80.653, 78.553, 72.889, 78.782, 78.273, 72.235, 74.994, 71.878, 70.259, 60.916000000000004, 70.19800000000001, 72.567, 76.195, 72.899, 75.53699999999999, 71.752, 71.421, 78.74600000000001, 69.819, 78.242, 76.384, 73.747], \"yaxis\": \"y\"}, {\"hoverlabel\": {\"namelength\": 0}, \"hovertemplate\": \"continent=Oceania<br>gdpPercap=%{x}<br>lifeExp=%{y}\", \"legendgroup\": \"continent=Oceania\", \"marker\": {\"color\": \"#634689\", \"symbol\": \"circle\"}, \"mode\": \"markers\", \"name\": \"continent=Oceania\", \"showlegend\": true, \"type\": \"scatter\", \"uid\": \"adfc2fb3-5ac2-4b0e-997b-e3422d6377a4\", \"x\": [34435.367439999995, 25185.00911], \"xaxis\": \"x\", \"y\": [81.235, 80.204], \"yaxis\": \"y\"}],\n",
       "                        {\"grid\": {\"xaxes\": [\"x\"], \"xgap\": 0.1, \"xside\": \"bottom\", \"yaxes\": [\"y\"], \"ygap\": 0.1, \"yside\": \"left\"}, \"legend\": {\"tracegroupgap\": 0}, \"margin\": {\"t\": 60}, \"template\": {\"data\": {\"bar\": [{\"marker\": {\"line\": {\"color\": \"white\", \"width\": 0.5}}, \"type\": \"bar\"}], \"barpolar\": [{\"marker\": {\"line\": {\"color\": \"white\", \"width\": 0.5}}, \"type\": \"barpolar\"}], \"carpet\": [{\"aaxis\": {\"endlinecolor\": \"#2a3f5f\", \"gridcolor\": \"#C6C2BF\", \"linecolor\": \"#C6C2BF\", \"minorgridcolor\": \"#C6C2BF\", \"startlinecolor\": \"#2a3f5f\"}, \"baxis\": {\"endlinecolor\": \"#2a3f5f\", \"gridcolor\": \"#C6C2BF\", \"linecolor\": \"#C6C2BF\", \"minorgridcolor\": \"#C6C2BF\", \"startlinecolor\": \"#2a3f5f\"}, \"type\": \"carpet\"}], \"choropleth\": [{\"colorbar\": {\"outlinewidth\": 0, \"ticks\": \"\"}, \"type\": \"choropleth\"}], \"contour\": [{\"colorbar\": {\"outlinewidth\": 0, \"ticks\": \"\"}, \"colorscale\": [[0.0, \"#0508b8\"], [0.0893854748603352, \"#1910d8\"], [0.1787709497206704, \"#3c19f0\"], [0.2681564245810056, \"#6b1cfb\"], [0.3575418994413408, \"#981cfd\"], [0.44692737430167595, \"#bf1cfd\"], [0.5363128491620112, \"#dd2bfd\"], [0.6256983240223464, \"#f246fe\"], [0.7150837988826816, \"#fc67fd\"], [0.8044692737430168, \"#fe88fc\"], [0.8938547486033519, \"#fea5fd\"], [0.9832402234636871, \"#febefe\"], [1.0, \"#fec3fe\"]], \"type\": \"contour\"}], \"contourcarpet\": [{\"colorbar\": {\"outlinewidth\": 0, \"ticks\": \"\"}, \"type\": \"contourcarpet\"}], \"heatmap\": [{\"colorbar\": {\"outlinewidth\": 0, \"ticks\": \"\"}, \"colorscale\": [[0.0, \"#0508b8\"], [0.0893854748603352, \"#1910d8\"], [0.1787709497206704, \"#3c19f0\"], [0.2681564245810056, \"#6b1cfb\"], [0.3575418994413408, \"#981cfd\"], [0.44692737430167595, \"#bf1cfd\"], [0.5363128491620112, \"#dd2bfd\"], [0.6256983240223464, \"#f246fe\"], [0.7150837988826816, \"#fc67fd\"], [0.8044692737430168, \"#fe88fc\"], [0.8938547486033519, \"#fea5fd\"], [0.9832402234636871, \"#febefe\"], [1.0, \"#fec3fe\"]], \"type\": \"heatmap\"}], \"heatmapgl\": [{\"colorbar\": {\"outlinewidth\": 0, \"ticks\": \"\"}, \"type\": \"heatmapgl\"}], \"histogram\": [{\"marker\": {\"colorbar\": {\"outlinewidth\": 0, \"ticks\": \"\"}}, \"type\": \"histogram\"}], \"histogram2d\": [{\"colorbar\": {\"outlinewidth\": 0, \"ticks\": \"\"}, \"colorscale\": [[0.0, \"#0508b8\"], [0.0893854748603352, \"#1910d8\"], [0.1787709497206704, \"#3c19f0\"], [0.2681564245810056, \"#6b1cfb\"], [0.3575418994413408, \"#981cfd\"], [0.44692737430167595, \"#bf1cfd\"], [0.5363128491620112, \"#dd2bfd\"], [0.6256983240223464, \"#f246fe\"], [0.7150837988826816, \"#fc67fd\"], [0.8044692737430168, \"#fe88fc\"], [0.8938547486033519, \"#fea5fd\"], [0.9832402234636871, \"#febefe\"], [1.0, \"#fec3fe\"]], \"type\": \"histogram2d\"}], \"histogram2dcontour\": [{\"colorbar\": {\"outlinewidth\": 0, \"ticks\": \"\"}, \"colorscale\": [[0.0, \"#0508b8\"], [0.0893854748603352, \"#1910d8\"], [0.1787709497206704, \"#3c19f0\"], [0.2681564245810056, \"#6b1cfb\"], [0.3575418994413408, \"#981cfd\"], [0.44692737430167595, \"#bf1cfd\"], [0.5363128491620112, \"#dd2bfd\"], [0.6256983240223464, \"#f246fe\"], [0.7150837988826816, \"#fc67fd\"], [0.8044692737430168, \"#fe88fc\"], [0.8938547486033519, \"#fea5fd\"], [0.9832402234636871, \"#febefe\"], [1.0, \"#fec3fe\"]], \"type\": \"histogram2dcontour\"}], \"mesh3d\": [{\"colorbar\": {\"outlinewidth\": 0, \"ticks\": \"\"}, \"type\": \"mesh3d\"}], \"parcoords\": [{\"line\": {\"colorbar\": {\"outlinewidth\": 0, \"ticks\": \"\"}}, \"type\": \"parcoords\"}], \"scatter\": [{\"marker\": {\"colorbar\": {\"outlinewidth\": 0, \"ticks\": \"\"}}, \"type\": \"scatter\"}], \"scatter3d\": [{\"marker\": {\"colorbar\": {\"outlinewidth\": 0, \"ticks\": \"\"}}, \"type\": \"scatter3d\"}], \"scattercarpet\": [{\"marker\": {\"colorbar\": {\"outlinewidth\": 0, \"ticks\": \"\"}}, \"type\": \"scattercarpet\"}], \"scattergeo\": [{\"marker\": {\"colorbar\": {\"outlinewidth\": 0, \"ticks\": \"\"}}, \"type\": \"scattergeo\"}], \"scattergl\": [{\"marker\": {\"colorbar\": {\"outlinewidth\": 0, \"ticks\": \"\"}}, \"type\": \"scattergl\"}], \"scattermapbox\": [{\"marker\": {\"colorbar\": {\"outlinewidth\": 0, \"ticks\": \"\"}}, \"type\": \"scattermapbox\"}], \"scatterpolar\": [{\"marker\": {\"colorbar\": {\"outlinewidth\": 0, \"ticks\": \"\"}}, \"type\": \"scatterpolar\"}], \"scatterpolargl\": [{\"marker\": {\"colorbar\": {\"outlinewidth\": 0, \"ticks\": \"\"}}, \"type\": \"scatterpolargl\"}], \"scatterternary\": [{\"marker\": {\"colorbar\": {\"outlinewidth\": 0, \"ticks\": \"\"}}, \"type\": \"scatterternary\"}], \"surface\": [{\"colorbar\": {\"outlinewidth\": 0, \"ticks\": \"\"}, \"type\": \"surface\"}], \"table\": [{\"cells\": {\"fill\": {\"color\": \"#C6C2BF\"}, \"line\": {\"color\": \"white\"}}, \"header\": {\"fill\": {\"color\": \"#C6C2BF\"}, \"line\": {\"color\": \"white\"}}, \"type\": \"table\"}]}, \"layout\": {\"annotationdefaults\": {\"arrowcolor\": \"#506784\", \"arrowhead\": 0, \"arrowwidth\": 1}, \"colorscale\": {\"diverging\": [[0, \"#8e0152\"], [0.1, \"#c51b7d\"], [0.2, \"#de77ae\"], [0.3, \"#f1b6da\"], [0.4, \"#fde0ef\"], [0.5, \"#f7f7f7\"], [0.6, \"#e6f5d0\"], [0.7, \"#b8e186\"], [0.8, \"#7fbc41\"], [0.9, \"#4d9221\"], [1, \"#276419\"]], \"sequential\": [[0.0, \"#0508b8\"], [0.0893854748603352, \"#1910d8\"], [0.1787709497206704, \"#3c19f0\"], [0.2681564245810056, \"#6b1cfb\"], [0.3575418994413408, \"#981cfd\"], [0.44692737430167595, \"#bf1cfd\"], [0.5363128491620112, \"#dd2bfd\"], [0.6256983240223464, \"#f246fe\"], [0.7150837988826816, \"#fc67fd\"], [0.8044692737430168, \"#fe88fc\"], [0.8938547486033519, \"#fea5fd\"], [0.9832402234636871, \"#febefe\"], [1.0, \"#fec3fe\"]], \"sequentialminus\": [[0.0, \"#0508b8\"], [0.0893854748603352, \"#1910d8\"], [0.1787709497206704, \"#3c19f0\"], [0.2681564245810056, \"#6b1cfb\"], [0.3575418994413408, \"#981cfd\"], [0.44692737430167595, \"#bf1cfd\"], [0.5363128491620112, \"#dd2bfd\"], [0.6256983240223464, \"#f246fe\"], [0.7150837988826816, \"#fc67fd\"], [0.8044692737430168, \"#fe88fc\"], [0.8938547486033519, \"#fea5fd\"], [0.9832402234636871, \"#febefe\"], [1.0, \"#fec3fe\"]]}, \"colorway\": [\"#C30000\", \"#FF9100\", \"#A2AD00\", \"#06893A \", \"#634689\", \"#005B82\", \"#0067C5\", \"#66CBEC\", \"#3E3832\", \"#B7B1A9\"], \"font\": {\"color\": \"#2a3f5f\", \"family\": \"Helvetica Neue\"}, \"geo\": {\"bgcolor\": \"white\", \"lakecolor\": \"white\", \"landcolor\": \"white\", \"showlakes\": true, \"showland\": true, \"subunitcolor\": \"#C6C2BF\"}, \"hoverlabel\": {\"align\": \"left\"}, \"hovermode\": \"closest\", \"mapbox\": {\"style\": \"light\"}, \"paper_bgcolor\": \"white\", \"plot_bgcolor\": \"white\", \"polar\": {\"angularaxis\": {\"gridcolor\": \"#C6C2BF\", \"linecolor\": \"#C6C2BF\", \"ticks\": \"\"}, \"bgcolor\": \"white\", \"radialaxis\": {\"gridcolor\": \"#C6C2BF\", \"linecolor\": \"#C6C2BF\", \"ticks\": \"\"}}, \"scene\": {\"xaxis\": {\"backgroundcolor\": \"white\", \"gridcolor\": \"#C6C2BF\", \"gridwidth\": 2, \"linecolor\": \"#C6C2BF\", \"showbackground\": true, \"ticks\": \"\", \"zerolinecolor\": \"#C6C2BF\"}, \"yaxis\": {\"backgroundcolor\": \"white\", \"gridcolor\": \"#C6C2BF\", \"gridwidth\": 2, \"linecolor\": \"#C6C2BF\", \"showbackground\": true, \"ticks\": \"\", \"zerolinecolor\": \"#C6C2BF\"}, \"zaxis\": {\"backgroundcolor\": \"white\", \"gridcolor\": \"#C6C2BF\", \"gridwidth\": 2, \"linecolor\": \"#C6C2BF\", \"showbackground\": true, \"ticks\": \"\", \"zerolinecolor\": \"#C6C2BF\"}}, \"shapedefaults\": {\"fillcolor\": \"#C30000\", \"line\": {\"width\": 0}, \"opacity\": 0.4}, \"ternary\": {\"aaxis\": {\"gridcolor\": \"#C6C2BF\", \"linecolor\": \"#A2B1C6\", \"ticks\": \"\"}, \"baxis\": {\"gridcolor\": \"#C6C2BF\", \"linecolor\": \"#A2B1C6\", \"ticks\": \"\"}, \"bgcolor\": \"white\", \"caxis\": {\"gridcolor\": \"#C6C2BF\", \"linecolor\": \"#A2B1C6\", \"ticks\": \"\"}}, \"title\": {\"x\": 0.05}, \"xaxis\": {\"automargin\": true, \"gridcolor\": \"#C6C2BF\", \"linecolor\": \"#C6C2BF\", \"ticks\": \"\", \"zerolinecolor\": \"#C6C2BF\", \"zerolinewidth\": 2}, \"yaxis\": {\"automargin\": true, \"gridcolor\": \"#C6C2BF\", \"linecolor\": \"#C6C2BF\", \"ticks\": \"\", \"zerolinecolor\": \"#C6C2BF\", \"zerolinewidth\": 2}}}, \"xaxis\": {\"title\": {\"text\": \"gdpPercap\"}}, \"yaxis\": {\"title\": {\"text\": \"lifeExp\"}}},\n",
       "                        {\"showLink\": false, \"linkText\": \"Export to plot.ly\", \"plotlyServerURL\": \"https://plot.ly\", \"responsive\": true}\n",
       "                    ).then(function(){\n",
       "                            \n",
       "var gd = document.getElementById('49cb47fd-37fe-4026-b3a5-0acfdd22d141');\n",
       "var x = new MutationObserver(function (mutations, observer) {{\n",
       "        var display = window.getComputedStyle(gd).display;\n",
       "        if (!display || display === 'none') {{\n",
       "            console.log([gd, 'removed!']);\n",
       "            Plotly.purge(gd);\n",
       "            observer.disconnect();\n",
       "        }}\n",
       "}});\n",
       "\n",
       "// Listen for the removal of the full notebook cells\n",
       "var notebookContainer = gd.closest('#notebook-container');\n",
       "if (notebookContainer) {{\n",
       "    x.observe(notebookContainer, {childList: true});\n",
       "}}\n",
       "\n",
       "// Listen for the clearing of the current output cell\n",
       "var outputEl = gd.closest('.output');\n",
       "if (outputEl) {{\n",
       "    x.observe(outputEl, {childList: true});\n",
       "}}\n",
       "\n",
       "                        })\n",
       "                };\n",
       "                });\n",
       "            </script>\n",
       "        </div>"
      ]
     },
     "metadata": {},
     "output_type": "display_data"
    }
   ],
   "source": [
    "px.scatter(gapminder.query(\"year==2007\"), x=\"gdpPercap\", y=\"lifeExp\" \\\n",
    "                  ,color=\"continent\" \n",
    "          )"
   ]
  }
 ],
 "metadata": {
  "kernelspec": {
   "display_name": "Python (dv)",
   "language": "python",
   "name": "dv"
  },
  "language_info": {
   "codemirror_mode": {
    "name": "ipython",
    "version": 3
   },
   "file_extension": ".py",
   "mimetype": "text/x-python",
   "name": "python",
   "nbconvert_exporter": "python",
   "pygments_lexer": "ipython3",
   "version": "3.7.3"
  }
 },
 "nbformat": 4,
 "nbformat_minor": 2
}
