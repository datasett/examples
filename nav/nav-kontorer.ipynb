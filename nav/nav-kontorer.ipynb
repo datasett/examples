{
 "cells": [
  {
   "cell_type": "code",
   "execution_count": 1,
   "metadata": {},
   "outputs": [],
   "source": [
    "import dataverk\n",
    "import dataparcel\n",
    "import urllib.request\n",
    "import urllib.parse\n",
    "import pandas as pd\n",
    "from os import environ\n",
    "from xml.etree import ElementTree\n",
    "from googleplaces import GooglePlaces"
   ]
  },
  {
   "cell_type": "code",
   "execution_count": 2,
   "metadata": {},
   "outputs": [],
   "source": [
    "environ[\"DATAVERK_NO_SETTINGS_SECRETS\"] = \"True\"\n",
    "dv = dataverk.Dataverk()"
   ]
  },
  {
   "cell_type": "code",
   "execution_count": 3,
   "metadata": {},
   "outputs": [],
   "source": [
    "# Lager liste over alle NAV-kontorer (hentes fra nav.no)\n",
    "\n",
    "xmltag = 'office'\n",
    "url = 'https://www.nav.no/no/NAV+og+samfunn/Kontakt+NAV/Relatert+informasjon/_attachment/805355552?_ts=16639744488'\n",
    "\n",
    "response = urllib.request.urlopen(url)\n",
    "xml = ElementTree.parse(response)\n",
    "\n",
    "pandas_array = list()\n",
    "pandas_array.append(list())\n",
    "for elem in xml.iter(tag=xmltag):\n",
    "    pandas_array[0].append(elem.text)\n",
    "\n",
    "df_kontorer = pd.DataFrame(pandas_array, index=[xmltag]).transpose()\n",
    "df_kontorer.drop_duplicates(keep='first', inplace=True)\n",
    "df_kontorer = df_kontorer[df_kontorer.office != ' NAV Inn-Trøndelag']"
   ]
  },
  {
   "cell_type": "code",
   "execution_count": 4,
   "metadata": {},
   "outputs": [],
   "source": [
    "df_kontorer.duplicated().any()\n",
    "office_list = df_kontorer[\"office\"].tolist()"
   ]
  },
  {
   "cell_type": "code",
   "execution_count": 5,
   "metadata": {},
   "outputs": [
    {
     "data": {
      "text/plain": [
       "412"
      ]
     },
     "execution_count": 5,
     "metadata": {},
     "output_type": "execute_result"
    }
   ],
   "source": [
    "len(office_list)"
   ]
  },
  {
   "cell_type": "code",
   "execution_count": 6,
   "metadata": {},
   "outputs": [],
   "source": [
    "# For test\n",
    "office_list = office_list[0:2]"
   ]
  },
  {
   "cell_type": "code",
   "execution_count": 7,
   "metadata": {},
   "outputs": [],
   "source": [
    "google_places = GooglePlaces(api_key=dv.context.settings[\"google_api_key\"])"
   ]
  },
  {
   "cell_type": "code",
   "execution_count": 8,
   "metadata": {},
   "outputs": [],
   "source": [
    "df_loc = pd.DataFrame(columns=['name', 'address', 'latitude', 'longitude'])\n",
    "df_rating = pd.DataFrame(columns=['name', 'address', 'rating'])"
   ]
  },
  {
   "cell_type": "code",
   "execution_count": 9,
   "metadata": {},
   "outputs": [],
   "source": [
    "for office in office_list:\n",
    "    query_result = google_places.text_search(query=office)\n",
    "    for place in query_result.places:\n",
    "        place.get_details()\n",
    "    \n",
    "        if \"NAV\" in place.name or \"Nav\" in place.name:\n",
    "            df_loc = df_loc.append(pd.Series([place.name, place.formatted_address, str(place.geo_location[\"lat\"]), str(place.geo_location[\"lng\"])], index=['name', 'address', 'latitude', 'longitude']), ignore_index=True)\n",
    "            df_rating = df_rating.append(pd.Series([place.name, place.formatted_address, str(place.rating)], index=['name', 'address', 'rating']), ignore_index=True)"
   ]
  },
  {
   "cell_type": "code",
   "execution_count": 10,
   "metadata": {},
   "outputs": [
    {
     "data": {
      "text/html": [
       "<div>\n",
       "<style scoped>\n",
       "    .dataframe tbody tr th:only-of-type {\n",
       "        vertical-align: middle;\n",
       "    }\n",
       "\n",
       "    .dataframe tbody tr th {\n",
       "        vertical-align: top;\n",
       "    }\n",
       "\n",
       "    .dataframe thead th {\n",
       "        text-align: right;\n",
       "    }\n",
       "</style>\n",
       "<table border=\"1\" class=\"dataframe\">\n",
       "  <thead>\n",
       "    <tr style=\"text-align: right;\">\n",
       "      <th></th>\n",
       "      <th>name</th>\n",
       "      <th>address</th>\n",
       "      <th>latitude</th>\n",
       "      <th>longitude</th>\n",
       "    </tr>\n",
       "  </thead>\n",
       "  <tbody>\n",
       "    <tr>\n",
       "      <th>0</th>\n",
       "      <td>NAV St. Hanshaugen</td>\n",
       "      <td>Pilestredet 56, 0167 Oslo, Norway</td>\n",
       "      <td>59.9241143</td>\n",
       "      <td>10.7327211</td>\n",
       "    </tr>\n",
       "    <tr>\n",
       "      <th>1</th>\n",
       "      <td>NAV Nordstrand</td>\n",
       "      <td>Cecilie Thoresens vei 1, 1153 Oslo, Norway</td>\n",
       "      <td>59.8792689</td>\n",
       "      <td>10.8071679</td>\n",
       "    </tr>\n",
       "  </tbody>\n",
       "</table>\n",
       "</div>"
      ],
      "text/plain": [
       "                 name                                     address    latitude  \\\n",
       "0  NAV St. Hanshaugen           Pilestredet 56, 0167 Oslo, Norway  59.9241143   \n",
       "1      NAV Nordstrand  Cecilie Thoresens vei 1, 1153 Oslo, Norway  59.8792689   \n",
       "\n",
       "    longitude  \n",
       "0  10.7327211  \n",
       "1  10.8071679  "
      ]
     },
     "execution_count": 10,
     "metadata": {},
     "output_type": "execute_result"
    }
   ],
   "source": [
    "df_loc.head()"
   ]
  },
  {
   "cell_type": "code",
   "execution_count": 11,
   "metadata": {},
   "outputs": [
    {
     "data": {
      "text/html": [
       "<div>\n",
       "<style scoped>\n",
       "    .dataframe tbody tr th:only-of-type {\n",
       "        vertical-align: middle;\n",
       "    }\n",
       "\n",
       "    .dataframe tbody tr th {\n",
       "        vertical-align: top;\n",
       "    }\n",
       "\n",
       "    .dataframe thead th {\n",
       "        text-align: right;\n",
       "    }\n",
       "</style>\n",
       "<table border=\"1\" class=\"dataframe\">\n",
       "  <thead>\n",
       "    <tr style=\"text-align: right;\">\n",
       "      <th></th>\n",
       "      <th>name</th>\n",
       "      <th>address</th>\n",
       "      <th>rating</th>\n",
       "    </tr>\n",
       "  </thead>\n",
       "  <tbody>\n",
       "    <tr>\n",
       "      <th>0</th>\n",
       "      <td>NAV St. Hanshaugen</td>\n",
       "      <td>Pilestredet 56, 0167 Oslo, Norway</td>\n",
       "      <td>4</td>\n",
       "    </tr>\n",
       "    <tr>\n",
       "      <th>1</th>\n",
       "      <td>NAV Nordstrand</td>\n",
       "      <td>Cecilie Thoresens vei 1, 1153 Oslo, Norway</td>\n",
       "      <td>3.3</td>\n",
       "    </tr>\n",
       "  </tbody>\n",
       "</table>\n",
       "</div>"
      ],
      "text/plain": [
       "                 name                                     address rating\n",
       "0  NAV St. Hanshaugen           Pilestredet 56, 0167 Oslo, Norway      4\n",
       "1      NAV Nordstrand  Cecilie Thoresens vei 1, 1153 Oslo, Norway    3.3"
      ]
     },
     "execution_count": 11,
     "metadata": {},
     "output_type": "execute_result"
    }
   ],
   "source": [
    "df_rating.head()"
   ]
  },
  {
   "cell_type": "code",
   "execution_count": 12,
   "metadata": {},
   "outputs": [],
   "source": [
    "rating_spread = [0, 0, 0, 0, 0, 0]\n",
    "\n",
    "for index, rating in df_rating.iterrows():\n",
    "    rating_spread[int(float(df_rating.at[index, \"rating\"]))] += 1\n",
    "\n",
    "df_rating_spread = pd.DataFrame({'Antall kontorer': rating_spread, 'rating': ['0-1', '1-2', '2-3', '3-4', '4-5', '5-6']})"
   ]
  },
  {
   "cell_type": "code",
   "execution_count": 22,
   "metadata": {},
   "outputs": [],
   "source": [
    "METADATA = {\n",
    "    'id': 'nav-kontorer-id',\n",
    "    'path': 'https://www.googleapis.com/storage/v1/opendata-nav/NAV-kontorer',\n",
    "    'title': 'NAV kontorer',\n",
    "    'readme': '',\n",
    "    'license':'MIT',\n",
    "    'accessRights':'Open',\n",
    "    'auth': 'NAV',\n",
    "    'description':'NAV kontorer',\n",
    "    'name':'NAV-kontorer',\n",
    "    'source':'NAV',\n",
    "    'keywords':['NAV, kontorer'],\n",
    "    'provenance':'NAV',\n",
    "    'publisher': 'NAV',\n",
    "    'project': 'odata', \n",
    "    'user':'nav-examples',\n",
    "    'bucket_name': 'opendata-nav',\n",
    "    'bucket': 'opendata-nav',\n",
    "    'dataset':'NAV-kontorer'\n",
    "}"
   ]
  },
  {
   "cell_type": "code",
   "execution_count": 23,
   "metadata": {},
   "outputs": [],
   "source": [
    "# Lager en datapakke og legger datasettene inn i pakken\n",
    "dp = dataparcel.Datapackage(METADATA)\n",
    "\n",
    "dp.add_resource(df=df_loc, dataset_name=\"nav-kontorer-lokasjon\", dataset_description=\"Nav kontorer med adresse og geolokasjon\")\n",
    "dp.add_resource(df=df_rating, dataset_name=\"nav-kontorer-rating\", dataset_description=\"Nav kontorer med adresse og bruker-rating\")\n",
    "dp.add_resource(df=df_rating_spread, dataset_name=\"spredning-av-rating\", dataset_description=\"Spredning av ratings for NAV kontorer\")\n",
    "\n",
    "spec = {\n",
    "    \"type\": \"bar\",\n",
    "    \"group\": \"rating\",\n",
    "    \"series\": [\"Antall kontorer\"]\n",
    "}\n",
    "\n",
    "dp.add_view(name=\"Spredning av rating\", title=\"Rating av NAV kontorer\", resources=[\"spredning-av-rating\"], spec_type=\"simple\", spec=spec)\n",
    "dp.add_view(name=\"Rating av NAV kontorer\", title=\"Rating av NAV kontorer\", resources=[\"nav-kontorer-rating\"], row_limit=500, spec_type=\"table\")\n",
    "dp.add_view(name=\"Geolokasjon for NAV kontorer\", title=\"Geolokasjon for NAV kontorer\", resources=[\"nav-kontorer-lokasjon\"], row_limit=500, spec_type=\"table\")"
   ]
  },
  {
   "cell_type": "code",
   "execution_count": 24,
   "metadata": {},
   "outputs": [
    {
     "name": "stdout",
     "output_type": "stream",
     "text": [
      "2019-05-19T21:45:37.761999: V153753 <class 'dataverk.connectors.google_storage.GoogleStorageConnector'>: String (format: json) written to https://storage.googleapis.com/opendata-nav/NAV-kontorer/datapackage.json\n",
      "2019-05-19T21:45:38.100069: V153753 <class 'dataverk.connectors.google_storage.GoogleStorageConnector'>: String (format: csv) written to https://storage.googleapis.com/opendata-nav/NAV-kontorer/resources/nav-kontorer-lokasjon.csv\n",
      "2019-05-19T21:45:38.785417: V153753 <class 'dataverk.connectors.google_storage.GoogleStorageConnector'>: String (format: csv) written to https://storage.googleapis.com/opendata-nav/NAV-kontorer/resources/nav-kontorer-rating.csv\n",
      "2019-05-19T21:45:39.116850: V153753 <class 'dataverk.connectors.google_storage.GoogleStorageConnector'>: String (format: csv) written to https://storage.googleapis.com/opendata-nav/NAV-kontorer/resources/spredning-av-rating.csv\n",
      "2019-05-19T21:45:39.411994: V153753 <class 'dataverk.connectors.elasticsearch.ElasticsearchConnector'>: Document nav-kontorer-id of type odata indexed to elastic index: odata.\n"
     ]
    }
   ],
   "source": [
    "dp.write_datapackage()\n",
    "dv.publish(dp)"
   ]
  },
  {
   "cell_type": "code",
   "execution_count": null,
   "metadata": {},
   "outputs": [],
   "source": []
  }
 ],
 "metadata": {
  "kernelspec": {
   "display_name": "Python 3",
   "language": "python",
   "name": "python3"
  },
  "language_info": {
   "codemirror_mode": {
    "name": "ipython",
    "version": 3
   },
   "file_extension": ".py",
   "mimetype": "text/x-python",
   "name": "python",
   "nbconvert_exporter": "python",
   "pygments_lexer": "ipython3",
   "version": "3.6.5"
  }
 },
 "nbformat": 4,
 "nbformat_minor": 2
}
