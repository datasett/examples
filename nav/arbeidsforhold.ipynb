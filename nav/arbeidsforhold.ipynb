{
 "cells": [
  {
   "cell_type": "markdown",
   "metadata": {
    "colab_type": "text",
    "id": "view-in-github"
   },
   "source": [
    "<a href=\"https://colab.research.google.com/github/datasett/nav-examples/blob/master/arbeidsforhold.ipynb\" target=\"_parent\"><img src=\"https://colab.research.google.com/assets/colab-badge.svg\" alt=\"Open In Colab\"/></a>"
   ]
  },
  {
   "cell_type": "markdown",
   "metadata": {
    "colab_type": "text",
    "id": "8EZlxYUYCLrA"
   },
   "source": [
    "# Setup for editing in Colab"
   ]
  },
  {
   "cell_type": "code",
   "execution_count": 0,
   "metadata": {
    "colab": {},
    "colab_type": "code",
    "id": "30tbnyKcvwzn"
   },
   "outputs": [],
   "source": [
    "import sys\n",
    "\n",
    "if 'dataverk' not in  sys.modules:\n",
    "    !pip install dataverk"
   ]
  },
  {
   "cell_type": "code",
   "execution_count": 0,
   "metadata": {
    "colab": {},
    "colab_type": "code",
    "id": "oX_xEgZd6leZ"
   },
   "outputs": [],
   "source": [
    "if 'google.colab' in sys.modules:\n",
    "    from google.colab import auth\n",
    "    auth.authenticate_user()"
   ]
  },
  {
   "cell_type": "markdown",
   "metadata": {
    "colab_type": "text",
    "id": "UO0ky8Fu6lec"
   },
   "source": [
    "# Imports"
   ]
  },
  {
   "cell_type": "code",
   "execution_count": 0,
   "metadata": {
    "colab": {},
    "colab_type": "code",
    "id": "2TJ12Rsva5C7"
   },
   "outputs": [],
   "source": [
    "import dataverk as dv\n",
    "import numpy as np\n",
    "import pandas as pd\n",
    "import ipywidgets as widgets\n",
    "\n",
    "import plotly.offline as py\n",
    "import plotly.graph_objs as go\n",
    "import plotly.io as plio"
   ]
  },
  {
   "cell_type": "markdown",
   "metadata": {
    "colab_type": "text",
    "id": "8K8JxKGUB3Us"
   },
   "source": [
    "# Get data"
   ]
  },
  {
   "cell_type": "code",
   "execution_count": 0,
   "metadata": {
    "colab": {},
    "colab_type": "code",
    "id": "lzCRlMOHa5DA"
   },
   "outputs": [],
   "source": [
    "df = pd.read_csv('https://cc-p-nav.ckan.io/dataset/cf4af47c-fd3e-4a0b-bdda-962cff3caf4e/resource/fcf3b72e-4a25-4a5b-9f28-2864adbb057d/download/nye_arbeidsforhold_2017.csv', sep=';', low_memory=False)"
   ]
  },
  {
   "cell_type": "code",
   "execution_count": 0,
   "metadata": {
    "colab": {},
    "colab_type": "code",
    "id": "VkKCCHmva5DE"
   },
   "outputs": [],
   "source": [
    "#df_2016 = pd.read_csv('https://cc-p-nav.ckan.io/dataset/cf4af47c-fd3e-4a0b-bdda-962cff3caf4e/resource/c9aed227-6b4a-4064-b2bf-373d55697dcb/download/nye_arbeidsforhold_2016.csv', sep=';', low_memory=False)"
   ]
  },
  {
   "cell_type": "code",
   "execution_count": 0,
   "metadata": {
    "colab": {},
    "colab_type": "code",
    "id": "7SylLG2Ja5DG"
   },
   "outputs": [],
   "source": [
    "#df_2015 = pd.read_csv('https://cc-p-nav.ckan.io/dataset/cf4af47c-fd3e-4a0b-bdda-962cff3caf4e/resource/b6330ad6-3cec-4710-9ca3-7167b86d44df/download/nye_arbeidsforhold_2015.csv', sep=';', low_memory=False)"
   ]
  },
  {
   "cell_type": "code",
   "execution_count": 0,
   "metadata": {
    "colab": {},
    "colab_type": "code",
    "id": "AsgaumWPa5DJ"
   },
   "outputs": [],
   "source": [
    "df.head(5)"
   ]
  },
  {
   "cell_type": "code",
   "execution_count": 0,
   "metadata": {
    "colab": {},
    "colab_type": "code",
    "id": "5VN6LoyWa5DN"
   },
   "outputs": [],
   "source": [
    "len(df)"
   ]
  },
  {
   "cell_type": "code",
   "execution_count": 0,
   "metadata": {
    "colab": {},
    "colab_type": "code",
    "id": "QXderAh-a5DS"
   },
   "outputs": [],
   "source": [
    "df['yrkesfelt_navn'].unique()"
   ]
  },
  {
   "cell_type": "code",
   "execution_count": 0,
   "metadata": {
    "colab": {},
    "colab_type": "code",
    "id": "d5j5bHuda5DW"
   },
   "outputs": [],
   "source": [
    "df['arbeidssted_fylke_navn'].unique()"
   ]
  },
  {
   "cell_type": "code",
   "execution_count": 0,
   "metadata": {
    "colab": {},
    "colab_type": "code",
    "id": "iqSx9OS4a5Db"
   },
   "outputs": [],
   "source": [
    "df_x = df[['yrkesfelt_navn','arbeidssted_fylke_navn','antall_nye_ansatte']]"
   ]
  },
  {
   "cell_type": "code",
   "execution_count": 0,
   "metadata": {
    "colab": {},
    "colab_type": "code",
    "id": "RMf9udc4a5De"
   },
   "outputs": [],
   "source": [
    "df_x = df_x[(df_x['yrkesfelt_navn'] != 'I alt') & (df_x['arbeidssted_fylke_navn'] != 'I alt') & (df_x['antall_nye_ansatte'] != '*')].copy()"
   ]
  },
  {
   "cell_type": "code",
   "execution_count": 0,
   "metadata": {
    "colab": {},
    "colab_type": "code",
    "id": "p0wzU-Eqa5Dg"
   },
   "outputs": [],
   "source": [
    "df_x['antall_nye_ansatte'] = df_x['antall_nye_ansatte'].astype(int)"
   ]
  },
  {
   "cell_type": "code",
   "execution_count": 0,
   "metadata": {
    "colab": {},
    "colab_type": "code",
    "id": "QDQbQalha5Dj"
   },
   "outputs": [],
   "source": [
    "df_p = df_x.pivot_table(index='yrkesfelt_navn', \n",
    "           columns='arbeidssted_fylke_navn', \n",
    "           values='antall_nye_ansatte',\n",
    "           aggfunc=np.sum\n",
    "          ).reset_index().set_index('yrkesfelt_navn')"
   ]
  },
  {
   "cell_type": "code",
   "execution_count": 0,
   "metadata": {
    "colab": {},
    "colab_type": "code",
    "id": "HLZvCIDLa5Dl"
   },
   "outputs": [],
   "source": [
    "df_p.dtypes"
   ]
  },
  {
   "cell_type": "code",
   "execution_count": 0,
   "metadata": {
    "colab": {},
    "colab_type": "code",
    "id": "TIgubFtPa5Dq"
   },
   "outputs": [],
   "source": [
    "df_p.index.tolist()"
   ]
  },
  {
   "cell_type": "code",
   "execution_count": 0,
   "metadata": {
    "colab": {},
    "colab_type": "code",
    "id": "6tka8HJPa5Dt"
   },
   "outputs": [],
   "source": [
    "data = [go.Surface(z=df_p.values.tolist(),\n",
    "                   y=df_p.columns[1:].tolist(),\n",
    "                   x=df_p.index.tolist(),\n",
    "                   colorscale='Viridis')]\n",
    "\n",
    "layout = go.Layout(\n",
    "    width=800,\n",
    "    height=900,\n",
    "    autosize=False,\n",
    "    margin=dict(t=0, b=0, l=0, r=0),\n",
    "    scene=dict(\n",
    "        xaxis=dict(\n",
    "            gridcolor='rgb(255, 255, 255)',\n",
    "            zerolinecolor='rgb(255, 255, 255)',\n",
    "            showbackground=True,\n",
    "            backgroundcolor='rgb(230, 230,230)',\n",
    "        ),\n",
    "        yaxis=dict(\n",
    "            gridcolor='rgb(255, 255, 255)',\n",
    "            zerolinecolor='rgb(255, 255, 255)',\n",
    "            showbackground=True,\n",
    "            backgroundcolor='rgb(230, 230, 230)'\n",
    "        ),\n",
    "        zaxis=dict(\n",
    "            gridcolor='rgb(255, 255, 255)',\n",
    "            zerolinecolor='rgb(255, 255, 255)',\n",
    "            showbackground=True,\n",
    "            backgroundcolor='rgb(230, 230,230)'\n",
    "        ),\n",
    "        aspectratio = dict(x=1, y=1, z=0.7),\n",
    "        aspectmode = 'manual'\n",
    "    )\n",
    ")\n",
    "\n",
    "updatemenus=list([\n",
    "    dict(\n",
    "        buttons=list([   \n",
    "            dict(\n",
    "                args=['type', 'surface'],\n",
    "                label='3D Surface',\n",
    "                method='restyle'\n",
    "            ),\n",
    "            dict(\n",
    "                args=['type', 'heatmap'],\n",
    "                label='Heatmap',\n",
    "                method='restyle'\n",
    "            )             \n",
    "        ]),\n",
    "        direction = 'down',\n",
    "        pad = {'r': 10, 't': 10},\n",
    "        showactive = True,\n",
    "        x = 0.1,\n",
    "        xanchor = 'left',\n",
    "        y = 1.1,\n",
    "        yanchor = 'top' \n",
    "    ),\n",
    "])\n",
    "\n",
    "annotations = list([\n",
    "    dict(text='Trace type:', x=0, y=1.085, yref='paper', align='left', showarrow=False)\n",
    "])\n",
    "layout['updatemenus'] = updatemenus\n",
    "layout['annotations'] = annotations\n",
    "\n",
    "fig = go.Figure(data,layout)\n",
    "\n",
    "go.FigureWidget(data,layout)"
   ]
  },
  {
   "cell_type": "code",
   "execution_count": 0,
   "metadata": {
    "colab": {},
    "colab_type": "code",
    "id": "FJWz23a6vY0n"
   },
   "outputs": [],
   "source": [
    "if 'google.colab' in sys.modules:\n",
    "    def enable_plotly_in_cell():\n",
    "      import IPython\n",
    "      from plotly.offline import init_notebook_mode\n",
    "      display(IPython.core.display.HTML('''\n",
    "            <script src=\"/static/components/requirejs/require.js\"></script>\n",
    "      '''))\n",
    "      init_notebook_mode(connected=False)\n",
    "\n",
    "    from plotly.offline import iplot\n",
    "    enable_plotly_in_cell()\n",
    "    iplot(data)"
   ]
  },
  {
   "cell_type": "markdown",
   "metadata": {
    "colab_type": "text",
    "id": "jeqb6wRra5Dx"
   },
   "source": [
    "# Datapackage"
   ]
  },
  {
   "cell_type": "code",
   "execution_count": 0,
   "metadata": {
    "colab": {},
    "colab_type": "code",
    "id": "EnL2pLoXGyBT"
   },
   "outputs": [],
   "source": [
    "readme = \"\"\"\n",
    "# Arbeidsforhold\n",
    "\n",
    "\"\"\"\n",
    "\n",
    "metadata = {\n",
    "'store': 'https://raw.githubusercontent.com/datasett/nav-examples/master',\n",
    "'title': 'Arbeidsforhold',\n",
    "'readme': readme,\n",
    "'license':'MIT',\n",
    "'accessRights':'Open',\n",
    "'auth': 'Dataverk',\n",
    "'description':'Arbeidsforhold',\n",
    "'name':'Arbeidsforhold',\n",
    "'source':'Dataverk',\n",
    "'keywords':['test'],\n",
    "'provenance':'Dataverk',\n",
    "'publisher': 'Dataverk',\n",
    "'project': 'mesiqi', \n",
    "'user':'dataverk',\n",
    "'bucket_name': 'dataparcel',\n",
    "'dataset':'arbeidsforhold'\n",
    "}"
   ]
  },
  {
   "cell_type": "code",
   "execution_count": 0,
   "metadata": {
    "colab": {},
    "colab_type": "code",
    "id": "_9zlLM5Ca5Dx"
   },
   "outputs": [],
   "source": [
    "dp = dv.Datapackage(metadata)"
   ]
  },
  {
   "cell_type": "markdown",
   "metadata": {
    "colab_type": "text",
    "id": "3JqeSF0L6lfQ"
   },
   "source": [
    "## Add views"
   ]
  },
  {
   "cell_type": "code",
   "execution_count": 0,
   "metadata": {
    "colab": {},
    "colab_type": "code",
    "id": "2brXfGv3a5Dz"
   },
   "outputs": [],
   "source": [
    "description = '''\n",
    "Nye ansatte i 2017 \n",
    "\n",
    "'''\n",
    "\n",
    "dp.add_view(\n",
    "    spec_type='plotly',\n",
    "    name='Nye ansatte i 2017',\n",
    "    title='Nye ansatte i 2017',\n",
    "    description = description,\n",
    "    resources=[],\n",
    "    attribution = \"Kilde: NAV.\",\n",
    "    spec=plio.to_json(fig)\n",
    ")"
   ]
  },
  {
   "cell_type": "markdown",
   "metadata": {
    "colab_type": "text",
    "id": "FKi2Yx-o6lfT"
   },
   "source": [
    "# Save data and publish datapackage in elastic search index"
   ]
  },
  {
   "cell_type": "code",
   "execution_count": 0,
   "metadata": {
    "colab": {},
    "colab_type": "code",
    "id": "8iDENEPla5D1"
   },
   "outputs": [],
   "source": [
    "client = dv.Client()\n",
    "client.publish(dp)"
   ]
  }
 ],
 "metadata": {
  "colab": {
   "include_colab_link": true,
   "name": "etl.ipynb",
   "private_outputs": true,
   "provenance": [],
   "toc_visible": true,
   "version": "0.3.2"
  },
  "kernelspec": {
   "display_name": "Python 3",
   "language": "python",
   "name": "python3"
  },
  "language_info": {
   "codemirror_mode": {
    "name": "ipython",
    "version": 3
   },
   "file_extension": ".py",
   "mimetype": "text/x-python",
   "name": "python",
   "nbconvert_exporter": "python",
   "pygments_lexer": "ipython3",
   "version": "3.7.4"
  },
  "varInspector": {
   "cols": {
    "lenName": 16,
    "lenType": 16,
    "lenVar": 40
   },
   "kernels_config": {
    "python": {
     "delete_cmd_postfix": "",
     "delete_cmd_prefix": "del ",
     "library": "var_list.py",
     "varRefreshCmd": "print(var_dic_list())"
    },
    "r": {
     "delete_cmd_postfix": ") ",
     "delete_cmd_prefix": "rm(",
     "library": "var_list.r",
     "varRefreshCmd": "cat(var_dic_list()) "
    }
   },
   "types_to_exclude": [
    "module",
    "function",
    "builtin_function_or_method",
    "instance",
    "_Feature"
   ],
   "window_display": false
  }
 },
 "nbformat": 4,
 "nbformat_minor": 1
}
