{
 "cells": [
  {
   "cell_type": "markdown",
   "metadata": {
    "colab_type": "text",
    "id": "view-in-github"
   },
   "source": [
    "<a href=\"https://colab.research.google.com/github/datasett/examples/nav/blob/master/arbeidsforhold.ipynb\" target=\"_parent\"><img src=\"https://colab.research.google.com/assets/colab-badge.svg\" alt=\"Open In Colab\"/></a>"
   ]
  },
  {
   "cell_type": "markdown",
   "metadata": {
    "colab_type": "text",
    "id": "8EZlxYUYCLrA"
   },
   "source": [
    "# Setup for running in Colab"
   ]
  },
  {
   "cell_type": "code",
   "execution_count": 238,
   "metadata": {
    "colab": {},
    "colab_type": "code",
    "id": "oX_xEgZd6leZ"
   },
   "outputs": [],
   "source": [
    "import sys\n",
    "\n",
    "if 'google.colab' in sys.modules:\n",
    "    from google.colab import auth\n",
    "    auth.authenticate_user()\n",
    "    !pip install dataverk\n",
    "    \n",
    "    \n",
    "if 'google.colab' in sys.modules:\n",
    "    def enable_plotly_in_cell():\n",
    "      import IPython\n",
    "      from plotly.offline import init_notebook_mode\n",
    "      display(IPython.core.display.HTML('''\n",
    "            <script src=\"/static/components/requirejs/require.js\"></script>\n",
    "      '''))\n",
    "      init_notebook_mode(connected=False)\n",
    "\n",
    "    from plotly.offline import iplot\n",
    "    enable_plotly_in_cell()\n",
    "    iplot(data)\n",
    "    "
   ]
  },
  {
   "cell_type": "markdown",
   "metadata": {
    "colab_type": "text",
    "id": "UO0ky8Fu6lec"
   },
   "source": [
    "# Imports"
   ]
  },
  {
   "cell_type": "code",
   "execution_count": 241,
   "metadata": {
    "colab": {},
    "colab_type": "code",
    "id": "2TJ12Rsva5C7"
   },
   "outputs": [],
   "source": [
    "from dataverk import Client, Datapackage\n",
    "import dataverk_tools.themes.nav as nav\n",
    "\n",
    "import pandas as pd\n",
    "import ipywidgets as widgets\n",
    "import datetime\n",
    "\n",
    "import plotly.graph_objs as go\n",
    "import plotly.io as pio\n",
    "import plotly.express as px\n",
    "\n",
    "pio.templates.default = nav.plotly_template"
   ]
  },
  {
   "cell_type": "markdown",
   "metadata": {
    "colab_type": "text",
    "id": "8K8JxKGUB3Us"
   },
   "source": [
    "# Get data"
   ]
  },
  {
   "cell_type": "code",
   "execution_count": 172,
   "metadata": {
    "colab": {},
    "colab_type": "code",
    "id": "lzCRlMOHa5DA"
   },
   "outputs": [],
   "source": [
    "df = pd.read_csv('https://cc-p-nav.ckan.io/dataset/cf4af47c-fd3e-4a0b-bdda-962cff3caf4e/resource/fcf3b72e-4a25-4a5b-9f28-2864adbb057d/download/nye_arbeidsforhold_2017.csv', sep=';', low_memory=False)"
   ]
  },
  {
   "cell_type": "code",
   "execution_count": 0,
   "metadata": {
    "colab": {},
    "colab_type": "code",
    "id": "VkKCCHmva5DE"
   },
   "outputs": [],
   "source": [
    "#df_2016 = pd.read_csv('https://cc-p-nav.ckan.io/dataset/cf4af47c-fd3e-4a0b-bdda-962cff3caf4e/resource/c9aed227-6b4a-4064-b2bf-373d55697dcb/download/nye_arbeidsforhold_2016.csv', sep=';', low_memory=False)"
   ]
  },
  {
   "cell_type": "code",
   "execution_count": 0,
   "metadata": {
    "colab": {},
    "colab_type": "code",
    "id": "7SylLG2Ja5DG"
   },
   "outputs": [],
   "source": [
    "#df_2015 = pd.read_csv('https://cc-p-nav.ckan.io/dataset/cf4af47c-fd3e-4a0b-bdda-962cff3caf4e/resource/b6330ad6-3cec-4710-9ca3-7167b86d44df/download/nye_arbeidsforhold_2015.csv', sep=';', low_memory=False)"
   ]
  },
  {
   "cell_type": "code",
   "execution_count": 173,
   "metadata": {
    "colab": {},
    "colab_type": "code",
    "id": "AsgaumWPa5DJ"
   },
   "outputs": [
    {
     "data": {
      "text/html": [
       "<div>\n",
       "<style scoped>\n",
       "    .dataframe tbody tr th:only-of-type {\n",
       "        vertical-align: middle;\n",
       "    }\n",
       "\n",
       "    .dataframe tbody tr th {\n",
       "        vertical-align: top;\n",
       "    }\n",
       "\n",
       "    .dataframe thead th {\n",
       "        text-align: right;\n",
       "    }\n",
       "</style>\n",
       "<table border=\"1\" class=\"dataframe\">\n",
       "  <thead>\n",
       "    <tr style=\"text-align: right;\">\n",
       "      <th></th>\n",
       "      <th>ansettelses_aar_mnd</th>\n",
       "      <th>nivaa</th>\n",
       "      <th>arbeidssted_fylke_nr</th>\n",
       "      <th>arbeidssted_fylke_navn</th>\n",
       "      <th>arbeidssted_kommune_nr</th>\n",
       "      <th>arbeidssted_kommune_navn</th>\n",
       "      <th>foretak_sektor</th>\n",
       "      <th>naaering_gruppe_kode</th>\n",
       "      <th>naaering_gruppe_navn</th>\n",
       "      <th>naering_kode</th>\n",
       "      <th>naering_navn</th>\n",
       "      <th>naeringstandard</th>\n",
       "      <th>yrkesfelt_kode</th>\n",
       "      <th>yrkesfelt_navn</th>\n",
       "      <th>yrke_kode</th>\n",
       "      <th>yrke_navn</th>\n",
       "      <th>antall_nye_ansatte</th>\n",
       "    </tr>\n",
       "  </thead>\n",
       "  <tbody>\n",
       "    <tr>\n",
       "      <th>0</th>\n",
       "      <td>201701</td>\n",
       "      <td>Fylke</td>\n",
       "      <td>--</td>\n",
       "      <td>Ukjent</td>\n",
       "      <td>I alt</td>\n",
       "      <td>I alt</td>\n",
       "      <td>I alt</td>\n",
       "      <td>I alt</td>\n",
       "      <td>I alt</td>\n",
       "      <td>I alt</td>\n",
       "      <td>I alt</td>\n",
       "      <td>I alt</td>\n",
       "      <td>I alt</td>\n",
       "      <td>I alt</td>\n",
       "      <td>I alt</td>\n",
       "      <td>I alt</td>\n",
       "      <td>1938</td>\n",
       "    </tr>\n",
       "    <tr>\n",
       "      <th>1</th>\n",
       "      <td>201701</td>\n",
       "      <td>Fylke</td>\n",
       "      <td>01</td>\n",
       "      <td>Østfold</td>\n",
       "      <td>I alt</td>\n",
       "      <td>I alt</td>\n",
       "      <td>I alt</td>\n",
       "      <td>I alt</td>\n",
       "      <td>I alt</td>\n",
       "      <td>I alt</td>\n",
       "      <td>I alt</td>\n",
       "      <td>I alt</td>\n",
       "      <td>I alt</td>\n",
       "      <td>I alt</td>\n",
       "      <td>I alt</td>\n",
       "      <td>I alt</td>\n",
       "      <td>6469</td>\n",
       "    </tr>\n",
       "    <tr>\n",
       "      <th>2</th>\n",
       "      <td>201701</td>\n",
       "      <td>Fylke</td>\n",
       "      <td>02</td>\n",
       "      <td>Akershus</td>\n",
       "      <td>I alt</td>\n",
       "      <td>I alt</td>\n",
       "      <td>I alt</td>\n",
       "      <td>I alt</td>\n",
       "      <td>I alt</td>\n",
       "      <td>I alt</td>\n",
       "      <td>I alt</td>\n",
       "      <td>I alt</td>\n",
       "      <td>I alt</td>\n",
       "      <td>I alt</td>\n",
       "      <td>I alt</td>\n",
       "      <td>I alt</td>\n",
       "      <td>16905</td>\n",
       "    </tr>\n",
       "    <tr>\n",
       "      <th>3</th>\n",
       "      <td>201701</td>\n",
       "      <td>Fylke</td>\n",
       "      <td>03</td>\n",
       "      <td>Oslo</td>\n",
       "      <td>I alt</td>\n",
       "      <td>I alt</td>\n",
       "      <td>I alt</td>\n",
       "      <td>I alt</td>\n",
       "      <td>I alt</td>\n",
       "      <td>I alt</td>\n",
       "      <td>I alt</td>\n",
       "      <td>I alt</td>\n",
       "      <td>I alt</td>\n",
       "      <td>I alt</td>\n",
       "      <td>I alt</td>\n",
       "      <td>I alt</td>\n",
       "      <td>36843</td>\n",
       "    </tr>\n",
       "    <tr>\n",
       "      <th>4</th>\n",
       "      <td>201701</td>\n",
       "      <td>Fylke</td>\n",
       "      <td>04</td>\n",
       "      <td>Hedmark</td>\n",
       "      <td>I alt</td>\n",
       "      <td>I alt</td>\n",
       "      <td>I alt</td>\n",
       "      <td>I alt</td>\n",
       "      <td>I alt</td>\n",
       "      <td>I alt</td>\n",
       "      <td>I alt</td>\n",
       "      <td>I alt</td>\n",
       "      <td>I alt</td>\n",
       "      <td>I alt</td>\n",
       "      <td>I alt</td>\n",
       "      <td>I alt</td>\n",
       "      <td>5084</td>\n",
       "    </tr>\n",
       "  </tbody>\n",
       "</table>\n",
       "</div>"
      ],
      "text/plain": [
       "   ansettelses_aar_mnd  nivaa arbeidssted_fylke_nr arbeidssted_fylke_navn  \\\n",
       "0               201701  Fylke                   --                 Ukjent   \n",
       "1               201701  Fylke                   01                Østfold   \n",
       "2               201701  Fylke                   02               Akershus   \n",
       "3               201701  Fylke                   03                   Oslo   \n",
       "4               201701  Fylke                   04                Hedmark   \n",
       "\n",
       "  arbeidssted_kommune_nr arbeidssted_kommune_navn foretak_sektor  \\\n",
       "0                  I alt                    I alt          I alt   \n",
       "1                  I alt                    I alt          I alt   \n",
       "2                  I alt                    I alt          I alt   \n",
       "3                  I alt                    I alt          I alt   \n",
       "4                  I alt                    I alt          I alt   \n",
       "\n",
       "  naaering_gruppe_kode naaering_gruppe_navn naering_kode naering_navn  \\\n",
       "0                I alt                I alt        I alt        I alt   \n",
       "1                I alt                I alt        I alt        I alt   \n",
       "2                I alt                I alt        I alt        I alt   \n",
       "3                I alt                I alt        I alt        I alt   \n",
       "4                I alt                I alt        I alt        I alt   \n",
       "\n",
       "  naeringstandard yrkesfelt_kode yrkesfelt_navn yrke_kode yrke_navn  \\\n",
       "0           I alt          I alt          I alt     I alt     I alt   \n",
       "1           I alt          I alt          I alt     I alt     I alt   \n",
       "2           I alt          I alt          I alt     I alt     I alt   \n",
       "3           I alt          I alt          I alt     I alt     I alt   \n",
       "4           I alt          I alt          I alt     I alt     I alt   \n",
       "\n",
       "  antall_nye_ansatte  \n",
       "0               1938  \n",
       "1               6469  \n",
       "2              16905  \n",
       "3              36843  \n",
       "4               5084  "
      ]
     },
     "execution_count": 173,
     "metadata": {},
     "output_type": "execute_result"
    }
   ],
   "source": [
    "df.head(5)\n"
   ]
  },
  {
   "cell_type": "code",
   "execution_count": 174,
   "metadata": {
    "colab": {},
    "colab_type": "code",
    "id": "5VN6LoyWa5DN"
   },
   "outputs": [
    {
     "data": {
      "text/plain": [
       "478849"
      ]
     },
     "execution_count": 174,
     "metadata": {},
     "output_type": "execute_result"
    }
   ],
   "source": [
    "len(df)\n"
   ]
  },
  {
   "cell_type": "code",
   "execution_count": 175,
   "metadata": {
    "colab": {},
    "colab_type": "code",
    "id": "QXderAh-a5DS"
   },
   "outputs": [
    {
     "data": {
      "text/plain": [
       "array(['I alt', 'Administrative ledere og politikere', 'Akademiske yrker',\n",
       "       'Yrker med kortere høyskole og universitetsutdanning og teknikere',\n",
       "       'Kontor og kundeserviceyrker', 'Salgs , service og omsorgsyrker',\n",
       "       'Yrker innen jordbruk, skogbruk og fiske', 'Håndverkere o.l.',\n",
       "       'Prosess og maskinoperatører, transportarbeidere mv.',\n",
       "       'Yrker uten krav til utdanning', 'Ukjent'], dtype=object)"
      ]
     },
     "execution_count": 175,
     "metadata": {},
     "output_type": "execute_result"
    }
   ],
   "source": [
    "df['yrkesfelt_navn'].unique()\n"
   ]
  },
  {
   "cell_type": "code",
   "execution_count": 176,
   "metadata": {
    "colab": {},
    "colab_type": "code",
    "id": "d5j5bHuda5DW"
   },
   "outputs": [
    {
     "data": {
      "text/plain": [
       "array(['Ukjent', 'Østfold', 'Akershus', 'Oslo', 'Hedmark', 'Oppland',\n",
       "       'Buskerud', 'Vestfold', 'Telemark', 'Aust-Agder', 'Vest-Agder',\n",
       "       'Rogaland', 'Hordaland', 'Sogn og Fjordane', 'Møre og Romsdal',\n",
       "       'Nordland', 'Troms Romsa', 'Finnmark Finnmárku', 'Trøndelag',\n",
       "       'Øvrige områder', 'I alt'], dtype=object)"
      ]
     },
     "execution_count": 176,
     "metadata": {},
     "output_type": "execute_result"
    }
   ],
   "source": [
    "df['arbeidssted_fylke_navn'].unique()\n"
   ]
  },
  {
   "cell_type": "code",
   "execution_count": 208,
   "metadata": {},
   "outputs": [],
   "source": [
    "df_f = df[['ansettelses_aar_mnd', 'yrkesfelt_navn','arbeidssted_fylke_navn','antall_nye_ansatte']].copy()\n",
    "df_f['antall_nye_ansatte'] = df_f['antall_nye_ansatte'].apply(lambda x: int(str(x).replace('*','2')))"
   ]
  },
  {
   "cell_type": "code",
   "execution_count": 209,
   "metadata": {},
   "outputs": [],
   "source": [
    "df_n = df_f[(df_f['yrkesfelt_navn'] != 'I alt') & (df_f['arbeidssted_fylke_navn'] == 'I alt')].copy()\n",
    "df_n = df_n.groupby(['ansettelses_aar_mnd', 'yrkesfelt_navn','arbeidssted_fylke_navn']).sum().reset_index()"
   ]
  },
  {
   "cell_type": "code",
   "execution_count": 210,
   "metadata": {},
   "outputs": [
    {
     "data": {
      "text/html": [
       "<div>\n",
       "<style scoped>\n",
       "    .dataframe tbody tr th:only-of-type {\n",
       "        vertical-align: middle;\n",
       "    }\n",
       "\n",
       "    .dataframe tbody tr th {\n",
       "        vertical-align: top;\n",
       "    }\n",
       "\n",
       "    .dataframe thead th {\n",
       "        text-align: right;\n",
       "    }\n",
       "</style>\n",
       "<table border=\"1\" class=\"dataframe\">\n",
       "  <thead>\n",
       "    <tr style=\"text-align: right;\">\n",
       "      <th></th>\n",
       "      <th>ansettelses_aar_mnd</th>\n",
       "      <th>yrkesfelt_navn</th>\n",
       "      <th>arbeidssted_fylke_navn</th>\n",
       "      <th>antall_nye_ansatte</th>\n",
       "    </tr>\n",
       "  </thead>\n",
       "  <tbody>\n",
       "    <tr>\n",
       "      <th>0</th>\n",
       "      <td>201701</td>\n",
       "      <td>Administrative ledere og politikere</td>\n",
       "      <td>I alt</td>\n",
       "      <td>12420</td>\n",
       "    </tr>\n",
       "    <tr>\n",
       "      <th>1</th>\n",
       "      <td>201701</td>\n",
       "      <td>Akademiske yrker</td>\n",
       "      <td>I alt</td>\n",
       "      <td>29386</td>\n",
       "    </tr>\n",
       "    <tr>\n",
       "      <th>2</th>\n",
       "      <td>201701</td>\n",
       "      <td>Håndverkere o.l.</td>\n",
       "      <td>I alt</td>\n",
       "      <td>18340</td>\n",
       "    </tr>\n",
       "    <tr>\n",
       "      <th>3</th>\n",
       "      <td>201701</td>\n",
       "      <td>Kontor og kundeserviceyrker</td>\n",
       "      <td>I alt</td>\n",
       "      <td>10493</td>\n",
       "    </tr>\n",
       "    <tr>\n",
       "      <th>4</th>\n",
       "      <td>201701</td>\n",
       "      <td>Prosess og maskinoperatører, transportarbeider...</td>\n",
       "      <td>I alt</td>\n",
       "      <td>11538</td>\n",
       "    </tr>\n",
       "  </tbody>\n",
       "</table>\n",
       "</div>"
      ],
      "text/plain": [
       "   ansettelses_aar_mnd                                     yrkesfelt_navn  \\\n",
       "0               201701                Administrative ledere og politikere   \n",
       "1               201701                                   Akademiske yrker   \n",
       "2               201701                                   Håndverkere o.l.   \n",
       "3               201701                        Kontor og kundeserviceyrker   \n",
       "4               201701  Prosess og maskinoperatører, transportarbeider...   \n",
       "\n",
       "  arbeidssted_fylke_navn  antall_nye_ansatte  \n",
       "0                  I alt               12420  \n",
       "1                  I alt               29386  \n",
       "2                  I alt               18340  \n",
       "3                  I alt               10493  \n",
       "4                  I alt               11538  "
      ]
     },
     "execution_count": 210,
     "metadata": {},
     "output_type": "execute_result"
    }
   ],
   "source": [
    "df_n.head()"
   ]
  },
  {
   "cell_type": "code",
   "execution_count": 220,
   "metadata": {},
   "outputs": [
    {
     "data": {
      "text/html": [
       "<div>\n",
       "<style scoped>\n",
       "    .dataframe tbody tr th:only-of-type {\n",
       "        vertical-align: middle;\n",
       "    }\n",
       "\n",
       "    .dataframe tbody tr th {\n",
       "        vertical-align: top;\n",
       "    }\n",
       "\n",
       "    .dataframe thead th {\n",
       "        text-align: right;\n",
       "    }\n",
       "</style>\n",
       "<table border=\"1\" class=\"dataframe\">\n",
       "  <thead>\n",
       "    <tr style=\"text-align: right;\">\n",
       "      <th></th>\n",
       "      <th>ansettelses_aar_mnd</th>\n",
       "      <th>arbeidssted_fylke_navn</th>\n",
       "      <th>antall_nye_ansatte</th>\n",
       "    </tr>\n",
       "  </thead>\n",
       "  <tbody>\n",
       "    <tr>\n",
       "      <th>0</th>\n",
       "      <td>201701</td>\n",
       "      <td>I alt</td>\n",
       "      <td>206996</td>\n",
       "    </tr>\n",
       "    <tr>\n",
       "      <th>1</th>\n",
       "      <td>201702</td>\n",
       "      <td>I alt</td>\n",
       "      <td>79985</td>\n",
       "    </tr>\n",
       "    <tr>\n",
       "      <th>2</th>\n",
       "      <td>201703</td>\n",
       "      <td>I alt</td>\n",
       "      <td>94397</td>\n",
       "    </tr>\n",
       "    <tr>\n",
       "      <th>3</th>\n",
       "      <td>201704</td>\n",
       "      <td>I alt</td>\n",
       "      <td>86878</td>\n",
       "    </tr>\n",
       "    <tr>\n",
       "      <th>4</th>\n",
       "      <td>201705</td>\n",
       "      <td>I alt</td>\n",
       "      <td>108313</td>\n",
       "    </tr>\n",
       "  </tbody>\n",
       "</table>\n",
       "</div>"
      ],
      "text/plain": [
       "   ansettelses_aar_mnd arbeidssted_fylke_navn  antall_nye_ansatte\n",
       "0               201701                  I alt              206996\n",
       "1               201702                  I alt               79985\n",
       "2               201703                  I alt               94397\n",
       "3               201704                  I alt               86878\n",
       "4               201705                  I alt              108313"
      ]
     },
     "execution_count": 220,
     "metadata": {},
     "output_type": "execute_result"
    }
   ],
   "source": [
    "df_n_s = df_n.groupby(['ansettelses_aar_mnd', 'arbeidssted_fylke_navn']).sum().reset_index()\n",
    "df_n_s.head()"
   ]
  },
  {
   "cell_type": "code",
   "execution_count": 223,
   "metadata": {},
   "outputs": [
    {
     "data": {
      "text/html": [
       "<div>\n",
       "<style scoped>\n",
       "    .dataframe tbody tr th:only-of-type {\n",
       "        vertical-align: middle;\n",
       "    }\n",
       "\n",
       "    .dataframe tbody tr th {\n",
       "        vertical-align: top;\n",
       "    }\n",
       "\n",
       "    .dataframe thead th {\n",
       "        text-align: right;\n",
       "    }\n",
       "</style>\n",
       "<table border=\"1\" class=\"dataframe\">\n",
       "  <thead>\n",
       "    <tr style=\"text-align: right;\">\n",
       "      <th></th>\n",
       "      <th>ansettelses_aar_mnd</th>\n",
       "      <th>yrkesfelt_navn</th>\n",
       "      <th>arbeidssted_fylke_navn</th>\n",
       "      <th>antall_nye_ansatte</th>\n",
       "      <th>antall_nye_ansatte_sum_fylke</th>\n",
       "      <th>andel_fylke</th>\n",
       "    </tr>\n",
       "  </thead>\n",
       "  <tbody>\n",
       "    <tr>\n",
       "      <th>0</th>\n",
       "      <td>201701</td>\n",
       "      <td>Administrative ledere og politikere</td>\n",
       "      <td>I alt</td>\n",
       "      <td>12420</td>\n",
       "      <td>206996</td>\n",
       "      <td>6.000116</td>\n",
       "    </tr>\n",
       "    <tr>\n",
       "      <th>1</th>\n",
       "      <td>201701</td>\n",
       "      <td>Akademiske yrker</td>\n",
       "      <td>I alt</td>\n",
       "      <td>29386</td>\n",
       "      <td>206996</td>\n",
       "      <td>14.196410</td>\n",
       "    </tr>\n",
       "    <tr>\n",
       "      <th>2</th>\n",
       "      <td>201701</td>\n",
       "      <td>Håndverkere o.l.</td>\n",
       "      <td>I alt</td>\n",
       "      <td>18340</td>\n",
       "      <td>206996</td>\n",
       "      <td>8.860075</td>\n",
       "    </tr>\n",
       "    <tr>\n",
       "      <th>3</th>\n",
       "      <td>201701</td>\n",
       "      <td>Kontor og kundeserviceyrker</td>\n",
       "      <td>I alt</td>\n",
       "      <td>10493</td>\n",
       "      <td>206996</td>\n",
       "      <td>5.069180</td>\n",
       "    </tr>\n",
       "    <tr>\n",
       "      <th>4</th>\n",
       "      <td>201701</td>\n",
       "      <td>Prosess og maskinoperatører, transportarbeider...</td>\n",
       "      <td>I alt</td>\n",
       "      <td>11538</td>\n",
       "      <td>206996</td>\n",
       "      <td>5.574021</td>\n",
       "    </tr>\n",
       "  </tbody>\n",
       "</table>\n",
       "</div>"
      ],
      "text/plain": [
       "   ansettelses_aar_mnd                                     yrkesfelt_navn  \\\n",
       "0               201701                Administrative ledere og politikere   \n",
       "1               201701                                   Akademiske yrker   \n",
       "2               201701                                   Håndverkere o.l.   \n",
       "3               201701                        Kontor og kundeserviceyrker   \n",
       "4               201701  Prosess og maskinoperatører, transportarbeider...   \n",
       "\n",
       "  arbeidssted_fylke_navn  antall_nye_ansatte  antall_nye_ansatte_sum_fylke  \\\n",
       "0                  I alt               12420                        206996   \n",
       "1                  I alt               29386                        206996   \n",
       "2                  I alt               18340                        206996   \n",
       "3                  I alt               10493                        206996   \n",
       "4                  I alt               11538                        206996   \n",
       "\n",
       "   andel_fylke  \n",
       "0     6.000116  \n",
       "1    14.196410  \n",
       "2     8.860075  \n",
       "3     5.069180  \n",
       "4     5.574021  "
      ]
     },
     "execution_count": 223,
     "metadata": {},
     "output_type": "execute_result"
    }
   ],
   "source": [
    "df_nm = df_n.merge(df_n_s, on=['ansettelses_aar_mnd','arbeidssted_fylke_navn'], suffixes=['', '_sum_fylke'])\n",
    "df_nm['andel_fylke'] = 100 * df_nm['antall_nye_ansatte']/df_nm['antall_nye_ansatte_sum_fylke']\n",
    "df_nm.head()"
   ]
  },
  {
   "cell_type": "code",
   "execution_count": 160,
   "metadata": {
    "colab": {},
    "colab_type": "code",
    "id": "iqSx9OS4a5Db"
   },
   "outputs": [],
   "source": [
    "df_x = df_f[(df_f['yrkesfelt_navn'] != 'I alt') & (df_f['arbeidssted_fylke_navn'] != 'I alt')].copy()\n",
    "df_x = df_x.groupby(['ansettelses_aar_mnd', 'yrkesfelt_navn','arbeidssted_fylke_navn']).sum().reset_index()\n"
   ]
  },
  {
   "cell_type": "code",
   "execution_count": 185,
   "metadata": {},
   "outputs": [
    {
     "data": {
      "text/html": [
       "<div>\n",
       "<style scoped>\n",
       "    .dataframe tbody tr th:only-of-type {\n",
       "        vertical-align: middle;\n",
       "    }\n",
       "\n",
       "    .dataframe tbody tr th {\n",
       "        vertical-align: top;\n",
       "    }\n",
       "\n",
       "    .dataframe thead th {\n",
       "        text-align: right;\n",
       "    }\n",
       "</style>\n",
       "<table border=\"1\" class=\"dataframe\">\n",
       "  <thead>\n",
       "    <tr style=\"text-align: right;\">\n",
       "      <th></th>\n",
       "      <th>ansettelses_aar_mnd</th>\n",
       "      <th>yrkesfelt_navn</th>\n",
       "      <th>arbeidssted_fylke_navn</th>\n",
       "      <th>antall_nye_ansatte</th>\n",
       "    </tr>\n",
       "  </thead>\n",
       "  <tbody>\n",
       "    <tr>\n",
       "      <th>0</th>\n",
       "      <td>201701</td>\n",
       "      <td>Administrative ledere og politikere</td>\n",
       "      <td>Akershus</td>\n",
       "      <td>1985</td>\n",
       "    </tr>\n",
       "    <tr>\n",
       "      <th>1</th>\n",
       "      <td>201701</td>\n",
       "      <td>Administrative ledere og politikere</td>\n",
       "      <td>Aust-Agder</td>\n",
       "      <td>711</td>\n",
       "    </tr>\n",
       "    <tr>\n",
       "      <th>2</th>\n",
       "      <td>201701</td>\n",
       "      <td>Administrative ledere og politikere</td>\n",
       "      <td>Buskerud</td>\n",
       "      <td>748</td>\n",
       "    </tr>\n",
       "    <tr>\n",
       "      <th>3</th>\n",
       "      <td>201701</td>\n",
       "      <td>Administrative ledere og politikere</td>\n",
       "      <td>Finnmark Finnmárku</td>\n",
       "      <td>202</td>\n",
       "    </tr>\n",
       "    <tr>\n",
       "      <th>4</th>\n",
       "      <td>201701</td>\n",
       "      <td>Administrative ledere og politikere</td>\n",
       "      <td>Hedmark</td>\n",
       "      <td>471</td>\n",
       "    </tr>\n",
       "  </tbody>\n",
       "</table>\n",
       "</div>"
      ],
      "text/plain": [
       "   ansettelses_aar_mnd                       yrkesfelt_navn  \\\n",
       "0               201701  Administrative ledere og politikere   \n",
       "1               201701  Administrative ledere og politikere   \n",
       "2               201701  Administrative ledere og politikere   \n",
       "3               201701  Administrative ledere og politikere   \n",
       "4               201701  Administrative ledere og politikere   \n",
       "\n",
       "  arbeidssted_fylke_navn  antall_nye_ansatte  \n",
       "0               Akershus                1985  \n",
       "1             Aust-Agder                 711  \n",
       "2               Buskerud                 748  \n",
       "3     Finnmark Finnmárku                 202  \n",
       "4                Hedmark                 471  "
      ]
     },
     "execution_count": 185,
     "metadata": {},
     "output_type": "execute_result"
    }
   ],
   "source": [
    "df_x.head()"
   ]
  },
  {
   "cell_type": "code",
   "execution_count": 135,
   "metadata": {},
   "outputs": [
    {
     "data": {
      "text/html": [
       "<div>\n",
       "<style scoped>\n",
       "    .dataframe tbody tr th:only-of-type {\n",
       "        vertical-align: middle;\n",
       "    }\n",
       "\n",
       "    .dataframe tbody tr th {\n",
       "        vertical-align: top;\n",
       "    }\n",
       "\n",
       "    .dataframe thead th {\n",
       "        text-align: right;\n",
       "    }\n",
       "</style>\n",
       "<table border=\"1\" class=\"dataframe\">\n",
       "  <thead>\n",
       "    <tr style=\"text-align: right;\">\n",
       "      <th></th>\n",
       "      <th>ansettelses_aar_mnd</th>\n",
       "      <th>yrkesfelt_navn</th>\n",
       "      <th>antall_nye_ansatte</th>\n",
       "    </tr>\n",
       "  </thead>\n",
       "  <tbody>\n",
       "    <tr>\n",
       "      <th>0</th>\n",
       "      <td>201701</td>\n",
       "      <td>Administrative ledere og politikere</td>\n",
       "      <td>17636</td>\n",
       "    </tr>\n",
       "    <tr>\n",
       "      <th>1</th>\n",
       "      <td>201701</td>\n",
       "      <td>Akademiske yrker</td>\n",
       "      <td>32700</td>\n",
       "    </tr>\n",
       "    <tr>\n",
       "      <th>2</th>\n",
       "      <td>201701</td>\n",
       "      <td>Håndverkere o.l.</td>\n",
       "      <td>20363</td>\n",
       "    </tr>\n",
       "    <tr>\n",
       "      <th>3</th>\n",
       "      <td>201701</td>\n",
       "      <td>Kontor og kundeserviceyrker</td>\n",
       "      <td>13078</td>\n",
       "    </tr>\n",
       "    <tr>\n",
       "      <th>4</th>\n",
       "      <td>201701</td>\n",
       "      <td>Prosess og maskinoperatører, transportarbeider...</td>\n",
       "      <td>12792</td>\n",
       "    </tr>\n",
       "  </tbody>\n",
       "</table>\n",
       "</div>"
      ],
      "text/plain": [
       "   ansettelses_aar_mnd                                     yrkesfelt_navn  \\\n",
       "0               201701                Administrative ledere og politikere   \n",
       "1               201701                                   Akademiske yrker   \n",
       "2               201701                                   Håndverkere o.l.   \n",
       "3               201701                        Kontor og kundeserviceyrker   \n",
       "4               201701  Prosess og maskinoperatører, transportarbeider...   \n",
       "\n",
       "   antall_nye_ansatte  \n",
       "0               17636  \n",
       "1               32700  \n",
       "2               20363  \n",
       "3               13078  \n",
       "4               12792  "
      ]
     },
     "execution_count": 135,
     "metadata": {},
     "output_type": "execute_result"
    }
   ],
   "source": [
    "df_sum_yrke = df_x[['ansettelses_aar_mnd','yrkesfelt_navn','antall_nye_ansatte']].groupby(['ansettelses_aar_mnd','yrkesfelt_navn'])['antall_nye_ansatte'].sum().reset_index()\n",
    "df_sum_yrke.head()"
   ]
  },
  {
   "cell_type": "code",
   "execution_count": 136,
   "metadata": {},
   "outputs": [
    {
     "data": {
      "text/html": [
       "<div>\n",
       "<style scoped>\n",
       "    .dataframe tbody tr th:only-of-type {\n",
       "        vertical-align: middle;\n",
       "    }\n",
       "\n",
       "    .dataframe tbody tr th {\n",
       "        vertical-align: top;\n",
       "    }\n",
       "\n",
       "    .dataframe thead th {\n",
       "        text-align: right;\n",
       "    }\n",
       "</style>\n",
       "<table border=\"1\" class=\"dataframe\">\n",
       "  <thead>\n",
       "    <tr style=\"text-align: right;\">\n",
       "      <th></th>\n",
       "      <th>ansettelses_aar_mnd</th>\n",
       "      <th>arbeidssted_fylke_navn</th>\n",
       "      <th>antall_nye_ansatte</th>\n",
       "    </tr>\n",
       "  </thead>\n",
       "  <tbody>\n",
       "    <tr>\n",
       "      <th>0</th>\n",
       "      <td>201701</td>\n",
       "      <td>Akershus</td>\n",
       "      <td>19586</td>\n",
       "    </tr>\n",
       "    <tr>\n",
       "      <th>1</th>\n",
       "      <td>201701</td>\n",
       "      <td>Aust-Agder</td>\n",
       "      <td>13236</td>\n",
       "    </tr>\n",
       "    <tr>\n",
       "      <th>2</th>\n",
       "      <td>201701</td>\n",
       "      <td>Buskerud</td>\n",
       "      <td>9027</td>\n",
       "    </tr>\n",
       "    <tr>\n",
       "      <th>3</th>\n",
       "      <td>201701</td>\n",
       "      <td>Finnmark Finnmárku</td>\n",
       "      <td>3577</td>\n",
       "    </tr>\n",
       "    <tr>\n",
       "      <th>4</th>\n",
       "      <td>201701</td>\n",
       "      <td>Hedmark</td>\n",
       "      <td>6293</td>\n",
       "    </tr>\n",
       "  </tbody>\n",
       "</table>\n",
       "</div>"
      ],
      "text/plain": [
       "   ansettelses_aar_mnd arbeidssted_fylke_navn  antall_nye_ansatte\n",
       "0               201701               Akershus               19586\n",
       "1               201701             Aust-Agder               13236\n",
       "2               201701               Buskerud                9027\n",
       "3               201701     Finnmark Finnmárku                3577\n",
       "4               201701                Hedmark                6293"
      ]
     },
     "execution_count": 136,
     "metadata": {},
     "output_type": "execute_result"
    }
   ],
   "source": [
    "df_sum_fylke = df_x[['ansettelses_aar_mnd','arbeidssted_fylke_navn','antall_nye_ansatte']].groupby(['ansettelses_aar_mnd','arbeidssted_fylke_navn']).sum().reset_index()\n",
    "df_sum_fylke.head()"
   ]
  },
  {
   "cell_type": "code",
   "execution_count": 187,
   "metadata": {},
   "outputs": [],
   "source": [
    "df_xm = df_x.merge(df_sum_yrke, on=['ansettelses_aar_mnd','yrkesfelt_navn'], suffixes=['', '_sum_yrke'])\n",
    "df_xm = df_xm.merge(df_sum_fylke, on=['ansettelses_aar_mnd','arbeidssted_fylke_navn'], suffixes=['', '_sum_fylke'])"
   ]
  },
  {
   "cell_type": "code",
   "execution_count": 189,
   "metadata": {},
   "outputs": [
    {
     "data": {
      "text/html": [
       "<div>\n",
       "<style scoped>\n",
       "    .dataframe tbody tr th:only-of-type {\n",
       "        vertical-align: middle;\n",
       "    }\n",
       "\n",
       "    .dataframe tbody tr th {\n",
       "        vertical-align: top;\n",
       "    }\n",
       "\n",
       "    .dataframe thead th {\n",
       "        text-align: right;\n",
       "    }\n",
       "</style>\n",
       "<table border=\"1\" class=\"dataframe\">\n",
       "  <thead>\n",
       "    <tr style=\"text-align: right;\">\n",
       "      <th></th>\n",
       "      <th>ansettelses_aar_mnd</th>\n",
       "      <th>yrkesfelt_navn</th>\n",
       "      <th>arbeidssted_fylke_navn</th>\n",
       "      <th>antall_nye_ansatte</th>\n",
       "      <th>antall_nye_ansatte_sum_yrke</th>\n",
       "      <th>antall_nye_ansatte_sum_fylke</th>\n",
       "    </tr>\n",
       "  </thead>\n",
       "  <tbody>\n",
       "    <tr>\n",
       "      <th>0</th>\n",
       "      <td>201701</td>\n",
       "      <td>Administrative ledere og politikere</td>\n",
       "      <td>Akershus</td>\n",
       "      <td>1985</td>\n",
       "      <td>17636</td>\n",
       "      <td>19586</td>\n",
       "    </tr>\n",
       "    <tr>\n",
       "      <th>1</th>\n",
       "      <td>201701</td>\n",
       "      <td>Akademiske yrker</td>\n",
       "      <td>Akershus</td>\n",
       "      <td>2153</td>\n",
       "      <td>32700</td>\n",
       "      <td>19586</td>\n",
       "    </tr>\n",
       "    <tr>\n",
       "      <th>2</th>\n",
       "      <td>201701</td>\n",
       "      <td>Håndverkere o.l.</td>\n",
       "      <td>Akershus</td>\n",
       "      <td>1606</td>\n",
       "      <td>20363</td>\n",
       "      <td>19586</td>\n",
       "    </tr>\n",
       "    <tr>\n",
       "      <th>3</th>\n",
       "      <td>201701</td>\n",
       "      <td>Kontor og kundeserviceyrker</td>\n",
       "      <td>Akershus</td>\n",
       "      <td>1537</td>\n",
       "      <td>13078</td>\n",
       "      <td>19586</td>\n",
       "    </tr>\n",
       "    <tr>\n",
       "      <th>4</th>\n",
       "      <td>201701</td>\n",
       "      <td>Prosess og maskinoperatører, transportarbeider...</td>\n",
       "      <td>Akershus</td>\n",
       "      <td>743</td>\n",
       "      <td>12792</td>\n",
       "      <td>19586</td>\n",
       "    </tr>\n",
       "  </tbody>\n",
       "</table>\n",
       "</div>"
      ],
      "text/plain": [
       "   ansettelses_aar_mnd                                     yrkesfelt_navn  \\\n",
       "0               201701                Administrative ledere og politikere   \n",
       "1               201701                                   Akademiske yrker   \n",
       "2               201701                                   Håndverkere o.l.   \n",
       "3               201701                        Kontor og kundeserviceyrker   \n",
       "4               201701  Prosess og maskinoperatører, transportarbeider...   \n",
       "\n",
       "  arbeidssted_fylke_navn  antall_nye_ansatte  antall_nye_ansatte_sum_yrke  \\\n",
       "0               Akershus                1985                        17636   \n",
       "1               Akershus                2153                        32700   \n",
       "2               Akershus                1606                        20363   \n",
       "3               Akershus                1537                        13078   \n",
       "4               Akershus                 743                        12792   \n",
       "\n",
       "   antall_nye_ansatte_sum_fylke  \n",
       "0                         19586  \n",
       "1                         19586  \n",
       "2                         19586  \n",
       "3                         19586  \n",
       "4                         19586  "
      ]
     },
     "execution_count": 189,
     "metadata": {},
     "output_type": "execute_result"
    }
   ],
   "source": [
    "df_xm.head()"
   ]
  },
  {
   "cell_type": "code",
   "execution_count": 190,
   "metadata": {},
   "outputs": [],
   "source": [
    "def getFylke(df, fylke):\n",
    "    df = df[df['arbeidssted_fylke_navn']==fylke].copy()\n",
    "    df['andel_yrke'] = 100 * df['antall_nye_ansatte']/df['antall_nye_ansatte_sum_yrke']\n",
    "    df['andel_fylke'] = 100 * df['antall_nye_ansatte']/df['antall_nye_ansatte_sum_fylke']\n",
    "    return df"
   ]
  },
  {
   "cell_type": "code",
   "execution_count": 191,
   "metadata": {},
   "outputs": [],
   "source": [
    "def getFylkeMnd(df, fylke, mnd):\n",
    "    df = df[((df['arbeidssted_fylke_navn']==fylke) & (df['ansettelses_aar_mnd']==mnd))].copy()\n",
    "    df['andel_yrke'] = 100 * df['antall_nye_ansatte']/df['antall_nye_ansatte_sum_yrke']\n",
    "    df['andel_fylke'] = 100 * df['antall_nye_ansatte']/df['antall_nye_ansatte_sum_fylke']\n",
    "    return df"
   ]
  },
  {
   "cell_type": "markdown",
   "metadata": {
    "colab_type": "text",
    "id": "jeqb6wRra5Dx"
   },
   "source": [
    "# Datapackage"
   ]
  },
  {
   "cell_type": "code",
   "execution_count": 285,
   "metadata": {
    "colab": {},
    "colab_type": "code",
    "id": "EnL2pLoXGyBT"
   },
   "outputs": [],
   "source": [
    "readme = \"\"\"\n",
    "# Arbeidsforhold\n",
    "\"\"\"\n",
    "\n",
    "now = datetime.datetime.now().isoformat()\n",
    "\n",
    "metadata = {\n",
    "'title': 'Arbeidsforhold',\n",
    "'description': 'Arbeidsforhold',\n",
    "'readme': readme,\n",
    "'format': ['datapackage']\n",
    "'accessRights': 'Open',\n",
    "'issued': now,\n",
    "'modified': now,\n",
    "'language': 'Norsk',\n",
    "'periodicity': 'Månedlig',\n",
    "'temporal': {'from': '2015-01-01', 'to': '2019-01-01' },\n",
    "'author': 'statistikk@nav.no',\n",
    "'publisher': {'name': 'Arbeids- og velferdsetaten (NAV)', 'url': 'https://www.nav.no'},\n",
    "'contactpoint': {'name': 'NAV Kunnskapsavdelingen', 'email': 'statistikk@nav.no'},  \n",
    "'license': {'name': 'CC BY 4.0', 'url': 'http://creativecommons.org/licenses/by/4.0/deed.no'}, \n",
    "'keywords': ['arbeidsforhold'],\n",
    "'spatial': 'Norge',\n",
    "'theme': ['Åpne data'],\n",
    "'type': 'datapackage',\n",
    "'provenance': 'Datavarehuset',\n",
    "'repo': 'https://github.com/datasett/examples/blob/master/nav/arbeidsforhold.ipynb',\n",
    "'notebook': 'https://github.com/datasett/examples/blob/master/nav/arbeidsforhold.ipynb',\n",
    "'store': 'gs',\n",
    "'project': 'odata', \n",
    "'bucket': 'nav-opendata'\n",
    "}"
   ]
  },
  {
   "cell_type": "code",
   "execution_count": 286,
   "metadata": {
    "colab": {},
    "colab_type": "code",
    "id": "_9zlLM5Ca5Dx"
   },
   "outputs": [],
   "source": [
    "dp = Datapackage(metadata)"
   ]
  },
  {
   "cell_type": "markdown",
   "metadata": {},
   "source": [
    "# Add views"
   ]
  },
  {
   "cell_type": "code",
   "execution_count": 287,
   "metadata": {},
   "outputs": [],
   "source": [
    "def plotFylke(fylke):\n",
    "    utv = df_nm[['andel_fylke', 'yrkesfelt_navn', 'ansettelses_aar_mnd','arbeidssted_fylke_navn']]\n",
    "    utv = utv.append(getFylke(df_xm, fylke)[['andel_fylke', 'yrkesfelt_navn', 'ansettelses_aar_mnd','arbeidssted_fylke_navn']])\n",
    "    fig = px.line_polar(utv, r=\"andel_fylke\", theta=\"yrkesfelt_navn\", animation_frame=\"ansettelses_aar_mnd\", color=\"arbeidssted_fylke_navn\", line_close=True)\n",
    "    \n",
    "    dp.add_view(\n",
    "        spec_type='plotly',\n",
    "        name='Nye arbeidsforhold ' + fylke,\n",
    "        title='Nye arbeidsforhold ' + fylke,\n",
    "        description = '',\n",
    "        resources=[],\n",
    "        attribution = \"Kilde: NAV.\",\n",
    "        spec=plio.to_json(fig)\n",
    "    )\n",
    "    return fig    "
   ]
  },
  {
   "cell_type": "code",
   "execution_count": 288,
   "metadata": {},
   "outputs": [
    {
     "data": {
      "application/vnd.plotly.v1+json": {
       "config": {
        "plotlyServerURL": "https://plot.ly"
       },
       "data": [
        {
         "hoverlabel": {
          "namelength": 0
         },
         "hovertemplate": "arbeidssted_fylke_navn=I alt<br>ansettelses_aar_mnd=201701<br>andel_fylke=%{r}<br>yrkesfelt_navn=%{theta}",
         "legendgroup": "arbeidssted_fylke_navn=I alt",
         "line": {
          "color": "#C30000",
          "dash": "solid"
         },
         "mode": "lines",
         "name": "arbeidssted_fylke_navn=I alt",
         "r": [
          6.000115944269455,
          14.196409592455893,
          8.86007459081335,
          5.069180080774507,
          5.574020754024232,
          27.795706197221204,
          3.0068213878529053,
          0.9695839533131075,
          22.05694796034706,
          6.471139538928289,
          6.000115944269455
         ],
         "showlegend": true,
         "subplot": "polar",
         "theta": [
          "Administrative ledere og politikere",
          "Akademiske yrker",
          "Håndverkere o.l.",
          "Kontor og kundeserviceyrker",
          "Prosess og maskinoperatører, transportarbeidere mv.",
          "Salgs , service og omsorgsyrker",
          "Ukjent",
          "Yrker innen jordbruk, skogbruk og fiske",
          "Yrker med kortere høyskole og universitetsutdanning og teknikere",
          "Yrker uten krav til utdanning",
          "Administrative ledere og politikere"
         ],
         "type": "scatterpolar"
        },
        {
         "hoverlabel": {
          "namelength": 0
         },
         "hovertemplate": "arbeidssted_fylke_navn=Trøndelag<br>ansettelses_aar_mnd=201701<br>andel_fylke=%{r}<br>yrkesfelt_navn=%{theta}",
         "legendgroup": "arbeidssted_fylke_navn=Trøndelag",
         "line": {
          "color": "#FF9100",
          "dash": "solid"
         },
         "mode": "lines",
         "name": "arbeidssted_fylke_navn=Trøndelag",
         "r": [
          6.21682034087734,
          24.196702989661915,
          6.971221011455714,
          4.582285554624197,
          4.400670578373847,
          22.47834590667784,
          4.5217472292074135,
          1.4389494272143057,
          19.26050107106268,
          5.932755890844742,
          6.21682034087734
         ],
         "showlegend": true,
         "subplot": "polar",
         "theta": [
          "Administrative ledere og politikere",
          "Akademiske yrker",
          "Håndverkere o.l.",
          "Kontor og kundeserviceyrker",
          "Prosess og maskinoperatører, transportarbeidere mv.",
          "Salgs , service og omsorgsyrker",
          "Ukjent",
          "Yrker innen jordbruk, skogbruk og fiske",
          "Yrker med kortere høyskole og universitetsutdanning og teknikere",
          "Yrker uten krav til utdanning",
          "Administrative ledere og politikere"
         ],
         "type": "scatterpolar"
        }
       ],
       "frames": [
        {
         "data": [
          {
           "hoverlabel": {
            "namelength": 0
           },
           "hovertemplate": "arbeidssted_fylke_navn=I alt<br>ansettelses_aar_mnd=201701<br>andel_fylke=%{r}<br>yrkesfelt_navn=%{theta}",
           "legendgroup": "arbeidssted_fylke_navn=I alt",
           "line": {
            "color": "#C30000",
            "dash": "solid"
           },
           "mode": "lines",
           "name": "arbeidssted_fylke_navn=I alt",
           "r": [
            6.000115944269455,
            14.196409592455893,
            8.86007459081335,
            5.069180080774507,
            5.574020754024232,
            27.795706197221204,
            3.0068213878529053,
            0.9695839533131075,
            22.05694796034706,
            6.471139538928289,
            6.000115944269455
           ],
           "showlegend": true,
           "subplot": "polar",
           "theta": [
            "Administrative ledere og politikere",
            "Akademiske yrker",
            "Håndverkere o.l.",
            "Kontor og kundeserviceyrker",
            "Prosess og maskinoperatører, transportarbeidere mv.",
            "Salgs , service og omsorgsyrker",
            "Ukjent",
            "Yrker innen jordbruk, skogbruk og fiske",
            "Yrker med kortere høyskole og universitetsutdanning og teknikere",
            "Yrker uten krav til utdanning",
            "Administrative ledere og politikere"
           ],
           "type": "scatterpolar"
          },
          {
           "hoverlabel": {
            "namelength": 0
           },
           "hovertemplate": "arbeidssted_fylke_navn=Trøndelag<br>ansettelses_aar_mnd=201701<br>andel_fylke=%{r}<br>yrkesfelt_navn=%{theta}",
           "legendgroup": "arbeidssted_fylke_navn=Trøndelag",
           "line": {
            "color": "#FF9100",
            "dash": "solid"
           },
           "mode": "lines",
           "name": "arbeidssted_fylke_navn=Trøndelag",
           "r": [
            6.21682034087734,
            24.196702989661915,
            6.971221011455714,
            4.582285554624197,
            4.400670578373847,
            22.47834590667784,
            4.5217472292074135,
            1.4389494272143057,
            19.26050107106268,
            5.932755890844742,
            6.21682034087734
           ],
           "showlegend": true,
           "subplot": "polar",
           "theta": [
            "Administrative ledere og politikere",
            "Akademiske yrker",
            "Håndverkere o.l.",
            "Kontor og kundeserviceyrker",
            "Prosess og maskinoperatører, transportarbeidere mv.",
            "Salgs , service og omsorgsyrker",
            "Ukjent",
            "Yrker innen jordbruk, skogbruk og fiske",
            "Yrker med kortere høyskole og universitetsutdanning og teknikere",
            "Yrker uten krav til utdanning",
            "Administrative ledere og politikere"
           ],
           "type": "scatterpolar"
          }
         ],
         "name": "201701"
        },
        {
         "data": [
          {
           "hoverlabel": {
            "namelength": 0
           },
           "hovertemplate": "arbeidssted_fylke_navn=I alt<br>ansettelses_aar_mnd=201702<br>andel_fylke=%{r}<br>yrkesfelt_navn=%{theta}",
           "legendgroup": "arbeidssted_fylke_navn=I alt",
           "line": {
            "color": "#C30000",
            "dash": "solid"
           },
           "mode": "lines",
           "name": "arbeidssted_fylke_navn=I alt",
           "r": [
            3.9994999062324186,
            9.723073076201787,
            10.456960680127525,
            5.663561917859599,
            8.089016690629492,
            30.419453647558917,
            3.0080640120022504,
            1.4165155966743765,
            17.767081327748954,
            9.45677314496468,
            3.9994999062324186
           ],
           "showlegend": true,
           "subplot": "polar",
           "theta": [
            "Administrative ledere og politikere",
            "Akademiske yrker",
            "Håndverkere o.l.",
            "Kontor og kundeserviceyrker",
            "Prosess og maskinoperatører, transportarbeidere mv.",
            "Salgs , service og omsorgsyrker",
            "Ukjent",
            "Yrker innen jordbruk, skogbruk og fiske",
            "Yrker med kortere høyskole og universitetsutdanning og teknikere",
            "Yrker uten krav til utdanning",
            "Administrative ledere og politikere"
           ],
           "type": "scatterpolar"
          },
          {
           "hoverlabel": {
            "namelength": 0
           },
           "hovertemplate": "arbeidssted_fylke_navn=Trøndelag<br>ansettelses_aar_mnd=201702<br>andel_fylke=%{r}<br>yrkesfelt_navn=%{theta}",
           "legendgroup": "arbeidssted_fylke_navn=Trøndelag",
           "line": {
            "color": "#FF9100",
            "dash": "solid"
           },
           "mode": "lines",
           "name": "arbeidssted_fylke_navn=Trøndelag",
           "r": [
            4.9156626506024095,
            10.19277108433735,
            9.578313253012048,
            5.530120481927711,
            7.421686746987952,
            28.325301204819276,
            3.9518072289156625,
            2.2048192771084336,
            17.867469879518072,
            10.012048192771084,
            4.9156626506024095
           ],
           "showlegend": true,
           "subplot": "polar",
           "theta": [
            "Administrative ledere og politikere",
            "Akademiske yrker",
            "Håndverkere o.l.",
            "Kontor og kundeserviceyrker",
            "Prosess og maskinoperatører, transportarbeidere mv.",
            "Salgs , service og omsorgsyrker",
            "Ukjent",
            "Yrker innen jordbruk, skogbruk og fiske",
            "Yrker med kortere høyskole og universitetsutdanning og teknikere",
            "Yrker uten krav til utdanning",
            "Administrative ledere og politikere"
           ],
           "type": "scatterpolar"
          }
         ],
         "name": "201702"
        },
        {
         "data": [
          {
           "hoverlabel": {
            "namelength": 0
           },
           "hovertemplate": "arbeidssted_fylke_navn=I alt<br>ansettelses_aar_mnd=201703<br>andel_fylke=%{r}<br>yrkesfelt_navn=%{theta}",
           "legendgroup": "arbeidssted_fylke_navn=I alt",
           "line": {
            "color": "#C30000",
            "dash": "solid"
           },
           "mode": "lines",
           "name": "arbeidssted_fylke_navn=I alt",
           "r": [
            4.161149189063212,
            9.240759769907942,
            10.019386209307498,
            6.0934139856139495,
            8.22271894233927,
            31.15882920008051,
            2.933355932921597,
            1.7489962604743794,
            17.578948483532315,
            8.842442026759326,
            4.161149189063212
           ],
           "showlegend": true,
           "subplot": "polar",
           "theta": [
            "Administrative ledere og politikere",
            "Akademiske yrker",
            "Håndverkere o.l.",
            "Kontor og kundeserviceyrker",
            "Prosess og maskinoperatører, transportarbeidere mv.",
            "Salgs , service og omsorgsyrker",
            "Ukjent",
            "Yrker innen jordbruk, skogbruk og fiske",
            "Yrker med kortere høyskole og universitetsutdanning og teknikere",
            "Yrker uten krav til utdanning",
            "Administrative ledere og politikere"
           ],
           "type": "scatterpolar"
          },
          {
           "hoverlabel": {
            "namelength": 0
           },
           "hovertemplate": "arbeidssted_fylke_navn=Trøndelag<br>ansettelses_aar_mnd=201703<br>andel_fylke=%{r}<br>yrkesfelt_navn=%{theta}",
           "legendgroup": "arbeidssted_fylke_navn=Trøndelag",
           "line": {
            "color": "#FF9100",
            "dash": "solid"
           },
           "mode": "lines",
           "name": "arbeidssted_fylke_navn=Trøndelag",
           "r": [
            5.025361638173962,
            10.95247041142213,
            8.491452188615442,
            5.034754837497652,
            6.734923915085478,
            33.36464399774563,
            4.52752207401841,
            1.9725718579748261,
            15.996618448243472,
            7.899680631222995,
            5.025361638173962
           ],
           "showlegend": true,
           "subplot": "polar",
           "theta": [
            "Administrative ledere og politikere",
            "Akademiske yrker",
            "Håndverkere o.l.",
            "Kontor og kundeserviceyrker",
            "Prosess og maskinoperatører, transportarbeidere mv.",
            "Salgs , service og omsorgsyrker",
            "Ukjent",
            "Yrker innen jordbruk, skogbruk og fiske",
            "Yrker med kortere høyskole og universitetsutdanning og teknikere",
            "Yrker uten krav til utdanning",
            "Administrative ledere og politikere"
           ],
           "type": "scatterpolar"
          }
         ],
         "name": "201703"
        },
        {
         "data": [
          {
           "hoverlabel": {
            "namelength": 0
           },
           "hovertemplate": "arbeidssted_fylke_navn=I alt<br>ansettelses_aar_mnd=201704<br>andel_fylke=%{r}<br>yrkesfelt_navn=%{theta}",
           "legendgroup": "arbeidssted_fylke_navn=I alt",
           "line": {
            "color": "#C30000",
            "dash": "solid"
           },
           "mode": "lines",
           "name": "arbeidssted_fylke_navn=I alt",
           "r": [
            3.8743985819194733,
            7.836276157370105,
            11.80160685098644,
            6.16381592578098,
            7.486360183245471,
            30.031768687124472,
            2.8822026289739635,
            2.3297037224613826,
            16.329795805612466,
            11.264071456525242,
            3.8743985819194733
           ],
           "showlegend": true,
           "subplot": "polar",
           "theta": [
            "Administrative ledere og politikere",
            "Akademiske yrker",
            "Håndverkere o.l.",
            "Kontor og kundeserviceyrker",
            "Prosess og maskinoperatører, transportarbeidere mv.",
            "Salgs , service og omsorgsyrker",
            "Ukjent",
            "Yrker innen jordbruk, skogbruk og fiske",
            "Yrker med kortere høyskole og universitetsutdanning og teknikere",
            "Yrker uten krav til utdanning",
            "Administrative ledere og politikere"
           ],
           "type": "scatterpolar"
          },
          {
           "hoverlabel": {
            "namelength": 0
           },
           "hovertemplate": "arbeidssted_fylke_navn=Trøndelag<br>ansettelses_aar_mnd=201704<br>andel_fylke=%{r}<br>yrkesfelt_navn=%{theta}",
           "legendgroup": "arbeidssted_fylke_navn=Trøndelag",
           "line": {
            "color": "#FF9100",
            "dash": "solid"
           },
           "mode": "lines",
           "name": "arbeidssted_fylke_navn=Trøndelag",
           "r": [
            3.99863682835397,
            9.496762467340679,
            11.416562535499262,
            5.373168238100647,
            7.63376121776667,
            27.706463705554924,
            3.862319663750994,
            3.5669658071112122,
            16.65341360899693,
            10.291945927524708,
            3.99863682835397
           ],
           "showlegend": true,
           "subplot": "polar",
           "theta": [
            "Administrative ledere og politikere",
            "Akademiske yrker",
            "Håndverkere o.l.",
            "Kontor og kundeserviceyrker",
            "Prosess og maskinoperatører, transportarbeidere mv.",
            "Salgs , service og omsorgsyrker",
            "Ukjent",
            "Yrker innen jordbruk, skogbruk og fiske",
            "Yrker med kortere høyskole og universitetsutdanning og teknikere",
            "Yrker uten krav til utdanning",
            "Administrative ledere og politikere"
           ],
           "type": "scatterpolar"
          }
         ],
         "name": "201704"
        },
        {
         "data": [
          {
           "hoverlabel": {
            "namelength": 0
           },
           "hovertemplate": "arbeidssted_fylke_navn=I alt<br>ansettelses_aar_mnd=201705<br>andel_fylke=%{r}<br>yrkesfelt_navn=%{theta}",
           "legendgroup": "arbeidssted_fylke_navn=I alt",
           "line": {
            "color": "#C30000",
            "dash": "solid"
           },
           "mode": "lines",
           "name": "arbeidssted_fylke_navn=I alt",
           "r": [
            3.7899421122118304,
            7.00562259377914,
            12.321697303186136,
            7.012085345249416,
            8.281554384053623,
            30.542963448524183,
            3.0254909382991886,
            2.3856785427418683,
            14.5855068182028,
            11.049458513751812,
            3.7899421122118304
           ],
           "showlegend": true,
           "subplot": "polar",
           "theta": [
            "Administrative ledere og politikere",
            "Akademiske yrker",
            "Håndverkere o.l.",
            "Kontor og kundeserviceyrker",
            "Prosess og maskinoperatører, transportarbeidere mv.",
            "Salgs , service og omsorgsyrker",
            "Ukjent",
            "Yrker innen jordbruk, skogbruk og fiske",
            "Yrker med kortere høyskole og universitetsutdanning og teknikere",
            "Yrker uten krav til utdanning",
            "Administrative ledere og politikere"
           ],
           "type": "scatterpolar"
          },
          {
           "hoverlabel": {
            "namelength": 0
           },
           "hovertemplate": "arbeidssted_fylke_navn=Trøndelag<br>ansettelses_aar_mnd=201705<br>andel_fylke=%{r}<br>yrkesfelt_navn=%{theta}",
           "legendgroup": "arbeidssted_fylke_navn=Trøndelag",
           "line": {
            "color": "#FF9100",
            "dash": "solid"
           },
           "mode": "lines",
           "name": "arbeidssted_fylke_navn=Trøndelag",
           "r": [
            4.19926265623595,
            7.427389623235321,
            9.009981116806042,
            8.68626922039385,
            8.659293229026167,
            30.509846236849203,
            3.273086952612175,
            3.8036147828432694,
            14.567035338548692,
            9.86422084344933,
            4.19926265623595
           ],
           "showlegend": true,
           "subplot": "polar",
           "theta": [
            "Administrative ledere og politikere",
            "Akademiske yrker",
            "Håndverkere o.l.",
            "Kontor og kundeserviceyrker",
            "Prosess og maskinoperatører, transportarbeidere mv.",
            "Salgs , service og omsorgsyrker",
            "Ukjent",
            "Yrker innen jordbruk, skogbruk og fiske",
            "Yrker med kortere høyskole og universitetsutdanning og teknikere",
            "Yrker uten krav til utdanning",
            "Administrative ledere og politikere"
           ],
           "type": "scatterpolar"
          }
         ],
         "name": "201705"
        },
        {
         "data": [
          {
           "hoverlabel": {
            "namelength": 0
           },
           "hovertemplate": "arbeidssted_fylke_navn=I alt<br>ansettelses_aar_mnd=201706<br>andel_fylke=%{r}<br>yrkesfelt_navn=%{theta}",
           "legendgroup": "arbeidssted_fylke_navn=I alt",
           "line": {
            "color": "#C30000",
            "dash": "solid"
           },
           "mode": "lines",
           "name": "arbeidssted_fylke_navn=I alt",
           "r": [
            2.352166345203933,
            6.199638438430366,
            9.794420661429177,
            7.3562322327434995,
            7.910671442684427,
            33.3120518283053,
            2.7849649527214564,
            2.4549896168657046,
            14.451710024932963,
            13.383154456683176,
            2.352166345203933
           ],
           "showlegend": true,
           "subplot": "polar",
           "theta": [
            "Administrative ledere og politikere",
            "Akademiske yrker",
            "Håndverkere o.l.",
            "Kontor og kundeserviceyrker",
            "Prosess og maskinoperatører, transportarbeidere mv.",
            "Salgs , service og omsorgsyrker",
            "Ukjent",
            "Yrker innen jordbruk, skogbruk og fiske",
            "Yrker med kortere høyskole og universitetsutdanning og teknikere",
            "Yrker uten krav til utdanning",
            "Administrative ledere og politikere"
           ],
           "type": "scatterpolar"
          },
          {
           "hoverlabel": {
            "namelength": 0
           },
           "hovertemplate": "arbeidssted_fylke_navn=Trøndelag<br>ansettelses_aar_mnd=201706<br>andel_fylke=%{r}<br>yrkesfelt_navn=%{theta}",
           "legendgroup": "arbeidssted_fylke_navn=Trøndelag",
           "line": {
            "color": "#FF9100",
            "dash": "solid"
           },
           "mode": "lines",
           "name": "arbeidssted_fylke_navn=Trøndelag",
           "r": [
            2.79026712509918,
            7.881512827294366,
            10.81724411531341,
            6.0103147315525,
            7.498016397778366,
            29.14572864321608,
            3.0745834435334567,
            3.028299391695319,
            16.74821475800053,
            13.005818566516794,
            2.79026712509918
           ],
           "showlegend": true,
           "subplot": "polar",
           "theta": [
            "Administrative ledere og politikere",
            "Akademiske yrker",
            "Håndverkere o.l.",
            "Kontor og kundeserviceyrker",
            "Prosess og maskinoperatører, transportarbeidere mv.",
            "Salgs , service og omsorgsyrker",
            "Ukjent",
            "Yrker innen jordbruk, skogbruk og fiske",
            "Yrker med kortere høyskole og universitetsutdanning og teknikere",
            "Yrker uten krav til utdanning",
            "Administrative ledere og politikere"
           ],
           "type": "scatterpolar"
          }
         ],
         "name": "201706"
        },
        {
         "data": [
          {
           "hoverlabel": {
            "namelength": 0
           },
           "hovertemplate": "arbeidssted_fylke_navn=I alt<br>ansettelses_aar_mnd=201707<br>andel_fylke=%{r}<br>yrkesfelt_navn=%{theta}",
           "legendgroup": "arbeidssted_fylke_navn=I alt",
           "line": {
            "color": "#C30000",
            "dash": "solid"
           },
           "mode": "lines",
           "name": "arbeidssted_fylke_navn=I alt",
           "r": [
            2.8032227172419537,
            6.063413415497356,
            10.454053378856644,
            6.6983803139442895,
            8.91139609443311,
            30.077653328892033,
            3.3778157138693428,
            3.6276387558812506,
            13.04076279302161,
            14.94566348836241,
            2.8032227172419537
           ],
           "showlegend": true,
           "subplot": "polar",
           "theta": [
            "Administrative ledere og politikere",
            "Akademiske yrker",
            "Håndverkere o.l.",
            "Kontor og kundeserviceyrker",
            "Prosess og maskinoperatører, transportarbeidere mv.",
            "Salgs , service og omsorgsyrker",
            "Ukjent",
            "Yrker innen jordbruk, skogbruk og fiske",
            "Yrker med kortere høyskole og universitetsutdanning og teknikere",
            "Yrker uten krav til utdanning",
            "Administrative ledere og politikere"
           ],
           "type": "scatterpolar"
          },
          {
           "hoverlabel": {
            "namelength": 0
           },
           "hovertemplate": "arbeidssted_fylke_navn=Trøndelag<br>ansettelses_aar_mnd=201707<br>andel_fylke=%{r}<br>yrkesfelt_navn=%{theta}",
           "legendgroup": "arbeidssted_fylke_navn=Trøndelag",
           "line": {
            "color": "#FF9100",
            "dash": "solid"
           },
           "mode": "lines",
           "name": "arbeidssted_fylke_navn=Trøndelag",
           "r": [
            3.4401876465989054,
            8.336591086786552,
            9.020719311962472,
            5.4632525410476935,
            8.150899139953088,
            29.094996090695854,
            3.166536356528538,
            5.443706020328381,
            12.734558248631744,
            15.148553557466771,
            3.4401876465989054
           ],
           "showlegend": true,
           "subplot": "polar",
           "theta": [
            "Administrative ledere og politikere",
            "Akademiske yrker",
            "Håndverkere o.l.",
            "Kontor og kundeserviceyrker",
            "Prosess og maskinoperatører, transportarbeidere mv.",
            "Salgs , service og omsorgsyrker",
            "Ukjent",
            "Yrker innen jordbruk, skogbruk og fiske",
            "Yrker med kortere høyskole og universitetsutdanning og teknikere",
            "Yrker uten krav til utdanning",
            "Administrative ledere og politikere"
           ],
           "type": "scatterpolar"
          }
         ],
         "name": "201707"
        },
        {
         "data": [
          {
           "hoverlabel": {
            "namelength": 0
           },
           "hovertemplate": "arbeidssted_fylke_navn=I alt<br>ansettelses_aar_mnd=201708<br>andel_fylke=%{r}<br>yrkesfelt_navn=%{theta}",
           "legendgroup": "arbeidssted_fylke_navn=I alt",
           "line": {
            "color": "#C30000",
            "dash": "solid"
           },
           "mode": "lines",
           "name": "arbeidssted_fylke_navn=I alt",
           "r": [
            3.432066284702523,
            11.894089115268798,
            9.056166185574723,
            4.516237632404192,
            5.509385968740453,
            29.969638214702087,
            2.6851788352795216,
            1.319833664798409,
            24.558133155443613,
            7.05927094308568,
            3.432066284702523
           ],
           "showlegend": true,
           "subplot": "polar",
           "theta": [
            "Administrative ledere og politikere",
            "Akademiske yrker",
            "Håndverkere o.l.",
            "Kontor og kundeserviceyrker",
            "Prosess og maskinoperatører, transportarbeidere mv.",
            "Salgs , service og omsorgsyrker",
            "Ukjent",
            "Yrker innen jordbruk, skogbruk og fiske",
            "Yrker med kortere høyskole og universitetsutdanning og teknikere",
            "Yrker uten krav til utdanning",
            "Administrative ledere og politikere"
           ],
           "type": "scatterpolar"
          },
          {
           "hoverlabel": {
            "namelength": 0
           },
           "hovertemplate": "arbeidssted_fylke_navn=Trøndelag<br>ansettelses_aar_mnd=201708<br>andel_fylke=%{r}<br>yrkesfelt_navn=%{theta}",
           "legendgroup": "arbeidssted_fylke_navn=Trøndelag",
           "line": {
            "color": "#FF9100",
            "dash": "solid"
           },
           "mode": "lines",
           "name": "arbeidssted_fylke_navn=Trøndelag",
           "r": [
            4.218623984118121,
            13.18319995036913,
            8.803275637446491,
            4.1689931137167315,
            5.664123084558596,
            27.89254916558099,
            3.6850921273031827,
            2.1279235684595816,
            22.898442831441155,
            7.357776537006018,
            4.218623984118121
           ],
           "showlegend": true,
           "subplot": "polar",
           "theta": [
            "Administrative ledere og politikere",
            "Akademiske yrker",
            "Håndverkere o.l.",
            "Kontor og kundeserviceyrker",
            "Prosess og maskinoperatører, transportarbeidere mv.",
            "Salgs , service og omsorgsyrker",
            "Ukjent",
            "Yrker innen jordbruk, skogbruk og fiske",
            "Yrker med kortere høyskole og universitetsutdanning og teknikere",
            "Yrker uten krav til utdanning",
            "Administrative ledere og politikere"
           ],
           "type": "scatterpolar"
          }
         ],
         "name": "201708"
        },
        {
         "data": [
          {
           "hoverlabel": {
            "namelength": 0
           },
           "hovertemplate": "arbeidssted_fylke_navn=I alt<br>ansettelses_aar_mnd=201709<br>andel_fylke=%{r}<br>yrkesfelt_navn=%{theta}",
           "legendgroup": "arbeidssted_fylke_navn=I alt",
           "line": {
            "color": "#C30000",
            "dash": "solid"
           },
           "mode": "lines",
           "name": "arbeidssted_fylke_navn=I alt",
           "r": [
            3.700578688041774,
            11.21795126921332,
            9.708745592180149,
            5.529774176344634,
            6.783465601095289,
            31.768938700459287,
            3.1155226898248016,
            1.8084996298625318,
            17.343925367550487,
            9.022598285427728,
            3.700578688041774
           ],
           "showlegend": true,
           "subplot": "polar",
           "theta": [
            "Administrative ledere og politikere",
            "Akademiske yrker",
            "Håndverkere o.l.",
            "Kontor og kundeserviceyrker",
            "Prosess og maskinoperatører, transportarbeidere mv.",
            "Salgs , service og omsorgsyrker",
            "Ukjent",
            "Yrker innen jordbruk, skogbruk og fiske",
            "Yrker med kortere høyskole og universitetsutdanning og teknikere",
            "Yrker uten krav til utdanning",
            "Administrative ledere og politikere"
           ],
           "type": "scatterpolar"
          },
          {
           "hoverlabel": {
            "namelength": 0
           },
           "hovertemplate": "arbeidssted_fylke_navn=Trøndelag<br>ansettelses_aar_mnd=201709<br>andel_fylke=%{r}<br>yrkesfelt_navn=%{theta}",
           "legendgroup": "arbeidssted_fylke_navn=Trøndelag",
           "line": {
            "color": "#FF9100",
            "dash": "solid"
           },
           "mode": "lines",
           "name": "arbeidssted_fylke_navn=Trøndelag",
           "r": [
            3.765274225632282,
            18.854788292128447,
            7.757885763000853,
            4.4472861608411485,
            6.386757601591361,
            26.477692526285878,
            3.687127024722933,
            2.0744529695936347,
            18.54930377948281,
            7.99943165672066,
            3.765274225632282
           ],
           "showlegend": true,
           "subplot": "polar",
           "theta": [
            "Administrative ledere og politikere",
            "Akademiske yrker",
            "Håndverkere o.l.",
            "Kontor og kundeserviceyrker",
            "Prosess og maskinoperatører, transportarbeidere mv.",
            "Salgs , service og omsorgsyrker",
            "Ukjent",
            "Yrker innen jordbruk, skogbruk og fiske",
            "Yrker med kortere høyskole og universitetsutdanning og teknikere",
            "Yrker uten krav til utdanning",
            "Administrative ledere og politikere"
           ],
           "type": "scatterpolar"
          }
         ],
         "name": "201709"
        },
        {
         "data": [
          {
           "hoverlabel": {
            "namelength": 0
           },
           "hovertemplate": "arbeidssted_fylke_navn=I alt<br>ansettelses_aar_mnd=201710<br>andel_fylke=%{r}<br>yrkesfelt_navn=%{theta}",
           "legendgroup": "arbeidssted_fylke_navn=I alt",
           "line": {
            "color": "#C30000",
            "dash": "solid"
           },
           "mode": "lines",
           "name": "arbeidssted_fylke_navn=I alt",
           "r": [
            4.048732574590216,
            8.372306777324214,
            11.201823867066764,
            6.098780784515152,
            7.734313751993728,
            30.027123714777467,
            2.934047020446415,
            1.5733556811116218,
            19.6588359330648,
            8.350679895109621,
            4.048732574590216
           ],
           "showlegend": true,
           "subplot": "polar",
           "theta": [
            "Administrative ledere og politikere",
            "Akademiske yrker",
            "Håndverkere o.l.",
            "Kontor og kundeserviceyrker",
            "Prosess og maskinoperatører, transportarbeidere mv.",
            "Salgs , service og omsorgsyrker",
            "Ukjent",
            "Yrker innen jordbruk, skogbruk og fiske",
            "Yrker med kortere høyskole og universitetsutdanning og teknikere",
            "Yrker uten krav til utdanning",
            "Administrative ledere og politikere"
           ],
           "type": "scatterpolar"
          },
          {
           "hoverlabel": {
            "namelength": 0
           },
           "hovertemplate": "arbeidssted_fylke_navn=Trøndelag<br>ansettelses_aar_mnd=201710<br>andel_fylke=%{r}<br>yrkesfelt_navn=%{theta}",
           "legendgroup": "arbeidssted_fylke_navn=Trøndelag",
           "line": {
            "color": "#FF9100",
            "dash": "solid"
           },
           "mode": "lines",
           "name": "arbeidssted_fylke_navn=Trøndelag",
           "r": [
            5.534990304953287,
            8.514013749338973,
            10.021152829190905,
            5.1471884364533755,
            7.200775603737,
            27.45460955402785,
            3.7458135025559667,
            2.811563546624361,
            20.91485986250661,
            8.65503261061167,
            5.534990304953287
           ],
           "showlegend": true,
           "subplot": "polar",
           "theta": [
            "Administrative ledere og politikere",
            "Akademiske yrker",
            "Håndverkere o.l.",
            "Kontor og kundeserviceyrker",
            "Prosess og maskinoperatører, transportarbeidere mv.",
            "Salgs , service og omsorgsyrker",
            "Ukjent",
            "Yrker innen jordbruk, skogbruk og fiske",
            "Yrker med kortere høyskole og universitetsutdanning og teknikere",
            "Yrker uten krav til utdanning",
            "Administrative ledere og politikere"
           ],
           "type": "scatterpolar"
          }
         ],
         "name": "201710"
        },
        {
         "data": [
          {
           "hoverlabel": {
            "namelength": 0
           },
           "hovertemplate": "arbeidssted_fylke_navn=I alt<br>ansettelses_aar_mnd=201711<br>andel_fylke=%{r}<br>yrkesfelt_navn=%{theta}",
           "legendgroup": "arbeidssted_fylke_navn=I alt",
           "line": {
            "color": "#C30000",
            "dash": "solid"
           },
           "mode": "lines",
           "name": "arbeidssted_fylke_navn=I alt",
           "r": [
            4.022625258444299,
            8.512324980984927,
            9.685367499758964,
            6.444770587164022,
            7.475333968954546,
            32.54202063269307,
            2.6278294963951705,
            1.941144332437036,
            17.46172881828018,
            9.286854424887784,
            4.022625258444299
           ],
           "showlegend": true,
           "subplot": "polar",
           "theta": [
            "Administrative ledere og politikere",
            "Akademiske yrker",
            "Håndverkere o.l.",
            "Kontor og kundeserviceyrker",
            "Prosess og maskinoperatører, transportarbeidere mv.",
            "Salgs , service og omsorgsyrker",
            "Ukjent",
            "Yrker innen jordbruk, skogbruk og fiske",
            "Yrker med kortere høyskole og universitetsutdanning og teknikere",
            "Yrker uten krav til utdanning",
            "Administrative ledere og politikere"
           ],
           "type": "scatterpolar"
          },
          {
           "hoverlabel": {
            "namelength": 0
           },
           "hovertemplate": "arbeidssted_fylke_navn=Trøndelag<br>ansettelses_aar_mnd=201711<br>andel_fylke=%{r}<br>yrkesfelt_navn=%{theta}",
           "legendgroup": "arbeidssted_fylke_navn=Trøndelag",
           "line": {
            "color": "#FF9100",
            "dash": "solid"
           },
           "mode": "lines",
           "name": "arbeidssted_fylke_navn=Trøndelag",
           "r": [
            4.8403826207214475,
            9.392647228304714,
            9.358073066728132,
            6.97245591794399,
            7.398870577388498,
            28.823326034343665,
            3.054050939264723,
            3.4343667166071223,
            17.56367408090354,
            9.16215281779417,
            4.8403826207214475
           ],
           "showlegend": true,
           "subplot": "polar",
           "theta": [
            "Administrative ledere og politikere",
            "Akademiske yrker",
            "Håndverkere o.l.",
            "Kontor og kundeserviceyrker",
            "Prosess og maskinoperatører, transportarbeidere mv.",
            "Salgs , service og omsorgsyrker",
            "Ukjent",
            "Yrker innen jordbruk, skogbruk og fiske",
            "Yrker med kortere høyskole og universitetsutdanning og teknikere",
            "Yrker uten krav til utdanning",
            "Administrative ledere og politikere"
           ],
           "type": "scatterpolar"
          }
         ],
         "name": "201711"
        },
        {
         "data": [
          {
           "hoverlabel": {
            "namelength": 0
           },
           "hovertemplate": "arbeidssted_fylke_navn=I alt<br>ansettelses_aar_mnd=201712<br>andel_fylke=%{r}<br>yrkesfelt_navn=%{theta}",
           "legendgroup": "arbeidssted_fylke_navn=I alt",
           "line": {
            "color": "#C30000",
            "dash": "solid"
           },
           "mode": "lines",
           "name": "arbeidssted_fylke_navn=I alt",
           "r": [
            4.58762601085632,
            7.6797385620915035,
            7.976071784646062,
            6.264539714190761,
            8.207322477013404,
            32.800210479672096,
            2.5894538606403015,
            3.2887448764816662,
            16.508806912595546,
            10.097485321812341,
            4.58762601085632
           ],
           "showlegend": true,
           "subplot": "polar",
           "theta": [
            "Administrative ledere og politikere",
            "Akademiske yrker",
            "Håndverkere o.l.",
            "Kontor og kundeserviceyrker",
            "Prosess og maskinoperatører, transportarbeidere mv.",
            "Salgs , service og omsorgsyrker",
            "Ukjent",
            "Yrker innen jordbruk, skogbruk og fiske",
            "Yrker med kortere høyskole og universitetsutdanning og teknikere",
            "Yrker uten krav til utdanning",
            "Administrative ledere og politikere"
           ],
           "type": "scatterpolar"
          },
          {
           "hoverlabel": {
            "namelength": 0
           },
           "hovertemplate": "arbeidssted_fylke_navn=Trøndelag<br>ansettelses_aar_mnd=201712<br>andel_fylke=%{r}<br>yrkesfelt_navn=%{theta}",
           "legendgroup": "arbeidssted_fylke_navn=Trøndelag",
           "line": {
            "color": "#FF9100",
            "dash": "solid"
           },
           "mode": "lines",
           "name": "arbeidssted_fylke_navn=Trøndelag",
           "r": [
            5.000746380056725,
            8.00119420809076,
            8.3893118375877,
            5.448574414091656,
            7.822062994476788,
            28.780414987311538,
            2.8959546200925512,
            6.4935064935064934,
            16.047171219585014,
            11.121062845200775,
            5.000746380056725
           ],
           "showlegend": true,
           "subplot": "polar",
           "theta": [
            "Administrative ledere og politikere",
            "Akademiske yrker",
            "Håndverkere o.l.",
            "Kontor og kundeserviceyrker",
            "Prosess og maskinoperatører, transportarbeidere mv.",
            "Salgs , service og omsorgsyrker",
            "Ukjent",
            "Yrker innen jordbruk, skogbruk og fiske",
            "Yrker med kortere høyskole og universitetsutdanning og teknikere",
            "Yrker uten krav til utdanning",
            "Administrative ledere og politikere"
           ],
           "type": "scatterpolar"
          }
         ],
         "name": "201712"
        }
       ],
       "layout": {
        "height": 600,
        "legend": {
         "tracegroupgap": 0
        },
        "margin": {
         "t": 60
        },
        "polar": {
         "angularaxis": {
          "direction": "clockwise",
          "rotation": 90
         },
         "domain": {
          "x": [
           0,
           0.98
          ],
          "y": [
           0,
           1
          ]
         }
        },
        "sliders": [
         {
          "active": 0,
          "currentvalue": {
           "prefix": "ansettelses_aar_mnd="
          },
          "len": 0.9,
          "pad": {
           "b": 10,
           "t": 60
          },
          "steps": [
           {
            "args": [
             [
              "201701"
             ],
             {
              "frame": {
               "duration": 0,
               "redraw": true
              },
              "fromcurrent": true,
              "mode": "immediate",
              "transition": {
               "duration": 0,
               "easing": "linear"
              }
             }
            ],
            "label": "201701",
            "method": "animate"
           },
           {
            "args": [
             [
              "201702"
             ],
             {
              "frame": {
               "duration": 0,
               "redraw": true
              },
              "fromcurrent": true,
              "mode": "immediate",
              "transition": {
               "duration": 0,
               "easing": "linear"
              }
             }
            ],
            "label": "201702",
            "method": "animate"
           },
           {
            "args": [
             [
              "201703"
             ],
             {
              "frame": {
               "duration": 0,
               "redraw": true
              },
              "fromcurrent": true,
              "mode": "immediate",
              "transition": {
               "duration": 0,
               "easing": "linear"
              }
             }
            ],
            "label": "201703",
            "method": "animate"
           },
           {
            "args": [
             [
              "201704"
             ],
             {
              "frame": {
               "duration": 0,
               "redraw": true
              },
              "fromcurrent": true,
              "mode": "immediate",
              "transition": {
               "duration": 0,
               "easing": "linear"
              }
             }
            ],
            "label": "201704",
            "method": "animate"
           },
           {
            "args": [
             [
              "201705"
             ],
             {
              "frame": {
               "duration": 0,
               "redraw": true
              },
              "fromcurrent": true,
              "mode": "immediate",
              "transition": {
               "duration": 0,
               "easing": "linear"
              }
             }
            ],
            "label": "201705",
            "method": "animate"
           },
           {
            "args": [
             [
              "201706"
             ],
             {
              "frame": {
               "duration": 0,
               "redraw": true
              },
              "fromcurrent": true,
              "mode": "immediate",
              "transition": {
               "duration": 0,
               "easing": "linear"
              }
             }
            ],
            "label": "201706",
            "method": "animate"
           },
           {
            "args": [
             [
              "201707"
             ],
             {
              "frame": {
               "duration": 0,
               "redraw": true
              },
              "fromcurrent": true,
              "mode": "immediate",
              "transition": {
               "duration": 0,
               "easing": "linear"
              }
             }
            ],
            "label": "201707",
            "method": "animate"
           },
           {
            "args": [
             [
              "201708"
             ],
             {
              "frame": {
               "duration": 0,
               "redraw": true
              },
              "fromcurrent": true,
              "mode": "immediate",
              "transition": {
               "duration": 0,
               "easing": "linear"
              }
             }
            ],
            "label": "201708",
            "method": "animate"
           },
           {
            "args": [
             [
              "201709"
             ],
             {
              "frame": {
               "duration": 0,
               "redraw": true
              },
              "fromcurrent": true,
              "mode": "immediate",
              "transition": {
               "duration": 0,
               "easing": "linear"
              }
             }
            ],
            "label": "201709",
            "method": "animate"
           },
           {
            "args": [
             [
              "201710"
             ],
             {
              "frame": {
               "duration": 0,
               "redraw": true
              },
              "fromcurrent": true,
              "mode": "immediate",
              "transition": {
               "duration": 0,
               "easing": "linear"
              }
             }
            ],
            "label": "201710",
            "method": "animate"
           },
           {
            "args": [
             [
              "201711"
             ],
             {
              "frame": {
               "duration": 0,
               "redraw": true
              },
              "fromcurrent": true,
              "mode": "immediate",
              "transition": {
               "duration": 0,
               "easing": "linear"
              }
             }
            ],
            "label": "201711",
            "method": "animate"
           },
           {
            "args": [
             [
              "201712"
             ],
             {
              "frame": {
               "duration": 0,
               "redraw": true
              },
              "fromcurrent": true,
              "mode": "immediate",
              "transition": {
               "duration": 0,
               "easing": "linear"
              }
             }
            ],
            "label": "201712",
            "method": "animate"
           }
          ],
          "x": 0.1,
          "xanchor": "left",
          "y": 0,
          "yanchor": "top"
         }
        ],
        "template": {
         "data": {
          "bar": [
           {
            "error_x": {
             "color": "#2a3f5f"
            },
            "error_y": {
             "color": "#2a3f5f"
            },
            "marker": {
             "line": {
              "color": "white",
              "width": 0.5
             }
            },
            "type": "bar"
           }
          ],
          "barpolar": [
           {
            "marker": {
             "line": {
              "color": "white",
              "width": 0.5
             }
            },
            "type": "barpolar"
           }
          ],
          "carpet": [
           {
            "aaxis": {
             "endlinecolor": "#2a3f5f",
             "gridcolor": "#C8D4E3",
             "linecolor": "#C8D4E3",
             "minorgridcolor": "#C8D4E3",
             "startlinecolor": "#2a3f5f"
            },
            "baxis": {
             "endlinecolor": "#2a3f5f",
             "gridcolor": "#C8D4E3",
             "linecolor": "#C8D4E3",
             "minorgridcolor": "#C8D4E3",
             "startlinecolor": "#2a3f5f"
            },
            "type": "carpet"
           }
          ],
          "choropleth": [
           {
            "colorbar": {
             "outlinewidth": 0,
             "ticks": ""
            },
            "type": "choropleth"
           }
          ],
          "contour": [
           {
            "colorbar": {
             "outlinewidth": 0,
             "ticks": ""
            },
            "colorscale": [
             [
              0,
              "#0d0887"
             ],
             [
              0.1111111111111111,
              "#46039f"
             ],
             [
              0.2222222222222222,
              "#7201a8"
             ],
             [
              0.3333333333333333,
              "#9c179e"
             ],
             [
              0.4444444444444444,
              "#bd3786"
             ],
             [
              0.5555555555555556,
              "#d8576b"
             ],
             [
              0.6666666666666666,
              "#ed7953"
             ],
             [
              0.7777777777777778,
              "#fb9f3a"
             ],
             [
              0.8888888888888888,
              "#fdca26"
             ],
             [
              1,
              "#f0f921"
             ]
            ],
            "type": "contour"
           }
          ],
          "contourcarpet": [
           {
            "colorbar": {
             "outlinewidth": 0,
             "ticks": ""
            },
            "type": "contourcarpet"
           }
          ],
          "heatmap": [
           {
            "colorbar": {
             "outlinewidth": 0,
             "ticks": ""
            },
            "colorscale": [
             [
              0,
              "#0d0887"
             ],
             [
              0.1111111111111111,
              "#46039f"
             ],
             [
              0.2222222222222222,
              "#7201a8"
             ],
             [
              0.3333333333333333,
              "#9c179e"
             ],
             [
              0.4444444444444444,
              "#bd3786"
             ],
             [
              0.5555555555555556,
              "#d8576b"
             ],
             [
              0.6666666666666666,
              "#ed7953"
             ],
             [
              0.7777777777777778,
              "#fb9f3a"
             ],
             [
              0.8888888888888888,
              "#fdca26"
             ],
             [
              1,
              "#f0f921"
             ]
            ],
            "type": "heatmap"
           }
          ],
          "heatmapgl": [
           {
            "colorbar": {
             "outlinewidth": 0,
             "ticks": ""
            },
            "colorscale": [
             [
              0,
              "#0d0887"
             ],
             [
              0.1111111111111111,
              "#46039f"
             ],
             [
              0.2222222222222222,
              "#7201a8"
             ],
             [
              0.3333333333333333,
              "#9c179e"
             ],
             [
              0.4444444444444444,
              "#bd3786"
             ],
             [
              0.5555555555555556,
              "#d8576b"
             ],
             [
              0.6666666666666666,
              "#ed7953"
             ],
             [
              0.7777777777777778,
              "#fb9f3a"
             ],
             [
              0.8888888888888888,
              "#fdca26"
             ],
             [
              1,
              "#f0f921"
             ]
            ],
            "type": "heatmapgl"
           }
          ],
          "histogram": [
           {
            "marker": {
             "colorbar": {
              "outlinewidth": 0,
              "ticks": ""
             }
            },
            "type": "histogram"
           }
          ],
          "histogram2d": [
           {
            "colorbar": {
             "outlinewidth": 0,
             "ticks": ""
            },
            "colorscale": [
             [
              0,
              "#0d0887"
             ],
             [
              0.1111111111111111,
              "#46039f"
             ],
             [
              0.2222222222222222,
              "#7201a8"
             ],
             [
              0.3333333333333333,
              "#9c179e"
             ],
             [
              0.4444444444444444,
              "#bd3786"
             ],
             [
              0.5555555555555556,
              "#d8576b"
             ],
             [
              0.6666666666666666,
              "#ed7953"
             ],
             [
              0.7777777777777778,
              "#fb9f3a"
             ],
             [
              0.8888888888888888,
              "#fdca26"
             ],
             [
              1,
              "#f0f921"
             ]
            ],
            "type": "histogram2d"
           }
          ],
          "histogram2dcontour": [
           {
            "colorbar": {
             "outlinewidth": 0,
             "ticks": ""
            },
            "colorscale": [
             [
              0,
              "#0d0887"
             ],
             [
              0.1111111111111111,
              "#46039f"
             ],
             [
              0.2222222222222222,
              "#7201a8"
             ],
             [
              0.3333333333333333,
              "#9c179e"
             ],
             [
              0.4444444444444444,
              "#bd3786"
             ],
             [
              0.5555555555555556,
              "#d8576b"
             ],
             [
              0.6666666666666666,
              "#ed7953"
             ],
             [
              0.7777777777777778,
              "#fb9f3a"
             ],
             [
              0.8888888888888888,
              "#fdca26"
             ],
             [
              1,
              "#f0f921"
             ]
            ],
            "type": "histogram2dcontour"
           }
          ],
          "mesh3d": [
           {
            "colorbar": {
             "outlinewidth": 0,
             "ticks": ""
            },
            "type": "mesh3d"
           }
          ],
          "parcoords": [
           {
            "line": {
             "colorbar": {
              "outlinewidth": 0,
              "ticks": ""
             }
            },
            "type": "parcoords"
           }
          ],
          "scatter": [
           {
            "marker": {
             "colorbar": {
              "outlinewidth": 0,
              "ticks": ""
             }
            },
            "type": "scatter"
           }
          ],
          "scatter3d": [
           {
            "line": {
             "colorbar": {
              "outlinewidth": 0,
              "ticks": ""
             }
            },
            "marker": {
             "colorbar": {
              "outlinewidth": 0,
              "ticks": ""
             }
            },
            "type": "scatter3d"
           }
          ],
          "scattercarpet": [
           {
            "marker": {
             "colorbar": {
              "outlinewidth": 0,
              "ticks": ""
             }
            },
            "type": "scattercarpet"
           }
          ],
          "scattergeo": [
           {
            "marker": {
             "colorbar": {
              "outlinewidth": 0,
              "ticks": ""
             }
            },
            "type": "scattergeo"
           }
          ],
          "scattergl": [
           {
            "marker": {
             "colorbar": {
              "outlinewidth": 0,
              "ticks": ""
             }
            },
            "type": "scattergl"
           }
          ],
          "scattermapbox": [
           {
            "marker": {
             "colorbar": {
              "outlinewidth": 0,
              "ticks": ""
             }
            },
            "type": "scattermapbox"
           }
          ],
          "scatterpolar": [
           {
            "marker": {
             "colorbar": {
              "outlinewidth": 0,
              "ticks": ""
             }
            },
            "type": "scatterpolar"
           }
          ],
          "scatterpolargl": [
           {
            "marker": {
             "colorbar": {
              "outlinewidth": 0,
              "ticks": ""
             }
            },
            "type": "scatterpolargl"
           }
          ],
          "scatterternary": [
           {
            "marker": {
             "colorbar": {
              "outlinewidth": 0,
              "ticks": ""
             }
            },
            "type": "scatterternary"
           }
          ],
          "surface": [
           {
            "colorbar": {
             "outlinewidth": 0,
             "ticks": ""
            },
            "colorscale": [
             [
              0,
              "#0d0887"
             ],
             [
              0.1111111111111111,
              "#46039f"
             ],
             [
              0.2222222222222222,
              "#7201a8"
             ],
             [
              0.3333333333333333,
              "#9c179e"
             ],
             [
              0.4444444444444444,
              "#bd3786"
             ],
             [
              0.5555555555555556,
              "#d8576b"
             ],
             [
              0.6666666666666666,
              "#ed7953"
             ],
             [
              0.7777777777777778,
              "#fb9f3a"
             ],
             [
              0.8888888888888888,
              "#fdca26"
             ],
             [
              1,
              "#f0f921"
             ]
            ],
            "type": "surface"
           }
          ],
          "table": [
           {
            "cells": {
             "fill": {
              "color": "#EBF0F8"
             },
             "line": {
              "color": "white"
             }
            },
            "header": {
             "fill": {
              "color": "#C8D4E3"
             },
             "line": {
              "color": "white"
             }
            },
            "type": "table"
           }
          ]
         },
         "layout": {
          "annotationdefaults": {
           "arrowcolor": "#2a3f5f",
           "arrowhead": 0,
           "arrowwidth": 1
          },
          "colorscale": {
           "diverging": [
            [
             0,
             "#c30000"
            ],
            [
             0.1,
             "#a73c46"
            ],
            [
             0.2,
             "#8b7b8f"
            ],
            [
             0.3,
             "#6fb7d5"
            ],
            [
             0.4,
             "#5bc1e8"
            ],
            [
             0.5,
             "#4cb1e2"
            ],
            [
             0.6,
             "#3da3dc"
            ],
            [
             0.7,
             "#2d93d6"
            ],
            [
             0.8,
             "#1e85d1"
            ],
            [
             0.9,
             "#0f76cb"
            ],
            [
             1,
             "#0067c5"
            ]
           ],
           "sequential": [
            [
             0,
             "#c30000"
            ],
            [
             0.1,
             "#a73c46"
            ],
            [
             0.2,
             "#8b7b8f"
            ],
            [
             0.3,
             "#6fb7d5"
            ],
            [
             0.4,
             "#5bc1e8"
            ],
            [
             0.5,
             "#4cb1e2"
            ],
            [
             0.6,
             "#3da3dc"
            ],
            [
             0.7,
             "#2d93d6"
            ],
            [
             0.8,
             "#1e85d1"
            ],
            [
             0.9,
             "#0f76cb"
            ],
            [
             1,
             "#0067c5"
            ]
           ],
           "sequentialminus": [
            [
             0,
             "#c30000"
            ],
            [
             0.1,
             "#a73c46"
            ],
            [
             0.2,
             "#8b7b8f"
            ],
            [
             0.3,
             "#6fb7d5"
            ],
            [
             0.4,
             "#5bc1e8"
            ],
            [
             0.5,
             "#4cb1e2"
            ],
            [
             0.6,
             "#3da3dc"
            ],
            [
             0.7,
             "#2d93d6"
            ],
            [
             0.8,
             "#1e85d1"
            ],
            [
             0.9,
             "#0f76cb"
            ],
            [
             1,
             "#0067c5"
            ]
           ]
          },
          "colorway": [
           "#C30000",
           "#FF9100",
           "#A2AD00",
           "#06893A",
           "#634689",
           "#005B82",
           "#0067C5",
           "#66CBEC",
           "#3E3832",
           "#B7B1A9"
          ],
          "font": {
           "color": "black",
           "family": "'Open Sans', 'Roboto', 'Helvetica Neue', 'Arial', 'sans-serif'"
          },
          "geo": {
           "bgcolor": "white",
           "lakecolor": "white",
           "landcolor": "white",
           "showlakes": true,
           "showland": true,
           "subunitcolor": "#C8D4E3"
          },
          "hoverlabel": {
           "align": "left"
          },
          "hovermode": "closest",
          "mapbox": {
           "style": "light"
          },
          "paper_bgcolor": "white",
          "plot_bgcolor": "white",
          "polar": {
           "angularaxis": {
            "gridcolor": "#EBF0F8",
            "linecolor": "#EBF0F8",
            "ticks": ""
           },
           "bgcolor": "white",
           "radialaxis": {
            "gridcolor": "#EBF0F8",
            "linecolor": "#EBF0F8",
            "ticks": ""
           }
          },
          "scene": {
           "xaxis": {
            "backgroundcolor": "white",
            "gridcolor": "#DFE8F3",
            "gridwidth": 2,
            "linecolor": "#EBF0F8",
            "showbackground": true,
            "ticks": "",
            "zerolinecolor": "#EBF0F8"
           },
           "yaxis": {
            "backgroundcolor": "white",
            "gridcolor": "#DFE8F3",
            "gridwidth": 2,
            "linecolor": "#EBF0F8",
            "showbackground": true,
            "ticks": "",
            "zerolinecolor": "#EBF0F8"
           },
           "zaxis": {
            "backgroundcolor": "white",
            "gridcolor": "#DFE8F3",
            "gridwidth": 2,
            "linecolor": "#EBF0F8",
            "showbackground": true,
            "ticks": "",
            "zerolinecolor": "#EBF0F8"
           }
          },
          "shapedefaults": {
           "line": {
            "color": "#2a3f5f"
           }
          },
          "ternary": {
           "aaxis": {
            "gridcolor": "#DFE8F3",
            "linecolor": "#A2B1C6",
            "ticks": ""
           },
           "baxis": {
            "gridcolor": "#DFE8F3",
            "linecolor": "#A2B1C6",
            "ticks": ""
           },
           "bgcolor": "white",
           "caxis": {
            "gridcolor": "#DFE8F3",
            "linecolor": "#A2B1C6",
            "ticks": ""
           }
          },
          "title": {
           "x": 0.05
          },
          "xaxis": {
           "automargin": true,
           "gridcolor": "#EBF0F8",
           "linecolor": "#EBF0F8",
           "ticks": "",
           "zerolinecolor": "#EBF0F8",
           "zerolinewidth": 2
          },
          "yaxis": {
           "automargin": true,
           "gridcolor": "#EBF0F8",
           "linecolor": "#EBF0F8",
           "ticks": "",
           "zerolinecolor": "#EBF0F8",
           "zerolinewidth": 2
          }
         }
        },
        "updatemenus": [
         {
          "buttons": [
           {
            "args": [
             null,
             {
              "frame": {
               "duration": 500,
               "redraw": true
              },
              "fromcurrent": true,
              "mode": "immediate",
              "transition": {
               "duration": 500,
               "easing": "linear"
              }
             }
            ],
            "label": "&#9654;",
            "method": "animate"
           },
           {
            "args": [
             [
              null
             ],
             {
              "frame": {
               "duration": 0,
               "redraw": true
              },
              "fromcurrent": true,
              "mode": "immediate",
              "transition": {
               "duration": 0,
               "easing": "linear"
              }
             }
            ],
            "label": "&#9724;",
            "method": "animate"
           }
          ],
          "direction": "left",
          "pad": {
           "r": 10,
           "t": 70
          },
          "showactive": false,
          "type": "buttons",
          "x": 0.1,
          "xanchor": "right",
          "y": 0,
          "yanchor": "top"
         }
        ]
       }
      },
      "text/html": [
       "<div>\n",
       "        \n",
       "        \n",
       "            <div id=\"42da9186-8841-489a-af59-2a199c4eacc8\" class=\"plotly-graph-div\" style=\"height:600px; width:100%;\"></div>\n",
       "            <script type=\"text/javascript\">\n",
       "                require([\"plotly\"], function(Plotly) {\n",
       "                    window.PLOTLYENV=window.PLOTLYENV || {};\n",
       "                    \n",
       "                if (document.getElementById(\"42da9186-8841-489a-af59-2a199c4eacc8\")) {\n",
       "                    Plotly.newPlot(\n",
       "                        '42da9186-8841-489a-af59-2a199c4eacc8',\n",
       "                        [{\"hoverlabel\": {\"namelength\": 0}, \"hovertemplate\": \"arbeidssted_fylke_navn=I alt<br>ansettelses_aar_mnd=201701<br>andel_fylke=%{r}<br>yrkesfelt_navn=%{theta}\", \"legendgroup\": \"arbeidssted_fylke_navn=I alt\", \"line\": {\"color\": \"#C30000\", \"dash\": \"solid\"}, \"mode\": \"lines\", \"name\": \"arbeidssted_fylke_navn=I alt\", \"r\": [6.000115944269455, 14.196409592455893, 8.86007459081335, 5.069180080774507, 5.574020754024232, 27.795706197221204, 3.0068213878529053, 0.9695839533131075, 22.05694796034706, 6.471139538928289, 6.000115944269455], \"showlegend\": true, \"subplot\": \"polar\", \"theta\": [\"Administrative ledere og politikere\", \"Akademiske yrker\", \"H\\u00e5ndverkere o.l.\", \"Kontor og kundeserviceyrker\", \"Prosess og maskinoperat\\u00f8rer, transportarbeidere mv.\", \"Salgs , service og omsorgsyrker\", \"Ukjent\", \"Yrker innen jordbruk, skogbruk og fiske\", \"Yrker med kortere h\\u00f8yskole og universitetsutdanning og teknikere\", \"Yrker uten krav til utdanning\", \"Administrative ledere og politikere\"], \"type\": \"scatterpolar\"}, {\"hoverlabel\": {\"namelength\": 0}, \"hovertemplate\": \"arbeidssted_fylke_navn=Tr\\u00f8ndelag<br>ansettelses_aar_mnd=201701<br>andel_fylke=%{r}<br>yrkesfelt_navn=%{theta}\", \"legendgroup\": \"arbeidssted_fylke_navn=Tr\\u00f8ndelag\", \"line\": {\"color\": \"#FF9100\", \"dash\": \"solid\"}, \"mode\": \"lines\", \"name\": \"arbeidssted_fylke_navn=Tr\\u00f8ndelag\", \"r\": [6.21682034087734, 24.196702989661915, 6.971221011455714, 4.582285554624197, 4.400670578373847, 22.47834590667784, 4.5217472292074135, 1.4389494272143057, 19.26050107106268, 5.932755890844742, 6.21682034087734], \"showlegend\": true, \"subplot\": \"polar\", \"theta\": [\"Administrative ledere og politikere\", \"Akademiske yrker\", \"H\\u00e5ndverkere o.l.\", \"Kontor og kundeserviceyrker\", \"Prosess og maskinoperat\\u00f8rer, transportarbeidere mv.\", \"Salgs , service og omsorgsyrker\", \"Ukjent\", \"Yrker innen jordbruk, skogbruk og fiske\", \"Yrker med kortere h\\u00f8yskole og universitetsutdanning og teknikere\", \"Yrker uten krav til utdanning\", \"Administrative ledere og politikere\"], \"type\": \"scatterpolar\"}],\n",
       "                        {\"height\": 600, \"legend\": {\"tracegroupgap\": 0}, \"margin\": {\"t\": 60}, \"polar\": {\"angularaxis\": {\"direction\": \"clockwise\", \"rotation\": 90}, \"domain\": {\"x\": [0.0, 0.98], \"y\": [0.0, 1.0]}}, \"sliders\": [{\"active\": 0, \"currentvalue\": {\"prefix\": \"ansettelses_aar_mnd=\"}, \"len\": 0.9, \"pad\": {\"b\": 10, \"t\": 60}, \"steps\": [{\"args\": [[\"201701\"], {\"frame\": {\"duration\": 0, \"redraw\": true}, \"fromcurrent\": true, \"mode\": \"immediate\", \"transition\": {\"duration\": 0, \"easing\": \"linear\"}}], \"label\": \"201701\", \"method\": \"animate\"}, {\"args\": [[\"201702\"], {\"frame\": {\"duration\": 0, \"redraw\": true}, \"fromcurrent\": true, \"mode\": \"immediate\", \"transition\": {\"duration\": 0, \"easing\": \"linear\"}}], \"label\": \"201702\", \"method\": \"animate\"}, {\"args\": [[\"201703\"], {\"frame\": {\"duration\": 0, \"redraw\": true}, \"fromcurrent\": true, \"mode\": \"immediate\", \"transition\": {\"duration\": 0, \"easing\": \"linear\"}}], \"label\": \"201703\", \"method\": \"animate\"}, {\"args\": [[\"201704\"], {\"frame\": {\"duration\": 0, \"redraw\": true}, \"fromcurrent\": true, \"mode\": \"immediate\", \"transition\": {\"duration\": 0, \"easing\": \"linear\"}}], \"label\": \"201704\", \"method\": \"animate\"}, {\"args\": [[\"201705\"], {\"frame\": {\"duration\": 0, \"redraw\": true}, \"fromcurrent\": true, \"mode\": \"immediate\", \"transition\": {\"duration\": 0, \"easing\": \"linear\"}}], \"label\": \"201705\", \"method\": \"animate\"}, {\"args\": [[\"201706\"], {\"frame\": {\"duration\": 0, \"redraw\": true}, \"fromcurrent\": true, \"mode\": \"immediate\", \"transition\": {\"duration\": 0, \"easing\": \"linear\"}}], \"label\": \"201706\", \"method\": \"animate\"}, {\"args\": [[\"201707\"], {\"frame\": {\"duration\": 0, \"redraw\": true}, \"fromcurrent\": true, \"mode\": \"immediate\", \"transition\": {\"duration\": 0, \"easing\": \"linear\"}}], \"label\": \"201707\", \"method\": \"animate\"}, {\"args\": [[\"201708\"], {\"frame\": {\"duration\": 0, \"redraw\": true}, \"fromcurrent\": true, \"mode\": \"immediate\", \"transition\": {\"duration\": 0, \"easing\": \"linear\"}}], \"label\": \"201708\", \"method\": \"animate\"}, {\"args\": [[\"201709\"], {\"frame\": {\"duration\": 0, \"redraw\": true}, \"fromcurrent\": true, \"mode\": \"immediate\", \"transition\": {\"duration\": 0, \"easing\": \"linear\"}}], \"label\": \"201709\", \"method\": \"animate\"}, {\"args\": [[\"201710\"], {\"frame\": {\"duration\": 0, \"redraw\": true}, \"fromcurrent\": true, \"mode\": \"immediate\", \"transition\": {\"duration\": 0, \"easing\": \"linear\"}}], \"label\": \"201710\", \"method\": \"animate\"}, {\"args\": [[\"201711\"], {\"frame\": {\"duration\": 0, \"redraw\": true}, \"fromcurrent\": true, \"mode\": \"immediate\", \"transition\": {\"duration\": 0, \"easing\": \"linear\"}}], \"label\": \"201711\", \"method\": \"animate\"}, {\"args\": [[\"201712\"], {\"frame\": {\"duration\": 0, \"redraw\": true}, \"fromcurrent\": true, \"mode\": \"immediate\", \"transition\": {\"duration\": 0, \"easing\": \"linear\"}}], \"label\": \"201712\", \"method\": \"animate\"}], \"x\": 0.1, \"xanchor\": \"left\", \"y\": 0, \"yanchor\": \"top\"}], \"template\": {\"data\": {\"bar\": [{\"error_x\": {\"color\": \"#2a3f5f\"}, \"error_y\": {\"color\": \"#2a3f5f\"}, \"marker\": {\"line\": {\"color\": \"white\", \"width\": 0.5}}, \"type\": \"bar\"}], \"barpolar\": [{\"marker\": {\"line\": {\"color\": \"white\", \"width\": 0.5}}, \"type\": \"barpolar\"}], \"carpet\": [{\"aaxis\": {\"endlinecolor\": \"#2a3f5f\", \"gridcolor\": \"#C8D4E3\", \"linecolor\": \"#C8D4E3\", \"minorgridcolor\": \"#C8D4E3\", \"startlinecolor\": \"#2a3f5f\"}, \"baxis\": {\"endlinecolor\": \"#2a3f5f\", \"gridcolor\": \"#C8D4E3\", \"linecolor\": \"#C8D4E3\", \"minorgridcolor\": \"#C8D4E3\", \"startlinecolor\": \"#2a3f5f\"}, \"type\": \"carpet\"}], \"choropleth\": [{\"colorbar\": {\"outlinewidth\": 0, \"ticks\": \"\"}, \"type\": \"choropleth\"}], \"contour\": [{\"colorbar\": {\"outlinewidth\": 0, \"ticks\": \"\"}, \"colorscale\": [[0.0, \"#0d0887\"], [0.1111111111111111, \"#46039f\"], [0.2222222222222222, \"#7201a8\"], [0.3333333333333333, \"#9c179e\"], [0.4444444444444444, \"#bd3786\"], [0.5555555555555556, \"#d8576b\"], [0.6666666666666666, \"#ed7953\"], [0.7777777777777778, \"#fb9f3a\"], [0.8888888888888888, \"#fdca26\"], [1.0, \"#f0f921\"]], \"type\": \"contour\"}], \"contourcarpet\": [{\"colorbar\": {\"outlinewidth\": 0, \"ticks\": \"\"}, \"type\": \"contourcarpet\"}], \"heatmap\": [{\"colorbar\": {\"outlinewidth\": 0, \"ticks\": \"\"}, \"colorscale\": [[0.0, \"#0d0887\"], [0.1111111111111111, \"#46039f\"], [0.2222222222222222, \"#7201a8\"], [0.3333333333333333, \"#9c179e\"], [0.4444444444444444, \"#bd3786\"], [0.5555555555555556, \"#d8576b\"], [0.6666666666666666, \"#ed7953\"], [0.7777777777777778, \"#fb9f3a\"], [0.8888888888888888, \"#fdca26\"], [1.0, \"#f0f921\"]], \"type\": \"heatmap\"}], \"heatmapgl\": [{\"colorbar\": {\"outlinewidth\": 0, \"ticks\": \"\"}, \"colorscale\": [[0.0, \"#0d0887\"], [0.1111111111111111, \"#46039f\"], [0.2222222222222222, \"#7201a8\"], [0.3333333333333333, \"#9c179e\"], [0.4444444444444444, \"#bd3786\"], [0.5555555555555556, \"#d8576b\"], [0.6666666666666666, \"#ed7953\"], [0.7777777777777778, \"#fb9f3a\"], [0.8888888888888888, \"#fdca26\"], [1.0, \"#f0f921\"]], \"type\": \"heatmapgl\"}], \"histogram\": [{\"marker\": {\"colorbar\": {\"outlinewidth\": 0, \"ticks\": \"\"}}, \"type\": \"histogram\"}], \"histogram2d\": [{\"colorbar\": {\"outlinewidth\": 0, \"ticks\": \"\"}, \"colorscale\": [[0.0, \"#0d0887\"], [0.1111111111111111, \"#46039f\"], [0.2222222222222222, \"#7201a8\"], [0.3333333333333333, \"#9c179e\"], [0.4444444444444444, \"#bd3786\"], [0.5555555555555556, \"#d8576b\"], [0.6666666666666666, \"#ed7953\"], [0.7777777777777778, \"#fb9f3a\"], [0.8888888888888888, \"#fdca26\"], [1.0, \"#f0f921\"]], \"type\": \"histogram2d\"}], \"histogram2dcontour\": [{\"colorbar\": {\"outlinewidth\": 0, \"ticks\": \"\"}, \"colorscale\": [[0.0, \"#0d0887\"], [0.1111111111111111, \"#46039f\"], [0.2222222222222222, \"#7201a8\"], [0.3333333333333333, \"#9c179e\"], [0.4444444444444444, \"#bd3786\"], [0.5555555555555556, \"#d8576b\"], [0.6666666666666666, \"#ed7953\"], [0.7777777777777778, \"#fb9f3a\"], [0.8888888888888888, \"#fdca26\"], [1.0, \"#f0f921\"]], \"type\": \"histogram2dcontour\"}], \"mesh3d\": [{\"colorbar\": {\"outlinewidth\": 0, \"ticks\": \"\"}, \"type\": \"mesh3d\"}], \"parcoords\": [{\"line\": {\"colorbar\": {\"outlinewidth\": 0, \"ticks\": \"\"}}, \"type\": \"parcoords\"}], \"scatter\": [{\"marker\": {\"colorbar\": {\"outlinewidth\": 0, \"ticks\": \"\"}}, \"type\": \"scatter\"}], \"scatter3d\": [{\"line\": {\"colorbar\": {\"outlinewidth\": 0, \"ticks\": \"\"}}, \"marker\": {\"colorbar\": {\"outlinewidth\": 0, \"ticks\": \"\"}}, \"type\": \"scatter3d\"}], \"scattercarpet\": [{\"marker\": {\"colorbar\": {\"outlinewidth\": 0, \"ticks\": \"\"}}, \"type\": \"scattercarpet\"}], \"scattergeo\": [{\"marker\": {\"colorbar\": {\"outlinewidth\": 0, \"ticks\": \"\"}}, \"type\": \"scattergeo\"}], \"scattergl\": [{\"marker\": {\"colorbar\": {\"outlinewidth\": 0, \"ticks\": \"\"}}, \"type\": \"scattergl\"}], \"scattermapbox\": [{\"marker\": {\"colorbar\": {\"outlinewidth\": 0, \"ticks\": \"\"}}, \"type\": \"scattermapbox\"}], \"scatterpolar\": [{\"marker\": {\"colorbar\": {\"outlinewidth\": 0, \"ticks\": \"\"}}, \"type\": \"scatterpolar\"}], \"scatterpolargl\": [{\"marker\": {\"colorbar\": {\"outlinewidth\": 0, \"ticks\": \"\"}}, \"type\": \"scatterpolargl\"}], \"scatterternary\": [{\"marker\": {\"colorbar\": {\"outlinewidth\": 0, \"ticks\": \"\"}}, \"type\": \"scatterternary\"}], \"surface\": [{\"colorbar\": {\"outlinewidth\": 0, \"ticks\": \"\"}, \"colorscale\": [[0.0, \"#0d0887\"], [0.1111111111111111, \"#46039f\"], [0.2222222222222222, \"#7201a8\"], [0.3333333333333333, \"#9c179e\"], [0.4444444444444444, \"#bd3786\"], [0.5555555555555556, \"#d8576b\"], [0.6666666666666666, \"#ed7953\"], [0.7777777777777778, \"#fb9f3a\"], [0.8888888888888888, \"#fdca26\"], [1.0, \"#f0f921\"]], \"type\": \"surface\"}], \"table\": [{\"cells\": {\"fill\": {\"color\": \"#EBF0F8\"}, \"line\": {\"color\": \"white\"}}, \"header\": {\"fill\": {\"color\": \"#C8D4E3\"}, \"line\": {\"color\": \"white\"}}, \"type\": \"table\"}]}, \"layout\": {\"annotationdefaults\": {\"arrowcolor\": \"#2a3f5f\", \"arrowhead\": 0, \"arrowwidth\": 1}, \"colorscale\": {\"diverging\": [[0.0, \"#c30000\"], [0.1, \"#a73c46\"], [0.2, \"#8b7b8f\"], [0.3, \"#6fb7d5\"], [0.4, \"#5bc1e8\"], [0.5, \"#4cb1e2\"], [0.6, \"#3da3dc\"], [0.7, \"#2d93d6\"], [0.8, \"#1e85d1\"], [0.9, \"#0f76cb\"], [1.0, \"#0067c5\"]], \"sequential\": [[0.0, \"#c30000\"], [0.1, \"#a73c46\"], [0.2, \"#8b7b8f\"], [0.3, \"#6fb7d5\"], [0.4, \"#5bc1e8\"], [0.5, \"#4cb1e2\"], [0.6, \"#3da3dc\"], [0.7, \"#2d93d6\"], [0.8, \"#1e85d1\"], [0.9, \"#0f76cb\"], [1.0, \"#0067c5\"]], \"sequentialminus\": [[0.0, \"#c30000\"], [0.1, \"#a73c46\"], [0.2, \"#8b7b8f\"], [0.3, \"#6fb7d5\"], [0.4, \"#5bc1e8\"], [0.5, \"#4cb1e2\"], [0.6, \"#3da3dc\"], [0.7, \"#2d93d6\"], [0.8, \"#1e85d1\"], [0.9, \"#0f76cb\"], [1.0, \"#0067c5\"]]}, \"colorway\": [\"#C30000\", \"#FF9100\", \"#A2AD00\", \"#06893A\", \"#634689\", \"#005B82\", \"#0067C5\", \"#66CBEC\", \"#3E3832\", \"#B7B1A9\"], \"font\": {\"color\": \"black\", \"family\": \"'Open Sans', 'Roboto', 'Helvetica Neue', 'Arial', 'sans-serif'\"}, \"geo\": {\"bgcolor\": \"white\", \"lakecolor\": \"white\", \"landcolor\": \"white\", \"showlakes\": true, \"showland\": true, \"subunitcolor\": \"#C8D4E3\"}, \"hoverlabel\": {\"align\": \"left\"}, \"hovermode\": \"closest\", \"mapbox\": {\"style\": \"light\"}, \"paper_bgcolor\": \"white\", \"plot_bgcolor\": \"white\", \"polar\": {\"angularaxis\": {\"gridcolor\": \"#EBF0F8\", \"linecolor\": \"#EBF0F8\", \"ticks\": \"\"}, \"bgcolor\": \"white\", \"radialaxis\": {\"gridcolor\": \"#EBF0F8\", \"linecolor\": \"#EBF0F8\", \"ticks\": \"\"}}, \"scene\": {\"xaxis\": {\"backgroundcolor\": \"white\", \"gridcolor\": \"#DFE8F3\", \"gridwidth\": 2, \"linecolor\": \"#EBF0F8\", \"showbackground\": true, \"ticks\": \"\", \"zerolinecolor\": \"#EBF0F8\"}, \"yaxis\": {\"backgroundcolor\": \"white\", \"gridcolor\": \"#DFE8F3\", \"gridwidth\": 2, \"linecolor\": \"#EBF0F8\", \"showbackground\": true, \"ticks\": \"\", \"zerolinecolor\": \"#EBF0F8\"}, \"zaxis\": {\"backgroundcolor\": \"white\", \"gridcolor\": \"#DFE8F3\", \"gridwidth\": 2, \"linecolor\": \"#EBF0F8\", \"showbackground\": true, \"ticks\": \"\", \"zerolinecolor\": \"#EBF0F8\"}}, \"shapedefaults\": {\"line\": {\"color\": \"#2a3f5f\"}}, \"ternary\": {\"aaxis\": {\"gridcolor\": \"#DFE8F3\", \"linecolor\": \"#A2B1C6\", \"ticks\": \"\"}, \"baxis\": {\"gridcolor\": \"#DFE8F3\", \"linecolor\": \"#A2B1C6\", \"ticks\": \"\"}, \"bgcolor\": \"white\", \"caxis\": {\"gridcolor\": \"#DFE8F3\", \"linecolor\": \"#A2B1C6\", \"ticks\": \"\"}}, \"title\": {\"x\": 0.05}, \"xaxis\": {\"automargin\": true, \"gridcolor\": \"#EBF0F8\", \"linecolor\": \"#EBF0F8\", \"ticks\": \"\", \"zerolinecolor\": \"#EBF0F8\", \"zerolinewidth\": 2}, \"yaxis\": {\"automargin\": true, \"gridcolor\": \"#EBF0F8\", \"linecolor\": \"#EBF0F8\", \"ticks\": \"\", \"zerolinecolor\": \"#EBF0F8\", \"zerolinewidth\": 2}}}, \"updatemenus\": [{\"buttons\": [{\"args\": [null, {\"frame\": {\"duration\": 500, \"redraw\": true}, \"fromcurrent\": true, \"mode\": \"immediate\", \"transition\": {\"duration\": 500, \"easing\": \"linear\"}}], \"label\": \"&#9654;\", \"method\": \"animate\"}, {\"args\": [[null], {\"frame\": {\"duration\": 0, \"redraw\": true}, \"fromcurrent\": true, \"mode\": \"immediate\", \"transition\": {\"duration\": 0, \"easing\": \"linear\"}}], \"label\": \"&#9724;\", \"method\": \"animate\"}], \"direction\": \"left\", \"pad\": {\"r\": 10, \"t\": 70}, \"showactive\": false, \"type\": \"buttons\", \"x\": 0.1, \"xanchor\": \"right\", \"y\": 0, \"yanchor\": \"top\"}]},\n",
       "                        {\"responsive\": true}\n",
       "                    ).then(function(){\n",
       "                            Plotly.addFrames('42da9186-8841-489a-af59-2a199c4eacc8', [{\"data\": [{\"hoverlabel\": {\"namelength\": 0}, \"hovertemplate\": \"arbeidssted_fylke_navn=I alt<br>ansettelses_aar_mnd=201701<br>andel_fylke=%{r}<br>yrkesfelt_navn=%{theta}\", \"legendgroup\": \"arbeidssted_fylke_navn=I alt\", \"line\": {\"color\": \"#C30000\", \"dash\": \"solid\"}, \"mode\": \"lines\", \"name\": \"arbeidssted_fylke_navn=I alt\", \"r\": [6.000115944269455, 14.196409592455893, 8.86007459081335, 5.069180080774507, 5.574020754024232, 27.795706197221204, 3.0068213878529053, 0.9695839533131075, 22.05694796034706, 6.471139538928289, 6.000115944269455], \"showlegend\": true, \"subplot\": \"polar\", \"theta\": [\"Administrative ledere og politikere\", \"Akademiske yrker\", \"H\\u00e5ndverkere o.l.\", \"Kontor og kundeserviceyrker\", \"Prosess og maskinoperat\\u00f8rer, transportarbeidere mv.\", \"Salgs , service og omsorgsyrker\", \"Ukjent\", \"Yrker innen jordbruk, skogbruk og fiske\", \"Yrker med kortere h\\u00f8yskole og universitetsutdanning og teknikere\", \"Yrker uten krav til utdanning\", \"Administrative ledere og politikere\"], \"type\": \"scatterpolar\"}, {\"hoverlabel\": {\"namelength\": 0}, \"hovertemplate\": \"arbeidssted_fylke_navn=Tr\\u00f8ndelag<br>ansettelses_aar_mnd=201701<br>andel_fylke=%{r}<br>yrkesfelt_navn=%{theta}\", \"legendgroup\": \"arbeidssted_fylke_navn=Tr\\u00f8ndelag\", \"line\": {\"color\": \"#FF9100\", \"dash\": \"solid\"}, \"mode\": \"lines\", \"name\": \"arbeidssted_fylke_navn=Tr\\u00f8ndelag\", \"r\": [6.21682034087734, 24.196702989661915, 6.971221011455714, 4.582285554624197, 4.400670578373847, 22.47834590667784, 4.5217472292074135, 1.4389494272143057, 19.26050107106268, 5.932755890844742, 6.21682034087734], \"showlegend\": true, \"subplot\": \"polar\", \"theta\": [\"Administrative ledere og politikere\", \"Akademiske yrker\", \"H\\u00e5ndverkere o.l.\", \"Kontor og kundeserviceyrker\", \"Prosess og maskinoperat\\u00f8rer, transportarbeidere mv.\", \"Salgs , service og omsorgsyrker\", \"Ukjent\", \"Yrker innen jordbruk, skogbruk og fiske\", \"Yrker med kortere h\\u00f8yskole og universitetsutdanning og teknikere\", \"Yrker uten krav til utdanning\", \"Administrative ledere og politikere\"], \"type\": \"scatterpolar\"}], \"name\": \"201701\"}, {\"data\": [{\"hoverlabel\": {\"namelength\": 0}, \"hovertemplate\": \"arbeidssted_fylke_navn=I alt<br>ansettelses_aar_mnd=201702<br>andel_fylke=%{r}<br>yrkesfelt_navn=%{theta}\", \"legendgroup\": \"arbeidssted_fylke_navn=I alt\", \"line\": {\"color\": \"#C30000\", \"dash\": \"solid\"}, \"mode\": \"lines\", \"name\": \"arbeidssted_fylke_navn=I alt\", \"r\": [3.9994999062324186, 9.723073076201787, 10.456960680127525, 5.663561917859599, 8.089016690629492, 30.419453647558917, 3.0080640120022504, 1.4165155966743765, 17.767081327748954, 9.45677314496468, 3.9994999062324186], \"showlegend\": true, \"subplot\": \"polar\", \"theta\": [\"Administrative ledere og politikere\", \"Akademiske yrker\", \"H\\u00e5ndverkere o.l.\", \"Kontor og kundeserviceyrker\", \"Prosess og maskinoperat\\u00f8rer, transportarbeidere mv.\", \"Salgs , service og omsorgsyrker\", \"Ukjent\", \"Yrker innen jordbruk, skogbruk og fiske\", \"Yrker med kortere h\\u00f8yskole og universitetsutdanning og teknikere\", \"Yrker uten krav til utdanning\", \"Administrative ledere og politikere\"], \"type\": \"scatterpolar\"}, {\"hoverlabel\": {\"namelength\": 0}, \"hovertemplate\": \"arbeidssted_fylke_navn=Tr\\u00f8ndelag<br>ansettelses_aar_mnd=201702<br>andel_fylke=%{r}<br>yrkesfelt_navn=%{theta}\", \"legendgroup\": \"arbeidssted_fylke_navn=Tr\\u00f8ndelag\", \"line\": {\"color\": \"#FF9100\", \"dash\": \"solid\"}, \"mode\": \"lines\", \"name\": \"arbeidssted_fylke_navn=Tr\\u00f8ndelag\", \"r\": [4.9156626506024095, 10.19277108433735, 9.578313253012048, 5.530120481927711, 7.421686746987952, 28.325301204819276, 3.9518072289156625, 2.2048192771084336, 17.867469879518072, 10.012048192771084, 4.9156626506024095], \"showlegend\": true, \"subplot\": \"polar\", \"theta\": [\"Administrative ledere og politikere\", \"Akademiske yrker\", \"H\\u00e5ndverkere o.l.\", \"Kontor og kundeserviceyrker\", \"Prosess og maskinoperat\\u00f8rer, transportarbeidere mv.\", \"Salgs , service og omsorgsyrker\", \"Ukjent\", \"Yrker innen jordbruk, skogbruk og fiske\", \"Yrker med kortere h\\u00f8yskole og universitetsutdanning og teknikere\", \"Yrker uten krav til utdanning\", \"Administrative ledere og politikere\"], \"type\": \"scatterpolar\"}], \"name\": \"201702\"}, {\"data\": [{\"hoverlabel\": {\"namelength\": 0}, \"hovertemplate\": \"arbeidssted_fylke_navn=I alt<br>ansettelses_aar_mnd=201703<br>andel_fylke=%{r}<br>yrkesfelt_navn=%{theta}\", \"legendgroup\": \"arbeidssted_fylke_navn=I alt\", \"line\": {\"color\": \"#C30000\", \"dash\": \"solid\"}, \"mode\": \"lines\", \"name\": \"arbeidssted_fylke_navn=I alt\", \"r\": [4.161149189063212, 9.240759769907942, 10.019386209307498, 6.0934139856139495, 8.22271894233927, 31.15882920008051, 2.933355932921597, 1.7489962604743794, 17.578948483532315, 8.842442026759326, 4.161149189063212], \"showlegend\": true, \"subplot\": \"polar\", \"theta\": [\"Administrative ledere og politikere\", \"Akademiske yrker\", \"H\\u00e5ndverkere o.l.\", \"Kontor og kundeserviceyrker\", \"Prosess og maskinoperat\\u00f8rer, transportarbeidere mv.\", \"Salgs , service og omsorgsyrker\", \"Ukjent\", \"Yrker innen jordbruk, skogbruk og fiske\", \"Yrker med kortere h\\u00f8yskole og universitetsutdanning og teknikere\", \"Yrker uten krav til utdanning\", \"Administrative ledere og politikere\"], \"type\": \"scatterpolar\"}, {\"hoverlabel\": {\"namelength\": 0}, \"hovertemplate\": \"arbeidssted_fylke_navn=Tr\\u00f8ndelag<br>ansettelses_aar_mnd=201703<br>andel_fylke=%{r}<br>yrkesfelt_navn=%{theta}\", \"legendgroup\": \"arbeidssted_fylke_navn=Tr\\u00f8ndelag\", \"line\": {\"color\": \"#FF9100\", \"dash\": \"solid\"}, \"mode\": \"lines\", \"name\": \"arbeidssted_fylke_navn=Tr\\u00f8ndelag\", \"r\": [5.025361638173962, 10.95247041142213, 8.491452188615442, 5.034754837497652, 6.734923915085478, 33.36464399774563, 4.52752207401841, 1.9725718579748261, 15.996618448243472, 7.899680631222995, 5.025361638173962], \"showlegend\": true, \"subplot\": \"polar\", \"theta\": [\"Administrative ledere og politikere\", \"Akademiske yrker\", \"H\\u00e5ndverkere o.l.\", \"Kontor og kundeserviceyrker\", \"Prosess og maskinoperat\\u00f8rer, transportarbeidere mv.\", \"Salgs , service og omsorgsyrker\", \"Ukjent\", \"Yrker innen jordbruk, skogbruk og fiske\", \"Yrker med kortere h\\u00f8yskole og universitetsutdanning og teknikere\", \"Yrker uten krav til utdanning\", \"Administrative ledere og politikere\"], \"type\": \"scatterpolar\"}], \"name\": \"201703\"}, {\"data\": [{\"hoverlabel\": {\"namelength\": 0}, \"hovertemplate\": \"arbeidssted_fylke_navn=I alt<br>ansettelses_aar_mnd=201704<br>andel_fylke=%{r}<br>yrkesfelt_navn=%{theta}\", \"legendgroup\": \"arbeidssted_fylke_navn=I alt\", \"line\": {\"color\": \"#C30000\", \"dash\": \"solid\"}, \"mode\": \"lines\", \"name\": \"arbeidssted_fylke_navn=I alt\", \"r\": [3.8743985819194733, 7.836276157370105, 11.80160685098644, 6.16381592578098, 7.486360183245471, 30.031768687124472, 2.8822026289739635, 2.3297037224613826, 16.329795805612466, 11.264071456525242, 3.8743985819194733], \"showlegend\": true, \"subplot\": \"polar\", \"theta\": [\"Administrative ledere og politikere\", \"Akademiske yrker\", \"H\\u00e5ndverkere o.l.\", \"Kontor og kundeserviceyrker\", \"Prosess og maskinoperat\\u00f8rer, transportarbeidere mv.\", \"Salgs , service og omsorgsyrker\", \"Ukjent\", \"Yrker innen jordbruk, skogbruk og fiske\", \"Yrker med kortere h\\u00f8yskole og universitetsutdanning og teknikere\", \"Yrker uten krav til utdanning\", \"Administrative ledere og politikere\"], \"type\": \"scatterpolar\"}, {\"hoverlabel\": {\"namelength\": 0}, \"hovertemplate\": \"arbeidssted_fylke_navn=Tr\\u00f8ndelag<br>ansettelses_aar_mnd=201704<br>andel_fylke=%{r}<br>yrkesfelt_navn=%{theta}\", \"legendgroup\": \"arbeidssted_fylke_navn=Tr\\u00f8ndelag\", \"line\": {\"color\": \"#FF9100\", \"dash\": \"solid\"}, \"mode\": \"lines\", \"name\": \"arbeidssted_fylke_navn=Tr\\u00f8ndelag\", \"r\": [3.99863682835397, 9.496762467340679, 11.416562535499262, 5.373168238100647, 7.63376121776667, 27.706463705554924, 3.862319663750994, 3.5669658071112122, 16.65341360899693, 10.291945927524708, 3.99863682835397], \"showlegend\": true, \"subplot\": \"polar\", \"theta\": [\"Administrative ledere og politikere\", \"Akademiske yrker\", \"H\\u00e5ndverkere o.l.\", \"Kontor og kundeserviceyrker\", \"Prosess og maskinoperat\\u00f8rer, transportarbeidere mv.\", \"Salgs , service og omsorgsyrker\", \"Ukjent\", \"Yrker innen jordbruk, skogbruk og fiske\", \"Yrker med kortere h\\u00f8yskole og universitetsutdanning og teknikere\", \"Yrker uten krav til utdanning\", \"Administrative ledere og politikere\"], \"type\": \"scatterpolar\"}], \"name\": \"201704\"}, {\"data\": [{\"hoverlabel\": {\"namelength\": 0}, \"hovertemplate\": \"arbeidssted_fylke_navn=I alt<br>ansettelses_aar_mnd=201705<br>andel_fylke=%{r}<br>yrkesfelt_navn=%{theta}\", \"legendgroup\": \"arbeidssted_fylke_navn=I alt\", \"line\": {\"color\": \"#C30000\", \"dash\": \"solid\"}, \"mode\": \"lines\", \"name\": \"arbeidssted_fylke_navn=I alt\", \"r\": [3.7899421122118304, 7.00562259377914, 12.321697303186136, 7.012085345249416, 8.281554384053623, 30.542963448524183, 3.0254909382991886, 2.3856785427418683, 14.5855068182028, 11.049458513751812, 3.7899421122118304], \"showlegend\": true, \"subplot\": \"polar\", \"theta\": [\"Administrative ledere og politikere\", \"Akademiske yrker\", \"H\\u00e5ndverkere o.l.\", \"Kontor og kundeserviceyrker\", \"Prosess og maskinoperat\\u00f8rer, transportarbeidere mv.\", \"Salgs , service og omsorgsyrker\", \"Ukjent\", \"Yrker innen jordbruk, skogbruk og fiske\", \"Yrker med kortere h\\u00f8yskole og universitetsutdanning og teknikere\", \"Yrker uten krav til utdanning\", \"Administrative ledere og politikere\"], \"type\": \"scatterpolar\"}, {\"hoverlabel\": {\"namelength\": 0}, \"hovertemplate\": \"arbeidssted_fylke_navn=Tr\\u00f8ndelag<br>ansettelses_aar_mnd=201705<br>andel_fylke=%{r}<br>yrkesfelt_navn=%{theta}\", \"legendgroup\": \"arbeidssted_fylke_navn=Tr\\u00f8ndelag\", \"line\": {\"color\": \"#FF9100\", \"dash\": \"solid\"}, \"mode\": \"lines\", \"name\": \"arbeidssted_fylke_navn=Tr\\u00f8ndelag\", \"r\": [4.19926265623595, 7.427389623235321, 9.009981116806042, 8.68626922039385, 8.659293229026167, 30.509846236849203, 3.273086952612175, 3.8036147828432694, 14.567035338548692, 9.86422084344933, 4.19926265623595], \"showlegend\": true, \"subplot\": \"polar\", \"theta\": [\"Administrative ledere og politikere\", \"Akademiske yrker\", \"H\\u00e5ndverkere o.l.\", \"Kontor og kundeserviceyrker\", \"Prosess og maskinoperat\\u00f8rer, transportarbeidere mv.\", \"Salgs , service og omsorgsyrker\", \"Ukjent\", \"Yrker innen jordbruk, skogbruk og fiske\", \"Yrker med kortere h\\u00f8yskole og universitetsutdanning og teknikere\", \"Yrker uten krav til utdanning\", \"Administrative ledere og politikere\"], \"type\": \"scatterpolar\"}], \"name\": \"201705\"}, {\"data\": [{\"hoverlabel\": {\"namelength\": 0}, \"hovertemplate\": \"arbeidssted_fylke_navn=I alt<br>ansettelses_aar_mnd=201706<br>andel_fylke=%{r}<br>yrkesfelt_navn=%{theta}\", \"legendgroup\": \"arbeidssted_fylke_navn=I alt\", \"line\": {\"color\": \"#C30000\", \"dash\": \"solid\"}, \"mode\": \"lines\", \"name\": \"arbeidssted_fylke_navn=I alt\", \"r\": [2.352166345203933, 6.199638438430366, 9.794420661429177, 7.3562322327434995, 7.910671442684427, 33.3120518283053, 2.7849649527214564, 2.4549896168657046, 14.451710024932963, 13.383154456683176, 2.352166345203933], \"showlegend\": true, \"subplot\": \"polar\", \"theta\": [\"Administrative ledere og politikere\", \"Akademiske yrker\", \"H\\u00e5ndverkere o.l.\", \"Kontor og kundeserviceyrker\", \"Prosess og maskinoperat\\u00f8rer, transportarbeidere mv.\", \"Salgs , service og omsorgsyrker\", \"Ukjent\", \"Yrker innen jordbruk, skogbruk og fiske\", \"Yrker med kortere h\\u00f8yskole og universitetsutdanning og teknikere\", \"Yrker uten krav til utdanning\", \"Administrative ledere og politikere\"], \"type\": \"scatterpolar\"}, {\"hoverlabel\": {\"namelength\": 0}, \"hovertemplate\": \"arbeidssted_fylke_navn=Tr\\u00f8ndelag<br>ansettelses_aar_mnd=201706<br>andel_fylke=%{r}<br>yrkesfelt_navn=%{theta}\", \"legendgroup\": \"arbeidssted_fylke_navn=Tr\\u00f8ndelag\", \"line\": {\"color\": \"#FF9100\", \"dash\": \"solid\"}, \"mode\": \"lines\", \"name\": \"arbeidssted_fylke_navn=Tr\\u00f8ndelag\", \"r\": [2.79026712509918, 7.881512827294366, 10.81724411531341, 6.0103147315525, 7.498016397778366, 29.14572864321608, 3.0745834435334567, 3.028299391695319, 16.74821475800053, 13.005818566516794, 2.79026712509918], \"showlegend\": true, \"subplot\": \"polar\", \"theta\": [\"Administrative ledere og politikere\", \"Akademiske yrker\", \"H\\u00e5ndverkere o.l.\", \"Kontor og kundeserviceyrker\", \"Prosess og maskinoperat\\u00f8rer, transportarbeidere mv.\", \"Salgs , service og omsorgsyrker\", \"Ukjent\", \"Yrker innen jordbruk, skogbruk og fiske\", \"Yrker med kortere h\\u00f8yskole og universitetsutdanning og teknikere\", \"Yrker uten krav til utdanning\", \"Administrative ledere og politikere\"], \"type\": \"scatterpolar\"}], \"name\": \"201706\"}, {\"data\": [{\"hoverlabel\": {\"namelength\": 0}, \"hovertemplate\": \"arbeidssted_fylke_navn=I alt<br>ansettelses_aar_mnd=201707<br>andel_fylke=%{r}<br>yrkesfelt_navn=%{theta}\", \"legendgroup\": \"arbeidssted_fylke_navn=I alt\", \"line\": {\"color\": \"#C30000\", \"dash\": \"solid\"}, \"mode\": \"lines\", \"name\": \"arbeidssted_fylke_navn=I alt\", \"r\": [2.8032227172419537, 6.063413415497356, 10.454053378856644, 6.6983803139442895, 8.91139609443311, 30.077653328892033, 3.3778157138693428, 3.6276387558812506, 13.04076279302161, 14.94566348836241, 2.8032227172419537], \"showlegend\": true, \"subplot\": \"polar\", \"theta\": [\"Administrative ledere og politikere\", \"Akademiske yrker\", \"H\\u00e5ndverkere o.l.\", \"Kontor og kundeserviceyrker\", \"Prosess og maskinoperat\\u00f8rer, transportarbeidere mv.\", \"Salgs , service og omsorgsyrker\", \"Ukjent\", \"Yrker innen jordbruk, skogbruk og fiske\", \"Yrker med kortere h\\u00f8yskole og universitetsutdanning og teknikere\", \"Yrker uten krav til utdanning\", \"Administrative ledere og politikere\"], \"type\": \"scatterpolar\"}, {\"hoverlabel\": {\"namelength\": 0}, \"hovertemplate\": \"arbeidssted_fylke_navn=Tr\\u00f8ndelag<br>ansettelses_aar_mnd=201707<br>andel_fylke=%{r}<br>yrkesfelt_navn=%{theta}\", \"legendgroup\": \"arbeidssted_fylke_navn=Tr\\u00f8ndelag\", \"line\": {\"color\": \"#FF9100\", \"dash\": \"solid\"}, \"mode\": \"lines\", \"name\": \"arbeidssted_fylke_navn=Tr\\u00f8ndelag\", \"r\": [3.4401876465989054, 8.336591086786552, 9.020719311962472, 5.4632525410476935, 8.150899139953088, 29.094996090695854, 3.166536356528538, 5.443706020328381, 12.734558248631744, 15.148553557466771, 3.4401876465989054], \"showlegend\": true, \"subplot\": \"polar\", \"theta\": [\"Administrative ledere og politikere\", \"Akademiske yrker\", \"H\\u00e5ndverkere o.l.\", \"Kontor og kundeserviceyrker\", \"Prosess og maskinoperat\\u00f8rer, transportarbeidere mv.\", \"Salgs , service og omsorgsyrker\", \"Ukjent\", \"Yrker innen jordbruk, skogbruk og fiske\", \"Yrker med kortere h\\u00f8yskole og universitetsutdanning og teknikere\", \"Yrker uten krav til utdanning\", \"Administrative ledere og politikere\"], \"type\": \"scatterpolar\"}], \"name\": \"201707\"}, {\"data\": [{\"hoverlabel\": {\"namelength\": 0}, \"hovertemplate\": \"arbeidssted_fylke_navn=I alt<br>ansettelses_aar_mnd=201708<br>andel_fylke=%{r}<br>yrkesfelt_navn=%{theta}\", \"legendgroup\": \"arbeidssted_fylke_navn=I alt\", \"line\": {\"color\": \"#C30000\", \"dash\": \"solid\"}, \"mode\": \"lines\", \"name\": \"arbeidssted_fylke_navn=I alt\", \"r\": [3.432066284702523, 11.894089115268798, 9.056166185574723, 4.516237632404192, 5.509385968740453, 29.969638214702087, 2.6851788352795216, 1.319833664798409, 24.558133155443613, 7.05927094308568, 3.432066284702523], \"showlegend\": true, \"subplot\": \"polar\", \"theta\": [\"Administrative ledere og politikere\", \"Akademiske yrker\", \"H\\u00e5ndverkere o.l.\", \"Kontor og kundeserviceyrker\", \"Prosess og maskinoperat\\u00f8rer, transportarbeidere mv.\", \"Salgs , service og omsorgsyrker\", \"Ukjent\", \"Yrker innen jordbruk, skogbruk og fiske\", \"Yrker med kortere h\\u00f8yskole og universitetsutdanning og teknikere\", \"Yrker uten krav til utdanning\", \"Administrative ledere og politikere\"], \"type\": \"scatterpolar\"}, {\"hoverlabel\": {\"namelength\": 0}, \"hovertemplate\": \"arbeidssted_fylke_navn=Tr\\u00f8ndelag<br>ansettelses_aar_mnd=201708<br>andel_fylke=%{r}<br>yrkesfelt_navn=%{theta}\", \"legendgroup\": \"arbeidssted_fylke_navn=Tr\\u00f8ndelag\", \"line\": {\"color\": \"#FF9100\", \"dash\": \"solid\"}, \"mode\": \"lines\", \"name\": \"arbeidssted_fylke_navn=Tr\\u00f8ndelag\", \"r\": [4.218623984118121, 13.18319995036913, 8.803275637446491, 4.1689931137167315, 5.664123084558596, 27.89254916558099, 3.6850921273031827, 2.1279235684595816, 22.898442831441155, 7.357776537006018, 4.218623984118121], \"showlegend\": true, \"subplot\": \"polar\", \"theta\": [\"Administrative ledere og politikere\", \"Akademiske yrker\", \"H\\u00e5ndverkere o.l.\", \"Kontor og kundeserviceyrker\", \"Prosess og maskinoperat\\u00f8rer, transportarbeidere mv.\", \"Salgs , service og omsorgsyrker\", \"Ukjent\", \"Yrker innen jordbruk, skogbruk og fiske\", \"Yrker med kortere h\\u00f8yskole og universitetsutdanning og teknikere\", \"Yrker uten krav til utdanning\", \"Administrative ledere og politikere\"], \"type\": \"scatterpolar\"}], \"name\": \"201708\"}, {\"data\": [{\"hoverlabel\": {\"namelength\": 0}, \"hovertemplate\": \"arbeidssted_fylke_navn=I alt<br>ansettelses_aar_mnd=201709<br>andel_fylke=%{r}<br>yrkesfelt_navn=%{theta}\", \"legendgroup\": \"arbeidssted_fylke_navn=I alt\", \"line\": {\"color\": \"#C30000\", \"dash\": \"solid\"}, \"mode\": \"lines\", \"name\": \"arbeidssted_fylke_navn=I alt\", \"r\": [3.700578688041774, 11.21795126921332, 9.708745592180149, 5.529774176344634, 6.783465601095289, 31.768938700459287, 3.1155226898248016, 1.8084996298625318, 17.343925367550487, 9.022598285427728, 3.700578688041774], \"showlegend\": true, \"subplot\": \"polar\", \"theta\": [\"Administrative ledere og politikere\", \"Akademiske yrker\", \"H\\u00e5ndverkere o.l.\", \"Kontor og kundeserviceyrker\", \"Prosess og maskinoperat\\u00f8rer, transportarbeidere mv.\", \"Salgs , service og omsorgsyrker\", \"Ukjent\", \"Yrker innen jordbruk, skogbruk og fiske\", \"Yrker med kortere h\\u00f8yskole og universitetsutdanning og teknikere\", \"Yrker uten krav til utdanning\", \"Administrative ledere og politikere\"], \"type\": \"scatterpolar\"}, {\"hoverlabel\": {\"namelength\": 0}, \"hovertemplate\": \"arbeidssted_fylke_navn=Tr\\u00f8ndelag<br>ansettelses_aar_mnd=201709<br>andel_fylke=%{r}<br>yrkesfelt_navn=%{theta}\", \"legendgroup\": \"arbeidssted_fylke_navn=Tr\\u00f8ndelag\", \"line\": {\"color\": \"#FF9100\", \"dash\": \"solid\"}, \"mode\": \"lines\", \"name\": \"arbeidssted_fylke_navn=Tr\\u00f8ndelag\", \"r\": [3.765274225632282, 18.854788292128447, 7.757885763000853, 4.4472861608411485, 6.386757601591361, 26.477692526285878, 3.687127024722933, 2.0744529695936347, 18.54930377948281, 7.99943165672066, 3.765274225632282], \"showlegend\": true, \"subplot\": \"polar\", \"theta\": [\"Administrative ledere og politikere\", \"Akademiske yrker\", \"H\\u00e5ndverkere o.l.\", \"Kontor og kundeserviceyrker\", \"Prosess og maskinoperat\\u00f8rer, transportarbeidere mv.\", \"Salgs , service og omsorgsyrker\", \"Ukjent\", \"Yrker innen jordbruk, skogbruk og fiske\", \"Yrker med kortere h\\u00f8yskole og universitetsutdanning og teknikere\", \"Yrker uten krav til utdanning\", \"Administrative ledere og politikere\"], \"type\": \"scatterpolar\"}], \"name\": \"201709\"}, {\"data\": [{\"hoverlabel\": {\"namelength\": 0}, \"hovertemplate\": \"arbeidssted_fylke_navn=I alt<br>ansettelses_aar_mnd=201710<br>andel_fylke=%{r}<br>yrkesfelt_navn=%{theta}\", \"legendgroup\": \"arbeidssted_fylke_navn=I alt\", \"line\": {\"color\": \"#C30000\", \"dash\": \"solid\"}, \"mode\": \"lines\", \"name\": \"arbeidssted_fylke_navn=I alt\", \"r\": [4.048732574590216, 8.372306777324214, 11.201823867066764, 6.098780784515152, 7.734313751993728, 30.027123714777467, 2.934047020446415, 1.5733556811116218, 19.6588359330648, 8.350679895109621, 4.048732574590216], \"showlegend\": true, \"subplot\": \"polar\", \"theta\": [\"Administrative ledere og politikere\", \"Akademiske yrker\", \"H\\u00e5ndverkere o.l.\", \"Kontor og kundeserviceyrker\", \"Prosess og maskinoperat\\u00f8rer, transportarbeidere mv.\", \"Salgs , service og omsorgsyrker\", \"Ukjent\", \"Yrker innen jordbruk, skogbruk og fiske\", \"Yrker med kortere h\\u00f8yskole og universitetsutdanning og teknikere\", \"Yrker uten krav til utdanning\", \"Administrative ledere og politikere\"], \"type\": \"scatterpolar\"}, {\"hoverlabel\": {\"namelength\": 0}, \"hovertemplate\": \"arbeidssted_fylke_navn=Tr\\u00f8ndelag<br>ansettelses_aar_mnd=201710<br>andel_fylke=%{r}<br>yrkesfelt_navn=%{theta}\", \"legendgroup\": \"arbeidssted_fylke_navn=Tr\\u00f8ndelag\", \"line\": {\"color\": \"#FF9100\", \"dash\": \"solid\"}, \"mode\": \"lines\", \"name\": \"arbeidssted_fylke_navn=Tr\\u00f8ndelag\", \"r\": [5.534990304953287, 8.514013749338973, 10.021152829190905, 5.1471884364533755, 7.200775603737, 27.45460955402785, 3.7458135025559667, 2.811563546624361, 20.91485986250661, 8.65503261061167, 5.534990304953287], \"showlegend\": true, \"subplot\": \"polar\", \"theta\": [\"Administrative ledere og politikere\", \"Akademiske yrker\", \"H\\u00e5ndverkere o.l.\", \"Kontor og kundeserviceyrker\", \"Prosess og maskinoperat\\u00f8rer, transportarbeidere mv.\", \"Salgs , service og omsorgsyrker\", \"Ukjent\", \"Yrker innen jordbruk, skogbruk og fiske\", \"Yrker med kortere h\\u00f8yskole og universitetsutdanning og teknikere\", \"Yrker uten krav til utdanning\", \"Administrative ledere og politikere\"], \"type\": \"scatterpolar\"}], \"name\": \"201710\"}, {\"data\": [{\"hoverlabel\": {\"namelength\": 0}, \"hovertemplate\": \"arbeidssted_fylke_navn=I alt<br>ansettelses_aar_mnd=201711<br>andel_fylke=%{r}<br>yrkesfelt_navn=%{theta}\", \"legendgroup\": \"arbeidssted_fylke_navn=I alt\", \"line\": {\"color\": \"#C30000\", \"dash\": \"solid\"}, \"mode\": \"lines\", \"name\": \"arbeidssted_fylke_navn=I alt\", \"r\": [4.022625258444299, 8.512324980984927, 9.685367499758964, 6.444770587164022, 7.475333968954546, 32.54202063269307, 2.6278294963951705, 1.941144332437036, 17.46172881828018, 9.286854424887784, 4.022625258444299], \"showlegend\": true, \"subplot\": \"polar\", \"theta\": [\"Administrative ledere og politikere\", \"Akademiske yrker\", \"H\\u00e5ndverkere o.l.\", \"Kontor og kundeserviceyrker\", \"Prosess og maskinoperat\\u00f8rer, transportarbeidere mv.\", \"Salgs , service og omsorgsyrker\", \"Ukjent\", \"Yrker innen jordbruk, skogbruk og fiske\", \"Yrker med kortere h\\u00f8yskole og universitetsutdanning og teknikere\", \"Yrker uten krav til utdanning\", \"Administrative ledere og politikere\"], \"type\": \"scatterpolar\"}, {\"hoverlabel\": {\"namelength\": 0}, \"hovertemplate\": \"arbeidssted_fylke_navn=Tr\\u00f8ndelag<br>ansettelses_aar_mnd=201711<br>andel_fylke=%{r}<br>yrkesfelt_navn=%{theta}\", \"legendgroup\": \"arbeidssted_fylke_navn=Tr\\u00f8ndelag\", \"line\": {\"color\": \"#FF9100\", \"dash\": \"solid\"}, \"mode\": \"lines\", \"name\": \"arbeidssted_fylke_navn=Tr\\u00f8ndelag\", \"r\": [4.8403826207214475, 9.392647228304714, 9.358073066728132, 6.97245591794399, 7.398870577388498, 28.823326034343665, 3.054050939264723, 3.4343667166071223, 17.56367408090354, 9.16215281779417, 4.8403826207214475], \"showlegend\": true, \"subplot\": \"polar\", \"theta\": [\"Administrative ledere og politikere\", \"Akademiske yrker\", \"H\\u00e5ndverkere o.l.\", \"Kontor og kundeserviceyrker\", \"Prosess og maskinoperat\\u00f8rer, transportarbeidere mv.\", \"Salgs , service og omsorgsyrker\", \"Ukjent\", \"Yrker innen jordbruk, skogbruk og fiske\", \"Yrker med kortere h\\u00f8yskole og universitetsutdanning og teknikere\", \"Yrker uten krav til utdanning\", \"Administrative ledere og politikere\"], \"type\": \"scatterpolar\"}], \"name\": \"201711\"}, {\"data\": [{\"hoverlabel\": {\"namelength\": 0}, \"hovertemplate\": \"arbeidssted_fylke_navn=I alt<br>ansettelses_aar_mnd=201712<br>andel_fylke=%{r}<br>yrkesfelt_navn=%{theta}\", \"legendgroup\": \"arbeidssted_fylke_navn=I alt\", \"line\": {\"color\": \"#C30000\", \"dash\": \"solid\"}, \"mode\": \"lines\", \"name\": \"arbeidssted_fylke_navn=I alt\", \"r\": [4.58762601085632, 7.6797385620915035, 7.976071784646062, 6.264539714190761, 8.207322477013404, 32.800210479672096, 2.5894538606403015, 3.2887448764816662, 16.508806912595546, 10.097485321812341, 4.58762601085632], \"showlegend\": true, \"subplot\": \"polar\", \"theta\": [\"Administrative ledere og politikere\", \"Akademiske yrker\", \"H\\u00e5ndverkere o.l.\", \"Kontor og kundeserviceyrker\", \"Prosess og maskinoperat\\u00f8rer, transportarbeidere mv.\", \"Salgs , service og omsorgsyrker\", \"Ukjent\", \"Yrker innen jordbruk, skogbruk og fiske\", \"Yrker med kortere h\\u00f8yskole og universitetsutdanning og teknikere\", \"Yrker uten krav til utdanning\", \"Administrative ledere og politikere\"], \"type\": \"scatterpolar\"}, {\"hoverlabel\": {\"namelength\": 0}, \"hovertemplate\": \"arbeidssted_fylke_navn=Tr\\u00f8ndelag<br>ansettelses_aar_mnd=201712<br>andel_fylke=%{r}<br>yrkesfelt_navn=%{theta}\", \"legendgroup\": \"arbeidssted_fylke_navn=Tr\\u00f8ndelag\", \"line\": {\"color\": \"#FF9100\", \"dash\": \"solid\"}, \"mode\": \"lines\", \"name\": \"arbeidssted_fylke_navn=Tr\\u00f8ndelag\", \"r\": [5.000746380056725, 8.00119420809076, 8.3893118375877, 5.448574414091656, 7.822062994476788, 28.780414987311538, 2.8959546200925512, 6.4935064935064934, 16.047171219585014, 11.121062845200775, 5.000746380056725], \"showlegend\": true, \"subplot\": \"polar\", \"theta\": [\"Administrative ledere og politikere\", \"Akademiske yrker\", \"H\\u00e5ndverkere o.l.\", \"Kontor og kundeserviceyrker\", \"Prosess og maskinoperat\\u00f8rer, transportarbeidere mv.\", \"Salgs , service og omsorgsyrker\", \"Ukjent\", \"Yrker innen jordbruk, skogbruk og fiske\", \"Yrker med kortere h\\u00f8yskole og universitetsutdanning og teknikere\", \"Yrker uten krav til utdanning\", \"Administrative ledere og politikere\"], \"type\": \"scatterpolar\"}], \"name\": \"201712\"}]);\n",
       "                        }).then(function(){\n",
       "                            \n",
       "var gd = document.getElementById('42da9186-8841-489a-af59-2a199c4eacc8');\n",
       "var x = new MutationObserver(function (mutations, observer) {{\n",
       "        var display = window.getComputedStyle(gd).display;\n",
       "        if (!display || display === 'none') {{\n",
       "            console.log([gd, 'removed!']);\n",
       "            Plotly.purge(gd);\n",
       "            observer.disconnect();\n",
       "        }}\n",
       "}});\n",
       "\n",
       "// Listen for the removal of the full notebook cells\n",
       "var notebookContainer = gd.closest('#notebook-container');\n",
       "if (notebookContainer) {{\n",
       "    x.observe(notebookContainer, {childList: true});\n",
       "}}\n",
       "\n",
       "// Listen for the clearing of the current output cell\n",
       "var outputEl = gd.closest('.output');\n",
       "if (outputEl) {{\n",
       "    x.observe(outputEl, {childList: true});\n",
       "}}\n",
       "\n",
       "                        })\n",
       "                };\n",
       "                });\n",
       "            </script>\n",
       "        </div>"
      ]
     },
     "metadata": {},
     "output_type": "display_data"
    }
   ],
   "source": [
    "plotFylke('Trøndelag')"
   ]
  },
  {
   "cell_type": "code",
   "execution_count": 289,
   "metadata": {},
   "outputs": [
    {
     "data": {
      "application/vnd.plotly.v1+json": {
       "config": {
        "plotlyServerURL": "https://plot.ly"
       },
       "data": [
        {
         "hoverlabel": {
          "namelength": 0
         },
         "hovertemplate": "arbeidssted_fylke_navn=I alt<br>ansettelses_aar_mnd=201701<br>andel_fylke=%{r}<br>yrkesfelt_navn=%{theta}",
         "legendgroup": "arbeidssted_fylke_navn=I alt",
         "line": {
          "color": "#C30000",
          "dash": "solid"
         },
         "mode": "lines",
         "name": "arbeidssted_fylke_navn=I alt",
         "r": [
          6.000115944269455,
          14.196409592455893,
          8.86007459081335,
          5.069180080774507,
          5.574020754024232,
          27.795706197221204,
          3.0068213878529053,
          0.9695839533131075,
          22.05694796034706,
          6.471139538928289,
          6.000115944269455
         ],
         "showlegend": true,
         "subplot": "polar",
         "theta": [
          "Administrative ledere og politikere",
          "Akademiske yrker",
          "Håndverkere o.l.",
          "Kontor og kundeserviceyrker",
          "Prosess og maskinoperatører, transportarbeidere mv.",
          "Salgs , service og omsorgsyrker",
          "Ukjent",
          "Yrker innen jordbruk, skogbruk og fiske",
          "Yrker med kortere høyskole og universitetsutdanning og teknikere",
          "Yrker uten krav til utdanning",
          "Administrative ledere og politikere"
         ],
         "type": "scatterpolar"
        },
        {
         "hoverlabel": {
          "namelength": 0
         },
         "hovertemplate": "arbeidssted_fylke_navn=Telemark<br>ansettelses_aar_mnd=201701<br>andel_fylke=%{r}<br>yrkesfelt_navn=%{theta}",
         "legendgroup": "arbeidssted_fylke_navn=Telemark",
         "line": {
          "color": "#FF9100",
          "dash": "solid"
         },
         "mode": "lines",
         "name": "arbeidssted_fylke_navn=Telemark",
         "r": [
          8.424507658643327,
          11.615609044493072,
          13.202042304886945,
          5.269876002917578,
          5.579868708971554,
          23.942377826404083,
          3.0816921954777534,
          0.674690007293946,
          20.14952589350839,
          8.059810357403355,
          8.424507658643327
         ],
         "showlegend": true,
         "subplot": "polar",
         "theta": [
          "Administrative ledere og politikere",
          "Akademiske yrker",
          "Håndverkere o.l.",
          "Kontor og kundeserviceyrker",
          "Prosess og maskinoperatører, transportarbeidere mv.",
          "Salgs , service og omsorgsyrker",
          "Ukjent",
          "Yrker innen jordbruk, skogbruk og fiske",
          "Yrker med kortere høyskole og universitetsutdanning og teknikere",
          "Yrker uten krav til utdanning",
          "Administrative ledere og politikere"
         ],
         "type": "scatterpolar"
        }
       ],
       "frames": [
        {
         "data": [
          {
           "hoverlabel": {
            "namelength": 0
           },
           "hovertemplate": "arbeidssted_fylke_navn=I alt<br>ansettelses_aar_mnd=201701<br>andel_fylke=%{r}<br>yrkesfelt_navn=%{theta}",
           "legendgroup": "arbeidssted_fylke_navn=I alt",
           "line": {
            "color": "#C30000",
            "dash": "solid"
           },
           "mode": "lines",
           "name": "arbeidssted_fylke_navn=I alt",
           "r": [
            6.000115944269455,
            14.196409592455893,
            8.86007459081335,
            5.069180080774507,
            5.574020754024232,
            27.795706197221204,
            3.0068213878529053,
            0.9695839533131075,
            22.05694796034706,
            6.471139538928289,
            6.000115944269455
           ],
           "showlegend": true,
           "subplot": "polar",
           "theta": [
            "Administrative ledere og politikere",
            "Akademiske yrker",
            "Håndverkere o.l.",
            "Kontor og kundeserviceyrker",
            "Prosess og maskinoperatører, transportarbeidere mv.",
            "Salgs , service og omsorgsyrker",
            "Ukjent",
            "Yrker innen jordbruk, skogbruk og fiske",
            "Yrker med kortere høyskole og universitetsutdanning og teknikere",
            "Yrker uten krav til utdanning",
            "Administrative ledere og politikere"
           ],
           "type": "scatterpolar"
          },
          {
           "hoverlabel": {
            "namelength": 0
           },
           "hovertemplate": "arbeidssted_fylke_navn=Telemark<br>ansettelses_aar_mnd=201701<br>andel_fylke=%{r}<br>yrkesfelt_navn=%{theta}",
           "legendgroup": "arbeidssted_fylke_navn=Telemark",
           "line": {
            "color": "#FF9100",
            "dash": "solid"
           },
           "mode": "lines",
           "name": "arbeidssted_fylke_navn=Telemark",
           "r": [
            8.424507658643327,
            11.615609044493072,
            13.202042304886945,
            5.269876002917578,
            5.579868708971554,
            23.942377826404083,
            3.0816921954777534,
            0.674690007293946,
            20.14952589350839,
            8.059810357403355,
            8.424507658643327
           ],
           "showlegend": true,
           "subplot": "polar",
           "theta": [
            "Administrative ledere og politikere",
            "Akademiske yrker",
            "Håndverkere o.l.",
            "Kontor og kundeserviceyrker",
            "Prosess og maskinoperatører, transportarbeidere mv.",
            "Salgs , service og omsorgsyrker",
            "Ukjent",
            "Yrker innen jordbruk, skogbruk og fiske",
            "Yrker med kortere høyskole og universitetsutdanning og teknikere",
            "Yrker uten krav til utdanning",
            "Administrative ledere og politikere"
           ],
           "type": "scatterpolar"
          }
         ],
         "name": "201701"
        },
        {
         "data": [
          {
           "hoverlabel": {
            "namelength": 0
           },
           "hovertemplate": "arbeidssted_fylke_navn=I alt<br>ansettelses_aar_mnd=201702<br>andel_fylke=%{r}<br>yrkesfelt_navn=%{theta}",
           "legendgroup": "arbeidssted_fylke_navn=I alt",
           "line": {
            "color": "#C30000",
            "dash": "solid"
           },
           "mode": "lines",
           "name": "arbeidssted_fylke_navn=I alt",
           "r": [
            3.9994999062324186,
            9.723073076201787,
            10.456960680127525,
            5.663561917859599,
            8.089016690629492,
            30.419453647558917,
            3.0080640120022504,
            1.4165155966743765,
            17.767081327748954,
            9.45677314496468,
            3.9994999062324186
           ],
           "showlegend": true,
           "subplot": "polar",
           "theta": [
            "Administrative ledere og politikere",
            "Akademiske yrker",
            "Håndverkere o.l.",
            "Kontor og kundeserviceyrker",
            "Prosess og maskinoperatører, transportarbeidere mv.",
            "Salgs , service og omsorgsyrker",
            "Ukjent",
            "Yrker innen jordbruk, skogbruk og fiske",
            "Yrker med kortere høyskole og universitetsutdanning og teknikere",
            "Yrker uten krav til utdanning",
            "Administrative ledere og politikere"
           ],
           "type": "scatterpolar"
          },
          {
           "hoverlabel": {
            "namelength": 0
           },
           "hovertemplate": "arbeidssted_fylke_navn=Telemark<br>ansettelses_aar_mnd=201702<br>andel_fylke=%{r}<br>yrkesfelt_navn=%{theta}",
           "legendgroup": "arbeidssted_fylke_navn=Telemark",
           "line": {
            "color": "#FF9100",
            "dash": "solid"
           },
           "mode": "lines",
           "name": "arbeidssted_fylke_navn=Telemark",
           "r": [
            5.550952775476388,
            8.989229494614747,
            10.231980115990059,
            4.63960231980116,
            7.042253521126761,
            30.985915492957748,
            3.4382767191383596,
            0.4971002485501243,
            20.091135045567523,
            8.533554266777134,
            5.550952775476388
           ],
           "showlegend": true,
           "subplot": "polar",
           "theta": [
            "Administrative ledere og politikere",
            "Akademiske yrker",
            "Håndverkere o.l.",
            "Kontor og kundeserviceyrker",
            "Prosess og maskinoperatører, transportarbeidere mv.",
            "Salgs , service og omsorgsyrker",
            "Ukjent",
            "Yrker innen jordbruk, skogbruk og fiske",
            "Yrker med kortere høyskole og universitetsutdanning og teknikere",
            "Yrker uten krav til utdanning",
            "Administrative ledere og politikere"
           ],
           "type": "scatterpolar"
          }
         ],
         "name": "201702"
        },
        {
         "data": [
          {
           "hoverlabel": {
            "namelength": 0
           },
           "hovertemplate": "arbeidssted_fylke_navn=I alt<br>ansettelses_aar_mnd=201703<br>andel_fylke=%{r}<br>yrkesfelt_navn=%{theta}",
           "legendgroup": "arbeidssted_fylke_navn=I alt",
           "line": {
            "color": "#C30000",
            "dash": "solid"
           },
           "mode": "lines",
           "name": "arbeidssted_fylke_navn=I alt",
           "r": [
            4.161149189063212,
            9.240759769907942,
            10.019386209307498,
            6.0934139856139495,
            8.22271894233927,
            31.15882920008051,
            2.933355932921597,
            1.7489962604743794,
            17.578948483532315,
            8.842442026759326,
            4.161149189063212
           ],
           "showlegend": true,
           "subplot": "polar",
           "theta": [
            "Administrative ledere og politikere",
            "Akademiske yrker",
            "Håndverkere o.l.",
            "Kontor og kundeserviceyrker",
            "Prosess og maskinoperatører, transportarbeidere mv.",
            "Salgs , service og omsorgsyrker",
            "Ukjent",
            "Yrker innen jordbruk, skogbruk og fiske",
            "Yrker med kortere høyskole og universitetsutdanning og teknikere",
            "Yrker uten krav til utdanning",
            "Administrative ledere og politikere"
           ],
           "type": "scatterpolar"
          },
          {
           "hoverlabel": {
            "namelength": 0
           },
           "hovertemplate": "arbeidssted_fylke_navn=Telemark<br>ansettelses_aar_mnd=201703<br>andel_fylke=%{r}<br>yrkesfelt_navn=%{theta}",
           "legendgroup": "arbeidssted_fylke_navn=Telemark",
           "line": {
            "color": "#FF9100",
            "dash": "solid"
           },
           "mode": "lines",
           "name": "arbeidssted_fylke_navn=Telemark",
           "r": [
            5.271828665568369,
            8.072487644151565,
            14.332784184514002,
            4.744645799011532,
            9.093904448105437,
            27.71004942339374,
            2.9983525535420097,
            0.7907742998352554,
            18.12191103789127,
            8.86326194398682,
            5.271828665568369
           ],
           "showlegend": true,
           "subplot": "polar",
           "theta": [
            "Administrative ledere og politikere",
            "Akademiske yrker",
            "Håndverkere o.l.",
            "Kontor og kundeserviceyrker",
            "Prosess og maskinoperatører, transportarbeidere mv.",
            "Salgs , service og omsorgsyrker",
            "Ukjent",
            "Yrker innen jordbruk, skogbruk og fiske",
            "Yrker med kortere høyskole og universitetsutdanning og teknikere",
            "Yrker uten krav til utdanning",
            "Administrative ledere og politikere"
           ],
           "type": "scatterpolar"
          }
         ],
         "name": "201703"
        },
        {
         "data": [
          {
           "hoverlabel": {
            "namelength": 0
           },
           "hovertemplate": "arbeidssted_fylke_navn=I alt<br>ansettelses_aar_mnd=201704<br>andel_fylke=%{r}<br>yrkesfelt_navn=%{theta}",
           "legendgroup": "arbeidssted_fylke_navn=I alt",
           "line": {
            "color": "#C30000",
            "dash": "solid"
           },
           "mode": "lines",
           "name": "arbeidssted_fylke_navn=I alt",
           "r": [
            3.8743985819194733,
            7.836276157370105,
            11.80160685098644,
            6.16381592578098,
            7.486360183245471,
            30.031768687124472,
            2.8822026289739635,
            2.3297037224613826,
            16.329795805612466,
            11.264071456525242,
            3.8743985819194733
           ],
           "showlegend": true,
           "subplot": "polar",
           "theta": [
            "Administrative ledere og politikere",
            "Akademiske yrker",
            "Håndverkere o.l.",
            "Kontor og kundeserviceyrker",
            "Prosess og maskinoperatører, transportarbeidere mv.",
            "Salgs , service og omsorgsyrker",
            "Ukjent",
            "Yrker innen jordbruk, skogbruk og fiske",
            "Yrker med kortere høyskole og universitetsutdanning og teknikere",
            "Yrker uten krav til utdanning",
            "Administrative ledere og politikere"
           ],
           "type": "scatterpolar"
          },
          {
           "hoverlabel": {
            "namelength": 0
           },
           "hovertemplate": "arbeidssted_fylke_navn=Telemark<br>ansettelses_aar_mnd=201704<br>andel_fylke=%{r}<br>yrkesfelt_navn=%{theta}",
           "legendgroup": "arbeidssted_fylke_navn=Telemark",
           "line": {
            "color": "#FF9100",
            "dash": "solid"
           },
           "mode": "lines",
           "name": "arbeidssted_fylke_navn=Telemark",
           "r": [
            4.40852314474651,
            6.576047024246877,
            14.43791329904482,
            4.996326230712711,
            7.678177810433505,
            27.8104335047759,
            2.3512123438648054,
            2.020573108008817,
            14.290962527553269,
            15.429831006612785,
            4.40852314474651
           ],
           "showlegend": true,
           "subplot": "polar",
           "theta": [
            "Administrative ledere og politikere",
            "Akademiske yrker",
            "Håndverkere o.l.",
            "Kontor og kundeserviceyrker",
            "Prosess og maskinoperatører, transportarbeidere mv.",
            "Salgs , service og omsorgsyrker",
            "Ukjent",
            "Yrker innen jordbruk, skogbruk og fiske",
            "Yrker med kortere høyskole og universitetsutdanning og teknikere",
            "Yrker uten krav til utdanning",
            "Administrative ledere og politikere"
           ],
           "type": "scatterpolar"
          }
         ],
         "name": "201704"
        },
        {
         "data": [
          {
           "hoverlabel": {
            "namelength": 0
           },
           "hovertemplate": "arbeidssted_fylke_navn=I alt<br>ansettelses_aar_mnd=201705<br>andel_fylke=%{r}<br>yrkesfelt_navn=%{theta}",
           "legendgroup": "arbeidssted_fylke_navn=I alt",
           "line": {
            "color": "#C30000",
            "dash": "solid"
           },
           "mode": "lines",
           "name": "arbeidssted_fylke_navn=I alt",
           "r": [
            3.7899421122118304,
            7.00562259377914,
            12.321697303186136,
            7.012085345249416,
            8.281554384053623,
            30.542963448524183,
            3.0254909382991886,
            2.3856785427418683,
            14.5855068182028,
            11.049458513751812,
            3.7899421122118304
           ],
           "showlegend": true,
           "subplot": "polar",
           "theta": [
            "Administrative ledere og politikere",
            "Akademiske yrker",
            "Håndverkere o.l.",
            "Kontor og kundeserviceyrker",
            "Prosess og maskinoperatører, transportarbeidere mv.",
            "Salgs , service og omsorgsyrker",
            "Ukjent",
            "Yrker innen jordbruk, skogbruk og fiske",
            "Yrker med kortere høyskole og universitetsutdanning og teknikere",
            "Yrker uten krav til utdanning",
            "Administrative ledere og politikere"
           ],
           "type": "scatterpolar"
          },
          {
           "hoverlabel": {
            "namelength": 0
           },
           "hovertemplate": "arbeidssted_fylke_navn=Telemark<br>ansettelses_aar_mnd=201705<br>andel_fylke=%{r}<br>yrkesfelt_navn=%{theta}",
           "legendgroup": "arbeidssted_fylke_navn=Telemark",
           "line": {
            "color": "#FF9100",
            "dash": "solid"
           },
           "mode": "lines",
           "name": "arbeidssted_fylke_navn=Telemark",
           "r": [
            4.556835252879319,
            4.9824737105658485,
            11.86780170255383,
            6.009013520280421,
            9.639459188783174,
            28.69303955933901,
            2.203304957436154,
            1.3770655983975963,
            12.769153730595894,
            17.901852779168753,
            4.556835252879319
           ],
           "showlegend": true,
           "subplot": "polar",
           "theta": [
            "Administrative ledere og politikere",
            "Akademiske yrker",
            "Håndverkere o.l.",
            "Kontor og kundeserviceyrker",
            "Prosess og maskinoperatører, transportarbeidere mv.",
            "Salgs , service og omsorgsyrker",
            "Ukjent",
            "Yrker innen jordbruk, skogbruk og fiske",
            "Yrker med kortere høyskole og universitetsutdanning og teknikere",
            "Yrker uten krav til utdanning",
            "Administrative ledere og politikere"
           ],
           "type": "scatterpolar"
          }
         ],
         "name": "201705"
        },
        {
         "data": [
          {
           "hoverlabel": {
            "namelength": 0
           },
           "hovertemplate": "arbeidssted_fylke_navn=I alt<br>ansettelses_aar_mnd=201706<br>andel_fylke=%{r}<br>yrkesfelt_navn=%{theta}",
           "legendgroup": "arbeidssted_fylke_navn=I alt",
           "line": {
            "color": "#C30000",
            "dash": "solid"
           },
           "mode": "lines",
           "name": "arbeidssted_fylke_navn=I alt",
           "r": [
            2.352166345203933,
            6.199638438430366,
            9.794420661429177,
            7.3562322327434995,
            7.910671442684427,
            33.3120518283053,
            2.7849649527214564,
            2.4549896168657046,
            14.451710024932963,
            13.383154456683176,
            2.352166345203933
           ],
           "showlegend": true,
           "subplot": "polar",
           "theta": [
            "Administrative ledere og politikere",
            "Akademiske yrker",
            "Håndverkere o.l.",
            "Kontor og kundeserviceyrker",
            "Prosess og maskinoperatører, transportarbeidere mv.",
            "Salgs , service og omsorgsyrker",
            "Ukjent",
            "Yrker innen jordbruk, skogbruk og fiske",
            "Yrker med kortere høyskole og universitetsutdanning og teknikere",
            "Yrker uten krav til utdanning",
            "Administrative ledere og politikere"
           ],
           "type": "scatterpolar"
          },
          {
           "hoverlabel": {
            "namelength": 0
           },
           "hovertemplate": "arbeidssted_fylke_navn=Telemark<br>ansettelses_aar_mnd=201706<br>andel_fylke=%{r}<br>yrkesfelt_navn=%{theta}",
           "legendgroup": "arbeidssted_fylke_navn=Telemark",
           "line": {
            "color": "#FF9100",
            "dash": "solid"
           },
           "mode": "lines",
           "name": "arbeidssted_fylke_navn=Telemark",
           "r": [
            3.235747303543914,
            4.564714946070878,
            10.785824345146379,
            6.1055469953775034,
            7.261171032357473,
            36.325115562403695,
            4.564714946070878,
            1.3289676425269645,
            10.227272727272727,
            15.600924499229585,
            3.235747303543914
           ],
           "showlegend": true,
           "subplot": "polar",
           "theta": [
            "Administrative ledere og politikere",
            "Akademiske yrker",
            "Håndverkere o.l.",
            "Kontor og kundeserviceyrker",
            "Prosess og maskinoperatører, transportarbeidere mv.",
            "Salgs , service og omsorgsyrker",
            "Ukjent",
            "Yrker innen jordbruk, skogbruk og fiske",
            "Yrker med kortere høyskole og universitetsutdanning og teknikere",
            "Yrker uten krav til utdanning",
            "Administrative ledere og politikere"
           ],
           "type": "scatterpolar"
          }
         ],
         "name": "201706"
        },
        {
         "data": [
          {
           "hoverlabel": {
            "namelength": 0
           },
           "hovertemplate": "arbeidssted_fylke_navn=I alt<br>ansettelses_aar_mnd=201707<br>andel_fylke=%{r}<br>yrkesfelt_navn=%{theta}",
           "legendgroup": "arbeidssted_fylke_navn=I alt",
           "line": {
            "color": "#C30000",
            "dash": "solid"
           },
           "mode": "lines",
           "name": "arbeidssted_fylke_navn=I alt",
           "r": [
            2.8032227172419537,
            6.063413415497356,
            10.454053378856644,
            6.6983803139442895,
            8.91139609443311,
            30.077653328892033,
            3.3778157138693428,
            3.6276387558812506,
            13.04076279302161,
            14.94566348836241,
            2.8032227172419537
           ],
           "showlegend": true,
           "subplot": "polar",
           "theta": [
            "Administrative ledere og politikere",
            "Akademiske yrker",
            "Håndverkere o.l.",
            "Kontor og kundeserviceyrker",
            "Prosess og maskinoperatører, transportarbeidere mv.",
            "Salgs , service og omsorgsyrker",
            "Ukjent",
            "Yrker innen jordbruk, skogbruk og fiske",
            "Yrker med kortere høyskole og universitetsutdanning og teknikere",
            "Yrker uten krav til utdanning",
            "Administrative ledere og politikere"
           ],
           "type": "scatterpolar"
          },
          {
           "hoverlabel": {
            "namelength": 0
           },
           "hovertemplate": "arbeidssted_fylke_navn=Telemark<br>ansettelses_aar_mnd=201707<br>andel_fylke=%{r}<br>yrkesfelt_navn=%{theta}",
           "legendgroup": "arbeidssted_fylke_navn=Telemark",
           "line": {
            "color": "#FF9100",
            "dash": "solid"
           },
           "mode": "lines",
           "name": "arbeidssted_fylke_navn=Telemark",
           "r": [
            3.9964736996767556,
            5.0837496326770495,
            10.373200117543345,
            6.523655598001763,
            8.727593300029385,
            30.238025271818984,
            2.938583602703497,
            1.5574493094328534,
            9.5797825448134,
            20.981486923302967,
            3.9964736996767556
           ],
           "showlegend": true,
           "subplot": "polar",
           "theta": [
            "Administrative ledere og politikere",
            "Akademiske yrker",
            "Håndverkere o.l.",
            "Kontor og kundeserviceyrker",
            "Prosess og maskinoperatører, transportarbeidere mv.",
            "Salgs , service og omsorgsyrker",
            "Ukjent",
            "Yrker innen jordbruk, skogbruk og fiske",
            "Yrker med kortere høyskole og universitetsutdanning og teknikere",
            "Yrker uten krav til utdanning",
            "Administrative ledere og politikere"
           ],
           "type": "scatterpolar"
          }
         ],
         "name": "201707"
        },
        {
         "data": [
          {
           "hoverlabel": {
            "namelength": 0
           },
           "hovertemplate": "arbeidssted_fylke_navn=I alt<br>ansettelses_aar_mnd=201708<br>andel_fylke=%{r}<br>yrkesfelt_navn=%{theta}",
           "legendgroup": "arbeidssted_fylke_navn=I alt",
           "line": {
            "color": "#C30000",
            "dash": "solid"
           },
           "mode": "lines",
           "name": "arbeidssted_fylke_navn=I alt",
           "r": [
            3.432066284702523,
            11.894089115268798,
            9.056166185574723,
            4.516237632404192,
            5.509385968740453,
            29.969638214702087,
            2.6851788352795216,
            1.319833664798409,
            24.558133155443613,
            7.05927094308568,
            3.432066284702523
           ],
           "showlegend": true,
           "subplot": "polar",
           "theta": [
            "Administrative ledere og politikere",
            "Akademiske yrker",
            "Håndverkere o.l.",
            "Kontor og kundeserviceyrker",
            "Prosess og maskinoperatører, transportarbeidere mv.",
            "Salgs , service og omsorgsyrker",
            "Ukjent",
            "Yrker innen jordbruk, skogbruk og fiske",
            "Yrker med kortere høyskole og universitetsutdanning og teknikere",
            "Yrker uten krav til utdanning",
            "Administrative ledere og politikere"
           ],
           "type": "scatterpolar"
          },
          {
           "hoverlabel": {
            "namelength": 0
           },
           "hovertemplate": "arbeidssted_fylke_navn=Telemark<br>ansettelses_aar_mnd=201708<br>andel_fylke=%{r}<br>yrkesfelt_navn=%{theta}",
           "legendgroup": "arbeidssted_fylke_navn=Telemark",
           "line": {
            "color": "#FF9100",
            "dash": "solid"
           },
           "mode": "lines",
           "name": "arbeidssted_fylke_navn=Telemark",
           "r": [
            3.8341321108564284,
            10.731402375494895,
            9.397791206501354,
            4.771827464055011,
            6.81391956657637,
            29.589497812044176,
            2.542196290893936,
            0.7501562825588665,
            22.942279641592,
            8.626797249426964,
            3.8341321108564284
           ],
           "showlegend": true,
           "subplot": "polar",
           "theta": [
            "Administrative ledere og politikere",
            "Akademiske yrker",
            "Håndverkere o.l.",
            "Kontor og kundeserviceyrker",
            "Prosess og maskinoperatører, transportarbeidere mv.",
            "Salgs , service og omsorgsyrker",
            "Ukjent",
            "Yrker innen jordbruk, skogbruk og fiske",
            "Yrker med kortere høyskole og universitetsutdanning og teknikere",
            "Yrker uten krav til utdanning",
            "Administrative ledere og politikere"
           ],
           "type": "scatterpolar"
          }
         ],
         "name": "201708"
        },
        {
         "data": [
          {
           "hoverlabel": {
            "namelength": 0
           },
           "hovertemplate": "arbeidssted_fylke_navn=I alt<br>ansettelses_aar_mnd=201709<br>andel_fylke=%{r}<br>yrkesfelt_navn=%{theta}",
           "legendgroup": "arbeidssted_fylke_navn=I alt",
           "line": {
            "color": "#C30000",
            "dash": "solid"
           },
           "mode": "lines",
           "name": "arbeidssted_fylke_navn=I alt",
           "r": [
            3.700578688041774,
            11.21795126921332,
            9.708745592180149,
            5.529774176344634,
            6.783465601095289,
            31.768938700459287,
            3.1155226898248016,
            1.8084996298625318,
            17.343925367550487,
            9.022598285427728,
            3.700578688041774
           ],
           "showlegend": true,
           "subplot": "polar",
           "theta": [
            "Administrative ledere og politikere",
            "Akademiske yrker",
            "Håndverkere o.l.",
            "Kontor og kundeserviceyrker",
            "Prosess og maskinoperatører, transportarbeidere mv.",
            "Salgs , service og omsorgsyrker",
            "Ukjent",
            "Yrker innen jordbruk, skogbruk og fiske",
            "Yrker med kortere høyskole og universitetsutdanning og teknikere",
            "Yrker uten krav til utdanning",
            "Administrative ledere og politikere"
           ],
           "type": "scatterpolar"
          },
          {
           "hoverlabel": {
            "namelength": 0
           },
           "hovertemplate": "arbeidssted_fylke_navn=Telemark<br>ansettelses_aar_mnd=201709<br>andel_fylke=%{r}<br>yrkesfelt_navn=%{theta}",
           "legendgroup": "arbeidssted_fylke_navn=Telemark",
           "line": {
            "color": "#FF9100",
            "dash": "solid"
           },
           "mode": "lines",
           "name": "arbeidssted_fylke_navn=Telemark",
           "r": [
            5.498652291105121,
            8.544474393530997,
            14.25876010781671,
            4.177897574123989,
            7.3584905660377355,
            30.37735849056604,
            3.234501347708895,
            1.2398921832884098,
            16.253369272237197,
            9.056603773584905,
            5.498652291105121
           ],
           "showlegend": true,
           "subplot": "polar",
           "theta": [
            "Administrative ledere og politikere",
            "Akademiske yrker",
            "Håndverkere o.l.",
            "Kontor og kundeserviceyrker",
            "Prosess og maskinoperatører, transportarbeidere mv.",
            "Salgs , service og omsorgsyrker",
            "Ukjent",
            "Yrker innen jordbruk, skogbruk og fiske",
            "Yrker med kortere høyskole og universitetsutdanning og teknikere",
            "Yrker uten krav til utdanning",
            "Administrative ledere og politikere"
           ],
           "type": "scatterpolar"
          }
         ],
         "name": "201709"
        },
        {
         "data": [
          {
           "hoverlabel": {
            "namelength": 0
           },
           "hovertemplate": "arbeidssted_fylke_navn=I alt<br>ansettelses_aar_mnd=201710<br>andel_fylke=%{r}<br>yrkesfelt_navn=%{theta}",
           "legendgroup": "arbeidssted_fylke_navn=I alt",
           "line": {
            "color": "#C30000",
            "dash": "solid"
           },
           "mode": "lines",
           "name": "arbeidssted_fylke_navn=I alt",
           "r": [
            4.048732574590216,
            8.372306777324214,
            11.201823867066764,
            6.098780784515152,
            7.734313751993728,
            30.027123714777467,
            2.934047020446415,
            1.5733556811116218,
            19.6588359330648,
            8.350679895109621,
            4.048732574590216
           ],
           "showlegend": true,
           "subplot": "polar",
           "theta": [
            "Administrative ledere og politikere",
            "Akademiske yrker",
            "Håndverkere o.l.",
            "Kontor og kundeserviceyrker",
            "Prosess og maskinoperatører, transportarbeidere mv.",
            "Salgs , service og omsorgsyrker",
            "Ukjent",
            "Yrker innen jordbruk, skogbruk og fiske",
            "Yrker med kortere høyskole og universitetsutdanning og teknikere",
            "Yrker uten krav til utdanning",
            "Administrative ledere og politikere"
           ],
           "type": "scatterpolar"
          },
          {
           "hoverlabel": {
            "namelength": 0
           },
           "hovertemplate": "arbeidssted_fylke_navn=Telemark<br>ansettelses_aar_mnd=201710<br>andel_fylke=%{r}<br>yrkesfelt_navn=%{theta}",
           "legendgroup": "arbeidssted_fylke_navn=Telemark",
           "line": {
            "color": "#FF9100",
            "dash": "solid"
           },
           "mode": "lines",
           "name": "arbeidssted_fylke_navn=Telemark",
           "r": [
            4.4507332132750195,
            7.074864934396707,
            13.815281708258297,
            4.502186776434268,
            12.503215847697453,
            29.07126318497556,
            3.190120915873424,
            1.3120658605608437,
            16.182145613583742,
            7.8981219449446876,
            4.4507332132750195
           ],
           "showlegend": true,
           "subplot": "polar",
           "theta": [
            "Administrative ledere og politikere",
            "Akademiske yrker",
            "Håndverkere o.l.",
            "Kontor og kundeserviceyrker",
            "Prosess og maskinoperatører, transportarbeidere mv.",
            "Salgs , service og omsorgsyrker",
            "Ukjent",
            "Yrker innen jordbruk, skogbruk og fiske",
            "Yrker med kortere høyskole og universitetsutdanning og teknikere",
            "Yrker uten krav til utdanning",
            "Administrative ledere og politikere"
           ],
           "type": "scatterpolar"
          }
         ],
         "name": "201710"
        },
        {
         "data": [
          {
           "hoverlabel": {
            "namelength": 0
           },
           "hovertemplate": "arbeidssted_fylke_navn=I alt<br>ansettelses_aar_mnd=201711<br>andel_fylke=%{r}<br>yrkesfelt_navn=%{theta}",
           "legendgroup": "arbeidssted_fylke_navn=I alt",
           "line": {
            "color": "#C30000",
            "dash": "solid"
           },
           "mode": "lines",
           "name": "arbeidssted_fylke_navn=I alt",
           "r": [
            4.022625258444299,
            8.512324980984927,
            9.685367499758964,
            6.444770587164022,
            7.475333968954546,
            32.54202063269307,
            2.6278294963951705,
            1.941144332437036,
            17.46172881828018,
            9.286854424887784,
            4.022625258444299
           ],
           "showlegend": true,
           "subplot": "polar",
           "theta": [
            "Administrative ledere og politikere",
            "Akademiske yrker",
            "Håndverkere o.l.",
            "Kontor og kundeserviceyrker",
            "Prosess og maskinoperatører, transportarbeidere mv.",
            "Salgs , service og omsorgsyrker",
            "Ukjent",
            "Yrker innen jordbruk, skogbruk og fiske",
            "Yrker med kortere høyskole og universitetsutdanning og teknikere",
            "Yrker uten krav til utdanning",
            "Administrative ledere og politikere"
           ],
           "type": "scatterpolar"
          },
          {
           "hoverlabel": {
            "namelength": 0
           },
           "hovertemplate": "arbeidssted_fylke_navn=Telemark<br>ansettelses_aar_mnd=201711<br>andel_fylke=%{r}<br>yrkesfelt_navn=%{theta}",
           "legendgroup": "arbeidssted_fylke_navn=Telemark",
           "line": {
            "color": "#FF9100",
            "dash": "solid"
           },
           "mode": "lines",
           "name": "arbeidssted_fylke_navn=Telemark",
           "r": [
            4.896848787123101,
            8.66016776241215,
            7.050555429607798,
            3.1738834731353434,
            6.053049195193833,
            35.52482430287917,
            4.602131036046248,
            0.6347766946270686,
            20.856948537746543,
            8.546814781228747,
            4.896848787123101
           ],
           "showlegend": true,
           "subplot": "polar",
           "theta": [
            "Administrative ledere og politikere",
            "Akademiske yrker",
            "Håndverkere o.l.",
            "Kontor og kundeserviceyrker",
            "Prosess og maskinoperatører, transportarbeidere mv.",
            "Salgs , service og omsorgsyrker",
            "Ukjent",
            "Yrker innen jordbruk, skogbruk og fiske",
            "Yrker med kortere høyskole og universitetsutdanning og teknikere",
            "Yrker uten krav til utdanning",
            "Administrative ledere og politikere"
           ],
           "type": "scatterpolar"
          }
         ],
         "name": "201711"
        },
        {
         "data": [
          {
           "hoverlabel": {
            "namelength": 0
           },
           "hovertemplate": "arbeidssted_fylke_navn=I alt<br>ansettelses_aar_mnd=201712<br>andel_fylke=%{r}<br>yrkesfelt_navn=%{theta}",
           "legendgroup": "arbeidssted_fylke_navn=I alt",
           "line": {
            "color": "#C30000",
            "dash": "solid"
           },
           "mode": "lines",
           "name": "arbeidssted_fylke_navn=I alt",
           "r": [
            4.58762601085632,
            7.6797385620915035,
            7.976071784646062,
            6.264539714190761,
            8.207322477013404,
            32.800210479672096,
            2.5894538606403015,
            3.2887448764816662,
            16.508806912595546,
            10.097485321812341,
            4.58762601085632
           ],
           "showlegend": true,
           "subplot": "polar",
           "theta": [
            "Administrative ledere og politikere",
            "Akademiske yrker",
            "Håndverkere o.l.",
            "Kontor og kundeserviceyrker",
            "Prosess og maskinoperatører, transportarbeidere mv.",
            "Salgs , service og omsorgsyrker",
            "Ukjent",
            "Yrker innen jordbruk, skogbruk og fiske",
            "Yrker med kortere høyskole og universitetsutdanning og teknikere",
            "Yrker uten krav til utdanning",
            "Administrative ledere og politikere"
           ],
           "type": "scatterpolar"
          },
          {
           "hoverlabel": {
            "namelength": 0
           },
           "hovertemplate": "arbeidssted_fylke_navn=Telemark<br>ansettelses_aar_mnd=201712<br>andel_fylke=%{r}<br>yrkesfelt_navn=%{theta}",
           "legendgroup": "arbeidssted_fylke_navn=Telemark",
           "line": {
            "color": "#FF9100",
            "dash": "solid"
           },
           "mode": "lines",
           "name": "arbeidssted_fylke_navn=Telemark",
           "r": [
            6.8379160636758325,
            5.065123010130246,
            10.89001447178003,
            4.667149059334298,
            10.383502170767004,
            32.45296671490593,
            2.2431259044862517,
            2.6410998552822,
            13.024602026049203,
            11.794500723589001,
            6.8379160636758325
           ],
           "showlegend": true,
           "subplot": "polar",
           "theta": [
            "Administrative ledere og politikere",
            "Akademiske yrker",
            "Håndverkere o.l.",
            "Kontor og kundeserviceyrker",
            "Prosess og maskinoperatører, transportarbeidere mv.",
            "Salgs , service og omsorgsyrker",
            "Ukjent",
            "Yrker innen jordbruk, skogbruk og fiske",
            "Yrker med kortere høyskole og universitetsutdanning og teknikere",
            "Yrker uten krav til utdanning",
            "Administrative ledere og politikere"
           ],
           "type": "scatterpolar"
          }
         ],
         "name": "201712"
        }
       ],
       "layout": {
        "height": 600,
        "legend": {
         "tracegroupgap": 0
        },
        "margin": {
         "t": 60
        },
        "polar": {
         "angularaxis": {
          "direction": "clockwise",
          "rotation": 90
         },
         "domain": {
          "x": [
           0,
           0.98
          ],
          "y": [
           0,
           1
          ]
         }
        },
        "sliders": [
         {
          "active": 0,
          "currentvalue": {
           "prefix": "ansettelses_aar_mnd="
          },
          "len": 0.9,
          "pad": {
           "b": 10,
           "t": 60
          },
          "steps": [
           {
            "args": [
             [
              "201701"
             ],
             {
              "frame": {
               "duration": 0,
               "redraw": true
              },
              "fromcurrent": true,
              "mode": "immediate",
              "transition": {
               "duration": 0,
               "easing": "linear"
              }
             }
            ],
            "label": "201701",
            "method": "animate"
           },
           {
            "args": [
             [
              "201702"
             ],
             {
              "frame": {
               "duration": 0,
               "redraw": true
              },
              "fromcurrent": true,
              "mode": "immediate",
              "transition": {
               "duration": 0,
               "easing": "linear"
              }
             }
            ],
            "label": "201702",
            "method": "animate"
           },
           {
            "args": [
             [
              "201703"
             ],
             {
              "frame": {
               "duration": 0,
               "redraw": true
              },
              "fromcurrent": true,
              "mode": "immediate",
              "transition": {
               "duration": 0,
               "easing": "linear"
              }
             }
            ],
            "label": "201703",
            "method": "animate"
           },
           {
            "args": [
             [
              "201704"
             ],
             {
              "frame": {
               "duration": 0,
               "redraw": true
              },
              "fromcurrent": true,
              "mode": "immediate",
              "transition": {
               "duration": 0,
               "easing": "linear"
              }
             }
            ],
            "label": "201704",
            "method": "animate"
           },
           {
            "args": [
             [
              "201705"
             ],
             {
              "frame": {
               "duration": 0,
               "redraw": true
              },
              "fromcurrent": true,
              "mode": "immediate",
              "transition": {
               "duration": 0,
               "easing": "linear"
              }
             }
            ],
            "label": "201705",
            "method": "animate"
           },
           {
            "args": [
             [
              "201706"
             ],
             {
              "frame": {
               "duration": 0,
               "redraw": true
              },
              "fromcurrent": true,
              "mode": "immediate",
              "transition": {
               "duration": 0,
               "easing": "linear"
              }
             }
            ],
            "label": "201706",
            "method": "animate"
           },
           {
            "args": [
             [
              "201707"
             ],
             {
              "frame": {
               "duration": 0,
               "redraw": true
              },
              "fromcurrent": true,
              "mode": "immediate",
              "transition": {
               "duration": 0,
               "easing": "linear"
              }
             }
            ],
            "label": "201707",
            "method": "animate"
           },
           {
            "args": [
             [
              "201708"
             ],
             {
              "frame": {
               "duration": 0,
               "redraw": true
              },
              "fromcurrent": true,
              "mode": "immediate",
              "transition": {
               "duration": 0,
               "easing": "linear"
              }
             }
            ],
            "label": "201708",
            "method": "animate"
           },
           {
            "args": [
             [
              "201709"
             ],
             {
              "frame": {
               "duration": 0,
               "redraw": true
              },
              "fromcurrent": true,
              "mode": "immediate",
              "transition": {
               "duration": 0,
               "easing": "linear"
              }
             }
            ],
            "label": "201709",
            "method": "animate"
           },
           {
            "args": [
             [
              "201710"
             ],
             {
              "frame": {
               "duration": 0,
               "redraw": true
              },
              "fromcurrent": true,
              "mode": "immediate",
              "transition": {
               "duration": 0,
               "easing": "linear"
              }
             }
            ],
            "label": "201710",
            "method": "animate"
           },
           {
            "args": [
             [
              "201711"
             ],
             {
              "frame": {
               "duration": 0,
               "redraw": true
              },
              "fromcurrent": true,
              "mode": "immediate",
              "transition": {
               "duration": 0,
               "easing": "linear"
              }
             }
            ],
            "label": "201711",
            "method": "animate"
           },
           {
            "args": [
             [
              "201712"
             ],
             {
              "frame": {
               "duration": 0,
               "redraw": true
              },
              "fromcurrent": true,
              "mode": "immediate",
              "transition": {
               "duration": 0,
               "easing": "linear"
              }
             }
            ],
            "label": "201712",
            "method": "animate"
           }
          ],
          "x": 0.1,
          "xanchor": "left",
          "y": 0,
          "yanchor": "top"
         }
        ],
        "template": {
         "data": {
          "bar": [
           {
            "error_x": {
             "color": "#2a3f5f"
            },
            "error_y": {
             "color": "#2a3f5f"
            },
            "marker": {
             "line": {
              "color": "white",
              "width": 0.5
             }
            },
            "type": "bar"
           }
          ],
          "barpolar": [
           {
            "marker": {
             "line": {
              "color": "white",
              "width": 0.5
             }
            },
            "type": "barpolar"
           }
          ],
          "carpet": [
           {
            "aaxis": {
             "endlinecolor": "#2a3f5f",
             "gridcolor": "#C8D4E3",
             "linecolor": "#C8D4E3",
             "minorgridcolor": "#C8D4E3",
             "startlinecolor": "#2a3f5f"
            },
            "baxis": {
             "endlinecolor": "#2a3f5f",
             "gridcolor": "#C8D4E3",
             "linecolor": "#C8D4E3",
             "minorgridcolor": "#C8D4E3",
             "startlinecolor": "#2a3f5f"
            },
            "type": "carpet"
           }
          ],
          "choropleth": [
           {
            "colorbar": {
             "outlinewidth": 0,
             "ticks": ""
            },
            "type": "choropleth"
           }
          ],
          "contour": [
           {
            "colorbar": {
             "outlinewidth": 0,
             "ticks": ""
            },
            "colorscale": [
             [
              0,
              "#0d0887"
             ],
             [
              0.1111111111111111,
              "#46039f"
             ],
             [
              0.2222222222222222,
              "#7201a8"
             ],
             [
              0.3333333333333333,
              "#9c179e"
             ],
             [
              0.4444444444444444,
              "#bd3786"
             ],
             [
              0.5555555555555556,
              "#d8576b"
             ],
             [
              0.6666666666666666,
              "#ed7953"
             ],
             [
              0.7777777777777778,
              "#fb9f3a"
             ],
             [
              0.8888888888888888,
              "#fdca26"
             ],
             [
              1,
              "#f0f921"
             ]
            ],
            "type": "contour"
           }
          ],
          "contourcarpet": [
           {
            "colorbar": {
             "outlinewidth": 0,
             "ticks": ""
            },
            "type": "contourcarpet"
           }
          ],
          "heatmap": [
           {
            "colorbar": {
             "outlinewidth": 0,
             "ticks": ""
            },
            "colorscale": [
             [
              0,
              "#0d0887"
             ],
             [
              0.1111111111111111,
              "#46039f"
             ],
             [
              0.2222222222222222,
              "#7201a8"
             ],
             [
              0.3333333333333333,
              "#9c179e"
             ],
             [
              0.4444444444444444,
              "#bd3786"
             ],
             [
              0.5555555555555556,
              "#d8576b"
             ],
             [
              0.6666666666666666,
              "#ed7953"
             ],
             [
              0.7777777777777778,
              "#fb9f3a"
             ],
             [
              0.8888888888888888,
              "#fdca26"
             ],
             [
              1,
              "#f0f921"
             ]
            ],
            "type": "heatmap"
           }
          ],
          "heatmapgl": [
           {
            "colorbar": {
             "outlinewidth": 0,
             "ticks": ""
            },
            "colorscale": [
             [
              0,
              "#0d0887"
             ],
             [
              0.1111111111111111,
              "#46039f"
             ],
             [
              0.2222222222222222,
              "#7201a8"
             ],
             [
              0.3333333333333333,
              "#9c179e"
             ],
             [
              0.4444444444444444,
              "#bd3786"
             ],
             [
              0.5555555555555556,
              "#d8576b"
             ],
             [
              0.6666666666666666,
              "#ed7953"
             ],
             [
              0.7777777777777778,
              "#fb9f3a"
             ],
             [
              0.8888888888888888,
              "#fdca26"
             ],
             [
              1,
              "#f0f921"
             ]
            ],
            "type": "heatmapgl"
           }
          ],
          "histogram": [
           {
            "marker": {
             "colorbar": {
              "outlinewidth": 0,
              "ticks": ""
             }
            },
            "type": "histogram"
           }
          ],
          "histogram2d": [
           {
            "colorbar": {
             "outlinewidth": 0,
             "ticks": ""
            },
            "colorscale": [
             [
              0,
              "#0d0887"
             ],
             [
              0.1111111111111111,
              "#46039f"
             ],
             [
              0.2222222222222222,
              "#7201a8"
             ],
             [
              0.3333333333333333,
              "#9c179e"
             ],
             [
              0.4444444444444444,
              "#bd3786"
             ],
             [
              0.5555555555555556,
              "#d8576b"
             ],
             [
              0.6666666666666666,
              "#ed7953"
             ],
             [
              0.7777777777777778,
              "#fb9f3a"
             ],
             [
              0.8888888888888888,
              "#fdca26"
             ],
             [
              1,
              "#f0f921"
             ]
            ],
            "type": "histogram2d"
           }
          ],
          "histogram2dcontour": [
           {
            "colorbar": {
             "outlinewidth": 0,
             "ticks": ""
            },
            "colorscale": [
             [
              0,
              "#0d0887"
             ],
             [
              0.1111111111111111,
              "#46039f"
             ],
             [
              0.2222222222222222,
              "#7201a8"
             ],
             [
              0.3333333333333333,
              "#9c179e"
             ],
             [
              0.4444444444444444,
              "#bd3786"
             ],
             [
              0.5555555555555556,
              "#d8576b"
             ],
             [
              0.6666666666666666,
              "#ed7953"
             ],
             [
              0.7777777777777778,
              "#fb9f3a"
             ],
             [
              0.8888888888888888,
              "#fdca26"
             ],
             [
              1,
              "#f0f921"
             ]
            ],
            "type": "histogram2dcontour"
           }
          ],
          "mesh3d": [
           {
            "colorbar": {
             "outlinewidth": 0,
             "ticks": ""
            },
            "type": "mesh3d"
           }
          ],
          "parcoords": [
           {
            "line": {
             "colorbar": {
              "outlinewidth": 0,
              "ticks": ""
             }
            },
            "type": "parcoords"
           }
          ],
          "scatter": [
           {
            "marker": {
             "colorbar": {
              "outlinewidth": 0,
              "ticks": ""
             }
            },
            "type": "scatter"
           }
          ],
          "scatter3d": [
           {
            "line": {
             "colorbar": {
              "outlinewidth": 0,
              "ticks": ""
             }
            },
            "marker": {
             "colorbar": {
              "outlinewidth": 0,
              "ticks": ""
             }
            },
            "type": "scatter3d"
           }
          ],
          "scattercarpet": [
           {
            "marker": {
             "colorbar": {
              "outlinewidth": 0,
              "ticks": ""
             }
            },
            "type": "scattercarpet"
           }
          ],
          "scattergeo": [
           {
            "marker": {
             "colorbar": {
              "outlinewidth": 0,
              "ticks": ""
             }
            },
            "type": "scattergeo"
           }
          ],
          "scattergl": [
           {
            "marker": {
             "colorbar": {
              "outlinewidth": 0,
              "ticks": ""
             }
            },
            "type": "scattergl"
           }
          ],
          "scattermapbox": [
           {
            "marker": {
             "colorbar": {
              "outlinewidth": 0,
              "ticks": ""
             }
            },
            "type": "scattermapbox"
           }
          ],
          "scatterpolar": [
           {
            "marker": {
             "colorbar": {
              "outlinewidth": 0,
              "ticks": ""
             }
            },
            "type": "scatterpolar"
           }
          ],
          "scatterpolargl": [
           {
            "marker": {
             "colorbar": {
              "outlinewidth": 0,
              "ticks": ""
             }
            },
            "type": "scatterpolargl"
           }
          ],
          "scatterternary": [
           {
            "marker": {
             "colorbar": {
              "outlinewidth": 0,
              "ticks": ""
             }
            },
            "type": "scatterternary"
           }
          ],
          "surface": [
           {
            "colorbar": {
             "outlinewidth": 0,
             "ticks": ""
            },
            "colorscale": [
             [
              0,
              "#0d0887"
             ],
             [
              0.1111111111111111,
              "#46039f"
             ],
             [
              0.2222222222222222,
              "#7201a8"
             ],
             [
              0.3333333333333333,
              "#9c179e"
             ],
             [
              0.4444444444444444,
              "#bd3786"
             ],
             [
              0.5555555555555556,
              "#d8576b"
             ],
             [
              0.6666666666666666,
              "#ed7953"
             ],
             [
              0.7777777777777778,
              "#fb9f3a"
             ],
             [
              0.8888888888888888,
              "#fdca26"
             ],
             [
              1,
              "#f0f921"
             ]
            ],
            "type": "surface"
           }
          ],
          "table": [
           {
            "cells": {
             "fill": {
              "color": "#EBF0F8"
             },
             "line": {
              "color": "white"
             }
            },
            "header": {
             "fill": {
              "color": "#C8D4E3"
             },
             "line": {
              "color": "white"
             }
            },
            "type": "table"
           }
          ]
         },
         "layout": {
          "annotationdefaults": {
           "arrowcolor": "#2a3f5f",
           "arrowhead": 0,
           "arrowwidth": 1
          },
          "colorscale": {
           "diverging": [
            [
             0,
             "#c30000"
            ],
            [
             0.1,
             "#a73c46"
            ],
            [
             0.2,
             "#8b7b8f"
            ],
            [
             0.3,
             "#6fb7d5"
            ],
            [
             0.4,
             "#5bc1e8"
            ],
            [
             0.5,
             "#4cb1e2"
            ],
            [
             0.6,
             "#3da3dc"
            ],
            [
             0.7,
             "#2d93d6"
            ],
            [
             0.8,
             "#1e85d1"
            ],
            [
             0.9,
             "#0f76cb"
            ],
            [
             1,
             "#0067c5"
            ]
           ],
           "sequential": [
            [
             0,
             "#c30000"
            ],
            [
             0.1,
             "#a73c46"
            ],
            [
             0.2,
             "#8b7b8f"
            ],
            [
             0.3,
             "#6fb7d5"
            ],
            [
             0.4,
             "#5bc1e8"
            ],
            [
             0.5,
             "#4cb1e2"
            ],
            [
             0.6,
             "#3da3dc"
            ],
            [
             0.7,
             "#2d93d6"
            ],
            [
             0.8,
             "#1e85d1"
            ],
            [
             0.9,
             "#0f76cb"
            ],
            [
             1,
             "#0067c5"
            ]
           ],
           "sequentialminus": [
            [
             0,
             "#c30000"
            ],
            [
             0.1,
             "#a73c46"
            ],
            [
             0.2,
             "#8b7b8f"
            ],
            [
             0.3,
             "#6fb7d5"
            ],
            [
             0.4,
             "#5bc1e8"
            ],
            [
             0.5,
             "#4cb1e2"
            ],
            [
             0.6,
             "#3da3dc"
            ],
            [
             0.7,
             "#2d93d6"
            ],
            [
             0.8,
             "#1e85d1"
            ],
            [
             0.9,
             "#0f76cb"
            ],
            [
             1,
             "#0067c5"
            ]
           ]
          },
          "colorway": [
           "#C30000",
           "#FF9100",
           "#A2AD00",
           "#06893A",
           "#634689",
           "#005B82",
           "#0067C5",
           "#66CBEC",
           "#3E3832",
           "#B7B1A9"
          ],
          "font": {
           "color": "black",
           "family": "'Open Sans', 'Roboto', 'Helvetica Neue', 'Arial', 'sans-serif'"
          },
          "geo": {
           "bgcolor": "white",
           "lakecolor": "white",
           "landcolor": "white",
           "showlakes": true,
           "showland": true,
           "subunitcolor": "#C8D4E3"
          },
          "hoverlabel": {
           "align": "left"
          },
          "hovermode": "closest",
          "mapbox": {
           "style": "light"
          },
          "paper_bgcolor": "white",
          "plot_bgcolor": "white",
          "polar": {
           "angularaxis": {
            "gridcolor": "#EBF0F8",
            "linecolor": "#EBF0F8",
            "ticks": ""
           },
           "bgcolor": "white",
           "radialaxis": {
            "gridcolor": "#EBF0F8",
            "linecolor": "#EBF0F8",
            "ticks": ""
           }
          },
          "scene": {
           "xaxis": {
            "backgroundcolor": "white",
            "gridcolor": "#DFE8F3",
            "gridwidth": 2,
            "linecolor": "#EBF0F8",
            "showbackground": true,
            "ticks": "",
            "zerolinecolor": "#EBF0F8"
           },
           "yaxis": {
            "backgroundcolor": "white",
            "gridcolor": "#DFE8F3",
            "gridwidth": 2,
            "linecolor": "#EBF0F8",
            "showbackground": true,
            "ticks": "",
            "zerolinecolor": "#EBF0F8"
           },
           "zaxis": {
            "backgroundcolor": "white",
            "gridcolor": "#DFE8F3",
            "gridwidth": 2,
            "linecolor": "#EBF0F8",
            "showbackground": true,
            "ticks": "",
            "zerolinecolor": "#EBF0F8"
           }
          },
          "shapedefaults": {
           "line": {
            "color": "#2a3f5f"
           }
          },
          "ternary": {
           "aaxis": {
            "gridcolor": "#DFE8F3",
            "linecolor": "#A2B1C6",
            "ticks": ""
           },
           "baxis": {
            "gridcolor": "#DFE8F3",
            "linecolor": "#A2B1C6",
            "ticks": ""
           },
           "bgcolor": "white",
           "caxis": {
            "gridcolor": "#DFE8F3",
            "linecolor": "#A2B1C6",
            "ticks": ""
           }
          },
          "title": {
           "x": 0.05
          },
          "xaxis": {
           "automargin": true,
           "gridcolor": "#EBF0F8",
           "linecolor": "#EBF0F8",
           "ticks": "",
           "zerolinecolor": "#EBF0F8",
           "zerolinewidth": 2
          },
          "yaxis": {
           "automargin": true,
           "gridcolor": "#EBF0F8",
           "linecolor": "#EBF0F8",
           "ticks": "",
           "zerolinecolor": "#EBF0F8",
           "zerolinewidth": 2
          }
         }
        },
        "updatemenus": [
         {
          "buttons": [
           {
            "args": [
             null,
             {
              "frame": {
               "duration": 500,
               "redraw": true
              },
              "fromcurrent": true,
              "mode": "immediate",
              "transition": {
               "duration": 500,
               "easing": "linear"
              }
             }
            ],
            "label": "&#9654;",
            "method": "animate"
           },
           {
            "args": [
             [
              null
             ],
             {
              "frame": {
               "duration": 0,
               "redraw": true
              },
              "fromcurrent": true,
              "mode": "immediate",
              "transition": {
               "duration": 0,
               "easing": "linear"
              }
             }
            ],
            "label": "&#9724;",
            "method": "animate"
           }
          ],
          "direction": "left",
          "pad": {
           "r": 10,
           "t": 70
          },
          "showactive": false,
          "type": "buttons",
          "x": 0.1,
          "xanchor": "right",
          "y": 0,
          "yanchor": "top"
         }
        ]
       }
      },
      "text/html": [
       "<div>\n",
       "        \n",
       "        \n",
       "            <div id=\"f438cbfd-aae9-459f-9048-9ff2cb5f0b99\" class=\"plotly-graph-div\" style=\"height:600px; width:100%;\"></div>\n",
       "            <script type=\"text/javascript\">\n",
       "                require([\"plotly\"], function(Plotly) {\n",
       "                    window.PLOTLYENV=window.PLOTLYENV || {};\n",
       "                    \n",
       "                if (document.getElementById(\"f438cbfd-aae9-459f-9048-9ff2cb5f0b99\")) {\n",
       "                    Plotly.newPlot(\n",
       "                        'f438cbfd-aae9-459f-9048-9ff2cb5f0b99',\n",
       "                        [{\"hoverlabel\": {\"namelength\": 0}, \"hovertemplate\": \"arbeidssted_fylke_navn=I alt<br>ansettelses_aar_mnd=201701<br>andel_fylke=%{r}<br>yrkesfelt_navn=%{theta}\", \"legendgroup\": \"arbeidssted_fylke_navn=I alt\", \"line\": {\"color\": \"#C30000\", \"dash\": \"solid\"}, \"mode\": \"lines\", \"name\": \"arbeidssted_fylke_navn=I alt\", \"r\": [6.000115944269455, 14.196409592455893, 8.86007459081335, 5.069180080774507, 5.574020754024232, 27.795706197221204, 3.0068213878529053, 0.9695839533131075, 22.05694796034706, 6.471139538928289, 6.000115944269455], \"showlegend\": true, \"subplot\": \"polar\", \"theta\": [\"Administrative ledere og politikere\", \"Akademiske yrker\", \"H\\u00e5ndverkere o.l.\", \"Kontor og kundeserviceyrker\", \"Prosess og maskinoperat\\u00f8rer, transportarbeidere mv.\", \"Salgs , service og omsorgsyrker\", \"Ukjent\", \"Yrker innen jordbruk, skogbruk og fiske\", \"Yrker med kortere h\\u00f8yskole og universitetsutdanning og teknikere\", \"Yrker uten krav til utdanning\", \"Administrative ledere og politikere\"], \"type\": \"scatterpolar\"}, {\"hoverlabel\": {\"namelength\": 0}, \"hovertemplate\": \"arbeidssted_fylke_navn=Telemark<br>ansettelses_aar_mnd=201701<br>andel_fylke=%{r}<br>yrkesfelt_navn=%{theta}\", \"legendgroup\": \"arbeidssted_fylke_navn=Telemark\", \"line\": {\"color\": \"#FF9100\", \"dash\": \"solid\"}, \"mode\": \"lines\", \"name\": \"arbeidssted_fylke_navn=Telemark\", \"r\": [8.424507658643327, 11.615609044493072, 13.202042304886945, 5.269876002917578, 5.579868708971554, 23.942377826404083, 3.0816921954777534, 0.674690007293946, 20.14952589350839, 8.059810357403355, 8.424507658643327], \"showlegend\": true, \"subplot\": \"polar\", \"theta\": [\"Administrative ledere og politikere\", \"Akademiske yrker\", \"H\\u00e5ndverkere o.l.\", \"Kontor og kundeserviceyrker\", \"Prosess og maskinoperat\\u00f8rer, transportarbeidere mv.\", \"Salgs , service og omsorgsyrker\", \"Ukjent\", \"Yrker innen jordbruk, skogbruk og fiske\", \"Yrker med kortere h\\u00f8yskole og universitetsutdanning og teknikere\", \"Yrker uten krav til utdanning\", \"Administrative ledere og politikere\"], \"type\": \"scatterpolar\"}],\n",
       "                        {\"height\": 600, \"legend\": {\"tracegroupgap\": 0}, \"margin\": {\"t\": 60}, \"polar\": {\"angularaxis\": {\"direction\": \"clockwise\", \"rotation\": 90}, \"domain\": {\"x\": [0.0, 0.98], \"y\": [0.0, 1.0]}}, \"sliders\": [{\"active\": 0, \"currentvalue\": {\"prefix\": \"ansettelses_aar_mnd=\"}, \"len\": 0.9, \"pad\": {\"b\": 10, \"t\": 60}, \"steps\": [{\"args\": [[\"201701\"], {\"frame\": {\"duration\": 0, \"redraw\": true}, \"fromcurrent\": true, \"mode\": \"immediate\", \"transition\": {\"duration\": 0, \"easing\": \"linear\"}}], \"label\": \"201701\", \"method\": \"animate\"}, {\"args\": [[\"201702\"], {\"frame\": {\"duration\": 0, \"redraw\": true}, \"fromcurrent\": true, \"mode\": \"immediate\", \"transition\": {\"duration\": 0, \"easing\": \"linear\"}}], \"label\": \"201702\", \"method\": \"animate\"}, {\"args\": [[\"201703\"], {\"frame\": {\"duration\": 0, \"redraw\": true}, \"fromcurrent\": true, \"mode\": \"immediate\", \"transition\": {\"duration\": 0, \"easing\": \"linear\"}}], \"label\": \"201703\", \"method\": \"animate\"}, {\"args\": [[\"201704\"], {\"frame\": {\"duration\": 0, \"redraw\": true}, \"fromcurrent\": true, \"mode\": \"immediate\", \"transition\": {\"duration\": 0, \"easing\": \"linear\"}}], \"label\": \"201704\", \"method\": \"animate\"}, {\"args\": [[\"201705\"], {\"frame\": {\"duration\": 0, \"redraw\": true}, \"fromcurrent\": true, \"mode\": \"immediate\", \"transition\": {\"duration\": 0, \"easing\": \"linear\"}}], \"label\": \"201705\", \"method\": \"animate\"}, {\"args\": [[\"201706\"], {\"frame\": {\"duration\": 0, \"redraw\": true}, \"fromcurrent\": true, \"mode\": \"immediate\", \"transition\": {\"duration\": 0, \"easing\": \"linear\"}}], \"label\": \"201706\", \"method\": \"animate\"}, {\"args\": [[\"201707\"], {\"frame\": {\"duration\": 0, \"redraw\": true}, \"fromcurrent\": true, \"mode\": \"immediate\", \"transition\": {\"duration\": 0, \"easing\": \"linear\"}}], \"label\": \"201707\", \"method\": \"animate\"}, {\"args\": [[\"201708\"], {\"frame\": {\"duration\": 0, \"redraw\": true}, \"fromcurrent\": true, \"mode\": \"immediate\", \"transition\": {\"duration\": 0, \"easing\": \"linear\"}}], \"label\": \"201708\", \"method\": \"animate\"}, {\"args\": [[\"201709\"], {\"frame\": {\"duration\": 0, \"redraw\": true}, \"fromcurrent\": true, \"mode\": \"immediate\", \"transition\": {\"duration\": 0, \"easing\": \"linear\"}}], \"label\": \"201709\", \"method\": \"animate\"}, {\"args\": [[\"201710\"], {\"frame\": {\"duration\": 0, \"redraw\": true}, \"fromcurrent\": true, \"mode\": \"immediate\", \"transition\": {\"duration\": 0, \"easing\": \"linear\"}}], \"label\": \"201710\", \"method\": \"animate\"}, {\"args\": [[\"201711\"], {\"frame\": {\"duration\": 0, \"redraw\": true}, \"fromcurrent\": true, \"mode\": \"immediate\", \"transition\": {\"duration\": 0, \"easing\": \"linear\"}}], \"label\": \"201711\", \"method\": \"animate\"}, {\"args\": [[\"201712\"], {\"frame\": {\"duration\": 0, \"redraw\": true}, \"fromcurrent\": true, \"mode\": \"immediate\", \"transition\": {\"duration\": 0, \"easing\": \"linear\"}}], \"label\": \"201712\", \"method\": \"animate\"}], \"x\": 0.1, \"xanchor\": \"left\", \"y\": 0, \"yanchor\": \"top\"}], \"template\": {\"data\": {\"bar\": [{\"error_x\": {\"color\": \"#2a3f5f\"}, \"error_y\": {\"color\": \"#2a3f5f\"}, \"marker\": {\"line\": {\"color\": \"white\", \"width\": 0.5}}, \"type\": \"bar\"}], \"barpolar\": [{\"marker\": {\"line\": {\"color\": \"white\", \"width\": 0.5}}, \"type\": \"barpolar\"}], \"carpet\": [{\"aaxis\": {\"endlinecolor\": \"#2a3f5f\", \"gridcolor\": \"#C8D4E3\", \"linecolor\": \"#C8D4E3\", \"minorgridcolor\": \"#C8D4E3\", \"startlinecolor\": \"#2a3f5f\"}, \"baxis\": {\"endlinecolor\": \"#2a3f5f\", \"gridcolor\": \"#C8D4E3\", \"linecolor\": \"#C8D4E3\", \"minorgridcolor\": \"#C8D4E3\", \"startlinecolor\": \"#2a3f5f\"}, \"type\": \"carpet\"}], \"choropleth\": [{\"colorbar\": {\"outlinewidth\": 0, \"ticks\": \"\"}, \"type\": \"choropleth\"}], \"contour\": [{\"colorbar\": {\"outlinewidth\": 0, \"ticks\": \"\"}, \"colorscale\": [[0.0, \"#0d0887\"], [0.1111111111111111, \"#46039f\"], [0.2222222222222222, \"#7201a8\"], [0.3333333333333333, \"#9c179e\"], [0.4444444444444444, \"#bd3786\"], [0.5555555555555556, \"#d8576b\"], [0.6666666666666666, \"#ed7953\"], [0.7777777777777778, \"#fb9f3a\"], [0.8888888888888888, \"#fdca26\"], [1.0, \"#f0f921\"]], \"type\": \"contour\"}], \"contourcarpet\": [{\"colorbar\": {\"outlinewidth\": 0, \"ticks\": \"\"}, \"type\": \"contourcarpet\"}], \"heatmap\": [{\"colorbar\": {\"outlinewidth\": 0, \"ticks\": \"\"}, \"colorscale\": [[0.0, \"#0d0887\"], [0.1111111111111111, \"#46039f\"], [0.2222222222222222, \"#7201a8\"], [0.3333333333333333, \"#9c179e\"], [0.4444444444444444, \"#bd3786\"], [0.5555555555555556, \"#d8576b\"], [0.6666666666666666, \"#ed7953\"], [0.7777777777777778, \"#fb9f3a\"], [0.8888888888888888, \"#fdca26\"], [1.0, \"#f0f921\"]], \"type\": \"heatmap\"}], \"heatmapgl\": [{\"colorbar\": {\"outlinewidth\": 0, \"ticks\": \"\"}, \"colorscale\": [[0.0, \"#0d0887\"], [0.1111111111111111, \"#46039f\"], [0.2222222222222222, \"#7201a8\"], [0.3333333333333333, \"#9c179e\"], [0.4444444444444444, \"#bd3786\"], [0.5555555555555556, \"#d8576b\"], [0.6666666666666666, \"#ed7953\"], [0.7777777777777778, \"#fb9f3a\"], [0.8888888888888888, \"#fdca26\"], [1.0, \"#f0f921\"]], \"type\": \"heatmapgl\"}], \"histogram\": [{\"marker\": {\"colorbar\": {\"outlinewidth\": 0, \"ticks\": \"\"}}, \"type\": \"histogram\"}], \"histogram2d\": [{\"colorbar\": {\"outlinewidth\": 0, \"ticks\": \"\"}, \"colorscale\": [[0.0, \"#0d0887\"], [0.1111111111111111, \"#46039f\"], [0.2222222222222222, \"#7201a8\"], [0.3333333333333333, \"#9c179e\"], [0.4444444444444444, \"#bd3786\"], [0.5555555555555556, \"#d8576b\"], [0.6666666666666666, \"#ed7953\"], [0.7777777777777778, \"#fb9f3a\"], [0.8888888888888888, \"#fdca26\"], [1.0, \"#f0f921\"]], \"type\": \"histogram2d\"}], \"histogram2dcontour\": [{\"colorbar\": {\"outlinewidth\": 0, \"ticks\": \"\"}, \"colorscale\": [[0.0, \"#0d0887\"], [0.1111111111111111, \"#46039f\"], [0.2222222222222222, \"#7201a8\"], [0.3333333333333333, \"#9c179e\"], [0.4444444444444444, \"#bd3786\"], [0.5555555555555556, \"#d8576b\"], [0.6666666666666666, \"#ed7953\"], [0.7777777777777778, \"#fb9f3a\"], [0.8888888888888888, \"#fdca26\"], [1.0, \"#f0f921\"]], \"type\": \"histogram2dcontour\"}], \"mesh3d\": [{\"colorbar\": {\"outlinewidth\": 0, \"ticks\": \"\"}, \"type\": \"mesh3d\"}], \"parcoords\": [{\"line\": {\"colorbar\": {\"outlinewidth\": 0, \"ticks\": \"\"}}, \"type\": \"parcoords\"}], \"scatter\": [{\"marker\": {\"colorbar\": {\"outlinewidth\": 0, \"ticks\": \"\"}}, \"type\": \"scatter\"}], \"scatter3d\": [{\"line\": {\"colorbar\": {\"outlinewidth\": 0, \"ticks\": \"\"}}, \"marker\": {\"colorbar\": {\"outlinewidth\": 0, \"ticks\": \"\"}}, \"type\": \"scatter3d\"}], \"scattercarpet\": [{\"marker\": {\"colorbar\": {\"outlinewidth\": 0, \"ticks\": \"\"}}, \"type\": \"scattercarpet\"}], \"scattergeo\": [{\"marker\": {\"colorbar\": {\"outlinewidth\": 0, \"ticks\": \"\"}}, \"type\": \"scattergeo\"}], \"scattergl\": [{\"marker\": {\"colorbar\": {\"outlinewidth\": 0, \"ticks\": \"\"}}, \"type\": \"scattergl\"}], \"scattermapbox\": [{\"marker\": {\"colorbar\": {\"outlinewidth\": 0, \"ticks\": \"\"}}, \"type\": \"scattermapbox\"}], \"scatterpolar\": [{\"marker\": {\"colorbar\": {\"outlinewidth\": 0, \"ticks\": \"\"}}, \"type\": \"scatterpolar\"}], \"scatterpolargl\": [{\"marker\": {\"colorbar\": {\"outlinewidth\": 0, \"ticks\": \"\"}}, \"type\": \"scatterpolargl\"}], \"scatterternary\": [{\"marker\": {\"colorbar\": {\"outlinewidth\": 0, \"ticks\": \"\"}}, \"type\": \"scatterternary\"}], \"surface\": [{\"colorbar\": {\"outlinewidth\": 0, \"ticks\": \"\"}, \"colorscale\": [[0.0, \"#0d0887\"], [0.1111111111111111, \"#46039f\"], [0.2222222222222222, \"#7201a8\"], [0.3333333333333333, \"#9c179e\"], [0.4444444444444444, \"#bd3786\"], [0.5555555555555556, \"#d8576b\"], [0.6666666666666666, \"#ed7953\"], [0.7777777777777778, \"#fb9f3a\"], [0.8888888888888888, \"#fdca26\"], [1.0, \"#f0f921\"]], \"type\": \"surface\"}], \"table\": [{\"cells\": {\"fill\": {\"color\": \"#EBF0F8\"}, \"line\": {\"color\": \"white\"}}, \"header\": {\"fill\": {\"color\": \"#C8D4E3\"}, \"line\": {\"color\": \"white\"}}, \"type\": \"table\"}]}, \"layout\": {\"annotationdefaults\": {\"arrowcolor\": \"#2a3f5f\", \"arrowhead\": 0, \"arrowwidth\": 1}, \"colorscale\": {\"diverging\": [[0.0, \"#c30000\"], [0.1, \"#a73c46\"], [0.2, \"#8b7b8f\"], [0.3, \"#6fb7d5\"], [0.4, \"#5bc1e8\"], [0.5, \"#4cb1e2\"], [0.6, \"#3da3dc\"], [0.7, \"#2d93d6\"], [0.8, \"#1e85d1\"], [0.9, \"#0f76cb\"], [1.0, \"#0067c5\"]], \"sequential\": [[0.0, \"#c30000\"], [0.1, \"#a73c46\"], [0.2, \"#8b7b8f\"], [0.3, \"#6fb7d5\"], [0.4, \"#5bc1e8\"], [0.5, \"#4cb1e2\"], [0.6, \"#3da3dc\"], [0.7, \"#2d93d6\"], [0.8, \"#1e85d1\"], [0.9, \"#0f76cb\"], [1.0, \"#0067c5\"]], \"sequentialminus\": [[0.0, \"#c30000\"], [0.1, \"#a73c46\"], [0.2, \"#8b7b8f\"], [0.3, \"#6fb7d5\"], [0.4, \"#5bc1e8\"], [0.5, \"#4cb1e2\"], [0.6, \"#3da3dc\"], [0.7, \"#2d93d6\"], [0.8, \"#1e85d1\"], [0.9, \"#0f76cb\"], [1.0, \"#0067c5\"]]}, \"colorway\": [\"#C30000\", \"#FF9100\", \"#A2AD00\", \"#06893A\", \"#634689\", \"#005B82\", \"#0067C5\", \"#66CBEC\", \"#3E3832\", \"#B7B1A9\"], \"font\": {\"color\": \"black\", \"family\": \"'Open Sans', 'Roboto', 'Helvetica Neue', 'Arial', 'sans-serif'\"}, \"geo\": {\"bgcolor\": \"white\", \"lakecolor\": \"white\", \"landcolor\": \"white\", \"showlakes\": true, \"showland\": true, \"subunitcolor\": \"#C8D4E3\"}, \"hoverlabel\": {\"align\": \"left\"}, \"hovermode\": \"closest\", \"mapbox\": {\"style\": \"light\"}, \"paper_bgcolor\": \"white\", \"plot_bgcolor\": \"white\", \"polar\": {\"angularaxis\": {\"gridcolor\": \"#EBF0F8\", \"linecolor\": \"#EBF0F8\", \"ticks\": \"\"}, \"bgcolor\": \"white\", \"radialaxis\": {\"gridcolor\": \"#EBF0F8\", \"linecolor\": \"#EBF0F8\", \"ticks\": \"\"}}, \"scene\": {\"xaxis\": {\"backgroundcolor\": \"white\", \"gridcolor\": \"#DFE8F3\", \"gridwidth\": 2, \"linecolor\": \"#EBF0F8\", \"showbackground\": true, \"ticks\": \"\", \"zerolinecolor\": \"#EBF0F8\"}, \"yaxis\": {\"backgroundcolor\": \"white\", \"gridcolor\": \"#DFE8F3\", \"gridwidth\": 2, \"linecolor\": \"#EBF0F8\", \"showbackground\": true, \"ticks\": \"\", \"zerolinecolor\": \"#EBF0F8\"}, \"zaxis\": {\"backgroundcolor\": \"white\", \"gridcolor\": \"#DFE8F3\", \"gridwidth\": 2, \"linecolor\": \"#EBF0F8\", \"showbackground\": true, \"ticks\": \"\", \"zerolinecolor\": \"#EBF0F8\"}}, \"shapedefaults\": {\"line\": {\"color\": \"#2a3f5f\"}}, \"ternary\": {\"aaxis\": {\"gridcolor\": \"#DFE8F3\", \"linecolor\": \"#A2B1C6\", \"ticks\": \"\"}, \"baxis\": {\"gridcolor\": \"#DFE8F3\", \"linecolor\": \"#A2B1C6\", \"ticks\": \"\"}, \"bgcolor\": \"white\", \"caxis\": {\"gridcolor\": \"#DFE8F3\", \"linecolor\": \"#A2B1C6\", \"ticks\": \"\"}}, \"title\": {\"x\": 0.05}, \"xaxis\": {\"automargin\": true, \"gridcolor\": \"#EBF0F8\", \"linecolor\": \"#EBF0F8\", \"ticks\": \"\", \"zerolinecolor\": \"#EBF0F8\", \"zerolinewidth\": 2}, \"yaxis\": {\"automargin\": true, \"gridcolor\": \"#EBF0F8\", \"linecolor\": \"#EBF0F8\", \"ticks\": \"\", \"zerolinecolor\": \"#EBF0F8\", \"zerolinewidth\": 2}}}, \"updatemenus\": [{\"buttons\": [{\"args\": [null, {\"frame\": {\"duration\": 500, \"redraw\": true}, \"fromcurrent\": true, \"mode\": \"immediate\", \"transition\": {\"duration\": 500, \"easing\": \"linear\"}}], \"label\": \"&#9654;\", \"method\": \"animate\"}, {\"args\": [[null], {\"frame\": {\"duration\": 0, \"redraw\": true}, \"fromcurrent\": true, \"mode\": \"immediate\", \"transition\": {\"duration\": 0, \"easing\": \"linear\"}}], \"label\": \"&#9724;\", \"method\": \"animate\"}], \"direction\": \"left\", \"pad\": {\"r\": 10, \"t\": 70}, \"showactive\": false, \"type\": \"buttons\", \"x\": 0.1, \"xanchor\": \"right\", \"y\": 0, \"yanchor\": \"top\"}]},\n",
       "                        {\"responsive\": true}\n",
       "                    ).then(function(){\n",
       "                            Plotly.addFrames('f438cbfd-aae9-459f-9048-9ff2cb5f0b99', [{\"data\": [{\"hoverlabel\": {\"namelength\": 0}, \"hovertemplate\": \"arbeidssted_fylke_navn=I alt<br>ansettelses_aar_mnd=201701<br>andel_fylke=%{r}<br>yrkesfelt_navn=%{theta}\", \"legendgroup\": \"arbeidssted_fylke_navn=I alt\", \"line\": {\"color\": \"#C30000\", \"dash\": \"solid\"}, \"mode\": \"lines\", \"name\": \"arbeidssted_fylke_navn=I alt\", \"r\": [6.000115944269455, 14.196409592455893, 8.86007459081335, 5.069180080774507, 5.574020754024232, 27.795706197221204, 3.0068213878529053, 0.9695839533131075, 22.05694796034706, 6.471139538928289, 6.000115944269455], \"showlegend\": true, \"subplot\": \"polar\", \"theta\": [\"Administrative ledere og politikere\", \"Akademiske yrker\", \"H\\u00e5ndverkere o.l.\", \"Kontor og kundeserviceyrker\", \"Prosess og maskinoperat\\u00f8rer, transportarbeidere mv.\", \"Salgs , service og omsorgsyrker\", \"Ukjent\", \"Yrker innen jordbruk, skogbruk og fiske\", \"Yrker med kortere h\\u00f8yskole og universitetsutdanning og teknikere\", \"Yrker uten krav til utdanning\", \"Administrative ledere og politikere\"], \"type\": \"scatterpolar\"}, {\"hoverlabel\": {\"namelength\": 0}, \"hovertemplate\": \"arbeidssted_fylke_navn=Telemark<br>ansettelses_aar_mnd=201701<br>andel_fylke=%{r}<br>yrkesfelt_navn=%{theta}\", \"legendgroup\": \"arbeidssted_fylke_navn=Telemark\", \"line\": {\"color\": \"#FF9100\", \"dash\": \"solid\"}, \"mode\": \"lines\", \"name\": \"arbeidssted_fylke_navn=Telemark\", \"r\": [8.424507658643327, 11.615609044493072, 13.202042304886945, 5.269876002917578, 5.579868708971554, 23.942377826404083, 3.0816921954777534, 0.674690007293946, 20.14952589350839, 8.059810357403355, 8.424507658643327], \"showlegend\": true, \"subplot\": \"polar\", \"theta\": [\"Administrative ledere og politikere\", \"Akademiske yrker\", \"H\\u00e5ndverkere o.l.\", \"Kontor og kundeserviceyrker\", \"Prosess og maskinoperat\\u00f8rer, transportarbeidere mv.\", \"Salgs , service og omsorgsyrker\", \"Ukjent\", \"Yrker innen jordbruk, skogbruk og fiske\", \"Yrker med kortere h\\u00f8yskole og universitetsutdanning og teknikere\", \"Yrker uten krav til utdanning\", \"Administrative ledere og politikere\"], \"type\": \"scatterpolar\"}], \"name\": \"201701\"}, {\"data\": [{\"hoverlabel\": {\"namelength\": 0}, \"hovertemplate\": \"arbeidssted_fylke_navn=I alt<br>ansettelses_aar_mnd=201702<br>andel_fylke=%{r}<br>yrkesfelt_navn=%{theta}\", \"legendgroup\": \"arbeidssted_fylke_navn=I alt\", \"line\": {\"color\": \"#C30000\", \"dash\": \"solid\"}, \"mode\": \"lines\", \"name\": \"arbeidssted_fylke_navn=I alt\", \"r\": [3.9994999062324186, 9.723073076201787, 10.456960680127525, 5.663561917859599, 8.089016690629492, 30.419453647558917, 3.0080640120022504, 1.4165155966743765, 17.767081327748954, 9.45677314496468, 3.9994999062324186], \"showlegend\": true, \"subplot\": \"polar\", \"theta\": [\"Administrative ledere og politikere\", \"Akademiske yrker\", \"H\\u00e5ndverkere o.l.\", \"Kontor og kundeserviceyrker\", \"Prosess og maskinoperat\\u00f8rer, transportarbeidere mv.\", \"Salgs , service og omsorgsyrker\", \"Ukjent\", \"Yrker innen jordbruk, skogbruk og fiske\", \"Yrker med kortere h\\u00f8yskole og universitetsutdanning og teknikere\", \"Yrker uten krav til utdanning\", \"Administrative ledere og politikere\"], \"type\": \"scatterpolar\"}, {\"hoverlabel\": {\"namelength\": 0}, \"hovertemplate\": \"arbeidssted_fylke_navn=Telemark<br>ansettelses_aar_mnd=201702<br>andel_fylke=%{r}<br>yrkesfelt_navn=%{theta}\", \"legendgroup\": \"arbeidssted_fylke_navn=Telemark\", \"line\": {\"color\": \"#FF9100\", \"dash\": \"solid\"}, \"mode\": \"lines\", \"name\": \"arbeidssted_fylke_navn=Telemark\", \"r\": [5.550952775476388, 8.989229494614747, 10.231980115990059, 4.63960231980116, 7.042253521126761, 30.985915492957748, 3.4382767191383596, 0.4971002485501243, 20.091135045567523, 8.533554266777134, 5.550952775476388], \"showlegend\": true, \"subplot\": \"polar\", \"theta\": [\"Administrative ledere og politikere\", \"Akademiske yrker\", \"H\\u00e5ndverkere o.l.\", \"Kontor og kundeserviceyrker\", \"Prosess og maskinoperat\\u00f8rer, transportarbeidere mv.\", \"Salgs , service og omsorgsyrker\", \"Ukjent\", \"Yrker innen jordbruk, skogbruk og fiske\", \"Yrker med kortere h\\u00f8yskole og universitetsutdanning og teknikere\", \"Yrker uten krav til utdanning\", \"Administrative ledere og politikere\"], \"type\": \"scatterpolar\"}], \"name\": \"201702\"}, {\"data\": [{\"hoverlabel\": {\"namelength\": 0}, \"hovertemplate\": \"arbeidssted_fylke_navn=I alt<br>ansettelses_aar_mnd=201703<br>andel_fylke=%{r}<br>yrkesfelt_navn=%{theta}\", \"legendgroup\": \"arbeidssted_fylke_navn=I alt\", \"line\": {\"color\": \"#C30000\", \"dash\": \"solid\"}, \"mode\": \"lines\", \"name\": \"arbeidssted_fylke_navn=I alt\", \"r\": [4.161149189063212, 9.240759769907942, 10.019386209307498, 6.0934139856139495, 8.22271894233927, 31.15882920008051, 2.933355932921597, 1.7489962604743794, 17.578948483532315, 8.842442026759326, 4.161149189063212], \"showlegend\": true, \"subplot\": \"polar\", \"theta\": [\"Administrative ledere og politikere\", \"Akademiske yrker\", \"H\\u00e5ndverkere o.l.\", \"Kontor og kundeserviceyrker\", \"Prosess og maskinoperat\\u00f8rer, transportarbeidere mv.\", \"Salgs , service og omsorgsyrker\", \"Ukjent\", \"Yrker innen jordbruk, skogbruk og fiske\", \"Yrker med kortere h\\u00f8yskole og universitetsutdanning og teknikere\", \"Yrker uten krav til utdanning\", \"Administrative ledere og politikere\"], \"type\": \"scatterpolar\"}, {\"hoverlabel\": {\"namelength\": 0}, \"hovertemplate\": \"arbeidssted_fylke_navn=Telemark<br>ansettelses_aar_mnd=201703<br>andel_fylke=%{r}<br>yrkesfelt_navn=%{theta}\", \"legendgroup\": \"arbeidssted_fylke_navn=Telemark\", \"line\": {\"color\": \"#FF9100\", \"dash\": \"solid\"}, \"mode\": \"lines\", \"name\": \"arbeidssted_fylke_navn=Telemark\", \"r\": [5.271828665568369, 8.072487644151565, 14.332784184514002, 4.744645799011532, 9.093904448105437, 27.71004942339374, 2.9983525535420097, 0.7907742998352554, 18.12191103789127, 8.86326194398682, 5.271828665568369], \"showlegend\": true, \"subplot\": \"polar\", \"theta\": [\"Administrative ledere og politikere\", \"Akademiske yrker\", \"H\\u00e5ndverkere o.l.\", \"Kontor og kundeserviceyrker\", \"Prosess og maskinoperat\\u00f8rer, transportarbeidere mv.\", \"Salgs , service og omsorgsyrker\", \"Ukjent\", \"Yrker innen jordbruk, skogbruk og fiske\", \"Yrker med kortere h\\u00f8yskole og universitetsutdanning og teknikere\", \"Yrker uten krav til utdanning\", \"Administrative ledere og politikere\"], \"type\": \"scatterpolar\"}], \"name\": \"201703\"}, {\"data\": [{\"hoverlabel\": {\"namelength\": 0}, \"hovertemplate\": \"arbeidssted_fylke_navn=I alt<br>ansettelses_aar_mnd=201704<br>andel_fylke=%{r}<br>yrkesfelt_navn=%{theta}\", \"legendgroup\": \"arbeidssted_fylke_navn=I alt\", \"line\": {\"color\": \"#C30000\", \"dash\": \"solid\"}, \"mode\": \"lines\", \"name\": \"arbeidssted_fylke_navn=I alt\", \"r\": [3.8743985819194733, 7.836276157370105, 11.80160685098644, 6.16381592578098, 7.486360183245471, 30.031768687124472, 2.8822026289739635, 2.3297037224613826, 16.329795805612466, 11.264071456525242, 3.8743985819194733], \"showlegend\": true, \"subplot\": \"polar\", \"theta\": [\"Administrative ledere og politikere\", \"Akademiske yrker\", \"H\\u00e5ndverkere o.l.\", \"Kontor og kundeserviceyrker\", \"Prosess og maskinoperat\\u00f8rer, transportarbeidere mv.\", \"Salgs , service og omsorgsyrker\", \"Ukjent\", \"Yrker innen jordbruk, skogbruk og fiske\", \"Yrker med kortere h\\u00f8yskole og universitetsutdanning og teknikere\", \"Yrker uten krav til utdanning\", \"Administrative ledere og politikere\"], \"type\": \"scatterpolar\"}, {\"hoverlabel\": {\"namelength\": 0}, \"hovertemplate\": \"arbeidssted_fylke_navn=Telemark<br>ansettelses_aar_mnd=201704<br>andel_fylke=%{r}<br>yrkesfelt_navn=%{theta}\", \"legendgroup\": \"arbeidssted_fylke_navn=Telemark\", \"line\": {\"color\": \"#FF9100\", \"dash\": \"solid\"}, \"mode\": \"lines\", \"name\": \"arbeidssted_fylke_navn=Telemark\", \"r\": [4.40852314474651, 6.576047024246877, 14.43791329904482, 4.996326230712711, 7.678177810433505, 27.8104335047759, 2.3512123438648054, 2.020573108008817, 14.290962527553269, 15.429831006612785, 4.40852314474651], \"showlegend\": true, \"subplot\": \"polar\", \"theta\": [\"Administrative ledere og politikere\", \"Akademiske yrker\", \"H\\u00e5ndverkere o.l.\", \"Kontor og kundeserviceyrker\", \"Prosess og maskinoperat\\u00f8rer, transportarbeidere mv.\", \"Salgs , service og omsorgsyrker\", \"Ukjent\", \"Yrker innen jordbruk, skogbruk og fiske\", \"Yrker med kortere h\\u00f8yskole og universitetsutdanning og teknikere\", \"Yrker uten krav til utdanning\", \"Administrative ledere og politikere\"], \"type\": \"scatterpolar\"}], \"name\": \"201704\"}, {\"data\": [{\"hoverlabel\": {\"namelength\": 0}, \"hovertemplate\": \"arbeidssted_fylke_navn=I alt<br>ansettelses_aar_mnd=201705<br>andel_fylke=%{r}<br>yrkesfelt_navn=%{theta}\", \"legendgroup\": \"arbeidssted_fylke_navn=I alt\", \"line\": {\"color\": \"#C30000\", \"dash\": \"solid\"}, \"mode\": \"lines\", \"name\": \"arbeidssted_fylke_navn=I alt\", \"r\": [3.7899421122118304, 7.00562259377914, 12.321697303186136, 7.012085345249416, 8.281554384053623, 30.542963448524183, 3.0254909382991886, 2.3856785427418683, 14.5855068182028, 11.049458513751812, 3.7899421122118304], \"showlegend\": true, \"subplot\": \"polar\", \"theta\": [\"Administrative ledere og politikere\", \"Akademiske yrker\", \"H\\u00e5ndverkere o.l.\", \"Kontor og kundeserviceyrker\", \"Prosess og maskinoperat\\u00f8rer, transportarbeidere mv.\", \"Salgs , service og omsorgsyrker\", \"Ukjent\", \"Yrker innen jordbruk, skogbruk og fiske\", \"Yrker med kortere h\\u00f8yskole og universitetsutdanning og teknikere\", \"Yrker uten krav til utdanning\", \"Administrative ledere og politikere\"], \"type\": \"scatterpolar\"}, {\"hoverlabel\": {\"namelength\": 0}, \"hovertemplate\": \"arbeidssted_fylke_navn=Telemark<br>ansettelses_aar_mnd=201705<br>andel_fylke=%{r}<br>yrkesfelt_navn=%{theta}\", \"legendgroup\": \"arbeidssted_fylke_navn=Telemark\", \"line\": {\"color\": \"#FF9100\", \"dash\": \"solid\"}, \"mode\": \"lines\", \"name\": \"arbeidssted_fylke_navn=Telemark\", \"r\": [4.556835252879319, 4.9824737105658485, 11.86780170255383, 6.009013520280421, 9.639459188783174, 28.69303955933901, 2.203304957436154, 1.3770655983975963, 12.769153730595894, 17.901852779168753, 4.556835252879319], \"showlegend\": true, \"subplot\": \"polar\", \"theta\": [\"Administrative ledere og politikere\", \"Akademiske yrker\", \"H\\u00e5ndverkere o.l.\", \"Kontor og kundeserviceyrker\", \"Prosess og maskinoperat\\u00f8rer, transportarbeidere mv.\", \"Salgs , service og omsorgsyrker\", \"Ukjent\", \"Yrker innen jordbruk, skogbruk og fiske\", \"Yrker med kortere h\\u00f8yskole og universitetsutdanning og teknikere\", \"Yrker uten krav til utdanning\", \"Administrative ledere og politikere\"], \"type\": \"scatterpolar\"}], \"name\": \"201705\"}, {\"data\": [{\"hoverlabel\": {\"namelength\": 0}, \"hovertemplate\": \"arbeidssted_fylke_navn=I alt<br>ansettelses_aar_mnd=201706<br>andel_fylke=%{r}<br>yrkesfelt_navn=%{theta}\", \"legendgroup\": \"arbeidssted_fylke_navn=I alt\", \"line\": {\"color\": \"#C30000\", \"dash\": \"solid\"}, \"mode\": \"lines\", \"name\": \"arbeidssted_fylke_navn=I alt\", \"r\": [2.352166345203933, 6.199638438430366, 9.794420661429177, 7.3562322327434995, 7.910671442684427, 33.3120518283053, 2.7849649527214564, 2.4549896168657046, 14.451710024932963, 13.383154456683176, 2.352166345203933], \"showlegend\": true, \"subplot\": \"polar\", \"theta\": [\"Administrative ledere og politikere\", \"Akademiske yrker\", \"H\\u00e5ndverkere o.l.\", \"Kontor og kundeserviceyrker\", \"Prosess og maskinoperat\\u00f8rer, transportarbeidere mv.\", \"Salgs , service og omsorgsyrker\", \"Ukjent\", \"Yrker innen jordbruk, skogbruk og fiske\", \"Yrker med kortere h\\u00f8yskole og universitetsutdanning og teknikere\", \"Yrker uten krav til utdanning\", \"Administrative ledere og politikere\"], \"type\": \"scatterpolar\"}, {\"hoverlabel\": {\"namelength\": 0}, \"hovertemplate\": \"arbeidssted_fylke_navn=Telemark<br>ansettelses_aar_mnd=201706<br>andel_fylke=%{r}<br>yrkesfelt_navn=%{theta}\", \"legendgroup\": \"arbeidssted_fylke_navn=Telemark\", \"line\": {\"color\": \"#FF9100\", \"dash\": \"solid\"}, \"mode\": \"lines\", \"name\": \"arbeidssted_fylke_navn=Telemark\", \"r\": [3.235747303543914, 4.564714946070878, 10.785824345146379, 6.1055469953775034, 7.261171032357473, 36.325115562403695, 4.564714946070878, 1.3289676425269645, 10.227272727272727, 15.600924499229585, 3.235747303543914], \"showlegend\": true, \"subplot\": \"polar\", \"theta\": [\"Administrative ledere og politikere\", \"Akademiske yrker\", \"H\\u00e5ndverkere o.l.\", \"Kontor og kundeserviceyrker\", \"Prosess og maskinoperat\\u00f8rer, transportarbeidere mv.\", \"Salgs , service og omsorgsyrker\", \"Ukjent\", \"Yrker innen jordbruk, skogbruk og fiske\", \"Yrker med kortere h\\u00f8yskole og universitetsutdanning og teknikere\", \"Yrker uten krav til utdanning\", \"Administrative ledere og politikere\"], \"type\": \"scatterpolar\"}], \"name\": \"201706\"}, {\"data\": [{\"hoverlabel\": {\"namelength\": 0}, \"hovertemplate\": \"arbeidssted_fylke_navn=I alt<br>ansettelses_aar_mnd=201707<br>andel_fylke=%{r}<br>yrkesfelt_navn=%{theta}\", \"legendgroup\": \"arbeidssted_fylke_navn=I alt\", \"line\": {\"color\": \"#C30000\", \"dash\": \"solid\"}, \"mode\": \"lines\", \"name\": \"arbeidssted_fylke_navn=I alt\", \"r\": [2.8032227172419537, 6.063413415497356, 10.454053378856644, 6.6983803139442895, 8.91139609443311, 30.077653328892033, 3.3778157138693428, 3.6276387558812506, 13.04076279302161, 14.94566348836241, 2.8032227172419537], \"showlegend\": true, \"subplot\": \"polar\", \"theta\": [\"Administrative ledere og politikere\", \"Akademiske yrker\", \"H\\u00e5ndverkere o.l.\", \"Kontor og kundeserviceyrker\", \"Prosess og maskinoperat\\u00f8rer, transportarbeidere mv.\", \"Salgs , service og omsorgsyrker\", \"Ukjent\", \"Yrker innen jordbruk, skogbruk og fiske\", \"Yrker med kortere h\\u00f8yskole og universitetsutdanning og teknikere\", \"Yrker uten krav til utdanning\", \"Administrative ledere og politikere\"], \"type\": \"scatterpolar\"}, {\"hoverlabel\": {\"namelength\": 0}, \"hovertemplate\": \"arbeidssted_fylke_navn=Telemark<br>ansettelses_aar_mnd=201707<br>andel_fylke=%{r}<br>yrkesfelt_navn=%{theta}\", \"legendgroup\": \"arbeidssted_fylke_navn=Telemark\", \"line\": {\"color\": \"#FF9100\", \"dash\": \"solid\"}, \"mode\": \"lines\", \"name\": \"arbeidssted_fylke_navn=Telemark\", \"r\": [3.9964736996767556, 5.0837496326770495, 10.373200117543345, 6.523655598001763, 8.727593300029385, 30.238025271818984, 2.938583602703497, 1.5574493094328534, 9.5797825448134, 20.981486923302967, 3.9964736996767556], \"showlegend\": true, \"subplot\": \"polar\", \"theta\": [\"Administrative ledere og politikere\", \"Akademiske yrker\", \"H\\u00e5ndverkere o.l.\", \"Kontor og kundeserviceyrker\", \"Prosess og maskinoperat\\u00f8rer, transportarbeidere mv.\", \"Salgs , service og omsorgsyrker\", \"Ukjent\", \"Yrker innen jordbruk, skogbruk og fiske\", \"Yrker med kortere h\\u00f8yskole og universitetsutdanning og teknikere\", \"Yrker uten krav til utdanning\", \"Administrative ledere og politikere\"], \"type\": \"scatterpolar\"}], \"name\": \"201707\"}, {\"data\": [{\"hoverlabel\": {\"namelength\": 0}, \"hovertemplate\": \"arbeidssted_fylke_navn=I alt<br>ansettelses_aar_mnd=201708<br>andel_fylke=%{r}<br>yrkesfelt_navn=%{theta}\", \"legendgroup\": \"arbeidssted_fylke_navn=I alt\", \"line\": {\"color\": \"#C30000\", \"dash\": \"solid\"}, \"mode\": \"lines\", \"name\": \"arbeidssted_fylke_navn=I alt\", \"r\": [3.432066284702523, 11.894089115268798, 9.056166185574723, 4.516237632404192, 5.509385968740453, 29.969638214702087, 2.6851788352795216, 1.319833664798409, 24.558133155443613, 7.05927094308568, 3.432066284702523], \"showlegend\": true, \"subplot\": \"polar\", \"theta\": [\"Administrative ledere og politikere\", \"Akademiske yrker\", \"H\\u00e5ndverkere o.l.\", \"Kontor og kundeserviceyrker\", \"Prosess og maskinoperat\\u00f8rer, transportarbeidere mv.\", \"Salgs , service og omsorgsyrker\", \"Ukjent\", \"Yrker innen jordbruk, skogbruk og fiske\", \"Yrker med kortere h\\u00f8yskole og universitetsutdanning og teknikere\", \"Yrker uten krav til utdanning\", \"Administrative ledere og politikere\"], \"type\": \"scatterpolar\"}, {\"hoverlabel\": {\"namelength\": 0}, \"hovertemplate\": \"arbeidssted_fylke_navn=Telemark<br>ansettelses_aar_mnd=201708<br>andel_fylke=%{r}<br>yrkesfelt_navn=%{theta}\", \"legendgroup\": \"arbeidssted_fylke_navn=Telemark\", \"line\": {\"color\": \"#FF9100\", \"dash\": \"solid\"}, \"mode\": \"lines\", \"name\": \"arbeidssted_fylke_navn=Telemark\", \"r\": [3.8341321108564284, 10.731402375494895, 9.397791206501354, 4.771827464055011, 6.81391956657637, 29.589497812044176, 2.542196290893936, 0.7501562825588665, 22.942279641592, 8.626797249426964, 3.8341321108564284], \"showlegend\": true, \"subplot\": \"polar\", \"theta\": [\"Administrative ledere og politikere\", \"Akademiske yrker\", \"H\\u00e5ndverkere o.l.\", \"Kontor og kundeserviceyrker\", \"Prosess og maskinoperat\\u00f8rer, transportarbeidere mv.\", \"Salgs , service og omsorgsyrker\", \"Ukjent\", \"Yrker innen jordbruk, skogbruk og fiske\", \"Yrker med kortere h\\u00f8yskole og universitetsutdanning og teknikere\", \"Yrker uten krav til utdanning\", \"Administrative ledere og politikere\"], \"type\": \"scatterpolar\"}], \"name\": \"201708\"}, {\"data\": [{\"hoverlabel\": {\"namelength\": 0}, \"hovertemplate\": \"arbeidssted_fylke_navn=I alt<br>ansettelses_aar_mnd=201709<br>andel_fylke=%{r}<br>yrkesfelt_navn=%{theta}\", \"legendgroup\": \"arbeidssted_fylke_navn=I alt\", \"line\": {\"color\": \"#C30000\", \"dash\": \"solid\"}, \"mode\": \"lines\", \"name\": \"arbeidssted_fylke_navn=I alt\", \"r\": [3.700578688041774, 11.21795126921332, 9.708745592180149, 5.529774176344634, 6.783465601095289, 31.768938700459287, 3.1155226898248016, 1.8084996298625318, 17.343925367550487, 9.022598285427728, 3.700578688041774], \"showlegend\": true, \"subplot\": \"polar\", \"theta\": [\"Administrative ledere og politikere\", \"Akademiske yrker\", \"H\\u00e5ndverkere o.l.\", \"Kontor og kundeserviceyrker\", \"Prosess og maskinoperat\\u00f8rer, transportarbeidere mv.\", \"Salgs , service og omsorgsyrker\", \"Ukjent\", \"Yrker innen jordbruk, skogbruk og fiske\", \"Yrker med kortere h\\u00f8yskole og universitetsutdanning og teknikere\", \"Yrker uten krav til utdanning\", \"Administrative ledere og politikere\"], \"type\": \"scatterpolar\"}, {\"hoverlabel\": {\"namelength\": 0}, \"hovertemplate\": \"arbeidssted_fylke_navn=Telemark<br>ansettelses_aar_mnd=201709<br>andel_fylke=%{r}<br>yrkesfelt_navn=%{theta}\", \"legendgroup\": \"arbeidssted_fylke_navn=Telemark\", \"line\": {\"color\": \"#FF9100\", \"dash\": \"solid\"}, \"mode\": \"lines\", \"name\": \"arbeidssted_fylke_navn=Telemark\", \"r\": [5.498652291105121, 8.544474393530997, 14.25876010781671, 4.177897574123989, 7.3584905660377355, 30.37735849056604, 3.234501347708895, 1.2398921832884098, 16.253369272237197, 9.056603773584905, 5.498652291105121], \"showlegend\": true, \"subplot\": \"polar\", \"theta\": [\"Administrative ledere og politikere\", \"Akademiske yrker\", \"H\\u00e5ndverkere o.l.\", \"Kontor og kundeserviceyrker\", \"Prosess og maskinoperat\\u00f8rer, transportarbeidere mv.\", \"Salgs , service og omsorgsyrker\", \"Ukjent\", \"Yrker innen jordbruk, skogbruk og fiske\", \"Yrker med kortere h\\u00f8yskole og universitetsutdanning og teknikere\", \"Yrker uten krav til utdanning\", \"Administrative ledere og politikere\"], \"type\": \"scatterpolar\"}], \"name\": \"201709\"}, {\"data\": [{\"hoverlabel\": {\"namelength\": 0}, \"hovertemplate\": \"arbeidssted_fylke_navn=I alt<br>ansettelses_aar_mnd=201710<br>andel_fylke=%{r}<br>yrkesfelt_navn=%{theta}\", \"legendgroup\": \"arbeidssted_fylke_navn=I alt\", \"line\": {\"color\": \"#C30000\", \"dash\": \"solid\"}, \"mode\": \"lines\", \"name\": \"arbeidssted_fylke_navn=I alt\", \"r\": [4.048732574590216, 8.372306777324214, 11.201823867066764, 6.098780784515152, 7.734313751993728, 30.027123714777467, 2.934047020446415, 1.5733556811116218, 19.6588359330648, 8.350679895109621, 4.048732574590216], \"showlegend\": true, \"subplot\": \"polar\", \"theta\": [\"Administrative ledere og politikere\", \"Akademiske yrker\", \"H\\u00e5ndverkere o.l.\", \"Kontor og kundeserviceyrker\", \"Prosess og maskinoperat\\u00f8rer, transportarbeidere mv.\", \"Salgs , service og omsorgsyrker\", \"Ukjent\", \"Yrker innen jordbruk, skogbruk og fiske\", \"Yrker med kortere h\\u00f8yskole og universitetsutdanning og teknikere\", \"Yrker uten krav til utdanning\", \"Administrative ledere og politikere\"], \"type\": \"scatterpolar\"}, {\"hoverlabel\": {\"namelength\": 0}, \"hovertemplate\": \"arbeidssted_fylke_navn=Telemark<br>ansettelses_aar_mnd=201710<br>andel_fylke=%{r}<br>yrkesfelt_navn=%{theta}\", \"legendgroup\": \"arbeidssted_fylke_navn=Telemark\", \"line\": {\"color\": \"#FF9100\", \"dash\": \"solid\"}, \"mode\": \"lines\", \"name\": \"arbeidssted_fylke_navn=Telemark\", \"r\": [4.4507332132750195, 7.074864934396707, 13.815281708258297, 4.502186776434268, 12.503215847697453, 29.07126318497556, 3.190120915873424, 1.3120658605608437, 16.182145613583742, 7.8981219449446876, 4.4507332132750195], \"showlegend\": true, \"subplot\": \"polar\", \"theta\": [\"Administrative ledere og politikere\", \"Akademiske yrker\", \"H\\u00e5ndverkere o.l.\", \"Kontor og kundeserviceyrker\", \"Prosess og maskinoperat\\u00f8rer, transportarbeidere mv.\", \"Salgs , service og omsorgsyrker\", \"Ukjent\", \"Yrker innen jordbruk, skogbruk og fiske\", \"Yrker med kortere h\\u00f8yskole og universitetsutdanning og teknikere\", \"Yrker uten krav til utdanning\", \"Administrative ledere og politikere\"], \"type\": \"scatterpolar\"}], \"name\": \"201710\"}, {\"data\": [{\"hoverlabel\": {\"namelength\": 0}, \"hovertemplate\": \"arbeidssted_fylke_navn=I alt<br>ansettelses_aar_mnd=201711<br>andel_fylke=%{r}<br>yrkesfelt_navn=%{theta}\", \"legendgroup\": \"arbeidssted_fylke_navn=I alt\", \"line\": {\"color\": \"#C30000\", \"dash\": \"solid\"}, \"mode\": \"lines\", \"name\": \"arbeidssted_fylke_navn=I alt\", \"r\": [4.022625258444299, 8.512324980984927, 9.685367499758964, 6.444770587164022, 7.475333968954546, 32.54202063269307, 2.6278294963951705, 1.941144332437036, 17.46172881828018, 9.286854424887784, 4.022625258444299], \"showlegend\": true, \"subplot\": \"polar\", \"theta\": [\"Administrative ledere og politikere\", \"Akademiske yrker\", \"H\\u00e5ndverkere o.l.\", \"Kontor og kundeserviceyrker\", \"Prosess og maskinoperat\\u00f8rer, transportarbeidere mv.\", \"Salgs , service og omsorgsyrker\", \"Ukjent\", \"Yrker innen jordbruk, skogbruk og fiske\", \"Yrker med kortere h\\u00f8yskole og universitetsutdanning og teknikere\", \"Yrker uten krav til utdanning\", \"Administrative ledere og politikere\"], \"type\": \"scatterpolar\"}, {\"hoverlabel\": {\"namelength\": 0}, \"hovertemplate\": \"arbeidssted_fylke_navn=Telemark<br>ansettelses_aar_mnd=201711<br>andel_fylke=%{r}<br>yrkesfelt_navn=%{theta}\", \"legendgroup\": \"arbeidssted_fylke_navn=Telemark\", \"line\": {\"color\": \"#FF9100\", \"dash\": \"solid\"}, \"mode\": \"lines\", \"name\": \"arbeidssted_fylke_navn=Telemark\", \"r\": [4.896848787123101, 8.66016776241215, 7.050555429607798, 3.1738834731353434, 6.053049195193833, 35.52482430287917, 4.602131036046248, 0.6347766946270686, 20.856948537746543, 8.546814781228747, 4.896848787123101], \"showlegend\": true, \"subplot\": \"polar\", \"theta\": [\"Administrative ledere og politikere\", \"Akademiske yrker\", \"H\\u00e5ndverkere o.l.\", \"Kontor og kundeserviceyrker\", \"Prosess og maskinoperat\\u00f8rer, transportarbeidere mv.\", \"Salgs , service og omsorgsyrker\", \"Ukjent\", \"Yrker innen jordbruk, skogbruk og fiske\", \"Yrker med kortere h\\u00f8yskole og universitetsutdanning og teknikere\", \"Yrker uten krav til utdanning\", \"Administrative ledere og politikere\"], \"type\": \"scatterpolar\"}], \"name\": \"201711\"}, {\"data\": [{\"hoverlabel\": {\"namelength\": 0}, \"hovertemplate\": \"arbeidssted_fylke_navn=I alt<br>ansettelses_aar_mnd=201712<br>andel_fylke=%{r}<br>yrkesfelt_navn=%{theta}\", \"legendgroup\": \"arbeidssted_fylke_navn=I alt\", \"line\": {\"color\": \"#C30000\", \"dash\": \"solid\"}, \"mode\": \"lines\", \"name\": \"arbeidssted_fylke_navn=I alt\", \"r\": [4.58762601085632, 7.6797385620915035, 7.976071784646062, 6.264539714190761, 8.207322477013404, 32.800210479672096, 2.5894538606403015, 3.2887448764816662, 16.508806912595546, 10.097485321812341, 4.58762601085632], \"showlegend\": true, \"subplot\": \"polar\", \"theta\": [\"Administrative ledere og politikere\", \"Akademiske yrker\", \"H\\u00e5ndverkere o.l.\", \"Kontor og kundeserviceyrker\", \"Prosess og maskinoperat\\u00f8rer, transportarbeidere mv.\", \"Salgs , service og omsorgsyrker\", \"Ukjent\", \"Yrker innen jordbruk, skogbruk og fiske\", \"Yrker med kortere h\\u00f8yskole og universitetsutdanning og teknikere\", \"Yrker uten krav til utdanning\", \"Administrative ledere og politikere\"], \"type\": \"scatterpolar\"}, {\"hoverlabel\": {\"namelength\": 0}, \"hovertemplate\": \"arbeidssted_fylke_navn=Telemark<br>ansettelses_aar_mnd=201712<br>andel_fylke=%{r}<br>yrkesfelt_navn=%{theta}\", \"legendgroup\": \"arbeidssted_fylke_navn=Telemark\", \"line\": {\"color\": \"#FF9100\", \"dash\": \"solid\"}, \"mode\": \"lines\", \"name\": \"arbeidssted_fylke_navn=Telemark\", \"r\": [6.8379160636758325, 5.065123010130246, 10.89001447178003, 4.667149059334298, 10.383502170767004, 32.45296671490593, 2.2431259044862517, 2.6410998552822, 13.024602026049203, 11.794500723589001, 6.8379160636758325], \"showlegend\": true, \"subplot\": \"polar\", \"theta\": [\"Administrative ledere og politikere\", \"Akademiske yrker\", \"H\\u00e5ndverkere o.l.\", \"Kontor og kundeserviceyrker\", \"Prosess og maskinoperat\\u00f8rer, transportarbeidere mv.\", \"Salgs , service og omsorgsyrker\", \"Ukjent\", \"Yrker innen jordbruk, skogbruk og fiske\", \"Yrker med kortere h\\u00f8yskole og universitetsutdanning og teknikere\", \"Yrker uten krav til utdanning\", \"Administrative ledere og politikere\"], \"type\": \"scatterpolar\"}], \"name\": \"201712\"}]);\n",
       "                        }).then(function(){\n",
       "                            \n",
       "var gd = document.getElementById('f438cbfd-aae9-459f-9048-9ff2cb5f0b99');\n",
       "var x = new MutationObserver(function (mutations, observer) {{\n",
       "        var display = window.getComputedStyle(gd).display;\n",
       "        if (!display || display === 'none') {{\n",
       "            console.log([gd, 'removed!']);\n",
       "            Plotly.purge(gd);\n",
       "            observer.disconnect();\n",
       "        }}\n",
       "}});\n",
       "\n",
       "// Listen for the removal of the full notebook cells\n",
       "var notebookContainer = gd.closest('#notebook-container');\n",
       "if (notebookContainer) {{\n",
       "    x.observe(notebookContainer, {childList: true});\n",
       "}}\n",
       "\n",
       "// Listen for the clearing of the current output cell\n",
       "var outputEl = gd.closest('.output');\n",
       "if (outputEl) {{\n",
       "    x.observe(outputEl, {childList: true});\n",
       "}}\n",
       "\n",
       "                        })\n",
       "                };\n",
       "                });\n",
       "            </script>\n",
       "        </div>"
      ]
     },
     "metadata": {},
     "output_type": "display_data"
    }
   ],
   "source": [
    "plotFylke('Telemark').show()"
   ]
  },
  {
   "cell_type": "code",
   "execution_count": 290,
   "metadata": {},
   "outputs": [
    {
     "data": {
      "application/vnd.plotly.v1+json": {
       "config": {
        "plotlyServerURL": "https://plot.ly"
       },
       "data": [
        {
         "hoverlabel": {
          "namelength": 0
         },
         "hovertemplate": "arbeidssted_fylke_navn=I alt<br>ansettelses_aar_mnd=201701<br>andel_fylke=%{r}<br>yrkesfelt_navn=%{theta}",
         "legendgroup": "arbeidssted_fylke_navn=I alt",
         "line": {
          "color": "#C30000",
          "dash": "solid"
         },
         "mode": "lines",
         "name": "arbeidssted_fylke_navn=I alt",
         "r": [
          6.000115944269455,
          14.196409592455893,
          8.86007459081335,
          5.069180080774507,
          5.574020754024232,
          27.795706197221204,
          3.0068213878529053,
          0.9695839533131075,
          22.05694796034706,
          6.471139538928289,
          6.000115944269455
         ],
         "showlegend": true,
         "subplot": "polar",
         "theta": [
          "Administrative ledere og politikere",
          "Akademiske yrker",
          "Håndverkere o.l.",
          "Kontor og kundeserviceyrker",
          "Prosess og maskinoperatører, transportarbeidere mv.",
          "Salgs , service og omsorgsyrker",
          "Ukjent",
          "Yrker innen jordbruk, skogbruk og fiske",
          "Yrker med kortere høyskole og universitetsutdanning og teknikere",
          "Yrker uten krav til utdanning",
          "Administrative ledere og politikere"
         ],
         "type": "scatterpolar"
        },
        {
         "hoverlabel": {
          "namelength": 0
         },
         "hovertemplate": "arbeidssted_fylke_navn=Buskerud<br>ansettelses_aar_mnd=201701<br>andel_fylke=%{r}<br>yrkesfelt_navn=%{theta}",
         "legendgroup": "arbeidssted_fylke_navn=Buskerud",
         "line": {
          "color": "#FF9100",
          "dash": "solid"
         },
         "mode": "lines",
         "name": "arbeidssted_fylke_navn=Buskerud",
         "r": [
          8.286252354048964,
          10.036556995679629,
          12.518001550902847,
          7.189542483660131,
          5.649717514124294,
          25.002769469369667,
          2.3595879029577933,
          1.805694029024039,
          19.1204165281932,
          8.031461172039437,
          8.286252354048964
         ],
         "showlegend": true,
         "subplot": "polar",
         "theta": [
          "Administrative ledere og politikere",
          "Akademiske yrker",
          "Håndverkere o.l.",
          "Kontor og kundeserviceyrker",
          "Prosess og maskinoperatører, transportarbeidere mv.",
          "Salgs , service og omsorgsyrker",
          "Ukjent",
          "Yrker innen jordbruk, skogbruk og fiske",
          "Yrker med kortere høyskole og universitetsutdanning og teknikere",
          "Yrker uten krav til utdanning",
          "Administrative ledere og politikere"
         ],
         "type": "scatterpolar"
        }
       ],
       "frames": [
        {
         "data": [
          {
           "hoverlabel": {
            "namelength": 0
           },
           "hovertemplate": "arbeidssted_fylke_navn=I alt<br>ansettelses_aar_mnd=201701<br>andel_fylke=%{r}<br>yrkesfelt_navn=%{theta}",
           "legendgroup": "arbeidssted_fylke_navn=I alt",
           "line": {
            "color": "#C30000",
            "dash": "solid"
           },
           "mode": "lines",
           "name": "arbeidssted_fylke_navn=I alt",
           "r": [
            6.000115944269455,
            14.196409592455893,
            8.86007459081335,
            5.069180080774507,
            5.574020754024232,
            27.795706197221204,
            3.0068213878529053,
            0.9695839533131075,
            22.05694796034706,
            6.471139538928289,
            6.000115944269455
           ],
           "showlegend": true,
           "subplot": "polar",
           "theta": [
            "Administrative ledere og politikere",
            "Akademiske yrker",
            "Håndverkere o.l.",
            "Kontor og kundeserviceyrker",
            "Prosess og maskinoperatører, transportarbeidere mv.",
            "Salgs , service og omsorgsyrker",
            "Ukjent",
            "Yrker innen jordbruk, skogbruk og fiske",
            "Yrker med kortere høyskole og universitetsutdanning og teknikere",
            "Yrker uten krav til utdanning",
            "Administrative ledere og politikere"
           ],
           "type": "scatterpolar"
          },
          {
           "hoverlabel": {
            "namelength": 0
           },
           "hovertemplate": "arbeidssted_fylke_navn=Buskerud<br>ansettelses_aar_mnd=201701<br>andel_fylke=%{r}<br>yrkesfelt_navn=%{theta}",
           "legendgroup": "arbeidssted_fylke_navn=Buskerud",
           "line": {
            "color": "#FF9100",
            "dash": "solid"
           },
           "mode": "lines",
           "name": "arbeidssted_fylke_navn=Buskerud",
           "r": [
            8.286252354048964,
            10.036556995679629,
            12.518001550902847,
            7.189542483660131,
            5.649717514124294,
            25.002769469369667,
            2.3595879029577933,
            1.805694029024039,
            19.1204165281932,
            8.031461172039437,
            8.286252354048964
           ],
           "showlegend": true,
           "subplot": "polar",
           "theta": [
            "Administrative ledere og politikere",
            "Akademiske yrker",
            "Håndverkere o.l.",
            "Kontor og kundeserviceyrker",
            "Prosess og maskinoperatører, transportarbeidere mv.",
            "Salgs , service og omsorgsyrker",
            "Ukjent",
            "Yrker innen jordbruk, skogbruk og fiske",
            "Yrker med kortere høyskole og universitetsutdanning og teknikere",
            "Yrker uten krav til utdanning",
            "Administrative ledere og politikere"
           ],
           "type": "scatterpolar"
          }
         ],
         "name": "201701"
        },
        {
         "data": [
          {
           "hoverlabel": {
            "namelength": 0
           },
           "hovertemplate": "arbeidssted_fylke_navn=I alt<br>ansettelses_aar_mnd=201702<br>andel_fylke=%{r}<br>yrkesfelt_navn=%{theta}",
           "legendgroup": "arbeidssted_fylke_navn=I alt",
           "line": {
            "color": "#C30000",
            "dash": "solid"
           },
           "mode": "lines",
           "name": "arbeidssted_fylke_navn=I alt",
           "r": [
            3.9994999062324186,
            9.723073076201787,
            10.456960680127525,
            5.663561917859599,
            8.089016690629492,
            30.419453647558917,
            3.0080640120022504,
            1.4165155966743765,
            17.767081327748954,
            9.45677314496468,
            3.9994999062324186
           ],
           "showlegend": true,
           "subplot": "polar",
           "theta": [
            "Administrative ledere og politikere",
            "Akademiske yrker",
            "Håndverkere o.l.",
            "Kontor og kundeserviceyrker",
            "Prosess og maskinoperatører, transportarbeidere mv.",
            "Salgs , service og omsorgsyrker",
            "Ukjent",
            "Yrker innen jordbruk, skogbruk og fiske",
            "Yrker med kortere høyskole og universitetsutdanning og teknikere",
            "Yrker uten krav til utdanning",
            "Administrative ledere og politikere"
           ],
           "type": "scatterpolar"
          },
          {
           "hoverlabel": {
            "namelength": 0
           },
           "hovertemplate": "arbeidssted_fylke_navn=Buskerud<br>ansettelses_aar_mnd=201702<br>andel_fylke=%{r}<br>yrkesfelt_navn=%{theta}",
           "legendgroup": "arbeidssted_fylke_navn=Buskerud",
           "line": {
            "color": "#FF9100",
            "dash": "solid"
           },
           "mode": "lines",
           "name": "arbeidssted_fylke_navn=Buskerud",
           "r": [
            6.151832460732984,
            7.984293193717278,
            10.68935427574171,
            6.173647469458988,
            5.955497382198953,
            32.37347294938918,
            2.9013961605584644,
            2.0506108202443283,
            15.903141361256544,
            9.81675392670157,
            6.151832460732984
           ],
           "showlegend": true,
           "subplot": "polar",
           "theta": [
            "Administrative ledere og politikere",
            "Akademiske yrker",
            "Håndverkere o.l.",
            "Kontor og kundeserviceyrker",
            "Prosess og maskinoperatører, transportarbeidere mv.",
            "Salgs , service og omsorgsyrker",
            "Ukjent",
            "Yrker innen jordbruk, skogbruk og fiske",
            "Yrker med kortere høyskole og universitetsutdanning og teknikere",
            "Yrker uten krav til utdanning",
            "Administrative ledere og politikere"
           ],
           "type": "scatterpolar"
          }
         ],
         "name": "201702"
        },
        {
         "data": [
          {
           "hoverlabel": {
            "namelength": 0
           },
           "hovertemplate": "arbeidssted_fylke_navn=I alt<br>ansettelses_aar_mnd=201703<br>andel_fylke=%{r}<br>yrkesfelt_navn=%{theta}",
           "legendgroup": "arbeidssted_fylke_navn=I alt",
           "line": {
            "color": "#C30000",
            "dash": "solid"
           },
           "mode": "lines",
           "name": "arbeidssted_fylke_navn=I alt",
           "r": [
            4.161149189063212,
            9.240759769907942,
            10.019386209307498,
            6.0934139856139495,
            8.22271894233927,
            31.15882920008051,
            2.933355932921597,
            1.7489962604743794,
            17.578948483532315,
            8.842442026759326,
            4.161149189063212
           ],
           "showlegend": true,
           "subplot": "polar",
           "theta": [
            "Administrative ledere og politikere",
            "Akademiske yrker",
            "Håndverkere o.l.",
            "Kontor og kundeserviceyrker",
            "Prosess og maskinoperatører, transportarbeidere mv.",
            "Salgs , service og omsorgsyrker",
            "Ukjent",
            "Yrker innen jordbruk, skogbruk og fiske",
            "Yrker med kortere høyskole og universitetsutdanning og teknikere",
            "Yrker uten krav til utdanning",
            "Administrative ledere og politikere"
           ],
           "type": "scatterpolar"
          },
          {
           "hoverlabel": {
            "namelength": 0
           },
           "hovertemplate": "arbeidssted_fylke_navn=Buskerud<br>ansettelses_aar_mnd=201703<br>andel_fylke=%{r}<br>yrkesfelt_navn=%{theta}",
           "legendgroup": "arbeidssted_fylke_navn=Buskerud",
           "line": {
            "color": "#FF9100",
            "dash": "solid"
           },
           "mode": "lines",
           "name": "arbeidssted_fylke_navn=Buskerud",
           "r": [
            6.532140628250468,
            7.8635323486582065,
            10.484709798210943,
            7.1146245059288535,
            5.720823798627002,
            28.85375494071146,
            2.6627834408154776,
            3.8693571874349906,
            16.163927605575203,
            10.734345745787394,
            6.532140628250468
           ],
           "showlegend": true,
           "subplot": "polar",
           "theta": [
            "Administrative ledere og politikere",
            "Akademiske yrker",
            "Håndverkere o.l.",
            "Kontor og kundeserviceyrker",
            "Prosess og maskinoperatører, transportarbeidere mv.",
            "Salgs , service og omsorgsyrker",
            "Ukjent",
            "Yrker innen jordbruk, skogbruk og fiske",
            "Yrker med kortere høyskole og universitetsutdanning og teknikere",
            "Yrker uten krav til utdanning",
            "Administrative ledere og politikere"
           ],
           "type": "scatterpolar"
          }
         ],
         "name": "201703"
        },
        {
         "data": [
          {
           "hoverlabel": {
            "namelength": 0
           },
           "hovertemplate": "arbeidssted_fylke_navn=I alt<br>ansettelses_aar_mnd=201704<br>andel_fylke=%{r}<br>yrkesfelt_navn=%{theta}",
           "legendgroup": "arbeidssted_fylke_navn=I alt",
           "line": {
            "color": "#C30000",
            "dash": "solid"
           },
           "mode": "lines",
           "name": "arbeidssted_fylke_navn=I alt",
           "r": [
            3.8743985819194733,
            7.836276157370105,
            11.80160685098644,
            6.16381592578098,
            7.486360183245471,
            30.031768687124472,
            2.8822026289739635,
            2.3297037224613826,
            16.329795805612466,
            11.264071456525242,
            3.8743985819194733
           ],
           "showlegend": true,
           "subplot": "polar",
           "theta": [
            "Administrative ledere og politikere",
            "Akademiske yrker",
            "Håndverkere o.l.",
            "Kontor og kundeserviceyrker",
            "Prosess og maskinoperatører, transportarbeidere mv.",
            "Salgs , service og omsorgsyrker",
            "Ukjent",
            "Yrker innen jordbruk, skogbruk og fiske",
            "Yrker med kortere høyskole og universitetsutdanning og teknikere",
            "Yrker uten krav til utdanning",
            "Administrative ledere og politikere"
           ],
           "type": "scatterpolar"
          },
          {
           "hoverlabel": {
            "namelength": 0
           },
           "hovertemplate": "arbeidssted_fylke_navn=Buskerud<br>ansettelses_aar_mnd=201704<br>andel_fylke=%{r}<br>yrkesfelt_navn=%{theta}",
           "legendgroup": "arbeidssted_fylke_navn=Buskerud",
           "line": {
            "color": "#FF9100",
            "dash": "solid"
           },
           "mode": "lines",
           "name": "arbeidssted_fylke_navn=Buskerud",
           "r": [
            5.18614558251528,
            6.056677162437488,
            11.502130024078532,
            5.908501574365623,
            6.056677162437488,
            32.617151324319316,
            2.185589924060011,
            4.797184663826634,
            12.724578625671422,
            12.965363956288202,
            5.18614558251528
           ],
           "showlegend": true,
           "subplot": "polar",
           "theta": [
            "Administrative ledere og politikere",
            "Akademiske yrker",
            "Håndverkere o.l.",
            "Kontor og kundeserviceyrker",
            "Prosess og maskinoperatører, transportarbeidere mv.",
            "Salgs , service og omsorgsyrker",
            "Ukjent",
            "Yrker innen jordbruk, skogbruk og fiske",
            "Yrker med kortere høyskole og universitetsutdanning og teknikere",
            "Yrker uten krav til utdanning",
            "Administrative ledere og politikere"
           ],
           "type": "scatterpolar"
          }
         ],
         "name": "201704"
        },
        {
         "data": [
          {
           "hoverlabel": {
            "namelength": 0
           },
           "hovertemplate": "arbeidssted_fylke_navn=I alt<br>ansettelses_aar_mnd=201705<br>andel_fylke=%{r}<br>yrkesfelt_navn=%{theta}",
           "legendgroup": "arbeidssted_fylke_navn=I alt",
           "line": {
            "color": "#C30000",
            "dash": "solid"
           },
           "mode": "lines",
           "name": "arbeidssted_fylke_navn=I alt",
           "r": [
            3.7899421122118304,
            7.00562259377914,
            12.321697303186136,
            7.012085345249416,
            8.281554384053623,
            30.542963448524183,
            3.0254909382991886,
            2.3856785427418683,
            14.5855068182028,
            11.049458513751812,
            3.7899421122118304
           ],
           "showlegend": true,
           "subplot": "polar",
           "theta": [
            "Administrative ledere og politikere",
            "Akademiske yrker",
            "Håndverkere o.l.",
            "Kontor og kundeserviceyrker",
            "Prosess og maskinoperatører, transportarbeidere mv.",
            "Salgs , service og omsorgsyrker",
            "Ukjent",
            "Yrker innen jordbruk, skogbruk og fiske",
            "Yrker med kortere høyskole og universitetsutdanning og teknikere",
            "Yrker uten krav til utdanning",
            "Administrative ledere og politikere"
           ],
           "type": "scatterpolar"
          },
          {
           "hoverlabel": {
            "namelength": 0
           },
           "hovertemplate": "arbeidssted_fylke_navn=Buskerud<br>ansettelses_aar_mnd=201705<br>andel_fylke=%{r}<br>yrkesfelt_navn=%{theta}",
           "legendgroup": "arbeidssted_fylke_navn=Buskerud",
           "line": {
            "color": "#FF9100",
            "dash": "solid"
           },
           "mode": "lines",
           "name": "arbeidssted_fylke_navn=Buskerud",
           "r": [
            5.968720076603894,
            7.628471113948293,
            10.94797318863709,
            6.383657835939994,
            6.1123523779125435,
            28.566868815831473,
            3.8461538461538463,
            4.596233641876795,
            13.772741781040537,
            12.176827322055537,
            5.968720076603894
           ],
           "showlegend": true,
           "subplot": "polar",
           "theta": [
            "Administrative ledere og politikere",
            "Akademiske yrker",
            "Håndverkere o.l.",
            "Kontor og kundeserviceyrker",
            "Prosess og maskinoperatører, transportarbeidere mv.",
            "Salgs , service og omsorgsyrker",
            "Ukjent",
            "Yrker innen jordbruk, skogbruk og fiske",
            "Yrker med kortere høyskole og universitetsutdanning og teknikere",
            "Yrker uten krav til utdanning",
            "Administrative ledere og politikere"
           ],
           "type": "scatterpolar"
          }
         ],
         "name": "201705"
        },
        {
         "data": [
          {
           "hoverlabel": {
            "namelength": 0
           },
           "hovertemplate": "arbeidssted_fylke_navn=I alt<br>ansettelses_aar_mnd=201706<br>andel_fylke=%{r}<br>yrkesfelt_navn=%{theta}",
           "legendgroup": "arbeidssted_fylke_navn=I alt",
           "line": {
            "color": "#C30000",
            "dash": "solid"
           },
           "mode": "lines",
           "name": "arbeidssted_fylke_navn=I alt",
           "r": [
            2.352166345203933,
            6.199638438430366,
            9.794420661429177,
            7.3562322327434995,
            7.910671442684427,
            33.3120518283053,
            2.7849649527214564,
            2.4549896168657046,
            14.451710024932963,
            13.383154456683176,
            2.352166345203933
           ],
           "showlegend": true,
           "subplot": "polar",
           "theta": [
            "Administrative ledere og politikere",
            "Akademiske yrker",
            "Håndverkere o.l.",
            "Kontor og kundeserviceyrker",
            "Prosess og maskinoperatører, transportarbeidere mv.",
            "Salgs , service og omsorgsyrker",
            "Ukjent",
            "Yrker innen jordbruk, skogbruk og fiske",
            "Yrker med kortere høyskole og universitetsutdanning og teknikere",
            "Yrker uten krav til utdanning",
            "Administrative ledere og politikere"
           ],
           "type": "scatterpolar"
          },
          {
           "hoverlabel": {
            "namelength": 0
           },
           "hovertemplate": "arbeidssted_fylke_navn=Buskerud<br>ansettelses_aar_mnd=201706<br>andel_fylke=%{r}<br>yrkesfelt_navn=%{theta}",
           "legendgroup": "arbeidssted_fylke_navn=Buskerud",
           "line": {
            "color": "#FF9100",
            "dash": "solid"
           },
           "mode": "lines",
           "name": "arbeidssted_fylke_navn=Buskerud",
           "r": [
            2.917093142272262,
            4.529170931422723,
            9.442169907881269,
            8.687308085977483,
            6.768167860798362,
            30.245649948822926,
            2.430910951893552,
            4.580348004094166,
            13.165301944728762,
            17.233879222108495,
            2.917093142272262
           ],
           "showlegend": true,
           "subplot": "polar",
           "theta": [
            "Administrative ledere og politikere",
            "Akademiske yrker",
            "Håndverkere o.l.",
            "Kontor og kundeserviceyrker",
            "Prosess og maskinoperatører, transportarbeidere mv.",
            "Salgs , service og omsorgsyrker",
            "Ukjent",
            "Yrker innen jordbruk, skogbruk og fiske",
            "Yrker med kortere høyskole og universitetsutdanning og teknikere",
            "Yrker uten krav til utdanning",
            "Administrative ledere og politikere"
           ],
           "type": "scatterpolar"
          }
         ],
         "name": "201706"
        },
        {
         "data": [
          {
           "hoverlabel": {
            "namelength": 0
           },
           "hovertemplate": "arbeidssted_fylke_navn=I alt<br>ansettelses_aar_mnd=201707<br>andel_fylke=%{r}<br>yrkesfelt_navn=%{theta}",
           "legendgroup": "arbeidssted_fylke_navn=I alt",
           "line": {
            "color": "#C30000",
            "dash": "solid"
           },
           "mode": "lines",
           "name": "arbeidssted_fylke_navn=I alt",
           "r": [
            2.8032227172419537,
            6.063413415497356,
            10.454053378856644,
            6.6983803139442895,
            8.91139609443311,
            30.077653328892033,
            3.3778157138693428,
            3.6276387558812506,
            13.04076279302161,
            14.94566348836241,
            2.8032227172419537
           ],
           "showlegend": true,
           "subplot": "polar",
           "theta": [
            "Administrative ledere og politikere",
            "Akademiske yrker",
            "Håndverkere o.l.",
            "Kontor og kundeserviceyrker",
            "Prosess og maskinoperatører, transportarbeidere mv.",
            "Salgs , service og omsorgsyrker",
            "Ukjent",
            "Yrker innen jordbruk, skogbruk og fiske",
            "Yrker med kortere høyskole og universitetsutdanning og teknikere",
            "Yrker uten krav til utdanning",
            "Administrative ledere og politikere"
           ],
           "type": "scatterpolar"
          },
          {
           "hoverlabel": {
            "namelength": 0
           },
           "hovertemplate": "arbeidssted_fylke_navn=Buskerud<br>ansettelses_aar_mnd=201707<br>andel_fylke=%{r}<br>yrkesfelt_navn=%{theta}",
           "legendgroup": "arbeidssted_fylke_navn=Buskerud",
           "line": {
            "color": "#FF9100",
            "dash": "solid"
           },
           "mode": "lines",
           "name": "arbeidssted_fylke_navn=Buskerud",
           "r": [
            3.6626166578622996,
            3.363268181017785,
            12.079591477372777,
            7.818277865821448,
            7.254798379996478,
            26.3954921641134,
            2.518048952280331,
            10.653284028878323,
            10.44197922169396,
            15.812643070963198,
            3.6626166578622996
           ],
           "showlegend": true,
           "subplot": "polar",
           "theta": [
            "Administrative ledere og politikere",
            "Akademiske yrker",
            "Håndverkere o.l.",
            "Kontor og kundeserviceyrker",
            "Prosess og maskinoperatører, transportarbeidere mv.",
            "Salgs , service og omsorgsyrker",
            "Ukjent",
            "Yrker innen jordbruk, skogbruk og fiske",
            "Yrker med kortere høyskole og universitetsutdanning og teknikere",
            "Yrker uten krav til utdanning",
            "Administrative ledere og politikere"
           ],
           "type": "scatterpolar"
          }
         ],
         "name": "201707"
        },
        {
         "data": [
          {
           "hoverlabel": {
            "namelength": 0
           },
           "hovertemplate": "arbeidssted_fylke_navn=I alt<br>ansettelses_aar_mnd=201708<br>andel_fylke=%{r}<br>yrkesfelt_navn=%{theta}",
           "legendgroup": "arbeidssted_fylke_navn=I alt",
           "line": {
            "color": "#C30000",
            "dash": "solid"
           },
           "mode": "lines",
           "name": "arbeidssted_fylke_navn=I alt",
           "r": [
            3.432066284702523,
            11.894089115268798,
            9.056166185574723,
            4.516237632404192,
            5.509385968740453,
            29.969638214702087,
            2.6851788352795216,
            1.319833664798409,
            24.558133155443613,
            7.05927094308568,
            3.432066284702523
           ],
           "showlegend": true,
           "subplot": "polar",
           "theta": [
            "Administrative ledere og politikere",
            "Akademiske yrker",
            "Håndverkere o.l.",
            "Kontor og kundeserviceyrker",
            "Prosess og maskinoperatører, transportarbeidere mv.",
            "Salgs , service og omsorgsyrker",
            "Ukjent",
            "Yrker innen jordbruk, skogbruk og fiske",
            "Yrker med kortere høyskole og universitetsutdanning og teknikere",
            "Yrker uten krav til utdanning",
            "Administrative ledere og politikere"
           ],
           "type": "scatterpolar"
          },
          {
           "hoverlabel": {
            "namelength": 0
           },
           "hovertemplate": "arbeidssted_fylke_navn=Buskerud<br>ansettelses_aar_mnd=201708<br>andel_fylke=%{r}<br>yrkesfelt_navn=%{theta}",
           "legendgroup": "arbeidssted_fylke_navn=Buskerud",
           "line": {
            "color": "#FF9100",
            "dash": "solid"
           },
           "mode": "lines",
           "name": "arbeidssted_fylke_navn=Buskerud",
           "r": [
            5.503709021296961,
            8.53074898301029,
            11.11509930605408,
            5.8626465661641545,
            5.575496530270399,
            28.415888968652787,
            2.189519023689878,
            2.4527398899258195,
            20.710696338837042,
            9.643455372098588,
            5.503709021296961
           ],
           "showlegend": true,
           "subplot": "polar",
           "theta": [
            "Administrative ledere og politikere",
            "Akademiske yrker",
            "Håndverkere o.l.",
            "Kontor og kundeserviceyrker",
            "Prosess og maskinoperatører, transportarbeidere mv.",
            "Salgs , service og omsorgsyrker",
            "Ukjent",
            "Yrker innen jordbruk, skogbruk og fiske",
            "Yrker med kortere høyskole og universitetsutdanning og teknikere",
            "Yrker uten krav til utdanning",
            "Administrative ledere og politikere"
           ],
           "type": "scatterpolar"
          }
         ],
         "name": "201708"
        },
        {
         "data": [
          {
           "hoverlabel": {
            "namelength": 0
           },
           "hovertemplate": "arbeidssted_fylke_navn=I alt<br>ansettelses_aar_mnd=201709<br>andel_fylke=%{r}<br>yrkesfelt_navn=%{theta}",
           "legendgroup": "arbeidssted_fylke_navn=I alt",
           "line": {
            "color": "#C30000",
            "dash": "solid"
           },
           "mode": "lines",
           "name": "arbeidssted_fylke_navn=I alt",
           "r": [
            3.700578688041774,
            11.21795126921332,
            9.708745592180149,
            5.529774176344634,
            6.783465601095289,
            31.768938700459287,
            3.1155226898248016,
            1.8084996298625318,
            17.343925367550487,
            9.022598285427728,
            3.700578688041774
           ],
           "showlegend": true,
           "subplot": "polar",
           "theta": [
            "Administrative ledere og politikere",
            "Akademiske yrker",
            "Håndverkere o.l.",
            "Kontor og kundeserviceyrker",
            "Prosess og maskinoperatører, transportarbeidere mv.",
            "Salgs , service og omsorgsyrker",
            "Ukjent",
            "Yrker innen jordbruk, skogbruk og fiske",
            "Yrker med kortere høyskole og universitetsutdanning og teknikere",
            "Yrker uten krav til utdanning",
            "Administrative ledere og politikere"
           ],
           "type": "scatterpolar"
          },
          {
           "hoverlabel": {
            "namelength": 0
           },
           "hovertemplate": "arbeidssted_fylke_navn=Buskerud<br>ansettelses_aar_mnd=201709<br>andel_fylke=%{r}<br>yrkesfelt_navn=%{theta}",
           "legendgroup": "arbeidssted_fylke_navn=Buskerud",
           "line": {
            "color": "#FF9100",
            "dash": "solid"
           },
           "mode": "lines",
           "name": "arbeidssted_fylke_navn=Buskerud",
           "r": [
            5.612320450170294,
            6.945061454168518,
            10.706352732119058,
            6.012142751369762,
            6.5156226862135345,
            31.734044128535466,
            2.4433585073300756,
            3.094920775951429,
            15.519028579890419,
            11.417147934251444,
            5.612320450170294
           ],
           "showlegend": true,
           "subplot": "polar",
           "theta": [
            "Administrative ledere og politikere",
            "Akademiske yrker",
            "Håndverkere o.l.",
            "Kontor og kundeserviceyrker",
            "Prosess og maskinoperatører, transportarbeidere mv.",
            "Salgs , service og omsorgsyrker",
            "Ukjent",
            "Yrker innen jordbruk, skogbruk og fiske",
            "Yrker med kortere høyskole og universitetsutdanning og teknikere",
            "Yrker uten krav til utdanning",
            "Administrative ledere og politikere"
           ],
           "type": "scatterpolar"
          }
         ],
         "name": "201709"
        },
        {
         "data": [
          {
           "hoverlabel": {
            "namelength": 0
           },
           "hovertemplate": "arbeidssted_fylke_navn=I alt<br>ansettelses_aar_mnd=201710<br>andel_fylke=%{r}<br>yrkesfelt_navn=%{theta}",
           "legendgroup": "arbeidssted_fylke_navn=I alt",
           "line": {
            "color": "#C30000",
            "dash": "solid"
           },
           "mode": "lines",
           "name": "arbeidssted_fylke_navn=I alt",
           "r": [
            4.048732574590216,
            8.372306777324214,
            11.201823867066764,
            6.098780784515152,
            7.734313751993728,
            30.027123714777467,
            2.934047020446415,
            1.5733556811116218,
            19.6588359330648,
            8.350679895109621,
            4.048732574590216
           ],
           "showlegend": true,
           "subplot": "polar",
           "theta": [
            "Administrative ledere og politikere",
            "Akademiske yrker",
            "Håndverkere o.l.",
            "Kontor og kundeserviceyrker",
            "Prosess og maskinoperatører, transportarbeidere mv.",
            "Salgs , service og omsorgsyrker",
            "Ukjent",
            "Yrker innen jordbruk, skogbruk og fiske",
            "Yrker med kortere høyskole og universitetsutdanning og teknikere",
            "Yrker uten krav til utdanning",
            "Administrative ledere og politikere"
           ],
           "type": "scatterpolar"
          },
          {
           "hoverlabel": {
            "namelength": 0
           },
           "hovertemplate": "arbeidssted_fylke_navn=Buskerud<br>ansettelses_aar_mnd=201710<br>andel_fylke=%{r}<br>yrkesfelt_navn=%{theta}",
           "legendgroup": "arbeidssted_fylke_navn=Buskerud",
           "line": {
            "color": "#FF9100",
            "dash": "solid"
           },
           "mode": "lines",
           "name": "arbeidssted_fylke_navn=Buskerud",
           "r": [
            5.67418246976258,
            6.435717485441242,
            12.453337315215768,
            6.435717485441242,
            9.168284306405853,
            28.923398536658205,
            1.8665073913692698,
            2.7027027027027026,
            15.454681200537554,
            10.885471106465582,
            5.67418246976258
           ],
           "showlegend": true,
           "subplot": "polar",
           "theta": [
            "Administrative ledere og politikere",
            "Akademiske yrker",
            "Håndverkere o.l.",
            "Kontor og kundeserviceyrker",
            "Prosess og maskinoperatører, transportarbeidere mv.",
            "Salgs , service og omsorgsyrker",
            "Ukjent",
            "Yrker innen jordbruk, skogbruk og fiske",
            "Yrker med kortere høyskole og universitetsutdanning og teknikere",
            "Yrker uten krav til utdanning",
            "Administrative ledere og politikere"
           ],
           "type": "scatterpolar"
          }
         ],
         "name": "201710"
        },
        {
         "data": [
          {
           "hoverlabel": {
            "namelength": 0
           },
           "hovertemplate": "arbeidssted_fylke_navn=I alt<br>ansettelses_aar_mnd=201711<br>andel_fylke=%{r}<br>yrkesfelt_navn=%{theta}",
           "legendgroup": "arbeidssted_fylke_navn=I alt",
           "line": {
            "color": "#C30000",
            "dash": "solid"
           },
           "mode": "lines",
           "name": "arbeidssted_fylke_navn=I alt",
           "r": [
            4.022625258444299,
            8.512324980984927,
            9.685367499758964,
            6.444770587164022,
            7.475333968954546,
            32.54202063269307,
            2.6278294963951705,
            1.941144332437036,
            17.46172881828018,
            9.286854424887784,
            4.022625258444299
           ],
           "showlegend": true,
           "subplot": "polar",
           "theta": [
            "Administrative ledere og politikere",
            "Akademiske yrker",
            "Håndverkere o.l.",
            "Kontor og kundeserviceyrker",
            "Prosess og maskinoperatører, transportarbeidere mv.",
            "Salgs , service og omsorgsyrker",
            "Ukjent",
            "Yrker innen jordbruk, skogbruk og fiske",
            "Yrker med kortere høyskole og universitetsutdanning og teknikere",
            "Yrker uten krav til utdanning",
            "Administrative ledere og politikere"
           ],
           "type": "scatterpolar"
          },
          {
           "hoverlabel": {
            "namelength": 0
           },
           "hovertemplate": "arbeidssted_fylke_navn=Buskerud<br>ansettelses_aar_mnd=201711<br>andel_fylke=%{r}<br>yrkesfelt_navn=%{theta}",
           "legendgroup": "arbeidssted_fylke_navn=Buskerud",
           "line": {
            "color": "#FF9100",
            "dash": "solid"
           },
           "mode": "lines",
           "name": "arbeidssted_fylke_navn=Buskerud",
           "r": [
            4.605385329619313,
            5.348189415041783,
            10.73351903435469,
            6.220984215413185,
            8.765088207985144,
            33.50046425255339,
            2.116991643454039,
            2.7298050139275767,
            14.707520891364902,
            11.27205199628598,
            4.605385329619313
           ],
           "showlegend": true,
           "subplot": "polar",
           "theta": [
            "Administrative ledere og politikere",
            "Akademiske yrker",
            "Håndverkere o.l.",
            "Kontor og kundeserviceyrker",
            "Prosess og maskinoperatører, transportarbeidere mv.",
            "Salgs , service og omsorgsyrker",
            "Ukjent",
            "Yrker innen jordbruk, skogbruk og fiske",
            "Yrker med kortere høyskole og universitetsutdanning og teknikere",
            "Yrker uten krav til utdanning",
            "Administrative ledere og politikere"
           ],
           "type": "scatterpolar"
          }
         ],
         "name": "201711"
        },
        {
         "data": [
          {
           "hoverlabel": {
            "namelength": 0
           },
           "hovertemplate": "arbeidssted_fylke_navn=I alt<br>ansettelses_aar_mnd=201712<br>andel_fylke=%{r}<br>yrkesfelt_navn=%{theta}",
           "legendgroup": "arbeidssted_fylke_navn=I alt",
           "line": {
            "color": "#C30000",
            "dash": "solid"
           },
           "mode": "lines",
           "name": "arbeidssted_fylke_navn=I alt",
           "r": [
            4.58762601085632,
            7.6797385620915035,
            7.976071784646062,
            6.264539714190761,
            8.207322477013404,
            32.800210479672096,
            2.5894538606403015,
            3.2887448764816662,
            16.508806912595546,
            10.097485321812341,
            4.58762601085632
           ],
           "showlegend": true,
           "subplot": "polar",
           "theta": [
            "Administrative ledere og politikere",
            "Akademiske yrker",
            "Håndverkere o.l.",
            "Kontor og kundeserviceyrker",
            "Prosess og maskinoperatører, transportarbeidere mv.",
            "Salgs , service og omsorgsyrker",
            "Ukjent",
            "Yrker innen jordbruk, skogbruk og fiske",
            "Yrker med kortere høyskole og universitetsutdanning og teknikere",
            "Yrker uten krav til utdanning",
            "Administrative ledere og politikere"
           ],
           "type": "scatterpolar"
          },
          {
           "hoverlabel": {
            "namelength": 0
           },
           "hovertemplate": "arbeidssted_fylke_navn=Buskerud<br>ansettelses_aar_mnd=201712<br>andel_fylke=%{r}<br>yrkesfelt_navn=%{theta}",
           "legendgroup": "arbeidssted_fylke_navn=Buskerud",
           "line": {
            "color": "#FF9100",
            "dash": "solid"
           },
           "mode": "lines",
           "name": "arbeidssted_fylke_navn=Buskerud",
           "r": [
            6.503378378378378,
            4.940878378378378,
            7.326858108108108,
            6.756756756756757,
            10.388513513513514,
            31.37668918918919,
            1.9847972972972974,
            5.130912162162162,
            13.091216216216216,
            12.5,
            6.503378378378378
           ],
           "showlegend": true,
           "subplot": "polar",
           "theta": [
            "Administrative ledere og politikere",
            "Akademiske yrker",
            "Håndverkere o.l.",
            "Kontor og kundeserviceyrker",
            "Prosess og maskinoperatører, transportarbeidere mv.",
            "Salgs , service og omsorgsyrker",
            "Ukjent",
            "Yrker innen jordbruk, skogbruk og fiske",
            "Yrker med kortere høyskole og universitetsutdanning og teknikere",
            "Yrker uten krav til utdanning",
            "Administrative ledere og politikere"
           ],
           "type": "scatterpolar"
          }
         ],
         "name": "201712"
        }
       ],
       "layout": {
        "height": 600,
        "legend": {
         "tracegroupgap": 0
        },
        "margin": {
         "t": 60
        },
        "polar": {
         "angularaxis": {
          "direction": "clockwise",
          "rotation": 90
         },
         "domain": {
          "x": [
           0,
           0.98
          ],
          "y": [
           0,
           1
          ]
         }
        },
        "sliders": [
         {
          "active": 0,
          "currentvalue": {
           "prefix": "ansettelses_aar_mnd="
          },
          "len": 0.9,
          "pad": {
           "b": 10,
           "t": 60
          },
          "steps": [
           {
            "args": [
             [
              "201701"
             ],
             {
              "frame": {
               "duration": 0,
               "redraw": true
              },
              "fromcurrent": true,
              "mode": "immediate",
              "transition": {
               "duration": 0,
               "easing": "linear"
              }
             }
            ],
            "label": "201701",
            "method": "animate"
           },
           {
            "args": [
             [
              "201702"
             ],
             {
              "frame": {
               "duration": 0,
               "redraw": true
              },
              "fromcurrent": true,
              "mode": "immediate",
              "transition": {
               "duration": 0,
               "easing": "linear"
              }
             }
            ],
            "label": "201702",
            "method": "animate"
           },
           {
            "args": [
             [
              "201703"
             ],
             {
              "frame": {
               "duration": 0,
               "redraw": true
              },
              "fromcurrent": true,
              "mode": "immediate",
              "transition": {
               "duration": 0,
               "easing": "linear"
              }
             }
            ],
            "label": "201703",
            "method": "animate"
           },
           {
            "args": [
             [
              "201704"
             ],
             {
              "frame": {
               "duration": 0,
               "redraw": true
              },
              "fromcurrent": true,
              "mode": "immediate",
              "transition": {
               "duration": 0,
               "easing": "linear"
              }
             }
            ],
            "label": "201704",
            "method": "animate"
           },
           {
            "args": [
             [
              "201705"
             ],
             {
              "frame": {
               "duration": 0,
               "redraw": true
              },
              "fromcurrent": true,
              "mode": "immediate",
              "transition": {
               "duration": 0,
               "easing": "linear"
              }
             }
            ],
            "label": "201705",
            "method": "animate"
           },
           {
            "args": [
             [
              "201706"
             ],
             {
              "frame": {
               "duration": 0,
               "redraw": true
              },
              "fromcurrent": true,
              "mode": "immediate",
              "transition": {
               "duration": 0,
               "easing": "linear"
              }
             }
            ],
            "label": "201706",
            "method": "animate"
           },
           {
            "args": [
             [
              "201707"
             ],
             {
              "frame": {
               "duration": 0,
               "redraw": true
              },
              "fromcurrent": true,
              "mode": "immediate",
              "transition": {
               "duration": 0,
               "easing": "linear"
              }
             }
            ],
            "label": "201707",
            "method": "animate"
           },
           {
            "args": [
             [
              "201708"
             ],
             {
              "frame": {
               "duration": 0,
               "redraw": true
              },
              "fromcurrent": true,
              "mode": "immediate",
              "transition": {
               "duration": 0,
               "easing": "linear"
              }
             }
            ],
            "label": "201708",
            "method": "animate"
           },
           {
            "args": [
             [
              "201709"
             ],
             {
              "frame": {
               "duration": 0,
               "redraw": true
              },
              "fromcurrent": true,
              "mode": "immediate",
              "transition": {
               "duration": 0,
               "easing": "linear"
              }
             }
            ],
            "label": "201709",
            "method": "animate"
           },
           {
            "args": [
             [
              "201710"
             ],
             {
              "frame": {
               "duration": 0,
               "redraw": true
              },
              "fromcurrent": true,
              "mode": "immediate",
              "transition": {
               "duration": 0,
               "easing": "linear"
              }
             }
            ],
            "label": "201710",
            "method": "animate"
           },
           {
            "args": [
             [
              "201711"
             ],
             {
              "frame": {
               "duration": 0,
               "redraw": true
              },
              "fromcurrent": true,
              "mode": "immediate",
              "transition": {
               "duration": 0,
               "easing": "linear"
              }
             }
            ],
            "label": "201711",
            "method": "animate"
           },
           {
            "args": [
             [
              "201712"
             ],
             {
              "frame": {
               "duration": 0,
               "redraw": true
              },
              "fromcurrent": true,
              "mode": "immediate",
              "transition": {
               "duration": 0,
               "easing": "linear"
              }
             }
            ],
            "label": "201712",
            "method": "animate"
           }
          ],
          "x": 0.1,
          "xanchor": "left",
          "y": 0,
          "yanchor": "top"
         }
        ],
        "template": {
         "data": {
          "bar": [
           {
            "error_x": {
             "color": "#2a3f5f"
            },
            "error_y": {
             "color": "#2a3f5f"
            },
            "marker": {
             "line": {
              "color": "white",
              "width": 0.5
             }
            },
            "type": "bar"
           }
          ],
          "barpolar": [
           {
            "marker": {
             "line": {
              "color": "white",
              "width": 0.5
             }
            },
            "type": "barpolar"
           }
          ],
          "carpet": [
           {
            "aaxis": {
             "endlinecolor": "#2a3f5f",
             "gridcolor": "#C8D4E3",
             "linecolor": "#C8D4E3",
             "minorgridcolor": "#C8D4E3",
             "startlinecolor": "#2a3f5f"
            },
            "baxis": {
             "endlinecolor": "#2a3f5f",
             "gridcolor": "#C8D4E3",
             "linecolor": "#C8D4E3",
             "minorgridcolor": "#C8D4E3",
             "startlinecolor": "#2a3f5f"
            },
            "type": "carpet"
           }
          ],
          "choropleth": [
           {
            "colorbar": {
             "outlinewidth": 0,
             "ticks": ""
            },
            "type": "choropleth"
           }
          ],
          "contour": [
           {
            "colorbar": {
             "outlinewidth": 0,
             "ticks": ""
            },
            "colorscale": [
             [
              0,
              "#0d0887"
             ],
             [
              0.1111111111111111,
              "#46039f"
             ],
             [
              0.2222222222222222,
              "#7201a8"
             ],
             [
              0.3333333333333333,
              "#9c179e"
             ],
             [
              0.4444444444444444,
              "#bd3786"
             ],
             [
              0.5555555555555556,
              "#d8576b"
             ],
             [
              0.6666666666666666,
              "#ed7953"
             ],
             [
              0.7777777777777778,
              "#fb9f3a"
             ],
             [
              0.8888888888888888,
              "#fdca26"
             ],
             [
              1,
              "#f0f921"
             ]
            ],
            "type": "contour"
           }
          ],
          "contourcarpet": [
           {
            "colorbar": {
             "outlinewidth": 0,
             "ticks": ""
            },
            "type": "contourcarpet"
           }
          ],
          "heatmap": [
           {
            "colorbar": {
             "outlinewidth": 0,
             "ticks": ""
            },
            "colorscale": [
             [
              0,
              "#0d0887"
             ],
             [
              0.1111111111111111,
              "#46039f"
             ],
             [
              0.2222222222222222,
              "#7201a8"
             ],
             [
              0.3333333333333333,
              "#9c179e"
             ],
             [
              0.4444444444444444,
              "#bd3786"
             ],
             [
              0.5555555555555556,
              "#d8576b"
             ],
             [
              0.6666666666666666,
              "#ed7953"
             ],
             [
              0.7777777777777778,
              "#fb9f3a"
             ],
             [
              0.8888888888888888,
              "#fdca26"
             ],
             [
              1,
              "#f0f921"
             ]
            ],
            "type": "heatmap"
           }
          ],
          "heatmapgl": [
           {
            "colorbar": {
             "outlinewidth": 0,
             "ticks": ""
            },
            "colorscale": [
             [
              0,
              "#0d0887"
             ],
             [
              0.1111111111111111,
              "#46039f"
             ],
             [
              0.2222222222222222,
              "#7201a8"
             ],
             [
              0.3333333333333333,
              "#9c179e"
             ],
             [
              0.4444444444444444,
              "#bd3786"
             ],
             [
              0.5555555555555556,
              "#d8576b"
             ],
             [
              0.6666666666666666,
              "#ed7953"
             ],
             [
              0.7777777777777778,
              "#fb9f3a"
             ],
             [
              0.8888888888888888,
              "#fdca26"
             ],
             [
              1,
              "#f0f921"
             ]
            ],
            "type": "heatmapgl"
           }
          ],
          "histogram": [
           {
            "marker": {
             "colorbar": {
              "outlinewidth": 0,
              "ticks": ""
             }
            },
            "type": "histogram"
           }
          ],
          "histogram2d": [
           {
            "colorbar": {
             "outlinewidth": 0,
             "ticks": ""
            },
            "colorscale": [
             [
              0,
              "#0d0887"
             ],
             [
              0.1111111111111111,
              "#46039f"
             ],
             [
              0.2222222222222222,
              "#7201a8"
             ],
             [
              0.3333333333333333,
              "#9c179e"
             ],
             [
              0.4444444444444444,
              "#bd3786"
             ],
             [
              0.5555555555555556,
              "#d8576b"
             ],
             [
              0.6666666666666666,
              "#ed7953"
             ],
             [
              0.7777777777777778,
              "#fb9f3a"
             ],
             [
              0.8888888888888888,
              "#fdca26"
             ],
             [
              1,
              "#f0f921"
             ]
            ],
            "type": "histogram2d"
           }
          ],
          "histogram2dcontour": [
           {
            "colorbar": {
             "outlinewidth": 0,
             "ticks": ""
            },
            "colorscale": [
             [
              0,
              "#0d0887"
             ],
             [
              0.1111111111111111,
              "#46039f"
             ],
             [
              0.2222222222222222,
              "#7201a8"
             ],
             [
              0.3333333333333333,
              "#9c179e"
             ],
             [
              0.4444444444444444,
              "#bd3786"
             ],
             [
              0.5555555555555556,
              "#d8576b"
             ],
             [
              0.6666666666666666,
              "#ed7953"
             ],
             [
              0.7777777777777778,
              "#fb9f3a"
             ],
             [
              0.8888888888888888,
              "#fdca26"
             ],
             [
              1,
              "#f0f921"
             ]
            ],
            "type": "histogram2dcontour"
           }
          ],
          "mesh3d": [
           {
            "colorbar": {
             "outlinewidth": 0,
             "ticks": ""
            },
            "type": "mesh3d"
           }
          ],
          "parcoords": [
           {
            "line": {
             "colorbar": {
              "outlinewidth": 0,
              "ticks": ""
             }
            },
            "type": "parcoords"
           }
          ],
          "scatter": [
           {
            "marker": {
             "colorbar": {
              "outlinewidth": 0,
              "ticks": ""
             }
            },
            "type": "scatter"
           }
          ],
          "scatter3d": [
           {
            "line": {
             "colorbar": {
              "outlinewidth": 0,
              "ticks": ""
             }
            },
            "marker": {
             "colorbar": {
              "outlinewidth": 0,
              "ticks": ""
             }
            },
            "type": "scatter3d"
           }
          ],
          "scattercarpet": [
           {
            "marker": {
             "colorbar": {
              "outlinewidth": 0,
              "ticks": ""
             }
            },
            "type": "scattercarpet"
           }
          ],
          "scattergeo": [
           {
            "marker": {
             "colorbar": {
              "outlinewidth": 0,
              "ticks": ""
             }
            },
            "type": "scattergeo"
           }
          ],
          "scattergl": [
           {
            "marker": {
             "colorbar": {
              "outlinewidth": 0,
              "ticks": ""
             }
            },
            "type": "scattergl"
           }
          ],
          "scattermapbox": [
           {
            "marker": {
             "colorbar": {
              "outlinewidth": 0,
              "ticks": ""
             }
            },
            "type": "scattermapbox"
           }
          ],
          "scatterpolar": [
           {
            "marker": {
             "colorbar": {
              "outlinewidth": 0,
              "ticks": ""
             }
            },
            "type": "scatterpolar"
           }
          ],
          "scatterpolargl": [
           {
            "marker": {
             "colorbar": {
              "outlinewidth": 0,
              "ticks": ""
             }
            },
            "type": "scatterpolargl"
           }
          ],
          "scatterternary": [
           {
            "marker": {
             "colorbar": {
              "outlinewidth": 0,
              "ticks": ""
             }
            },
            "type": "scatterternary"
           }
          ],
          "surface": [
           {
            "colorbar": {
             "outlinewidth": 0,
             "ticks": ""
            },
            "colorscale": [
             [
              0,
              "#0d0887"
             ],
             [
              0.1111111111111111,
              "#46039f"
             ],
             [
              0.2222222222222222,
              "#7201a8"
             ],
             [
              0.3333333333333333,
              "#9c179e"
             ],
             [
              0.4444444444444444,
              "#bd3786"
             ],
             [
              0.5555555555555556,
              "#d8576b"
             ],
             [
              0.6666666666666666,
              "#ed7953"
             ],
             [
              0.7777777777777778,
              "#fb9f3a"
             ],
             [
              0.8888888888888888,
              "#fdca26"
             ],
             [
              1,
              "#f0f921"
             ]
            ],
            "type": "surface"
           }
          ],
          "table": [
           {
            "cells": {
             "fill": {
              "color": "#EBF0F8"
             },
             "line": {
              "color": "white"
             }
            },
            "header": {
             "fill": {
              "color": "#C8D4E3"
             },
             "line": {
              "color": "white"
             }
            },
            "type": "table"
           }
          ]
         },
         "layout": {
          "annotationdefaults": {
           "arrowcolor": "#2a3f5f",
           "arrowhead": 0,
           "arrowwidth": 1
          },
          "colorscale": {
           "diverging": [
            [
             0,
             "#c30000"
            ],
            [
             0.1,
             "#a73c46"
            ],
            [
             0.2,
             "#8b7b8f"
            ],
            [
             0.3,
             "#6fb7d5"
            ],
            [
             0.4,
             "#5bc1e8"
            ],
            [
             0.5,
             "#4cb1e2"
            ],
            [
             0.6,
             "#3da3dc"
            ],
            [
             0.7,
             "#2d93d6"
            ],
            [
             0.8,
             "#1e85d1"
            ],
            [
             0.9,
             "#0f76cb"
            ],
            [
             1,
             "#0067c5"
            ]
           ],
           "sequential": [
            [
             0,
             "#c30000"
            ],
            [
             0.1,
             "#a73c46"
            ],
            [
             0.2,
             "#8b7b8f"
            ],
            [
             0.3,
             "#6fb7d5"
            ],
            [
             0.4,
             "#5bc1e8"
            ],
            [
             0.5,
             "#4cb1e2"
            ],
            [
             0.6,
             "#3da3dc"
            ],
            [
             0.7,
             "#2d93d6"
            ],
            [
             0.8,
             "#1e85d1"
            ],
            [
             0.9,
             "#0f76cb"
            ],
            [
             1,
             "#0067c5"
            ]
           ],
           "sequentialminus": [
            [
             0,
             "#c30000"
            ],
            [
             0.1,
             "#a73c46"
            ],
            [
             0.2,
             "#8b7b8f"
            ],
            [
             0.3,
             "#6fb7d5"
            ],
            [
             0.4,
             "#5bc1e8"
            ],
            [
             0.5,
             "#4cb1e2"
            ],
            [
             0.6,
             "#3da3dc"
            ],
            [
             0.7,
             "#2d93d6"
            ],
            [
             0.8,
             "#1e85d1"
            ],
            [
             0.9,
             "#0f76cb"
            ],
            [
             1,
             "#0067c5"
            ]
           ]
          },
          "colorway": [
           "#C30000",
           "#FF9100",
           "#A2AD00",
           "#06893A",
           "#634689",
           "#005B82",
           "#0067C5",
           "#66CBEC",
           "#3E3832",
           "#B7B1A9"
          ],
          "font": {
           "color": "black",
           "family": "'Open Sans', 'Roboto', 'Helvetica Neue', 'Arial', 'sans-serif'"
          },
          "geo": {
           "bgcolor": "white",
           "lakecolor": "white",
           "landcolor": "white",
           "showlakes": true,
           "showland": true,
           "subunitcolor": "#C8D4E3"
          },
          "hoverlabel": {
           "align": "left"
          },
          "hovermode": "closest",
          "mapbox": {
           "style": "light"
          },
          "paper_bgcolor": "white",
          "plot_bgcolor": "white",
          "polar": {
           "angularaxis": {
            "gridcolor": "#EBF0F8",
            "linecolor": "#EBF0F8",
            "ticks": ""
           },
           "bgcolor": "white",
           "radialaxis": {
            "gridcolor": "#EBF0F8",
            "linecolor": "#EBF0F8",
            "ticks": ""
           }
          },
          "scene": {
           "xaxis": {
            "backgroundcolor": "white",
            "gridcolor": "#DFE8F3",
            "gridwidth": 2,
            "linecolor": "#EBF0F8",
            "showbackground": true,
            "ticks": "",
            "zerolinecolor": "#EBF0F8"
           },
           "yaxis": {
            "backgroundcolor": "white",
            "gridcolor": "#DFE8F3",
            "gridwidth": 2,
            "linecolor": "#EBF0F8",
            "showbackground": true,
            "ticks": "",
            "zerolinecolor": "#EBF0F8"
           },
           "zaxis": {
            "backgroundcolor": "white",
            "gridcolor": "#DFE8F3",
            "gridwidth": 2,
            "linecolor": "#EBF0F8",
            "showbackground": true,
            "ticks": "",
            "zerolinecolor": "#EBF0F8"
           }
          },
          "shapedefaults": {
           "line": {
            "color": "#2a3f5f"
           }
          },
          "ternary": {
           "aaxis": {
            "gridcolor": "#DFE8F3",
            "linecolor": "#A2B1C6",
            "ticks": ""
           },
           "baxis": {
            "gridcolor": "#DFE8F3",
            "linecolor": "#A2B1C6",
            "ticks": ""
           },
           "bgcolor": "white",
           "caxis": {
            "gridcolor": "#DFE8F3",
            "linecolor": "#A2B1C6",
            "ticks": ""
           }
          },
          "title": {
           "x": 0.05
          },
          "xaxis": {
           "automargin": true,
           "gridcolor": "#EBF0F8",
           "linecolor": "#EBF0F8",
           "ticks": "",
           "zerolinecolor": "#EBF0F8",
           "zerolinewidth": 2
          },
          "yaxis": {
           "automargin": true,
           "gridcolor": "#EBF0F8",
           "linecolor": "#EBF0F8",
           "ticks": "",
           "zerolinecolor": "#EBF0F8",
           "zerolinewidth": 2
          }
         }
        },
        "updatemenus": [
         {
          "buttons": [
           {
            "args": [
             null,
             {
              "frame": {
               "duration": 500,
               "redraw": true
              },
              "fromcurrent": true,
              "mode": "immediate",
              "transition": {
               "duration": 500,
               "easing": "linear"
              }
             }
            ],
            "label": "&#9654;",
            "method": "animate"
           },
           {
            "args": [
             [
              null
             ],
             {
              "frame": {
               "duration": 0,
               "redraw": true
              },
              "fromcurrent": true,
              "mode": "immediate",
              "transition": {
               "duration": 0,
               "easing": "linear"
              }
             }
            ],
            "label": "&#9724;",
            "method": "animate"
           }
          ],
          "direction": "left",
          "pad": {
           "r": 10,
           "t": 70
          },
          "showactive": false,
          "type": "buttons",
          "x": 0.1,
          "xanchor": "right",
          "y": 0,
          "yanchor": "top"
         }
        ]
       }
      },
      "text/html": [
       "<div>\n",
       "        \n",
       "        \n",
       "            <div id=\"69081d0d-8f8e-4fa7-9fcd-45bee5efcaeb\" class=\"plotly-graph-div\" style=\"height:600px; width:100%;\"></div>\n",
       "            <script type=\"text/javascript\">\n",
       "                require([\"plotly\"], function(Plotly) {\n",
       "                    window.PLOTLYENV=window.PLOTLYENV || {};\n",
       "                    \n",
       "                if (document.getElementById(\"69081d0d-8f8e-4fa7-9fcd-45bee5efcaeb\")) {\n",
       "                    Plotly.newPlot(\n",
       "                        '69081d0d-8f8e-4fa7-9fcd-45bee5efcaeb',\n",
       "                        [{\"hoverlabel\": {\"namelength\": 0}, \"hovertemplate\": \"arbeidssted_fylke_navn=I alt<br>ansettelses_aar_mnd=201701<br>andel_fylke=%{r}<br>yrkesfelt_navn=%{theta}\", \"legendgroup\": \"arbeidssted_fylke_navn=I alt\", \"line\": {\"color\": \"#C30000\", \"dash\": \"solid\"}, \"mode\": \"lines\", \"name\": \"arbeidssted_fylke_navn=I alt\", \"r\": [6.000115944269455, 14.196409592455893, 8.86007459081335, 5.069180080774507, 5.574020754024232, 27.795706197221204, 3.0068213878529053, 0.9695839533131075, 22.05694796034706, 6.471139538928289, 6.000115944269455], \"showlegend\": true, \"subplot\": \"polar\", \"theta\": [\"Administrative ledere og politikere\", \"Akademiske yrker\", \"H\\u00e5ndverkere o.l.\", \"Kontor og kundeserviceyrker\", \"Prosess og maskinoperat\\u00f8rer, transportarbeidere mv.\", \"Salgs , service og omsorgsyrker\", \"Ukjent\", \"Yrker innen jordbruk, skogbruk og fiske\", \"Yrker med kortere h\\u00f8yskole og universitetsutdanning og teknikere\", \"Yrker uten krav til utdanning\", \"Administrative ledere og politikere\"], \"type\": \"scatterpolar\"}, {\"hoverlabel\": {\"namelength\": 0}, \"hovertemplate\": \"arbeidssted_fylke_navn=Buskerud<br>ansettelses_aar_mnd=201701<br>andel_fylke=%{r}<br>yrkesfelt_navn=%{theta}\", \"legendgroup\": \"arbeidssted_fylke_navn=Buskerud\", \"line\": {\"color\": \"#FF9100\", \"dash\": \"solid\"}, \"mode\": \"lines\", \"name\": \"arbeidssted_fylke_navn=Buskerud\", \"r\": [8.286252354048964, 10.036556995679629, 12.518001550902847, 7.189542483660131, 5.649717514124294, 25.002769469369667, 2.3595879029577933, 1.805694029024039, 19.1204165281932, 8.031461172039437, 8.286252354048964], \"showlegend\": true, \"subplot\": \"polar\", \"theta\": [\"Administrative ledere og politikere\", \"Akademiske yrker\", \"H\\u00e5ndverkere o.l.\", \"Kontor og kundeserviceyrker\", \"Prosess og maskinoperat\\u00f8rer, transportarbeidere mv.\", \"Salgs , service og omsorgsyrker\", \"Ukjent\", \"Yrker innen jordbruk, skogbruk og fiske\", \"Yrker med kortere h\\u00f8yskole og universitetsutdanning og teknikere\", \"Yrker uten krav til utdanning\", \"Administrative ledere og politikere\"], \"type\": \"scatterpolar\"}],\n",
       "                        {\"height\": 600, \"legend\": {\"tracegroupgap\": 0}, \"margin\": {\"t\": 60}, \"polar\": {\"angularaxis\": {\"direction\": \"clockwise\", \"rotation\": 90}, \"domain\": {\"x\": [0.0, 0.98], \"y\": [0.0, 1.0]}}, \"sliders\": [{\"active\": 0, \"currentvalue\": {\"prefix\": \"ansettelses_aar_mnd=\"}, \"len\": 0.9, \"pad\": {\"b\": 10, \"t\": 60}, \"steps\": [{\"args\": [[\"201701\"], {\"frame\": {\"duration\": 0, \"redraw\": true}, \"fromcurrent\": true, \"mode\": \"immediate\", \"transition\": {\"duration\": 0, \"easing\": \"linear\"}}], \"label\": \"201701\", \"method\": \"animate\"}, {\"args\": [[\"201702\"], {\"frame\": {\"duration\": 0, \"redraw\": true}, \"fromcurrent\": true, \"mode\": \"immediate\", \"transition\": {\"duration\": 0, \"easing\": \"linear\"}}], \"label\": \"201702\", \"method\": \"animate\"}, {\"args\": [[\"201703\"], {\"frame\": {\"duration\": 0, \"redraw\": true}, \"fromcurrent\": true, \"mode\": \"immediate\", \"transition\": {\"duration\": 0, \"easing\": \"linear\"}}], \"label\": \"201703\", \"method\": \"animate\"}, {\"args\": [[\"201704\"], {\"frame\": {\"duration\": 0, \"redraw\": true}, \"fromcurrent\": true, \"mode\": \"immediate\", \"transition\": {\"duration\": 0, \"easing\": \"linear\"}}], \"label\": \"201704\", \"method\": \"animate\"}, {\"args\": [[\"201705\"], {\"frame\": {\"duration\": 0, \"redraw\": true}, \"fromcurrent\": true, \"mode\": \"immediate\", \"transition\": {\"duration\": 0, \"easing\": \"linear\"}}], \"label\": \"201705\", \"method\": \"animate\"}, {\"args\": [[\"201706\"], {\"frame\": {\"duration\": 0, \"redraw\": true}, \"fromcurrent\": true, \"mode\": \"immediate\", \"transition\": {\"duration\": 0, \"easing\": \"linear\"}}], \"label\": \"201706\", \"method\": \"animate\"}, {\"args\": [[\"201707\"], {\"frame\": {\"duration\": 0, \"redraw\": true}, \"fromcurrent\": true, \"mode\": \"immediate\", \"transition\": {\"duration\": 0, \"easing\": \"linear\"}}], \"label\": \"201707\", \"method\": \"animate\"}, {\"args\": [[\"201708\"], {\"frame\": {\"duration\": 0, \"redraw\": true}, \"fromcurrent\": true, \"mode\": \"immediate\", \"transition\": {\"duration\": 0, \"easing\": \"linear\"}}], \"label\": \"201708\", \"method\": \"animate\"}, {\"args\": [[\"201709\"], {\"frame\": {\"duration\": 0, \"redraw\": true}, \"fromcurrent\": true, \"mode\": \"immediate\", \"transition\": {\"duration\": 0, \"easing\": \"linear\"}}], \"label\": \"201709\", \"method\": \"animate\"}, {\"args\": [[\"201710\"], {\"frame\": {\"duration\": 0, \"redraw\": true}, \"fromcurrent\": true, \"mode\": \"immediate\", \"transition\": {\"duration\": 0, \"easing\": \"linear\"}}], \"label\": \"201710\", \"method\": \"animate\"}, {\"args\": [[\"201711\"], {\"frame\": {\"duration\": 0, \"redraw\": true}, \"fromcurrent\": true, \"mode\": \"immediate\", \"transition\": {\"duration\": 0, \"easing\": \"linear\"}}], \"label\": \"201711\", \"method\": \"animate\"}, {\"args\": [[\"201712\"], {\"frame\": {\"duration\": 0, \"redraw\": true}, \"fromcurrent\": true, \"mode\": \"immediate\", \"transition\": {\"duration\": 0, \"easing\": \"linear\"}}], \"label\": \"201712\", \"method\": \"animate\"}], \"x\": 0.1, \"xanchor\": \"left\", \"y\": 0, \"yanchor\": \"top\"}], \"template\": {\"data\": {\"bar\": [{\"error_x\": {\"color\": \"#2a3f5f\"}, \"error_y\": {\"color\": \"#2a3f5f\"}, \"marker\": {\"line\": {\"color\": \"white\", \"width\": 0.5}}, \"type\": \"bar\"}], \"barpolar\": [{\"marker\": {\"line\": {\"color\": \"white\", \"width\": 0.5}}, \"type\": \"barpolar\"}], \"carpet\": [{\"aaxis\": {\"endlinecolor\": \"#2a3f5f\", \"gridcolor\": \"#C8D4E3\", \"linecolor\": \"#C8D4E3\", \"minorgridcolor\": \"#C8D4E3\", \"startlinecolor\": \"#2a3f5f\"}, \"baxis\": {\"endlinecolor\": \"#2a3f5f\", \"gridcolor\": \"#C8D4E3\", \"linecolor\": \"#C8D4E3\", \"minorgridcolor\": \"#C8D4E3\", \"startlinecolor\": \"#2a3f5f\"}, \"type\": \"carpet\"}], \"choropleth\": [{\"colorbar\": {\"outlinewidth\": 0, \"ticks\": \"\"}, \"type\": \"choropleth\"}], \"contour\": [{\"colorbar\": {\"outlinewidth\": 0, \"ticks\": \"\"}, \"colorscale\": [[0.0, \"#0d0887\"], [0.1111111111111111, \"#46039f\"], [0.2222222222222222, \"#7201a8\"], [0.3333333333333333, \"#9c179e\"], [0.4444444444444444, \"#bd3786\"], [0.5555555555555556, \"#d8576b\"], [0.6666666666666666, \"#ed7953\"], [0.7777777777777778, \"#fb9f3a\"], [0.8888888888888888, \"#fdca26\"], [1.0, \"#f0f921\"]], \"type\": \"contour\"}], \"contourcarpet\": [{\"colorbar\": {\"outlinewidth\": 0, \"ticks\": \"\"}, \"type\": \"contourcarpet\"}], \"heatmap\": [{\"colorbar\": {\"outlinewidth\": 0, \"ticks\": \"\"}, \"colorscale\": [[0.0, \"#0d0887\"], [0.1111111111111111, \"#46039f\"], [0.2222222222222222, \"#7201a8\"], [0.3333333333333333, \"#9c179e\"], [0.4444444444444444, \"#bd3786\"], [0.5555555555555556, \"#d8576b\"], [0.6666666666666666, \"#ed7953\"], [0.7777777777777778, \"#fb9f3a\"], [0.8888888888888888, \"#fdca26\"], [1.0, \"#f0f921\"]], \"type\": \"heatmap\"}], \"heatmapgl\": [{\"colorbar\": {\"outlinewidth\": 0, \"ticks\": \"\"}, \"colorscale\": [[0.0, \"#0d0887\"], [0.1111111111111111, \"#46039f\"], [0.2222222222222222, \"#7201a8\"], [0.3333333333333333, \"#9c179e\"], [0.4444444444444444, \"#bd3786\"], [0.5555555555555556, \"#d8576b\"], [0.6666666666666666, \"#ed7953\"], [0.7777777777777778, \"#fb9f3a\"], [0.8888888888888888, \"#fdca26\"], [1.0, \"#f0f921\"]], \"type\": \"heatmapgl\"}], \"histogram\": [{\"marker\": {\"colorbar\": {\"outlinewidth\": 0, \"ticks\": \"\"}}, \"type\": \"histogram\"}], \"histogram2d\": [{\"colorbar\": {\"outlinewidth\": 0, \"ticks\": \"\"}, \"colorscale\": [[0.0, \"#0d0887\"], [0.1111111111111111, \"#46039f\"], [0.2222222222222222, \"#7201a8\"], [0.3333333333333333, \"#9c179e\"], [0.4444444444444444, \"#bd3786\"], [0.5555555555555556, \"#d8576b\"], [0.6666666666666666, \"#ed7953\"], [0.7777777777777778, \"#fb9f3a\"], [0.8888888888888888, \"#fdca26\"], [1.0, \"#f0f921\"]], \"type\": \"histogram2d\"}], \"histogram2dcontour\": [{\"colorbar\": {\"outlinewidth\": 0, \"ticks\": \"\"}, \"colorscale\": [[0.0, \"#0d0887\"], [0.1111111111111111, \"#46039f\"], [0.2222222222222222, \"#7201a8\"], [0.3333333333333333, \"#9c179e\"], [0.4444444444444444, \"#bd3786\"], [0.5555555555555556, \"#d8576b\"], [0.6666666666666666, \"#ed7953\"], [0.7777777777777778, \"#fb9f3a\"], [0.8888888888888888, \"#fdca26\"], [1.0, \"#f0f921\"]], \"type\": \"histogram2dcontour\"}], \"mesh3d\": [{\"colorbar\": {\"outlinewidth\": 0, \"ticks\": \"\"}, \"type\": \"mesh3d\"}], \"parcoords\": [{\"line\": {\"colorbar\": {\"outlinewidth\": 0, \"ticks\": \"\"}}, \"type\": \"parcoords\"}], \"scatter\": [{\"marker\": {\"colorbar\": {\"outlinewidth\": 0, \"ticks\": \"\"}}, \"type\": \"scatter\"}], \"scatter3d\": [{\"line\": {\"colorbar\": {\"outlinewidth\": 0, \"ticks\": \"\"}}, \"marker\": {\"colorbar\": {\"outlinewidth\": 0, \"ticks\": \"\"}}, \"type\": \"scatter3d\"}], \"scattercarpet\": [{\"marker\": {\"colorbar\": {\"outlinewidth\": 0, \"ticks\": \"\"}}, \"type\": \"scattercarpet\"}], \"scattergeo\": [{\"marker\": {\"colorbar\": {\"outlinewidth\": 0, \"ticks\": \"\"}}, \"type\": \"scattergeo\"}], \"scattergl\": [{\"marker\": {\"colorbar\": {\"outlinewidth\": 0, \"ticks\": \"\"}}, \"type\": \"scattergl\"}], \"scattermapbox\": [{\"marker\": {\"colorbar\": {\"outlinewidth\": 0, \"ticks\": \"\"}}, \"type\": \"scattermapbox\"}], \"scatterpolar\": [{\"marker\": {\"colorbar\": {\"outlinewidth\": 0, \"ticks\": \"\"}}, \"type\": \"scatterpolar\"}], \"scatterpolargl\": [{\"marker\": {\"colorbar\": {\"outlinewidth\": 0, \"ticks\": \"\"}}, \"type\": \"scatterpolargl\"}], \"scatterternary\": [{\"marker\": {\"colorbar\": {\"outlinewidth\": 0, \"ticks\": \"\"}}, \"type\": \"scatterternary\"}], \"surface\": [{\"colorbar\": {\"outlinewidth\": 0, \"ticks\": \"\"}, \"colorscale\": [[0.0, \"#0d0887\"], [0.1111111111111111, \"#46039f\"], [0.2222222222222222, \"#7201a8\"], [0.3333333333333333, \"#9c179e\"], [0.4444444444444444, \"#bd3786\"], [0.5555555555555556, \"#d8576b\"], [0.6666666666666666, \"#ed7953\"], [0.7777777777777778, \"#fb9f3a\"], [0.8888888888888888, \"#fdca26\"], [1.0, \"#f0f921\"]], \"type\": \"surface\"}], \"table\": [{\"cells\": {\"fill\": {\"color\": \"#EBF0F8\"}, \"line\": {\"color\": \"white\"}}, \"header\": {\"fill\": {\"color\": \"#C8D4E3\"}, \"line\": {\"color\": \"white\"}}, \"type\": \"table\"}]}, \"layout\": {\"annotationdefaults\": {\"arrowcolor\": \"#2a3f5f\", \"arrowhead\": 0, \"arrowwidth\": 1}, \"colorscale\": {\"diverging\": [[0.0, \"#c30000\"], [0.1, \"#a73c46\"], [0.2, \"#8b7b8f\"], [0.3, \"#6fb7d5\"], [0.4, \"#5bc1e8\"], [0.5, \"#4cb1e2\"], [0.6, \"#3da3dc\"], [0.7, \"#2d93d6\"], [0.8, \"#1e85d1\"], [0.9, \"#0f76cb\"], [1.0, \"#0067c5\"]], \"sequential\": [[0.0, \"#c30000\"], [0.1, \"#a73c46\"], [0.2, \"#8b7b8f\"], [0.3, \"#6fb7d5\"], [0.4, \"#5bc1e8\"], [0.5, \"#4cb1e2\"], [0.6, \"#3da3dc\"], [0.7, \"#2d93d6\"], [0.8, \"#1e85d1\"], [0.9, \"#0f76cb\"], [1.0, \"#0067c5\"]], \"sequentialminus\": [[0.0, \"#c30000\"], [0.1, \"#a73c46\"], [0.2, \"#8b7b8f\"], [0.3, \"#6fb7d5\"], [0.4, \"#5bc1e8\"], [0.5, \"#4cb1e2\"], [0.6, \"#3da3dc\"], [0.7, \"#2d93d6\"], [0.8, \"#1e85d1\"], [0.9, \"#0f76cb\"], [1.0, \"#0067c5\"]]}, \"colorway\": [\"#C30000\", \"#FF9100\", \"#A2AD00\", \"#06893A\", \"#634689\", \"#005B82\", \"#0067C5\", \"#66CBEC\", \"#3E3832\", \"#B7B1A9\"], \"font\": {\"color\": \"black\", \"family\": \"'Open Sans', 'Roboto', 'Helvetica Neue', 'Arial', 'sans-serif'\"}, \"geo\": {\"bgcolor\": \"white\", \"lakecolor\": \"white\", \"landcolor\": \"white\", \"showlakes\": true, \"showland\": true, \"subunitcolor\": \"#C8D4E3\"}, \"hoverlabel\": {\"align\": \"left\"}, \"hovermode\": \"closest\", \"mapbox\": {\"style\": \"light\"}, \"paper_bgcolor\": \"white\", \"plot_bgcolor\": \"white\", \"polar\": {\"angularaxis\": {\"gridcolor\": \"#EBF0F8\", \"linecolor\": \"#EBF0F8\", \"ticks\": \"\"}, \"bgcolor\": \"white\", \"radialaxis\": {\"gridcolor\": \"#EBF0F8\", \"linecolor\": \"#EBF0F8\", \"ticks\": \"\"}}, \"scene\": {\"xaxis\": {\"backgroundcolor\": \"white\", \"gridcolor\": \"#DFE8F3\", \"gridwidth\": 2, \"linecolor\": \"#EBF0F8\", \"showbackground\": true, \"ticks\": \"\", \"zerolinecolor\": \"#EBF0F8\"}, \"yaxis\": {\"backgroundcolor\": \"white\", \"gridcolor\": \"#DFE8F3\", \"gridwidth\": 2, \"linecolor\": \"#EBF0F8\", \"showbackground\": true, \"ticks\": \"\", \"zerolinecolor\": \"#EBF0F8\"}, \"zaxis\": {\"backgroundcolor\": \"white\", \"gridcolor\": \"#DFE8F3\", \"gridwidth\": 2, \"linecolor\": \"#EBF0F8\", \"showbackground\": true, \"ticks\": \"\", \"zerolinecolor\": \"#EBF0F8\"}}, \"shapedefaults\": {\"line\": {\"color\": \"#2a3f5f\"}}, \"ternary\": {\"aaxis\": {\"gridcolor\": \"#DFE8F3\", \"linecolor\": \"#A2B1C6\", \"ticks\": \"\"}, \"baxis\": {\"gridcolor\": \"#DFE8F3\", \"linecolor\": \"#A2B1C6\", \"ticks\": \"\"}, \"bgcolor\": \"white\", \"caxis\": {\"gridcolor\": \"#DFE8F3\", \"linecolor\": \"#A2B1C6\", \"ticks\": \"\"}}, \"title\": {\"x\": 0.05}, \"xaxis\": {\"automargin\": true, \"gridcolor\": \"#EBF0F8\", \"linecolor\": \"#EBF0F8\", \"ticks\": \"\", \"zerolinecolor\": \"#EBF0F8\", \"zerolinewidth\": 2}, \"yaxis\": {\"automargin\": true, \"gridcolor\": \"#EBF0F8\", \"linecolor\": \"#EBF0F8\", \"ticks\": \"\", \"zerolinecolor\": \"#EBF0F8\", \"zerolinewidth\": 2}}}, \"updatemenus\": [{\"buttons\": [{\"args\": [null, {\"frame\": {\"duration\": 500, \"redraw\": true}, \"fromcurrent\": true, \"mode\": \"immediate\", \"transition\": {\"duration\": 500, \"easing\": \"linear\"}}], \"label\": \"&#9654;\", \"method\": \"animate\"}, {\"args\": [[null], {\"frame\": {\"duration\": 0, \"redraw\": true}, \"fromcurrent\": true, \"mode\": \"immediate\", \"transition\": {\"duration\": 0, \"easing\": \"linear\"}}], \"label\": \"&#9724;\", \"method\": \"animate\"}], \"direction\": \"left\", \"pad\": {\"r\": 10, \"t\": 70}, \"showactive\": false, \"type\": \"buttons\", \"x\": 0.1, \"xanchor\": \"right\", \"y\": 0, \"yanchor\": \"top\"}]},\n",
       "                        {\"responsive\": true}\n",
       "                    ).then(function(){\n",
       "                            Plotly.addFrames('69081d0d-8f8e-4fa7-9fcd-45bee5efcaeb', [{\"data\": [{\"hoverlabel\": {\"namelength\": 0}, \"hovertemplate\": \"arbeidssted_fylke_navn=I alt<br>ansettelses_aar_mnd=201701<br>andel_fylke=%{r}<br>yrkesfelt_navn=%{theta}\", \"legendgroup\": \"arbeidssted_fylke_navn=I alt\", \"line\": {\"color\": \"#C30000\", \"dash\": \"solid\"}, \"mode\": \"lines\", \"name\": \"arbeidssted_fylke_navn=I alt\", \"r\": [6.000115944269455, 14.196409592455893, 8.86007459081335, 5.069180080774507, 5.574020754024232, 27.795706197221204, 3.0068213878529053, 0.9695839533131075, 22.05694796034706, 6.471139538928289, 6.000115944269455], \"showlegend\": true, \"subplot\": \"polar\", \"theta\": [\"Administrative ledere og politikere\", \"Akademiske yrker\", \"H\\u00e5ndverkere o.l.\", \"Kontor og kundeserviceyrker\", \"Prosess og maskinoperat\\u00f8rer, transportarbeidere mv.\", \"Salgs , service og omsorgsyrker\", \"Ukjent\", \"Yrker innen jordbruk, skogbruk og fiske\", \"Yrker med kortere h\\u00f8yskole og universitetsutdanning og teknikere\", \"Yrker uten krav til utdanning\", \"Administrative ledere og politikere\"], \"type\": \"scatterpolar\"}, {\"hoverlabel\": {\"namelength\": 0}, \"hovertemplate\": \"arbeidssted_fylke_navn=Buskerud<br>ansettelses_aar_mnd=201701<br>andel_fylke=%{r}<br>yrkesfelt_navn=%{theta}\", \"legendgroup\": \"arbeidssted_fylke_navn=Buskerud\", \"line\": {\"color\": \"#FF9100\", \"dash\": \"solid\"}, \"mode\": \"lines\", \"name\": \"arbeidssted_fylke_navn=Buskerud\", \"r\": [8.286252354048964, 10.036556995679629, 12.518001550902847, 7.189542483660131, 5.649717514124294, 25.002769469369667, 2.3595879029577933, 1.805694029024039, 19.1204165281932, 8.031461172039437, 8.286252354048964], \"showlegend\": true, \"subplot\": \"polar\", \"theta\": [\"Administrative ledere og politikere\", \"Akademiske yrker\", \"H\\u00e5ndverkere o.l.\", \"Kontor og kundeserviceyrker\", \"Prosess og maskinoperat\\u00f8rer, transportarbeidere mv.\", \"Salgs , service og omsorgsyrker\", \"Ukjent\", \"Yrker innen jordbruk, skogbruk og fiske\", \"Yrker med kortere h\\u00f8yskole og universitetsutdanning og teknikere\", \"Yrker uten krav til utdanning\", \"Administrative ledere og politikere\"], \"type\": \"scatterpolar\"}], \"name\": \"201701\"}, {\"data\": [{\"hoverlabel\": {\"namelength\": 0}, \"hovertemplate\": \"arbeidssted_fylke_navn=I alt<br>ansettelses_aar_mnd=201702<br>andel_fylke=%{r}<br>yrkesfelt_navn=%{theta}\", \"legendgroup\": \"arbeidssted_fylke_navn=I alt\", \"line\": {\"color\": \"#C30000\", \"dash\": \"solid\"}, \"mode\": \"lines\", \"name\": \"arbeidssted_fylke_navn=I alt\", \"r\": [3.9994999062324186, 9.723073076201787, 10.456960680127525, 5.663561917859599, 8.089016690629492, 30.419453647558917, 3.0080640120022504, 1.4165155966743765, 17.767081327748954, 9.45677314496468, 3.9994999062324186], \"showlegend\": true, \"subplot\": \"polar\", \"theta\": [\"Administrative ledere og politikere\", \"Akademiske yrker\", \"H\\u00e5ndverkere o.l.\", \"Kontor og kundeserviceyrker\", \"Prosess og maskinoperat\\u00f8rer, transportarbeidere mv.\", \"Salgs , service og omsorgsyrker\", \"Ukjent\", \"Yrker innen jordbruk, skogbruk og fiske\", \"Yrker med kortere h\\u00f8yskole og universitetsutdanning og teknikere\", \"Yrker uten krav til utdanning\", \"Administrative ledere og politikere\"], \"type\": \"scatterpolar\"}, {\"hoverlabel\": {\"namelength\": 0}, \"hovertemplate\": \"arbeidssted_fylke_navn=Buskerud<br>ansettelses_aar_mnd=201702<br>andel_fylke=%{r}<br>yrkesfelt_navn=%{theta}\", \"legendgroup\": \"arbeidssted_fylke_navn=Buskerud\", \"line\": {\"color\": \"#FF9100\", \"dash\": \"solid\"}, \"mode\": \"lines\", \"name\": \"arbeidssted_fylke_navn=Buskerud\", \"r\": [6.151832460732984, 7.984293193717278, 10.68935427574171, 6.173647469458988, 5.955497382198953, 32.37347294938918, 2.9013961605584644, 2.0506108202443283, 15.903141361256544, 9.81675392670157, 6.151832460732984], \"showlegend\": true, \"subplot\": \"polar\", \"theta\": [\"Administrative ledere og politikere\", \"Akademiske yrker\", \"H\\u00e5ndverkere o.l.\", \"Kontor og kundeserviceyrker\", \"Prosess og maskinoperat\\u00f8rer, transportarbeidere mv.\", \"Salgs , service og omsorgsyrker\", \"Ukjent\", \"Yrker innen jordbruk, skogbruk og fiske\", \"Yrker med kortere h\\u00f8yskole og universitetsutdanning og teknikere\", \"Yrker uten krav til utdanning\", \"Administrative ledere og politikere\"], \"type\": \"scatterpolar\"}], \"name\": \"201702\"}, {\"data\": [{\"hoverlabel\": {\"namelength\": 0}, \"hovertemplate\": \"arbeidssted_fylke_navn=I alt<br>ansettelses_aar_mnd=201703<br>andel_fylke=%{r}<br>yrkesfelt_navn=%{theta}\", \"legendgroup\": \"arbeidssted_fylke_navn=I alt\", \"line\": {\"color\": \"#C30000\", \"dash\": \"solid\"}, \"mode\": \"lines\", \"name\": \"arbeidssted_fylke_navn=I alt\", \"r\": [4.161149189063212, 9.240759769907942, 10.019386209307498, 6.0934139856139495, 8.22271894233927, 31.15882920008051, 2.933355932921597, 1.7489962604743794, 17.578948483532315, 8.842442026759326, 4.161149189063212], \"showlegend\": true, \"subplot\": \"polar\", \"theta\": [\"Administrative ledere og politikere\", \"Akademiske yrker\", \"H\\u00e5ndverkere o.l.\", \"Kontor og kundeserviceyrker\", \"Prosess og maskinoperat\\u00f8rer, transportarbeidere mv.\", \"Salgs , service og omsorgsyrker\", \"Ukjent\", \"Yrker innen jordbruk, skogbruk og fiske\", \"Yrker med kortere h\\u00f8yskole og universitetsutdanning og teknikere\", \"Yrker uten krav til utdanning\", \"Administrative ledere og politikere\"], \"type\": \"scatterpolar\"}, {\"hoverlabel\": {\"namelength\": 0}, \"hovertemplate\": \"arbeidssted_fylke_navn=Buskerud<br>ansettelses_aar_mnd=201703<br>andel_fylke=%{r}<br>yrkesfelt_navn=%{theta}\", \"legendgroup\": \"arbeidssted_fylke_navn=Buskerud\", \"line\": {\"color\": \"#FF9100\", \"dash\": \"solid\"}, \"mode\": \"lines\", \"name\": \"arbeidssted_fylke_navn=Buskerud\", \"r\": [6.532140628250468, 7.8635323486582065, 10.484709798210943, 7.1146245059288535, 5.720823798627002, 28.85375494071146, 2.6627834408154776, 3.8693571874349906, 16.163927605575203, 10.734345745787394, 6.532140628250468], \"showlegend\": true, \"subplot\": \"polar\", \"theta\": [\"Administrative ledere og politikere\", \"Akademiske yrker\", \"H\\u00e5ndverkere o.l.\", \"Kontor og kundeserviceyrker\", \"Prosess og maskinoperat\\u00f8rer, transportarbeidere mv.\", \"Salgs , service og omsorgsyrker\", \"Ukjent\", \"Yrker innen jordbruk, skogbruk og fiske\", \"Yrker med kortere h\\u00f8yskole og universitetsutdanning og teknikere\", \"Yrker uten krav til utdanning\", \"Administrative ledere og politikere\"], \"type\": \"scatterpolar\"}], \"name\": \"201703\"}, {\"data\": [{\"hoverlabel\": {\"namelength\": 0}, \"hovertemplate\": \"arbeidssted_fylke_navn=I alt<br>ansettelses_aar_mnd=201704<br>andel_fylke=%{r}<br>yrkesfelt_navn=%{theta}\", \"legendgroup\": \"arbeidssted_fylke_navn=I alt\", \"line\": {\"color\": \"#C30000\", \"dash\": \"solid\"}, \"mode\": \"lines\", \"name\": \"arbeidssted_fylke_navn=I alt\", \"r\": [3.8743985819194733, 7.836276157370105, 11.80160685098644, 6.16381592578098, 7.486360183245471, 30.031768687124472, 2.8822026289739635, 2.3297037224613826, 16.329795805612466, 11.264071456525242, 3.8743985819194733], \"showlegend\": true, \"subplot\": \"polar\", \"theta\": [\"Administrative ledere og politikere\", \"Akademiske yrker\", \"H\\u00e5ndverkere o.l.\", \"Kontor og kundeserviceyrker\", \"Prosess og maskinoperat\\u00f8rer, transportarbeidere mv.\", \"Salgs , service og omsorgsyrker\", \"Ukjent\", \"Yrker innen jordbruk, skogbruk og fiske\", \"Yrker med kortere h\\u00f8yskole og universitetsutdanning og teknikere\", \"Yrker uten krav til utdanning\", \"Administrative ledere og politikere\"], \"type\": \"scatterpolar\"}, {\"hoverlabel\": {\"namelength\": 0}, \"hovertemplate\": \"arbeidssted_fylke_navn=Buskerud<br>ansettelses_aar_mnd=201704<br>andel_fylke=%{r}<br>yrkesfelt_navn=%{theta}\", \"legendgroup\": \"arbeidssted_fylke_navn=Buskerud\", \"line\": {\"color\": \"#FF9100\", \"dash\": \"solid\"}, \"mode\": \"lines\", \"name\": \"arbeidssted_fylke_navn=Buskerud\", \"r\": [5.18614558251528, 6.056677162437488, 11.502130024078532, 5.908501574365623, 6.056677162437488, 32.617151324319316, 2.185589924060011, 4.797184663826634, 12.724578625671422, 12.965363956288202, 5.18614558251528], \"showlegend\": true, \"subplot\": \"polar\", \"theta\": [\"Administrative ledere og politikere\", \"Akademiske yrker\", \"H\\u00e5ndverkere o.l.\", \"Kontor og kundeserviceyrker\", \"Prosess og maskinoperat\\u00f8rer, transportarbeidere mv.\", \"Salgs , service og omsorgsyrker\", \"Ukjent\", \"Yrker innen jordbruk, skogbruk og fiske\", \"Yrker med kortere h\\u00f8yskole og universitetsutdanning og teknikere\", \"Yrker uten krav til utdanning\", \"Administrative ledere og politikere\"], \"type\": \"scatterpolar\"}], \"name\": \"201704\"}, {\"data\": [{\"hoverlabel\": {\"namelength\": 0}, \"hovertemplate\": \"arbeidssted_fylke_navn=I alt<br>ansettelses_aar_mnd=201705<br>andel_fylke=%{r}<br>yrkesfelt_navn=%{theta}\", \"legendgroup\": \"arbeidssted_fylke_navn=I alt\", \"line\": {\"color\": \"#C30000\", \"dash\": \"solid\"}, \"mode\": \"lines\", \"name\": \"arbeidssted_fylke_navn=I alt\", \"r\": [3.7899421122118304, 7.00562259377914, 12.321697303186136, 7.012085345249416, 8.281554384053623, 30.542963448524183, 3.0254909382991886, 2.3856785427418683, 14.5855068182028, 11.049458513751812, 3.7899421122118304], \"showlegend\": true, \"subplot\": \"polar\", \"theta\": [\"Administrative ledere og politikere\", \"Akademiske yrker\", \"H\\u00e5ndverkere o.l.\", \"Kontor og kundeserviceyrker\", \"Prosess og maskinoperat\\u00f8rer, transportarbeidere mv.\", \"Salgs , service og omsorgsyrker\", \"Ukjent\", \"Yrker innen jordbruk, skogbruk og fiske\", \"Yrker med kortere h\\u00f8yskole og universitetsutdanning og teknikere\", \"Yrker uten krav til utdanning\", \"Administrative ledere og politikere\"], \"type\": \"scatterpolar\"}, {\"hoverlabel\": {\"namelength\": 0}, \"hovertemplate\": \"arbeidssted_fylke_navn=Buskerud<br>ansettelses_aar_mnd=201705<br>andel_fylke=%{r}<br>yrkesfelt_navn=%{theta}\", \"legendgroup\": \"arbeidssted_fylke_navn=Buskerud\", \"line\": {\"color\": \"#FF9100\", \"dash\": \"solid\"}, \"mode\": \"lines\", \"name\": \"arbeidssted_fylke_navn=Buskerud\", \"r\": [5.968720076603894, 7.628471113948293, 10.94797318863709, 6.383657835939994, 6.1123523779125435, 28.566868815831473, 3.8461538461538463, 4.596233641876795, 13.772741781040537, 12.176827322055537, 5.968720076603894], \"showlegend\": true, \"subplot\": \"polar\", \"theta\": [\"Administrative ledere og politikere\", \"Akademiske yrker\", \"H\\u00e5ndverkere o.l.\", \"Kontor og kundeserviceyrker\", \"Prosess og maskinoperat\\u00f8rer, transportarbeidere mv.\", \"Salgs , service og omsorgsyrker\", \"Ukjent\", \"Yrker innen jordbruk, skogbruk og fiske\", \"Yrker med kortere h\\u00f8yskole og universitetsutdanning og teknikere\", \"Yrker uten krav til utdanning\", \"Administrative ledere og politikere\"], \"type\": \"scatterpolar\"}], \"name\": \"201705\"}, {\"data\": [{\"hoverlabel\": {\"namelength\": 0}, \"hovertemplate\": \"arbeidssted_fylke_navn=I alt<br>ansettelses_aar_mnd=201706<br>andel_fylke=%{r}<br>yrkesfelt_navn=%{theta}\", \"legendgroup\": \"arbeidssted_fylke_navn=I alt\", \"line\": {\"color\": \"#C30000\", \"dash\": \"solid\"}, \"mode\": \"lines\", \"name\": \"arbeidssted_fylke_navn=I alt\", \"r\": [2.352166345203933, 6.199638438430366, 9.794420661429177, 7.3562322327434995, 7.910671442684427, 33.3120518283053, 2.7849649527214564, 2.4549896168657046, 14.451710024932963, 13.383154456683176, 2.352166345203933], \"showlegend\": true, \"subplot\": \"polar\", \"theta\": [\"Administrative ledere og politikere\", \"Akademiske yrker\", \"H\\u00e5ndverkere o.l.\", \"Kontor og kundeserviceyrker\", \"Prosess og maskinoperat\\u00f8rer, transportarbeidere mv.\", \"Salgs , service og omsorgsyrker\", \"Ukjent\", \"Yrker innen jordbruk, skogbruk og fiske\", \"Yrker med kortere h\\u00f8yskole og universitetsutdanning og teknikere\", \"Yrker uten krav til utdanning\", \"Administrative ledere og politikere\"], \"type\": \"scatterpolar\"}, {\"hoverlabel\": {\"namelength\": 0}, \"hovertemplate\": \"arbeidssted_fylke_navn=Buskerud<br>ansettelses_aar_mnd=201706<br>andel_fylke=%{r}<br>yrkesfelt_navn=%{theta}\", \"legendgroup\": \"arbeidssted_fylke_navn=Buskerud\", \"line\": {\"color\": \"#FF9100\", \"dash\": \"solid\"}, \"mode\": \"lines\", \"name\": \"arbeidssted_fylke_navn=Buskerud\", \"r\": [2.917093142272262, 4.529170931422723, 9.442169907881269, 8.687308085977483, 6.768167860798362, 30.245649948822926, 2.430910951893552, 4.580348004094166, 13.165301944728762, 17.233879222108495, 2.917093142272262], \"showlegend\": true, \"subplot\": \"polar\", \"theta\": [\"Administrative ledere og politikere\", \"Akademiske yrker\", \"H\\u00e5ndverkere o.l.\", \"Kontor og kundeserviceyrker\", \"Prosess og maskinoperat\\u00f8rer, transportarbeidere mv.\", \"Salgs , service og omsorgsyrker\", \"Ukjent\", \"Yrker innen jordbruk, skogbruk og fiske\", \"Yrker med kortere h\\u00f8yskole og universitetsutdanning og teknikere\", \"Yrker uten krav til utdanning\", \"Administrative ledere og politikere\"], \"type\": \"scatterpolar\"}], \"name\": \"201706\"}, {\"data\": [{\"hoverlabel\": {\"namelength\": 0}, \"hovertemplate\": \"arbeidssted_fylke_navn=I alt<br>ansettelses_aar_mnd=201707<br>andel_fylke=%{r}<br>yrkesfelt_navn=%{theta}\", \"legendgroup\": \"arbeidssted_fylke_navn=I alt\", \"line\": {\"color\": \"#C30000\", \"dash\": \"solid\"}, \"mode\": \"lines\", \"name\": \"arbeidssted_fylke_navn=I alt\", \"r\": [2.8032227172419537, 6.063413415497356, 10.454053378856644, 6.6983803139442895, 8.91139609443311, 30.077653328892033, 3.3778157138693428, 3.6276387558812506, 13.04076279302161, 14.94566348836241, 2.8032227172419537], \"showlegend\": true, \"subplot\": \"polar\", \"theta\": [\"Administrative ledere og politikere\", \"Akademiske yrker\", \"H\\u00e5ndverkere o.l.\", \"Kontor og kundeserviceyrker\", \"Prosess og maskinoperat\\u00f8rer, transportarbeidere mv.\", \"Salgs , service og omsorgsyrker\", \"Ukjent\", \"Yrker innen jordbruk, skogbruk og fiske\", \"Yrker med kortere h\\u00f8yskole og universitetsutdanning og teknikere\", \"Yrker uten krav til utdanning\", \"Administrative ledere og politikere\"], \"type\": \"scatterpolar\"}, {\"hoverlabel\": {\"namelength\": 0}, \"hovertemplate\": \"arbeidssted_fylke_navn=Buskerud<br>ansettelses_aar_mnd=201707<br>andel_fylke=%{r}<br>yrkesfelt_navn=%{theta}\", \"legendgroup\": \"arbeidssted_fylke_navn=Buskerud\", \"line\": {\"color\": \"#FF9100\", \"dash\": \"solid\"}, \"mode\": \"lines\", \"name\": \"arbeidssted_fylke_navn=Buskerud\", \"r\": [3.6626166578622996, 3.363268181017785, 12.079591477372777, 7.818277865821448, 7.254798379996478, 26.3954921641134, 2.518048952280331, 10.653284028878323, 10.44197922169396, 15.812643070963198, 3.6626166578622996], \"showlegend\": true, \"subplot\": \"polar\", \"theta\": [\"Administrative ledere og politikere\", \"Akademiske yrker\", \"H\\u00e5ndverkere o.l.\", \"Kontor og kundeserviceyrker\", \"Prosess og maskinoperat\\u00f8rer, transportarbeidere mv.\", \"Salgs , service og omsorgsyrker\", \"Ukjent\", \"Yrker innen jordbruk, skogbruk og fiske\", \"Yrker med kortere h\\u00f8yskole og universitetsutdanning og teknikere\", \"Yrker uten krav til utdanning\", \"Administrative ledere og politikere\"], \"type\": \"scatterpolar\"}], \"name\": \"201707\"}, {\"data\": [{\"hoverlabel\": {\"namelength\": 0}, \"hovertemplate\": \"arbeidssted_fylke_navn=I alt<br>ansettelses_aar_mnd=201708<br>andel_fylke=%{r}<br>yrkesfelt_navn=%{theta}\", \"legendgroup\": \"arbeidssted_fylke_navn=I alt\", \"line\": {\"color\": \"#C30000\", \"dash\": \"solid\"}, \"mode\": \"lines\", \"name\": \"arbeidssted_fylke_navn=I alt\", \"r\": [3.432066284702523, 11.894089115268798, 9.056166185574723, 4.516237632404192, 5.509385968740453, 29.969638214702087, 2.6851788352795216, 1.319833664798409, 24.558133155443613, 7.05927094308568, 3.432066284702523], \"showlegend\": true, \"subplot\": \"polar\", \"theta\": [\"Administrative ledere og politikere\", \"Akademiske yrker\", \"H\\u00e5ndverkere o.l.\", \"Kontor og kundeserviceyrker\", \"Prosess og maskinoperat\\u00f8rer, transportarbeidere mv.\", \"Salgs , service og omsorgsyrker\", \"Ukjent\", \"Yrker innen jordbruk, skogbruk og fiske\", \"Yrker med kortere h\\u00f8yskole og universitetsutdanning og teknikere\", \"Yrker uten krav til utdanning\", \"Administrative ledere og politikere\"], \"type\": \"scatterpolar\"}, {\"hoverlabel\": {\"namelength\": 0}, \"hovertemplate\": \"arbeidssted_fylke_navn=Buskerud<br>ansettelses_aar_mnd=201708<br>andel_fylke=%{r}<br>yrkesfelt_navn=%{theta}\", \"legendgroup\": \"arbeidssted_fylke_navn=Buskerud\", \"line\": {\"color\": \"#FF9100\", \"dash\": \"solid\"}, \"mode\": \"lines\", \"name\": \"arbeidssted_fylke_navn=Buskerud\", \"r\": [5.503709021296961, 8.53074898301029, 11.11509930605408, 5.8626465661641545, 5.575496530270399, 28.415888968652787, 2.189519023689878, 2.4527398899258195, 20.710696338837042, 9.643455372098588, 5.503709021296961], \"showlegend\": true, \"subplot\": \"polar\", \"theta\": [\"Administrative ledere og politikere\", \"Akademiske yrker\", \"H\\u00e5ndverkere o.l.\", \"Kontor og kundeserviceyrker\", \"Prosess og maskinoperat\\u00f8rer, transportarbeidere mv.\", \"Salgs , service og omsorgsyrker\", \"Ukjent\", \"Yrker innen jordbruk, skogbruk og fiske\", \"Yrker med kortere h\\u00f8yskole og universitetsutdanning og teknikere\", \"Yrker uten krav til utdanning\", \"Administrative ledere og politikere\"], \"type\": \"scatterpolar\"}], \"name\": \"201708\"}, {\"data\": [{\"hoverlabel\": {\"namelength\": 0}, \"hovertemplate\": \"arbeidssted_fylke_navn=I alt<br>ansettelses_aar_mnd=201709<br>andel_fylke=%{r}<br>yrkesfelt_navn=%{theta}\", \"legendgroup\": \"arbeidssted_fylke_navn=I alt\", \"line\": {\"color\": \"#C30000\", \"dash\": \"solid\"}, \"mode\": \"lines\", \"name\": \"arbeidssted_fylke_navn=I alt\", \"r\": [3.700578688041774, 11.21795126921332, 9.708745592180149, 5.529774176344634, 6.783465601095289, 31.768938700459287, 3.1155226898248016, 1.8084996298625318, 17.343925367550487, 9.022598285427728, 3.700578688041774], \"showlegend\": true, \"subplot\": \"polar\", \"theta\": [\"Administrative ledere og politikere\", \"Akademiske yrker\", \"H\\u00e5ndverkere o.l.\", \"Kontor og kundeserviceyrker\", \"Prosess og maskinoperat\\u00f8rer, transportarbeidere mv.\", \"Salgs , service og omsorgsyrker\", \"Ukjent\", \"Yrker innen jordbruk, skogbruk og fiske\", \"Yrker med kortere h\\u00f8yskole og universitetsutdanning og teknikere\", \"Yrker uten krav til utdanning\", \"Administrative ledere og politikere\"], \"type\": \"scatterpolar\"}, {\"hoverlabel\": {\"namelength\": 0}, \"hovertemplate\": \"arbeidssted_fylke_navn=Buskerud<br>ansettelses_aar_mnd=201709<br>andel_fylke=%{r}<br>yrkesfelt_navn=%{theta}\", \"legendgroup\": \"arbeidssted_fylke_navn=Buskerud\", \"line\": {\"color\": \"#FF9100\", \"dash\": \"solid\"}, \"mode\": \"lines\", \"name\": \"arbeidssted_fylke_navn=Buskerud\", \"r\": [5.612320450170294, 6.945061454168518, 10.706352732119058, 6.012142751369762, 6.5156226862135345, 31.734044128535466, 2.4433585073300756, 3.094920775951429, 15.519028579890419, 11.417147934251444, 5.612320450170294], \"showlegend\": true, \"subplot\": \"polar\", \"theta\": [\"Administrative ledere og politikere\", \"Akademiske yrker\", \"H\\u00e5ndverkere o.l.\", \"Kontor og kundeserviceyrker\", \"Prosess og maskinoperat\\u00f8rer, transportarbeidere mv.\", \"Salgs , service og omsorgsyrker\", \"Ukjent\", \"Yrker innen jordbruk, skogbruk og fiske\", \"Yrker med kortere h\\u00f8yskole og universitetsutdanning og teknikere\", \"Yrker uten krav til utdanning\", \"Administrative ledere og politikere\"], \"type\": \"scatterpolar\"}], \"name\": \"201709\"}, {\"data\": [{\"hoverlabel\": {\"namelength\": 0}, \"hovertemplate\": \"arbeidssted_fylke_navn=I alt<br>ansettelses_aar_mnd=201710<br>andel_fylke=%{r}<br>yrkesfelt_navn=%{theta}\", \"legendgroup\": \"arbeidssted_fylke_navn=I alt\", \"line\": {\"color\": \"#C30000\", \"dash\": \"solid\"}, \"mode\": \"lines\", \"name\": \"arbeidssted_fylke_navn=I alt\", \"r\": [4.048732574590216, 8.372306777324214, 11.201823867066764, 6.098780784515152, 7.734313751993728, 30.027123714777467, 2.934047020446415, 1.5733556811116218, 19.6588359330648, 8.350679895109621, 4.048732574590216], \"showlegend\": true, \"subplot\": \"polar\", \"theta\": [\"Administrative ledere og politikere\", \"Akademiske yrker\", \"H\\u00e5ndverkere o.l.\", \"Kontor og kundeserviceyrker\", \"Prosess og maskinoperat\\u00f8rer, transportarbeidere mv.\", \"Salgs , service og omsorgsyrker\", \"Ukjent\", \"Yrker innen jordbruk, skogbruk og fiske\", \"Yrker med kortere h\\u00f8yskole og universitetsutdanning og teknikere\", \"Yrker uten krav til utdanning\", \"Administrative ledere og politikere\"], \"type\": \"scatterpolar\"}, {\"hoverlabel\": {\"namelength\": 0}, \"hovertemplate\": \"arbeidssted_fylke_navn=Buskerud<br>ansettelses_aar_mnd=201710<br>andel_fylke=%{r}<br>yrkesfelt_navn=%{theta}\", \"legendgroup\": \"arbeidssted_fylke_navn=Buskerud\", \"line\": {\"color\": \"#FF9100\", \"dash\": \"solid\"}, \"mode\": \"lines\", \"name\": \"arbeidssted_fylke_navn=Buskerud\", \"r\": [5.67418246976258, 6.435717485441242, 12.453337315215768, 6.435717485441242, 9.168284306405853, 28.923398536658205, 1.8665073913692698, 2.7027027027027026, 15.454681200537554, 10.885471106465582, 5.67418246976258], \"showlegend\": true, \"subplot\": \"polar\", \"theta\": [\"Administrative ledere og politikere\", \"Akademiske yrker\", \"H\\u00e5ndverkere o.l.\", \"Kontor og kundeserviceyrker\", \"Prosess og maskinoperat\\u00f8rer, transportarbeidere mv.\", \"Salgs , service og omsorgsyrker\", \"Ukjent\", \"Yrker innen jordbruk, skogbruk og fiske\", \"Yrker med kortere h\\u00f8yskole og universitetsutdanning og teknikere\", \"Yrker uten krav til utdanning\", \"Administrative ledere og politikere\"], \"type\": \"scatterpolar\"}], \"name\": \"201710\"}, {\"data\": [{\"hoverlabel\": {\"namelength\": 0}, \"hovertemplate\": \"arbeidssted_fylke_navn=I alt<br>ansettelses_aar_mnd=201711<br>andel_fylke=%{r}<br>yrkesfelt_navn=%{theta}\", \"legendgroup\": \"arbeidssted_fylke_navn=I alt\", \"line\": {\"color\": \"#C30000\", \"dash\": \"solid\"}, \"mode\": \"lines\", \"name\": \"arbeidssted_fylke_navn=I alt\", \"r\": [4.022625258444299, 8.512324980984927, 9.685367499758964, 6.444770587164022, 7.475333968954546, 32.54202063269307, 2.6278294963951705, 1.941144332437036, 17.46172881828018, 9.286854424887784, 4.022625258444299], \"showlegend\": true, \"subplot\": \"polar\", \"theta\": [\"Administrative ledere og politikere\", \"Akademiske yrker\", \"H\\u00e5ndverkere o.l.\", \"Kontor og kundeserviceyrker\", \"Prosess og maskinoperat\\u00f8rer, transportarbeidere mv.\", \"Salgs , service og omsorgsyrker\", \"Ukjent\", \"Yrker innen jordbruk, skogbruk og fiske\", \"Yrker med kortere h\\u00f8yskole og universitetsutdanning og teknikere\", \"Yrker uten krav til utdanning\", \"Administrative ledere og politikere\"], \"type\": \"scatterpolar\"}, {\"hoverlabel\": {\"namelength\": 0}, \"hovertemplate\": \"arbeidssted_fylke_navn=Buskerud<br>ansettelses_aar_mnd=201711<br>andel_fylke=%{r}<br>yrkesfelt_navn=%{theta}\", \"legendgroup\": \"arbeidssted_fylke_navn=Buskerud\", \"line\": {\"color\": \"#FF9100\", \"dash\": \"solid\"}, \"mode\": \"lines\", \"name\": \"arbeidssted_fylke_navn=Buskerud\", \"r\": [4.605385329619313, 5.348189415041783, 10.73351903435469, 6.220984215413185, 8.765088207985144, 33.50046425255339, 2.116991643454039, 2.7298050139275767, 14.707520891364902, 11.27205199628598, 4.605385329619313], \"showlegend\": true, \"subplot\": \"polar\", \"theta\": [\"Administrative ledere og politikere\", \"Akademiske yrker\", \"H\\u00e5ndverkere o.l.\", \"Kontor og kundeserviceyrker\", \"Prosess og maskinoperat\\u00f8rer, transportarbeidere mv.\", \"Salgs , service og omsorgsyrker\", \"Ukjent\", \"Yrker innen jordbruk, skogbruk og fiske\", \"Yrker med kortere h\\u00f8yskole og universitetsutdanning og teknikere\", \"Yrker uten krav til utdanning\", \"Administrative ledere og politikere\"], \"type\": \"scatterpolar\"}], \"name\": \"201711\"}, {\"data\": [{\"hoverlabel\": {\"namelength\": 0}, \"hovertemplate\": \"arbeidssted_fylke_navn=I alt<br>ansettelses_aar_mnd=201712<br>andel_fylke=%{r}<br>yrkesfelt_navn=%{theta}\", \"legendgroup\": \"arbeidssted_fylke_navn=I alt\", \"line\": {\"color\": \"#C30000\", \"dash\": \"solid\"}, \"mode\": \"lines\", \"name\": \"arbeidssted_fylke_navn=I alt\", \"r\": [4.58762601085632, 7.6797385620915035, 7.976071784646062, 6.264539714190761, 8.207322477013404, 32.800210479672096, 2.5894538606403015, 3.2887448764816662, 16.508806912595546, 10.097485321812341, 4.58762601085632], \"showlegend\": true, \"subplot\": \"polar\", \"theta\": [\"Administrative ledere og politikere\", \"Akademiske yrker\", \"H\\u00e5ndverkere o.l.\", \"Kontor og kundeserviceyrker\", \"Prosess og maskinoperat\\u00f8rer, transportarbeidere mv.\", \"Salgs , service og omsorgsyrker\", \"Ukjent\", \"Yrker innen jordbruk, skogbruk og fiske\", \"Yrker med kortere h\\u00f8yskole og universitetsutdanning og teknikere\", \"Yrker uten krav til utdanning\", \"Administrative ledere og politikere\"], \"type\": \"scatterpolar\"}, {\"hoverlabel\": {\"namelength\": 0}, \"hovertemplate\": \"arbeidssted_fylke_navn=Buskerud<br>ansettelses_aar_mnd=201712<br>andel_fylke=%{r}<br>yrkesfelt_navn=%{theta}\", \"legendgroup\": \"arbeidssted_fylke_navn=Buskerud\", \"line\": {\"color\": \"#FF9100\", \"dash\": \"solid\"}, \"mode\": \"lines\", \"name\": \"arbeidssted_fylke_navn=Buskerud\", \"r\": [6.503378378378378, 4.940878378378378, 7.326858108108108, 6.756756756756757, 10.388513513513514, 31.37668918918919, 1.9847972972972974, 5.130912162162162, 13.091216216216216, 12.5, 6.503378378378378], \"showlegend\": true, \"subplot\": \"polar\", \"theta\": [\"Administrative ledere og politikere\", \"Akademiske yrker\", \"H\\u00e5ndverkere o.l.\", \"Kontor og kundeserviceyrker\", \"Prosess og maskinoperat\\u00f8rer, transportarbeidere mv.\", \"Salgs , service og omsorgsyrker\", \"Ukjent\", \"Yrker innen jordbruk, skogbruk og fiske\", \"Yrker med kortere h\\u00f8yskole og universitetsutdanning og teknikere\", \"Yrker uten krav til utdanning\", \"Administrative ledere og politikere\"], \"type\": \"scatterpolar\"}], \"name\": \"201712\"}]);\n",
       "                        }).then(function(){\n",
       "                            \n",
       "var gd = document.getElementById('69081d0d-8f8e-4fa7-9fcd-45bee5efcaeb');\n",
       "var x = new MutationObserver(function (mutations, observer) {{\n",
       "        var display = window.getComputedStyle(gd).display;\n",
       "        if (!display || display === 'none') {{\n",
       "            console.log([gd, 'removed!']);\n",
       "            Plotly.purge(gd);\n",
       "            observer.disconnect();\n",
       "        }}\n",
       "}});\n",
       "\n",
       "// Listen for the removal of the full notebook cells\n",
       "var notebookContainer = gd.closest('#notebook-container');\n",
       "if (notebookContainer) {{\n",
       "    x.observe(notebookContainer, {childList: true});\n",
       "}}\n",
       "\n",
       "// Listen for the clearing of the current output cell\n",
       "var outputEl = gd.closest('.output');\n",
       "if (outputEl) {{\n",
       "    x.observe(outputEl, {childList: true});\n",
       "}}\n",
       "\n",
       "                        })\n",
       "                };\n",
       "                });\n",
       "            </script>\n",
       "        </div>"
      ]
     },
     "metadata": {},
     "output_type": "display_data"
    }
   ],
   "source": [
    "plotFylke('Buskerud').show()"
   ]
  },
  {
   "cell_type": "markdown",
   "metadata": {
    "colab_type": "text",
    "id": "FKi2Yx-o6lfT"
   },
   "source": [
    "# Save data and publish datapackage in elastic search index"
   ]
  },
  {
   "cell_type": "code",
   "execution_count": 291,
   "metadata": {},
   "outputs": [],
   "source": [
    "import os\n",
    "os.environ['GOOGLE_APPLICATION_CREDENTIALS'] = '/users/b149899/projects/binder/binder/keys/nav_opendata.json'"
   ]
  },
  {
   "cell_type": "code",
   "execution_count": 292,
   "metadata": {},
   "outputs": [
    {
     "name": "stdout",
     "output_type": "stream",
     "text": [
      "gs\n",
      "2019-10-17T12:24:25.935782: B149899 <class 'dataverk.connectors.google_storage.GoogleStorageConnector'>: String (format: json) written to https://storage.googleapis.com/nav-opendata/e3ad7f4bbc0d866bef27e8efd1d41ccd/datapackage.json\n",
      "2019-10-17T12:24:26.616684: B149899 <class 'dataverk.connectors.elasticsearch.ElasticsearchConnector'>: Document e3ad7f4bbc0d866bef27e8efd1d41ccd of type dcat indexed to elastic index: dcat.\n"
     ]
    }
   ],
   "source": [
    "client = Client()\n",
    "client.publish(dp)"
   ]
  },
  {
   "cell_type": "code",
   "execution_count": null,
   "metadata": {},
   "outputs": [],
   "source": []
  }
 ],
 "metadata": {
  "colab": {
   "include_colab_link": true,
   "name": "etl.ipynb",
   "private_outputs": true,
   "provenance": [],
   "toc_visible": true,
   "version": "0.3.2"
  },
  "kernelspec": {
   "display_name": "Python 3",
   "language": "python",
   "name": "python3"
  },
  "language_info": {
   "codemirror_mode": {
    "name": "ipython",
    "version": 3
   },
   "file_extension": ".py",
   "mimetype": "text/x-python",
   "name": "python",
   "nbconvert_exporter": "python",
   "pygments_lexer": "ipython3",
   "version": "3.7.3"
  },
  "varInspector": {
   "cols": {
    "lenName": 16,
    "lenType": 16,
    "lenVar": 40
   },
   "kernels_config": {
    "python": {
     "delete_cmd_postfix": "",
     "delete_cmd_prefix": "del ",
     "library": "var_list.py",
     "varRefreshCmd": "print(var_dic_list())"
    },
    "r": {
     "delete_cmd_postfix": ") ",
     "delete_cmd_prefix": "rm(",
     "library": "var_list.r",
     "varRefreshCmd": "cat(var_dic_list()) "
    }
   },
   "types_to_exclude": [
    "module",
    "function",
    "builtin_function_or_method",
    "instance",
    "_Feature"
   ],
   "window_display": false
  }
 },
 "nbformat": 4,
 "nbformat_minor": 1
}
