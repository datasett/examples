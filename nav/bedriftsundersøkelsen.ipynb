{
 "cells": [
  {
   "cell_type": "code",
   "execution_count": 51,
   "metadata": {},
   "outputs": [],
   "source": [
    "import dataverk as dv\n",
    "import plotly_express as px\n",
    "import dataverk_tools.themes.nav as nav\n",
    "\n",
    "import pandas as pd\n",
    "import ipywidgets as widgets\n",
    "\n",
    "import plotly.graph_objs as go\n",
    "import plotly.io as plio\n",
    "import plotly.figure_factory as ff"
   ]
  },
  {
   "cell_type": "markdown",
   "metadata": {},
   "source": [
    "# Set theme"
   ]
  },
  {
   "cell_type": "code",
   "execution_count": 52,
   "metadata": {},
   "outputs": [],
   "source": [
    "px.defaults.template = nav.plotly_template\n",
    "px.defaults.color_continuous_scale = nav.sequential.navRodBla\n",
    "px.defaults.color_discrete_sequence = nav.discrete.navColors\n",
    "px.defaults.height = None"
   ]
  },
  {
   "cell_type": "markdown",
   "metadata": {},
   "source": [
    "# Get data"
   ]
  },
  {
   "cell_type": "code",
   "execution_count": 53,
   "metadata": {},
   "outputs": [
    {
     "data": {
      "text/plain": [
       "odict_keys(['Figur1', 'Figur 2', 'Tabell 1', 'Tabell 2', 'Tabell 3', 'Tabell 4', 'Figur 3', 'Figur 4', 'Figur 5', 'Figur 6', 'Figur 7', 'Figur 8', 'Tabell 5 ', 'Tabell 6', 'Tabell 7', 'Tabell 8', 'Figur 9', 'Figur 10'])"
      ]
     },
     "execution_count": 53,
     "metadata": {},
     "output_type": "execute_result"
    }
   ],
   "source": [
    "resource = \"https://www.nav.no/no/NAV+og+samfunn/Kunnskap/Analyser+fra+NAV/Arbeid+og+velferd/Arbeid+og+velferd/_attachment/538358?_download=true&_ts=1632b0c00c8\"\n",
    "df = pd.read_excel(resource, None)\n",
    "df.keys()"
   ]
  },
  {
   "cell_type": "markdown",
   "metadata": {},
   "source": [
    "# Transformations"
   ]
  },
  {
   "cell_type": "code",
   "execution_count": 54,
   "metadata": {},
   "outputs": [],
   "source": [
    "df_1 = pd.read_excel(resource, sheet_name='Figur1', header=2, nrows=21, encoding='utf8')\n",
    "df_1.drop(columns=[df_1.columns[3]], axis=1, inplace=True)\n",
    "df_1.drop(18, axis=0, inplace=True)\n",
    "df_1.drop(19, axis=0, inplace=True)\n",
    "df_1.columns = ['Fylke','Mislyktes','Lavere komp', 'Sum']"
   ]
  },
  {
   "cell_type": "code",
   "execution_count": 55,
   "metadata": {},
   "outputs": [
    {
     "data": {
      "text/html": [
       "<div>\n",
       "<style scoped>\n",
       "    .dataframe tbody tr th:only-of-type {\n",
       "        vertical-align: middle;\n",
       "    }\n",
       "\n",
       "    .dataframe tbody tr th {\n",
       "        vertical-align: top;\n",
       "    }\n",
       "\n",
       "    .dataframe thead th {\n",
       "        text-align: right;\n",
       "    }\n",
       "</style>\n",
       "<table border=\"1\" class=\"dataframe\">\n",
       "  <thead>\n",
       "    <tr style=\"text-align: right;\">\n",
       "      <th></th>\n",
       "      <th>Fylke</th>\n",
       "      <th>Mislyktes</th>\n",
       "      <th>Lavere komp</th>\n",
       "      <th>Sum</th>\n",
       "    </tr>\n",
       "  </thead>\n",
       "  <tbody>\n",
       "    <tr>\n",
       "      <th>0</th>\n",
       "      <td>Nordland</td>\n",
       "      <td>14.1</td>\n",
       "      <td>8.0</td>\n",
       "      <td>22.1</td>\n",
       "    </tr>\n",
       "    <tr>\n",
       "      <th>1</th>\n",
       "      <td>Akershus</td>\n",
       "      <td>13.1</td>\n",
       "      <td>7.8</td>\n",
       "      <td>20.9</td>\n",
       "    </tr>\n",
       "    <tr>\n",
       "      <th>2</th>\n",
       "      <td>Finnmark</td>\n",
       "      <td>10.6</td>\n",
       "      <td>10.0</td>\n",
       "      <td>20.6</td>\n",
       "    </tr>\n",
       "    <tr>\n",
       "      <th>3</th>\n",
       "      <td>Østfold</td>\n",
       "      <td>14.1</td>\n",
       "      <td>5.3</td>\n",
       "      <td>19.4</td>\n",
       "    </tr>\n",
       "    <tr>\n",
       "      <th>4</th>\n",
       "      <td>Troms</td>\n",
       "      <td>11.3</td>\n",
       "      <td>8.0</td>\n",
       "      <td>19.3</td>\n",
       "    </tr>\n",
       "  </tbody>\n",
       "</table>\n",
       "</div>"
      ],
      "text/plain": [
       "      Fylke  Mislyktes  Lavere komp   Sum\n",
       "0  Nordland       14.1          8.0  22.1\n",
       "1  Akershus       13.1          7.8  20.9\n",
       "2  Finnmark       10.6         10.0  20.6\n",
       "3   Østfold       14.1          5.3  19.4\n",
       "4     Troms       11.3          8.0  19.3"
      ]
     },
     "execution_count": 55,
     "metadata": {},
     "output_type": "execute_result"
    }
   ],
   "source": [
    "df_1.head()"
   ]
  },
  {
   "cell_type": "code",
   "execution_count": 56,
   "metadata": {},
   "outputs": [
    {
     "data": {
      "text/html": [
       "<div>\n",
       "<style scoped>\n",
       "    .dataframe tbody tr th:only-of-type {\n",
       "        vertical-align: middle;\n",
       "    }\n",
       "\n",
       "    .dataframe tbody tr th {\n",
       "        vertical-align: top;\n",
       "    }\n",
       "\n",
       "    .dataframe thead th {\n",
       "        text-align: right;\n",
       "    }\n",
       "</style>\n",
       "<table border=\"1\" class=\"dataframe\">\n",
       "  <thead>\n",
       "    <tr style=\"text-align: right;\">\n",
       "      <th></th>\n",
       "      <th>Fylke</th>\n",
       "      <th>Rekruttering</th>\n",
       "      <th>Prosent</th>\n",
       "    </tr>\n",
       "  </thead>\n",
       "  <tbody>\n",
       "    <tr>\n",
       "      <th>0</th>\n",
       "      <td>Nordland</td>\n",
       "      <td>Mislyktes</td>\n",
       "      <td>14.1</td>\n",
       "    </tr>\n",
       "    <tr>\n",
       "      <th>1</th>\n",
       "      <td>Akershus</td>\n",
       "      <td>Mislyktes</td>\n",
       "      <td>13.1</td>\n",
       "    </tr>\n",
       "    <tr>\n",
       "      <th>2</th>\n",
       "      <td>Finnmark</td>\n",
       "      <td>Mislyktes</td>\n",
       "      <td>10.6</td>\n",
       "    </tr>\n",
       "    <tr>\n",
       "      <th>3</th>\n",
       "      <td>Østfold</td>\n",
       "      <td>Mislyktes</td>\n",
       "      <td>14.1</td>\n",
       "    </tr>\n",
       "    <tr>\n",
       "      <th>4</th>\n",
       "      <td>Troms</td>\n",
       "      <td>Mislyktes</td>\n",
       "      <td>11.3</td>\n",
       "    </tr>\n",
       "  </tbody>\n",
       "</table>\n",
       "</div>"
      ],
      "text/plain": [
       "      Fylke Rekruttering  Prosent\n",
       "0  Nordland    Mislyktes     14.1\n",
       "1  Akershus    Mislyktes     13.1\n",
       "2  Finnmark    Mislyktes     10.6\n",
       "3   Østfold    Mislyktes     14.1\n",
       "4     Troms    Mislyktes     11.3"
      ]
     },
     "execution_count": 56,
     "metadata": {},
     "output_type": "execute_result"
    }
   ],
   "source": [
    "df_1_m = df_1[[\"Fylke\",\"Mislyktes\",\"Lavere komp\"]].melt(id_vars=[\"Fylke\"], var_name=\"Rekruttering\", value_name=\"Prosent\")\n",
    "df_1_m.head()"
   ]
  },
  {
   "cell_type": "code",
   "execution_count": 57,
   "metadata": {},
   "outputs": [
    {
     "data": {
      "application/vnd.plotly.v1+json": {
       "config": {
        "linkText": "Export to plot.ly",
        "plotlyServerURL": "https://plot.ly",
        "showLink": false
       },
       "data": [
        {
         "alignmentgroup": "True",
         "hoverlabel": {
          "namelength": 0
         },
         "hovertemplate": "Rekruttering=Mislyktes<br>Fylke=%{x}<br>Prosent=%{y}",
         "legendgroup": "Rekruttering=Mislyktes",
         "marker": {
          "color": "#C30000"
         },
         "name": "Rekruttering=Mislyktes",
         "offsetgroup": "Rekruttering=Mislyktes",
         "orientation": "v",
         "showlegend": true,
         "textposition": "auto",
         "type": "bar",
         "uid": "1bccbb24-6591-4e19-8eae-5903c0456d2a",
         "x": [
          "Nordland",
          "Akershus",
          "Finnmark",
          "Østfold",
          "Troms",
          "Telemark",
          "Møre og Romsdal",
          "Hordaland",
          "Oslo",
          "Sogn og Fjordane",
          "Rogaland",
          "Trøndelag",
          "Vestfold",
          "Aust-Agder",
          "Hedmark",
          "Oppland",
          "Buskerud",
          "Vest-Agder"
         ],
         "xaxis": "x",
         "y": [
          14.099999999999998,
          13.100000000000001,
          10.6,
          14.099999999999998,
          11.3,
          11.4,
          9.8,
          9.2,
          9.8,
          5.8999999999999995,
          7.6,
          10.2,
          7.5,
          7.8,
          10.5,
          10,
          8.5,
          8.5
         ],
         "yaxis": "y"
        },
        {
         "alignmentgroup": "True",
         "hoverlabel": {
          "namelength": 0
         },
         "hovertemplate": "Rekruttering=Lavere komp<br>Fylke=%{x}<br>Prosent=%{y}",
         "legendgroup": "Rekruttering=Lavere komp",
         "marker": {
          "color": "#FF9100"
         },
         "name": "Rekruttering=Lavere komp",
         "offsetgroup": "Rekruttering=Lavere komp",
         "orientation": "v",
         "showlegend": true,
         "textposition": "auto",
         "type": "bar",
         "uid": "a330cc8a-66de-4b53-a01c-d12d271e1184",
         "x": [
          "Nordland",
          "Akershus",
          "Finnmark",
          "Østfold",
          "Troms",
          "Telemark",
          "Møre og Romsdal",
          "Hordaland",
          "Oslo",
          "Sogn og Fjordane",
          "Rogaland",
          "Trøndelag",
          "Vestfold",
          "Aust-Agder",
          "Hedmark",
          "Oppland",
          "Buskerud",
          "Vest-Agder"
         ],
         "xaxis": "x",
         "y": [
          8,
          7.8,
          10,
          5.3,
          8,
          6,
          7.000000000000001,
          6.800000000000001,
          5.6000000000000005,
          8,
          5.7,
          2.8000000000000003,
          4.6,
          4.2,
          1.3,
          1.7999999999999998,
          3.3000000000000003,
          2.1
         ],
         "yaxis": "y"
        }
       ],
       "layout": {
        "barmode": "stack",
        "grid": {
         "xaxes": [
          "x"
         ],
         "xgap": 0.1,
         "xside": "bottom",
         "yaxes": [
          "y"
         ],
         "ygap": 0.1,
         "yside": "left"
        },
        "legend": {
         "tracegroupgap": 0
        },
        "margin": {
         "t": 60
        },
        "template": {
         "data": {
          "bar": [
           {
            "marker": {
             "line": {
              "color": "white",
              "width": 0.5
             }
            },
            "type": "bar"
           }
          ],
          "barpolar": [
           {
            "marker": {
             "line": {
              "color": "white",
              "width": 0.5
             }
            },
            "type": "barpolar"
           }
          ],
          "carpet": [
           {
            "aaxis": {
             "endlinecolor": "#2a3f5f",
             "gridcolor": "#C6C2BF",
             "linecolor": "#C6C2BF",
             "minorgridcolor": "#C6C2BF",
             "startlinecolor": "#2a3f5f"
            },
            "baxis": {
             "endlinecolor": "#2a3f5f",
             "gridcolor": "#C6C2BF",
             "linecolor": "#C6C2BF",
             "minorgridcolor": "#C6C2BF",
             "startlinecolor": "#2a3f5f"
            },
            "type": "carpet"
           }
          ],
          "choropleth": [
           {
            "colorbar": {
             "outlinewidth": 0,
             "ticks": ""
            },
            "type": "choropleth"
           }
          ],
          "contour": [
           {
            "colorbar": {
             "outlinewidth": 0,
             "ticks": ""
            },
            "colorscale": [
             [
              0,
              "#0067c5"
             ],
             [
              0.1,
              "#1e85d1"
             ],
             [
              0.2,
              "#3ea4dd"
             ],
             [
              0.3,
              "#5cc1e8"
             ],
             [
              0.4,
              "#70b6d3"
             ],
             [
              0.5,
              "#7e97af"
             ],
             [
              0.6,
              "#8b798d"
             ],
             [
              0.7,
              "#9a5a69"
             ],
             [
              0.8,
              "#a73d46"
             ],
             [
              0.9,
              "#b51e23"
             ],
             [
              1,
              "#c30000"
             ]
            ],
            "type": "contour"
           }
          ],
          "contourcarpet": [
           {
            "colorbar": {
             "outlinewidth": 0,
             "ticks": ""
            },
            "type": "contourcarpet"
           }
          ],
          "heatmap": [
           {
            "colorbar": {
             "outlinewidth": 0,
             "ticks": ""
            },
            "colorscale": [
             [
              0,
              "#0067c5"
             ],
             [
              0.1,
              "#1e85d1"
             ],
             [
              0.2,
              "#3ea4dd"
             ],
             [
              0.3,
              "#5cc1e8"
             ],
             [
              0.4,
              "#70b6d3"
             ],
             [
              0.5,
              "#7e97af"
             ],
             [
              0.6,
              "#8b798d"
             ],
             [
              0.7,
              "#9a5a69"
             ],
             [
              0.8,
              "#a73d46"
             ],
             [
              0.9,
              "#b51e23"
             ],
             [
              1,
              "#c30000"
             ]
            ],
            "type": "heatmap"
           }
          ],
          "heatmapgl": [
           {
            "colorbar": {
             "outlinewidth": 0,
             "ticks": ""
            },
            "type": "heatmapgl"
           }
          ],
          "histogram": [
           {
            "marker": {
             "colorbar": {
              "outlinewidth": 0,
              "ticks": ""
             }
            },
            "type": "histogram"
           }
          ],
          "histogram2d": [
           {
            "colorbar": {
             "outlinewidth": 0,
             "ticks": ""
            },
            "colorscale": [
             [
              0,
              "#0067c5"
             ],
             [
              0.1,
              "#1e85d1"
             ],
             [
              0.2,
              "#3ea4dd"
             ],
             [
              0.3,
              "#5cc1e8"
             ],
             [
              0.4,
              "#70b6d3"
             ],
             [
              0.5,
              "#7e97af"
             ],
             [
              0.6,
              "#8b798d"
             ],
             [
              0.7,
              "#9a5a69"
             ],
             [
              0.8,
              "#a73d46"
             ],
             [
              0.9,
              "#b51e23"
             ],
             [
              1,
              "#c30000"
             ]
            ],
            "type": "histogram2d"
           }
          ],
          "histogram2dcontour": [
           {
            "colorbar": {
             "outlinewidth": 0,
             "ticks": ""
            },
            "colorscale": [
             [
              0,
              "#0067c5"
             ],
             [
              0.1,
              "#1e85d1"
             ],
             [
              0.2,
              "#3ea4dd"
             ],
             [
              0.3,
              "#5cc1e8"
             ],
             [
              0.4,
              "#70b6d3"
             ],
             [
              0.5,
              "#7e97af"
             ],
             [
              0.6,
              "#8b798d"
             ],
             [
              0.7,
              "#9a5a69"
             ],
             [
              0.8,
              "#a73d46"
             ],
             [
              0.9,
              "#b51e23"
             ],
             [
              1,
              "#c30000"
             ]
            ],
            "type": "histogram2dcontour"
           }
          ],
          "mesh3d": [
           {
            "colorbar": {
             "outlinewidth": 0,
             "ticks": ""
            },
            "type": "mesh3d"
           }
          ],
          "parcoords": [
           {
            "line": {
             "colorbar": {
              "outlinewidth": 0,
              "ticks": ""
             }
            },
            "type": "parcoords"
           }
          ],
          "scatter": [
           {
            "marker": {
             "colorbar": {
              "outlinewidth": 0,
              "ticks": ""
             }
            },
            "type": "scatter"
           }
          ],
          "scatter3d": [
           {
            "marker": {
             "colorbar": {
              "outlinewidth": 0,
              "ticks": ""
             }
            },
            "type": "scatter3d"
           }
          ],
          "scattercarpet": [
           {
            "marker": {
             "colorbar": {
              "outlinewidth": 0,
              "ticks": ""
             }
            },
            "type": "scattercarpet"
           }
          ],
          "scattergeo": [
           {
            "marker": {
             "colorbar": {
              "outlinewidth": 0,
              "ticks": ""
             }
            },
            "type": "scattergeo"
           }
          ],
          "scattergl": [
           {
            "marker": {
             "colorbar": {
              "outlinewidth": 0,
              "ticks": ""
             }
            },
            "type": "scattergl"
           }
          ],
          "scattermapbox": [
           {
            "marker": {
             "colorbar": {
              "outlinewidth": 0,
              "ticks": ""
             }
            },
            "type": "scattermapbox"
           }
          ],
          "scatterpolar": [
           {
            "marker": {
             "colorbar": {
              "outlinewidth": 0,
              "ticks": ""
             }
            },
            "type": "scatterpolar"
           }
          ],
          "scatterpolargl": [
           {
            "marker": {
             "colorbar": {
              "outlinewidth": 0,
              "ticks": ""
             }
            },
            "type": "scatterpolargl"
           }
          ],
          "scatterternary": [
           {
            "marker": {
             "colorbar": {
              "outlinewidth": 0,
              "ticks": ""
             }
            },
            "type": "scatterternary"
           }
          ],
          "surface": [
           {
            "colorbar": {
             "outlinewidth": 0,
             "ticks": ""
            },
            "type": "surface"
           }
          ],
          "table": [
           {
            "cells": {
             "fill": {
              "color": "#C6C2BF"
             },
             "line": {
              "color": "white"
             }
            },
            "header": {
             "fill": {
              "color": "#C6C2BF"
             },
             "line": {
              "color": "white"
             }
            },
            "type": "table"
           }
          ]
         },
         "layout": {
          "annotationdefaults": {
           "arrowcolor": "#506784",
           "arrowhead": 0,
           "arrowwidth": 1
          },
          "colorscale": {
           "diverging": [
            [
             0,
             "#0067c5"
            ],
            [
             0.1,
             "#1e85d1"
            ],
            [
             0.2,
             "#3ea4dd"
            ],
            [
             0.3,
             "#5cc1e8"
            ],
            [
             0.4,
             "#70b6d3"
            ],
            [
             0.5,
             "#7e97af"
            ],
            [
             0.6,
             "#8b798d"
            ],
            [
             0.7,
             "#9a5a69"
            ],
            [
             0.8,
             "#a73d46"
            ],
            [
             0.9,
             "#b51e23"
            ],
            [
             1,
             "#c30000"
            ]
           ],
           "sequential": [
            [
             0,
             "#0067c5"
            ],
            [
             0.1,
             "#1e85d1"
            ],
            [
             0.2,
             "#3ea4dd"
            ],
            [
             0.3,
             "#5cc1e8"
            ],
            [
             0.4,
             "#70b6d3"
            ],
            [
             0.5,
             "#7e97af"
            ],
            [
             0.6,
             "#8b798d"
            ],
            [
             0.7,
             "#9a5a69"
            ],
            [
             0.8,
             "#a73d46"
            ],
            [
             0.9,
             "#b51e23"
            ],
            [
             1,
             "#c30000"
            ]
           ],
           "sequentialminus": [
            [
             0,
             "#0067c5"
            ],
            [
             0.1,
             "#1e85d1"
            ],
            [
             0.2,
             "#3ea4dd"
            ],
            [
             0.3,
             "#5cc1e8"
            ],
            [
             0.4,
             "#70b6d3"
            ],
            [
             0.5,
             "#7e97af"
            ],
            [
             0.6,
             "#8b798d"
            ],
            [
             0.7,
             "#9a5a69"
            ],
            [
             0.8,
             "#a73d46"
            ],
            [
             0.9,
             "#b51e23"
            ],
            [
             1,
             "#c30000"
            ]
           ]
          },
          "colorway": [
           "#0067C5",
           "#FF9100",
           "#A2AD00",
           "#06893A",
           "#634689",
           "#005B82",
           "#C30000",
           "#66CBEC",
           "#3E3832",
           "#B7B1A9"
          ],
          "font": {
           "color": "#2a3f5f",
           "family": "Helvetica Neue"
          },
          "geo": {
           "bgcolor": "white",
           "lakecolor": "white",
           "landcolor": "white",
           "showlakes": true,
           "showland": true,
           "subunitcolor": "#C6C2BF"
          },
          "hoverlabel": {
           "align": "left"
          },
          "hovermode": "closest",
          "mapbox": {
           "style": "light"
          },
          "paper_bgcolor": "white",
          "plot_bgcolor": "white",
          "polar": {
           "angularaxis": {
            "gridcolor": "#C6C2BF",
            "linecolor": "#C6C2BF",
            "ticks": ""
           },
           "bgcolor": "white",
           "radialaxis": {
            "gridcolor": "#C6C2BF",
            "linecolor": "#C6C2BF",
            "ticks": ""
           }
          },
          "scene": {
           "xaxis": {
            "backgroundcolor": "white",
            "gridcolor": "#C6C2BF",
            "gridwidth": 2,
            "linecolor": "#C6C2BF",
            "showbackground": true,
            "ticks": "",
            "zerolinecolor": "#C6C2BF"
           },
           "yaxis": {
            "backgroundcolor": "white",
            "gridcolor": "#C6C2BF",
            "gridwidth": 2,
            "linecolor": "#C6C2BF",
            "showbackground": true,
            "ticks": "",
            "zerolinecolor": "#C6C2BF"
           },
           "zaxis": {
            "backgroundcolor": "white",
            "gridcolor": "#C6C2BF",
            "gridwidth": 2,
            "linecolor": "#C6C2BF",
            "showbackground": true,
            "ticks": "",
            "zerolinecolor": "#C6C2BF"
           }
          },
          "shapedefaults": {
           "fillcolor": "#C30000",
           "line": {
            "width": 0
           },
           "opacity": 0.4
          },
          "ternary": {
           "aaxis": {
            "gridcolor": "#C6C2BF",
            "linecolor": "#A2B1C6",
            "ticks": ""
           },
           "baxis": {
            "gridcolor": "#C6C2BF",
            "linecolor": "#A2B1C6",
            "ticks": ""
           },
           "bgcolor": "white",
           "caxis": {
            "gridcolor": "#C6C2BF",
            "linecolor": "#A2B1C6",
            "ticks": ""
           }
          },
          "title": {
           "x": 0.05
          },
          "xaxis": {
           "automargin": true,
           "gridcolor": "#C6C2BF",
           "linecolor": "#C6C2BF",
           "ticks": "",
           "zerolinecolor": "#C6C2BF",
           "zerolinewidth": 2
          },
          "yaxis": {
           "automargin": true,
           "gridcolor": "#C6C2BF",
           "linecolor": "#C6C2BF",
           "ticks": "",
           "zerolinecolor": "#C6C2BF",
           "zerolinewidth": 2
          }
         }
        },
        "xaxis": {
         "title": {
          "text": "Fylke"
         }
        },
        "yaxis": {
         "title": {
          "text": "Prosent"
         }
        }
       }
      },
      "text/html": [
       "<div>\n",
       "        \n",
       "        \n",
       "            <div id=\"edd110ee-511b-4fcf-b679-096c328e0435\" class=\"plotly-graph-div\" style=\"height:525px; width:100%;\"></div>\n",
       "            <script type=\"text/javascript\">\n",
       "                require([\"plotly\"], function(Plotly) {\n",
       "                    window.PLOTLYENV=window.PLOTLYENV || {};\n",
       "                    window.PLOTLYENV.BASE_URL='https://plot.ly';\n",
       "                    \n",
       "                if (document.getElementById(\"edd110ee-511b-4fcf-b679-096c328e0435\")) {\n",
       "                    Plotly.newPlot(\n",
       "                        'edd110ee-511b-4fcf-b679-096c328e0435',\n",
       "                        [{\"alignmentgroup\": \"True\", \"hoverlabel\": {\"namelength\": 0}, \"hovertemplate\": \"Rekruttering=Mislyktes<br>Fylke=%{x}<br>Prosent=%{y}\", \"legendgroup\": \"Rekruttering=Mislyktes\", \"marker\": {\"color\": \"#C30000\"}, \"name\": \"Rekruttering=Mislyktes\", \"offsetgroup\": \"Rekruttering=Mislyktes\", \"orientation\": \"v\", \"showlegend\": true, \"textposition\": \"auto\", \"type\": \"bar\", \"uid\": \"1bccbb24-6591-4e19-8eae-5903c0456d2a\", \"x\": [\"Nordland\", \"Akershus\", \"Finnmark\", \"\\u00d8stfold\", \"Troms\", \"Telemark\", \"M\\u00f8re og Romsdal\", \"Hordaland\", \"Oslo\", \"Sogn og Fjordane\", \"Rogaland\", \"Tr\\u00f8ndelag\", \"Vestfold\", \"Aust-Agder\", \"Hedmark\", \"Oppland\", \"Buskerud\", \"Vest-Agder\"], \"xaxis\": \"x\", \"y\": [14.099999999999998, 13.100000000000001, 10.6, 14.099999999999998, 11.3, 11.4, 9.8, 9.2, 9.8, 5.8999999999999995, 7.6, 10.2, 7.5, 7.8, 10.5, 10.0, 8.5, 8.5], \"yaxis\": \"y\"}, {\"alignmentgroup\": \"True\", \"hoverlabel\": {\"namelength\": 0}, \"hovertemplate\": \"Rekruttering=Lavere komp<br>Fylke=%{x}<br>Prosent=%{y}\", \"legendgroup\": \"Rekruttering=Lavere komp\", \"marker\": {\"color\": \"#FF9100\"}, \"name\": \"Rekruttering=Lavere komp\", \"offsetgroup\": \"Rekruttering=Lavere komp\", \"orientation\": \"v\", \"showlegend\": true, \"textposition\": \"auto\", \"type\": \"bar\", \"uid\": \"a330cc8a-66de-4b53-a01c-d12d271e1184\", \"x\": [\"Nordland\", \"Akershus\", \"Finnmark\", \"\\u00d8stfold\", \"Troms\", \"Telemark\", \"M\\u00f8re og Romsdal\", \"Hordaland\", \"Oslo\", \"Sogn og Fjordane\", \"Rogaland\", \"Tr\\u00f8ndelag\", \"Vestfold\", \"Aust-Agder\", \"Hedmark\", \"Oppland\", \"Buskerud\", \"Vest-Agder\"], \"xaxis\": \"x\", \"y\": [8.0, 7.8, 10.0, 5.3, 8.0, 6.0, 7.000000000000001, 6.800000000000001, 5.6000000000000005, 8.0, 5.7, 2.8000000000000003, 4.6, 4.2, 1.3, 1.7999999999999998, 3.3000000000000003, 2.1], \"yaxis\": \"y\"}],\n",
       "                        {\"barmode\": \"stack\", \"grid\": {\"xaxes\": [\"x\"], \"xgap\": 0.1, \"xside\": \"bottom\", \"yaxes\": [\"y\"], \"ygap\": 0.1, \"yside\": \"left\"}, \"legend\": {\"tracegroupgap\": 0}, \"margin\": {\"t\": 60}, \"template\": {\"data\": {\"bar\": [{\"marker\": {\"line\": {\"color\": \"white\", \"width\": 0.5}}, \"type\": \"bar\"}], \"barpolar\": [{\"marker\": {\"line\": {\"color\": \"white\", \"width\": 0.5}}, \"type\": \"barpolar\"}], \"carpet\": [{\"aaxis\": {\"endlinecolor\": \"#2a3f5f\", \"gridcolor\": \"#C6C2BF\", \"linecolor\": \"#C6C2BF\", \"minorgridcolor\": \"#C6C2BF\", \"startlinecolor\": \"#2a3f5f\"}, \"baxis\": {\"endlinecolor\": \"#2a3f5f\", \"gridcolor\": \"#C6C2BF\", \"linecolor\": \"#C6C2BF\", \"minorgridcolor\": \"#C6C2BF\", \"startlinecolor\": \"#2a3f5f\"}, \"type\": \"carpet\"}], \"choropleth\": [{\"colorbar\": {\"outlinewidth\": 0, \"ticks\": \"\"}, \"type\": \"choropleth\"}], \"contour\": [{\"colorbar\": {\"outlinewidth\": 0, \"ticks\": \"\"}, \"colorscale\": [[0.0, \"#0067c5\"], [0.1, \"#1e85d1\"], [0.2, \"#3ea4dd\"], [0.3, \"#5cc1e8\"], [0.4, \"#70b6d3\"], [0.5, \"#7e97af\"], [0.6, \"#8b798d\"], [0.7, \"#9a5a69\"], [0.8, \"#a73d46\"], [0.9, \"#b51e23\"], [1.0, \"#c30000\"]], \"type\": \"contour\"}], \"contourcarpet\": [{\"colorbar\": {\"outlinewidth\": 0, \"ticks\": \"\"}, \"type\": \"contourcarpet\"}], \"heatmap\": [{\"colorbar\": {\"outlinewidth\": 0, \"ticks\": \"\"}, \"colorscale\": [[0.0, \"#0067c5\"], [0.1, \"#1e85d1\"], [0.2, \"#3ea4dd\"], [0.3, \"#5cc1e8\"], [0.4, \"#70b6d3\"], [0.5, \"#7e97af\"], [0.6, \"#8b798d\"], [0.7, \"#9a5a69\"], [0.8, \"#a73d46\"], [0.9, \"#b51e23\"], [1.0, \"#c30000\"]], \"type\": \"heatmap\"}], \"heatmapgl\": [{\"colorbar\": {\"outlinewidth\": 0, \"ticks\": \"\"}, \"type\": \"heatmapgl\"}], \"histogram\": [{\"marker\": {\"colorbar\": {\"outlinewidth\": 0, \"ticks\": \"\"}}, \"type\": \"histogram\"}], \"histogram2d\": [{\"colorbar\": {\"outlinewidth\": 0, \"ticks\": \"\"}, \"colorscale\": [[0.0, \"#0067c5\"], [0.1, \"#1e85d1\"], [0.2, \"#3ea4dd\"], [0.3, \"#5cc1e8\"], [0.4, \"#70b6d3\"], [0.5, \"#7e97af\"], [0.6, \"#8b798d\"], [0.7, \"#9a5a69\"], [0.8, \"#a73d46\"], [0.9, \"#b51e23\"], [1.0, \"#c30000\"]], \"type\": \"histogram2d\"}], \"histogram2dcontour\": [{\"colorbar\": {\"outlinewidth\": 0, \"ticks\": \"\"}, \"colorscale\": [[0.0, \"#0067c5\"], [0.1, \"#1e85d1\"], [0.2, \"#3ea4dd\"], [0.3, \"#5cc1e8\"], [0.4, \"#70b6d3\"], [0.5, \"#7e97af\"], [0.6, \"#8b798d\"], [0.7, \"#9a5a69\"], [0.8, \"#a73d46\"], [0.9, \"#b51e23\"], [1.0, \"#c30000\"]], \"type\": \"histogram2dcontour\"}], \"mesh3d\": [{\"colorbar\": {\"outlinewidth\": 0, \"ticks\": \"\"}, \"type\": \"mesh3d\"}], \"parcoords\": [{\"line\": {\"colorbar\": {\"outlinewidth\": 0, \"ticks\": \"\"}}, \"type\": \"parcoords\"}], \"scatter\": [{\"marker\": {\"colorbar\": {\"outlinewidth\": 0, \"ticks\": \"\"}}, \"type\": \"scatter\"}], \"scatter3d\": [{\"marker\": {\"colorbar\": {\"outlinewidth\": 0, \"ticks\": \"\"}}, \"type\": \"scatter3d\"}], \"scattercarpet\": [{\"marker\": {\"colorbar\": {\"outlinewidth\": 0, \"ticks\": \"\"}}, \"type\": \"scattercarpet\"}], \"scattergeo\": [{\"marker\": {\"colorbar\": {\"outlinewidth\": 0, \"ticks\": \"\"}}, \"type\": \"scattergeo\"}], \"scattergl\": [{\"marker\": {\"colorbar\": {\"outlinewidth\": 0, \"ticks\": \"\"}}, \"type\": \"scattergl\"}], \"scattermapbox\": [{\"marker\": {\"colorbar\": {\"outlinewidth\": 0, \"ticks\": \"\"}}, \"type\": \"scattermapbox\"}], \"scatterpolar\": [{\"marker\": {\"colorbar\": {\"outlinewidth\": 0, \"ticks\": \"\"}}, \"type\": \"scatterpolar\"}], \"scatterpolargl\": [{\"marker\": {\"colorbar\": {\"outlinewidth\": 0, \"ticks\": \"\"}}, \"type\": \"scatterpolargl\"}], \"scatterternary\": [{\"marker\": {\"colorbar\": {\"outlinewidth\": 0, \"ticks\": \"\"}}, \"type\": \"scatterternary\"}], \"surface\": [{\"colorbar\": {\"outlinewidth\": 0, \"ticks\": \"\"}, \"type\": \"surface\"}], \"table\": [{\"cells\": {\"fill\": {\"color\": \"#C6C2BF\"}, \"line\": {\"color\": \"white\"}}, \"header\": {\"fill\": {\"color\": \"#C6C2BF\"}, \"line\": {\"color\": \"white\"}}, \"type\": \"table\"}]}, \"layout\": {\"annotationdefaults\": {\"arrowcolor\": \"#506784\", \"arrowhead\": 0, \"arrowwidth\": 1}, \"colorscale\": {\"diverging\": [[0.0, \"#0067c5\"], [0.1, \"#1e85d1\"], [0.2, \"#3ea4dd\"], [0.3, \"#5cc1e8\"], [0.4, \"#70b6d3\"], [0.5, \"#7e97af\"], [0.6, \"#8b798d\"], [0.7, \"#9a5a69\"], [0.8, \"#a73d46\"], [0.9, \"#b51e23\"], [1.0, \"#c30000\"]], \"sequential\": [[0.0, \"#0067c5\"], [0.1, \"#1e85d1\"], [0.2, \"#3ea4dd\"], [0.3, \"#5cc1e8\"], [0.4, \"#70b6d3\"], [0.5, \"#7e97af\"], [0.6, \"#8b798d\"], [0.7, \"#9a5a69\"], [0.8, \"#a73d46\"], [0.9, \"#b51e23\"], [1.0, \"#c30000\"]], \"sequentialminus\": [[0.0, \"#0067c5\"], [0.1, \"#1e85d1\"], [0.2, \"#3ea4dd\"], [0.3, \"#5cc1e8\"], [0.4, \"#70b6d3\"], [0.5, \"#7e97af\"], [0.6, \"#8b798d\"], [0.7, \"#9a5a69\"], [0.8, \"#a73d46\"], [0.9, \"#b51e23\"], [1.0, \"#c30000\"]]}, \"colorway\": [\"#0067C5\", \"#FF9100\", \"#A2AD00\", \"#06893A\", \"#634689\", \"#005B82\", \"#C30000\", \"#66CBEC\", \"#3E3832\", \"#B7B1A9\"], \"font\": {\"color\": \"#2a3f5f\", \"family\": \"Helvetica Neue\"}, \"geo\": {\"bgcolor\": \"white\", \"lakecolor\": \"white\", \"landcolor\": \"white\", \"showlakes\": true, \"showland\": true, \"subunitcolor\": \"#C6C2BF\"}, \"hoverlabel\": {\"align\": \"left\"}, \"hovermode\": \"closest\", \"mapbox\": {\"style\": \"light\"}, \"paper_bgcolor\": \"white\", \"plot_bgcolor\": \"white\", \"polar\": {\"angularaxis\": {\"gridcolor\": \"#C6C2BF\", \"linecolor\": \"#C6C2BF\", \"ticks\": \"\"}, \"bgcolor\": \"white\", \"radialaxis\": {\"gridcolor\": \"#C6C2BF\", \"linecolor\": \"#C6C2BF\", \"ticks\": \"\"}}, \"scene\": {\"xaxis\": {\"backgroundcolor\": \"white\", \"gridcolor\": \"#C6C2BF\", \"gridwidth\": 2, \"linecolor\": \"#C6C2BF\", \"showbackground\": true, \"ticks\": \"\", \"zerolinecolor\": \"#C6C2BF\"}, \"yaxis\": {\"backgroundcolor\": \"white\", \"gridcolor\": \"#C6C2BF\", \"gridwidth\": 2, \"linecolor\": \"#C6C2BF\", \"showbackground\": true, \"ticks\": \"\", \"zerolinecolor\": \"#C6C2BF\"}, \"zaxis\": {\"backgroundcolor\": \"white\", \"gridcolor\": \"#C6C2BF\", \"gridwidth\": 2, \"linecolor\": \"#C6C2BF\", \"showbackground\": true, \"ticks\": \"\", \"zerolinecolor\": \"#C6C2BF\"}}, \"shapedefaults\": {\"fillcolor\": \"#C30000\", \"line\": {\"width\": 0}, \"opacity\": 0.4}, \"ternary\": {\"aaxis\": {\"gridcolor\": \"#C6C2BF\", \"linecolor\": \"#A2B1C6\", \"ticks\": \"\"}, \"baxis\": {\"gridcolor\": \"#C6C2BF\", \"linecolor\": \"#A2B1C6\", \"ticks\": \"\"}, \"bgcolor\": \"white\", \"caxis\": {\"gridcolor\": \"#C6C2BF\", \"linecolor\": \"#A2B1C6\", \"ticks\": \"\"}}, \"title\": {\"x\": 0.05}, \"xaxis\": {\"automargin\": true, \"gridcolor\": \"#C6C2BF\", \"linecolor\": \"#C6C2BF\", \"ticks\": \"\", \"zerolinecolor\": \"#C6C2BF\", \"zerolinewidth\": 2}, \"yaxis\": {\"automargin\": true, \"gridcolor\": \"#C6C2BF\", \"linecolor\": \"#C6C2BF\", \"ticks\": \"\", \"zerolinecolor\": \"#C6C2BF\", \"zerolinewidth\": 2}}}, \"xaxis\": {\"title\": {\"text\": \"Fylke\"}}, \"yaxis\": {\"title\": {\"text\": \"Prosent\"}}},\n",
       "                        {\"showLink\": false, \"linkText\": \"Export to plot.ly\", \"plotlyServerURL\": \"https://plot.ly\", \"responsive\": true}\n",
       "                    ).then(function(){\n",
       "                            \n",
       "var gd = document.getElementById('edd110ee-511b-4fcf-b679-096c328e0435');\n",
       "var x = new MutationObserver(function (mutations, observer) {{\n",
       "        var display = window.getComputedStyle(gd).display;\n",
       "        if (!display || display === 'none') {{\n",
       "            console.log([gd, 'removed!']);\n",
       "            Plotly.purge(gd);\n",
       "            observer.disconnect();\n",
       "        }}\n",
       "}});\n",
       "\n",
       "// Listen for the removal of the full notebook cells\n",
       "var notebookContainer = gd.closest('#notebook-container');\n",
       "if (notebookContainer) {{\n",
       "    x.observe(notebookContainer, {childList: true});\n",
       "}}\n",
       "\n",
       "// Listen for the clearing of the current output cell\n",
       "var outputEl = gd.closest('.output');\n",
       "if (outputEl) {{\n",
       "    x.observe(outputEl, {childList: true});\n",
       "}}\n",
       "\n",
       "                        })\n",
       "                };\n",
       "                });\n",
       "            </script>\n",
       "        </div>"
      ]
     },
     "metadata": {},
     "output_type": "display_data"
    }
   ],
   "source": [
    "fig_1 = px.bar(df_1_m, x=\"Fylke\", y=\"Prosent\", color=\"Rekruttering\", barmode=\"stack\")\n",
    "fig_1"
   ]
  },
  {
   "cell_type": "code",
   "execution_count": 58,
   "metadata": {},
   "outputs": [],
   "source": [
    "df_2 = pd.read_excel(resource, sheet_name='Figur 2', header=2, nrows=21)\n",
    "df_2.drop(columns=[df_2.columns[3]], axis=1, inplace=True)\n",
    "df_2.drop(18, axis=0, inplace=True)\n",
    "df_2.drop(19, axis=0, inplace=True)\n",
    "df_2.columns = ['Fylke','Få søkere','Annet', 'Sum']"
   ]
  },
  {
   "cell_type": "code",
   "execution_count": 59,
   "metadata": {},
   "outputs": [
    {
     "data": {
      "text/html": [
       "<div>\n",
       "<style scoped>\n",
       "    .dataframe tbody tr th:only-of-type {\n",
       "        vertical-align: middle;\n",
       "    }\n",
       "\n",
       "    .dataframe tbody tr th {\n",
       "        vertical-align: top;\n",
       "    }\n",
       "\n",
       "    .dataframe thead th {\n",
       "        text-align: right;\n",
       "    }\n",
       "</style>\n",
       "<table border=\"1\" class=\"dataframe\">\n",
       "  <thead>\n",
       "    <tr style=\"text-align: right;\">\n",
       "      <th></th>\n",
       "      <th>Fylke</th>\n",
       "      <th>Få søkere</th>\n",
       "      <th>Annet</th>\n",
       "      <th>Sum</th>\n",
       "    </tr>\n",
       "  </thead>\n",
       "  <tbody>\n",
       "    <tr>\n",
       "      <th>0</th>\n",
       "      <td>Nordland</td>\n",
       "      <td>18.9</td>\n",
       "      <td>3.2</td>\n",
       "      <td>22.1</td>\n",
       "    </tr>\n",
       "    <tr>\n",
       "      <th>1</th>\n",
       "      <td>Akershus</td>\n",
       "      <td>16.5</td>\n",
       "      <td>4.3</td>\n",
       "      <td>20.8</td>\n",
       "    </tr>\n",
       "    <tr>\n",
       "      <th>2</th>\n",
       "      <td>Finnmark</td>\n",
       "      <td>17.5</td>\n",
       "      <td>2.8</td>\n",
       "      <td>20.3</td>\n",
       "    </tr>\n",
       "    <tr>\n",
       "      <th>3</th>\n",
       "      <td>Troms</td>\n",
       "      <td>16.5</td>\n",
       "      <td>2.9</td>\n",
       "      <td>19.4</td>\n",
       "    </tr>\n",
       "    <tr>\n",
       "      <th>4</th>\n",
       "      <td>Østfold</td>\n",
       "      <td>14.6</td>\n",
       "      <td>4.7</td>\n",
       "      <td>19.3</td>\n",
       "    </tr>\n",
       "  </tbody>\n",
       "</table>\n",
       "</div>"
      ],
      "text/plain": [
       "      Fylke  Få søkere  Annet   Sum\n",
       "0  Nordland       18.9    3.2  22.1\n",
       "1  Akershus       16.5    4.3  20.8\n",
       "2  Finnmark       17.5    2.8  20.3\n",
       "3     Troms       16.5    2.9  19.4\n",
       "4   Østfold       14.6    4.7  19.3"
      ]
     },
     "execution_count": 59,
     "metadata": {},
     "output_type": "execute_result"
    }
   ],
   "source": [
    "df_2.head()"
   ]
  },
  {
   "cell_type": "code",
   "execution_count": 21,
   "metadata": {},
   "outputs": [
    {
     "data": {
      "text/html": [
       "<div>\n",
       "<style scoped>\n",
       "    .dataframe tbody tr th:only-of-type {\n",
       "        vertical-align: middle;\n",
       "    }\n",
       "\n",
       "    .dataframe tbody tr th {\n",
       "        vertical-align: top;\n",
       "    }\n",
       "\n",
       "    .dataframe thead th {\n",
       "        text-align: right;\n",
       "    }\n",
       "</style>\n",
       "<table border=\"1\" class=\"dataframe\">\n",
       "  <thead>\n",
       "    <tr style=\"text-align: right;\">\n",
       "      <th></th>\n",
       "      <th>Fylke</th>\n",
       "      <th>Rekruttering</th>\n",
       "      <th>Prosent</th>\n",
       "    </tr>\n",
       "  </thead>\n",
       "  <tbody>\n",
       "    <tr>\n",
       "      <th>0</th>\n",
       "      <td>Nordland</td>\n",
       "      <td>Få søkere</td>\n",
       "      <td>18.9</td>\n",
       "    </tr>\n",
       "    <tr>\n",
       "      <th>1</th>\n",
       "      <td>Akershus</td>\n",
       "      <td>Få søkere</td>\n",
       "      <td>16.5</td>\n",
       "    </tr>\n",
       "    <tr>\n",
       "      <th>2</th>\n",
       "      <td>Finnmark</td>\n",
       "      <td>Få søkere</td>\n",
       "      <td>17.5</td>\n",
       "    </tr>\n",
       "    <tr>\n",
       "      <th>3</th>\n",
       "      <td>Troms</td>\n",
       "      <td>Få søkere</td>\n",
       "      <td>16.5</td>\n",
       "    </tr>\n",
       "    <tr>\n",
       "      <th>4</th>\n",
       "      <td>Østfold</td>\n",
       "      <td>Få søkere</td>\n",
       "      <td>14.6</td>\n",
       "    </tr>\n",
       "  </tbody>\n",
       "</table>\n",
       "</div>"
      ],
      "text/plain": [
       "      Fylke Rekruttering  Prosent\n",
       "0  Nordland    Få søkere     18.9\n",
       "1  Akershus    Få søkere     16.5\n",
       "2  Finnmark    Få søkere     17.5\n",
       "3     Troms    Få søkere     16.5\n",
       "4   Østfold    Få søkere     14.6"
      ]
     },
     "execution_count": 21,
     "metadata": {},
     "output_type": "execute_result"
    }
   ],
   "source": [
    "df_2_m = df_2[[\"Fylke\",\"Få søkere\",\"Annet\"]].melt(id_vars=[\"Fylke\"], var_name=\"Rekruttering\", value_name=\"Prosent\")\n",
    "df_2_m.head()"
   ]
  },
  {
   "cell_type": "code",
   "execution_count": 22,
   "metadata": {},
   "outputs": [
    {
     "data": {
      "application/vnd.plotly.v1+json": {
       "config": {
        "linkText": "Export to plot.ly",
        "plotlyServerURL": "https://plot.ly",
        "showLink": false
       },
       "data": [
        {
         "alignmentgroup": "True",
         "hoverlabel": {
          "namelength": 0
         },
         "hovertemplate": "Rekruttering=Få søkere<br>Fylke=%{x}<br>Prosent=%{y}",
         "legendgroup": "Rekruttering=Få søkere",
         "marker": {
          "color": "#C30000"
         },
         "name": "Rekruttering=Få søkere",
         "offsetgroup": "Rekruttering=Få søkere",
         "orientation": "v",
         "showlegend": true,
         "textposition": "auto",
         "type": "bar",
         "uid": "4b6a573d-794d-4c97-bba0-4cf165988d92",
         "x": [
          "Nordland",
          "Akershus",
          "Finnmark",
          "Troms",
          "Østfold",
          "Telemark",
          "Møre og Romsdal",
          "Hordaland",
          "Oslo",
          "Sogn og Fjordane",
          "Rogaland",
          "Trøndelag",
          "Vestfold",
          "Aust-Agder",
          "Hedmark",
          "Buskerud",
          "Oppland",
          "Vest-Agder"
         ],
         "xaxis": "x",
         "y": [
          18.9,
          16.5,
          17.5,
          16.5,
          14.6,
          13.900000000000002,
          12.9,
          13.600000000000001,
          12.5,
          10.8,
          9.3,
          10.299999999999999,
          10.7,
          10.5,
          10.299999999999999,
          9.6,
          10.6,
          8.9
         ],
         "yaxis": "y"
        },
        {
         "alignmentgroup": "True",
         "hoverlabel": {
          "namelength": 0
         },
         "hovertemplate": "Rekruttering=Annet<br>Fylke=%{x}<br>Prosent=%{y}",
         "legendgroup": "Rekruttering=Annet",
         "marker": {
          "color": "#FF9100"
         },
         "name": "Rekruttering=Annet",
         "offsetgroup": "Rekruttering=Annet",
         "orientation": "v",
         "showlegend": true,
         "textposition": "auto",
         "type": "bar",
         "uid": "d1842ec4-1918-4b56-bd7b-21346e40bb5e",
         "x": [
          "Nordland",
          "Akershus",
          "Finnmark",
          "Troms",
          "Østfold",
          "Telemark",
          "Møre og Romsdal",
          "Hordaland",
          "Oslo",
          "Sogn og Fjordane",
          "Rogaland",
          "Trøndelag",
          "Vestfold",
          "Aust-Agder",
          "Hedmark",
          "Buskerud",
          "Oppland",
          "Vest-Agder"
         ],
         "xaxis": "x",
         "y": [
          3.2,
          4.3,
          2.8000000000000003,
          2.9000000000000004,
          4.7,
          3.5000000000000004,
          4,
          2.1999999999999997,
          3,
          2.9000000000000004,
          3.8,
          2.8000000000000003,
          1.5,
          1.4000000000000001,
          1.6,
          2.3,
          1.2,
          1.6
         ],
         "yaxis": "y"
        }
       ],
       "layout": {
        "barmode": "stack",
        "grid": {
         "xaxes": [
          "x"
         ],
         "xgap": 0.1,
         "xside": "bottom",
         "yaxes": [
          "y"
         ],
         "ygap": 0.1,
         "yside": "left"
        },
        "legend": {
         "tracegroupgap": 0
        },
        "margin": {
         "t": 60
        },
        "template": {
         "data": {
          "bar": [
           {
            "marker": {
             "line": {
              "color": "white",
              "width": 0.5
             }
            },
            "type": "bar"
           }
          ],
          "barpolar": [
           {
            "marker": {
             "line": {
              "color": "white",
              "width": 0.5
             }
            },
            "type": "barpolar"
           }
          ],
          "carpet": [
           {
            "aaxis": {
             "endlinecolor": "#2a3f5f",
             "gridcolor": "#C6C2BF",
             "linecolor": "#C6C2BF",
             "minorgridcolor": "#C6C2BF",
             "startlinecolor": "#2a3f5f"
            },
            "baxis": {
             "endlinecolor": "#2a3f5f",
             "gridcolor": "#C6C2BF",
             "linecolor": "#C6C2BF",
             "minorgridcolor": "#C6C2BF",
             "startlinecolor": "#2a3f5f"
            },
            "type": "carpet"
           }
          ],
          "choropleth": [
           {
            "colorbar": {
             "outlinewidth": 0,
             "ticks": ""
            },
            "type": "choropleth"
           }
          ],
          "contour": [
           {
            "colorbar": {
             "outlinewidth": 0,
             "ticks": ""
            },
            "colorscale": [
             [
              0,
              "#0067c5"
             ],
             [
              0.1,
              "#1e85d1"
             ],
             [
              0.2,
              "#3ea4dd"
             ],
             [
              0.3,
              "#5cc1e8"
             ],
             [
              0.4,
              "#70b6d3"
             ],
             [
              0.5,
              "#7e97af"
             ],
             [
              0.6,
              "#8b798d"
             ],
             [
              0.7,
              "#9a5a69"
             ],
             [
              0.8,
              "#a73d46"
             ],
             [
              0.9,
              "#b51e23"
             ],
             [
              1,
              "#c30000"
             ]
            ],
            "type": "contour"
           }
          ],
          "contourcarpet": [
           {
            "colorbar": {
             "outlinewidth": 0,
             "ticks": ""
            },
            "type": "contourcarpet"
           }
          ],
          "heatmap": [
           {
            "colorbar": {
             "outlinewidth": 0,
             "ticks": ""
            },
            "colorscale": [
             [
              0,
              "#0067c5"
             ],
             [
              0.1,
              "#1e85d1"
             ],
             [
              0.2,
              "#3ea4dd"
             ],
             [
              0.3,
              "#5cc1e8"
             ],
             [
              0.4,
              "#70b6d3"
             ],
             [
              0.5,
              "#7e97af"
             ],
             [
              0.6,
              "#8b798d"
             ],
             [
              0.7,
              "#9a5a69"
             ],
             [
              0.8,
              "#a73d46"
             ],
             [
              0.9,
              "#b51e23"
             ],
             [
              1,
              "#c30000"
             ]
            ],
            "type": "heatmap"
           }
          ],
          "heatmapgl": [
           {
            "colorbar": {
             "outlinewidth": 0,
             "ticks": ""
            },
            "type": "heatmapgl"
           }
          ],
          "histogram": [
           {
            "marker": {
             "colorbar": {
              "outlinewidth": 0,
              "ticks": ""
             }
            },
            "type": "histogram"
           }
          ],
          "histogram2d": [
           {
            "colorbar": {
             "outlinewidth": 0,
             "ticks": ""
            },
            "colorscale": [
             [
              0,
              "#0067c5"
             ],
             [
              0.1,
              "#1e85d1"
             ],
             [
              0.2,
              "#3ea4dd"
             ],
             [
              0.3,
              "#5cc1e8"
             ],
             [
              0.4,
              "#70b6d3"
             ],
             [
              0.5,
              "#7e97af"
             ],
             [
              0.6,
              "#8b798d"
             ],
             [
              0.7,
              "#9a5a69"
             ],
             [
              0.8,
              "#a73d46"
             ],
             [
              0.9,
              "#b51e23"
             ],
             [
              1,
              "#c30000"
             ]
            ],
            "type": "histogram2d"
           }
          ],
          "histogram2dcontour": [
           {
            "colorbar": {
             "outlinewidth": 0,
             "ticks": ""
            },
            "colorscale": [
             [
              0,
              "#0067c5"
             ],
             [
              0.1,
              "#1e85d1"
             ],
             [
              0.2,
              "#3ea4dd"
             ],
             [
              0.3,
              "#5cc1e8"
             ],
             [
              0.4,
              "#70b6d3"
             ],
             [
              0.5,
              "#7e97af"
             ],
             [
              0.6,
              "#8b798d"
             ],
             [
              0.7,
              "#9a5a69"
             ],
             [
              0.8,
              "#a73d46"
             ],
             [
              0.9,
              "#b51e23"
             ],
             [
              1,
              "#c30000"
             ]
            ],
            "type": "histogram2dcontour"
           }
          ],
          "mesh3d": [
           {
            "colorbar": {
             "outlinewidth": 0,
             "ticks": ""
            },
            "type": "mesh3d"
           }
          ],
          "parcoords": [
           {
            "line": {
             "colorbar": {
              "outlinewidth": 0,
              "ticks": ""
             }
            },
            "type": "parcoords"
           }
          ],
          "scatter": [
           {
            "marker": {
             "colorbar": {
              "outlinewidth": 0,
              "ticks": ""
             }
            },
            "type": "scatter"
           }
          ],
          "scatter3d": [
           {
            "marker": {
             "colorbar": {
              "outlinewidth": 0,
              "ticks": ""
             }
            },
            "type": "scatter3d"
           }
          ],
          "scattercarpet": [
           {
            "marker": {
             "colorbar": {
              "outlinewidth": 0,
              "ticks": ""
             }
            },
            "type": "scattercarpet"
           }
          ],
          "scattergeo": [
           {
            "marker": {
             "colorbar": {
              "outlinewidth": 0,
              "ticks": ""
             }
            },
            "type": "scattergeo"
           }
          ],
          "scattergl": [
           {
            "marker": {
             "colorbar": {
              "outlinewidth": 0,
              "ticks": ""
             }
            },
            "type": "scattergl"
           }
          ],
          "scattermapbox": [
           {
            "marker": {
             "colorbar": {
              "outlinewidth": 0,
              "ticks": ""
             }
            },
            "type": "scattermapbox"
           }
          ],
          "scatterpolar": [
           {
            "marker": {
             "colorbar": {
              "outlinewidth": 0,
              "ticks": ""
             }
            },
            "type": "scatterpolar"
           }
          ],
          "scatterpolargl": [
           {
            "marker": {
             "colorbar": {
              "outlinewidth": 0,
              "ticks": ""
             }
            },
            "type": "scatterpolargl"
           }
          ],
          "scatterternary": [
           {
            "marker": {
             "colorbar": {
              "outlinewidth": 0,
              "ticks": ""
             }
            },
            "type": "scatterternary"
           }
          ],
          "surface": [
           {
            "colorbar": {
             "outlinewidth": 0,
             "ticks": ""
            },
            "type": "surface"
           }
          ],
          "table": [
           {
            "cells": {
             "fill": {
              "color": "#C6C2BF"
             },
             "line": {
              "color": "white"
             }
            },
            "header": {
             "fill": {
              "color": "#C6C2BF"
             },
             "line": {
              "color": "white"
             }
            },
            "type": "table"
           }
          ]
         },
         "layout": {
          "annotationdefaults": {
           "arrowcolor": "#506784",
           "arrowhead": 0,
           "arrowwidth": 1
          },
          "colorscale": {
           "diverging": [
            [
             0,
             "#0067c5"
            ],
            [
             0.1,
             "#1e85d1"
            ],
            [
             0.2,
             "#3ea4dd"
            ],
            [
             0.3,
             "#5cc1e8"
            ],
            [
             0.4,
             "#70b6d3"
            ],
            [
             0.5,
             "#7e97af"
            ],
            [
             0.6,
             "#8b798d"
            ],
            [
             0.7,
             "#9a5a69"
            ],
            [
             0.8,
             "#a73d46"
            ],
            [
             0.9,
             "#b51e23"
            ],
            [
             1,
             "#c30000"
            ]
           ],
           "sequential": [
            [
             0,
             "#0067c5"
            ],
            [
             0.1,
             "#1e85d1"
            ],
            [
             0.2,
             "#3ea4dd"
            ],
            [
             0.3,
             "#5cc1e8"
            ],
            [
             0.4,
             "#70b6d3"
            ],
            [
             0.5,
             "#7e97af"
            ],
            [
             0.6,
             "#8b798d"
            ],
            [
             0.7,
             "#9a5a69"
            ],
            [
             0.8,
             "#a73d46"
            ],
            [
             0.9,
             "#b51e23"
            ],
            [
             1,
             "#c30000"
            ]
           ],
           "sequentialminus": [
            [
             0,
             "#0067c5"
            ],
            [
             0.1,
             "#1e85d1"
            ],
            [
             0.2,
             "#3ea4dd"
            ],
            [
             0.3,
             "#5cc1e8"
            ],
            [
             0.4,
             "#70b6d3"
            ],
            [
             0.5,
             "#7e97af"
            ],
            [
             0.6,
             "#8b798d"
            ],
            [
             0.7,
             "#9a5a69"
            ],
            [
             0.8,
             "#a73d46"
            ],
            [
             0.9,
             "#b51e23"
            ],
            [
             1,
             "#c30000"
            ]
           ]
          },
          "colorway": [
           "#0067C5",
           "#FF9100",
           "#A2AD00",
           "#06893A",
           "#634689",
           "#005B82",
           "#C30000",
           "#66CBEC",
           "#3E3832",
           "#B7B1A9"
          ],
          "font": {
           "color": "#2a3f5f",
           "family": "Helvetica Neue"
          },
          "geo": {
           "bgcolor": "white",
           "lakecolor": "white",
           "landcolor": "white",
           "showlakes": true,
           "showland": true,
           "subunitcolor": "#C6C2BF"
          },
          "hoverlabel": {
           "align": "left"
          },
          "hovermode": "closest",
          "mapbox": {
           "style": "light"
          },
          "paper_bgcolor": "white",
          "plot_bgcolor": "white",
          "polar": {
           "angularaxis": {
            "gridcolor": "#C6C2BF",
            "linecolor": "#C6C2BF",
            "ticks": ""
           },
           "bgcolor": "white",
           "radialaxis": {
            "gridcolor": "#C6C2BF",
            "linecolor": "#C6C2BF",
            "ticks": ""
           }
          },
          "scene": {
           "xaxis": {
            "backgroundcolor": "white",
            "gridcolor": "#C6C2BF",
            "gridwidth": 2,
            "linecolor": "#C6C2BF",
            "showbackground": true,
            "ticks": "",
            "zerolinecolor": "#C6C2BF"
           },
           "yaxis": {
            "backgroundcolor": "white",
            "gridcolor": "#C6C2BF",
            "gridwidth": 2,
            "linecolor": "#C6C2BF",
            "showbackground": true,
            "ticks": "",
            "zerolinecolor": "#C6C2BF"
           },
           "zaxis": {
            "backgroundcolor": "white",
            "gridcolor": "#C6C2BF",
            "gridwidth": 2,
            "linecolor": "#C6C2BF",
            "showbackground": true,
            "ticks": "",
            "zerolinecolor": "#C6C2BF"
           }
          },
          "shapedefaults": {
           "fillcolor": "#C30000",
           "line": {
            "width": 0
           },
           "opacity": 0.4
          },
          "ternary": {
           "aaxis": {
            "gridcolor": "#C6C2BF",
            "linecolor": "#A2B1C6",
            "ticks": ""
           },
           "baxis": {
            "gridcolor": "#C6C2BF",
            "linecolor": "#A2B1C6",
            "ticks": ""
           },
           "bgcolor": "white",
           "caxis": {
            "gridcolor": "#C6C2BF",
            "linecolor": "#A2B1C6",
            "ticks": ""
           }
          },
          "title": {
           "x": 0.05
          },
          "xaxis": {
           "automargin": true,
           "gridcolor": "#C6C2BF",
           "linecolor": "#C6C2BF",
           "ticks": "",
           "zerolinecolor": "#C6C2BF",
           "zerolinewidth": 2
          },
          "yaxis": {
           "automargin": true,
           "gridcolor": "#C6C2BF",
           "linecolor": "#C6C2BF",
           "ticks": "",
           "zerolinecolor": "#C6C2BF",
           "zerolinewidth": 2
          }
         }
        },
        "xaxis": {
         "title": {
          "text": "Fylke"
         }
        },
        "yaxis": {
         "title": {
          "text": "Prosent"
         }
        }
       }
      },
      "text/html": [
       "<div>\n",
       "        \n",
       "        \n",
       "            <div id=\"a6bed818-ae9f-4012-81da-84a89a5fdb48\" class=\"plotly-graph-div\" style=\"height:525px; width:100%;\"></div>\n",
       "            <script type=\"text/javascript\">\n",
       "                require([\"plotly\"], function(Plotly) {\n",
       "                    window.PLOTLYENV=window.PLOTLYENV || {};\n",
       "                    window.PLOTLYENV.BASE_URL='https://plot.ly';\n",
       "                    \n",
       "                if (document.getElementById(\"a6bed818-ae9f-4012-81da-84a89a5fdb48\")) {\n",
       "                    Plotly.newPlot(\n",
       "                        'a6bed818-ae9f-4012-81da-84a89a5fdb48',\n",
       "                        [{\"alignmentgroup\": \"True\", \"hoverlabel\": {\"namelength\": 0}, \"hovertemplate\": \"Rekruttering=F\\u00e5 s\\u00f8kere<br>Fylke=%{x}<br>Prosent=%{y}\", \"legendgroup\": \"Rekruttering=F\\u00e5 s\\u00f8kere\", \"marker\": {\"color\": \"#C30000\"}, \"name\": \"Rekruttering=F\\u00e5 s\\u00f8kere\", \"offsetgroup\": \"Rekruttering=F\\u00e5 s\\u00f8kere\", \"orientation\": \"v\", \"showlegend\": true, \"textposition\": \"auto\", \"type\": \"bar\", \"uid\": \"4b6a573d-794d-4c97-bba0-4cf165988d92\", \"x\": [\"Nordland\", \"Akershus\", \"Finnmark\", \"Troms\", \"\\u00d8stfold\", \"Telemark\", \"M\\u00f8re og Romsdal\", \"Hordaland\", \"Oslo\", \"Sogn og Fjordane\", \"Rogaland\", \"Tr\\u00f8ndelag\", \"Vestfold\", \"Aust-Agder\", \"Hedmark\", \"Buskerud\", \"Oppland\", \"Vest-Agder\"], \"xaxis\": \"x\", \"y\": [18.9, 16.5, 17.5, 16.5, 14.6, 13.900000000000002, 12.9, 13.600000000000001, 12.5, 10.8, 9.3, 10.299999999999999, 10.7, 10.5, 10.299999999999999, 9.6, 10.6, 8.9], \"yaxis\": \"y\"}, {\"alignmentgroup\": \"True\", \"hoverlabel\": {\"namelength\": 0}, \"hovertemplate\": \"Rekruttering=Annet<br>Fylke=%{x}<br>Prosent=%{y}\", \"legendgroup\": \"Rekruttering=Annet\", \"marker\": {\"color\": \"#FF9100\"}, \"name\": \"Rekruttering=Annet\", \"offsetgroup\": \"Rekruttering=Annet\", \"orientation\": \"v\", \"showlegend\": true, \"textposition\": \"auto\", \"type\": \"bar\", \"uid\": \"d1842ec4-1918-4b56-bd7b-21346e40bb5e\", \"x\": [\"Nordland\", \"Akershus\", \"Finnmark\", \"Troms\", \"\\u00d8stfold\", \"Telemark\", \"M\\u00f8re og Romsdal\", \"Hordaland\", \"Oslo\", \"Sogn og Fjordane\", \"Rogaland\", \"Tr\\u00f8ndelag\", \"Vestfold\", \"Aust-Agder\", \"Hedmark\", \"Buskerud\", \"Oppland\", \"Vest-Agder\"], \"xaxis\": \"x\", \"y\": [3.2, 4.3, 2.8000000000000003, 2.9000000000000004, 4.7, 3.5000000000000004, 4.0, 2.1999999999999997, 3.0, 2.9000000000000004, 3.8, 2.8000000000000003, 1.5, 1.4000000000000001, 1.6, 2.3, 1.2, 1.6], \"yaxis\": \"y\"}],\n",
       "                        {\"barmode\": \"stack\", \"grid\": {\"xaxes\": [\"x\"], \"xgap\": 0.1, \"xside\": \"bottom\", \"yaxes\": [\"y\"], \"ygap\": 0.1, \"yside\": \"left\"}, \"legend\": {\"tracegroupgap\": 0}, \"margin\": {\"t\": 60}, \"template\": {\"data\": {\"bar\": [{\"marker\": {\"line\": {\"color\": \"white\", \"width\": 0.5}}, \"type\": \"bar\"}], \"barpolar\": [{\"marker\": {\"line\": {\"color\": \"white\", \"width\": 0.5}}, \"type\": \"barpolar\"}], \"carpet\": [{\"aaxis\": {\"endlinecolor\": \"#2a3f5f\", \"gridcolor\": \"#C6C2BF\", \"linecolor\": \"#C6C2BF\", \"minorgridcolor\": \"#C6C2BF\", \"startlinecolor\": \"#2a3f5f\"}, \"baxis\": {\"endlinecolor\": \"#2a3f5f\", \"gridcolor\": \"#C6C2BF\", \"linecolor\": \"#C6C2BF\", \"minorgridcolor\": \"#C6C2BF\", \"startlinecolor\": \"#2a3f5f\"}, \"type\": \"carpet\"}], \"choropleth\": [{\"colorbar\": {\"outlinewidth\": 0, \"ticks\": \"\"}, \"type\": \"choropleth\"}], \"contour\": [{\"colorbar\": {\"outlinewidth\": 0, \"ticks\": \"\"}, \"colorscale\": [[0.0, \"#0067c5\"], [0.1, \"#1e85d1\"], [0.2, \"#3ea4dd\"], [0.3, \"#5cc1e8\"], [0.4, \"#70b6d3\"], [0.5, \"#7e97af\"], [0.6, \"#8b798d\"], [0.7, \"#9a5a69\"], [0.8, \"#a73d46\"], [0.9, \"#b51e23\"], [1.0, \"#c30000\"]], \"type\": \"contour\"}], \"contourcarpet\": [{\"colorbar\": {\"outlinewidth\": 0, \"ticks\": \"\"}, \"type\": \"contourcarpet\"}], \"heatmap\": [{\"colorbar\": {\"outlinewidth\": 0, \"ticks\": \"\"}, \"colorscale\": [[0.0, \"#0067c5\"], [0.1, \"#1e85d1\"], [0.2, \"#3ea4dd\"], [0.3, \"#5cc1e8\"], [0.4, \"#70b6d3\"], [0.5, \"#7e97af\"], [0.6, \"#8b798d\"], [0.7, \"#9a5a69\"], [0.8, \"#a73d46\"], [0.9, \"#b51e23\"], [1.0, \"#c30000\"]], \"type\": \"heatmap\"}], \"heatmapgl\": [{\"colorbar\": {\"outlinewidth\": 0, \"ticks\": \"\"}, \"type\": \"heatmapgl\"}], \"histogram\": [{\"marker\": {\"colorbar\": {\"outlinewidth\": 0, \"ticks\": \"\"}}, \"type\": \"histogram\"}], \"histogram2d\": [{\"colorbar\": {\"outlinewidth\": 0, \"ticks\": \"\"}, \"colorscale\": [[0.0, \"#0067c5\"], [0.1, \"#1e85d1\"], [0.2, \"#3ea4dd\"], [0.3, \"#5cc1e8\"], [0.4, \"#70b6d3\"], [0.5, \"#7e97af\"], [0.6, \"#8b798d\"], [0.7, \"#9a5a69\"], [0.8, \"#a73d46\"], [0.9, \"#b51e23\"], [1.0, \"#c30000\"]], \"type\": \"histogram2d\"}], \"histogram2dcontour\": [{\"colorbar\": {\"outlinewidth\": 0, \"ticks\": \"\"}, \"colorscale\": [[0.0, \"#0067c5\"], [0.1, \"#1e85d1\"], [0.2, \"#3ea4dd\"], [0.3, \"#5cc1e8\"], [0.4, \"#70b6d3\"], [0.5, \"#7e97af\"], [0.6, \"#8b798d\"], [0.7, \"#9a5a69\"], [0.8, \"#a73d46\"], [0.9, \"#b51e23\"], [1.0, \"#c30000\"]], \"type\": \"histogram2dcontour\"}], \"mesh3d\": [{\"colorbar\": {\"outlinewidth\": 0, \"ticks\": \"\"}, \"type\": \"mesh3d\"}], \"parcoords\": [{\"line\": {\"colorbar\": {\"outlinewidth\": 0, \"ticks\": \"\"}}, \"type\": \"parcoords\"}], \"scatter\": [{\"marker\": {\"colorbar\": {\"outlinewidth\": 0, \"ticks\": \"\"}}, \"type\": \"scatter\"}], \"scatter3d\": [{\"marker\": {\"colorbar\": {\"outlinewidth\": 0, \"ticks\": \"\"}}, \"type\": \"scatter3d\"}], \"scattercarpet\": [{\"marker\": {\"colorbar\": {\"outlinewidth\": 0, \"ticks\": \"\"}}, \"type\": \"scattercarpet\"}], \"scattergeo\": [{\"marker\": {\"colorbar\": {\"outlinewidth\": 0, \"ticks\": \"\"}}, \"type\": \"scattergeo\"}], \"scattergl\": [{\"marker\": {\"colorbar\": {\"outlinewidth\": 0, \"ticks\": \"\"}}, \"type\": \"scattergl\"}], \"scattermapbox\": [{\"marker\": {\"colorbar\": {\"outlinewidth\": 0, \"ticks\": \"\"}}, \"type\": \"scattermapbox\"}], \"scatterpolar\": [{\"marker\": {\"colorbar\": {\"outlinewidth\": 0, \"ticks\": \"\"}}, \"type\": \"scatterpolar\"}], \"scatterpolargl\": [{\"marker\": {\"colorbar\": {\"outlinewidth\": 0, \"ticks\": \"\"}}, \"type\": \"scatterpolargl\"}], \"scatterternary\": [{\"marker\": {\"colorbar\": {\"outlinewidth\": 0, \"ticks\": \"\"}}, \"type\": \"scatterternary\"}], \"surface\": [{\"colorbar\": {\"outlinewidth\": 0, \"ticks\": \"\"}, \"type\": \"surface\"}], \"table\": [{\"cells\": {\"fill\": {\"color\": \"#C6C2BF\"}, \"line\": {\"color\": \"white\"}}, \"header\": {\"fill\": {\"color\": \"#C6C2BF\"}, \"line\": {\"color\": \"white\"}}, \"type\": \"table\"}]}, \"layout\": {\"annotationdefaults\": {\"arrowcolor\": \"#506784\", \"arrowhead\": 0, \"arrowwidth\": 1}, \"colorscale\": {\"diverging\": [[0.0, \"#0067c5\"], [0.1, \"#1e85d1\"], [0.2, \"#3ea4dd\"], [0.3, \"#5cc1e8\"], [0.4, \"#70b6d3\"], [0.5, \"#7e97af\"], [0.6, \"#8b798d\"], [0.7, \"#9a5a69\"], [0.8, \"#a73d46\"], [0.9, \"#b51e23\"], [1.0, \"#c30000\"]], \"sequential\": [[0.0, \"#0067c5\"], [0.1, \"#1e85d1\"], [0.2, \"#3ea4dd\"], [0.3, \"#5cc1e8\"], [0.4, \"#70b6d3\"], [0.5, \"#7e97af\"], [0.6, \"#8b798d\"], [0.7, \"#9a5a69\"], [0.8, \"#a73d46\"], [0.9, \"#b51e23\"], [1.0, \"#c30000\"]], \"sequentialminus\": [[0.0, \"#0067c5\"], [0.1, \"#1e85d1\"], [0.2, \"#3ea4dd\"], [0.3, \"#5cc1e8\"], [0.4, \"#70b6d3\"], [0.5, \"#7e97af\"], [0.6, \"#8b798d\"], [0.7, \"#9a5a69\"], [0.8, \"#a73d46\"], [0.9, \"#b51e23\"], [1.0, \"#c30000\"]]}, \"colorway\": [\"#0067C5\", \"#FF9100\", \"#A2AD00\", \"#06893A\", \"#634689\", \"#005B82\", \"#C30000\", \"#66CBEC\", \"#3E3832\", \"#B7B1A9\"], \"font\": {\"color\": \"#2a3f5f\", \"family\": \"Helvetica Neue\"}, \"geo\": {\"bgcolor\": \"white\", \"lakecolor\": \"white\", \"landcolor\": \"white\", \"showlakes\": true, \"showland\": true, \"subunitcolor\": \"#C6C2BF\"}, \"hoverlabel\": {\"align\": \"left\"}, \"hovermode\": \"closest\", \"mapbox\": {\"style\": \"light\"}, \"paper_bgcolor\": \"white\", \"plot_bgcolor\": \"white\", \"polar\": {\"angularaxis\": {\"gridcolor\": \"#C6C2BF\", \"linecolor\": \"#C6C2BF\", \"ticks\": \"\"}, \"bgcolor\": \"white\", \"radialaxis\": {\"gridcolor\": \"#C6C2BF\", \"linecolor\": \"#C6C2BF\", \"ticks\": \"\"}}, \"scene\": {\"xaxis\": {\"backgroundcolor\": \"white\", \"gridcolor\": \"#C6C2BF\", \"gridwidth\": 2, \"linecolor\": \"#C6C2BF\", \"showbackground\": true, \"ticks\": \"\", \"zerolinecolor\": \"#C6C2BF\"}, \"yaxis\": {\"backgroundcolor\": \"white\", \"gridcolor\": \"#C6C2BF\", \"gridwidth\": 2, \"linecolor\": \"#C6C2BF\", \"showbackground\": true, \"ticks\": \"\", \"zerolinecolor\": \"#C6C2BF\"}, \"zaxis\": {\"backgroundcolor\": \"white\", \"gridcolor\": \"#C6C2BF\", \"gridwidth\": 2, \"linecolor\": \"#C6C2BF\", \"showbackground\": true, \"ticks\": \"\", \"zerolinecolor\": \"#C6C2BF\"}}, \"shapedefaults\": {\"fillcolor\": \"#C30000\", \"line\": {\"width\": 0}, \"opacity\": 0.4}, \"ternary\": {\"aaxis\": {\"gridcolor\": \"#C6C2BF\", \"linecolor\": \"#A2B1C6\", \"ticks\": \"\"}, \"baxis\": {\"gridcolor\": \"#C6C2BF\", \"linecolor\": \"#A2B1C6\", \"ticks\": \"\"}, \"bgcolor\": \"white\", \"caxis\": {\"gridcolor\": \"#C6C2BF\", \"linecolor\": \"#A2B1C6\", \"ticks\": \"\"}}, \"title\": {\"x\": 0.05}, \"xaxis\": {\"automargin\": true, \"gridcolor\": \"#C6C2BF\", \"linecolor\": \"#C6C2BF\", \"ticks\": \"\", \"zerolinecolor\": \"#C6C2BF\", \"zerolinewidth\": 2}, \"yaxis\": {\"automargin\": true, \"gridcolor\": \"#C6C2BF\", \"linecolor\": \"#C6C2BF\", \"ticks\": \"\", \"zerolinecolor\": \"#C6C2BF\", \"zerolinewidth\": 2}}}, \"xaxis\": {\"title\": {\"text\": \"Fylke\"}}, \"yaxis\": {\"title\": {\"text\": \"Prosent\"}}},\n",
       "                        {\"showLink\": false, \"linkText\": \"Export to plot.ly\", \"plotlyServerURL\": \"https://plot.ly\", \"responsive\": true}\n",
       "                    ).then(function(){\n",
       "                            \n",
       "var gd = document.getElementById('a6bed818-ae9f-4012-81da-84a89a5fdb48');\n",
       "var x = new MutationObserver(function (mutations, observer) {{\n",
       "        var display = window.getComputedStyle(gd).display;\n",
       "        if (!display || display === 'none') {{\n",
       "            console.log([gd, 'removed!']);\n",
       "            Plotly.purge(gd);\n",
       "            observer.disconnect();\n",
       "        }}\n",
       "}});\n",
       "\n",
       "// Listen for the removal of the full notebook cells\n",
       "var notebookContainer = gd.closest('#notebook-container');\n",
       "if (notebookContainer) {{\n",
       "    x.observe(notebookContainer, {childList: true});\n",
       "}}\n",
       "\n",
       "// Listen for the clearing of the current output cell\n",
       "var outputEl = gd.closest('.output');\n",
       "if (outputEl) {{\n",
       "    x.observe(outputEl, {childList: true});\n",
       "}}\n",
       "\n",
       "                        })\n",
       "                };\n",
       "                });\n",
       "            </script>\n",
       "        </div>"
      ]
     },
     "metadata": {},
     "output_type": "display_data"
    }
   ],
   "source": [
    "fig_2 = px.bar(df_2_m, x=\"Fylke\", y=\"Prosent\", color=\"Rekruttering\", barmode=\"stack\")\n",
    "fig_2"
   ]
  },
  {
   "cell_type": "code",
   "execution_count": 61,
   "metadata": {},
   "outputs": [
    {
     "data": {
      "application/vnd.jupyter.widget-view+json": {
       "model_id": "29915a1940da4e48bf3c9e99e9bd993b",
       "version_major": 2,
       "version_minor": 0
      },
      "text/plain": [
       "FigureWidget({\n",
       "    'data': [{'name': 'Nettoandel virksomheter som forventer økt bemanning',\n",
       "              'typ…"
      ]
     },
     "metadata": {},
     "output_type": "display_data"
    }
   ],
   "source": [
    "df_4 = pd.read_excel(resource, sheet_name='Figur 4', header=2, nrows=21).rename_axis('År').reset_index()\n",
    "\n",
    "data = [ go.Bar(\n",
    "     x=df_4['År'], \n",
    "     y=df_4['Nettoandel virksomheter som forventer økt bemanning de neste 12 månedene, v. a.'],\n",
    "     name='Nettoandel virksomheter som forventer økt bemanning'\n",
    "),\n",
    "   go.Scatter(\n",
    "     x=df_4['År'], \n",
    "     y=df_4['Sysselsettingsvekst (NR), h.a.'],\n",
    "     name='Sysselsettingsvekst (NR)',\n",
    "     yaxis='y2'\n",
    "),\n",
    "    go.Scatter(\n",
    "     x=df_4['År'], \n",
    "     y=df_4['Sysselsettingsvekst (AKU), h. a.'],\n",
    "     name='Sysselsettingsvekst (AKU)',\n",
    "     yaxis='y2'\n",
    ")\n",
    "]\n",
    "\n",
    "layout = go.Layout(\n",
    "    title='Nettoandel virksomheter som forventer økt bemanning',\n",
    "    legend=dict(x=0, y=-.1, orientation='h'),\n",
    "    yaxis=dict(\n",
    "        title='Nettoandel'\n",
    "    ),\n",
    "    yaxis2=dict(\n",
    "        title='Sysselsettingsvekst',\n",
    "        overlaying='y',\n",
    "        side='right',\n",
    "        rangemode='tozero'\n",
    "    )\n",
    ")\n",
    "\n",
    "fig_4 = go.Figure(data,layout)\n",
    "\n",
    "go.FigureWidget(data,layout)"
   ]
  },
  {
   "cell_type": "code",
   "execution_count": 62,
   "metadata": {},
   "outputs": [
    {
     "data": {
      "text/html": [
       "<div>\n",
       "<style scoped>\n",
       "    .dataframe tbody tr th:only-of-type {\n",
       "        vertical-align: middle;\n",
       "    }\n",
       "\n",
       "    .dataframe tbody tr th {\n",
       "        vertical-align: top;\n",
       "    }\n",
       "\n",
       "    .dataframe thead th {\n",
       "        text-align: right;\n",
       "    }\n",
       "</style>\n",
       "<table border=\"1\" class=\"dataframe\">\n",
       "  <thead>\n",
       "    <tr style=\"text-align: right;\">\n",
       "      <th></th>\n",
       "      <th>Bransje</th>\n",
       "      <th>Mangel på arbeidskraft i antall personer</th>\n",
       "      <th>95 % konfidens-intervall for estimert mangel , nedre grense</th>\n",
       "      <th>95 % konfidens-intervall for estimert mangel , øvre grense</th>\n",
       "      <th>NAVs stramhetsindikator</th>\n",
       "      <th>Prosentvis andel bedrifter med alvorlige rekrutteringsproblemer</th>\n",
       "    </tr>\n",
       "  </thead>\n",
       "  <tbody>\n",
       "    <tr>\n",
       "      <th>0</th>\n",
       "      <td>Jordbruk, skogbruk og fiske</td>\n",
       "      <td>350</td>\n",
       "      <td>224</td>\n",
       "      <td>517</td>\n",
       "      <td>0.603718</td>\n",
       "      <td>5.2</td>\n",
       "    </tr>\n",
       "    <tr>\n",
       "      <th>1</th>\n",
       "      <td>Bergverksdrift og utvinning</td>\n",
       "      <td>50</td>\n",
       "      <td>30</td>\n",
       "      <td>96</td>\n",
       "      <td>0.078910</td>\n",
       "      <td>4.6</td>\n",
       "    </tr>\n",
       "    <tr>\n",
       "      <th>2</th>\n",
       "      <td>Industrien</td>\n",
       "      <td>1450</td>\n",
       "      <td>1286</td>\n",
       "      <td>1582</td>\n",
       "      <td>0.688006</td>\n",
       "      <td>8.2</td>\n",
       "    </tr>\n",
       "    <tr>\n",
       "      <th>3</th>\n",
       "      <td>Nærings- og nytelsemidler</td>\n",
       "      <td>200</td>\n",
       "      <td>137</td>\n",
       "      <td>246</td>\n",
       "      <td>0.408651</td>\n",
       "      <td>6.1</td>\n",
       "    </tr>\n",
       "    <tr>\n",
       "      <th>4</th>\n",
       "      <td>Tekstil- og lærvarer</td>\n",
       "      <td>50</td>\n",
       "      <td>22</td>\n",
       "      <td>39</td>\n",
       "      <td>0.678998</td>\n",
       "      <td>5.9</td>\n",
       "    </tr>\n",
       "  </tbody>\n",
       "</table>\n",
       "</div>"
      ],
      "text/plain": [
       "                       Bransje  Mangel på arbeidskraft i antall personer  \\\n",
       "0  Jordbruk, skogbruk og fiske                                       350   \n",
       "1  Bergverksdrift og utvinning                                        50   \n",
       "2                   Industrien                                      1450   \n",
       "3    Nærings- og nytelsemidler                                       200   \n",
       "4         Tekstil- og lærvarer                                        50   \n",
       "\n",
       "   95 % konfidens-intervall for estimert mangel , nedre grense  \\\n",
       "0                                                224             \n",
       "1                                                 30             \n",
       "2                                               1286             \n",
       "3                                                137             \n",
       "4                                                 22             \n",
       "\n",
       "   95 % konfidens-intervall for estimert mangel , øvre grense  \\\n",
       "0                                                517            \n",
       "1                                                 96            \n",
       "2                                               1582            \n",
       "3                                                246            \n",
       "4                                                 39            \n",
       "\n",
       "   NAVs stramhetsindikator  \\\n",
       "0                 0.603718   \n",
       "1                 0.078910   \n",
       "2                 0.688006   \n",
       "3                 0.408651   \n",
       "4                 0.678998   \n",
       "\n",
       "   Prosentvis andel bedrifter med alvorlige rekrutteringsproblemer  \n",
       "0                                                5.2                \n",
       "1                                                4.6                \n",
       "2                                                8.2                \n",
       "3                                                6.1                \n",
       "4                                                5.9                "
      ]
     },
     "execution_count": 62,
     "metadata": {},
     "output_type": "execute_result"
    }
   ],
   "source": [
    "df_5 = pd.read_excel(resource, sheet_name='Tabell 5 ', header=2)\n",
    "df_5.drop(columns=[df_5.columns[0]], axis=1, inplace=True)\n",
    "df_5 = df_5.rename(columns={'Unnamed: 1': 'Bransje'})\n",
    "df_5.drop(24, axis=0, inplace=True)\n",
    "df_5.head()"
   ]
  },
  {
   "cell_type": "code",
   "execution_count": 63,
   "metadata": {},
   "outputs": [
    {
     "data": {
      "application/vnd.jupyter.widget-view+json": {
       "model_id": "6a1576c2f11f412189ea1d0f46dce5fa",
       "version_major": 2,
       "version_minor": 0
      },
      "text/plain": [
       "FigureWidget({\n",
       "    'data': [{'name': 'Mangel på arbeidskraft i antall personer',\n",
       "              'orientation': …"
      ]
     },
     "metadata": {},
     "output_type": "display_data"
    }
   ],
   "source": [
    "data = [ go.Bar(\n",
    "     y=df_5['Bransje'], \n",
    "     x=df_5['Mangel på arbeidskraft i antall personer'],\n",
    "     name='Mangel på arbeidskraft i antall personer',\n",
    "     orientation='h'\n",
    "),go.Scatter(\n",
    "     y=df_5['Bransje'], \n",
    "     x=df_5['NAVs stramhetsindikator'],\n",
    "     name='NAVs stramhetsindikator',\n",
    "     orientation='h',\n",
    "     xaxis='x2',\n",
    "     mode = 'markers',\n",
    "),go.Scatter(\n",
    "     y=df_5['Bransje'], \n",
    "     x=df_5['Prosentvis andel bedrifter med alvorlige rekrutteringsproblemer'],\n",
    "     name='Prosentvis andel bedrifter med alvorlige rekrutteringsproblemer',\n",
    "     orientation='h',\n",
    "     xaxis='x2',\n",
    "     mode = 'markers',\n",
    ")\n",
    "]\n",
    "\n",
    "layout = go.Layout(\n",
    "    legend=dict(x=0, y=-.2, orientation='h'),\n",
    "    height=800,\n",
    "     margin=dict(\n",
    "        l=350,\n",
    "        r=10,\n",
    "        t=100,\n",
    "        b=40\n",
    "    ),\n",
    "     xaxis=dict(\n",
    "        title='Antall personer'\n",
    "    ),\n",
    "    xaxis2=dict(\n",
    "        title='NAVs stramhetsindikator',\n",
    "        overlaying='x',\n",
    "        side='top',\n",
    "        rangemode='tozero'\n",
    "    ),\n",
    "    xaxis3=dict(\n",
    "        title='NAVs stramhetsindikator',\n",
    "        overlaying='x',\n",
    "        side='top',\n",
    "        rangemode='tozero'\n",
    "    )\n",
    "    \n",
    ")\n",
    "\n",
    "fig_5 = go.Figure(data,layout)\n",
    "\n",
    "go.FigureWidget(data,layout)"
   ]
  },
  {
   "cell_type": "markdown",
   "metadata": {},
   "source": [
    "## Create Datapackage"
   ]
  },
  {
   "cell_type": "code",
   "execution_count": 64,
   "metadata": {},
   "outputs": [],
   "source": [
    "readme = \"\"\"\n",
    "# NAV Bedriftsundersøkelsen\n",
    "NAVs bedriftsundersøkelse ser på hvilke forventninger bedriftene har i forhold til sysselsettingsutviklingen det kommende året, om bedriftene har mislyktes i å rekruttere arbeidskraft de siste tre månedene og om dette skyldes for få kvalifiserte søkere på stillingene. På bakgrunn av disse svarene  estimeres en mangel på arbeidskraft for landet som helhet, for ulike regioner, samt enkeltnæringer og for ulike yrker. \n",
    "\"\"\"\n",
    "\n",
    "#'store': 'gs'\n",
    "metadata = {\n",
    "'store': 'gs',\n",
    "'host': 'https://raw.githubusercontent.com/datasett/nav-examples/master/',\n",
    "'title': 'NAVs bedriftsundersøkelse',\n",
    "'readme': readme,\n",
    "'license':'MIT',\n",
    "'accessRights':'Open',\n",
    "'auth': 'NAV',\n",
    "'description':'NAVs bedriftsundersøkelse',\n",
    "'name':'NAVs bedriftsundersøkelse',\n",
    "'source':'NAV',\n",
    "'keywords':['bedriftsundersøkelse,sysselsetting, arbeidskraft, fylker'],\n",
    "'provenance':'NAV',\n",
    "'publisher': 'NAV',\n",
    "'project': 'odata', \n",
    "'user':'nav-examples',\n",
    "'repo': 'https://github.com/datasett/nav-examples/blob/master/bedriftsunders%C3%B8kelsen.ipynb',\n",
    "'bucket': 'nav-opendata',\n",
    "}"
   ]
  },
  {
   "cell_type": "code",
   "execution_count": 65,
   "metadata": {},
   "outputs": [],
   "source": [
    "dp = dv.Datapackage(metadata)"
   ]
  },
  {
   "cell_type": "markdown",
   "metadata": {},
   "source": [
    "### Add resource files"
   ]
  },
  {
   "cell_type": "code",
   "execution_count": 66,
   "metadata": {},
   "outputs": [],
   "source": [
    "dp.add_resource(df_1,'Utfordringer med å rekruttere','Utfordringer med å rekruttere')"
   ]
  },
  {
   "cell_type": "markdown",
   "metadata": {},
   "source": [
    "### Add views"
   ]
  },
  {
   "cell_type": "code",
   "execution_count": 67,
   "metadata": {},
   "outputs": [],
   "source": [
    "desc = '''\n",
    "### Utfordringer med å rekruttere.\n",
    "\n",
    "Virksomheter som har mislyktes i å rekruttere arbeidskraft eller måttet ansette noen med annen eller lavere formell kompetanse enn man søkte etter, etter fylke. Prosent\n",
    "'''\n",
    "\n",
    "dp.add_view(\n",
    "    spec_type='plotly',\n",
    "    name='Utfordringer med å rekruttere',\n",
    "    title='',\n",
    "    description =desc,\n",
    "    spec= plio.to_json(fig_1),\n",
    "    resources=''\n",
    ")"
   ]
  },
  {
   "cell_type": "code",
   "execution_count": 68,
   "metadata": {},
   "outputs": [],
   "source": [
    "desc = '''\n",
    "### Årsak til rekrutteringsproblemer.\n",
    "\n",
    " Virksomheter med rekrutteringsproblemer som skyldes for få/ingen kvalifiserte søkere eller om det er andre årsaker, etter fylke. Prosent\n",
    "'''\n",
    "\n",
    "dp.add_view(\n",
    "    spec_type='plotly',\n",
    "    name='Utfordringer med å rekruttere',\n",
    "    title='',\n",
    "    description =desc,\n",
    "    spec= plio.to_json(fig_2),\n",
    "    resources=''\n",
    ")"
   ]
  },
  {
   "cell_type": "code",
   "execution_count": 69,
   "metadata": {},
   "outputs": [],
   "source": [
    "desc = '''\n",
    "### Forventninger vs Sysselsettingsvekst .\n",
    "\n",
    "'''\n",
    "\n",
    "dp.add_view(\n",
    "    spec_type='plotly',\n",
    "    name='Forventninger vs sysselsettingsvekst',\n",
    "    title='',\n",
    "    description ='',\n",
    "    spec= plio.to_json(fig_4),\n",
    "    resources=''\n",
    ")"
   ]
  },
  {
   "cell_type": "code",
   "execution_count": 70,
   "metadata": {},
   "outputs": [],
   "source": [
    "desc = '''\n",
    "### Bransjer.\n",
    "\n",
    "'''\n",
    "\n",
    "dp.add_view(\n",
    "    spec_type='plotly',\n",
    "    name='Bransjer',\n",
    "    title='',\n",
    "    description ='',\n",
    "    spec= plio.to_json(fig_5),\n",
    "    resources=''\n",
    ")"
   ]
  },
  {
   "cell_type": "markdown",
   "metadata": {},
   "source": [
    "## Save data and publish elastic search index entry"
   ]
  },
  {
   "cell_type": "code",
   "execution_count": 71,
   "metadata": {},
   "outputs": [
    {
     "name": "stdout",
     "output_type": "stream",
     "text": [
      "gs\n",
      "2019-08-14T16:08:13.967401: B149899 <class 'dataverk.connectors.google_storage.GoogleStorageConnector'>: String (format: json) written to https://storage.googleapis.com/nav-opendata/ccd13e66b18f0144ebd042ec4393d83d/datapackage.json\n",
      "2019-08-14T16:08:14.352908: B149899 <class 'dataverk.connectors.google_storage.GoogleStorageConnector'>: String (format: csv) written to https://storage.googleapis.com/nav-opendata/ccd13e66b18f0144ebd042ec4393d83d/resources/Utfordringer_med_%C3%A5_rekruttere.csv\n",
      "2019-08-14T16:08:15.013072: B149899 <class 'dataverk.connectors.elasticsearch.ElasticsearchConnector'>: Document ccd13e66b18f0144ebd042ec4393d83d of type odata indexed to elastic index: odata.\n"
     ]
    }
   ],
   "source": [
    "#GOOGLE_APPLICATION_CREDENTIALS environment variable must be defined before initializing the client\n",
    "client = dv.Client() \n",
    "client.publish(dp)"
   ]
  },
  {
   "cell_type": "code",
   "execution_count": null,
   "metadata": {},
   "outputs": [],
   "source": []
  }
 ],
 "metadata": {
  "kernelspec": {
   "display_name": "Python (dv)",
   "language": "python",
   "name": "dv"
  },
  "language_info": {
   "codemirror_mode": {
    "name": "ipython",
    "version": 3
   },
   "file_extension": ".py",
   "mimetype": "text/x-python",
   "name": "python",
   "nbconvert_exporter": "python",
   "pygments_lexer": "ipython3",
   "version": "3.7.3"
  },
  "varInspector": {
   "cols": {
    "lenName": 16,
    "lenType": 16,
    "lenVar": 40
   },
   "kernels_config": {
    "python": {
     "delete_cmd_postfix": "",
     "delete_cmd_prefix": "del ",
     "library": "var_list.py",
     "varRefreshCmd": "print(var_dic_list())"
    },
    "r": {
     "delete_cmd_postfix": ") ",
     "delete_cmd_prefix": "rm(",
     "library": "var_list.r",
     "varRefreshCmd": "cat(var_dic_list()) "
    }
   },
   "types_to_exclude": [
    "module",
    "function",
    "builtin_function_or_method",
    "instance",
    "_Feature"
   ],
   "window_display": false
  }
 },
 "nbformat": 4,
 "nbformat_minor": 2
}
