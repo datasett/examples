{
 "cells": [
  {
   "cell_type": "code",
   "execution_count": 1,
   "metadata": {},
   "outputs": [],
   "source": [
    "from dataverk import Client, Datapackage\n",
    "import dataverk_tools.themes.nav as nav\n",
    "\n",
    "import pandas as pd\n",
    "import ipywidgets as widgets\n",
    "import datetime\n",
    "\n",
    "import plotly.graph_objs as go\n",
    "import plotly.io as pio\n",
    "import plotly.express as px\n",
    "\n",
    "pio.templates.default = nav.plotly_template"
   ]
  },
  {
   "cell_type": "markdown",
   "metadata": {},
   "source": [
    "# Get data"
   ]
  },
  {
   "cell_type": "code",
   "execution_count": 2,
   "metadata": {},
   "outputs": [],
   "source": [
    "url=\"https://www.nav.no/no/NAV+og+samfunn/Statistikk/Flere+statistikkomrader/Trygdemisbruk/_attachment/536372?_download=true&_ts=16140e9fd20\"\n",
    "df = pd.read_excel(url, skiprows=7)[1:20]\n",
    "df.columns = [\"Fylke\", \"Antall personer\", \"Anmeldt beløp\"]"
   ]
  },
  {
   "cell_type": "code",
   "execution_count": 3,
   "metadata": {},
   "outputs": [
    {
     "data": {
      "text/html": [
       "<div>\n",
       "<style scoped>\n",
       "    .dataframe tbody tr th:only-of-type {\n",
       "        vertical-align: middle;\n",
       "    }\n",
       "\n",
       "    .dataframe tbody tr th {\n",
       "        vertical-align: top;\n",
       "    }\n",
       "\n",
       "    .dataframe thead th {\n",
       "        text-align: right;\n",
       "    }\n",
       "</style>\n",
       "<table border=\"1\" class=\"dataframe\">\n",
       "  <thead>\n",
       "    <tr style=\"text-align: right;\">\n",
       "      <th></th>\n",
       "      <th>Fylke</th>\n",
       "      <th>Antall personer</th>\n",
       "      <th>Anmeldt beløp</th>\n",
       "    </tr>\n",
       "  </thead>\n",
       "  <tbody>\n",
       "    <tr>\n",
       "      <th>1</th>\n",
       "      <td>Østfold</td>\n",
       "      <td>69.0</td>\n",
       "      <td>10639774.0</td>\n",
       "    </tr>\n",
       "    <tr>\n",
       "      <th>2</th>\n",
       "      <td>Akershus</td>\n",
       "      <td>108.0</td>\n",
       "      <td>22599182.0</td>\n",
       "    </tr>\n",
       "    <tr>\n",
       "      <th>3</th>\n",
       "      <td>Oslo</td>\n",
       "      <td>167.0</td>\n",
       "      <td>30772319.0</td>\n",
       "    </tr>\n",
       "    <tr>\n",
       "      <th>4</th>\n",
       "      <td>Hedmark</td>\n",
       "      <td>32.0</td>\n",
       "      <td>4669307.0</td>\n",
       "    </tr>\n",
       "    <tr>\n",
       "      <th>5</th>\n",
       "      <td>Oppland</td>\n",
       "      <td>21.0</td>\n",
       "      <td>3112811.0</td>\n",
       "    </tr>\n",
       "  </tbody>\n",
       "</table>\n",
       "</div>"
      ],
      "text/plain": [
       "      Fylke  Antall personer  Anmeldt beløp\n",
       "1   Østfold             69.0     10639774.0\n",
       "2  Akershus            108.0     22599182.0\n",
       "3      Oslo            167.0     30772319.0\n",
       "4   Hedmark             32.0      4669307.0\n",
       "5   Oppland             21.0      3112811.0"
      ]
     },
     "execution_count": 3,
     "metadata": {},
     "output_type": "execute_result"
    }
   ],
   "source": [
    "df.head(5)"
   ]
  },
  {
   "cell_type": "code",
   "execution_count": 4,
   "metadata": {},
   "outputs": [],
   "source": [
    "url=\"https://www.nav.no/no/NAV+og+samfunn/Statistikk/Flere+statistikkomrader/Trygdemisbruk/_attachment/545663?_download=true&_ts=16894450da0\"\n",
    "df_2018 = pd.read_excel(url, skiprows=7)[1:20]\n",
    "df_2018.columns = [\"Fylke\", \"Antall personer\", \"Anmeldt beløp\"]"
   ]
  },
  {
   "cell_type": "code",
   "execution_count": 5,
   "metadata": {},
   "outputs": [
    {
     "data": {
      "text/html": [
       "<div>\n",
       "<style scoped>\n",
       "    .dataframe tbody tr th:only-of-type {\n",
       "        vertical-align: middle;\n",
       "    }\n",
       "\n",
       "    .dataframe tbody tr th {\n",
       "        vertical-align: top;\n",
       "    }\n",
       "\n",
       "    .dataframe thead th {\n",
       "        text-align: right;\n",
       "    }\n",
       "</style>\n",
       "<table border=\"1\" class=\"dataframe\">\n",
       "  <thead>\n",
       "    <tr style=\"text-align: right;\">\n",
       "      <th></th>\n",
       "      <th>Fylke</th>\n",
       "      <th>Antall personer</th>\n",
       "      <th>Anmeldt beløp</th>\n",
       "    </tr>\n",
       "  </thead>\n",
       "  <tbody>\n",
       "    <tr>\n",
       "      <th>1</th>\n",
       "      <td>Østfold</td>\n",
       "      <td>94.0</td>\n",
       "      <td>16917197.0</td>\n",
       "    </tr>\n",
       "    <tr>\n",
       "      <th>2</th>\n",
       "      <td>Akershus</td>\n",
       "      <td>99.0</td>\n",
       "      <td>16868268.0</td>\n",
       "    </tr>\n",
       "    <tr>\n",
       "      <th>3</th>\n",
       "      <td>Oslo</td>\n",
       "      <td>137.0</td>\n",
       "      <td>28588253.0</td>\n",
       "    </tr>\n",
       "    <tr>\n",
       "      <th>4</th>\n",
       "      <td>Hedmark</td>\n",
       "      <td>25.0</td>\n",
       "      <td>3802184.0</td>\n",
       "    </tr>\n",
       "    <tr>\n",
       "      <th>5</th>\n",
       "      <td>Oppland</td>\n",
       "      <td>17.0</td>\n",
       "      <td>2576129.0</td>\n",
       "    </tr>\n",
       "  </tbody>\n",
       "</table>\n",
       "</div>"
      ],
      "text/plain": [
       "      Fylke  Antall personer  Anmeldt beløp\n",
       "1   Østfold             94.0     16917197.0\n",
       "2  Akershus             99.0     16868268.0\n",
       "3      Oslo            137.0     28588253.0\n",
       "4   Hedmark             25.0      3802184.0\n",
       "5   Oppland             17.0      2576129.0"
      ]
     },
     "execution_count": 5,
     "metadata": {},
     "output_type": "execute_result"
    }
   ],
   "source": [
    "df_2018.head()"
   ]
  },
  {
   "cell_type": "markdown",
   "metadata": {},
   "source": [
    "# Create datapackage"
   ]
  },
  {
   "cell_type": "code",
   "execution_count": 20,
   "metadata": {},
   "outputs": [],
   "source": [
    "readme = \"\"\"\n",
    "# Trygdemisbruk\n",
    "\"\"\"\n",
    "\n",
    "now = datetime.datetime.now().isoformat()\n",
    "distribution_url = 'http://www.example.org'\n",
    "\n",
    "\n",
    "metadata = {\n",
    "'title': 'Trygdemisbruk 2017 - ',\n",
    "'description': 'Trygdemisbruk 3x',\n",
    "'readme': readme,\n",
    "'accessRights': 'Open', # Optional. Default: Internal\n",
    "'issued': now,\n",
    "'modified': now, # Optional. Default: now\n",
    "'language': 'Norsk', # Optional. Default: Norsk\n",
    "'periodicity': 'Årlig', # Oppdateringsfrekvens\n",
    "'temporal': {'from': '2017-01-01', 'to': '2017-12-31' },\n",
    "'author': 'statistikk@nav.no',\n",
    "#'publisher': {'name': 'Arbeids- og velferdsetaten (NAV)', 'url': 'https://www.nav.no'}, # Optional. Default NAV\n",
    "#'contactpoint': {'name': 'NAV Kunnskapsavdelingen', 'email': 'statistikk@nav.no'},  \n",
    "#'license': {'name': 'CC BY 4.0', 'url': 'http://creativecommons.org/licenses/by/4.0/deed.no'}, #Optional. Default CC BY 4.0\n",
    "'keywords': ['trygdemisbruk'],\n",
    "'spatial': 'Norge',\n",
    "'theme': ['Åpne data'],\n",
    "'type': 'datapackage',\n",
    "'format': 'datapackage',\n",
    "'provenance': 'Datavarehuset',\n",
    "'repo': 'https://github.com/datasett/examples/blob/master/nav/trygdemisbruk.ipynb',\n",
    "'notebook': 'https://github.com/datasett/examples/blob/master/nav/trygdemisbruk.ipynb',\n",
    "'store': 'gs',\n",
    "'project': 'odata', \n",
    "'bucket': 'nav-opendata'\n",
    "}"
   ]
  },
  {
   "cell_type": "code",
   "execution_count": 21,
   "metadata": {},
   "outputs": [],
   "source": [
    "dp = Datapackage(metadata)"
   ]
  },
  {
   "cell_type": "markdown",
   "metadata": {},
   "source": [
    "# Create views"
   ]
  },
  {
   "cell_type": "code",
   "execution_count": 22,
   "metadata": {},
   "outputs": [
    {
     "data": {
      "application/vnd.jupyter.widget-view+json": {
       "model_id": "27d48a42076945d589f4b29124adcc0f",
       "version_major": 2,
       "version_minor": 0
      },
      "text/plain": [
       "FigureWidget({\n",
       "    'data': [{'name': 'Antall personer',\n",
       "              'type': 'bar',\n",
       "              'uid': 'ed3…"
      ]
     },
     "metadata": {},
     "output_type": "display_data"
    }
   ],
   "source": [
    "data = [ \n",
    "go.Bar(\n",
    "    x=df['Fylke'], \n",
    "    y=df['Antall personer'],\n",
    "    name='Antall personer'\n",
    "),\n",
    "go.Bar(\n",
    "    x=df['Fylke'], \n",
    "    y=df['Anmeldt beløp'],\n",
    "    name='Anmeldt beløp',\n",
    "    yaxis='y2'\n",
    ")\n",
    "]\n",
    "\n",
    "layout = go.Layout(\n",
    "    yaxis=dict(\n",
    "        title='Antall personer',\n",
    "        side='left'\n",
    "    ),\n",
    "    yaxis2=dict(\n",
    "        title='Anmeldt beløp',\n",
    "        anchor='x',\n",
    "        overlaying='y',\n",
    "        side='right'\n",
    "    ),\n",
    "    barmode='group',\n",
    "    template=nav.plotly_template\n",
    ")\n",
    "\n",
    "fig = go.Figure(data,layout)\n",
    "\n",
    "go.FigureWidget(data,layout)"
   ]
  },
  {
   "cell_type": "code",
   "execution_count": 23,
   "metadata": {},
   "outputs": [],
   "source": [
    "description = '''\n",
    "Trygdemisbruk 2017 \n",
    "\n",
    "'''\n",
    "\n",
    "dp.add_view(\n",
    "    spec_type='plotly',\n",
    "    name='Trygdemisbruk 2017',\n",
    "    title='Trygdemisbruk 2017',\n",
    "    description = description,\n",
    "    resources=[],\n",
    "    attribution = \"Kilde: NAV.\",\n",
    "    spec=pio.to_json(fig)\n",
    ")"
   ]
  },
  {
   "cell_type": "code",
   "execution_count": 24,
   "metadata": {},
   "outputs": [
    {
     "data": {
      "text/plain": [
       "Fylke               object\n",
       "Antall personer    float64\n",
       "Anmeldt beløp      float64\n",
       "dtype: object"
      ]
     },
     "execution_count": 24,
     "metadata": {},
     "output_type": "execute_result"
    }
   ],
   "source": [
    "df.dtypes"
   ]
  },
  {
   "cell_type": "code",
   "execution_count": 25,
   "metadata": {},
   "outputs": [
    {
     "data": {
      "text/html": [
       "<div>\n",
       "<style scoped>\n",
       "    .dataframe tbody tr th:only-of-type {\n",
       "        vertical-align: middle;\n",
       "    }\n",
       "\n",
       "    .dataframe tbody tr th {\n",
       "        vertical-align: top;\n",
       "    }\n",
       "\n",
       "    .dataframe thead th {\n",
       "        text-align: right;\n",
       "    }\n",
       "</style>\n",
       "<table border=\"1\" class=\"dataframe\">\n",
       "  <thead>\n",
       "    <tr style=\"text-align: right;\">\n",
       "      <th></th>\n",
       "      <th>Fylke</th>\n",
       "      <th>Antall personer</th>\n",
       "      <th>Anmeldt beløp</th>\n",
       "    </tr>\n",
       "  </thead>\n",
       "  <tbody>\n",
       "    <tr>\n",
       "      <th>1</th>\n",
       "      <td>Østfold</td>\n",
       "      <td>69.0</td>\n",
       "      <td>10639774.0</td>\n",
       "    </tr>\n",
       "    <tr>\n",
       "      <th>2</th>\n",
       "      <td>Akershus</td>\n",
       "      <td>108.0</td>\n",
       "      <td>22599182.0</td>\n",
       "    </tr>\n",
       "    <tr>\n",
       "      <th>3</th>\n",
       "      <td>Oslo</td>\n",
       "      <td>167.0</td>\n",
       "      <td>30772319.0</td>\n",
       "    </tr>\n",
       "    <tr>\n",
       "      <th>4</th>\n",
       "      <td>Hedmark</td>\n",
       "      <td>32.0</td>\n",
       "      <td>4669307.0</td>\n",
       "    </tr>\n",
       "    <tr>\n",
       "      <th>5</th>\n",
       "      <td>Oppland</td>\n",
       "      <td>21.0</td>\n",
       "      <td>3112811.0</td>\n",
       "    </tr>\n",
       "  </tbody>\n",
       "</table>\n",
       "</div>"
      ],
      "text/plain": [
       "      Fylke  Antall personer  Anmeldt beløp\n",
       "1   Østfold             69.0     10639774.0\n",
       "2  Akershus            108.0     22599182.0\n",
       "3      Oslo            167.0     30772319.0\n",
       "4   Hedmark             32.0      4669307.0\n",
       "5   Oppland             21.0      3112811.0"
      ]
     },
     "execution_count": 25,
     "metadata": {},
     "output_type": "execute_result"
    }
   ],
   "source": [
    "df.head()"
   ]
  },
  {
   "cell_type": "code",
   "execution_count": 26,
   "metadata": {},
   "outputs": [
    {
     "data": {
      "text/plain": [
       "Fylke               object\n",
       "Antall personer    float64\n",
       "Anmeldt beløp      float64\n",
       "dtype: object"
      ]
     },
     "execution_count": 26,
     "metadata": {},
     "output_type": "execute_result"
    }
   ],
   "source": [
    "df.dtypes"
   ]
  },
  {
   "cell_type": "code",
   "execution_count": 27,
   "metadata": {},
   "outputs": [],
   "source": [
    "spec={'hidden': False, \n",
    "      'fields':[{'name': 'Fylke', 'description': 'Fylke'},\n",
    "                {'name': 'Antall personer', 'description': 'Antall personer'},\n",
    "                {'name': 'Anmeldt beløp', 'description': 'Anmeldt beløp i hele kroner'}]}"
   ]
  },
  {
   "cell_type": "code",
   "execution_count": 28,
   "metadata": {},
   "outputs": [],
   "source": [
    "dp.add_resource(df, 'Trygdemisbruk_2017', dsv_separator=';', spec=spec)"
   ]
  },
  {
   "cell_type": "code",
   "execution_count": 29,
   "metadata": {},
   "outputs": [],
   "source": [
    "dp.add_view(\n",
    "    spec_type='table',\n",
    "    name='Trygdemisbruk 2017',\n",
    "    resources='Trygdemisbruk_2017',\n",
    ")"
   ]
  },
  {
   "cell_type": "code",
   "execution_count": 30,
   "metadata": {},
   "outputs": [],
   "source": [
    "dp.add_resource(df_2018, 'Trygdemisbruk_2018', 'Trygdemisbruk 2018. Kilde: NAV', spec=spec)\n",
    "\n",
    "dp.add_view(\n",
    "    spec_type='table',\n",
    "    name='Trygdemisbruk 2018',\n",
    "    title='2018 tabell',\n",
    "    description = 'Trygdemisbruk 2018',\n",
    "    resources='Trygdemisbruk_2018',\n",
    ")"
   ]
  },
  {
   "cell_type": "code",
   "execution_count": 31,
   "metadata": {},
   "outputs": [],
   "source": [
    "spec_hidden = {'hidden': True, \n",
    "      'fields':[{'name': 'Fylke', 'description': 'Fylke'},\n",
    "                {'name': 'Antall personer', 'description': 'Antall personer'},\n",
    "                {'name': 'Anmeldt beløp', 'description': 'Anmeldt beløp i hele kroner'}]}\n",
    "\n",
    "dp.add_resource(df_2018, 'Trygdemisbruk_2019', spec=spec_hidden)\n",
    "\n",
    "dp.add_view(\n",
    "    spec_type='table',\n",
    "    name='Trygdemisbruk 2019',\n",
    "    title='2019 tabell',\n",
    "    description = 'Trygdemisbruk 2019',\n",
    "    resources='Trygdemisbruk_2019',\n",
    ")"
   ]
  },
  {
   "cell_type": "markdown",
   "metadata": {},
   "source": [
    "# Save data and publish datapackage"
   ]
  },
  {
   "cell_type": "code",
   "execution_count": 32,
   "metadata": {},
   "outputs": [],
   "source": [
    "import os\n",
    "os.environ['GOOGLE_APPLICATION_CREDENTIALS'] = '/users/b149899/projects/binder/binder/keys/nav_opendata.json'\n"
   ]
  },
  {
   "cell_type": "code",
   "execution_count": 33,
   "metadata": {},
   "outputs": [
    {
     "name": "stdout",
     "output_type": "stream",
     "text": [
      "gs\n",
      "2019-11-01T00:00:53.719159: B149899 <class 'dataverk.connectors.google_storage.GoogleStorageConnector'>: String (format: json) written to https://storage.googleapis.com/nav-opendata/665f912b6789d9f300ef28d8706b0969/datapackage.json\n",
      "2019-11-01T00:00:54.029005: B149899 <class 'dataverk.connectors.google_storage.GoogleStorageConnector'>: String (format: csv.gz) written to https://storage.googleapis.com/nav-opendata/665f912b6789d9f300ef28d8706b0969/resources/Trygdemisbruk_2017.csv.gz\n",
      "2019-11-01T00:00:54.328372: B149899 <class 'dataverk.connectors.google_storage.GoogleStorageConnector'>: String (format: csv.gz) written to https://storage.googleapis.com/nav-opendata/665f912b6789d9f300ef28d8706b0969/resources/Trygdemisbruk_2018.csv.gz\n",
      "2019-11-01T00:00:54.586514: B149899 <class 'dataverk.connectors.google_storage.GoogleStorageConnector'>: String (format: csv.gz) written to https://storage.googleapis.com/nav-opendata/665f912b6789d9f300ef28d8706b0969/resources/Trygdemisbruk_2019.csv.gz\n",
      "2019-11-01T00:00:56.069401: B149899 <class 'dataverk.connectors.elasticsearch.ElasticsearchConnector'>: Document 665f912b6789d9f300ef28d8706b0969 of type dcat indexed to elastic index: dcat.\n"
     ]
    }
   ],
   "source": [
    "client = Client()\n",
    "client.publish(dp)"
   ]
  },
  {
   "cell_type": "code",
   "execution_count": null,
   "metadata": {},
   "outputs": [],
   "source": []
  }
 ],
 "metadata": {
  "kernelspec": {
   "display_name": "Python (dv)",
   "language": "python",
   "name": "dv"
  },
  "language_info": {
   "codemirror_mode": {
    "name": "ipython",
    "version": 3
   },
   "file_extension": ".py",
   "mimetype": "text/x-python",
   "name": "python",
   "nbconvert_exporter": "python",
   "pygments_lexer": "ipython3",
   "version": "3.7.3"
  },
  "varInspector": {
   "cols": {
    "lenName": 16,
    "lenType": 16,
    "lenVar": 40
   },
   "kernels_config": {
    "python": {
     "delete_cmd_postfix": "",
     "delete_cmd_prefix": "del ",
     "library": "var_list.py",
     "varRefreshCmd": "print(var_dic_list())"
    },
    "r": {
     "delete_cmd_postfix": ") ",
     "delete_cmd_prefix": "rm(",
     "library": "var_list.r",
     "varRefreshCmd": "cat(var_dic_list()) "
    }
   },
   "types_to_exclude": [
    "module",
    "function",
    "builtin_function_or_method",
    "instance",
    "_Feature"
   ],
   "window_display": false
  }
 },
 "nbformat": 4,
 "nbformat_minor": 2
}
