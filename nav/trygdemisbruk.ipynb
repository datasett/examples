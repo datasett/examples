{
 "cells": [
  {
   "cell_type": "code",
   "execution_count": 2,
   "metadata": {},
   "outputs": [],
   "source": [
    "import dataverk as dv\n",
    "import pandas as pd\n",
    "import ipywidgets as widgets\n",
    "\n",
    "import plotly.offline as py\n",
    "import plotly.graph_objs as go\n",
    "import plotly.io as plio"
   ]
  },
  {
   "cell_type": "markdown",
   "metadata": {},
   "source": [
    "# Get data"
   ]
  },
  {
   "cell_type": "code",
   "execution_count": 3,
   "metadata": {},
   "outputs": [],
   "source": [
    "url=\"https://www.nav.no/no/NAV+og+samfunn/Statistikk/Flere+statistikkomrader/Trygdemisbruk/_attachment/536372?_download=true&_ts=16140e9fd20\"\n",
    "df = pd.read_excel(url, skiprows=7)[1:20]\n",
    "df.columns = [\"Fylke\", \"Antall personer\", \"Anmeldt beløp\"]"
   ]
  },
  {
   "cell_type": "code",
   "execution_count": 4,
   "metadata": {},
   "outputs": [
    {
     "data": {
      "text/html": [
       "<div>\n",
       "<style scoped>\n",
       "    .dataframe tbody tr th:only-of-type {\n",
       "        vertical-align: middle;\n",
       "    }\n",
       "\n",
       "    .dataframe tbody tr th {\n",
       "        vertical-align: top;\n",
       "    }\n",
       "\n",
       "    .dataframe thead th {\n",
       "        text-align: right;\n",
       "    }\n",
       "</style>\n",
       "<table border=\"1\" class=\"dataframe\">\n",
       "  <thead>\n",
       "    <tr style=\"text-align: right;\">\n",
       "      <th></th>\n",
       "      <th>Fylke</th>\n",
       "      <th>Antall personer</th>\n",
       "      <th>Anmeldt beløp</th>\n",
       "    </tr>\n",
       "  </thead>\n",
       "  <tbody>\n",
       "    <tr>\n",
       "      <th>1</th>\n",
       "      <td>Østfold</td>\n",
       "      <td>69.0</td>\n",
       "      <td>10639774.0</td>\n",
       "    </tr>\n",
       "    <tr>\n",
       "      <th>2</th>\n",
       "      <td>Akershus</td>\n",
       "      <td>108.0</td>\n",
       "      <td>22599182.0</td>\n",
       "    </tr>\n",
       "    <tr>\n",
       "      <th>3</th>\n",
       "      <td>Oslo</td>\n",
       "      <td>167.0</td>\n",
       "      <td>30772319.0</td>\n",
       "    </tr>\n",
       "    <tr>\n",
       "      <th>4</th>\n",
       "      <td>Hedmark</td>\n",
       "      <td>32.0</td>\n",
       "      <td>4669307.0</td>\n",
       "    </tr>\n",
       "    <tr>\n",
       "      <th>5</th>\n",
       "      <td>Oppland</td>\n",
       "      <td>21.0</td>\n",
       "      <td>3112811.0</td>\n",
       "    </tr>\n",
       "  </tbody>\n",
       "</table>\n",
       "</div>"
      ],
      "text/plain": [
       "      Fylke  Antall personer  Anmeldt beløp\n",
       "1   Østfold             69.0     10639774.0\n",
       "2  Akershus            108.0     22599182.0\n",
       "3      Oslo            167.0     30772319.0\n",
       "4   Hedmark             32.0      4669307.0\n",
       "5   Oppland             21.0      3112811.0"
      ]
     },
     "execution_count": 4,
     "metadata": {},
     "output_type": "execute_result"
    }
   ],
   "source": [
    "df.head(5)"
   ]
  },
  {
   "cell_type": "markdown",
   "metadata": {},
   "source": [
    "# Create views"
   ]
  },
  {
   "cell_type": "code",
   "execution_count": 6,
   "metadata": {},
   "outputs": [
    {
     "data": {
      "application/vnd.jupyter.widget-view+json": {
       "model_id": "37f71aa20841494a9b6e0b46893950b5",
       "version_major": 2,
       "version_minor": 0
      },
      "text/plain": [
       "FigureWidget({\n",
       "    'data': [{'name': 'Antall personer',\n",
       "              'type': 'bar',\n",
       "              'uid': 'd0f…"
      ]
     },
     "metadata": {},
     "output_type": "display_data"
    }
   ],
   "source": [
    "data = [ \n",
    "go.Bar(\n",
    "    x=df['Fylke'], \n",
    "    y=df['Antall personer'],\n",
    "    name='Antall personer'\n",
    "),\n",
    "go.Bar(\n",
    "    x=df['Fylke'], \n",
    "    y=df['Anmeldt beløp'],\n",
    "    name='Anmeldt beløp',\n",
    "    yaxis='y2'\n",
    ")\n",
    "]\n",
    "\n",
    "layout = go.Layout(\n",
    "    yaxis=dict(\n",
    "        title='Antall personer',\n",
    "        side='left'\n",
    "    ),\n",
    "    yaxis2=dict(\n",
    "        title='Anmeldt beløp',\n",
    "        anchor='x',\n",
    "        overlaying='y',\n",
    "        side='right'\n",
    "    ),\n",
    "    barmode='group'\n",
    ")\n",
    "\n",
    "fig_1 = go.Figure(data,layout)\n",
    "\n",
    "go.FigureWidget(data,layout)"
   ]
  },
  {
   "cell_type": "markdown",
   "metadata": {},
   "source": [
    "# Create datapackage"
   ]
  },
  {
   "cell_type": "code",
   "execution_count": 9,
   "metadata": {},
   "outputs": [],
   "source": [
    "readme = \"\"\"\n",
    "# Trygdemisbruk\n",
    "\n",
    "\"\"\"\n",
    "\n",
    "metadata = {\n",
    "'store': 'https://raw.githubusercontent.com/datasett/nav-examples/master',\n",
    "'title': 'Trygdemisbruk',\n",
    "'readme': readme,\n",
    "'license':'MIT',\n",
    "'accessRights':'Open',\n",
    "'auth': 'NAV',\n",
    "'description':'Trygdemisbruk',\n",
    "'name':'Trygdemisbruk',\n",
    "'source':'Dataverk',\n",
    "'keywords':['test'],\n",
    "'provenance':'NAV',\n",
    "'publisher': 'NAV',\n",
    "'project': 'mesiqi', \n",
    "'user':'dataverk',\n",
    "'bucket_name': 'dataparcel',\n",
    "'dataset':'trygdemisbruk'\n",
    "}"
   ]
  },
  {
   "cell_type": "code",
   "execution_count": 10,
   "metadata": {},
   "outputs": [],
   "source": [
    "dp = dv.Datapackage(metadata)"
   ]
  },
  {
   "cell_type": "markdown",
   "metadata": {},
   "source": [
    "## Add views to datapackage"
   ]
  },
  {
   "cell_type": "code",
   "execution_count": 11,
   "metadata": {},
   "outputs": [],
   "source": [
    "description = '''\n",
    "Trygdemisbruk 2017 \n",
    "\n",
    "'''\n",
    "\n",
    "dp.add_view(\n",
    "    spec_type='plotly',\n",
    "    name='Trygdemisbruk 2017',\n",
    "    title='Trygdemisbruk 2017',\n",
    "    description = description,\n",
    "    resources=[],\n",
    "    attribution = \"Kilde: NAV.\",\n",
    "    spec=plio.to_json(fig_1)\n",
    ")"
   ]
  },
  {
   "cell_type": "markdown",
   "metadata": {},
   "source": [
    "# Save data and publish datapackage"
   ]
  },
  {
   "cell_type": "code",
   "execution_count": 16,
   "metadata": {},
   "outputs": [
    {
     "name": "stdout",
     "output_type": "stream",
     "text": [
      "2019-05-14T11:15:10.202789: B149899 <class 'dataverk.connectors.google_storage.GoogleStorageConnector'>: String (format: json) written to https://storage.googleapis.com/dataparcel/b129d80e1a7ba0795ed86184a40c4357/datapackage.json\n",
      "2019-05-14T11:15:10.735262: B149899 <class 'dataverk.connectors.elasticsearch.ElasticsearchConnector'>: Document b129d80e1a7ba0795ed86184a40c4357 of type odata indexed to elastic index: odata.\n"
     ]
    }
   ],
   "source": [
    "client = dv.Client()\n",
    "client.publish(dp)"
   ]
  },
  {
   "cell_type": "code",
   "execution_count": null,
   "metadata": {},
   "outputs": [],
   "source": []
  }
 ],
 "metadata": {
  "kernelspec": {
   "display_name": "Python (py37)",
   "language": "python",
   "name": "py37"
  },
  "language_info": {
   "codemirror_mode": {
    "name": "ipython",
    "version": 3
   },
   "file_extension": ".py",
   "mimetype": "text/x-python",
   "name": "python",
   "nbconvert_exporter": "python",
   "pygments_lexer": "ipython3",
   "version": "3.7.2"
  },
  "varInspector": {
   "cols": {
    "lenName": 16,
    "lenType": 16,
    "lenVar": 40
   },
   "kernels_config": {
    "python": {
     "delete_cmd_postfix": "",
     "delete_cmd_prefix": "del ",
     "library": "var_list.py",
     "varRefreshCmd": "print(var_dic_list())"
    },
    "r": {
     "delete_cmd_postfix": ") ",
     "delete_cmd_prefix": "rm(",
     "library": "var_list.r",
     "varRefreshCmd": "cat(var_dic_list()) "
    }
   },
   "types_to_exclude": [
    "module",
    "function",
    "builtin_function_or_method",
    "instance",
    "_Feature"
   ],
   "window_display": false
  }
 },
 "nbformat": 4,
 "nbformat_minor": 2
}
