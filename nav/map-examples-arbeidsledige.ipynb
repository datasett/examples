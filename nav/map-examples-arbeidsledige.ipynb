{
 "cells": [
  {
   "cell_type": "code",
   "execution_count": 1,
   "metadata": {},
   "outputs": [],
   "source": [
    "import dataverk as dv\n",
    "from dataverk_tools.themes import nav\n",
    "\n",
    "import pandas as pd\n",
    "import ipywidgets as widgets\n",
    "import requests\n",
    "from io import StringIO\n",
    "\n",
    "import json\n",
    "import plotly.graph_objs as go\n",
    "import plotly.io as plio\n",
    "import plotly_express as px\n",
    "import plotly.figure_factory as ff\n",
    "\n",
    "from datetime import datetime\n",
    "from keplergl import KeplerGl "
   ]
  },
  {
   "cell_type": "markdown",
   "metadata": {},
   "source": [
    "# Henter tall for arbeidsledige fra SSB"
   ]
  },
  {
   "cell_type": "code",
   "execution_count": 2,
   "metadata": {},
   "outputs": [],
   "source": [
    "query = {\n",
    "  \"query\": [\n",
    "    {\n",
    "      \"code\": \"Region\",\n",
    "      \"selection\": {\n",
    "        \"filter\": \"all\",\n",
    "        \"values\": [\n",
    "          \"*\"\n",
    "        ]\n",
    "      }\n",
    "    },\n",
    "    {\n",
    "      \"code\": \"Kjonn\",\n",
    "      \"selection\": {\n",
    "        \"filter\": \"item\",\n",
    "        \"values\": [\n",
    "          \"0\"\n",
    "        ]\n",
    "      }\n",
    "    },\n",
    "    {\n",
    "      \"code\": \"ContentsCode\",\n",
    "      \"selection\": {\n",
    "        \"filter\": \"item\",\n",
    "        \"values\": [\n",
    "          \"Registrerte1\"\n",
    "        ]\n",
    "      }\n",
    "    },\n",
    "    {\n",
    "      \"code\": \"Tid\",\n",
    "      \"selection\": {\n",
    "        \"filter\": \"item\",\n",
    "        \"values\": [\n",
    "          \"2018M11\"\n",
    "        ]\n",
    "      }\n",
    "    }\n",
    "  ],\n",
    "  \"response\": {\n",
    "    \"format\": \"csv\"\n",
    "  }\n",
    "}\n",
    "\n",
    "\n",
    "url = \"https://data.ssb.no/api/v0/no/table/10594\""
   ]
  },
  {
   "cell_type": "code",
   "execution_count": 3,
   "metadata": {},
   "outputs": [],
   "source": [
    "r = requests.post(url, data=json.dumps(query))"
   ]
  },
  {
   "cell_type": "code",
   "execution_count": 4,
   "metadata": {},
   "outputs": [],
   "source": [
    "df = pd.read_csv(StringIO(r.text))"
   ]
  },
  {
   "cell_type": "code",
   "execution_count": 5,
   "metadata": {},
   "outputs": [],
   "source": [
    "df[\"region_id\"] = df[\"region\"].apply(lambda x: x.split(\" \")[0])\n",
    "df[\"region_navn\"] = df[\"region\"].apply(lambda x: x.split(\" \")[1])"
   ]
  },
  {
   "cell_type": "code",
   "execution_count": 6,
   "metadata": {},
   "outputs": [
    {
     "data": {
      "text/html": [
       "<div>\n",
       "<style scoped>\n",
       "    .dataframe tbody tr th:only-of-type {\n",
       "        vertical-align: middle;\n",
       "    }\n",
       "\n",
       "    .dataframe tbody tr th {\n",
       "        vertical-align: top;\n",
       "    }\n",
       "\n",
       "    .dataframe thead th {\n",
       "        text-align: right;\n",
       "    }\n",
       "</style>\n",
       "<table border=\"1\" class=\"dataframe\">\n",
       "  <thead>\n",
       "    <tr style=\"text-align: right;\">\n",
       "      <th></th>\n",
       "      <th>ledige</th>\n",
       "      <th>kommunenummer</th>\n",
       "      <th>kommune</th>\n",
       "    </tr>\n",
       "  </thead>\n",
       "  <tbody>\n",
       "    <tr>\n",
       "      <th>2</th>\n",
       "      <td>387</td>\n",
       "      <td>0101</td>\n",
       "      <td>Halden</td>\n",
       "    </tr>\n",
       "    <tr>\n",
       "      <th>3</th>\n",
       "      <td>.</td>\n",
       "      <td>0102</td>\n",
       "      <td>Sarpsborg</td>\n",
       "    </tr>\n",
       "    <tr>\n",
       "      <th>4</th>\n",
       "      <td>.</td>\n",
       "      <td>0103</td>\n",
       "      <td>Fredrikstad</td>\n",
       "    </tr>\n",
       "    <tr>\n",
       "      <th>5</th>\n",
       "      <td>491</td>\n",
       "      <td>0104</td>\n",
       "      <td>Moss</td>\n",
       "    </tr>\n",
       "    <tr>\n",
       "      <th>6</th>\n",
       "      <td>833</td>\n",
       "      <td>0105</td>\n",
       "      <td>Sarpsborg</td>\n",
       "    </tr>\n",
       "  </tbody>\n",
       "</table>\n",
       "</div>"
      ],
      "text/plain": [
       "  ledige kommunenummer      kommune\n",
       "2    387          0101       Halden\n",
       "3      .          0102    Sarpsborg\n",
       "4      .          0103  Fredrikstad\n",
       "5    491          0104         Moss\n",
       "6    833          0105    Sarpsborg"
      ]
     },
     "execution_count": 6,
     "metadata": {},
     "output_type": "execute_result"
    }
   ],
   "source": [
    "df_ledige = df[(df[\"region_id\"].str.len()==4) & (df[\"kjønn\"]==\"Begge kjønn\")].drop(columns=['region', 'kjønn'])\n",
    "df_ledige.columns=[\"ledige\",\"kommunenummer\", \"kommune\"]\n",
    "df_ledige.drop_duplicates(subset=\"kommunenummer\", keep='last', inplace=True)\n",
    "df_ledige.head()"
   ]
  },
  {
   "cell_type": "markdown",
   "metadata": {},
   "source": [
    "# Henter kartdata"
   ]
  },
  {
   "cell_type": "code",
   "execution_count": 7,
   "metadata": {},
   "outputs": [],
   "source": [
    "url = 'https://raw.githubusercontent.com/datasett/maps/master/norway/data/counties_2018_s_geojson.json'\n",
    "df_geo = pd.read_json(url)"
   ]
  },
  {
   "cell_type": "code",
   "execution_count": 8,
   "metadata": {},
   "outputs": [],
   "source": [
    "def getData(row):\n",
    "    return row['properties']['centroid_kommune']"
   ]
  },
  {
   "cell_type": "code",
   "execution_count": 9,
   "metadata": {},
   "outputs": [],
   "source": [
    "df_geo['centroid_kommune'] = df_geo['features'].apply(getData)"
   ]
  },
  {
   "cell_type": "code",
   "execution_count": 10,
   "metadata": {},
   "outputs": [
    {
     "data": {
      "text/plain": [
       "{'type': 'Feature',\n",
       " 'geometry': {'type': 'Polygon',\n",
       "  'coordinates': [[[11.557944804290678, 59.25961243805086],\n",
       "    [11.71052391528105, 59.0336797054564],\n",
       "    [11.65200300120283, 58.906233335204945],\n",
       "    [11.456861418997182, 58.890755310196596],\n",
       "    [11.47061404327044, 58.99288736211179],\n",
       "    [11.374472843176518, 59.10382339848626],\n",
       "    [11.198454406864782, 59.09297294006742],\n",
       "    [11.231868129077334, 59.135005904455014],\n",
       "    [11.342908158671758, 59.25830981486017],\n",
       "    [11.557944804290678, 59.25961243805086]]]},\n",
       " 'properties': {'kommunenummer': '0101',\n",
       "  'oppdateringsdato': '2018-12-10T00:00:00',\n",
       "  'navn': 'Halden',\n",
       "  'area_kommune': 0.10001455200841401,\n",
       "  'centroid_kommune': [11.498404769493327, 59.08595732263681],\n",
       "  'fylke_nummer_2018': '01',\n",
       "  'fylke_nummer_2019': '01',\n",
       "  'fylke_navn_2019': 'ØSTFOLD',\n",
       "  'fylke_nummer_2020': '30',\n",
       "  'fylke_navn_2020': 'VIKEN'},\n",
       " 'id': '0'}"
      ]
     },
     "execution_count": 10,
     "metadata": {},
     "output_type": "execute_result"
    }
   ],
   "source": [
    "df_geo.head(1)['features'][0]"
   ]
  },
  {
   "cell_type": "code",
   "execution_count": 17,
   "metadata": {},
   "outputs": [],
   "source": [
    "def getId(row):\n",
    "    return row['features']['properties']['kommunenummer']\n",
    "    \n",
    "def getGeom(row):\n",
    "    return json.dumps(row['features']['geometry'])"
   ]
  },
  {
   "cell_type": "code",
   "execution_count": 18,
   "metadata": {},
   "outputs": [
    {
     "data": {
      "text/html": [
       "<div>\n",
       "<style scoped>\n",
       "    .dataframe tbody tr th:only-of-type {\n",
       "        vertical-align: middle;\n",
       "    }\n",
       "\n",
       "    .dataframe tbody tr th {\n",
       "        vertical-align: top;\n",
       "    }\n",
       "\n",
       "    .dataframe thead th {\n",
       "        text-align: right;\n",
       "    }\n",
       "</style>\n",
       "<table border=\"1\" class=\"dataframe\">\n",
       "  <thead>\n",
       "    <tr style=\"text-align: right;\">\n",
       "      <th></th>\n",
       "      <th>type</th>\n",
       "      <th>features</th>\n",
       "      <th>centroid_kommune</th>\n",
       "      <th>id</th>\n",
       "      <th>kommunenummer</th>\n",
       "      <th>geometry_string</th>\n",
       "    </tr>\n",
       "  </thead>\n",
       "  <tbody>\n",
       "    <tr>\n",
       "      <th>0</th>\n",
       "      <td>FeatureCollection</td>\n",
       "      <td>{'type': 'Feature', 'geometry': {'type': 'Poly...</td>\n",
       "      <td>[11.498404769493327, 59.08595732263681]</td>\n",
       "      <td>0101</td>\n",
       "      <td>0101</td>\n",
       "      <td>{\"type\": \"Polygon\", \"coordinates\": [[[11.55794...</td>\n",
       "    </tr>\n",
       "  </tbody>\n",
       "</table>\n",
       "</div>"
      ],
      "text/plain": [
       "                type                                           features  \\\n",
       "0  FeatureCollection  {'type': 'Feature', 'geometry': {'type': 'Poly...   \n",
       "\n",
       "                          centroid_kommune    id kommunenummer  \\\n",
       "0  [11.498404769493327, 59.08595732263681]  0101          0101   \n",
       "\n",
       "                                     geometry_string  \n",
       "0  {\"type\": \"Polygon\", \"coordinates\": [[[11.55794...  "
      ]
     },
     "execution_count": 18,
     "metadata": {},
     "output_type": "execute_result"
    }
   ],
   "source": [
    "df_geo['id'] = df_geo.apply(getId, axis=1)\n",
    "df_geo['kommunenummer'] = df_geo.apply(getId, axis=1)\n",
    "df_geo['geometry_string'] = df_geo.apply(getGeom, axis=1)\n",
    "df_geo.head(1)"
   ]
  },
  {
   "cell_type": "code",
   "execution_count": 19,
   "metadata": {},
   "outputs": [],
   "source": [
    "dt = pd.merge(df_geo, df_ledige, on=\"kommunenummer\")"
   ]
  },
  {
   "cell_type": "code",
   "execution_count": 20,
   "metadata": {},
   "outputs": [
    {
     "data": {
      "text/html": [
       "<div>\n",
       "<style scoped>\n",
       "    .dataframe tbody tr th:only-of-type {\n",
       "        vertical-align: middle;\n",
       "    }\n",
       "\n",
       "    .dataframe tbody tr th {\n",
       "        vertical-align: top;\n",
       "    }\n",
       "\n",
       "    .dataframe thead th {\n",
       "        text-align: right;\n",
       "    }\n",
       "</style>\n",
       "<table border=\"1\" class=\"dataframe\">\n",
       "  <thead>\n",
       "    <tr style=\"text-align: right;\">\n",
       "      <th></th>\n",
       "      <th>type</th>\n",
       "      <th>features</th>\n",
       "      <th>centroid_kommune</th>\n",
       "      <th>id</th>\n",
       "      <th>kommunenummer</th>\n",
       "      <th>geometry_string</th>\n",
       "      <th>ledige</th>\n",
       "      <th>kommune</th>\n",
       "    </tr>\n",
       "  </thead>\n",
       "  <tbody>\n",
       "    <tr>\n",
       "      <th>0</th>\n",
       "      <td>FeatureCollection</td>\n",
       "      <td>{'type': 'Feature', 'geometry': {'type': 'Poly...</td>\n",
       "      <td>[11.498404769493327, 59.08595732263681]</td>\n",
       "      <td>0101</td>\n",
       "      <td>0101</td>\n",
       "      <td>{\"type\": \"Polygon\", \"coordinates\": [[[11.55794...</td>\n",
       "      <td>387</td>\n",
       "      <td>Halden</td>\n",
       "    </tr>\n",
       "    <tr>\n",
       "      <th>1</th>\n",
       "      <td>FeatureCollection</td>\n",
       "      <td>{'type': 'Feature', 'geometry': {'type': 'Poly...</td>\n",
       "      <td>[10.694785483673224, 59.45187621919044]</td>\n",
       "      <td>0104</td>\n",
       "      <td>0104</td>\n",
       "      <td>{\"type\": \"Polygon\", \"coordinates\": [[[10.68526...</td>\n",
       "      <td>491</td>\n",
       "      <td>Moss</td>\n",
       "    </tr>\n",
       "    <tr>\n",
       "      <th>2</th>\n",
       "      <td>FeatureCollection</td>\n",
       "      <td>{'type': 'Feature', 'geometry': {'type': 'Poly...</td>\n",
       "      <td>[11.161866574429215, 59.288044170917]</td>\n",
       "      <td>0105</td>\n",
       "      <td>0105</td>\n",
       "      <td>{\"type\": \"Polygon\", \"coordinates\": [[[11.13771...</td>\n",
       "      <td>833</td>\n",
       "      <td>Sarpsborg</td>\n",
       "    </tr>\n",
       "    <tr>\n",
       "      <th>3</th>\n",
       "      <td>FeatureCollection</td>\n",
       "      <td>{'type': 'Feature', 'geometry': {'type': 'Poly...</td>\n",
       "      <td>[10.937506651630564, 59.23057820000602]</td>\n",
       "      <td>0106</td>\n",
       "      <td>0106</td>\n",
       "      <td>{\"type\": \"Polygon\", \"coordinates\": [[[11.08331...</td>\n",
       "      <td>1236</td>\n",
       "      <td>Fredrikstad</td>\n",
       "    </tr>\n",
       "    <tr>\n",
       "      <th>4</th>\n",
       "      <td>FeatureCollection</td>\n",
       "      <td>{'type': 'Feature', 'geometry': {'type': 'Poly...</td>\n",
       "      <td>[10.965155146323387, 59.07160447267584]</td>\n",
       "      <td>0111</td>\n",
       "      <td>0111</td>\n",
       "      <td>{\"type\": \"Polygon\", \"coordinates\": [[[11.04347...</td>\n",
       "      <td>41</td>\n",
       "      <td>Hvaler</td>\n",
       "    </tr>\n",
       "  </tbody>\n",
       "</table>\n",
       "</div>"
      ],
      "text/plain": [
       "                type                                           features  \\\n",
       "0  FeatureCollection  {'type': 'Feature', 'geometry': {'type': 'Poly...   \n",
       "1  FeatureCollection  {'type': 'Feature', 'geometry': {'type': 'Poly...   \n",
       "2  FeatureCollection  {'type': 'Feature', 'geometry': {'type': 'Poly...   \n",
       "3  FeatureCollection  {'type': 'Feature', 'geometry': {'type': 'Poly...   \n",
       "4  FeatureCollection  {'type': 'Feature', 'geometry': {'type': 'Poly...   \n",
       "\n",
       "                          centroid_kommune    id kommunenummer  \\\n",
       "0  [11.498404769493327, 59.08595732263681]  0101          0101   \n",
       "1  [10.694785483673224, 59.45187621919044]  0104          0104   \n",
       "2    [11.161866574429215, 59.288044170917]  0105          0105   \n",
       "3  [10.937506651630564, 59.23057820000602]  0106          0106   \n",
       "4  [10.965155146323387, 59.07160447267584]  0111          0111   \n",
       "\n",
       "                                     geometry_string ledige      kommune  \n",
       "0  {\"type\": \"Polygon\", \"coordinates\": [[[11.55794...    387       Halden  \n",
       "1  {\"type\": \"Polygon\", \"coordinates\": [[[10.68526...    491         Moss  \n",
       "2  {\"type\": \"Polygon\", \"coordinates\": [[[11.13771...    833    Sarpsborg  \n",
       "3  {\"type\": \"Polygon\", \"coordinates\": [[[11.08331...   1236  Fredrikstad  \n",
       "4  {\"type\": \"Polygon\", \"coordinates\": [[[11.04347...     41       Hvaler  "
      ]
     },
     "execution_count": 20,
     "metadata": {},
     "output_type": "execute_result"
    }
   ],
   "source": [
    "dt.head()"
   ]
  },
  {
   "cell_type": "code",
   "execution_count": 21,
   "metadata": {},
   "outputs": [
    {
     "name": "stdout",
     "output_type": "stream",
     "text": [
      "User Guide: https://github.com/keplergl/kepler.gl/blob/master/docs/keplergl-jupyter/user-guide.md\n"
     ]
    },
    {
     "data": {
      "application/vnd.jupyter.widget-view+json": {
       "model_id": "d5c57fc3e3074e7d8e0b00c8d4cd1796",
       "version_major": 2,
       "version_minor": 0
      },
      "text/plain": [
       "KeplerGl(data={'kommuner': {'index': [0, 1, 2, 3, 4, 5, 6, 7, 8, 9, 10, 11, 12, 13, 14, 15, 16, 17, 18, 19, 20…"
      ]
     },
     "metadata": {},
     "output_type": "display_data"
    }
   ],
   "source": [
    "df_with_geometry = dt[['id','kommune','ledige','geometry_string']]\n",
    "\n",
    "# add to map\n",
    "from keplergl import KeplerGl\n",
    "map_1 = KeplerGl()\n",
    "map_1.add_data(df_with_geometry, \"kommuner\")\n",
    "map_1"
   ]
  },
  {
   "cell_type": "markdown",
   "metadata": {},
   "source": [
    "# Example"
   ]
  },
  {
   "cell_type": "code",
   "execution_count": 22,
   "metadata": {},
   "outputs": [],
   "source": [
    "df_centroid_kommune = dt[['id','kommune','ledige','centroid_kommune']]\n",
    "df_centroid_kommune['lat'] = df_centroid_kommune['centroid_kommune'].apply(lambda x: x[1])\n",
    "df_centroid_kommune['lng'] = df_centroid_kommune['centroid_kommune'].apply(lambda x: x[0])"
   ]
  },
  {
   "cell_type": "code",
   "execution_count": 23,
   "metadata": {},
   "outputs": [
    {
     "data": {
      "text/html": [
       "<div>\n",
       "<style scoped>\n",
       "    .dataframe tbody tr th:only-of-type {\n",
       "        vertical-align: middle;\n",
       "    }\n",
       "\n",
       "    .dataframe tbody tr th {\n",
       "        vertical-align: top;\n",
       "    }\n",
       "\n",
       "    .dataframe thead th {\n",
       "        text-align: right;\n",
       "    }\n",
       "</style>\n",
       "<table border=\"1\" class=\"dataframe\">\n",
       "  <thead>\n",
       "    <tr style=\"text-align: right;\">\n",
       "      <th></th>\n",
       "      <th>id</th>\n",
       "      <th>kommune</th>\n",
       "      <th>ledige</th>\n",
       "      <th>centroid_kommune</th>\n",
       "      <th>lat</th>\n",
       "      <th>lng</th>\n",
       "    </tr>\n",
       "  </thead>\n",
       "  <tbody>\n",
       "    <tr>\n",
       "      <th>0</th>\n",
       "      <td>0101</td>\n",
       "      <td>Halden</td>\n",
       "      <td>387</td>\n",
       "      <td>[11.498404769493327, 59.08595732263681]</td>\n",
       "      <td>59.085957</td>\n",
       "      <td>11.498405</td>\n",
       "    </tr>\n",
       "    <tr>\n",
       "      <th>1</th>\n",
       "      <td>0104</td>\n",
       "      <td>Moss</td>\n",
       "      <td>491</td>\n",
       "      <td>[10.694785483673224, 59.45187621919044]</td>\n",
       "      <td>59.451876</td>\n",
       "      <td>10.694785</td>\n",
       "    </tr>\n",
       "    <tr>\n",
       "      <th>2</th>\n",
       "      <td>0105</td>\n",
       "      <td>Sarpsborg</td>\n",
       "      <td>833</td>\n",
       "      <td>[11.161866574429215, 59.288044170917]</td>\n",
       "      <td>59.288044</td>\n",
       "      <td>11.161867</td>\n",
       "    </tr>\n",
       "    <tr>\n",
       "      <th>3</th>\n",
       "      <td>0106</td>\n",
       "      <td>Fredrikstad</td>\n",
       "      <td>1236</td>\n",
       "      <td>[10.937506651630564, 59.23057820000602]</td>\n",
       "      <td>59.230578</td>\n",
       "      <td>10.937507</td>\n",
       "    </tr>\n",
       "    <tr>\n",
       "      <th>4</th>\n",
       "      <td>0111</td>\n",
       "      <td>Hvaler</td>\n",
       "      <td>41</td>\n",
       "      <td>[10.965155146323387, 59.07160447267584]</td>\n",
       "      <td>59.071604</td>\n",
       "      <td>10.965155</td>\n",
       "    </tr>\n",
       "  </tbody>\n",
       "</table>\n",
       "</div>"
      ],
      "text/plain": [
       "     id      kommune ledige                         centroid_kommune  \\\n",
       "0  0101       Halden    387  [11.498404769493327, 59.08595732263681]   \n",
       "1  0104         Moss    491  [10.694785483673224, 59.45187621919044]   \n",
       "2  0105    Sarpsborg    833    [11.161866574429215, 59.288044170917]   \n",
       "3  0106  Fredrikstad   1236  [10.937506651630564, 59.23057820000602]   \n",
       "4  0111       Hvaler     41  [10.965155146323387, 59.07160447267584]   \n",
       "\n",
       "         lat        lng  \n",
       "0  59.085957  11.498405  \n",
       "1  59.451876  10.694785  \n",
       "2  59.288044  11.161867  \n",
       "3  59.230578  10.937507  \n",
       "4  59.071604  10.965155  "
      ]
     },
     "execution_count": 23,
     "metadata": {},
     "output_type": "execute_result"
    }
   ],
   "source": [
    "df_centroid_kommune.head()"
   ]
  },
  {
   "cell_type": "code",
   "execution_count": 31,
   "metadata": {},
   "outputs": [],
   "source": [
    "config = {\n",
    "    \"version\": \"v1\",\n",
    "    \"config\": {\n",
    "        \"visState\": {\n",
    "            \"layers\": [\n",
    "                {\n",
    "                    \"type\": \"point\",\n",
    "                    \"config\": {\n",
    "                        \"dataId\": \"kommune\",\n",
    "                        \"isVisible\": True,\n",
    "                        \"columns\": {\n",
    "                            \"altitude\": None,\n",
    "                            \"lat\": \"lat\",\n",
    "                            \"lng\": \"lng\"\n",
    "                        },\n",
    "                        \"color\": [165, 16, 55],\n",
    "                        \"visConfig\": {\n",
    "                            \"radius\": 10\n",
    "                        },\n",
    "                        \"textLabel\": {\n",
    "                            \"field\": {\"name\": \"kommune\", \"type\": \"string\"}\n",
    "                        }\n",
    "                    }\n",
    "                }\n",
    "            ],\n",
    "            \"interactionConfig\": {\n",
    "                \"tooltip\": {\n",
    "                    \"fieldsToShow\": {\n",
    "                        \"kommune\": [\"kommune\"]\n",
    "                    },\n",
    "                    \"enabled\": True\n",
    "                }\n",
    "            }\n",
    "            \n",
    "        }\n",
    "    }\n",
    "}"
   ]
  },
  {
   "cell_type": "code",
   "execution_count": 45,
   "metadata": {},
   "outputs": [
    {
     "data": {
      "text/html": [
       "<div>\n",
       "<style scoped>\n",
       "    .dataframe tbody tr th:only-of-type {\n",
       "        vertical-align: middle;\n",
       "    }\n",
       "\n",
       "    .dataframe tbody tr th {\n",
       "        vertical-align: top;\n",
       "    }\n",
       "\n",
       "    .dataframe thead th {\n",
       "        text-align: right;\n",
       "    }\n",
       "</style>\n",
       "<table border=\"1\" class=\"dataframe\">\n",
       "  <thead>\n",
       "    <tr style=\"text-align: right;\">\n",
       "      <th></th>\n",
       "      <th>hex_id</th>\n",
       "      <th>value</th>\n",
       "      <th>is_true</th>\n",
       "      <th>float_value</th>\n",
       "      <th>empty</th>\n",
       "      <th>time</th>\n",
       "    </tr>\n",
       "  </thead>\n",
       "  <tbody>\n",
       "    <tr>\n",
       "      <th>0</th>\n",
       "      <td>89283082c2fffff</td>\n",
       "      <td>64</td>\n",
       "      <td>True</td>\n",
       "      <td>64.1</td>\n",
       "      <td>NaN</td>\n",
       "      <td>11/1/17 11:00</td>\n",
       "    </tr>\n",
       "    <tr>\n",
       "      <th>1</th>\n",
       "      <td>8928308288fffff</td>\n",
       "      <td>73</td>\n",
       "      <td>True</td>\n",
       "      <td>73.1</td>\n",
       "      <td>NaN</td>\n",
       "      <td>11/1/17 11:00</td>\n",
       "    </tr>\n",
       "    <tr>\n",
       "      <th>2</th>\n",
       "      <td>89283082c07ffff</td>\n",
       "      <td>65</td>\n",
       "      <td>True</td>\n",
       "      <td>65.1</td>\n",
       "      <td>NaN</td>\n",
       "      <td>11/1/17 11:00</td>\n",
       "    </tr>\n",
       "    <tr>\n",
       "      <th>3</th>\n",
       "      <td>89283082817ffff</td>\n",
       "      <td>74</td>\n",
       "      <td>True</td>\n",
       "      <td>74.1</td>\n",
       "      <td>NaN</td>\n",
       "      <td>11/1/17 11:00</td>\n",
       "    </tr>\n",
       "    <tr>\n",
       "      <th>4</th>\n",
       "      <td>89283082c3bffff</td>\n",
       "      <td>66</td>\n",
       "      <td>True</td>\n",
       "      <td>66.1</td>\n",
       "      <td>NaN</td>\n",
       "      <td>11/1/17 11:00</td>\n",
       "    </tr>\n",
       "  </tbody>\n",
       "</table>\n",
       "</div>"
      ],
      "text/plain": [
       "            hex_id  value  is_true  float_value  empty           time\n",
       "0  89283082c2fffff     64     True         64.1    NaN  11/1/17 11:00\n",
       "1  8928308288fffff     73     True         73.1    NaN  11/1/17 11:00\n",
       "2  89283082c07ffff     65     True         65.1    NaN  11/1/17 11:00\n",
       "3  89283082817ffff     74     True         74.1    NaN  11/1/17 11:00\n",
       "4  89283082c3bffff     66     True         66.1    NaN  11/1/17 11:00"
      ]
     },
     "execution_count": 45,
     "metadata": {},
     "output_type": "execute_result"
    }
   ],
   "source": [
    "hex_data = \"https://raw.githubusercontent.com/keplergl/kepler.gl/master/bindings/kepler.gl-jupyter/notebooks/hex-data.csv\"\n",
    "df_hex = pd.read_csv(hex_data)\n",
    "df_hex.head()"
   ]
  },
  {
   "cell_type": "code",
   "execution_count": 37,
   "metadata": {},
   "outputs": [],
   "source": [
    "hex_config = {u'version': u'v1', u'config': {u'visState': {u'layers': [{u'type': u'hexagonId', u'visualChannels': {u'sizeField': {u'type': u'integer', u'name': u'value'}, u'coverageField': None, u'colorScale': u'quantize', u'coverageScale': u'linear', u'colorField': {u'type': u'integer', u'name': u'value'}, u'sizeScale': u'linear'}, u'config': {u'dataId': u'data_1', u'color': [250, 116, 0], u'textLabel': {u'color': [255, 255, 255], u'field': None, u'size': 50, u'anchor': u'middle', u'offset': [0, 0]}, u'label': u'H3 Hexagon', u'isVisible': True, u'visConfig': {u'coverageRange': [0, 1], u'opacity': 0.8, u'elevationScale': 5, u'hi-precision': False, u'coverage': 1, u'enable3d': True, u'sizeRange': [0, 500], u'colorRange': {u'category': u'Uber', u'type': u'sequential', u'colors': [u'#194266', u'#355C7D', u'#63617F', u'#916681', u'#C06C84', u'#D28389', u'#E59A8F', u'#F8B195'], u'reversed': False, u'name': u'Sunrise 8'}}, u'columns': {u'hex_id': u'hex_id'}}, u'id': u'jdys7lp'}], u'interactionConfig': {u'brush': {u'enabled': False, u'size': 0.5}, u'tooltip': {u'fieldsToShow': {u'data_1': [u'hex_id', u'value']}, u'enabled': True}}, u'splitMaps': [], u'layerBlending': u'normal', u'filters': []}, u'mapState': {u'bearing': 2.6192893401015205, u'dragRotate': True, u'zoom': 12.32053899007826, u'longitude': -122.42590232651203, u'isSplit': False, u'pitch': 37.374216241015446, u'latitude': 37.76209132041332}, u'mapStyle': {u'mapStyles': {}, u'topLayerGroups': {}, u'styleType': u'dark', u'visibleLayerGroups': {u'building': True, u'land': True, u'3d building': False, u'label': True, u'water': True, u'border': False, u'road': True}}}}"
   ]
  },
  {
   "cell_type": "code",
   "execution_count": 44,
   "metadata": {},
   "outputs": [],
   "source": [
    "sf_json = \"https://github.com/keplergl/kepler.gl/raw/master/bindings/kepler.gl-jupyter/notebooks/sf_zip_geo.json\"\n",
    "r = requests.get(sf_json)\n",
    "json_data = r.json()"
   ]
  },
  {
   "cell_type": "code",
   "execution_count": 50,
   "metadata": {},
   "outputs": [
    {
     "name": "stdout",
     "output_type": "stream",
     "text": [
      "User Guide: https://github.com/keplergl/kepler.gl/blob/master/docs/keplergl-jupyter/user-guide.md\n"
     ]
    },
    {
     "data": {
      "application/vnd.jupyter.widget-view+json": {
       "model_id": "7b52b31fa10547568b2814941137c9ba",
       "version_major": 2,
       "version_minor": 0
      },
      "text/plain": [
       "KeplerGl(config={'version': 'v1', 'config': {'visState': {'layers': [{'type': 'hexagonId', 'visualChannels': {…"
      ]
     },
     "metadata": {},
     "output_type": "display_data"
    }
   ],
   "source": [
    "w1 = keplergl.KeplerGl(height=500)\n",
    "w1.add_data(df_hex, 'data_1')\n",
    "w1.add_data(json_data, 'geojson')\n",
    "w1.config = hex_config\n",
    "w1"
   ]
  },
  {
   "cell_type": "code",
   "execution_count": 52,
   "metadata": {},
   "outputs": [
    {
     "name": "stdout",
     "output_type": "stream",
     "text": [
      "Collecting h3\n",
      "  Downloading https://files.pythonhosted.org/packages/98/2a/704b2db80465ce3a412d6c94f1c1658cffbbb4e76c5c03bb133f588cc131/h3-3.4.3.tar.gz\n",
      "Building wheels for collected packages: h3\n",
      "  Building wheel for h3 (setup.py) ... \u001b[?25lerror\n",
      "  Complete output from command /Users/B149899/anaconda3/envs/dv/bin/python -u -c \"import setuptools, tokenize;__file__='/private/var/folders/h9/b04cdyzx2c1bt2y9c05349yr0000gn/T/pip-install-_99kc_5d/h3/setup.py';f=getattr(tokenize, 'open', open)(__file__);code=f.read().replace('\\r\\n', '\\n');f.close();exec(compile(code, __file__, 'exec'))\" bdist_wheel -d /private/var/folders/h9/b04cdyzx2c1bt2y9c05349yr0000gn/T/pip-wheel-zfpxmzrd --python-tag cp37:\n",
      "  running bdist_wheel\n",
      "  running build\n",
      "  running build_py\n",
      "  creating build\n",
      "  creating build/lib.macosx-10.7-x86_64-3.7\n",
      "  creating build/lib.macosx-10.7-x86_64-3.7/h3\n",
      "  copying h3/h3.py -> build/lib.macosx-10.7-x86_64-3.7/h3\n",
      "  copying h3/__init__.py -> build/lib.macosx-10.7-x86_64-3.7/h3\n",
      "  running build_ext\n",
      "  + VERSION=v3.4.2\n",
      "  + IS_64BITS=True\n",
      "  + '[' '' == v3.4.2 ']'\n",
      "  + command -v cmake\n",
      "  + echo 'cmake required but not found.'\n",
      "  cmake required but not found.\n",
      "  + exit 1\n",
      "  Traceback (most recent call last):\n",
      "    File \"<string>\", line 1, in <module>\n",
      "    File \"/private/var/folders/h9/b04cdyzx2c1bt2y9c05349yr0000gn/T/pip-install-_99kc_5d/h3/setup.py\", line 65, in <module>\n",
      "      distclass=BinaryDistribution)\n",
      "    File \"/Users/B149899/anaconda3/envs/dv/lib/python3.7/site-packages/setuptools/__init__.py\", line 145, in setup\n",
      "      return distutils.core.setup(**attrs)\n",
      "    File \"/Users/B149899/anaconda3/envs/dv/lib/python3.7/distutils/core.py\", line 148, in setup\n",
      "      dist.run_commands()\n",
      "    File \"/Users/B149899/anaconda3/envs/dv/lib/python3.7/distutils/dist.py\", line 966, in run_commands\n",
      "      self.run_command(cmd)\n",
      "    File \"/Users/B149899/anaconda3/envs/dv/lib/python3.7/distutils/dist.py\", line 985, in run_command\n",
      "      cmd_obj.run()\n",
      "    File \"/Users/B149899/anaconda3/envs/dv/lib/python3.7/site-packages/wheel/bdist_wheel.py\", line 192, in run\n",
      "      self.run_command('build')\n",
      "    File \"/Users/B149899/anaconda3/envs/dv/lib/python3.7/distutils/cmd.py\", line 313, in run_command\n",
      "      self.distribution.run_command(command)\n",
      "    File \"/Users/B149899/anaconda3/envs/dv/lib/python3.7/distutils/dist.py\", line 985, in run_command\n",
      "      cmd_obj.run()\n",
      "    File \"/Users/B149899/anaconda3/envs/dv/lib/python3.7/distutils/command/build.py\", line 135, in run\n",
      "      self.run_command(cmd_name)\n",
      "    File \"/Users/B149899/anaconda3/envs/dv/lib/python3.7/distutils/cmd.py\", line 313, in run_command\n",
      "      self.distribution.run_command(command)\n",
      "    File \"/Users/B149899/anaconda3/envs/dv/lib/python3.7/distutils/dist.py\", line 985, in run_command\n",
      "      cmd_obj.run()\n",
      "    File \"/private/var/folders/h9/b04cdyzx2c1bt2y9c05349yr0000gn/T/pip-install-_99kc_5d/h3/setup.py\", line 25, in run\n",
      "      install_h3(h3_version)\n",
      "    File \"/private/var/folders/h9/b04cdyzx2c1bt2y9c05349yr0000gn/T/pip-install-_99kc_5d/h3/setup.py\", line 18, in install_h3\n",
      "      subprocess.check_call('bash ./.install.sh {} {}'.format(h3_version, is_64bits), shell=True)\n",
      "    File \"/Users/B149899/anaconda3/envs/dv/lib/python3.7/subprocess.py\", line 347, in check_call\n",
      "      raise CalledProcessError(retcode, cmd)\n",
      "  subprocess.CalledProcessError: Command 'bash ./.install.sh v3.4.2 True' returned non-zero exit status 1.\n",
      "  \n",
      "  ----------------------------------------\n",
      "\u001b[31m  Failed building wheel for h3\u001b[0m\n",
      "\u001b[?25h  Running setup.py clean for h3\n",
      "Failed to build h3\n",
      "Installing collected packages: h3\n",
      "  Running setup.py install for h3 ... \u001b[?25lerror\n",
      "    Complete output from command /Users/B149899/anaconda3/envs/dv/bin/python -u -c \"import setuptools, tokenize;__file__='/private/var/folders/h9/b04cdyzx2c1bt2y9c05349yr0000gn/T/pip-install-_99kc_5d/h3/setup.py';f=getattr(tokenize, 'open', open)(__file__);code=f.read().replace('\\r\\n', '\\n');f.close();exec(compile(code, __file__, 'exec'))\" install --record /private/var/folders/h9/b04cdyzx2c1bt2y9c05349yr0000gn/T/pip-record-vs8ghcm3/install-record.txt --single-version-externally-managed --compile:\n",
      "    running install\n",
      "    running build\n",
      "    running build_py\n",
      "    creating build\n",
      "    creating build/lib.macosx-10.7-x86_64-3.7\n",
      "    creating build/lib.macosx-10.7-x86_64-3.7/h3\n",
      "    copying h3/h3.py -> build/lib.macosx-10.7-x86_64-3.7/h3\n",
      "    copying h3/__init__.py -> build/lib.macosx-10.7-x86_64-3.7/h3\n",
      "    running build_ext\n",
      "    + VERSION=v3.4.2\n",
      "    + IS_64BITS=True\n",
      "    + '[' '' == v3.4.2 ']'\n",
      "    + command -v cmake\n",
      "    + echo 'cmake required but not found.'\n",
      "    cmake required but not found.\n",
      "    + exit 1\n",
      "    Traceback (most recent call last):\n",
      "      File \"<string>\", line 1, in <module>\n",
      "      File \"/private/var/folders/h9/b04cdyzx2c1bt2y9c05349yr0000gn/T/pip-install-_99kc_5d/h3/setup.py\", line 65, in <module>\n",
      "        distclass=BinaryDistribution)\n",
      "      File \"/Users/B149899/anaconda3/envs/dv/lib/python3.7/site-packages/setuptools/__init__.py\", line 145, in setup\n",
      "        return distutils.core.setup(**attrs)\n",
      "      File \"/Users/B149899/anaconda3/envs/dv/lib/python3.7/distutils/core.py\", line 148, in setup\n",
      "        dist.run_commands()\n",
      "      File \"/Users/B149899/anaconda3/envs/dv/lib/python3.7/distutils/dist.py\", line 966, in run_commands\n",
      "        self.run_command(cmd)\n",
      "      File \"/Users/B149899/anaconda3/envs/dv/lib/python3.7/distutils/dist.py\", line 985, in run_command\n",
      "        cmd_obj.run()\n",
      "      File \"/Users/B149899/anaconda3/envs/dv/lib/python3.7/site-packages/setuptools/command/install.py\", line 61, in run\n",
      "        return orig.install.run(self)\n",
      "      File \"/Users/B149899/anaconda3/envs/dv/lib/python3.7/distutils/command/install.py\", line 545, in run\n",
      "        self.run_command('build')\n",
      "      File \"/Users/B149899/anaconda3/envs/dv/lib/python3.7/distutils/cmd.py\", line 313, in run_command\n",
      "        self.distribution.run_command(command)\n",
      "      File \"/Users/B149899/anaconda3/envs/dv/lib/python3.7/distutils/dist.py\", line 985, in run_command\n",
      "        cmd_obj.run()\n",
      "      File \"/Users/B149899/anaconda3/envs/dv/lib/python3.7/distutils/command/build.py\", line 135, in run\n",
      "        self.run_command(cmd_name)\n",
      "      File \"/Users/B149899/anaconda3/envs/dv/lib/python3.7/distutils/cmd.py\", line 313, in run_command\n",
      "        self.distribution.run_command(command)\n",
      "      File \"/Users/B149899/anaconda3/envs/dv/lib/python3.7/distutils/dist.py\", line 985, in run_command\n",
      "        cmd_obj.run()\n",
      "      File \"/private/var/folders/h9/b04cdyzx2c1bt2y9c05349yr0000gn/T/pip-install-_99kc_5d/h3/setup.py\", line 25, in run\n",
      "        install_h3(h3_version)\n",
      "      File \"/private/var/folders/h9/b04cdyzx2c1bt2y9c05349yr0000gn/T/pip-install-_99kc_5d/h3/setup.py\", line 18, in install_h3\n",
      "        subprocess.check_call('bash ./.install.sh {} {}'.format(h3_version, is_64bits), shell=True)\n",
      "      File \"/Users/B149899/anaconda3/envs/dv/lib/python3.7/subprocess.py\", line 347, in check_call\n",
      "        raise CalledProcessError(retcode, cmd)\n",
      "    subprocess.CalledProcessError: Command 'bash ./.install.sh v3.4.2 True' returned non-zero exit status 1.\n",
      "    \n",
      "    ----------------------------------------\n",
      "\u001b[31mCommand \"/Users/B149899/anaconda3/envs/dv/bin/python -u -c \"import setuptools, tokenize;__file__='/private/var/folders/h9/b04cdyzx2c1bt2y9c05349yr0000gn/T/pip-install-_99kc_5d/h3/setup.py';f=getattr(tokenize, 'open', open)(__file__);code=f.read().replace('\\r\\n', '\\n');f.close();exec(compile(code, __file__, 'exec'))\" install --record /private/var/folders/h9/b04cdyzx2c1bt2y9c05349yr0000gn/T/pip-record-vs8ghcm3/install-record.txt --single-version-externally-managed --compile\" failed with error code 1 in /private/var/folders/h9/b04cdyzx2c1bt2y9c05349yr0000gn/T/pip-install-_99kc_5d/h3/\u001b[0m\n",
      "\u001b[?25h"
     ]
    }
   ],
   "source": [
    "fylker_2020 = \"http://eric.clst.org/assets/wiki/uploads/Stuff/gz_2010_us_040_00_500k.json\"\n",
    "country_gdf = geopandas.read_file(url)\n",
    "display(country_gdf.head(5))"
   ]
  },
  {
   "cell_type": "code",
   "execution_count": 51,
   "metadata": {},
   "outputs": [
    {
     "data": {
      "text/plain": [
       "{'version': 'v1',\n",
       " 'config': {'visState': {'filters': [],\n",
       "   'layers': [{'id': 'jdys7lp',\n",
       "     'type': 'hexagonId',\n",
       "     'config': {'dataId': 'data_1',\n",
       "      'label': 'H3 Hexagon',\n",
       "      'color': [250, 116, 0],\n",
       "      'columns': {'hex_id': 'hex_id'},\n",
       "      'isVisible': True,\n",
       "      'visConfig': {'opacity': 0.8,\n",
       "       'colorRange': {'category': 'Uber',\n",
       "        'type': 'sequential',\n",
       "        'colors': ['#194266',\n",
       "         '#355C7D',\n",
       "         '#63617F',\n",
       "         '#916681',\n",
       "         '#C06C84',\n",
       "         '#D28389',\n",
       "         '#E59A8F',\n",
       "         '#F8B195'],\n",
       "        'reversed': False,\n",
       "        'name': 'Sunrise 8'},\n",
       "       'coverage': 1,\n",
       "       'sizeRange': [0, 500],\n",
       "       'coverageRange': [0, 1],\n",
       "       'elevationScale': 5},\n",
       "      'textLabel': [{'field': None,\n",
       "        'color': [255, 255, 255],\n",
       "        'size': 50,\n",
       "        'offset': [0, 0],\n",
       "        'anchor': 'middle',\n",
       "        'alignment': 'center'}]},\n",
       "     'visualChannels': {'colorField': {'name': 'value', 'type': 'integer'},\n",
       "      'colorScale': 'quantize',\n",
       "      'sizeField': {'name': 'value', 'type': 'integer'},\n",
       "      'sizeScale': 'linear',\n",
       "      'coverageField': None,\n",
       "      'coverageScale': 'linear'}}],\n",
       "   'interactionConfig': {'tooltip': {'fieldsToShow': {'data_1': ['hex_id',\n",
       "       'value'],\n",
       "      'geojson': ['OBJECTID', 'ZIP_CODE', 'ID']},\n",
       "     'enabled': True},\n",
       "    'brush': {'size': 0.5, 'enabled': False}},\n",
       "   'layerBlending': 'normal',\n",
       "   'splitMaps': []},\n",
       "  'mapState': {'bearing': 2.6192893401015205,\n",
       "   'dragRotate': True,\n",
       "   'latitude': 37.76189504160789,\n",
       "   'longitude': -122.42613203785936,\n",
       "   'pitch': 37.374216241015446,\n",
       "   'zoom': 12.206308444848322,\n",
       "   'isSplit': False},\n",
       "  'mapStyle': {'styleType': 'dark',\n",
       "   'topLayerGroups': {},\n",
       "   'visibleLayerGroups': {'label': True,\n",
       "    'road': True,\n",
       "    'border': False,\n",
       "    'building': True,\n",
       "    'water': True,\n",
       "    'land': True,\n",
       "    '3d building': False},\n",
       "   'mapStyles': {}}}}"
      ]
     },
     "execution_count": 51,
     "metadata": {},
     "output_type": "execute_result"
    }
   ],
   "source": [
    "w1.config"
   ]
  },
  {
   "cell_type": "code",
   "execution_count": 47,
   "metadata": {},
   "outputs": [],
   "source": []
  },
  {
   "cell_type": "code",
   "execution_count": 32,
   "metadata": {},
   "outputs": [
    {
     "name": "stdout",
     "output_type": "stream",
     "text": [
      "User Guide: https://github.com/keplergl/kepler.gl/blob/master/docs/keplergl-jupyter/user-guide.md\n"
     ]
    },
    {
     "data": {
      "application/vnd.jupyter.widget-view+json": {
       "model_id": "8ce3fe4513c34d259dfc3a22767b3626",
       "version_major": 2,
       "version_minor": 0
      },
      "text/plain": [
       "KeplerGl(config={'version': 'v1', 'config': {'visState': {'layers': [{'type': 'point', 'config': {'dataId': 'k…"
      ]
     },
     "metadata": {},
     "output_type": "display_data"
    }
   ],
   "source": [
    "import keplergl\n",
    "w1 = keplergl.KeplerGl(height=500)\n",
    "w1.add_data(data=df_centroid_kommune, name=\"kommune\")\n",
    "w1.config=config\n",
    "w1"
   ]
  },
  {
   "cell_type": "code",
   "execution_count": 28,
   "metadata": {},
   "outputs": [
    {
     "data": {
      "text/plain": [
       "{'version': 'v1',\n",
       " 'config': {'visState': {'filters': [],\n",
       "   'layers': [{'id': 'je1tz4m',\n",
       "     'type': 'point',\n",
       "     'config': {'dataId': 'kommune',\n",
       "      'label': 'new layer',\n",
       "      'color': [165, 16, 55],\n",
       "      'columns': {'lat': 'lat', 'lng': 'lng', 'altitude': None},\n",
       "      'isVisible': True,\n",
       "      'visConfig': {'radius': 10,\n",
       "       'fixedRadius': False,\n",
       "       'opacity': 0.8,\n",
       "       'outline': False,\n",
       "       'thickness': 2,\n",
       "       'strokeColor': [165, 16, 55],\n",
       "       'colorRange': {'name': 'Global Warming',\n",
       "        'type': 'sequential',\n",
       "        'category': 'Uber',\n",
       "        'colors': ['#5A1846',\n",
       "         '#900C3F',\n",
       "         '#C70039',\n",
       "         '#E3611C',\n",
       "         '#F1920E',\n",
       "         '#FFC300']},\n",
       "       'strokeColorRange': {'name': 'Global Warming',\n",
       "        'type': 'sequential',\n",
       "        'category': 'Uber',\n",
       "        'colors': ['#5A1846',\n",
       "         '#900C3F',\n",
       "         '#C70039',\n",
       "         '#E3611C',\n",
       "         '#F1920E',\n",
       "         '#FFC300']},\n",
       "       'radiusRange': [0, 50],\n",
       "       'filled': True},\n",
       "      'textLabel': [{'field': {'name': 'kommune', 'type': 'string'},\n",
       "        'color': [255, 255, 255],\n",
       "        'size': 18,\n",
       "        'offset': [0, 0],\n",
       "        'anchor': 'start',\n",
       "        'alignment': 'center'}]},\n",
       "     'visualChannels': {'colorField': None,\n",
       "      'colorScale': 'quantile',\n",
       "      'strokeColorField': None,\n",
       "      'strokeColorScale': 'quantile',\n",
       "      'sizeField': None,\n",
       "      'sizeScale': 'linear'}}],\n",
       "   'interactionConfig': {'tooltip': {'fieldsToShow': {'kommune': ['kommune']}},\n",
       "    'brush': {'size': 0.5, 'enabled': False}},\n",
       "   'layerBlending': 'normal',\n",
       "   'splitMaps': []},\n",
       "  'mapState': {'bearing': 0,\n",
       "   'dragRotate': False,\n",
       "   'latitude': 64.39502603906679,\n",
       "   'longitude': 12.865169405761447,\n",
       "   'pitch': 0,\n",
       "   'zoom': 6.5869569403706425,\n",
       "   'isSplit': False},\n",
       "  'mapStyle': {'styleType': 'dark',\n",
       "   'topLayerGroups': {},\n",
       "   'visibleLayerGroups': {'label': True,\n",
       "    'road': True,\n",
       "    'border': False,\n",
       "    'building': True,\n",
       "    'water': True,\n",
       "    'land': True,\n",
       "    '3d building': False},\n",
       "   'mapStyles': {}}}}"
      ]
     },
     "execution_count": 28,
     "metadata": {},
     "output_type": "execute_result"
    }
   ],
   "source": [
    "w1.config"
   ]
  },
  {
   "cell_type": "markdown",
   "metadata": {},
   "source": [
    "# Create datapackage"
   ]
  },
  {
   "cell_type": "code",
   "execution_count": 143,
   "metadata": {},
   "outputs": [],
   "source": [
    "readme = \"\"\"\n",
    "# Eksempler på kartvisninger med webGL: Arbeidsledige\n",
    "\"\"\"\n",
    "\n",
    "metadata = {\n",
    "'store': 'gs',\n",
    "'repo': 'https://raw.githubusercontent.com/datasett/nav-examples/master/',\n",
    "'readme': readme,\n",
    "'license':'MIT',\n",
    "'accessRights':'Open',\n",
    "'author': 'paul.bencze@nav.no',\n",
    "'title':'Eksempler på kart med webGL: Arbeidsledige',\n",
    "'title':'Eksempler på kart med webGL: Arbeidsledige',\n",
    "'description':'Eksempler på kartvisninger med webGL: Arbeidsledige',\n",
    "'name':'Eksempler på kart med webGL: Arbeidsledige',\n",
    "'source':'NAV',\n",
    "'keywords':['kart, eksempler', 'examples', 'arbeidsledige'],\n",
    "'provenance':'NAV',\n",
    "'publisher': 'NAV',\n",
    "'bucket': 'nav-opendata',\n",
    "}"
   ]
  },
  {
   "cell_type": "code",
   "execution_count": 145,
   "metadata": {},
   "outputs": [],
   "source": [
    "dp = dv.Datapackage(metadata)"
   ]
  },
  {
   "cell_type": "code",
   "execution_count": 155,
   "metadata": {},
   "outputs": [],
   "source": [
    "data = df_centroid_kommune.to_json(orient='records')"
   ]
  },
  {
   "cell_type": "code",
   "execution_count": 156,
   "metadata": {},
   "outputs": [],
   "source": [
    "spec = {\n",
    "    \"data\": data,\n",
    "    \"map\": \"https://raw.githubusercontent.com/datasett/maps/master/norway/data/counties_2018_s_geojson.json\",\n",
    "    \"colorby\": \"ledige\",\n",
    "    \"value\": 'ledige',\n",
    "    \"lineColor\": [200,200,200], \n",
    "    \"initialViewState\": {\n",
    "      \"longitude\": 14,\n",
    "      \"latitude\": 65,\n",
    "      \"zoom\": 3.5,\n",
    "      \"pitch\": 0,\n",
    "      \"bearing\": 0,\n",
    "    }\n",
    "  }"
   ]
  },
  {
   "cell_type": "code",
   "execution_count": 157,
   "metadata": {},
   "outputs": [],
   "source": [
    "description = '''\n",
    "Kart beskrivelse\n",
    "'''\n",
    "\n",
    "dp.add_view(\n",
    "    spec_type='map',\n",
    "    name='Kommuner farge etter antall ledige',\n",
    "    description = description,\n",
    "    resources=[],\n",
    "    attribution = \"Kilde: NAV.\",\n",
    "    spec=spec\n",
    ")"
   ]
  },
  {
   "cell_type": "code",
   "execution_count": 158,
   "metadata": {},
   "outputs": [],
   "source": [
    "import os\n",
    "os.environ['GOOGLE_APPLICATION_CREDENTIALS'] = '/users/b149899/projects/binder/binder/keys/nav_opendata.json'"
   ]
  },
  {
   "cell_type": "code",
   "execution_count": 159,
   "metadata": {},
   "outputs": [
    {
     "name": "stdout",
     "output_type": "stream",
     "text": [
      "gs\n"
     ]
    },
    {
     "ename": "TypeError",
     "evalue": "Object of type DataFrame is not JSON serializable",
     "output_type": "error",
     "traceback": [
      "\u001b[0;31m---------------------------------------------------------------------------\u001b[0m",
      "\u001b[0;31mTypeError\u001b[0m                                 Traceback (most recent call last)",
      "\u001b[0;32m<ipython-input-159-ff5e2c89975a>\u001b[0m in \u001b[0;36m<module>\u001b[0;34m\u001b[0m\n\u001b[1;32m      1\u001b[0m \u001b[0mclient\u001b[0m \u001b[0;34m=\u001b[0m \u001b[0mdv\u001b[0m\u001b[0;34m.\u001b[0m\u001b[0mClient\u001b[0m\u001b[0;34m(\u001b[0m\u001b[0;34m)\u001b[0m\u001b[0;34m\u001b[0m\u001b[0;34m\u001b[0m\u001b[0m\n\u001b[0;32m----> 2\u001b[0;31m \u001b[0mclient\u001b[0m\u001b[0;34m.\u001b[0m\u001b[0mpublish\u001b[0m\u001b[0;34m(\u001b[0m\u001b[0mdp\u001b[0m\u001b[0;34m)\u001b[0m\u001b[0;34m\u001b[0m\u001b[0;34m\u001b[0m\u001b[0m\n\u001b[0m",
      "\u001b[0;32m~/anaconda3/envs/dv/lib/python3.7/site-packages/dataverk/dataverk.py\u001b[0m in \u001b[0;36mpublish\u001b[0;34m(self, datapackage)\u001b[0m\n\u001b[1;32m     83\u001b[0m         \u001b[0;34m:\u001b[0m\u001b[0;32mreturn\u001b[0m\u001b[0;34m:\u001b[0m \u001b[0mpandas\u001b[0m\u001b[0;34m.\u001b[0m\u001b[0mDataframe\u001b[0m\u001b[0;34m\u001b[0m\u001b[0;34m\u001b[0m\u001b[0m\n\u001b[1;32m     84\u001b[0m         \"\"\"\n\u001b[0;32m---> 85\u001b[0;31m         \u001b[0mconn\u001b[0m \u001b[0;34m=\u001b[0m \u001b[0mJSONStatConnector\u001b[0m\u001b[0;34m(\u001b[0m\u001b[0;34m)\u001b[0m\u001b[0;34m\u001b[0m\u001b[0;34m\u001b[0m\u001b[0m\n\u001b[0m\u001b[1;32m     86\u001b[0m         \u001b[0;32mreturn\u001b[0m \u001b[0mconn\u001b[0m\u001b[0;34m.\u001b[0m\u001b[0mget_pandas_df\u001b[0m\u001b[0;34m(\u001b[0m\u001b[0murl\u001b[0m\u001b[0;34m,\u001b[0m \u001b[0mparams\u001b[0m\u001b[0;34m=\u001b[0m\u001b[0mparams\u001b[0m\u001b[0;34m)\u001b[0m\u001b[0;34m\u001b[0m\u001b[0;34m\u001b[0m\u001b[0m\n\u001b[1;32m     87\u001b[0m \u001b[0;34m\u001b[0m\u001b[0m\n",
      "\u001b[0;32m~/anaconda3/envs/dv/lib/python3.7/site-packages/dataverk/package_publisher.py\u001b[0m in \u001b[0;36mpublish\u001b[0;34m(self, resources)\u001b[0m\n\u001b[1;32m     37\u001b[0m             datapackage_key_prefix=self._datapackage_key_prefix(\n\u001b[1;32m     38\u001b[0m                 \u001b[0mself\u001b[0m\u001b[0;34m.\u001b[0m\u001b[0m_datapackage_metadata\u001b[0m\u001b[0;34m.\u001b[0m\u001b[0mget\u001b[0m\u001b[0;34m(\u001b[0m\u001b[0;34m\"id\"\u001b[0m\u001b[0;34m)\u001b[0m\u001b[0;34m\u001b[0m\u001b[0;34m\u001b[0m\u001b[0m\n\u001b[0;32m---> 39\u001b[0;31m             ),\n\u001b[0m\u001b[1;32m     40\u001b[0m             \u001b[0mresources\u001b[0m\u001b[0;34m=\u001b[0m\u001b[0mresources\u001b[0m\u001b[0;34m\u001b[0m\u001b[0;34m\u001b[0m\u001b[0m\n\u001b[1;32m     41\u001b[0m         )\n",
      "\u001b[0;32m~/anaconda3/envs/dv/lib/python3.7/site-packages/dataverk/package_publisher.py\u001b[0m in \u001b[0;36mupload_to_storage_bucket\u001b[0;34m(datapackage_metadata, resources, conn, datapackage_key_prefix)\u001b[0m\n\u001b[1;32m     59\u001b[0m         \"\"\"\n\u001b[1;32m     60\u001b[0m         \u001b[0;32mif\u001b[0m \u001b[0mconn\u001b[0m \u001b[0;32mis\u001b[0m \u001b[0;32mnot\u001b[0m \u001b[0;32mNone\u001b[0m\u001b[0;34m:\u001b[0m\u001b[0;34m\u001b[0m\u001b[0;34m\u001b[0m\u001b[0m\n\u001b[0;32m---> 61\u001b[0;31m             conn.write(\n\u001b[0m\u001b[1;32m     62\u001b[0m                 \u001b[0mjson\u001b[0m\u001b[0;34m.\u001b[0m\u001b[0mdumps\u001b[0m\u001b[0;34m(\u001b[0m\u001b[0mdatapackage_metadata\u001b[0m\u001b[0;34m)\u001b[0m\u001b[0;34m,\u001b[0m\u001b[0;34m\u001b[0m\u001b[0;34m\u001b[0m\u001b[0m\n\u001b[1;32m     63\u001b[0m                 \u001b[0mdatapackage_key_prefix\u001b[0m \u001b[0;34m+\u001b[0m \u001b[0;34m\"datapackage\"\u001b[0m\u001b[0;34m,\u001b[0m\u001b[0;34m\u001b[0m\u001b[0;34m\u001b[0m\u001b[0m\n",
      "\u001b[0;32m~/anaconda3/envs/dv/lib/python3.7/json/__init__.py\u001b[0m in \u001b[0;36mdumps\u001b[0;34m(obj, skipkeys, ensure_ascii, check_circular, allow_nan, cls, indent, separators, default, sort_keys, **kw)\u001b[0m\n\u001b[1;32m    229\u001b[0m         \u001b[0mcls\u001b[0m \u001b[0;32mis\u001b[0m \u001b[0;32mNone\u001b[0m \u001b[0;32mand\u001b[0m \u001b[0mindent\u001b[0m \u001b[0;32mis\u001b[0m \u001b[0;32mNone\u001b[0m \u001b[0;32mand\u001b[0m \u001b[0mseparators\u001b[0m \u001b[0;32mis\u001b[0m \u001b[0;32mNone\u001b[0m \u001b[0;32mand\u001b[0m\u001b[0;34m\u001b[0m\u001b[0;34m\u001b[0m\u001b[0m\n\u001b[1;32m    230\u001b[0m         default is None and not sort_keys and not kw):\n\u001b[0;32m--> 231\u001b[0;31m         \u001b[0;32mreturn\u001b[0m \u001b[0m_default_encoder\u001b[0m\u001b[0;34m.\u001b[0m\u001b[0mencode\u001b[0m\u001b[0;34m(\u001b[0m\u001b[0mobj\u001b[0m\u001b[0;34m)\u001b[0m\u001b[0;34m\u001b[0m\u001b[0;34m\u001b[0m\u001b[0m\n\u001b[0m\u001b[1;32m    232\u001b[0m     \u001b[0;32mif\u001b[0m \u001b[0mcls\u001b[0m \u001b[0;32mis\u001b[0m \u001b[0;32mNone\u001b[0m\u001b[0;34m:\u001b[0m\u001b[0;34m\u001b[0m\u001b[0;34m\u001b[0m\u001b[0m\n\u001b[1;32m    233\u001b[0m         \u001b[0mcls\u001b[0m \u001b[0;34m=\u001b[0m \u001b[0mJSONEncoder\u001b[0m\u001b[0;34m\u001b[0m\u001b[0;34m\u001b[0m\u001b[0m\n",
      "\u001b[0;32m~/anaconda3/envs/dv/lib/python3.7/json/encoder.py\u001b[0m in \u001b[0;36mencode\u001b[0;34m(self, o)\u001b[0m\n\u001b[1;32m    197\u001b[0m         \u001b[0;31m# exceptions aren't as detailed.  The list call should be roughly\u001b[0m\u001b[0;34m\u001b[0m\u001b[0;34m\u001b[0m\u001b[0;34m\u001b[0m\u001b[0m\n\u001b[1;32m    198\u001b[0m         \u001b[0;31m# equivalent to the PySequence_Fast that ''.join() would do.\u001b[0m\u001b[0;34m\u001b[0m\u001b[0;34m\u001b[0m\u001b[0;34m\u001b[0m\u001b[0m\n\u001b[0;32m--> 199\u001b[0;31m         \u001b[0mchunks\u001b[0m \u001b[0;34m=\u001b[0m \u001b[0mself\u001b[0m\u001b[0;34m.\u001b[0m\u001b[0miterencode\u001b[0m\u001b[0;34m(\u001b[0m\u001b[0mo\u001b[0m\u001b[0;34m,\u001b[0m \u001b[0m_one_shot\u001b[0m\u001b[0;34m=\u001b[0m\u001b[0;32mTrue\u001b[0m\u001b[0;34m)\u001b[0m\u001b[0;34m\u001b[0m\u001b[0;34m\u001b[0m\u001b[0m\n\u001b[0m\u001b[1;32m    200\u001b[0m         \u001b[0;32mif\u001b[0m \u001b[0;32mnot\u001b[0m \u001b[0misinstance\u001b[0m\u001b[0;34m(\u001b[0m\u001b[0mchunks\u001b[0m\u001b[0;34m,\u001b[0m \u001b[0;34m(\u001b[0m\u001b[0mlist\u001b[0m\u001b[0;34m,\u001b[0m \u001b[0mtuple\u001b[0m\u001b[0;34m)\u001b[0m\u001b[0;34m)\u001b[0m\u001b[0;34m:\u001b[0m\u001b[0;34m\u001b[0m\u001b[0;34m\u001b[0m\u001b[0m\n\u001b[1;32m    201\u001b[0m             \u001b[0mchunks\u001b[0m \u001b[0;34m=\u001b[0m \u001b[0mlist\u001b[0m\u001b[0;34m(\u001b[0m\u001b[0mchunks\u001b[0m\u001b[0;34m)\u001b[0m\u001b[0;34m\u001b[0m\u001b[0;34m\u001b[0m\u001b[0m\n",
      "\u001b[0;32m~/anaconda3/envs/dv/lib/python3.7/json/encoder.py\u001b[0m in \u001b[0;36miterencode\u001b[0;34m(self, o, _one_shot)\u001b[0m\n\u001b[1;32m    255\u001b[0m                 \u001b[0mself\u001b[0m\u001b[0;34m.\u001b[0m\u001b[0mkey_separator\u001b[0m\u001b[0;34m,\u001b[0m \u001b[0mself\u001b[0m\u001b[0;34m.\u001b[0m\u001b[0mitem_separator\u001b[0m\u001b[0;34m,\u001b[0m \u001b[0mself\u001b[0m\u001b[0;34m.\u001b[0m\u001b[0msort_keys\u001b[0m\u001b[0;34m,\u001b[0m\u001b[0;34m\u001b[0m\u001b[0;34m\u001b[0m\u001b[0m\n\u001b[1;32m    256\u001b[0m                 self.skipkeys, _one_shot)\n\u001b[0;32m--> 257\u001b[0;31m         \u001b[0;32mreturn\u001b[0m \u001b[0m_iterencode\u001b[0m\u001b[0;34m(\u001b[0m\u001b[0mo\u001b[0m\u001b[0;34m,\u001b[0m \u001b[0;36m0\u001b[0m\u001b[0;34m)\u001b[0m\u001b[0;34m\u001b[0m\u001b[0;34m\u001b[0m\u001b[0m\n\u001b[0m\u001b[1;32m    258\u001b[0m \u001b[0;34m\u001b[0m\u001b[0m\n\u001b[1;32m    259\u001b[0m def _make_iterencode(markers, _default, _encoder, _indent, _floatstr,\n",
      "\u001b[0;32m~/anaconda3/envs/dv/lib/python3.7/json/encoder.py\u001b[0m in \u001b[0;36mdefault\u001b[0;34m(self, o)\u001b[0m\n\u001b[1;32m    177\u001b[0m \u001b[0;34m\u001b[0m\u001b[0m\n\u001b[1;32m    178\u001b[0m         \"\"\"\n\u001b[0;32m--> 179\u001b[0;31m         raise TypeError(f'Object of type {o.__class__.__name__} '\n\u001b[0m\u001b[1;32m    180\u001b[0m                         f'is not JSON serializable')\n\u001b[1;32m    181\u001b[0m \u001b[0;34m\u001b[0m\u001b[0m\n",
      "\u001b[0;31mTypeError\u001b[0m: Object of type DataFrame is not JSON serializable"
     ]
    }
   ],
   "source": [
    "client = dv.Client()\n",
    "client.publish(dp)"
   ]
  },
  {
   "cell_type": "code",
   "execution_count": null,
   "metadata": {},
   "outputs": [],
   "source": []
  }
 ],
 "metadata": {
  "kernelspec": {
   "display_name": "Python (dv)",
   "language": "python",
   "name": "dv"
  },
  "language_info": {
   "codemirror_mode": {
    "name": "ipython",
    "version": 3
   },
   "file_extension": ".py",
   "mimetype": "text/x-python",
   "name": "python",
   "nbconvert_exporter": "python",
   "pygments_lexer": "ipython3",
   "version": "3.7.3"
  },
  "varInspector": {
   "cols": {
    "lenName": 16,
    "lenType": 16,
    "lenVar": 40
   },
   "kernels_config": {
    "python": {
     "delete_cmd_postfix": "",
     "delete_cmd_prefix": "del ",
     "library": "var_list.py",
     "varRefreshCmd": "print(var_dic_list())"
    },
    "r": {
     "delete_cmd_postfix": ") ",
     "delete_cmd_prefix": "rm(",
     "library": "var_list.r",
     "varRefreshCmd": "cat(var_dic_list()) "
    }
   },
   "types_to_exclude": [
    "module",
    "function",
    "builtin_function_or_method",
    "instance",
    "_Feature"
   ],
   "window_display": false
  }
 },
 "nbformat": 4,
 "nbformat_minor": 2
}
