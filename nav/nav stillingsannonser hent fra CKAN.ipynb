{
 "cells": [
  {
   "cell_type": "code",
   "execution_count": 116,
   "metadata": {},
   "outputs": [],
   "source": [
    "import dataverk as dv\n",
    "from dataverk_tools.themes import nav\n",
    "\n",
    "import pandas as pd\n",
    "import ipywidgets as widgets\n",
    "\n",
    "import plotly.graph_objs as go\n",
    "import plotly.io as plio\n",
    "import plotly_express as px\n",
    "import plotly.figure_factory as ff\n",
    "\n",
    "import numpy as np\n",
    "\n",
    "import requests\n",
    "import shutil\n",
    "import gzip\n",
    "import timeit"
   ]
  },
  {
   "cell_type": "markdown",
   "metadata": {},
   "source": [
    "# Stillingsannonser uten annonsetekst"
   ]
  },
  {
   "cell_type": "code",
   "execution_count": 13,
   "metadata": {},
   "outputs": [],
   "source": [
    "url_2002 = 'https://data.nav.no/dataset/2ef3341c-235a-4549-b15e-8359d51ae3b4/resource/3e5a7576-13d6-4057-b3e3-1f84940f25b7/download/ledige_stillinger_meldt_til_nav_2002.csv'"
   ]
  },
  {
   "cell_type": "code",
   "execution_count": 14,
   "metadata": {},
   "outputs": [],
   "source": [
    "url_2003 = 'https://data.nav.no/dataset/2ef3341c-235a-4549-b15e-8359d51ae3b4/resource/0c2e7e89-248c-4840-83c4-54906fc42348/download/ledige_stillinger_meldt_til_nav_2003.csv'"
   ]
  },
  {
   "cell_type": "code",
   "execution_count": 15,
   "metadata": {},
   "outputs": [],
   "source": [
    "url_2004 = 'https://data.nav.no/dataset/2ef3341c-235a-4549-b15e-8359d51ae3b4/resource/5d5836f2-d680-4e02-824a-7dc003398869/download/ledige_stillinger_meldt_til_nav_2004.csv'"
   ]
  },
  {
   "cell_type": "code",
   "execution_count": 16,
   "metadata": {},
   "outputs": [],
   "source": [
    "url_2005 = 'https://data.nav.no/dataset/2ef3341c-235a-4549-b15e-8359d51ae3b4/resource/c87de39e-73fb-4018-b925-062f55067e53/download/ledige_stillinger_meldt_til_nav_2005.csv'"
   ]
  },
  {
   "cell_type": "code",
   "execution_count": 17,
   "metadata": {},
   "outputs": [],
   "source": [
    "url_2006 = 'https://data.nav.no/dataset/2ef3341c-235a-4549-b15e-8359d51ae3b4/resource/4fa9df6e-8ad1-4dce-9586-1a74f3d59b6c/download/ledige_stillinger_meldt_til_nav_2006.csv'"
   ]
  },
  {
   "cell_type": "code",
   "execution_count": 18,
   "metadata": {},
   "outputs": [],
   "source": [
    "url_2007 =  'https://data.nav.no/dataset/2ef3341c-235a-4549-b15e-8359d51ae3b4/resource/e14110ab-89e3-49a1-8aa5-722105f03b28/download/ledige_stillinger_meldt_til_nav_2007.csv'"
   ]
  },
  {
   "cell_type": "code",
   "execution_count": 19,
   "metadata": {},
   "outputs": [],
   "source": [
    "url_2008 = 'https://data.nav.no/dataset/2ef3341c-235a-4549-b15e-8359d51ae3b4/resource/019f9677-8dae-49f0-bfd0-197c263e0c8f/download/ledige_stillinger_meldt_til_nav_2008.csv'"
   ]
  },
  {
   "cell_type": "code",
   "execution_count": 20,
   "metadata": {},
   "outputs": [],
   "source": [
    "url_2009 = 'https://data.nav.no/dataset/2ef3341c-235a-4549-b15e-8359d51ae3b4/resource/a14291d7-68b2-4928-ad8f-26ae79f20727/download/ledige_stillinger_meldt_til_nav_2009.csv'"
   ]
  },
  {
   "cell_type": "code",
   "execution_count": 21,
   "metadata": {},
   "outputs": [],
   "source": [
    "url_2010 = 'https://data.nav.no/dataset/2ef3341c-235a-4549-b15e-8359d51ae3b4/resource/45c104d5-177d-497e-8122-e708ae6e879a/download/ledige_stillinger_meldt_til_nav_2010.csv'"
   ]
  },
  {
   "cell_type": "code",
   "execution_count": 22,
   "metadata": {},
   "outputs": [],
   "source": [
    "url_2011 = 'https://data.nav.no/dataset/2ef3341c-235a-4549-b15e-8359d51ae3b4/resource/d01263a5-28d8-4865-8d8a-9d61e7de4c9c/download/ledige_stillinger_meldt_til_nav_2011.csv'"
   ]
  },
  {
   "cell_type": "code",
   "execution_count": 23,
   "metadata": {},
   "outputs": [],
   "source": [
    "url_2012 = 'https://data.nav.no/dataset/2ef3341c-235a-4549-b15e-8359d51ae3b4/resource/c3999370-cbee-41a1-88bf-76ecff320c3f/download/ledige_stillinger_meldt_til_nav_2012.csv'"
   ]
  },
  {
   "cell_type": "code",
   "execution_count": 24,
   "metadata": {},
   "outputs": [],
   "source": [
    "url_2013 = 'https://data.nav.no/dataset/2ef3341c-235a-4549-b15e-8359d51ae3b4/resource/02976829-7a11-4750-b6ec-b48250f66fef/download/ledige_stillinger_meldt_til_nav_2013.csv'"
   ]
  },
  {
   "cell_type": "code",
   "execution_count": 25,
   "metadata": {},
   "outputs": [],
   "source": [
    "url_2014 = 'https://data.nav.no/dataset/2ef3341c-235a-4549-b15e-8359d51ae3b4/resource/e49bd600-bf4f-4075-8046-d8c038d1f675/download/ledige_stillinger_meldt_til_nav_2014.csv'"
   ]
  },
  {
   "cell_type": "code",
   "execution_count": 26,
   "metadata": {},
   "outputs": [],
   "source": [
    "url_2015 = 'https://data.nav.no/dataset/2ef3341c-235a-4549-b15e-8359d51ae3b4/resource/e5818fa9-0b80-41b7-af06-7f6e51e2409e/download/ledige_stillinger_meldt_til_nav_2015.csv'"
   ]
  },
  {
   "cell_type": "code",
   "execution_count": 27,
   "metadata": {},
   "outputs": [],
   "source": [
    "url_2016 = 'https://data.nav.no/dataset/2ef3341c-235a-4549-b15e-8359d51ae3b4/resource/2c3b43d9-dd2a-42fc-8a08-8dd1a848bc96/download/ledige_stillinger_meldt_til_nav_2016.csv'"
   ]
  },
  {
   "cell_type": "code",
   "execution_count": 28,
   "metadata": {},
   "outputs": [],
   "source": [
    "url_2016_12 = 'https://data.nav.no/dataset/2ef3341c-235a-4549-b15e-8359d51ae3b4/resource/eff24171-6044-4555-b221-5ef3ce5ae159/download/ledige_stillinger_meldt_til_nav_2016_12.csv'"
   ]
  },
  {
   "cell_type": "code",
   "execution_count": 29,
   "metadata": {},
   "outputs": [],
   "source": [
    "url_2017 = 'https://data.nav.no/dataset/2ef3341c-235a-4549-b15e-8359d51ae3b4/resource/dfc271f3-3172-4f5c-9678-756c20db8c52/download/ledige_stillinger_meldt_til_nav_2017.csv'"
   ]
  },
  {
   "cell_type": "code",
   "execution_count": 30,
   "metadata": {},
   "outputs": [],
   "source": [
    "url_2018 = 'https://data.nav.no/dataset/2ef3341c-235a-4549-b15e-8359d51ae3b4/resource/59152ff0-7288-47c3-b4ea-e379b46b188c/download/ledige_stillinger_meldt_til_nav_2018.csv'"
   ]
  },
  {
   "cell_type": "code",
   "execution_count": 31,
   "metadata": {},
   "outputs": [],
   "source": [
    "url_2019 = 'https://data.nav.no/dataset/2ef3341c-235a-4549-b15e-8359d51ae3b4/resource/f309f951-0e11-45fc-a310-81815378d8fb/download/ledige_stillinger_meldt_til_nav_2019.csv'"
   ]
  },
  {
   "cell_type": "code",
   "execution_count": 130,
   "metadata": {},
   "outputs": [],
   "source": [
    "data_urls = {'2019': url_2019, '2018': url_2018, '2017': url_2017, '2016_12': url_2016_12,\n",
    "        '2016': url_2016, '2015': url_2015, '2014': url_2014,\n",
    "        '2013': url_2013, '2012': url_2012, '2011': url_2011, \n",
    "        '2010': url_2010, '2009': url_2009, '2008': url_2008,\n",
    "        '2007': url_2007, '2006': url_2006, '2005': url_2005,\n",
    "        '2004': url_2004, '2003': url_2003, '2002': url_2002,\n",
    "       }"
   ]
  },
  {
   "cell_type": "code",
   "execution_count": 128,
   "metadata": {},
   "outputs": [
    {
     "name": "stdout",
     "output_type": "stream",
     "text": [
      "2019\n",
      "https://data.nav.no/dataset/2ef3341c-235a-4549-b15e-8359d51ae3b4/resource/f309f951-0e11-45fc-a310-81815378d8fb/download/ledige_stillinger_meldt_til_nav_2019.csv\n"
     ]
    },
    {
     "name": "stderr",
     "output_type": "stream",
     "text": [
      "/Users/B149899/anaconda3/envs/dv/lib/python3.7/site-packages/urllib3/connectionpool.py:847: InsecureRequestWarning:\n",
      "\n",
      "Unverified HTTPS request is being made. Adding certificate verification is strongly advised. See: https://urllib3.readthedocs.io/en/latest/advanced-usage.html#ssl-warnings\n",
      "\n"
     ]
    },
    {
     "name": "stdout",
     "output_type": "stream",
     "text": [
      "0.12  min\n",
      "2018\n",
      "https://data.nav.no/dataset/2ef3341c-235a-4549-b15e-8359d51ae3b4/resource/59152ff0-7288-47c3-b4ea-e379b46b188c/download/ledige_stillinger_meldt_til_nav_2018.csv\n"
     ]
    },
    {
     "name": "stderr",
     "output_type": "stream",
     "text": [
      "/Users/B149899/anaconda3/envs/dv/lib/python3.7/site-packages/urllib3/connectionpool.py:847: InsecureRequestWarning:\n",
      "\n",
      "Unverified HTTPS request is being made. Adding certificate verification is strongly advised. See: https://urllib3.readthedocs.io/en/latest/advanced-usage.html#ssl-warnings\n",
      "\n"
     ]
    },
    {
     "name": "stdout",
     "output_type": "stream",
     "text": [
      "0.27  min\n",
      "2017\n",
      "https://data.nav.no/dataset/2ef3341c-235a-4549-b15e-8359d51ae3b4/resource/dfc271f3-3172-4f5c-9678-756c20db8c52/download/ledige_stillinger_meldt_til_nav_2017.csv\n"
     ]
    },
    {
     "name": "stderr",
     "output_type": "stream",
     "text": [
      "/Users/B149899/anaconda3/envs/dv/lib/python3.7/site-packages/urllib3/connectionpool.py:847: InsecureRequestWarning:\n",
      "\n",
      "Unverified HTTPS request is being made. Adding certificate verification is strongly advised. See: https://urllib3.readthedocs.io/en/latest/advanced-usage.html#ssl-warnings\n",
      "\n"
     ]
    },
    {
     "name": "stdout",
     "output_type": "stream",
     "text": [
      "0.21  min\n",
      "2016_12\n",
      "https://data.nav.no/dataset/2ef3341c-235a-4549-b15e-8359d51ae3b4/resource/eff24171-6044-4555-b221-5ef3ce5ae159/download/ledige_stillinger_meldt_til_nav_2016_12.csv\n"
     ]
    },
    {
     "name": "stderr",
     "output_type": "stream",
     "text": [
      "/Users/B149899/anaconda3/envs/dv/lib/python3.7/site-packages/urllib3/connectionpool.py:847: InsecureRequestWarning:\n",
      "\n",
      "Unverified HTTPS request is being made. Adding certificate verification is strongly advised. See: https://urllib3.readthedocs.io/en/latest/advanced-usage.html#ssl-warnings\n",
      "\n"
     ]
    },
    {
     "name": "stdout",
     "output_type": "stream",
     "text": [
      "0.04  min\n",
      "2016\n",
      "https://data.nav.no/dataset/2ef3341c-235a-4549-b15e-8359d51ae3b4/resource/2c3b43d9-dd2a-42fc-8a08-8dd1a848bc96/download/ledige_stillinger_meldt_til_nav_2016.csv\n"
     ]
    },
    {
     "name": "stderr",
     "output_type": "stream",
     "text": [
      "/Users/B149899/anaconda3/envs/dv/lib/python3.7/site-packages/urllib3/connectionpool.py:847: InsecureRequestWarning:\n",
      "\n",
      "Unverified HTTPS request is being made. Adding certificate verification is strongly advised. See: https://urllib3.readthedocs.io/en/latest/advanced-usage.html#ssl-warnings\n",
      "\n"
     ]
    },
    {
     "name": "stdout",
     "output_type": "stream",
     "text": [
      "0.17  min\n",
      "2015\n",
      "https://data.nav.no/dataset/2ef3341c-235a-4549-b15e-8359d51ae3b4/resource/e5818fa9-0b80-41b7-af06-7f6e51e2409e/download/ledige_stillinger_meldt_til_nav_2015.csv\n"
     ]
    },
    {
     "name": "stderr",
     "output_type": "stream",
     "text": [
      "/Users/B149899/anaconda3/envs/dv/lib/python3.7/site-packages/urllib3/connectionpool.py:847: InsecureRequestWarning:\n",
      "\n",
      "Unverified HTTPS request is being made. Adding certificate verification is strongly advised. See: https://urllib3.readthedocs.io/en/latest/advanced-usage.html#ssl-warnings\n",
      "\n"
     ]
    },
    {
     "name": "stdout",
     "output_type": "stream",
     "text": [
      "0.17  min\n",
      "2014\n",
      "https://data.nav.no/dataset/2ef3341c-235a-4549-b15e-8359d51ae3b4/resource/e49bd600-bf4f-4075-8046-d8c038d1f675/download/ledige_stillinger_meldt_til_nav_2014.csv\n"
     ]
    },
    {
     "name": "stderr",
     "output_type": "stream",
     "text": [
      "/Users/B149899/anaconda3/envs/dv/lib/python3.7/site-packages/urllib3/connectionpool.py:847: InsecureRequestWarning:\n",
      "\n",
      "Unverified HTTPS request is being made. Adding certificate verification is strongly advised. See: https://urllib3.readthedocs.io/en/latest/advanced-usage.html#ssl-warnings\n",
      "\n"
     ]
    },
    {
     "name": "stdout",
     "output_type": "stream",
     "text": [
      "0.17  min\n",
      "2013\n",
      "https://data.nav.no/dataset/2ef3341c-235a-4549-b15e-8359d51ae3b4/resource/02976829-7a11-4750-b6ec-b48250f66fef/download/ledige_stillinger_meldt_til_nav_2013.csv\n"
     ]
    },
    {
     "name": "stderr",
     "output_type": "stream",
     "text": [
      "/Users/B149899/anaconda3/envs/dv/lib/python3.7/site-packages/urllib3/connectionpool.py:847: InsecureRequestWarning:\n",
      "\n",
      "Unverified HTTPS request is being made. Adding certificate verification is strongly advised. See: https://urllib3.readthedocs.io/en/latest/advanced-usage.html#ssl-warnings\n",
      "\n"
     ]
    },
    {
     "name": "stdout",
     "output_type": "stream",
     "text": [
      "0.18  min\n",
      "2012\n",
      "https://data.nav.no/dataset/2ef3341c-235a-4549-b15e-8359d51ae3b4/resource/c3999370-cbee-41a1-88bf-76ecff320c3f/download/ledige_stillinger_meldt_til_nav_2012.csv\n"
     ]
    },
    {
     "name": "stderr",
     "output_type": "stream",
     "text": [
      "/Users/B149899/anaconda3/envs/dv/lib/python3.7/site-packages/urllib3/connectionpool.py:847: InsecureRequestWarning:\n",
      "\n",
      "Unverified HTTPS request is being made. Adding certificate verification is strongly advised. See: https://urllib3.readthedocs.io/en/latest/advanced-usage.html#ssl-warnings\n",
      "\n"
     ]
    },
    {
     "name": "stdout",
     "output_type": "stream",
     "text": [
      "0.18  min\n",
      "2011\n",
      "https://data.nav.no/dataset/2ef3341c-235a-4549-b15e-8359d51ae3b4/resource/d01263a5-28d8-4865-8d8a-9d61e7de4c9c/download/ledige_stillinger_meldt_til_nav_2011.csv\n"
     ]
    },
    {
     "name": "stderr",
     "output_type": "stream",
     "text": [
      "/Users/B149899/anaconda3/envs/dv/lib/python3.7/site-packages/urllib3/connectionpool.py:847: InsecureRequestWarning:\n",
      "\n",
      "Unverified HTTPS request is being made. Adding certificate verification is strongly advised. See: https://urllib3.readthedocs.io/en/latest/advanced-usage.html#ssl-warnings\n",
      "\n"
     ]
    },
    {
     "name": "stdout",
     "output_type": "stream",
     "text": [
      "0.2  min\n",
      "2010\n",
      "https://data.nav.no/dataset/2ef3341c-235a-4549-b15e-8359d51ae3b4/resource/45c104d5-177d-497e-8122-e708ae6e879a/download/ledige_stillinger_meldt_til_nav_2010.csv\n"
     ]
    },
    {
     "name": "stderr",
     "output_type": "stream",
     "text": [
      "/Users/B149899/anaconda3/envs/dv/lib/python3.7/site-packages/urllib3/connectionpool.py:847: InsecureRequestWarning:\n",
      "\n",
      "Unverified HTTPS request is being made. Adding certificate verification is strongly advised. See: https://urllib3.readthedocs.io/en/latest/advanced-usage.html#ssl-warnings\n",
      "\n"
     ]
    },
    {
     "name": "stdout",
     "output_type": "stream",
     "text": [
      "0.2  min\n",
      "2009\n",
      "https://data.nav.no/dataset/2ef3341c-235a-4549-b15e-8359d51ae3b4/resource/a14291d7-68b2-4928-ad8f-26ae79f20727/download/ledige_stillinger_meldt_til_nav_2009.csv\n"
     ]
    },
    {
     "name": "stderr",
     "output_type": "stream",
     "text": [
      "/Users/B149899/anaconda3/envs/dv/lib/python3.7/site-packages/urllib3/connectionpool.py:847: InsecureRequestWarning:\n",
      "\n",
      "Unverified HTTPS request is being made. Adding certificate verification is strongly advised. See: https://urllib3.readthedocs.io/en/latest/advanced-usage.html#ssl-warnings\n",
      "\n"
     ]
    },
    {
     "name": "stdout",
     "output_type": "stream",
     "text": [
      "0.2  min\n",
      "2008\n",
      "https://data.nav.no/dataset/2ef3341c-235a-4549-b15e-8359d51ae3b4/resource/019f9677-8dae-49f0-bfd0-197c263e0c8f/download/ledige_stillinger_meldt_til_nav_2008.csv\n"
     ]
    },
    {
     "name": "stderr",
     "output_type": "stream",
     "text": [
      "/Users/B149899/anaconda3/envs/dv/lib/python3.7/site-packages/urllib3/connectionpool.py:847: InsecureRequestWarning:\n",
      "\n",
      "Unverified HTTPS request is being made. Adding certificate verification is strongly advised. See: https://urllib3.readthedocs.io/en/latest/advanced-usage.html#ssl-warnings\n",
      "\n"
     ]
    },
    {
     "name": "stdout",
     "output_type": "stream",
     "text": [
      "0.26  min\n",
      "2007\n",
      "https://data.nav.no/dataset/2ef3341c-235a-4549-b15e-8359d51ae3b4/resource/e14110ab-89e3-49a1-8aa5-722105f03b28/download/ledige_stillinger_meldt_til_nav_2007.csv\n"
     ]
    },
    {
     "name": "stderr",
     "output_type": "stream",
     "text": [
      "/Users/B149899/anaconda3/envs/dv/lib/python3.7/site-packages/urllib3/connectionpool.py:847: InsecureRequestWarning:\n",
      "\n",
      "Unverified HTTPS request is being made. Adding certificate verification is strongly advised. See: https://urllib3.readthedocs.io/en/latest/advanced-usage.html#ssl-warnings\n",
      "\n"
     ]
    },
    {
     "name": "stdout",
     "output_type": "stream",
     "text": [
      "0.4  min\n",
      "2006\n",
      "https://data.nav.no/dataset/2ef3341c-235a-4549-b15e-8359d51ae3b4/resource/4fa9df6e-8ad1-4dce-9586-1a74f3d59b6c/download/ledige_stillinger_meldt_til_nav_2006.csv\n"
     ]
    },
    {
     "name": "stderr",
     "output_type": "stream",
     "text": [
      "/Users/B149899/anaconda3/envs/dv/lib/python3.7/site-packages/urllib3/connectionpool.py:847: InsecureRequestWarning:\n",
      "\n",
      "Unverified HTTPS request is being made. Adding certificate verification is strongly advised. See: https://urllib3.readthedocs.io/en/latest/advanced-usage.html#ssl-warnings\n",
      "\n"
     ]
    },
    {
     "name": "stdout",
     "output_type": "stream",
     "text": [
      "0.23  min\n",
      "2005\n",
      "https://data.nav.no/dataset/2ef3341c-235a-4549-b15e-8359d51ae3b4/resource/c87de39e-73fb-4018-b925-062f55067e53/download/ledige_stillinger_meldt_til_nav_2005.csv\n"
     ]
    },
    {
     "name": "stderr",
     "output_type": "stream",
     "text": [
      "/Users/B149899/anaconda3/envs/dv/lib/python3.7/site-packages/urllib3/connectionpool.py:847: InsecureRequestWarning:\n",
      "\n",
      "Unverified HTTPS request is being made. Adding certificate verification is strongly advised. See: https://urllib3.readthedocs.io/en/latest/advanced-usage.html#ssl-warnings\n",
      "\n"
     ]
    },
    {
     "name": "stdout",
     "output_type": "stream",
     "text": [
      "0.18  min\n",
      "2004\n",
      "https://data.nav.no/dataset/2ef3341c-235a-4549-b15e-8359d51ae3b4/resource/5d5836f2-d680-4e02-824a-7dc003398869/download/ledige_stillinger_meldt_til_nav_2004.csv\n"
     ]
    },
    {
     "name": "stderr",
     "output_type": "stream",
     "text": [
      "/Users/B149899/anaconda3/envs/dv/lib/python3.7/site-packages/urllib3/connectionpool.py:847: InsecureRequestWarning:\n",
      "\n",
      "Unverified HTTPS request is being made. Adding certificate verification is strongly advised. See: https://urllib3.readthedocs.io/en/latest/advanced-usage.html#ssl-warnings\n",
      "\n"
     ]
    },
    {
     "name": "stdout",
     "output_type": "stream",
     "text": [
      "0.14  min\n",
      "2003\n",
      "https://data.nav.no/dataset/2ef3341c-235a-4549-b15e-8359d51ae3b4/resource/0c2e7e89-248c-4840-83c4-54906fc42348/download/ledige_stillinger_meldt_til_nav_2003.csv\n"
     ]
    },
    {
     "name": "stderr",
     "output_type": "stream",
     "text": [
      "/Users/B149899/anaconda3/envs/dv/lib/python3.7/site-packages/urllib3/connectionpool.py:847: InsecureRequestWarning:\n",
      "\n",
      "Unverified HTTPS request is being made. Adding certificate verification is strongly advised. See: https://urllib3.readthedocs.io/en/latest/advanced-usage.html#ssl-warnings\n",
      "\n"
     ]
    },
    {
     "name": "stdout",
     "output_type": "stream",
     "text": [
      "0.16  min\n",
      "2002\n",
      "https://data.nav.no/dataset/2ef3341c-235a-4549-b15e-8359d51ae3b4/resource/3e5a7576-13d6-4057-b3e3-1f84940f25b7/download/ledige_stillinger_meldt_til_nav_2002.csv\n"
     ]
    },
    {
     "name": "stderr",
     "output_type": "stream",
     "text": [
      "/Users/B149899/anaconda3/envs/dv/lib/python3.7/site-packages/urllib3/connectionpool.py:847: InsecureRequestWarning:\n",
      "\n",
      "Unverified HTTPS request is being made. Adding certificate verification is strongly advised. See: https://urllib3.readthedocs.io/en/latest/advanced-usage.html#ssl-warnings\n",
      "\n"
     ]
    },
    {
     "name": "stdout",
     "output_type": "stream",
     "text": [
      "0.17  min\n"
     ]
    }
   ],
   "source": [
    "for url in data_urls:\n",
    "    start = timeit.default_timer()\n",
    "    print(url)\n",
    "    print(data_urls[url])\n",
    "    \n",
    "    with requests.get(data_urls[url], stream=True, verify=False) as r:\n",
    "        with gzip.open(f'data/stillinger_{url}_data.csv.gz', \"wb\") as f:\n",
    "            shutil.copyfileobj(r.raw, f)\n",
    "            \n",
    "    end = timeit.default_timer()\n",
    "    print(np.round((end-start)/60,2),' min')"
   ]
  },
  {
   "cell_type": "code",
   "execution_count": 154,
   "metadata": {},
   "outputs": [],
   "source": [
    "with gzip.open('data/stillinger_2016_data.csv.gz', 'a') as d:\n",
    "    with gzip.open('data/stillinger_2016_12_data.csv.gz', 'r') as s:\n",
    "        shutil.copyfileobj(s, d)"
   ]
  },
  {
   "cell_type": "markdown",
   "metadata": {},
   "source": [
    "# Stillingstekster"
   ]
  },
  {
   "cell_type": "code",
   "execution_count": 103,
   "metadata": {},
   "outputs": [],
   "source": [
    "url_2002_tekst = 'https://data.nav.no/dataset/408fc52c-b50e-4ee7-a620-305eaa5d56e7/resource/5903148d-1f59-43e5-8c17-a6ca1e0e28eb/download/stillingstekster-2002.csv'"
   ]
  },
  {
   "cell_type": "code",
   "execution_count": 104,
   "metadata": {},
   "outputs": [],
   "source": [
    "url_2003_tekst = 'https://data.nav.no/dataset/408fc52c-b50e-4ee7-a620-305eaa5d56e7/resource/829ca336-e1c9-4d55-a7bd-7efddee9037e/download/stillingstekster-2003.csv'"
   ]
  },
  {
   "cell_type": "code",
   "execution_count": 105,
   "metadata": {},
   "outputs": [],
   "source": [
    "url_2004_tekst = 'https://data.nav.no/dataset/408fc52c-b50e-4ee7-a620-305eaa5d56e7/resource/6af96757-ed70-4d97-b266-c0deecb7c452/download/stillingstekster-2004.csv'"
   ]
  },
  {
   "cell_type": "code",
   "execution_count": 106,
   "metadata": {},
   "outputs": [],
   "source": [
    "url_2005_tekst = 'https://data.nav.no/dataset/408fc52c-b50e-4ee7-a620-305eaa5d56e7/resource/a75409b5-66b7-4780-8e9b-c6ed27c17ebd/download/stillingstekster-2005.csv'"
   ]
  },
  {
   "cell_type": "code",
   "execution_count": 107,
   "metadata": {},
   "outputs": [],
   "source": [
    "url_2006_tekst = 'https://data.nav.no/dataset/408fc52c-b50e-4ee7-a620-305eaa5d56e7/resource/d66b82d8-b7f7-4c7e-8564-55f6ce78323a/download/stillingstekster-2006.csv'"
   ]
  },
  {
   "cell_type": "code",
   "execution_count": 108,
   "metadata": {},
   "outputs": [],
   "source": [
    "url_2007_tekst = 'https://data.nav.no/dataset/408fc52c-b50e-4ee7-a620-305eaa5d56e7/resource/e5b49ca4-f54b-404b-be3e-dc3b9088e316/download/stillingstekster-2007.csv'"
   ]
  },
  {
   "cell_type": "code",
   "execution_count": 109,
   "metadata": {},
   "outputs": [],
   "source": [
    "url_2008_tekst = 'https://data.nav.no/dataset/408fc52c-b50e-4ee7-a620-305eaa5d56e7/resource/ae50c039-4c85-4b5f-bb06-6ede077b3341/download/stillingstekster-2008.csv'"
   ]
  },
  {
   "cell_type": "code",
   "execution_count": 82,
   "metadata": {},
   "outputs": [],
   "source": [
    "url_2009_tekst = 'https://data.nav.no/dataset/408fc52c-b50e-4ee7-a620-305eaa5d56e7/resource/bef7d5b3-51ee-4c69-85ce-6d2348eec809/download/stillingstekster-2009.csv'"
   ]
  },
  {
   "cell_type": "code",
   "execution_count": 83,
   "metadata": {},
   "outputs": [],
   "source": [
    "url_2010_tekst = 'https://data.nav.no/dataset/408fc52c-b50e-4ee7-a620-305eaa5d56e7/resource/89649db4-6313-4275-9302-9eaabc8a62f0/download/stillingstekster-2010.csv'"
   ]
  },
  {
   "cell_type": "code",
   "execution_count": 84,
   "metadata": {},
   "outputs": [],
   "source": [
    "url_2011_tekst = 'https://data.nav.no/dataset/408fc52c-b50e-4ee7-a620-305eaa5d56e7/resource/bae777b7-cdde-4346-8885-9a733fd7ac52/download/stillingstekster-2011.csv'"
   ]
  },
  {
   "cell_type": "code",
   "execution_count": 85,
   "metadata": {},
   "outputs": [],
   "source": [
    "url_2012_tekst = 'https://data.nav.no/dataset/408fc52c-b50e-4ee7-a620-305eaa5d56e7/resource/95ef8de8-d368-4507-9261-0b6742105b1a/download/stillingstekster-2012.csv'"
   ]
  },
  {
   "cell_type": "code",
   "execution_count": 86,
   "metadata": {},
   "outputs": [],
   "source": [
    "url_2013_tekst = 'https://data.nav.no/dataset/408fc52c-b50e-4ee7-a620-305eaa5d56e7/resource/dfa11f7f-ae91-4669-8703-90c8ff805d9e/download/stillingstekster-2013.csv'"
   ]
  },
  {
   "cell_type": "code",
   "execution_count": 87,
   "metadata": {},
   "outputs": [],
   "source": [
    "url_2014_tekst = 'https://data.nav.no/dataset/408fc52c-b50e-4ee7-a620-305eaa5d56e7/resource/da2ded47-b1e0-4fc8-8846-7bfd13b4adbb/download/stillingstekster-2014.csv'"
   ]
  },
  {
   "cell_type": "code",
   "execution_count": 88,
   "metadata": {},
   "outputs": [],
   "source": [
    "url_2015_tekst = 'https://data.nav.no/dataset/408fc52c-b50e-4ee7-a620-305eaa5d56e7/resource/12235470-d135-489b-b526-78bec9da64c9/download/stillingstekster-2015.csv'"
   ]
  },
  {
   "cell_type": "code",
   "execution_count": 89,
   "metadata": {},
   "outputs": [],
   "source": [
    "url_2016_tekst = 'https://data.nav.no/dataset/408fc52c-b50e-4ee7-a620-305eaa5d56e7/resource/b807c364-2887-4ee8-b7ff-55d12abf1cd2/download/stillingstekster-2016.csv'"
   ]
  },
  {
   "cell_type": "code",
   "execution_count": 90,
   "metadata": {},
   "outputs": [],
   "source": [
    "url_2017_tekst = 'https://data.nav.no/dataset/408fc52c-b50e-4ee7-a620-305eaa5d56e7/resource/45b3f5e5-2ac7-4cfa-8cfa-8c10d47ba20f/download/stillingstekster-2017.csv'"
   ]
  },
  {
   "cell_type": "code",
   "execution_count": 91,
   "metadata": {},
   "outputs": [],
   "source": [
    "url_2018_tekst ='https://data.nav.no/dataset/408fc52c-b50e-4ee7-a620-305eaa5d56e7/resource/882e3e0f-cd3c-4d3a-8072-be7ba7b3d272/download/stillingstekster-2018.csv'"
   ]
  },
  {
   "cell_type": "code",
   "execution_count": 94,
   "metadata": {},
   "outputs": [],
   "source": [
    "url_2019_tekst = 'https://data.nav.no/dataset/408fc52c-b50e-4ee7-a620-305eaa5d56e7/resource/d064bad7-2073-429a-9aa7-88a345392c79/download/stillingstekster-2019.csv'"
   ]
  },
  {
   "cell_type": "code",
   "execution_count": 121,
   "metadata": {},
   "outputs": [],
   "source": [
    "text_urls = {'2019': url_2019_tekst, '2018': url_2018_tekst, '2017': url_2017_tekst, \n",
    "        '2016': url_2016_tekst, '2015': url_2015_tekst, '2014': url_2014_tekst,\n",
    "        '2013': url_2013_tekst, '2012': url_2012_tekst, '2011': url_2011_tekst, \n",
    "        '2010': url_2010_tekst, '2009': url_2009_tekst, '2008': url_2008_tekst,\n",
    "        '2007': url_2007_tekst, '2006': url_2006_tekst, '2005': url_2005_tekst,\n",
    "        '2004': url_2004_tekst, '2003': url_2003_tekst, '2002': url_2002_tekst,\n",
    "       }"
   ]
  },
  {
   "cell_type": "code",
   "execution_count": 123,
   "metadata": {},
   "outputs": [
    {
     "name": "stdout",
     "output_type": "stream",
     "text": [
      "2019\n",
      "https://data.nav.no/dataset/408fc52c-b50e-4ee7-a620-305eaa5d56e7/resource/d064bad7-2073-429a-9aa7-88a345392c79/download/stillingstekster-2019.csv\n"
     ]
    },
    {
     "name": "stderr",
     "output_type": "stream",
     "text": [
      "/Users/B149899/anaconda3/envs/dv/lib/python3.7/site-packages/urllib3/connectionpool.py:847: InsecureRequestWarning:\n",
      "\n",
      "Unverified HTTPS request is being made. Adding certificate verification is strongly advised. See: https://urllib3.readthedocs.io/en/latest/advanced-usage.html#ssl-warnings\n",
      "\n"
     ]
    },
    {
     "name": "stdout",
     "output_type": "stream",
     "text": [
      "0.4  min\n",
      "2018\n",
      "https://data.nav.no/dataset/408fc52c-b50e-4ee7-a620-305eaa5d56e7/resource/882e3e0f-cd3c-4d3a-8072-be7ba7b3d272/download/stillingstekster-2018.csv\n"
     ]
    },
    {
     "name": "stderr",
     "output_type": "stream",
     "text": [
      "/Users/B149899/anaconda3/envs/dv/lib/python3.7/site-packages/urllib3/connectionpool.py:847: InsecureRequestWarning:\n",
      "\n",
      "Unverified HTTPS request is being made. Adding certificate verification is strongly advised. See: https://urllib3.readthedocs.io/en/latest/advanced-usage.html#ssl-warnings\n",
      "\n"
     ]
    },
    {
     "name": "stdout",
     "output_type": "stream",
     "text": [
      "1.28  min\n",
      "2017\n",
      "https://data.nav.no/dataset/408fc52c-b50e-4ee7-a620-305eaa5d56e7/resource/45b3f5e5-2ac7-4cfa-8cfa-8c10d47ba20f/download/stillingstekster-2017.csv\n"
     ]
    },
    {
     "name": "stderr",
     "output_type": "stream",
     "text": [
      "/Users/B149899/anaconda3/envs/dv/lib/python3.7/site-packages/urllib3/connectionpool.py:847: InsecureRequestWarning:\n",
      "\n",
      "Unverified HTTPS request is being made. Adding certificate verification is strongly advised. See: https://urllib3.readthedocs.io/en/latest/advanced-usage.html#ssl-warnings\n",
      "\n"
     ]
    },
    {
     "name": "stdout",
     "output_type": "stream",
     "text": [
      "0.79  min\n",
      "2016\n",
      "https://data.nav.no/dataset/408fc52c-b50e-4ee7-a620-305eaa5d56e7/resource/b807c364-2887-4ee8-b7ff-55d12abf1cd2/download/stillingstekster-2016.csv\n"
     ]
    },
    {
     "name": "stderr",
     "output_type": "stream",
     "text": [
      "/Users/B149899/anaconda3/envs/dv/lib/python3.7/site-packages/urllib3/connectionpool.py:847: InsecureRequestWarning:\n",
      "\n",
      "Unverified HTTPS request is being made. Adding certificate verification is strongly advised. See: https://urllib3.readthedocs.io/en/latest/advanced-usage.html#ssl-warnings\n",
      "\n"
     ]
    },
    {
     "name": "stdout",
     "output_type": "stream",
     "text": [
      "0.64  min\n",
      "2015\n",
      "https://data.nav.no/dataset/408fc52c-b50e-4ee7-a620-305eaa5d56e7/resource/12235470-d135-489b-b526-78bec9da64c9/download/stillingstekster-2015.csv\n"
     ]
    },
    {
     "name": "stderr",
     "output_type": "stream",
     "text": [
      "/Users/B149899/anaconda3/envs/dv/lib/python3.7/site-packages/urllib3/connectionpool.py:847: InsecureRequestWarning:\n",
      "\n",
      "Unverified HTTPS request is being made. Adding certificate verification is strongly advised. See: https://urllib3.readthedocs.io/en/latest/advanced-usage.html#ssl-warnings\n",
      "\n"
     ]
    },
    {
     "name": "stdout",
     "output_type": "stream",
     "text": [
      "0.55  min\n",
      "2014\n",
      "https://data.nav.no/dataset/408fc52c-b50e-4ee7-a620-305eaa5d56e7/resource/da2ded47-b1e0-4fc8-8846-7bfd13b4adbb/download/stillingstekster-2014.csv\n"
     ]
    },
    {
     "name": "stderr",
     "output_type": "stream",
     "text": [
      "/Users/B149899/anaconda3/envs/dv/lib/python3.7/site-packages/urllib3/connectionpool.py:847: InsecureRequestWarning:\n",
      "\n",
      "Unverified HTTPS request is being made. Adding certificate verification is strongly advised. See: https://urllib3.readthedocs.io/en/latest/advanced-usage.html#ssl-warnings\n",
      "\n"
     ]
    },
    {
     "name": "stdout",
     "output_type": "stream",
     "text": [
      "0.54  min\n",
      "2013\n",
      "https://data.nav.no/dataset/408fc52c-b50e-4ee7-a620-305eaa5d56e7/resource/dfa11f7f-ae91-4669-8703-90c8ff805d9e/download/stillingstekster-2013.csv\n"
     ]
    },
    {
     "name": "stderr",
     "output_type": "stream",
     "text": [
      "/Users/B149899/anaconda3/envs/dv/lib/python3.7/site-packages/urllib3/connectionpool.py:847: InsecureRequestWarning:\n",
      "\n",
      "Unverified HTTPS request is being made. Adding certificate verification is strongly advised. See: https://urllib3.readthedocs.io/en/latest/advanced-usage.html#ssl-warnings\n",
      "\n"
     ]
    },
    {
     "name": "stdout",
     "output_type": "stream",
     "text": [
      "0.46  min\n",
      "2012\n",
      "https://data.nav.no/dataset/408fc52c-b50e-4ee7-a620-305eaa5d56e7/resource/95ef8de8-d368-4507-9261-0b6742105b1a/download/stillingstekster-2012.csv\n"
     ]
    },
    {
     "name": "stderr",
     "output_type": "stream",
     "text": [
      "/Users/B149899/anaconda3/envs/dv/lib/python3.7/site-packages/urllib3/connectionpool.py:847: InsecureRequestWarning:\n",
      "\n",
      "Unverified HTTPS request is being made. Adding certificate verification is strongly advised. See: https://urllib3.readthedocs.io/en/latest/advanced-usage.html#ssl-warnings\n",
      "\n"
     ]
    },
    {
     "name": "stdout",
     "output_type": "stream",
     "text": [
      "0.54  min\n",
      "2011\n",
      "https://data.nav.no/dataset/408fc52c-b50e-4ee7-a620-305eaa5d56e7/resource/bae777b7-cdde-4346-8885-9a733fd7ac52/download/stillingstekster-2011.csv\n"
     ]
    },
    {
     "name": "stderr",
     "output_type": "stream",
     "text": [
      "/Users/B149899/anaconda3/envs/dv/lib/python3.7/site-packages/urllib3/connectionpool.py:847: InsecureRequestWarning:\n",
      "\n",
      "Unverified HTTPS request is being made. Adding certificate verification is strongly advised. See: https://urllib3.readthedocs.io/en/latest/advanced-usage.html#ssl-warnings\n",
      "\n"
     ]
    },
    {
     "name": "stdout",
     "output_type": "stream",
     "text": [
      "0.41  min\n",
      "2010\n",
      "https://data.nav.no/dataset/408fc52c-b50e-4ee7-a620-305eaa5d56e7/resource/89649db4-6313-4275-9302-9eaabc8a62f0/download/stillingstekster-2010.csv\n"
     ]
    },
    {
     "name": "stderr",
     "output_type": "stream",
     "text": [
      "/Users/B149899/anaconda3/envs/dv/lib/python3.7/site-packages/urllib3/connectionpool.py:847: InsecureRequestWarning:\n",
      "\n",
      "Unverified HTTPS request is being made. Adding certificate verification is strongly advised. See: https://urllib3.readthedocs.io/en/latest/advanced-usage.html#ssl-warnings\n",
      "\n"
     ]
    },
    {
     "name": "stdout",
     "output_type": "stream",
     "text": [
      "0.38  min\n",
      "2009\n",
      "https://data.nav.no/dataset/408fc52c-b50e-4ee7-a620-305eaa5d56e7/resource/bef7d5b3-51ee-4c69-85ce-6d2348eec809/download/stillingstekster-2009.csv\n"
     ]
    },
    {
     "name": "stderr",
     "output_type": "stream",
     "text": [
      "/Users/B149899/anaconda3/envs/dv/lib/python3.7/site-packages/urllib3/connectionpool.py:847: InsecureRequestWarning:\n",
      "\n",
      "Unverified HTTPS request is being made. Adding certificate verification is strongly advised. See: https://urllib3.readthedocs.io/en/latest/advanced-usage.html#ssl-warnings\n",
      "\n"
     ]
    },
    {
     "name": "stdout",
     "output_type": "stream",
     "text": [
      "0.38  min\n",
      "2008\n",
      "https://data.nav.no/dataset/408fc52c-b50e-4ee7-a620-305eaa5d56e7/resource/ae50c039-4c85-4b5f-bb06-6ede077b3341/download/stillingstekster-2008.csv\n"
     ]
    },
    {
     "name": "stderr",
     "output_type": "stream",
     "text": [
      "/Users/B149899/anaconda3/envs/dv/lib/python3.7/site-packages/urllib3/connectionpool.py:847: InsecureRequestWarning:\n",
      "\n",
      "Unverified HTTPS request is being made. Adding certificate verification is strongly advised. See: https://urllib3.readthedocs.io/en/latest/advanced-usage.html#ssl-warnings\n",
      "\n"
     ]
    },
    {
     "name": "stdout",
     "output_type": "stream",
     "text": [
      "0.46  min\n",
      "2007\n",
      "https://data.nav.no/dataset/408fc52c-b50e-4ee7-a620-305eaa5d56e7/resource/e5b49ca4-f54b-404b-be3e-dc3b9088e316/download/stillingstekster-2007.csv\n"
     ]
    },
    {
     "name": "stderr",
     "output_type": "stream",
     "text": [
      "/Users/B149899/anaconda3/envs/dv/lib/python3.7/site-packages/urllib3/connectionpool.py:847: InsecureRequestWarning:\n",
      "\n",
      "Unverified HTTPS request is being made. Adding certificate verification is strongly advised. See: https://urllib3.readthedocs.io/en/latest/advanced-usage.html#ssl-warnings\n",
      "\n"
     ]
    },
    {
     "name": "stdout",
     "output_type": "stream",
     "text": [
      "0.45  min\n",
      "2006\n",
      "https://data.nav.no/dataset/408fc52c-b50e-4ee7-a620-305eaa5d56e7/resource/d66b82d8-b7f7-4c7e-8564-55f6ce78323a/download/stillingstekster-2006.csv\n"
     ]
    },
    {
     "name": "stderr",
     "output_type": "stream",
     "text": [
      "/Users/B149899/anaconda3/envs/dv/lib/python3.7/site-packages/urllib3/connectionpool.py:847: InsecureRequestWarning:\n",
      "\n",
      "Unverified HTTPS request is being made. Adding certificate verification is strongly advised. See: https://urllib3.readthedocs.io/en/latest/advanced-usage.html#ssl-warnings\n",
      "\n"
     ]
    },
    {
     "name": "stdout",
     "output_type": "stream",
     "text": [
      "0.39  min\n",
      "2005\n",
      "https://data.nav.no/dataset/408fc52c-b50e-4ee7-a620-305eaa5d56e7/resource/a75409b5-66b7-4780-8e9b-c6ed27c17ebd/download/stillingstekster-2005.csv\n"
     ]
    },
    {
     "name": "stderr",
     "output_type": "stream",
     "text": [
      "/Users/B149899/anaconda3/envs/dv/lib/python3.7/site-packages/urllib3/connectionpool.py:847: InsecureRequestWarning:\n",
      "\n",
      "Unverified HTTPS request is being made. Adding certificate verification is strongly advised. See: https://urllib3.readthedocs.io/en/latest/advanced-usage.html#ssl-warnings\n",
      "\n"
     ]
    },
    {
     "name": "stdout",
     "output_type": "stream",
     "text": [
      "0.27  min\n",
      "2004\n",
      "https://data.nav.no/dataset/408fc52c-b50e-4ee7-a620-305eaa5d56e7/resource/6af96757-ed70-4d97-b266-c0deecb7c452/download/stillingstekster-2004.csv\n"
     ]
    },
    {
     "name": "stderr",
     "output_type": "stream",
     "text": [
      "/Users/B149899/anaconda3/envs/dv/lib/python3.7/site-packages/urllib3/connectionpool.py:847: InsecureRequestWarning:\n",
      "\n",
      "Unverified HTTPS request is being made. Adding certificate verification is strongly advised. See: https://urllib3.readthedocs.io/en/latest/advanced-usage.html#ssl-warnings\n",
      "\n"
     ]
    },
    {
     "name": "stdout",
     "output_type": "stream",
     "text": [
      "0.24  min\n",
      "2003\n",
      "https://data.nav.no/dataset/408fc52c-b50e-4ee7-a620-305eaa5d56e7/resource/829ca336-e1c9-4d55-a7bd-7efddee9037e/download/stillingstekster-2003.csv\n"
     ]
    },
    {
     "name": "stderr",
     "output_type": "stream",
     "text": [
      "/Users/B149899/anaconda3/envs/dv/lib/python3.7/site-packages/urllib3/connectionpool.py:847: InsecureRequestWarning:\n",
      "\n",
      "Unverified HTTPS request is being made. Adding certificate verification is strongly advised. See: https://urllib3.readthedocs.io/en/latest/advanced-usage.html#ssl-warnings\n",
      "\n"
     ]
    },
    {
     "name": "stdout",
     "output_type": "stream",
     "text": [
      "0.24  min\n",
      "2002\n",
      "https://data.nav.no/dataset/408fc52c-b50e-4ee7-a620-305eaa5d56e7/resource/5903148d-1f59-43e5-8c17-a6ca1e0e28eb/download/stillingstekster-2002.csv\n"
     ]
    },
    {
     "name": "stderr",
     "output_type": "stream",
     "text": [
      "/Users/B149899/anaconda3/envs/dv/lib/python3.7/site-packages/urllib3/connectionpool.py:847: InsecureRequestWarning:\n",
      "\n",
      "Unverified HTTPS request is being made. Adding certificate verification is strongly advised. See: https://urllib3.readthedocs.io/en/latest/advanced-usage.html#ssl-warnings\n",
      "\n"
     ]
    },
    {
     "name": "stdout",
     "output_type": "stream",
     "text": [
      "0.23  min\n"
     ]
    }
   ],
   "source": [
    "for url in text_urls:\n",
    "    start = timeit.default_timer()\n",
    "    print(url)\n",
    "    print(text_urls[url])\n",
    "    \n",
    "    with requests.get(text_urls[url], stream=True, verify=False) as r:\n",
    "        with gzip.open(f'data/stillinger_{url}_tekst.csv.gz', \"wb\") as f:\n",
    "            shutil.copyfileobj(r.raw, f)\n",
    "            \n",
    "    end = timeit.default_timer()\n",
    "    print(np.round((end-start)/60,2),' min')\n"
   ]
  },
  {
   "cell_type": "code",
   "execution_count": 166,
   "metadata": {},
   "outputs": [
    {
     "name": "stdout",
     "output_type": "stream",
     "text": [
      "2002\n",
      "2003\n",
      "2004\n",
      "2005\n"
     ]
    },
    {
     "name": "stderr",
     "output_type": "stream",
     "text": [
      "/Users/B149899/anaconda3/envs/dv/lib/python3.7/site-packages/IPython/core/interactiveshell.py:3049: DtypeWarning:\n",
      "\n",
      "Columns (0,3) have mixed types. Specify dtype option on import or set low_memory=False.\n",
      "\n"
     ]
    },
    {
     "name": "stdout",
     "output_type": "stream",
     "text": [
      "2006\n",
      "2007\n",
      "2008\n",
      "2009\n",
      "2010\n",
      "2011\n"
     ]
    },
    {
     "name": "stderr",
     "output_type": "stream",
     "text": [
      "/Users/B149899/anaconda3/envs/dv/lib/python3.7/site-packages/IPython/core/interactiveshell.py:3049: DtypeWarning:\n",
      "\n",
      "Columns (9,11) have mixed types. Specify dtype option on import or set low_memory=False.\n",
      "\n"
     ]
    },
    {
     "name": "stdout",
     "output_type": "stream",
     "text": [
      "2012\n",
      "2013\n",
      "2014\n",
      "2015\n",
      "2016\n"
     ]
    },
    {
     "name": "stderr",
     "output_type": "stream",
     "text": [
      "/Users/B149899/anaconda3/envs/dv/lib/python3.7/site-packages/IPython/core/interactiveshell.py:3049: DtypeWarning:\n",
      "\n",
      "Columns (0,2,3,6,7,17,28) have mixed types. Specify dtype option on import or set low_memory=False.\n",
      "\n"
     ]
    },
    {
     "name": "stdout",
     "output_type": "stream",
     "text": [
      "2017\n",
      "2018\n"
     ]
    },
    {
     "name": "stderr",
     "output_type": "stream",
     "text": [
      "/Users/B149899/anaconda3/envs/dv/lib/python3.7/site-packages/IPython/core/interactiveshell.py:3049: DtypeWarning:\n",
      "\n",
      "Columns (1) have mixed types. Specify dtype option on import or set low_memory=False.\n",
      "\n"
     ]
    },
    {
     "name": "stdout",
     "output_type": "stream",
     "text": [
      "2019\n"
     ]
    }
   ],
   "source": [
    "for year in range(2002,2020):\n",
    "    print(year)\n",
    "    df_d = pd.read_csv(f'data/stillinger_{year}_data.csv.gz',sep=';')\n",
    "    df_t = pd.read_csv(f'data/stillinger_{year}_tekst.csv.gz',sep=';')\n",
    "    df_m = pd.merge(df_d, df_t, left_on='stillingsnummer_nav_no', right_on='Stillingsnummer nav no')\n",
    "    df_m.drop(['Stillingsnummer nav no','Stilling Id','Tittel vasket'], axis=1, inplace=True)\n",
    "    df_m.columns = [col.lower().replace(' ','_') for col in df_m.columns]\n",
    "    df_m.to_csv(f'data/stillinger_{year}_merged.csv.gz', compression='gzip', sep=';', index=False)"
   ]
  },
  {
   "cell_type": "code",
   "execution_count": null,
   "metadata": {},
   "outputs": [],
   "source": [
    "df_r = pd.read_csv(f'data/stillinger_2005_merged.csv.gz',sep=';')"
   ]
  },
  {
   "cell_type": "code",
   "execution_count": 187,
   "metadata": {},
   "outputs": [
    {
     "name": "stdout",
     "output_type": "stream",
     "text": [
      "2003\n",
      "2004\n",
      "2005\n",
      "2006\n",
      "2007\n",
      "2008\n",
      "2009\n",
      "2010\n",
      "2011\n",
      "2012\n",
      "2013\n",
      "2014\n",
      "2015\n",
      "2016\n",
      "2017\n",
      "2018\n",
      "2019\n"
     ]
    }
   ],
   "source": [
    "df_all = pd.read_csv(f'data/stillinger_2002_merged.csv.gz',sep=';')\n",
    "\n",
    "for year in range(2003,2020):\n",
    "    print(year)\n",
    "    df_r = pd.read_csv(f'data/stillinger_{year}_merged.csv.gz',sep=';')\n",
    "    df_all = df_all.append(df_r)"
   ]
  },
  {
   "cell_type": "code",
   "execution_count": 188,
   "metadata": {},
   "outputs": [
    {
     "data": {
      "text/html": [
       "<div>\n",
       "<style scoped>\n",
       "    .dataframe tbody tr th:only-of-type {\n",
       "        vertical-align: middle;\n",
       "    }\n",
       "\n",
       "    .dataframe tbody tr th {\n",
       "        vertical-align: top;\n",
       "    }\n",
       "\n",
       "    .dataframe thead th {\n",
       "        text-align: right;\n",
       "    }\n",
       "</style>\n",
       "<table border=\"1\" class=\"dataframe\">\n",
       "  <thead>\n",
       "    <tr style=\"text-align: right;\">\n",
       "      <th></th>\n",
       "      <th>stillingsnummer</th>\n",
       "      <th>stillingsnummer_nav_no</th>\n",
       "      <th>stilling_id</th>\n",
       "      <th>nav_enhet_kode</th>\n",
       "      <th>registrert_dato</th>\n",
       "      <th>sistepubl_dato</th>\n",
       "      <th>statistikk_aar_mnd</th>\n",
       "      <th>offisiell_statistikk_flagg</th>\n",
       "      <th>stilling_kilde</th>\n",
       "      <th>arbeidssted_fylkesnummer</th>\n",
       "      <th>...</th>\n",
       "      <th>bedrift_navn</th>\n",
       "      <th>aktiv_flagg</th>\n",
       "      <th>bedrift_naring_primar_kode</th>\n",
       "      <th>foretak_org_nr</th>\n",
       "      <th>foretak_navn</th>\n",
       "      <th>foretak_sektor_gruppe</th>\n",
       "      <th>tilleggskriterium</th>\n",
       "      <th>antall_stillinger</th>\n",
       "      <th>stillingstittel</th>\n",
       "      <th>stillingsbeskrivelse_vasket</th>\n",
       "    </tr>\n",
       "  </thead>\n",
       "  <tbody>\n",
       "    <tr>\n",
       "      <th>66447</th>\n",
       "      <td>5703201903000017</td>\n",
       "      <td>5703-2019-03-17</td>\n",
       "      <td>10016704</td>\n",
       "      <td>5703</td>\n",
       "      <td>22.03.2019</td>\n",
       "      <td>05.04.2019</td>\n",
       "      <td>201903</td>\n",
       "      <td>1</td>\n",
       "      <td>Overført fra PAM annonsemottak</td>\n",
       "      <td>50</td>\n",
       "      <td>...</td>\n",
       "      <td>INDRE FOSEN KOMMUNE HJEMMETJENESTER</td>\n",
       "      <td>1</td>\n",
       "      <td>88101</td>\n",
       "      <td>944305483</td>\n",
       "      <td>INDRE FOSEN KOMMUNE</td>\n",
       "      <td>Kommunal forvaltning</td>\n",
       "      <td>Heltid</td>\n",
       "      <td>1</td>\n",
       "      <td>Ferievikarer hjemmetjenester (vernepleier)</td>\n",
       "      <td>&lt;p&gt; # hjemmetjenester søker etter ferievikarer...</td>\n",
       "    </tr>\n",
       "    <tr>\n",
       "      <th>66448</th>\n",
       "      <td>5703201903000018</td>\n",
       "      <td>5703-2019-03-18</td>\n",
       "      <td>10016707</td>\n",
       "      <td>5703</td>\n",
       "      <td>22.03.2019</td>\n",
       "      <td>05.04.2019</td>\n",
       "      <td>201903</td>\n",
       "      <td>1</td>\n",
       "      <td>Overført fra PAM annonsemottak</td>\n",
       "      <td>50</td>\n",
       "      <td>...</td>\n",
       "      <td>INDRE FOSEN KOMMUNE HJEMMETJENESTER</td>\n",
       "      <td>1</td>\n",
       "      <td>88101</td>\n",
       "      <td>944305483</td>\n",
       "      <td>INDRE FOSEN KOMMUNE</td>\n",
       "      <td>Kommunal forvaltning</td>\n",
       "      <td>Heltid</td>\n",
       "      <td>50</td>\n",
       "      <td>Ferievikarer hjemmetjenester (Fagarbeidere inn...</td>\n",
       "      <td>&lt;p&gt;# hjemmetjenester søker etter ferievikarer ...</td>\n",
       "    </tr>\n",
       "    <tr>\n",
       "      <th>66449</th>\n",
       "      <td>5703201903000019</td>\n",
       "      <td>5703-2019-03-19</td>\n",
       "      <td>10016709</td>\n",
       "      <td>5703</td>\n",
       "      <td>22.03.2019</td>\n",
       "      <td>05.04.2019</td>\n",
       "      <td>201903</td>\n",
       "      <td>1</td>\n",
       "      <td>Overført fra PAM annonsemottak</td>\n",
       "      <td>50</td>\n",
       "      <td>...</td>\n",
       "      <td>INDRE FOSEN KOMMUNE HJEMMETJENESTER</td>\n",
       "      <td>1</td>\n",
       "      <td>88101</td>\n",
       "      <td>944305483</td>\n",
       "      <td>INDRE FOSEN KOMMUNE</td>\n",
       "      <td>Kommunal forvaltning</td>\n",
       "      <td>Heltid</td>\n",
       "      <td>50</td>\n",
       "      <td>Ferievikarer hjemmetjenester (Sykepleier/verne...</td>\n",
       "      <td>&lt;p&gt;# hjemmetjenester søker etter ferievikarer ...</td>\n",
       "    </tr>\n",
       "    <tr>\n",
       "      <th>66450</th>\n",
       "      <td>5703201903000020</td>\n",
       "      <td>5703-2019-03-20</td>\n",
       "      <td>10016712</td>\n",
       "      <td>5703</td>\n",
       "      <td>22.03.2019</td>\n",
       "      <td>05.04.2019</td>\n",
       "      <td>201903</td>\n",
       "      <td>1</td>\n",
       "      <td>Overført fra PAM annonsemottak</td>\n",
       "      <td>50</td>\n",
       "      <td>...</td>\n",
       "      <td>INDRE FOSEN KOMMUNE HJEMMETJENESTER</td>\n",
       "      <td>1</td>\n",
       "      <td>88101</td>\n",
       "      <td>944305483</td>\n",
       "      <td>INDRE FOSEN KOMMUNE</td>\n",
       "      <td>Kommunal forvaltning</td>\n",
       "      <td>Heltid</td>\n",
       "      <td>1</td>\n",
       "      <td>Ferievikarer hjemmetjenester (hjemmehjelp)</td>\n",
       "      <td>&lt;p&gt; # hjemmetjenester søker etter ferievikarer...</td>\n",
       "    </tr>\n",
       "    <tr>\n",
       "      <th>66451</th>\n",
       "      <td>5703201903000021</td>\n",
       "      <td>5703-2019-03-21</td>\n",
       "      <td>10016716</td>\n",
       "      <td>5703</td>\n",
       "      <td>22.03.2019</td>\n",
       "      <td>05.04.2019</td>\n",
       "      <td>201903</td>\n",
       "      <td>1</td>\n",
       "      <td>Overført fra PAM annonsemottak</td>\n",
       "      <td>50</td>\n",
       "      <td>...</td>\n",
       "      <td>INDRE FOSEN KOMMUNE HJEMMETJENESTER</td>\n",
       "      <td>1</td>\n",
       "      <td>88101</td>\n",
       "      <td>944305483</td>\n",
       "      <td>INDRE FOSEN KOMMUNE</td>\n",
       "      <td>Kommunal forvaltning</td>\n",
       "      <td>Heltid</td>\n",
       "      <td>1</td>\n",
       "      <td>Ferievikarer hjemmetjenester (BPA)</td>\n",
       "      <td>&lt;p&gt; # hjemmetjenester søker etter ferievikarer...</td>\n",
       "    </tr>\n",
       "  </tbody>\n",
       "</table>\n",
       "<p>5 rows × 31 columns</p>\n",
       "</div>"
      ],
      "text/plain": [
       "        stillingsnummer stillingsnummer_nav_no  stilling_id nav_enhet_kode  \\\n",
       "66447  5703201903000017        5703-2019-03-17     10016704           5703   \n",
       "66448  5703201903000018        5703-2019-03-18     10016707           5703   \n",
       "66449  5703201903000019        5703-2019-03-19     10016709           5703   \n",
       "66450  5703201903000020        5703-2019-03-20     10016712           5703   \n",
       "66451  5703201903000021        5703-2019-03-21     10016716           5703   \n",
       "\n",
       "      registrert_dato sistepubl_dato  statistikk_aar_mnd  \\\n",
       "66447      22.03.2019     05.04.2019              201903   \n",
       "66448      22.03.2019     05.04.2019              201903   \n",
       "66449      22.03.2019     05.04.2019              201903   \n",
       "66450      22.03.2019     05.04.2019              201903   \n",
       "66451      22.03.2019     05.04.2019              201903   \n",
       "\n",
       "       offisiell_statistikk_flagg                  stilling_kilde  \\\n",
       "66447                           1  Overført fra PAM annonsemottak   \n",
       "66448                           1  Overført fra PAM annonsemottak   \n",
       "66449                           1  Overført fra PAM annonsemottak   \n",
       "66450                           1  Overført fra PAM annonsemottak   \n",
       "66451                           1  Overført fra PAM annonsemottak   \n",
       "\n",
       "      arbeidssted_fylkesnummer  ...                          bedrift_navn  \\\n",
       "66447                       50  ...   INDRE FOSEN KOMMUNE HJEMMETJENESTER   \n",
       "66448                       50  ...   INDRE FOSEN KOMMUNE HJEMMETJENESTER   \n",
       "66449                       50  ...   INDRE FOSEN KOMMUNE HJEMMETJENESTER   \n",
       "66450                       50  ...   INDRE FOSEN KOMMUNE HJEMMETJENESTER   \n",
       "66451                       50  ...   INDRE FOSEN KOMMUNE HJEMMETJENESTER   \n",
       "\n",
       "      aktiv_flagg bedrift_naring_primar_kode foretak_org_nr  \\\n",
       "66447           1                     88101       944305483   \n",
       "66448           1                     88101       944305483   \n",
       "66449           1                     88101       944305483   \n",
       "66450           1                     88101       944305483   \n",
       "66451           1                     88101       944305483   \n",
       "\n",
       "               foretak_navn foretak_sektor_gruppe tilleggskriterium  \\\n",
       "66447   INDRE FOSEN KOMMUNE  Kommunal forvaltning            Heltid   \n",
       "66448   INDRE FOSEN KOMMUNE  Kommunal forvaltning            Heltid   \n",
       "66449   INDRE FOSEN KOMMUNE  Kommunal forvaltning            Heltid   \n",
       "66450   INDRE FOSEN KOMMUNE  Kommunal forvaltning            Heltid   \n",
       "66451   INDRE FOSEN KOMMUNE  Kommunal forvaltning            Heltid   \n",
       "\n",
       "       antall_stillinger                                    stillingstittel  \\\n",
       "66447                  1         Ferievikarer hjemmetjenester (vernepleier)   \n",
       "66448                 50  Ferievikarer hjemmetjenester (Fagarbeidere inn...   \n",
       "66449                 50  Ferievikarer hjemmetjenester (Sykepleier/verne...   \n",
       "66450                  1         Ferievikarer hjemmetjenester (hjemmehjelp)   \n",
       "66451                  1                 Ferievikarer hjemmetjenester (BPA)   \n",
       "\n",
       "                             stillingsbeskrivelse_vasket  \n",
       "66447  <p> # hjemmetjenester søker etter ferievikarer...  \n",
       "66448  <p># hjemmetjenester søker etter ferievikarer ...  \n",
       "66449  <p># hjemmetjenester søker etter ferievikarer ...  \n",
       "66450  <p> # hjemmetjenester søker etter ferievikarer...  \n",
       "66451  <p> # hjemmetjenester søker etter ferievikarer...  \n",
       "\n",
       "[5 rows x 31 columns]"
      ]
     },
     "execution_count": 188,
     "metadata": {},
     "output_type": "execute_result"
    }
   ],
   "source": [
    "df_all.tail()"
   ]
  },
  {
   "cell_type": "code",
   "execution_count": 190,
   "metadata": {},
   "outputs": [
    {
     "data": {
      "text/plain": [
       "2603279"
      ]
     },
     "execution_count": 190,
     "metadata": {},
     "output_type": "execute_result"
    }
   ],
   "source": [
    "len(df_all)"
   ]
  },
  {
   "cell_type": "code",
   "execution_count": null,
   "metadata": {},
   "outputs": [],
   "source": [
    "df_all.to_csv(f'data/stillinger_all_merged.csv.gz', compression='gzip', sep=';', index=False)"
   ]
  },
  {
   "cell_type": "markdown",
   "metadata": {},
   "source": [
    "# Upload to storage"
   ]
  },
  {
   "cell_type": "code",
   "execution_count": 193,
   "metadata": {},
   "outputs": [],
   "source": [
    "from google.cloud import storage"
   ]
  },
  {
   "cell_type": "code",
   "execution_count": 194,
   "metadata": {},
   "outputs": [],
   "source": [
    "def upload_blob(bucket_name, source_file_name, destination_blob_name):\n",
    "    \"\"\"Uploads a file to the bucket.\"\"\"\n",
    "    storage_client = storage.Client()\n",
    "    bucket = storage_client.get_bucket(bucket_name)\n",
    "    blob = bucket.blob(destination_blob_name)\n",
    "\n",
    "    blob.upload_from_filename(source_file_name)\n",
    "\n",
    "    print('File {} uploaded to {}.'.format(\n",
    "        source_file_name,\n",
    "        destination_blob_name))"
   ]
  },
  {
   "cell_type": "code",
   "execution_count": 196,
   "metadata": {},
   "outputs": [],
   "source": [
    "import os\n",
    "os.environ['GOOGLE_APPLICATION_CREDENTIALS'] = '/users/b149899/projects/binder/binder/keys/nav_opendata.json'"
   ]
  },
  {
   "cell_type": "code",
   "execution_count": 200,
   "metadata": {},
   "outputs": [
    {
     "name": "stdout",
     "output_type": "stream",
     "text": [
      "File data/stillinger_all_merged.csv.gz uploaded to stillinger_all_merged.csv.gz.\n"
     ]
    }
   ],
   "source": [
    "upload_blob('nav-opendata', 'data/stillinger_all_merged.csv.gz', 'stillinger_all_merged.csv.gz')"
   ]
  },
  {
   "cell_type": "code",
   "execution_count": null,
   "metadata": {},
   "outputs": [],
   "source": []
  }
 ],
 "metadata": {
  "kernelspec": {
   "display_name": "Python (dv)",
   "language": "python",
   "name": "dv"
  },
  "language_info": {
   "codemirror_mode": {
    "name": "ipython",
    "version": 3
   },
   "file_extension": ".py",
   "mimetype": "text/x-python",
   "name": "python",
   "nbconvert_exporter": "python",
   "pygments_lexer": "ipython3",
   "version": "3.7.3"
  }
 },
 "nbformat": 4,
 "nbformat_minor": 2
}
