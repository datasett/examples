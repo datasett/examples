{
 "cells": [
  {
   "cell_type": "code",
   "execution_count": 31,
   "metadata": {},
   "outputs": [],
   "source": [
    "import requests \n",
    "from os.path import basename"
   ]
  },
  {
   "cell_type": "code",
   "execution_count": 32,
   "metadata": {},
   "outputs": [],
   "source": [
    "DATA_LOC='./opendata/'"
   ]
  },
  {
   "cell_type": "code",
   "execution_count": 33,
   "metadata": {},
   "outputs": [],
   "source": [
    "def download(url):\n",
    "    r = requests.get(url)\n",
    "    open(DATA_LOC + basename(url), 'w').write(r.text)"
   ]
  },
  {
   "cell_type": "markdown",
   "metadata": {},
   "source": [
    "# Bedriftsundersøkelsen"
   ]
  },
  {
   "cell_type": "code",
   "execution_count": 34,
   "metadata": {},
   "outputs": [],
   "source": [
    "url = 'https://data.nav.no/dataset/92173c56-2262-47b2-9662-d0ceacf406d1/resource/a696d765-1ccb-46ca-a43e-7ec69af156ff/download/navs-bedriftsundersokelse---ettersporsel-etter-arbeidskraft-per-naering.csv'\n",
    "download(url)"
   ]
  },
  {
   "cell_type": "code",
   "execution_count": 35,
   "metadata": {},
   "outputs": [],
   "source": [
    "url = 'https://data.nav.no/dataset/a6cab32f-921b-4b40-8e47-6b6dde8007ce/resource/7eb44e33-d8fe-423c-8d92-642fe1c9609b/download/navs-bedriftsundersokelse---ettersporsel-etter-arbeidskraft-per-yrke.csv'\n",
    "download(url)"
   ]
  },
  {
   "cell_type": "code",
   "execution_count": 36,
   "metadata": {},
   "outputs": [],
   "source": [
    "url = 'https://data.nav.no/dataset/f14bb821-4eea-4c20-b549-9546f2f05249/resource/b842a37e-60b9-471f-b5f2-99455b78c2c4/download/navs-bedriftsundersokelse---ettersporsel-etter-arbeidskraft-per-fylke.csv'\n",
    "download(url)"
   ]
  },
  {
   "cell_type": "markdown",
   "metadata": {},
   "source": [
    "# Arbeidsforhold"
   ]
  },
  {
   "cell_type": "code",
   "execution_count": 37,
   "metadata": {},
   "outputs": [],
   "source": [
    "url = 'https://data.nav.no/dataset/cf4af47c-fd3e-4a0b-bdda-962cff3caf4e/resource/fcf3b72e-4a25-4a5b-9f28-2864adbb057d/download/nye_arbeidsforhold_2017.csv'\n",
    "download(url)"
   ]
  },
  {
   "cell_type": "code",
   "execution_count": 38,
   "metadata": {},
   "outputs": [],
   "source": [
    "url = 'https://data.nav.no/dataset/cf4af47c-fd3e-4a0b-bdda-962cff3caf4e/resource/c9aed227-6b4a-4064-b2bf-373d55697dcb/download/nye_arbeidsforhold_2016.csv'\n",
    "download(url)"
   ]
  },
  {
   "cell_type": "code",
   "execution_count": 39,
   "metadata": {},
   "outputs": [],
   "source": [
    "url = 'https://data.nav.no/dataset/cf4af47c-fd3e-4a0b-bdda-962cff3caf4e/resource/b6330ad6-3cec-4710-9ca3-7167b86d44df/download/nye_arbeidsforhold_2015.csv'\n",
    "download(url)"
   ]
  },
  {
   "cell_type": "code",
   "execution_count": 40,
   "metadata": {},
   "outputs": [],
   "source": [
    "# Begrepskatalogen"
   ]
  },
  {
   "cell_type": "code",
   "execution_count": 41,
   "metadata": {},
   "outputs": [],
   "source": [
    "url = 'https://cc-p-nav.ckan.io/dataset/307a13ed-5fff-45bf-bc48-ad3af666d0ca/resource/de3c48ae-61c3-4edf-927d-10bde2110e5b/download/begreper.csv'\n",
    "download(url)"
   ]
  },
  {
   "cell_type": "code",
   "execution_count": 42,
   "metadata": {},
   "outputs": [],
   "source": [
    "# Arbeidsøkere"
   ]
  },
  {
   "cell_type": "code",
   "execution_count": 43,
   "metadata": {},
   "outputs": [],
   "source": [
    "url = 'https://data.nav.no/dataset/74ad45ee-bd94-4c7a-8f28-62bcc05dd93d/resource/624aae77-1c71-4ebf-a78b-372b237fbdfa/download/arbeidssokere_yrke_aar.csv'\n",
    "download(url)"
   ]
  },
  {
   "cell_type": "code",
   "execution_count": 51,
   "metadata": {},
   "outputs": [],
   "source": [
    "import os\n",
    "import gzip\n",
    "import shutil\n",
    "for r, d, f in os.walk(DATA_LOC):\n",
    "    for file in f:\n",
    "        with open(DATA_LOC + file, 'rb') as f_in, gzip.open(DATA_LOC + file + '.gz', 'wb') as f_out:\n",
    "            shutil.copyfileobj(f_in, f_out)"
   ]
  },
  {
   "cell_type": "code",
   "execution_count": null,
   "metadata": {},
   "outputs": [],
   "source": []
  }
 ],
 "metadata": {
  "kernelspec": {
   "display_name": "Python (py37)",
   "language": "python",
   "name": "py37"
  },
  "language_info": {
   "codemirror_mode": {
    "name": "ipython",
    "version": 3
   },
   "file_extension": ".py",
   "mimetype": "text/x-python",
   "name": "python",
   "nbconvert_exporter": "python",
   "pygments_lexer": "ipython3",
   "version": "3.7.4"
  },
  "varInspector": {
   "cols": {
    "lenName": 16,
    "lenType": 16,
    "lenVar": 40
   },
   "kernels_config": {
    "python": {
     "delete_cmd_postfix": "",
     "delete_cmd_prefix": "del ",
     "library": "var_list.py",
     "varRefreshCmd": "print(var_dic_list())"
    },
    "r": {
     "delete_cmd_postfix": ") ",
     "delete_cmd_prefix": "rm(",
     "library": "var_list.r",
     "varRefreshCmd": "cat(var_dic_list()) "
    }
   },
   "types_to_exclude": [
    "module",
    "function",
    "builtin_function_or_method",
    "instance",
    "_Feature"
   ],
   "window_display": false
  }
 },
 "nbformat": 4,
 "nbformat_minor": 2
}
