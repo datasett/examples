{
 "cells": [
  {
   "cell_type": "code",
   "execution_count": 1,
   "metadata": {},
   "outputs": [
    {
     "name": "stderr",
     "output_type": "stream",
     "text": [
      "/Users/B149899/anaconda3/envs/dv/lib/python3.7/site-packages/dask/config.py:168: YAMLLoadWarning: calling yaml.load() without Loader=... is deprecated, as the default Loader is unsafe. Please read https://msg.pyyaml.org/load for full details.\n",
      "  data = yaml.load(f.read()) or {}\n",
      "/Users/B149899/anaconda3/envs/dv/lib/python3.7/site-packages/distributed/config.py:20: YAMLLoadWarning: calling yaml.load() without Loader=... is deprecated, as the default Loader is unsafe. Please read https://msg.pyyaml.org/load for full details.\n",
      "  defaults = yaml.load(f)\n"
     ]
    }
   ],
   "source": [
    "import dataverk as dv\n",
    "import pandas as pd\n",
    "import ipywidgets as widgets\n",
    "from os import environ\n",
    "import plotly.graph_objs as go\n",
    "import plotly.io as plio"
   ]
  },
  {
   "cell_type": "markdown",
   "metadata": {},
   "source": [
    "# Get data "
   ]
  },
  {
   "cell_type": "code",
   "execution_count": 2,
   "metadata": {},
   "outputs": [
    {
     "name": "stdout",
     "output_type": "stream",
     "text": [
      "2019-06-14T15:51:55.671331: B149899 https://data.ssb.no/api/v0/no/table/09665\n"
     ]
    }
   ],
   "source": [
    "conn = dv.connectors.JSONStatConnector()\n",
    "df = conn.get_pandas_df('https://data.ssb.no/api/v0/no/table/09665')"
   ]
  },
  {
   "cell_type": "code",
   "execution_count": 3,
   "metadata": {},
   "outputs": [
    {
     "data": {
      "text/html": [
       "<div>\n",
       "<style scoped>\n",
       "    .dataframe tbody tr th:only-of-type {\n",
       "        vertical-align: middle;\n",
       "    }\n",
       "\n",
       "    .dataframe tbody tr th {\n",
       "        vertical-align: top;\n",
       "    }\n",
       "\n",
       "    .dataframe thead th {\n",
       "        text-align: right;\n",
       "    }\n",
       "</style>\n",
       "<table border=\"1\" class=\"dataframe\">\n",
       "  <thead>\n",
       "    <tr style=\"text-align: right;\">\n",
       "      <th></th>\n",
       "      <th>kjønn</th>\n",
       "      <th>type sykefravær</th>\n",
       "      <th>statistikkvariabel</th>\n",
       "      <th>kvartal</th>\n",
       "      <th>value</th>\n",
       "    </tr>\n",
       "  </thead>\n",
       "  <tbody>\n",
       "    <tr>\n",
       "      <th>0</th>\n",
       "      <td>Begge kjønn</td>\n",
       "      <td>Egenmeldt og legemeldt</td>\n",
       "      <td>Sykefraværsprosent, ikke-sesongjustert</td>\n",
       "      <td>2000K2</td>\n",
       "      <td>6.9</td>\n",
       "    </tr>\n",
       "    <tr>\n",
       "      <th>1</th>\n",
       "      <td>Begge kjønn</td>\n",
       "      <td>Egenmeldt og legemeldt</td>\n",
       "      <td>Sykefraværsprosent, ikke-sesongjustert</td>\n",
       "      <td>2000K3</td>\n",
       "      <td>7.1</td>\n",
       "    </tr>\n",
       "    <tr>\n",
       "      <th>2</th>\n",
       "      <td>Begge kjønn</td>\n",
       "      <td>Egenmeldt og legemeldt</td>\n",
       "      <td>Sykefraværsprosent, ikke-sesongjustert</td>\n",
       "      <td>2000K4</td>\n",
       "      <td>7.1</td>\n",
       "    </tr>\n",
       "    <tr>\n",
       "      <th>3</th>\n",
       "      <td>Begge kjønn</td>\n",
       "      <td>Egenmeldt og legemeldt</td>\n",
       "      <td>Sykefraværsprosent, ikke-sesongjustert</td>\n",
       "      <td>2001K1</td>\n",
       "      <td>7.6</td>\n",
       "    </tr>\n",
       "    <tr>\n",
       "      <th>4</th>\n",
       "      <td>Begge kjønn</td>\n",
       "      <td>Egenmeldt og legemeldt</td>\n",
       "      <td>Sykefraværsprosent, ikke-sesongjustert</td>\n",
       "      <td>2001K2</td>\n",
       "      <td>7.0</td>\n",
       "    </tr>\n",
       "  </tbody>\n",
       "</table>\n",
       "</div>"
      ],
      "text/plain": [
       "         kjønn         type sykefravær  \\\n",
       "0  Begge kjønn  Egenmeldt og legemeldt   \n",
       "1  Begge kjønn  Egenmeldt og legemeldt   \n",
       "2  Begge kjønn  Egenmeldt og legemeldt   \n",
       "3  Begge kjønn  Egenmeldt og legemeldt   \n",
       "4  Begge kjønn  Egenmeldt og legemeldt   \n",
       "\n",
       "                       statistikkvariabel kvartal  value  \n",
       "0  Sykefraværsprosent, ikke-sesongjustert  2000K2    6.9  \n",
       "1  Sykefraværsprosent, ikke-sesongjustert  2000K3    7.1  \n",
       "2  Sykefraværsprosent, ikke-sesongjustert  2000K4    7.1  \n",
       "3  Sykefraværsprosent, ikke-sesongjustert  2001K1    7.6  \n",
       "4  Sykefraværsprosent, ikke-sesongjustert  2001K2    7.0  "
      ]
     },
     "execution_count": 3,
     "metadata": {},
     "output_type": "execute_result"
    }
   ],
   "source": [
    "df.head(5)"
   ]
  },
  {
   "cell_type": "markdown",
   "metadata": {},
   "source": [
    "# Transform data "
   ]
  },
  {
   "cell_type": "code",
   "execution_count": 4,
   "metadata": {},
   "outputs": [],
   "source": [
    "df_e = df[(df['kjønn']!='Begge kjønn') & (df['statistikkvariabel']=='Sykefraværsprosent, ikke-sesongjustert')]\n",
    "df_m = df[(df['kjønn']=='Menn') & (df['type sykefravær']=='Egenmeldt og legemeldt') & (df['statistikkvariabel']=='Sykefraværsprosent, ikke-sesongjustert')]\n",
    "df_k = df[(df['kjønn']=='Kvinner') & (df['type sykefravær']=='Egenmeldt og legemeldt') & (df['statistikkvariabel']=='Sykefraværsprosent, ikke-sesongjustert')]"
   ]
  },
  {
   "cell_type": "code",
   "execution_count": 5,
   "metadata": {},
   "outputs": [
    {
     "data": {
      "text/html": [
       "<div>\n",
       "<style scoped>\n",
       "    .dataframe tbody tr th:only-of-type {\n",
       "        vertical-align: middle;\n",
       "    }\n",
       "\n",
       "    .dataframe tbody tr th {\n",
       "        vertical-align: top;\n",
       "    }\n",
       "\n",
       "    .dataframe thead th {\n",
       "        text-align: right;\n",
       "    }\n",
       "</style>\n",
       "<table border=\"1\" class=\"dataframe\">\n",
       "  <thead>\n",
       "    <tr style=\"text-align: right;\">\n",
       "      <th></th>\n",
       "      <th>kjønn</th>\n",
       "      <th>type sykefravær</th>\n",
       "      <th>statistikkvariabel</th>\n",
       "      <th>kvartal</th>\n",
       "      <th>value</th>\n",
       "    </tr>\n",
       "  </thead>\n",
       "  <tbody>\n",
       "    <tr>\n",
       "      <th>1575</th>\n",
       "      <td>Menn</td>\n",
       "      <td>Egenmeldt og legemeldt</td>\n",
       "      <td>Sykefraværsprosent, ikke-sesongjustert</td>\n",
       "      <td>2000K2</td>\n",
       "      <td>5.7</td>\n",
       "    </tr>\n",
       "    <tr>\n",
       "      <th>1576</th>\n",
       "      <td>Menn</td>\n",
       "      <td>Egenmeldt og legemeldt</td>\n",
       "      <td>Sykefraværsprosent, ikke-sesongjustert</td>\n",
       "      <td>2000K3</td>\n",
       "      <td>6.0</td>\n",
       "    </tr>\n",
       "    <tr>\n",
       "      <th>1577</th>\n",
       "      <td>Menn</td>\n",
       "      <td>Egenmeldt og legemeldt</td>\n",
       "      <td>Sykefraværsprosent, ikke-sesongjustert</td>\n",
       "      <td>2000K4</td>\n",
       "      <td>5.8</td>\n",
       "    </tr>\n",
       "    <tr>\n",
       "      <th>1578</th>\n",
       "      <td>Menn</td>\n",
       "      <td>Egenmeldt og legemeldt</td>\n",
       "      <td>Sykefraværsprosent, ikke-sesongjustert</td>\n",
       "      <td>2001K1</td>\n",
       "      <td>6.2</td>\n",
       "    </tr>\n",
       "    <tr>\n",
       "      <th>1579</th>\n",
       "      <td>Menn</td>\n",
       "      <td>Egenmeldt og legemeldt</td>\n",
       "      <td>Sykefraværsprosent, ikke-sesongjustert</td>\n",
       "      <td>2001K2</td>\n",
       "      <td>5.7</td>\n",
       "    </tr>\n",
       "  </tbody>\n",
       "</table>\n",
       "</div>"
      ],
      "text/plain": [
       "     kjønn         type sykefravær                      statistikkvariabel  \\\n",
       "1575  Menn  Egenmeldt og legemeldt  Sykefraværsprosent, ikke-sesongjustert   \n",
       "1576  Menn  Egenmeldt og legemeldt  Sykefraværsprosent, ikke-sesongjustert   \n",
       "1577  Menn  Egenmeldt og legemeldt  Sykefraværsprosent, ikke-sesongjustert   \n",
       "1578  Menn  Egenmeldt og legemeldt  Sykefraværsprosent, ikke-sesongjustert   \n",
       "1579  Menn  Egenmeldt og legemeldt  Sykefraværsprosent, ikke-sesongjustert   \n",
       "\n",
       "     kvartal  value  \n",
       "1575  2000K2    5.7  \n",
       "1576  2000K3    6.0  \n",
       "1577  2000K4    5.8  \n",
       "1578  2001K1    6.2  \n",
       "1579  2001K2    5.7  "
      ]
     },
     "execution_count": 5,
     "metadata": {},
     "output_type": "execute_result"
    }
   ],
   "source": [
    "df_m.head(5)"
   ]
  },
  {
   "cell_type": "markdown",
   "metadata": {},
   "source": [
    "# Create data views"
   ]
  },
  {
   "cell_type": "code",
   "execution_count": 6,
   "metadata": {},
   "outputs": [
    {
     "data": {
      "application/vnd.jupyter.widget-view+json": {
       "model_id": "73ab8bb2ee934ddb9e1abec9b1f8f733",
       "version_major": 2,
       "version_minor": 0
      },
      "text/plain": [
       "FigureWidget({\n",
       "    'data': [{'name': 'Menn',\n",
       "              'type': 'scatter',\n",
       "              'uid': '7a969729-8…"
      ]
     },
     "metadata": {},
     "output_type": "display_data"
    }
   ],
   "source": [
    "data = [ go.Scatter(\n",
    "            x=df_m['kvartal'], \n",
    "            y=df_m['value'],\n",
    "            name='Menn'\n",
    "            ),\n",
    "        go.Scatter(\n",
    "            x=df_k['kvartal'], \n",
    "            y=df_k['value'],\n",
    "            name='Kvinner'\n",
    "            )\n",
    "       ]\n",
    "\n",
    "layout = go.Layout(title='Sykefravær i norge')\n",
    "fig_1 = go.Figure(data,layout)\n",
    "\n",
    "go.FigureWidget(data,layout)"
   ]
  },
  {
   "cell_type": "code",
   "execution_count": 7,
   "metadata": {},
   "outputs": [
    {
     "data": {
      "application/vnd.jupyter.widget-view+json": {
       "model_id": "0cd61ac89e27412db7ca4b7054907cbc",
       "version_major": 2,
       "version_minor": 0
      },
      "text/plain": [
       "FigureWidget({\n",
       "    'data': [{'name': 'Menn',\n",
       "              'type': 'bar',\n",
       "              'uid': '19c4f353-5879-…"
      ]
     },
     "metadata": {},
     "output_type": "display_data"
    }
   ],
   "source": [
    "data = [ go.Bar(\n",
    "     x=df_m['kvartal'], \n",
    "     y=df_m['value'],\n",
    "     name='Menn'\n",
    "),\n",
    "go.Bar(\n",
    "    x=df_k['kvartal'], \n",
    "    y=df_k['value'],\n",
    "    name='Kvinner'\n",
    ")\n",
    "]\n",
    "\n",
    "layout = go.Layout(\n",
    "    barmode='stack'\n",
    ")\n",
    "\n",
    "layout = go.Layout(title='Sykefravær')\n",
    "fig_2 = go.Figure(data,layout)\n",
    "\n",
    "go.FigureWidget(data,layout)"
   ]
  },
  {
   "cell_type": "markdown",
   "metadata": {},
   "source": [
    "# Create datapackage"
   ]
  },
  {
   "cell_type": "code",
   "execution_count": 30,
   "metadata": {},
   "outputs": [],
   "source": [
    "readme = \"\"\"\n",
    "# SSB Sykefravær\n",
    "Sykefravær for lønnstakere, etter kjønn og type sykefravær. Sesongjustert og ikke-sesongjustert (prosent) (avslutta serie) 2000K2 - 2018K4\n",
    "\n",
    "kilde: ['SSB tabell 09665']('https://www.ssb.no/statbank/table/09665')\n",
    "\"\"\"\n",
    "\n",
    "metadata = {\n",
    "'store': 'gs',\n",
    "'repo': 'https://raw.githubusercontent.com/datasett/nav-examples/master',\n",
    "'title': 'SSB Sykefravær',\n",
    "'readme': readme,\n",
    "'license':'MIT',\n",
    "'accessRights':'Open',\n",
    "'auth': 'NAV',\n",
    "'description':'SSB Sykefravær',\n",
    "'name':'SSB Sykefravær',\n",
    "'source':'NAV',\n",
    "'keywords':['Sykefravær, SSB'],\n",
    "'provenance':'SSB',\n",
    "'publisher': 'NAV', \n",
    "'user':'nav-examples',\n",
    "'bucket': 'dataparcel',\n",
    "'dataset':'ssb-sykefravaer',\n",
    "'project': 'mesiqi'\n",
    "}"
   ]
  },
  {
   "cell_type": "code",
   "execution_count": 31,
   "metadata": {},
   "outputs": [],
   "source": [
    "dp = dv.Datapackage(metadata)"
   ]
  },
  {
   "cell_type": "markdown",
   "metadata": {},
   "source": [
    "### Add views "
   ]
  },
  {
   "cell_type": "code",
   "execution_count": 32,
   "metadata": {},
   "outputs": [],
   "source": [
    "desc = '''\n",
    "### Sykefravær.\n",
    "\n",
    "Egenmeldt og legemeldt. Sykefraværsprosent, ikke-sesongjustert\n",
    "'''\n",
    "\n",
    "dp.add_view(\n",
    "    spec_type='plotly',\n",
    "    name='Sykefravær',\n",
    "    title='Sykefravær',\n",
    "    description =desc,\n",
    "    spec= plio.to_json(fig_1),\n",
    "    resources=''\n",
    ")"
   ]
  },
  {
   "cell_type": "code",
   "execution_count": 33,
   "metadata": {},
   "outputs": [],
   "source": [
    "desc = '''\n",
    "### Sykefravær.\n",
    "\n",
    "Egenmeldt og legemeldt. Sykefraværsprosent, ikke-sesongjustert\n",
    "'''\n",
    "\n",
    "dp.add_view(\n",
    "    spec_type='plotly',\n",
    "    name='Sykefravær',\n",
    "    title='Sykefravær',\n",
    "    description =desc,\n",
    "    spec= plio.to_json(fig_2),\n",
    "    resources=''\n",
    ")"
   ]
  },
  {
   "cell_type": "markdown",
   "metadata": {},
   "source": [
    "### Add some resource files"
   ]
  },
  {
   "cell_type": "code",
   "execution_count": 34,
   "metadata": {},
   "outputs": [],
   "source": [
    "dp.add_resource(df_e,\n",
    "                'Egenmeldt og legemeldt',\n",
    "                'Egenmeldt og legemeldt')\n",
    "\n",
    "dp.add_resource(df_m,\n",
    "                'Sykefravær menn. Egenmeldt og legemeldt. Sykefraværsprosent, ikke-sesongjustert',\n",
    "                'Sykefravær menn. Egenmeldt og legemeldt. Sykefraværsprosent, ikke-sesongjustert')\n",
    "\n",
    "dp.add_resource(df_k,\n",
    "                'Sykefravær kvinner. Egenmeldt og legemeldt. Sykefraværsprosent, ikke-sesongjustert',\n",
    "                'Sykefravær kvinner. Egenmeldt og legemeldt. Sykefraværsprosent, ikke-sesongjustert')"
   ]
  },
  {
   "cell_type": "markdown",
   "metadata": {},
   "source": [
    "### Add a table view"
   ]
  },
  {
   "cell_type": "code",
   "execution_count": 35,
   "metadata": {},
   "outputs": [
    {
     "data": {
      "text/html": [
       "<div>\n",
       "<style scoped>\n",
       "    .dataframe tbody tr th:only-of-type {\n",
       "        vertical-align: middle;\n",
       "    }\n",
       "\n",
       "    .dataframe tbody tr th {\n",
       "        vertical-align: top;\n",
       "    }\n",
       "\n",
       "    .dataframe thead th {\n",
       "        text-align: right;\n",
       "    }\n",
       "</style>\n",
       "<table border=\"1\" class=\"dataframe\">\n",
       "  <thead>\n",
       "    <tr style=\"text-align: right;\">\n",
       "      <th></th>\n",
       "      <th>kjønn</th>\n",
       "      <th>type sykefravær</th>\n",
       "      <th>statistikkvariabel</th>\n",
       "      <th>kvartal</th>\n",
       "      <th>value</th>\n",
       "    </tr>\n",
       "  </thead>\n",
       "  <tbody>\n",
       "    <tr>\n",
       "      <th>1575</th>\n",
       "      <td>Menn</td>\n",
       "      <td>Egenmeldt og legemeldt</td>\n",
       "      <td>Sykefraværsprosent, ikke-sesongjustert</td>\n",
       "      <td>2000K2</td>\n",
       "      <td>5.7</td>\n",
       "    </tr>\n",
       "    <tr>\n",
       "      <th>1576</th>\n",
       "      <td>Menn</td>\n",
       "      <td>Egenmeldt og legemeldt</td>\n",
       "      <td>Sykefraværsprosent, ikke-sesongjustert</td>\n",
       "      <td>2000K3</td>\n",
       "      <td>6.0</td>\n",
       "    </tr>\n",
       "    <tr>\n",
       "      <th>1577</th>\n",
       "      <td>Menn</td>\n",
       "      <td>Egenmeldt og legemeldt</td>\n",
       "      <td>Sykefraværsprosent, ikke-sesongjustert</td>\n",
       "      <td>2000K4</td>\n",
       "      <td>5.8</td>\n",
       "    </tr>\n",
       "    <tr>\n",
       "      <th>1578</th>\n",
       "      <td>Menn</td>\n",
       "      <td>Egenmeldt og legemeldt</td>\n",
       "      <td>Sykefraværsprosent, ikke-sesongjustert</td>\n",
       "      <td>2001K1</td>\n",
       "      <td>6.2</td>\n",
       "    </tr>\n",
       "    <tr>\n",
       "      <th>1579</th>\n",
       "      <td>Menn</td>\n",
       "      <td>Egenmeldt og legemeldt</td>\n",
       "      <td>Sykefraværsprosent, ikke-sesongjustert</td>\n",
       "      <td>2001K2</td>\n",
       "      <td>5.7</td>\n",
       "    </tr>\n",
       "  </tbody>\n",
       "</table>\n",
       "</div>"
      ],
      "text/plain": [
       "     kjønn         type sykefravær                      statistikkvariabel  \\\n",
       "1575  Menn  Egenmeldt og legemeldt  Sykefraværsprosent, ikke-sesongjustert   \n",
       "1576  Menn  Egenmeldt og legemeldt  Sykefraværsprosent, ikke-sesongjustert   \n",
       "1577  Menn  Egenmeldt og legemeldt  Sykefraværsprosent, ikke-sesongjustert   \n",
       "1578  Menn  Egenmeldt og legemeldt  Sykefraværsprosent, ikke-sesongjustert   \n",
       "1579  Menn  Egenmeldt og legemeldt  Sykefraværsprosent, ikke-sesongjustert   \n",
       "\n",
       "     kvartal  value  \n",
       "1575  2000K2    5.7  \n",
       "1576  2000K3    6.0  \n",
       "1577  2000K4    5.8  \n",
       "1578  2001K1    6.2  \n",
       "1579  2001K2    5.7  "
      ]
     },
     "execution_count": 35,
     "metadata": {},
     "output_type": "execute_result"
    }
   ],
   "source": [
    "df_e.head()"
   ]
  },
  {
   "cell_type": "code",
   "execution_count": 36,
   "metadata": {},
   "outputs": [],
   "source": [
    "desc = '''\n",
    "## Sykefravær Menn \n",
    "\n",
    "Menn. Egenmeldt og legemeldt (prosent)\n",
    "'''\n",
    "\n",
    "dp.add_view(\n",
    "    spec_type='table',\n",
    "    description = desc,\n",
    "    name='Egenmeldt og legemeldt',\n",
    "    title='Egenmeldt og legemeldt',\n",
    "    resources = 'Sykefravær menn. Egenmeldt og legemeldt. Sykefraværsprosent, ikke-sesongjustert'\n",
    ")"
   ]
  },
  {
   "cell_type": "code",
   "execution_count": 37,
   "metadata": {},
   "outputs": [],
   "source": [
    "desc = '''\n",
    "## Sykefravær Kvinner \n",
    "\n",
    "Menn. Egenmeldt og legemeldt (prosent)\n",
    "'''\n",
    "\n",
    "dp.add_view(\n",
    "    spec_type='table',\n",
    "    description = desc,\n",
    "    name='Egenmeldt og legemeldt',\n",
    "    title='Egenmeldt og legemeldt',\n",
    "    resources = 'Sykefravær kvinner. Egenmeldt og legemeldt. Sykefraværsprosent, ikke-sesongjustert'\n",
    ")"
   ]
  },
  {
   "cell_type": "code",
   "execution_count": 38,
   "metadata": {},
   "outputs": [],
   "source": [
    "desc = '''\n",
    "## Sykefravær\n",
    "\n",
    "Egenmeldt og legemeldt (prosent)\n",
    "'''\n",
    "\n",
    "dp.add_view(\n",
    "    spec_type='table',\n",
    "    description = desc,\n",
    "    name='Egenmeldt og legemeldt',\n",
    "    title='Egenmeldt og legemeldt',\n",
    "    resources = 'Egenmeldt og legemeldt'\n",
    ")"
   ]
  },
  {
   "cell_type": "markdown",
   "metadata": {},
   "source": [
    "# Save datafiles and publish datapackage in elasticsearch index"
   ]
  },
  {
   "cell_type": "code",
   "execution_count": 39,
   "metadata": {},
   "outputs": [],
   "source": [
    "import os\n",
    "os.environ['GOOGLE_APPLICATION_CREDENTIALS'] = '/users/b149899/projects/binder/binder/keys/mesiqi.json'"
   ]
  },
  {
   "cell_type": "code",
   "execution_count": 40,
   "metadata": {},
   "outputs": [
    {
     "name": "stdout",
     "output_type": "stream",
     "text": [
      "gs\n",
      "2019-06-14T15:54:04.903542: B149899 <class 'dataverk.connectors.google_storage.GoogleStorageConnector'>: String (format: json) written to https://storage.googleapis.com/dataparcel/ed7b5a1e8b39a82961d8bca0c2138f34/datapackage.json\n",
      "2019-06-14T15:54:05.326144: B149899 <class 'dataverk.connectors.google_storage.GoogleStorageConnector'>: String (format: csv) written to https://storage.googleapis.com/dataparcel/ed7b5a1e8b39a82961d8bca0c2138f34/resources/Egenmeldt%20og%20legemeldt.csv\n",
      "2019-06-14T15:54:05.664056: B149899 <class 'dataverk.connectors.google_storage.GoogleStorageConnector'>: String (format: csv) written to https://storage.googleapis.com/dataparcel/ed7b5a1e8b39a82961d8bca0c2138f34/resources/Sykefrav%C3%A6r%20menn.%20Egenmeldt%20og%20legemeldt.%20Sykefrav%C3%A6rsprosent%2C%20ikke-sesongjustert.csv\n",
      "2019-06-14T15:54:06.028738: B149899 <class 'dataverk.connectors.google_storage.GoogleStorageConnector'>: String (format: csv) written to https://storage.googleapis.com/dataparcel/ed7b5a1e8b39a82961d8bca0c2138f34/resources/Sykefrav%C3%A6r%20kvinner.%20Egenmeldt%20og%20legemeldt.%20Sykefrav%C3%A6rsprosent%2C%20ikke-sesongjustert.csv\n",
      "2019-06-14T15:54:06.292072: B149899 <class 'dataverk.connectors.elasticsearch.ElasticsearchConnector'>: Document ed7b5a1e8b39a82961d8bca0c2138f34 of type odata indexed to elastic index: odata.\n"
     ]
    }
   ],
   "source": [
    "#GOOGLE_APPLICATION_CREDENTIALS environment variable must be defined before initializing the client\n",
    "client = dv.Client() \n",
    "client.publish(dp)"
   ]
  },
  {
   "cell_type": "code",
   "execution_count": null,
   "metadata": {},
   "outputs": [],
   "source": []
  }
 ],
 "metadata": {
  "kernelspec": {
   "display_name": "Python (dv)",
   "language": "python",
   "name": "dv"
  },
  "language_info": {
   "codemirror_mode": {
    "name": "ipython",
    "version": 3
   },
   "file_extension": ".py",
   "mimetype": "text/x-python",
   "name": "python",
   "nbconvert_exporter": "python",
   "pygments_lexer": "ipython3",
   "version": "3.7.3"
  },
  "varInspector": {
   "cols": {
    "lenName": 16,
    "lenType": 16,
    "lenVar": 40
   },
   "kernels_config": {
    "python": {
     "delete_cmd_postfix": "",
     "delete_cmd_prefix": "del ",
     "library": "var_list.py",
     "varRefreshCmd": "print(var_dic_list())"
    },
    "r": {
     "delete_cmd_postfix": ") ",
     "delete_cmd_prefix": "rm(",
     "library": "var_list.r",
     "varRefreshCmd": "cat(var_dic_list()) "
    }
   },
   "types_to_exclude": [
    "module",
    "function",
    "builtin_function_or_method",
    "instance",
    "_Feature"
   ],
   "window_display": false
  }
 },
 "nbformat": 4,
 "nbformat_minor": 2
}
