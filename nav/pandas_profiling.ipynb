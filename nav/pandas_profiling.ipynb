{
 "cells": [
  {
   "cell_type": "code",
   "execution_count": 1,
   "metadata": {},
   "outputs": [],
   "source": [
    "import io\n",
    "import pandas as pd\n",
    "import dataverk as dv\n",
    "import pandas_profiling"
   ]
  },
  {
   "cell_type": "code",
   "execution_count": 2,
   "metadata": {},
   "outputs": [],
   "source": [
    "readme = \"\"\"\n",
    "# Readme\n",
    "## Her er en overskrift\n",
    "Her er litt mer info om datasettet\n",
    "\"\"\"\n",
    "\n",
    "#'store': 'gs'\n",
    "metadata = {\n",
    "'store': 'gs',\n",
    "'format': 'datapackage',\n",
    "'title': 'Dataparcel test',\n",
    "'readme': readme,\n",
    "'license':'MIT',\n",
    "'accessRights':'Open',\n",
    "'auth': 'Dataverk',\n",
    "'description':'Test package for dataparcel',\n",
    "'source':'Dataverk',\n",
    "'keywords':['test'],\n",
    "'provenance':'Dataverk',\n",
    "'project': 'odata', \n",
    "'bucket': 'nav-opendata',\n",
    "}"
   ]
  },
  {
   "cell_type": "code",
   "execution_count": 3,
   "metadata": {},
   "outputs": [],
   "source": [
    "pa = dv.Datapackage(metadata)"
   ]
  },
  {
   "cell_type": "code",
   "execution_count": 4,
   "metadata": {},
   "outputs": [],
   "source": [
    "data = {'col_1': [3, 2, 1, 0], 'col_2': ['a', 'b', 'c', 'd']}\n",
    "df = pd.DataFrame.from_dict(data)"
   ]
  },
  {
   "cell_type": "code",
   "execution_count": 5,
   "metadata": {},
   "outputs": [],
   "source": [
    "profile = pandas_profiling.ProfileReport(df)"
   ]
  },
  {
   "cell_type": "code",
   "execution_count": 6,
   "metadata": {},
   "outputs": [],
   "source": [
    "pa.add_resource(df,'data_resource_name','data_resource_description')\n",
    "\n",
    "desc = '''\n",
    "Test table.\n",
    "'''\n",
    "\n",
    "pa.add_view(\n",
    "    spec_type='table',\n",
    "    description = desc,\n",
    "    name='table name',\n",
    "    title='table title',\n",
    "    resources = 'data_resource_name',\n",
    "    metadata = {'col1': {'format': 'string', 'description': 'numbers'},\n",
    "                'col2': {'format': 'number', 'description': 'strings'}, }\n",
    ")"
   ]
  },
  {
   "cell_type": "code",
   "execution_count": 7,
   "metadata": {},
   "outputs": [],
   "source": [
    "import os\n",
    "with open('.env') as f:\n",
    "    for line in f:\n",
    "        if line.startswith('#'):\n",
    "            continue\n",
    "        key, value = line.strip().split('=', 1)\n",
    "        os.environ[key] = value"
   ]
  },
  {
   "cell_type": "code",
   "execution_count": 8,
   "metadata": {},
   "outputs": [
    {
     "name": "stdout",
     "output_type": "stream",
     "text": [
      "2019-08-23T17:12:33.311512: B149899 <class 'dataverk.connectors.google_storage.GoogleStorageConnector'>: String (format: json) written to https://storage.googleapis.com/nav-opendata/b69af57cf7dd791c269c1ab8aec24d2b/datapackage.json\n",
      "2019-08-23T17:12:33.634006: B149899 <class 'dataverk.connectors.google_storage.GoogleStorageConnector'>: String (format: csv.gz) written to https://storage.googleapis.com/nav-opendata/b69af57cf7dd791c269c1ab8aec24d2b/resources/data_resource_name.csv.gz\n",
      "2019-08-23T17:12:34.364717: B149899 <class 'dataverk.connectors.elasticsearch.ElasticsearchConnector'>: Document b69af57cf7dd791c269c1ab8aec24d2b of type {'id': 'b69af57cf7dd791c269c1ab8aec24d2b', 'type': '', 'suggest': 'Dataparcel test Test package for dataparcel', 'description': 'Test package for dataparcel', 'title': 'Dataparcel test', 'format': 'datapackage', 'category': '', 'provenance': 'Dataverk', 'master': '', 'purpose': '', 'legalbasis': '', 'pii': '', 'issued': '2019-08-23T17:12:33.643022', 'modified': '2019-08-23T17:12:33.643033', 'modified_by': '', 'created': '2019-08-23T17:12:33.643035', 'updated': '2019-08-23', 'created_by': '', 'policy': [{'legal_basis': '', 'purpose': ''}], 'distribution': [{'id': '', 'format': '', 'url': ''}], 'keywords': ['test'], 'theme': [''], 'accessRights': 'Open', 'publisher': [], 'spatial': [], 'geo': [], 'url': 'https://storage.googleapis.com/nav-opendata/b69af57cf7dd791c269c1ab8aec24d2b/datapackage.json', 'repo': '', 'ispartof': [], 'haspart': []} indexed to elastic index: dcat.\n",
      "None\n"
     ]
    }
   ],
   "source": [
    "res = dv.Client().publish(pa)\n",
    "print(res)"
   ]
  },
  {
   "cell_type": "code",
   "execution_count": null,
   "metadata": {},
   "outputs": [],
   "source": []
  }
 ],
 "metadata": {
  "kernelspec": {
   "display_name": "Python 3",
   "language": "python",
   "name": "python3"
  },
  "language_info": {
   "codemirror_mode": {
    "name": "ipython",
    "version": 3
   },
   "file_extension": ".py",
   "mimetype": "text/x-python",
   "name": "python",
   "nbconvert_exporter": "python",
   "pygments_lexer": "ipython3",
   "version": "3.7.4"
  },
  "varInspector": {
   "cols": {
    "lenName": 16,
    "lenType": 16,
    "lenVar": 40
   },
   "kernels_config": {
    "python": {
     "delete_cmd_postfix": "",
     "delete_cmd_prefix": "del ",
     "library": "var_list.py",
     "varRefreshCmd": "print(var_dic_list())"
    },
    "r": {
     "delete_cmd_postfix": ") ",
     "delete_cmd_prefix": "rm(",
     "library": "var_list.r",
     "varRefreshCmd": "cat(var_dic_list()) "
    }
   },
   "types_to_exclude": [
    "module",
    "function",
    "builtin_function_or_method",
    "instance",
    "_Feature"
   ],
   "window_display": false
  }
 },
 "nbformat": 4,
 "nbformat_minor": 2
}
