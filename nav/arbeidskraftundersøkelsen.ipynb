{
 "cells": [
  {
   "cell_type": "code",
   "execution_count": 1,
   "metadata": {},
   "outputs": [],
   "source": [
    "import dataverk as dv\n",
    "import pandas as pd\n",
    "import ipywidgets as widgets\n",
    "\n",
    "import plotly.offline as py\n",
    "import plotly.graph_objs as go\n",
    "import plotly.io as plio"
   ]
  },
  {
   "cell_type": "markdown",
   "metadata": {},
   "source": [
    "# Get data"
   ]
  },
  {
   "cell_type": "markdown",
   "metadata": {},
   "source": [
    "### Befolkning"
   ]
  },
  {
   "cell_type": "code",
   "execution_count": 2,
   "metadata": {},
   "outputs": [
    {
     "name": "stdout",
     "output_type": "stream",
     "text": [
      "2019-08-09T09:59:36.521676: B149899 https://data.ssb.no/api/v0/no/table/01222\n"
     ]
    }
   ],
   "source": [
    "#befolkning\n",
    "conn = dv.connectors.JSONStatConnector()\n",
    "df_b = conn.get_pandas_df('https://data.ssb.no/api/v0/no/table/01222')"
   ]
  },
  {
   "cell_type": "code",
   "execution_count": 3,
   "metadata": {},
   "outputs": [
    {
     "data": {
      "text/plain": [
       "array(['Hele landet', 'Østfold', 'Halden', 'Sarpsborg (-1991)',\n",
       "       'Fredrikstad (-1993)', 'Moss', 'Sarpsborg', 'Fredrikstad',\n",
       "       'Hvaler', 'Borge (-1993)', 'Varteig (-1991)', 'Skjeberg (-1991)',\n",
       "       'Berg  (-1966)', 'Idd (-1966)', 'Aremark', 'Marker', 'Rømskog',\n",
       "       'Trøgstad', 'Spydeberg', 'Askim', 'Eidsberg', 'Skiptvet',\n",
       "       'Rakkestad', 'Tune (-1991)', 'Rolvsøy (1911-1993)',\n",
       "       'Kråkerøy (1908-1993)', 'Onsøy (-1993)', 'Råde', 'Rygge',\n",
       "       'Våler (Østfold)', 'Hobøl', 'Uoppgitt kommune Østfold', 'Akershus',\n",
       "       'Vestby', 'Ski', 'Ås', 'Frogn', 'Nesodden', 'Oppegård', 'Bærum',\n",
       "       'Asker', 'Aurskog-Høland', 'Sørum', 'Fet', 'Rælingen', 'Enebakk',\n",
       "       'Lørenskog', 'Skedsmo', 'Nittedal', 'Gjerdrum', 'Ullensaker',\n",
       "       'Nes (Akershus)', 'Eidsvoll', 'Nannestad', 'Hurdal',\n",
       "       'Uoppgitt kommune Akershus', 'Oslo', 'Oslo kommune',\n",
       "       'Uoppgitt komm. Oslo', 'Hedmark', 'Hamar (-1991)', 'Kongsvinger',\n",
       "       'Hamar', 'Ringsaker', 'Vang (-1991)', 'Løten', 'Stange',\n",
       "       'Nord-Odal', 'Sør-Odal', 'Eidskog', 'Grue', 'Åsnes',\n",
       "       'Våler (Hedmark)', 'Elverum', 'Trysil', 'Åmot', 'Stor-Elvdal',\n",
       "       'Rendalen', 'Engerdal', 'Tolga-Os (1966-1975)', 'Tolga', 'Tynset',\n",
       "       'Alvdal', 'Folldal', 'Os (Hedmark)', 'Uoppgitt kommune Hedmark',\n",
       "       'Oppland', 'Lillehammer', 'Gjøvik', 'Dovre', 'Lesja', 'Skjåk',\n",
       "       'Lom', 'Vågå', 'Nord-Fron', 'Sel', 'Fron (1966-1976)', 'Sør-Fron',\n",
       "       'Ringebu', 'Øyer', 'Gausdal', 'Østre Toten', 'Vestre Toten',\n",
       "       'Jevnaker', 'Lunner', 'Gran', 'Søndre Land', 'Nordre Land',\n",
       "       'Sør-Aurdal', 'Etnedal', 'Nord-Aurdal', 'Vestre Slidre',\n",
       "       'Øystre Slidre', 'Vang', 'Uoppgitt kommune Oppland', 'Buskerud',\n",
       "       'Ringerike (1964-1976)', 'Drammen', 'Kongsberg', 'Ringerike',\n",
       "       'Hole', 'Flå', 'Nes (Buskerud)', 'Gol', 'Hemsedal', 'Ål', 'Hol',\n",
       "       'Sigdal', 'Krødsherad', 'Modum', 'Øvre Eiker', 'Nedre Eiker',\n",
       "       'Lier', 'Røyken', 'Hurum', 'Flesberg', 'Rollag', 'Nore og Uvdal',\n",
       "       'Uoppgitt kommune Buskerud', 'Vestfold', 'Horten',\n",
       "       'Holmestrand (-2017)', 'Horten (-1987)', 'Tønsberg',\n",
       "       'Tønsberg (-1987)', 'Sandefjord (-2016)', 'Larvik (-1987)',\n",
       "       'Stavern (1944-1987)', 'Larvik (-2017)', 'Sandefjord', 'Svelvik',\n",
       "       'Larvik', 'Sande (Vestfold)', 'Hof (-2017)', 'Holmestrand', 'Re',\n",
       "       'Borre (-1987)', 'Ramnes (-2001)', 'Andebu (-2016)',\n",
       "       'Stokke (-2016)', 'Sem (-1987)', 'Nøtterøy (-2017)',\n",
       "       'Tjøme (-2017)', 'Sandar (-1967)', 'Tjølling (-1987)',\n",
       "       'Brunlanes (-1987)', 'Hedrum (-1987)', 'Lardal (-2017)', 'Færder',\n",
       "       'Uoppgitt kommune Vestfold', 'Telemark', 'Porsgrunn', 'Skien',\n",
       "       'Notodden', 'Siljan', 'Bamble', 'Kragerø', 'Drangedal', 'Nome',\n",
       "       'Bø (Telemark)', 'Sauherad', 'Tinn', 'Hjartdal', 'Seljord',\n",
       "       'Kviteseid', 'Nissedal', 'Fyresdal', 'Tokke', 'Vinje',\n",
       "       'Uoppgitt kommune Telemark', 'Aust-Agder', 'Risør',\n",
       "       'Arendal (-1991)', 'Grimstad', 'Arendal', 'Gjerstad', 'Vegårshei',\n",
       "       'Tvedestrand', 'Moland (1962-1991)', 'Froland', 'Øyestad (-1991)',\n",
       "       'Tromøy (-1991)', 'Hisøy (-1991)', 'Fjære (-1970)',\n",
       "       'Landvik (-1970)', 'Lillesand', 'Birkenes', 'Åmli',\n",
       "       'Mykland (-1966)', 'Herefoss (-1966)', 'Iveland',\n",
       "       'Evje og Hornnes', 'Bygland', 'Valle', 'Bykle',\n",
       "       'Uoppgitt kommune Aust-Agder', 'Vest-Agder', 'Kristiansand',\n",
       "       'Mandal', 'Farsund', 'Flekkefjord', 'Vennesla', 'Songdalen',\n",
       "       'Søgne', 'Marnardal', 'Åseral', 'Audnedal', 'Lindesnes', 'Lyngdal',\n",
       "       'Hægebostad', 'Kvinesdal', 'Sirdal', 'Uoppgitt kommune Vest-Agder',\n",
       "       'Rogaland', 'Eigersund', 'Sandnes', 'Stavanger', 'Haugesund',\n",
       "       'Sokndal', 'Lund', 'Bjerkreim', 'Hå', 'Klepp', 'Time', 'Gjesdal',\n",
       "       'Sola', 'Randaberg', 'Forsand', 'Strand', 'Hjelmeland', 'Suldal',\n",
       "       'Sauda', 'Finnøy', 'Rennesøy', 'Kvitsøy', 'Bokn', 'Tysvær',\n",
       "       'Karmøy', 'Utsira', 'Vindafjord (1965-2005)', 'Ølen (2002-2005)',\n",
       "       'Vindafjord', 'Uoppgitt kommune Rogaland', 'Hordaland', 'Bergen',\n",
       "       'Etne', 'Ølen (-2001)', 'Sveio', 'Bømlo', 'Stord', 'Fitjar',\n",
       "       'Tysnes', 'Kvinnherad', 'Jondal', 'Odda', 'Ullensvang (-1976)',\n",
       "       'Ullensvang', 'Eidfjord', 'Ulvik', 'Granvin', 'Voss', 'Kvam',\n",
       "       'Fusa', 'Samnanger', 'Os (Hordaland)', 'Austevoll', 'Sund',\n",
       "       'Fjell', 'Askøy', 'Laksevåg (1918-1971)', 'Fana (-1971)',\n",
       "       'Arna (1964-1971)', 'Vaksdal', 'Modalen', 'Osterøy',\n",
       "       'Åsane (-1971)', 'Meland', 'Øygarden', 'Radøy', 'Lindås',\n",
       "       'Austrheim', 'Fedje', 'Masfjorden', 'Uoppgitt kommune Hordaland',\n",
       "       'Bergen (t.o.m. 1971)', 'Bergen (-1971)', 'Sogn og Fjordane',\n",
       "       'Flora', 'Gulen', 'Solund', 'Hyllestad', 'Høyanger', 'Vik',\n",
       "       'Balestrand', 'Leikanger', 'Sogndal', 'Aurland', 'Lærdal', 'Årdal',\n",
       "       'Luster', 'Askvoll', 'Fjaler', 'Gaular', 'Jølster', 'Førde',\n",
       "       'Naustdal', 'Bremanger', 'Vågsøy', 'Selje', 'Eid', 'Hornindal',\n",
       "       'Gloppen', 'Stryn (-1976)', 'Stryn',\n",
       "       'Uoppgitt kommune Sogn og Fjordane', 'Møre og Romsdal',\n",
       "       'Ålesund (-1976)', 'Molde', 'Kristiansund  (-2007)', 'Ålesund',\n",
       "       'Kristiansund', 'Vanylven', 'Sande (Møre og Romsdal)',\n",
       "       'Herøy (Møre og Romsdal)', 'Ulstein', 'Hareid', 'Volda', 'Ørsta',\n",
       "       'Ørskog', 'Norddal', 'Stranda', 'Stordal', 'Ørskog (-1976)',\n",
       "       'Sykkylven', 'Skodje', 'Sula', 'Giske', 'Haram', 'Vestnes',\n",
       "       'Rauma', 'Nesset', 'Midsund', 'Sandøy', 'Aukra', 'Fræna', 'Eide',\n",
       "       'Averøy', 'Frei (-2007)', 'Gjemnes', 'Tingvoll', 'Sunndal',\n",
       "       'Surnadal', 'Rindal (-2018)', 'Aure (-2005)', 'Halsa',\n",
       "       'Tustna (-2005)', 'Smøla', 'Aure',\n",
       "       'Uoppgitt kommune Møre og Romsdal', 'Trøndelag',\n",
       "       'Sør-Trøndelag (-2017)', 'Trondheim', 'Steinkjer', 'Namsos',\n",
       "       'Hemne', 'Snillfjord', 'Hitra', 'Frøya', 'Ørland', 'Agdenes',\n",
       "       'Bjugn', 'Åfjord', 'Roan', 'Osen', 'Oppdal', 'Rennebu', 'Meldal',\n",
       "       'Orkdal', 'Røros', 'Holtålen', 'Midtre Gauldal', 'Melhus', 'Skaun',\n",
       "       'Klæbu', 'Malvik', 'Selbu', 'Tydal', 'Meråker', 'Stjørdal',\n",
       "       'Frosta', 'Levanger', 'Verdal', 'Verran', 'Namdalseid',\n",
       "       'Snåase - Snåsa', 'Lierne', 'Raarvihke - Røyrvik', 'Namsskogan',\n",
       "       'Grong', 'Høylandet', 'Overhalla', 'Fosnes', 'Flatanger', 'Vikna',\n",
       "       'Nærøy', 'Leka', 'Inderøy', 'Indre Fosen', 'Rindal',\n",
       "       'Trondheim (-2017)', 'Hemne (-2017)', 'Snillfjord (-2017)',\n",
       "       'Hitra (-2017)', 'Frøya (-2017)', 'Ørland (-2017)',\n",
       "       'Agdenes (-2017)', 'Rissa (-2017)', 'Bjugn (-2017)',\n",
       "       'Åfjord (-2017)', 'Roan (-2017)', 'Osen (-2017)', 'Oppdal (-2017)',\n",
       "       'Rennebu (-2017)', 'Meldal (-2017)', 'Orkdal (-2017)',\n",
       "       'Røros (-2017)', 'Holtålen (-2017)', 'Haltdalen (-1971)',\n",
       "       'Midtre Gauldal (-2017)', 'Melhus (-2017)', 'Skaun (-2017)',\n",
       "       'Klæbu (-2017)', 'Malvik (-2017)', 'Selbu (-2017)',\n",
       "       'Tydal (-2017)', 'Uoppgitt kommune Sør-Trøndelag',\n",
       "       'Nord-Trøndelag (-2017)', 'Steinkjer (-2017)', 'Namsos (-2017)',\n",
       "       'Meråker (-2017)', 'Stjørdal (-2017)', 'Frosta (-2017)',\n",
       "       'Leksvik (-2017)', 'Levanger (-2017)', 'Verdal (-2017)',\n",
       "       'Mosvik  (-2011)', 'Verran (-2017)', 'Namdalseid (-2017)',\n",
       "       'Inderøy (-2011)', 'Snåase - Snåsa (-2017)', 'Lierne (-2017)',\n",
       "       'Raarvihke - Røyrvik (-2017)', 'Namsskogan (-2017)',\n",
       "       'Grong (-2017)', 'Høylandet (-2017)', 'Overhalla (-2017)',\n",
       "       'Fosnes (-2017)', 'Flatanger (-2017)', 'Vikna (-2017)',\n",
       "       'Nærøy (-2017)', 'Leka (-2017)', 'Inderøy (-2017)',\n",
       "       'Uoppgitt kommune Nord-Trøndelag', 'Nordland', 'Bodø', 'Narvik',\n",
       "       'Bindal', 'Sømna', 'Brønnøy', 'Brønnøy (-1976)', 'Vega',\n",
       "       'Vevelstad', 'Herøy (Nordland)', 'Alstahaug', 'Leirfjord', 'Vefsn',\n",
       "       'Grane', 'Hattfjelldal', 'Dønna', 'Nesna', 'Hemnes', 'Rana',\n",
       "       'Lurøy', 'Træna', 'Rødøy', 'Meløy', 'Gildeskål', 'Beiarn',\n",
       "       'Saltdal', 'Fauske - Fuosko', 'Skjerstad (-2004)', 'Bodin (-1967)',\n",
       "       'Sørfold', 'Steigen', 'Hamarøy - Hábmer',\n",
       "       'Divtasvuodna - Tysfjord', 'Lødingen', 'Tjeldsund', 'Evenes',\n",
       "       'Ballangen', 'Ankenes (-1973)', 'Røst', 'Værøy',\n",
       "       'Moskenes (1916-1975)', 'Flakstad', 'Vestvågøy', 'Vågan', 'Hadsel',\n",
       "       'Bø (Nordland)', 'Øksnes', 'Sortland - Suortá', 'Andøy',\n",
       "       'Moskenes', 'Uoppgitt kommune Nordland', 'Troms - Romsa',\n",
       "       'Harstad (-2012)', 'Tromsø', 'Harstad - Hárstták', 'Kvæfjord',\n",
       "       'Skånland', 'Bjarkøy (-2012)', 'Ibestad', 'Gratangen',\n",
       "       'Loabák - Lavangen', 'Salangen (-1976)', 'Bardu', 'Salangen',\n",
       "       'Målselv', 'Sørreisa', 'Dyrøy', 'Tranøy', 'Torsken', 'Berg',\n",
       "       'Lenvik', 'Balsfjord', 'Karlsøy', 'Lyngen',\n",
       "       'Storfjord - Omasvuotna - Omasvuono',\n",
       "       'Gáivuotna - Kåfjord - Kaivuono', 'Skjervøy',\n",
       "       'Nordreisa - Ráisa - Raisi', 'Kvænangen', 'Uoppgitt kommune Troms',\n",
       "       'Finnmark - Finnmárku', 'Hammerfest (-1991)', 'Vardø', 'Vadsø',\n",
       "       'Hammerfest', 'Guovdageaidnu - Kautokeino', 'Alta', 'Loppa',\n",
       "       'Hasvik', 'Sørøysund (-1991)', 'Kvalsund', 'Måsøy', 'Nordkapp',\n",
       "       'Porsanger - Porsángu - Porsanki', 'Kárásjohka - Karasjok',\n",
       "       'Lebesby', 'Gamvik', 'Berlevåg', 'Deatnu - Tana',\n",
       "       'Unjárga - Nesseby', 'Båtsfjord', 'Sør-Varanger',\n",
       "       'Uoppgitt kommune Finnmark', 'Svalbard', 'Longyearbyen',\n",
       "       'Ny-Ålesund', 'Svea', 'Bjørnøya', 'Hopen',\n",
       "       'Uoppgitt kommune Svalbard', 'Jan Mayen', 'Uoppgitt Jan Mayen',\n",
       "       'Kontinentalsokkelen', 'Sokkelen sør for 62° N',\n",
       "       'Sokkelen nord for 62° N', 'Sokkelen, uspesifisert', 'Utlandet',\n",
       "       'Havområder', 'Ikke bosatt i Norge', 'Uoppgitt fylke',\n",
       "       'Uoppgitt kommune'], dtype=object)"
      ]
     },
     "execution_count": 3,
     "metadata": {},
     "output_type": "execute_result"
    }
   ],
   "source": [
    "df_b['region'].unique()"
   ]
  },
  {
   "cell_type": "code",
   "execution_count": 4,
   "metadata": {},
   "outputs": [],
   "source": [
    "df_b_f = df_b[(df_b['region']=='Hele landet') & (df_b['statistikkvariabel']=='Befolkning ved inngangen av kvartalet')]"
   ]
  },
  {
   "cell_type": "code",
   "execution_count": 5,
   "metadata": {},
   "outputs": [
    {
     "data": {
      "text/html": [
       "<div>\n",
       "<style scoped>\n",
       "    .dataframe tbody tr th:only-of-type {\n",
       "        vertical-align: middle;\n",
       "    }\n",
       "\n",
       "    .dataframe tbody tr th {\n",
       "        vertical-align: top;\n",
       "    }\n",
       "\n",
       "    .dataframe thead th {\n",
       "        text-align: right;\n",
       "    }\n",
       "</style>\n",
       "<table border=\"1\" class=\"dataframe\">\n",
       "  <thead>\n",
       "    <tr style=\"text-align: right;\">\n",
       "      <th></th>\n",
       "      <th>region</th>\n",
       "      <th>statistikkvariabel</th>\n",
       "      <th>kvartal</th>\n",
       "      <th>value</th>\n",
       "    </tr>\n",
       "  </thead>\n",
       "  <tbody>\n",
       "    <tr>\n",
       "      <th>0</th>\n",
       "      <td>Hele landet</td>\n",
       "      <td>Befolkning ved inngangen av kvartalet</td>\n",
       "      <td>1997K4</td>\n",
       "      <td>4413304.0</td>\n",
       "    </tr>\n",
       "    <tr>\n",
       "      <th>1</th>\n",
       "      <td>Hele landet</td>\n",
       "      <td>Befolkning ved inngangen av kvartalet</td>\n",
       "      <td>1998K1</td>\n",
       "      <td>4417599.0</td>\n",
       "    </tr>\n",
       "    <tr>\n",
       "      <th>2</th>\n",
       "      <td>Hele landet</td>\n",
       "      <td>Befolkning ved inngangen av kvartalet</td>\n",
       "      <td>1998K2</td>\n",
       "      <td>4423260.0</td>\n",
       "    </tr>\n",
       "    <tr>\n",
       "      <th>3</th>\n",
       "      <td>Hele landet</td>\n",
       "      <td>Befolkning ved inngangen av kvartalet</td>\n",
       "      <td>1998K3</td>\n",
       "      <td>4431396.0</td>\n",
       "    </tr>\n",
       "    <tr>\n",
       "      <th>4</th>\n",
       "      <td>Hele landet</td>\n",
       "      <td>Befolkning ved inngangen av kvartalet</td>\n",
       "      <td>1998K4</td>\n",
       "      <td>4440566.0</td>\n",
       "    </tr>\n",
       "  </tbody>\n",
       "</table>\n",
       "</div>"
      ],
      "text/plain": [
       "        region                     statistikkvariabel kvartal      value\n",
       "0  Hele landet  Befolkning ved inngangen av kvartalet  1997K4  4413304.0\n",
       "1  Hele landet  Befolkning ved inngangen av kvartalet  1998K1  4417599.0\n",
       "2  Hele landet  Befolkning ved inngangen av kvartalet  1998K2  4423260.0\n",
       "3  Hele landet  Befolkning ved inngangen av kvartalet  1998K3  4431396.0\n",
       "4  Hele landet  Befolkning ved inngangen av kvartalet  1998K4  4440566.0"
      ]
     },
     "execution_count": 5,
     "metadata": {},
     "output_type": "execute_result"
    }
   ],
   "source": [
    "df_b_f.head()"
   ]
  },
  {
   "cell_type": "code",
   "execution_count": 6,
   "metadata": {},
   "outputs": [
    {
     "data": {
      "text/plain": [
       "0     False\n",
       "1     False\n",
       "2     False\n",
       "3     False\n",
       "4     False\n",
       "5     False\n",
       "6     False\n",
       "7     False\n",
       "8     False\n",
       "9     False\n",
       "10    False\n",
       "11    False\n",
       "12    False\n",
       "13    False\n",
       "14    False\n",
       "15    False\n",
       "16    False\n",
       "17    False\n",
       "18    False\n",
       "19    False\n",
       "20    False\n",
       "21    False\n",
       "22    False\n",
       "23    False\n",
       "24    False\n",
       "25    False\n",
       "26    False\n",
       "27    False\n",
       "28    False\n",
       "29    False\n",
       "      ...  \n",
       "56    False\n",
       "57    False\n",
       "58    False\n",
       "59    False\n",
       "60    False\n",
       "61    False\n",
       "62    False\n",
       "63    False\n",
       "64    False\n",
       "65    False\n",
       "66    False\n",
       "67    False\n",
       "68    False\n",
       "69    False\n",
       "70    False\n",
       "71    False\n",
       "72    False\n",
       "73    False\n",
       "74    False\n",
       "75    False\n",
       "76    False\n",
       "77    False\n",
       "78    False\n",
       "79    False\n",
       "80    False\n",
       "81    False\n",
       "82    False\n",
       "83    False\n",
       "84    False\n",
       "85    False\n",
       "Name: region, Length: 86, dtype: bool"
      ]
     },
     "execution_count": 6,
     "metadata": {},
     "output_type": "execute_result"
    }
   ],
   "source": [
    "df_b_f['region'].str.contains('Finnmark')"
   ]
  },
  {
   "cell_type": "markdown",
   "metadata": {},
   "source": [
    "### Arbeidsstyrke"
   ]
  },
  {
   "cell_type": "code",
   "execution_count": 11,
   "metadata": {},
   "outputs": [
    {
     "name": "stdout",
     "output_type": "stream",
     "text": [
      "2019-05-14T13:02:14.520944: B149899 https://data.ssb.no/api/v0/no/table/05110\n"
     ]
    },
    {
     "name": "stderr",
     "output_type": "stream",
     "text": [
      "/Users/B149899/Projects/pyjstat/pyjstat/pyjstat.py:250: FutureWarning:\n",
      "\n",
      "by argument to sort_index is deprecated, please use .sort_values(by=...)\n",
      "\n",
      "/Users/B149899/Projects/pyjstat/pyjstat/pyjstat.py:250: FutureWarning:\n",
      "\n",
      "by argument to sort_index is deprecated, please use .sort_values(by=...)\n",
      "\n",
      "/Users/B149899/Projects/pyjstat/pyjstat/pyjstat.py:250: FutureWarning:\n",
      "\n",
      "by argument to sort_index is deprecated, please use .sort_values(by=...)\n",
      "\n",
      "/Users/B149899/Projects/pyjstat/pyjstat/pyjstat.py:250: FutureWarning:\n",
      "\n",
      "by argument to sort_index is deprecated, please use .sort_values(by=...)\n",
      "\n",
      "/Users/B149899/Projects/pyjstat/pyjstat/pyjstat.py:250: FutureWarning:\n",
      "\n",
      "by argument to sort_index is deprecated, please use .sort_values(by=...)\n",
      "\n"
     ]
    }
   ],
   "source": [
    "conn = dv.connectors.JSONStatConnector()\n",
    "df_s = conn.get_pandas_df('https://data.ssb.no/api/v0/no/table/05110')"
   ]
  },
  {
   "cell_type": "code",
   "execution_count": 19,
   "metadata": {},
   "outputs": [
    {
     "data": {
      "text/html": [
       "<div>\n",
       "<style scoped>\n",
       "    .dataframe tbody tr th:only-of-type {\n",
       "        vertical-align: middle;\n",
       "    }\n",
       "\n",
       "    .dataframe tbody tr th {\n",
       "        vertical-align: top;\n",
       "    }\n",
       "\n",
       "    .dataframe thead th {\n",
       "        text-align: right;\n",
       "    }\n",
       "</style>\n",
       "<table border=\"1\" class=\"dataframe\">\n",
       "  <thead>\n",
       "    <tr style=\"text-align: right;\">\n",
       "      <th></th>\n",
       "      <th>arbeidsstyrkestatus</th>\n",
       "      <th>kjønn</th>\n",
       "      <th>alder</th>\n",
       "      <th>statistikkvariabel</th>\n",
       "      <th>kvartal</th>\n",
       "      <th>value</th>\n",
       "    </tr>\n",
       "  </thead>\n",
       "  <tbody>\n",
       "    <tr>\n",
       "      <th>0</th>\n",
       "      <td>Personer i alt</td>\n",
       "      <td>Begge kjønn</td>\n",
       "      <td>15-74 år</td>\n",
       "      <td>Personer (1 000 personer)</td>\n",
       "      <td>1988K2</td>\n",
       "      <td>3072.0</td>\n",
       "    </tr>\n",
       "    <tr>\n",
       "      <th>1</th>\n",
       "      <td>Personer i alt</td>\n",
       "      <td>Begge kjønn</td>\n",
       "      <td>15-74 år</td>\n",
       "      <td>Personer (1 000 personer)</td>\n",
       "      <td>1988K3</td>\n",
       "      <td>3070.0</td>\n",
       "    </tr>\n",
       "    <tr>\n",
       "      <th>2</th>\n",
       "      <td>Personer i alt</td>\n",
       "      <td>Begge kjønn</td>\n",
       "      <td>15-74 år</td>\n",
       "      <td>Personer (1 000 personer)</td>\n",
       "      <td>1988K4</td>\n",
       "      <td>3068.0</td>\n",
       "    </tr>\n",
       "    <tr>\n",
       "      <th>3</th>\n",
       "      <td>Personer i alt</td>\n",
       "      <td>Begge kjønn</td>\n",
       "      <td>15-74 år</td>\n",
       "      <td>Personer (1 000 personer)</td>\n",
       "      <td>1989K1</td>\n",
       "      <td>3094.0</td>\n",
       "    </tr>\n",
       "    <tr>\n",
       "      <th>4</th>\n",
       "      <td>Personer i alt</td>\n",
       "      <td>Begge kjønn</td>\n",
       "      <td>15-74 år</td>\n",
       "      <td>Personer (1 000 personer)</td>\n",
       "      <td>1989K2</td>\n",
       "      <td>3091.0</td>\n",
       "    </tr>\n",
       "  </tbody>\n",
       "</table>\n",
       "</div>"
      ],
      "text/plain": [
       "  arbeidsstyrkestatus        kjønn     alder         statistikkvariabel  \\\n",
       "0      Personer i alt  Begge kjønn  15-74 år  Personer (1 000 personer)   \n",
       "1      Personer i alt  Begge kjønn  15-74 år  Personer (1 000 personer)   \n",
       "2      Personer i alt  Begge kjønn  15-74 år  Personer (1 000 personer)   \n",
       "3      Personer i alt  Begge kjønn  15-74 år  Personer (1 000 personer)   \n",
       "4      Personer i alt  Begge kjønn  15-74 år  Personer (1 000 personer)   \n",
       "\n",
       "  kvartal   value  \n",
       "0  1988K2  3072.0  \n",
       "1  1988K3  3070.0  \n",
       "2  1988K4  3068.0  \n",
       "3  1989K1  3094.0  \n",
       "4  1989K2  3091.0  "
      ]
     },
     "execution_count": 19,
     "metadata": {},
     "output_type": "execute_result"
    }
   ],
   "source": [
    "df_s.head()"
   ]
  },
  {
   "cell_type": "code",
   "execution_count": 20,
   "metadata": {},
   "outputs": [
    {
     "data": {
      "text/plain": [
       "array(['Personer (1 000 personer)', 'Personer (prosent)'], dtype=object)"
      ]
     },
     "execution_count": 20,
     "metadata": {},
     "output_type": "execute_result"
    }
   ],
   "source": [
    "df_s['statistikkvariabel'].unique()"
   ]
  },
  {
   "cell_type": "code",
   "execution_count": 21,
   "metadata": {},
   "outputs": [
    {
     "data": {
      "text/plain": [
       "array(['Personer i alt', 'Arbeidsstyrken i alt', 'Sysselsatte',\n",
       "       'Arbeidsledige', 'Personer utenfor arbeidsstyrken'], dtype=object)"
      ]
     },
     "execution_count": 21,
     "metadata": {},
     "output_type": "execute_result"
    }
   ],
   "source": [
    "df_s['arbeidsstyrkestatus'].unique()"
   ]
  },
  {
   "cell_type": "code",
   "execution_count": 22,
   "metadata": {},
   "outputs": [
    {
     "data": {
      "text/plain": [
       "array(['15-74 år', '20-64 år', '20-66 år', '15-24 år', '25-54 år',\n",
       "       '55-74 år'], dtype=object)"
      ]
     },
     "execution_count": 22,
     "metadata": {},
     "output_type": "execute_result"
    }
   ],
   "source": [
    "df_s['alder'].unique()"
   ]
  },
  {
   "cell_type": "code",
   "execution_count": 56,
   "metadata": {},
   "outputs": [],
   "source": [
    "df_s_f = df_s[(df_s['arbeidsstyrkestatus'].isin(['Sysselsatte', 'Arbeidsledige','Personer utenfor arbeidsstyrken'])) &\n",
    "            (df_s['alder'].isin(['15-74 år'])) &\n",
    "            (df_s['kjønn'].isin(['Begge kjønn'])) &\n",
    "            (df_s['statistikkvariabel'].isin(['Personer (1 000 personer)'])) &\n",
    "            (~df_s['kvartal'].str.contains('Gml'))]"
   ]
  },
  {
   "cell_type": "code",
   "execution_count": 57,
   "metadata": {},
   "outputs": [
    {
     "data": {
      "text/html": [
       "<div>\n",
       "<style scoped>\n",
       "    .dataframe tbody tr th:only-of-type {\n",
       "        vertical-align: middle;\n",
       "    }\n",
       "\n",
       "    .dataframe tbody tr th {\n",
       "        vertical-align: top;\n",
       "    }\n",
       "\n",
       "    .dataframe thead th {\n",
       "        text-align: right;\n",
       "    }\n",
       "</style>\n",
       "<table border=\"1\" class=\"dataframe\">\n",
       "  <thead>\n",
       "    <tr style=\"text-align: right;\">\n",
       "      <th></th>\n",
       "      <th>arbeidsstyrkestatus</th>\n",
       "      <th>kjønn</th>\n",
       "      <th>alder</th>\n",
       "      <th>statistikkvariabel</th>\n",
       "      <th>kvartal</th>\n",
       "      <th>value</th>\n",
       "    </tr>\n",
       "  </thead>\n",
       "  <tbody>\n",
       "    <tr>\n",
       "      <th>9216</th>\n",
       "      <td>Sysselsatte</td>\n",
       "      <td>Begge kjønn</td>\n",
       "      <td>15-74 år</td>\n",
       "      <td>Personer (1 000 personer)</td>\n",
       "      <td>1988K2</td>\n",
       "      <td>2127.0</td>\n",
       "    </tr>\n",
       "    <tr>\n",
       "      <th>9217</th>\n",
       "      <td>Sysselsatte</td>\n",
       "      <td>Begge kjønn</td>\n",
       "      <td>15-74 år</td>\n",
       "      <td>Personer (1 000 personer)</td>\n",
       "      <td>1988K3</td>\n",
       "      <td>2124.0</td>\n",
       "    </tr>\n",
       "    <tr>\n",
       "      <th>9218</th>\n",
       "      <td>Sysselsatte</td>\n",
       "      <td>Begge kjønn</td>\n",
       "      <td>15-74 år</td>\n",
       "      <td>Personer (1 000 personer)</td>\n",
       "      <td>1988K4</td>\n",
       "      <td>2080.0</td>\n",
       "    </tr>\n",
       "    <tr>\n",
       "      <th>9219</th>\n",
       "      <td>Sysselsatte</td>\n",
       "      <td>Begge kjønn</td>\n",
       "      <td>15-74 år</td>\n",
       "      <td>Personer (1 000 personer)</td>\n",
       "      <td>1989K1</td>\n",
       "      <td>2051.0</td>\n",
       "    </tr>\n",
       "    <tr>\n",
       "      <th>9220</th>\n",
       "      <td>Sysselsatte</td>\n",
       "      <td>Begge kjønn</td>\n",
       "      <td>15-74 år</td>\n",
       "      <td>Personer (1 000 personer)</td>\n",
       "      <td>1989K2</td>\n",
       "      <td>2068.0</td>\n",
       "    </tr>\n",
       "  </tbody>\n",
       "</table>\n",
       "</div>"
      ],
      "text/plain": [
       "     arbeidsstyrkestatus        kjønn     alder         statistikkvariabel  \\\n",
       "9216         Sysselsatte  Begge kjønn  15-74 år  Personer (1 000 personer)   \n",
       "9217         Sysselsatte  Begge kjønn  15-74 år  Personer (1 000 personer)   \n",
       "9218         Sysselsatte  Begge kjønn  15-74 år  Personer (1 000 personer)   \n",
       "9219         Sysselsatte  Begge kjønn  15-74 år  Personer (1 000 personer)   \n",
       "9220         Sysselsatte  Begge kjønn  15-74 år  Personer (1 000 personer)   \n",
       "\n",
       "     kvartal   value  \n",
       "9216  1988K2  2127.0  \n",
       "9217  1988K3  2124.0  \n",
       "9218  1988K4  2080.0  \n",
       "9219  1989K1  2051.0  \n",
       "9220  1989K2  2068.0  "
      ]
     },
     "execution_count": 57,
     "metadata": {},
     "output_type": "execute_result"
    }
   ],
   "source": [
    "df_s_f.head()"
   ]
  },
  {
   "cell_type": "markdown",
   "metadata": {},
   "source": [
    "# Create views"
   ]
  },
  {
   "cell_type": "markdown",
   "metadata": {},
   "source": [
    "## Line chart"
   ]
  },
  {
   "cell_type": "code",
   "execution_count": 63,
   "metadata": {},
   "outputs": [
    {
     "data": {
      "application/vnd.jupyter.widget-view+json": {
       "model_id": "5fb00ea165764e28bfc0c8409b4a74ab",
       "version_major": 2,
       "version_minor": 0
      },
      "text/plain": [
       "FigureWidget({\n",
       "    'data': [{'line': {'color': '#C30000', 'width': 2},\n",
       "              'name': 'Sysselsatte',\n",
       "  …"
      ]
     },
     "metadata": {},
     "output_type": "display_data"
    }
   ],
   "source": [
    "def getLine(status):\n",
    "    if (status == 'Sysselsatte'):\n",
    "        return dict(color = ('#C30000'),width = 2)\n",
    "    if (status == 'Arbeidsledige'):\n",
    "        return dict(color = ('#3E3832'),width = 2)\n",
    "    if (status == 'Personer utenfor arbeidsstyrken'):\n",
    "        return dict(color = ('#FF9100'),width = 2)\n",
    "    \n",
    "data = []\n",
    "\n",
    "for status in df_s_f['arbeidsstyrkestatus'].unique():\n",
    "    df = df_s_f[df_s_f['arbeidsstyrkestatus'] == status]\n",
    "    trace = go.Scatter(\n",
    "        x = df['kvartal'],\n",
    "        y = df['value'],\n",
    "        name=str(status),\n",
    "        line = getLine(status)\n",
    "    )\n",
    "    data.append(trace)\n",
    "\n",
    "layout = go.Layout(title='Antall personer i alder 15-74')\n",
    "fig_1 = go.Figure(data,layout)\n",
    "\n",
    "go.FigureWidget(data,layout)"
   ]
  },
  {
   "cell_type": "markdown",
   "metadata": {},
   "source": [
    "# Create datapackage"
   ]
  },
  {
   "cell_type": "code",
   "execution_count": 64,
   "metadata": {},
   "outputs": [],
   "source": [
    "readme = \"\"\"\n",
    "# Arbeidskraftundersøkelsen\n",
    "\n",
    "\"\"\"\n",
    "\n",
    "metadata = {\n",
    "'store': 'https://raw.githubusercontent.com/datasett/nav-examples/master',\n",
    "'title': 'Arbeidskraftundersøkelsen',\n",
    "'readme': readme,\n",
    "'license':'MIT',\n",
    "'accessRights':'Open',\n",
    "'auth': 'Dataverk',\n",
    "'description':'Arbeidskraftundersøkelsen',\n",
    "'name':'Arbeidskraftundersøkelsen',\n",
    "'source':'NAV',\n",
    "'keywords':['arbeidsmarkedet', 'arbeidskraft', 'sysselsetting', 'arbeidsledige'],\n",
    "'provenance':'NAV',\n",
    "'publisher': 'NAV',\n",
    "'project': 'mesiqi', \n",
    "'user':'dataverk',\n",
    "'bucket_name': 'dataparcel',\n",
    "'dataset':'arbeidskraftundersøkelsen'\n",
    "}"
   ]
  },
  {
   "cell_type": "code",
   "execution_count": 65,
   "metadata": {},
   "outputs": [],
   "source": [
    "dp = dv.Datapackage(metadata)"
   ]
  },
  {
   "cell_type": "markdown",
   "metadata": {},
   "source": [
    "## Add views to datapackage"
   ]
  },
  {
   "cell_type": "code",
   "execution_count": 67,
   "metadata": {},
   "outputs": [],
   "source": [
    "description = '''\n",
    "Arbeidsstyrkestatus\n",
    "\n",
    "Antall personer i alderen 15-74\n",
    "'''\n",
    "\n",
    "dp.add_view(\n",
    "    spec_type='plotly',\n",
    "    name='Arbeidsstyrkestatus',\n",
    "    title='Arbeidsstyrkestatus',\n",
    "    description = description,\n",
    "    resources=[],\n",
    "    attribution = \"Kilde: NAV.\",\n",
    "    spec=plio.to_json(fig_1)\n",
    ")"
   ]
  },
  {
   "cell_type": "markdown",
   "metadata": {},
   "source": [
    "# Save data and publish datapackage"
   ]
  },
  {
   "cell_type": "code",
   "execution_count": 73,
   "metadata": {},
   "outputs": [],
   "source": [
    "from os import environ\n",
    "environ['GOOGLE_APPLICATION_CREDENTIALS'] = '/users/b149899/projects/binder/binder/keys/mesiqi.json'"
   ]
  },
  {
   "cell_type": "code",
   "execution_count": 74,
   "metadata": {},
   "outputs": [
    {
     "name": "stdout",
     "output_type": "stream",
     "text": [
      "2019-05-14T13:52:02.717066: B149899 <class 'dataverk.connectors.google_storage.GoogleStorageConnector'>: String (format: json) written to https://storage.googleapis.com/dataparcel/bd2168b2ea95601604a82d4459ad510a/datapackage.json\n",
      "2019-05-14T13:52:02.975160: B149899 <class 'dataverk.connectors.elasticsearch.ElasticsearchConnector'>: Document bd2168b2ea95601604a82d4459ad510a of type odata indexed to elastic index: odata.\n"
     ]
    }
   ],
   "source": [
    "client = dv.Client()\n",
    "client.publish(dp)"
   ]
  },
  {
   "cell_type": "code",
   "execution_count": null,
   "metadata": {},
   "outputs": [],
   "source": []
  }
 ],
 "metadata": {
  "kernelspec": {
   "display_name": "Python (dv)",
   "language": "python",
   "name": "dv"
  },
  "language_info": {
   "codemirror_mode": {
    "name": "ipython",
    "version": 3
   },
   "file_extension": ".py",
   "mimetype": "text/x-python",
   "name": "python",
   "nbconvert_exporter": "python",
   "pygments_lexer": "ipython3",
   "version": "3.7.3"
  },
  "varInspector": {
   "cols": {
    "lenName": 16,
    "lenType": 16,
    "lenVar": 40
   },
   "kernels_config": {
    "python": {
     "delete_cmd_postfix": "",
     "delete_cmd_prefix": "del ",
     "library": "var_list.py",
     "varRefreshCmd": "print(var_dic_list())"
    },
    "r": {
     "delete_cmd_postfix": ") ",
     "delete_cmd_prefix": "rm(",
     "library": "var_list.r",
     "varRefreshCmd": "cat(var_dic_list()) "
    }
   },
   "types_to_exclude": [
    "module",
    "function",
    "builtin_function_or_method",
    "instance",
    "_Feature"
   ],
   "window_display": false
  }
 },
 "nbformat": 4,
 "nbformat_minor": 2
}
