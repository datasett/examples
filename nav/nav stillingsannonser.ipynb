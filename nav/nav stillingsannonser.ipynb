{
 "cells": [
  {
   "cell_type": "code",
   "execution_count": 42,
   "metadata": {},
   "outputs": [],
   "source": [
    "import dataverk as dv\n",
    "from dataverk_tools.themes import nav\n",
    "\n",
    "import pandas as pd\n",
    "import ipywidgets as widgets\n",
    "\n",
    "import plotly.graph_objs as go\n",
    "import plotly.io as plio\n",
    "import plotly_express as px\n",
    "import plotly.figure_factory as ff\n",
    "\n",
    "from datetime import datetime"
   ]
  },
  {
   "cell_type": "code",
   "execution_count": null,
   "metadata": {},
   "outputs": [],
   "source": [
    "df = pd.read_csv('https://storage.googleapis.com/nav-opendata/stillinger_all_merged.csv.gz',sep=';',low_memory=False)"
   ]
  },
  {
   "cell_type": "code",
   "execution_count": 43,
   "metadata": {},
   "outputs": [
    {
     "data": {
      "text/plain": [
       "2603279"
      ]
     },
     "execution_count": 43,
     "metadata": {},
     "output_type": "execute_result"
    }
   ],
   "source": [
    "len(df)"
   ]
  },
  {
   "cell_type": "code",
   "execution_count": 44,
   "metadata": {},
   "outputs": [
    {
     "data": {
      "text/plain": [
       "stillingsnummer                        object\n",
       "stillingsnummer_nav_no                 object\n",
       "stilling_id                             int64\n",
       "nav_enhet_kode                         object\n",
       "registrert_dato                        object\n",
       "sistepubl_dato                         object\n",
       "statistikk_aar_mnd                      int64\n",
       "offisiell_statistikk_flagg              int64\n",
       "stilling_kilde                         object\n",
       "arbeidssted_fylkesnummer               object\n",
       "arbeidssted_fylke                      object\n",
       "arbeidssted_kommunenummer              object\n",
       "arbeidssted_kommune                    object\n",
       "arbeidssted_landkode                   object\n",
       "arbeidssted_land                       object\n",
       "isco_versjon                           object\n",
       "yrke_grovgruppe                        object\n",
       "yrkeskode                               int64\n",
       "yrke                                   object\n",
       "yrkesbetegnelse                        object\n",
       "bedrift_org_nr                         object\n",
       "bedrift_navn                           object\n",
       "aktiv_flagg                            object\n",
       "bedrift_naring_primar_kode             object\n",
       "foretak_org_nr                         object\n",
       "foretak_navn                           object\n",
       "foretak_sektor_gruppe                  object\n",
       "tilleggskriterium                      object\n",
       "antall_stillinger                       int64\n",
       "stillingstittel                        object\n",
       "stillingsbeskrivelse_vasket            object\n",
       "tid                            datetime64[ns]\n",
       "yrke_grovgruppe_merged                 object\n",
       "dtype: object"
      ]
     },
     "execution_count": 44,
     "metadata": {},
     "output_type": "execute_result"
    }
   ],
   "source": [
    "df.dtypes"
   ]
  },
  {
   "cell_type": "code",
   "execution_count": 32,
   "metadata": {},
   "outputs": [],
   "source": [
    "df['tid'] = df['statistikk_aar_mnd'].apply(lambda x : datetime.strptime(str(x), '%Y%m'))"
   ]
  },
  {
   "cell_type": "code",
   "execution_count": 33,
   "metadata": {},
   "outputs": [],
   "source": [
    "df['yrke_grovgruppe_merged'] = df['yrke_grovgruppe'].apply(lambda x : x.replace(' (2001-2011)',''))"
   ]
  },
  {
   "cell_type": "code",
   "execution_count": 34,
   "metadata": {},
   "outputs": [],
   "source": [
    "#nav.plotly_template"
   ]
  },
  {
   "cell_type": "code",
   "execution_count": 35,
   "metadata": {},
   "outputs": [],
   "source": [
    "df_c = df[['tid','stillingsnummer']].groupby('tid').count().reset_index()"
   ]
  },
  {
   "cell_type": "code",
   "execution_count": 45,
   "metadata": {},
   "outputs": [
    {
     "data": {
      "application/vnd.plotly.v1+json": {
       "config": {
        "linkText": "Export to plot.ly",
        "plotlyServerURL": "https://plot.ly",
        "showLink": false
       },
       "data": [
        {
         "hoverlabel": {
          "namelength": 0
         },
         "hovertemplate": "tid=%{x}<br>stillingsnummer=%{y}",
         "legendgroup": "",
         "line": {
          "color": "#636efa",
          "dash": "solid"
         },
         "mode": "lines",
         "name": "",
         "showlegend": false,
         "type": "scatter",
         "uid": "6a5aff2a-52e2-46fa-984a-5540150a930f",
         "x": [
          "2002-01-01",
          "2002-02-01",
          "2002-03-01",
          "2002-04-01",
          "2002-05-01",
          "2002-06-01",
          "2002-07-01",
          "2002-08-01",
          "2002-09-01",
          "2002-10-01",
          "2002-11-01",
          "2002-12-01",
          "2003-01-01",
          "2003-02-01",
          "2003-03-01",
          "2003-04-01",
          "2003-05-01",
          "2003-06-01",
          "2003-07-01",
          "2003-08-01",
          "2003-09-01",
          "2003-10-01",
          "2003-11-01",
          "2003-12-01",
          "2004-01-01",
          "2004-02-01",
          "2004-03-01",
          "2004-04-01",
          "2004-05-01",
          "2004-06-01",
          "2004-07-01",
          "2004-08-01",
          "2004-09-01",
          "2004-10-01",
          "2004-11-01",
          "2004-12-01",
          "2005-01-01",
          "2005-02-01",
          "2005-03-01",
          "2005-04-01",
          "2005-05-01",
          "2005-06-01",
          "2005-07-01",
          "2005-08-01",
          "2005-09-01",
          "2005-10-01",
          "2005-11-01",
          "2005-12-01",
          "2006-01-01",
          "2006-02-01",
          "2006-03-01",
          "2006-04-01",
          "2006-05-01",
          "2006-06-01",
          "2006-07-01",
          "2006-08-01",
          "2006-09-01",
          "2006-10-01",
          "2006-11-01",
          "2006-12-01",
          "2007-01-01",
          "2007-02-01",
          "2007-03-01",
          "2007-04-01",
          "2007-05-01",
          "2007-06-01",
          "2007-07-01",
          "2007-08-01",
          "2007-09-01",
          "2007-10-01",
          "2007-11-01",
          "2007-12-01",
          "2008-01-01",
          "2008-02-01",
          "2008-03-01",
          "2008-04-01",
          "2008-05-01",
          "2008-06-01",
          "2008-07-01",
          "2008-08-01",
          "2008-09-01",
          "2008-10-01",
          "2008-11-01",
          "2008-12-01",
          "2009-01-01",
          "2009-02-01",
          "2009-03-01",
          "2009-04-01",
          "2009-05-01",
          "2009-06-01",
          "2009-07-01",
          "2009-08-01",
          "2009-09-01",
          "2009-10-01",
          "2009-11-01",
          "2009-12-01",
          "2010-01-01",
          "2010-02-01",
          "2010-03-01",
          "2010-04-01",
          "2010-05-01",
          "2010-06-01",
          "2010-07-01",
          "2010-08-01",
          "2010-09-01",
          "2010-10-01",
          "2010-11-01",
          "2010-12-01",
          "2011-01-01",
          "2011-02-01",
          "2011-03-01",
          "2011-04-01",
          "2011-05-01",
          "2011-06-01",
          "2011-07-01",
          "2011-08-01",
          "2011-09-01",
          "2011-10-01",
          "2011-11-01",
          "2011-12-01",
          "2012-01-01",
          "2012-02-01",
          "2012-03-01",
          "2012-04-01",
          "2012-05-01",
          "2012-06-01",
          "2012-07-01",
          "2012-08-01",
          "2012-09-01",
          "2012-10-01",
          "2012-11-01",
          "2012-12-01",
          "2013-01-01",
          "2013-02-01",
          "2013-03-01",
          "2013-04-01",
          "2013-05-01",
          "2013-06-01",
          "2013-07-01",
          "2013-08-01",
          "2013-09-01",
          "2013-10-01",
          "2013-11-01",
          "2013-12-01",
          "2014-01-01",
          "2014-02-01",
          "2014-03-01",
          "2014-04-01",
          "2014-05-01",
          "2014-06-01",
          "2014-07-01",
          "2014-08-01",
          "2014-09-01",
          "2014-10-01",
          "2014-11-01",
          "2014-12-01",
          "2015-01-01",
          "2015-02-01",
          "2015-03-01",
          "2015-04-01",
          "2015-05-01",
          "2015-06-01",
          "2015-07-01",
          "2015-08-01",
          "2015-09-01",
          "2015-10-01",
          "2015-11-01",
          "2015-12-01",
          "2016-01-01",
          "2016-02-01",
          "2016-03-01",
          "2016-04-01",
          "2016-05-01",
          "2016-06-01",
          "2016-07-01",
          "2016-08-01",
          "2016-09-01",
          "2016-10-01",
          "2016-11-01",
          "2016-12-01",
          "2017-01-01",
          "2017-02-01",
          "2017-03-01",
          "2017-04-01",
          "2017-05-01",
          "2017-06-01",
          "2017-07-01",
          "2017-08-01",
          "2017-09-01",
          "2017-10-01",
          "2017-11-01",
          "2017-12-01",
          "2018-01-01",
          "2018-02-01",
          "2018-03-01",
          "2018-04-01",
          "2018-05-01",
          "2018-06-01",
          "2018-07-01",
          "2018-08-01",
          "2018-09-01",
          "2018-10-01",
          "2018-11-01",
          "2018-12-01",
          "2019-01-01",
          "2019-02-01",
          "2019-03-01"
         ],
         "xaxis": "x",
         "y": [
          13086,
          14031,
          8289,
          13435,
          11108,
          11273,
          6867,
          11676,
          10028,
          8586,
          9930,
          5051,
          7950,
          10305,
          13781,
          8764,
          10714,
          9250,
          4771,
          8003,
          8562,
          7273,
          9101,
          4531,
          9560,
          9897,
          11029,
          8768,
          11405,
          9615,
          6555,
          7632,
          7870,
          7782,
          9329,
          5359,
          11457,
          10982,
          8786,
          13144,
          13879,
          11875,
          7090,
          9189,
          10962,
          9750,
          13745,
          7979,
          17102,
          15504,
          12104,
          21147,
          18065,
          15634,
          10229,
          13541,
          15748,
          18284,
          15122,
          11291,
          21836,
          19279,
          15638,
          22092,
          26178,
          21117,
          14713,
          14839,
          18742,
          22628,
          18522,
          11990,
          23599,
          22360,
          15492,
          28991,
          19120,
          18761,
          13460,
          11835,
          19660,
          13417,
          13237,
          7956,
          14282,
          14969,
          19000,
          11661,
          14349,
          17152,
          6807,
          9194,
          14444,
          10717,
          10381,
          7867,
          13102,
          13997,
          13129,
          15635,
          13044,
          16581,
          7706,
          11534,
          11253,
          10821,
          10928,
          7333,
          15386,
          14725,
          18303,
          12558,
          20133,
          12397,
          7789,
          11425,
          11430,
          10781,
          13711,
          7060,
          15972,
          14909,
          15692,
          11296,
          17611,
          13072,
          9231,
          9141,
          11123,
          12467,
          10229,
          7147,
          15074,
          14068,
          10407,
          17776,
          11224,
          11646,
          7994,
          7818,
          9420,
          10822,
          9409,
          6423,
          12533,
          12300,
          12511,
          13295,
          11599,
          9828,
          8158,
          7581,
          11253,
          8358,
          8666,
          6039,
          11937,
          11943,
          12118,
          12757,
          10511,
          12689,
          5777,
          6847,
          10436,
          8262,
          8896,
          5923,
          12245,
          11860,
          9794,
          16163,
          13942,
          9973,
          6614,
          8998,
          9050,
          8497,
          10596,
          7928,
          15885,
          12533,
          12151,
          10622,
          14820,
          11022,
          8824,
          11077,
          11588,
          16042,
          12984,
          10596,
          22065,
          19425,
          14248,
          21693,
          23049,
          17752,
          14299,
          14191,
          15991,
          20448,
          16214,
          12639,
          24900,
          21151,
          20401
         ],
         "yaxis": "y"
        }
       ],
       "layout": {
        "grid": {
         "xaxes": [
          "x"
         ],
         "xgap": 0.1,
         "xside": "bottom",
         "yaxes": [
          "y"
         ],
         "ygap": 0.1,
         "yside": "left"
        },
        "height": 600,
        "legend": {
         "tracegroupgap": 0
        },
        "margin": {
         "t": 60
        },
        "template": {
         "data": {
          "bar": [
           {
            "marker": {
             "line": {
              "color": "white",
              "width": 0.5
             }
            },
            "type": "bar"
           }
          ],
          "barpolar": [
           {
            "marker": {
             "line": {
              "color": "white",
              "width": 0.5
             }
            },
            "type": "barpolar"
           }
          ],
          "carpet": [
           {
            "aaxis": {
             "endlinecolor": "#2a3f5f",
             "gridcolor": "#C6C2BF",
             "linecolor": "#C6C2BF",
             "minorgridcolor": "#C6C2BF",
             "startlinecolor": "#2a3f5f"
            },
            "baxis": {
             "endlinecolor": "#2a3f5f",
             "gridcolor": "#C6C2BF",
             "linecolor": "#C6C2BF",
             "minorgridcolor": "#C6C2BF",
             "startlinecolor": "#2a3f5f"
            },
            "type": "carpet"
           }
          ],
          "choropleth": [
           {
            "colorbar": {
             "outlinewidth": 0,
             "ticks": ""
            },
            "type": "choropleth"
           }
          ],
          "contour": [
           {
            "colorbar": {
             "outlinewidth": 0,
             "ticks": ""
            },
            "colorscale": [
             [
              0,
              "#0067c5"
             ],
             [
              0.1,
              "#1e85d1"
             ],
             [
              0.2,
              "#3ea4dd"
             ],
             [
              0.3,
              "#5cc1e8"
             ],
             [
              0.4,
              "#70b6d3"
             ],
             [
              0.5,
              "#7e97af"
             ],
             [
              0.6,
              "#8b798d"
             ],
             [
              0.7,
              "#9a5a69"
             ],
             [
              0.8,
              "#a73d46"
             ],
             [
              0.9,
              "#b51e23"
             ],
             [
              1,
              "#c30000"
             ]
            ],
            "type": "contour"
           }
          ],
          "contourcarpet": [
           {
            "colorbar": {
             "outlinewidth": 0,
             "ticks": ""
            },
            "type": "contourcarpet"
           }
          ],
          "heatmap": [
           {
            "colorbar": {
             "outlinewidth": 0,
             "ticks": ""
            },
            "colorscale": [
             [
              0,
              "#0067c5"
             ],
             [
              0.1,
              "#1e85d1"
             ],
             [
              0.2,
              "#3ea4dd"
             ],
             [
              0.3,
              "#5cc1e8"
             ],
             [
              0.4,
              "#70b6d3"
             ],
             [
              0.5,
              "#7e97af"
             ],
             [
              0.6,
              "#8b798d"
             ],
             [
              0.7,
              "#9a5a69"
             ],
             [
              0.8,
              "#a73d46"
             ],
             [
              0.9,
              "#b51e23"
             ],
             [
              1,
              "#c30000"
             ]
            ],
            "type": "heatmap"
           }
          ],
          "heatmapgl": [
           {
            "colorbar": {
             "outlinewidth": 0,
             "ticks": ""
            },
            "type": "heatmapgl"
           }
          ],
          "histogram": [
           {
            "marker": {
             "colorbar": {
              "outlinewidth": 0,
              "ticks": ""
             }
            },
            "type": "histogram"
           }
          ],
          "histogram2d": [
           {
            "colorbar": {
             "outlinewidth": 0,
             "ticks": ""
            },
            "colorscale": [
             [
              0,
              "#0067c5"
             ],
             [
              0.1,
              "#1e85d1"
             ],
             [
              0.2,
              "#3ea4dd"
             ],
             [
              0.3,
              "#5cc1e8"
             ],
             [
              0.4,
              "#70b6d3"
             ],
             [
              0.5,
              "#7e97af"
             ],
             [
              0.6,
              "#8b798d"
             ],
             [
              0.7,
              "#9a5a69"
             ],
             [
              0.8,
              "#a73d46"
             ],
             [
              0.9,
              "#b51e23"
             ],
             [
              1,
              "#c30000"
             ]
            ],
            "type": "histogram2d"
           }
          ],
          "histogram2dcontour": [
           {
            "colorbar": {
             "outlinewidth": 0,
             "ticks": ""
            },
            "colorscale": [
             [
              0,
              "#0067c5"
             ],
             [
              0.1,
              "#1e85d1"
             ],
             [
              0.2,
              "#3ea4dd"
             ],
             [
              0.3,
              "#5cc1e8"
             ],
             [
              0.4,
              "#70b6d3"
             ],
             [
              0.5,
              "#7e97af"
             ],
             [
              0.6,
              "#8b798d"
             ],
             [
              0.7,
              "#9a5a69"
             ],
             [
              0.8,
              "#a73d46"
             ],
             [
              0.9,
              "#b51e23"
             ],
             [
              1,
              "#c30000"
             ]
            ],
            "type": "histogram2dcontour"
           }
          ],
          "mesh3d": [
           {
            "colorbar": {
             "outlinewidth": 0,
             "ticks": ""
            },
            "type": "mesh3d"
           }
          ],
          "parcoords": [
           {
            "line": {
             "colorbar": {
              "outlinewidth": 0,
              "ticks": ""
             }
            },
            "type": "parcoords"
           }
          ],
          "scatter": [
           {
            "marker": {
             "colorbar": {
              "outlinewidth": 0,
              "ticks": ""
             }
            },
            "type": "scatter"
           }
          ],
          "scatter3d": [
           {
            "marker": {
             "colorbar": {
              "outlinewidth": 0,
              "ticks": ""
             }
            },
            "type": "scatter3d"
           }
          ],
          "scattercarpet": [
           {
            "marker": {
             "colorbar": {
              "outlinewidth": 0,
              "ticks": ""
             }
            },
            "type": "scattercarpet"
           }
          ],
          "scattergeo": [
           {
            "marker": {
             "colorbar": {
              "outlinewidth": 0,
              "ticks": ""
             }
            },
            "type": "scattergeo"
           }
          ],
          "scattergl": [
           {
            "marker": {
             "colorbar": {
              "outlinewidth": 0,
              "ticks": ""
             }
            },
            "type": "scattergl"
           }
          ],
          "scattermapbox": [
           {
            "marker": {
             "colorbar": {
              "outlinewidth": 0,
              "ticks": ""
             }
            },
            "type": "scattermapbox"
           }
          ],
          "scatterpolar": [
           {
            "marker": {
             "colorbar": {
              "outlinewidth": 0,
              "ticks": ""
             }
            },
            "type": "scatterpolar"
           }
          ],
          "scatterpolargl": [
           {
            "marker": {
             "colorbar": {
              "outlinewidth": 0,
              "ticks": ""
             }
            },
            "type": "scatterpolargl"
           }
          ],
          "scatterternary": [
           {
            "marker": {
             "colorbar": {
              "outlinewidth": 0,
              "ticks": ""
             }
            },
            "type": "scatterternary"
           }
          ],
          "surface": [
           {
            "colorbar": {
             "outlinewidth": 0,
             "ticks": ""
            },
            "type": "surface"
           }
          ],
          "table": [
           {
            "cells": {
             "fill": {
              "color": "#C6C2BF"
             },
             "line": {
              "color": "white"
             }
            },
            "header": {
             "fill": {
              "color": "#C6C2BF"
             },
             "line": {
              "color": "white"
             }
            },
            "type": "table"
           }
          ]
         },
         "layout": {
          "annotationdefaults": {
           "arrowcolor": "#506784",
           "arrowhead": 0,
           "arrowwidth": 1
          },
          "colorscale": {
           "diverging": [
            [
             0,
             "#0067c5"
            ],
            [
             0.1,
             "#1e85d1"
            ],
            [
             0.2,
             "#3ea4dd"
            ],
            [
             0.3,
             "#5cc1e8"
            ],
            [
             0.4,
             "#70b6d3"
            ],
            [
             0.5,
             "#7e97af"
            ],
            [
             0.6,
             "#8b798d"
            ],
            [
             0.7,
             "#9a5a69"
            ],
            [
             0.8,
             "#a73d46"
            ],
            [
             0.9,
             "#b51e23"
            ],
            [
             1,
             "#c30000"
            ]
           ],
           "sequential": [
            [
             0,
             "#0067c5"
            ],
            [
             0.1,
             "#1e85d1"
            ],
            [
             0.2,
             "#3ea4dd"
            ],
            [
             0.3,
             "#5cc1e8"
            ],
            [
             0.4,
             "#70b6d3"
            ],
            [
             0.5,
             "#7e97af"
            ],
            [
             0.6,
             "#8b798d"
            ],
            [
             0.7,
             "#9a5a69"
            ],
            [
             0.8,
             "#a73d46"
            ],
            [
             0.9,
             "#b51e23"
            ],
            [
             1,
             "#c30000"
            ]
           ],
           "sequentialminus": [
            [
             0,
             "#0067c5"
            ],
            [
             0.1,
             "#1e85d1"
            ],
            [
             0.2,
             "#3ea4dd"
            ],
            [
             0.3,
             "#5cc1e8"
            ],
            [
             0.4,
             "#70b6d3"
            ],
            [
             0.5,
             "#7e97af"
            ],
            [
             0.6,
             "#8b798d"
            ],
            [
             0.7,
             "#9a5a69"
            ],
            [
             0.8,
             "#a73d46"
            ],
            [
             0.9,
             "#b51e23"
            ],
            [
             1,
             "#c30000"
            ]
           ]
          },
          "colorway": [
           "#0067C5",
           "#FF9100",
           "#A2AD00",
           "#06893A",
           "#634689",
           "#005B82",
           "#C30000",
           "#66CBEC",
           "#3E3832",
           "#B7B1A9"
          ],
          "font": {
           "color": "#2a3f5f",
           "family": "Helvetica Neue"
          },
          "geo": {
           "bgcolor": "white",
           "lakecolor": "white",
           "landcolor": "white",
           "showlakes": true,
           "showland": true,
           "subunitcolor": "#C6C2BF"
          },
          "hoverlabel": {
           "align": "left"
          },
          "hovermode": "closest",
          "mapbox": {
           "style": "light"
          },
          "paper_bgcolor": "white",
          "plot_bgcolor": "white",
          "polar": {
           "angularaxis": {
            "gridcolor": "#C6C2BF",
            "linecolor": "#C6C2BF",
            "ticks": ""
           },
           "bgcolor": "white",
           "radialaxis": {
            "gridcolor": "#C6C2BF",
            "linecolor": "#C6C2BF",
            "ticks": ""
           }
          },
          "scene": {
           "xaxis": {
            "backgroundcolor": "white",
            "gridcolor": "#C6C2BF",
            "gridwidth": 2,
            "linecolor": "#C6C2BF",
            "showbackground": true,
            "ticks": "",
            "zerolinecolor": "#C6C2BF"
           },
           "yaxis": {
            "backgroundcolor": "white",
            "gridcolor": "#C6C2BF",
            "gridwidth": 2,
            "linecolor": "#C6C2BF",
            "showbackground": true,
            "ticks": "",
            "zerolinecolor": "#C6C2BF"
           },
           "zaxis": {
            "backgroundcolor": "white",
            "gridcolor": "#C6C2BF",
            "gridwidth": 2,
            "linecolor": "#C6C2BF",
            "showbackground": true,
            "ticks": "",
            "zerolinecolor": "#C6C2BF"
           }
          },
          "shapedefaults": {
           "fillcolor": "#C30000",
           "line": {
            "width": 0
           },
           "opacity": 0.4
          },
          "ternary": {
           "aaxis": {
            "gridcolor": "#C6C2BF",
            "linecolor": "#A2B1C6",
            "ticks": ""
           },
           "baxis": {
            "gridcolor": "#C6C2BF",
            "linecolor": "#A2B1C6",
            "ticks": ""
           },
           "bgcolor": "white",
           "caxis": {
            "gridcolor": "#C6C2BF",
            "linecolor": "#A2B1C6",
            "ticks": ""
           }
          },
          "title": {
           "x": 0.05
          },
          "xaxis": {
           "automargin": true,
           "gridcolor": "#C6C2BF",
           "linecolor": "#C6C2BF",
           "ticks": "",
           "zerolinecolor": "#C6C2BF",
           "zerolinewidth": 2
          },
          "yaxis": {
           "automargin": true,
           "gridcolor": "#C6C2BF",
           "linecolor": "#C6C2BF",
           "ticks": "",
           "zerolinecolor": "#C6C2BF",
           "zerolinewidth": 2
          }
         }
        },
        "xaxis": {
         "title": {
          "text": "tid"
         }
        },
        "yaxis": {
         "title": {
          "text": "stillingsnummer"
         }
        }
       }
      },
      "text/html": [
       "<div>\n",
       "        \n",
       "        \n",
       "            <div id=\"d5376a2d-c97b-436e-8207-24bc9cf7d752\" class=\"plotly-graph-div\" style=\"height:600px; width:100%;\"></div>\n",
       "            <script type=\"text/javascript\">\n",
       "                require([\"plotly\"], function(Plotly) {\n",
       "                    window.PLOTLYENV=window.PLOTLYENV || {};\n",
       "                    window.PLOTLYENV.BASE_URL='https://plot.ly';\n",
       "                    \n",
       "                if (document.getElementById(\"d5376a2d-c97b-436e-8207-24bc9cf7d752\")) {\n",
       "                    Plotly.newPlot(\n",
       "                        'd5376a2d-c97b-436e-8207-24bc9cf7d752',\n",
       "                        [{\"hoverlabel\": {\"namelength\": 0}, \"hovertemplate\": \"tid=%{x}<br>stillingsnummer=%{y}\", \"legendgroup\": \"\", \"line\": {\"color\": \"#636efa\", \"dash\": \"solid\"}, \"mode\": \"lines\", \"name\": \"\", \"showlegend\": false, \"type\": \"scatter\", \"uid\": \"6a5aff2a-52e2-46fa-984a-5540150a930f\", \"x\": [\"2002-01-01\", \"2002-02-01\", \"2002-03-01\", \"2002-04-01\", \"2002-05-01\", \"2002-06-01\", \"2002-07-01\", \"2002-08-01\", \"2002-09-01\", \"2002-10-01\", \"2002-11-01\", \"2002-12-01\", \"2003-01-01\", \"2003-02-01\", \"2003-03-01\", \"2003-04-01\", \"2003-05-01\", \"2003-06-01\", \"2003-07-01\", \"2003-08-01\", \"2003-09-01\", \"2003-10-01\", \"2003-11-01\", \"2003-12-01\", \"2004-01-01\", \"2004-02-01\", \"2004-03-01\", \"2004-04-01\", \"2004-05-01\", \"2004-06-01\", \"2004-07-01\", \"2004-08-01\", \"2004-09-01\", \"2004-10-01\", \"2004-11-01\", \"2004-12-01\", \"2005-01-01\", \"2005-02-01\", \"2005-03-01\", \"2005-04-01\", \"2005-05-01\", \"2005-06-01\", \"2005-07-01\", \"2005-08-01\", \"2005-09-01\", \"2005-10-01\", \"2005-11-01\", \"2005-12-01\", \"2006-01-01\", \"2006-02-01\", \"2006-03-01\", \"2006-04-01\", \"2006-05-01\", \"2006-06-01\", \"2006-07-01\", \"2006-08-01\", \"2006-09-01\", \"2006-10-01\", \"2006-11-01\", \"2006-12-01\", \"2007-01-01\", \"2007-02-01\", \"2007-03-01\", \"2007-04-01\", \"2007-05-01\", \"2007-06-01\", \"2007-07-01\", \"2007-08-01\", \"2007-09-01\", \"2007-10-01\", \"2007-11-01\", \"2007-12-01\", \"2008-01-01\", \"2008-02-01\", \"2008-03-01\", \"2008-04-01\", \"2008-05-01\", \"2008-06-01\", \"2008-07-01\", \"2008-08-01\", \"2008-09-01\", \"2008-10-01\", \"2008-11-01\", \"2008-12-01\", \"2009-01-01\", \"2009-02-01\", \"2009-03-01\", \"2009-04-01\", \"2009-05-01\", \"2009-06-01\", \"2009-07-01\", \"2009-08-01\", \"2009-09-01\", \"2009-10-01\", \"2009-11-01\", \"2009-12-01\", \"2010-01-01\", \"2010-02-01\", \"2010-03-01\", \"2010-04-01\", \"2010-05-01\", \"2010-06-01\", \"2010-07-01\", \"2010-08-01\", \"2010-09-01\", \"2010-10-01\", \"2010-11-01\", \"2010-12-01\", \"2011-01-01\", \"2011-02-01\", \"2011-03-01\", \"2011-04-01\", \"2011-05-01\", \"2011-06-01\", \"2011-07-01\", \"2011-08-01\", \"2011-09-01\", \"2011-10-01\", \"2011-11-01\", \"2011-12-01\", \"2012-01-01\", \"2012-02-01\", \"2012-03-01\", \"2012-04-01\", \"2012-05-01\", \"2012-06-01\", \"2012-07-01\", \"2012-08-01\", \"2012-09-01\", \"2012-10-01\", \"2012-11-01\", \"2012-12-01\", \"2013-01-01\", \"2013-02-01\", \"2013-03-01\", \"2013-04-01\", \"2013-05-01\", \"2013-06-01\", \"2013-07-01\", \"2013-08-01\", \"2013-09-01\", \"2013-10-01\", \"2013-11-01\", \"2013-12-01\", \"2014-01-01\", \"2014-02-01\", \"2014-03-01\", \"2014-04-01\", \"2014-05-01\", \"2014-06-01\", \"2014-07-01\", \"2014-08-01\", \"2014-09-01\", \"2014-10-01\", \"2014-11-01\", \"2014-12-01\", \"2015-01-01\", \"2015-02-01\", \"2015-03-01\", \"2015-04-01\", \"2015-05-01\", \"2015-06-01\", \"2015-07-01\", \"2015-08-01\", \"2015-09-01\", \"2015-10-01\", \"2015-11-01\", \"2015-12-01\", \"2016-01-01\", \"2016-02-01\", \"2016-03-01\", \"2016-04-01\", \"2016-05-01\", \"2016-06-01\", \"2016-07-01\", \"2016-08-01\", \"2016-09-01\", \"2016-10-01\", \"2016-11-01\", \"2016-12-01\", \"2017-01-01\", \"2017-02-01\", \"2017-03-01\", \"2017-04-01\", \"2017-05-01\", \"2017-06-01\", \"2017-07-01\", \"2017-08-01\", \"2017-09-01\", \"2017-10-01\", \"2017-11-01\", \"2017-12-01\", \"2018-01-01\", \"2018-02-01\", \"2018-03-01\", \"2018-04-01\", \"2018-05-01\", \"2018-06-01\", \"2018-07-01\", \"2018-08-01\", \"2018-09-01\", \"2018-10-01\", \"2018-11-01\", \"2018-12-01\", \"2019-01-01\", \"2019-02-01\", \"2019-03-01\"], \"xaxis\": \"x\", \"y\": [13086, 14031, 8289, 13435, 11108, 11273, 6867, 11676, 10028, 8586, 9930, 5051, 7950, 10305, 13781, 8764, 10714, 9250, 4771, 8003, 8562, 7273, 9101, 4531, 9560, 9897, 11029, 8768, 11405, 9615, 6555, 7632, 7870, 7782, 9329, 5359, 11457, 10982, 8786, 13144, 13879, 11875, 7090, 9189, 10962, 9750, 13745, 7979, 17102, 15504, 12104, 21147, 18065, 15634, 10229, 13541, 15748, 18284, 15122, 11291, 21836, 19279, 15638, 22092, 26178, 21117, 14713, 14839, 18742, 22628, 18522, 11990, 23599, 22360, 15492, 28991, 19120, 18761, 13460, 11835, 19660, 13417, 13237, 7956, 14282, 14969, 19000, 11661, 14349, 17152, 6807, 9194, 14444, 10717, 10381, 7867, 13102, 13997, 13129, 15635, 13044, 16581, 7706, 11534, 11253, 10821, 10928, 7333, 15386, 14725, 18303, 12558, 20133, 12397, 7789, 11425, 11430, 10781, 13711, 7060, 15972, 14909, 15692, 11296, 17611, 13072, 9231, 9141, 11123, 12467, 10229, 7147, 15074, 14068, 10407, 17776, 11224, 11646, 7994, 7818, 9420, 10822, 9409, 6423, 12533, 12300, 12511, 13295, 11599, 9828, 8158, 7581, 11253, 8358, 8666, 6039, 11937, 11943, 12118, 12757, 10511, 12689, 5777, 6847, 10436, 8262, 8896, 5923, 12245, 11860, 9794, 16163, 13942, 9973, 6614, 8998, 9050, 8497, 10596, 7928, 15885, 12533, 12151, 10622, 14820, 11022, 8824, 11077, 11588, 16042, 12984, 10596, 22065, 19425, 14248, 21693, 23049, 17752, 14299, 14191, 15991, 20448, 16214, 12639, 24900, 21151, 20401], \"yaxis\": \"y\"}],\n",
       "                        {\"grid\": {\"xaxes\": [\"x\"], \"xgap\": 0.1, \"xside\": \"bottom\", \"yaxes\": [\"y\"], \"ygap\": 0.1, \"yside\": \"left\"}, \"height\": 600, \"legend\": {\"tracegroupgap\": 0}, \"margin\": {\"t\": 60}, \"template\": {\"data\": {\"bar\": [{\"marker\": {\"line\": {\"color\": \"white\", \"width\": 0.5}}, \"type\": \"bar\"}], \"barpolar\": [{\"marker\": {\"line\": {\"color\": \"white\", \"width\": 0.5}}, \"type\": \"barpolar\"}], \"carpet\": [{\"aaxis\": {\"endlinecolor\": \"#2a3f5f\", \"gridcolor\": \"#C6C2BF\", \"linecolor\": \"#C6C2BF\", \"minorgridcolor\": \"#C6C2BF\", \"startlinecolor\": \"#2a3f5f\"}, \"baxis\": {\"endlinecolor\": \"#2a3f5f\", \"gridcolor\": \"#C6C2BF\", \"linecolor\": \"#C6C2BF\", \"minorgridcolor\": \"#C6C2BF\", \"startlinecolor\": \"#2a3f5f\"}, \"type\": \"carpet\"}], \"choropleth\": [{\"colorbar\": {\"outlinewidth\": 0, \"ticks\": \"\"}, \"type\": \"choropleth\"}], \"contour\": [{\"colorbar\": {\"outlinewidth\": 0, \"ticks\": \"\"}, \"colorscale\": [[0.0, \"#0067c5\"], [0.1, \"#1e85d1\"], [0.2, \"#3ea4dd\"], [0.3, \"#5cc1e8\"], [0.4, \"#70b6d3\"], [0.5, \"#7e97af\"], [0.6, \"#8b798d\"], [0.7, \"#9a5a69\"], [0.8, \"#a73d46\"], [0.9, \"#b51e23\"], [1.0, \"#c30000\"]], \"type\": \"contour\"}], \"contourcarpet\": [{\"colorbar\": {\"outlinewidth\": 0, \"ticks\": \"\"}, \"type\": \"contourcarpet\"}], \"heatmap\": [{\"colorbar\": {\"outlinewidth\": 0, \"ticks\": \"\"}, \"colorscale\": [[0.0, \"#0067c5\"], [0.1, \"#1e85d1\"], [0.2, \"#3ea4dd\"], [0.3, \"#5cc1e8\"], [0.4, \"#70b6d3\"], [0.5, \"#7e97af\"], [0.6, \"#8b798d\"], [0.7, \"#9a5a69\"], [0.8, \"#a73d46\"], [0.9, \"#b51e23\"], [1.0, \"#c30000\"]], \"type\": \"heatmap\"}], \"heatmapgl\": [{\"colorbar\": {\"outlinewidth\": 0, \"ticks\": \"\"}, \"type\": \"heatmapgl\"}], \"histogram\": [{\"marker\": {\"colorbar\": {\"outlinewidth\": 0, \"ticks\": \"\"}}, \"type\": \"histogram\"}], \"histogram2d\": [{\"colorbar\": {\"outlinewidth\": 0, \"ticks\": \"\"}, \"colorscale\": [[0.0, \"#0067c5\"], [0.1, \"#1e85d1\"], [0.2, \"#3ea4dd\"], [0.3, \"#5cc1e8\"], [0.4, \"#70b6d3\"], [0.5, \"#7e97af\"], [0.6, \"#8b798d\"], [0.7, \"#9a5a69\"], [0.8, \"#a73d46\"], [0.9, \"#b51e23\"], [1.0, \"#c30000\"]], \"type\": \"histogram2d\"}], \"histogram2dcontour\": [{\"colorbar\": {\"outlinewidth\": 0, \"ticks\": \"\"}, \"colorscale\": [[0.0, \"#0067c5\"], [0.1, \"#1e85d1\"], [0.2, \"#3ea4dd\"], [0.3, \"#5cc1e8\"], [0.4, \"#70b6d3\"], [0.5, \"#7e97af\"], [0.6, \"#8b798d\"], [0.7, \"#9a5a69\"], [0.8, \"#a73d46\"], [0.9, \"#b51e23\"], [1.0, \"#c30000\"]], \"type\": \"histogram2dcontour\"}], \"mesh3d\": [{\"colorbar\": {\"outlinewidth\": 0, \"ticks\": \"\"}, \"type\": \"mesh3d\"}], \"parcoords\": [{\"line\": {\"colorbar\": {\"outlinewidth\": 0, \"ticks\": \"\"}}, \"type\": \"parcoords\"}], \"scatter\": [{\"marker\": {\"colorbar\": {\"outlinewidth\": 0, \"ticks\": \"\"}}, \"type\": \"scatter\"}], \"scatter3d\": [{\"marker\": {\"colorbar\": {\"outlinewidth\": 0, \"ticks\": \"\"}}, \"type\": \"scatter3d\"}], \"scattercarpet\": [{\"marker\": {\"colorbar\": {\"outlinewidth\": 0, \"ticks\": \"\"}}, \"type\": \"scattercarpet\"}], \"scattergeo\": [{\"marker\": {\"colorbar\": {\"outlinewidth\": 0, \"ticks\": \"\"}}, \"type\": \"scattergeo\"}], \"scattergl\": [{\"marker\": {\"colorbar\": {\"outlinewidth\": 0, \"ticks\": \"\"}}, \"type\": \"scattergl\"}], \"scattermapbox\": [{\"marker\": {\"colorbar\": {\"outlinewidth\": 0, \"ticks\": \"\"}}, \"type\": \"scattermapbox\"}], \"scatterpolar\": [{\"marker\": {\"colorbar\": {\"outlinewidth\": 0, \"ticks\": \"\"}}, \"type\": \"scatterpolar\"}], \"scatterpolargl\": [{\"marker\": {\"colorbar\": {\"outlinewidth\": 0, \"ticks\": \"\"}}, \"type\": \"scatterpolargl\"}], \"scatterternary\": [{\"marker\": {\"colorbar\": {\"outlinewidth\": 0, \"ticks\": \"\"}}, \"type\": \"scatterternary\"}], \"surface\": [{\"colorbar\": {\"outlinewidth\": 0, \"ticks\": \"\"}, \"type\": \"surface\"}], \"table\": [{\"cells\": {\"fill\": {\"color\": \"#C6C2BF\"}, \"line\": {\"color\": \"white\"}}, \"header\": {\"fill\": {\"color\": \"#C6C2BF\"}, \"line\": {\"color\": \"white\"}}, \"type\": \"table\"}]}, \"layout\": {\"annotationdefaults\": {\"arrowcolor\": \"#506784\", \"arrowhead\": 0, \"arrowwidth\": 1}, \"colorscale\": {\"diverging\": [[0.0, \"#0067c5\"], [0.1, \"#1e85d1\"], [0.2, \"#3ea4dd\"], [0.3, \"#5cc1e8\"], [0.4, \"#70b6d3\"], [0.5, \"#7e97af\"], [0.6, \"#8b798d\"], [0.7, \"#9a5a69\"], [0.8, \"#a73d46\"], [0.9, \"#b51e23\"], [1.0, \"#c30000\"]], \"sequential\": [[0.0, \"#0067c5\"], [0.1, \"#1e85d1\"], [0.2, \"#3ea4dd\"], [0.3, \"#5cc1e8\"], [0.4, \"#70b6d3\"], [0.5, \"#7e97af\"], [0.6, \"#8b798d\"], [0.7, \"#9a5a69\"], [0.8, \"#a73d46\"], [0.9, \"#b51e23\"], [1.0, \"#c30000\"]], \"sequentialminus\": [[0.0, \"#0067c5\"], [0.1, \"#1e85d1\"], [0.2, \"#3ea4dd\"], [0.3, \"#5cc1e8\"], [0.4, \"#70b6d3\"], [0.5, \"#7e97af\"], [0.6, \"#8b798d\"], [0.7, \"#9a5a69\"], [0.8, \"#a73d46\"], [0.9, \"#b51e23\"], [1.0, \"#c30000\"]]}, \"colorway\": [\"#0067C5\", \"#FF9100\", \"#A2AD00\", \"#06893A\", \"#634689\", \"#005B82\", \"#C30000\", \"#66CBEC\", \"#3E3832\", \"#B7B1A9\"], \"font\": {\"color\": \"#2a3f5f\", \"family\": \"Helvetica Neue\"}, \"geo\": {\"bgcolor\": \"white\", \"lakecolor\": \"white\", \"landcolor\": \"white\", \"showlakes\": true, \"showland\": true, \"subunitcolor\": \"#C6C2BF\"}, \"hoverlabel\": {\"align\": \"left\"}, \"hovermode\": \"closest\", \"mapbox\": {\"style\": \"light\"}, \"paper_bgcolor\": \"white\", \"plot_bgcolor\": \"white\", \"polar\": {\"angularaxis\": {\"gridcolor\": \"#C6C2BF\", \"linecolor\": \"#C6C2BF\", \"ticks\": \"\"}, \"bgcolor\": \"white\", \"radialaxis\": {\"gridcolor\": \"#C6C2BF\", \"linecolor\": \"#C6C2BF\", \"ticks\": \"\"}}, \"scene\": {\"xaxis\": {\"backgroundcolor\": \"white\", \"gridcolor\": \"#C6C2BF\", \"gridwidth\": 2, \"linecolor\": \"#C6C2BF\", \"showbackground\": true, \"ticks\": \"\", \"zerolinecolor\": \"#C6C2BF\"}, \"yaxis\": {\"backgroundcolor\": \"white\", \"gridcolor\": \"#C6C2BF\", \"gridwidth\": 2, \"linecolor\": \"#C6C2BF\", \"showbackground\": true, \"ticks\": \"\", \"zerolinecolor\": \"#C6C2BF\"}, \"zaxis\": {\"backgroundcolor\": \"white\", \"gridcolor\": \"#C6C2BF\", \"gridwidth\": 2, \"linecolor\": \"#C6C2BF\", \"showbackground\": true, \"ticks\": \"\", \"zerolinecolor\": \"#C6C2BF\"}}, \"shapedefaults\": {\"fillcolor\": \"#C30000\", \"line\": {\"width\": 0}, \"opacity\": 0.4}, \"ternary\": {\"aaxis\": {\"gridcolor\": \"#C6C2BF\", \"linecolor\": \"#A2B1C6\", \"ticks\": \"\"}, \"baxis\": {\"gridcolor\": \"#C6C2BF\", \"linecolor\": \"#A2B1C6\", \"ticks\": \"\"}, \"bgcolor\": \"white\", \"caxis\": {\"gridcolor\": \"#C6C2BF\", \"linecolor\": \"#A2B1C6\", \"ticks\": \"\"}}, \"title\": {\"x\": 0.05}, \"xaxis\": {\"automargin\": true, \"gridcolor\": \"#C6C2BF\", \"linecolor\": \"#C6C2BF\", \"ticks\": \"\", \"zerolinecolor\": \"#C6C2BF\", \"zerolinewidth\": 2}, \"yaxis\": {\"automargin\": true, \"gridcolor\": \"#C6C2BF\", \"linecolor\": \"#C6C2BF\", \"ticks\": \"\", \"zerolinecolor\": \"#C6C2BF\", \"zerolinewidth\": 2}}}, \"xaxis\": {\"title\": {\"text\": \"tid\"}}, \"yaxis\": {\"title\": {\"text\": \"stillingsnummer\"}}},\n",
       "                        {\"showLink\": false, \"linkText\": \"Export to plot.ly\", \"plotlyServerURL\": \"https://plot.ly\", \"responsive\": true}\n",
       "                    ).then(function(){\n",
       "                            \n",
       "var gd = document.getElementById('d5376a2d-c97b-436e-8207-24bc9cf7d752');\n",
       "var x = new MutationObserver(function (mutations, observer) {{\n",
       "        var display = window.getComputedStyle(gd).display;\n",
       "        if (!display || display === 'none') {{\n",
       "            console.log([gd, 'removed!']);\n",
       "            Plotly.purge(gd);\n",
       "            observer.disconnect();\n",
       "        }}\n",
       "}});\n",
       "\n",
       "// Listen for the removal of the full notebook cells\n",
       "var notebookContainer = gd.closest('#notebook-container');\n",
       "if (notebookContainer) {{\n",
       "    x.observe(notebookContainer, {childList: true});\n",
       "}}\n",
       "\n",
       "// Listen for the clearing of the current output cell\n",
       "var outputEl = gd.closest('.output');\n",
       "if (outputEl) {{\n",
       "    x.observe(outputEl, {childList: true});\n",
       "}}\n",
       "\n",
       "                        })\n",
       "                };\n",
       "                });\n",
       "            </script>\n",
       "        </div>"
      ]
     },
     "metadata": {},
     "output_type": "display_data"
    }
   ],
   "source": [
    "fig_antall_stillinger = px.line(df_c, x='tid', y='stillingsnummer', template=nav.plotly_template)\n",
    "fig_antall_stillinger"
   ]
  },
  {
   "cell_type": "code",
   "execution_count": 37,
   "metadata": {},
   "outputs": [
    {
     "data": {
      "application/vnd.plotly.v1+json": {
       "config": {
        "linkText": "Export to plot.ly",
        "plotlyServerURL": "https://plot.ly",
        "showLink": false
       },
       "data": [
        {
         "alignmentgroup": "True",
         "hoverlabel": {
          "namelength": 0
         },
         "hovertemplate": "arbeidssted_fylke=%{x}<br>stillingsnummer=%{y}",
         "legendgroup": "",
         "marker": {
          "color": "#636efa"
         },
         "name": "",
         "offsetgroup": "",
         "orientation": "v",
         "showlegend": false,
         "textposition": "auto",
         "type": "bar",
         "uid": "8b67bb3a-1eb2-4afe-a193-579e01d68298",
         "x": [
          "Oslo",
          "Hordaland",
          "Rogaland",
          "Akershus",
          "Møre og Romsdal",
          "Nordland",
          "Sør-Trøndelag",
          "Buskerud",
          "Troms",
          "Østfold",
          "Vestfold",
          "Oppland",
          "Hedmark",
          "Vest-Agder",
          "Telemark",
          "Sogn og Fjordane",
          "Finnmark",
          "Nord-Trøndelag",
          "Aust-Agder",
          "*",
          "Trøndelag",
          "Øvrige områder",
          "ENT"
         ],
         "xaxis": "x",
         "y": [
          479621,
          264672,
          247958,
          234968,
          143170,
          126292,
          121750,
          114207,
          101562,
          97045,
          89144,
          88706,
          85254,
          80496,
          66873,
          62187,
          52700,
          47144,
          46230,
          28409,
          20496,
          3354,
          1041
         ],
         "yaxis": "y"
        }
       ],
       "layout": {
        "barmode": "relative",
        "grid": {
         "xaxes": [
          "x"
         ],
         "xgap": 0.1,
         "xside": "bottom",
         "yaxes": [
          "y"
         ],
         "ygap": 0.1,
         "yside": "left"
        },
        "height": 600,
        "legend": {
         "tracegroupgap": 0
        },
        "margin": {
         "t": 60
        },
        "template": {
         "data": {
          "bar": [
           {
            "marker": {
             "line": {
              "color": "white",
              "width": 0.5
             }
            },
            "type": "bar"
           }
          ],
          "barpolar": [
           {
            "marker": {
             "line": {
              "color": "white",
              "width": 0.5
             }
            },
            "type": "barpolar"
           }
          ],
          "carpet": [
           {
            "aaxis": {
             "endlinecolor": "#2a3f5f",
             "gridcolor": "#C6C2BF",
             "linecolor": "#C6C2BF",
             "minorgridcolor": "#C6C2BF",
             "startlinecolor": "#2a3f5f"
            },
            "baxis": {
             "endlinecolor": "#2a3f5f",
             "gridcolor": "#C6C2BF",
             "linecolor": "#C6C2BF",
             "minorgridcolor": "#C6C2BF",
             "startlinecolor": "#2a3f5f"
            },
            "type": "carpet"
           }
          ],
          "choropleth": [
           {
            "colorbar": {
             "outlinewidth": 0,
             "ticks": ""
            },
            "type": "choropleth"
           }
          ],
          "contour": [
           {
            "colorbar": {
             "outlinewidth": 0,
             "ticks": ""
            },
            "colorscale": [
             [
              0,
              "#0067c5"
             ],
             [
              0.1,
              "#1e85d1"
             ],
             [
              0.2,
              "#3ea4dd"
             ],
             [
              0.3,
              "#5cc1e8"
             ],
             [
              0.4,
              "#70b6d3"
             ],
             [
              0.5,
              "#7e97af"
             ],
             [
              0.6,
              "#8b798d"
             ],
             [
              0.7,
              "#9a5a69"
             ],
             [
              0.8,
              "#a73d46"
             ],
             [
              0.9,
              "#b51e23"
             ],
             [
              1,
              "#c30000"
             ]
            ],
            "type": "contour"
           }
          ],
          "contourcarpet": [
           {
            "colorbar": {
             "outlinewidth": 0,
             "ticks": ""
            },
            "type": "contourcarpet"
           }
          ],
          "heatmap": [
           {
            "colorbar": {
             "outlinewidth": 0,
             "ticks": ""
            },
            "colorscale": [
             [
              0,
              "#0067c5"
             ],
             [
              0.1,
              "#1e85d1"
             ],
             [
              0.2,
              "#3ea4dd"
             ],
             [
              0.3,
              "#5cc1e8"
             ],
             [
              0.4,
              "#70b6d3"
             ],
             [
              0.5,
              "#7e97af"
             ],
             [
              0.6,
              "#8b798d"
             ],
             [
              0.7,
              "#9a5a69"
             ],
             [
              0.8,
              "#a73d46"
             ],
             [
              0.9,
              "#b51e23"
             ],
             [
              1,
              "#c30000"
             ]
            ],
            "type": "heatmap"
           }
          ],
          "heatmapgl": [
           {
            "colorbar": {
             "outlinewidth": 0,
             "ticks": ""
            },
            "type": "heatmapgl"
           }
          ],
          "histogram": [
           {
            "marker": {
             "colorbar": {
              "outlinewidth": 0,
              "ticks": ""
             }
            },
            "type": "histogram"
           }
          ],
          "histogram2d": [
           {
            "colorbar": {
             "outlinewidth": 0,
             "ticks": ""
            },
            "colorscale": [
             [
              0,
              "#0067c5"
             ],
             [
              0.1,
              "#1e85d1"
             ],
             [
              0.2,
              "#3ea4dd"
             ],
             [
              0.3,
              "#5cc1e8"
             ],
             [
              0.4,
              "#70b6d3"
             ],
             [
              0.5,
              "#7e97af"
             ],
             [
              0.6,
              "#8b798d"
             ],
             [
              0.7,
              "#9a5a69"
             ],
             [
              0.8,
              "#a73d46"
             ],
             [
              0.9,
              "#b51e23"
             ],
             [
              1,
              "#c30000"
             ]
            ],
            "type": "histogram2d"
           }
          ],
          "histogram2dcontour": [
           {
            "colorbar": {
             "outlinewidth": 0,
             "ticks": ""
            },
            "colorscale": [
             [
              0,
              "#0067c5"
             ],
             [
              0.1,
              "#1e85d1"
             ],
             [
              0.2,
              "#3ea4dd"
             ],
             [
              0.3,
              "#5cc1e8"
             ],
             [
              0.4,
              "#70b6d3"
             ],
             [
              0.5,
              "#7e97af"
             ],
             [
              0.6,
              "#8b798d"
             ],
             [
              0.7,
              "#9a5a69"
             ],
             [
              0.8,
              "#a73d46"
             ],
             [
              0.9,
              "#b51e23"
             ],
             [
              1,
              "#c30000"
             ]
            ],
            "type": "histogram2dcontour"
           }
          ],
          "mesh3d": [
           {
            "colorbar": {
             "outlinewidth": 0,
             "ticks": ""
            },
            "type": "mesh3d"
           }
          ],
          "parcoords": [
           {
            "line": {
             "colorbar": {
              "outlinewidth": 0,
              "ticks": ""
             }
            },
            "type": "parcoords"
           }
          ],
          "scatter": [
           {
            "marker": {
             "colorbar": {
              "outlinewidth": 0,
              "ticks": ""
             }
            },
            "type": "scatter"
           }
          ],
          "scatter3d": [
           {
            "marker": {
             "colorbar": {
              "outlinewidth": 0,
              "ticks": ""
             }
            },
            "type": "scatter3d"
           }
          ],
          "scattercarpet": [
           {
            "marker": {
             "colorbar": {
              "outlinewidth": 0,
              "ticks": ""
             }
            },
            "type": "scattercarpet"
           }
          ],
          "scattergeo": [
           {
            "marker": {
             "colorbar": {
              "outlinewidth": 0,
              "ticks": ""
             }
            },
            "type": "scattergeo"
           }
          ],
          "scattergl": [
           {
            "marker": {
             "colorbar": {
              "outlinewidth": 0,
              "ticks": ""
             }
            },
            "type": "scattergl"
           }
          ],
          "scattermapbox": [
           {
            "marker": {
             "colorbar": {
              "outlinewidth": 0,
              "ticks": ""
             }
            },
            "type": "scattermapbox"
           }
          ],
          "scatterpolar": [
           {
            "marker": {
             "colorbar": {
              "outlinewidth": 0,
              "ticks": ""
             }
            },
            "type": "scatterpolar"
           }
          ],
          "scatterpolargl": [
           {
            "marker": {
             "colorbar": {
              "outlinewidth": 0,
              "ticks": ""
             }
            },
            "type": "scatterpolargl"
           }
          ],
          "scatterternary": [
           {
            "marker": {
             "colorbar": {
              "outlinewidth": 0,
              "ticks": ""
             }
            },
            "type": "scatterternary"
           }
          ],
          "surface": [
           {
            "colorbar": {
             "outlinewidth": 0,
             "ticks": ""
            },
            "type": "surface"
           }
          ],
          "table": [
           {
            "cells": {
             "fill": {
              "color": "#C6C2BF"
             },
             "line": {
              "color": "white"
             }
            },
            "header": {
             "fill": {
              "color": "#C6C2BF"
             },
             "line": {
              "color": "white"
             }
            },
            "type": "table"
           }
          ]
         },
         "layout": {
          "annotationdefaults": {
           "arrowcolor": "#506784",
           "arrowhead": 0,
           "arrowwidth": 1
          },
          "colorscale": {
           "diverging": [
            [
             0,
             "#0067c5"
            ],
            [
             0.1,
             "#1e85d1"
            ],
            [
             0.2,
             "#3ea4dd"
            ],
            [
             0.3,
             "#5cc1e8"
            ],
            [
             0.4,
             "#70b6d3"
            ],
            [
             0.5,
             "#7e97af"
            ],
            [
             0.6,
             "#8b798d"
            ],
            [
             0.7,
             "#9a5a69"
            ],
            [
             0.8,
             "#a73d46"
            ],
            [
             0.9,
             "#b51e23"
            ],
            [
             1,
             "#c30000"
            ]
           ],
           "sequential": [
            [
             0,
             "#0067c5"
            ],
            [
             0.1,
             "#1e85d1"
            ],
            [
             0.2,
             "#3ea4dd"
            ],
            [
             0.3,
             "#5cc1e8"
            ],
            [
             0.4,
             "#70b6d3"
            ],
            [
             0.5,
             "#7e97af"
            ],
            [
             0.6,
             "#8b798d"
            ],
            [
             0.7,
             "#9a5a69"
            ],
            [
             0.8,
             "#a73d46"
            ],
            [
             0.9,
             "#b51e23"
            ],
            [
             1,
             "#c30000"
            ]
           ],
           "sequentialminus": [
            [
             0,
             "#0067c5"
            ],
            [
             0.1,
             "#1e85d1"
            ],
            [
             0.2,
             "#3ea4dd"
            ],
            [
             0.3,
             "#5cc1e8"
            ],
            [
             0.4,
             "#70b6d3"
            ],
            [
             0.5,
             "#7e97af"
            ],
            [
             0.6,
             "#8b798d"
            ],
            [
             0.7,
             "#9a5a69"
            ],
            [
             0.8,
             "#a73d46"
            ],
            [
             0.9,
             "#b51e23"
            ],
            [
             1,
             "#c30000"
            ]
           ]
          },
          "colorway": [
           "#0067C5",
           "#FF9100",
           "#A2AD00",
           "#06893A",
           "#634689",
           "#005B82",
           "#C30000",
           "#66CBEC",
           "#3E3832",
           "#B7B1A9"
          ],
          "font": {
           "color": "#2a3f5f",
           "family": "Helvetica Neue"
          },
          "geo": {
           "bgcolor": "white",
           "lakecolor": "white",
           "landcolor": "white",
           "showlakes": true,
           "showland": true,
           "subunitcolor": "#C6C2BF"
          },
          "hoverlabel": {
           "align": "left"
          },
          "hovermode": "closest",
          "mapbox": {
           "style": "light"
          },
          "paper_bgcolor": "white",
          "plot_bgcolor": "white",
          "polar": {
           "angularaxis": {
            "gridcolor": "#C6C2BF",
            "linecolor": "#C6C2BF",
            "ticks": ""
           },
           "bgcolor": "white",
           "radialaxis": {
            "gridcolor": "#C6C2BF",
            "linecolor": "#C6C2BF",
            "ticks": ""
           }
          },
          "scene": {
           "xaxis": {
            "backgroundcolor": "white",
            "gridcolor": "#C6C2BF",
            "gridwidth": 2,
            "linecolor": "#C6C2BF",
            "showbackground": true,
            "ticks": "",
            "zerolinecolor": "#C6C2BF"
           },
           "yaxis": {
            "backgroundcolor": "white",
            "gridcolor": "#C6C2BF",
            "gridwidth": 2,
            "linecolor": "#C6C2BF",
            "showbackground": true,
            "ticks": "",
            "zerolinecolor": "#C6C2BF"
           },
           "zaxis": {
            "backgroundcolor": "white",
            "gridcolor": "#C6C2BF",
            "gridwidth": 2,
            "linecolor": "#C6C2BF",
            "showbackground": true,
            "ticks": "",
            "zerolinecolor": "#C6C2BF"
           }
          },
          "shapedefaults": {
           "fillcolor": "#C30000",
           "line": {
            "width": 0
           },
           "opacity": 0.4
          },
          "ternary": {
           "aaxis": {
            "gridcolor": "#C6C2BF",
            "linecolor": "#A2B1C6",
            "ticks": ""
           },
           "baxis": {
            "gridcolor": "#C6C2BF",
            "linecolor": "#A2B1C6",
            "ticks": ""
           },
           "bgcolor": "white",
           "caxis": {
            "gridcolor": "#C6C2BF",
            "linecolor": "#A2B1C6",
            "ticks": ""
           }
          },
          "title": {
           "x": 0.05
          },
          "xaxis": {
           "automargin": true,
           "gridcolor": "#C6C2BF",
           "linecolor": "#C6C2BF",
           "ticks": "",
           "zerolinecolor": "#C6C2BF",
           "zerolinewidth": 2
          },
          "yaxis": {
           "automargin": true,
           "gridcolor": "#C6C2BF",
           "linecolor": "#C6C2BF",
           "ticks": "",
           "zerolinecolor": "#C6C2BF",
           "zerolinewidth": 2
          }
         }
        },
        "xaxis": {
         "title": {
          "text": "arbeidssted_fylke"
         }
        },
        "yaxis": {
         "title": {
          "text": "stillingsnummer"
         }
        }
       }
      },
      "text/html": [
       "<div>\n",
       "        \n",
       "        \n",
       "            <div id=\"b2a910ac-790a-4a28-8d46-f1e9e3a44233\" class=\"plotly-graph-div\" style=\"height:600px; width:100%;\"></div>\n",
       "            <script type=\"text/javascript\">\n",
       "                require([\"plotly\"], function(Plotly) {\n",
       "                    window.PLOTLYENV=window.PLOTLYENV || {};\n",
       "                    window.PLOTLYENV.BASE_URL='https://plot.ly';\n",
       "                    \n",
       "                if (document.getElementById(\"b2a910ac-790a-4a28-8d46-f1e9e3a44233\")) {\n",
       "                    Plotly.newPlot(\n",
       "                        'b2a910ac-790a-4a28-8d46-f1e9e3a44233',\n",
       "                        [{\"alignmentgroup\": \"True\", \"hoverlabel\": {\"namelength\": 0}, \"hovertemplate\": \"arbeidssted_fylke=%{x}<br>stillingsnummer=%{y}\", \"legendgroup\": \"\", \"marker\": {\"color\": \"#636efa\"}, \"name\": \"\", \"offsetgroup\": \"\", \"orientation\": \"v\", \"showlegend\": false, \"textposition\": \"auto\", \"type\": \"bar\", \"uid\": \"8b67bb3a-1eb2-4afe-a193-579e01d68298\", \"x\": [\"Oslo\", \"Hordaland\", \"Rogaland\", \"Akershus\", \"M\\u00f8re og Romsdal\", \"Nordland\", \"S\\u00f8r-Tr\\u00f8ndelag\", \"Buskerud\", \"Troms\", \"\\u00d8stfold\", \"Vestfold\", \"Oppland\", \"Hedmark\", \"Vest-Agder\", \"Telemark\", \"Sogn og Fjordane\", \"Finnmark\", \"Nord-Tr\\u00f8ndelag\", \"Aust-Agder\", \"*\", \"Tr\\u00f8ndelag\", \"\\u00d8vrige omr\\u00e5der\", \"ENT\"], \"xaxis\": \"x\", \"y\": [479621, 264672, 247958, 234968, 143170, 126292, 121750, 114207, 101562, 97045, 89144, 88706, 85254, 80496, 66873, 62187, 52700, 47144, 46230, 28409, 20496, 3354, 1041], \"yaxis\": \"y\"}],\n",
       "                        {\"barmode\": \"relative\", \"grid\": {\"xaxes\": [\"x\"], \"xgap\": 0.1, \"xside\": \"bottom\", \"yaxes\": [\"y\"], \"ygap\": 0.1, \"yside\": \"left\"}, \"height\": 600, \"legend\": {\"tracegroupgap\": 0}, \"margin\": {\"t\": 60}, \"template\": {\"data\": {\"bar\": [{\"marker\": {\"line\": {\"color\": \"white\", \"width\": 0.5}}, \"type\": \"bar\"}], \"barpolar\": [{\"marker\": {\"line\": {\"color\": \"white\", \"width\": 0.5}}, \"type\": \"barpolar\"}], \"carpet\": [{\"aaxis\": {\"endlinecolor\": \"#2a3f5f\", \"gridcolor\": \"#C6C2BF\", \"linecolor\": \"#C6C2BF\", \"minorgridcolor\": \"#C6C2BF\", \"startlinecolor\": \"#2a3f5f\"}, \"baxis\": {\"endlinecolor\": \"#2a3f5f\", \"gridcolor\": \"#C6C2BF\", \"linecolor\": \"#C6C2BF\", \"minorgridcolor\": \"#C6C2BF\", \"startlinecolor\": \"#2a3f5f\"}, \"type\": \"carpet\"}], \"choropleth\": [{\"colorbar\": {\"outlinewidth\": 0, \"ticks\": \"\"}, \"type\": \"choropleth\"}], \"contour\": [{\"colorbar\": {\"outlinewidth\": 0, \"ticks\": \"\"}, \"colorscale\": [[0.0, \"#0067c5\"], [0.1, \"#1e85d1\"], [0.2, \"#3ea4dd\"], [0.3, \"#5cc1e8\"], [0.4, \"#70b6d3\"], [0.5, \"#7e97af\"], [0.6, \"#8b798d\"], [0.7, \"#9a5a69\"], [0.8, \"#a73d46\"], [0.9, \"#b51e23\"], [1.0, \"#c30000\"]], \"type\": \"contour\"}], \"contourcarpet\": [{\"colorbar\": {\"outlinewidth\": 0, \"ticks\": \"\"}, \"type\": \"contourcarpet\"}], \"heatmap\": [{\"colorbar\": {\"outlinewidth\": 0, \"ticks\": \"\"}, \"colorscale\": [[0.0, \"#0067c5\"], [0.1, \"#1e85d1\"], [0.2, \"#3ea4dd\"], [0.3, \"#5cc1e8\"], [0.4, \"#70b6d3\"], [0.5, \"#7e97af\"], [0.6, \"#8b798d\"], [0.7, \"#9a5a69\"], [0.8, \"#a73d46\"], [0.9, \"#b51e23\"], [1.0, \"#c30000\"]], \"type\": \"heatmap\"}], \"heatmapgl\": [{\"colorbar\": {\"outlinewidth\": 0, \"ticks\": \"\"}, \"type\": \"heatmapgl\"}], \"histogram\": [{\"marker\": {\"colorbar\": {\"outlinewidth\": 0, \"ticks\": \"\"}}, \"type\": \"histogram\"}], \"histogram2d\": [{\"colorbar\": {\"outlinewidth\": 0, \"ticks\": \"\"}, \"colorscale\": [[0.0, \"#0067c5\"], [0.1, \"#1e85d1\"], [0.2, \"#3ea4dd\"], [0.3, \"#5cc1e8\"], [0.4, \"#70b6d3\"], [0.5, \"#7e97af\"], [0.6, \"#8b798d\"], [0.7, \"#9a5a69\"], [0.8, \"#a73d46\"], [0.9, \"#b51e23\"], [1.0, \"#c30000\"]], \"type\": \"histogram2d\"}], \"histogram2dcontour\": [{\"colorbar\": {\"outlinewidth\": 0, \"ticks\": \"\"}, \"colorscale\": [[0.0, \"#0067c5\"], [0.1, \"#1e85d1\"], [0.2, \"#3ea4dd\"], [0.3, \"#5cc1e8\"], [0.4, \"#70b6d3\"], [0.5, \"#7e97af\"], [0.6, \"#8b798d\"], [0.7, \"#9a5a69\"], [0.8, \"#a73d46\"], [0.9, \"#b51e23\"], [1.0, \"#c30000\"]], \"type\": \"histogram2dcontour\"}], \"mesh3d\": [{\"colorbar\": {\"outlinewidth\": 0, \"ticks\": \"\"}, \"type\": \"mesh3d\"}], \"parcoords\": [{\"line\": {\"colorbar\": {\"outlinewidth\": 0, \"ticks\": \"\"}}, \"type\": \"parcoords\"}], \"scatter\": [{\"marker\": {\"colorbar\": {\"outlinewidth\": 0, \"ticks\": \"\"}}, \"type\": \"scatter\"}], \"scatter3d\": [{\"marker\": {\"colorbar\": {\"outlinewidth\": 0, \"ticks\": \"\"}}, \"type\": \"scatter3d\"}], \"scattercarpet\": [{\"marker\": {\"colorbar\": {\"outlinewidth\": 0, \"ticks\": \"\"}}, \"type\": \"scattercarpet\"}], \"scattergeo\": [{\"marker\": {\"colorbar\": {\"outlinewidth\": 0, \"ticks\": \"\"}}, \"type\": \"scattergeo\"}], \"scattergl\": [{\"marker\": {\"colorbar\": {\"outlinewidth\": 0, \"ticks\": \"\"}}, \"type\": \"scattergl\"}], \"scattermapbox\": [{\"marker\": {\"colorbar\": {\"outlinewidth\": 0, \"ticks\": \"\"}}, \"type\": \"scattermapbox\"}], \"scatterpolar\": [{\"marker\": {\"colorbar\": {\"outlinewidth\": 0, \"ticks\": \"\"}}, \"type\": \"scatterpolar\"}], \"scatterpolargl\": [{\"marker\": {\"colorbar\": {\"outlinewidth\": 0, \"ticks\": \"\"}}, \"type\": \"scatterpolargl\"}], \"scatterternary\": [{\"marker\": {\"colorbar\": {\"outlinewidth\": 0, \"ticks\": \"\"}}, \"type\": \"scatterternary\"}], \"surface\": [{\"colorbar\": {\"outlinewidth\": 0, \"ticks\": \"\"}, \"type\": \"surface\"}], \"table\": [{\"cells\": {\"fill\": {\"color\": \"#C6C2BF\"}, \"line\": {\"color\": \"white\"}}, \"header\": {\"fill\": {\"color\": \"#C6C2BF\"}, \"line\": {\"color\": \"white\"}}, \"type\": \"table\"}]}, \"layout\": {\"annotationdefaults\": {\"arrowcolor\": \"#506784\", \"arrowhead\": 0, \"arrowwidth\": 1}, \"colorscale\": {\"diverging\": [[0.0, \"#0067c5\"], [0.1, \"#1e85d1\"], [0.2, \"#3ea4dd\"], [0.3, \"#5cc1e8\"], [0.4, \"#70b6d3\"], [0.5, \"#7e97af\"], [0.6, \"#8b798d\"], [0.7, \"#9a5a69\"], [0.8, \"#a73d46\"], [0.9, \"#b51e23\"], [1.0, \"#c30000\"]], \"sequential\": [[0.0, \"#0067c5\"], [0.1, \"#1e85d1\"], [0.2, \"#3ea4dd\"], [0.3, \"#5cc1e8\"], [0.4, \"#70b6d3\"], [0.5, \"#7e97af\"], [0.6, \"#8b798d\"], [0.7, \"#9a5a69\"], [0.8, \"#a73d46\"], [0.9, \"#b51e23\"], [1.0, \"#c30000\"]], \"sequentialminus\": [[0.0, \"#0067c5\"], [0.1, \"#1e85d1\"], [0.2, \"#3ea4dd\"], [0.3, \"#5cc1e8\"], [0.4, \"#70b6d3\"], [0.5, \"#7e97af\"], [0.6, \"#8b798d\"], [0.7, \"#9a5a69\"], [0.8, \"#a73d46\"], [0.9, \"#b51e23\"], [1.0, \"#c30000\"]]}, \"colorway\": [\"#0067C5\", \"#FF9100\", \"#A2AD00\", \"#06893A\", \"#634689\", \"#005B82\", \"#C30000\", \"#66CBEC\", \"#3E3832\", \"#B7B1A9\"], \"font\": {\"color\": \"#2a3f5f\", \"family\": \"Helvetica Neue\"}, \"geo\": {\"bgcolor\": \"white\", \"lakecolor\": \"white\", \"landcolor\": \"white\", \"showlakes\": true, \"showland\": true, \"subunitcolor\": \"#C6C2BF\"}, \"hoverlabel\": {\"align\": \"left\"}, \"hovermode\": \"closest\", \"mapbox\": {\"style\": \"light\"}, \"paper_bgcolor\": \"white\", \"plot_bgcolor\": \"white\", \"polar\": {\"angularaxis\": {\"gridcolor\": \"#C6C2BF\", \"linecolor\": \"#C6C2BF\", \"ticks\": \"\"}, \"bgcolor\": \"white\", \"radialaxis\": {\"gridcolor\": \"#C6C2BF\", \"linecolor\": \"#C6C2BF\", \"ticks\": \"\"}}, \"scene\": {\"xaxis\": {\"backgroundcolor\": \"white\", \"gridcolor\": \"#C6C2BF\", \"gridwidth\": 2, \"linecolor\": \"#C6C2BF\", \"showbackground\": true, \"ticks\": \"\", \"zerolinecolor\": \"#C6C2BF\"}, \"yaxis\": {\"backgroundcolor\": \"white\", \"gridcolor\": \"#C6C2BF\", \"gridwidth\": 2, \"linecolor\": \"#C6C2BF\", \"showbackground\": true, \"ticks\": \"\", \"zerolinecolor\": \"#C6C2BF\"}, \"zaxis\": {\"backgroundcolor\": \"white\", \"gridcolor\": \"#C6C2BF\", \"gridwidth\": 2, \"linecolor\": \"#C6C2BF\", \"showbackground\": true, \"ticks\": \"\", \"zerolinecolor\": \"#C6C2BF\"}}, \"shapedefaults\": {\"fillcolor\": \"#C30000\", \"line\": {\"width\": 0}, \"opacity\": 0.4}, \"ternary\": {\"aaxis\": {\"gridcolor\": \"#C6C2BF\", \"linecolor\": \"#A2B1C6\", \"ticks\": \"\"}, \"baxis\": {\"gridcolor\": \"#C6C2BF\", \"linecolor\": \"#A2B1C6\", \"ticks\": \"\"}, \"bgcolor\": \"white\", \"caxis\": {\"gridcolor\": \"#C6C2BF\", \"linecolor\": \"#A2B1C6\", \"ticks\": \"\"}}, \"title\": {\"x\": 0.05}, \"xaxis\": {\"automargin\": true, \"gridcolor\": \"#C6C2BF\", \"linecolor\": \"#C6C2BF\", \"ticks\": \"\", \"zerolinecolor\": \"#C6C2BF\", \"zerolinewidth\": 2}, \"yaxis\": {\"automargin\": true, \"gridcolor\": \"#C6C2BF\", \"linecolor\": \"#C6C2BF\", \"ticks\": \"\", \"zerolinecolor\": \"#C6C2BF\", \"zerolinewidth\": 2}}}, \"xaxis\": {\"title\": {\"text\": \"arbeidssted_fylke\"}}, \"yaxis\": {\"title\": {\"text\": \"stillingsnummer\"}}},\n",
       "                        {\"showLink\": false, \"linkText\": \"Export to plot.ly\", \"plotlyServerURL\": \"https://plot.ly\", \"responsive\": true}\n",
       "                    ).then(function(){\n",
       "                            \n",
       "var gd = document.getElementById('b2a910ac-790a-4a28-8d46-f1e9e3a44233');\n",
       "var x = new MutationObserver(function (mutations, observer) {{\n",
       "        var display = window.getComputedStyle(gd).display;\n",
       "        if (!display || display === 'none') {{\n",
       "            console.log([gd, 'removed!']);\n",
       "            Plotly.purge(gd);\n",
       "            observer.disconnect();\n",
       "        }}\n",
       "}});\n",
       "\n",
       "// Listen for the removal of the full notebook cells\n",
       "var notebookContainer = gd.closest('#notebook-container');\n",
       "if (notebookContainer) {{\n",
       "    x.observe(notebookContainer, {childList: true});\n",
       "}}\n",
       "\n",
       "// Listen for the clearing of the current output cell\n",
       "var outputEl = gd.closest('.output');\n",
       "if (outputEl) {{\n",
       "    x.observe(outputEl, {childList: true});\n",
       "}}\n",
       "\n",
       "                        })\n",
       "                };\n",
       "                });\n",
       "            </script>\n",
       "        </div>"
      ]
     },
     "metadata": {},
     "output_type": "display_data"
    }
   ],
   "source": [
    "df_k = df[['stillingsnummer','arbeidssted_fylke']].groupby('arbeidssted_fylke').count().reset_index() \\\n",
    "    .sort_values(by='stillingsnummer', ascending=False)\n",
    "fig_foretak_arbeidssted_fylke = px.bar(df_k, x='arbeidssted_fylke', y='stillingsnummer', template=nav.plotly_template)\n",
    "fig_foretak_arbeidssted_fylke"
   ]
  },
  {
   "cell_type": "code",
   "execution_count": 38,
   "metadata": {},
   "outputs": [
    {
     "data": {
      "application/vnd.plotly.v1+json": {
       "config": {
        "linkText": "Export to plot.ly",
        "plotlyServerURL": "https://plot.ly",
        "showLink": false
       },
       "data": [
        {
         "alignmentgroup": "True",
         "hoverlabel": {
          "namelength": 0
         },
         "hovertemplate": "foretak_sektor_gruppe=%{x}<br>stillingsnummer=%{y}",
         "legendgroup": "",
         "marker": {
          "color": "#636efa"
         },
         "name": "",
         "offsetgroup": "",
         "orientation": "v",
         "showlegend": false,
         "textposition": "auto",
         "type": "bar",
         "uid": "7b5dd2b1-b566-44d3-b35e-0bf538337896",
         "x": [
          "Privat og offentlig næringsvirksomhet",
          "Kommunal forvaltning",
          "Statlig forvaltning",
          "*",
          "Annet"
         ],
         "xaxis": "x",
         "y": [
          1296190,
          693299,
          368735,
          10306,
          160
         ],
         "yaxis": "y"
        }
       ],
       "layout": {
        "barmode": "relative",
        "grid": {
         "xaxes": [
          "x"
         ],
         "xgap": 0.1,
         "xside": "bottom",
         "yaxes": [
          "y"
         ],
         "ygap": 0.1,
         "yside": "left"
        },
        "height": 600,
        "legend": {
         "tracegroupgap": 0
        },
        "margin": {
         "t": 60
        },
        "template": {
         "data": {
          "bar": [
           {
            "marker": {
             "line": {
              "color": "white",
              "width": 0.5
             }
            },
            "type": "bar"
           }
          ],
          "barpolar": [
           {
            "marker": {
             "line": {
              "color": "white",
              "width": 0.5
             }
            },
            "type": "barpolar"
           }
          ],
          "carpet": [
           {
            "aaxis": {
             "endlinecolor": "#2a3f5f",
             "gridcolor": "#C6C2BF",
             "linecolor": "#C6C2BF",
             "minorgridcolor": "#C6C2BF",
             "startlinecolor": "#2a3f5f"
            },
            "baxis": {
             "endlinecolor": "#2a3f5f",
             "gridcolor": "#C6C2BF",
             "linecolor": "#C6C2BF",
             "minorgridcolor": "#C6C2BF",
             "startlinecolor": "#2a3f5f"
            },
            "type": "carpet"
           }
          ],
          "choropleth": [
           {
            "colorbar": {
             "outlinewidth": 0,
             "ticks": ""
            },
            "type": "choropleth"
           }
          ],
          "contour": [
           {
            "colorbar": {
             "outlinewidth": 0,
             "ticks": ""
            },
            "colorscale": [
             [
              0,
              "#0067c5"
             ],
             [
              0.1,
              "#1e85d1"
             ],
             [
              0.2,
              "#3ea4dd"
             ],
             [
              0.3,
              "#5cc1e8"
             ],
             [
              0.4,
              "#70b6d3"
             ],
             [
              0.5,
              "#7e97af"
             ],
             [
              0.6,
              "#8b798d"
             ],
             [
              0.7,
              "#9a5a69"
             ],
             [
              0.8,
              "#a73d46"
             ],
             [
              0.9,
              "#b51e23"
             ],
             [
              1,
              "#c30000"
             ]
            ],
            "type": "contour"
           }
          ],
          "contourcarpet": [
           {
            "colorbar": {
             "outlinewidth": 0,
             "ticks": ""
            },
            "type": "contourcarpet"
           }
          ],
          "heatmap": [
           {
            "colorbar": {
             "outlinewidth": 0,
             "ticks": ""
            },
            "colorscale": [
             [
              0,
              "#0067c5"
             ],
             [
              0.1,
              "#1e85d1"
             ],
             [
              0.2,
              "#3ea4dd"
             ],
             [
              0.3,
              "#5cc1e8"
             ],
             [
              0.4,
              "#70b6d3"
             ],
             [
              0.5,
              "#7e97af"
             ],
             [
              0.6,
              "#8b798d"
             ],
             [
              0.7,
              "#9a5a69"
             ],
             [
              0.8,
              "#a73d46"
             ],
             [
              0.9,
              "#b51e23"
             ],
             [
              1,
              "#c30000"
             ]
            ],
            "type": "heatmap"
           }
          ],
          "heatmapgl": [
           {
            "colorbar": {
             "outlinewidth": 0,
             "ticks": ""
            },
            "type": "heatmapgl"
           }
          ],
          "histogram": [
           {
            "marker": {
             "colorbar": {
              "outlinewidth": 0,
              "ticks": ""
             }
            },
            "type": "histogram"
           }
          ],
          "histogram2d": [
           {
            "colorbar": {
             "outlinewidth": 0,
             "ticks": ""
            },
            "colorscale": [
             [
              0,
              "#0067c5"
             ],
             [
              0.1,
              "#1e85d1"
             ],
             [
              0.2,
              "#3ea4dd"
             ],
             [
              0.3,
              "#5cc1e8"
             ],
             [
              0.4,
              "#70b6d3"
             ],
             [
              0.5,
              "#7e97af"
             ],
             [
              0.6,
              "#8b798d"
             ],
             [
              0.7,
              "#9a5a69"
             ],
             [
              0.8,
              "#a73d46"
             ],
             [
              0.9,
              "#b51e23"
             ],
             [
              1,
              "#c30000"
             ]
            ],
            "type": "histogram2d"
           }
          ],
          "histogram2dcontour": [
           {
            "colorbar": {
             "outlinewidth": 0,
             "ticks": ""
            },
            "colorscale": [
             [
              0,
              "#0067c5"
             ],
             [
              0.1,
              "#1e85d1"
             ],
             [
              0.2,
              "#3ea4dd"
             ],
             [
              0.3,
              "#5cc1e8"
             ],
             [
              0.4,
              "#70b6d3"
             ],
             [
              0.5,
              "#7e97af"
             ],
             [
              0.6,
              "#8b798d"
             ],
             [
              0.7,
              "#9a5a69"
             ],
             [
              0.8,
              "#a73d46"
             ],
             [
              0.9,
              "#b51e23"
             ],
             [
              1,
              "#c30000"
             ]
            ],
            "type": "histogram2dcontour"
           }
          ],
          "mesh3d": [
           {
            "colorbar": {
             "outlinewidth": 0,
             "ticks": ""
            },
            "type": "mesh3d"
           }
          ],
          "parcoords": [
           {
            "line": {
             "colorbar": {
              "outlinewidth": 0,
              "ticks": ""
             }
            },
            "type": "parcoords"
           }
          ],
          "scatter": [
           {
            "marker": {
             "colorbar": {
              "outlinewidth": 0,
              "ticks": ""
             }
            },
            "type": "scatter"
           }
          ],
          "scatter3d": [
           {
            "marker": {
             "colorbar": {
              "outlinewidth": 0,
              "ticks": ""
             }
            },
            "type": "scatter3d"
           }
          ],
          "scattercarpet": [
           {
            "marker": {
             "colorbar": {
              "outlinewidth": 0,
              "ticks": ""
             }
            },
            "type": "scattercarpet"
           }
          ],
          "scattergeo": [
           {
            "marker": {
             "colorbar": {
              "outlinewidth": 0,
              "ticks": ""
             }
            },
            "type": "scattergeo"
           }
          ],
          "scattergl": [
           {
            "marker": {
             "colorbar": {
              "outlinewidth": 0,
              "ticks": ""
             }
            },
            "type": "scattergl"
           }
          ],
          "scattermapbox": [
           {
            "marker": {
             "colorbar": {
              "outlinewidth": 0,
              "ticks": ""
             }
            },
            "type": "scattermapbox"
           }
          ],
          "scatterpolar": [
           {
            "marker": {
             "colorbar": {
              "outlinewidth": 0,
              "ticks": ""
             }
            },
            "type": "scatterpolar"
           }
          ],
          "scatterpolargl": [
           {
            "marker": {
             "colorbar": {
              "outlinewidth": 0,
              "ticks": ""
             }
            },
            "type": "scatterpolargl"
           }
          ],
          "scatterternary": [
           {
            "marker": {
             "colorbar": {
              "outlinewidth": 0,
              "ticks": ""
             }
            },
            "type": "scatterternary"
           }
          ],
          "surface": [
           {
            "colorbar": {
             "outlinewidth": 0,
             "ticks": ""
            },
            "type": "surface"
           }
          ],
          "table": [
           {
            "cells": {
             "fill": {
              "color": "#C6C2BF"
             },
             "line": {
              "color": "white"
             }
            },
            "header": {
             "fill": {
              "color": "#C6C2BF"
             },
             "line": {
              "color": "white"
             }
            },
            "type": "table"
           }
          ]
         },
         "layout": {
          "annotationdefaults": {
           "arrowcolor": "#506784",
           "arrowhead": 0,
           "arrowwidth": 1
          },
          "colorscale": {
           "diverging": [
            [
             0,
             "#0067c5"
            ],
            [
             0.1,
             "#1e85d1"
            ],
            [
             0.2,
             "#3ea4dd"
            ],
            [
             0.3,
             "#5cc1e8"
            ],
            [
             0.4,
             "#70b6d3"
            ],
            [
             0.5,
             "#7e97af"
            ],
            [
             0.6,
             "#8b798d"
            ],
            [
             0.7,
             "#9a5a69"
            ],
            [
             0.8,
             "#a73d46"
            ],
            [
             0.9,
             "#b51e23"
            ],
            [
             1,
             "#c30000"
            ]
           ],
           "sequential": [
            [
             0,
             "#0067c5"
            ],
            [
             0.1,
             "#1e85d1"
            ],
            [
             0.2,
             "#3ea4dd"
            ],
            [
             0.3,
             "#5cc1e8"
            ],
            [
             0.4,
             "#70b6d3"
            ],
            [
             0.5,
             "#7e97af"
            ],
            [
             0.6,
             "#8b798d"
            ],
            [
             0.7,
             "#9a5a69"
            ],
            [
             0.8,
             "#a73d46"
            ],
            [
             0.9,
             "#b51e23"
            ],
            [
             1,
             "#c30000"
            ]
           ],
           "sequentialminus": [
            [
             0,
             "#0067c5"
            ],
            [
             0.1,
             "#1e85d1"
            ],
            [
             0.2,
             "#3ea4dd"
            ],
            [
             0.3,
             "#5cc1e8"
            ],
            [
             0.4,
             "#70b6d3"
            ],
            [
             0.5,
             "#7e97af"
            ],
            [
             0.6,
             "#8b798d"
            ],
            [
             0.7,
             "#9a5a69"
            ],
            [
             0.8,
             "#a73d46"
            ],
            [
             0.9,
             "#b51e23"
            ],
            [
             1,
             "#c30000"
            ]
           ]
          },
          "colorway": [
           "#0067C5",
           "#FF9100",
           "#A2AD00",
           "#06893A",
           "#634689",
           "#005B82",
           "#C30000",
           "#66CBEC",
           "#3E3832",
           "#B7B1A9"
          ],
          "font": {
           "color": "#2a3f5f",
           "family": "Helvetica Neue"
          },
          "geo": {
           "bgcolor": "white",
           "lakecolor": "white",
           "landcolor": "white",
           "showlakes": true,
           "showland": true,
           "subunitcolor": "#C6C2BF"
          },
          "hoverlabel": {
           "align": "left"
          },
          "hovermode": "closest",
          "mapbox": {
           "style": "light"
          },
          "paper_bgcolor": "white",
          "plot_bgcolor": "white",
          "polar": {
           "angularaxis": {
            "gridcolor": "#C6C2BF",
            "linecolor": "#C6C2BF",
            "ticks": ""
           },
           "bgcolor": "white",
           "radialaxis": {
            "gridcolor": "#C6C2BF",
            "linecolor": "#C6C2BF",
            "ticks": ""
           }
          },
          "scene": {
           "xaxis": {
            "backgroundcolor": "white",
            "gridcolor": "#C6C2BF",
            "gridwidth": 2,
            "linecolor": "#C6C2BF",
            "showbackground": true,
            "ticks": "",
            "zerolinecolor": "#C6C2BF"
           },
           "yaxis": {
            "backgroundcolor": "white",
            "gridcolor": "#C6C2BF",
            "gridwidth": 2,
            "linecolor": "#C6C2BF",
            "showbackground": true,
            "ticks": "",
            "zerolinecolor": "#C6C2BF"
           },
           "zaxis": {
            "backgroundcolor": "white",
            "gridcolor": "#C6C2BF",
            "gridwidth": 2,
            "linecolor": "#C6C2BF",
            "showbackground": true,
            "ticks": "",
            "zerolinecolor": "#C6C2BF"
           }
          },
          "shapedefaults": {
           "fillcolor": "#C30000",
           "line": {
            "width": 0
           },
           "opacity": 0.4
          },
          "ternary": {
           "aaxis": {
            "gridcolor": "#C6C2BF",
            "linecolor": "#A2B1C6",
            "ticks": ""
           },
           "baxis": {
            "gridcolor": "#C6C2BF",
            "linecolor": "#A2B1C6",
            "ticks": ""
           },
           "bgcolor": "white",
           "caxis": {
            "gridcolor": "#C6C2BF",
            "linecolor": "#A2B1C6",
            "ticks": ""
           }
          },
          "title": {
           "x": 0.05
          },
          "xaxis": {
           "automargin": true,
           "gridcolor": "#C6C2BF",
           "linecolor": "#C6C2BF",
           "ticks": "",
           "zerolinecolor": "#C6C2BF",
           "zerolinewidth": 2
          },
          "yaxis": {
           "automargin": true,
           "gridcolor": "#C6C2BF",
           "linecolor": "#C6C2BF",
           "ticks": "",
           "zerolinecolor": "#C6C2BF",
           "zerolinewidth": 2
          }
         }
        },
        "xaxis": {
         "title": {
          "text": "foretak_sektor_gruppe"
         }
        },
        "yaxis": {
         "title": {
          "text": "stillingsnummer"
         }
        }
       }
      },
      "text/html": [
       "<div>\n",
       "        \n",
       "        \n",
       "            <div id=\"31ec015d-1dda-4f98-bf47-1fd074ab2bef\" class=\"plotly-graph-div\" style=\"height:600px; width:100%;\"></div>\n",
       "            <script type=\"text/javascript\">\n",
       "                require([\"plotly\"], function(Plotly) {\n",
       "                    window.PLOTLYENV=window.PLOTLYENV || {};\n",
       "                    window.PLOTLYENV.BASE_URL='https://plot.ly';\n",
       "                    \n",
       "                if (document.getElementById(\"31ec015d-1dda-4f98-bf47-1fd074ab2bef\")) {\n",
       "                    Plotly.newPlot(\n",
       "                        '31ec015d-1dda-4f98-bf47-1fd074ab2bef',\n",
       "                        [{\"alignmentgroup\": \"True\", \"hoverlabel\": {\"namelength\": 0}, \"hovertemplate\": \"foretak_sektor_gruppe=%{x}<br>stillingsnummer=%{y}\", \"legendgroup\": \"\", \"marker\": {\"color\": \"#636efa\"}, \"name\": \"\", \"offsetgroup\": \"\", \"orientation\": \"v\", \"showlegend\": false, \"textposition\": \"auto\", \"type\": \"bar\", \"uid\": \"7b5dd2b1-b566-44d3-b35e-0bf538337896\", \"x\": [\"Privat og offentlig n\\u00e6ringsvirksomhet\", \"Kommunal forvaltning\", \"Statlig forvaltning\", \"*\", \"Annet\"], \"xaxis\": \"x\", \"y\": [1296190, 693299, 368735, 10306, 160], \"yaxis\": \"y\"}],\n",
       "                        {\"barmode\": \"relative\", \"grid\": {\"xaxes\": [\"x\"], \"xgap\": 0.1, \"xside\": \"bottom\", \"yaxes\": [\"y\"], \"ygap\": 0.1, \"yside\": \"left\"}, \"height\": 600, \"legend\": {\"tracegroupgap\": 0}, \"margin\": {\"t\": 60}, \"template\": {\"data\": {\"bar\": [{\"marker\": {\"line\": {\"color\": \"white\", \"width\": 0.5}}, \"type\": \"bar\"}], \"barpolar\": [{\"marker\": {\"line\": {\"color\": \"white\", \"width\": 0.5}}, \"type\": \"barpolar\"}], \"carpet\": [{\"aaxis\": {\"endlinecolor\": \"#2a3f5f\", \"gridcolor\": \"#C6C2BF\", \"linecolor\": \"#C6C2BF\", \"minorgridcolor\": \"#C6C2BF\", \"startlinecolor\": \"#2a3f5f\"}, \"baxis\": {\"endlinecolor\": \"#2a3f5f\", \"gridcolor\": \"#C6C2BF\", \"linecolor\": \"#C6C2BF\", \"minorgridcolor\": \"#C6C2BF\", \"startlinecolor\": \"#2a3f5f\"}, \"type\": \"carpet\"}], \"choropleth\": [{\"colorbar\": {\"outlinewidth\": 0, \"ticks\": \"\"}, \"type\": \"choropleth\"}], \"contour\": [{\"colorbar\": {\"outlinewidth\": 0, \"ticks\": \"\"}, \"colorscale\": [[0.0, \"#0067c5\"], [0.1, \"#1e85d1\"], [0.2, \"#3ea4dd\"], [0.3, \"#5cc1e8\"], [0.4, \"#70b6d3\"], [0.5, \"#7e97af\"], [0.6, \"#8b798d\"], [0.7, \"#9a5a69\"], [0.8, \"#a73d46\"], [0.9, \"#b51e23\"], [1.0, \"#c30000\"]], \"type\": \"contour\"}], \"contourcarpet\": [{\"colorbar\": {\"outlinewidth\": 0, \"ticks\": \"\"}, \"type\": \"contourcarpet\"}], \"heatmap\": [{\"colorbar\": {\"outlinewidth\": 0, \"ticks\": \"\"}, \"colorscale\": [[0.0, \"#0067c5\"], [0.1, \"#1e85d1\"], [0.2, \"#3ea4dd\"], [0.3, \"#5cc1e8\"], [0.4, \"#70b6d3\"], [0.5, \"#7e97af\"], [0.6, \"#8b798d\"], [0.7, \"#9a5a69\"], [0.8, \"#a73d46\"], [0.9, \"#b51e23\"], [1.0, \"#c30000\"]], \"type\": \"heatmap\"}], \"heatmapgl\": [{\"colorbar\": {\"outlinewidth\": 0, \"ticks\": \"\"}, \"type\": \"heatmapgl\"}], \"histogram\": [{\"marker\": {\"colorbar\": {\"outlinewidth\": 0, \"ticks\": \"\"}}, \"type\": \"histogram\"}], \"histogram2d\": [{\"colorbar\": {\"outlinewidth\": 0, \"ticks\": \"\"}, \"colorscale\": [[0.0, \"#0067c5\"], [0.1, \"#1e85d1\"], [0.2, \"#3ea4dd\"], [0.3, \"#5cc1e8\"], [0.4, \"#70b6d3\"], [0.5, \"#7e97af\"], [0.6, \"#8b798d\"], [0.7, \"#9a5a69\"], [0.8, \"#a73d46\"], [0.9, \"#b51e23\"], [1.0, \"#c30000\"]], \"type\": \"histogram2d\"}], \"histogram2dcontour\": [{\"colorbar\": {\"outlinewidth\": 0, \"ticks\": \"\"}, \"colorscale\": [[0.0, \"#0067c5\"], [0.1, \"#1e85d1\"], [0.2, \"#3ea4dd\"], [0.3, \"#5cc1e8\"], [0.4, \"#70b6d3\"], [0.5, \"#7e97af\"], [0.6, \"#8b798d\"], [0.7, \"#9a5a69\"], [0.8, \"#a73d46\"], [0.9, \"#b51e23\"], [1.0, \"#c30000\"]], \"type\": \"histogram2dcontour\"}], \"mesh3d\": [{\"colorbar\": {\"outlinewidth\": 0, \"ticks\": \"\"}, \"type\": \"mesh3d\"}], \"parcoords\": [{\"line\": {\"colorbar\": {\"outlinewidth\": 0, \"ticks\": \"\"}}, \"type\": \"parcoords\"}], \"scatter\": [{\"marker\": {\"colorbar\": {\"outlinewidth\": 0, \"ticks\": \"\"}}, \"type\": \"scatter\"}], \"scatter3d\": [{\"marker\": {\"colorbar\": {\"outlinewidth\": 0, \"ticks\": \"\"}}, \"type\": \"scatter3d\"}], \"scattercarpet\": [{\"marker\": {\"colorbar\": {\"outlinewidth\": 0, \"ticks\": \"\"}}, \"type\": \"scattercarpet\"}], \"scattergeo\": [{\"marker\": {\"colorbar\": {\"outlinewidth\": 0, \"ticks\": \"\"}}, \"type\": \"scattergeo\"}], \"scattergl\": [{\"marker\": {\"colorbar\": {\"outlinewidth\": 0, \"ticks\": \"\"}}, \"type\": \"scattergl\"}], \"scattermapbox\": [{\"marker\": {\"colorbar\": {\"outlinewidth\": 0, \"ticks\": \"\"}}, \"type\": \"scattermapbox\"}], \"scatterpolar\": [{\"marker\": {\"colorbar\": {\"outlinewidth\": 0, \"ticks\": \"\"}}, \"type\": \"scatterpolar\"}], \"scatterpolargl\": [{\"marker\": {\"colorbar\": {\"outlinewidth\": 0, \"ticks\": \"\"}}, \"type\": \"scatterpolargl\"}], \"scatterternary\": [{\"marker\": {\"colorbar\": {\"outlinewidth\": 0, \"ticks\": \"\"}}, \"type\": \"scatterternary\"}], \"surface\": [{\"colorbar\": {\"outlinewidth\": 0, \"ticks\": \"\"}, \"type\": \"surface\"}], \"table\": [{\"cells\": {\"fill\": {\"color\": \"#C6C2BF\"}, \"line\": {\"color\": \"white\"}}, \"header\": {\"fill\": {\"color\": \"#C6C2BF\"}, \"line\": {\"color\": \"white\"}}, \"type\": \"table\"}]}, \"layout\": {\"annotationdefaults\": {\"arrowcolor\": \"#506784\", \"arrowhead\": 0, \"arrowwidth\": 1}, \"colorscale\": {\"diverging\": [[0.0, \"#0067c5\"], [0.1, \"#1e85d1\"], [0.2, \"#3ea4dd\"], [0.3, \"#5cc1e8\"], [0.4, \"#70b6d3\"], [0.5, \"#7e97af\"], [0.6, \"#8b798d\"], [0.7, \"#9a5a69\"], [0.8, \"#a73d46\"], [0.9, \"#b51e23\"], [1.0, \"#c30000\"]], \"sequential\": [[0.0, \"#0067c5\"], [0.1, \"#1e85d1\"], [0.2, \"#3ea4dd\"], [0.3, \"#5cc1e8\"], [0.4, \"#70b6d3\"], [0.5, \"#7e97af\"], [0.6, \"#8b798d\"], [0.7, \"#9a5a69\"], [0.8, \"#a73d46\"], [0.9, \"#b51e23\"], [1.0, \"#c30000\"]], \"sequentialminus\": [[0.0, \"#0067c5\"], [0.1, \"#1e85d1\"], [0.2, \"#3ea4dd\"], [0.3, \"#5cc1e8\"], [0.4, \"#70b6d3\"], [0.5, \"#7e97af\"], [0.6, \"#8b798d\"], [0.7, \"#9a5a69\"], [0.8, \"#a73d46\"], [0.9, \"#b51e23\"], [1.0, \"#c30000\"]]}, \"colorway\": [\"#0067C5\", \"#FF9100\", \"#A2AD00\", \"#06893A\", \"#634689\", \"#005B82\", \"#C30000\", \"#66CBEC\", \"#3E3832\", \"#B7B1A9\"], \"font\": {\"color\": \"#2a3f5f\", \"family\": \"Helvetica Neue\"}, \"geo\": {\"bgcolor\": \"white\", \"lakecolor\": \"white\", \"landcolor\": \"white\", \"showlakes\": true, \"showland\": true, \"subunitcolor\": \"#C6C2BF\"}, \"hoverlabel\": {\"align\": \"left\"}, \"hovermode\": \"closest\", \"mapbox\": {\"style\": \"light\"}, \"paper_bgcolor\": \"white\", \"plot_bgcolor\": \"white\", \"polar\": {\"angularaxis\": {\"gridcolor\": \"#C6C2BF\", \"linecolor\": \"#C6C2BF\", \"ticks\": \"\"}, \"bgcolor\": \"white\", \"radialaxis\": {\"gridcolor\": \"#C6C2BF\", \"linecolor\": \"#C6C2BF\", \"ticks\": \"\"}}, \"scene\": {\"xaxis\": {\"backgroundcolor\": \"white\", \"gridcolor\": \"#C6C2BF\", \"gridwidth\": 2, \"linecolor\": \"#C6C2BF\", \"showbackground\": true, \"ticks\": \"\", \"zerolinecolor\": \"#C6C2BF\"}, \"yaxis\": {\"backgroundcolor\": \"white\", \"gridcolor\": \"#C6C2BF\", \"gridwidth\": 2, \"linecolor\": \"#C6C2BF\", \"showbackground\": true, \"ticks\": \"\", \"zerolinecolor\": \"#C6C2BF\"}, \"zaxis\": {\"backgroundcolor\": \"white\", \"gridcolor\": \"#C6C2BF\", \"gridwidth\": 2, \"linecolor\": \"#C6C2BF\", \"showbackground\": true, \"ticks\": \"\", \"zerolinecolor\": \"#C6C2BF\"}}, \"shapedefaults\": {\"fillcolor\": \"#C30000\", \"line\": {\"width\": 0}, \"opacity\": 0.4}, \"ternary\": {\"aaxis\": {\"gridcolor\": \"#C6C2BF\", \"linecolor\": \"#A2B1C6\", \"ticks\": \"\"}, \"baxis\": {\"gridcolor\": \"#C6C2BF\", \"linecolor\": \"#A2B1C6\", \"ticks\": \"\"}, \"bgcolor\": \"white\", \"caxis\": {\"gridcolor\": \"#C6C2BF\", \"linecolor\": \"#A2B1C6\", \"ticks\": \"\"}}, \"title\": {\"x\": 0.05}, \"xaxis\": {\"automargin\": true, \"gridcolor\": \"#C6C2BF\", \"linecolor\": \"#C6C2BF\", \"ticks\": \"\", \"zerolinecolor\": \"#C6C2BF\", \"zerolinewidth\": 2}, \"yaxis\": {\"automargin\": true, \"gridcolor\": \"#C6C2BF\", \"linecolor\": \"#C6C2BF\", \"ticks\": \"\", \"zerolinecolor\": \"#C6C2BF\", \"zerolinewidth\": 2}}}, \"xaxis\": {\"title\": {\"text\": \"foretak_sektor_gruppe\"}}, \"yaxis\": {\"title\": {\"text\": \"stillingsnummer\"}}},\n",
       "                        {\"showLink\": false, \"linkText\": \"Export to plot.ly\", \"plotlyServerURL\": \"https://plot.ly\", \"responsive\": true}\n",
       "                    ).then(function(){\n",
       "                            \n",
       "var gd = document.getElementById('31ec015d-1dda-4f98-bf47-1fd074ab2bef');\n",
       "var x = new MutationObserver(function (mutations, observer) {{\n",
       "        var display = window.getComputedStyle(gd).display;\n",
       "        if (!display || display === 'none') {{\n",
       "            console.log([gd, 'removed!']);\n",
       "            Plotly.purge(gd);\n",
       "            observer.disconnect();\n",
       "        }}\n",
       "}});\n",
       "\n",
       "// Listen for the removal of the full notebook cells\n",
       "var notebookContainer = gd.closest('#notebook-container');\n",
       "if (notebookContainer) {{\n",
       "    x.observe(notebookContainer, {childList: true});\n",
       "}}\n",
       "\n",
       "// Listen for the clearing of the current output cell\n",
       "var outputEl = gd.closest('.output');\n",
       "if (outputEl) {{\n",
       "    x.observe(outputEl, {childList: true});\n",
       "}}\n",
       "\n",
       "                        })\n",
       "                };\n",
       "                });\n",
       "            </script>\n",
       "        </div>"
      ]
     },
     "metadata": {},
     "output_type": "display_data"
    }
   ],
   "source": [
    "df_k = df[['stillingsnummer','foretak_sektor_gruppe']].groupby('foretak_sektor_gruppe').count().reset_index() \\\n",
    "    .sort_values(by='stillingsnummer', ascending=False)\n",
    "fig_foretak_sektor_gruppe = px.bar(df_k, x='foretak_sektor_gruppe', y='stillingsnummer', template=nav.plotly_template)\n",
    "fig_foretak_sektor_gruppe"
   ]
  },
  {
   "cell_type": "code",
   "execution_count": 39,
   "metadata": {},
   "outputs": [
    {
     "data": {
      "application/vnd.plotly.v1+json": {
       "config": {
        "linkText": "Export to plot.ly",
        "plotlyServerURL": "https://plot.ly",
        "showLink": false
       },
       "data": [
        {
         "alignmentgroup": "True",
         "hoverlabel": {
          "namelength": 0
         },
         "hovertemplate": "stilling_kilde=%{x}<br>stillingsnummer=%{y}",
         "legendgroup": "",
         "marker": {
          "color": "#636efa"
         },
         "name": "",
         "offsetgroup": "",
         "orientation": "v",
         "showlegend": false,
         "textposition": "auto",
         "type": "bar",
         "uid": "ee435a0f-4354-47db-ad12-c223914310c5",
         "x": [
          "Annonsert i media",
          "Reg av arb.giver på nav.no",
          "Overført fra arbeidsgiver",
          "Overført fra PAM annonsemottak",
          "Fra Eures",
          "Annonsesamarbeid med FINN",
          "Ukjent"
         ],
         "xaxis": "x",
         "y": [
          1906501,
          404302,
          212730,
          55216,
          24501,
          20,
          9
         ],
         "yaxis": "y"
        }
       ],
       "layout": {
        "barmode": "relative",
        "grid": {
         "xaxes": [
          "x"
         ],
         "xgap": 0.1,
         "xside": "bottom",
         "yaxes": [
          "y"
         ],
         "ygap": 0.1,
         "yside": "left"
        },
        "height": 600,
        "legend": {
         "tracegroupgap": 0
        },
        "margin": {
         "t": 60
        },
        "template": {
         "data": {
          "bar": [
           {
            "marker": {
             "line": {
              "color": "white",
              "width": 0.5
             }
            },
            "type": "bar"
           }
          ],
          "barpolar": [
           {
            "marker": {
             "line": {
              "color": "white",
              "width": 0.5
             }
            },
            "type": "barpolar"
           }
          ],
          "carpet": [
           {
            "aaxis": {
             "endlinecolor": "#2a3f5f",
             "gridcolor": "#C6C2BF",
             "linecolor": "#C6C2BF",
             "minorgridcolor": "#C6C2BF",
             "startlinecolor": "#2a3f5f"
            },
            "baxis": {
             "endlinecolor": "#2a3f5f",
             "gridcolor": "#C6C2BF",
             "linecolor": "#C6C2BF",
             "minorgridcolor": "#C6C2BF",
             "startlinecolor": "#2a3f5f"
            },
            "type": "carpet"
           }
          ],
          "choropleth": [
           {
            "colorbar": {
             "outlinewidth": 0,
             "ticks": ""
            },
            "type": "choropleth"
           }
          ],
          "contour": [
           {
            "colorbar": {
             "outlinewidth": 0,
             "ticks": ""
            },
            "colorscale": [
             [
              0,
              "#0067c5"
             ],
             [
              0.1,
              "#1e85d1"
             ],
             [
              0.2,
              "#3ea4dd"
             ],
             [
              0.3,
              "#5cc1e8"
             ],
             [
              0.4,
              "#70b6d3"
             ],
             [
              0.5,
              "#7e97af"
             ],
             [
              0.6,
              "#8b798d"
             ],
             [
              0.7,
              "#9a5a69"
             ],
             [
              0.8,
              "#a73d46"
             ],
             [
              0.9,
              "#b51e23"
             ],
             [
              1,
              "#c30000"
             ]
            ],
            "type": "contour"
           }
          ],
          "contourcarpet": [
           {
            "colorbar": {
             "outlinewidth": 0,
             "ticks": ""
            },
            "type": "contourcarpet"
           }
          ],
          "heatmap": [
           {
            "colorbar": {
             "outlinewidth": 0,
             "ticks": ""
            },
            "colorscale": [
             [
              0,
              "#0067c5"
             ],
             [
              0.1,
              "#1e85d1"
             ],
             [
              0.2,
              "#3ea4dd"
             ],
             [
              0.3,
              "#5cc1e8"
             ],
             [
              0.4,
              "#70b6d3"
             ],
             [
              0.5,
              "#7e97af"
             ],
             [
              0.6,
              "#8b798d"
             ],
             [
              0.7,
              "#9a5a69"
             ],
             [
              0.8,
              "#a73d46"
             ],
             [
              0.9,
              "#b51e23"
             ],
             [
              1,
              "#c30000"
             ]
            ],
            "type": "heatmap"
           }
          ],
          "heatmapgl": [
           {
            "colorbar": {
             "outlinewidth": 0,
             "ticks": ""
            },
            "type": "heatmapgl"
           }
          ],
          "histogram": [
           {
            "marker": {
             "colorbar": {
              "outlinewidth": 0,
              "ticks": ""
             }
            },
            "type": "histogram"
           }
          ],
          "histogram2d": [
           {
            "colorbar": {
             "outlinewidth": 0,
             "ticks": ""
            },
            "colorscale": [
             [
              0,
              "#0067c5"
             ],
             [
              0.1,
              "#1e85d1"
             ],
             [
              0.2,
              "#3ea4dd"
             ],
             [
              0.3,
              "#5cc1e8"
             ],
             [
              0.4,
              "#70b6d3"
             ],
             [
              0.5,
              "#7e97af"
             ],
             [
              0.6,
              "#8b798d"
             ],
             [
              0.7,
              "#9a5a69"
             ],
             [
              0.8,
              "#a73d46"
             ],
             [
              0.9,
              "#b51e23"
             ],
             [
              1,
              "#c30000"
             ]
            ],
            "type": "histogram2d"
           }
          ],
          "histogram2dcontour": [
           {
            "colorbar": {
             "outlinewidth": 0,
             "ticks": ""
            },
            "colorscale": [
             [
              0,
              "#0067c5"
             ],
             [
              0.1,
              "#1e85d1"
             ],
             [
              0.2,
              "#3ea4dd"
             ],
             [
              0.3,
              "#5cc1e8"
             ],
             [
              0.4,
              "#70b6d3"
             ],
             [
              0.5,
              "#7e97af"
             ],
             [
              0.6,
              "#8b798d"
             ],
             [
              0.7,
              "#9a5a69"
             ],
             [
              0.8,
              "#a73d46"
             ],
             [
              0.9,
              "#b51e23"
             ],
             [
              1,
              "#c30000"
             ]
            ],
            "type": "histogram2dcontour"
           }
          ],
          "mesh3d": [
           {
            "colorbar": {
             "outlinewidth": 0,
             "ticks": ""
            },
            "type": "mesh3d"
           }
          ],
          "parcoords": [
           {
            "line": {
             "colorbar": {
              "outlinewidth": 0,
              "ticks": ""
             }
            },
            "type": "parcoords"
           }
          ],
          "scatter": [
           {
            "marker": {
             "colorbar": {
              "outlinewidth": 0,
              "ticks": ""
             }
            },
            "type": "scatter"
           }
          ],
          "scatter3d": [
           {
            "marker": {
             "colorbar": {
              "outlinewidth": 0,
              "ticks": ""
             }
            },
            "type": "scatter3d"
           }
          ],
          "scattercarpet": [
           {
            "marker": {
             "colorbar": {
              "outlinewidth": 0,
              "ticks": ""
             }
            },
            "type": "scattercarpet"
           }
          ],
          "scattergeo": [
           {
            "marker": {
             "colorbar": {
              "outlinewidth": 0,
              "ticks": ""
             }
            },
            "type": "scattergeo"
           }
          ],
          "scattergl": [
           {
            "marker": {
             "colorbar": {
              "outlinewidth": 0,
              "ticks": ""
             }
            },
            "type": "scattergl"
           }
          ],
          "scattermapbox": [
           {
            "marker": {
             "colorbar": {
              "outlinewidth": 0,
              "ticks": ""
             }
            },
            "type": "scattermapbox"
           }
          ],
          "scatterpolar": [
           {
            "marker": {
             "colorbar": {
              "outlinewidth": 0,
              "ticks": ""
             }
            },
            "type": "scatterpolar"
           }
          ],
          "scatterpolargl": [
           {
            "marker": {
             "colorbar": {
              "outlinewidth": 0,
              "ticks": ""
             }
            },
            "type": "scatterpolargl"
           }
          ],
          "scatterternary": [
           {
            "marker": {
             "colorbar": {
              "outlinewidth": 0,
              "ticks": ""
             }
            },
            "type": "scatterternary"
           }
          ],
          "surface": [
           {
            "colorbar": {
             "outlinewidth": 0,
             "ticks": ""
            },
            "type": "surface"
           }
          ],
          "table": [
           {
            "cells": {
             "fill": {
              "color": "#C6C2BF"
             },
             "line": {
              "color": "white"
             }
            },
            "header": {
             "fill": {
              "color": "#C6C2BF"
             },
             "line": {
              "color": "white"
             }
            },
            "type": "table"
           }
          ]
         },
         "layout": {
          "annotationdefaults": {
           "arrowcolor": "#506784",
           "arrowhead": 0,
           "arrowwidth": 1
          },
          "colorscale": {
           "diverging": [
            [
             0,
             "#0067c5"
            ],
            [
             0.1,
             "#1e85d1"
            ],
            [
             0.2,
             "#3ea4dd"
            ],
            [
             0.3,
             "#5cc1e8"
            ],
            [
             0.4,
             "#70b6d3"
            ],
            [
             0.5,
             "#7e97af"
            ],
            [
             0.6,
             "#8b798d"
            ],
            [
             0.7,
             "#9a5a69"
            ],
            [
             0.8,
             "#a73d46"
            ],
            [
             0.9,
             "#b51e23"
            ],
            [
             1,
             "#c30000"
            ]
           ],
           "sequential": [
            [
             0,
             "#0067c5"
            ],
            [
             0.1,
             "#1e85d1"
            ],
            [
             0.2,
             "#3ea4dd"
            ],
            [
             0.3,
             "#5cc1e8"
            ],
            [
             0.4,
             "#70b6d3"
            ],
            [
             0.5,
             "#7e97af"
            ],
            [
             0.6,
             "#8b798d"
            ],
            [
             0.7,
             "#9a5a69"
            ],
            [
             0.8,
             "#a73d46"
            ],
            [
             0.9,
             "#b51e23"
            ],
            [
             1,
             "#c30000"
            ]
           ],
           "sequentialminus": [
            [
             0,
             "#0067c5"
            ],
            [
             0.1,
             "#1e85d1"
            ],
            [
             0.2,
             "#3ea4dd"
            ],
            [
             0.3,
             "#5cc1e8"
            ],
            [
             0.4,
             "#70b6d3"
            ],
            [
             0.5,
             "#7e97af"
            ],
            [
             0.6,
             "#8b798d"
            ],
            [
             0.7,
             "#9a5a69"
            ],
            [
             0.8,
             "#a73d46"
            ],
            [
             0.9,
             "#b51e23"
            ],
            [
             1,
             "#c30000"
            ]
           ]
          },
          "colorway": [
           "#0067C5",
           "#FF9100",
           "#A2AD00",
           "#06893A",
           "#634689",
           "#005B82",
           "#C30000",
           "#66CBEC",
           "#3E3832",
           "#B7B1A9"
          ],
          "font": {
           "color": "#2a3f5f",
           "family": "Helvetica Neue"
          },
          "geo": {
           "bgcolor": "white",
           "lakecolor": "white",
           "landcolor": "white",
           "showlakes": true,
           "showland": true,
           "subunitcolor": "#C6C2BF"
          },
          "hoverlabel": {
           "align": "left"
          },
          "hovermode": "closest",
          "mapbox": {
           "style": "light"
          },
          "paper_bgcolor": "white",
          "plot_bgcolor": "white",
          "polar": {
           "angularaxis": {
            "gridcolor": "#C6C2BF",
            "linecolor": "#C6C2BF",
            "ticks": ""
           },
           "bgcolor": "white",
           "radialaxis": {
            "gridcolor": "#C6C2BF",
            "linecolor": "#C6C2BF",
            "ticks": ""
           }
          },
          "scene": {
           "xaxis": {
            "backgroundcolor": "white",
            "gridcolor": "#C6C2BF",
            "gridwidth": 2,
            "linecolor": "#C6C2BF",
            "showbackground": true,
            "ticks": "",
            "zerolinecolor": "#C6C2BF"
           },
           "yaxis": {
            "backgroundcolor": "white",
            "gridcolor": "#C6C2BF",
            "gridwidth": 2,
            "linecolor": "#C6C2BF",
            "showbackground": true,
            "ticks": "",
            "zerolinecolor": "#C6C2BF"
           },
           "zaxis": {
            "backgroundcolor": "white",
            "gridcolor": "#C6C2BF",
            "gridwidth": 2,
            "linecolor": "#C6C2BF",
            "showbackground": true,
            "ticks": "",
            "zerolinecolor": "#C6C2BF"
           }
          },
          "shapedefaults": {
           "fillcolor": "#C30000",
           "line": {
            "width": 0
           },
           "opacity": 0.4
          },
          "ternary": {
           "aaxis": {
            "gridcolor": "#C6C2BF",
            "linecolor": "#A2B1C6",
            "ticks": ""
           },
           "baxis": {
            "gridcolor": "#C6C2BF",
            "linecolor": "#A2B1C6",
            "ticks": ""
           },
           "bgcolor": "white",
           "caxis": {
            "gridcolor": "#C6C2BF",
            "linecolor": "#A2B1C6",
            "ticks": ""
           }
          },
          "title": {
           "x": 0.05
          },
          "xaxis": {
           "automargin": true,
           "gridcolor": "#C6C2BF",
           "linecolor": "#C6C2BF",
           "ticks": "",
           "zerolinecolor": "#C6C2BF",
           "zerolinewidth": 2
          },
          "yaxis": {
           "automargin": true,
           "gridcolor": "#C6C2BF",
           "linecolor": "#C6C2BF",
           "ticks": "",
           "zerolinecolor": "#C6C2BF",
           "zerolinewidth": 2
          }
         }
        },
        "xaxis": {
         "title": {
          "text": "stilling_kilde"
         }
        },
        "yaxis": {
         "title": {
          "text": "stillingsnummer"
         }
        }
       }
      },
      "text/html": [
       "<div>\n",
       "        \n",
       "        \n",
       "            <div id=\"8ab56bf3-e834-4cca-b267-c5a18a8aae43\" class=\"plotly-graph-div\" style=\"height:600px; width:100%;\"></div>\n",
       "            <script type=\"text/javascript\">\n",
       "                require([\"plotly\"], function(Plotly) {\n",
       "                    window.PLOTLYENV=window.PLOTLYENV || {};\n",
       "                    window.PLOTLYENV.BASE_URL='https://plot.ly';\n",
       "                    \n",
       "                if (document.getElementById(\"8ab56bf3-e834-4cca-b267-c5a18a8aae43\")) {\n",
       "                    Plotly.newPlot(\n",
       "                        '8ab56bf3-e834-4cca-b267-c5a18a8aae43',\n",
       "                        [{\"alignmentgroup\": \"True\", \"hoverlabel\": {\"namelength\": 0}, \"hovertemplate\": \"stilling_kilde=%{x}<br>stillingsnummer=%{y}\", \"legendgroup\": \"\", \"marker\": {\"color\": \"#636efa\"}, \"name\": \"\", \"offsetgroup\": \"\", \"orientation\": \"v\", \"showlegend\": false, \"textposition\": \"auto\", \"type\": \"bar\", \"uid\": \"ee435a0f-4354-47db-ad12-c223914310c5\", \"x\": [\"Annonsert i media\", \"Reg av arb.giver p\\u00e5 nav.no\", \"Overf\\u00f8rt fra arbeidsgiver\", \"Overf\\u00f8rt fra PAM annonsemottak\", \"Fra Eures\", \"Annonsesamarbeid med FINN\", \"Ukjent\"], \"xaxis\": \"x\", \"y\": [1906501, 404302, 212730, 55216, 24501, 20, 9], \"yaxis\": \"y\"}],\n",
       "                        {\"barmode\": \"relative\", \"grid\": {\"xaxes\": [\"x\"], \"xgap\": 0.1, \"xside\": \"bottom\", \"yaxes\": [\"y\"], \"ygap\": 0.1, \"yside\": \"left\"}, \"height\": 600, \"legend\": {\"tracegroupgap\": 0}, \"margin\": {\"t\": 60}, \"template\": {\"data\": {\"bar\": [{\"marker\": {\"line\": {\"color\": \"white\", \"width\": 0.5}}, \"type\": \"bar\"}], \"barpolar\": [{\"marker\": {\"line\": {\"color\": \"white\", \"width\": 0.5}}, \"type\": \"barpolar\"}], \"carpet\": [{\"aaxis\": {\"endlinecolor\": \"#2a3f5f\", \"gridcolor\": \"#C6C2BF\", \"linecolor\": \"#C6C2BF\", \"minorgridcolor\": \"#C6C2BF\", \"startlinecolor\": \"#2a3f5f\"}, \"baxis\": {\"endlinecolor\": \"#2a3f5f\", \"gridcolor\": \"#C6C2BF\", \"linecolor\": \"#C6C2BF\", \"minorgridcolor\": \"#C6C2BF\", \"startlinecolor\": \"#2a3f5f\"}, \"type\": \"carpet\"}], \"choropleth\": [{\"colorbar\": {\"outlinewidth\": 0, \"ticks\": \"\"}, \"type\": \"choropleth\"}], \"contour\": [{\"colorbar\": {\"outlinewidth\": 0, \"ticks\": \"\"}, \"colorscale\": [[0.0, \"#0067c5\"], [0.1, \"#1e85d1\"], [0.2, \"#3ea4dd\"], [0.3, \"#5cc1e8\"], [0.4, \"#70b6d3\"], [0.5, \"#7e97af\"], [0.6, \"#8b798d\"], [0.7, \"#9a5a69\"], [0.8, \"#a73d46\"], [0.9, \"#b51e23\"], [1.0, \"#c30000\"]], \"type\": \"contour\"}], \"contourcarpet\": [{\"colorbar\": {\"outlinewidth\": 0, \"ticks\": \"\"}, \"type\": \"contourcarpet\"}], \"heatmap\": [{\"colorbar\": {\"outlinewidth\": 0, \"ticks\": \"\"}, \"colorscale\": [[0.0, \"#0067c5\"], [0.1, \"#1e85d1\"], [0.2, \"#3ea4dd\"], [0.3, \"#5cc1e8\"], [0.4, \"#70b6d3\"], [0.5, \"#7e97af\"], [0.6, \"#8b798d\"], [0.7, \"#9a5a69\"], [0.8, \"#a73d46\"], [0.9, \"#b51e23\"], [1.0, \"#c30000\"]], \"type\": \"heatmap\"}], \"heatmapgl\": [{\"colorbar\": {\"outlinewidth\": 0, \"ticks\": \"\"}, \"type\": \"heatmapgl\"}], \"histogram\": [{\"marker\": {\"colorbar\": {\"outlinewidth\": 0, \"ticks\": \"\"}}, \"type\": \"histogram\"}], \"histogram2d\": [{\"colorbar\": {\"outlinewidth\": 0, \"ticks\": \"\"}, \"colorscale\": [[0.0, \"#0067c5\"], [0.1, \"#1e85d1\"], [0.2, \"#3ea4dd\"], [0.3, \"#5cc1e8\"], [0.4, \"#70b6d3\"], [0.5, \"#7e97af\"], [0.6, \"#8b798d\"], [0.7, \"#9a5a69\"], [0.8, \"#a73d46\"], [0.9, \"#b51e23\"], [1.0, \"#c30000\"]], \"type\": \"histogram2d\"}], \"histogram2dcontour\": [{\"colorbar\": {\"outlinewidth\": 0, \"ticks\": \"\"}, \"colorscale\": [[0.0, \"#0067c5\"], [0.1, \"#1e85d1\"], [0.2, \"#3ea4dd\"], [0.3, \"#5cc1e8\"], [0.4, \"#70b6d3\"], [0.5, \"#7e97af\"], [0.6, \"#8b798d\"], [0.7, \"#9a5a69\"], [0.8, \"#a73d46\"], [0.9, \"#b51e23\"], [1.0, \"#c30000\"]], \"type\": \"histogram2dcontour\"}], \"mesh3d\": [{\"colorbar\": {\"outlinewidth\": 0, \"ticks\": \"\"}, \"type\": \"mesh3d\"}], \"parcoords\": [{\"line\": {\"colorbar\": {\"outlinewidth\": 0, \"ticks\": \"\"}}, \"type\": \"parcoords\"}], \"scatter\": [{\"marker\": {\"colorbar\": {\"outlinewidth\": 0, \"ticks\": \"\"}}, \"type\": \"scatter\"}], \"scatter3d\": [{\"marker\": {\"colorbar\": {\"outlinewidth\": 0, \"ticks\": \"\"}}, \"type\": \"scatter3d\"}], \"scattercarpet\": [{\"marker\": {\"colorbar\": {\"outlinewidth\": 0, \"ticks\": \"\"}}, \"type\": \"scattercarpet\"}], \"scattergeo\": [{\"marker\": {\"colorbar\": {\"outlinewidth\": 0, \"ticks\": \"\"}}, \"type\": \"scattergeo\"}], \"scattergl\": [{\"marker\": {\"colorbar\": {\"outlinewidth\": 0, \"ticks\": \"\"}}, \"type\": \"scattergl\"}], \"scattermapbox\": [{\"marker\": {\"colorbar\": {\"outlinewidth\": 0, \"ticks\": \"\"}}, \"type\": \"scattermapbox\"}], \"scatterpolar\": [{\"marker\": {\"colorbar\": {\"outlinewidth\": 0, \"ticks\": \"\"}}, \"type\": \"scatterpolar\"}], \"scatterpolargl\": [{\"marker\": {\"colorbar\": {\"outlinewidth\": 0, \"ticks\": \"\"}}, \"type\": \"scatterpolargl\"}], \"scatterternary\": [{\"marker\": {\"colorbar\": {\"outlinewidth\": 0, \"ticks\": \"\"}}, \"type\": \"scatterternary\"}], \"surface\": [{\"colorbar\": {\"outlinewidth\": 0, \"ticks\": \"\"}, \"type\": \"surface\"}], \"table\": [{\"cells\": {\"fill\": {\"color\": \"#C6C2BF\"}, \"line\": {\"color\": \"white\"}}, \"header\": {\"fill\": {\"color\": \"#C6C2BF\"}, \"line\": {\"color\": \"white\"}}, \"type\": \"table\"}]}, \"layout\": {\"annotationdefaults\": {\"arrowcolor\": \"#506784\", \"arrowhead\": 0, \"arrowwidth\": 1}, \"colorscale\": {\"diverging\": [[0.0, \"#0067c5\"], [0.1, \"#1e85d1\"], [0.2, \"#3ea4dd\"], [0.3, \"#5cc1e8\"], [0.4, \"#70b6d3\"], [0.5, \"#7e97af\"], [0.6, \"#8b798d\"], [0.7, \"#9a5a69\"], [0.8, \"#a73d46\"], [0.9, \"#b51e23\"], [1.0, \"#c30000\"]], \"sequential\": [[0.0, \"#0067c5\"], [0.1, \"#1e85d1\"], [0.2, \"#3ea4dd\"], [0.3, \"#5cc1e8\"], [0.4, \"#70b6d3\"], [0.5, \"#7e97af\"], [0.6, \"#8b798d\"], [0.7, \"#9a5a69\"], [0.8, \"#a73d46\"], [0.9, \"#b51e23\"], [1.0, \"#c30000\"]], \"sequentialminus\": [[0.0, \"#0067c5\"], [0.1, \"#1e85d1\"], [0.2, \"#3ea4dd\"], [0.3, \"#5cc1e8\"], [0.4, \"#70b6d3\"], [0.5, \"#7e97af\"], [0.6, \"#8b798d\"], [0.7, \"#9a5a69\"], [0.8, \"#a73d46\"], [0.9, \"#b51e23\"], [1.0, \"#c30000\"]]}, \"colorway\": [\"#0067C5\", \"#FF9100\", \"#A2AD00\", \"#06893A\", \"#634689\", \"#005B82\", \"#C30000\", \"#66CBEC\", \"#3E3832\", \"#B7B1A9\"], \"font\": {\"color\": \"#2a3f5f\", \"family\": \"Helvetica Neue\"}, \"geo\": {\"bgcolor\": \"white\", \"lakecolor\": \"white\", \"landcolor\": \"white\", \"showlakes\": true, \"showland\": true, \"subunitcolor\": \"#C6C2BF\"}, \"hoverlabel\": {\"align\": \"left\"}, \"hovermode\": \"closest\", \"mapbox\": {\"style\": \"light\"}, \"paper_bgcolor\": \"white\", \"plot_bgcolor\": \"white\", \"polar\": {\"angularaxis\": {\"gridcolor\": \"#C6C2BF\", \"linecolor\": \"#C6C2BF\", \"ticks\": \"\"}, \"bgcolor\": \"white\", \"radialaxis\": {\"gridcolor\": \"#C6C2BF\", \"linecolor\": \"#C6C2BF\", \"ticks\": \"\"}}, \"scene\": {\"xaxis\": {\"backgroundcolor\": \"white\", \"gridcolor\": \"#C6C2BF\", \"gridwidth\": 2, \"linecolor\": \"#C6C2BF\", \"showbackground\": true, \"ticks\": \"\", \"zerolinecolor\": \"#C6C2BF\"}, \"yaxis\": {\"backgroundcolor\": \"white\", \"gridcolor\": \"#C6C2BF\", \"gridwidth\": 2, \"linecolor\": \"#C6C2BF\", \"showbackground\": true, \"ticks\": \"\", \"zerolinecolor\": \"#C6C2BF\"}, \"zaxis\": {\"backgroundcolor\": \"white\", \"gridcolor\": \"#C6C2BF\", \"gridwidth\": 2, \"linecolor\": \"#C6C2BF\", \"showbackground\": true, \"ticks\": \"\", \"zerolinecolor\": \"#C6C2BF\"}}, \"shapedefaults\": {\"fillcolor\": \"#C30000\", \"line\": {\"width\": 0}, \"opacity\": 0.4}, \"ternary\": {\"aaxis\": {\"gridcolor\": \"#C6C2BF\", \"linecolor\": \"#A2B1C6\", \"ticks\": \"\"}, \"baxis\": {\"gridcolor\": \"#C6C2BF\", \"linecolor\": \"#A2B1C6\", \"ticks\": \"\"}, \"bgcolor\": \"white\", \"caxis\": {\"gridcolor\": \"#C6C2BF\", \"linecolor\": \"#A2B1C6\", \"ticks\": \"\"}}, \"title\": {\"x\": 0.05}, \"xaxis\": {\"automargin\": true, \"gridcolor\": \"#C6C2BF\", \"linecolor\": \"#C6C2BF\", \"ticks\": \"\", \"zerolinecolor\": \"#C6C2BF\", \"zerolinewidth\": 2}, \"yaxis\": {\"automargin\": true, \"gridcolor\": \"#C6C2BF\", \"linecolor\": \"#C6C2BF\", \"ticks\": \"\", \"zerolinecolor\": \"#C6C2BF\", \"zerolinewidth\": 2}}}, \"xaxis\": {\"title\": {\"text\": \"stilling_kilde\"}}, \"yaxis\": {\"title\": {\"text\": \"stillingsnummer\"}}},\n",
       "                        {\"showLink\": false, \"linkText\": \"Export to plot.ly\", \"plotlyServerURL\": \"https://plot.ly\", \"responsive\": true}\n",
       "                    ).then(function(){\n",
       "                            \n",
       "var gd = document.getElementById('8ab56bf3-e834-4cca-b267-c5a18a8aae43');\n",
       "var x = new MutationObserver(function (mutations, observer) {{\n",
       "        var display = window.getComputedStyle(gd).display;\n",
       "        if (!display || display === 'none') {{\n",
       "            console.log([gd, 'removed!']);\n",
       "            Plotly.purge(gd);\n",
       "            observer.disconnect();\n",
       "        }}\n",
       "}});\n",
       "\n",
       "// Listen for the removal of the full notebook cells\n",
       "var notebookContainer = gd.closest('#notebook-container');\n",
       "if (notebookContainer) {{\n",
       "    x.observe(notebookContainer, {childList: true});\n",
       "}}\n",
       "\n",
       "// Listen for the clearing of the current output cell\n",
       "var outputEl = gd.closest('.output');\n",
       "if (outputEl) {{\n",
       "    x.observe(outputEl, {childList: true});\n",
       "}}\n",
       "\n",
       "                        })\n",
       "                };\n",
       "                });\n",
       "            </script>\n",
       "        </div>"
      ]
     },
     "metadata": {},
     "output_type": "display_data"
    }
   ],
   "source": [
    "df_k = df[['stillingsnummer','stilling_kilde']].groupby('stilling_kilde').count().reset_index() \\\n",
    "    .sort_values(by='stillingsnummer', ascending=False)\n",
    "fig_stilling_kilde = px.bar(df_k, x='stilling_kilde', y='stillingsnummer', template=nav.plotly_template)\n",
    "fig_stilling_kilde"
   ]
  },
  {
   "cell_type": "code",
   "execution_count": 40,
   "metadata": {},
   "outputs": [
    {
     "data": {
      "application/vnd.plotly.v1+json": {
       "config": {
        "linkText": "Export to plot.ly",
        "plotlyServerURL": "https://plot.ly",
        "showLink": false
       },
       "data": [
        {
         "alignmentgroup": "True",
         "hoverlabel": {
          "namelength": 0
         },
         "hovertemplate": "bedrift_navn=%{x}<br>stillingsnummer=%{y}",
         "legendgroup": "",
         "marker": {
          "color": "#636efa"
         },
         "name": "",
         "offsetgroup": "",
         "orientation": "v",
         "showlegend": false,
         "textposition": "auto",
         "type": "bar",
         "uid": "cef02c9d-1c1a-446b-b71a-f77ff0fa9651",
         "x": [
          " UNIVERSITETET I OSLO",
          "*",
          " CHRISTIANIA PERSONELL AS",
          " OSLO UNIVERSITETSSYKEHUS HF ULLEVÅL - SOMATIKK",
          " HELSE BERGEN HF HAUKELAND UNIVERSITETSSJUKEHUS",
          " IKM CONSULTANTS AS AVD SOLA",
          " STAVANGER UNIVERSITETSSJUKEHUS SOMATIKK VÅLAND",
          " OSLO UNIVERSITETSSYKEHUS HF RIKSHOSPITALET - SOMATIKK",
          " UNIVERSITETET I TROMSØ - NORGES ARKTISKE UNIVERSITET UIT CAMPUS TROMSØ",
          " SENTRALADMINISTRASJON",
          " ST OLAVS HOSPITAL HF UNIVERSITETSSYKEHUSET I TRONDHEIM",
          " SYKEHUSET ØSTFOLD HF KALNES - SOMATIKK",
          " AHUS NORDBYHAGEN SOMATIKK",
          " CBA FAGFORMIDLING AS AVD OSLO",
          " SECTOR ALARM AS AVD ALARMSTASJON/ADMIN OSLO",
          " HELSE MØRE OG ROMSDAL HF ÅLESUND SJUKEHUS - SOMATIKK",
          " UNIVERSITETSSYKEHUSET NORD-NORGE HF TROMSØ - SOMATIKK",
          " VEKSTHUSET REKRUTTERING AS AVD OSLO",
          " AHUS SKEDSMO SPESIALPSYKIATRI LURUD",
          " SYKEHUSET I VESTFOLD HF, SOMATIKK, TØNSBERG",
          " NTNU SENTRALADMINISTRASJONEN",
          " SENTRALADMINISTRASJONEN",
          " NORDLANDSSYKEHUSET HF SOMATIKK - BODØ",
          " OSLOMET - STORBYUNIVERSITETET STUDIESTED PILESTREDET",
          " OSLO POLITIDISTRIKT",
          " UNIVERSITETET I BERGEN ADMINISTRASJONEN",
          " NORGES MILJØ- OG BIOVITENSKAPELIGE UNIVERSITET (NMBU) CAMPUS ÅS",
          " VESTRE VIKEN HF DRAMMEN SYKEHUS - SOMATIKK",
          " HELSE FONNA HF HAUGESUND SJUKEHUS",
          " SØRLANDET SYKEHUS HF SOMATIKK KRISTIANSAND",
          " HAUGESUND KOMMUNE SERVICESENTERET",
          " DIAKONHJEMMET SYKEHUS SOMATIKK",
          " UNIVERSITETET I STAVANGER ULLANDHAUG",
          " POPPS PERSONELL AS AVD OSLO",
          " ULOBA - INDEPENDENT LIVING NORGE SA",
          " INFORMED SOURCES (NORWAY) AS",
          " ADECCO NORGE AS AVD OSLO",
          " PERSONALHUSET SERVICE MANAGEMENT AS AVD BERGEN",
          " TROMSØ KOMMUNE SERVICETORGET",
          " NTNU FAKULTET FOR MEDISIN OG HELSEVITENSKAP",
          " CHRISTIANIA PERSONELL HAMAR AS",
          " EQUINOR ASA AVD KONTOR STAVANGER",
          " MANPOWER AS AVD OSLO",
          " HELSE MØRE OG ROMSDAL HF MOLDE SJUKEHUS - SOMATIKK",
          " HELSE FØRDE HF FØRDE SENTRALSJUKEHUS",
          " SYKEHUSET INNLANDET HF LILLEHAMMER - SOMATIKK",
          " UNIVERSITETSSYKEHUSET NORD-NORGE HF TROMSØ - ADM OG STØTTEFUNSKJONER",
          " HELSE NORD-TRØNDELAG HF SOMATIKK - LEVANGER",
          " AK BEMANNING AS",
          " FACE2FACE CREATIVES INTERNATIONAL AS",
          " HARALDSPLASS DIAKONALE SYKEHUS AS",
          " UNIVERSITETET I AGDER",
          " KLEPP KOMMUNE ETAT FOR LOKAL UTVIKLING ADMINISTRASJON",
          " UNIVERSITETET I BERGEN DET MATEMATISK-NATURVITENSK FAK",
          " RETT BEMANNING AS",
          " JOBBSYS.NO AS",
          " PLAN- OG BYGNINGSETATEN",
          " UNIVERSITETET I BERGEN DET MEDISINSKE FAKULTET",
          " ABC PERSONELL VIKAR OG VIKAR OG REKRUTTERINGSBYRÅ",
          " HELSEDIREKTORATET HOVEDKONTOR OSLO U2"
         ],
         "xaxis": "x",
         "y": [
          11305,
          10006,
          8362,
          8075,
          8054,
          6985,
          6895,
          5731,
          4540,
          4385,
          4359,
          4267,
          4048,
          3925,
          2957,
          2801,
          2758,
          2740,
          2714,
          2647,
          2455,
          2429,
          2408,
          2396,
          2390,
          2252,
          2232,
          2138,
          2090,
          2082,
          2070,
          2011,
          2002,
          1981,
          1974,
          1934,
          1897,
          1862,
          1861,
          1770,
          1749,
          1738,
          1733,
          1688,
          1680,
          1639,
          1627,
          1605,
          1583,
          1547,
          1528,
          1509,
          1499,
          1495,
          1489,
          1462,
          1455,
          1391,
          1391,
          1382
         ],
         "yaxis": "y"
        }
       ],
       "layout": {
        "barmode": "relative",
        "grid": {
         "xaxes": [
          "x"
         ],
         "xgap": 0.1,
         "xside": "bottom",
         "yaxes": [
          "y"
         ],
         "ygap": 0.1,
         "yside": "left"
        },
        "height": 600,
        "legend": {
         "tracegroupgap": 0
        },
        "margin": {
         "t": 60
        },
        "template": {
         "data": {
          "bar": [
           {
            "marker": {
             "line": {
              "color": "white",
              "width": 0.5
             }
            },
            "type": "bar"
           }
          ],
          "barpolar": [
           {
            "marker": {
             "line": {
              "color": "white",
              "width": 0.5
             }
            },
            "type": "barpolar"
           }
          ],
          "carpet": [
           {
            "aaxis": {
             "endlinecolor": "#2a3f5f",
             "gridcolor": "#C6C2BF",
             "linecolor": "#C6C2BF",
             "minorgridcolor": "#C6C2BF",
             "startlinecolor": "#2a3f5f"
            },
            "baxis": {
             "endlinecolor": "#2a3f5f",
             "gridcolor": "#C6C2BF",
             "linecolor": "#C6C2BF",
             "minorgridcolor": "#C6C2BF",
             "startlinecolor": "#2a3f5f"
            },
            "type": "carpet"
           }
          ],
          "choropleth": [
           {
            "colorbar": {
             "outlinewidth": 0,
             "ticks": ""
            },
            "type": "choropleth"
           }
          ],
          "contour": [
           {
            "colorbar": {
             "outlinewidth": 0,
             "ticks": ""
            },
            "colorscale": [
             [
              0,
              "#0067c5"
             ],
             [
              0.1,
              "#1e85d1"
             ],
             [
              0.2,
              "#3ea4dd"
             ],
             [
              0.3,
              "#5cc1e8"
             ],
             [
              0.4,
              "#70b6d3"
             ],
             [
              0.5,
              "#7e97af"
             ],
             [
              0.6,
              "#8b798d"
             ],
             [
              0.7,
              "#9a5a69"
             ],
             [
              0.8,
              "#a73d46"
             ],
             [
              0.9,
              "#b51e23"
             ],
             [
              1,
              "#c30000"
             ]
            ],
            "type": "contour"
           }
          ],
          "contourcarpet": [
           {
            "colorbar": {
             "outlinewidth": 0,
             "ticks": ""
            },
            "type": "contourcarpet"
           }
          ],
          "heatmap": [
           {
            "colorbar": {
             "outlinewidth": 0,
             "ticks": ""
            },
            "colorscale": [
             [
              0,
              "#0067c5"
             ],
             [
              0.1,
              "#1e85d1"
             ],
             [
              0.2,
              "#3ea4dd"
             ],
             [
              0.3,
              "#5cc1e8"
             ],
             [
              0.4,
              "#70b6d3"
             ],
             [
              0.5,
              "#7e97af"
             ],
             [
              0.6,
              "#8b798d"
             ],
             [
              0.7,
              "#9a5a69"
             ],
             [
              0.8,
              "#a73d46"
             ],
             [
              0.9,
              "#b51e23"
             ],
             [
              1,
              "#c30000"
             ]
            ],
            "type": "heatmap"
           }
          ],
          "heatmapgl": [
           {
            "colorbar": {
             "outlinewidth": 0,
             "ticks": ""
            },
            "type": "heatmapgl"
           }
          ],
          "histogram": [
           {
            "marker": {
             "colorbar": {
              "outlinewidth": 0,
              "ticks": ""
             }
            },
            "type": "histogram"
           }
          ],
          "histogram2d": [
           {
            "colorbar": {
             "outlinewidth": 0,
             "ticks": ""
            },
            "colorscale": [
             [
              0,
              "#0067c5"
             ],
             [
              0.1,
              "#1e85d1"
             ],
             [
              0.2,
              "#3ea4dd"
             ],
             [
              0.3,
              "#5cc1e8"
             ],
             [
              0.4,
              "#70b6d3"
             ],
             [
              0.5,
              "#7e97af"
             ],
             [
              0.6,
              "#8b798d"
             ],
             [
              0.7,
              "#9a5a69"
             ],
             [
              0.8,
              "#a73d46"
             ],
             [
              0.9,
              "#b51e23"
             ],
             [
              1,
              "#c30000"
             ]
            ],
            "type": "histogram2d"
           }
          ],
          "histogram2dcontour": [
           {
            "colorbar": {
             "outlinewidth": 0,
             "ticks": ""
            },
            "colorscale": [
             [
              0,
              "#0067c5"
             ],
             [
              0.1,
              "#1e85d1"
             ],
             [
              0.2,
              "#3ea4dd"
             ],
             [
              0.3,
              "#5cc1e8"
             ],
             [
              0.4,
              "#70b6d3"
             ],
             [
              0.5,
              "#7e97af"
             ],
             [
              0.6,
              "#8b798d"
             ],
             [
              0.7,
              "#9a5a69"
             ],
             [
              0.8,
              "#a73d46"
             ],
             [
              0.9,
              "#b51e23"
             ],
             [
              1,
              "#c30000"
             ]
            ],
            "type": "histogram2dcontour"
           }
          ],
          "mesh3d": [
           {
            "colorbar": {
             "outlinewidth": 0,
             "ticks": ""
            },
            "type": "mesh3d"
           }
          ],
          "parcoords": [
           {
            "line": {
             "colorbar": {
              "outlinewidth": 0,
              "ticks": ""
             }
            },
            "type": "parcoords"
           }
          ],
          "scatter": [
           {
            "marker": {
             "colorbar": {
              "outlinewidth": 0,
              "ticks": ""
             }
            },
            "type": "scatter"
           }
          ],
          "scatter3d": [
           {
            "marker": {
             "colorbar": {
              "outlinewidth": 0,
              "ticks": ""
             }
            },
            "type": "scatter3d"
           }
          ],
          "scattercarpet": [
           {
            "marker": {
             "colorbar": {
              "outlinewidth": 0,
              "ticks": ""
             }
            },
            "type": "scattercarpet"
           }
          ],
          "scattergeo": [
           {
            "marker": {
             "colorbar": {
              "outlinewidth": 0,
              "ticks": ""
             }
            },
            "type": "scattergeo"
           }
          ],
          "scattergl": [
           {
            "marker": {
             "colorbar": {
              "outlinewidth": 0,
              "ticks": ""
             }
            },
            "type": "scattergl"
           }
          ],
          "scattermapbox": [
           {
            "marker": {
             "colorbar": {
              "outlinewidth": 0,
              "ticks": ""
             }
            },
            "type": "scattermapbox"
           }
          ],
          "scatterpolar": [
           {
            "marker": {
             "colorbar": {
              "outlinewidth": 0,
              "ticks": ""
             }
            },
            "type": "scatterpolar"
           }
          ],
          "scatterpolargl": [
           {
            "marker": {
             "colorbar": {
              "outlinewidth": 0,
              "ticks": ""
             }
            },
            "type": "scatterpolargl"
           }
          ],
          "scatterternary": [
           {
            "marker": {
             "colorbar": {
              "outlinewidth": 0,
              "ticks": ""
             }
            },
            "type": "scatterternary"
           }
          ],
          "surface": [
           {
            "colorbar": {
             "outlinewidth": 0,
             "ticks": ""
            },
            "type": "surface"
           }
          ],
          "table": [
           {
            "cells": {
             "fill": {
              "color": "#C6C2BF"
             },
             "line": {
              "color": "white"
             }
            },
            "header": {
             "fill": {
              "color": "#C6C2BF"
             },
             "line": {
              "color": "white"
             }
            },
            "type": "table"
           }
          ]
         },
         "layout": {
          "annotationdefaults": {
           "arrowcolor": "#506784",
           "arrowhead": 0,
           "arrowwidth": 1
          },
          "colorscale": {
           "diverging": [
            [
             0,
             "#0067c5"
            ],
            [
             0.1,
             "#1e85d1"
            ],
            [
             0.2,
             "#3ea4dd"
            ],
            [
             0.3,
             "#5cc1e8"
            ],
            [
             0.4,
             "#70b6d3"
            ],
            [
             0.5,
             "#7e97af"
            ],
            [
             0.6,
             "#8b798d"
            ],
            [
             0.7,
             "#9a5a69"
            ],
            [
             0.8,
             "#a73d46"
            ],
            [
             0.9,
             "#b51e23"
            ],
            [
             1,
             "#c30000"
            ]
           ],
           "sequential": [
            [
             0,
             "#0067c5"
            ],
            [
             0.1,
             "#1e85d1"
            ],
            [
             0.2,
             "#3ea4dd"
            ],
            [
             0.3,
             "#5cc1e8"
            ],
            [
             0.4,
             "#70b6d3"
            ],
            [
             0.5,
             "#7e97af"
            ],
            [
             0.6,
             "#8b798d"
            ],
            [
             0.7,
             "#9a5a69"
            ],
            [
             0.8,
             "#a73d46"
            ],
            [
             0.9,
             "#b51e23"
            ],
            [
             1,
             "#c30000"
            ]
           ],
           "sequentialminus": [
            [
             0,
             "#0067c5"
            ],
            [
             0.1,
             "#1e85d1"
            ],
            [
             0.2,
             "#3ea4dd"
            ],
            [
             0.3,
             "#5cc1e8"
            ],
            [
             0.4,
             "#70b6d3"
            ],
            [
             0.5,
             "#7e97af"
            ],
            [
             0.6,
             "#8b798d"
            ],
            [
             0.7,
             "#9a5a69"
            ],
            [
             0.8,
             "#a73d46"
            ],
            [
             0.9,
             "#b51e23"
            ],
            [
             1,
             "#c30000"
            ]
           ]
          },
          "colorway": [
           "#0067C5",
           "#FF9100",
           "#A2AD00",
           "#06893A",
           "#634689",
           "#005B82",
           "#C30000",
           "#66CBEC",
           "#3E3832",
           "#B7B1A9"
          ],
          "font": {
           "color": "#2a3f5f",
           "family": "Helvetica Neue"
          },
          "geo": {
           "bgcolor": "white",
           "lakecolor": "white",
           "landcolor": "white",
           "showlakes": true,
           "showland": true,
           "subunitcolor": "#C6C2BF"
          },
          "hoverlabel": {
           "align": "left"
          },
          "hovermode": "closest",
          "mapbox": {
           "style": "light"
          },
          "paper_bgcolor": "white",
          "plot_bgcolor": "white",
          "polar": {
           "angularaxis": {
            "gridcolor": "#C6C2BF",
            "linecolor": "#C6C2BF",
            "ticks": ""
           },
           "bgcolor": "white",
           "radialaxis": {
            "gridcolor": "#C6C2BF",
            "linecolor": "#C6C2BF",
            "ticks": ""
           }
          },
          "scene": {
           "xaxis": {
            "backgroundcolor": "white",
            "gridcolor": "#C6C2BF",
            "gridwidth": 2,
            "linecolor": "#C6C2BF",
            "showbackground": true,
            "ticks": "",
            "zerolinecolor": "#C6C2BF"
           },
           "yaxis": {
            "backgroundcolor": "white",
            "gridcolor": "#C6C2BF",
            "gridwidth": 2,
            "linecolor": "#C6C2BF",
            "showbackground": true,
            "ticks": "",
            "zerolinecolor": "#C6C2BF"
           },
           "zaxis": {
            "backgroundcolor": "white",
            "gridcolor": "#C6C2BF",
            "gridwidth": 2,
            "linecolor": "#C6C2BF",
            "showbackground": true,
            "ticks": "",
            "zerolinecolor": "#C6C2BF"
           }
          },
          "shapedefaults": {
           "fillcolor": "#C30000",
           "line": {
            "width": 0
           },
           "opacity": 0.4
          },
          "ternary": {
           "aaxis": {
            "gridcolor": "#C6C2BF",
            "linecolor": "#A2B1C6",
            "ticks": ""
           },
           "baxis": {
            "gridcolor": "#C6C2BF",
            "linecolor": "#A2B1C6",
            "ticks": ""
           },
           "bgcolor": "white",
           "caxis": {
            "gridcolor": "#C6C2BF",
            "linecolor": "#A2B1C6",
            "ticks": ""
           }
          },
          "title": {
           "x": 0.05
          },
          "xaxis": {
           "automargin": true,
           "gridcolor": "#C6C2BF",
           "linecolor": "#C6C2BF",
           "ticks": "",
           "zerolinecolor": "#C6C2BF",
           "zerolinewidth": 2
          },
          "yaxis": {
           "automargin": true,
           "gridcolor": "#C6C2BF",
           "linecolor": "#C6C2BF",
           "ticks": "",
           "zerolinecolor": "#C6C2BF",
           "zerolinewidth": 2
          }
         }
        },
        "xaxis": {
         "title": {
          "text": "bedrift_navn"
         }
        },
        "yaxis": {
         "title": {
          "text": "stillingsnummer"
         }
        }
       }
      },
      "text/html": [
       "<div>\n",
       "        \n",
       "        \n",
       "            <div id=\"46a3b31d-8d80-44ee-a7f7-02880c37ee57\" class=\"plotly-graph-div\" style=\"height:600px; width:100%;\"></div>\n",
       "            <script type=\"text/javascript\">\n",
       "                require([\"plotly\"], function(Plotly) {\n",
       "                    window.PLOTLYENV=window.PLOTLYENV || {};\n",
       "                    window.PLOTLYENV.BASE_URL='https://plot.ly';\n",
       "                    \n",
       "                if (document.getElementById(\"46a3b31d-8d80-44ee-a7f7-02880c37ee57\")) {\n",
       "                    Plotly.newPlot(\n",
       "                        '46a3b31d-8d80-44ee-a7f7-02880c37ee57',\n",
       "                        [{\"alignmentgroup\": \"True\", \"hoverlabel\": {\"namelength\": 0}, \"hovertemplate\": \"bedrift_navn=%{x}<br>stillingsnummer=%{y}\", \"legendgroup\": \"\", \"marker\": {\"color\": \"#636efa\"}, \"name\": \"\", \"offsetgroup\": \"\", \"orientation\": \"v\", \"showlegend\": false, \"textposition\": \"auto\", \"type\": \"bar\", \"uid\": \"cef02c9d-1c1a-446b-b71a-f77ff0fa9651\", \"x\": [\" UNIVERSITETET I OSLO\", \"*\", \" CHRISTIANIA PERSONELL AS\", \" OSLO UNIVERSITETSSYKEHUS HF ULLEV\\u00c5L - SOMATIKK\", \" HELSE BERGEN HF HAUKELAND UNIVERSITETSSJUKEHUS\", \" IKM CONSULTANTS AS AVD SOLA\", \" STAVANGER UNIVERSITETSSJUKEHUS SOMATIKK V\\u00c5LAND\", \" OSLO UNIVERSITETSSYKEHUS HF RIKSHOSPITALET - SOMATIKK\", \" UNIVERSITETET I TROMS\\u00d8 - NORGES ARKTISKE UNIVERSITET UIT CAMPUS TROMS\\u00d8\", \" SENTRALADMINISTRASJON\", \" ST OLAVS HOSPITAL HF UNIVERSITETSSYKEHUSET I TRONDHEIM\", \" SYKEHUSET \\u00d8STFOLD HF KALNES - SOMATIKK\", \" AHUS NORDBYHAGEN SOMATIKK\", \" CBA FAGFORMIDLING AS AVD OSLO\", \" SECTOR ALARM AS AVD ALARMSTASJON/ADMIN OSLO\", \" HELSE M\\u00d8RE OG ROMSDAL HF \\u00c5LESUND SJUKEHUS - SOMATIKK\", \" UNIVERSITETSSYKEHUSET NORD-NORGE HF TROMS\\u00d8 - SOMATIKK\", \" VEKSTHUSET REKRUTTERING AS AVD OSLO\", \" AHUS SKEDSMO SPESIALPSYKIATRI LURUD\", \" SYKEHUSET I VESTFOLD HF, SOMATIKK, T\\u00d8NSBERG\", \" NTNU SENTRALADMINISTRASJONEN\", \" SENTRALADMINISTRASJONEN\", \" NORDLANDSSYKEHUSET HF SOMATIKK - BOD\\u00d8\", \" OSLOMET - STORBYUNIVERSITETET STUDIESTED PILESTREDET\", \" OSLO POLITIDISTRIKT\", \" UNIVERSITETET I BERGEN ADMINISTRASJONEN\", \" NORGES MILJ\\u00d8- OG BIOVITENSKAPELIGE UNIVERSITET (NMBU) CAMPUS \\u00c5S\", \" VESTRE VIKEN HF DRAMMEN SYKEHUS - SOMATIKK\", \" HELSE FONNA HF HAUGESUND SJUKEHUS\", \" S\\u00d8RLANDET SYKEHUS HF SOMATIKK KRISTIANSAND\", \" HAUGESUND KOMMUNE SERVICESENTERET\", \" DIAKONHJEMMET SYKEHUS SOMATIKK\", \" UNIVERSITETET I STAVANGER ULLANDHAUG\", \" POPPS PERSONELL AS AVD OSLO\", \" ULOBA - INDEPENDENT LIVING NORGE SA\", \" INFORMED SOURCES (NORWAY) AS\", \" ADECCO NORGE AS AVD OSLO\", \" PERSONALHUSET SERVICE MANAGEMENT AS AVD BERGEN\", \" TROMS\\u00d8 KOMMUNE SERVICETORGET\", \" NTNU FAKULTET FOR MEDISIN OG HELSEVITENSKAP\", \" CHRISTIANIA PERSONELL HAMAR AS\", \" EQUINOR ASA AVD KONTOR STAVANGER\", \" MANPOWER AS AVD OSLO\", \" HELSE M\\u00d8RE OG ROMSDAL HF MOLDE SJUKEHUS - SOMATIKK\", \" HELSE F\\u00d8RDE HF F\\u00d8RDE SENTRALSJUKEHUS\", \" SYKEHUSET INNLANDET HF LILLEHAMMER - SOMATIKK\", \" UNIVERSITETSSYKEHUSET NORD-NORGE HF TROMS\\u00d8 - ADM OG ST\\u00d8TTEFUNSKJONER\", \" HELSE NORD-TR\\u00d8NDELAG HF SOMATIKK - LEVANGER\", \" AK BEMANNING AS\", \" FACE2FACE CREATIVES INTERNATIONAL AS\", \" HARALDSPLASS DIAKONALE SYKEHUS AS\", \" UNIVERSITETET I AGDER\", \" KLEPP KOMMUNE ETAT FOR LOKAL UTVIKLING ADMINISTRASJON\", \" UNIVERSITETET I BERGEN DET MATEMATISK-NATURVITENSK FAK\", \" RETT BEMANNING AS\", \" JOBBSYS.NO AS\", \" PLAN- OG BYGNINGSETATEN\", \" UNIVERSITETET I BERGEN DET MEDISINSKE FAKULTET\", \" ABC PERSONELL VIKAR OG VIKAR OG REKRUTTERINGSBYR\\u00c5\", \" HELSEDIREKTORATET HOVEDKONTOR OSLO U2\"], \"xaxis\": \"x\", \"y\": [11305, 10006, 8362, 8075, 8054, 6985, 6895, 5731, 4540, 4385, 4359, 4267, 4048, 3925, 2957, 2801, 2758, 2740, 2714, 2647, 2455, 2429, 2408, 2396, 2390, 2252, 2232, 2138, 2090, 2082, 2070, 2011, 2002, 1981, 1974, 1934, 1897, 1862, 1861, 1770, 1749, 1738, 1733, 1688, 1680, 1639, 1627, 1605, 1583, 1547, 1528, 1509, 1499, 1495, 1489, 1462, 1455, 1391, 1391, 1382], \"yaxis\": \"y\"}],\n",
       "                        {\"barmode\": \"relative\", \"grid\": {\"xaxes\": [\"x\"], \"xgap\": 0.1, \"xside\": \"bottom\", \"yaxes\": [\"y\"], \"ygap\": 0.1, \"yside\": \"left\"}, \"height\": 600, \"legend\": {\"tracegroupgap\": 0}, \"margin\": {\"t\": 60}, \"template\": {\"data\": {\"bar\": [{\"marker\": {\"line\": {\"color\": \"white\", \"width\": 0.5}}, \"type\": \"bar\"}], \"barpolar\": [{\"marker\": {\"line\": {\"color\": \"white\", \"width\": 0.5}}, \"type\": \"barpolar\"}], \"carpet\": [{\"aaxis\": {\"endlinecolor\": \"#2a3f5f\", \"gridcolor\": \"#C6C2BF\", \"linecolor\": \"#C6C2BF\", \"minorgridcolor\": \"#C6C2BF\", \"startlinecolor\": \"#2a3f5f\"}, \"baxis\": {\"endlinecolor\": \"#2a3f5f\", \"gridcolor\": \"#C6C2BF\", \"linecolor\": \"#C6C2BF\", \"minorgridcolor\": \"#C6C2BF\", \"startlinecolor\": \"#2a3f5f\"}, \"type\": \"carpet\"}], \"choropleth\": [{\"colorbar\": {\"outlinewidth\": 0, \"ticks\": \"\"}, \"type\": \"choropleth\"}], \"contour\": [{\"colorbar\": {\"outlinewidth\": 0, \"ticks\": \"\"}, \"colorscale\": [[0.0, \"#0067c5\"], [0.1, \"#1e85d1\"], [0.2, \"#3ea4dd\"], [0.3, \"#5cc1e8\"], [0.4, \"#70b6d3\"], [0.5, \"#7e97af\"], [0.6, \"#8b798d\"], [0.7, \"#9a5a69\"], [0.8, \"#a73d46\"], [0.9, \"#b51e23\"], [1.0, \"#c30000\"]], \"type\": \"contour\"}], \"contourcarpet\": [{\"colorbar\": {\"outlinewidth\": 0, \"ticks\": \"\"}, \"type\": \"contourcarpet\"}], \"heatmap\": [{\"colorbar\": {\"outlinewidth\": 0, \"ticks\": \"\"}, \"colorscale\": [[0.0, \"#0067c5\"], [0.1, \"#1e85d1\"], [0.2, \"#3ea4dd\"], [0.3, \"#5cc1e8\"], [0.4, \"#70b6d3\"], [0.5, \"#7e97af\"], [0.6, \"#8b798d\"], [0.7, \"#9a5a69\"], [0.8, \"#a73d46\"], [0.9, \"#b51e23\"], [1.0, \"#c30000\"]], \"type\": \"heatmap\"}], \"heatmapgl\": [{\"colorbar\": {\"outlinewidth\": 0, \"ticks\": \"\"}, \"type\": \"heatmapgl\"}], \"histogram\": [{\"marker\": {\"colorbar\": {\"outlinewidth\": 0, \"ticks\": \"\"}}, \"type\": \"histogram\"}], \"histogram2d\": [{\"colorbar\": {\"outlinewidth\": 0, \"ticks\": \"\"}, \"colorscale\": [[0.0, \"#0067c5\"], [0.1, \"#1e85d1\"], [0.2, \"#3ea4dd\"], [0.3, \"#5cc1e8\"], [0.4, \"#70b6d3\"], [0.5, \"#7e97af\"], [0.6, \"#8b798d\"], [0.7, \"#9a5a69\"], [0.8, \"#a73d46\"], [0.9, \"#b51e23\"], [1.0, \"#c30000\"]], \"type\": \"histogram2d\"}], \"histogram2dcontour\": [{\"colorbar\": {\"outlinewidth\": 0, \"ticks\": \"\"}, \"colorscale\": [[0.0, \"#0067c5\"], [0.1, \"#1e85d1\"], [0.2, \"#3ea4dd\"], [0.3, \"#5cc1e8\"], [0.4, \"#70b6d3\"], [0.5, \"#7e97af\"], [0.6, \"#8b798d\"], [0.7, \"#9a5a69\"], [0.8, \"#a73d46\"], [0.9, \"#b51e23\"], [1.0, \"#c30000\"]], \"type\": \"histogram2dcontour\"}], \"mesh3d\": [{\"colorbar\": {\"outlinewidth\": 0, \"ticks\": \"\"}, \"type\": \"mesh3d\"}], \"parcoords\": [{\"line\": {\"colorbar\": {\"outlinewidth\": 0, \"ticks\": \"\"}}, \"type\": \"parcoords\"}], \"scatter\": [{\"marker\": {\"colorbar\": {\"outlinewidth\": 0, \"ticks\": \"\"}}, \"type\": \"scatter\"}], \"scatter3d\": [{\"marker\": {\"colorbar\": {\"outlinewidth\": 0, \"ticks\": \"\"}}, \"type\": \"scatter3d\"}], \"scattercarpet\": [{\"marker\": {\"colorbar\": {\"outlinewidth\": 0, \"ticks\": \"\"}}, \"type\": \"scattercarpet\"}], \"scattergeo\": [{\"marker\": {\"colorbar\": {\"outlinewidth\": 0, \"ticks\": \"\"}}, \"type\": \"scattergeo\"}], \"scattergl\": [{\"marker\": {\"colorbar\": {\"outlinewidth\": 0, \"ticks\": \"\"}}, \"type\": \"scattergl\"}], \"scattermapbox\": [{\"marker\": {\"colorbar\": {\"outlinewidth\": 0, \"ticks\": \"\"}}, \"type\": \"scattermapbox\"}], \"scatterpolar\": [{\"marker\": {\"colorbar\": {\"outlinewidth\": 0, \"ticks\": \"\"}}, \"type\": \"scatterpolar\"}], \"scatterpolargl\": [{\"marker\": {\"colorbar\": {\"outlinewidth\": 0, \"ticks\": \"\"}}, \"type\": \"scatterpolargl\"}], \"scatterternary\": [{\"marker\": {\"colorbar\": {\"outlinewidth\": 0, \"ticks\": \"\"}}, \"type\": \"scatterternary\"}], \"surface\": [{\"colorbar\": {\"outlinewidth\": 0, \"ticks\": \"\"}, \"type\": \"surface\"}], \"table\": [{\"cells\": {\"fill\": {\"color\": \"#C6C2BF\"}, \"line\": {\"color\": \"white\"}}, \"header\": {\"fill\": {\"color\": \"#C6C2BF\"}, \"line\": {\"color\": \"white\"}}, \"type\": \"table\"}]}, \"layout\": {\"annotationdefaults\": {\"arrowcolor\": \"#506784\", \"arrowhead\": 0, \"arrowwidth\": 1}, \"colorscale\": {\"diverging\": [[0.0, \"#0067c5\"], [0.1, \"#1e85d1\"], [0.2, \"#3ea4dd\"], [0.3, \"#5cc1e8\"], [0.4, \"#70b6d3\"], [0.5, \"#7e97af\"], [0.6, \"#8b798d\"], [0.7, \"#9a5a69\"], [0.8, \"#a73d46\"], [0.9, \"#b51e23\"], [1.0, \"#c30000\"]], \"sequential\": [[0.0, \"#0067c5\"], [0.1, \"#1e85d1\"], [0.2, \"#3ea4dd\"], [0.3, \"#5cc1e8\"], [0.4, \"#70b6d3\"], [0.5, \"#7e97af\"], [0.6, \"#8b798d\"], [0.7, \"#9a5a69\"], [0.8, \"#a73d46\"], [0.9, \"#b51e23\"], [1.0, \"#c30000\"]], \"sequentialminus\": [[0.0, \"#0067c5\"], [0.1, \"#1e85d1\"], [0.2, \"#3ea4dd\"], [0.3, \"#5cc1e8\"], [0.4, \"#70b6d3\"], [0.5, \"#7e97af\"], [0.6, \"#8b798d\"], [0.7, \"#9a5a69\"], [0.8, \"#a73d46\"], [0.9, \"#b51e23\"], [1.0, \"#c30000\"]]}, \"colorway\": [\"#0067C5\", \"#FF9100\", \"#A2AD00\", \"#06893A\", \"#634689\", \"#005B82\", \"#C30000\", \"#66CBEC\", \"#3E3832\", \"#B7B1A9\"], \"font\": {\"color\": \"#2a3f5f\", \"family\": \"Helvetica Neue\"}, \"geo\": {\"bgcolor\": \"white\", \"lakecolor\": \"white\", \"landcolor\": \"white\", \"showlakes\": true, \"showland\": true, \"subunitcolor\": \"#C6C2BF\"}, \"hoverlabel\": {\"align\": \"left\"}, \"hovermode\": \"closest\", \"mapbox\": {\"style\": \"light\"}, \"paper_bgcolor\": \"white\", \"plot_bgcolor\": \"white\", \"polar\": {\"angularaxis\": {\"gridcolor\": \"#C6C2BF\", \"linecolor\": \"#C6C2BF\", \"ticks\": \"\"}, \"bgcolor\": \"white\", \"radialaxis\": {\"gridcolor\": \"#C6C2BF\", \"linecolor\": \"#C6C2BF\", \"ticks\": \"\"}}, \"scene\": {\"xaxis\": {\"backgroundcolor\": \"white\", \"gridcolor\": \"#C6C2BF\", \"gridwidth\": 2, \"linecolor\": \"#C6C2BF\", \"showbackground\": true, \"ticks\": \"\", \"zerolinecolor\": \"#C6C2BF\"}, \"yaxis\": {\"backgroundcolor\": \"white\", \"gridcolor\": \"#C6C2BF\", \"gridwidth\": 2, \"linecolor\": \"#C6C2BF\", \"showbackground\": true, \"ticks\": \"\", \"zerolinecolor\": \"#C6C2BF\"}, \"zaxis\": {\"backgroundcolor\": \"white\", \"gridcolor\": \"#C6C2BF\", \"gridwidth\": 2, \"linecolor\": \"#C6C2BF\", \"showbackground\": true, \"ticks\": \"\", \"zerolinecolor\": \"#C6C2BF\"}}, \"shapedefaults\": {\"fillcolor\": \"#C30000\", \"line\": {\"width\": 0}, \"opacity\": 0.4}, \"ternary\": {\"aaxis\": {\"gridcolor\": \"#C6C2BF\", \"linecolor\": \"#A2B1C6\", \"ticks\": \"\"}, \"baxis\": {\"gridcolor\": \"#C6C2BF\", \"linecolor\": \"#A2B1C6\", \"ticks\": \"\"}, \"bgcolor\": \"white\", \"caxis\": {\"gridcolor\": \"#C6C2BF\", \"linecolor\": \"#A2B1C6\", \"ticks\": \"\"}}, \"title\": {\"x\": 0.05}, \"xaxis\": {\"automargin\": true, \"gridcolor\": \"#C6C2BF\", \"linecolor\": \"#C6C2BF\", \"ticks\": \"\", \"zerolinecolor\": \"#C6C2BF\", \"zerolinewidth\": 2}, \"yaxis\": {\"automargin\": true, \"gridcolor\": \"#C6C2BF\", \"linecolor\": \"#C6C2BF\", \"ticks\": \"\", \"zerolinecolor\": \"#C6C2BF\", \"zerolinewidth\": 2}}}, \"xaxis\": {\"title\": {\"text\": \"bedrift_navn\"}}, \"yaxis\": {\"title\": {\"text\": \"stillingsnummer\"}}},\n",
       "                        {\"showLink\": false, \"linkText\": \"Export to plot.ly\", \"plotlyServerURL\": \"https://plot.ly\", \"responsive\": true}\n",
       "                    ).then(function(){\n",
       "                            \n",
       "var gd = document.getElementById('46a3b31d-8d80-44ee-a7f7-02880c37ee57');\n",
       "var x = new MutationObserver(function (mutations, observer) {{\n",
       "        var display = window.getComputedStyle(gd).display;\n",
       "        if (!display || display === 'none') {{\n",
       "            console.log([gd, 'removed!']);\n",
       "            Plotly.purge(gd);\n",
       "            observer.disconnect();\n",
       "        }}\n",
       "}});\n",
       "\n",
       "// Listen for the removal of the full notebook cells\n",
       "var notebookContainer = gd.closest('#notebook-container');\n",
       "if (notebookContainer) {{\n",
       "    x.observe(notebookContainer, {childList: true});\n",
       "}}\n",
       "\n",
       "// Listen for the clearing of the current output cell\n",
       "var outputEl = gd.closest('.output');\n",
       "if (outputEl) {{\n",
       "    x.observe(outputEl, {childList: true});\n",
       "}}\n",
       "\n",
       "                        })\n",
       "                };\n",
       "                });\n",
       "            </script>\n",
       "        </div>"
      ]
     },
     "metadata": {},
     "output_type": "display_data"
    }
   ],
   "source": [
    "df_k = df[['stillingsnummer','bedrift_navn']].groupby('bedrift_navn').count().reset_index() \\\n",
    "    .sort_values(by='stillingsnummer', ascending=False).head(60)\n",
    "fig_bedrift_navn = px.bar(df_k, x='bedrift_navn', y='stillingsnummer', template=nav.plotly_template)\n",
    "fig_bedrift_navn"
   ]
  },
  {
   "cell_type": "markdown",
   "metadata": {},
   "source": [
    "# Datapakke"
   ]
  },
  {
   "cell_type": "code",
   "execution_count": 56,
   "metadata": {},
   "outputs": [],
   "source": [
    "readme = \"\"\"\n",
    "# Ledige stillinger annonsert på nav.no\n",
    "\"\"\"\n",
    "\n",
    "metadata = {\n",
    "'store': 'gs',\n",
    "'repo': 'https://raw.githubusercontent.com/datasett/nav-examples/master/',\n",
    "'readme': readme,\n",
    "'license':'MIT',\n",
    "'accessRights':'Open',\n",
    "'author': 'paul.bencze@nav.no',\n",
    "'description':'Ledige stillinger annonsert på nav.no',\n",
    "'name':'Ledige stillinger annonsert på nav.no',\n",
    "'source':'NAV',\n",
    "'keywords':['stillinger, annonser,sysselsetting,yrker'],\n",
    "'provenance':'NAV',\n",
    "'publisher': 'NAV',\n",
    "'bucket': 'nav-opendata',\n",
    "}"
   ]
  },
  {
   "cell_type": "code",
   "execution_count": 57,
   "metadata": {},
   "outputs": [],
   "source": [
    "dp = dv.Datapackage(metadata)"
   ]
  },
  {
   "cell_type": "code",
   "execution_count": 58,
   "metadata": {},
   "outputs": [],
   "source": [
    "dp.add_resource(df,'Stillingsannonser m/tekst','Stillingsannonser m/tekst')"
   ]
  },
  {
   "cell_type": "code",
   "execution_count": 59,
   "metadata": {},
   "outputs": [],
   "source": [
    "description = '''\n",
    "Antall stillinger annonsert på nav.no pr måned (statistikkmåned - her kommer en forklaring av hva vi mener med statistikkmåned)\n",
    "'''\n",
    "\n",
    "dp.add_view(\n",
    "    spec_type='plotly',\n",
    "    name='Antall stillinger annonsert pr mnd',\n",
    "    title='Antall stillinger annonsert pr mnd',\n",
    "    description = description,\n",
    "    resources=[],\n",
    "    attribution = \"Kilde: NAV.\",\n",
    "    spec=plio.to_json(fig_antall_stillinger)\n",
    ")"
   ]
  },
  {
   "cell_type": "code",
   "execution_count": 60,
   "metadata": {},
   "outputs": [],
   "source": [
    "description = '''\n",
    "Antall stillinger annonsert på nav.no fordelt på fylke (arbeidssted)\n",
    "'''\n",
    "\n",
    "dp.add_view(\n",
    "    spec_type='plotly',\n",
    "    name='Antall stillinger fordelt på fylke',\n",
    "    description = description,\n",
    "    resources=[],\n",
    "    attribution = \"Kilde: NAV.\",\n",
    "    spec=plio.to_json(fig_foretak_arbeidssted_fylke)\n",
    ")"
   ]
  },
  {
   "cell_type": "code",
   "execution_count": 61,
   "metadata": {},
   "outputs": [],
   "source": [
    "description = '''\n",
    "Antall stillinger annonsert på nav.no fordelt på sektor\n",
    "'''\n",
    "\n",
    "dp.add_view(\n",
    "    spec_type='plotly',\n",
    "    name='Antall stillinger annonsert fordelt på sektor',\n",
    "    description = description,\n",
    "    resources=[],\n",
    "    attribution = \"Kilde: NAV.\",\n",
    "    spec=plio.to_json(fig_foretak_sektor_gruppe)\n",
    ")"
   ]
  },
  {
   "cell_type": "code",
   "execution_count": 62,
   "metadata": {},
   "outputs": [],
   "source": [
    "description = '''\n",
    "Antall stillinger annonsert på nav.no fordelt på yrke (grovgruppe)\n",
    "'''\n",
    "\n",
    "dp.add_view(\n",
    "    spec_type='plotly',\n",
    "    name='Antall stillinger annonsert fordelt på yrke (grovgruppe)',\n",
    "    description = description,\n",
    "    resources=[],\n",
    "    attribution = \"Kilde: NAV.\",\n",
    "    spec=plio.to_json(fig_yrke_grovgruppe)\n",
    ")"
   ]
  },
  {
   "cell_type": "code",
   "execution_count": 63,
   "metadata": {},
   "outputs": [],
   "source": [
    "description = '''\n",
    "Antall stillinger annonsert på nav.no fordelt på kilde for annonsen\n",
    "'''\n",
    "\n",
    "dp.add_view(\n",
    "    spec_type='plotly',\n",
    "    name='Antall stillinger fordelt på kilde',\n",
    "    description = description,\n",
    "    resources=[],\n",
    "    attribution = \"Kilde: NAV.\",\n",
    "    spec=plio.to_json(fig_stilling_kilde)\n",
    ")"
   ]
  },
  {
   "cell_type": "code",
   "execution_count": 64,
   "metadata": {},
   "outputs": [],
   "source": [
    "import os\n",
    "os.environ['GOOGLE_APPLICATION_CREDENTIALS'] = '/users/b149899/projects/binder/binder/keys/nav_opendata.json'"
   ]
  },
  {
   "cell_type": "code",
   "execution_count": 65,
   "metadata": {},
   "outputs": [
    {
     "name": "stdout",
     "output_type": "stream",
     "text": [
      "gs\n",
      "2019-06-16T21:42:36.857204: B149899 <class 'dataverk.connectors.google_storage.GoogleStorageConnector'>: String (format: json) written to https://storage.googleapis.com/nav-opendata/78dabb4c62d8a74e1d56fbed1a336e42/datapackage.json\n",
      "2019-06-16T22:02:01.155545: B149899 <class 'dataverk.connectors.google_storage.GoogleStorageConnector'>: String (format: csv) written to https://storage.googleapis.com/nav-opendata/78dabb4c62d8a74e1d56fbed1a336e42/resources/Stillingsannonser%20m/tekst.csv\n",
      "2019-06-16T22:02:01.824412: B149899 <class 'dataverk.connectors.elasticsearch.ElasticsearchConnector'>: Document 78dabb4c62d8a74e1d56fbed1a336e42 of type odata indexed to elastic index: odata.\n"
     ]
    }
   ],
   "source": [
    "client = dv.Client()\n",
    "client.publish(dp)"
   ]
  },
  {
   "cell_type": "code",
   "execution_count": null,
   "metadata": {},
   "outputs": [],
   "source": []
  }
 ],
 "metadata": {
  "kernelspec": {
   "display_name": "Python (dv)",
   "language": "python",
   "name": "dv"
  },
  "language_info": {
   "codemirror_mode": {
    "name": "ipython",
    "version": 3
   },
   "file_extension": ".py",
   "mimetype": "text/x-python",
   "name": "python",
   "nbconvert_exporter": "python",
   "pygments_lexer": "ipython3",
   "version": "3.7.3"
  }
 },
 "nbformat": 4,
 "nbformat_minor": 2
}
