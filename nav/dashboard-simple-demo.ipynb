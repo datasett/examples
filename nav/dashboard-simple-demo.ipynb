{
 "cells": [
  {
   "cell_type": "code",
   "execution_count": 71,
   "metadata": {},
   "outputs": [],
   "source": [
    "import dataverk as dv\n",
    "import pandas as pd\n",
    "import ipywidgets as widgets\n",
    "\n",
    "import plotly.graph_objs as go\n",
    "import plotly.io as plio\n",
    "import plotly.figure_factory as ff\n",
    "import plotly_express as px"
   ]
  },
  {
   "cell_type": "code",
   "execution_count": 72,
   "metadata": {},
   "outputs": [
    {
     "name": "stdout",
     "output_type": "stream",
     "text": [
      "2019-06-07T11:17:12.070033: B149899 https://data.ssb.no/api/v0/no/table/12446\n"
     ]
    }
   ],
   "source": [
    "import warnings\n",
    "warnings.simplefilter(action='ignore', category=FutureWarning)\n",
    "conn = dv.connectors.JSONStatConnector()\n",
    "df = conn.get_pandas_df('https://data.ssb.no/api/v0/no/table/12446')"
   ]
  },
  {
   "cell_type": "code",
   "execution_count": 73,
   "metadata": {},
   "outputs": [
    {
     "data": {
      "text/plain": [
       "array(['Sykefraværsdagsverk', 'Sykefraværsprosent',\n",
       "       'Sykefraværsprosent, prosentvis endring fra året før',\n",
       "       'Sykefraværsprosent, prosentpoeng endring fra året før',\n",
       "       'Lønnstakere med sykefravær',\n",
       "       'Lønnstakere med sykefravær i prosent av arbeidstakere i alt'],\n",
       "      dtype=object)"
      ]
     },
     "execution_count": 73,
     "metadata": {},
     "output_type": "execute_result"
    }
   ],
   "source": [
    "df['statistikkvariabel'].unique()"
   ]
  },
  {
   "cell_type": "code",
   "execution_count": 74,
   "metadata": {},
   "outputs": [
    {
     "data": {
      "text/plain": [
       "array(['16-69 år', '16-19 år', '20-24 år', '25-29 år', '30-34 år',\n",
       "       '35-39 år', '40-44 år', '45-49 år', '50-54 år', '55-59 år',\n",
       "       '60-64 år', '65-66 år', '67 år', '68 år', '69 år'], dtype=object)"
      ]
     },
     "execution_count": 74,
     "metadata": {},
     "output_type": "execute_result"
    }
   ],
   "source": [
    "df['alder'].unique()"
   ]
  },
  {
   "cell_type": "code",
   "execution_count": 75,
   "metadata": {},
   "outputs": [
    {
     "data": {
      "text/html": [
       "<div>\n",
       "<style scoped>\n",
       "    .dataframe tbody tr th:only-of-type {\n",
       "        vertical-align: middle;\n",
       "    }\n",
       "\n",
       "    .dataframe tbody tr th {\n",
       "        vertical-align: top;\n",
       "    }\n",
       "\n",
       "    .dataframe thead th {\n",
       "        text-align: right;\n",
       "    }\n",
       "</style>\n",
       "<table border=\"1\" class=\"dataframe\">\n",
       "  <thead>\n",
       "    <tr style=\"text-align: right;\">\n",
       "      <th></th>\n",
       "      <th>region</th>\n",
       "      <th>kjønn</th>\n",
       "      <th>alder</th>\n",
       "      <th>statistikkvariabel</th>\n",
       "      <th>kvartal</th>\n",
       "      <th>value</th>\n",
       "    </tr>\n",
       "  </thead>\n",
       "  <tbody>\n",
       "    <tr>\n",
       "      <th>7200</th>\n",
       "      <td>Hele landet</td>\n",
       "      <td>Menn</td>\n",
       "      <td>16-19 år</td>\n",
       "      <td>Sykefraværsdagsverk</td>\n",
       "      <td>2000K2</td>\n",
       "      <td>30110.0</td>\n",
       "    </tr>\n",
       "    <tr>\n",
       "      <th>7201</th>\n",
       "      <td>Hele landet</td>\n",
       "      <td>Menn</td>\n",
       "      <td>16-19 år</td>\n",
       "      <td>Sykefraværsdagsverk</td>\n",
       "      <td>2000K3</td>\n",
       "      <td>35788.0</td>\n",
       "    </tr>\n",
       "    <tr>\n",
       "      <th>7202</th>\n",
       "      <td>Hele landet</td>\n",
       "      <td>Menn</td>\n",
       "      <td>16-19 år</td>\n",
       "      <td>Sykefraværsdagsverk</td>\n",
       "      <td>2000K4</td>\n",
       "      <td>38823.0</td>\n",
       "    </tr>\n",
       "    <tr>\n",
       "      <th>7203</th>\n",
       "      <td>Hele landet</td>\n",
       "      <td>Menn</td>\n",
       "      <td>16-19 år</td>\n",
       "      <td>Sykefraværsdagsverk</td>\n",
       "      <td>2001K1</td>\n",
       "      <td>41473.0</td>\n",
       "    </tr>\n",
       "    <tr>\n",
       "      <th>7204</th>\n",
       "      <td>Hele landet</td>\n",
       "      <td>Menn</td>\n",
       "      <td>16-19 år</td>\n",
       "      <td>Sykefraværsdagsverk</td>\n",
       "      <td>2001K2</td>\n",
       "      <td>31856.0</td>\n",
       "    </tr>\n",
       "  </tbody>\n",
       "</table>\n",
       "</div>"
      ],
      "text/plain": [
       "           region kjønn     alder   statistikkvariabel kvartal    value\n",
       "7200  Hele landet  Menn  16-19 år  Sykefraværsdagsverk  2000K2  30110.0\n",
       "7201  Hele landet  Menn  16-19 år  Sykefraværsdagsverk  2000K3  35788.0\n",
       "7202  Hele landet  Menn  16-19 år  Sykefraværsdagsverk  2000K4  38823.0\n",
       "7203  Hele landet  Menn  16-19 år  Sykefraværsdagsverk  2001K1  41473.0\n",
       "7204  Hele landet  Menn  16-19 år  Sykefraværsdagsverk  2001K2  31856.0"
      ]
     },
     "execution_count": 75,
     "metadata": {},
     "output_type": "execute_result"
    }
   ],
   "source": [
    "utv = df[(df['statistikkvariabel'] == 'Sykefraværsdagsverk') \n",
    "         & (df['region'] == 'Hele landet')\n",
    "         & (~df['alder'].isin(['16-69 år']))\n",
    "         & (~df['kjønn'].isin(['Begge kjønn']))]\n",
    "utv.head()"
   ]
  },
  {
   "cell_type": "code",
   "execution_count": 76,
   "metadata": {},
   "outputs": [
    {
     "data": {
      "application/vnd.plotly.v1+json": {
       "config": {
        "linkText": "Export to plot.ly",
        "plotlyServerURL": "https://plot.ly",
        "showLink": false
       },
       "data": [
        {
         "hoverlabel": {
          "namelength": 0
         },
         "hovertemplate": "kjønn=Menn<br>kvartal=2000K2<br>alder=%{x}<br>value=%{y}",
         "legendgroup": "kjønn=Menn",
         "marker": {
          "color": "#636efa",
          "symbol": "circle"
         },
         "mode": "markers",
         "name": "kjønn=Menn",
         "showlegend": true,
         "type": "scatter",
         "uid": "662ef1c2-2813-4b59-b8b5-b9cdabe64446",
         "x": [
          "16-19 år",
          "20-24 år",
          "25-29 år",
          "30-34 år",
          "35-39 år",
          "40-44 år",
          "45-49 år",
          "50-54 år",
          "55-59 år",
          "60-64 år",
          "65-66 år",
          "67 år",
          "68 år",
          "69 år"
         ],
         "xaxis": "x",
         "y": [
          30110,
          161571,
          271988,
          335583,
          323696,
          315352,
          309718,
          345277,
          297388,
          210614,
          34727,
          4769,
          1266,
          620
         ],
         "yaxis": "y"
        },
        {
         "hoverlabel": {
          "namelength": 0
         },
         "hovertemplate": "kjønn=Kvinner<br>kvartal=2000K2<br>alder=%{x}<br>value=%{y}",
         "legendgroup": "kjønn=Kvinner",
         "marker": {
          "color": "#EF553B",
          "symbol": "circle"
         },
         "mode": "markers",
         "name": "kjønn=Kvinner",
         "showlegend": true,
         "type": "scatter",
         "uid": "8a161c91-86c5-4b81-bc52-530eabd328e8",
         "x": [
          "16-19 år",
          "20-24 år",
          "25-29 år",
          "30-34 år",
          "35-39 år",
          "40-44 år",
          "45-49 år",
          "50-54 år",
          "55-59 år",
          "60-64 år",
          "65-66 år",
          "67 år",
          "68 år",
          "69 år"
         ],
         "xaxis": "x",
         "y": [
          29415,
          187548,
          358266,
          425232,
          389446,
          391748,
          398326,
          409253,
          315177,
          198260,
          31472,
          3293,
          931,
          712
         ],
         "yaxis": "y"
        }
       ],
       "frames": [
        {
         "data": [
          {
           "hoverlabel": {
            "namelength": 0
           },
           "hovertemplate": "kjønn=Menn<br>kvartal=2000K2<br>alder=%{x}<br>value=%{y}",
           "legendgroup": "kjønn=Menn",
           "marker": {
            "color": "#636efa",
            "symbol": "circle"
           },
           "mode": "markers",
           "name": "kjønn=Menn",
           "showlegend": true,
           "type": "scatter",
           "x": [
            "16-19 år",
            "20-24 år",
            "25-29 år",
            "30-34 år",
            "35-39 år",
            "40-44 år",
            "45-49 år",
            "50-54 år",
            "55-59 år",
            "60-64 år",
            "65-66 år",
            "67 år",
            "68 år",
            "69 år"
           ],
           "xaxis": "x",
           "y": [
            30110,
            161571,
            271988,
            335583,
            323696,
            315352,
            309718,
            345277,
            297388,
            210614,
            34727,
            4769,
            1266,
            620
           ],
           "yaxis": "y"
          },
          {
           "hoverlabel": {
            "namelength": 0
           },
           "hovertemplate": "kjønn=Kvinner<br>kvartal=2000K2<br>alder=%{x}<br>value=%{y}",
           "legendgroup": "kjønn=Kvinner",
           "marker": {
            "color": "#EF553B",
            "symbol": "circle"
           },
           "mode": "markers",
           "name": "kjønn=Kvinner",
           "showlegend": true,
           "type": "scatter",
           "x": [
            "16-19 år",
            "20-24 år",
            "25-29 år",
            "30-34 år",
            "35-39 år",
            "40-44 år",
            "45-49 år",
            "50-54 år",
            "55-59 år",
            "60-64 år",
            "65-66 år",
            "67 år",
            "68 år",
            "69 år"
           ],
           "xaxis": "x",
           "y": [
            29415,
            187548,
            358266,
            425232,
            389446,
            391748,
            398326,
            409253,
            315177,
            198260,
            31472,
            3293,
            931,
            712
           ],
           "yaxis": "y"
          }
         ],
         "name": "2000K2"
        },
        {
         "data": [
          {
           "hoverlabel": {
            "namelength": 0
           },
           "hovertemplate": "kjønn=Menn<br>kvartal=2000K3<br>alder=%{x}<br>value=%{y}",
           "legendgroup": "kjønn=Menn",
           "marker": {
            "color": "#636efa",
            "symbol": "circle"
           },
           "mode": "markers",
           "name": "kjønn=Menn",
           "showlegend": true,
           "type": "scatter",
           "x": [
            "16-19 år",
            "20-24 år",
            "25-29 år",
            "30-34 år",
            "35-39 år",
            "40-44 år",
            "45-49 år",
            "50-54 år",
            "55-59 år",
            "60-64 år",
            "65-66 år",
            "67 år",
            "68 år",
            "69 år"
           ],
           "xaxis": "x",
           "y": [
            35788,
            176718,
            287752,
            355911,
            340815,
            325198,
            320725,
            350708,
            311717,
            209826,
            34624,
            4813,
            1036,
            524
           ],
           "yaxis": "y"
          },
          {
           "hoverlabel": {
            "namelength": 0
           },
           "hovertemplate": "kjønn=Kvinner<br>kvartal=2000K3<br>alder=%{x}<br>value=%{y}",
           "legendgroup": "kjønn=Kvinner",
           "marker": {
            "color": "#EF553B",
            "symbol": "circle"
           },
           "mode": "markers",
           "name": "kjønn=Kvinner",
           "showlegend": true,
           "type": "scatter",
           "x": [
            "16-19 år",
            "20-24 år",
            "25-29 år",
            "30-34 år",
            "35-39 år",
            "40-44 år",
            "45-49 år",
            "50-54 år",
            "55-59 år",
            "60-64 år",
            "65-66 år",
            "67 år",
            "68 år",
            "69 år"
           ],
           "xaxis": "x",
           "y": [
            31612,
            196662,
            358794,
            419252,
            387879,
            376390,
            386233,
            404054,
            321061,
            198531,
            32969,
            3881,
            717,
            528
           ],
           "yaxis": "y"
          }
         ],
         "name": "2000K3"
        },
        {
         "data": [
          {
           "hoverlabel": {
            "namelength": 0
           },
           "hovertemplate": "kjønn=Menn<br>kvartal=2000K4<br>alder=%{x}<br>value=%{y}",
           "legendgroup": "kjønn=Menn",
           "marker": {
            "color": "#636efa",
            "symbol": "circle"
           },
           "mode": "markers",
           "name": "kjønn=Menn",
           "showlegend": true,
           "type": "scatter",
           "x": [
            "16-19 år",
            "20-24 år",
            "25-29 år",
            "30-34 år",
            "35-39 år",
            "40-44 år",
            "45-49 år",
            "50-54 år",
            "55-59 år",
            "60-64 år",
            "65-66 år",
            "67 år",
            "68 år",
            "69 år"
           ],
           "xaxis": "x",
           "y": [
            38823,
            185752,
            304614,
            379017,
            368678,
            355395,
            343191,
            371790,
            332657,
            219346,
            34656,
            3965,
            1323,
            556
           ],
           "yaxis": "y"
          },
          {
           "hoverlabel": {
            "namelength": 0
           },
           "hovertemplate": "kjønn=Kvinner<br>kvartal=2000K4<br>alder=%{x}<br>value=%{y}",
           "legendgroup": "kjønn=Kvinner",
           "marker": {
            "color": "#EF553B",
            "symbol": "circle"
           },
           "mode": "markers",
           "name": "kjønn=Kvinner",
           "showlegend": true,
           "type": "scatter",
           "x": [
            "16-19 år",
            "20-24 år",
            "25-29 år",
            "30-34 år",
            "35-39 år",
            "40-44 år",
            "45-49 år",
            "50-54 år",
            "55-59 år",
            "60-64 år",
            "65-66 år",
            "67 år",
            "68 år",
            "69 år"
           ],
           "xaxis": "x",
           "y": [
            37265,
            215120,
            415414,
            487746,
            454684,
            443582,
            443114,
            455023,
            362088,
            207903,
            33504,
            3765,
            1099,
            601
           ],
           "yaxis": "y"
          }
         ],
         "name": "2000K4"
        },
        {
         "data": [
          {
           "hoverlabel": {
            "namelength": 0
           },
           "hovertemplate": "kjønn=Menn<br>kvartal=2001K1<br>alder=%{x}<br>value=%{y}",
           "legendgroup": "kjønn=Menn",
           "marker": {
            "color": "#636efa",
            "symbol": "circle"
           },
           "mode": "markers",
           "name": "kjønn=Menn",
           "showlegend": true,
           "type": "scatter",
           "x": [
            "16-19 år",
            "20-24 år",
            "25-29 år",
            "30-34 år",
            "35-39 år",
            "40-44 år",
            "45-49 år",
            "50-54 år",
            "55-59 år",
            "60-64 år",
            "65-66 år",
            "67 år",
            "68 år",
            "69 år"
           ],
           "xaxis": "x",
           "y": [
            41473,
            200264,
            320433,
            406788,
            403392,
            380012,
            370540,
            392057,
            365134,
            231813,
            36174,
            4235,
            1667,
            707
           ],
           "yaxis": "y"
          },
          {
           "hoverlabel": {
            "namelength": 0
           },
           "hovertemplate": "kjønn=Kvinner<br>kvartal=2001K1<br>alder=%{x}<br>value=%{y}",
           "legendgroup": "kjønn=Kvinner",
           "marker": {
            "color": "#EF553B",
            "symbol": "circle"
           },
           "mode": "markers",
           "name": "kjønn=Kvinner",
           "showlegend": true,
           "type": "scatter",
           "x": [
            "16-19 år",
            "20-24 år",
            "25-29 år",
            "30-34 år",
            "35-39 år",
            "40-44 år",
            "45-49 år",
            "50-54 år",
            "55-59 år",
            "60-64 år",
            "65-66 år",
            "67 år",
            "68 år",
            "69 år"
           ],
           "xaxis": "x",
           "y": [
            37852,
            226715,
            432469,
            528099,
            482900,
            472940,
            473163,
            478289,
            398165,
            223202,
            34773,
            4414,
            1442,
            746
           ],
           "yaxis": "y"
          }
         ],
         "name": "2001K1"
        },
        {
         "data": [
          {
           "hoverlabel": {
            "namelength": 0
           },
           "hovertemplate": "kjønn=Menn<br>kvartal=2001K2<br>alder=%{x}<br>value=%{y}",
           "legendgroup": "kjønn=Menn",
           "marker": {
            "color": "#636efa",
            "symbol": "circle"
           },
           "mode": "markers",
           "name": "kjønn=Menn",
           "showlegend": true,
           "type": "scatter",
           "x": [
            "16-19 år",
            "20-24 år",
            "25-29 år",
            "30-34 år",
            "35-39 år",
            "40-44 år",
            "45-49 år",
            "50-54 år",
            "55-59 år",
            "60-64 år",
            "65-66 år",
            "67 år",
            "68 år",
            "69 år"
           ],
           "xaxis": "x",
           "y": [
            31856,
            167908,
            261444,
            324159,
            334227,
            315784,
            312382,
            333500,
            316999,
            200850,
            30729,
            2954,
            1550,
            933
           ],
           "yaxis": "y"
          },
          {
           "hoverlabel": {
            "namelength": 0
           },
           "hovertemplate": "kjønn=Kvinner<br>kvartal=2001K2<br>alder=%{x}<br>value=%{y}",
           "legendgroup": "kjønn=Kvinner",
           "marker": {
            "color": "#EF553B",
            "symbol": "circle"
           },
           "mode": "markers",
           "name": "kjønn=Kvinner",
           "showlegend": true,
           "type": "scatter",
           "x": [
            "16-19 år",
            "20-24 år",
            "25-29 år",
            "30-34 år",
            "35-39 år",
            "40-44 år",
            "45-49 år",
            "50-54 år",
            "55-59 år",
            "60-64 år",
            "65-66 år",
            "67 år",
            "68 år",
            "69 år"
           ],
           "xaxis": "x",
           "y": [
            29595,
            185202,
            352959,
            434921,
            407662,
            395156,
            406817,
            406325,
            346505,
            190684,
            30248,
            3724,
            905,
            1041
           ],
           "yaxis": "y"
          }
         ],
         "name": "2001K2"
        },
        {
         "data": [
          {
           "hoverlabel": {
            "namelength": 0
           },
           "hovertemplate": "kjønn=Menn<br>kvartal=2001K3<br>alder=%{x}<br>value=%{y}",
           "legendgroup": "kjønn=Menn",
           "marker": {
            "color": "#636efa",
            "symbol": "circle"
           },
           "mode": "markers",
           "name": "kjønn=Menn",
           "showlegend": true,
           "type": "scatter",
           "x": [
            "16-19 år",
            "20-24 år",
            "25-29 år",
            "30-34 år",
            "35-39 år",
            "40-44 år",
            "45-49 år",
            "50-54 år",
            "55-59 år",
            "60-64 år",
            "65-66 år",
            "67 år",
            "68 år",
            "69 år"
           ],
           "xaxis": "x",
           "y": [
            37186,
            192478,
            293117,
            368063,
            369183,
            346409,
            343491,
            354890,
            343405,
            214643,
            34341,
            3964,
            1665,
            990
           ],
           "yaxis": "y"
          },
          {
           "hoverlabel": {
            "namelength": 0
           },
           "hovertemplate": "kjønn=Kvinner<br>kvartal=2001K3<br>alder=%{x}<br>value=%{y}",
           "legendgroup": "kjønn=Kvinner",
           "marker": {
            "color": "#EF553B",
            "symbol": "circle"
           },
           "mode": "markers",
           "name": "kjønn=Kvinner",
           "showlegend": true,
           "type": "scatter",
           "x": [
            "16-19 år",
            "20-24 år",
            "25-29 år",
            "30-34 år",
            "35-39 år",
            "40-44 år",
            "45-49 år",
            "50-54 år",
            "55-59 år",
            "60-64 år",
            "65-66 år",
            "67 år",
            "68 år",
            "69 år"
           ],
           "xaxis": "x",
           "y": [
            33911,
            208271,
            370185,
            446724,
            406300,
            388546,
            404292,
            404596,
            354820,
            199194,
            32892,
            4279,
            826,
            1024
           ],
           "yaxis": "y"
          }
         ],
         "name": "2001K3"
        },
        {
         "data": [
          {
           "hoverlabel": {
            "namelength": 0
           },
           "hovertemplate": "kjønn=Menn<br>kvartal=2001K4<br>alder=%{x}<br>value=%{y}",
           "legendgroup": "kjønn=Menn",
           "marker": {
            "color": "#636efa",
            "symbol": "circle"
           },
           "mode": "markers",
           "name": "kjønn=Menn",
           "showlegend": true,
           "type": "scatter",
           "x": [
            "16-19 år",
            "20-24 år",
            "25-29 år",
            "30-34 år",
            "35-39 år",
            "40-44 år",
            "45-49 år",
            "50-54 år",
            "55-59 år",
            "60-64 år",
            "65-66 år",
            "67 år",
            "68 år",
            "69 år"
           ],
           "xaxis": "x",
           "y": [
            40958,
            202142,
            309385,
            406490,
            407660,
            380431,
            377268,
            385557,
            376822,
            227714,
            36659,
            4022,
            1413,
            1193
           ],
           "yaxis": "y"
          },
          {
           "hoverlabel": {
            "namelength": 0
           },
           "hovertemplate": "kjønn=Kvinner<br>kvartal=2001K4<br>alder=%{x}<br>value=%{y}",
           "legendgroup": "kjønn=Kvinner",
           "marker": {
            "color": "#EF553B",
            "symbol": "circle"
           },
           "mode": "markers",
           "name": "kjønn=Kvinner",
           "showlegend": true,
           "type": "scatter",
           "x": [
            "16-19 år",
            "20-24 år",
            "25-29 år",
            "30-34 år",
            "35-39 år",
            "40-44 år",
            "45-49 år",
            "50-54 år",
            "55-59 år",
            "60-64 år",
            "65-66 år",
            "67 år",
            "68 år",
            "69 år"
           ],
           "xaxis": "x",
           "y": [
            37783,
            225062,
            423125,
            531192,
            492724,
            464756,
            480109,
            463640,
            405686,
            220231,
            34470,
            3727,
            1097,
            1226
           ],
           "yaxis": "y"
          }
         ],
         "name": "2001K4"
        },
        {
         "data": [
          {
           "hoverlabel": {
            "namelength": 0
           },
           "hovertemplate": "kjønn=Menn<br>kvartal=2002K1<br>alder=%{x}<br>value=%{y}",
           "legendgroup": "kjønn=Menn",
           "marker": {
            "color": "#636efa",
            "symbol": "circle"
           },
           "mode": "markers",
           "name": "kjønn=Menn",
           "showlegend": true,
           "type": "scatter",
           "x": [
            "16-19 år",
            "20-24 år",
            "25-29 år",
            "30-34 år",
            "35-39 år",
            "40-44 år",
            "45-49 år",
            "50-54 år",
            "55-59 år",
            "60-64 år",
            "65-66 år",
            "67 år",
            "68 år",
            "69 år"
           ],
           "xaxis": "x",
           "y": [
            38368,
            196728,
            298748,
            399806,
            405263,
            382740,
            367384,
            384235,
            378193,
            226914,
            37857,
            4852,
            1333,
            1130
           ],
           "yaxis": "y"
          },
          {
           "hoverlabel": {
            "namelength": 0
           },
           "hovertemplate": "kjønn=Kvinner<br>kvartal=2002K1<br>alder=%{x}<br>value=%{y}",
           "legendgroup": "kjønn=Kvinner",
           "marker": {
            "color": "#EF553B",
            "symbol": "circle"
           },
           "mode": "markers",
           "name": "kjønn=Kvinner",
           "showlegend": true,
           "type": "scatter",
           "x": [
            "16-19 år",
            "20-24 år",
            "25-29 år",
            "30-34 år",
            "35-39 år",
            "40-44 år",
            "45-49 år",
            "50-54 år",
            "55-59 år",
            "60-64 år",
            "65-66 år",
            "67 år",
            "68 år",
            "69 år"
           ],
           "xaxis": "x",
           "y": [
            35382,
            220828,
            415196,
            532415,
            495612,
            458530,
            474016,
            461007,
            415373,
            223110,
            35246,
            3790,
            1449,
            1090
           ],
           "yaxis": "y"
          }
         ],
         "name": "2002K1"
        },
        {
         "data": [
          {
           "hoverlabel": {
            "namelength": 0
           },
           "hovertemplate": "kjønn=Menn<br>kvartal=2002K2<br>alder=%{x}<br>value=%{y}",
           "legendgroup": "kjønn=Menn",
           "marker": {
            "color": "#636efa",
            "symbol": "circle"
           },
           "mode": "markers",
           "name": "kjønn=Menn",
           "showlegend": true,
           "type": "scatter",
           "x": [
            "16-19 år",
            "20-24 år",
            "25-29 år",
            "30-34 år",
            "35-39 år",
            "40-44 år",
            "45-49 år",
            "50-54 år",
            "55-59 år",
            "60-64 år",
            "65-66 år",
            "67 år",
            "68 år",
            "69 år"
           ],
           "xaxis": "x",
           "y": [
            34408,
            182360,
            268001,
            362047,
            375452,
            349433,
            341832,
            354153,
            362692,
            218081,
            35634,
            4185,
            1366,
            933
           ],
           "yaxis": "y"
          },
          {
           "hoverlabel": {
            "namelength": 0
           },
           "hovertemplate": "kjønn=Kvinner<br>kvartal=2002K2<br>alder=%{x}<br>value=%{y}",
           "legendgroup": "kjønn=Kvinner",
           "marker": {
            "color": "#EF553B",
            "symbol": "circle"
           },
           "mode": "markers",
           "name": "kjønn=Kvinner",
           "showlegend": true,
           "type": "scatter",
           "x": [
            "16-19 år",
            "20-24 år",
            "25-29 år",
            "30-34 år",
            "35-39 år",
            "40-44 år",
            "45-49 år",
            "50-54 år",
            "55-59 år",
            "60-64 år",
            "65-66 år",
            "67 år",
            "68 år",
            "69 år"
           ],
           "xaxis": "x",
           "y": [
            29993,
            204024,
            375967,
            485582,
            465129,
            428932,
            444385,
            420764,
            391708,
            212154,
            32373,
            3920,
            1027,
            929
           ],
           "yaxis": "y"
          }
         ],
         "name": "2002K2"
        },
        {
         "data": [
          {
           "hoverlabel": {
            "namelength": 0
           },
           "hovertemplate": "kjønn=Menn<br>kvartal=2002K3<br>alder=%{x}<br>value=%{y}",
           "legendgroup": "kjønn=Menn",
           "marker": {
            "color": "#636efa",
            "symbol": "circle"
           },
           "mode": "markers",
           "name": "kjønn=Menn",
           "showlegend": true,
           "type": "scatter",
           "x": [
            "16-19 år",
            "20-24 år",
            "25-29 år",
            "30-34 år",
            "35-39 år",
            "40-44 år",
            "45-49 år",
            "50-54 år",
            "55-59 år",
            "60-64 år",
            "65-66 år",
            "67 år",
            "68 år",
            "69 år"
           ],
           "xaxis": "x",
           "y": [
            36962,
            196953,
            289802,
            386273,
            395542,
            365123,
            357094,
            363428,
            376368,
            227551,
            36710,
            5001,
            1195,
            956
           ],
           "yaxis": "y"
          },
          {
           "hoverlabel": {
            "namelength": 0
           },
           "hovertemplate": "kjønn=Kvinner<br>kvartal=2002K3<br>alder=%{x}<br>value=%{y}",
           "legendgroup": "kjønn=Kvinner",
           "marker": {
            "color": "#EF553B",
            "symbol": "circle"
           },
           "mode": "markers",
           "name": "kjønn=Kvinner",
           "showlegend": true,
           "type": "scatter",
           "x": [
            "16-19 år",
            "20-24 år",
            "25-29 år",
            "30-34 år",
            "35-39 år",
            "40-44 år",
            "45-49 år",
            "50-54 år",
            "55-59 år",
            "60-64 år",
            "65-66 år",
            "67 år",
            "68 år",
            "69 år"
           ],
           "xaxis": "x",
           "y": [
            31476,
            215775,
            378300,
            477875,
            448917,
            407095,
            423891,
            401711,
            383614,
            217282,
            34569,
            3940,
            1001,
            903
           ],
           "yaxis": "y"
          }
         ],
         "name": "2002K3"
        },
        {
         "data": [
          {
           "hoverlabel": {
            "namelength": 0
           },
           "hovertemplate": "kjønn=Menn<br>kvartal=2002K4<br>alder=%{x}<br>value=%{y}",
           "legendgroup": "kjønn=Menn",
           "marker": {
            "color": "#636efa",
            "symbol": "circle"
           },
           "mode": "markers",
           "name": "kjønn=Menn",
           "showlegend": true,
           "type": "scatter",
           "x": [
            "16-19 år",
            "20-24 år",
            "25-29 år",
            "30-34 år",
            "35-39 år",
            "40-44 år",
            "45-49 år",
            "50-54 år",
            "55-59 år",
            "60-64 år",
            "65-66 år",
            "67 år",
            "68 år",
            "69 år"
           ],
           "xaxis": "x",
           "y": [
            38143,
            204666,
            309287,
            422942,
            444835,
            411284,
            391675,
            399657,
            416556,
            241953,
            38407,
            4380,
            1270,
            1358
           ],
           "yaxis": "y"
          },
          {
           "hoverlabel": {
            "namelength": 0
           },
           "hovertemplate": "kjønn=Kvinner<br>kvartal=2002K4<br>alder=%{x}<br>value=%{y}",
           "legendgroup": "kjønn=Kvinner",
           "marker": {
            "color": "#EF553B",
            "symbol": "circle"
           },
           "mode": "markers",
           "name": "kjønn=Kvinner",
           "showlegend": true,
           "type": "scatter",
           "x": [
            "16-19 år",
            "20-24 år",
            "25-29 år",
            "30-34 år",
            "35-39 år",
            "40-44 år",
            "45-49 år",
            "50-54 år",
            "55-59 år",
            "60-64 år",
            "65-66 år",
            "67 år",
            "68 år",
            "69 år"
           ],
           "xaxis": "x",
           "y": [
            33875,
            235741,
            439116,
            565403,
            536879,
            488547,
            501270,
            476814,
            438751,
            240583,
            35564,
            4211,
            1207,
            717
           ],
           "yaxis": "y"
          }
         ],
         "name": "2002K4"
        },
        {
         "data": [
          {
           "hoverlabel": {
            "namelength": 0
           },
           "hovertemplate": "kjønn=Menn<br>kvartal=2003K1<br>alder=%{x}<br>value=%{y}",
           "legendgroup": "kjønn=Menn",
           "marker": {
            "color": "#636efa",
            "symbol": "circle"
           },
           "mode": "markers",
           "name": "kjønn=Menn",
           "showlegend": true,
           "type": "scatter",
           "x": [
            "16-19 år",
            "20-24 år",
            "25-29 år",
            "30-34 år",
            "35-39 år",
            "40-44 år",
            "45-49 år",
            "50-54 år",
            "55-59 år",
            "60-64 år",
            "65-66 år",
            "67 år",
            "68 år",
            "69 år"
           ],
           "xaxis": "x",
           "y": [
            37133,
            204742,
            301583,
            425263,
            459292,
            418340,
            404771,
            407364,
            426845,
            246715,
            38828,
            4620,
            1405,
            1010
           ],
           "yaxis": "y"
          },
          {
           "hoverlabel": {
            "namelength": 0
           },
           "hovertemplate": "kjønn=Kvinner<br>kvartal=2003K1<br>alder=%{x}<br>value=%{y}",
           "legendgroup": "kjønn=Kvinner",
           "marker": {
            "color": "#EF553B",
            "symbol": "circle"
           },
           "mode": "markers",
           "name": "kjønn=Kvinner",
           "showlegend": true,
           "type": "scatter",
           "x": [
            "16-19 år",
            "20-24 år",
            "25-29 år",
            "30-34 år",
            "35-39 år",
            "40-44 år",
            "45-49 år",
            "50-54 år",
            "55-59 år",
            "60-64 år",
            "65-66 år",
            "67 år",
            "68 år",
            "69 år"
           ],
           "xaxis": "x",
           "y": [
            34370,
            234253,
            436884,
            583718,
            536733,
            504700,
            515689,
            488165,
            450970,
            248340,
            37295,
            4620,
            1430,
            1102
           ],
           "yaxis": "y"
          }
         ],
         "name": "2003K1"
        },
        {
         "data": [
          {
           "hoverlabel": {
            "namelength": 0
           },
           "hovertemplate": "kjønn=Menn<br>kvartal=2003K2<br>alder=%{x}<br>value=%{y}",
           "legendgroup": "kjønn=Menn",
           "marker": {
            "color": "#636efa",
            "symbol": "circle"
           },
           "mode": "markers",
           "name": "kjønn=Menn",
           "showlegend": true,
           "type": "scatter",
           "x": [
            "16-19 år",
            "20-24 år",
            "25-29 år",
            "30-34 år",
            "35-39 år",
            "40-44 år",
            "45-49 år",
            "50-54 år",
            "55-59 år",
            "60-64 år",
            "65-66 år",
            "67 år",
            "68 år",
            "69 år"
           ],
           "xaxis": "x",
           "y": [
            31011,
            172622,
            262809,
            365983,
            402054,
            370799,
            364431,
            361186,
            393642,
            227013,
            37239,
            4759,
            1026,
            765
           ],
           "yaxis": "y"
          },
          {
           "hoverlabel": {
            "namelength": 0
           },
           "hovertemplate": "kjønn=Kvinner<br>kvartal=2003K2<br>alder=%{x}<br>value=%{y}",
           "legendgroup": "kjønn=Kvinner",
           "marker": {
            "color": "#EF553B",
            "symbol": "circle"
           },
           "mode": "markers",
           "name": "kjønn=Kvinner",
           "showlegend": true,
           "type": "scatter",
           "x": [
            "16-19 år",
            "20-24 år",
            "25-29 år",
            "30-34 år",
            "35-39 år",
            "40-44 år",
            "45-49 år",
            "50-54 år",
            "55-59 år",
            "60-64 år",
            "65-66 år",
            "67 år",
            "68 år",
            "69 år"
           ],
           "xaxis": "x",
           "y": [
            28413,
            206019,
            389108,
            519740,
            498750,
            458230,
            463771,
            441592,
            413216,
            233920,
            36605,
            4541,
            1212,
            1236
           ],
           "yaxis": "y"
          }
         ],
         "name": "2003K2"
        },
        {
         "data": [
          {
           "hoverlabel": {
            "namelength": 0
           },
           "hovertemplate": "kjønn=Menn<br>kvartal=2003K3<br>alder=%{x}<br>value=%{y}",
           "legendgroup": "kjønn=Menn",
           "marker": {
            "color": "#636efa",
            "symbol": "circle"
           },
           "mode": "markers",
           "name": "kjønn=Menn",
           "showlegend": true,
           "type": "scatter",
           "x": [
            "16-19 år",
            "20-24 år",
            "25-29 år",
            "30-34 år",
            "35-39 år",
            "40-44 år",
            "45-49 år",
            "50-54 år",
            "55-59 år",
            "60-64 år",
            "65-66 år",
            "67 år",
            "68 år",
            "69 år"
           ],
           "xaxis": "x",
           "y": [
            33564,
            180939,
            277127,
            385672,
            416762,
            384187,
            371588,
            385313,
            419707,
            241195,
            39764,
            4953,
            1264,
            814
           ],
           "yaxis": "y"
          },
          {
           "hoverlabel": {
            "namelength": 0
           },
           "hovertemplate": "kjønn=Kvinner<br>kvartal=2003K3<br>alder=%{x}<br>value=%{y}",
           "legendgroup": "kjønn=Kvinner",
           "marker": {
            "color": "#EF553B",
            "symbol": "circle"
           },
           "mode": "markers",
           "name": "kjønn=Kvinner",
           "showlegend": true,
           "type": "scatter",
           "x": [
            "16-19 år",
            "20-24 år",
            "25-29 år",
            "30-34 år",
            "35-39 år",
            "40-44 år",
            "45-49 år",
            "50-54 år",
            "55-59 år",
            "60-64 år",
            "65-66 år",
            "67 år",
            "68 år",
            "69 år"
           ],
           "xaxis": "x",
           "y": [
            31580,
            210595,
            382797,
            498563,
            473114,
            429967,
            445270,
            425348,
            412864,
            240658,
            41450,
            4804,
            1436,
            1051
           ],
           "yaxis": "y"
          }
         ],
         "name": "2003K3"
        },
        {
         "data": [
          {
           "hoverlabel": {
            "namelength": 0
           },
           "hovertemplate": "kjønn=Menn<br>kvartal=2003K4<br>alder=%{x}<br>value=%{y}",
           "legendgroup": "kjønn=Menn",
           "marker": {
            "color": "#636efa",
            "symbol": "circle"
           },
           "mode": "markers",
           "name": "kjønn=Menn",
           "showlegend": true,
           "type": "scatter",
           "x": [
            "16-19 år",
            "20-24 år",
            "25-29 år",
            "30-34 år",
            "35-39 år",
            "40-44 år",
            "45-49 år",
            "50-54 år",
            "55-59 år",
            "60-64 år",
            "65-66 år",
            "67 år",
            "68 år",
            "69 år"
           ],
           "xaxis": "x",
           "y": [
            35554,
            196466,
            305125,
            430861,
            471327,
            433172,
            414880,
            424640,
            453512,
            270704,
            42668,
            5396,
            1183,
            872
           ],
           "yaxis": "y"
          },
          {
           "hoverlabel": {
            "namelength": 0
           },
           "hovertemplate": "kjønn=Kvinner<br>kvartal=2003K4<br>alder=%{x}<br>value=%{y}",
           "legendgroup": "kjønn=Kvinner",
           "marker": {
            "color": "#EF553B",
            "symbol": "circle"
           },
           "mode": "markers",
           "name": "kjønn=Kvinner",
           "showlegend": true,
           "type": "scatter",
           "x": [
            "16-19 år",
            "20-24 år",
            "25-29 år",
            "30-34 år",
            "35-39 år",
            "40-44 år",
            "45-49 år",
            "50-54 år",
            "55-59 år",
            "60-64 år",
            "65-66 år",
            "67 år",
            "68 år",
            "69 år"
           ],
           "xaxis": "x",
           "y": [
            34017,
            226809,
            443378,
            591350,
            575487,
            525620,
            535730,
            497261,
            479223,
            275985,
            44676,
            4741,
            1805,
            1232
           ],
           "yaxis": "y"
          }
         ],
         "name": "2003K4"
        },
        {
         "data": [
          {
           "hoverlabel": {
            "namelength": 0
           },
           "hovertemplate": "kjønn=Menn<br>kvartal=2004K1<br>alder=%{x}<br>value=%{y}",
           "legendgroup": "kjønn=Menn",
           "marker": {
            "color": "#636efa",
            "symbol": "circle"
           },
           "mode": "markers",
           "name": "kjønn=Menn",
           "showlegend": true,
           "type": "scatter",
           "x": [
            "16-19 år",
            "20-24 år",
            "25-29 år",
            "30-34 år",
            "35-39 år",
            "40-44 år",
            "45-49 år",
            "50-54 år",
            "55-59 år",
            "60-64 år",
            "65-66 år",
            "67 år",
            "68 år",
            "69 år"
           ],
           "xaxis": "x",
           "y": [
            33488,
            178013,
            282244,
            400259,
            449443,
            413052,
            399095,
            411898,
            438938,
            267683,
            43626,
            5483,
            1480,
            975
           ],
           "yaxis": "y"
          },
          {
           "hoverlabel": {
            "namelength": 0
           },
           "hovertemplate": "kjønn=Kvinner<br>kvartal=2004K1<br>alder=%{x}<br>value=%{y}",
           "legendgroup": "kjønn=Kvinner",
           "marker": {
            "color": "#EF553B",
            "symbol": "circle"
           },
           "mode": "markers",
           "name": "kjønn=Kvinner",
           "showlegend": true,
           "type": "scatter",
           "x": [
            "16-19 år",
            "20-24 år",
            "25-29 år",
            "30-34 år",
            "35-39 år",
            "40-44 år",
            "45-49 år",
            "50-54 år",
            "55-59 år",
            "60-64 år",
            "65-66 år",
            "67 år",
            "68 år",
            "69 år"
           ],
           "xaxis": "x",
           "y": [
            30682,
            212886,
            416805,
            567741,
            548444,
            500784,
            518912,
            487148,
            470146,
            282157,
            45086,
            4673,
            1551,
            1553
           ],
           "yaxis": "y"
          }
         ],
         "name": "2004K1"
        },
        {
         "data": [
          {
           "hoverlabel": {
            "namelength": 0
           },
           "hovertemplate": "kjønn=Menn<br>kvartal=2004K2<br>alder=%{x}<br>value=%{y}",
           "legendgroup": "kjønn=Menn",
           "marker": {
            "color": "#636efa",
            "symbol": "circle"
           },
           "mode": "markers",
           "name": "kjønn=Menn",
           "showlegend": true,
           "type": "scatter",
           "x": [
            "16-19 år",
            "20-24 år",
            "25-29 år",
            "30-34 år",
            "35-39 år",
            "40-44 år",
            "45-49 år",
            "50-54 år",
            "55-59 år",
            "60-64 år",
            "65-66 år",
            "67 år",
            "68 år",
            "69 år"
           ],
           "xaxis": "x",
           "y": [
            25878,
            142404,
            222614,
            313386,
            359248,
            335429,
            321840,
            328654,
            357622,
            222725,
            36522,
            4357,
            935,
            965
           ],
           "yaxis": "y"
          },
          {
           "hoverlabel": {
            "namelength": 0
           },
           "hovertemplate": "kjønn=Kvinner<br>kvartal=2004K2<br>alder=%{x}<br>value=%{y}",
           "legendgroup": "kjønn=Kvinner",
           "marker": {
            "color": "#EF553B",
            "symbol": "circle"
           },
           "mode": "markers",
           "name": "kjønn=Kvinner",
           "showlegend": true,
           "type": "scatter",
           "x": [
            "16-19 år",
            "20-24 år",
            "25-29 år",
            "30-34 år",
            "35-39 år",
            "40-44 år",
            "45-49 år",
            "50-54 år",
            "55-59 år",
            "60-64 år",
            "65-66 år",
            "67 år",
            "68 år",
            "69 år"
           ],
           "xaxis": "x",
           "y": [
            24548,
            175028,
            343686,
            463182,
            463569,
            418929,
            429503,
            404825,
            388937,
            242166,
            38485,
            4482,
            1518,
            793
           ],
           "yaxis": "y"
          }
         ],
         "name": "2004K2"
        },
        {
         "data": [
          {
           "hoverlabel": {
            "namelength": 0
           },
           "hovertemplate": "kjønn=Menn<br>kvartal=2004K3<br>alder=%{x}<br>value=%{y}",
           "legendgroup": "kjønn=Menn",
           "marker": {
            "color": "#636efa",
            "symbol": "circle"
           },
           "mode": "markers",
           "name": "kjønn=Menn",
           "showlegend": true,
           "type": "scatter",
           "x": [
            "16-19 år",
            "20-24 år",
            "25-29 år",
            "30-34 år",
            "35-39 år",
            "40-44 år",
            "45-49 år",
            "50-54 år",
            "55-59 år",
            "60-64 år",
            "65-66 år",
            "67 år",
            "68 år",
            "69 år"
           ],
           "xaxis": "x",
           "y": [
            25172,
            136234,
            199467,
            275483,
            315280,
            291223,
            279912,
            282989,
            318439,
            210010,
            34984,
            3668,
            1004,
            611
           ],
           "yaxis": "y"
          },
          {
           "hoverlabel": {
            "namelength": 0
           },
           "hovertemplate": "kjønn=Kvinner<br>kvartal=2004K3<br>alder=%{x}<br>value=%{y}",
           "legendgroup": "kjønn=Kvinner",
           "marker": {
            "color": "#EF553B",
            "symbol": "circle"
           },
           "mode": "markers",
           "name": "kjønn=Kvinner",
           "showlegend": true,
           "type": "scatter",
           "x": [
            "16-19 år",
            "20-24 år",
            "25-29 år",
            "30-34 år",
            "35-39 år",
            "40-44 år",
            "45-49 år",
            "50-54 år",
            "55-59 år",
            "60-64 år",
            "65-66 år",
            "67 år",
            "68 år",
            "69 år"
           ],
           "xaxis": "x",
           "y": [
            21701,
            152981,
            291725,
            382630,
            370174,
            332097,
            340836,
            332520,
            321382,
            219637,
            35647,
            4022,
            1080,
            848
           ],
           "yaxis": "y"
          }
         ],
         "name": "2004K3"
        },
        {
         "data": [
          {
           "hoverlabel": {
            "namelength": 0
           },
           "hovertemplate": "kjønn=Menn<br>kvartal=2004K4<br>alder=%{x}<br>value=%{y}",
           "legendgroup": "kjønn=Menn",
           "marker": {
            "color": "#636efa",
            "symbol": "circle"
           },
           "mode": "markers",
           "name": "kjønn=Menn",
           "showlegend": true,
           "type": "scatter",
           "x": [
            "16-19 år",
            "20-24 år",
            "25-29 år",
            "30-34 år",
            "35-39 år",
            "40-44 år",
            "45-49 år",
            "50-54 år",
            "55-59 år",
            "60-64 år",
            "65-66 år",
            "67 år",
            "68 år",
            "69 år"
           ],
           "xaxis": "x",
           "y": [
            27128,
            143036,
            214988,
            309608,
            352493,
            321455,
            310083,
            309847,
            342134,
            221384,
            36914,
            3818,
            1350,
            756
           ],
           "yaxis": "y"
          },
          {
           "hoverlabel": {
            "namelength": 0
           },
           "hovertemplate": "kjønn=Kvinner<br>kvartal=2004K4<br>alder=%{x}<br>value=%{y}",
           "legendgroup": "kjønn=Kvinner",
           "marker": {
            "color": "#EF553B",
            "symbol": "circle"
           },
           "mode": "markers",
           "name": "kjønn=Kvinner",
           "showlegend": true,
           "type": "scatter",
           "x": [
            "16-19 år",
            "20-24 år",
            "25-29 år",
            "30-34 år",
            "35-39 år",
            "40-44 år",
            "45-49 år",
            "50-54 år",
            "55-59 år",
            "60-64 år",
            "65-66 år",
            "67 år",
            "68 år",
            "69 år"
           ],
           "xaxis": "x",
           "y": [
            23449,
            165303,
            341475,
            450232,
            436415,
            394345,
            399061,
            386773,
            362847,
            240323,
            38551,
            4107,
            939,
            937
           ],
           "yaxis": "y"
          }
         ],
         "name": "2004K4"
        },
        {
         "data": [
          {
           "hoverlabel": {
            "namelength": 0
           },
           "hovertemplate": "kjønn=Menn<br>kvartal=2005K1<br>alder=%{x}<br>value=%{y}",
           "legendgroup": "kjønn=Menn",
           "marker": {
            "color": "#636efa",
            "symbol": "circle"
           },
           "mode": "markers",
           "name": "kjønn=Menn",
           "showlegend": true,
           "type": "scatter",
           "x": [
            "16-19 år",
            "20-24 år",
            "25-29 år",
            "30-34 år",
            "35-39 år",
            "40-44 år",
            "45-49 år",
            "50-54 år",
            "55-59 år",
            "60-64 år",
            "65-66 år",
            "67 år",
            "68 år",
            "69 år"
           ],
           "xaxis": "x",
           "y": [
            26512,
            143354,
            208678,
            297469,
            345110,
            317093,
            308941,
            304657,
            336459,
            219311,
            34904,
            4316,
            1032,
            779
           ],
           "yaxis": "y"
          },
          {
           "hoverlabel": {
            "namelength": 0
           },
           "hovertemplate": "kjønn=Kvinner<br>kvartal=2005K1<br>alder=%{x}<br>value=%{y}",
           "legendgroup": "kjønn=Kvinner",
           "marker": {
            "color": "#EF553B",
            "symbol": "circle"
           },
           "mode": "markers",
           "name": "kjønn=Kvinner",
           "showlegend": true,
           "type": "scatter",
           "x": [
            "16-19 år",
            "20-24 år",
            "25-29 år",
            "30-34 år",
            "35-39 år",
            "40-44 år",
            "45-49 år",
            "50-54 år",
            "55-59 år",
            "60-64 år",
            "65-66 år",
            "67 år",
            "68 år",
            "69 år"
           ],
           "xaxis": "x",
           "y": [
            23322,
            158223,
            330864,
            448409,
            434674,
            382063,
            390727,
            385056,
            358688,
            236425,
            39616,
            4360,
            1582,
            1033
           ],
           "yaxis": "y"
          }
         ],
         "name": "2005K1"
        },
        {
         "data": [
          {
           "hoverlabel": {
            "namelength": 0
           },
           "hovertemplate": "kjønn=Menn<br>kvartal=2005K2<br>alder=%{x}<br>value=%{y}",
           "legendgroup": "kjønn=Menn",
           "marker": {
            "color": "#636efa",
            "symbol": "circle"
           },
           "mode": "markers",
           "name": "kjønn=Menn",
           "showlegend": true,
           "type": "scatter",
           "x": [
            "16-19 år",
            "20-24 år",
            "25-29 år",
            "30-34 år",
            "35-39 år",
            "40-44 år",
            "45-49 år",
            "50-54 år",
            "55-59 år",
            "60-64 år",
            "65-66 år",
            "67 år",
            "68 år",
            "69 år"
           ],
           "xaxis": "x",
           "y": [
            22932,
            130857,
            185166,
            267919,
            314549,
            298191,
            295628,
            295526,
            329013,
            220363,
            37203,
            3992,
            1268,
            554
           ],
           "yaxis": "y"
          },
          {
           "hoverlabel": {
            "namelength": 0
           },
           "hovertemplate": "kjønn=Kvinner<br>kvartal=2005K2<br>alder=%{x}<br>value=%{y}",
           "legendgroup": "kjønn=Kvinner",
           "marker": {
            "color": "#EF553B",
            "symbol": "circle"
           },
           "mode": "markers",
           "name": "kjønn=Kvinner",
           "showlegend": true,
           "type": "scatter",
           "x": [
            "16-19 år",
            "20-24 år",
            "25-29 år",
            "30-34 år",
            "35-39 år",
            "40-44 år",
            "45-49 år",
            "50-54 år",
            "55-59 år",
            "60-64 år",
            "65-66 år",
            "67 år",
            "68 år",
            "69 år"
           ],
           "xaxis": "x",
           "y": [
            20796,
            152750,
            308763,
            423624,
            423566,
            380608,
            384574,
            384523,
            356771,
            237976,
            38583,
            4509,
            1006,
            1005
           ],
           "yaxis": "y"
          }
         ],
         "name": "2005K2"
        },
        {
         "data": [
          {
           "hoverlabel": {
            "namelength": 0
           },
           "hovertemplate": "kjønn=Menn<br>kvartal=2005K3<br>alder=%{x}<br>value=%{y}",
           "legendgroup": "kjønn=Menn",
           "marker": {
            "color": "#636efa",
            "symbol": "circle"
           },
           "mode": "markers",
           "name": "kjønn=Menn",
           "showlegend": true,
           "type": "scatter",
           "x": [
            "16-19 år",
            "20-24 år",
            "25-29 år",
            "30-34 år",
            "35-39 år",
            "40-44 år",
            "45-49 år",
            "50-54 år",
            "55-59 år",
            "60-64 år",
            "65-66 år",
            "67 år",
            "68 år",
            "69 år"
           ],
           "xaxis": "x",
           "y": [
            23440,
            132768,
            188882,
            269695,
            311924,
            297344,
            286871,
            289739,
            324075,
            222055,
            38896,
            3620,
            1281,
            718
           ],
           "yaxis": "y"
          },
          {
           "hoverlabel": {
            "namelength": 0
           },
           "hovertemplate": "kjønn=Kvinner<br>kvartal=2005K3<br>alder=%{x}<br>value=%{y}",
           "legendgroup": "kjønn=Kvinner",
           "marker": {
            "color": "#EF553B",
            "symbol": "circle"
           },
           "mode": "markers",
           "name": "kjønn=Kvinner",
           "showlegend": true,
           "type": "scatter",
           "x": [
            "16-19 år",
            "20-24 år",
            "25-29 år",
            "30-34 år",
            "35-39 år",
            "40-44 år",
            "45-49 år",
            "50-54 år",
            "55-59 år",
            "60-64 år",
            "65-66 år",
            "67 år",
            "68 år",
            "69 år"
           ],
           "xaxis": "x",
           "y": [
            21378,
            152434,
            285794,
            388304,
            376107,
            339985,
            346745,
            349943,
            329476,
            226838,
            35300,
            3762,
            1133,
            700
           ],
           "yaxis": "y"
          }
         ],
         "name": "2005K3"
        },
        {
         "data": [
          {
           "hoverlabel": {
            "namelength": 0
           },
           "hovertemplate": "kjønn=Menn<br>kvartal=2005K4<br>alder=%{x}<br>value=%{y}",
           "legendgroup": "kjønn=Menn",
           "marker": {
            "color": "#636efa",
            "symbol": "circle"
           },
           "mode": "markers",
           "name": "kjønn=Menn",
           "showlegend": true,
           "type": "scatter",
           "x": [
            "16-19 år",
            "20-24 år",
            "25-29 år",
            "30-34 år",
            "35-39 år",
            "40-44 år",
            "45-49 år",
            "50-54 år",
            "55-59 år",
            "60-64 år",
            "65-66 år",
            "67 år",
            "68 år",
            "69 år"
           ],
           "xaxis": "x",
           "y": [
            27994,
            137900,
            206833,
            300379,
            351654,
            334255,
            319381,
            327474,
            348702,
            244228,
            41186,
            4824,
            1470,
            799
           ],
           "yaxis": "y"
          },
          {
           "hoverlabel": {
            "namelength": 0
           },
           "hovertemplate": "kjønn=Kvinner<br>kvartal=2005K4<br>alder=%{x}<br>value=%{y}",
           "legendgroup": "kjønn=Kvinner",
           "marker": {
            "color": "#EF553B",
            "symbol": "circle"
           },
           "mode": "markers",
           "name": "kjønn=Kvinner",
           "showlegend": true,
           "type": "scatter",
           "x": [
            "16-19 år",
            "20-24 år",
            "25-29 år",
            "30-34 år",
            "35-39 år",
            "40-44 år",
            "45-49 år",
            "50-54 år",
            "55-59 år",
            "60-64 år",
            "65-66 år",
            "67 år",
            "68 år",
            "69 år"
           ],
           "xaxis": "x",
           "y": [
            22603,
            163292,
            338205,
            471574,
            472376,
            429741,
            425124,
            423974,
            391137,
            263554,
            39523,
            4174,
            1247,
            783
           ],
           "yaxis": "y"
          }
         ],
         "name": "2005K4"
        },
        {
         "data": [
          {
           "hoverlabel": {
            "namelength": 0
           },
           "hovertemplate": "kjønn=Menn<br>kvartal=2006K1<br>alder=%{x}<br>value=%{y}",
           "legendgroup": "kjønn=Menn",
           "marker": {
            "color": "#636efa",
            "symbol": "circle"
           },
           "mode": "markers",
           "name": "kjønn=Menn",
           "showlegend": true,
           "type": "scatter",
           "x": [
            "16-19 år",
            "20-24 år",
            "25-29 år",
            "30-34 år",
            "35-39 år",
            "40-44 år",
            "45-49 år",
            "50-54 år",
            "55-59 år",
            "60-64 år",
            "65-66 år",
            "67 år",
            "68 år",
            "69 år"
           ],
           "xaxis": "x",
           "y": [
            34722,
            156897,
            233125,
            329798,
            385248,
            368124,
            343478,
            361253,
            381943,
            271242,
            42351,
            5737,
            1728,
            695
           ],
           "yaxis": "y"
          },
          {
           "hoverlabel": {
            "namelength": 0
           },
           "hovertemplate": "kjønn=Kvinner<br>kvartal=2006K1<br>alder=%{x}<br>value=%{y}",
           "legendgroup": "kjønn=Kvinner",
           "marker": {
            "color": "#EF553B",
            "symbol": "circle"
           },
           "mode": "markers",
           "name": "kjønn=Kvinner",
           "showlegend": true,
           "type": "scatter",
           "x": [
            "16-19 år",
            "20-24 år",
            "25-29 år",
            "30-34 år",
            "35-39 år",
            "40-44 år",
            "45-49 år",
            "50-54 år",
            "55-59 år",
            "60-64 år",
            "65-66 år",
            "67 år",
            "68 år",
            "69 år"
           ],
           "xaxis": "x",
           "y": [
            28489,
            181924,
            371071,
            507653,
            514920,
            474208,
            469644,
            467296,
            433214,
            300123,
            42294,
            4531,
            1458,
            874
           ],
           "yaxis": "y"
          }
         ],
         "name": "2006K1"
        },
        {
         "data": [
          {
           "hoverlabel": {
            "namelength": 0
           },
           "hovertemplate": "kjønn=Menn<br>kvartal=2006K2<br>alder=%{x}<br>value=%{y}",
           "legendgroup": "kjønn=Menn",
           "marker": {
            "color": "#636efa",
            "symbol": "circle"
           },
           "mode": "markers",
           "name": "kjønn=Menn",
           "showlegend": true,
           "type": "scatter",
           "x": [
            "16-19 år",
            "20-24 år",
            "25-29 år",
            "30-34 år",
            "35-39 år",
            "40-44 år",
            "45-49 år",
            "50-54 år",
            "55-59 år",
            "60-64 år",
            "65-66 år",
            "67 år",
            "68 år",
            "69 år"
           ],
           "xaxis": "x",
           "y": [
            25774,
            129118,
            184125,
            254916,
            312232,
            303592,
            286667,
            295686,
            321773,
            237429,
            36540,
            5013,
            1272,
            885
           ],
           "yaxis": "y"
          },
          {
           "hoverlabel": {
            "namelength": 0
           },
           "hovertemplate": "kjønn=Kvinner<br>kvartal=2006K2<br>alder=%{x}<br>value=%{y}",
           "legendgroup": "kjønn=Kvinner",
           "marker": {
            "color": "#EF553B",
            "symbol": "circle"
           },
           "mode": "markers",
           "name": "kjønn=Kvinner",
           "showlegend": true,
           "type": "scatter",
           "x": [
            "16-19 år",
            "20-24 år",
            "25-29 år",
            "30-34 år",
            "35-39 år",
            "40-44 år",
            "45-49 år",
            "50-54 år",
            "55-59 år",
            "60-64 år",
            "65-66 år",
            "67 år",
            "68 år",
            "69 år"
           ],
           "xaxis": "x",
           "y": [
            22030,
            156996,
            299507,
            417692,
            430160,
            393759,
            385878,
            393989,
            360983,
            258035,
            37441,
            4020,
            1177,
            826
           ],
           "yaxis": "y"
          }
         ],
         "name": "2006K2"
        },
        {
         "data": [
          {
           "hoverlabel": {
            "namelength": 0
           },
           "hovertemplate": "kjønn=Menn<br>kvartal=2006K3<br>alder=%{x}<br>value=%{y}",
           "legendgroup": "kjønn=Menn",
           "marker": {
            "color": "#636efa",
            "symbol": "circle"
           },
           "mode": "markers",
           "name": "kjønn=Menn",
           "showlegend": true,
           "type": "scatter",
           "x": [
            "16-19 år",
            "20-24 år",
            "25-29 år",
            "30-34 år",
            "35-39 år",
            "40-44 år",
            "45-49 år",
            "50-54 år",
            "55-59 år",
            "60-64 år",
            "65-66 år",
            "67 år",
            "68 år",
            "69 år"
           ],
           "xaxis": "x",
           "y": [
            29005,
            148525,
            202162,
            272314,
            320878,
            317929,
            300382,
            306917,
            330861,
            254174,
            38334,
            4317,
            1051,
            1089
           ],
           "yaxis": "y"
          },
          {
           "hoverlabel": {
            "namelength": 0
           },
           "hovertemplate": "kjønn=Kvinner<br>kvartal=2006K3<br>alder=%{x}<br>value=%{y}",
           "legendgroup": "kjønn=Kvinner",
           "marker": {
            "color": "#EF553B",
            "symbol": "circle"
           },
           "mode": "markers",
           "name": "kjønn=Kvinner",
           "showlegend": true,
           "type": "scatter",
           "x": [
            "16-19 år",
            "20-24 år",
            "25-29 år",
            "30-34 år",
            "35-39 år",
            "40-44 år",
            "45-49 år",
            "50-54 år",
            "55-59 år",
            "60-64 år",
            "65-66 år",
            "67 år",
            "68 år",
            "69 år"
           ],
           "xaxis": "x",
           "y": [
            26074,
            173048,
            303213,
            405596,
            409483,
            373260,
            361218,
            380047,
            340271,
            259426,
            39594,
            3942,
            1396,
            772
           ],
           "yaxis": "y"
          }
         ],
         "name": "2006K3"
        },
        {
         "data": [
          {
           "hoverlabel": {
            "namelength": 0
           },
           "hovertemplate": "kjønn=Menn<br>kvartal=2006K4<br>alder=%{x}<br>value=%{y}",
           "legendgroup": "kjønn=Menn",
           "marker": {
            "color": "#636efa",
            "symbol": "circle"
           },
           "mode": "markers",
           "name": "kjønn=Menn",
           "showlegend": true,
           "type": "scatter",
           "x": [
            "16-19 år",
            "20-24 år",
            "25-29 år",
            "30-34 år",
            "35-39 år",
            "40-44 år",
            "45-49 år",
            "50-54 år",
            "55-59 år",
            "60-64 år",
            "65-66 år",
            "67 år",
            "68 år",
            "69 år"
           ],
           "xaxis": "x",
           "y": [
            31979,
            158195,
            219449,
            294856,
            345612,
            339064,
            319349,
            324515,
            344651,
            268325,
            37425,
            5139,
            1447,
            1048
           ],
           "yaxis": "y"
          },
          {
           "hoverlabel": {
            "namelength": 0
           },
           "hovertemplate": "kjønn=Kvinner<br>kvartal=2006K4<br>alder=%{x}<br>value=%{y}",
           "legendgroup": "kjønn=Kvinner",
           "marker": {
            "color": "#EF553B",
            "symbol": "circle"
           },
           "mode": "markers",
           "name": "kjønn=Kvinner",
           "showlegend": true,
           "type": "scatter",
           "x": [
            "16-19 år",
            "20-24 år",
            "25-29 år",
            "30-34 år",
            "35-39 år",
            "40-44 år",
            "45-49 år",
            "50-54 år",
            "55-59 år",
            "60-64 år",
            "65-66 år",
            "67 år",
            "68 år",
            "69 år"
           ],
           "xaxis": "x",
           "y": [
            28738,
            182982,
            349191,
            464453,
            488868,
            443346,
            422925,
            427524,
            378205,
            284287,
            40798,
            4476,
            1289,
            808
           ],
           "yaxis": "y"
          }
         ],
         "name": "2006K4"
        },
        {
         "data": [
          {
           "hoverlabel": {
            "namelength": 0
           },
           "hovertemplate": "kjønn=Menn<br>kvartal=2007K1<br>alder=%{x}<br>value=%{y}",
           "legendgroup": "kjønn=Menn",
           "marker": {
            "color": "#636efa",
            "symbol": "circle"
           },
           "mode": "markers",
           "name": "kjønn=Menn",
           "showlegend": true,
           "type": "scatter",
           "x": [
            "16-19 år",
            "20-24 år",
            "25-29 år",
            "30-34 år",
            "35-39 år",
            "40-44 år",
            "45-49 år",
            "50-54 år",
            "55-59 år",
            "60-64 år",
            "65-66 år",
            "67 år",
            "68 år",
            "69 år"
           ],
           "xaxis": "x",
           "y": [
            36807,
            175554,
            240934,
            313198,
            370173,
            362178,
            339758,
            346233,
            367189,
            288697,
            40275,
            5600,
            1524,
            1364
           ],
           "yaxis": "y"
          },
          {
           "hoverlabel": {
            "namelength": 0
           },
           "hovertemplate": "kjønn=Kvinner<br>kvartal=2007K1<br>alder=%{x}<br>value=%{y}",
           "legendgroup": "kjønn=Kvinner",
           "marker": {
            "color": "#EF553B",
            "symbol": "circle"
           },
           "mode": "markers",
           "name": "kjønn=Kvinner",
           "showlegend": true,
           "type": "scatter",
           "x": [
            "16-19 år",
            "20-24 år",
            "25-29 år",
            "30-34 år",
            "35-39 år",
            "40-44 år",
            "45-49 år",
            "50-54 år",
            "55-59 år",
            "60-64 år",
            "65-66 år",
            "67 år",
            "68 år",
            "69 år"
           ],
           "xaxis": "x",
           "y": [
            31332,
            200756,
            378572,
            515688,
            522344,
            481207,
            456363,
            465611,
            406377,
            310366,
            44315,
            5242,
            1537,
            1123
           ],
           "yaxis": "y"
          }
         ],
         "name": "2007K1"
        },
        {
         "data": [
          {
           "hoverlabel": {
            "namelength": 0
           },
           "hovertemplate": "kjønn=Menn<br>kvartal=2007K2<br>alder=%{x}<br>value=%{y}",
           "legendgroup": "kjønn=Menn",
           "marker": {
            "color": "#636efa",
            "symbol": "circle"
           },
           "mode": "markers",
           "name": "kjønn=Menn",
           "showlegend": true,
           "type": "scatter",
           "x": [
            "16-19 år",
            "20-24 år",
            "25-29 år",
            "30-34 år",
            "35-39 år",
            "40-44 år",
            "45-49 år",
            "50-54 år",
            "55-59 år",
            "60-64 år",
            "65-66 år",
            "67 år",
            "68 år",
            "69 år"
           ],
           "xaxis": "x",
           "y": [
            28990,
            146138,
            194349,
            248894,
            304125,
            308335,
            283489,
            294995,
            309391,
            258240,
            38213,
            5236,
            1587,
            1110
           ],
           "yaxis": "y"
          },
          {
           "hoverlabel": {
            "namelength": 0
           },
           "hovertemplate": "kjønn=Kvinner<br>kvartal=2007K2<br>alder=%{x}<br>value=%{y}",
           "legendgroup": "kjønn=Kvinner",
           "marker": {
            "color": "#EF553B",
            "symbol": "circle"
           },
           "mode": "markers",
           "name": "kjønn=Kvinner",
           "showlegend": true,
           "type": "scatter",
           "x": [
            "16-19 år",
            "20-24 år",
            "25-29 år",
            "30-34 år",
            "35-39 år",
            "40-44 år",
            "45-49 år",
            "50-54 år",
            "55-59 år",
            "60-64 år",
            "65-66 år",
            "67 år",
            "68 år",
            "69 år"
           ],
           "xaxis": "x",
           "y": [
            25171,
            172682,
            315579,
            421834,
            453165,
            414114,
            392044,
            395342,
            345482,
            267568,
            38950,
            5049,
            1254,
            780
           ],
           "yaxis": "y"
          }
         ],
         "name": "2007K2"
        },
        {
         "data": [
          {
           "hoverlabel": {
            "namelength": 0
           },
           "hovertemplate": "kjønn=Menn<br>kvartal=2007K3<br>alder=%{x}<br>value=%{y}",
           "legendgroup": "kjønn=Menn",
           "marker": {
            "color": "#636efa",
            "symbol": "circle"
           },
           "mode": "markers",
           "name": "kjønn=Menn",
           "showlegend": true,
           "type": "scatter",
           "x": [
            "16-19 år",
            "20-24 år",
            "25-29 år",
            "30-34 år",
            "35-39 år",
            "40-44 år",
            "45-49 år",
            "50-54 år",
            "55-59 år",
            "60-64 år",
            "65-66 år",
            "67 år",
            "68 år",
            "69 år"
           ],
           "xaxis": "x",
           "y": [
            32802,
            159246,
            212641,
            262423,
            320235,
            324297,
            296766,
            303377,
            316208,
            272127,
            38590,
            5162,
            1432,
            1062
           ],
           "yaxis": "y"
          },
          {
           "hoverlabel": {
            "namelength": 0
           },
           "hovertemplate": "kjønn=Kvinner<br>kvartal=2007K3<br>alder=%{x}<br>value=%{y}",
           "legendgroup": "kjønn=Kvinner",
           "marker": {
            "color": "#EF553B",
            "symbol": "circle"
           },
           "mode": "markers",
           "name": "kjønn=Kvinner",
           "showlegend": true,
           "type": "scatter",
           "x": [
            "16-19 år",
            "20-24 år",
            "25-29 år",
            "30-34 år",
            "35-39 år",
            "40-44 år",
            "45-49 år",
            "50-54 år",
            "55-59 år",
            "60-64 år",
            "65-66 år",
            "67 år",
            "68 år",
            "69 år"
           ],
           "xaxis": "x",
           "y": [
            30919,
            185287,
            317271,
            397837,
            417906,
            396843,
            365439,
            383012,
            338195,
            262753,
            39828,
            4838,
            1283,
            1009
           ],
           "yaxis": "y"
          }
         ],
         "name": "2007K3"
        },
        {
         "data": [
          {
           "hoverlabel": {
            "namelength": 0
           },
           "hovertemplate": "kjønn=Menn<br>kvartal=2007K4<br>alder=%{x}<br>value=%{y}",
           "legendgroup": "kjønn=Menn",
           "marker": {
            "color": "#636efa",
            "symbol": "circle"
           },
           "mode": "markers",
           "name": "kjønn=Menn",
           "showlegend": true,
           "type": "scatter",
           "x": [
            "16-19 år",
            "20-24 år",
            "25-29 år",
            "30-34 år",
            "35-39 år",
            "40-44 år",
            "45-49 år",
            "50-54 år",
            "55-59 år",
            "60-64 år",
            "65-66 år",
            "67 år",
            "68 år",
            "69 år"
           ],
           "xaxis": "x",
           "y": [
            39951,
            175719,
            235261,
            286031,
            350446,
            355778,
            323563,
            332500,
            345665,
            291188,
            41658,
            4930,
            1825,
            1040
           ],
           "yaxis": "y"
          },
          {
           "hoverlabel": {
            "namelength": 0
           },
           "hovertemplate": "kjønn=Kvinner<br>kvartal=2007K4<br>alder=%{x}<br>value=%{y}",
           "legendgroup": "kjønn=Kvinner",
           "marker": {
            "color": "#EF553B",
            "symbol": "circle"
           },
           "mode": "markers",
           "name": "kjønn=Kvinner",
           "showlegend": true,
           "type": "scatter",
           "x": [
            "16-19 år",
            "20-24 år",
            "25-29 år",
            "30-34 år",
            "35-39 år",
            "40-44 år",
            "45-49 år",
            "50-54 år",
            "55-59 år",
            "60-64 år",
            "65-66 år",
            "67 år",
            "68 år",
            "69 år"
           ],
           "xaxis": "x",
           "y": [
            35068,
            208304,
            382873,
            481075,
            515317,
            478264,
            440731,
            449596,
            393762,
            297345,
            43876,
            5076,
            1650,
            1013
           ],
           "yaxis": "y"
          }
         ],
         "name": "2007K4"
        },
        {
         "data": [
          {
           "hoverlabel": {
            "namelength": 0
           },
           "hovertemplate": "kjønn=Menn<br>kvartal=2008K1<br>alder=%{x}<br>value=%{y}",
           "legendgroup": "kjønn=Menn",
           "marker": {
            "color": "#636efa",
            "symbol": "circle"
           },
           "mode": "markers",
           "name": "kjønn=Menn",
           "showlegend": true,
           "type": "scatter",
           "x": [
            "16-19 år",
            "20-24 år",
            "25-29 år",
            "30-34 år",
            "35-39 år",
            "40-44 år",
            "45-49 år",
            "50-54 år",
            "55-59 år",
            "60-64 år",
            "65-66 år",
            "67 år",
            "68 år",
            "69 år"
           ],
           "xaxis": "x",
           "y": [
            39399,
            180161,
            242469,
            284707,
            354869,
            367063,
            325884,
            334748,
            348400,
            299923,
            44013,
            4214,
            2103,
            1131
           ],
           "yaxis": "y"
          },
          {
           "hoverlabel": {
            "namelength": 0
           },
           "hovertemplate": "kjønn=Kvinner<br>kvartal=2008K1<br>alder=%{x}<br>value=%{y}",
           "legendgroup": "kjønn=Kvinner",
           "marker": {
            "color": "#EF553B",
            "symbol": "circle"
           },
           "mode": "markers",
           "name": "kjønn=Kvinner",
           "showlegend": true,
           "type": "scatter",
           "x": [
            "16-19 år",
            "20-24 år",
            "25-29 år",
            "30-34 år",
            "35-39 år",
            "40-44 år",
            "45-49 år",
            "50-54 år",
            "55-59 år",
            "60-64 år",
            "65-66 år",
            "67 år",
            "68 år",
            "69 år"
           ],
           "xaxis": "x",
           "y": [
            35094,
            217357,
            393042,
            491415,
            534400,
            475455,
            445597,
            455822,
            405838,
            311090,
            47930,
            4405,
            1711,
            1218
           ],
           "yaxis": "y"
          }
         ],
         "name": "2008K1"
        },
        {
         "data": [
          {
           "hoverlabel": {
            "namelength": 0
           },
           "hovertemplate": "kjønn=Menn<br>kvartal=2008K2<br>alder=%{x}<br>value=%{y}",
           "legendgroup": "kjønn=Menn",
           "marker": {
            "color": "#636efa",
            "symbol": "circle"
           },
           "mode": "markers",
           "name": "kjønn=Menn",
           "showlegend": true,
           "type": "scatter",
           "x": [
            "16-19 år",
            "20-24 år",
            "25-29 år",
            "30-34 år",
            "35-39 år",
            "40-44 år",
            "45-49 år",
            "50-54 år",
            "55-59 år",
            "60-64 år",
            "65-66 år",
            "67 år",
            "68 år",
            "69 år"
           ],
           "xaxis": "x",
           "y": [
            40487,
            183438,
            241069,
            280292,
            355640,
            367497,
            329373,
            339090,
            352482,
            305263,
            46462,
            5313,
            2052,
            1168
           ],
           "yaxis": "y"
          },
          {
           "hoverlabel": {
            "namelength": 0
           },
           "hovertemplate": "kjønn=Kvinner<br>kvartal=2008K2<br>alder=%{x}<br>value=%{y}",
           "legendgroup": "kjønn=Kvinner",
           "marker": {
            "color": "#EF553B",
            "symbol": "circle"
           },
           "mode": "markers",
           "name": "kjønn=Kvinner",
           "showlegend": true,
           "type": "scatter",
           "x": [
            "16-19 år",
            "20-24 år",
            "25-29 år",
            "30-34 år",
            "35-39 år",
            "40-44 år",
            "45-49 år",
            "50-54 år",
            "55-59 år",
            "60-64 år",
            "65-66 år",
            "67 år",
            "68 år",
            "69 år"
           ],
           "xaxis": "x",
           "y": [
            34589,
            226474,
            395707,
            493790,
            545125,
            501554,
            457783,
            463915,
            403484,
            319608,
            51126,
            4520,
            1626,
            1380
           ],
           "yaxis": "y"
          }
         ],
         "name": "2008K2"
        },
        {
         "data": [
          {
           "hoverlabel": {
            "namelength": 0
           },
           "hovertemplate": "kjønn=Menn<br>kvartal=2008K3<br>alder=%{x}<br>value=%{y}",
           "legendgroup": "kjønn=Menn",
           "marker": {
            "color": "#636efa",
            "symbol": "circle"
           },
           "mode": "markers",
           "name": "kjønn=Menn",
           "showlegend": true,
           "type": "scatter",
           "x": [
            "16-19 år",
            "20-24 år",
            "25-29 år",
            "30-34 år",
            "35-39 år",
            "40-44 år",
            "45-49 år",
            "50-54 år",
            "55-59 år",
            "60-64 år",
            "65-66 år",
            "67 år",
            "68 år",
            "69 år"
           ],
           "xaxis": "x",
           "y": [
            39350,
            184386,
            244176,
            281522,
            344401,
            358472,
            322578,
            327080,
            331563,
            287184,
            46229,
            4133,
            1720,
            1315
           ],
           "yaxis": "y"
          },
          {
           "hoverlabel": {
            "namelength": 0
           },
           "hovertemplate": "kjønn=Kvinner<br>kvartal=2008K3<br>alder=%{x}<br>value=%{y}",
           "legendgroup": "kjønn=Kvinner",
           "marker": {
            "color": "#EF553B",
            "symbol": "circle"
           },
           "mode": "markers",
           "name": "kjønn=Kvinner",
           "showlegend": true,
           "type": "scatter",
           "x": [
            "16-19 år",
            "20-24 år",
            "25-29 år",
            "30-34 år",
            "35-39 år",
            "40-44 år",
            "45-49 år",
            "50-54 år",
            "55-59 år",
            "60-64 år",
            "65-66 år",
            "67 år",
            "68 år",
            "69 år"
           ],
           "xaxis": "x",
           "y": [
            36112,
            220410,
            359407,
            432165,
            465387,
            435046,
            392301,
            406421,
            352868,
            292225,
            46908,
            4730,
            1549,
            905
           ],
           "yaxis": "y"
          }
         ],
         "name": "2008K3"
        },
        {
         "data": [
          {
           "hoverlabel": {
            "namelength": 0
           },
           "hovertemplate": "kjønn=Menn<br>kvartal=2008K4<br>alder=%{x}<br>value=%{y}",
           "legendgroup": "kjønn=Menn",
           "marker": {
            "color": "#636efa",
            "symbol": "circle"
           },
           "mode": "markers",
           "name": "kjønn=Menn",
           "showlegend": true,
           "type": "scatter",
           "x": [
            "16-19 år",
            "20-24 år",
            "25-29 år",
            "30-34 år",
            "35-39 år",
            "40-44 år",
            "45-49 år",
            "50-54 år",
            "55-59 år",
            "60-64 år",
            "65-66 år",
            "67 år",
            "68 år",
            "69 år"
           ],
           "xaxis": "x",
           "y": [
            42001,
            198247,
            265652,
            309201,
            381336,
            395987,
            355023,
            358870,
            359883,
            311373,
            52641,
            4299,
            2217,
            1589
           ],
           "yaxis": "y"
          },
          {
           "hoverlabel": {
            "namelength": 0
           },
           "hovertemplate": "kjønn=Kvinner<br>kvartal=2008K4<br>alder=%{x}<br>value=%{y}",
           "legendgroup": "kjønn=Kvinner",
           "marker": {
            "color": "#EF553B",
            "symbol": "circle"
           },
           "mode": "markers",
           "name": "kjønn=Kvinner",
           "showlegend": true,
           "type": "scatter",
           "x": [
            "16-19 år",
            "20-24 år",
            "25-29 år",
            "30-34 år",
            "35-39 år",
            "40-44 år",
            "45-49 år",
            "50-54 år",
            "55-59 år",
            "60-64 år",
            "65-66 år",
            "67 år",
            "68 år",
            "69 år"
           ],
           "xaxis": "x",
           "y": [
            37905,
            237116,
            419319,
            508627,
            554263,
            516153,
            457464,
            453674,
            396289,
            314245,
            52664,
            5302,
            1822,
            860
           ],
           "yaxis": "y"
          }
         ],
         "name": "2008K4"
        },
        {
         "data": [
          {
           "hoverlabel": {
            "namelength": 0
           },
           "hovertemplate": "kjønn=Menn<br>kvartal=2009K1<br>alder=%{x}<br>value=%{y}",
           "legendgroup": "kjønn=Menn",
           "marker": {
            "color": "#636efa",
            "symbol": "circle"
           },
           "mode": "markers",
           "name": "kjønn=Menn",
           "showlegend": true,
           "type": "scatter",
           "x": [
            "16-19 år",
            "20-24 år",
            "25-29 år",
            "30-34 år",
            "35-39 år",
            "40-44 år",
            "45-49 år",
            "50-54 år",
            "55-59 år",
            "60-64 år",
            "65-66 år",
            "67 år",
            "68 år",
            "69 år"
           ],
           "xaxis": "x",
           "y": [
            41862,
            202280,
            275191,
            323171,
            402708,
            423303,
            380763,
            380708,
            379368,
            332452,
            60400,
            6465,
            2270,
            1797
           ],
           "yaxis": "y"
          },
          {
           "hoverlabel": {
            "namelength": 0
           },
           "hovertemplate": "kjønn=Kvinner<br>kvartal=2009K1<br>alder=%{x}<br>value=%{y}",
           "legendgroup": "kjønn=Kvinner",
           "marker": {
            "color": "#EF553B",
            "symbol": "circle"
           },
           "mode": "markers",
           "name": "kjønn=Kvinner",
           "showlegend": true,
           "type": "scatter",
           "x": [
            "16-19 år",
            "20-24 år",
            "25-29 år",
            "30-34 år",
            "35-39 år",
            "40-44 år",
            "45-49 år",
            "50-54 år",
            "55-59 år",
            "60-64 år",
            "65-66 år",
            "67 år",
            "68 år",
            "69 år"
           ],
           "xaxis": "x",
           "y": [
            40111,
            244353,
            441559,
            535569,
            567823,
            534891,
            472840,
            469694,
            416098,
            331289,
            56040,
            6589,
            1882,
            1539
           ],
           "yaxis": "y"
          }
         ],
         "name": "2009K1"
        },
        {
         "data": [
          {
           "hoverlabel": {
            "namelength": 0
           },
           "hovertemplate": "kjønn=Menn<br>kvartal=2009K2<br>alder=%{x}<br>value=%{y}",
           "legendgroup": "kjønn=Menn",
           "marker": {
            "color": "#636efa",
            "symbol": "circle"
           },
           "mode": "markers",
           "name": "kjønn=Menn",
           "showlegend": true,
           "type": "scatter",
           "x": [
            "16-19 år",
            "20-24 år",
            "25-29 år",
            "30-34 år",
            "35-39 år",
            "40-44 år",
            "45-49 år",
            "50-54 år",
            "55-59 år",
            "60-64 år",
            "65-66 år",
            "67 år",
            "68 år",
            "69 år"
           ],
           "xaxis": "x",
           "y": [
            33758,
            170072,
            236516,
            279259,
            353982,
            390459,
            346451,
            341583,
            346007,
            310081,
            58545,
            6647,
            1774,
            1382
           ],
           "yaxis": "y"
          },
          {
           "hoverlabel": {
            "namelength": 0
           },
           "hovertemplate": "kjønn=Kvinner<br>kvartal=2009K2<br>alder=%{x}<br>value=%{y}",
           "legendgroup": "kjønn=Kvinner",
           "marker": {
            "color": "#EF553B",
            "symbol": "circle"
           },
           "mode": "markers",
           "name": "kjønn=Kvinner",
           "showlegend": true,
           "type": "scatter",
           "x": [
            "16-19 år",
            "20-24 år",
            "25-29 år",
            "30-34 år",
            "35-39 år",
            "40-44 år",
            "45-49 år",
            "50-54 år",
            "55-59 år",
            "60-64 år",
            "65-66 år",
            "67 år",
            "68 år",
            "69 år"
           ],
           "xaxis": "x",
           "y": [
            32243,
            217754,
            387567,
            482406,
            516990,
            493578,
            439209,
            431189,
            377410,
            297737,
            53533,
            5620,
            2129,
            1226
           ],
           "yaxis": "y"
          }
         ],
         "name": "2009K2"
        },
        {
         "data": [
          {
           "hoverlabel": {
            "namelength": 0
           },
           "hovertemplate": "kjønn=Menn<br>kvartal=2009K3<br>alder=%{x}<br>value=%{y}",
           "legendgroup": "kjønn=Menn",
           "marker": {
            "color": "#636efa",
            "symbol": "circle"
           },
           "mode": "markers",
           "name": "kjønn=Menn",
           "showlegend": true,
           "type": "scatter",
           "x": [
            "16-19 år",
            "20-24 år",
            "25-29 år",
            "30-34 år",
            "35-39 år",
            "40-44 år",
            "45-49 år",
            "50-54 år",
            "55-59 år",
            "60-64 år",
            "65-66 år",
            "67 år",
            "68 år",
            "69 år"
           ],
           "xaxis": "x",
           "y": [
            36440,
            186071,
            264199,
            305413,
            378180,
            414536,
            373458,
            363855,
            366427,
            319435,
            65684,
            7360,
            2415,
            1559
           ],
           "yaxis": "y"
          },
          {
           "hoverlabel": {
            "namelength": 0
           },
           "hovertemplate": "kjønn=Kvinner<br>kvartal=2009K3<br>alder=%{x}<br>value=%{y}",
           "legendgroup": "kjønn=Kvinner",
           "marker": {
            "color": "#EF553B",
            "symbol": "circle"
           },
           "mode": "markers",
           "name": "kjønn=Kvinner",
           "showlegend": true,
           "type": "scatter",
           "x": [
            "16-19 år",
            "20-24 år",
            "25-29 år",
            "30-34 år",
            "35-39 år",
            "40-44 år",
            "45-49 år",
            "50-54 år",
            "55-59 år",
            "60-64 år",
            "65-66 år",
            "67 år",
            "68 år",
            "69 år"
           ],
           "xaxis": "x",
           "y": [
            37102,
            241387,
            401174,
            473785,
            503561,
            488475,
            433199,
            423320,
            377196,
            295717,
            57388,
            6650,
            1956,
            1347
           ],
           "yaxis": "y"
          }
         ],
         "name": "2009K3"
        },
        {
         "data": [
          {
           "hoverlabel": {
            "namelength": 0
           },
           "hovertemplate": "kjønn=Menn<br>kvartal=2009K4<br>alder=%{x}<br>value=%{y}",
           "legendgroup": "kjønn=Menn",
           "marker": {
            "color": "#636efa",
            "symbol": "circle"
           },
           "mode": "markers",
           "name": "kjønn=Menn",
           "showlegend": true,
           "type": "scatter",
           "x": [
            "16-19 år",
            "20-24 år",
            "25-29 år",
            "30-34 år",
            "35-39 år",
            "40-44 år",
            "45-49 år",
            "50-54 år",
            "55-59 år",
            "60-64 år",
            "65-66 år",
            "67 år",
            "68 år",
            "69 år"
           ],
           "xaxis": "x",
           "y": [
            36760,
            182675,
            269228,
            318958,
            403802,
            436225,
            390522,
            382721,
            375217,
            330271,
            69020,
            7929,
            2258,
            1579
           ],
           "yaxis": "y"
          },
          {
           "hoverlabel": {
            "namelength": 0
           },
           "hovertemplate": "kjønn=Kvinner<br>kvartal=2009K4<br>alder=%{x}<br>value=%{y}",
           "legendgroup": "kjønn=Kvinner",
           "marker": {
            "color": "#EF553B",
            "symbol": "circle"
           },
           "mode": "markers",
           "name": "kjønn=Kvinner",
           "showlegend": true,
           "type": "scatter",
           "x": [
            "16-19 år",
            "20-24 år",
            "25-29 år",
            "30-34 år",
            "35-39 år",
            "40-44 år",
            "45-49 år",
            "50-54 år",
            "55-59 år",
            "60-64 år",
            "65-66 år",
            "67 år",
            "68 år",
            "69 år"
           ],
           "xaxis": "x",
           "y": [
            36806,
            236767,
            436238,
            532557,
            576601,
            565258,
            499519,
            478792,
            416550,
            322295,
            59312,
            6739,
            2465,
            1373
           ],
           "yaxis": "y"
          }
         ],
         "name": "2009K4"
        },
        {
         "data": [
          {
           "hoverlabel": {
            "namelength": 0
           },
           "hovertemplate": "kjønn=Menn<br>kvartal=2010K1<br>alder=%{x}<br>value=%{y}",
           "legendgroup": "kjønn=Menn",
           "marker": {
            "color": "#636efa",
            "symbol": "circle"
           },
           "mode": "markers",
           "name": "kjønn=Menn",
           "showlegend": true,
           "type": "scatter",
           "x": [
            "16-19 år",
            "20-24 år",
            "25-29 år",
            "30-34 år",
            "35-39 år",
            "40-44 år",
            "45-49 år",
            "50-54 år",
            "55-59 år",
            "60-64 år",
            "65-66 år",
            "67 år",
            "68 år",
            "69 år"
           ],
           "xaxis": "x",
           "y": [
            29632,
            159292,
            237364,
            283403,
            351682,
            388962,
            349897,
            347327,
            342684,
            303265,
            62775,
            7371,
            2839,
            1535
           ],
           "yaxis": "y"
          },
          {
           "hoverlabel": {
            "namelength": 0
           },
           "hovertemplate": "kjønn=Kvinner<br>kvartal=2010K1<br>alder=%{x}<br>value=%{y}",
           "legendgroup": "kjønn=Kvinner",
           "marker": {
            "color": "#EF553B",
            "symbol": "circle"
           },
           "mode": "markers",
           "name": "kjønn=Kvinner",
           "showlegend": true,
           "type": "scatter",
           "x": [
            "16-19 år",
            "20-24 år",
            "25-29 år",
            "30-34 år",
            "35-39 år",
            "40-44 år",
            "45-49 år",
            "50-54 år",
            "55-59 år",
            "60-64 år",
            "65-66 år",
            "67 år",
            "68 år",
            "69 år"
           ],
           "xaxis": "x",
           "y": [
            29959,
            204656,
            389453,
            481191,
            517768,
            499954,
            444071,
            425900,
            375748,
            297087,
            57575,
            5550,
            2547,
            1600
           ],
           "yaxis": "y"
          }
         ],
         "name": "2010K1"
        },
        {
         "data": [
          {
           "hoverlabel": {
            "namelength": 0
           },
           "hovertemplate": "kjønn=Menn<br>kvartal=2010K2<br>alder=%{x}<br>value=%{y}",
           "legendgroup": "kjønn=Menn",
           "marker": {
            "color": "#636efa",
            "symbol": "circle"
           },
           "mode": "markers",
           "name": "kjønn=Menn",
           "showlegend": true,
           "type": "scatter",
           "x": [
            "16-19 år",
            "20-24 år",
            "25-29 år",
            "30-34 år",
            "35-39 år",
            "40-44 år",
            "45-49 år",
            "50-54 år",
            "55-59 år",
            "60-64 år",
            "65-66 år",
            "67 år",
            "68 år",
            "69 år"
           ],
           "xaxis": "x",
           "y": [
            25387,
            137564,
            201856,
            239000,
            302873,
            336581,
            314471,
            302497,
            307110,
            272283,
            55020,
            6942,
            2367,
            1614
           ],
           "yaxis": "y"
          },
          {
           "hoverlabel": {
            "namelength": 0
           },
           "hovertemplate": "kjønn=Kvinner<br>kvartal=2010K2<br>alder=%{x}<br>value=%{y}",
           "legendgroup": "kjønn=Kvinner",
           "marker": {
            "color": "#EF553B",
            "symbol": "circle"
           },
           "mode": "markers",
           "name": "kjønn=Kvinner",
           "showlegend": true,
           "type": "scatter",
           "x": [
            "16-19 år",
            "20-24 år",
            "25-29 år",
            "30-34 år",
            "35-39 år",
            "40-44 år",
            "45-49 år",
            "50-54 år",
            "55-59 år",
            "60-64 år",
            "65-66 år",
            "67 år",
            "68 år",
            "69 år"
           ],
           "xaxis": "x",
           "y": [
            25000,
            181714,
            341124,
            420628,
            465887,
            458072,
            407488,
            385938,
            345707,
            272464,
            52898,
            6470,
            2522,
            1052
           ],
           "yaxis": "y"
          }
         ],
         "name": "2010K2"
        },
        {
         "data": [
          {
           "hoverlabel": {
            "namelength": 0
           },
           "hovertemplate": "kjønn=Menn<br>kvartal=2010K3<br>alder=%{x}<br>value=%{y}",
           "legendgroup": "kjønn=Menn",
           "marker": {
            "color": "#636efa",
            "symbol": "circle"
           },
           "mode": "markers",
           "name": "kjønn=Menn",
           "showlegend": true,
           "type": "scatter",
           "x": [
            "16-19 år",
            "20-24 år",
            "25-29 år",
            "30-34 år",
            "35-39 år",
            "40-44 år",
            "45-49 år",
            "50-54 år",
            "55-59 år",
            "60-64 år",
            "65-66 år",
            "67 år",
            "68 år",
            "69 år"
           ],
           "xaxis": "x",
           "y": [
            26461,
            144345,
            218217,
            255871,
            319622,
            358857,
            336581,
            318124,
            323584,
            281342,
            59419,
            6790,
            2303,
            1558
           ],
           "yaxis": "y"
          },
          {
           "hoverlabel": {
            "namelength": 0
           },
           "hovertemplate": "kjønn=Kvinner<br>kvartal=2010K3<br>alder=%{x}<br>value=%{y}",
           "legendgroup": "kjønn=Kvinner",
           "marker": {
            "color": "#EF553B",
            "symbol": "circle"
           },
           "mode": "markers",
           "name": "kjønn=Kvinner",
           "showlegend": true,
           "type": "scatter",
           "x": [
            "16-19 år",
            "20-24 år",
            "25-29 år",
            "30-34 år",
            "35-39 år",
            "40-44 år",
            "45-49 år",
            "50-54 år",
            "55-59 år",
            "60-64 år",
            "65-66 år",
            "67 år",
            "68 år",
            "69 år"
           ],
           "xaxis": "x",
           "y": [
            27331,
            187780,
            345762,
            409887,
            441496,
            437342,
            396985,
            382141,
            346287,
            275673,
            56039,
            5719,
            2367,
            1194
           ],
           "yaxis": "y"
          }
         ],
         "name": "2010K3"
        },
        {
         "data": [
          {
           "hoverlabel": {
            "namelength": 0
           },
           "hovertemplate": "kjønn=Menn<br>kvartal=2010K4<br>alder=%{x}<br>value=%{y}",
           "legendgroup": "kjønn=Menn",
           "marker": {
            "color": "#636efa",
            "symbol": "circle"
           },
           "mode": "markers",
           "name": "kjønn=Menn",
           "showlegend": true,
           "type": "scatter",
           "x": [
            "16-19 år",
            "20-24 år",
            "25-29 år",
            "30-34 år",
            "35-39 år",
            "40-44 år",
            "45-49 år",
            "50-54 år",
            "55-59 år",
            "60-64 år",
            "65-66 år",
            "67 år",
            "68 år",
            "69 år"
           ],
           "xaxis": "x",
           "y": [
            30287,
            167572,
            245927,
            299237,
            366547,
            410014,
            387446,
            362412,
            367498,
            314618,
            63683,
            9127,
            3145,
            1935
           ],
           "yaxis": "y"
          },
          {
           "hoverlabel": {
            "namelength": 0
           },
           "hovertemplate": "kjønn=Kvinner<br>kvartal=2010K4<br>alder=%{x}<br>value=%{y}",
           "legendgroup": "kjønn=Kvinner",
           "marker": {
            "color": "#EF553B",
            "symbol": "circle"
           },
           "mode": "markers",
           "name": "kjønn=Kvinner",
           "showlegend": true,
           "type": "scatter",
           "x": [
            "16-19 år",
            "20-24 år",
            "25-29 år",
            "30-34 år",
            "35-39 år",
            "40-44 år",
            "45-49 år",
            "50-54 år",
            "55-59 år",
            "60-64 år",
            "65-66 år",
            "67 år",
            "68 år",
            "69 år"
           ],
           "xaxis": "x",
           "y": [
            29951,
            210150,
            418825,
            509372,
            559130,
            559875,
            500539,
            470935,
            423270,
            322394,
            63738,
            7933,
            2709,
            1561
           ],
           "yaxis": "y"
          }
         ],
         "name": "2010K4"
        },
        {
         "data": [
          {
           "hoverlabel": {
            "namelength": 0
           },
           "hovertemplate": "kjønn=Menn<br>kvartal=2011K1<br>alder=%{x}<br>value=%{y}",
           "legendgroup": "kjønn=Menn",
           "marker": {
            "color": "#636efa",
            "symbol": "circle"
           },
           "mode": "markers",
           "name": "kjønn=Menn",
           "showlegend": true,
           "type": "scatter",
           "x": [
            "16-19 år",
            "20-24 år",
            "25-29 år",
            "30-34 år",
            "35-39 år",
            "40-44 år",
            "45-49 år",
            "50-54 år",
            "55-59 år",
            "60-64 år",
            "65-66 år",
            "67 år",
            "68 år",
            "69 år"
           ],
           "xaxis": "x",
           "y": [
            32401,
            166730,
            250019,
            300509,
            371840,
            414032,
            393170,
            369605,
            373074,
            310366,
            61237,
            8228,
            3851,
            1920
           ],
           "yaxis": "y"
          },
          {
           "hoverlabel": {
            "namelength": 0
           },
           "hovertemplate": "kjønn=Kvinner<br>kvartal=2011K1<br>alder=%{x}<br>value=%{y}",
           "legendgroup": "kjønn=Kvinner",
           "marker": {
            "color": "#EF553B",
            "symbol": "circle"
           },
           "mode": "markers",
           "name": "kjønn=Kvinner",
           "showlegend": true,
           "type": "scatter",
           "x": [
            "16-19 år",
            "20-24 år",
            "25-29 år",
            "30-34 år",
            "35-39 år",
            "40-44 år",
            "45-49 år",
            "50-54 år",
            "55-59 år",
            "60-64 år",
            "65-66 år",
            "67 år",
            "68 år",
            "69 år"
           ],
           "xaxis": "x",
           "y": [
            29648,
            214281,
            421616,
            521710,
            556521,
            569128,
            515265,
            483980,
            449242,
            334996,
            65909,
            9566,
            3009,
            2236
           ],
           "yaxis": "y"
          }
         ],
         "name": "2011K1"
        },
        {
         "data": [
          {
           "hoverlabel": {
            "namelength": 0
           },
           "hovertemplate": "kjønn=Menn<br>kvartal=2011K2<br>alder=%{x}<br>value=%{y}",
           "legendgroup": "kjønn=Menn",
           "marker": {
            "color": "#636efa",
            "symbol": "circle"
           },
           "mode": "markers",
           "name": "kjønn=Menn",
           "showlegend": true,
           "type": "scatter",
           "x": [
            "16-19 år",
            "20-24 år",
            "25-29 år",
            "30-34 år",
            "35-39 år",
            "40-44 år",
            "45-49 år",
            "50-54 år",
            "55-59 år",
            "60-64 år",
            "65-66 år",
            "67 år",
            "68 år",
            "69 år"
           ],
           "xaxis": "x",
           "y": [
            22612,
            130209,
            190873,
            236296,
            297579,
            337043,
            323231,
            308995,
            319316,
            271889,
            54597,
            9091,
            3540,
            1795
           ],
           "yaxis": "y"
          },
          {
           "hoverlabel": {
            "namelength": 0
           },
           "hovertemplate": "kjønn=Kvinner<br>kvartal=2011K2<br>alder=%{x}<br>value=%{y}",
           "legendgroup": "kjønn=Kvinner",
           "marker": {
            "color": "#EF553B",
            "symbol": "circle"
           },
           "mode": "markers",
           "name": "kjønn=Kvinner",
           "showlegend": true,
           "type": "scatter",
           "x": [
            "16-19 år",
            "20-24 år",
            "25-29 år",
            "30-34 år",
            "35-39 år",
            "40-44 år",
            "45-49 år",
            "50-54 år",
            "55-59 år",
            "60-64 år",
            "65-66 år",
            "67 år",
            "68 år",
            "69 år"
           ],
           "xaxis": "x",
           "y": [
            22895,
            172098,
            339571,
            430404,
            467241,
            488099,
            441234,
            407350,
            382056,
            290188,
            56327,
            8172,
            2482,
            1741
           ],
           "yaxis": "y"
          }
         ],
         "name": "2011K2"
        },
        {
         "data": [
          {
           "hoverlabel": {
            "namelength": 0
           },
           "hovertemplate": "kjønn=Menn<br>kvartal=2011K3<br>alder=%{x}<br>value=%{y}",
           "legendgroup": "kjønn=Menn",
           "marker": {
            "color": "#636efa",
            "symbol": "circle"
           },
           "mode": "markers",
           "name": "kjønn=Menn",
           "showlegend": true,
           "type": "scatter",
           "x": [
            "16-19 år",
            "20-24 år",
            "25-29 år",
            "30-34 år",
            "35-39 år",
            "40-44 år",
            "45-49 år",
            "50-54 år",
            "55-59 år",
            "60-64 år",
            "65-66 år",
            "67 år",
            "68 år",
            "69 år"
           ],
           "xaxis": "x",
           "y": [
            24692,
            134116,
            195629,
            231859,
            287122,
            328523,
            318029,
            308696,
            317041,
            268727,
            53560,
            9750,
            3279,
            1866
           ],
           "yaxis": "y"
          },
          {
           "hoverlabel": {
            "namelength": 0
           },
           "hovertemplate": "kjønn=Kvinner<br>kvartal=2011K3<br>alder=%{x}<br>value=%{y}",
           "legendgroup": "kjønn=Kvinner",
           "marker": {
            "color": "#EF553B",
            "symbol": "circle"
           },
           "mode": "markers",
           "name": "kjønn=Kvinner",
           "showlegend": true,
           "type": "scatter",
           "x": [
            "16-19 år",
            "20-24 år",
            "25-29 år",
            "30-34 år",
            "35-39 år",
            "40-44 år",
            "45-49 år",
            "50-54 år",
            "55-59 år",
            "60-64 år",
            "65-66 år",
            "67 år",
            "68 år",
            "69 år"
           ],
           "xaxis": "x",
           "y": [
            23320,
            169625,
            316744,
            386473,
            412155,
            430453,
            390006,
            370004,
            350129,
            269607,
            56739,
            6589,
            2278,
            1487
           ],
           "yaxis": "y"
          }
         ],
         "name": "2011K3"
        },
        {
         "data": [
          {
           "hoverlabel": {
            "namelength": 0
           },
           "hovertemplate": "kjønn=Menn<br>kvartal=2011K4<br>alder=%{x}<br>value=%{y}",
           "legendgroup": "kjønn=Menn",
           "marker": {
            "color": "#636efa",
            "symbol": "circle"
           },
           "mode": "markers",
           "name": "kjønn=Menn",
           "showlegend": true,
           "type": "scatter",
           "x": [
            "16-19 år",
            "20-24 år",
            "25-29 år",
            "30-34 år",
            "35-39 år",
            "40-44 år",
            "45-49 år",
            "50-54 år",
            "55-59 år",
            "60-64 år",
            "65-66 år",
            "67 år",
            "68 år",
            "69 år"
           ],
           "xaxis": "x",
           "y": [
            27792,
            148212,
            216367,
            258283,
            314564,
            361651,
            344296,
            340487,
            337148,
            287130,
            59428,
            9326,
            3712,
            2582
           ],
           "yaxis": "y"
          },
          {
           "hoverlabel": {
            "namelength": 0
           },
           "hovertemplate": "kjønn=Kvinner<br>kvartal=2011K4<br>alder=%{x}<br>value=%{y}",
           "legendgroup": "kjønn=Kvinner",
           "marker": {
            "color": "#EF553B",
            "symbol": "circle"
           },
           "mode": "markers",
           "name": "kjønn=Kvinner",
           "showlegend": true,
           "type": "scatter",
           "x": [
            "16-19 år",
            "20-24 år",
            "25-29 år",
            "30-34 år",
            "35-39 år",
            "40-44 år",
            "45-49 år",
            "50-54 år",
            "55-59 år",
            "60-64 år",
            "65-66 år",
            "67 år",
            "68 år",
            "69 år"
           ],
           "xaxis": "x",
           "y": [
            26610,
            184580,
            372099,
            469093,
            503054,
            522593,
            462355,
            433980,
            405638,
            306117,
            62987,
            7193,
            3344,
            1611
           ],
           "yaxis": "y"
          }
         ],
         "name": "2011K4"
        },
        {
         "data": [
          {
           "hoverlabel": {
            "namelength": 0
           },
           "hovertemplate": "kjønn=Menn<br>kvartal=2012K1<br>alder=%{x}<br>value=%{y}",
           "legendgroup": "kjønn=Menn",
           "marker": {
            "color": "#636efa",
            "symbol": "circle"
           },
           "mode": "markers",
           "name": "kjønn=Menn",
           "showlegend": true,
           "type": "scatter",
           "x": [
            "16-19 år",
            "20-24 år",
            "25-29 år",
            "30-34 år",
            "35-39 år",
            "40-44 år",
            "45-49 år",
            "50-54 år",
            "55-59 år",
            "60-64 år",
            "65-66 år",
            "67 år",
            "68 år",
            "69 år"
           ],
           "xaxis": "x",
           "y": [
            28848,
            160988,
            231501,
            278914,
            329470,
            382553,
            366451,
            351560,
            359390,
            299354,
            61210,
            9928,
            4472,
            3405
           ],
           "yaxis": "y"
          },
          {
           "hoverlabel": {
            "namelength": 0
           },
           "hovertemplate": "kjønn=Kvinner<br>kvartal=2012K1<br>alder=%{x}<br>value=%{y}",
           "legendgroup": "kjønn=Kvinner",
           "marker": {
            "color": "#EF553B",
            "symbol": "circle"
           },
           "mode": "markers",
           "name": "kjønn=Kvinner",
           "showlegend": true,
           "type": "scatter",
           "x": [
            "16-19 år",
            "20-24 år",
            "25-29 år",
            "30-34 år",
            "35-39 år",
            "40-44 år",
            "45-49 år",
            "50-54 år",
            "55-59 år",
            "60-64 år",
            "65-66 år",
            "67 år",
            "68 år",
            "69 år"
           ],
           "xaxis": "x",
           "y": [
            28426,
            198426,
            398673,
            510650,
            527102,
            554345,
            492895,
            467481,
            436618,
            334131,
            67882,
            9682,
            3646,
            2334
           ],
           "yaxis": "y"
          }
         ],
         "name": "2012K1"
        },
        {
         "data": [
          {
           "hoverlabel": {
            "namelength": 0
           },
           "hovertemplate": "kjønn=Menn<br>kvartal=2012K2<br>alder=%{x}<br>value=%{y}",
           "legendgroup": "kjønn=Menn",
           "marker": {
            "color": "#636efa",
            "symbol": "circle"
           },
           "mode": "markers",
           "name": "kjønn=Menn",
           "showlegend": true,
           "type": "scatter",
           "x": [
            "16-19 år",
            "20-24 år",
            "25-29 år",
            "30-34 år",
            "35-39 år",
            "40-44 år",
            "45-49 år",
            "50-54 år",
            "55-59 år",
            "60-64 år",
            "65-66 år",
            "67 år",
            "68 år",
            "69 år"
           ],
           "xaxis": "x",
           "y": [
            22826,
            124211,
            181948,
            214377,
            256461,
            313042,
            307803,
            292723,
            298828,
            250470,
            55406,
            8486,
            4250,
            2749
           ],
           "yaxis": "y"
          },
          {
           "hoverlabel": {
            "namelength": 0
           },
           "hovertemplate": "kjønn=Kvinner<br>kvartal=2012K2<br>alder=%{x}<br>value=%{y}",
           "legendgroup": "kjønn=Kvinner",
           "marker": {
            "color": "#EF553B",
            "symbol": "circle"
           },
           "mode": "markers",
           "name": "kjønn=Kvinner",
           "showlegend": true,
           "type": "scatter",
           "x": [
            "16-19 år",
            "20-24 år",
            "25-29 år",
            "30-34 år",
            "35-39 år",
            "40-44 år",
            "45-49 år",
            "50-54 år",
            "55-59 år",
            "60-64 år",
            "65-66 år",
            "67 år",
            "68 år",
            "69 år"
           ],
           "xaxis": "x",
           "y": [
            20463,
            160994,
            327580,
            410891,
            435273,
            459839,
            417169,
            390747,
            358707,
            282764,
            60767,
            8116,
            2635,
            1867
           ],
           "yaxis": "y"
          }
         ],
         "name": "2012K2"
        },
        {
         "data": [
          {
           "hoverlabel": {
            "namelength": 0
           },
           "hovertemplate": "kjønn=Menn<br>kvartal=2012K3<br>alder=%{x}<br>value=%{y}",
           "legendgroup": "kjønn=Menn",
           "marker": {
            "color": "#636efa",
            "symbol": "circle"
           },
           "mode": "markers",
           "name": "kjønn=Menn",
           "showlegend": true,
           "type": "scatter",
           "x": [
            "16-19 år",
            "20-24 år",
            "25-29 år",
            "30-34 år",
            "35-39 år",
            "40-44 år",
            "45-49 år",
            "50-54 år",
            "55-59 år",
            "60-64 år",
            "65-66 år",
            "67 år",
            "68 år",
            "69 år"
           ],
           "xaxis": "x",
           "y": [
            22780,
            135088,
            196806,
            226352,
            271414,
            319084,
            325247,
            305983,
            312703,
            261110,
            61671,
            8019,
            4906,
            2126
           ],
           "yaxis": "y"
          },
          {
           "hoverlabel": {
            "namelength": 0
           },
           "hovertemplate": "kjønn=Kvinner<br>kvartal=2012K3<br>alder=%{x}<br>value=%{y}",
           "legendgroup": "kjønn=Kvinner",
           "marker": {
            "color": "#EF553B",
            "symbol": "circle"
           },
           "mode": "markers",
           "name": "kjønn=Kvinner",
           "showlegend": true,
           "type": "scatter",
           "x": [
            "16-19 år",
            "20-24 år",
            "25-29 år",
            "30-34 år",
            "35-39 år",
            "40-44 år",
            "45-49 år",
            "50-54 år",
            "55-59 år",
            "60-64 år",
            "65-66 år",
            "67 år",
            "68 år",
            "69 år"
           ],
           "xaxis": "x",
           "y": [
            21272,
            166079,
            318454,
            385515,
            394663,
            430160,
            398022,
            379219,
            352884,
            280877,
            62424,
            6522,
            3102,
            1604
           ],
           "yaxis": "y"
          }
         ],
         "name": "2012K3"
        },
        {
         "data": [
          {
           "hoverlabel": {
            "namelength": 0
           },
           "hovertemplate": "kjønn=Menn<br>kvartal=2012K4<br>alder=%{x}<br>value=%{y}",
           "legendgroup": "kjønn=Menn",
           "marker": {
            "color": "#636efa",
            "symbol": "circle"
           },
           "mode": "markers",
           "name": "kjønn=Menn",
           "showlegend": true,
           "type": "scatter",
           "x": [
            "16-19 år",
            "20-24 år",
            "25-29 år",
            "30-34 år",
            "35-39 år",
            "40-44 år",
            "45-49 år",
            "50-54 år",
            "55-59 år",
            "60-64 år",
            "65-66 år",
            "67 år",
            "68 år",
            "69 år"
           ],
           "xaxis": "x",
           "y": [
            26859,
            151710,
            221613,
            272395,
            314037,
            362711,
            368204,
            348074,
            354152,
            289456,
            65369,
            10514,
            4618,
            3313
           ],
           "yaxis": "y"
          },
          {
           "hoverlabel": {
            "namelength": 0
           },
           "hovertemplate": "kjønn=Kvinner<br>kvartal=2012K4<br>alder=%{x}<br>value=%{y}",
           "legendgroup": "kjønn=Kvinner",
           "marker": {
            "color": "#EF553B",
            "symbol": "circle"
           },
           "mode": "markers",
           "name": "kjønn=Kvinner",
           "showlegend": true,
           "type": "scatter",
           "x": [
            "16-19 år",
            "20-24 år",
            "25-29 år",
            "30-34 år",
            "35-39 år",
            "40-44 år",
            "45-49 år",
            "50-54 år",
            "55-59 år",
            "60-64 år",
            "65-66 år",
            "67 år",
            "68 år",
            "69 år"
           ],
           "xaxis": "x",
           "y": [
            24577,
            185645,
            391441,
            488482,
            500667,
            533849,
            490893,
            457919,
            419964,
            323427,
            65914,
            7636,
            2804,
            2853
           ],
           "yaxis": "y"
          }
         ],
         "name": "2012K4"
        },
        {
         "data": [
          {
           "hoverlabel": {
            "namelength": 0
           },
           "hovertemplate": "kjønn=Menn<br>kvartal=2013K1<br>alder=%{x}<br>value=%{y}",
           "legendgroup": "kjønn=Menn",
           "marker": {
            "color": "#636efa",
            "symbol": "circle"
           },
           "mode": "markers",
           "name": "kjønn=Menn",
           "showlegend": true,
           "type": "scatter",
           "x": [
            "16-19 år",
            "20-24 år",
            "25-29 år",
            "30-34 år",
            "35-39 år",
            "40-44 år",
            "45-49 år",
            "50-54 år",
            "55-59 år",
            "60-64 år",
            "65-66 år",
            "67 år",
            "68 år",
            "69 år"
           ],
           "xaxis": "x",
           "y": [
            28375,
            150555,
            222459,
            275523,
            317215,
            372003,
            378245,
            349214,
            357491,
            293248,
            63463,
            10846,
            5051,
            3662
           ],
           "yaxis": "y"
          },
          {
           "hoverlabel": {
            "namelength": 0
           },
           "hovertemplate": "kjønn=Kvinner<br>kvartal=2013K1<br>alder=%{x}<br>value=%{y}",
           "legendgroup": "kjønn=Kvinner",
           "marker": {
            "color": "#EF553B",
            "symbol": "circle"
           },
           "mode": "markers",
           "name": "kjønn=Kvinner",
           "showlegend": true,
           "type": "scatter",
           "x": [
            "16-19 år",
            "20-24 år",
            "25-29 år",
            "30-34 år",
            "35-39 år",
            "40-44 år",
            "45-49 år",
            "50-54 år",
            "55-59 år",
            "60-64 år",
            "65-66 år",
            "67 år",
            "68 år",
            "69 år"
           ],
           "xaxis": "x",
           "y": [
            24961,
            186768,
            392885,
            498965,
            501774,
            537694,
            492928,
            457475,
            431895,
            334337,
            66437,
            9996,
            3153,
            2904
           ],
           "yaxis": "y"
          }
         ],
         "name": "2013K1"
        },
        {
         "data": [
          {
           "hoverlabel": {
            "namelength": 0
           },
           "hovertemplate": "kjønn=Menn<br>kvartal=2013K2<br>alder=%{x}<br>value=%{y}",
           "legendgroup": "kjønn=Menn",
           "marker": {
            "color": "#636efa",
            "symbol": "circle"
           },
           "mode": "markers",
           "name": "kjønn=Menn",
           "showlegend": true,
           "type": "scatter",
           "x": [
            "16-19 år",
            "20-24 år",
            "25-29 år",
            "30-34 år",
            "35-39 år",
            "40-44 år",
            "45-49 år",
            "50-54 år",
            "55-59 år",
            "60-64 år",
            "65-66 år",
            "67 år",
            "68 år",
            "69 år"
           ],
           "xaxis": "x",
           "y": [
            23089,
            129143,
            188382,
            229297,
            268871,
            318427,
            327617,
            302617,
            311415,
            263384,
            58486,
            9680,
            4122,
            3325
           ],
           "yaxis": "y"
          },
          {
           "hoverlabel": {
            "namelength": 0
           },
           "hovertemplate": "kjønn=Kvinner<br>kvartal=2013K2<br>alder=%{x}<br>value=%{y}",
           "legendgroup": "kjønn=Kvinner",
           "marker": {
            "color": "#EF553B",
            "symbol": "circle"
           },
           "mode": "markers",
           "name": "kjønn=Kvinner",
           "showlegend": true,
           "type": "scatter",
           "x": [
            "16-19 år",
            "20-24 år",
            "25-29 år",
            "30-34 år",
            "35-39 år",
            "40-44 år",
            "45-49 år",
            "50-54 år",
            "55-59 år",
            "60-64 år",
            "65-66 år",
            "67 år",
            "68 år",
            "69 år"
           ],
           "xaxis": "x",
           "y": [
            20276,
            160932,
            339791,
            420996,
            433593,
            472924,
            434975,
            399829,
            374370,
            295208,
            63647,
            9186,
            2497,
            2625
           ],
           "yaxis": "y"
          }
         ],
         "name": "2013K2"
        },
        {
         "data": [
          {
           "hoverlabel": {
            "namelength": 0
           },
           "hovertemplate": "kjønn=Menn<br>kvartal=2013K3<br>alder=%{x}<br>value=%{y}",
           "legendgroup": "kjønn=Menn",
           "marker": {
            "color": "#636efa",
            "symbol": "circle"
           },
           "mode": "markers",
           "name": "kjønn=Menn",
           "showlegend": true,
           "type": "scatter",
           "x": [
            "16-19 år",
            "20-24 år",
            "25-29 år",
            "30-34 år",
            "35-39 år",
            "40-44 år",
            "45-49 år",
            "50-54 år",
            "55-59 år",
            "60-64 år",
            "65-66 år",
            "67 år",
            "68 år",
            "69 år"
           ],
           "xaxis": "x",
           "y": [
            21666,
            131768,
            196412,
            232303,
            268614,
            313877,
            326551,
            307947,
            314428,
            264644,
            59278,
            10184,
            3939,
            2909
           ],
           "yaxis": "y"
          },
          {
           "hoverlabel": {
            "namelength": 0
           },
           "hovertemplate": "kjønn=Kvinner<br>kvartal=2013K3<br>alder=%{x}<br>value=%{y}",
           "legendgroup": "kjønn=Kvinner",
           "marker": {
            "color": "#EF553B",
            "symbol": "circle"
           },
           "mode": "markers",
           "name": "kjønn=Kvinner",
           "showlegend": true,
           "type": "scatter",
           "x": [
            "16-19 år",
            "20-24 år",
            "25-29 år",
            "30-34 år",
            "35-39 år",
            "40-44 år",
            "45-49 år",
            "50-54 år",
            "55-59 år",
            "60-64 år",
            "65-66 år",
            "67 år",
            "68 år",
            "69 år"
           ],
           "xaxis": "x",
           "y": [
            20177,
            159349,
            320967,
            383385,
            390324,
            419649,
            401550,
            377963,
            354654,
            278256,
            60771,
            7788,
            2586,
            2216
           ],
           "yaxis": "y"
          }
         ],
         "name": "2013K3"
        },
        {
         "data": [
          {
           "hoverlabel": {
            "namelength": 0
           },
           "hovertemplate": "kjønn=Menn<br>kvartal=2013K4<br>alder=%{x}<br>value=%{y}",
           "legendgroup": "kjønn=Menn",
           "marker": {
            "color": "#636efa",
            "symbol": "circle"
           },
           "mode": "markers",
           "name": "kjønn=Menn",
           "showlegend": true,
           "type": "scatter",
           "x": [
            "16-19 år",
            "20-24 år",
            "25-29 år",
            "30-34 år",
            "35-39 år",
            "40-44 år",
            "45-49 år",
            "50-54 år",
            "55-59 år",
            "60-64 år",
            "65-66 år",
            "67 år",
            "68 år",
            "69 år"
           ],
           "xaxis": "x",
           "y": [
            25400,
            142246,
            218951,
            261339,
            303365,
            358866,
            369077,
            339031,
            345447,
            285832,
            63388,
            10604,
            5292,
            3794
           ],
           "yaxis": "y"
          },
          {
           "hoverlabel": {
            "namelength": 0
           },
           "hovertemplate": "kjønn=Kvinner<br>kvartal=2013K4<br>alder=%{x}<br>value=%{y}",
           "legendgroup": "kjønn=Kvinner",
           "marker": {
            "color": "#EF553B",
            "symbol": "circle"
           },
           "mode": "markers",
           "name": "kjønn=Kvinner",
           "showlegend": true,
           "type": "scatter",
           "x": [
            "16-19 år",
            "20-24 år",
            "25-29 år",
            "30-34 år",
            "35-39 år",
            "40-44 år",
            "45-49 år",
            "50-54 år",
            "55-59 år",
            "60-64 år",
            "65-66 år",
            "67 år",
            "68 år",
            "69 år"
           ],
           "xaxis": "x",
           "y": [
            23197,
            173479,
            390190,
            475153,
            492328,
            522466,
            490626,
            447049,
            409241,
            316169,
            63846,
            9912,
            3211,
            2294
           ],
           "yaxis": "y"
          }
         ],
         "name": "2013K4"
        },
        {
         "data": [
          {
           "hoverlabel": {
            "namelength": 0
           },
           "hovertemplate": "kjønn=Menn<br>kvartal=2014K1<br>alder=%{x}<br>value=%{y}",
           "legendgroup": "kjønn=Menn",
           "marker": {
            "color": "#636efa",
            "symbol": "circle"
           },
           "mode": "markers",
           "name": "kjønn=Menn",
           "showlegend": true,
           "type": "scatter",
           "x": [
            "16-19 år",
            "20-24 år",
            "25-29 år",
            "30-34 år",
            "35-39 år",
            "40-44 år",
            "45-49 år",
            "50-54 år",
            "55-59 år",
            "60-64 år",
            "65-66 år",
            "67 år",
            "68 år",
            "69 år"
           ],
           "xaxis": "x",
           "y": [
            26081,
            140466,
            217934,
            274220,
            310730,
            362884,
            380180,
            354646,
            352420,
            293697,
            65849,
            11324,
            5674,
            3724
           ],
           "yaxis": "y"
          },
          {
           "hoverlabel": {
            "namelength": 0
           },
           "hovertemplate": "kjønn=Kvinner<br>kvartal=2014K1<br>alder=%{x}<br>value=%{y}",
           "legendgroup": "kjønn=Kvinner",
           "marker": {
            "color": "#EF553B",
            "symbol": "circle"
           },
           "mode": "markers",
           "name": "kjønn=Kvinner",
           "showlegend": true,
           "type": "scatter",
           "x": [
            "16-19 år",
            "20-24 år",
            "25-29 år",
            "30-34 år",
            "35-39 år",
            "40-44 år",
            "45-49 år",
            "50-54 år",
            "55-59 år",
            "60-64 år",
            "65-66 år",
            "67 år",
            "68 år",
            "69 år"
           ],
           "xaxis": "x",
           "y": [
            23404,
            176128,
            399112,
            489642,
            504146,
            534000,
            519582,
            457466,
            421917,
            332325,
            66518,
            9643,
            3846,
            2578
           ],
           "yaxis": "y"
          }
         ],
         "name": "2014K1"
        },
        {
         "data": [
          {
           "hoverlabel": {
            "namelength": 0
           },
           "hovertemplate": "kjønn=Menn<br>kvartal=2014K2<br>alder=%{x}<br>value=%{y}",
           "legendgroup": "kjønn=Menn",
           "marker": {
            "color": "#636efa",
            "symbol": "circle"
           },
           "mode": "markers",
           "name": "kjønn=Menn",
           "showlegend": true,
           "type": "scatter",
           "x": [
            "16-19 år",
            "20-24 år",
            "25-29 år",
            "30-34 år",
            "35-39 år",
            "40-44 år",
            "45-49 år",
            "50-54 år",
            "55-59 år",
            "60-64 år",
            "65-66 år",
            "67 år",
            "68 år",
            "69 år"
           ],
           "xaxis": "x",
           "y": [
            20596,
            121589,
            183780,
            230331,
            257321,
            313112,
            335118,
            311417,
            313789,
            260533,
            60776,
            9789,
            4908,
            3226
           ],
           "yaxis": "y"
          },
          {
           "hoverlabel": {
            "namelength": 0
           },
           "hovertemplate": "kjønn=Kvinner<br>kvartal=2014K2<br>alder=%{x}<br>value=%{y}",
           "legendgroup": "kjønn=Kvinner",
           "marker": {
            "color": "#EF553B",
            "symbol": "circle"
           },
           "mode": "markers",
           "name": "kjønn=Kvinner",
           "showlegend": true,
           "type": "scatter",
           "x": [
            "16-19 år",
            "20-24 år",
            "25-29 år",
            "30-34 år",
            "35-39 år",
            "40-44 år",
            "45-49 år",
            "50-54 år",
            "55-59 år",
            "60-64 år",
            "65-66 år",
            "67 år",
            "68 år",
            "69 år"
           ],
           "xaxis": "x",
           "y": [
            19259,
            151463,
            340146,
            424377,
            438445,
            468155,
            462116,
            409679,
            376453,
            293640,
            61232,
            8259,
            3387,
            2040
           ],
           "yaxis": "y"
          }
         ],
         "name": "2014K2"
        },
        {
         "data": [
          {
           "hoverlabel": {
            "namelength": 0
           },
           "hovertemplate": "kjønn=Menn<br>kvartal=2014K3<br>alder=%{x}<br>value=%{y}",
           "legendgroup": "kjønn=Menn",
           "marker": {
            "color": "#636efa",
            "symbol": "circle"
           },
           "mode": "markers",
           "name": "kjønn=Menn",
           "showlegend": true,
           "type": "scatter",
           "x": [
            "16-19 år",
            "20-24 år",
            "25-29 år",
            "30-34 år",
            "35-39 år",
            "40-44 år",
            "45-49 år",
            "50-54 år",
            "55-59 år",
            "60-64 år",
            "65-66 år",
            "67 år",
            "68 år",
            "69 år"
           ],
           "xaxis": "x",
           "y": [
            23736,
            130029,
            203432,
            245757,
            268756,
            326157,
            346128,
            324687,
            329434,
            271868,
            65533,
            10247,
            5506,
            3329
           ],
           "yaxis": "y"
          },
          {
           "hoverlabel": {
            "namelength": 0
           },
           "hovertemplate": "kjønn=Kvinner<br>kvartal=2014K3<br>alder=%{x}<br>value=%{y}",
           "legendgroup": "kjønn=Kvinner",
           "marker": {
            "color": "#EF553B",
            "symbol": "circle"
           },
           "mode": "markers",
           "name": "kjønn=Kvinner",
           "showlegend": true,
           "type": "scatter",
           "x": [
            "16-19 år",
            "20-24 år",
            "25-29 år",
            "30-34 år",
            "35-39 år",
            "40-44 år",
            "45-49 år",
            "50-54 år",
            "55-59 år",
            "60-64 år",
            "65-66 år",
            "67 år",
            "68 år",
            "69 år"
           ],
           "xaxis": "x",
           "y": [
            20226,
            157190,
            342420,
            400373,
            400562,
            433798,
            437515,
            395020,
            371920,
            293959,
            60292,
            7896,
            2866,
            1949
           ],
           "yaxis": "y"
          }
         ],
         "name": "2014K3"
        },
        {
         "data": [
          {
           "hoverlabel": {
            "namelength": 0
           },
           "hovertemplate": "kjønn=Menn<br>kvartal=2014K4<br>alder=%{x}<br>value=%{y}",
           "legendgroup": "kjønn=Menn",
           "marker": {
            "color": "#636efa",
            "symbol": "circle"
           },
           "mode": "markers",
           "name": "kjønn=Menn",
           "showlegend": true,
           "type": "scatter",
           "x": [
            "16-19 år",
            "20-24 år",
            "25-29 år",
            "30-34 år",
            "35-39 år",
            "40-44 år",
            "45-49 år",
            "50-54 år",
            "55-59 år",
            "60-64 år",
            "65-66 år",
            "67 år",
            "68 år",
            "69 år"
           ],
           "xaxis": "x",
           "y": [
            25809,
            138280,
            222641,
            274416,
            301353,
            353106,
            385115,
            352037,
            352233,
            295210,
            70722,
            10896,
            6465,
            4504
           ],
           "yaxis": "y"
          },
          {
           "hoverlabel": {
            "namelength": 0
           },
           "hovertemplate": "kjønn=Kvinner<br>kvartal=2014K4<br>alder=%{x}<br>value=%{y}",
           "legendgroup": "kjønn=Kvinner",
           "marker": {
            "color": "#EF553B",
            "symbol": "circle"
           },
           "mode": "markers",
           "name": "kjønn=Kvinner",
           "showlegend": true,
           "type": "scatter",
           "x": [
            "16-19 år",
            "20-24 år",
            "25-29 år",
            "30-34 år",
            "35-39 år",
            "40-44 år",
            "45-49 år",
            "50-54 år",
            "55-59 år",
            "60-64 år",
            "65-66 år",
            "67 år",
            "68 år",
            "69 år"
           ],
           "xaxis": "x",
           "y": [
            24685,
            166399,
            401277,
            484886,
            490925,
            536814,
            527270,
            476247,
            428651,
            330776,
            67300,
            9228,
            3515,
            2547
           ],
           "yaxis": "y"
          }
         ],
         "name": "2014K4"
        },
        {
         "data": [
          {
           "hoverlabel": {
            "namelength": 0
           },
           "hovertemplate": "kjønn=Menn<br>kvartal=2015K1<br>alder=%{x}<br>value=%{y}",
           "legendgroup": "kjønn=Menn",
           "marker": {
            "color": "#636efa",
            "symbol": "circle"
           },
           "mode": "markers",
           "name": "kjønn=Menn",
           "showlegend": true,
           "type": "scatter",
           "x": [
            "16-19 år",
            "20-24 år",
            "25-29 år",
            "30-34 år",
            "35-39 år",
            "40-44 år",
            "45-49 år",
            "50-54 år",
            "55-59 år",
            "60-64 år",
            "65-66 år",
            "67 år",
            "68 år",
            "69 år"
           ],
           "xaxis": "x",
           "y": [
            27606,
            134659,
            213399,
            262649,
            290476,
            354702,
            381019,
            351078,
            353299,
            292252,
            68940,
            8469,
            5647,
            3768
           ],
           "yaxis": "y"
          },
          {
           "hoverlabel": {
            "namelength": 0
           },
           "hovertemplate": "kjønn=Kvinner<br>kvartal=2015K1<br>alder=%{x}<br>value=%{y}",
           "legendgroup": "kjønn=Kvinner",
           "marker": {
            "color": "#EF553B",
            "symbol": "circle"
           },
           "mode": "markers",
           "name": "kjønn=Kvinner",
           "showlegend": true,
           "type": "scatter",
           "x": [
            "16-19 år",
            "20-24 år",
            "25-29 år",
            "30-34 år",
            "35-39 år",
            "40-44 år",
            "45-49 år",
            "50-54 år",
            "55-59 år",
            "60-64 år",
            "65-66 år",
            "67 år",
            "68 år",
            "69 år"
           ],
           "xaxis": "x",
           "y": [
            29555,
            173176,
            423151,
            511640,
            515055,
            546190,
            556540,
            503062,
            457008,
            357421,
            70350,
            7796,
            3683,
            2776
           ],
           "yaxis": "y"
          }
         ],
         "name": "2015K1"
        },
        {
         "data": [
          {
           "hoverlabel": {
            "namelength": 0
           },
           "hovertemplate": "kjønn=Menn<br>kvartal=2015K2<br>alder=%{x}<br>value=%{y}",
           "legendgroup": "kjønn=Menn",
           "marker": {
            "color": "#636efa",
            "symbol": "circle"
           },
           "mode": "markers",
           "name": "kjønn=Menn",
           "showlegend": true,
           "type": "scatter",
           "x": [
            "16-19 år",
            "20-24 år",
            "25-29 år",
            "30-34 år",
            "35-39 år",
            "40-44 år",
            "45-49 år",
            "50-54 år",
            "55-59 år",
            "60-64 år",
            "65-66 år",
            "67 år",
            "68 år",
            "69 år"
           ],
           "xaxis": "x",
           "y": [
            24240,
            119246,
            191399,
            224342,
            252404,
            303605,
            331740,
            303649,
            308540,
            259980,
            64448,
            7042,
            5147,
            3643
           ],
           "yaxis": "y"
          },
          {
           "hoverlabel": {
            "namelength": 0
           },
           "hovertemplate": "kjønn=Kvinner<br>kvartal=2015K2<br>alder=%{x}<br>value=%{y}",
           "legendgroup": "kjønn=Kvinner",
           "marker": {
            "color": "#EF553B",
            "symbol": "circle"
           },
           "mode": "markers",
           "name": "kjønn=Kvinner",
           "showlegend": true,
           "type": "scatter",
           "x": [
            "16-19 år",
            "20-24 år",
            "25-29 år",
            "30-34 år",
            "35-39 år",
            "40-44 år",
            "45-49 år",
            "50-54 år",
            "55-59 år",
            "60-64 år",
            "65-66 år",
            "67 år",
            "68 år",
            "69 år"
           ],
           "xaxis": "x",
           "y": [
            23934,
            155036,
            363041,
            442103,
            444116,
            477312,
            487242,
            435295,
            393720,
            308928,
            62188,
            6801,
            3029,
            3055
           ],
           "yaxis": "y"
          }
         ],
         "name": "2015K2"
        },
        {
         "data": [
          {
           "hoverlabel": {
            "namelength": 0
           },
           "hovertemplate": "kjønn=Menn<br>kvartal=2015K3<br>alder=%{x}<br>value=%{y}",
           "legendgroup": "kjønn=Menn",
           "marker": {
            "color": "#636efa",
            "symbol": "circle"
           },
           "mode": "markers",
           "name": "kjønn=Menn",
           "showlegend": true,
           "type": "scatter",
           "x": [
            "16-19 år",
            "20-24 år",
            "25-29 år",
            "30-34 år",
            "35-39 år",
            "40-44 år",
            "45-49 år",
            "50-54 år",
            "55-59 år",
            "60-64 år",
            "65-66 år",
            "67 år",
            "68 år",
            "69 år"
           ],
           "xaxis": "x",
           "y": [
            24866,
            124316,
            201329,
            237439,
            258266,
            312811,
            345840,
            327169,
            323945,
            272889,
            69515,
            8066,
            4787,
            3237
           ],
           "yaxis": "y"
          },
          {
           "hoverlabel": {
            "namelength": 0
           },
           "hovertemplate": "kjønn=Kvinner<br>kvartal=2015K3<br>alder=%{x}<br>value=%{y}",
           "legendgroup": "kjønn=Kvinner",
           "marker": {
            "color": "#EF553B",
            "symbol": "circle"
           },
           "mode": "markers",
           "name": "kjønn=Kvinner",
           "showlegend": true,
           "type": "scatter",
           "x": [
            "16-19 år",
            "20-24 år",
            "25-29 år",
            "30-34 år",
            "35-39 år",
            "40-44 år",
            "45-49 år",
            "50-54 år",
            "55-59 år",
            "60-64 år",
            "65-66 år",
            "67 år",
            "68 år",
            "69 år"
           ],
           "xaxis": "x",
           "y": [
            23387,
            157638,
            344437,
            414435,
            406977,
            441280,
            462461,
            424856,
            393383,
            313927,
            61895,
            6046,
            3276,
            2614
           ],
           "yaxis": "y"
          }
         ],
         "name": "2015K3"
        },
        {
         "data": [
          {
           "hoverlabel": {
            "namelength": 0
           },
           "hovertemplate": "kjønn=Menn<br>kvartal=2015K4<br>alder=%{x}<br>value=%{y}",
           "legendgroup": "kjønn=Menn",
           "marker": {
            "color": "#636efa",
            "symbol": "circle"
           },
           "mode": "markers",
           "name": "kjønn=Menn",
           "showlegend": true,
           "type": "scatter",
           "x": [
            "16-19 år",
            "20-24 år",
            "25-29 år",
            "30-34 år",
            "35-39 år",
            "40-44 år",
            "45-49 år",
            "50-54 år",
            "55-59 år",
            "60-64 år",
            "65-66 år",
            "67 år",
            "68 år",
            "69 år"
           ],
           "xaxis": "x",
           "y": [
            29028,
            135813,
            224110,
            272069,
            300271,
            356264,
            388460,
            369018,
            362207,
            303884,
            73883,
            9685,
            5205,
            4987
           ],
           "yaxis": "y"
          },
          {
           "hoverlabel": {
            "namelength": 0
           },
           "hovertemplate": "kjønn=Kvinner<br>kvartal=2015K4<br>alder=%{x}<br>value=%{y}",
           "legendgroup": "kjønn=Kvinner",
           "marker": {
            "color": "#EF553B",
            "symbol": "circle"
           },
           "mode": "markers",
           "name": "kjønn=Kvinner",
           "showlegend": true,
           "type": "scatter",
           "x": [
            "16-19 år",
            "20-24 år",
            "25-29 år",
            "30-34 år",
            "35-39 år",
            "40-44 år",
            "45-49 år",
            "50-54 år",
            "55-59 år",
            "60-64 år",
            "65-66 år",
            "67 år",
            "68 år",
            "69 år"
           ],
           "xaxis": "x",
           "y": [
            29616,
            170919,
            417949,
            507046,
            502005,
            547147,
            558608,
            510962,
            455744,
            364422,
            69983,
            6674,
            4052,
            2480
           ],
           "yaxis": "y"
          }
         ],
         "name": "2015K4"
        },
        {
         "data": [
          {
           "hoverlabel": {
            "namelength": 0
           },
           "hovertemplate": "kjønn=Menn<br>kvartal=2016K1<br>alder=%{x}<br>value=%{y}",
           "legendgroup": "kjønn=Menn",
           "marker": {
            "color": "#636efa",
            "symbol": "circle"
           },
           "mode": "markers",
           "name": "kjønn=Menn",
           "showlegend": true,
           "type": "scatter",
           "x": [
            "16-19 år",
            "20-24 år",
            "25-29 år",
            "30-34 år",
            "35-39 år",
            "40-44 år",
            "45-49 år",
            "50-54 år",
            "55-59 år",
            "60-64 år",
            "65-66 år",
            "67 år",
            "68 år",
            "69 år"
           ],
           "xaxis": "x",
           "y": [
            27518,
            125655,
            211009,
            253944,
            282848,
            331325,
            364962,
            355953,
            347831,
            289645,
            69918,
            8775,
            5317,
            4673
           ],
           "yaxis": "y"
          },
          {
           "hoverlabel": {
            "namelength": 0
           },
           "hovertemplate": "kjønn=Kvinner<br>kvartal=2016K1<br>alder=%{x}<br>value=%{y}",
           "legendgroup": "kjønn=Kvinner",
           "marker": {
            "color": "#EF553B",
            "symbol": "circle"
           },
           "mode": "markers",
           "name": "kjønn=Kvinner",
           "showlegend": true,
           "type": "scatter",
           "x": [
            "16-19 år",
            "20-24 år",
            "25-29 år",
            "30-34 år",
            "35-39 år",
            "40-44 år",
            "45-49 år",
            "50-54 år",
            "55-59 år",
            "60-64 år",
            "65-66 år",
            "67 år",
            "68 år",
            "69 år"
           ],
           "xaxis": "x",
           "y": [
            29920,
            163702,
            409827,
            496934,
            477664,
            521616,
            536794,
            490883,
            437514,
            353675,
            71056,
            6562,
            4133,
            2636
           ],
           "yaxis": "y"
          }
         ],
         "name": "2016K1"
        },
        {
         "data": [
          {
           "hoverlabel": {
            "namelength": 0
           },
           "hovertemplate": "kjønn=Menn<br>kvartal=2016K2<br>alder=%{x}<br>value=%{y}",
           "legendgroup": "kjønn=Menn",
           "marker": {
            "color": "#636efa",
            "symbol": "circle"
           },
           "mode": "markers",
           "name": "kjønn=Menn",
           "showlegend": true,
           "type": "scatter",
           "x": [
            "16-19 år",
            "20-24 år",
            "25-29 år",
            "30-34 år",
            "35-39 år",
            "40-44 år",
            "45-49 år",
            "50-54 år",
            "55-59 år",
            "60-64 år",
            "65-66 år",
            "67 år",
            "68 år",
            "69 år"
           ],
           "xaxis": "x",
           "y": [
            26324,
            123001,
            196334,
            240459,
            270734,
            310116,
            347190,
            342653,
            331177,
            281134,
            66931,
            8931,
            5249,
            3809
           ],
           "yaxis": "y"
          },
          {
           "hoverlabel": {
            "namelength": 0
           },
           "hovertemplate": "kjønn=Kvinner<br>kvartal=2016K2<br>alder=%{x}<br>value=%{y}",
           "legendgroup": "kjønn=Kvinner",
           "marker": {
            "color": "#EF553B",
            "symbol": "circle"
           },
           "mode": "markers",
           "name": "kjønn=Kvinner",
           "showlegend": true,
           "type": "scatter",
           "x": [
            "16-19 år",
            "20-24 år",
            "25-29 år",
            "30-34 år",
            "35-39 år",
            "40-44 år",
            "45-49 år",
            "50-54 år",
            "55-59 år",
            "60-64 år",
            "65-66 år",
            "67 år",
            "68 år",
            "69 år"
           ],
           "xaxis": "x",
           "y": [
            27965,
            158756,
            387525,
            468302,
            465926,
            503064,
            525889,
            472357,
            417148,
            338748,
            68236,
            7022,
            3103,
            2188
           ],
           "yaxis": "y"
          }
         ],
         "name": "2016K2"
        },
        {
         "data": [
          {
           "hoverlabel": {
            "namelength": 0
           },
           "hovertemplate": "kjønn=Menn<br>kvartal=2016K3<br>alder=%{x}<br>value=%{y}",
           "legendgroup": "kjønn=Menn",
           "marker": {
            "color": "#636efa",
            "symbol": "circle"
           },
           "mode": "markers",
           "name": "kjønn=Menn",
           "showlegend": true,
           "type": "scatter",
           "x": [
            "16-19 år",
            "20-24 år",
            "25-29 år",
            "30-34 år",
            "35-39 år",
            "40-44 år",
            "45-49 år",
            "50-54 år",
            "55-59 år",
            "60-64 år",
            "65-66 år",
            "67 år",
            "68 år",
            "69 år"
           ],
           "xaxis": "x",
           "y": [
            26749,
            123006,
            203403,
            246932,
            268711,
            304593,
            346392,
            340525,
            329885,
            276745,
            66257,
            8563,
            5373,
            3458
           ],
           "yaxis": "y"
          },
          {
           "hoverlabel": {
            "namelength": 0
           },
           "hovertemplate": "kjønn=Kvinner<br>kvartal=2016K3<br>alder=%{x}<br>value=%{y}",
           "legendgroup": "kjønn=Kvinner",
           "marker": {
            "color": "#EF553B",
            "symbol": "circle"
           },
           "mode": "markers",
           "name": "kjønn=Kvinner",
           "showlegend": true,
           "type": "scatter",
           "x": [
            "16-19 år",
            "20-24 år",
            "25-29 år",
            "30-34 år",
            "35-39 år",
            "40-44 år",
            "45-49 år",
            "50-54 år",
            "55-59 år",
            "60-64 år",
            "65-66 år",
            "67 år",
            "68 år",
            "69 år"
           ],
           "xaxis": "x",
           "y": [
            26425,
            156458,
            356832,
            414560,
            412692,
            434977,
            472263,
            434056,
            392048,
            320006,
            63477,
            5750,
            2749,
            2552
           ],
           "yaxis": "y"
          }
         ],
         "name": "2016K3"
        },
        {
         "data": [
          {
           "hoverlabel": {
            "namelength": 0
           },
           "hovertemplate": "kjønn=Menn<br>kvartal=2016K4<br>alder=%{x}<br>value=%{y}",
           "legendgroup": "kjønn=Menn",
           "marker": {
            "color": "#636efa",
            "symbol": "circle"
           },
           "mode": "markers",
           "name": "kjønn=Menn",
           "showlegend": true,
           "type": "scatter",
           "x": [
            "16-19 år",
            "20-24 år",
            "25-29 år",
            "30-34 år",
            "35-39 år",
            "40-44 år",
            "45-49 år",
            "50-54 år",
            "55-59 år",
            "60-64 år",
            "65-66 år",
            "67 år",
            "68 år",
            "69 år"
           ],
           "xaxis": "x",
           "y": [
            33251,
            132840,
            234000,
            281948,
            312928,
            351929,
            391518,
            377621,
            368700,
            303517,
            72241,
            9841,
            6324,
            4179
           ],
           "yaxis": "y"
          },
          {
           "hoverlabel": {
            "namelength": 0
           },
           "hovertemplate": "kjønn=Kvinner<br>kvartal=2016K4<br>alder=%{x}<br>value=%{y}",
           "legendgroup": "kjønn=Kvinner",
           "marker": {
            "color": "#EF553B",
            "symbol": "circle"
           },
           "mode": "markers",
           "name": "kjønn=Kvinner",
           "showlegend": true,
           "type": "scatter",
           "x": [
            "16-19 år",
            "20-24 år",
            "25-29 år",
            "30-34 år",
            "35-39 år",
            "40-44 år",
            "45-49 år",
            "50-54 år",
            "55-59 år",
            "60-64 år",
            "65-66 år",
            "67 år",
            "68 år",
            "69 år"
           ],
           "xaxis": "x",
           "y": [
            32720,
            170738,
            436006,
            528943,
            511834,
            540350,
            575387,
            521036,
            464708,
            368338,
            70461,
            6878,
            3287,
            2583
           ],
           "yaxis": "y"
          }
         ],
         "name": "2016K4"
        },
        {
         "data": [
          {
           "hoverlabel": {
            "namelength": 0
           },
           "hovertemplate": "kjønn=Menn<br>kvartal=2017K1<br>alder=%{x}<br>value=%{y}",
           "legendgroup": "kjønn=Menn",
           "marker": {
            "color": "#636efa",
            "symbol": "circle"
           },
           "mode": "markers",
           "name": "kjønn=Menn",
           "showlegend": true,
           "type": "scatter",
           "x": [
            "16-19 år",
            "20-24 år",
            "25-29 år",
            "30-34 år",
            "35-39 år",
            "40-44 år",
            "45-49 år",
            "50-54 år",
            "55-59 år",
            "60-64 år",
            "65-66 år",
            "67 år",
            "68 år",
            "69 år"
           ],
           "xaxis": "x",
           "y": [
            33134,
            142953,
            252625,
            296909,
            325245,
            368372,
            411635,
            400595,
            387852,
            323274,
            74793,
            11927,
            6190,
            4772
           ],
           "yaxis": "y"
          },
          {
           "hoverlabel": {
            "namelength": 0
           },
           "hovertemplate": "kjønn=Kvinner<br>kvartal=2017K1<br>alder=%{x}<br>value=%{y}",
           "legendgroup": "kjønn=Kvinner",
           "marker": {
            "color": "#EF553B",
            "symbol": "circle"
           },
           "mode": "markers",
           "name": "kjønn=Kvinner",
           "showlegend": true,
           "type": "scatter",
           "x": [
            "16-19 år",
            "20-24 år",
            "25-29 år",
            "30-34 år",
            "35-39 år",
            "40-44 år",
            "45-49 år",
            "50-54 år",
            "55-59 år",
            "60-64 år",
            "65-66 år",
            "67 år",
            "68 år",
            "69 år"
           ],
           "xaxis": "x",
           "y": [
            32551,
            182656,
            471544,
            574415,
            550875,
            574062,
            618848,
            562792,
            498628,
            400873,
            74205,
            7930,
            3824,
            2714
           ],
           "yaxis": "y"
          }
         ],
         "name": "2017K1"
        },
        {
         "data": [
          {
           "hoverlabel": {
            "namelength": 0
           },
           "hovertemplate": "kjønn=Menn<br>kvartal=2017K2<br>alder=%{x}<br>value=%{y}",
           "legendgroup": "kjønn=Menn",
           "marker": {
            "color": "#636efa",
            "symbol": "circle"
           },
           "mode": "markers",
           "name": "kjønn=Menn",
           "showlegend": true,
           "type": "scatter",
           "x": [
            "16-19 år",
            "20-24 år",
            "25-29 år",
            "30-34 år",
            "35-39 år",
            "40-44 år",
            "45-49 år",
            "50-54 år",
            "55-59 år",
            "60-64 år",
            "65-66 år",
            "67 år",
            "68 år",
            "69 år"
           ],
           "xaxis": "x",
           "y": [
            24700,
            115320,
            198169,
            233315,
            257689,
            291612,
            334355,
            327803,
            315002,
            265568,
            65204,
            9769,
            5164,
            3686
           ],
           "yaxis": "y"
          },
          {
           "hoverlabel": {
            "namelength": 0
           },
           "hovertemplate": "kjønn=Kvinner<br>kvartal=2017K2<br>alder=%{x}<br>value=%{y}",
           "legendgroup": "kjønn=Kvinner",
           "marker": {
            "color": "#EF553B",
            "symbol": "circle"
           },
           "mode": "markers",
           "name": "kjønn=Kvinner",
           "showlegend": true,
           "type": "scatter",
           "x": [
            "16-19 år",
            "20-24 år",
            "25-29 år",
            "30-34 år",
            "35-39 år",
            "40-44 år",
            "45-49 år",
            "50-54 år",
            "55-59 år",
            "60-64 år",
            "65-66 år",
            "67 år",
            "68 år",
            "69 år"
           ],
           "xaxis": "x",
           "y": [
            24156,
            150245,
            376506,
            462066,
            453178,
            471281,
            505116,
            458749,
            403986,
            324420,
            61748,
            6046,
            2697,
            2100
           ],
           "yaxis": "y"
          }
         ],
         "name": "2017K2"
        },
        {
         "data": [
          {
           "hoverlabel": {
            "namelength": 0
           },
           "hovertemplate": "kjønn=Menn<br>kvartal=2017K3<br>alder=%{x}<br>value=%{y}",
           "legendgroup": "kjønn=Menn",
           "marker": {
            "color": "#636efa",
            "symbol": "circle"
           },
           "mode": "markers",
           "name": "kjønn=Menn",
           "showlegend": true,
           "type": "scatter",
           "x": [
            "16-19 år",
            "20-24 år",
            "25-29 år",
            "30-34 år",
            "35-39 år",
            "40-44 år",
            "45-49 år",
            "50-54 år",
            "55-59 år",
            "60-64 år",
            "65-66 år",
            "67 år",
            "68 år",
            "69 år"
           ],
           "xaxis": "x",
           "y": [
            26225,
            123967,
            212516,
            244030,
            270277,
            296231,
            347330,
            346153,
            326075,
            276922,
            68496,
            9604,
            5578,
            3610
           ],
           "yaxis": "y"
          },
          {
           "hoverlabel": {
            "namelength": 0
           },
           "hovertemplate": "kjønn=Kvinner<br>kvartal=2017K3<br>alder=%{x}<br>value=%{y}",
           "legendgroup": "kjønn=Kvinner",
           "marker": {
            "color": "#EF553B",
            "symbol": "circle"
           },
           "mode": "markers",
           "name": "kjønn=Kvinner",
           "showlegend": true,
           "type": "scatter",
           "x": [
            "16-19 år",
            "20-24 år",
            "25-29 år",
            "30-34 år",
            "35-39 år",
            "40-44 år",
            "45-49 år",
            "50-54 år",
            "55-59 år",
            "60-64 år",
            "65-66 år",
            "67 år",
            "68 år",
            "69 år"
           ],
           "xaxis": "x",
           "y": [
            25927,
            153549,
            367993,
            443108,
            421863,
            428827,
            472924,
            454514,
            402380,
            326599,
            63825,
            6050,
            2667,
            2279
           ],
           "yaxis": "y"
          }
         ],
         "name": "2017K3"
        },
        {
         "data": [
          {
           "hoverlabel": {
            "namelength": 0
           },
           "hovertemplate": "kjønn=Menn<br>kvartal=2017K4<br>alder=%{x}<br>value=%{y}",
           "legendgroup": "kjønn=Menn",
           "marker": {
            "color": "#636efa",
            "symbol": "circle"
           },
           "mode": "markers",
           "name": "kjønn=Menn",
           "showlegend": true,
           "type": "scatter",
           "x": [
            "16-19 år",
            "20-24 år",
            "25-29 år",
            "30-34 år",
            "35-39 år",
            "40-44 år",
            "45-49 år",
            "50-54 år",
            "55-59 år",
            "60-64 år",
            "65-66 år",
            "67 år",
            "68 år",
            "69 år"
           ],
           "xaxis": "x",
           "y": [
            30932,
            136509,
            239833,
            286129,
            315894,
            338419,
            397710,
            386557,
            362597,
            307805,
            74073,
            11287,
            6778,
            4227
           ],
           "yaxis": "y"
          },
          {
           "hoverlabel": {
            "namelength": 0
           },
           "hovertemplate": "kjønn=Kvinner<br>kvartal=2017K4<br>alder=%{x}<br>value=%{y}",
           "legendgroup": "kjønn=Kvinner",
           "marker": {
            "color": "#EF553B",
            "symbol": "circle"
           },
           "mode": "markers",
           "name": "kjønn=Kvinner",
           "showlegend": true,
           "type": "scatter",
           "x": [
            "16-19 år",
            "20-24 år",
            "25-29 år",
            "30-34 år",
            "35-39 år",
            "40-44 år",
            "45-49 år",
            "50-54 år",
            "55-59 år",
            "60-64 år",
            "65-66 år",
            "67 år",
            "68 år",
            "69 år"
           ],
           "xaxis": "x",
           "y": [
            33393,
            174613,
            451441,
            551131,
            534983,
            534811,
            589111,
            545285,
            473139,
            378375,
            70383,
            6803,
            3442,
            2375
           ],
           "yaxis": "y"
          }
         ],
         "name": "2017K4"
        },
        {
         "data": [
          {
           "hoverlabel": {
            "namelength": 0
           },
           "hovertemplate": "kjønn=Menn<br>kvartal=2018K1<br>alder=%{x}<br>value=%{y}",
           "legendgroup": "kjønn=Menn",
           "marker": {
            "color": "#636efa",
            "symbol": "circle"
           },
           "mode": "markers",
           "name": "kjønn=Menn",
           "showlegend": true,
           "type": "scatter",
           "x": [
            "16-19 år",
            "20-24 år",
            "25-29 år",
            "30-34 år",
            "35-39 år",
            "40-44 år",
            "45-49 år",
            "50-54 år",
            "55-59 år",
            "60-64 år",
            "65-66 år",
            "67 år",
            "68 år",
            "69 år"
           ],
           "xaxis": "x",
           "y": [
            34513,
            147089,
            253064,
            298849,
            331688,
            356236,
            413787,
            401926,
            383972,
            325129,
            74351,
            12365,
            7548,
            4877
           ],
           "yaxis": "y"
          },
          {
           "hoverlabel": {
            "namelength": 0
           },
           "hovertemplate": "kjønn=Kvinner<br>kvartal=2018K1<br>alder=%{x}<br>value=%{y}",
           "legendgroup": "kjønn=Kvinner",
           "marker": {
            "color": "#EF553B",
            "symbol": "circle"
           },
           "mode": "markers",
           "name": "kjønn=Kvinner",
           "showlegend": true,
           "type": "scatter",
           "x": [
            "16-19 år",
            "20-24 år",
            "25-29 år",
            "30-34 år",
            "35-39 år",
            "40-44 år",
            "45-49 år",
            "50-54 år",
            "55-59 år",
            "60-64 år",
            "65-66 år",
            "67 år",
            "68 år",
            "69 år"
           ],
           "xaxis": "x",
           "y": [
            32514,
            180788,
            465367,
            578112,
            550911,
            551011,
            605558,
            565051,
            496045,
            402785,
            74986,
            7878,
            3853,
            2477
           ],
           "yaxis": "y"
          }
         ],
         "name": "2018K1"
        },
        {
         "data": [
          {
           "hoverlabel": {
            "namelength": 0
           },
           "hovertemplate": "kjønn=Menn<br>kvartal=2018K2<br>alder=%{x}<br>value=%{y}",
           "legendgroup": "kjønn=Menn",
           "marker": {
            "color": "#636efa",
            "symbol": "circle"
           },
           "mode": "markers",
           "name": "kjønn=Menn",
           "showlegend": true,
           "type": "scatter",
           "x": [
            "16-19 år",
            "20-24 år",
            "25-29 år",
            "30-34 år",
            "35-39 år",
            "40-44 år",
            "45-49 år",
            "50-54 år",
            "55-59 år",
            "60-64 år",
            "65-66 år",
            "67 år",
            "68 år",
            "69 år"
           ],
           "xaxis": "x",
           "y": [
            28299,
            126489,
            210200,
            243088,
            273170,
            291812,
            341921,
            347158,
            327341,
            282176,
            66817,
            10101,
            5427,
            4223
           ],
           "yaxis": "y"
          },
          {
           "hoverlabel": {
            "namelength": 0
           },
           "hovertemplate": "kjønn=Kvinner<br>kvartal=2018K2<br>alder=%{x}<br>value=%{y}",
           "legendgroup": "kjønn=Kvinner",
           "marker": {
            "color": "#EF553B",
            "symbol": "circle"
           },
           "mode": "markers",
           "name": "kjønn=Kvinner",
           "showlegend": true,
           "type": "scatter",
           "x": [
            "16-19 år",
            "20-24 år",
            "25-29 år",
            "30-34 år",
            "35-39 år",
            "40-44 år",
            "45-49 år",
            "50-54 år",
            "55-59 år",
            "60-64 år",
            "65-66 år",
            "67 år",
            "68 år",
            "69 år"
           ],
           "xaxis": "x",
           "y": [
            27268,
            154228,
            399158,
            499294,
            465304,
            461235,
            512257,
            480211,
            412851,
            338343,
            66539,
            6868,
            2710,
            2078
           ],
           "yaxis": "y"
          }
         ],
         "name": "2018K2"
        },
        {
         "data": [
          {
           "hoverlabel": {
            "namelength": 0
           },
           "hovertemplate": "kjønn=Menn<br>kvartal=2018K3<br>alder=%{x}<br>value=%{y}",
           "legendgroup": "kjønn=Menn",
           "marker": {
            "color": "#636efa",
            "symbol": "circle"
           },
           "mode": "markers",
           "name": "kjønn=Menn",
           "showlegend": true,
           "type": "scatter",
           "x": [
            "16-19 år",
            "20-24 år",
            "25-29 år",
            "30-34 år",
            "35-39 år",
            "40-44 år",
            "45-49 år",
            "50-54 år",
            "55-59 år",
            "60-64 år",
            "65-66 år",
            "67 år",
            "68 år",
            "69 år"
           ],
           "xaxis": "x",
           "y": [
            27999,
            127698,
            214927,
            254435,
            275582,
            296644,
            337707,
            348055,
            325651,
            281226,
            68194,
            9742,
            5457,
            3792
           ],
           "yaxis": "y"
          },
          {
           "hoverlabel": {
            "namelength": 0
           },
           "hovertemplate": "kjønn=Kvinner<br>kvartal=2018K3<br>alder=%{x}<br>value=%{y}",
           "legendgroup": "kjønn=Kvinner",
           "marker": {
            "color": "#EF553B",
            "symbol": "circle"
           },
           "mode": "markers",
           "name": "kjønn=Kvinner",
           "showlegend": true,
           "type": "scatter",
           "x": [
            "16-19 år",
            "20-24 år",
            "25-29 år",
            "30-34 år",
            "35-39 år",
            "40-44 år",
            "45-49 år",
            "50-54 år",
            "55-59 år",
            "60-64 år",
            "65-66 år",
            "67 år",
            "68 år",
            "69 år"
           ],
           "xaxis": "x",
           "y": [
            26215,
            152371,
            373525,
            463018,
            424800,
            413674,
            465196,
            457234,
            398875,
            322979,
            64632,
            5787,
            2465,
            1853
           ],
           "yaxis": "y"
          }
         ],
         "name": "2018K3"
        },
        {
         "data": [
          {
           "hoverlabel": {
            "namelength": 0
           },
           "hovertemplate": "kjønn=Menn<br>kvartal=2018K4<br>alder=%{x}<br>value=%{y}",
           "legendgroup": "kjønn=Menn",
           "marker": {
            "color": "#636efa",
            "symbol": "circle"
           },
           "mode": "markers",
           "name": "kjønn=Menn",
           "showlegend": true,
           "type": "scatter",
           "x": [
            "16-19 år",
            "20-24 år",
            "25-29 år",
            "30-34 år",
            "35-39 år",
            "40-44 år",
            "45-49 år",
            "50-54 år",
            "55-59 år",
            "60-64 år",
            "65-66 år",
            "67 år",
            "68 år",
            "69 år"
           ],
           "xaxis": "x",
           "y": [
            34786,
            139793,
            247754,
            295974,
            321713,
            343242,
            388668,
            398530,
            367593,
            318395,
            76786,
            11497,
            6797,
            5021
           ],
           "yaxis": "y"
          },
          {
           "hoverlabel": {
            "namelength": 0
           },
           "hovertemplate": "kjønn=Kvinner<br>kvartal=2018K4<br>alder=%{x}<br>value=%{y}",
           "legendgroup": "kjønn=Kvinner",
           "marker": {
            "color": "#EF553B",
            "symbol": "circle"
           },
           "mode": "markers",
           "name": "kjønn=Kvinner",
           "showlegend": true,
           "type": "scatter",
           "x": [
            "16-19 år",
            "20-24 år",
            "25-29 år",
            "30-34 år",
            "35-39 år",
            "40-44 år",
            "45-49 år",
            "50-54 år",
            "55-59 år",
            "60-64 år",
            "65-66 år",
            "67 år",
            "68 år",
            "69 år"
           ],
           "xaxis": "x",
           "y": [
            31214,
            171573,
            465029,
            583100,
            545627,
            532791,
            581526,
            557624,
            480185,
            376948,
            73565,
            6512,
            2916,
            2455
           ],
           "yaxis": "y"
          }
         ],
         "name": "2018K4"
        }
       ],
       "layout": {
        "grid": {
         "xaxes": [
          "x"
         ],
         "xgap": 0.1,
         "xside": "bottom",
         "yaxes": [
          "y"
         ],
         "ygap": 0.1,
         "yside": "left"
        },
        "height": 600,
        "legend": {
         "tracegroupgap": 0
        },
        "margin": {
         "t": 60
        },
        "sliders": [
         {
          "active": 0,
          "currentvalue": {
           "prefix": "kvartal="
          },
          "len": 0.9,
          "pad": {
           "b": 10,
           "t": 60
          },
          "steps": [
           {
            "args": [
             [
              "2000K2"
             ],
             {
              "frame": {
               "duration": 0,
               "redraw": false
              },
              "fromcurrent": true,
              "mode": "immediate",
              "transition": {
               "duration": 0,
               "easing": "linear"
              }
             }
            ],
            "label": "2000K2",
            "method": "animate"
           },
           {
            "args": [
             [
              "2000K3"
             ],
             {
              "frame": {
               "duration": 0,
               "redraw": false
              },
              "fromcurrent": true,
              "mode": "immediate",
              "transition": {
               "duration": 0,
               "easing": "linear"
              }
             }
            ],
            "label": "2000K3",
            "method": "animate"
           },
           {
            "args": [
             [
              "2000K4"
             ],
             {
              "frame": {
               "duration": 0,
               "redraw": false
              },
              "fromcurrent": true,
              "mode": "immediate",
              "transition": {
               "duration": 0,
               "easing": "linear"
              }
             }
            ],
            "label": "2000K4",
            "method": "animate"
           },
           {
            "args": [
             [
              "2001K1"
             ],
             {
              "frame": {
               "duration": 0,
               "redraw": false
              },
              "fromcurrent": true,
              "mode": "immediate",
              "transition": {
               "duration": 0,
               "easing": "linear"
              }
             }
            ],
            "label": "2001K1",
            "method": "animate"
           },
           {
            "args": [
             [
              "2001K2"
             ],
             {
              "frame": {
               "duration": 0,
               "redraw": false
              },
              "fromcurrent": true,
              "mode": "immediate",
              "transition": {
               "duration": 0,
               "easing": "linear"
              }
             }
            ],
            "label": "2001K2",
            "method": "animate"
           },
           {
            "args": [
             [
              "2001K3"
             ],
             {
              "frame": {
               "duration": 0,
               "redraw": false
              },
              "fromcurrent": true,
              "mode": "immediate",
              "transition": {
               "duration": 0,
               "easing": "linear"
              }
             }
            ],
            "label": "2001K3",
            "method": "animate"
           },
           {
            "args": [
             [
              "2001K4"
             ],
             {
              "frame": {
               "duration": 0,
               "redraw": false
              },
              "fromcurrent": true,
              "mode": "immediate",
              "transition": {
               "duration": 0,
               "easing": "linear"
              }
             }
            ],
            "label": "2001K4",
            "method": "animate"
           },
           {
            "args": [
             [
              "2002K1"
             ],
             {
              "frame": {
               "duration": 0,
               "redraw": false
              },
              "fromcurrent": true,
              "mode": "immediate",
              "transition": {
               "duration": 0,
               "easing": "linear"
              }
             }
            ],
            "label": "2002K1",
            "method": "animate"
           },
           {
            "args": [
             [
              "2002K2"
             ],
             {
              "frame": {
               "duration": 0,
               "redraw": false
              },
              "fromcurrent": true,
              "mode": "immediate",
              "transition": {
               "duration": 0,
               "easing": "linear"
              }
             }
            ],
            "label": "2002K2",
            "method": "animate"
           },
           {
            "args": [
             [
              "2002K3"
             ],
             {
              "frame": {
               "duration": 0,
               "redraw": false
              },
              "fromcurrent": true,
              "mode": "immediate",
              "transition": {
               "duration": 0,
               "easing": "linear"
              }
             }
            ],
            "label": "2002K3",
            "method": "animate"
           },
           {
            "args": [
             [
              "2002K4"
             ],
             {
              "frame": {
               "duration": 0,
               "redraw": false
              },
              "fromcurrent": true,
              "mode": "immediate",
              "transition": {
               "duration": 0,
               "easing": "linear"
              }
             }
            ],
            "label": "2002K4",
            "method": "animate"
           },
           {
            "args": [
             [
              "2003K1"
             ],
             {
              "frame": {
               "duration": 0,
               "redraw": false
              },
              "fromcurrent": true,
              "mode": "immediate",
              "transition": {
               "duration": 0,
               "easing": "linear"
              }
             }
            ],
            "label": "2003K1",
            "method": "animate"
           },
           {
            "args": [
             [
              "2003K2"
             ],
             {
              "frame": {
               "duration": 0,
               "redraw": false
              },
              "fromcurrent": true,
              "mode": "immediate",
              "transition": {
               "duration": 0,
               "easing": "linear"
              }
             }
            ],
            "label": "2003K2",
            "method": "animate"
           },
           {
            "args": [
             [
              "2003K3"
             ],
             {
              "frame": {
               "duration": 0,
               "redraw": false
              },
              "fromcurrent": true,
              "mode": "immediate",
              "transition": {
               "duration": 0,
               "easing": "linear"
              }
             }
            ],
            "label": "2003K3",
            "method": "animate"
           },
           {
            "args": [
             [
              "2003K4"
             ],
             {
              "frame": {
               "duration": 0,
               "redraw": false
              },
              "fromcurrent": true,
              "mode": "immediate",
              "transition": {
               "duration": 0,
               "easing": "linear"
              }
             }
            ],
            "label": "2003K4",
            "method": "animate"
           },
           {
            "args": [
             [
              "2004K1"
             ],
             {
              "frame": {
               "duration": 0,
               "redraw": false
              },
              "fromcurrent": true,
              "mode": "immediate",
              "transition": {
               "duration": 0,
               "easing": "linear"
              }
             }
            ],
            "label": "2004K1",
            "method": "animate"
           },
           {
            "args": [
             [
              "2004K2"
             ],
             {
              "frame": {
               "duration": 0,
               "redraw": false
              },
              "fromcurrent": true,
              "mode": "immediate",
              "transition": {
               "duration": 0,
               "easing": "linear"
              }
             }
            ],
            "label": "2004K2",
            "method": "animate"
           },
           {
            "args": [
             [
              "2004K3"
             ],
             {
              "frame": {
               "duration": 0,
               "redraw": false
              },
              "fromcurrent": true,
              "mode": "immediate",
              "transition": {
               "duration": 0,
               "easing": "linear"
              }
             }
            ],
            "label": "2004K3",
            "method": "animate"
           },
           {
            "args": [
             [
              "2004K4"
             ],
             {
              "frame": {
               "duration": 0,
               "redraw": false
              },
              "fromcurrent": true,
              "mode": "immediate",
              "transition": {
               "duration": 0,
               "easing": "linear"
              }
             }
            ],
            "label": "2004K4",
            "method": "animate"
           },
           {
            "args": [
             [
              "2005K1"
             ],
             {
              "frame": {
               "duration": 0,
               "redraw": false
              },
              "fromcurrent": true,
              "mode": "immediate",
              "transition": {
               "duration": 0,
               "easing": "linear"
              }
             }
            ],
            "label": "2005K1",
            "method": "animate"
           },
           {
            "args": [
             [
              "2005K2"
             ],
             {
              "frame": {
               "duration": 0,
               "redraw": false
              },
              "fromcurrent": true,
              "mode": "immediate",
              "transition": {
               "duration": 0,
               "easing": "linear"
              }
             }
            ],
            "label": "2005K2",
            "method": "animate"
           },
           {
            "args": [
             [
              "2005K3"
             ],
             {
              "frame": {
               "duration": 0,
               "redraw": false
              },
              "fromcurrent": true,
              "mode": "immediate",
              "transition": {
               "duration": 0,
               "easing": "linear"
              }
             }
            ],
            "label": "2005K3",
            "method": "animate"
           },
           {
            "args": [
             [
              "2005K4"
             ],
             {
              "frame": {
               "duration": 0,
               "redraw": false
              },
              "fromcurrent": true,
              "mode": "immediate",
              "transition": {
               "duration": 0,
               "easing": "linear"
              }
             }
            ],
            "label": "2005K4",
            "method": "animate"
           },
           {
            "args": [
             [
              "2006K1"
             ],
             {
              "frame": {
               "duration": 0,
               "redraw": false
              },
              "fromcurrent": true,
              "mode": "immediate",
              "transition": {
               "duration": 0,
               "easing": "linear"
              }
             }
            ],
            "label": "2006K1",
            "method": "animate"
           },
           {
            "args": [
             [
              "2006K2"
             ],
             {
              "frame": {
               "duration": 0,
               "redraw": false
              },
              "fromcurrent": true,
              "mode": "immediate",
              "transition": {
               "duration": 0,
               "easing": "linear"
              }
             }
            ],
            "label": "2006K2",
            "method": "animate"
           },
           {
            "args": [
             [
              "2006K3"
             ],
             {
              "frame": {
               "duration": 0,
               "redraw": false
              },
              "fromcurrent": true,
              "mode": "immediate",
              "transition": {
               "duration": 0,
               "easing": "linear"
              }
             }
            ],
            "label": "2006K3",
            "method": "animate"
           },
           {
            "args": [
             [
              "2006K4"
             ],
             {
              "frame": {
               "duration": 0,
               "redraw": false
              },
              "fromcurrent": true,
              "mode": "immediate",
              "transition": {
               "duration": 0,
               "easing": "linear"
              }
             }
            ],
            "label": "2006K4",
            "method": "animate"
           },
           {
            "args": [
             [
              "2007K1"
             ],
             {
              "frame": {
               "duration": 0,
               "redraw": false
              },
              "fromcurrent": true,
              "mode": "immediate",
              "transition": {
               "duration": 0,
               "easing": "linear"
              }
             }
            ],
            "label": "2007K1",
            "method": "animate"
           },
           {
            "args": [
             [
              "2007K2"
             ],
             {
              "frame": {
               "duration": 0,
               "redraw": false
              },
              "fromcurrent": true,
              "mode": "immediate",
              "transition": {
               "duration": 0,
               "easing": "linear"
              }
             }
            ],
            "label": "2007K2",
            "method": "animate"
           },
           {
            "args": [
             [
              "2007K3"
             ],
             {
              "frame": {
               "duration": 0,
               "redraw": false
              },
              "fromcurrent": true,
              "mode": "immediate",
              "transition": {
               "duration": 0,
               "easing": "linear"
              }
             }
            ],
            "label": "2007K3",
            "method": "animate"
           },
           {
            "args": [
             [
              "2007K4"
             ],
             {
              "frame": {
               "duration": 0,
               "redraw": false
              },
              "fromcurrent": true,
              "mode": "immediate",
              "transition": {
               "duration": 0,
               "easing": "linear"
              }
             }
            ],
            "label": "2007K4",
            "method": "animate"
           },
           {
            "args": [
             [
              "2008K1"
             ],
             {
              "frame": {
               "duration": 0,
               "redraw": false
              },
              "fromcurrent": true,
              "mode": "immediate",
              "transition": {
               "duration": 0,
               "easing": "linear"
              }
             }
            ],
            "label": "2008K1",
            "method": "animate"
           },
           {
            "args": [
             [
              "2008K2"
             ],
             {
              "frame": {
               "duration": 0,
               "redraw": false
              },
              "fromcurrent": true,
              "mode": "immediate",
              "transition": {
               "duration": 0,
               "easing": "linear"
              }
             }
            ],
            "label": "2008K2",
            "method": "animate"
           },
           {
            "args": [
             [
              "2008K3"
             ],
             {
              "frame": {
               "duration": 0,
               "redraw": false
              },
              "fromcurrent": true,
              "mode": "immediate",
              "transition": {
               "duration": 0,
               "easing": "linear"
              }
             }
            ],
            "label": "2008K3",
            "method": "animate"
           },
           {
            "args": [
             [
              "2008K4"
             ],
             {
              "frame": {
               "duration": 0,
               "redraw": false
              },
              "fromcurrent": true,
              "mode": "immediate",
              "transition": {
               "duration": 0,
               "easing": "linear"
              }
             }
            ],
            "label": "2008K4",
            "method": "animate"
           },
           {
            "args": [
             [
              "2009K1"
             ],
             {
              "frame": {
               "duration": 0,
               "redraw": false
              },
              "fromcurrent": true,
              "mode": "immediate",
              "transition": {
               "duration": 0,
               "easing": "linear"
              }
             }
            ],
            "label": "2009K1",
            "method": "animate"
           },
           {
            "args": [
             [
              "2009K2"
             ],
             {
              "frame": {
               "duration": 0,
               "redraw": false
              },
              "fromcurrent": true,
              "mode": "immediate",
              "transition": {
               "duration": 0,
               "easing": "linear"
              }
             }
            ],
            "label": "2009K2",
            "method": "animate"
           },
           {
            "args": [
             [
              "2009K3"
             ],
             {
              "frame": {
               "duration": 0,
               "redraw": false
              },
              "fromcurrent": true,
              "mode": "immediate",
              "transition": {
               "duration": 0,
               "easing": "linear"
              }
             }
            ],
            "label": "2009K3",
            "method": "animate"
           },
           {
            "args": [
             [
              "2009K4"
             ],
             {
              "frame": {
               "duration": 0,
               "redraw": false
              },
              "fromcurrent": true,
              "mode": "immediate",
              "transition": {
               "duration": 0,
               "easing": "linear"
              }
             }
            ],
            "label": "2009K4",
            "method": "animate"
           },
           {
            "args": [
             [
              "2010K1"
             ],
             {
              "frame": {
               "duration": 0,
               "redraw": false
              },
              "fromcurrent": true,
              "mode": "immediate",
              "transition": {
               "duration": 0,
               "easing": "linear"
              }
             }
            ],
            "label": "2010K1",
            "method": "animate"
           },
           {
            "args": [
             [
              "2010K2"
             ],
             {
              "frame": {
               "duration": 0,
               "redraw": false
              },
              "fromcurrent": true,
              "mode": "immediate",
              "transition": {
               "duration": 0,
               "easing": "linear"
              }
             }
            ],
            "label": "2010K2",
            "method": "animate"
           },
           {
            "args": [
             [
              "2010K3"
             ],
             {
              "frame": {
               "duration": 0,
               "redraw": false
              },
              "fromcurrent": true,
              "mode": "immediate",
              "transition": {
               "duration": 0,
               "easing": "linear"
              }
             }
            ],
            "label": "2010K3",
            "method": "animate"
           },
           {
            "args": [
             [
              "2010K4"
             ],
             {
              "frame": {
               "duration": 0,
               "redraw": false
              },
              "fromcurrent": true,
              "mode": "immediate",
              "transition": {
               "duration": 0,
               "easing": "linear"
              }
             }
            ],
            "label": "2010K4",
            "method": "animate"
           },
           {
            "args": [
             [
              "2011K1"
             ],
             {
              "frame": {
               "duration": 0,
               "redraw": false
              },
              "fromcurrent": true,
              "mode": "immediate",
              "transition": {
               "duration": 0,
               "easing": "linear"
              }
             }
            ],
            "label": "2011K1",
            "method": "animate"
           },
           {
            "args": [
             [
              "2011K2"
             ],
             {
              "frame": {
               "duration": 0,
               "redraw": false
              },
              "fromcurrent": true,
              "mode": "immediate",
              "transition": {
               "duration": 0,
               "easing": "linear"
              }
             }
            ],
            "label": "2011K2",
            "method": "animate"
           },
           {
            "args": [
             [
              "2011K3"
             ],
             {
              "frame": {
               "duration": 0,
               "redraw": false
              },
              "fromcurrent": true,
              "mode": "immediate",
              "transition": {
               "duration": 0,
               "easing": "linear"
              }
             }
            ],
            "label": "2011K3",
            "method": "animate"
           },
           {
            "args": [
             [
              "2011K4"
             ],
             {
              "frame": {
               "duration": 0,
               "redraw": false
              },
              "fromcurrent": true,
              "mode": "immediate",
              "transition": {
               "duration": 0,
               "easing": "linear"
              }
             }
            ],
            "label": "2011K4",
            "method": "animate"
           },
           {
            "args": [
             [
              "2012K1"
             ],
             {
              "frame": {
               "duration": 0,
               "redraw": false
              },
              "fromcurrent": true,
              "mode": "immediate",
              "transition": {
               "duration": 0,
               "easing": "linear"
              }
             }
            ],
            "label": "2012K1",
            "method": "animate"
           },
           {
            "args": [
             [
              "2012K2"
             ],
             {
              "frame": {
               "duration": 0,
               "redraw": false
              },
              "fromcurrent": true,
              "mode": "immediate",
              "transition": {
               "duration": 0,
               "easing": "linear"
              }
             }
            ],
            "label": "2012K2",
            "method": "animate"
           },
           {
            "args": [
             [
              "2012K3"
             ],
             {
              "frame": {
               "duration": 0,
               "redraw": false
              },
              "fromcurrent": true,
              "mode": "immediate",
              "transition": {
               "duration": 0,
               "easing": "linear"
              }
             }
            ],
            "label": "2012K3",
            "method": "animate"
           },
           {
            "args": [
             [
              "2012K4"
             ],
             {
              "frame": {
               "duration": 0,
               "redraw": false
              },
              "fromcurrent": true,
              "mode": "immediate",
              "transition": {
               "duration": 0,
               "easing": "linear"
              }
             }
            ],
            "label": "2012K4",
            "method": "animate"
           },
           {
            "args": [
             [
              "2013K1"
             ],
             {
              "frame": {
               "duration": 0,
               "redraw": false
              },
              "fromcurrent": true,
              "mode": "immediate",
              "transition": {
               "duration": 0,
               "easing": "linear"
              }
             }
            ],
            "label": "2013K1",
            "method": "animate"
           },
           {
            "args": [
             [
              "2013K2"
             ],
             {
              "frame": {
               "duration": 0,
               "redraw": false
              },
              "fromcurrent": true,
              "mode": "immediate",
              "transition": {
               "duration": 0,
               "easing": "linear"
              }
             }
            ],
            "label": "2013K2",
            "method": "animate"
           },
           {
            "args": [
             [
              "2013K3"
             ],
             {
              "frame": {
               "duration": 0,
               "redraw": false
              },
              "fromcurrent": true,
              "mode": "immediate",
              "transition": {
               "duration": 0,
               "easing": "linear"
              }
             }
            ],
            "label": "2013K3",
            "method": "animate"
           },
           {
            "args": [
             [
              "2013K4"
             ],
             {
              "frame": {
               "duration": 0,
               "redraw": false
              },
              "fromcurrent": true,
              "mode": "immediate",
              "transition": {
               "duration": 0,
               "easing": "linear"
              }
             }
            ],
            "label": "2013K4",
            "method": "animate"
           },
           {
            "args": [
             [
              "2014K1"
             ],
             {
              "frame": {
               "duration": 0,
               "redraw": false
              },
              "fromcurrent": true,
              "mode": "immediate",
              "transition": {
               "duration": 0,
               "easing": "linear"
              }
             }
            ],
            "label": "2014K1",
            "method": "animate"
           },
           {
            "args": [
             [
              "2014K2"
             ],
             {
              "frame": {
               "duration": 0,
               "redraw": false
              },
              "fromcurrent": true,
              "mode": "immediate",
              "transition": {
               "duration": 0,
               "easing": "linear"
              }
             }
            ],
            "label": "2014K2",
            "method": "animate"
           },
           {
            "args": [
             [
              "2014K3"
             ],
             {
              "frame": {
               "duration": 0,
               "redraw": false
              },
              "fromcurrent": true,
              "mode": "immediate",
              "transition": {
               "duration": 0,
               "easing": "linear"
              }
             }
            ],
            "label": "2014K3",
            "method": "animate"
           },
           {
            "args": [
             [
              "2014K4"
             ],
             {
              "frame": {
               "duration": 0,
               "redraw": false
              },
              "fromcurrent": true,
              "mode": "immediate",
              "transition": {
               "duration": 0,
               "easing": "linear"
              }
             }
            ],
            "label": "2014K4",
            "method": "animate"
           },
           {
            "args": [
             [
              "2015K1"
             ],
             {
              "frame": {
               "duration": 0,
               "redraw": false
              },
              "fromcurrent": true,
              "mode": "immediate",
              "transition": {
               "duration": 0,
               "easing": "linear"
              }
             }
            ],
            "label": "2015K1",
            "method": "animate"
           },
           {
            "args": [
             [
              "2015K2"
             ],
             {
              "frame": {
               "duration": 0,
               "redraw": false
              },
              "fromcurrent": true,
              "mode": "immediate",
              "transition": {
               "duration": 0,
               "easing": "linear"
              }
             }
            ],
            "label": "2015K2",
            "method": "animate"
           },
           {
            "args": [
             [
              "2015K3"
             ],
             {
              "frame": {
               "duration": 0,
               "redraw": false
              },
              "fromcurrent": true,
              "mode": "immediate",
              "transition": {
               "duration": 0,
               "easing": "linear"
              }
             }
            ],
            "label": "2015K3",
            "method": "animate"
           },
           {
            "args": [
             [
              "2015K4"
             ],
             {
              "frame": {
               "duration": 0,
               "redraw": false
              },
              "fromcurrent": true,
              "mode": "immediate",
              "transition": {
               "duration": 0,
               "easing": "linear"
              }
             }
            ],
            "label": "2015K4",
            "method": "animate"
           },
           {
            "args": [
             [
              "2016K1"
             ],
             {
              "frame": {
               "duration": 0,
               "redraw": false
              },
              "fromcurrent": true,
              "mode": "immediate",
              "transition": {
               "duration": 0,
               "easing": "linear"
              }
             }
            ],
            "label": "2016K1",
            "method": "animate"
           },
           {
            "args": [
             [
              "2016K2"
             ],
             {
              "frame": {
               "duration": 0,
               "redraw": false
              },
              "fromcurrent": true,
              "mode": "immediate",
              "transition": {
               "duration": 0,
               "easing": "linear"
              }
             }
            ],
            "label": "2016K2",
            "method": "animate"
           },
           {
            "args": [
             [
              "2016K3"
             ],
             {
              "frame": {
               "duration": 0,
               "redraw": false
              },
              "fromcurrent": true,
              "mode": "immediate",
              "transition": {
               "duration": 0,
               "easing": "linear"
              }
             }
            ],
            "label": "2016K3",
            "method": "animate"
           },
           {
            "args": [
             [
              "2016K4"
             ],
             {
              "frame": {
               "duration": 0,
               "redraw": false
              },
              "fromcurrent": true,
              "mode": "immediate",
              "transition": {
               "duration": 0,
               "easing": "linear"
              }
             }
            ],
            "label": "2016K4",
            "method": "animate"
           },
           {
            "args": [
             [
              "2017K1"
             ],
             {
              "frame": {
               "duration": 0,
               "redraw": false
              },
              "fromcurrent": true,
              "mode": "immediate",
              "transition": {
               "duration": 0,
               "easing": "linear"
              }
             }
            ],
            "label": "2017K1",
            "method": "animate"
           },
           {
            "args": [
             [
              "2017K2"
             ],
             {
              "frame": {
               "duration": 0,
               "redraw": false
              },
              "fromcurrent": true,
              "mode": "immediate",
              "transition": {
               "duration": 0,
               "easing": "linear"
              }
             }
            ],
            "label": "2017K2",
            "method": "animate"
           },
           {
            "args": [
             [
              "2017K3"
             ],
             {
              "frame": {
               "duration": 0,
               "redraw": false
              },
              "fromcurrent": true,
              "mode": "immediate",
              "transition": {
               "duration": 0,
               "easing": "linear"
              }
             }
            ],
            "label": "2017K3",
            "method": "animate"
           },
           {
            "args": [
             [
              "2017K4"
             ],
             {
              "frame": {
               "duration": 0,
               "redraw": false
              },
              "fromcurrent": true,
              "mode": "immediate",
              "transition": {
               "duration": 0,
               "easing": "linear"
              }
             }
            ],
            "label": "2017K4",
            "method": "animate"
           },
           {
            "args": [
             [
              "2018K1"
             ],
             {
              "frame": {
               "duration": 0,
               "redraw": false
              },
              "fromcurrent": true,
              "mode": "immediate",
              "transition": {
               "duration": 0,
               "easing": "linear"
              }
             }
            ],
            "label": "2018K1",
            "method": "animate"
           },
           {
            "args": [
             [
              "2018K2"
             ],
             {
              "frame": {
               "duration": 0,
               "redraw": false
              },
              "fromcurrent": true,
              "mode": "immediate",
              "transition": {
               "duration": 0,
               "easing": "linear"
              }
             }
            ],
            "label": "2018K2",
            "method": "animate"
           },
           {
            "args": [
             [
              "2018K3"
             ],
             {
              "frame": {
               "duration": 0,
               "redraw": false
              },
              "fromcurrent": true,
              "mode": "immediate",
              "transition": {
               "duration": 0,
               "easing": "linear"
              }
             }
            ],
            "label": "2018K3",
            "method": "animate"
           },
           {
            "args": [
             [
              "2018K4"
             ],
             {
              "frame": {
               "duration": 0,
               "redraw": false
              },
              "fromcurrent": true,
              "mode": "immediate",
              "transition": {
               "duration": 0,
               "easing": "linear"
              }
             }
            ],
            "label": "2018K4",
            "method": "animate"
           }
          ],
          "x": 0.1,
          "xanchor": "left",
          "y": 0,
          "yanchor": "top"
         }
        ],
        "template": {
         "data": {
          "bar": [
           {
            "marker": {
             "line": {
              "color": "#E5ECF6",
              "width": 0.5
             }
            },
            "type": "bar"
           }
          ],
          "barpolar": [
           {
            "marker": {
             "line": {
              "color": "#E5ECF6",
              "width": 0.5
             }
            },
            "type": "barpolar"
           }
          ],
          "carpet": [
           {
            "aaxis": {
             "endlinecolor": "#2a3f5f",
             "gridcolor": "white",
             "linecolor": "white",
             "minorgridcolor": "white",
             "startlinecolor": "#2a3f5f"
            },
            "baxis": {
             "endlinecolor": "#2a3f5f",
             "gridcolor": "white",
             "linecolor": "white",
             "minorgridcolor": "white",
             "startlinecolor": "#2a3f5f"
            },
            "type": "carpet"
           }
          ],
          "choropleth": [
           {
            "colorbar": {
             "outlinewidth": 0,
             "ticks": ""
            },
            "type": "choropleth"
           }
          ],
          "contour": [
           {
            "colorbar": {
             "outlinewidth": 0,
             "ticks": ""
            },
            "colorscale": [
             [
              0,
              "#0508b8"
             ],
             [
              0.0893854748603352,
              "#1910d8"
             ],
             [
              0.1787709497206704,
              "#3c19f0"
             ],
             [
              0.2681564245810056,
              "#6b1cfb"
             ],
             [
              0.3575418994413408,
              "#981cfd"
             ],
             [
              0.44692737430167595,
              "#bf1cfd"
             ],
             [
              0.5363128491620112,
              "#dd2bfd"
             ],
             [
              0.6256983240223464,
              "#f246fe"
             ],
             [
              0.7150837988826816,
              "#fc67fd"
             ],
             [
              0.8044692737430168,
              "#fe88fc"
             ],
             [
              0.8938547486033519,
              "#fea5fd"
             ],
             [
              0.9832402234636871,
              "#febefe"
             ],
             [
              1,
              "#fec3fe"
             ]
            ],
            "type": "contour"
           }
          ],
          "contourcarpet": [
           {
            "colorbar": {
             "outlinewidth": 0,
             "ticks": ""
            },
            "type": "contourcarpet"
           }
          ],
          "heatmap": [
           {
            "colorbar": {
             "outlinewidth": 0,
             "ticks": ""
            },
            "colorscale": [
             [
              0,
              "#0508b8"
             ],
             [
              0.0893854748603352,
              "#1910d8"
             ],
             [
              0.1787709497206704,
              "#3c19f0"
             ],
             [
              0.2681564245810056,
              "#6b1cfb"
             ],
             [
              0.3575418994413408,
              "#981cfd"
             ],
             [
              0.44692737430167595,
              "#bf1cfd"
             ],
             [
              0.5363128491620112,
              "#dd2bfd"
             ],
             [
              0.6256983240223464,
              "#f246fe"
             ],
             [
              0.7150837988826816,
              "#fc67fd"
             ],
             [
              0.8044692737430168,
              "#fe88fc"
             ],
             [
              0.8938547486033519,
              "#fea5fd"
             ],
             [
              0.9832402234636871,
              "#febefe"
             ],
             [
              1,
              "#fec3fe"
             ]
            ],
            "type": "heatmap"
           }
          ],
          "heatmapgl": [
           {
            "colorbar": {
             "outlinewidth": 0,
             "ticks": ""
            },
            "type": "heatmapgl"
           }
          ],
          "histogram": [
           {
            "marker": {
             "colorbar": {
              "outlinewidth": 0,
              "ticks": ""
             }
            },
            "type": "histogram"
           }
          ],
          "histogram2d": [
           {
            "colorbar": {
             "outlinewidth": 0,
             "ticks": ""
            },
            "colorscale": [
             [
              0,
              "#0508b8"
             ],
             [
              0.0893854748603352,
              "#1910d8"
             ],
             [
              0.1787709497206704,
              "#3c19f0"
             ],
             [
              0.2681564245810056,
              "#6b1cfb"
             ],
             [
              0.3575418994413408,
              "#981cfd"
             ],
             [
              0.44692737430167595,
              "#bf1cfd"
             ],
             [
              0.5363128491620112,
              "#dd2bfd"
             ],
             [
              0.6256983240223464,
              "#f246fe"
             ],
             [
              0.7150837988826816,
              "#fc67fd"
             ],
             [
              0.8044692737430168,
              "#fe88fc"
             ],
             [
              0.8938547486033519,
              "#fea5fd"
             ],
             [
              0.9832402234636871,
              "#febefe"
             ],
             [
              1,
              "#fec3fe"
             ]
            ],
            "type": "histogram2d"
           }
          ],
          "histogram2dcontour": [
           {
            "colorbar": {
             "outlinewidth": 0,
             "ticks": ""
            },
            "colorscale": [
             [
              0,
              "#0508b8"
             ],
             [
              0.0893854748603352,
              "#1910d8"
             ],
             [
              0.1787709497206704,
              "#3c19f0"
             ],
             [
              0.2681564245810056,
              "#6b1cfb"
             ],
             [
              0.3575418994413408,
              "#981cfd"
             ],
             [
              0.44692737430167595,
              "#bf1cfd"
             ],
             [
              0.5363128491620112,
              "#dd2bfd"
             ],
             [
              0.6256983240223464,
              "#f246fe"
             ],
             [
              0.7150837988826816,
              "#fc67fd"
             ],
             [
              0.8044692737430168,
              "#fe88fc"
             ],
             [
              0.8938547486033519,
              "#fea5fd"
             ],
             [
              0.9832402234636871,
              "#febefe"
             ],
             [
              1,
              "#fec3fe"
             ]
            ],
            "type": "histogram2dcontour"
           }
          ],
          "mesh3d": [
           {
            "colorbar": {
             "outlinewidth": 0,
             "ticks": ""
            },
            "type": "mesh3d"
           }
          ],
          "parcoords": [
           {
            "line": {
             "colorbar": {
              "outlinewidth": 0,
              "ticks": ""
             }
            },
            "type": "parcoords"
           }
          ],
          "scatter": [
           {
            "marker": {
             "colorbar": {
              "outlinewidth": 0,
              "ticks": ""
             }
            },
            "type": "scatter"
           }
          ],
          "scatter3d": [
           {
            "marker": {
             "colorbar": {
              "outlinewidth": 0,
              "ticks": ""
             }
            },
            "type": "scatter3d"
           }
          ],
          "scattercarpet": [
           {
            "marker": {
             "colorbar": {
              "outlinewidth": 0,
              "ticks": ""
             }
            },
            "type": "scattercarpet"
           }
          ],
          "scattergeo": [
           {
            "marker": {
             "colorbar": {
              "outlinewidth": 0,
              "ticks": ""
             }
            },
            "type": "scattergeo"
           }
          ],
          "scattergl": [
           {
            "marker": {
             "colorbar": {
              "outlinewidth": 0,
              "ticks": ""
             }
            },
            "type": "scattergl"
           }
          ],
          "scattermapbox": [
           {
            "marker": {
             "colorbar": {
              "outlinewidth": 0,
              "ticks": ""
             }
            },
            "type": "scattermapbox"
           }
          ],
          "scatterpolar": [
           {
            "marker": {
             "colorbar": {
              "outlinewidth": 0,
              "ticks": ""
             }
            },
            "type": "scatterpolar"
           }
          ],
          "scatterpolargl": [
           {
            "marker": {
             "colorbar": {
              "outlinewidth": 0,
              "ticks": ""
             }
            },
            "type": "scatterpolargl"
           }
          ],
          "scatterternary": [
           {
            "marker": {
             "colorbar": {
              "outlinewidth": 0,
              "ticks": ""
             }
            },
            "type": "scatterternary"
           }
          ],
          "surface": [
           {
            "colorbar": {
             "outlinewidth": 0,
             "ticks": ""
            },
            "type": "surface"
           }
          ],
          "table": [
           {
            "cells": {
             "fill": {
              "color": "#EBF0F8"
             },
             "line": {
              "color": "white"
             }
            },
            "header": {
             "fill": {
              "color": "#C8D4E3"
             },
             "line": {
              "color": "white"
             }
            },
            "type": "table"
           }
          ]
         },
         "layout": {
          "annotationdefaults": {
           "arrowcolor": "#506784",
           "arrowhead": 0,
           "arrowwidth": 1
          },
          "colorscale": {
           "diverging": [
            [
             0,
             "#8e0152"
            ],
            [
             0.1,
             "#c51b7d"
            ],
            [
             0.2,
             "#de77ae"
            ],
            [
             0.3,
             "#f1b6da"
            ],
            [
             0.4,
             "#fde0ef"
            ],
            [
             0.5,
             "#f7f7f7"
            ],
            [
             0.6,
             "#e6f5d0"
            ],
            [
             0.7,
             "#b8e186"
            ],
            [
             0.8,
             "#7fbc41"
            ],
            [
             0.9,
             "#4d9221"
            ],
            [
             1,
             "#276419"
            ]
           ],
           "sequential": [
            [
             0,
             "#0508b8"
            ],
            [
             0.0893854748603352,
             "#1910d8"
            ],
            [
             0.1787709497206704,
             "#3c19f0"
            ],
            [
             0.2681564245810056,
             "#6b1cfb"
            ],
            [
             0.3575418994413408,
             "#981cfd"
            ],
            [
             0.44692737430167595,
             "#bf1cfd"
            ],
            [
             0.5363128491620112,
             "#dd2bfd"
            ],
            [
             0.6256983240223464,
             "#f246fe"
            ],
            [
             0.7150837988826816,
             "#fc67fd"
            ],
            [
             0.8044692737430168,
             "#fe88fc"
            ],
            [
             0.8938547486033519,
             "#fea5fd"
            ],
            [
             0.9832402234636871,
             "#febefe"
            ],
            [
             1,
             "#fec3fe"
            ]
           ],
           "sequentialminus": [
            [
             0,
             "#0508b8"
            ],
            [
             0.0893854748603352,
             "#1910d8"
            ],
            [
             0.1787709497206704,
             "#3c19f0"
            ],
            [
             0.2681564245810056,
             "#6b1cfb"
            ],
            [
             0.3575418994413408,
             "#981cfd"
            ],
            [
             0.44692737430167595,
             "#bf1cfd"
            ],
            [
             0.5363128491620112,
             "#dd2bfd"
            ],
            [
             0.6256983240223464,
             "#f246fe"
            ],
            [
             0.7150837988826816,
             "#fc67fd"
            ],
            [
             0.8044692737430168,
             "#fe88fc"
            ],
            [
             0.8938547486033519,
             "#fea5fd"
            ],
            [
             0.9832402234636871,
             "#febefe"
            ],
            [
             1,
             "#fec3fe"
            ]
           ]
          },
          "colorway": [
           "#636efa",
           "#EF553B",
           "#00cc96",
           "#ab63fa",
           "#19d3f3",
           "#e763fa",
           "#FECB52",
           "#FFA15A",
           "#FF6692",
           "#B6E880"
          ],
          "font": {
           "color": "#2a3f5f"
          },
          "geo": {
           "bgcolor": "white",
           "lakecolor": "white",
           "landcolor": "#E5ECF6",
           "showlakes": true,
           "showland": true,
           "subunitcolor": "white"
          },
          "hoverlabel": {
           "align": "left"
          },
          "hovermode": "closest",
          "mapbox": {
           "style": "light"
          },
          "paper_bgcolor": "white",
          "plot_bgcolor": "#E5ECF6",
          "polar": {
           "angularaxis": {
            "gridcolor": "white",
            "linecolor": "white",
            "ticks": ""
           },
           "bgcolor": "#E5ECF6",
           "radialaxis": {
            "gridcolor": "white",
            "linecolor": "white",
            "ticks": ""
           }
          },
          "scene": {
           "xaxis": {
            "backgroundcolor": "#E5ECF6",
            "gridcolor": "white",
            "gridwidth": 2,
            "linecolor": "white",
            "showbackground": true,
            "ticks": "",
            "zerolinecolor": "white"
           },
           "yaxis": {
            "backgroundcolor": "#E5ECF6",
            "gridcolor": "white",
            "gridwidth": 2,
            "linecolor": "white",
            "showbackground": true,
            "ticks": "",
            "zerolinecolor": "white"
           },
           "zaxis": {
            "backgroundcolor": "#E5ECF6",
            "gridcolor": "white",
            "gridwidth": 2,
            "linecolor": "white",
            "showbackground": true,
            "ticks": "",
            "zerolinecolor": "white"
           }
          },
          "shapedefaults": {
           "fillcolor": "#506784",
           "line": {
            "width": 0
           },
           "opacity": 0.4
          },
          "ternary": {
           "aaxis": {
            "gridcolor": "white",
            "linecolor": "white",
            "ticks": ""
           },
           "baxis": {
            "gridcolor": "white",
            "linecolor": "white",
            "ticks": ""
           },
           "bgcolor": "#E5ECF6",
           "caxis": {
            "gridcolor": "white",
            "linecolor": "white",
            "ticks": ""
           }
          },
          "title": {
           "x": 0.05
          },
          "xaxis": {
           "automargin": true,
           "gridcolor": "white",
           "linecolor": "white",
           "ticks": "",
           "zerolinecolor": "white",
           "zerolinewidth": 2
          },
          "yaxis": {
           "automargin": true,
           "gridcolor": "white",
           "linecolor": "white",
           "ticks": "",
           "zerolinecolor": "white",
           "zerolinewidth": 2
          }
         }
        },
        "updatemenus": [
         {
          "buttons": [
           {
            "args": [
             null,
             {
              "frame": {
               "duration": 500,
               "redraw": false
              },
              "fromcurrent": true,
              "mode": "immediate",
              "transition": {
               "duration": 500,
               "easing": "linear"
              }
             }
            ],
            "label": "&#9654;",
            "method": "animate"
           },
           {
            "args": [
             [
              null
             ],
             {
              "frame": {
               "duration": 0,
               "redraw": false
              },
              "fromcurrent": true,
              "mode": "immediate",
              "transition": {
               "duration": 0,
               "easing": "linear"
              }
             }
            ],
            "label": "&#9724;",
            "method": "animate"
           }
          ],
          "direction": "left",
          "pad": {
           "r": 10,
           "t": 70
          },
          "showactive": false,
          "type": "buttons",
          "x": 0.1,
          "xanchor": "right",
          "y": 0,
          "yanchor": "top"
         }
        ],
        "xaxis": {
         "title": {
          "text": "alder"
         }
        },
        "yaxis": {
         "range": [
          -10000,
          628848
         ],
         "title": {
          "text": "value"
         }
        }
       }
      },
      "text/html": [
       "<div>\n",
       "        \n",
       "        \n",
       "            <div id=\"649da8fd-1de1-473b-8b1c-683293d27c64\" class=\"plotly-graph-div\" style=\"height:600px; width:100%;\"></div>\n",
       "            <script type=\"text/javascript\">\n",
       "                require([\"plotly\"], function(Plotly) {\n",
       "                    window.PLOTLYENV=window.PLOTLYENV || {};\n",
       "                    window.PLOTLYENV.BASE_URL='https://plot.ly';\n",
       "                    \n",
       "                if (document.getElementById(\"649da8fd-1de1-473b-8b1c-683293d27c64\")) {\n",
       "                    Plotly.newPlot(\n",
       "                        '649da8fd-1de1-473b-8b1c-683293d27c64',\n",
       "                        [{\"hoverlabel\": {\"namelength\": 0}, \"hovertemplate\": \"kj\\u00f8nn=Menn<br>kvartal=2000K2<br>alder=%{x}<br>value=%{y}\", \"legendgroup\": \"kj\\u00f8nn=Menn\", \"marker\": {\"color\": \"#636efa\", \"symbol\": \"circle\"}, \"mode\": \"markers\", \"name\": \"kj\\u00f8nn=Menn\", \"showlegend\": true, \"type\": \"scatter\", \"uid\": \"662ef1c2-2813-4b59-b8b5-b9cdabe64446\", \"x\": [\"16-19 \\u00e5r\", \"20-24 \\u00e5r\", \"25-29 \\u00e5r\", \"30-34 \\u00e5r\", \"35-39 \\u00e5r\", \"40-44 \\u00e5r\", \"45-49 \\u00e5r\", \"50-54 \\u00e5r\", \"55-59 \\u00e5r\", \"60-64 \\u00e5r\", \"65-66 \\u00e5r\", \"67 \\u00e5r\", \"68 \\u00e5r\", \"69 \\u00e5r\"], \"xaxis\": \"x\", \"y\": [30110.0, 161571.0, 271988.0, 335583.0, 323696.0, 315352.0, 309718.0, 345277.0, 297388.0, 210614.0, 34727.0, 4769.0, 1266.0, 620.0], \"yaxis\": \"y\"}, {\"hoverlabel\": {\"namelength\": 0}, \"hovertemplate\": \"kj\\u00f8nn=Kvinner<br>kvartal=2000K2<br>alder=%{x}<br>value=%{y}\", \"legendgroup\": \"kj\\u00f8nn=Kvinner\", \"marker\": {\"color\": \"#EF553B\", \"symbol\": \"circle\"}, \"mode\": \"markers\", \"name\": \"kj\\u00f8nn=Kvinner\", \"showlegend\": true, \"type\": \"scatter\", \"uid\": \"8a161c91-86c5-4b81-bc52-530eabd328e8\", \"x\": [\"16-19 \\u00e5r\", \"20-24 \\u00e5r\", \"25-29 \\u00e5r\", \"30-34 \\u00e5r\", \"35-39 \\u00e5r\", \"40-44 \\u00e5r\", \"45-49 \\u00e5r\", \"50-54 \\u00e5r\", \"55-59 \\u00e5r\", \"60-64 \\u00e5r\", \"65-66 \\u00e5r\", \"67 \\u00e5r\", \"68 \\u00e5r\", \"69 \\u00e5r\"], \"xaxis\": \"x\", \"y\": [29415.0, 187548.0, 358266.0, 425232.0, 389446.0, 391748.0, 398326.0, 409253.0, 315177.0, 198260.0, 31472.0, 3293.0, 931.0, 712.0], \"yaxis\": \"y\"}],\n",
       "                        {\"grid\": {\"xaxes\": [\"x\"], \"xgap\": 0.1, \"xside\": \"bottom\", \"yaxes\": [\"y\"], \"ygap\": 0.1, \"yside\": \"left\"}, \"height\": 600, \"legend\": {\"tracegroupgap\": 0}, \"margin\": {\"t\": 60}, \"sliders\": [{\"active\": 0, \"currentvalue\": {\"prefix\": \"kvartal=\"}, \"len\": 0.9, \"pad\": {\"b\": 10, \"t\": 60}, \"steps\": [{\"args\": [[\"2000K2\"], {\"frame\": {\"duration\": 0, \"redraw\": false}, \"fromcurrent\": true, \"mode\": \"immediate\", \"transition\": {\"duration\": 0, \"easing\": \"linear\"}}], \"label\": \"2000K2\", \"method\": \"animate\"}, {\"args\": [[\"2000K3\"], {\"frame\": {\"duration\": 0, \"redraw\": false}, \"fromcurrent\": true, \"mode\": \"immediate\", \"transition\": {\"duration\": 0, \"easing\": \"linear\"}}], \"label\": \"2000K3\", \"method\": \"animate\"}, {\"args\": [[\"2000K4\"], {\"frame\": {\"duration\": 0, \"redraw\": false}, \"fromcurrent\": true, \"mode\": \"immediate\", \"transition\": {\"duration\": 0, \"easing\": \"linear\"}}], \"label\": \"2000K4\", \"method\": \"animate\"}, {\"args\": [[\"2001K1\"], {\"frame\": {\"duration\": 0, \"redraw\": false}, \"fromcurrent\": true, \"mode\": \"immediate\", \"transition\": {\"duration\": 0, \"easing\": \"linear\"}}], \"label\": \"2001K1\", \"method\": \"animate\"}, {\"args\": [[\"2001K2\"], {\"frame\": {\"duration\": 0, \"redraw\": false}, \"fromcurrent\": true, \"mode\": \"immediate\", \"transition\": {\"duration\": 0, \"easing\": \"linear\"}}], \"label\": \"2001K2\", \"method\": \"animate\"}, {\"args\": [[\"2001K3\"], {\"frame\": {\"duration\": 0, \"redraw\": false}, \"fromcurrent\": true, \"mode\": \"immediate\", \"transition\": {\"duration\": 0, \"easing\": \"linear\"}}], \"label\": \"2001K3\", \"method\": \"animate\"}, {\"args\": [[\"2001K4\"], {\"frame\": {\"duration\": 0, \"redraw\": false}, \"fromcurrent\": true, \"mode\": \"immediate\", \"transition\": {\"duration\": 0, \"easing\": \"linear\"}}], \"label\": \"2001K4\", \"method\": \"animate\"}, {\"args\": [[\"2002K1\"], {\"frame\": {\"duration\": 0, \"redraw\": false}, \"fromcurrent\": true, \"mode\": \"immediate\", \"transition\": {\"duration\": 0, \"easing\": \"linear\"}}], \"label\": \"2002K1\", \"method\": \"animate\"}, {\"args\": [[\"2002K2\"], {\"frame\": {\"duration\": 0, \"redraw\": false}, \"fromcurrent\": true, \"mode\": \"immediate\", \"transition\": {\"duration\": 0, \"easing\": \"linear\"}}], \"label\": \"2002K2\", \"method\": \"animate\"}, {\"args\": [[\"2002K3\"], {\"frame\": {\"duration\": 0, \"redraw\": false}, \"fromcurrent\": true, \"mode\": \"immediate\", \"transition\": {\"duration\": 0, \"easing\": \"linear\"}}], \"label\": \"2002K3\", \"method\": \"animate\"}, {\"args\": [[\"2002K4\"], {\"frame\": {\"duration\": 0, \"redraw\": false}, \"fromcurrent\": true, \"mode\": \"immediate\", \"transition\": {\"duration\": 0, \"easing\": \"linear\"}}], \"label\": \"2002K4\", \"method\": \"animate\"}, {\"args\": [[\"2003K1\"], {\"frame\": {\"duration\": 0, \"redraw\": false}, \"fromcurrent\": true, \"mode\": \"immediate\", \"transition\": {\"duration\": 0, \"easing\": \"linear\"}}], \"label\": \"2003K1\", \"method\": \"animate\"}, {\"args\": [[\"2003K2\"], {\"frame\": {\"duration\": 0, \"redraw\": false}, \"fromcurrent\": true, \"mode\": \"immediate\", \"transition\": {\"duration\": 0, \"easing\": \"linear\"}}], \"label\": \"2003K2\", \"method\": \"animate\"}, {\"args\": [[\"2003K3\"], {\"frame\": {\"duration\": 0, \"redraw\": false}, \"fromcurrent\": true, \"mode\": \"immediate\", \"transition\": {\"duration\": 0, \"easing\": \"linear\"}}], \"label\": \"2003K3\", \"method\": \"animate\"}, {\"args\": [[\"2003K4\"], {\"frame\": {\"duration\": 0, \"redraw\": false}, \"fromcurrent\": true, \"mode\": \"immediate\", \"transition\": {\"duration\": 0, \"easing\": \"linear\"}}], \"label\": \"2003K4\", \"method\": \"animate\"}, {\"args\": [[\"2004K1\"], {\"frame\": {\"duration\": 0, \"redraw\": false}, \"fromcurrent\": true, \"mode\": \"immediate\", \"transition\": {\"duration\": 0, \"easing\": \"linear\"}}], \"label\": \"2004K1\", \"method\": \"animate\"}, {\"args\": [[\"2004K2\"], {\"frame\": {\"duration\": 0, \"redraw\": false}, \"fromcurrent\": true, \"mode\": \"immediate\", \"transition\": {\"duration\": 0, \"easing\": \"linear\"}}], \"label\": \"2004K2\", \"method\": \"animate\"}, {\"args\": [[\"2004K3\"], {\"frame\": {\"duration\": 0, \"redraw\": false}, \"fromcurrent\": true, \"mode\": \"immediate\", \"transition\": {\"duration\": 0, \"easing\": \"linear\"}}], \"label\": \"2004K3\", \"method\": \"animate\"}, {\"args\": [[\"2004K4\"], {\"frame\": {\"duration\": 0, \"redraw\": false}, \"fromcurrent\": true, \"mode\": \"immediate\", \"transition\": {\"duration\": 0, \"easing\": \"linear\"}}], \"label\": \"2004K4\", \"method\": \"animate\"}, {\"args\": [[\"2005K1\"], {\"frame\": {\"duration\": 0, \"redraw\": false}, \"fromcurrent\": true, \"mode\": \"immediate\", \"transition\": {\"duration\": 0, \"easing\": \"linear\"}}], \"label\": \"2005K1\", \"method\": \"animate\"}, {\"args\": [[\"2005K2\"], {\"frame\": {\"duration\": 0, \"redraw\": false}, \"fromcurrent\": true, \"mode\": \"immediate\", \"transition\": {\"duration\": 0, \"easing\": \"linear\"}}], \"label\": \"2005K2\", \"method\": \"animate\"}, {\"args\": [[\"2005K3\"], {\"frame\": {\"duration\": 0, \"redraw\": false}, \"fromcurrent\": true, \"mode\": \"immediate\", \"transition\": {\"duration\": 0, \"easing\": \"linear\"}}], \"label\": \"2005K3\", \"method\": \"animate\"}, {\"args\": [[\"2005K4\"], {\"frame\": {\"duration\": 0, \"redraw\": false}, \"fromcurrent\": true, \"mode\": \"immediate\", \"transition\": {\"duration\": 0, \"easing\": \"linear\"}}], \"label\": \"2005K4\", \"method\": \"animate\"}, {\"args\": [[\"2006K1\"], {\"frame\": {\"duration\": 0, \"redraw\": false}, \"fromcurrent\": true, \"mode\": \"immediate\", \"transition\": {\"duration\": 0, \"easing\": \"linear\"}}], \"label\": \"2006K1\", \"method\": \"animate\"}, {\"args\": [[\"2006K2\"], {\"frame\": {\"duration\": 0, \"redraw\": false}, \"fromcurrent\": true, \"mode\": \"immediate\", \"transition\": {\"duration\": 0, \"easing\": \"linear\"}}], \"label\": \"2006K2\", \"method\": \"animate\"}, {\"args\": [[\"2006K3\"], {\"frame\": {\"duration\": 0, \"redraw\": false}, \"fromcurrent\": true, \"mode\": \"immediate\", \"transition\": {\"duration\": 0, \"easing\": \"linear\"}}], \"label\": \"2006K3\", \"method\": \"animate\"}, {\"args\": [[\"2006K4\"], {\"frame\": {\"duration\": 0, \"redraw\": false}, \"fromcurrent\": true, \"mode\": \"immediate\", \"transition\": {\"duration\": 0, \"easing\": \"linear\"}}], \"label\": \"2006K4\", \"method\": \"animate\"}, {\"args\": [[\"2007K1\"], {\"frame\": {\"duration\": 0, \"redraw\": false}, \"fromcurrent\": true, \"mode\": \"immediate\", \"transition\": {\"duration\": 0, \"easing\": \"linear\"}}], \"label\": \"2007K1\", \"method\": \"animate\"}, {\"args\": [[\"2007K2\"], {\"frame\": {\"duration\": 0, \"redraw\": false}, \"fromcurrent\": true, \"mode\": \"immediate\", \"transition\": {\"duration\": 0, \"easing\": \"linear\"}}], \"label\": \"2007K2\", \"method\": \"animate\"}, {\"args\": [[\"2007K3\"], {\"frame\": {\"duration\": 0, \"redraw\": false}, \"fromcurrent\": true, \"mode\": \"immediate\", \"transition\": {\"duration\": 0, \"easing\": \"linear\"}}], \"label\": \"2007K3\", \"method\": \"animate\"}, {\"args\": [[\"2007K4\"], {\"frame\": {\"duration\": 0, \"redraw\": false}, \"fromcurrent\": true, \"mode\": \"immediate\", \"transition\": {\"duration\": 0, \"easing\": \"linear\"}}], \"label\": \"2007K4\", \"method\": \"animate\"}, {\"args\": [[\"2008K1\"], {\"frame\": {\"duration\": 0, \"redraw\": false}, \"fromcurrent\": true, \"mode\": \"immediate\", \"transition\": {\"duration\": 0, \"easing\": \"linear\"}}], \"label\": \"2008K1\", \"method\": \"animate\"}, {\"args\": [[\"2008K2\"], {\"frame\": {\"duration\": 0, \"redraw\": false}, \"fromcurrent\": true, \"mode\": \"immediate\", \"transition\": {\"duration\": 0, \"easing\": \"linear\"}}], \"label\": \"2008K2\", \"method\": \"animate\"}, {\"args\": [[\"2008K3\"], {\"frame\": {\"duration\": 0, \"redraw\": false}, \"fromcurrent\": true, \"mode\": \"immediate\", \"transition\": {\"duration\": 0, \"easing\": \"linear\"}}], \"label\": \"2008K3\", \"method\": \"animate\"}, {\"args\": [[\"2008K4\"], {\"frame\": {\"duration\": 0, \"redraw\": false}, \"fromcurrent\": true, \"mode\": \"immediate\", \"transition\": {\"duration\": 0, \"easing\": \"linear\"}}], \"label\": \"2008K4\", \"method\": \"animate\"}, {\"args\": [[\"2009K1\"], {\"frame\": {\"duration\": 0, \"redraw\": false}, \"fromcurrent\": true, \"mode\": \"immediate\", \"transition\": {\"duration\": 0, \"easing\": \"linear\"}}], \"label\": \"2009K1\", \"method\": \"animate\"}, {\"args\": [[\"2009K2\"], {\"frame\": {\"duration\": 0, \"redraw\": false}, \"fromcurrent\": true, \"mode\": \"immediate\", \"transition\": {\"duration\": 0, \"easing\": \"linear\"}}], \"label\": \"2009K2\", \"method\": \"animate\"}, {\"args\": [[\"2009K3\"], {\"frame\": {\"duration\": 0, \"redraw\": false}, \"fromcurrent\": true, \"mode\": \"immediate\", \"transition\": {\"duration\": 0, \"easing\": \"linear\"}}], \"label\": \"2009K3\", \"method\": \"animate\"}, {\"args\": [[\"2009K4\"], {\"frame\": {\"duration\": 0, \"redraw\": false}, \"fromcurrent\": true, \"mode\": \"immediate\", \"transition\": {\"duration\": 0, \"easing\": \"linear\"}}], \"label\": \"2009K4\", \"method\": \"animate\"}, {\"args\": [[\"2010K1\"], {\"frame\": {\"duration\": 0, \"redraw\": false}, \"fromcurrent\": true, \"mode\": \"immediate\", \"transition\": {\"duration\": 0, \"easing\": \"linear\"}}], \"label\": \"2010K1\", \"method\": \"animate\"}, {\"args\": [[\"2010K2\"], {\"frame\": {\"duration\": 0, \"redraw\": false}, \"fromcurrent\": true, \"mode\": \"immediate\", \"transition\": {\"duration\": 0, \"easing\": \"linear\"}}], \"label\": \"2010K2\", \"method\": \"animate\"}, {\"args\": [[\"2010K3\"], {\"frame\": {\"duration\": 0, \"redraw\": false}, \"fromcurrent\": true, \"mode\": \"immediate\", \"transition\": {\"duration\": 0, \"easing\": \"linear\"}}], \"label\": \"2010K3\", \"method\": \"animate\"}, {\"args\": [[\"2010K4\"], {\"frame\": {\"duration\": 0, \"redraw\": false}, \"fromcurrent\": true, \"mode\": \"immediate\", \"transition\": {\"duration\": 0, \"easing\": \"linear\"}}], \"label\": \"2010K4\", \"method\": \"animate\"}, {\"args\": [[\"2011K1\"], {\"frame\": {\"duration\": 0, \"redraw\": false}, \"fromcurrent\": true, \"mode\": \"immediate\", \"transition\": {\"duration\": 0, \"easing\": \"linear\"}}], \"label\": \"2011K1\", \"method\": \"animate\"}, {\"args\": [[\"2011K2\"], {\"frame\": {\"duration\": 0, \"redraw\": false}, \"fromcurrent\": true, \"mode\": \"immediate\", \"transition\": {\"duration\": 0, \"easing\": \"linear\"}}], \"label\": \"2011K2\", \"method\": \"animate\"}, {\"args\": [[\"2011K3\"], {\"frame\": {\"duration\": 0, \"redraw\": false}, \"fromcurrent\": true, \"mode\": \"immediate\", \"transition\": {\"duration\": 0, \"easing\": \"linear\"}}], \"label\": \"2011K3\", \"method\": \"animate\"}, {\"args\": [[\"2011K4\"], {\"frame\": {\"duration\": 0, \"redraw\": false}, \"fromcurrent\": true, \"mode\": \"immediate\", \"transition\": {\"duration\": 0, \"easing\": \"linear\"}}], \"label\": \"2011K4\", \"method\": \"animate\"}, {\"args\": [[\"2012K1\"], {\"frame\": {\"duration\": 0, \"redraw\": false}, \"fromcurrent\": true, \"mode\": \"immediate\", \"transition\": {\"duration\": 0, \"easing\": \"linear\"}}], \"label\": \"2012K1\", \"method\": \"animate\"}, {\"args\": [[\"2012K2\"], {\"frame\": {\"duration\": 0, \"redraw\": false}, \"fromcurrent\": true, \"mode\": \"immediate\", \"transition\": {\"duration\": 0, \"easing\": \"linear\"}}], \"label\": \"2012K2\", \"method\": \"animate\"}, {\"args\": [[\"2012K3\"], {\"frame\": {\"duration\": 0, \"redraw\": false}, \"fromcurrent\": true, \"mode\": \"immediate\", \"transition\": {\"duration\": 0, \"easing\": \"linear\"}}], \"label\": \"2012K3\", \"method\": \"animate\"}, {\"args\": [[\"2012K4\"], {\"frame\": {\"duration\": 0, \"redraw\": false}, \"fromcurrent\": true, \"mode\": \"immediate\", \"transition\": {\"duration\": 0, \"easing\": \"linear\"}}], \"label\": \"2012K4\", \"method\": \"animate\"}, {\"args\": [[\"2013K1\"], {\"frame\": {\"duration\": 0, \"redraw\": false}, \"fromcurrent\": true, \"mode\": \"immediate\", \"transition\": {\"duration\": 0, \"easing\": \"linear\"}}], \"label\": \"2013K1\", \"method\": \"animate\"}, {\"args\": [[\"2013K2\"], {\"frame\": {\"duration\": 0, \"redraw\": false}, \"fromcurrent\": true, \"mode\": \"immediate\", \"transition\": {\"duration\": 0, \"easing\": \"linear\"}}], \"label\": \"2013K2\", \"method\": \"animate\"}, {\"args\": [[\"2013K3\"], {\"frame\": {\"duration\": 0, \"redraw\": false}, \"fromcurrent\": true, \"mode\": \"immediate\", \"transition\": {\"duration\": 0, \"easing\": \"linear\"}}], \"label\": \"2013K3\", \"method\": \"animate\"}, {\"args\": [[\"2013K4\"], {\"frame\": {\"duration\": 0, \"redraw\": false}, \"fromcurrent\": true, \"mode\": \"immediate\", \"transition\": {\"duration\": 0, \"easing\": \"linear\"}}], \"label\": \"2013K4\", \"method\": \"animate\"}, {\"args\": [[\"2014K1\"], {\"frame\": {\"duration\": 0, \"redraw\": false}, \"fromcurrent\": true, \"mode\": \"immediate\", \"transition\": {\"duration\": 0, \"easing\": \"linear\"}}], \"label\": \"2014K1\", \"method\": \"animate\"}, {\"args\": [[\"2014K2\"], {\"frame\": {\"duration\": 0, \"redraw\": false}, \"fromcurrent\": true, \"mode\": \"immediate\", \"transition\": {\"duration\": 0, \"easing\": \"linear\"}}], \"label\": \"2014K2\", \"method\": \"animate\"}, {\"args\": [[\"2014K3\"], {\"frame\": {\"duration\": 0, \"redraw\": false}, \"fromcurrent\": true, \"mode\": \"immediate\", \"transition\": {\"duration\": 0, \"easing\": \"linear\"}}], \"label\": \"2014K3\", \"method\": \"animate\"}, {\"args\": [[\"2014K4\"], {\"frame\": {\"duration\": 0, \"redraw\": false}, \"fromcurrent\": true, \"mode\": \"immediate\", \"transition\": {\"duration\": 0, \"easing\": \"linear\"}}], \"label\": \"2014K4\", \"method\": \"animate\"}, {\"args\": [[\"2015K1\"], {\"frame\": {\"duration\": 0, \"redraw\": false}, \"fromcurrent\": true, \"mode\": \"immediate\", \"transition\": {\"duration\": 0, \"easing\": \"linear\"}}], \"label\": \"2015K1\", \"method\": \"animate\"}, {\"args\": [[\"2015K2\"], {\"frame\": {\"duration\": 0, \"redraw\": false}, \"fromcurrent\": true, \"mode\": \"immediate\", \"transition\": {\"duration\": 0, \"easing\": \"linear\"}}], \"label\": \"2015K2\", \"method\": \"animate\"}, {\"args\": [[\"2015K3\"], {\"frame\": {\"duration\": 0, \"redraw\": false}, \"fromcurrent\": true, \"mode\": \"immediate\", \"transition\": {\"duration\": 0, \"easing\": \"linear\"}}], \"label\": \"2015K3\", \"method\": \"animate\"}, {\"args\": [[\"2015K4\"], {\"frame\": {\"duration\": 0, \"redraw\": false}, \"fromcurrent\": true, \"mode\": \"immediate\", \"transition\": {\"duration\": 0, \"easing\": \"linear\"}}], \"label\": \"2015K4\", \"method\": \"animate\"}, {\"args\": [[\"2016K1\"], {\"frame\": {\"duration\": 0, \"redraw\": false}, \"fromcurrent\": true, \"mode\": \"immediate\", \"transition\": {\"duration\": 0, \"easing\": \"linear\"}}], \"label\": \"2016K1\", \"method\": \"animate\"}, {\"args\": [[\"2016K2\"], {\"frame\": {\"duration\": 0, \"redraw\": false}, \"fromcurrent\": true, \"mode\": \"immediate\", \"transition\": {\"duration\": 0, \"easing\": \"linear\"}}], \"label\": \"2016K2\", \"method\": \"animate\"}, {\"args\": [[\"2016K3\"], {\"frame\": {\"duration\": 0, \"redraw\": false}, \"fromcurrent\": true, \"mode\": \"immediate\", \"transition\": {\"duration\": 0, \"easing\": \"linear\"}}], \"label\": \"2016K3\", \"method\": \"animate\"}, {\"args\": [[\"2016K4\"], {\"frame\": {\"duration\": 0, \"redraw\": false}, \"fromcurrent\": true, \"mode\": \"immediate\", \"transition\": {\"duration\": 0, \"easing\": \"linear\"}}], \"label\": \"2016K4\", \"method\": \"animate\"}, {\"args\": [[\"2017K1\"], {\"frame\": {\"duration\": 0, \"redraw\": false}, \"fromcurrent\": true, \"mode\": \"immediate\", \"transition\": {\"duration\": 0, \"easing\": \"linear\"}}], \"label\": \"2017K1\", \"method\": \"animate\"}, {\"args\": [[\"2017K2\"], {\"frame\": {\"duration\": 0, \"redraw\": false}, \"fromcurrent\": true, \"mode\": \"immediate\", \"transition\": {\"duration\": 0, \"easing\": \"linear\"}}], \"label\": \"2017K2\", \"method\": \"animate\"}, {\"args\": [[\"2017K3\"], {\"frame\": {\"duration\": 0, \"redraw\": false}, \"fromcurrent\": true, \"mode\": \"immediate\", \"transition\": {\"duration\": 0, \"easing\": \"linear\"}}], \"label\": \"2017K3\", \"method\": \"animate\"}, {\"args\": [[\"2017K4\"], {\"frame\": {\"duration\": 0, \"redraw\": false}, \"fromcurrent\": true, \"mode\": \"immediate\", \"transition\": {\"duration\": 0, \"easing\": \"linear\"}}], \"label\": \"2017K4\", \"method\": \"animate\"}, {\"args\": [[\"2018K1\"], {\"frame\": {\"duration\": 0, \"redraw\": false}, \"fromcurrent\": true, \"mode\": \"immediate\", \"transition\": {\"duration\": 0, \"easing\": \"linear\"}}], \"label\": \"2018K1\", \"method\": \"animate\"}, {\"args\": [[\"2018K2\"], {\"frame\": {\"duration\": 0, \"redraw\": false}, \"fromcurrent\": true, \"mode\": \"immediate\", \"transition\": {\"duration\": 0, \"easing\": \"linear\"}}], \"label\": \"2018K2\", \"method\": \"animate\"}, {\"args\": [[\"2018K3\"], {\"frame\": {\"duration\": 0, \"redraw\": false}, \"fromcurrent\": true, \"mode\": \"immediate\", \"transition\": {\"duration\": 0, \"easing\": \"linear\"}}], \"label\": \"2018K3\", \"method\": \"animate\"}, {\"args\": [[\"2018K4\"], {\"frame\": {\"duration\": 0, \"redraw\": false}, \"fromcurrent\": true, \"mode\": \"immediate\", \"transition\": {\"duration\": 0, \"easing\": \"linear\"}}], \"label\": \"2018K4\", \"method\": \"animate\"}], \"x\": 0.1, \"xanchor\": \"left\", \"y\": 0, \"yanchor\": \"top\"}], \"template\": {\"data\": {\"bar\": [{\"marker\": {\"line\": {\"color\": \"#E5ECF6\", \"width\": 0.5}}, \"type\": \"bar\"}], \"barpolar\": [{\"marker\": {\"line\": {\"color\": \"#E5ECF6\", \"width\": 0.5}}, \"type\": \"barpolar\"}], \"carpet\": [{\"aaxis\": {\"endlinecolor\": \"#2a3f5f\", \"gridcolor\": \"white\", \"linecolor\": \"white\", \"minorgridcolor\": \"white\", \"startlinecolor\": \"#2a3f5f\"}, \"baxis\": {\"endlinecolor\": \"#2a3f5f\", \"gridcolor\": \"white\", \"linecolor\": \"white\", \"minorgridcolor\": \"white\", \"startlinecolor\": \"#2a3f5f\"}, \"type\": \"carpet\"}], \"choropleth\": [{\"colorbar\": {\"outlinewidth\": 0, \"ticks\": \"\"}, \"type\": \"choropleth\"}], \"contour\": [{\"colorbar\": {\"outlinewidth\": 0, \"ticks\": \"\"}, \"colorscale\": [[0.0, \"#0508b8\"], [0.0893854748603352, \"#1910d8\"], [0.1787709497206704, \"#3c19f0\"], [0.2681564245810056, \"#6b1cfb\"], [0.3575418994413408, \"#981cfd\"], [0.44692737430167595, \"#bf1cfd\"], [0.5363128491620112, \"#dd2bfd\"], [0.6256983240223464, \"#f246fe\"], [0.7150837988826816, \"#fc67fd\"], [0.8044692737430168, \"#fe88fc\"], [0.8938547486033519, \"#fea5fd\"], [0.9832402234636871, \"#febefe\"], [1.0, \"#fec3fe\"]], \"type\": \"contour\"}], \"contourcarpet\": [{\"colorbar\": {\"outlinewidth\": 0, \"ticks\": \"\"}, \"type\": \"contourcarpet\"}], \"heatmap\": [{\"colorbar\": {\"outlinewidth\": 0, \"ticks\": \"\"}, \"colorscale\": [[0.0, \"#0508b8\"], [0.0893854748603352, \"#1910d8\"], [0.1787709497206704, \"#3c19f0\"], [0.2681564245810056, \"#6b1cfb\"], [0.3575418994413408, \"#981cfd\"], [0.44692737430167595, \"#bf1cfd\"], [0.5363128491620112, \"#dd2bfd\"], [0.6256983240223464, \"#f246fe\"], [0.7150837988826816, \"#fc67fd\"], [0.8044692737430168, \"#fe88fc\"], [0.8938547486033519, \"#fea5fd\"], [0.9832402234636871, \"#febefe\"], [1.0, \"#fec3fe\"]], \"type\": \"heatmap\"}], \"heatmapgl\": [{\"colorbar\": {\"outlinewidth\": 0, \"ticks\": \"\"}, \"type\": \"heatmapgl\"}], \"histogram\": [{\"marker\": {\"colorbar\": {\"outlinewidth\": 0, \"ticks\": \"\"}}, \"type\": \"histogram\"}], \"histogram2d\": [{\"colorbar\": {\"outlinewidth\": 0, \"ticks\": \"\"}, \"colorscale\": [[0.0, \"#0508b8\"], [0.0893854748603352, \"#1910d8\"], [0.1787709497206704, \"#3c19f0\"], [0.2681564245810056, \"#6b1cfb\"], [0.3575418994413408, \"#981cfd\"], [0.44692737430167595, \"#bf1cfd\"], [0.5363128491620112, \"#dd2bfd\"], [0.6256983240223464, \"#f246fe\"], [0.7150837988826816, \"#fc67fd\"], [0.8044692737430168, \"#fe88fc\"], [0.8938547486033519, \"#fea5fd\"], [0.9832402234636871, \"#febefe\"], [1.0, \"#fec3fe\"]], \"type\": \"histogram2d\"}], \"histogram2dcontour\": [{\"colorbar\": {\"outlinewidth\": 0, \"ticks\": \"\"}, \"colorscale\": [[0.0, \"#0508b8\"], [0.0893854748603352, \"#1910d8\"], [0.1787709497206704, \"#3c19f0\"], [0.2681564245810056, \"#6b1cfb\"], [0.3575418994413408, \"#981cfd\"], [0.44692737430167595, \"#bf1cfd\"], [0.5363128491620112, \"#dd2bfd\"], [0.6256983240223464, \"#f246fe\"], [0.7150837988826816, \"#fc67fd\"], [0.8044692737430168, \"#fe88fc\"], [0.8938547486033519, \"#fea5fd\"], [0.9832402234636871, \"#febefe\"], [1.0, \"#fec3fe\"]], \"type\": \"histogram2dcontour\"}], \"mesh3d\": [{\"colorbar\": {\"outlinewidth\": 0, \"ticks\": \"\"}, \"type\": \"mesh3d\"}], \"parcoords\": [{\"line\": {\"colorbar\": {\"outlinewidth\": 0, \"ticks\": \"\"}}, \"type\": \"parcoords\"}], \"scatter\": [{\"marker\": {\"colorbar\": {\"outlinewidth\": 0, \"ticks\": \"\"}}, \"type\": \"scatter\"}], \"scatter3d\": [{\"marker\": {\"colorbar\": {\"outlinewidth\": 0, \"ticks\": \"\"}}, \"type\": \"scatter3d\"}], \"scattercarpet\": [{\"marker\": {\"colorbar\": {\"outlinewidth\": 0, \"ticks\": \"\"}}, \"type\": \"scattercarpet\"}], \"scattergeo\": [{\"marker\": {\"colorbar\": {\"outlinewidth\": 0, \"ticks\": \"\"}}, \"type\": \"scattergeo\"}], \"scattergl\": [{\"marker\": {\"colorbar\": {\"outlinewidth\": 0, \"ticks\": \"\"}}, \"type\": \"scattergl\"}], \"scattermapbox\": [{\"marker\": {\"colorbar\": {\"outlinewidth\": 0, \"ticks\": \"\"}}, \"type\": \"scattermapbox\"}], \"scatterpolar\": [{\"marker\": {\"colorbar\": {\"outlinewidth\": 0, \"ticks\": \"\"}}, \"type\": \"scatterpolar\"}], \"scatterpolargl\": [{\"marker\": {\"colorbar\": {\"outlinewidth\": 0, \"ticks\": \"\"}}, \"type\": \"scatterpolargl\"}], \"scatterternary\": [{\"marker\": {\"colorbar\": {\"outlinewidth\": 0, \"ticks\": \"\"}}, \"type\": \"scatterternary\"}], \"surface\": [{\"colorbar\": {\"outlinewidth\": 0, \"ticks\": \"\"}, \"type\": \"surface\"}], \"table\": [{\"cells\": {\"fill\": {\"color\": \"#EBF0F8\"}, \"line\": {\"color\": \"white\"}}, \"header\": {\"fill\": {\"color\": \"#C8D4E3\"}, \"line\": {\"color\": \"white\"}}, \"type\": \"table\"}]}, \"layout\": {\"annotationdefaults\": {\"arrowcolor\": \"#506784\", \"arrowhead\": 0, \"arrowwidth\": 1}, \"colorscale\": {\"diverging\": [[0, \"#8e0152\"], [0.1, \"#c51b7d\"], [0.2, \"#de77ae\"], [0.3, \"#f1b6da\"], [0.4, \"#fde0ef\"], [0.5, \"#f7f7f7\"], [0.6, \"#e6f5d0\"], [0.7, \"#b8e186\"], [0.8, \"#7fbc41\"], [0.9, \"#4d9221\"], [1, \"#276419\"]], \"sequential\": [[0.0, \"#0508b8\"], [0.0893854748603352, \"#1910d8\"], [0.1787709497206704, \"#3c19f0\"], [0.2681564245810056, \"#6b1cfb\"], [0.3575418994413408, \"#981cfd\"], [0.44692737430167595, \"#bf1cfd\"], [0.5363128491620112, \"#dd2bfd\"], [0.6256983240223464, \"#f246fe\"], [0.7150837988826816, \"#fc67fd\"], [0.8044692737430168, \"#fe88fc\"], [0.8938547486033519, \"#fea5fd\"], [0.9832402234636871, \"#febefe\"], [1.0, \"#fec3fe\"]], \"sequentialminus\": [[0.0, \"#0508b8\"], [0.0893854748603352, \"#1910d8\"], [0.1787709497206704, \"#3c19f0\"], [0.2681564245810056, \"#6b1cfb\"], [0.3575418994413408, \"#981cfd\"], [0.44692737430167595, \"#bf1cfd\"], [0.5363128491620112, \"#dd2bfd\"], [0.6256983240223464, \"#f246fe\"], [0.7150837988826816, \"#fc67fd\"], [0.8044692737430168, \"#fe88fc\"], [0.8938547486033519, \"#fea5fd\"], [0.9832402234636871, \"#febefe\"], [1.0, \"#fec3fe\"]]}, \"colorway\": [\"#636efa\", \"#EF553B\", \"#00cc96\", \"#ab63fa\", \"#19d3f3\", \"#e763fa\", \"#FECB52\", \"#FFA15A\", \"#FF6692\", \"#B6E880\"], \"font\": {\"color\": \"#2a3f5f\"}, \"geo\": {\"bgcolor\": \"white\", \"lakecolor\": \"white\", \"landcolor\": \"#E5ECF6\", \"showlakes\": true, \"showland\": true, \"subunitcolor\": \"white\"}, \"hoverlabel\": {\"align\": \"left\"}, \"hovermode\": \"closest\", \"mapbox\": {\"style\": \"light\"}, \"paper_bgcolor\": \"white\", \"plot_bgcolor\": \"#E5ECF6\", \"polar\": {\"angularaxis\": {\"gridcolor\": \"white\", \"linecolor\": \"white\", \"ticks\": \"\"}, \"bgcolor\": \"#E5ECF6\", \"radialaxis\": {\"gridcolor\": \"white\", \"linecolor\": \"white\", \"ticks\": \"\"}}, \"scene\": {\"xaxis\": {\"backgroundcolor\": \"#E5ECF6\", \"gridcolor\": \"white\", \"gridwidth\": 2, \"linecolor\": \"white\", \"showbackground\": true, \"ticks\": \"\", \"zerolinecolor\": \"white\"}, \"yaxis\": {\"backgroundcolor\": \"#E5ECF6\", \"gridcolor\": \"white\", \"gridwidth\": 2, \"linecolor\": \"white\", \"showbackground\": true, \"ticks\": \"\", \"zerolinecolor\": \"white\"}, \"zaxis\": {\"backgroundcolor\": \"#E5ECF6\", \"gridcolor\": \"white\", \"gridwidth\": 2, \"linecolor\": \"white\", \"showbackground\": true, \"ticks\": \"\", \"zerolinecolor\": \"white\"}}, \"shapedefaults\": {\"fillcolor\": \"#506784\", \"line\": {\"width\": 0}, \"opacity\": 0.4}, \"ternary\": {\"aaxis\": {\"gridcolor\": \"white\", \"linecolor\": \"white\", \"ticks\": \"\"}, \"baxis\": {\"gridcolor\": \"white\", \"linecolor\": \"white\", \"ticks\": \"\"}, \"bgcolor\": \"#E5ECF6\", \"caxis\": {\"gridcolor\": \"white\", \"linecolor\": \"white\", \"ticks\": \"\"}}, \"title\": {\"x\": 0.05}, \"xaxis\": {\"automargin\": true, \"gridcolor\": \"white\", \"linecolor\": \"white\", \"ticks\": \"\", \"zerolinecolor\": \"white\", \"zerolinewidth\": 2}, \"yaxis\": {\"automargin\": true, \"gridcolor\": \"white\", \"linecolor\": \"white\", \"ticks\": \"\", \"zerolinecolor\": \"white\", \"zerolinewidth\": 2}}}, \"updatemenus\": [{\"buttons\": [{\"args\": [null, {\"frame\": {\"duration\": 500, \"redraw\": false}, \"fromcurrent\": true, \"mode\": \"immediate\", \"transition\": {\"duration\": 500, \"easing\": \"linear\"}}], \"label\": \"&#9654;\", \"method\": \"animate\"}, {\"args\": [[null], {\"frame\": {\"duration\": 0, \"redraw\": false}, \"fromcurrent\": true, \"mode\": \"immediate\", \"transition\": {\"duration\": 0, \"easing\": \"linear\"}}], \"label\": \"&#9724;\", \"method\": \"animate\"}], \"direction\": \"left\", \"pad\": {\"r\": 10, \"t\": 70}, \"showactive\": false, \"type\": \"buttons\", \"x\": 0.1, \"xanchor\": \"right\", \"y\": 0, \"yanchor\": \"top\"}], \"xaxis\": {\"title\": {\"text\": \"alder\"}}, \"yaxis\": {\"range\": [-10000, 628848.0], \"title\": {\"text\": \"value\"}}},\n",
       "                        {\"showLink\": false, \"linkText\": \"Export to plot.ly\", \"plotlyServerURL\": \"https://plot.ly\", \"responsive\": true}\n",
       "                    ).then(function(){\n",
       "                            Plotly.addFrames('649da8fd-1de1-473b-8b1c-683293d27c64', [{\"data\": [{\"hoverlabel\": {\"namelength\": 0}, \"hovertemplate\": \"kj\\u00f8nn=Menn<br>kvartal=2000K2<br>alder=%{x}<br>value=%{y}\", \"legendgroup\": \"kj\\u00f8nn=Menn\", \"marker\": {\"color\": \"#636efa\", \"symbol\": \"circle\"}, \"mode\": \"markers\", \"name\": \"kj\\u00f8nn=Menn\", \"showlegend\": true, \"x\": [\"16-19 \\u00e5r\", \"20-24 \\u00e5r\", \"25-29 \\u00e5r\", \"30-34 \\u00e5r\", \"35-39 \\u00e5r\", \"40-44 \\u00e5r\", \"45-49 \\u00e5r\", \"50-54 \\u00e5r\", \"55-59 \\u00e5r\", \"60-64 \\u00e5r\", \"65-66 \\u00e5r\", \"67 \\u00e5r\", \"68 \\u00e5r\", \"69 \\u00e5r\"], \"xaxis\": \"x\", \"y\": [30110.0, 161571.0, 271988.0, 335583.0, 323696.0, 315352.0, 309718.0, 345277.0, 297388.0, 210614.0, 34727.0, 4769.0, 1266.0, 620.0], \"yaxis\": \"y\", \"type\": \"scatter\"}, {\"hoverlabel\": {\"namelength\": 0}, \"hovertemplate\": \"kj\\u00f8nn=Kvinner<br>kvartal=2000K2<br>alder=%{x}<br>value=%{y}\", \"legendgroup\": \"kj\\u00f8nn=Kvinner\", \"marker\": {\"color\": \"#EF553B\", \"symbol\": \"circle\"}, \"mode\": \"markers\", \"name\": \"kj\\u00f8nn=Kvinner\", \"showlegend\": true, \"x\": [\"16-19 \\u00e5r\", \"20-24 \\u00e5r\", \"25-29 \\u00e5r\", \"30-34 \\u00e5r\", \"35-39 \\u00e5r\", \"40-44 \\u00e5r\", \"45-49 \\u00e5r\", \"50-54 \\u00e5r\", \"55-59 \\u00e5r\", \"60-64 \\u00e5r\", \"65-66 \\u00e5r\", \"67 \\u00e5r\", \"68 \\u00e5r\", \"69 \\u00e5r\"], \"xaxis\": \"x\", \"y\": [29415.0, 187548.0, 358266.0, 425232.0, 389446.0, 391748.0, 398326.0, 409253.0, 315177.0, 198260.0, 31472.0, 3293.0, 931.0, 712.0], \"yaxis\": \"y\", \"type\": \"scatter\"}], \"name\": \"2000K2\"}, {\"data\": [{\"hoverlabel\": {\"namelength\": 0}, \"hovertemplate\": \"kj\\u00f8nn=Menn<br>kvartal=2000K3<br>alder=%{x}<br>value=%{y}\", \"legendgroup\": \"kj\\u00f8nn=Menn\", \"marker\": {\"color\": \"#636efa\", \"symbol\": \"circle\"}, \"mode\": \"markers\", \"name\": \"kj\\u00f8nn=Menn\", \"showlegend\": true, \"x\": [\"16-19 \\u00e5r\", \"20-24 \\u00e5r\", \"25-29 \\u00e5r\", \"30-34 \\u00e5r\", \"35-39 \\u00e5r\", \"40-44 \\u00e5r\", \"45-49 \\u00e5r\", \"50-54 \\u00e5r\", \"55-59 \\u00e5r\", \"60-64 \\u00e5r\", \"65-66 \\u00e5r\", \"67 \\u00e5r\", \"68 \\u00e5r\", \"69 \\u00e5r\"], \"xaxis\": \"x\", \"y\": [35788.0, 176718.0, 287752.0, 355911.0, 340815.0, 325198.0, 320725.0, 350708.0, 311717.0, 209826.0, 34624.0, 4813.0, 1036.0, 524.0], \"yaxis\": \"y\", \"type\": \"scatter\"}, {\"hoverlabel\": {\"namelength\": 0}, \"hovertemplate\": \"kj\\u00f8nn=Kvinner<br>kvartal=2000K3<br>alder=%{x}<br>value=%{y}\", \"legendgroup\": \"kj\\u00f8nn=Kvinner\", \"marker\": {\"color\": \"#EF553B\", \"symbol\": \"circle\"}, \"mode\": \"markers\", \"name\": \"kj\\u00f8nn=Kvinner\", \"showlegend\": true, \"x\": [\"16-19 \\u00e5r\", \"20-24 \\u00e5r\", \"25-29 \\u00e5r\", \"30-34 \\u00e5r\", \"35-39 \\u00e5r\", \"40-44 \\u00e5r\", \"45-49 \\u00e5r\", \"50-54 \\u00e5r\", \"55-59 \\u00e5r\", \"60-64 \\u00e5r\", \"65-66 \\u00e5r\", \"67 \\u00e5r\", \"68 \\u00e5r\", \"69 \\u00e5r\"], \"xaxis\": \"x\", \"y\": [31612.0, 196662.0, 358794.0, 419252.0, 387879.0, 376390.0, 386233.0, 404054.0, 321061.0, 198531.0, 32969.0, 3881.0, 717.0, 528.0], \"yaxis\": \"y\", \"type\": \"scatter\"}], \"name\": \"2000K3\"}, {\"data\": [{\"hoverlabel\": {\"namelength\": 0}, \"hovertemplate\": \"kj\\u00f8nn=Menn<br>kvartal=2000K4<br>alder=%{x}<br>value=%{y}\", \"legendgroup\": \"kj\\u00f8nn=Menn\", \"marker\": {\"color\": \"#636efa\", \"symbol\": \"circle\"}, \"mode\": \"markers\", \"name\": \"kj\\u00f8nn=Menn\", \"showlegend\": true, \"x\": [\"16-19 \\u00e5r\", \"20-24 \\u00e5r\", \"25-29 \\u00e5r\", \"30-34 \\u00e5r\", \"35-39 \\u00e5r\", \"40-44 \\u00e5r\", \"45-49 \\u00e5r\", \"50-54 \\u00e5r\", \"55-59 \\u00e5r\", \"60-64 \\u00e5r\", \"65-66 \\u00e5r\", \"67 \\u00e5r\", \"68 \\u00e5r\", \"69 \\u00e5r\"], \"xaxis\": \"x\", \"y\": [38823.0, 185752.0, 304614.0, 379017.0, 368678.0, 355395.0, 343191.0, 371790.0, 332657.0, 219346.0, 34656.0, 3965.0, 1323.0, 556.0], \"yaxis\": \"y\", \"type\": \"scatter\"}, {\"hoverlabel\": {\"namelength\": 0}, \"hovertemplate\": \"kj\\u00f8nn=Kvinner<br>kvartal=2000K4<br>alder=%{x}<br>value=%{y}\", \"legendgroup\": \"kj\\u00f8nn=Kvinner\", \"marker\": {\"color\": \"#EF553B\", \"symbol\": \"circle\"}, \"mode\": \"markers\", \"name\": \"kj\\u00f8nn=Kvinner\", \"showlegend\": true, \"x\": [\"16-19 \\u00e5r\", \"20-24 \\u00e5r\", \"25-29 \\u00e5r\", \"30-34 \\u00e5r\", \"35-39 \\u00e5r\", \"40-44 \\u00e5r\", \"45-49 \\u00e5r\", \"50-54 \\u00e5r\", \"55-59 \\u00e5r\", \"60-64 \\u00e5r\", \"65-66 \\u00e5r\", \"67 \\u00e5r\", \"68 \\u00e5r\", \"69 \\u00e5r\"], \"xaxis\": \"x\", \"y\": [37265.0, 215120.0, 415414.0, 487746.0, 454684.0, 443582.0, 443114.0, 455023.0, 362088.0, 207903.0, 33504.0, 3765.0, 1099.0, 601.0], \"yaxis\": \"y\", \"type\": \"scatter\"}], \"name\": \"2000K4\"}, {\"data\": [{\"hoverlabel\": {\"namelength\": 0}, \"hovertemplate\": \"kj\\u00f8nn=Menn<br>kvartal=2001K1<br>alder=%{x}<br>value=%{y}\", \"legendgroup\": \"kj\\u00f8nn=Menn\", \"marker\": {\"color\": \"#636efa\", \"symbol\": \"circle\"}, \"mode\": \"markers\", \"name\": \"kj\\u00f8nn=Menn\", \"showlegend\": true, \"x\": [\"16-19 \\u00e5r\", \"20-24 \\u00e5r\", \"25-29 \\u00e5r\", \"30-34 \\u00e5r\", \"35-39 \\u00e5r\", \"40-44 \\u00e5r\", \"45-49 \\u00e5r\", \"50-54 \\u00e5r\", \"55-59 \\u00e5r\", \"60-64 \\u00e5r\", \"65-66 \\u00e5r\", \"67 \\u00e5r\", \"68 \\u00e5r\", \"69 \\u00e5r\"], \"xaxis\": \"x\", \"y\": [41473.0, 200264.0, 320433.0, 406788.0, 403392.0, 380012.0, 370540.0, 392057.0, 365134.0, 231813.0, 36174.0, 4235.0, 1667.0, 707.0], \"yaxis\": \"y\", \"type\": \"scatter\"}, {\"hoverlabel\": {\"namelength\": 0}, \"hovertemplate\": \"kj\\u00f8nn=Kvinner<br>kvartal=2001K1<br>alder=%{x}<br>value=%{y}\", \"legendgroup\": \"kj\\u00f8nn=Kvinner\", \"marker\": {\"color\": \"#EF553B\", \"symbol\": \"circle\"}, \"mode\": \"markers\", \"name\": \"kj\\u00f8nn=Kvinner\", \"showlegend\": true, \"x\": [\"16-19 \\u00e5r\", \"20-24 \\u00e5r\", \"25-29 \\u00e5r\", \"30-34 \\u00e5r\", \"35-39 \\u00e5r\", \"40-44 \\u00e5r\", \"45-49 \\u00e5r\", \"50-54 \\u00e5r\", \"55-59 \\u00e5r\", \"60-64 \\u00e5r\", \"65-66 \\u00e5r\", \"67 \\u00e5r\", \"68 \\u00e5r\", \"69 \\u00e5r\"], \"xaxis\": \"x\", \"y\": [37852.0, 226715.0, 432469.0, 528099.0, 482900.0, 472940.0, 473163.0, 478289.0, 398165.0, 223202.0, 34773.0, 4414.0, 1442.0, 746.0], \"yaxis\": \"y\", \"type\": \"scatter\"}], \"name\": \"2001K1\"}, {\"data\": [{\"hoverlabel\": {\"namelength\": 0}, \"hovertemplate\": \"kj\\u00f8nn=Menn<br>kvartal=2001K2<br>alder=%{x}<br>value=%{y}\", \"legendgroup\": \"kj\\u00f8nn=Menn\", \"marker\": {\"color\": \"#636efa\", \"symbol\": \"circle\"}, \"mode\": \"markers\", \"name\": \"kj\\u00f8nn=Menn\", \"showlegend\": true, \"x\": [\"16-19 \\u00e5r\", \"20-24 \\u00e5r\", \"25-29 \\u00e5r\", \"30-34 \\u00e5r\", \"35-39 \\u00e5r\", \"40-44 \\u00e5r\", \"45-49 \\u00e5r\", \"50-54 \\u00e5r\", \"55-59 \\u00e5r\", \"60-64 \\u00e5r\", \"65-66 \\u00e5r\", \"67 \\u00e5r\", \"68 \\u00e5r\", \"69 \\u00e5r\"], \"xaxis\": \"x\", \"y\": [31856.0, 167908.0, 261444.0, 324159.0, 334227.0, 315784.0, 312382.0, 333500.0, 316999.0, 200850.0, 30729.0, 2954.0, 1550.0, 933.0], \"yaxis\": \"y\", \"type\": \"scatter\"}, {\"hoverlabel\": {\"namelength\": 0}, \"hovertemplate\": \"kj\\u00f8nn=Kvinner<br>kvartal=2001K2<br>alder=%{x}<br>value=%{y}\", \"legendgroup\": \"kj\\u00f8nn=Kvinner\", \"marker\": {\"color\": \"#EF553B\", \"symbol\": \"circle\"}, \"mode\": \"markers\", \"name\": \"kj\\u00f8nn=Kvinner\", \"showlegend\": true, \"x\": [\"16-19 \\u00e5r\", \"20-24 \\u00e5r\", \"25-29 \\u00e5r\", \"30-34 \\u00e5r\", \"35-39 \\u00e5r\", \"40-44 \\u00e5r\", \"45-49 \\u00e5r\", \"50-54 \\u00e5r\", \"55-59 \\u00e5r\", \"60-64 \\u00e5r\", \"65-66 \\u00e5r\", \"67 \\u00e5r\", \"68 \\u00e5r\", \"69 \\u00e5r\"], \"xaxis\": \"x\", \"y\": [29595.0, 185202.0, 352959.0, 434921.0, 407662.0, 395156.0, 406817.0, 406325.0, 346505.0, 190684.0, 30248.0, 3724.0, 905.0, 1041.0], \"yaxis\": \"y\", \"type\": \"scatter\"}], \"name\": \"2001K2\"}, {\"data\": [{\"hoverlabel\": {\"namelength\": 0}, \"hovertemplate\": \"kj\\u00f8nn=Menn<br>kvartal=2001K3<br>alder=%{x}<br>value=%{y}\", \"legendgroup\": \"kj\\u00f8nn=Menn\", \"marker\": {\"color\": \"#636efa\", \"symbol\": \"circle\"}, \"mode\": \"markers\", \"name\": \"kj\\u00f8nn=Menn\", \"showlegend\": true, \"x\": [\"16-19 \\u00e5r\", \"20-24 \\u00e5r\", \"25-29 \\u00e5r\", \"30-34 \\u00e5r\", \"35-39 \\u00e5r\", \"40-44 \\u00e5r\", \"45-49 \\u00e5r\", \"50-54 \\u00e5r\", \"55-59 \\u00e5r\", \"60-64 \\u00e5r\", \"65-66 \\u00e5r\", \"67 \\u00e5r\", \"68 \\u00e5r\", \"69 \\u00e5r\"], \"xaxis\": \"x\", \"y\": [37186.0, 192478.0, 293117.0, 368063.0, 369183.0, 346409.0, 343491.0, 354890.0, 343405.0, 214643.0, 34341.0, 3964.0, 1665.0, 990.0], \"yaxis\": \"y\", \"type\": \"scatter\"}, {\"hoverlabel\": {\"namelength\": 0}, \"hovertemplate\": \"kj\\u00f8nn=Kvinner<br>kvartal=2001K3<br>alder=%{x}<br>value=%{y}\", \"legendgroup\": \"kj\\u00f8nn=Kvinner\", \"marker\": {\"color\": \"#EF553B\", \"symbol\": \"circle\"}, \"mode\": \"markers\", \"name\": \"kj\\u00f8nn=Kvinner\", \"showlegend\": true, \"x\": [\"16-19 \\u00e5r\", \"20-24 \\u00e5r\", \"25-29 \\u00e5r\", \"30-34 \\u00e5r\", \"35-39 \\u00e5r\", \"40-44 \\u00e5r\", \"45-49 \\u00e5r\", \"50-54 \\u00e5r\", \"55-59 \\u00e5r\", \"60-64 \\u00e5r\", \"65-66 \\u00e5r\", \"67 \\u00e5r\", \"68 \\u00e5r\", \"69 \\u00e5r\"], \"xaxis\": \"x\", \"y\": [33911.0, 208271.0, 370185.0, 446724.0, 406300.0, 388546.0, 404292.0, 404596.0, 354820.0, 199194.0, 32892.0, 4279.0, 826.0, 1024.0], \"yaxis\": \"y\", \"type\": \"scatter\"}], \"name\": \"2001K3\"}, {\"data\": [{\"hoverlabel\": {\"namelength\": 0}, \"hovertemplate\": \"kj\\u00f8nn=Menn<br>kvartal=2001K4<br>alder=%{x}<br>value=%{y}\", \"legendgroup\": \"kj\\u00f8nn=Menn\", \"marker\": {\"color\": \"#636efa\", \"symbol\": \"circle\"}, \"mode\": \"markers\", \"name\": \"kj\\u00f8nn=Menn\", \"showlegend\": true, \"x\": [\"16-19 \\u00e5r\", \"20-24 \\u00e5r\", \"25-29 \\u00e5r\", \"30-34 \\u00e5r\", \"35-39 \\u00e5r\", \"40-44 \\u00e5r\", \"45-49 \\u00e5r\", \"50-54 \\u00e5r\", \"55-59 \\u00e5r\", \"60-64 \\u00e5r\", \"65-66 \\u00e5r\", \"67 \\u00e5r\", \"68 \\u00e5r\", \"69 \\u00e5r\"], \"xaxis\": \"x\", \"y\": [40958.0, 202142.0, 309385.0, 406490.0, 407660.0, 380431.0, 377268.0, 385557.0, 376822.0, 227714.0, 36659.0, 4022.0, 1413.0, 1193.0], \"yaxis\": \"y\", \"type\": \"scatter\"}, {\"hoverlabel\": {\"namelength\": 0}, \"hovertemplate\": \"kj\\u00f8nn=Kvinner<br>kvartal=2001K4<br>alder=%{x}<br>value=%{y}\", \"legendgroup\": \"kj\\u00f8nn=Kvinner\", \"marker\": {\"color\": \"#EF553B\", \"symbol\": \"circle\"}, \"mode\": \"markers\", \"name\": \"kj\\u00f8nn=Kvinner\", \"showlegend\": true, \"x\": [\"16-19 \\u00e5r\", \"20-24 \\u00e5r\", \"25-29 \\u00e5r\", \"30-34 \\u00e5r\", \"35-39 \\u00e5r\", \"40-44 \\u00e5r\", \"45-49 \\u00e5r\", \"50-54 \\u00e5r\", \"55-59 \\u00e5r\", \"60-64 \\u00e5r\", \"65-66 \\u00e5r\", \"67 \\u00e5r\", \"68 \\u00e5r\", \"69 \\u00e5r\"], \"xaxis\": \"x\", \"y\": [37783.0, 225062.0, 423125.0, 531192.0, 492724.0, 464756.0, 480109.0, 463640.0, 405686.0, 220231.0, 34470.0, 3727.0, 1097.0, 1226.0], \"yaxis\": \"y\", \"type\": \"scatter\"}], \"name\": \"2001K4\"}, {\"data\": [{\"hoverlabel\": {\"namelength\": 0}, \"hovertemplate\": \"kj\\u00f8nn=Menn<br>kvartal=2002K1<br>alder=%{x}<br>value=%{y}\", \"legendgroup\": \"kj\\u00f8nn=Menn\", \"marker\": {\"color\": \"#636efa\", \"symbol\": \"circle\"}, \"mode\": \"markers\", \"name\": \"kj\\u00f8nn=Menn\", \"showlegend\": true, \"x\": [\"16-19 \\u00e5r\", \"20-24 \\u00e5r\", \"25-29 \\u00e5r\", \"30-34 \\u00e5r\", \"35-39 \\u00e5r\", \"40-44 \\u00e5r\", \"45-49 \\u00e5r\", \"50-54 \\u00e5r\", \"55-59 \\u00e5r\", \"60-64 \\u00e5r\", \"65-66 \\u00e5r\", \"67 \\u00e5r\", \"68 \\u00e5r\", \"69 \\u00e5r\"], \"xaxis\": \"x\", \"y\": [38368.0, 196728.0, 298748.0, 399806.0, 405263.0, 382740.0, 367384.0, 384235.0, 378193.0, 226914.0, 37857.0, 4852.0, 1333.0, 1130.0], \"yaxis\": \"y\", \"type\": \"scatter\"}, {\"hoverlabel\": {\"namelength\": 0}, \"hovertemplate\": \"kj\\u00f8nn=Kvinner<br>kvartal=2002K1<br>alder=%{x}<br>value=%{y}\", \"legendgroup\": \"kj\\u00f8nn=Kvinner\", \"marker\": {\"color\": \"#EF553B\", \"symbol\": \"circle\"}, \"mode\": \"markers\", \"name\": \"kj\\u00f8nn=Kvinner\", \"showlegend\": true, \"x\": [\"16-19 \\u00e5r\", \"20-24 \\u00e5r\", \"25-29 \\u00e5r\", \"30-34 \\u00e5r\", \"35-39 \\u00e5r\", \"40-44 \\u00e5r\", \"45-49 \\u00e5r\", \"50-54 \\u00e5r\", \"55-59 \\u00e5r\", \"60-64 \\u00e5r\", \"65-66 \\u00e5r\", \"67 \\u00e5r\", \"68 \\u00e5r\", \"69 \\u00e5r\"], \"xaxis\": \"x\", \"y\": [35382.0, 220828.0, 415196.0, 532415.0, 495612.0, 458530.0, 474016.0, 461007.0, 415373.0, 223110.0, 35246.0, 3790.0, 1449.0, 1090.0], \"yaxis\": \"y\", \"type\": \"scatter\"}], \"name\": \"2002K1\"}, {\"data\": [{\"hoverlabel\": {\"namelength\": 0}, \"hovertemplate\": \"kj\\u00f8nn=Menn<br>kvartal=2002K2<br>alder=%{x}<br>value=%{y}\", \"legendgroup\": \"kj\\u00f8nn=Menn\", \"marker\": {\"color\": \"#636efa\", \"symbol\": \"circle\"}, \"mode\": \"markers\", \"name\": \"kj\\u00f8nn=Menn\", \"showlegend\": true, \"x\": [\"16-19 \\u00e5r\", \"20-24 \\u00e5r\", \"25-29 \\u00e5r\", \"30-34 \\u00e5r\", \"35-39 \\u00e5r\", \"40-44 \\u00e5r\", \"45-49 \\u00e5r\", \"50-54 \\u00e5r\", \"55-59 \\u00e5r\", \"60-64 \\u00e5r\", \"65-66 \\u00e5r\", \"67 \\u00e5r\", \"68 \\u00e5r\", \"69 \\u00e5r\"], \"xaxis\": \"x\", \"y\": [34408.0, 182360.0, 268001.0, 362047.0, 375452.0, 349433.0, 341832.0, 354153.0, 362692.0, 218081.0, 35634.0, 4185.0, 1366.0, 933.0], \"yaxis\": \"y\", \"type\": \"scatter\"}, {\"hoverlabel\": {\"namelength\": 0}, \"hovertemplate\": \"kj\\u00f8nn=Kvinner<br>kvartal=2002K2<br>alder=%{x}<br>value=%{y}\", \"legendgroup\": \"kj\\u00f8nn=Kvinner\", \"marker\": {\"color\": \"#EF553B\", \"symbol\": \"circle\"}, \"mode\": \"markers\", \"name\": \"kj\\u00f8nn=Kvinner\", \"showlegend\": true, \"x\": [\"16-19 \\u00e5r\", \"20-24 \\u00e5r\", \"25-29 \\u00e5r\", \"30-34 \\u00e5r\", \"35-39 \\u00e5r\", \"40-44 \\u00e5r\", \"45-49 \\u00e5r\", \"50-54 \\u00e5r\", \"55-59 \\u00e5r\", \"60-64 \\u00e5r\", \"65-66 \\u00e5r\", \"67 \\u00e5r\", \"68 \\u00e5r\", \"69 \\u00e5r\"], \"xaxis\": \"x\", \"y\": [29993.0, 204024.0, 375967.0, 485582.0, 465129.0, 428932.0, 444385.0, 420764.0, 391708.0, 212154.0, 32373.0, 3920.0, 1027.0, 929.0], \"yaxis\": \"y\", \"type\": \"scatter\"}], \"name\": \"2002K2\"}, {\"data\": [{\"hoverlabel\": {\"namelength\": 0}, \"hovertemplate\": \"kj\\u00f8nn=Menn<br>kvartal=2002K3<br>alder=%{x}<br>value=%{y}\", \"legendgroup\": \"kj\\u00f8nn=Menn\", \"marker\": {\"color\": \"#636efa\", \"symbol\": \"circle\"}, \"mode\": \"markers\", \"name\": \"kj\\u00f8nn=Menn\", \"showlegend\": true, \"x\": [\"16-19 \\u00e5r\", \"20-24 \\u00e5r\", \"25-29 \\u00e5r\", \"30-34 \\u00e5r\", \"35-39 \\u00e5r\", \"40-44 \\u00e5r\", \"45-49 \\u00e5r\", \"50-54 \\u00e5r\", \"55-59 \\u00e5r\", \"60-64 \\u00e5r\", \"65-66 \\u00e5r\", \"67 \\u00e5r\", \"68 \\u00e5r\", \"69 \\u00e5r\"], \"xaxis\": \"x\", \"y\": [36962.0, 196953.0, 289802.0, 386273.0, 395542.0, 365123.0, 357094.0, 363428.0, 376368.0, 227551.0, 36710.0, 5001.0, 1195.0, 956.0], \"yaxis\": \"y\", \"type\": \"scatter\"}, {\"hoverlabel\": {\"namelength\": 0}, \"hovertemplate\": \"kj\\u00f8nn=Kvinner<br>kvartal=2002K3<br>alder=%{x}<br>value=%{y}\", \"legendgroup\": \"kj\\u00f8nn=Kvinner\", \"marker\": {\"color\": \"#EF553B\", \"symbol\": \"circle\"}, \"mode\": \"markers\", \"name\": \"kj\\u00f8nn=Kvinner\", \"showlegend\": true, \"x\": [\"16-19 \\u00e5r\", \"20-24 \\u00e5r\", \"25-29 \\u00e5r\", \"30-34 \\u00e5r\", \"35-39 \\u00e5r\", \"40-44 \\u00e5r\", \"45-49 \\u00e5r\", \"50-54 \\u00e5r\", \"55-59 \\u00e5r\", \"60-64 \\u00e5r\", \"65-66 \\u00e5r\", \"67 \\u00e5r\", \"68 \\u00e5r\", \"69 \\u00e5r\"], \"xaxis\": \"x\", \"y\": [31476.0, 215775.0, 378300.0, 477875.0, 448917.0, 407095.0, 423891.0, 401711.0, 383614.0, 217282.0, 34569.0, 3940.0, 1001.0, 903.0], \"yaxis\": \"y\", \"type\": \"scatter\"}], \"name\": \"2002K3\"}, {\"data\": [{\"hoverlabel\": {\"namelength\": 0}, \"hovertemplate\": \"kj\\u00f8nn=Menn<br>kvartal=2002K4<br>alder=%{x}<br>value=%{y}\", \"legendgroup\": \"kj\\u00f8nn=Menn\", \"marker\": {\"color\": \"#636efa\", \"symbol\": \"circle\"}, \"mode\": \"markers\", \"name\": \"kj\\u00f8nn=Menn\", \"showlegend\": true, \"x\": [\"16-19 \\u00e5r\", \"20-24 \\u00e5r\", \"25-29 \\u00e5r\", \"30-34 \\u00e5r\", \"35-39 \\u00e5r\", \"40-44 \\u00e5r\", \"45-49 \\u00e5r\", \"50-54 \\u00e5r\", \"55-59 \\u00e5r\", \"60-64 \\u00e5r\", \"65-66 \\u00e5r\", \"67 \\u00e5r\", \"68 \\u00e5r\", \"69 \\u00e5r\"], \"xaxis\": \"x\", \"y\": [38143.0, 204666.0, 309287.0, 422942.0, 444835.0, 411284.0, 391675.0, 399657.0, 416556.0, 241953.0, 38407.0, 4380.0, 1270.0, 1358.0], \"yaxis\": \"y\", \"type\": \"scatter\"}, {\"hoverlabel\": {\"namelength\": 0}, \"hovertemplate\": \"kj\\u00f8nn=Kvinner<br>kvartal=2002K4<br>alder=%{x}<br>value=%{y}\", \"legendgroup\": \"kj\\u00f8nn=Kvinner\", \"marker\": {\"color\": \"#EF553B\", \"symbol\": \"circle\"}, \"mode\": \"markers\", \"name\": \"kj\\u00f8nn=Kvinner\", \"showlegend\": true, \"x\": [\"16-19 \\u00e5r\", \"20-24 \\u00e5r\", \"25-29 \\u00e5r\", \"30-34 \\u00e5r\", \"35-39 \\u00e5r\", \"40-44 \\u00e5r\", \"45-49 \\u00e5r\", \"50-54 \\u00e5r\", \"55-59 \\u00e5r\", \"60-64 \\u00e5r\", \"65-66 \\u00e5r\", \"67 \\u00e5r\", \"68 \\u00e5r\", \"69 \\u00e5r\"], \"xaxis\": \"x\", \"y\": [33875.0, 235741.0, 439116.0, 565403.0, 536879.0, 488547.0, 501270.0, 476814.0, 438751.0, 240583.0, 35564.0, 4211.0, 1207.0, 717.0], \"yaxis\": \"y\", \"type\": \"scatter\"}], \"name\": \"2002K4\"}, {\"data\": [{\"hoverlabel\": {\"namelength\": 0}, \"hovertemplate\": \"kj\\u00f8nn=Menn<br>kvartal=2003K1<br>alder=%{x}<br>value=%{y}\", \"legendgroup\": \"kj\\u00f8nn=Menn\", \"marker\": {\"color\": \"#636efa\", \"symbol\": \"circle\"}, \"mode\": \"markers\", \"name\": \"kj\\u00f8nn=Menn\", \"showlegend\": true, \"x\": [\"16-19 \\u00e5r\", \"20-24 \\u00e5r\", \"25-29 \\u00e5r\", \"30-34 \\u00e5r\", \"35-39 \\u00e5r\", \"40-44 \\u00e5r\", \"45-49 \\u00e5r\", \"50-54 \\u00e5r\", \"55-59 \\u00e5r\", \"60-64 \\u00e5r\", \"65-66 \\u00e5r\", \"67 \\u00e5r\", \"68 \\u00e5r\", \"69 \\u00e5r\"], \"xaxis\": \"x\", \"y\": [37133.0, 204742.0, 301583.0, 425263.0, 459292.0, 418340.0, 404771.0, 407364.0, 426845.0, 246715.0, 38828.0, 4620.0, 1405.0, 1010.0], \"yaxis\": \"y\", \"type\": \"scatter\"}, {\"hoverlabel\": {\"namelength\": 0}, \"hovertemplate\": \"kj\\u00f8nn=Kvinner<br>kvartal=2003K1<br>alder=%{x}<br>value=%{y}\", \"legendgroup\": \"kj\\u00f8nn=Kvinner\", \"marker\": {\"color\": \"#EF553B\", \"symbol\": \"circle\"}, \"mode\": \"markers\", \"name\": \"kj\\u00f8nn=Kvinner\", \"showlegend\": true, \"x\": [\"16-19 \\u00e5r\", \"20-24 \\u00e5r\", \"25-29 \\u00e5r\", \"30-34 \\u00e5r\", \"35-39 \\u00e5r\", \"40-44 \\u00e5r\", \"45-49 \\u00e5r\", \"50-54 \\u00e5r\", \"55-59 \\u00e5r\", \"60-64 \\u00e5r\", \"65-66 \\u00e5r\", \"67 \\u00e5r\", \"68 \\u00e5r\", \"69 \\u00e5r\"], \"xaxis\": \"x\", \"y\": [34370.0, 234253.0, 436884.0, 583718.0, 536733.0, 504700.0, 515689.0, 488165.0, 450970.0, 248340.0, 37295.0, 4620.0, 1430.0, 1102.0], \"yaxis\": \"y\", \"type\": \"scatter\"}], \"name\": \"2003K1\"}, {\"data\": [{\"hoverlabel\": {\"namelength\": 0}, \"hovertemplate\": \"kj\\u00f8nn=Menn<br>kvartal=2003K2<br>alder=%{x}<br>value=%{y}\", \"legendgroup\": \"kj\\u00f8nn=Menn\", \"marker\": {\"color\": \"#636efa\", \"symbol\": \"circle\"}, \"mode\": \"markers\", \"name\": \"kj\\u00f8nn=Menn\", \"showlegend\": true, \"x\": [\"16-19 \\u00e5r\", \"20-24 \\u00e5r\", \"25-29 \\u00e5r\", \"30-34 \\u00e5r\", \"35-39 \\u00e5r\", \"40-44 \\u00e5r\", \"45-49 \\u00e5r\", \"50-54 \\u00e5r\", \"55-59 \\u00e5r\", \"60-64 \\u00e5r\", \"65-66 \\u00e5r\", \"67 \\u00e5r\", \"68 \\u00e5r\", \"69 \\u00e5r\"], \"xaxis\": \"x\", \"y\": [31011.0, 172622.0, 262809.0, 365983.0, 402054.0, 370799.0, 364431.0, 361186.0, 393642.0, 227013.0, 37239.0, 4759.0, 1026.0, 765.0], \"yaxis\": \"y\", \"type\": \"scatter\"}, {\"hoverlabel\": {\"namelength\": 0}, \"hovertemplate\": \"kj\\u00f8nn=Kvinner<br>kvartal=2003K2<br>alder=%{x}<br>value=%{y}\", \"legendgroup\": \"kj\\u00f8nn=Kvinner\", \"marker\": {\"color\": \"#EF553B\", \"symbol\": \"circle\"}, \"mode\": \"markers\", \"name\": \"kj\\u00f8nn=Kvinner\", \"showlegend\": true, \"x\": [\"16-19 \\u00e5r\", \"20-24 \\u00e5r\", \"25-29 \\u00e5r\", \"30-34 \\u00e5r\", \"35-39 \\u00e5r\", \"40-44 \\u00e5r\", \"45-49 \\u00e5r\", \"50-54 \\u00e5r\", \"55-59 \\u00e5r\", \"60-64 \\u00e5r\", \"65-66 \\u00e5r\", \"67 \\u00e5r\", \"68 \\u00e5r\", \"69 \\u00e5r\"], \"xaxis\": \"x\", \"y\": [28413.0, 206019.0, 389108.0, 519740.0, 498750.0, 458230.0, 463771.0, 441592.0, 413216.0, 233920.0, 36605.0, 4541.0, 1212.0, 1236.0], \"yaxis\": \"y\", \"type\": \"scatter\"}], \"name\": \"2003K2\"}, {\"data\": [{\"hoverlabel\": {\"namelength\": 0}, \"hovertemplate\": \"kj\\u00f8nn=Menn<br>kvartal=2003K3<br>alder=%{x}<br>value=%{y}\", \"legendgroup\": \"kj\\u00f8nn=Menn\", \"marker\": {\"color\": \"#636efa\", \"symbol\": \"circle\"}, \"mode\": \"markers\", \"name\": \"kj\\u00f8nn=Menn\", \"showlegend\": true, \"x\": [\"16-19 \\u00e5r\", \"20-24 \\u00e5r\", \"25-29 \\u00e5r\", \"30-34 \\u00e5r\", \"35-39 \\u00e5r\", \"40-44 \\u00e5r\", \"45-49 \\u00e5r\", \"50-54 \\u00e5r\", \"55-59 \\u00e5r\", \"60-64 \\u00e5r\", \"65-66 \\u00e5r\", \"67 \\u00e5r\", \"68 \\u00e5r\", \"69 \\u00e5r\"], \"xaxis\": \"x\", \"y\": [33564.0, 180939.0, 277127.0, 385672.0, 416762.0, 384187.0, 371588.0, 385313.0, 419707.0, 241195.0, 39764.0, 4953.0, 1264.0, 814.0], \"yaxis\": \"y\", \"type\": \"scatter\"}, {\"hoverlabel\": {\"namelength\": 0}, \"hovertemplate\": \"kj\\u00f8nn=Kvinner<br>kvartal=2003K3<br>alder=%{x}<br>value=%{y}\", \"legendgroup\": \"kj\\u00f8nn=Kvinner\", \"marker\": {\"color\": \"#EF553B\", \"symbol\": \"circle\"}, \"mode\": \"markers\", \"name\": \"kj\\u00f8nn=Kvinner\", \"showlegend\": true, \"x\": [\"16-19 \\u00e5r\", \"20-24 \\u00e5r\", \"25-29 \\u00e5r\", \"30-34 \\u00e5r\", \"35-39 \\u00e5r\", \"40-44 \\u00e5r\", \"45-49 \\u00e5r\", \"50-54 \\u00e5r\", \"55-59 \\u00e5r\", \"60-64 \\u00e5r\", \"65-66 \\u00e5r\", \"67 \\u00e5r\", \"68 \\u00e5r\", \"69 \\u00e5r\"], \"xaxis\": \"x\", \"y\": [31580.0, 210595.0, 382797.0, 498563.0, 473114.0, 429967.0, 445270.0, 425348.0, 412864.0, 240658.0, 41450.0, 4804.0, 1436.0, 1051.0], \"yaxis\": \"y\", \"type\": \"scatter\"}], \"name\": \"2003K3\"}, {\"data\": [{\"hoverlabel\": {\"namelength\": 0}, \"hovertemplate\": \"kj\\u00f8nn=Menn<br>kvartal=2003K4<br>alder=%{x}<br>value=%{y}\", \"legendgroup\": \"kj\\u00f8nn=Menn\", \"marker\": {\"color\": \"#636efa\", \"symbol\": \"circle\"}, \"mode\": \"markers\", \"name\": \"kj\\u00f8nn=Menn\", \"showlegend\": true, \"x\": [\"16-19 \\u00e5r\", \"20-24 \\u00e5r\", \"25-29 \\u00e5r\", \"30-34 \\u00e5r\", \"35-39 \\u00e5r\", \"40-44 \\u00e5r\", \"45-49 \\u00e5r\", \"50-54 \\u00e5r\", \"55-59 \\u00e5r\", \"60-64 \\u00e5r\", \"65-66 \\u00e5r\", \"67 \\u00e5r\", \"68 \\u00e5r\", \"69 \\u00e5r\"], \"xaxis\": \"x\", \"y\": [35554.0, 196466.0, 305125.0, 430861.0, 471327.0, 433172.0, 414880.0, 424640.0, 453512.0, 270704.0, 42668.0, 5396.0, 1183.0, 872.0], \"yaxis\": \"y\", \"type\": \"scatter\"}, {\"hoverlabel\": {\"namelength\": 0}, \"hovertemplate\": \"kj\\u00f8nn=Kvinner<br>kvartal=2003K4<br>alder=%{x}<br>value=%{y}\", \"legendgroup\": \"kj\\u00f8nn=Kvinner\", \"marker\": {\"color\": \"#EF553B\", \"symbol\": \"circle\"}, \"mode\": \"markers\", \"name\": \"kj\\u00f8nn=Kvinner\", \"showlegend\": true, \"x\": [\"16-19 \\u00e5r\", \"20-24 \\u00e5r\", \"25-29 \\u00e5r\", \"30-34 \\u00e5r\", \"35-39 \\u00e5r\", \"40-44 \\u00e5r\", \"45-49 \\u00e5r\", \"50-54 \\u00e5r\", \"55-59 \\u00e5r\", \"60-64 \\u00e5r\", \"65-66 \\u00e5r\", \"67 \\u00e5r\", \"68 \\u00e5r\", \"69 \\u00e5r\"], \"xaxis\": \"x\", \"y\": [34017.0, 226809.0, 443378.0, 591350.0, 575487.0, 525620.0, 535730.0, 497261.0, 479223.0, 275985.0, 44676.0, 4741.0, 1805.0, 1232.0], \"yaxis\": \"y\", \"type\": \"scatter\"}], \"name\": \"2003K4\"}, {\"data\": [{\"hoverlabel\": {\"namelength\": 0}, \"hovertemplate\": \"kj\\u00f8nn=Menn<br>kvartal=2004K1<br>alder=%{x}<br>value=%{y}\", \"legendgroup\": \"kj\\u00f8nn=Menn\", \"marker\": {\"color\": \"#636efa\", \"symbol\": \"circle\"}, \"mode\": \"markers\", \"name\": \"kj\\u00f8nn=Menn\", \"showlegend\": true, \"x\": [\"16-19 \\u00e5r\", \"20-24 \\u00e5r\", \"25-29 \\u00e5r\", \"30-34 \\u00e5r\", \"35-39 \\u00e5r\", \"40-44 \\u00e5r\", \"45-49 \\u00e5r\", \"50-54 \\u00e5r\", \"55-59 \\u00e5r\", \"60-64 \\u00e5r\", \"65-66 \\u00e5r\", \"67 \\u00e5r\", \"68 \\u00e5r\", \"69 \\u00e5r\"], \"xaxis\": \"x\", \"y\": [33488.0, 178013.0, 282244.0, 400259.0, 449443.0, 413052.0, 399095.0, 411898.0, 438938.0, 267683.0, 43626.0, 5483.0, 1480.0, 975.0], \"yaxis\": \"y\", \"type\": \"scatter\"}, {\"hoverlabel\": {\"namelength\": 0}, \"hovertemplate\": \"kj\\u00f8nn=Kvinner<br>kvartal=2004K1<br>alder=%{x}<br>value=%{y}\", \"legendgroup\": \"kj\\u00f8nn=Kvinner\", \"marker\": {\"color\": \"#EF553B\", \"symbol\": \"circle\"}, \"mode\": \"markers\", \"name\": \"kj\\u00f8nn=Kvinner\", \"showlegend\": true, \"x\": [\"16-19 \\u00e5r\", \"20-24 \\u00e5r\", \"25-29 \\u00e5r\", \"30-34 \\u00e5r\", \"35-39 \\u00e5r\", \"40-44 \\u00e5r\", \"45-49 \\u00e5r\", \"50-54 \\u00e5r\", \"55-59 \\u00e5r\", \"60-64 \\u00e5r\", \"65-66 \\u00e5r\", \"67 \\u00e5r\", \"68 \\u00e5r\", \"69 \\u00e5r\"], \"xaxis\": \"x\", \"y\": [30682.0, 212886.0, 416805.0, 567741.0, 548444.0, 500784.0, 518912.0, 487148.0, 470146.0, 282157.0, 45086.0, 4673.0, 1551.0, 1553.0], \"yaxis\": \"y\", \"type\": \"scatter\"}], \"name\": \"2004K1\"}, {\"data\": [{\"hoverlabel\": {\"namelength\": 0}, \"hovertemplate\": \"kj\\u00f8nn=Menn<br>kvartal=2004K2<br>alder=%{x}<br>value=%{y}\", \"legendgroup\": \"kj\\u00f8nn=Menn\", \"marker\": {\"color\": \"#636efa\", \"symbol\": \"circle\"}, \"mode\": \"markers\", \"name\": \"kj\\u00f8nn=Menn\", \"showlegend\": true, \"x\": [\"16-19 \\u00e5r\", \"20-24 \\u00e5r\", \"25-29 \\u00e5r\", \"30-34 \\u00e5r\", \"35-39 \\u00e5r\", \"40-44 \\u00e5r\", \"45-49 \\u00e5r\", \"50-54 \\u00e5r\", \"55-59 \\u00e5r\", \"60-64 \\u00e5r\", \"65-66 \\u00e5r\", \"67 \\u00e5r\", \"68 \\u00e5r\", \"69 \\u00e5r\"], \"xaxis\": \"x\", \"y\": [25878.0, 142404.0, 222614.0, 313386.0, 359248.0, 335429.0, 321840.0, 328654.0, 357622.0, 222725.0, 36522.0, 4357.0, 935.0, 965.0], \"yaxis\": \"y\", \"type\": \"scatter\"}, {\"hoverlabel\": {\"namelength\": 0}, \"hovertemplate\": \"kj\\u00f8nn=Kvinner<br>kvartal=2004K2<br>alder=%{x}<br>value=%{y}\", \"legendgroup\": \"kj\\u00f8nn=Kvinner\", \"marker\": {\"color\": \"#EF553B\", \"symbol\": \"circle\"}, \"mode\": \"markers\", \"name\": \"kj\\u00f8nn=Kvinner\", \"showlegend\": true, \"x\": [\"16-19 \\u00e5r\", \"20-24 \\u00e5r\", \"25-29 \\u00e5r\", \"30-34 \\u00e5r\", \"35-39 \\u00e5r\", \"40-44 \\u00e5r\", \"45-49 \\u00e5r\", \"50-54 \\u00e5r\", \"55-59 \\u00e5r\", \"60-64 \\u00e5r\", \"65-66 \\u00e5r\", \"67 \\u00e5r\", \"68 \\u00e5r\", \"69 \\u00e5r\"], \"xaxis\": \"x\", \"y\": [24548.0, 175028.0, 343686.0, 463182.0, 463569.0, 418929.0, 429503.0, 404825.0, 388937.0, 242166.0, 38485.0, 4482.0, 1518.0, 793.0], \"yaxis\": \"y\", \"type\": \"scatter\"}], \"name\": \"2004K2\"}, {\"data\": [{\"hoverlabel\": {\"namelength\": 0}, \"hovertemplate\": \"kj\\u00f8nn=Menn<br>kvartal=2004K3<br>alder=%{x}<br>value=%{y}\", \"legendgroup\": \"kj\\u00f8nn=Menn\", \"marker\": {\"color\": \"#636efa\", \"symbol\": \"circle\"}, \"mode\": \"markers\", \"name\": \"kj\\u00f8nn=Menn\", \"showlegend\": true, \"x\": [\"16-19 \\u00e5r\", \"20-24 \\u00e5r\", \"25-29 \\u00e5r\", \"30-34 \\u00e5r\", \"35-39 \\u00e5r\", \"40-44 \\u00e5r\", \"45-49 \\u00e5r\", \"50-54 \\u00e5r\", \"55-59 \\u00e5r\", \"60-64 \\u00e5r\", \"65-66 \\u00e5r\", \"67 \\u00e5r\", \"68 \\u00e5r\", \"69 \\u00e5r\"], \"xaxis\": \"x\", \"y\": [25172.0, 136234.0, 199467.0, 275483.0, 315280.0, 291223.0, 279912.0, 282989.0, 318439.0, 210010.0, 34984.0, 3668.0, 1004.0, 611.0], \"yaxis\": \"y\", \"type\": \"scatter\"}, {\"hoverlabel\": {\"namelength\": 0}, \"hovertemplate\": \"kj\\u00f8nn=Kvinner<br>kvartal=2004K3<br>alder=%{x}<br>value=%{y}\", \"legendgroup\": \"kj\\u00f8nn=Kvinner\", \"marker\": {\"color\": \"#EF553B\", \"symbol\": \"circle\"}, \"mode\": \"markers\", \"name\": \"kj\\u00f8nn=Kvinner\", \"showlegend\": true, \"x\": [\"16-19 \\u00e5r\", \"20-24 \\u00e5r\", \"25-29 \\u00e5r\", \"30-34 \\u00e5r\", \"35-39 \\u00e5r\", \"40-44 \\u00e5r\", \"45-49 \\u00e5r\", \"50-54 \\u00e5r\", \"55-59 \\u00e5r\", \"60-64 \\u00e5r\", \"65-66 \\u00e5r\", \"67 \\u00e5r\", \"68 \\u00e5r\", \"69 \\u00e5r\"], \"xaxis\": \"x\", \"y\": [21701.0, 152981.0, 291725.0, 382630.0, 370174.0, 332097.0, 340836.0, 332520.0, 321382.0, 219637.0, 35647.0, 4022.0, 1080.0, 848.0], \"yaxis\": \"y\", \"type\": \"scatter\"}], \"name\": \"2004K3\"}, {\"data\": [{\"hoverlabel\": {\"namelength\": 0}, \"hovertemplate\": \"kj\\u00f8nn=Menn<br>kvartal=2004K4<br>alder=%{x}<br>value=%{y}\", \"legendgroup\": \"kj\\u00f8nn=Menn\", \"marker\": {\"color\": \"#636efa\", \"symbol\": \"circle\"}, \"mode\": \"markers\", \"name\": \"kj\\u00f8nn=Menn\", \"showlegend\": true, \"x\": [\"16-19 \\u00e5r\", \"20-24 \\u00e5r\", \"25-29 \\u00e5r\", \"30-34 \\u00e5r\", \"35-39 \\u00e5r\", \"40-44 \\u00e5r\", \"45-49 \\u00e5r\", \"50-54 \\u00e5r\", \"55-59 \\u00e5r\", \"60-64 \\u00e5r\", \"65-66 \\u00e5r\", \"67 \\u00e5r\", \"68 \\u00e5r\", \"69 \\u00e5r\"], \"xaxis\": \"x\", \"y\": [27128.0, 143036.0, 214988.0, 309608.0, 352493.0, 321455.0, 310083.0, 309847.0, 342134.0, 221384.0, 36914.0, 3818.0, 1350.0, 756.0], \"yaxis\": \"y\", \"type\": \"scatter\"}, {\"hoverlabel\": {\"namelength\": 0}, \"hovertemplate\": \"kj\\u00f8nn=Kvinner<br>kvartal=2004K4<br>alder=%{x}<br>value=%{y}\", \"legendgroup\": \"kj\\u00f8nn=Kvinner\", \"marker\": {\"color\": \"#EF553B\", \"symbol\": \"circle\"}, \"mode\": \"markers\", \"name\": \"kj\\u00f8nn=Kvinner\", \"showlegend\": true, \"x\": [\"16-19 \\u00e5r\", \"20-24 \\u00e5r\", \"25-29 \\u00e5r\", \"30-34 \\u00e5r\", \"35-39 \\u00e5r\", \"40-44 \\u00e5r\", \"45-49 \\u00e5r\", \"50-54 \\u00e5r\", \"55-59 \\u00e5r\", \"60-64 \\u00e5r\", \"65-66 \\u00e5r\", \"67 \\u00e5r\", \"68 \\u00e5r\", \"69 \\u00e5r\"], \"xaxis\": \"x\", \"y\": [23449.0, 165303.0, 341475.0, 450232.0, 436415.0, 394345.0, 399061.0, 386773.0, 362847.0, 240323.0, 38551.0, 4107.0, 939.0, 937.0], \"yaxis\": \"y\", \"type\": \"scatter\"}], \"name\": \"2004K4\"}, {\"data\": [{\"hoverlabel\": {\"namelength\": 0}, \"hovertemplate\": \"kj\\u00f8nn=Menn<br>kvartal=2005K1<br>alder=%{x}<br>value=%{y}\", \"legendgroup\": \"kj\\u00f8nn=Menn\", \"marker\": {\"color\": \"#636efa\", \"symbol\": \"circle\"}, \"mode\": \"markers\", \"name\": \"kj\\u00f8nn=Menn\", \"showlegend\": true, \"x\": [\"16-19 \\u00e5r\", \"20-24 \\u00e5r\", \"25-29 \\u00e5r\", \"30-34 \\u00e5r\", \"35-39 \\u00e5r\", \"40-44 \\u00e5r\", \"45-49 \\u00e5r\", \"50-54 \\u00e5r\", \"55-59 \\u00e5r\", \"60-64 \\u00e5r\", \"65-66 \\u00e5r\", \"67 \\u00e5r\", \"68 \\u00e5r\", \"69 \\u00e5r\"], \"xaxis\": \"x\", \"y\": [26512.0, 143354.0, 208678.0, 297469.0, 345110.0, 317093.0, 308941.0, 304657.0, 336459.0, 219311.0, 34904.0, 4316.0, 1032.0, 779.0], \"yaxis\": \"y\", \"type\": \"scatter\"}, {\"hoverlabel\": {\"namelength\": 0}, \"hovertemplate\": \"kj\\u00f8nn=Kvinner<br>kvartal=2005K1<br>alder=%{x}<br>value=%{y}\", \"legendgroup\": \"kj\\u00f8nn=Kvinner\", \"marker\": {\"color\": \"#EF553B\", \"symbol\": \"circle\"}, \"mode\": \"markers\", \"name\": \"kj\\u00f8nn=Kvinner\", \"showlegend\": true, \"x\": [\"16-19 \\u00e5r\", \"20-24 \\u00e5r\", \"25-29 \\u00e5r\", \"30-34 \\u00e5r\", \"35-39 \\u00e5r\", \"40-44 \\u00e5r\", \"45-49 \\u00e5r\", \"50-54 \\u00e5r\", \"55-59 \\u00e5r\", \"60-64 \\u00e5r\", \"65-66 \\u00e5r\", \"67 \\u00e5r\", \"68 \\u00e5r\", \"69 \\u00e5r\"], \"xaxis\": \"x\", \"y\": [23322.0, 158223.0, 330864.0, 448409.0, 434674.0, 382063.0, 390727.0, 385056.0, 358688.0, 236425.0, 39616.0, 4360.0, 1582.0, 1033.0], \"yaxis\": \"y\", \"type\": \"scatter\"}], \"name\": \"2005K1\"}, {\"data\": [{\"hoverlabel\": {\"namelength\": 0}, \"hovertemplate\": \"kj\\u00f8nn=Menn<br>kvartal=2005K2<br>alder=%{x}<br>value=%{y}\", \"legendgroup\": \"kj\\u00f8nn=Menn\", \"marker\": {\"color\": \"#636efa\", \"symbol\": \"circle\"}, \"mode\": \"markers\", \"name\": \"kj\\u00f8nn=Menn\", \"showlegend\": true, \"x\": [\"16-19 \\u00e5r\", \"20-24 \\u00e5r\", \"25-29 \\u00e5r\", \"30-34 \\u00e5r\", \"35-39 \\u00e5r\", \"40-44 \\u00e5r\", \"45-49 \\u00e5r\", \"50-54 \\u00e5r\", \"55-59 \\u00e5r\", \"60-64 \\u00e5r\", \"65-66 \\u00e5r\", \"67 \\u00e5r\", \"68 \\u00e5r\", \"69 \\u00e5r\"], \"xaxis\": \"x\", \"y\": [22932.0, 130857.0, 185166.0, 267919.0, 314549.0, 298191.0, 295628.0, 295526.0, 329013.0, 220363.0, 37203.0, 3992.0, 1268.0, 554.0], \"yaxis\": \"y\", \"type\": \"scatter\"}, {\"hoverlabel\": {\"namelength\": 0}, \"hovertemplate\": \"kj\\u00f8nn=Kvinner<br>kvartal=2005K2<br>alder=%{x}<br>value=%{y}\", \"legendgroup\": \"kj\\u00f8nn=Kvinner\", \"marker\": {\"color\": \"#EF553B\", \"symbol\": \"circle\"}, \"mode\": \"markers\", \"name\": \"kj\\u00f8nn=Kvinner\", \"showlegend\": true, \"x\": [\"16-19 \\u00e5r\", \"20-24 \\u00e5r\", \"25-29 \\u00e5r\", \"30-34 \\u00e5r\", \"35-39 \\u00e5r\", \"40-44 \\u00e5r\", \"45-49 \\u00e5r\", \"50-54 \\u00e5r\", \"55-59 \\u00e5r\", \"60-64 \\u00e5r\", \"65-66 \\u00e5r\", \"67 \\u00e5r\", \"68 \\u00e5r\", \"69 \\u00e5r\"], \"xaxis\": \"x\", \"y\": [20796.0, 152750.0, 308763.0, 423624.0, 423566.0, 380608.0, 384574.0, 384523.0, 356771.0, 237976.0, 38583.0, 4509.0, 1006.0, 1005.0], \"yaxis\": \"y\", \"type\": \"scatter\"}], \"name\": \"2005K2\"}, {\"data\": [{\"hoverlabel\": {\"namelength\": 0}, \"hovertemplate\": \"kj\\u00f8nn=Menn<br>kvartal=2005K3<br>alder=%{x}<br>value=%{y}\", \"legendgroup\": \"kj\\u00f8nn=Menn\", \"marker\": {\"color\": \"#636efa\", \"symbol\": \"circle\"}, \"mode\": \"markers\", \"name\": \"kj\\u00f8nn=Menn\", \"showlegend\": true, \"x\": [\"16-19 \\u00e5r\", \"20-24 \\u00e5r\", \"25-29 \\u00e5r\", \"30-34 \\u00e5r\", \"35-39 \\u00e5r\", \"40-44 \\u00e5r\", \"45-49 \\u00e5r\", \"50-54 \\u00e5r\", \"55-59 \\u00e5r\", \"60-64 \\u00e5r\", \"65-66 \\u00e5r\", \"67 \\u00e5r\", \"68 \\u00e5r\", \"69 \\u00e5r\"], \"xaxis\": \"x\", \"y\": [23440.0, 132768.0, 188882.0, 269695.0, 311924.0, 297344.0, 286871.0, 289739.0, 324075.0, 222055.0, 38896.0, 3620.0, 1281.0, 718.0], \"yaxis\": \"y\", \"type\": \"scatter\"}, {\"hoverlabel\": {\"namelength\": 0}, \"hovertemplate\": \"kj\\u00f8nn=Kvinner<br>kvartal=2005K3<br>alder=%{x}<br>value=%{y}\", \"legendgroup\": \"kj\\u00f8nn=Kvinner\", \"marker\": {\"color\": \"#EF553B\", \"symbol\": \"circle\"}, \"mode\": \"markers\", \"name\": \"kj\\u00f8nn=Kvinner\", \"showlegend\": true, \"x\": [\"16-19 \\u00e5r\", \"20-24 \\u00e5r\", \"25-29 \\u00e5r\", \"30-34 \\u00e5r\", \"35-39 \\u00e5r\", \"40-44 \\u00e5r\", \"45-49 \\u00e5r\", \"50-54 \\u00e5r\", \"55-59 \\u00e5r\", \"60-64 \\u00e5r\", \"65-66 \\u00e5r\", \"67 \\u00e5r\", \"68 \\u00e5r\", \"69 \\u00e5r\"], \"xaxis\": \"x\", \"y\": [21378.0, 152434.0, 285794.0, 388304.0, 376107.0, 339985.0, 346745.0, 349943.0, 329476.0, 226838.0, 35300.0, 3762.0, 1133.0, 700.0], \"yaxis\": \"y\", \"type\": \"scatter\"}], \"name\": \"2005K3\"}, {\"data\": [{\"hoverlabel\": {\"namelength\": 0}, \"hovertemplate\": \"kj\\u00f8nn=Menn<br>kvartal=2005K4<br>alder=%{x}<br>value=%{y}\", \"legendgroup\": \"kj\\u00f8nn=Menn\", \"marker\": {\"color\": \"#636efa\", \"symbol\": \"circle\"}, \"mode\": \"markers\", \"name\": \"kj\\u00f8nn=Menn\", \"showlegend\": true, \"x\": [\"16-19 \\u00e5r\", \"20-24 \\u00e5r\", \"25-29 \\u00e5r\", \"30-34 \\u00e5r\", \"35-39 \\u00e5r\", \"40-44 \\u00e5r\", \"45-49 \\u00e5r\", \"50-54 \\u00e5r\", \"55-59 \\u00e5r\", \"60-64 \\u00e5r\", \"65-66 \\u00e5r\", \"67 \\u00e5r\", \"68 \\u00e5r\", \"69 \\u00e5r\"], \"xaxis\": \"x\", \"y\": [27994.0, 137900.0, 206833.0, 300379.0, 351654.0, 334255.0, 319381.0, 327474.0, 348702.0, 244228.0, 41186.0, 4824.0, 1470.0, 799.0], \"yaxis\": \"y\", \"type\": \"scatter\"}, {\"hoverlabel\": {\"namelength\": 0}, \"hovertemplate\": \"kj\\u00f8nn=Kvinner<br>kvartal=2005K4<br>alder=%{x}<br>value=%{y}\", \"legendgroup\": \"kj\\u00f8nn=Kvinner\", \"marker\": {\"color\": \"#EF553B\", \"symbol\": \"circle\"}, \"mode\": \"markers\", \"name\": \"kj\\u00f8nn=Kvinner\", \"showlegend\": true, \"x\": [\"16-19 \\u00e5r\", \"20-24 \\u00e5r\", \"25-29 \\u00e5r\", \"30-34 \\u00e5r\", \"35-39 \\u00e5r\", \"40-44 \\u00e5r\", \"45-49 \\u00e5r\", \"50-54 \\u00e5r\", \"55-59 \\u00e5r\", \"60-64 \\u00e5r\", \"65-66 \\u00e5r\", \"67 \\u00e5r\", \"68 \\u00e5r\", \"69 \\u00e5r\"], \"xaxis\": \"x\", \"y\": [22603.0, 163292.0, 338205.0, 471574.0, 472376.0, 429741.0, 425124.0, 423974.0, 391137.0, 263554.0, 39523.0, 4174.0, 1247.0, 783.0], \"yaxis\": \"y\", \"type\": \"scatter\"}], \"name\": \"2005K4\"}, {\"data\": [{\"hoverlabel\": {\"namelength\": 0}, \"hovertemplate\": \"kj\\u00f8nn=Menn<br>kvartal=2006K1<br>alder=%{x}<br>value=%{y}\", \"legendgroup\": \"kj\\u00f8nn=Menn\", \"marker\": {\"color\": \"#636efa\", \"symbol\": \"circle\"}, \"mode\": \"markers\", \"name\": \"kj\\u00f8nn=Menn\", \"showlegend\": true, \"x\": [\"16-19 \\u00e5r\", \"20-24 \\u00e5r\", \"25-29 \\u00e5r\", \"30-34 \\u00e5r\", \"35-39 \\u00e5r\", \"40-44 \\u00e5r\", \"45-49 \\u00e5r\", \"50-54 \\u00e5r\", \"55-59 \\u00e5r\", \"60-64 \\u00e5r\", \"65-66 \\u00e5r\", \"67 \\u00e5r\", \"68 \\u00e5r\", \"69 \\u00e5r\"], \"xaxis\": \"x\", \"y\": [34722.0, 156897.0, 233125.0, 329798.0, 385248.0, 368124.0, 343478.0, 361253.0, 381943.0, 271242.0, 42351.0, 5737.0, 1728.0, 695.0], \"yaxis\": \"y\", \"type\": \"scatter\"}, {\"hoverlabel\": {\"namelength\": 0}, \"hovertemplate\": \"kj\\u00f8nn=Kvinner<br>kvartal=2006K1<br>alder=%{x}<br>value=%{y}\", \"legendgroup\": \"kj\\u00f8nn=Kvinner\", \"marker\": {\"color\": \"#EF553B\", \"symbol\": \"circle\"}, \"mode\": \"markers\", \"name\": \"kj\\u00f8nn=Kvinner\", \"showlegend\": true, \"x\": [\"16-19 \\u00e5r\", \"20-24 \\u00e5r\", \"25-29 \\u00e5r\", \"30-34 \\u00e5r\", \"35-39 \\u00e5r\", \"40-44 \\u00e5r\", \"45-49 \\u00e5r\", \"50-54 \\u00e5r\", \"55-59 \\u00e5r\", \"60-64 \\u00e5r\", \"65-66 \\u00e5r\", \"67 \\u00e5r\", \"68 \\u00e5r\", \"69 \\u00e5r\"], \"xaxis\": \"x\", \"y\": [28489.0, 181924.0, 371071.0, 507653.0, 514920.0, 474208.0, 469644.0, 467296.0, 433214.0, 300123.0, 42294.0, 4531.0, 1458.0, 874.0], \"yaxis\": \"y\", \"type\": \"scatter\"}], \"name\": \"2006K1\"}, {\"data\": [{\"hoverlabel\": {\"namelength\": 0}, \"hovertemplate\": \"kj\\u00f8nn=Menn<br>kvartal=2006K2<br>alder=%{x}<br>value=%{y}\", \"legendgroup\": \"kj\\u00f8nn=Menn\", \"marker\": {\"color\": \"#636efa\", \"symbol\": \"circle\"}, \"mode\": \"markers\", \"name\": \"kj\\u00f8nn=Menn\", \"showlegend\": true, \"x\": [\"16-19 \\u00e5r\", \"20-24 \\u00e5r\", \"25-29 \\u00e5r\", \"30-34 \\u00e5r\", \"35-39 \\u00e5r\", \"40-44 \\u00e5r\", \"45-49 \\u00e5r\", \"50-54 \\u00e5r\", \"55-59 \\u00e5r\", \"60-64 \\u00e5r\", \"65-66 \\u00e5r\", \"67 \\u00e5r\", \"68 \\u00e5r\", \"69 \\u00e5r\"], \"xaxis\": \"x\", \"y\": [25774.0, 129118.0, 184125.0, 254916.0, 312232.0, 303592.0, 286667.0, 295686.0, 321773.0, 237429.0, 36540.0, 5013.0, 1272.0, 885.0], \"yaxis\": \"y\", \"type\": \"scatter\"}, {\"hoverlabel\": {\"namelength\": 0}, \"hovertemplate\": \"kj\\u00f8nn=Kvinner<br>kvartal=2006K2<br>alder=%{x}<br>value=%{y}\", \"legendgroup\": \"kj\\u00f8nn=Kvinner\", \"marker\": {\"color\": \"#EF553B\", \"symbol\": \"circle\"}, \"mode\": \"markers\", \"name\": \"kj\\u00f8nn=Kvinner\", \"showlegend\": true, \"x\": [\"16-19 \\u00e5r\", \"20-24 \\u00e5r\", \"25-29 \\u00e5r\", \"30-34 \\u00e5r\", \"35-39 \\u00e5r\", \"40-44 \\u00e5r\", \"45-49 \\u00e5r\", \"50-54 \\u00e5r\", \"55-59 \\u00e5r\", \"60-64 \\u00e5r\", \"65-66 \\u00e5r\", \"67 \\u00e5r\", \"68 \\u00e5r\", \"69 \\u00e5r\"], \"xaxis\": \"x\", \"y\": [22030.0, 156996.0, 299507.0, 417692.0, 430160.0, 393759.0, 385878.0, 393989.0, 360983.0, 258035.0, 37441.0, 4020.0, 1177.0, 826.0], \"yaxis\": \"y\", \"type\": \"scatter\"}], \"name\": \"2006K2\"}, {\"data\": [{\"hoverlabel\": {\"namelength\": 0}, \"hovertemplate\": \"kj\\u00f8nn=Menn<br>kvartal=2006K3<br>alder=%{x}<br>value=%{y}\", \"legendgroup\": \"kj\\u00f8nn=Menn\", \"marker\": {\"color\": \"#636efa\", \"symbol\": \"circle\"}, \"mode\": \"markers\", \"name\": \"kj\\u00f8nn=Menn\", \"showlegend\": true, \"x\": [\"16-19 \\u00e5r\", \"20-24 \\u00e5r\", \"25-29 \\u00e5r\", \"30-34 \\u00e5r\", \"35-39 \\u00e5r\", \"40-44 \\u00e5r\", \"45-49 \\u00e5r\", \"50-54 \\u00e5r\", \"55-59 \\u00e5r\", \"60-64 \\u00e5r\", \"65-66 \\u00e5r\", \"67 \\u00e5r\", \"68 \\u00e5r\", \"69 \\u00e5r\"], \"xaxis\": \"x\", \"y\": [29005.0, 148525.0, 202162.0, 272314.0, 320878.0, 317929.0, 300382.0, 306917.0, 330861.0, 254174.0, 38334.0, 4317.0, 1051.0, 1089.0], \"yaxis\": \"y\", \"type\": \"scatter\"}, {\"hoverlabel\": {\"namelength\": 0}, \"hovertemplate\": \"kj\\u00f8nn=Kvinner<br>kvartal=2006K3<br>alder=%{x}<br>value=%{y}\", \"legendgroup\": \"kj\\u00f8nn=Kvinner\", \"marker\": {\"color\": \"#EF553B\", \"symbol\": \"circle\"}, \"mode\": \"markers\", \"name\": \"kj\\u00f8nn=Kvinner\", \"showlegend\": true, \"x\": [\"16-19 \\u00e5r\", \"20-24 \\u00e5r\", \"25-29 \\u00e5r\", \"30-34 \\u00e5r\", \"35-39 \\u00e5r\", \"40-44 \\u00e5r\", \"45-49 \\u00e5r\", \"50-54 \\u00e5r\", \"55-59 \\u00e5r\", \"60-64 \\u00e5r\", \"65-66 \\u00e5r\", \"67 \\u00e5r\", \"68 \\u00e5r\", \"69 \\u00e5r\"], \"xaxis\": \"x\", \"y\": [26074.0, 173048.0, 303213.0, 405596.0, 409483.0, 373260.0, 361218.0, 380047.0, 340271.0, 259426.0, 39594.0, 3942.0, 1396.0, 772.0], \"yaxis\": \"y\", \"type\": \"scatter\"}], \"name\": \"2006K3\"}, {\"data\": [{\"hoverlabel\": {\"namelength\": 0}, \"hovertemplate\": \"kj\\u00f8nn=Menn<br>kvartal=2006K4<br>alder=%{x}<br>value=%{y}\", \"legendgroup\": \"kj\\u00f8nn=Menn\", \"marker\": {\"color\": \"#636efa\", \"symbol\": \"circle\"}, \"mode\": \"markers\", \"name\": \"kj\\u00f8nn=Menn\", \"showlegend\": true, \"x\": [\"16-19 \\u00e5r\", \"20-24 \\u00e5r\", \"25-29 \\u00e5r\", \"30-34 \\u00e5r\", \"35-39 \\u00e5r\", \"40-44 \\u00e5r\", \"45-49 \\u00e5r\", \"50-54 \\u00e5r\", \"55-59 \\u00e5r\", \"60-64 \\u00e5r\", \"65-66 \\u00e5r\", \"67 \\u00e5r\", \"68 \\u00e5r\", \"69 \\u00e5r\"], \"xaxis\": \"x\", \"y\": [31979.0, 158195.0, 219449.0, 294856.0, 345612.0, 339064.0, 319349.0, 324515.0, 344651.0, 268325.0, 37425.0, 5139.0, 1447.0, 1048.0], \"yaxis\": \"y\", \"type\": \"scatter\"}, {\"hoverlabel\": {\"namelength\": 0}, \"hovertemplate\": \"kj\\u00f8nn=Kvinner<br>kvartal=2006K4<br>alder=%{x}<br>value=%{y}\", \"legendgroup\": \"kj\\u00f8nn=Kvinner\", \"marker\": {\"color\": \"#EF553B\", \"symbol\": \"circle\"}, \"mode\": \"markers\", \"name\": \"kj\\u00f8nn=Kvinner\", \"showlegend\": true, \"x\": [\"16-19 \\u00e5r\", \"20-24 \\u00e5r\", \"25-29 \\u00e5r\", \"30-34 \\u00e5r\", \"35-39 \\u00e5r\", \"40-44 \\u00e5r\", \"45-49 \\u00e5r\", \"50-54 \\u00e5r\", \"55-59 \\u00e5r\", \"60-64 \\u00e5r\", \"65-66 \\u00e5r\", \"67 \\u00e5r\", \"68 \\u00e5r\", \"69 \\u00e5r\"], \"xaxis\": \"x\", \"y\": [28738.0, 182982.0, 349191.0, 464453.0, 488868.0, 443346.0, 422925.0, 427524.0, 378205.0, 284287.0, 40798.0, 4476.0, 1289.0, 808.0], \"yaxis\": \"y\", \"type\": \"scatter\"}], \"name\": \"2006K4\"}, {\"data\": [{\"hoverlabel\": {\"namelength\": 0}, \"hovertemplate\": \"kj\\u00f8nn=Menn<br>kvartal=2007K1<br>alder=%{x}<br>value=%{y}\", \"legendgroup\": \"kj\\u00f8nn=Menn\", \"marker\": {\"color\": \"#636efa\", \"symbol\": \"circle\"}, \"mode\": \"markers\", \"name\": \"kj\\u00f8nn=Menn\", \"showlegend\": true, \"x\": [\"16-19 \\u00e5r\", \"20-24 \\u00e5r\", \"25-29 \\u00e5r\", \"30-34 \\u00e5r\", \"35-39 \\u00e5r\", \"40-44 \\u00e5r\", \"45-49 \\u00e5r\", \"50-54 \\u00e5r\", \"55-59 \\u00e5r\", \"60-64 \\u00e5r\", \"65-66 \\u00e5r\", \"67 \\u00e5r\", \"68 \\u00e5r\", \"69 \\u00e5r\"], \"xaxis\": \"x\", \"y\": [36807.0, 175554.0, 240934.0, 313198.0, 370173.0, 362178.0, 339758.0, 346233.0, 367189.0, 288697.0, 40275.0, 5600.0, 1524.0, 1364.0], \"yaxis\": \"y\", \"type\": \"scatter\"}, {\"hoverlabel\": {\"namelength\": 0}, \"hovertemplate\": \"kj\\u00f8nn=Kvinner<br>kvartal=2007K1<br>alder=%{x}<br>value=%{y}\", \"legendgroup\": \"kj\\u00f8nn=Kvinner\", \"marker\": {\"color\": \"#EF553B\", \"symbol\": \"circle\"}, \"mode\": \"markers\", \"name\": \"kj\\u00f8nn=Kvinner\", \"showlegend\": true, \"x\": [\"16-19 \\u00e5r\", \"20-24 \\u00e5r\", \"25-29 \\u00e5r\", \"30-34 \\u00e5r\", \"35-39 \\u00e5r\", \"40-44 \\u00e5r\", \"45-49 \\u00e5r\", \"50-54 \\u00e5r\", \"55-59 \\u00e5r\", \"60-64 \\u00e5r\", \"65-66 \\u00e5r\", \"67 \\u00e5r\", \"68 \\u00e5r\", \"69 \\u00e5r\"], \"xaxis\": \"x\", \"y\": [31332.0, 200756.0, 378572.0, 515688.0, 522344.0, 481207.0, 456363.0, 465611.0, 406377.0, 310366.0, 44315.0, 5242.0, 1537.0, 1123.0], \"yaxis\": \"y\", \"type\": \"scatter\"}], \"name\": \"2007K1\"}, {\"data\": [{\"hoverlabel\": {\"namelength\": 0}, \"hovertemplate\": \"kj\\u00f8nn=Menn<br>kvartal=2007K2<br>alder=%{x}<br>value=%{y}\", \"legendgroup\": \"kj\\u00f8nn=Menn\", \"marker\": {\"color\": \"#636efa\", \"symbol\": \"circle\"}, \"mode\": \"markers\", \"name\": \"kj\\u00f8nn=Menn\", \"showlegend\": true, \"x\": [\"16-19 \\u00e5r\", \"20-24 \\u00e5r\", \"25-29 \\u00e5r\", \"30-34 \\u00e5r\", \"35-39 \\u00e5r\", \"40-44 \\u00e5r\", \"45-49 \\u00e5r\", \"50-54 \\u00e5r\", \"55-59 \\u00e5r\", \"60-64 \\u00e5r\", \"65-66 \\u00e5r\", \"67 \\u00e5r\", \"68 \\u00e5r\", \"69 \\u00e5r\"], \"xaxis\": \"x\", \"y\": [28990.0, 146138.0, 194349.0, 248894.0, 304125.0, 308335.0, 283489.0, 294995.0, 309391.0, 258240.0, 38213.0, 5236.0, 1587.0, 1110.0], \"yaxis\": \"y\", \"type\": \"scatter\"}, {\"hoverlabel\": {\"namelength\": 0}, \"hovertemplate\": \"kj\\u00f8nn=Kvinner<br>kvartal=2007K2<br>alder=%{x}<br>value=%{y}\", \"legendgroup\": \"kj\\u00f8nn=Kvinner\", \"marker\": {\"color\": \"#EF553B\", \"symbol\": \"circle\"}, \"mode\": \"markers\", \"name\": \"kj\\u00f8nn=Kvinner\", \"showlegend\": true, \"x\": [\"16-19 \\u00e5r\", \"20-24 \\u00e5r\", \"25-29 \\u00e5r\", \"30-34 \\u00e5r\", \"35-39 \\u00e5r\", \"40-44 \\u00e5r\", \"45-49 \\u00e5r\", \"50-54 \\u00e5r\", \"55-59 \\u00e5r\", \"60-64 \\u00e5r\", \"65-66 \\u00e5r\", \"67 \\u00e5r\", \"68 \\u00e5r\", \"69 \\u00e5r\"], \"xaxis\": \"x\", \"y\": [25171.0, 172682.0, 315579.0, 421834.0, 453165.0, 414114.0, 392044.0, 395342.0, 345482.0, 267568.0, 38950.0, 5049.0, 1254.0, 780.0], \"yaxis\": \"y\", \"type\": \"scatter\"}], \"name\": \"2007K2\"}, {\"data\": [{\"hoverlabel\": {\"namelength\": 0}, \"hovertemplate\": \"kj\\u00f8nn=Menn<br>kvartal=2007K3<br>alder=%{x}<br>value=%{y}\", \"legendgroup\": \"kj\\u00f8nn=Menn\", \"marker\": {\"color\": \"#636efa\", \"symbol\": \"circle\"}, \"mode\": \"markers\", \"name\": \"kj\\u00f8nn=Menn\", \"showlegend\": true, \"x\": [\"16-19 \\u00e5r\", \"20-24 \\u00e5r\", \"25-29 \\u00e5r\", \"30-34 \\u00e5r\", \"35-39 \\u00e5r\", \"40-44 \\u00e5r\", \"45-49 \\u00e5r\", \"50-54 \\u00e5r\", \"55-59 \\u00e5r\", \"60-64 \\u00e5r\", \"65-66 \\u00e5r\", \"67 \\u00e5r\", \"68 \\u00e5r\", \"69 \\u00e5r\"], \"xaxis\": \"x\", \"y\": [32802.0, 159246.0, 212641.0, 262423.0, 320235.0, 324297.0, 296766.0, 303377.0, 316208.0, 272127.0, 38590.0, 5162.0, 1432.0, 1062.0], \"yaxis\": \"y\", \"type\": \"scatter\"}, {\"hoverlabel\": {\"namelength\": 0}, \"hovertemplate\": \"kj\\u00f8nn=Kvinner<br>kvartal=2007K3<br>alder=%{x}<br>value=%{y}\", \"legendgroup\": \"kj\\u00f8nn=Kvinner\", \"marker\": {\"color\": \"#EF553B\", \"symbol\": \"circle\"}, \"mode\": \"markers\", \"name\": \"kj\\u00f8nn=Kvinner\", \"showlegend\": true, \"x\": [\"16-19 \\u00e5r\", \"20-24 \\u00e5r\", \"25-29 \\u00e5r\", \"30-34 \\u00e5r\", \"35-39 \\u00e5r\", \"40-44 \\u00e5r\", \"45-49 \\u00e5r\", \"50-54 \\u00e5r\", \"55-59 \\u00e5r\", \"60-64 \\u00e5r\", \"65-66 \\u00e5r\", \"67 \\u00e5r\", \"68 \\u00e5r\", \"69 \\u00e5r\"], \"xaxis\": \"x\", \"y\": [30919.0, 185287.0, 317271.0, 397837.0, 417906.0, 396843.0, 365439.0, 383012.0, 338195.0, 262753.0, 39828.0, 4838.0, 1283.0, 1009.0], \"yaxis\": \"y\", \"type\": \"scatter\"}], \"name\": \"2007K3\"}, {\"data\": [{\"hoverlabel\": {\"namelength\": 0}, \"hovertemplate\": \"kj\\u00f8nn=Menn<br>kvartal=2007K4<br>alder=%{x}<br>value=%{y}\", \"legendgroup\": \"kj\\u00f8nn=Menn\", \"marker\": {\"color\": \"#636efa\", \"symbol\": \"circle\"}, \"mode\": \"markers\", \"name\": \"kj\\u00f8nn=Menn\", \"showlegend\": true, \"x\": [\"16-19 \\u00e5r\", \"20-24 \\u00e5r\", \"25-29 \\u00e5r\", \"30-34 \\u00e5r\", \"35-39 \\u00e5r\", \"40-44 \\u00e5r\", \"45-49 \\u00e5r\", \"50-54 \\u00e5r\", \"55-59 \\u00e5r\", \"60-64 \\u00e5r\", \"65-66 \\u00e5r\", \"67 \\u00e5r\", \"68 \\u00e5r\", \"69 \\u00e5r\"], \"xaxis\": \"x\", \"y\": [39951.0, 175719.0, 235261.0, 286031.0, 350446.0, 355778.0, 323563.0, 332500.0, 345665.0, 291188.0, 41658.0, 4930.0, 1825.0, 1040.0], \"yaxis\": \"y\", \"type\": \"scatter\"}, {\"hoverlabel\": {\"namelength\": 0}, \"hovertemplate\": \"kj\\u00f8nn=Kvinner<br>kvartal=2007K4<br>alder=%{x}<br>value=%{y}\", \"legendgroup\": \"kj\\u00f8nn=Kvinner\", \"marker\": {\"color\": \"#EF553B\", \"symbol\": \"circle\"}, \"mode\": \"markers\", \"name\": \"kj\\u00f8nn=Kvinner\", \"showlegend\": true, \"x\": [\"16-19 \\u00e5r\", \"20-24 \\u00e5r\", \"25-29 \\u00e5r\", \"30-34 \\u00e5r\", \"35-39 \\u00e5r\", \"40-44 \\u00e5r\", \"45-49 \\u00e5r\", \"50-54 \\u00e5r\", \"55-59 \\u00e5r\", \"60-64 \\u00e5r\", \"65-66 \\u00e5r\", \"67 \\u00e5r\", \"68 \\u00e5r\", \"69 \\u00e5r\"], \"xaxis\": \"x\", \"y\": [35068.0, 208304.0, 382873.0, 481075.0, 515317.0, 478264.0, 440731.0, 449596.0, 393762.0, 297345.0, 43876.0, 5076.0, 1650.0, 1013.0], \"yaxis\": \"y\", \"type\": \"scatter\"}], \"name\": \"2007K4\"}, {\"data\": [{\"hoverlabel\": {\"namelength\": 0}, \"hovertemplate\": \"kj\\u00f8nn=Menn<br>kvartal=2008K1<br>alder=%{x}<br>value=%{y}\", \"legendgroup\": \"kj\\u00f8nn=Menn\", \"marker\": {\"color\": \"#636efa\", \"symbol\": \"circle\"}, \"mode\": \"markers\", \"name\": \"kj\\u00f8nn=Menn\", \"showlegend\": true, \"x\": [\"16-19 \\u00e5r\", \"20-24 \\u00e5r\", \"25-29 \\u00e5r\", \"30-34 \\u00e5r\", \"35-39 \\u00e5r\", \"40-44 \\u00e5r\", \"45-49 \\u00e5r\", \"50-54 \\u00e5r\", \"55-59 \\u00e5r\", \"60-64 \\u00e5r\", \"65-66 \\u00e5r\", \"67 \\u00e5r\", \"68 \\u00e5r\", \"69 \\u00e5r\"], \"xaxis\": \"x\", \"y\": [39399.0, 180161.0, 242469.0, 284707.0, 354869.0, 367063.0, 325884.0, 334748.0, 348400.0, 299923.0, 44013.0, 4214.0, 2103.0, 1131.0], \"yaxis\": \"y\", \"type\": \"scatter\"}, {\"hoverlabel\": {\"namelength\": 0}, \"hovertemplate\": \"kj\\u00f8nn=Kvinner<br>kvartal=2008K1<br>alder=%{x}<br>value=%{y}\", \"legendgroup\": \"kj\\u00f8nn=Kvinner\", \"marker\": {\"color\": \"#EF553B\", \"symbol\": \"circle\"}, \"mode\": \"markers\", \"name\": \"kj\\u00f8nn=Kvinner\", \"showlegend\": true, \"x\": [\"16-19 \\u00e5r\", \"20-24 \\u00e5r\", \"25-29 \\u00e5r\", \"30-34 \\u00e5r\", \"35-39 \\u00e5r\", \"40-44 \\u00e5r\", \"45-49 \\u00e5r\", \"50-54 \\u00e5r\", \"55-59 \\u00e5r\", \"60-64 \\u00e5r\", \"65-66 \\u00e5r\", \"67 \\u00e5r\", \"68 \\u00e5r\", \"69 \\u00e5r\"], \"xaxis\": \"x\", \"y\": [35094.0, 217357.0, 393042.0, 491415.0, 534400.0, 475455.0, 445597.0, 455822.0, 405838.0, 311090.0, 47930.0, 4405.0, 1711.0, 1218.0], \"yaxis\": \"y\", \"type\": \"scatter\"}], \"name\": \"2008K1\"}, {\"data\": [{\"hoverlabel\": {\"namelength\": 0}, \"hovertemplate\": \"kj\\u00f8nn=Menn<br>kvartal=2008K2<br>alder=%{x}<br>value=%{y}\", \"legendgroup\": \"kj\\u00f8nn=Menn\", \"marker\": {\"color\": \"#636efa\", \"symbol\": \"circle\"}, \"mode\": \"markers\", \"name\": \"kj\\u00f8nn=Menn\", \"showlegend\": true, \"x\": [\"16-19 \\u00e5r\", \"20-24 \\u00e5r\", \"25-29 \\u00e5r\", \"30-34 \\u00e5r\", \"35-39 \\u00e5r\", \"40-44 \\u00e5r\", \"45-49 \\u00e5r\", \"50-54 \\u00e5r\", \"55-59 \\u00e5r\", \"60-64 \\u00e5r\", \"65-66 \\u00e5r\", \"67 \\u00e5r\", \"68 \\u00e5r\", \"69 \\u00e5r\"], \"xaxis\": \"x\", \"y\": [40487.0, 183438.0, 241069.0, 280292.0, 355640.0, 367497.0, 329373.0, 339090.0, 352482.0, 305263.0, 46462.0, 5313.0, 2052.0, 1168.0], \"yaxis\": \"y\", \"type\": \"scatter\"}, {\"hoverlabel\": {\"namelength\": 0}, \"hovertemplate\": \"kj\\u00f8nn=Kvinner<br>kvartal=2008K2<br>alder=%{x}<br>value=%{y}\", \"legendgroup\": \"kj\\u00f8nn=Kvinner\", \"marker\": {\"color\": \"#EF553B\", \"symbol\": \"circle\"}, \"mode\": \"markers\", \"name\": \"kj\\u00f8nn=Kvinner\", \"showlegend\": true, \"x\": [\"16-19 \\u00e5r\", \"20-24 \\u00e5r\", \"25-29 \\u00e5r\", \"30-34 \\u00e5r\", \"35-39 \\u00e5r\", \"40-44 \\u00e5r\", \"45-49 \\u00e5r\", \"50-54 \\u00e5r\", \"55-59 \\u00e5r\", \"60-64 \\u00e5r\", \"65-66 \\u00e5r\", \"67 \\u00e5r\", \"68 \\u00e5r\", \"69 \\u00e5r\"], \"xaxis\": \"x\", \"y\": [34589.0, 226474.0, 395707.0, 493790.0, 545125.0, 501554.0, 457783.0, 463915.0, 403484.0, 319608.0, 51126.0, 4520.0, 1626.0, 1380.0], \"yaxis\": \"y\", \"type\": \"scatter\"}], \"name\": \"2008K2\"}, {\"data\": [{\"hoverlabel\": {\"namelength\": 0}, \"hovertemplate\": \"kj\\u00f8nn=Menn<br>kvartal=2008K3<br>alder=%{x}<br>value=%{y}\", \"legendgroup\": \"kj\\u00f8nn=Menn\", \"marker\": {\"color\": \"#636efa\", \"symbol\": \"circle\"}, \"mode\": \"markers\", \"name\": \"kj\\u00f8nn=Menn\", \"showlegend\": true, \"x\": [\"16-19 \\u00e5r\", \"20-24 \\u00e5r\", \"25-29 \\u00e5r\", \"30-34 \\u00e5r\", \"35-39 \\u00e5r\", \"40-44 \\u00e5r\", \"45-49 \\u00e5r\", \"50-54 \\u00e5r\", \"55-59 \\u00e5r\", \"60-64 \\u00e5r\", \"65-66 \\u00e5r\", \"67 \\u00e5r\", \"68 \\u00e5r\", \"69 \\u00e5r\"], \"xaxis\": \"x\", \"y\": [39350.0, 184386.0, 244176.0, 281522.0, 344401.0, 358472.0, 322578.0, 327080.0, 331563.0, 287184.0, 46229.0, 4133.0, 1720.0, 1315.0], \"yaxis\": \"y\", \"type\": \"scatter\"}, {\"hoverlabel\": {\"namelength\": 0}, \"hovertemplate\": \"kj\\u00f8nn=Kvinner<br>kvartal=2008K3<br>alder=%{x}<br>value=%{y}\", \"legendgroup\": \"kj\\u00f8nn=Kvinner\", \"marker\": {\"color\": \"#EF553B\", \"symbol\": \"circle\"}, \"mode\": \"markers\", \"name\": \"kj\\u00f8nn=Kvinner\", \"showlegend\": true, \"x\": [\"16-19 \\u00e5r\", \"20-24 \\u00e5r\", \"25-29 \\u00e5r\", \"30-34 \\u00e5r\", \"35-39 \\u00e5r\", \"40-44 \\u00e5r\", \"45-49 \\u00e5r\", \"50-54 \\u00e5r\", \"55-59 \\u00e5r\", \"60-64 \\u00e5r\", \"65-66 \\u00e5r\", \"67 \\u00e5r\", \"68 \\u00e5r\", \"69 \\u00e5r\"], \"xaxis\": \"x\", \"y\": [36112.0, 220410.0, 359407.0, 432165.0, 465387.0, 435046.0, 392301.0, 406421.0, 352868.0, 292225.0, 46908.0, 4730.0, 1549.0, 905.0], \"yaxis\": \"y\", \"type\": \"scatter\"}], \"name\": \"2008K3\"}, {\"data\": [{\"hoverlabel\": {\"namelength\": 0}, \"hovertemplate\": \"kj\\u00f8nn=Menn<br>kvartal=2008K4<br>alder=%{x}<br>value=%{y}\", \"legendgroup\": \"kj\\u00f8nn=Menn\", \"marker\": {\"color\": \"#636efa\", \"symbol\": \"circle\"}, \"mode\": \"markers\", \"name\": \"kj\\u00f8nn=Menn\", \"showlegend\": true, \"x\": [\"16-19 \\u00e5r\", \"20-24 \\u00e5r\", \"25-29 \\u00e5r\", \"30-34 \\u00e5r\", \"35-39 \\u00e5r\", \"40-44 \\u00e5r\", \"45-49 \\u00e5r\", \"50-54 \\u00e5r\", \"55-59 \\u00e5r\", \"60-64 \\u00e5r\", \"65-66 \\u00e5r\", \"67 \\u00e5r\", \"68 \\u00e5r\", \"69 \\u00e5r\"], \"xaxis\": \"x\", \"y\": [42001.0, 198247.0, 265652.0, 309201.0, 381336.0, 395987.0, 355023.0, 358870.0, 359883.0, 311373.0, 52641.0, 4299.0, 2217.0, 1589.0], \"yaxis\": \"y\", \"type\": \"scatter\"}, {\"hoverlabel\": {\"namelength\": 0}, \"hovertemplate\": \"kj\\u00f8nn=Kvinner<br>kvartal=2008K4<br>alder=%{x}<br>value=%{y}\", \"legendgroup\": \"kj\\u00f8nn=Kvinner\", \"marker\": {\"color\": \"#EF553B\", \"symbol\": \"circle\"}, \"mode\": \"markers\", \"name\": \"kj\\u00f8nn=Kvinner\", \"showlegend\": true, \"x\": [\"16-19 \\u00e5r\", \"20-24 \\u00e5r\", \"25-29 \\u00e5r\", \"30-34 \\u00e5r\", \"35-39 \\u00e5r\", \"40-44 \\u00e5r\", \"45-49 \\u00e5r\", \"50-54 \\u00e5r\", \"55-59 \\u00e5r\", \"60-64 \\u00e5r\", \"65-66 \\u00e5r\", \"67 \\u00e5r\", \"68 \\u00e5r\", \"69 \\u00e5r\"], \"xaxis\": \"x\", \"y\": [37905.0, 237116.0, 419319.0, 508627.0, 554263.0, 516153.0, 457464.0, 453674.0, 396289.0, 314245.0, 52664.0, 5302.0, 1822.0, 860.0], \"yaxis\": \"y\", \"type\": \"scatter\"}], \"name\": \"2008K4\"}, {\"data\": [{\"hoverlabel\": {\"namelength\": 0}, \"hovertemplate\": \"kj\\u00f8nn=Menn<br>kvartal=2009K1<br>alder=%{x}<br>value=%{y}\", \"legendgroup\": \"kj\\u00f8nn=Menn\", \"marker\": {\"color\": \"#636efa\", \"symbol\": \"circle\"}, \"mode\": \"markers\", \"name\": \"kj\\u00f8nn=Menn\", \"showlegend\": true, \"x\": [\"16-19 \\u00e5r\", \"20-24 \\u00e5r\", \"25-29 \\u00e5r\", \"30-34 \\u00e5r\", \"35-39 \\u00e5r\", \"40-44 \\u00e5r\", \"45-49 \\u00e5r\", \"50-54 \\u00e5r\", \"55-59 \\u00e5r\", \"60-64 \\u00e5r\", \"65-66 \\u00e5r\", \"67 \\u00e5r\", \"68 \\u00e5r\", \"69 \\u00e5r\"], \"xaxis\": \"x\", \"y\": [41862.0, 202280.0, 275191.0, 323171.0, 402708.0, 423303.0, 380763.0, 380708.0, 379368.0, 332452.0, 60400.0, 6465.0, 2270.0, 1797.0], \"yaxis\": \"y\", \"type\": \"scatter\"}, {\"hoverlabel\": {\"namelength\": 0}, \"hovertemplate\": \"kj\\u00f8nn=Kvinner<br>kvartal=2009K1<br>alder=%{x}<br>value=%{y}\", \"legendgroup\": \"kj\\u00f8nn=Kvinner\", \"marker\": {\"color\": \"#EF553B\", \"symbol\": \"circle\"}, \"mode\": \"markers\", \"name\": \"kj\\u00f8nn=Kvinner\", \"showlegend\": true, \"x\": [\"16-19 \\u00e5r\", \"20-24 \\u00e5r\", \"25-29 \\u00e5r\", \"30-34 \\u00e5r\", \"35-39 \\u00e5r\", \"40-44 \\u00e5r\", \"45-49 \\u00e5r\", \"50-54 \\u00e5r\", \"55-59 \\u00e5r\", \"60-64 \\u00e5r\", \"65-66 \\u00e5r\", \"67 \\u00e5r\", \"68 \\u00e5r\", \"69 \\u00e5r\"], \"xaxis\": \"x\", \"y\": [40111.0, 244353.0, 441559.0, 535569.0, 567823.0, 534891.0, 472840.0, 469694.0, 416098.0, 331289.0, 56040.0, 6589.0, 1882.0, 1539.0], \"yaxis\": \"y\", \"type\": \"scatter\"}], \"name\": \"2009K1\"}, {\"data\": [{\"hoverlabel\": {\"namelength\": 0}, \"hovertemplate\": \"kj\\u00f8nn=Menn<br>kvartal=2009K2<br>alder=%{x}<br>value=%{y}\", \"legendgroup\": \"kj\\u00f8nn=Menn\", \"marker\": {\"color\": \"#636efa\", \"symbol\": \"circle\"}, \"mode\": \"markers\", \"name\": \"kj\\u00f8nn=Menn\", \"showlegend\": true, \"x\": [\"16-19 \\u00e5r\", \"20-24 \\u00e5r\", \"25-29 \\u00e5r\", \"30-34 \\u00e5r\", \"35-39 \\u00e5r\", \"40-44 \\u00e5r\", \"45-49 \\u00e5r\", \"50-54 \\u00e5r\", \"55-59 \\u00e5r\", \"60-64 \\u00e5r\", \"65-66 \\u00e5r\", \"67 \\u00e5r\", \"68 \\u00e5r\", \"69 \\u00e5r\"], \"xaxis\": \"x\", \"y\": [33758.0, 170072.0, 236516.0, 279259.0, 353982.0, 390459.0, 346451.0, 341583.0, 346007.0, 310081.0, 58545.0, 6647.0, 1774.0, 1382.0], \"yaxis\": \"y\", \"type\": \"scatter\"}, {\"hoverlabel\": {\"namelength\": 0}, \"hovertemplate\": \"kj\\u00f8nn=Kvinner<br>kvartal=2009K2<br>alder=%{x}<br>value=%{y}\", \"legendgroup\": \"kj\\u00f8nn=Kvinner\", \"marker\": {\"color\": \"#EF553B\", \"symbol\": \"circle\"}, \"mode\": \"markers\", \"name\": \"kj\\u00f8nn=Kvinner\", \"showlegend\": true, \"x\": [\"16-19 \\u00e5r\", \"20-24 \\u00e5r\", \"25-29 \\u00e5r\", \"30-34 \\u00e5r\", \"35-39 \\u00e5r\", \"40-44 \\u00e5r\", \"45-49 \\u00e5r\", \"50-54 \\u00e5r\", \"55-59 \\u00e5r\", \"60-64 \\u00e5r\", \"65-66 \\u00e5r\", \"67 \\u00e5r\", \"68 \\u00e5r\", \"69 \\u00e5r\"], \"xaxis\": \"x\", \"y\": [32243.0, 217754.0, 387567.0, 482406.0, 516990.0, 493578.0, 439209.0, 431189.0, 377410.0, 297737.0, 53533.0, 5620.0, 2129.0, 1226.0], \"yaxis\": \"y\", \"type\": \"scatter\"}], \"name\": \"2009K2\"}, {\"data\": [{\"hoverlabel\": {\"namelength\": 0}, \"hovertemplate\": \"kj\\u00f8nn=Menn<br>kvartal=2009K3<br>alder=%{x}<br>value=%{y}\", \"legendgroup\": \"kj\\u00f8nn=Menn\", \"marker\": {\"color\": \"#636efa\", \"symbol\": \"circle\"}, \"mode\": \"markers\", \"name\": \"kj\\u00f8nn=Menn\", \"showlegend\": true, \"x\": [\"16-19 \\u00e5r\", \"20-24 \\u00e5r\", \"25-29 \\u00e5r\", \"30-34 \\u00e5r\", \"35-39 \\u00e5r\", \"40-44 \\u00e5r\", \"45-49 \\u00e5r\", \"50-54 \\u00e5r\", \"55-59 \\u00e5r\", \"60-64 \\u00e5r\", \"65-66 \\u00e5r\", \"67 \\u00e5r\", \"68 \\u00e5r\", \"69 \\u00e5r\"], \"xaxis\": \"x\", \"y\": [36440.0, 186071.0, 264199.0, 305413.0, 378180.0, 414536.0, 373458.0, 363855.0, 366427.0, 319435.0, 65684.0, 7360.0, 2415.0, 1559.0], \"yaxis\": \"y\", \"type\": \"scatter\"}, {\"hoverlabel\": {\"namelength\": 0}, \"hovertemplate\": \"kj\\u00f8nn=Kvinner<br>kvartal=2009K3<br>alder=%{x}<br>value=%{y}\", \"legendgroup\": \"kj\\u00f8nn=Kvinner\", \"marker\": {\"color\": \"#EF553B\", \"symbol\": \"circle\"}, \"mode\": \"markers\", \"name\": \"kj\\u00f8nn=Kvinner\", \"showlegend\": true, \"x\": [\"16-19 \\u00e5r\", \"20-24 \\u00e5r\", \"25-29 \\u00e5r\", \"30-34 \\u00e5r\", \"35-39 \\u00e5r\", \"40-44 \\u00e5r\", \"45-49 \\u00e5r\", \"50-54 \\u00e5r\", \"55-59 \\u00e5r\", \"60-64 \\u00e5r\", \"65-66 \\u00e5r\", \"67 \\u00e5r\", \"68 \\u00e5r\", \"69 \\u00e5r\"], \"xaxis\": \"x\", \"y\": [37102.0, 241387.0, 401174.0, 473785.0, 503561.0, 488475.0, 433199.0, 423320.0, 377196.0, 295717.0, 57388.0, 6650.0, 1956.0, 1347.0], \"yaxis\": \"y\", \"type\": \"scatter\"}], \"name\": \"2009K3\"}, {\"data\": [{\"hoverlabel\": {\"namelength\": 0}, \"hovertemplate\": \"kj\\u00f8nn=Menn<br>kvartal=2009K4<br>alder=%{x}<br>value=%{y}\", \"legendgroup\": \"kj\\u00f8nn=Menn\", \"marker\": {\"color\": \"#636efa\", \"symbol\": \"circle\"}, \"mode\": \"markers\", \"name\": \"kj\\u00f8nn=Menn\", \"showlegend\": true, \"x\": [\"16-19 \\u00e5r\", \"20-24 \\u00e5r\", \"25-29 \\u00e5r\", \"30-34 \\u00e5r\", \"35-39 \\u00e5r\", \"40-44 \\u00e5r\", \"45-49 \\u00e5r\", \"50-54 \\u00e5r\", \"55-59 \\u00e5r\", \"60-64 \\u00e5r\", \"65-66 \\u00e5r\", \"67 \\u00e5r\", \"68 \\u00e5r\", \"69 \\u00e5r\"], \"xaxis\": \"x\", \"y\": [36760.0, 182675.0, 269228.0, 318958.0, 403802.0, 436225.0, 390522.0, 382721.0, 375217.0, 330271.0, 69020.0, 7929.0, 2258.0, 1579.0], \"yaxis\": \"y\", \"type\": \"scatter\"}, {\"hoverlabel\": {\"namelength\": 0}, \"hovertemplate\": \"kj\\u00f8nn=Kvinner<br>kvartal=2009K4<br>alder=%{x}<br>value=%{y}\", \"legendgroup\": \"kj\\u00f8nn=Kvinner\", \"marker\": {\"color\": \"#EF553B\", \"symbol\": \"circle\"}, \"mode\": \"markers\", \"name\": \"kj\\u00f8nn=Kvinner\", \"showlegend\": true, \"x\": [\"16-19 \\u00e5r\", \"20-24 \\u00e5r\", \"25-29 \\u00e5r\", \"30-34 \\u00e5r\", \"35-39 \\u00e5r\", \"40-44 \\u00e5r\", \"45-49 \\u00e5r\", \"50-54 \\u00e5r\", \"55-59 \\u00e5r\", \"60-64 \\u00e5r\", \"65-66 \\u00e5r\", \"67 \\u00e5r\", \"68 \\u00e5r\", \"69 \\u00e5r\"], \"xaxis\": \"x\", \"y\": [36806.0, 236767.0, 436238.0, 532557.0, 576601.0, 565258.0, 499519.0, 478792.0, 416550.0, 322295.0, 59312.0, 6739.0, 2465.0, 1373.0], \"yaxis\": \"y\", \"type\": \"scatter\"}], \"name\": \"2009K4\"}, {\"data\": [{\"hoverlabel\": {\"namelength\": 0}, \"hovertemplate\": \"kj\\u00f8nn=Menn<br>kvartal=2010K1<br>alder=%{x}<br>value=%{y}\", \"legendgroup\": \"kj\\u00f8nn=Menn\", \"marker\": {\"color\": \"#636efa\", \"symbol\": \"circle\"}, \"mode\": \"markers\", \"name\": \"kj\\u00f8nn=Menn\", \"showlegend\": true, \"x\": [\"16-19 \\u00e5r\", \"20-24 \\u00e5r\", \"25-29 \\u00e5r\", \"30-34 \\u00e5r\", \"35-39 \\u00e5r\", \"40-44 \\u00e5r\", \"45-49 \\u00e5r\", \"50-54 \\u00e5r\", \"55-59 \\u00e5r\", \"60-64 \\u00e5r\", \"65-66 \\u00e5r\", \"67 \\u00e5r\", \"68 \\u00e5r\", \"69 \\u00e5r\"], \"xaxis\": \"x\", \"y\": [29632.0, 159292.0, 237364.0, 283403.0, 351682.0, 388962.0, 349897.0, 347327.0, 342684.0, 303265.0, 62775.0, 7371.0, 2839.0, 1535.0], \"yaxis\": \"y\", \"type\": \"scatter\"}, {\"hoverlabel\": {\"namelength\": 0}, \"hovertemplate\": \"kj\\u00f8nn=Kvinner<br>kvartal=2010K1<br>alder=%{x}<br>value=%{y}\", \"legendgroup\": \"kj\\u00f8nn=Kvinner\", \"marker\": {\"color\": \"#EF553B\", \"symbol\": \"circle\"}, \"mode\": \"markers\", \"name\": \"kj\\u00f8nn=Kvinner\", \"showlegend\": true, \"x\": [\"16-19 \\u00e5r\", \"20-24 \\u00e5r\", \"25-29 \\u00e5r\", \"30-34 \\u00e5r\", \"35-39 \\u00e5r\", \"40-44 \\u00e5r\", \"45-49 \\u00e5r\", \"50-54 \\u00e5r\", \"55-59 \\u00e5r\", \"60-64 \\u00e5r\", \"65-66 \\u00e5r\", \"67 \\u00e5r\", \"68 \\u00e5r\", \"69 \\u00e5r\"], \"xaxis\": \"x\", \"y\": [29959.0, 204656.0, 389453.0, 481191.0, 517768.0, 499954.0, 444071.0, 425900.0, 375748.0, 297087.0, 57575.0, 5550.0, 2547.0, 1600.0], \"yaxis\": \"y\", \"type\": \"scatter\"}], \"name\": \"2010K1\"}, {\"data\": [{\"hoverlabel\": {\"namelength\": 0}, \"hovertemplate\": \"kj\\u00f8nn=Menn<br>kvartal=2010K2<br>alder=%{x}<br>value=%{y}\", \"legendgroup\": \"kj\\u00f8nn=Menn\", \"marker\": {\"color\": \"#636efa\", \"symbol\": \"circle\"}, \"mode\": \"markers\", \"name\": \"kj\\u00f8nn=Menn\", \"showlegend\": true, \"x\": [\"16-19 \\u00e5r\", \"20-24 \\u00e5r\", \"25-29 \\u00e5r\", \"30-34 \\u00e5r\", \"35-39 \\u00e5r\", \"40-44 \\u00e5r\", \"45-49 \\u00e5r\", \"50-54 \\u00e5r\", \"55-59 \\u00e5r\", \"60-64 \\u00e5r\", \"65-66 \\u00e5r\", \"67 \\u00e5r\", \"68 \\u00e5r\", \"69 \\u00e5r\"], \"xaxis\": \"x\", \"y\": [25387.0, 137564.0, 201856.0, 239000.0, 302873.0, 336581.0, 314471.0, 302497.0, 307110.0, 272283.0, 55020.0, 6942.0, 2367.0, 1614.0], \"yaxis\": \"y\", \"type\": \"scatter\"}, {\"hoverlabel\": {\"namelength\": 0}, \"hovertemplate\": \"kj\\u00f8nn=Kvinner<br>kvartal=2010K2<br>alder=%{x}<br>value=%{y}\", \"legendgroup\": \"kj\\u00f8nn=Kvinner\", \"marker\": {\"color\": \"#EF553B\", \"symbol\": \"circle\"}, \"mode\": \"markers\", \"name\": \"kj\\u00f8nn=Kvinner\", \"showlegend\": true, \"x\": [\"16-19 \\u00e5r\", \"20-24 \\u00e5r\", \"25-29 \\u00e5r\", \"30-34 \\u00e5r\", \"35-39 \\u00e5r\", \"40-44 \\u00e5r\", \"45-49 \\u00e5r\", \"50-54 \\u00e5r\", \"55-59 \\u00e5r\", \"60-64 \\u00e5r\", \"65-66 \\u00e5r\", \"67 \\u00e5r\", \"68 \\u00e5r\", \"69 \\u00e5r\"], \"xaxis\": \"x\", \"y\": [25000.0, 181714.0, 341124.0, 420628.0, 465887.0, 458072.0, 407488.0, 385938.0, 345707.0, 272464.0, 52898.0, 6470.0, 2522.0, 1052.0], \"yaxis\": \"y\", \"type\": \"scatter\"}], \"name\": \"2010K2\"}, {\"data\": [{\"hoverlabel\": {\"namelength\": 0}, \"hovertemplate\": \"kj\\u00f8nn=Menn<br>kvartal=2010K3<br>alder=%{x}<br>value=%{y}\", \"legendgroup\": \"kj\\u00f8nn=Menn\", \"marker\": {\"color\": \"#636efa\", \"symbol\": \"circle\"}, \"mode\": \"markers\", \"name\": \"kj\\u00f8nn=Menn\", \"showlegend\": true, \"x\": [\"16-19 \\u00e5r\", \"20-24 \\u00e5r\", \"25-29 \\u00e5r\", \"30-34 \\u00e5r\", \"35-39 \\u00e5r\", \"40-44 \\u00e5r\", \"45-49 \\u00e5r\", \"50-54 \\u00e5r\", \"55-59 \\u00e5r\", \"60-64 \\u00e5r\", \"65-66 \\u00e5r\", \"67 \\u00e5r\", \"68 \\u00e5r\", \"69 \\u00e5r\"], \"xaxis\": \"x\", \"y\": [26461.0, 144345.0, 218217.0, 255871.0, 319622.0, 358857.0, 336581.0, 318124.0, 323584.0, 281342.0, 59419.0, 6790.0, 2303.0, 1558.0], \"yaxis\": \"y\", \"type\": \"scatter\"}, {\"hoverlabel\": {\"namelength\": 0}, \"hovertemplate\": \"kj\\u00f8nn=Kvinner<br>kvartal=2010K3<br>alder=%{x}<br>value=%{y}\", \"legendgroup\": \"kj\\u00f8nn=Kvinner\", \"marker\": {\"color\": \"#EF553B\", \"symbol\": \"circle\"}, \"mode\": \"markers\", \"name\": \"kj\\u00f8nn=Kvinner\", \"showlegend\": true, \"x\": [\"16-19 \\u00e5r\", \"20-24 \\u00e5r\", \"25-29 \\u00e5r\", \"30-34 \\u00e5r\", \"35-39 \\u00e5r\", \"40-44 \\u00e5r\", \"45-49 \\u00e5r\", \"50-54 \\u00e5r\", \"55-59 \\u00e5r\", \"60-64 \\u00e5r\", \"65-66 \\u00e5r\", \"67 \\u00e5r\", \"68 \\u00e5r\", \"69 \\u00e5r\"], \"xaxis\": \"x\", \"y\": [27331.0, 187780.0, 345762.0, 409887.0, 441496.0, 437342.0, 396985.0, 382141.0, 346287.0, 275673.0, 56039.0, 5719.0, 2367.0, 1194.0], \"yaxis\": \"y\", \"type\": \"scatter\"}], \"name\": \"2010K3\"}, {\"data\": [{\"hoverlabel\": {\"namelength\": 0}, \"hovertemplate\": \"kj\\u00f8nn=Menn<br>kvartal=2010K4<br>alder=%{x}<br>value=%{y}\", \"legendgroup\": \"kj\\u00f8nn=Menn\", \"marker\": {\"color\": \"#636efa\", \"symbol\": \"circle\"}, \"mode\": \"markers\", \"name\": \"kj\\u00f8nn=Menn\", \"showlegend\": true, \"x\": [\"16-19 \\u00e5r\", \"20-24 \\u00e5r\", \"25-29 \\u00e5r\", \"30-34 \\u00e5r\", \"35-39 \\u00e5r\", \"40-44 \\u00e5r\", \"45-49 \\u00e5r\", \"50-54 \\u00e5r\", \"55-59 \\u00e5r\", \"60-64 \\u00e5r\", \"65-66 \\u00e5r\", \"67 \\u00e5r\", \"68 \\u00e5r\", \"69 \\u00e5r\"], \"xaxis\": \"x\", \"y\": [30287.0, 167572.0, 245927.0, 299237.0, 366547.0, 410014.0, 387446.0, 362412.0, 367498.0, 314618.0, 63683.0, 9127.0, 3145.0, 1935.0], \"yaxis\": \"y\", \"type\": \"scatter\"}, {\"hoverlabel\": {\"namelength\": 0}, \"hovertemplate\": \"kj\\u00f8nn=Kvinner<br>kvartal=2010K4<br>alder=%{x}<br>value=%{y}\", \"legendgroup\": \"kj\\u00f8nn=Kvinner\", \"marker\": {\"color\": \"#EF553B\", \"symbol\": \"circle\"}, \"mode\": \"markers\", \"name\": \"kj\\u00f8nn=Kvinner\", \"showlegend\": true, \"x\": [\"16-19 \\u00e5r\", \"20-24 \\u00e5r\", \"25-29 \\u00e5r\", \"30-34 \\u00e5r\", \"35-39 \\u00e5r\", \"40-44 \\u00e5r\", \"45-49 \\u00e5r\", \"50-54 \\u00e5r\", \"55-59 \\u00e5r\", \"60-64 \\u00e5r\", \"65-66 \\u00e5r\", \"67 \\u00e5r\", \"68 \\u00e5r\", \"69 \\u00e5r\"], \"xaxis\": \"x\", \"y\": [29951.0, 210150.0, 418825.0, 509372.0, 559130.0, 559875.0, 500539.0, 470935.0, 423270.0, 322394.0, 63738.0, 7933.0, 2709.0, 1561.0], \"yaxis\": \"y\", \"type\": \"scatter\"}], \"name\": \"2010K4\"}, {\"data\": [{\"hoverlabel\": {\"namelength\": 0}, \"hovertemplate\": \"kj\\u00f8nn=Menn<br>kvartal=2011K1<br>alder=%{x}<br>value=%{y}\", \"legendgroup\": \"kj\\u00f8nn=Menn\", \"marker\": {\"color\": \"#636efa\", \"symbol\": \"circle\"}, \"mode\": \"markers\", \"name\": \"kj\\u00f8nn=Menn\", \"showlegend\": true, \"x\": [\"16-19 \\u00e5r\", \"20-24 \\u00e5r\", \"25-29 \\u00e5r\", \"30-34 \\u00e5r\", \"35-39 \\u00e5r\", \"40-44 \\u00e5r\", \"45-49 \\u00e5r\", \"50-54 \\u00e5r\", \"55-59 \\u00e5r\", \"60-64 \\u00e5r\", \"65-66 \\u00e5r\", \"67 \\u00e5r\", \"68 \\u00e5r\", \"69 \\u00e5r\"], \"xaxis\": \"x\", \"y\": [32401.0, 166730.0, 250019.0, 300509.0, 371840.0, 414032.0, 393170.0, 369605.0, 373074.0, 310366.0, 61237.0, 8228.0, 3851.0, 1920.0], \"yaxis\": \"y\", \"type\": \"scatter\"}, {\"hoverlabel\": {\"namelength\": 0}, \"hovertemplate\": \"kj\\u00f8nn=Kvinner<br>kvartal=2011K1<br>alder=%{x}<br>value=%{y}\", \"legendgroup\": \"kj\\u00f8nn=Kvinner\", \"marker\": {\"color\": \"#EF553B\", \"symbol\": \"circle\"}, \"mode\": \"markers\", \"name\": \"kj\\u00f8nn=Kvinner\", \"showlegend\": true, \"x\": [\"16-19 \\u00e5r\", \"20-24 \\u00e5r\", \"25-29 \\u00e5r\", \"30-34 \\u00e5r\", \"35-39 \\u00e5r\", \"40-44 \\u00e5r\", \"45-49 \\u00e5r\", \"50-54 \\u00e5r\", \"55-59 \\u00e5r\", \"60-64 \\u00e5r\", \"65-66 \\u00e5r\", \"67 \\u00e5r\", \"68 \\u00e5r\", \"69 \\u00e5r\"], \"xaxis\": \"x\", \"y\": [29648.0, 214281.0, 421616.0, 521710.0, 556521.0, 569128.0, 515265.0, 483980.0, 449242.0, 334996.0, 65909.0, 9566.0, 3009.0, 2236.0], \"yaxis\": \"y\", \"type\": \"scatter\"}], \"name\": \"2011K1\"}, {\"data\": [{\"hoverlabel\": {\"namelength\": 0}, \"hovertemplate\": \"kj\\u00f8nn=Menn<br>kvartal=2011K2<br>alder=%{x}<br>value=%{y}\", \"legendgroup\": \"kj\\u00f8nn=Menn\", \"marker\": {\"color\": \"#636efa\", \"symbol\": \"circle\"}, \"mode\": \"markers\", \"name\": \"kj\\u00f8nn=Menn\", \"showlegend\": true, \"x\": [\"16-19 \\u00e5r\", \"20-24 \\u00e5r\", \"25-29 \\u00e5r\", \"30-34 \\u00e5r\", \"35-39 \\u00e5r\", \"40-44 \\u00e5r\", \"45-49 \\u00e5r\", \"50-54 \\u00e5r\", \"55-59 \\u00e5r\", \"60-64 \\u00e5r\", \"65-66 \\u00e5r\", \"67 \\u00e5r\", \"68 \\u00e5r\", \"69 \\u00e5r\"], \"xaxis\": \"x\", \"y\": [22612.0, 130209.0, 190873.0, 236296.0, 297579.0, 337043.0, 323231.0, 308995.0, 319316.0, 271889.0, 54597.0, 9091.0, 3540.0, 1795.0], \"yaxis\": \"y\", \"type\": \"scatter\"}, {\"hoverlabel\": {\"namelength\": 0}, \"hovertemplate\": \"kj\\u00f8nn=Kvinner<br>kvartal=2011K2<br>alder=%{x}<br>value=%{y}\", \"legendgroup\": \"kj\\u00f8nn=Kvinner\", \"marker\": {\"color\": \"#EF553B\", \"symbol\": \"circle\"}, \"mode\": \"markers\", \"name\": \"kj\\u00f8nn=Kvinner\", \"showlegend\": true, \"x\": [\"16-19 \\u00e5r\", \"20-24 \\u00e5r\", \"25-29 \\u00e5r\", \"30-34 \\u00e5r\", \"35-39 \\u00e5r\", \"40-44 \\u00e5r\", \"45-49 \\u00e5r\", \"50-54 \\u00e5r\", \"55-59 \\u00e5r\", \"60-64 \\u00e5r\", \"65-66 \\u00e5r\", \"67 \\u00e5r\", \"68 \\u00e5r\", \"69 \\u00e5r\"], \"xaxis\": \"x\", \"y\": [22895.0, 172098.0, 339571.0, 430404.0, 467241.0, 488099.0, 441234.0, 407350.0, 382056.0, 290188.0, 56327.0, 8172.0, 2482.0, 1741.0], \"yaxis\": \"y\", \"type\": \"scatter\"}], \"name\": \"2011K2\"}, {\"data\": [{\"hoverlabel\": {\"namelength\": 0}, \"hovertemplate\": \"kj\\u00f8nn=Menn<br>kvartal=2011K3<br>alder=%{x}<br>value=%{y}\", \"legendgroup\": \"kj\\u00f8nn=Menn\", \"marker\": {\"color\": \"#636efa\", \"symbol\": \"circle\"}, \"mode\": \"markers\", \"name\": \"kj\\u00f8nn=Menn\", \"showlegend\": true, \"x\": [\"16-19 \\u00e5r\", \"20-24 \\u00e5r\", \"25-29 \\u00e5r\", \"30-34 \\u00e5r\", \"35-39 \\u00e5r\", \"40-44 \\u00e5r\", \"45-49 \\u00e5r\", \"50-54 \\u00e5r\", \"55-59 \\u00e5r\", \"60-64 \\u00e5r\", \"65-66 \\u00e5r\", \"67 \\u00e5r\", \"68 \\u00e5r\", \"69 \\u00e5r\"], \"xaxis\": \"x\", \"y\": [24692.0, 134116.0, 195629.0, 231859.0, 287122.0, 328523.0, 318029.0, 308696.0, 317041.0, 268727.0, 53560.0, 9750.0, 3279.0, 1866.0], \"yaxis\": \"y\", \"type\": \"scatter\"}, {\"hoverlabel\": {\"namelength\": 0}, \"hovertemplate\": \"kj\\u00f8nn=Kvinner<br>kvartal=2011K3<br>alder=%{x}<br>value=%{y}\", \"legendgroup\": \"kj\\u00f8nn=Kvinner\", \"marker\": {\"color\": \"#EF553B\", \"symbol\": \"circle\"}, \"mode\": \"markers\", \"name\": \"kj\\u00f8nn=Kvinner\", \"showlegend\": true, \"x\": [\"16-19 \\u00e5r\", \"20-24 \\u00e5r\", \"25-29 \\u00e5r\", \"30-34 \\u00e5r\", \"35-39 \\u00e5r\", \"40-44 \\u00e5r\", \"45-49 \\u00e5r\", \"50-54 \\u00e5r\", \"55-59 \\u00e5r\", \"60-64 \\u00e5r\", \"65-66 \\u00e5r\", \"67 \\u00e5r\", \"68 \\u00e5r\", \"69 \\u00e5r\"], \"xaxis\": \"x\", \"y\": [23320.0, 169625.0, 316744.0, 386473.0, 412155.0, 430453.0, 390006.0, 370004.0, 350129.0, 269607.0, 56739.0, 6589.0, 2278.0, 1487.0], \"yaxis\": \"y\", \"type\": \"scatter\"}], \"name\": \"2011K3\"}, {\"data\": [{\"hoverlabel\": {\"namelength\": 0}, \"hovertemplate\": \"kj\\u00f8nn=Menn<br>kvartal=2011K4<br>alder=%{x}<br>value=%{y}\", \"legendgroup\": \"kj\\u00f8nn=Menn\", \"marker\": {\"color\": \"#636efa\", \"symbol\": \"circle\"}, \"mode\": \"markers\", \"name\": \"kj\\u00f8nn=Menn\", \"showlegend\": true, \"x\": [\"16-19 \\u00e5r\", \"20-24 \\u00e5r\", \"25-29 \\u00e5r\", \"30-34 \\u00e5r\", \"35-39 \\u00e5r\", \"40-44 \\u00e5r\", \"45-49 \\u00e5r\", \"50-54 \\u00e5r\", \"55-59 \\u00e5r\", \"60-64 \\u00e5r\", \"65-66 \\u00e5r\", \"67 \\u00e5r\", \"68 \\u00e5r\", \"69 \\u00e5r\"], \"xaxis\": \"x\", \"y\": [27792.0, 148212.0, 216367.0, 258283.0, 314564.0, 361651.0, 344296.0, 340487.0, 337148.0, 287130.0, 59428.0, 9326.0, 3712.0, 2582.0], \"yaxis\": \"y\", \"type\": \"scatter\"}, {\"hoverlabel\": {\"namelength\": 0}, \"hovertemplate\": \"kj\\u00f8nn=Kvinner<br>kvartal=2011K4<br>alder=%{x}<br>value=%{y}\", \"legendgroup\": \"kj\\u00f8nn=Kvinner\", \"marker\": {\"color\": \"#EF553B\", \"symbol\": \"circle\"}, \"mode\": \"markers\", \"name\": \"kj\\u00f8nn=Kvinner\", \"showlegend\": true, \"x\": [\"16-19 \\u00e5r\", \"20-24 \\u00e5r\", \"25-29 \\u00e5r\", \"30-34 \\u00e5r\", \"35-39 \\u00e5r\", \"40-44 \\u00e5r\", \"45-49 \\u00e5r\", \"50-54 \\u00e5r\", \"55-59 \\u00e5r\", \"60-64 \\u00e5r\", \"65-66 \\u00e5r\", \"67 \\u00e5r\", \"68 \\u00e5r\", \"69 \\u00e5r\"], \"xaxis\": \"x\", \"y\": [26610.0, 184580.0, 372099.0, 469093.0, 503054.0, 522593.0, 462355.0, 433980.0, 405638.0, 306117.0, 62987.0, 7193.0, 3344.0, 1611.0], \"yaxis\": \"y\", \"type\": \"scatter\"}], \"name\": \"2011K4\"}, {\"data\": [{\"hoverlabel\": {\"namelength\": 0}, \"hovertemplate\": \"kj\\u00f8nn=Menn<br>kvartal=2012K1<br>alder=%{x}<br>value=%{y}\", \"legendgroup\": \"kj\\u00f8nn=Menn\", \"marker\": {\"color\": \"#636efa\", \"symbol\": \"circle\"}, \"mode\": \"markers\", \"name\": \"kj\\u00f8nn=Menn\", \"showlegend\": true, \"x\": [\"16-19 \\u00e5r\", \"20-24 \\u00e5r\", \"25-29 \\u00e5r\", \"30-34 \\u00e5r\", \"35-39 \\u00e5r\", \"40-44 \\u00e5r\", \"45-49 \\u00e5r\", \"50-54 \\u00e5r\", \"55-59 \\u00e5r\", \"60-64 \\u00e5r\", \"65-66 \\u00e5r\", \"67 \\u00e5r\", \"68 \\u00e5r\", \"69 \\u00e5r\"], \"xaxis\": \"x\", \"y\": [28848.0, 160988.0, 231501.0, 278914.0, 329470.0, 382553.0, 366451.0, 351560.0, 359390.0, 299354.0, 61210.0, 9928.0, 4472.0, 3405.0], \"yaxis\": \"y\", \"type\": \"scatter\"}, {\"hoverlabel\": {\"namelength\": 0}, \"hovertemplate\": \"kj\\u00f8nn=Kvinner<br>kvartal=2012K1<br>alder=%{x}<br>value=%{y}\", \"legendgroup\": \"kj\\u00f8nn=Kvinner\", \"marker\": {\"color\": \"#EF553B\", \"symbol\": \"circle\"}, \"mode\": \"markers\", \"name\": \"kj\\u00f8nn=Kvinner\", \"showlegend\": true, \"x\": [\"16-19 \\u00e5r\", \"20-24 \\u00e5r\", \"25-29 \\u00e5r\", \"30-34 \\u00e5r\", \"35-39 \\u00e5r\", \"40-44 \\u00e5r\", \"45-49 \\u00e5r\", \"50-54 \\u00e5r\", \"55-59 \\u00e5r\", \"60-64 \\u00e5r\", \"65-66 \\u00e5r\", \"67 \\u00e5r\", \"68 \\u00e5r\", \"69 \\u00e5r\"], \"xaxis\": \"x\", \"y\": [28426.0, 198426.0, 398673.0, 510650.0, 527102.0, 554345.0, 492895.0, 467481.0, 436618.0, 334131.0, 67882.0, 9682.0, 3646.0, 2334.0], \"yaxis\": \"y\", \"type\": \"scatter\"}], \"name\": \"2012K1\"}, {\"data\": [{\"hoverlabel\": {\"namelength\": 0}, \"hovertemplate\": \"kj\\u00f8nn=Menn<br>kvartal=2012K2<br>alder=%{x}<br>value=%{y}\", \"legendgroup\": \"kj\\u00f8nn=Menn\", \"marker\": {\"color\": \"#636efa\", \"symbol\": \"circle\"}, \"mode\": \"markers\", \"name\": \"kj\\u00f8nn=Menn\", \"showlegend\": true, \"x\": [\"16-19 \\u00e5r\", \"20-24 \\u00e5r\", \"25-29 \\u00e5r\", \"30-34 \\u00e5r\", \"35-39 \\u00e5r\", \"40-44 \\u00e5r\", \"45-49 \\u00e5r\", \"50-54 \\u00e5r\", \"55-59 \\u00e5r\", \"60-64 \\u00e5r\", \"65-66 \\u00e5r\", \"67 \\u00e5r\", \"68 \\u00e5r\", \"69 \\u00e5r\"], \"xaxis\": \"x\", \"y\": [22826.0, 124211.0, 181948.0, 214377.0, 256461.0, 313042.0, 307803.0, 292723.0, 298828.0, 250470.0, 55406.0, 8486.0, 4250.0, 2749.0], \"yaxis\": \"y\", \"type\": \"scatter\"}, {\"hoverlabel\": {\"namelength\": 0}, \"hovertemplate\": \"kj\\u00f8nn=Kvinner<br>kvartal=2012K2<br>alder=%{x}<br>value=%{y}\", \"legendgroup\": \"kj\\u00f8nn=Kvinner\", \"marker\": {\"color\": \"#EF553B\", \"symbol\": \"circle\"}, \"mode\": \"markers\", \"name\": \"kj\\u00f8nn=Kvinner\", \"showlegend\": true, \"x\": [\"16-19 \\u00e5r\", \"20-24 \\u00e5r\", \"25-29 \\u00e5r\", \"30-34 \\u00e5r\", \"35-39 \\u00e5r\", \"40-44 \\u00e5r\", \"45-49 \\u00e5r\", \"50-54 \\u00e5r\", \"55-59 \\u00e5r\", \"60-64 \\u00e5r\", \"65-66 \\u00e5r\", \"67 \\u00e5r\", \"68 \\u00e5r\", \"69 \\u00e5r\"], \"xaxis\": \"x\", \"y\": [20463.0, 160994.0, 327580.0, 410891.0, 435273.0, 459839.0, 417169.0, 390747.0, 358707.0, 282764.0, 60767.0, 8116.0, 2635.0, 1867.0], \"yaxis\": \"y\", \"type\": \"scatter\"}], \"name\": \"2012K2\"}, {\"data\": [{\"hoverlabel\": {\"namelength\": 0}, \"hovertemplate\": \"kj\\u00f8nn=Menn<br>kvartal=2012K3<br>alder=%{x}<br>value=%{y}\", \"legendgroup\": \"kj\\u00f8nn=Menn\", \"marker\": {\"color\": \"#636efa\", \"symbol\": \"circle\"}, \"mode\": \"markers\", \"name\": \"kj\\u00f8nn=Menn\", \"showlegend\": true, \"x\": [\"16-19 \\u00e5r\", \"20-24 \\u00e5r\", \"25-29 \\u00e5r\", \"30-34 \\u00e5r\", \"35-39 \\u00e5r\", \"40-44 \\u00e5r\", \"45-49 \\u00e5r\", \"50-54 \\u00e5r\", \"55-59 \\u00e5r\", \"60-64 \\u00e5r\", \"65-66 \\u00e5r\", \"67 \\u00e5r\", \"68 \\u00e5r\", \"69 \\u00e5r\"], \"xaxis\": \"x\", \"y\": [22780.0, 135088.0, 196806.0, 226352.0, 271414.0, 319084.0, 325247.0, 305983.0, 312703.0, 261110.0, 61671.0, 8019.0, 4906.0, 2126.0], \"yaxis\": \"y\", \"type\": \"scatter\"}, {\"hoverlabel\": {\"namelength\": 0}, \"hovertemplate\": \"kj\\u00f8nn=Kvinner<br>kvartal=2012K3<br>alder=%{x}<br>value=%{y}\", \"legendgroup\": \"kj\\u00f8nn=Kvinner\", \"marker\": {\"color\": \"#EF553B\", \"symbol\": \"circle\"}, \"mode\": \"markers\", \"name\": \"kj\\u00f8nn=Kvinner\", \"showlegend\": true, \"x\": [\"16-19 \\u00e5r\", \"20-24 \\u00e5r\", \"25-29 \\u00e5r\", \"30-34 \\u00e5r\", \"35-39 \\u00e5r\", \"40-44 \\u00e5r\", \"45-49 \\u00e5r\", \"50-54 \\u00e5r\", \"55-59 \\u00e5r\", \"60-64 \\u00e5r\", \"65-66 \\u00e5r\", \"67 \\u00e5r\", \"68 \\u00e5r\", \"69 \\u00e5r\"], \"xaxis\": \"x\", \"y\": [21272.0, 166079.0, 318454.0, 385515.0, 394663.0, 430160.0, 398022.0, 379219.0, 352884.0, 280877.0, 62424.0, 6522.0, 3102.0, 1604.0], \"yaxis\": \"y\", \"type\": \"scatter\"}], \"name\": \"2012K3\"}, {\"data\": [{\"hoverlabel\": {\"namelength\": 0}, \"hovertemplate\": \"kj\\u00f8nn=Menn<br>kvartal=2012K4<br>alder=%{x}<br>value=%{y}\", \"legendgroup\": \"kj\\u00f8nn=Menn\", \"marker\": {\"color\": \"#636efa\", \"symbol\": \"circle\"}, \"mode\": \"markers\", \"name\": \"kj\\u00f8nn=Menn\", \"showlegend\": true, \"x\": [\"16-19 \\u00e5r\", \"20-24 \\u00e5r\", \"25-29 \\u00e5r\", \"30-34 \\u00e5r\", \"35-39 \\u00e5r\", \"40-44 \\u00e5r\", \"45-49 \\u00e5r\", \"50-54 \\u00e5r\", \"55-59 \\u00e5r\", \"60-64 \\u00e5r\", \"65-66 \\u00e5r\", \"67 \\u00e5r\", \"68 \\u00e5r\", \"69 \\u00e5r\"], \"xaxis\": \"x\", \"y\": [26859.0, 151710.0, 221613.0, 272395.0, 314037.0, 362711.0, 368204.0, 348074.0, 354152.0, 289456.0, 65369.0, 10514.0, 4618.0, 3313.0], \"yaxis\": \"y\", \"type\": \"scatter\"}, {\"hoverlabel\": {\"namelength\": 0}, \"hovertemplate\": \"kj\\u00f8nn=Kvinner<br>kvartal=2012K4<br>alder=%{x}<br>value=%{y}\", \"legendgroup\": \"kj\\u00f8nn=Kvinner\", \"marker\": {\"color\": \"#EF553B\", \"symbol\": \"circle\"}, \"mode\": \"markers\", \"name\": \"kj\\u00f8nn=Kvinner\", \"showlegend\": true, \"x\": [\"16-19 \\u00e5r\", \"20-24 \\u00e5r\", \"25-29 \\u00e5r\", \"30-34 \\u00e5r\", \"35-39 \\u00e5r\", \"40-44 \\u00e5r\", \"45-49 \\u00e5r\", \"50-54 \\u00e5r\", \"55-59 \\u00e5r\", \"60-64 \\u00e5r\", \"65-66 \\u00e5r\", \"67 \\u00e5r\", \"68 \\u00e5r\", \"69 \\u00e5r\"], \"xaxis\": \"x\", \"y\": [24577.0, 185645.0, 391441.0, 488482.0, 500667.0, 533849.0, 490893.0, 457919.0, 419964.0, 323427.0, 65914.0, 7636.0, 2804.0, 2853.0], \"yaxis\": \"y\", \"type\": \"scatter\"}], \"name\": \"2012K4\"}, {\"data\": [{\"hoverlabel\": {\"namelength\": 0}, \"hovertemplate\": \"kj\\u00f8nn=Menn<br>kvartal=2013K1<br>alder=%{x}<br>value=%{y}\", \"legendgroup\": \"kj\\u00f8nn=Menn\", \"marker\": {\"color\": \"#636efa\", \"symbol\": \"circle\"}, \"mode\": \"markers\", \"name\": \"kj\\u00f8nn=Menn\", \"showlegend\": true, \"x\": [\"16-19 \\u00e5r\", \"20-24 \\u00e5r\", \"25-29 \\u00e5r\", \"30-34 \\u00e5r\", \"35-39 \\u00e5r\", \"40-44 \\u00e5r\", \"45-49 \\u00e5r\", \"50-54 \\u00e5r\", \"55-59 \\u00e5r\", \"60-64 \\u00e5r\", \"65-66 \\u00e5r\", \"67 \\u00e5r\", \"68 \\u00e5r\", \"69 \\u00e5r\"], \"xaxis\": \"x\", \"y\": [28375.0, 150555.0, 222459.0, 275523.0, 317215.0, 372003.0, 378245.0, 349214.0, 357491.0, 293248.0, 63463.0, 10846.0, 5051.0, 3662.0], \"yaxis\": \"y\", \"type\": \"scatter\"}, {\"hoverlabel\": {\"namelength\": 0}, \"hovertemplate\": \"kj\\u00f8nn=Kvinner<br>kvartal=2013K1<br>alder=%{x}<br>value=%{y}\", \"legendgroup\": \"kj\\u00f8nn=Kvinner\", \"marker\": {\"color\": \"#EF553B\", \"symbol\": \"circle\"}, \"mode\": \"markers\", \"name\": \"kj\\u00f8nn=Kvinner\", \"showlegend\": true, \"x\": [\"16-19 \\u00e5r\", \"20-24 \\u00e5r\", \"25-29 \\u00e5r\", \"30-34 \\u00e5r\", \"35-39 \\u00e5r\", \"40-44 \\u00e5r\", \"45-49 \\u00e5r\", \"50-54 \\u00e5r\", \"55-59 \\u00e5r\", \"60-64 \\u00e5r\", \"65-66 \\u00e5r\", \"67 \\u00e5r\", \"68 \\u00e5r\", \"69 \\u00e5r\"], \"xaxis\": \"x\", \"y\": [24961.0, 186768.0, 392885.0, 498965.0, 501774.0, 537694.0, 492928.0, 457475.0, 431895.0, 334337.0, 66437.0, 9996.0, 3153.0, 2904.0], \"yaxis\": \"y\", \"type\": \"scatter\"}], \"name\": \"2013K1\"}, {\"data\": [{\"hoverlabel\": {\"namelength\": 0}, \"hovertemplate\": \"kj\\u00f8nn=Menn<br>kvartal=2013K2<br>alder=%{x}<br>value=%{y}\", \"legendgroup\": \"kj\\u00f8nn=Menn\", \"marker\": {\"color\": \"#636efa\", \"symbol\": \"circle\"}, \"mode\": \"markers\", \"name\": \"kj\\u00f8nn=Menn\", \"showlegend\": true, \"x\": [\"16-19 \\u00e5r\", \"20-24 \\u00e5r\", \"25-29 \\u00e5r\", \"30-34 \\u00e5r\", \"35-39 \\u00e5r\", \"40-44 \\u00e5r\", \"45-49 \\u00e5r\", \"50-54 \\u00e5r\", \"55-59 \\u00e5r\", \"60-64 \\u00e5r\", \"65-66 \\u00e5r\", \"67 \\u00e5r\", \"68 \\u00e5r\", \"69 \\u00e5r\"], \"xaxis\": \"x\", \"y\": [23089.0, 129143.0, 188382.0, 229297.0, 268871.0, 318427.0, 327617.0, 302617.0, 311415.0, 263384.0, 58486.0, 9680.0, 4122.0, 3325.0], \"yaxis\": \"y\", \"type\": \"scatter\"}, {\"hoverlabel\": {\"namelength\": 0}, \"hovertemplate\": \"kj\\u00f8nn=Kvinner<br>kvartal=2013K2<br>alder=%{x}<br>value=%{y}\", \"legendgroup\": \"kj\\u00f8nn=Kvinner\", \"marker\": {\"color\": \"#EF553B\", \"symbol\": \"circle\"}, \"mode\": \"markers\", \"name\": \"kj\\u00f8nn=Kvinner\", \"showlegend\": true, \"x\": [\"16-19 \\u00e5r\", \"20-24 \\u00e5r\", \"25-29 \\u00e5r\", \"30-34 \\u00e5r\", \"35-39 \\u00e5r\", \"40-44 \\u00e5r\", \"45-49 \\u00e5r\", \"50-54 \\u00e5r\", \"55-59 \\u00e5r\", \"60-64 \\u00e5r\", \"65-66 \\u00e5r\", \"67 \\u00e5r\", \"68 \\u00e5r\", \"69 \\u00e5r\"], \"xaxis\": \"x\", \"y\": [20276.0, 160932.0, 339791.0, 420996.0, 433593.0, 472924.0, 434975.0, 399829.0, 374370.0, 295208.0, 63647.0, 9186.0, 2497.0, 2625.0], \"yaxis\": \"y\", \"type\": \"scatter\"}], \"name\": \"2013K2\"}, {\"data\": [{\"hoverlabel\": {\"namelength\": 0}, \"hovertemplate\": \"kj\\u00f8nn=Menn<br>kvartal=2013K3<br>alder=%{x}<br>value=%{y}\", \"legendgroup\": \"kj\\u00f8nn=Menn\", \"marker\": {\"color\": \"#636efa\", \"symbol\": \"circle\"}, \"mode\": \"markers\", \"name\": \"kj\\u00f8nn=Menn\", \"showlegend\": true, \"x\": [\"16-19 \\u00e5r\", \"20-24 \\u00e5r\", \"25-29 \\u00e5r\", \"30-34 \\u00e5r\", \"35-39 \\u00e5r\", \"40-44 \\u00e5r\", \"45-49 \\u00e5r\", \"50-54 \\u00e5r\", \"55-59 \\u00e5r\", \"60-64 \\u00e5r\", \"65-66 \\u00e5r\", \"67 \\u00e5r\", \"68 \\u00e5r\", \"69 \\u00e5r\"], \"xaxis\": \"x\", \"y\": [21666.0, 131768.0, 196412.0, 232303.0, 268614.0, 313877.0, 326551.0, 307947.0, 314428.0, 264644.0, 59278.0, 10184.0, 3939.0, 2909.0], \"yaxis\": \"y\", \"type\": \"scatter\"}, {\"hoverlabel\": {\"namelength\": 0}, \"hovertemplate\": \"kj\\u00f8nn=Kvinner<br>kvartal=2013K3<br>alder=%{x}<br>value=%{y}\", \"legendgroup\": \"kj\\u00f8nn=Kvinner\", \"marker\": {\"color\": \"#EF553B\", \"symbol\": \"circle\"}, \"mode\": \"markers\", \"name\": \"kj\\u00f8nn=Kvinner\", \"showlegend\": true, \"x\": [\"16-19 \\u00e5r\", \"20-24 \\u00e5r\", \"25-29 \\u00e5r\", \"30-34 \\u00e5r\", \"35-39 \\u00e5r\", \"40-44 \\u00e5r\", \"45-49 \\u00e5r\", \"50-54 \\u00e5r\", \"55-59 \\u00e5r\", \"60-64 \\u00e5r\", \"65-66 \\u00e5r\", \"67 \\u00e5r\", \"68 \\u00e5r\", \"69 \\u00e5r\"], \"xaxis\": \"x\", \"y\": [20177.0, 159349.0, 320967.0, 383385.0, 390324.0, 419649.0, 401550.0, 377963.0, 354654.0, 278256.0, 60771.0, 7788.0, 2586.0, 2216.0], \"yaxis\": \"y\", \"type\": \"scatter\"}], \"name\": \"2013K3\"}, {\"data\": [{\"hoverlabel\": {\"namelength\": 0}, \"hovertemplate\": \"kj\\u00f8nn=Menn<br>kvartal=2013K4<br>alder=%{x}<br>value=%{y}\", \"legendgroup\": \"kj\\u00f8nn=Menn\", \"marker\": {\"color\": \"#636efa\", \"symbol\": \"circle\"}, \"mode\": \"markers\", \"name\": \"kj\\u00f8nn=Menn\", \"showlegend\": true, \"x\": [\"16-19 \\u00e5r\", \"20-24 \\u00e5r\", \"25-29 \\u00e5r\", \"30-34 \\u00e5r\", \"35-39 \\u00e5r\", \"40-44 \\u00e5r\", \"45-49 \\u00e5r\", \"50-54 \\u00e5r\", \"55-59 \\u00e5r\", \"60-64 \\u00e5r\", \"65-66 \\u00e5r\", \"67 \\u00e5r\", \"68 \\u00e5r\", \"69 \\u00e5r\"], \"xaxis\": \"x\", \"y\": [25400.0, 142246.0, 218951.0, 261339.0, 303365.0, 358866.0, 369077.0, 339031.0, 345447.0, 285832.0, 63388.0, 10604.0, 5292.0, 3794.0], \"yaxis\": \"y\", \"type\": \"scatter\"}, {\"hoverlabel\": {\"namelength\": 0}, \"hovertemplate\": \"kj\\u00f8nn=Kvinner<br>kvartal=2013K4<br>alder=%{x}<br>value=%{y}\", \"legendgroup\": \"kj\\u00f8nn=Kvinner\", \"marker\": {\"color\": \"#EF553B\", \"symbol\": \"circle\"}, \"mode\": \"markers\", \"name\": \"kj\\u00f8nn=Kvinner\", \"showlegend\": true, \"x\": [\"16-19 \\u00e5r\", \"20-24 \\u00e5r\", \"25-29 \\u00e5r\", \"30-34 \\u00e5r\", \"35-39 \\u00e5r\", \"40-44 \\u00e5r\", \"45-49 \\u00e5r\", \"50-54 \\u00e5r\", \"55-59 \\u00e5r\", \"60-64 \\u00e5r\", \"65-66 \\u00e5r\", \"67 \\u00e5r\", \"68 \\u00e5r\", \"69 \\u00e5r\"], \"xaxis\": \"x\", \"y\": [23197.0, 173479.0, 390190.0, 475153.0, 492328.0, 522466.0, 490626.0, 447049.0, 409241.0, 316169.0, 63846.0, 9912.0, 3211.0, 2294.0], \"yaxis\": \"y\", \"type\": \"scatter\"}], \"name\": \"2013K4\"}, {\"data\": [{\"hoverlabel\": {\"namelength\": 0}, \"hovertemplate\": \"kj\\u00f8nn=Menn<br>kvartal=2014K1<br>alder=%{x}<br>value=%{y}\", \"legendgroup\": \"kj\\u00f8nn=Menn\", \"marker\": {\"color\": \"#636efa\", \"symbol\": \"circle\"}, \"mode\": \"markers\", \"name\": \"kj\\u00f8nn=Menn\", \"showlegend\": true, \"x\": [\"16-19 \\u00e5r\", \"20-24 \\u00e5r\", \"25-29 \\u00e5r\", \"30-34 \\u00e5r\", \"35-39 \\u00e5r\", \"40-44 \\u00e5r\", \"45-49 \\u00e5r\", \"50-54 \\u00e5r\", \"55-59 \\u00e5r\", \"60-64 \\u00e5r\", \"65-66 \\u00e5r\", \"67 \\u00e5r\", \"68 \\u00e5r\", \"69 \\u00e5r\"], \"xaxis\": \"x\", \"y\": [26081.0, 140466.0, 217934.0, 274220.0, 310730.0, 362884.0, 380180.0, 354646.0, 352420.0, 293697.0, 65849.0, 11324.0, 5674.0, 3724.0], \"yaxis\": \"y\", \"type\": \"scatter\"}, {\"hoverlabel\": {\"namelength\": 0}, \"hovertemplate\": \"kj\\u00f8nn=Kvinner<br>kvartal=2014K1<br>alder=%{x}<br>value=%{y}\", \"legendgroup\": \"kj\\u00f8nn=Kvinner\", \"marker\": {\"color\": \"#EF553B\", \"symbol\": \"circle\"}, \"mode\": \"markers\", \"name\": \"kj\\u00f8nn=Kvinner\", \"showlegend\": true, \"x\": [\"16-19 \\u00e5r\", \"20-24 \\u00e5r\", \"25-29 \\u00e5r\", \"30-34 \\u00e5r\", \"35-39 \\u00e5r\", \"40-44 \\u00e5r\", \"45-49 \\u00e5r\", \"50-54 \\u00e5r\", \"55-59 \\u00e5r\", \"60-64 \\u00e5r\", \"65-66 \\u00e5r\", \"67 \\u00e5r\", \"68 \\u00e5r\", \"69 \\u00e5r\"], \"xaxis\": \"x\", \"y\": [23404.0, 176128.0, 399112.0, 489642.0, 504146.0, 534000.0, 519582.0, 457466.0, 421917.0, 332325.0, 66518.0, 9643.0, 3846.0, 2578.0], \"yaxis\": \"y\", \"type\": \"scatter\"}], \"name\": \"2014K1\"}, {\"data\": [{\"hoverlabel\": {\"namelength\": 0}, \"hovertemplate\": \"kj\\u00f8nn=Menn<br>kvartal=2014K2<br>alder=%{x}<br>value=%{y}\", \"legendgroup\": \"kj\\u00f8nn=Menn\", \"marker\": {\"color\": \"#636efa\", \"symbol\": \"circle\"}, \"mode\": \"markers\", \"name\": \"kj\\u00f8nn=Menn\", \"showlegend\": true, \"x\": [\"16-19 \\u00e5r\", \"20-24 \\u00e5r\", \"25-29 \\u00e5r\", \"30-34 \\u00e5r\", \"35-39 \\u00e5r\", \"40-44 \\u00e5r\", \"45-49 \\u00e5r\", \"50-54 \\u00e5r\", \"55-59 \\u00e5r\", \"60-64 \\u00e5r\", \"65-66 \\u00e5r\", \"67 \\u00e5r\", \"68 \\u00e5r\", \"69 \\u00e5r\"], \"xaxis\": \"x\", \"y\": [20596.0, 121589.0, 183780.0, 230331.0, 257321.0, 313112.0, 335118.0, 311417.0, 313789.0, 260533.0, 60776.0, 9789.0, 4908.0, 3226.0], \"yaxis\": \"y\", \"type\": \"scatter\"}, {\"hoverlabel\": {\"namelength\": 0}, \"hovertemplate\": \"kj\\u00f8nn=Kvinner<br>kvartal=2014K2<br>alder=%{x}<br>value=%{y}\", \"legendgroup\": \"kj\\u00f8nn=Kvinner\", \"marker\": {\"color\": \"#EF553B\", \"symbol\": \"circle\"}, \"mode\": \"markers\", \"name\": \"kj\\u00f8nn=Kvinner\", \"showlegend\": true, \"x\": [\"16-19 \\u00e5r\", \"20-24 \\u00e5r\", \"25-29 \\u00e5r\", \"30-34 \\u00e5r\", \"35-39 \\u00e5r\", \"40-44 \\u00e5r\", \"45-49 \\u00e5r\", \"50-54 \\u00e5r\", \"55-59 \\u00e5r\", \"60-64 \\u00e5r\", \"65-66 \\u00e5r\", \"67 \\u00e5r\", \"68 \\u00e5r\", \"69 \\u00e5r\"], \"xaxis\": \"x\", \"y\": [19259.0, 151463.0, 340146.0, 424377.0, 438445.0, 468155.0, 462116.0, 409679.0, 376453.0, 293640.0, 61232.0, 8259.0, 3387.0, 2040.0], \"yaxis\": \"y\", \"type\": \"scatter\"}], \"name\": \"2014K2\"}, {\"data\": [{\"hoverlabel\": {\"namelength\": 0}, \"hovertemplate\": \"kj\\u00f8nn=Menn<br>kvartal=2014K3<br>alder=%{x}<br>value=%{y}\", \"legendgroup\": \"kj\\u00f8nn=Menn\", \"marker\": {\"color\": \"#636efa\", \"symbol\": \"circle\"}, \"mode\": \"markers\", \"name\": \"kj\\u00f8nn=Menn\", \"showlegend\": true, \"x\": [\"16-19 \\u00e5r\", \"20-24 \\u00e5r\", \"25-29 \\u00e5r\", \"30-34 \\u00e5r\", \"35-39 \\u00e5r\", \"40-44 \\u00e5r\", \"45-49 \\u00e5r\", \"50-54 \\u00e5r\", \"55-59 \\u00e5r\", \"60-64 \\u00e5r\", \"65-66 \\u00e5r\", \"67 \\u00e5r\", \"68 \\u00e5r\", \"69 \\u00e5r\"], \"xaxis\": \"x\", \"y\": [23736.0, 130029.0, 203432.0, 245757.0, 268756.0, 326157.0, 346128.0, 324687.0, 329434.0, 271868.0, 65533.0, 10247.0, 5506.0, 3329.0], \"yaxis\": \"y\", \"type\": \"scatter\"}, {\"hoverlabel\": {\"namelength\": 0}, \"hovertemplate\": \"kj\\u00f8nn=Kvinner<br>kvartal=2014K3<br>alder=%{x}<br>value=%{y}\", \"legendgroup\": \"kj\\u00f8nn=Kvinner\", \"marker\": {\"color\": \"#EF553B\", \"symbol\": \"circle\"}, \"mode\": \"markers\", \"name\": \"kj\\u00f8nn=Kvinner\", \"showlegend\": true, \"x\": [\"16-19 \\u00e5r\", \"20-24 \\u00e5r\", \"25-29 \\u00e5r\", \"30-34 \\u00e5r\", \"35-39 \\u00e5r\", \"40-44 \\u00e5r\", \"45-49 \\u00e5r\", \"50-54 \\u00e5r\", \"55-59 \\u00e5r\", \"60-64 \\u00e5r\", \"65-66 \\u00e5r\", \"67 \\u00e5r\", \"68 \\u00e5r\", \"69 \\u00e5r\"], \"xaxis\": \"x\", \"y\": [20226.0, 157190.0, 342420.0, 400373.0, 400562.0, 433798.0, 437515.0, 395020.0, 371920.0, 293959.0, 60292.0, 7896.0, 2866.0, 1949.0], \"yaxis\": \"y\", \"type\": \"scatter\"}], \"name\": \"2014K3\"}, {\"data\": [{\"hoverlabel\": {\"namelength\": 0}, \"hovertemplate\": \"kj\\u00f8nn=Menn<br>kvartal=2014K4<br>alder=%{x}<br>value=%{y}\", \"legendgroup\": \"kj\\u00f8nn=Menn\", \"marker\": {\"color\": \"#636efa\", \"symbol\": \"circle\"}, \"mode\": \"markers\", \"name\": \"kj\\u00f8nn=Menn\", \"showlegend\": true, \"x\": [\"16-19 \\u00e5r\", \"20-24 \\u00e5r\", \"25-29 \\u00e5r\", \"30-34 \\u00e5r\", \"35-39 \\u00e5r\", \"40-44 \\u00e5r\", \"45-49 \\u00e5r\", \"50-54 \\u00e5r\", \"55-59 \\u00e5r\", \"60-64 \\u00e5r\", \"65-66 \\u00e5r\", \"67 \\u00e5r\", \"68 \\u00e5r\", \"69 \\u00e5r\"], \"xaxis\": \"x\", \"y\": [25809.0, 138280.0, 222641.0, 274416.0, 301353.0, 353106.0, 385115.0, 352037.0, 352233.0, 295210.0, 70722.0, 10896.0, 6465.0, 4504.0], \"yaxis\": \"y\", \"type\": \"scatter\"}, {\"hoverlabel\": {\"namelength\": 0}, \"hovertemplate\": \"kj\\u00f8nn=Kvinner<br>kvartal=2014K4<br>alder=%{x}<br>value=%{y}\", \"legendgroup\": \"kj\\u00f8nn=Kvinner\", \"marker\": {\"color\": \"#EF553B\", \"symbol\": \"circle\"}, \"mode\": \"markers\", \"name\": \"kj\\u00f8nn=Kvinner\", \"showlegend\": true, \"x\": [\"16-19 \\u00e5r\", \"20-24 \\u00e5r\", \"25-29 \\u00e5r\", \"30-34 \\u00e5r\", \"35-39 \\u00e5r\", \"40-44 \\u00e5r\", \"45-49 \\u00e5r\", \"50-54 \\u00e5r\", \"55-59 \\u00e5r\", \"60-64 \\u00e5r\", \"65-66 \\u00e5r\", \"67 \\u00e5r\", \"68 \\u00e5r\", \"69 \\u00e5r\"], \"xaxis\": \"x\", \"y\": [24685.0, 166399.0, 401277.0, 484886.0, 490925.0, 536814.0, 527270.0, 476247.0, 428651.0, 330776.0, 67300.0, 9228.0, 3515.0, 2547.0], \"yaxis\": \"y\", \"type\": \"scatter\"}], \"name\": \"2014K4\"}, {\"data\": [{\"hoverlabel\": {\"namelength\": 0}, \"hovertemplate\": \"kj\\u00f8nn=Menn<br>kvartal=2015K1<br>alder=%{x}<br>value=%{y}\", \"legendgroup\": \"kj\\u00f8nn=Menn\", \"marker\": {\"color\": \"#636efa\", \"symbol\": \"circle\"}, \"mode\": \"markers\", \"name\": \"kj\\u00f8nn=Menn\", \"showlegend\": true, \"x\": [\"16-19 \\u00e5r\", \"20-24 \\u00e5r\", \"25-29 \\u00e5r\", \"30-34 \\u00e5r\", \"35-39 \\u00e5r\", \"40-44 \\u00e5r\", \"45-49 \\u00e5r\", \"50-54 \\u00e5r\", \"55-59 \\u00e5r\", \"60-64 \\u00e5r\", \"65-66 \\u00e5r\", \"67 \\u00e5r\", \"68 \\u00e5r\", \"69 \\u00e5r\"], \"xaxis\": \"x\", \"y\": [27606.0, 134659.0, 213399.0, 262649.0, 290476.0, 354702.0, 381019.0, 351078.0, 353299.0, 292252.0, 68940.0, 8469.0, 5647.0, 3768.0], \"yaxis\": \"y\", \"type\": \"scatter\"}, {\"hoverlabel\": {\"namelength\": 0}, \"hovertemplate\": \"kj\\u00f8nn=Kvinner<br>kvartal=2015K1<br>alder=%{x}<br>value=%{y}\", \"legendgroup\": \"kj\\u00f8nn=Kvinner\", \"marker\": {\"color\": \"#EF553B\", \"symbol\": \"circle\"}, \"mode\": \"markers\", \"name\": \"kj\\u00f8nn=Kvinner\", \"showlegend\": true, \"x\": [\"16-19 \\u00e5r\", \"20-24 \\u00e5r\", \"25-29 \\u00e5r\", \"30-34 \\u00e5r\", \"35-39 \\u00e5r\", \"40-44 \\u00e5r\", \"45-49 \\u00e5r\", \"50-54 \\u00e5r\", \"55-59 \\u00e5r\", \"60-64 \\u00e5r\", \"65-66 \\u00e5r\", \"67 \\u00e5r\", \"68 \\u00e5r\", \"69 \\u00e5r\"], \"xaxis\": \"x\", \"y\": [29555.0, 173176.0, 423151.0, 511640.0, 515055.0, 546190.0, 556540.0, 503062.0, 457008.0, 357421.0, 70350.0, 7796.0, 3683.0, 2776.0], \"yaxis\": \"y\", \"type\": \"scatter\"}], \"name\": \"2015K1\"}, {\"data\": [{\"hoverlabel\": {\"namelength\": 0}, \"hovertemplate\": \"kj\\u00f8nn=Menn<br>kvartal=2015K2<br>alder=%{x}<br>value=%{y}\", \"legendgroup\": \"kj\\u00f8nn=Menn\", \"marker\": {\"color\": \"#636efa\", \"symbol\": \"circle\"}, \"mode\": \"markers\", \"name\": \"kj\\u00f8nn=Menn\", \"showlegend\": true, \"x\": [\"16-19 \\u00e5r\", \"20-24 \\u00e5r\", \"25-29 \\u00e5r\", \"30-34 \\u00e5r\", \"35-39 \\u00e5r\", \"40-44 \\u00e5r\", \"45-49 \\u00e5r\", \"50-54 \\u00e5r\", \"55-59 \\u00e5r\", \"60-64 \\u00e5r\", \"65-66 \\u00e5r\", \"67 \\u00e5r\", \"68 \\u00e5r\", \"69 \\u00e5r\"], \"xaxis\": \"x\", \"y\": [24240.0, 119246.0, 191399.0, 224342.0, 252404.0, 303605.0, 331740.0, 303649.0, 308540.0, 259980.0, 64448.0, 7042.0, 5147.0, 3643.0], \"yaxis\": \"y\", \"type\": \"scatter\"}, {\"hoverlabel\": {\"namelength\": 0}, \"hovertemplate\": \"kj\\u00f8nn=Kvinner<br>kvartal=2015K2<br>alder=%{x}<br>value=%{y}\", \"legendgroup\": \"kj\\u00f8nn=Kvinner\", \"marker\": {\"color\": \"#EF553B\", \"symbol\": \"circle\"}, \"mode\": \"markers\", \"name\": \"kj\\u00f8nn=Kvinner\", \"showlegend\": true, \"x\": [\"16-19 \\u00e5r\", \"20-24 \\u00e5r\", \"25-29 \\u00e5r\", \"30-34 \\u00e5r\", \"35-39 \\u00e5r\", \"40-44 \\u00e5r\", \"45-49 \\u00e5r\", \"50-54 \\u00e5r\", \"55-59 \\u00e5r\", \"60-64 \\u00e5r\", \"65-66 \\u00e5r\", \"67 \\u00e5r\", \"68 \\u00e5r\", \"69 \\u00e5r\"], \"xaxis\": \"x\", \"y\": [23934.0, 155036.0, 363041.0, 442103.0, 444116.0, 477312.0, 487242.0, 435295.0, 393720.0, 308928.0, 62188.0, 6801.0, 3029.0, 3055.0], \"yaxis\": \"y\", \"type\": \"scatter\"}], \"name\": \"2015K2\"}, {\"data\": [{\"hoverlabel\": {\"namelength\": 0}, \"hovertemplate\": \"kj\\u00f8nn=Menn<br>kvartal=2015K3<br>alder=%{x}<br>value=%{y}\", \"legendgroup\": \"kj\\u00f8nn=Menn\", \"marker\": {\"color\": \"#636efa\", \"symbol\": \"circle\"}, \"mode\": \"markers\", \"name\": \"kj\\u00f8nn=Menn\", \"showlegend\": true, \"x\": [\"16-19 \\u00e5r\", \"20-24 \\u00e5r\", \"25-29 \\u00e5r\", \"30-34 \\u00e5r\", \"35-39 \\u00e5r\", \"40-44 \\u00e5r\", \"45-49 \\u00e5r\", \"50-54 \\u00e5r\", \"55-59 \\u00e5r\", \"60-64 \\u00e5r\", \"65-66 \\u00e5r\", \"67 \\u00e5r\", \"68 \\u00e5r\", \"69 \\u00e5r\"], \"xaxis\": \"x\", \"y\": [24866.0, 124316.0, 201329.0, 237439.0, 258266.0, 312811.0, 345840.0, 327169.0, 323945.0, 272889.0, 69515.0, 8066.0, 4787.0, 3237.0], \"yaxis\": \"y\", \"type\": \"scatter\"}, {\"hoverlabel\": {\"namelength\": 0}, \"hovertemplate\": \"kj\\u00f8nn=Kvinner<br>kvartal=2015K3<br>alder=%{x}<br>value=%{y}\", \"legendgroup\": \"kj\\u00f8nn=Kvinner\", \"marker\": {\"color\": \"#EF553B\", \"symbol\": \"circle\"}, \"mode\": \"markers\", \"name\": \"kj\\u00f8nn=Kvinner\", \"showlegend\": true, \"x\": [\"16-19 \\u00e5r\", \"20-24 \\u00e5r\", \"25-29 \\u00e5r\", \"30-34 \\u00e5r\", \"35-39 \\u00e5r\", \"40-44 \\u00e5r\", \"45-49 \\u00e5r\", \"50-54 \\u00e5r\", \"55-59 \\u00e5r\", \"60-64 \\u00e5r\", \"65-66 \\u00e5r\", \"67 \\u00e5r\", \"68 \\u00e5r\", \"69 \\u00e5r\"], \"xaxis\": \"x\", \"y\": [23387.0, 157638.0, 344437.0, 414435.0, 406977.0, 441280.0, 462461.0, 424856.0, 393383.0, 313927.0, 61895.0, 6046.0, 3276.0, 2614.0], \"yaxis\": \"y\", \"type\": \"scatter\"}], \"name\": \"2015K3\"}, {\"data\": [{\"hoverlabel\": {\"namelength\": 0}, \"hovertemplate\": \"kj\\u00f8nn=Menn<br>kvartal=2015K4<br>alder=%{x}<br>value=%{y}\", \"legendgroup\": \"kj\\u00f8nn=Menn\", \"marker\": {\"color\": \"#636efa\", \"symbol\": \"circle\"}, \"mode\": \"markers\", \"name\": \"kj\\u00f8nn=Menn\", \"showlegend\": true, \"x\": [\"16-19 \\u00e5r\", \"20-24 \\u00e5r\", \"25-29 \\u00e5r\", \"30-34 \\u00e5r\", \"35-39 \\u00e5r\", \"40-44 \\u00e5r\", \"45-49 \\u00e5r\", \"50-54 \\u00e5r\", \"55-59 \\u00e5r\", \"60-64 \\u00e5r\", \"65-66 \\u00e5r\", \"67 \\u00e5r\", \"68 \\u00e5r\", \"69 \\u00e5r\"], \"xaxis\": \"x\", \"y\": [29028.0, 135813.0, 224110.0, 272069.0, 300271.0, 356264.0, 388460.0, 369018.0, 362207.0, 303884.0, 73883.0, 9685.0, 5205.0, 4987.0], \"yaxis\": \"y\", \"type\": \"scatter\"}, {\"hoverlabel\": {\"namelength\": 0}, \"hovertemplate\": \"kj\\u00f8nn=Kvinner<br>kvartal=2015K4<br>alder=%{x}<br>value=%{y}\", \"legendgroup\": \"kj\\u00f8nn=Kvinner\", \"marker\": {\"color\": \"#EF553B\", \"symbol\": \"circle\"}, \"mode\": \"markers\", \"name\": \"kj\\u00f8nn=Kvinner\", \"showlegend\": true, \"x\": [\"16-19 \\u00e5r\", \"20-24 \\u00e5r\", \"25-29 \\u00e5r\", \"30-34 \\u00e5r\", \"35-39 \\u00e5r\", \"40-44 \\u00e5r\", \"45-49 \\u00e5r\", \"50-54 \\u00e5r\", \"55-59 \\u00e5r\", \"60-64 \\u00e5r\", \"65-66 \\u00e5r\", \"67 \\u00e5r\", \"68 \\u00e5r\", \"69 \\u00e5r\"], \"xaxis\": \"x\", \"y\": [29616.0, 170919.0, 417949.0, 507046.0, 502005.0, 547147.0, 558608.0, 510962.0, 455744.0, 364422.0, 69983.0, 6674.0, 4052.0, 2480.0], \"yaxis\": \"y\", \"type\": \"scatter\"}], \"name\": \"2015K4\"}, {\"data\": [{\"hoverlabel\": {\"namelength\": 0}, \"hovertemplate\": \"kj\\u00f8nn=Menn<br>kvartal=2016K1<br>alder=%{x}<br>value=%{y}\", \"legendgroup\": \"kj\\u00f8nn=Menn\", \"marker\": {\"color\": \"#636efa\", \"symbol\": \"circle\"}, \"mode\": \"markers\", \"name\": \"kj\\u00f8nn=Menn\", \"showlegend\": true, \"x\": [\"16-19 \\u00e5r\", \"20-24 \\u00e5r\", \"25-29 \\u00e5r\", \"30-34 \\u00e5r\", \"35-39 \\u00e5r\", \"40-44 \\u00e5r\", \"45-49 \\u00e5r\", \"50-54 \\u00e5r\", \"55-59 \\u00e5r\", \"60-64 \\u00e5r\", \"65-66 \\u00e5r\", \"67 \\u00e5r\", \"68 \\u00e5r\", \"69 \\u00e5r\"], \"xaxis\": \"x\", \"y\": [27518.0, 125655.0, 211009.0, 253944.0, 282848.0, 331325.0, 364962.0, 355953.0, 347831.0, 289645.0, 69918.0, 8775.0, 5317.0, 4673.0], \"yaxis\": \"y\", \"type\": \"scatter\"}, {\"hoverlabel\": {\"namelength\": 0}, \"hovertemplate\": \"kj\\u00f8nn=Kvinner<br>kvartal=2016K1<br>alder=%{x}<br>value=%{y}\", \"legendgroup\": \"kj\\u00f8nn=Kvinner\", \"marker\": {\"color\": \"#EF553B\", \"symbol\": \"circle\"}, \"mode\": \"markers\", \"name\": \"kj\\u00f8nn=Kvinner\", \"showlegend\": true, \"x\": [\"16-19 \\u00e5r\", \"20-24 \\u00e5r\", \"25-29 \\u00e5r\", \"30-34 \\u00e5r\", \"35-39 \\u00e5r\", \"40-44 \\u00e5r\", \"45-49 \\u00e5r\", \"50-54 \\u00e5r\", \"55-59 \\u00e5r\", \"60-64 \\u00e5r\", \"65-66 \\u00e5r\", \"67 \\u00e5r\", \"68 \\u00e5r\", \"69 \\u00e5r\"], \"xaxis\": \"x\", \"y\": [29920.0, 163702.0, 409827.0, 496934.0, 477664.0, 521616.0, 536794.0, 490883.0, 437514.0, 353675.0, 71056.0, 6562.0, 4133.0, 2636.0], \"yaxis\": \"y\", \"type\": \"scatter\"}], \"name\": \"2016K1\"}, {\"data\": [{\"hoverlabel\": {\"namelength\": 0}, \"hovertemplate\": \"kj\\u00f8nn=Menn<br>kvartal=2016K2<br>alder=%{x}<br>value=%{y}\", \"legendgroup\": \"kj\\u00f8nn=Menn\", \"marker\": {\"color\": \"#636efa\", \"symbol\": \"circle\"}, \"mode\": \"markers\", \"name\": \"kj\\u00f8nn=Menn\", \"showlegend\": true, \"x\": [\"16-19 \\u00e5r\", \"20-24 \\u00e5r\", \"25-29 \\u00e5r\", \"30-34 \\u00e5r\", \"35-39 \\u00e5r\", \"40-44 \\u00e5r\", \"45-49 \\u00e5r\", \"50-54 \\u00e5r\", \"55-59 \\u00e5r\", \"60-64 \\u00e5r\", \"65-66 \\u00e5r\", \"67 \\u00e5r\", \"68 \\u00e5r\", \"69 \\u00e5r\"], \"xaxis\": \"x\", \"y\": [26324.0, 123001.0, 196334.0, 240459.0, 270734.0, 310116.0, 347190.0, 342653.0, 331177.0, 281134.0, 66931.0, 8931.0, 5249.0, 3809.0], \"yaxis\": \"y\", \"type\": \"scatter\"}, {\"hoverlabel\": {\"namelength\": 0}, \"hovertemplate\": \"kj\\u00f8nn=Kvinner<br>kvartal=2016K2<br>alder=%{x}<br>value=%{y}\", \"legendgroup\": \"kj\\u00f8nn=Kvinner\", \"marker\": {\"color\": \"#EF553B\", \"symbol\": \"circle\"}, \"mode\": \"markers\", \"name\": \"kj\\u00f8nn=Kvinner\", \"showlegend\": true, \"x\": [\"16-19 \\u00e5r\", \"20-24 \\u00e5r\", \"25-29 \\u00e5r\", \"30-34 \\u00e5r\", \"35-39 \\u00e5r\", \"40-44 \\u00e5r\", \"45-49 \\u00e5r\", \"50-54 \\u00e5r\", \"55-59 \\u00e5r\", \"60-64 \\u00e5r\", \"65-66 \\u00e5r\", \"67 \\u00e5r\", \"68 \\u00e5r\", \"69 \\u00e5r\"], \"xaxis\": \"x\", \"y\": [27965.0, 158756.0, 387525.0, 468302.0, 465926.0, 503064.0, 525889.0, 472357.0, 417148.0, 338748.0, 68236.0, 7022.0, 3103.0, 2188.0], \"yaxis\": \"y\", \"type\": \"scatter\"}], \"name\": \"2016K2\"}, {\"data\": [{\"hoverlabel\": {\"namelength\": 0}, \"hovertemplate\": \"kj\\u00f8nn=Menn<br>kvartal=2016K3<br>alder=%{x}<br>value=%{y}\", \"legendgroup\": \"kj\\u00f8nn=Menn\", \"marker\": {\"color\": \"#636efa\", \"symbol\": \"circle\"}, \"mode\": \"markers\", \"name\": \"kj\\u00f8nn=Menn\", \"showlegend\": true, \"x\": [\"16-19 \\u00e5r\", \"20-24 \\u00e5r\", \"25-29 \\u00e5r\", \"30-34 \\u00e5r\", \"35-39 \\u00e5r\", \"40-44 \\u00e5r\", \"45-49 \\u00e5r\", \"50-54 \\u00e5r\", \"55-59 \\u00e5r\", \"60-64 \\u00e5r\", \"65-66 \\u00e5r\", \"67 \\u00e5r\", \"68 \\u00e5r\", \"69 \\u00e5r\"], \"xaxis\": \"x\", \"y\": [26749.0, 123006.0, 203403.0, 246932.0, 268711.0, 304593.0, 346392.0, 340525.0, 329885.0, 276745.0, 66257.0, 8563.0, 5373.0, 3458.0], \"yaxis\": \"y\", \"type\": \"scatter\"}, {\"hoverlabel\": {\"namelength\": 0}, \"hovertemplate\": \"kj\\u00f8nn=Kvinner<br>kvartal=2016K3<br>alder=%{x}<br>value=%{y}\", \"legendgroup\": \"kj\\u00f8nn=Kvinner\", \"marker\": {\"color\": \"#EF553B\", \"symbol\": \"circle\"}, \"mode\": \"markers\", \"name\": \"kj\\u00f8nn=Kvinner\", \"showlegend\": true, \"x\": [\"16-19 \\u00e5r\", \"20-24 \\u00e5r\", \"25-29 \\u00e5r\", \"30-34 \\u00e5r\", \"35-39 \\u00e5r\", \"40-44 \\u00e5r\", \"45-49 \\u00e5r\", \"50-54 \\u00e5r\", \"55-59 \\u00e5r\", \"60-64 \\u00e5r\", \"65-66 \\u00e5r\", \"67 \\u00e5r\", \"68 \\u00e5r\", \"69 \\u00e5r\"], \"xaxis\": \"x\", \"y\": [26425.0, 156458.0, 356832.0, 414560.0, 412692.0, 434977.0, 472263.0, 434056.0, 392048.0, 320006.0, 63477.0, 5750.0, 2749.0, 2552.0], \"yaxis\": \"y\", \"type\": \"scatter\"}], \"name\": \"2016K3\"}, {\"data\": [{\"hoverlabel\": {\"namelength\": 0}, \"hovertemplate\": \"kj\\u00f8nn=Menn<br>kvartal=2016K4<br>alder=%{x}<br>value=%{y}\", \"legendgroup\": \"kj\\u00f8nn=Menn\", \"marker\": {\"color\": \"#636efa\", \"symbol\": \"circle\"}, \"mode\": \"markers\", \"name\": \"kj\\u00f8nn=Menn\", \"showlegend\": true, \"x\": [\"16-19 \\u00e5r\", \"20-24 \\u00e5r\", \"25-29 \\u00e5r\", \"30-34 \\u00e5r\", \"35-39 \\u00e5r\", \"40-44 \\u00e5r\", \"45-49 \\u00e5r\", \"50-54 \\u00e5r\", \"55-59 \\u00e5r\", \"60-64 \\u00e5r\", \"65-66 \\u00e5r\", \"67 \\u00e5r\", \"68 \\u00e5r\", \"69 \\u00e5r\"], \"xaxis\": \"x\", \"y\": [33251.0, 132840.0, 234000.0, 281948.0, 312928.0, 351929.0, 391518.0, 377621.0, 368700.0, 303517.0, 72241.0, 9841.0, 6324.0, 4179.0], \"yaxis\": \"y\", \"type\": \"scatter\"}, {\"hoverlabel\": {\"namelength\": 0}, \"hovertemplate\": \"kj\\u00f8nn=Kvinner<br>kvartal=2016K4<br>alder=%{x}<br>value=%{y}\", \"legendgroup\": \"kj\\u00f8nn=Kvinner\", \"marker\": {\"color\": \"#EF553B\", \"symbol\": \"circle\"}, \"mode\": \"markers\", \"name\": \"kj\\u00f8nn=Kvinner\", \"showlegend\": true, \"x\": [\"16-19 \\u00e5r\", \"20-24 \\u00e5r\", \"25-29 \\u00e5r\", \"30-34 \\u00e5r\", \"35-39 \\u00e5r\", \"40-44 \\u00e5r\", \"45-49 \\u00e5r\", \"50-54 \\u00e5r\", \"55-59 \\u00e5r\", \"60-64 \\u00e5r\", \"65-66 \\u00e5r\", \"67 \\u00e5r\", \"68 \\u00e5r\", \"69 \\u00e5r\"], \"xaxis\": \"x\", \"y\": [32720.0, 170738.0, 436006.0, 528943.0, 511834.0, 540350.0, 575387.0, 521036.0, 464708.0, 368338.0, 70461.0, 6878.0, 3287.0, 2583.0], \"yaxis\": \"y\", \"type\": \"scatter\"}], \"name\": \"2016K4\"}, {\"data\": [{\"hoverlabel\": {\"namelength\": 0}, \"hovertemplate\": \"kj\\u00f8nn=Menn<br>kvartal=2017K1<br>alder=%{x}<br>value=%{y}\", \"legendgroup\": \"kj\\u00f8nn=Menn\", \"marker\": {\"color\": \"#636efa\", \"symbol\": \"circle\"}, \"mode\": \"markers\", \"name\": \"kj\\u00f8nn=Menn\", \"showlegend\": true, \"x\": [\"16-19 \\u00e5r\", \"20-24 \\u00e5r\", \"25-29 \\u00e5r\", \"30-34 \\u00e5r\", \"35-39 \\u00e5r\", \"40-44 \\u00e5r\", \"45-49 \\u00e5r\", \"50-54 \\u00e5r\", \"55-59 \\u00e5r\", \"60-64 \\u00e5r\", \"65-66 \\u00e5r\", \"67 \\u00e5r\", \"68 \\u00e5r\", \"69 \\u00e5r\"], \"xaxis\": \"x\", \"y\": [33134.0, 142953.0, 252625.0, 296909.0, 325245.0, 368372.0, 411635.0, 400595.0, 387852.0, 323274.0, 74793.0, 11927.0, 6190.0, 4772.0], \"yaxis\": \"y\", \"type\": \"scatter\"}, {\"hoverlabel\": {\"namelength\": 0}, \"hovertemplate\": \"kj\\u00f8nn=Kvinner<br>kvartal=2017K1<br>alder=%{x}<br>value=%{y}\", \"legendgroup\": \"kj\\u00f8nn=Kvinner\", \"marker\": {\"color\": \"#EF553B\", \"symbol\": \"circle\"}, \"mode\": \"markers\", \"name\": \"kj\\u00f8nn=Kvinner\", \"showlegend\": true, \"x\": [\"16-19 \\u00e5r\", \"20-24 \\u00e5r\", \"25-29 \\u00e5r\", \"30-34 \\u00e5r\", \"35-39 \\u00e5r\", \"40-44 \\u00e5r\", \"45-49 \\u00e5r\", \"50-54 \\u00e5r\", \"55-59 \\u00e5r\", \"60-64 \\u00e5r\", \"65-66 \\u00e5r\", \"67 \\u00e5r\", \"68 \\u00e5r\", \"69 \\u00e5r\"], \"xaxis\": \"x\", \"y\": [32551.0, 182656.0, 471544.0, 574415.0, 550875.0, 574062.0, 618848.0, 562792.0, 498628.0, 400873.0, 74205.0, 7930.0, 3824.0, 2714.0], \"yaxis\": \"y\", \"type\": \"scatter\"}], \"name\": \"2017K1\"}, {\"data\": [{\"hoverlabel\": {\"namelength\": 0}, \"hovertemplate\": \"kj\\u00f8nn=Menn<br>kvartal=2017K2<br>alder=%{x}<br>value=%{y}\", \"legendgroup\": \"kj\\u00f8nn=Menn\", \"marker\": {\"color\": \"#636efa\", \"symbol\": \"circle\"}, \"mode\": \"markers\", \"name\": \"kj\\u00f8nn=Menn\", \"showlegend\": true, \"x\": [\"16-19 \\u00e5r\", \"20-24 \\u00e5r\", \"25-29 \\u00e5r\", \"30-34 \\u00e5r\", \"35-39 \\u00e5r\", \"40-44 \\u00e5r\", \"45-49 \\u00e5r\", \"50-54 \\u00e5r\", \"55-59 \\u00e5r\", \"60-64 \\u00e5r\", \"65-66 \\u00e5r\", \"67 \\u00e5r\", \"68 \\u00e5r\", \"69 \\u00e5r\"], \"xaxis\": \"x\", \"y\": [24700.0, 115320.0, 198169.0, 233315.0, 257689.0, 291612.0, 334355.0, 327803.0, 315002.0, 265568.0, 65204.0, 9769.0, 5164.0, 3686.0], \"yaxis\": \"y\", \"type\": \"scatter\"}, {\"hoverlabel\": {\"namelength\": 0}, \"hovertemplate\": \"kj\\u00f8nn=Kvinner<br>kvartal=2017K2<br>alder=%{x}<br>value=%{y}\", \"legendgroup\": \"kj\\u00f8nn=Kvinner\", \"marker\": {\"color\": \"#EF553B\", \"symbol\": \"circle\"}, \"mode\": \"markers\", \"name\": \"kj\\u00f8nn=Kvinner\", \"showlegend\": true, \"x\": [\"16-19 \\u00e5r\", \"20-24 \\u00e5r\", \"25-29 \\u00e5r\", \"30-34 \\u00e5r\", \"35-39 \\u00e5r\", \"40-44 \\u00e5r\", \"45-49 \\u00e5r\", \"50-54 \\u00e5r\", \"55-59 \\u00e5r\", \"60-64 \\u00e5r\", \"65-66 \\u00e5r\", \"67 \\u00e5r\", \"68 \\u00e5r\", \"69 \\u00e5r\"], \"xaxis\": \"x\", \"y\": [24156.0, 150245.0, 376506.0, 462066.0, 453178.0, 471281.0, 505116.0, 458749.0, 403986.0, 324420.0, 61748.0, 6046.0, 2697.0, 2100.0], \"yaxis\": \"y\", \"type\": \"scatter\"}], \"name\": \"2017K2\"}, {\"data\": [{\"hoverlabel\": {\"namelength\": 0}, \"hovertemplate\": \"kj\\u00f8nn=Menn<br>kvartal=2017K3<br>alder=%{x}<br>value=%{y}\", \"legendgroup\": \"kj\\u00f8nn=Menn\", \"marker\": {\"color\": \"#636efa\", \"symbol\": \"circle\"}, \"mode\": \"markers\", \"name\": \"kj\\u00f8nn=Menn\", \"showlegend\": true, \"x\": [\"16-19 \\u00e5r\", \"20-24 \\u00e5r\", \"25-29 \\u00e5r\", \"30-34 \\u00e5r\", \"35-39 \\u00e5r\", \"40-44 \\u00e5r\", \"45-49 \\u00e5r\", \"50-54 \\u00e5r\", \"55-59 \\u00e5r\", \"60-64 \\u00e5r\", \"65-66 \\u00e5r\", \"67 \\u00e5r\", \"68 \\u00e5r\", \"69 \\u00e5r\"], \"xaxis\": \"x\", \"y\": [26225.0, 123967.0, 212516.0, 244030.0, 270277.0, 296231.0, 347330.0, 346153.0, 326075.0, 276922.0, 68496.0, 9604.0, 5578.0, 3610.0], \"yaxis\": \"y\", \"type\": \"scatter\"}, {\"hoverlabel\": {\"namelength\": 0}, \"hovertemplate\": \"kj\\u00f8nn=Kvinner<br>kvartal=2017K3<br>alder=%{x}<br>value=%{y}\", \"legendgroup\": \"kj\\u00f8nn=Kvinner\", \"marker\": {\"color\": \"#EF553B\", \"symbol\": \"circle\"}, \"mode\": \"markers\", \"name\": \"kj\\u00f8nn=Kvinner\", \"showlegend\": true, \"x\": [\"16-19 \\u00e5r\", \"20-24 \\u00e5r\", \"25-29 \\u00e5r\", \"30-34 \\u00e5r\", \"35-39 \\u00e5r\", \"40-44 \\u00e5r\", \"45-49 \\u00e5r\", \"50-54 \\u00e5r\", \"55-59 \\u00e5r\", \"60-64 \\u00e5r\", \"65-66 \\u00e5r\", \"67 \\u00e5r\", \"68 \\u00e5r\", \"69 \\u00e5r\"], \"xaxis\": \"x\", \"y\": [25927.0, 153549.0, 367993.0, 443108.0, 421863.0, 428827.0, 472924.0, 454514.0, 402380.0, 326599.0, 63825.0, 6050.0, 2667.0, 2279.0], \"yaxis\": \"y\", \"type\": \"scatter\"}], \"name\": \"2017K3\"}, {\"data\": [{\"hoverlabel\": {\"namelength\": 0}, \"hovertemplate\": \"kj\\u00f8nn=Menn<br>kvartal=2017K4<br>alder=%{x}<br>value=%{y}\", \"legendgroup\": \"kj\\u00f8nn=Menn\", \"marker\": {\"color\": \"#636efa\", \"symbol\": \"circle\"}, \"mode\": \"markers\", \"name\": \"kj\\u00f8nn=Menn\", \"showlegend\": true, \"x\": [\"16-19 \\u00e5r\", \"20-24 \\u00e5r\", \"25-29 \\u00e5r\", \"30-34 \\u00e5r\", \"35-39 \\u00e5r\", \"40-44 \\u00e5r\", \"45-49 \\u00e5r\", \"50-54 \\u00e5r\", \"55-59 \\u00e5r\", \"60-64 \\u00e5r\", \"65-66 \\u00e5r\", \"67 \\u00e5r\", \"68 \\u00e5r\", \"69 \\u00e5r\"], \"xaxis\": \"x\", \"y\": [30932.0, 136509.0, 239833.0, 286129.0, 315894.0, 338419.0, 397710.0, 386557.0, 362597.0, 307805.0, 74073.0, 11287.0, 6778.0, 4227.0], \"yaxis\": \"y\", \"type\": \"scatter\"}, {\"hoverlabel\": {\"namelength\": 0}, \"hovertemplate\": \"kj\\u00f8nn=Kvinner<br>kvartal=2017K4<br>alder=%{x}<br>value=%{y}\", \"legendgroup\": \"kj\\u00f8nn=Kvinner\", \"marker\": {\"color\": \"#EF553B\", \"symbol\": \"circle\"}, \"mode\": \"markers\", \"name\": \"kj\\u00f8nn=Kvinner\", \"showlegend\": true, \"x\": [\"16-19 \\u00e5r\", \"20-24 \\u00e5r\", \"25-29 \\u00e5r\", \"30-34 \\u00e5r\", \"35-39 \\u00e5r\", \"40-44 \\u00e5r\", \"45-49 \\u00e5r\", \"50-54 \\u00e5r\", \"55-59 \\u00e5r\", \"60-64 \\u00e5r\", \"65-66 \\u00e5r\", \"67 \\u00e5r\", \"68 \\u00e5r\", \"69 \\u00e5r\"], \"xaxis\": \"x\", \"y\": [33393.0, 174613.0, 451441.0, 551131.0, 534983.0, 534811.0, 589111.0, 545285.0, 473139.0, 378375.0, 70383.0, 6803.0, 3442.0, 2375.0], \"yaxis\": \"y\", \"type\": \"scatter\"}], \"name\": \"2017K4\"}, {\"data\": [{\"hoverlabel\": {\"namelength\": 0}, \"hovertemplate\": \"kj\\u00f8nn=Menn<br>kvartal=2018K1<br>alder=%{x}<br>value=%{y}\", \"legendgroup\": \"kj\\u00f8nn=Menn\", \"marker\": {\"color\": \"#636efa\", \"symbol\": \"circle\"}, \"mode\": \"markers\", \"name\": \"kj\\u00f8nn=Menn\", \"showlegend\": true, \"x\": [\"16-19 \\u00e5r\", \"20-24 \\u00e5r\", \"25-29 \\u00e5r\", \"30-34 \\u00e5r\", \"35-39 \\u00e5r\", \"40-44 \\u00e5r\", \"45-49 \\u00e5r\", \"50-54 \\u00e5r\", \"55-59 \\u00e5r\", \"60-64 \\u00e5r\", \"65-66 \\u00e5r\", \"67 \\u00e5r\", \"68 \\u00e5r\", \"69 \\u00e5r\"], \"xaxis\": \"x\", \"y\": [34513.0, 147089.0, 253064.0, 298849.0, 331688.0, 356236.0, 413787.0, 401926.0, 383972.0, 325129.0, 74351.0, 12365.0, 7548.0, 4877.0], \"yaxis\": \"y\", \"type\": \"scatter\"}, {\"hoverlabel\": {\"namelength\": 0}, \"hovertemplate\": \"kj\\u00f8nn=Kvinner<br>kvartal=2018K1<br>alder=%{x}<br>value=%{y}\", \"legendgroup\": \"kj\\u00f8nn=Kvinner\", \"marker\": {\"color\": \"#EF553B\", \"symbol\": \"circle\"}, \"mode\": \"markers\", \"name\": \"kj\\u00f8nn=Kvinner\", \"showlegend\": true, \"x\": [\"16-19 \\u00e5r\", \"20-24 \\u00e5r\", \"25-29 \\u00e5r\", \"30-34 \\u00e5r\", \"35-39 \\u00e5r\", \"40-44 \\u00e5r\", \"45-49 \\u00e5r\", \"50-54 \\u00e5r\", \"55-59 \\u00e5r\", \"60-64 \\u00e5r\", \"65-66 \\u00e5r\", \"67 \\u00e5r\", \"68 \\u00e5r\", \"69 \\u00e5r\"], \"xaxis\": \"x\", \"y\": [32514.0, 180788.0, 465367.0, 578112.0, 550911.0, 551011.0, 605558.0, 565051.0, 496045.0, 402785.0, 74986.0, 7878.0, 3853.0, 2477.0], \"yaxis\": \"y\", \"type\": \"scatter\"}], \"name\": \"2018K1\"}, {\"data\": [{\"hoverlabel\": {\"namelength\": 0}, \"hovertemplate\": \"kj\\u00f8nn=Menn<br>kvartal=2018K2<br>alder=%{x}<br>value=%{y}\", \"legendgroup\": \"kj\\u00f8nn=Menn\", \"marker\": {\"color\": \"#636efa\", \"symbol\": \"circle\"}, \"mode\": \"markers\", \"name\": \"kj\\u00f8nn=Menn\", \"showlegend\": true, \"x\": [\"16-19 \\u00e5r\", \"20-24 \\u00e5r\", \"25-29 \\u00e5r\", \"30-34 \\u00e5r\", \"35-39 \\u00e5r\", \"40-44 \\u00e5r\", \"45-49 \\u00e5r\", \"50-54 \\u00e5r\", \"55-59 \\u00e5r\", \"60-64 \\u00e5r\", \"65-66 \\u00e5r\", \"67 \\u00e5r\", \"68 \\u00e5r\", \"69 \\u00e5r\"], \"xaxis\": \"x\", \"y\": [28299.0, 126489.0, 210200.0, 243088.0, 273170.0, 291812.0, 341921.0, 347158.0, 327341.0, 282176.0, 66817.0, 10101.0, 5427.0, 4223.0], \"yaxis\": \"y\", \"type\": \"scatter\"}, {\"hoverlabel\": {\"namelength\": 0}, \"hovertemplate\": \"kj\\u00f8nn=Kvinner<br>kvartal=2018K2<br>alder=%{x}<br>value=%{y}\", \"legendgroup\": \"kj\\u00f8nn=Kvinner\", \"marker\": {\"color\": \"#EF553B\", \"symbol\": \"circle\"}, \"mode\": \"markers\", \"name\": \"kj\\u00f8nn=Kvinner\", \"showlegend\": true, \"x\": [\"16-19 \\u00e5r\", \"20-24 \\u00e5r\", \"25-29 \\u00e5r\", \"30-34 \\u00e5r\", \"35-39 \\u00e5r\", \"40-44 \\u00e5r\", \"45-49 \\u00e5r\", \"50-54 \\u00e5r\", \"55-59 \\u00e5r\", \"60-64 \\u00e5r\", \"65-66 \\u00e5r\", \"67 \\u00e5r\", \"68 \\u00e5r\", \"69 \\u00e5r\"], \"xaxis\": \"x\", \"y\": [27268.0, 154228.0, 399158.0, 499294.0, 465304.0, 461235.0, 512257.0, 480211.0, 412851.0, 338343.0, 66539.0, 6868.0, 2710.0, 2078.0], \"yaxis\": \"y\", \"type\": \"scatter\"}], \"name\": \"2018K2\"}, {\"data\": [{\"hoverlabel\": {\"namelength\": 0}, \"hovertemplate\": \"kj\\u00f8nn=Menn<br>kvartal=2018K3<br>alder=%{x}<br>value=%{y}\", \"legendgroup\": \"kj\\u00f8nn=Menn\", \"marker\": {\"color\": \"#636efa\", \"symbol\": \"circle\"}, \"mode\": \"markers\", \"name\": \"kj\\u00f8nn=Menn\", \"showlegend\": true, \"x\": [\"16-19 \\u00e5r\", \"20-24 \\u00e5r\", \"25-29 \\u00e5r\", \"30-34 \\u00e5r\", \"35-39 \\u00e5r\", \"40-44 \\u00e5r\", \"45-49 \\u00e5r\", \"50-54 \\u00e5r\", \"55-59 \\u00e5r\", \"60-64 \\u00e5r\", \"65-66 \\u00e5r\", \"67 \\u00e5r\", \"68 \\u00e5r\", \"69 \\u00e5r\"], \"xaxis\": \"x\", \"y\": [27999.0, 127698.0, 214927.0, 254435.0, 275582.0, 296644.0, 337707.0, 348055.0, 325651.0, 281226.0, 68194.0, 9742.0, 5457.0, 3792.0], \"yaxis\": \"y\", \"type\": \"scatter\"}, {\"hoverlabel\": {\"namelength\": 0}, \"hovertemplate\": \"kj\\u00f8nn=Kvinner<br>kvartal=2018K3<br>alder=%{x}<br>value=%{y}\", \"legendgroup\": \"kj\\u00f8nn=Kvinner\", \"marker\": {\"color\": \"#EF553B\", \"symbol\": \"circle\"}, \"mode\": \"markers\", \"name\": \"kj\\u00f8nn=Kvinner\", \"showlegend\": true, \"x\": [\"16-19 \\u00e5r\", \"20-24 \\u00e5r\", \"25-29 \\u00e5r\", \"30-34 \\u00e5r\", \"35-39 \\u00e5r\", \"40-44 \\u00e5r\", \"45-49 \\u00e5r\", \"50-54 \\u00e5r\", \"55-59 \\u00e5r\", \"60-64 \\u00e5r\", \"65-66 \\u00e5r\", \"67 \\u00e5r\", \"68 \\u00e5r\", \"69 \\u00e5r\"], \"xaxis\": \"x\", \"y\": [26215.0, 152371.0, 373525.0, 463018.0, 424800.0, 413674.0, 465196.0, 457234.0, 398875.0, 322979.0, 64632.0, 5787.0, 2465.0, 1853.0], \"yaxis\": \"y\", \"type\": \"scatter\"}], \"name\": \"2018K3\"}, {\"data\": [{\"hoverlabel\": {\"namelength\": 0}, \"hovertemplate\": \"kj\\u00f8nn=Menn<br>kvartal=2018K4<br>alder=%{x}<br>value=%{y}\", \"legendgroup\": \"kj\\u00f8nn=Menn\", \"marker\": {\"color\": \"#636efa\", \"symbol\": \"circle\"}, \"mode\": \"markers\", \"name\": \"kj\\u00f8nn=Menn\", \"showlegend\": true, \"x\": [\"16-19 \\u00e5r\", \"20-24 \\u00e5r\", \"25-29 \\u00e5r\", \"30-34 \\u00e5r\", \"35-39 \\u00e5r\", \"40-44 \\u00e5r\", \"45-49 \\u00e5r\", \"50-54 \\u00e5r\", \"55-59 \\u00e5r\", \"60-64 \\u00e5r\", \"65-66 \\u00e5r\", \"67 \\u00e5r\", \"68 \\u00e5r\", \"69 \\u00e5r\"], \"xaxis\": \"x\", \"y\": [34786.0, 139793.0, 247754.0, 295974.0, 321713.0, 343242.0, 388668.0, 398530.0, 367593.0, 318395.0, 76786.0, 11497.0, 6797.0, 5021.0], \"yaxis\": \"y\", \"type\": \"scatter\"}, {\"hoverlabel\": {\"namelength\": 0}, \"hovertemplate\": \"kj\\u00f8nn=Kvinner<br>kvartal=2018K4<br>alder=%{x}<br>value=%{y}\", \"legendgroup\": \"kj\\u00f8nn=Kvinner\", \"marker\": {\"color\": \"#EF553B\", \"symbol\": \"circle\"}, \"mode\": \"markers\", \"name\": \"kj\\u00f8nn=Kvinner\", \"showlegend\": true, \"x\": [\"16-19 \\u00e5r\", \"20-24 \\u00e5r\", \"25-29 \\u00e5r\", \"30-34 \\u00e5r\", \"35-39 \\u00e5r\", \"40-44 \\u00e5r\", \"45-49 \\u00e5r\", \"50-54 \\u00e5r\", \"55-59 \\u00e5r\", \"60-64 \\u00e5r\", \"65-66 \\u00e5r\", \"67 \\u00e5r\", \"68 \\u00e5r\", \"69 \\u00e5r\"], \"xaxis\": \"x\", \"y\": [31214.0, 171573.0, 465029.0, 583100.0, 545627.0, 532791.0, 581526.0, 557624.0, 480185.0, 376948.0, 73565.0, 6512.0, 2916.0, 2455.0], \"yaxis\": \"y\", \"type\": \"scatter\"}], \"name\": \"2018K4\"}]);\n",
       "                        }).then(function(){\n",
       "                            \n",
       "var gd = document.getElementById('649da8fd-1de1-473b-8b1c-683293d27c64');\n",
       "var x = new MutationObserver(function (mutations, observer) {{\n",
       "        var display = window.getComputedStyle(gd).display;\n",
       "        if (!display || display === 'none') {{\n",
       "            console.log([gd, 'removed!']);\n",
       "            Plotly.purge(gd);\n",
       "            observer.disconnect();\n",
       "        }}\n",
       "}});\n",
       "\n",
       "// Listen for the removal of the full notebook cells\n",
       "var notebookContainer = gd.closest('#notebook-container');\n",
       "if (notebookContainer) {{\n",
       "    x.observe(notebookContainer, {childList: true});\n",
       "}}\n",
       "\n",
       "// Listen for the clearing of the current output cell\n",
       "var outputEl = gd.closest('.output');\n",
       "if (outputEl) {{\n",
       "    x.observe(outputEl, {childList: true});\n",
       "}}\n",
       "\n",
       "                        })\n",
       "                };\n",
       "                });\n",
       "            </script>\n",
       "        </div>"
      ]
     },
     "metadata": {},
     "output_type": "display_data"
    }
   ],
   "source": [
    "margin = 10000\n",
    "fig_3 = px.scatter(utv, x=\"alder\", y=\"value\", \n",
    "           animation_frame=\"kvartal\", color='kjønn', \n",
    "           range_y=[-margin,utv['value'].max() + margin])\n",
    "fig_3"
   ]
  },
  {
   "cell_type": "code",
   "execution_count": 77,
   "metadata": {},
   "outputs": [
    {
     "data": {
      "text/html": [
       "<div>\n",
       "<style scoped>\n",
       "    .dataframe tbody tr th:only-of-type {\n",
       "        vertical-align: middle;\n",
       "    }\n",
       "\n",
       "    .dataframe tbody tr th {\n",
       "        vertical-align: top;\n",
       "    }\n",
       "\n",
       "    .dataframe thead th {\n",
       "        text-align: right;\n",
       "    }\n",
       "</style>\n",
       "<table border=\"1\" class=\"dataframe\">\n",
       "  <thead>\n",
       "    <tr style=\"text-align: right;\">\n",
       "      <th></th>\n",
       "      <th>region</th>\n",
       "      <th>kjønn</th>\n",
       "      <th>alder</th>\n",
       "      <th>statistikkvariabel</th>\n",
       "      <th>kvartal</th>\n",
       "      <th>value</th>\n",
       "    </tr>\n",
       "  </thead>\n",
       "  <tbody>\n",
       "    <tr>\n",
       "      <th>7275</th>\n",
       "      <td>Hele landet</td>\n",
       "      <td>Menn</td>\n",
       "      <td>16-19 år</td>\n",
       "      <td>Sykefraværsprosent</td>\n",
       "      <td>2000K2</td>\n",
       "      <td>2.6</td>\n",
       "    </tr>\n",
       "    <tr>\n",
       "      <th>7276</th>\n",
       "      <td>Hele landet</td>\n",
       "      <td>Menn</td>\n",
       "      <td>16-19 år</td>\n",
       "      <td>Sykefraværsprosent</td>\n",
       "      <td>2000K3</td>\n",
       "      <td>2.2</td>\n",
       "    </tr>\n",
       "    <tr>\n",
       "      <th>7277</th>\n",
       "      <td>Hele landet</td>\n",
       "      <td>Menn</td>\n",
       "      <td>16-19 år</td>\n",
       "      <td>Sykefraværsprosent</td>\n",
       "      <td>2000K4</td>\n",
       "      <td>2.7</td>\n",
       "    </tr>\n",
       "    <tr>\n",
       "      <th>7278</th>\n",
       "      <td>Hele landet</td>\n",
       "      <td>Menn</td>\n",
       "      <td>16-19 år</td>\n",
       "      <td>Sykefraværsprosent</td>\n",
       "      <td>2001K1</td>\n",
       "      <td>3.1</td>\n",
       "    </tr>\n",
       "    <tr>\n",
       "      <th>7279</th>\n",
       "      <td>Hele landet</td>\n",
       "      <td>Menn</td>\n",
       "      <td>16-19 år</td>\n",
       "      <td>Sykefraværsprosent</td>\n",
       "      <td>2001K2</td>\n",
       "      <td>2.8</td>\n",
       "    </tr>\n",
       "  </tbody>\n",
       "</table>\n",
       "</div>"
      ],
      "text/plain": [
       "           region kjønn     alder  statistikkvariabel kvartal  value\n",
       "7275  Hele landet  Menn  16-19 år  Sykefraværsprosent  2000K2    2.6\n",
       "7276  Hele landet  Menn  16-19 år  Sykefraværsprosent  2000K3    2.2\n",
       "7277  Hele landet  Menn  16-19 år  Sykefraværsprosent  2000K4    2.7\n",
       "7278  Hele landet  Menn  16-19 år  Sykefraværsprosent  2001K1    3.1\n",
       "7279  Hele landet  Menn  16-19 år  Sykefraværsprosent  2001K2    2.8"
      ]
     },
     "execution_count": 77,
     "metadata": {},
     "output_type": "execute_result"
    }
   ],
   "source": [
    "utv = df[(df['statistikkvariabel'] == 'Sykefraværsprosent') \n",
    "         & (df['region'] == 'Hele landet')\n",
    "         & (~df['alder'].isin(['16-69 år']))\n",
    "         & (~df['kjønn'].isin(['Begge kjønn']))]\n",
    "utv.head()"
   ]
  },
  {
   "cell_type": "code",
   "execution_count": 78,
   "metadata": {},
   "outputs": [
    {
     "data": {
      "application/vnd.plotly.v1+json": {
       "config": {
        "linkText": "Export to plot.ly",
        "plotlyServerURL": "https://plot.ly",
        "showLink": false
       },
       "data": [
        {
         "hoverlabel": {
          "namelength": 0
         },
         "hovertemplate": "kjønn=Menn<br>kvartal=2000K2<br>alder=%{x}<br>value=%{y}",
         "legendgroup": "kjønn=Menn",
         "marker": {
          "color": "#636efa",
          "symbol": "circle"
         },
         "mode": "markers",
         "name": "kjønn=Menn",
         "showlegend": true,
         "type": "scatter",
         "uid": "16a7aa48-4b61-48bc-b807-1d15f7e47741",
         "x": [
          "16-19 år",
          "20-24 år",
          "25-29 år",
          "30-34 år",
          "35-39 år",
          "40-44 år",
          "45-49 år",
          "50-54 år",
          "55-59 år",
          "60-64 år",
          "65-66 år",
          "67 år",
          "68 år",
          "69 år"
         ],
         "xaxis": "x",
         "y": [
          2.6,
          4.1,
          4.1,
          4.3,
          4.4,
          4.5,
          4.7,
          5.3,
          6.4,
          9.1,
          9.4,
          4.9,
          2.4,
          1.5
         ],
         "yaxis": "y"
        },
        {
         "hoverlabel": {
          "namelength": 0
         },
         "hovertemplate": "kjønn=Kvinner<br>kvartal=2000K2<br>alder=%{x}<br>value=%{y}",
         "legendgroup": "kjønn=Kvinner",
         "marker": {
          "color": "#EF553B",
          "symbol": "circle"
         },
         "mode": "markers",
         "name": "kjønn=Kvinner",
         "showlegend": true,
         "type": "scatter",
         "uid": "34c92316-6783-443d-b104-5b3735018e5b",
         "x": [
          "16-19 år",
          "20-24 år",
          "25-29 år",
          "30-34 år",
          "35-39 år",
          "40-44 år",
          "45-49 år",
          "50-54 år",
          "55-59 år",
          "60-64 år",
          "65-66 år",
          "67 år",
          "68 år",
          "69 år"
         ],
         "xaxis": "x",
         "y": [
          2.7,
          5.7,
          7,
          7.6,
          7.2,
          7,
          7.4,
          8,
          9,
          11.4,
          11.3,
          4.8,
          2.3,
          2.6
         ],
         "yaxis": "y"
        }
       ],
       "frames": [
        {
         "data": [
          {
           "hoverlabel": {
            "namelength": 0
           },
           "hovertemplate": "kjønn=Menn<br>kvartal=2000K2<br>alder=%{x}<br>value=%{y}",
           "legendgroup": "kjønn=Menn",
           "marker": {
            "color": "#636efa",
            "symbol": "circle"
           },
           "mode": "markers",
           "name": "kjønn=Menn",
           "showlegend": true,
           "type": "scatter",
           "x": [
            "16-19 år",
            "20-24 år",
            "25-29 år",
            "30-34 år",
            "35-39 år",
            "40-44 år",
            "45-49 år",
            "50-54 år",
            "55-59 år",
            "60-64 år",
            "65-66 år",
            "67 år",
            "68 år",
            "69 år"
           ],
           "xaxis": "x",
           "y": [
            2.6,
            4.1,
            4.1,
            4.3,
            4.4,
            4.5,
            4.7,
            5.3,
            6.4,
            9.1,
            9.4,
            4.9,
            2.4,
            1.5
           ],
           "yaxis": "y"
          },
          {
           "hoverlabel": {
            "namelength": 0
           },
           "hovertemplate": "kjønn=Kvinner<br>kvartal=2000K2<br>alder=%{x}<br>value=%{y}",
           "legendgroup": "kjønn=Kvinner",
           "marker": {
            "color": "#EF553B",
            "symbol": "circle"
           },
           "mode": "markers",
           "name": "kjønn=Kvinner",
           "showlegend": true,
           "type": "scatter",
           "x": [
            "16-19 år",
            "20-24 år",
            "25-29 år",
            "30-34 år",
            "35-39 år",
            "40-44 år",
            "45-49 år",
            "50-54 år",
            "55-59 år",
            "60-64 år",
            "65-66 år",
            "67 år",
            "68 år",
            "69 år"
           ],
           "xaxis": "x",
           "y": [
            2.7,
            5.7,
            7,
            7.6,
            7.2,
            7,
            7.4,
            8,
            9,
            11.4,
            11.3,
            4.8,
            2.3,
            2.6
           ],
           "yaxis": "y"
          }
         ],
         "name": "2000K2"
        },
        {
         "data": [
          {
           "hoverlabel": {
            "namelength": 0
           },
           "hovertemplate": "kjønn=Menn<br>kvartal=2000K3<br>alder=%{x}<br>value=%{y}",
           "legendgroup": "kjønn=Menn",
           "marker": {
            "color": "#636efa",
            "symbol": "circle"
           },
           "mode": "markers",
           "name": "kjønn=Menn",
           "showlegend": true,
           "type": "scatter",
           "x": [
            "16-19 år",
            "20-24 år",
            "25-29 år",
            "30-34 år",
            "35-39 år",
            "40-44 år",
            "45-49 år",
            "50-54 år",
            "55-59 år",
            "60-64 år",
            "65-66 år",
            "67 år",
            "68 år",
            "69 år"
           ],
           "xaxis": "x",
           "y": [
            2.2,
            3.7,
            3.8,
            4,
            4.1,
            4.1,
            4.3,
            4.8,
            5.8,
            8,
            8.4,
            4.2,
            1.7,
            1.1
           ],
           "yaxis": "y"
          },
          {
           "hoverlabel": {
            "namelength": 0
           },
           "hovertemplate": "kjønn=Kvinner<br>kvartal=2000K3<br>alder=%{x}<br>value=%{y}",
           "legendgroup": "kjønn=Kvinner",
           "marker": {
            "color": "#EF553B",
            "symbol": "circle"
           },
           "mode": "markers",
           "name": "kjønn=Kvinner",
           "showlegend": true,
           "type": "scatter",
           "x": [
            "16-19 år",
            "20-24 år",
            "25-29 år",
            "30-34 år",
            "35-39 år",
            "40-44 år",
            "45-49 år",
            "50-54 år",
            "55-59 år",
            "60-64 år",
            "65-66 år",
            "67 år",
            "68 år",
            "69 år"
           ],
           "xaxis": "x",
           "y": [
            2.3,
            5,
            6.2,
            6.7,
            6.4,
            6,
            6.4,
            7.1,
            8,
            10.1,
            10.7,
            5,
            1.6,
            1.6
           ],
           "yaxis": "y"
          }
         ],
         "name": "2000K3"
        },
        {
         "data": [
          {
           "hoverlabel": {
            "namelength": 0
           },
           "hovertemplate": "kjønn=Menn<br>kvartal=2000K4<br>alder=%{x}<br>value=%{y}",
           "legendgroup": "kjønn=Menn",
           "marker": {
            "color": "#636efa",
            "symbol": "circle"
           },
           "mode": "markers",
           "name": "kjønn=Menn",
           "showlegend": true,
           "type": "scatter",
           "x": [
            "16-19 år",
            "20-24 år",
            "25-29 år",
            "30-34 år",
            "35-39 år",
            "40-44 år",
            "45-49 år",
            "50-54 år",
            "55-59 år",
            "60-64 år",
            "65-66 år",
            "67 år",
            "68 år",
            "69 år"
           ],
           "xaxis": "x",
           "y": [
            2.7,
            4.3,
            4.2,
            4.4,
            4.6,
            4.7,
            4.8,
            5.3,
            6.3,
            8.5,
            8.7,
            3.4,
            2.1,
            1.2
           ],
           "yaxis": "y"
          },
          {
           "hoverlabel": {
            "namelength": 0
           },
           "hovertemplate": "kjønn=Kvinner<br>kvartal=2000K4<br>alder=%{x}<br>value=%{y}",
           "legendgroup": "kjønn=Kvinner",
           "marker": {
            "color": "#EF553B",
            "symbol": "circle"
           },
           "mode": "markers",
           "name": "kjønn=Kvinner",
           "showlegend": true,
           "type": "scatter",
           "x": [
            "16-19 år",
            "20-24 år",
            "25-29 år",
            "30-34 år",
            "35-39 år",
            "40-44 år",
            "45-49 år",
            "50-54 år",
            "55-59 år",
            "60-64 år",
            "65-66 år",
            "67 år",
            "68 år",
            "69 år"
           ],
           "xaxis": "x",
           "y": [
            3,
            6,
            7.4,
            8,
            7.7,
            7.3,
            7.5,
            8.2,
            9.1,
            10.9,
            11.1,
            4.8,
            2.4,
            1.9
           ],
           "yaxis": "y"
          }
         ],
         "name": "2000K4"
        },
        {
         "data": [
          {
           "hoverlabel": {
            "namelength": 0
           },
           "hovertemplate": "kjønn=Menn<br>kvartal=2001K1<br>alder=%{x}<br>value=%{y}",
           "legendgroup": "kjønn=Menn",
           "marker": {
            "color": "#636efa",
            "symbol": "circle"
           },
           "mode": "markers",
           "name": "kjønn=Menn",
           "showlegend": true,
           "type": "scatter",
           "x": [
            "16-19 år",
            "20-24 år",
            "25-29 år",
            "30-34 år",
            "35-39 år",
            "40-44 år",
            "45-49 år",
            "50-54 år",
            "55-59 år",
            "60-64 år",
            "65-66 år",
            "67 år",
            "68 år",
            "69 år"
           ],
           "xaxis": "x",
           "y": [
            3.1,
            4.6,
            4.5,
            4.7,
            4.9,
            4.9,
            5.1,
            5.5,
            6.6,
            9,
            8.9,
            3.8,
            2.6,
            1.6
           ],
           "yaxis": "y"
          },
          {
           "hoverlabel": {
            "namelength": 0
           },
           "hovertemplate": "kjønn=Kvinner<br>kvartal=2001K1<br>alder=%{x}<br>value=%{y}",
           "legendgroup": "kjønn=Kvinner",
           "marker": {
            "color": "#EF553B",
            "symbol": "circle"
           },
           "mode": "markers",
           "name": "kjønn=Kvinner",
           "showlegend": true,
           "type": "scatter",
           "x": [
            "16-19 år",
            "20-24 år",
            "25-29 år",
            "30-34 år",
            "35-39 år",
            "40-44 år",
            "45-49 år",
            "50-54 år",
            "55-59 år",
            "60-64 år",
            "65-66 år",
            "67 år",
            "68 år",
            "69 år"
           ],
           "xaxis": "x",
           "y": [
            3.2,
            6.3,
            7.7,
            8.5,
            8,
            7.7,
            7.9,
            8.6,
            9.6,
            11.5,
            11.3,
            5.5,
            3.1,
            2.3
           ],
           "yaxis": "y"
          }
         ],
         "name": "2001K1"
        },
        {
         "data": [
          {
           "hoverlabel": {
            "namelength": 0
           },
           "hovertemplate": "kjønn=Menn<br>kvartal=2001K2<br>alder=%{x}<br>value=%{y}",
           "legendgroup": "kjønn=Menn",
           "marker": {
            "color": "#636efa",
            "symbol": "circle"
           },
           "mode": "markers",
           "name": "kjønn=Menn",
           "showlegend": true,
           "type": "scatter",
           "x": [
            "16-19 år",
            "20-24 år",
            "25-29 år",
            "30-34 år",
            "35-39 år",
            "40-44 år",
            "45-49 år",
            "50-54 år",
            "55-59 år",
            "60-64 år",
            "65-66 år",
            "67 år",
            "68 år",
            "69 år"
           ],
           "xaxis": "x",
           "y": [
            2.8,
            4.2,
            4.1,
            4.2,
            4.5,
            4.5,
            4.7,
            5.3,
            6.2,
            8.6,
            8.5,
            3.3,
            2.8,
            2.4
           ],
           "yaxis": "y"
          },
          {
           "hoverlabel": {
            "namelength": 0
           },
           "hovertemplate": "kjønn=Kvinner<br>kvartal=2001K2<br>alder=%{x}<br>value=%{y}",
           "legendgroup": "kjønn=Kvinner",
           "marker": {
            "color": "#EF553B",
            "symbol": "circle"
           },
           "mode": "markers",
           "name": "kjønn=Kvinner",
           "showlegend": true,
           "type": "scatter",
           "x": [
            "16-19 år",
            "20-24 år",
            "25-29 år",
            "30-34 år",
            "35-39 år",
            "40-44 år",
            "45-49 år",
            "50-54 år",
            "55-59 år",
            "60-64 år",
            "65-66 år",
            "67 år",
            "68 år",
            "69 år"
           ],
           "xaxis": "x",
           "y": [
            2.9,
            5.8,
            7.1,
            7.8,
            7.4,
            7.2,
            7.5,
            8.1,
            9,
            10.9,
            11.1,
            5.5,
            2.3,
            3.5
           ],
           "yaxis": "y"
          }
         ],
         "name": "2001K2"
        },
        {
         "data": [
          {
           "hoverlabel": {
            "namelength": 0
           },
           "hovertemplate": "kjønn=Menn<br>kvartal=2001K3<br>alder=%{x}<br>value=%{y}",
           "legendgroup": "kjønn=Menn",
           "marker": {
            "color": "#636efa",
            "symbol": "circle"
           },
           "mode": "markers",
           "name": "kjønn=Menn",
           "showlegend": true,
           "type": "scatter",
           "x": [
            "16-19 år",
            "20-24 år",
            "25-29 år",
            "30-34 år",
            "35-39 år",
            "40-44 år",
            "45-49 år",
            "50-54 år",
            "55-59 år",
            "60-64 år",
            "65-66 år",
            "67 år",
            "68 år",
            "69 år"
           ],
           "xaxis": "x",
           "y": [
            2.4,
            4.1,
            4,
            4.2,
            4.4,
            4.4,
            4.6,
            5,
            5.8,
            8.2,
            8.5,
            4,
            2.8,
            2.2
           ],
           "yaxis": "y"
          },
          {
           "hoverlabel": {
            "namelength": 0
           },
           "hovertemplate": "kjønn=Kvinner<br>kvartal=2001K3<br>alder=%{x}<br>value=%{y}",
           "legendgroup": "kjønn=Kvinner",
           "marker": {
            "color": "#EF553B",
            "symbol": "circle"
           },
           "mode": "markers",
           "name": "kjønn=Kvinner",
           "showlegend": true,
           "type": "scatter",
           "x": [
            "16-19 år",
            "20-24 år",
            "25-29 år",
            "30-34 år",
            "35-39 år",
            "40-44 år",
            "45-49 år",
            "50-54 år",
            "55-59 år",
            "60-64 år",
            "65-66 år",
            "67 år",
            "68 år",
            "69 år"
           ],
           "xaxis": "x",
           "y": [
            2.5,
            5.5,
            6.7,
            7.1,
            6.6,
            6.3,
            6.6,
            7.2,
            8.1,
            10.1,
            10.8,
            6,
            2,
            3.1
           ],
           "yaxis": "y"
          }
         ],
         "name": "2001K3"
        },
        {
         "data": [
          {
           "hoverlabel": {
            "namelength": 0
           },
           "hovertemplate": "kjønn=Menn<br>kvartal=2001K4<br>alder=%{x}<br>value=%{y}",
           "legendgroup": "kjønn=Menn",
           "marker": {
            "color": "#636efa",
            "symbol": "circle"
           },
           "mode": "markers",
           "name": "kjønn=Menn",
           "showlegend": true,
           "type": "scatter",
           "x": [
            "16-19 år",
            "20-24 år",
            "25-29 år",
            "30-34 år",
            "35-39 år",
            "40-44 år",
            "45-49 år",
            "50-54 år",
            "55-59 år",
            "60-64 år",
            "65-66 år",
            "67 år",
            "68 år",
            "69 år"
           ],
           "xaxis": "x",
           "y": [
            2.9,
            4.6,
            4.4,
            4.7,
            4.9,
            4.9,
            5.1,
            5.5,
            6.4,
            8.7,
            9,
            3.8,
            2.4,
            2.7
           ],
           "yaxis": "y"
          },
          {
           "hoverlabel": {
            "namelength": 0
           },
           "hovertemplate": "kjønn=Kvinner<br>kvartal=2001K4<br>alder=%{x}<br>value=%{y}",
           "legendgroup": "kjønn=Kvinner",
           "marker": {
            "color": "#EF553B",
            "symbol": "circle"
           },
           "mode": "markers",
           "name": "kjønn=Kvinner",
           "showlegend": true,
           "type": "scatter",
           "x": [
            "16-19 år",
            "20-24 år",
            "25-29 år",
            "30-34 år",
            "35-39 år",
            "40-44 år",
            "45-49 år",
            "50-54 år",
            "55-59 år",
            "60-64 år",
            "65-66 år",
            "67 år",
            "68 år",
            "69 år"
           ],
           "xaxis": "x",
           "y": [
            3.1,
            6.4,
            7.8,
            8.5,
            8.1,
            7.6,
            7.9,
            8.5,
            9.3,
            11.3,
            11.5,
            5.1,
            2.7,
            3.8
           ],
           "yaxis": "y"
          }
         ],
         "name": "2001K4"
        },
        {
         "data": [
          {
           "hoverlabel": {
            "namelength": 0
           },
           "hovertemplate": "kjønn=Menn<br>kvartal=2002K1<br>alder=%{x}<br>value=%{y}",
           "legendgroup": "kjønn=Menn",
           "marker": {
            "color": "#636efa",
            "symbol": "circle"
           },
           "mode": "markers",
           "name": "kjønn=Menn",
           "showlegend": true,
           "type": "scatter",
           "x": [
            "16-19 år",
            "20-24 år",
            "25-29 år",
            "30-34 år",
            "35-39 år",
            "40-44 år",
            "45-49 år",
            "50-54 år",
            "55-59 år",
            "60-64 år",
            "65-66 år",
            "67 år",
            "68 år",
            "69 år"
           ],
           "xaxis": "x",
           "y": [
            3.2,
            4.8,
            4.6,
            4.9,
            5.1,
            5.2,
            5.2,
            5.8,
            6.7,
            9,
            9.8,
            5,
            2.5,
            2.7
           ],
           "yaxis": "y"
          },
          {
           "hoverlabel": {
            "namelength": 0
           },
           "hovertemplate": "kjønn=Kvinner<br>kvartal=2002K1<br>alder=%{x}<br>value=%{y}",
           "legendgroup": "kjønn=Kvinner",
           "marker": {
            "color": "#EF553B",
            "symbol": "circle"
           },
           "mode": "markers",
           "name": "kjønn=Kvinner",
           "showlegend": true,
           "type": "scatter",
           "x": [
            "16-19 år",
            "20-24 år",
            "25-29 år",
            "30-34 år",
            "35-39 år",
            "40-44 år",
            "45-49 år",
            "50-54 år",
            "55-59 år",
            "60-64 år",
            "65-66 år",
            "67 år",
            "68 år",
            "69 år"
           ],
           "xaxis": "x",
           "y": [
            3.3,
            6.7,
            8.2,
            9,
            8.4,
            7.9,
            8.2,
            8.9,
            9.8,
            11.7,
            12.3,
            5.3,
            3.7,
            3.6
           ],
           "yaxis": "y"
          }
         ],
         "name": "2002K1"
        },
        {
         "data": [
          {
           "hoverlabel": {
            "namelength": 0
           },
           "hovertemplate": "kjønn=Menn<br>kvartal=2002K2<br>alder=%{x}<br>value=%{y}",
           "legendgroup": "kjønn=Menn",
           "marker": {
            "color": "#636efa",
            "symbol": "circle"
           },
           "mode": "markers",
           "name": "kjønn=Menn",
           "showlegend": true,
           "type": "scatter",
           "x": [
            "16-19 år",
            "20-24 år",
            "25-29 år",
            "30-34 år",
            "35-39 år",
            "40-44 år",
            "45-49 år",
            "50-54 år",
            "55-59 år",
            "60-64 år",
            "65-66 år",
            "67 år",
            "68 år",
            "69 år"
           ],
           "xaxis": "x",
           "y": [
            3,
            4.5,
            4.3,
            4.5,
            4.8,
            4.9,
            5,
            5.5,
            6.4,
            8.6,
            9.2,
            4.2,
            2.5,
            2.1
           ],
           "yaxis": "y"
          },
          {
           "hoverlabel": {
            "namelength": 0
           },
           "hovertemplate": "kjønn=Kvinner<br>kvartal=2002K2<br>alder=%{x}<br>value=%{y}",
           "legendgroup": "kjønn=Kvinner",
           "marker": {
            "color": "#EF553B",
            "symbol": "circle"
           },
           "mode": "markers",
           "name": "kjønn=Kvinner",
           "showlegend": true,
           "type": "scatter",
           "x": [
            "16-19 år",
            "20-24 år",
            "25-29 år",
            "30-34 år",
            "35-39 år",
            "40-44 år",
            "45-49 år",
            "50-54 år",
            "55-59 år",
            "60-64 år",
            "65-66 år",
            "67 år",
            "68 år",
            "69 år"
           ],
           "xaxis": "x",
           "y": [
            3,
            6.2,
            7.6,
            8.3,
            8,
            7.5,
            7.7,
            8.2,
            9.2,
            11.1,
            11.2,
            5.1,
            2.5,
            3
           ],
           "yaxis": "y"
          }
         ],
         "name": "2002K2"
        },
        {
         "data": [
          {
           "hoverlabel": {
            "namelength": 0
           },
           "hovertemplate": "kjønn=Menn<br>kvartal=2002K3<br>alder=%{x}<br>value=%{y}",
           "legendgroup": "kjønn=Menn",
           "marker": {
            "color": "#636efa",
            "symbol": "circle"
           },
           "mode": "markers",
           "name": "kjønn=Menn",
           "showlegend": true,
           "type": "scatter",
           "x": [
            "16-19 år",
            "20-24 år",
            "25-29 år",
            "30-34 år",
            "35-39 år",
            "40-44 år",
            "45-49 år",
            "50-54 år",
            "55-59 år",
            "60-64 år",
            "65-66 år",
            "67 år",
            "68 år",
            "69 år"
           ],
           "xaxis": "x",
           "y": [
            2.5,
            4.3,
            4.2,
            4.4,
            4.6,
            4.6,
            4.7,
            5.1,
            6,
            8,
            8.5,
            4.5,
            2,
            2
           ],
           "yaxis": "y"
          },
          {
           "hoverlabel": {
            "namelength": 0
           },
           "hovertemplate": "kjønn=Kvinner<br>kvartal=2002K3<br>alder=%{x}<br>value=%{y}",
           "legendgroup": "kjønn=Kvinner",
           "marker": {
            "color": "#EF553B",
            "symbol": "circle"
           },
           "mode": "markers",
           "name": "kjønn=Kvinner",
           "showlegend": true,
           "type": "scatter",
           "x": [
            "16-19 år",
            "20-24 år",
            "25-29 år",
            "30-34 år",
            "35-39 år",
            "40-44 år",
            "45-49 år",
            "50-54 år",
            "55-59 år",
            "60-64 år",
            "65-66 år",
            "67 år",
            "68 år",
            "69 år"
           ],
           "xaxis": "x",
           "y": [
            2.4,
            5.6,
            7,
            7.5,
            7,
            6.5,
            6.7,
            7.1,
            8.1,
            10.1,
            10.5,
            4.6,
            2.2,
            2.5
           ],
           "yaxis": "y"
          }
         ],
         "name": "2002K3"
        },
        {
         "data": [
          {
           "hoverlabel": {
            "namelength": 0
           },
           "hovertemplate": "kjønn=Menn<br>kvartal=2002K4<br>alder=%{x}<br>value=%{y}",
           "legendgroup": "kjønn=Menn",
           "marker": {
            "color": "#636efa",
            "symbol": "circle"
           },
           "mode": "markers",
           "name": "kjønn=Menn",
           "showlegend": true,
           "type": "scatter",
           "x": [
            "16-19 år",
            "20-24 år",
            "25-29 år",
            "30-34 år",
            "35-39 år",
            "40-44 år",
            "45-49 år",
            "50-54 år",
            "55-59 år",
            "60-64 år",
            "65-66 år",
            "67 år",
            "68 år",
            "69 år"
           ],
           "xaxis": "x",
           "y": [
            2.9,
            4.9,
            4.8,
            5,
            5.4,
            5.4,
            5.4,
            5.8,
            6.8,
            8.7,
            8.9,
            4,
            2,
            2.9
           ],
           "yaxis": "y"
          },
          {
           "hoverlabel": {
            "namelength": 0
           },
           "hovertemplate": "kjønn=Kvinner<br>kvartal=2002K4<br>alder=%{x}<br>value=%{y}",
           "legendgroup": "kjønn=Kvinner",
           "marker": {
            "color": "#EF553B",
            "symbol": "circle"
           },
           "mode": "markers",
           "name": "kjønn=Kvinner",
           "showlegend": true,
           "type": "scatter",
           "x": [
            "16-19 år",
            "20-24 år",
            "25-29 år",
            "30-34 år",
            "35-39 år",
            "40-44 år",
            "45-49 år",
            "50-54 år",
            "55-59 år",
            "60-64 år",
            "65-66 år",
            "67 år",
            "68 år",
            "69 år"
           ],
           "xaxis": "x",
           "y": [
            3,
            6.8,
            8.4,
            9,
            8.5,
            7.9,
            8.1,
            8.6,
            9.4,
            11.2,
            10.9,
            4.7,
            2.5,
            2.1
           ],
           "yaxis": "y"
          }
         ],
         "name": "2002K4"
        },
        {
         "data": [
          {
           "hoverlabel": {
            "namelength": 0
           },
           "hovertemplate": "kjønn=Menn<br>kvartal=2003K1<br>alder=%{x}<br>value=%{y}",
           "legendgroup": "kjønn=Menn",
           "marker": {
            "color": "#636efa",
            "symbol": "circle"
           },
           "mode": "markers",
           "name": "kjønn=Menn",
           "showlegend": true,
           "type": "scatter",
           "x": [
            "16-19 år",
            "20-24 år",
            "25-29 år",
            "30-34 år",
            "35-39 år",
            "40-44 år",
            "45-49 år",
            "50-54 år",
            "55-59 år",
            "60-64 år",
            "65-66 år",
            "67 år",
            "68 år",
            "69 år"
           ],
           "xaxis": "x",
           "y": [
            3.1,
            5.1,
            4.9,
            5.2,
            5.6,
            5.6,
            5.7,
            6.1,
            7,
            9,
            9.1,
            4.6,
            2.3,
            2.3
           ],
           "yaxis": "y"
          },
          {
           "hoverlabel": {
            "namelength": 0
           },
           "hovertemplate": "kjønn=Kvinner<br>kvartal=2003K1<br>alder=%{x}<br>value=%{y}",
           "legendgroup": "kjønn=Kvinner",
           "marker": {
            "color": "#EF553B",
            "symbol": "circle"
           },
           "mode": "markers",
           "name": "kjønn=Kvinner",
           "showlegend": true,
           "type": "scatter",
           "x": [
            "16-19 år",
            "20-24 år",
            "25-29 år",
            "30-34 år",
            "35-39 år",
            "40-44 år",
            "45-49 år",
            "50-54 år",
            "55-59 år",
            "60-64 år",
            "65-66 år",
            "67 år",
            "68 år",
            "69 år"
           ],
           "xaxis": "x",
           "y": [
            3.2,
            7.1,
            8.7,
            9.5,
            8.7,
            8.4,
            8.5,
            9,
            9.7,
            11.7,
            11.6,
            5.7,
            2.9,
            3.4
           ],
           "yaxis": "y"
          }
         ],
         "name": "2003K1"
        },
        {
         "data": [
          {
           "hoverlabel": {
            "namelength": 0
           },
           "hovertemplate": "kjønn=Menn<br>kvartal=2003K2<br>alder=%{x}<br>value=%{y}",
           "legendgroup": "kjønn=Menn",
           "marker": {
            "color": "#636efa",
            "symbol": "circle"
           },
           "mode": "markers",
           "name": "kjønn=Menn",
           "showlegend": true,
           "type": "scatter",
           "x": [
            "16-19 år",
            "20-24 år",
            "25-29 år",
            "30-34 år",
            "35-39 år",
            "40-44 år",
            "45-49 år",
            "50-54 år",
            "55-59 år",
            "60-64 år",
            "65-66 år",
            "67 år",
            "68 år",
            "69 år"
           ],
           "xaxis": "x",
           "y": [
            2.9,
            4.7,
            4.6,
            4.8,
            5.3,
            5.3,
            5.5,
            5.8,
            6.8,
            8.7,
            9.1,
            4.9,
            1.8,
            1.9
           ],
           "yaxis": "y"
          },
          {
           "hoverlabel": {
            "namelength": 0
           },
           "hovertemplate": "kjønn=Kvinner<br>kvartal=2003K2<br>alder=%{x}<br>value=%{y}",
           "legendgroup": "kjønn=Kvinner",
           "marker": {
            "color": "#EF553B",
            "symbol": "circle"
           },
           "mode": "markers",
           "name": "kjønn=Kvinner",
           "showlegend": true,
           "type": "scatter",
           "x": [
            "16-19 år",
            "20-24 år",
            "25-29 år",
            "30-34 år",
            "35-39 år",
            "40-44 år",
            "45-49 år",
            "50-54 år",
            "55-59 år",
            "60-64 år",
            "65-66 år",
            "67 år",
            "68 år",
            "69 år"
           ],
           "xaxis": "x",
           "y": [
            2.9,
            6.7,
            8.4,
            9.1,
            8.6,
            8.1,
            8.1,
            8.6,
            9.4,
            11.4,
            11.8,
            5.9,
            2.6,
            3.9
           ],
           "yaxis": "y"
          }
         ],
         "name": "2003K2"
        },
        {
         "data": [
          {
           "hoverlabel": {
            "namelength": 0
           },
           "hovertemplate": "kjønn=Menn<br>kvartal=2003K3<br>alder=%{x}<br>value=%{y}",
           "legendgroup": "kjønn=Menn",
           "marker": {
            "color": "#636efa",
            "symbol": "circle"
           },
           "mode": "markers",
           "name": "kjønn=Menn",
           "showlegend": true,
           "type": "scatter",
           "x": [
            "16-19 år",
            "20-24 år",
            "25-29 år",
            "30-34 år",
            "35-39 år",
            "40-44 år",
            "45-49 år",
            "50-54 år",
            "55-59 år",
            "60-64 år",
            "65-66 år",
            "67 år",
            "68 år",
            "69 år"
           ],
           "xaxis": "x",
           "y": [
            2.5,
            4.3,
            4.4,
            4.6,
            4.9,
            4.9,
            5,
            5.6,
            6.5,
            8.1,
            8.8,
            4.4,
            2,
            1.7
           ],
           "yaxis": "y"
          },
          {
           "hoverlabel": {
            "namelength": 0
           },
           "hovertemplate": "kjønn=Kvinner<br>kvartal=2003K3<br>alder=%{x}<br>value=%{y}",
           "legendgroup": "kjønn=Kvinner",
           "marker": {
            "color": "#EF553B",
            "symbol": "circle"
           },
           "mode": "markers",
           "name": "kjønn=Kvinner",
           "showlegend": true,
           "type": "scatter",
           "x": [
            "16-19 år",
            "20-24 år",
            "25-29 år",
            "30-34 år",
            "35-39 år",
            "40-44 år",
            "45-49 år",
            "50-54 år",
            "55-59 år",
            "60-64 år",
            "65-66 år",
            "67 år",
            "68 år",
            "69 år"
           ],
           "xaxis": "x",
           "y": [
            2.5,
            5.7,
            7.5,
            7.9,
            7.3,
            6.8,
            7.1,
            7.5,
            8.4,
            10.4,
            11.8,
            5.5,
            2.7,
            2.9
           ],
           "yaxis": "y"
          }
         ],
         "name": "2003K3"
        },
        {
         "data": [
          {
           "hoverlabel": {
            "namelength": 0
           },
           "hovertemplate": "kjønn=Menn<br>kvartal=2003K4<br>alder=%{x}<br>value=%{y}",
           "legendgroup": "kjønn=Menn",
           "marker": {
            "color": "#636efa",
            "symbol": "circle"
           },
           "mode": "markers",
           "name": "kjønn=Menn",
           "showlegend": true,
           "type": "scatter",
           "x": [
            "16-19 år",
            "20-24 år",
            "25-29 år",
            "30-34 år",
            "35-39 år",
            "40-44 år",
            "45-49 år",
            "50-54 år",
            "55-59 år",
            "60-64 år",
            "65-66 år",
            "67 år",
            "68 år",
            "69 år"
           ],
           "xaxis": "x",
           "y": [
            2.9,
            5,
            5,
            5.3,
            5.6,
            5.7,
            5.7,
            6.3,
            7.2,
            9,
            9.6,
            4.6,
            1.9,
            1.8
           ],
           "yaxis": "y"
          },
          {
           "hoverlabel": {
            "namelength": 0
           },
           "hovertemplate": "kjønn=Kvinner<br>kvartal=2003K4<br>alder=%{x}<br>value=%{y}",
           "legendgroup": "kjønn=Kvinner",
           "marker": {
            "color": "#EF553B",
            "symbol": "circle"
           },
           "mode": "markers",
           "name": "kjønn=Kvinner",
           "showlegend": true,
           "type": "scatter",
           "x": [
            "16-19 år",
            "20-24 år",
            "25-29 år",
            "30-34 år",
            "35-39 år",
            "40-44 år",
            "45-49 år",
            "50-54 år",
            "55-59 år",
            "60-64 år",
            "65-66 år",
            "67 år",
            "68 år",
            "69 år"
           ],
           "xaxis": "x",
           "y": [
            3.1,
            6.8,
            8.9,
            9.6,
            9,
            8.5,
            8.6,
            8.9,
            9.9,
            11.9,
            12.8,
            5.4,
            3.4,
            3.4
           ],
           "yaxis": "y"
          }
         ],
         "name": "2003K4"
        },
        {
         "data": [
          {
           "hoverlabel": {
            "namelength": 0
           },
           "hovertemplate": "kjønn=Menn<br>kvartal=2004K1<br>alder=%{x}<br>value=%{y}",
           "legendgroup": "kjønn=Menn",
           "marker": {
            "color": "#636efa",
            "symbol": "circle"
           },
           "mode": "markers",
           "name": "kjønn=Menn",
           "showlegend": true,
           "type": "scatter",
           "x": [
            "16-19 år",
            "20-24 år",
            "25-29 år",
            "30-34 år",
            "35-39 år",
            "40-44 år",
            "45-49 år",
            "50-54 år",
            "55-59 år",
            "60-64 år",
            "65-66 år",
            "67 år",
            "68 år",
            "69 år"
           ],
           "xaxis": "x",
           "y": [
            3,
            4.6,
            4.8,
            5,
            5.4,
            5.4,
            5.5,
            6.1,
            7,
            8.9,
            9.9,
            5.2,
            2.5,
            2
           ],
           "yaxis": "y"
          },
          {
           "hoverlabel": {
            "namelength": 0
           },
           "hovertemplate": "kjønn=Kvinner<br>kvartal=2004K1<br>alder=%{x}<br>value=%{y}",
           "legendgroup": "kjønn=Kvinner",
           "marker": {
            "color": "#EF553B",
            "symbol": "circle"
           },
           "mode": "markers",
           "name": "kjønn=Kvinner",
           "showlegend": true,
           "type": "scatter",
           "x": [
            "16-19 år",
            "20-24 år",
            "25-29 år",
            "30-34 år",
            "35-39 år",
            "40-44 år",
            "45-49 år",
            "50-54 år",
            "55-59 år",
            "60-64 år",
            "65-66 år",
            "67 år",
            "68 år",
            "69 år"
           ],
           "xaxis": "x",
           "y": [
            3,
            6.7,
            8.6,
            9.3,
            8.6,
            8.1,
            8.4,
            8.8,
            9.8,
            12,
            13.1,
            5.9,
            3.1,
            3.9
           ],
           "yaxis": "y"
          }
         ],
         "name": "2004K1"
        },
        {
         "data": [
          {
           "hoverlabel": {
            "namelength": 0
           },
           "hovertemplate": "kjønn=Menn<br>kvartal=2004K2<br>alder=%{x}<br>value=%{y}",
           "legendgroup": "kjønn=Menn",
           "marker": {
            "color": "#636efa",
            "symbol": "circle"
           },
           "mode": "markers",
           "name": "kjønn=Menn",
           "showlegend": true,
           "type": "scatter",
           "x": [
            "16-19 år",
            "20-24 år",
            "25-29 år",
            "30-34 år",
            "35-39 år",
            "40-44 år",
            "45-49 år",
            "50-54 år",
            "55-59 år",
            "60-64 år",
            "65-66 år",
            "67 år",
            "68 år",
            "69 år"
           ],
           "xaxis": "x",
           "y": [
            2.5,
            3.9,
            4.1,
            4.2,
            4.6,
            4.8,
            4.8,
            5.3,
            6.2,
            7.8,
            8.7,
            4.2,
            1.6,
            2.2
           ],
           "yaxis": "y"
          },
          {
           "hoverlabel": {
            "namelength": 0
           },
           "hovertemplate": "kjønn=Kvinner<br>kvartal=2004K2<br>alder=%{x}<br>value=%{y}",
           "legendgroup": "kjønn=Kvinner",
           "marker": {
            "color": "#EF553B",
            "symbol": "circle"
           },
           "mode": "markers",
           "name": "kjønn=Kvinner",
           "showlegend": true,
           "type": "scatter",
           "x": [
            "16-19 år",
            "20-24 år",
            "25-29 år",
            "30-34 år",
            "35-39 år",
            "40-44 år",
            "45-49 år",
            "50-54 år",
            "55-59 år",
            "60-64 år",
            "65-66 år",
            "67 år",
            "68 år",
            "69 år"
           ],
           "xaxis": "x",
           "y": [
            2.7,
            5.9,
            7.7,
            8.3,
            7.8,
            7.4,
            7.5,
            7.9,
            8.7,
            10.8,
            11.6,
            5.8,
            3.4,
            2.2
           ],
           "yaxis": "y"
          }
         ],
         "name": "2004K2"
        },
        {
         "data": [
          {
           "hoverlabel": {
            "namelength": 0
           },
           "hovertemplate": "kjønn=Menn<br>kvartal=2004K3<br>alder=%{x}<br>value=%{y}",
           "legendgroup": "kjønn=Menn",
           "marker": {
            "color": "#636efa",
            "symbol": "circle"
           },
           "mode": "markers",
           "name": "kjønn=Menn",
           "showlegend": true,
           "type": "scatter",
           "x": [
            "16-19 år",
            "20-24 år",
            "25-29 år",
            "30-34 år",
            "35-39 år",
            "40-44 år",
            "45-49 år",
            "50-54 år",
            "55-59 år",
            "60-64 år",
            "65-66 år",
            "67 år",
            "68 år",
            "69 år"
           ],
           "xaxis": "x",
           "y": [
            1.8,
            3.2,
            3.2,
            3.3,
            3.6,
            3.7,
            3.7,
            4.1,
            4.9,
            6.4,
            7.3,
            3,
            1.4,
            1.2
           ],
           "yaxis": "y"
          },
          {
           "hoverlabel": {
            "namelength": 0
           },
           "hovertemplate": "kjønn=Kvinner<br>kvartal=2004K3<br>alder=%{x}<br>value=%{y}",
           "legendgroup": "kjønn=Kvinner",
           "marker": {
            "color": "#EF553B",
            "symbol": "circle"
           },
           "mode": "markers",
           "name": "kjønn=Kvinner",
           "showlegend": true,
           "type": "scatter",
           "x": [
            "16-19 år",
            "20-24 år",
            "25-29 år",
            "30-34 år",
            "35-39 år",
            "40-44 år",
            "45-49 år",
            "50-54 år",
            "55-59 år",
            "60-64 år",
            "65-66 år",
            "67 år",
            "68 år",
            "69 år"
           ],
           "xaxis": "x",
           "y": [
            1.8,
            4.3,
            5.8,
            6.1,
            5.6,
            5.2,
            5.3,
            5.8,
            6.4,
            8.6,
            9.6,
            4.4,
            2.1,
            2.1
           ],
           "yaxis": "y"
          }
         ],
         "name": "2004K3"
        },
        {
         "data": [
          {
           "hoverlabel": {
            "namelength": 0
           },
           "hovertemplate": "kjønn=Menn<br>kvartal=2004K4<br>alder=%{x}<br>value=%{y}",
           "legendgroup": "kjønn=Menn",
           "marker": {
            "color": "#636efa",
            "symbol": "circle"
           },
           "mode": "markers",
           "name": "kjønn=Menn",
           "showlegend": true,
           "type": "scatter",
           "x": [
            "16-19 år",
            "20-24 år",
            "25-29 år",
            "30-34 år",
            "35-39 år",
            "40-44 år",
            "45-49 år",
            "50-54 år",
            "55-59 år",
            "60-64 år",
            "65-66 år",
            "67 år",
            "68 år",
            "69 år"
           ],
           "xaxis": "x",
           "y": [
            2.2,
            3.5,
            3.5,
            3.8,
            4,
            4,
            4.1,
            4.5,
            5.3,
            6.5,
            7.6,
            2.9,
            1.8,
            1.5
           ],
           "yaxis": "y"
          },
          {
           "hoverlabel": {
            "namelength": 0
           },
           "hovertemplate": "kjønn=Kvinner<br>kvartal=2004K4<br>alder=%{x}<br>value=%{y}",
           "legendgroup": "kjønn=Kvinner",
           "marker": {
            "color": "#EF553B",
            "symbol": "circle"
           },
           "mode": "markers",
           "name": "kjønn=Kvinner",
           "showlegend": true,
           "type": "scatter",
           "x": [
            "16-19 år",
            "20-24 år",
            "25-29 år",
            "30-34 år",
            "35-39 år",
            "40-44 år",
            "45-49 år",
            "50-54 år",
            "55-59 år",
            "60-64 år",
            "65-66 år",
            "67 år",
            "68 år",
            "69 år"
           ],
           "xaxis": "x",
           "y": [
            2.2,
            5,
            6.9,
            7.2,
            6.5,
            6.1,
            6.2,
            6.7,
            7.2,
            9.1,
            10.1,
            4.4,
            1.7,
            2.2
           ],
           "yaxis": "y"
          }
         ],
         "name": "2004K4"
        },
        {
         "data": [
          {
           "hoverlabel": {
            "namelength": 0
           },
           "hovertemplate": "kjønn=Menn<br>kvartal=2005K1<br>alder=%{x}<br>value=%{y}",
           "legendgroup": "kjønn=Menn",
           "marker": {
            "color": "#636efa",
            "symbol": "circle"
           },
           "mode": "markers",
           "name": "kjønn=Menn",
           "showlegend": true,
           "type": "scatter",
           "x": [
            "16-19 år",
            "20-24 år",
            "25-29 år",
            "30-34 år",
            "35-39 år",
            "40-44 år",
            "45-49 år",
            "50-54 år",
            "55-59 år",
            "60-64 år",
            "65-66 år",
            "67 år",
            "68 år",
            "69 år"
           ],
           "xaxis": "x",
           "y": [
            2.4,
            3.9,
            3.8,
            4,
            4.3,
            4.3,
            4.4,
            4.7,
            5.6,
            6.9,
            7.7,
            3.6,
            1.5,
            1.6
           ],
           "yaxis": "y"
          },
          {
           "hoverlabel": {
            "namelength": 0
           },
           "hovertemplate": "kjønn=Kvinner<br>kvartal=2005K1<br>alder=%{x}<br>value=%{y}",
           "legendgroup": "kjønn=Kvinner",
           "marker": {
            "color": "#EF553B",
            "symbol": "circle"
           },
           "mode": "markers",
           "name": "kjønn=Kvinner",
           "showlegend": true,
           "type": "scatter",
           "x": [
            "16-19 år",
            "20-24 år",
            "25-29 år",
            "30-34 år",
            "35-39 år",
            "40-44 år",
            "45-49 år",
            "50-54 år",
            "55-59 år",
            "60-64 år",
            "65-66 år",
            "67 år",
            "68 år",
            "69 år"
           ],
           "xaxis": "x",
           "y": [
            2.5,
            5.3,
            7.4,
            7.8,
            7,
            6.4,
            6.6,
            7.2,
            7.7,
            9.5,
            11.1,
            4.9,
            3.1,
            2.7
           ],
           "yaxis": "y"
          }
         ],
         "name": "2005K1"
        },
        {
         "data": [
          {
           "hoverlabel": {
            "namelength": 0
           },
           "hovertemplate": "kjønn=Menn<br>kvartal=2005K2<br>alder=%{x}<br>value=%{y}",
           "legendgroup": "kjønn=Menn",
           "marker": {
            "color": "#636efa",
            "symbol": "circle"
           },
           "mode": "markers",
           "name": "kjønn=Menn",
           "showlegend": true,
           "type": "scatter",
           "x": [
            "16-19 år",
            "20-24 år",
            "25-29 år",
            "30-34 år",
            "35-39 år",
            "40-44 år",
            "45-49 år",
            "50-54 år",
            "55-59 år",
            "60-64 år",
            "65-66 år",
            "67 år",
            "68 år",
            "69 år"
           ],
           "xaxis": "x",
           "y": [
            2.2,
            3.5,
            3.3,
            3.5,
            3.8,
            4,
            4.2,
            4.5,
            5.4,
            6.6,
            7.7,
            3,
            1.6,
            1
           ],
           "yaxis": "y"
          },
          {
           "hoverlabel": {
            "namelength": 0
           },
           "hovertemplate": "kjønn=Kvinner<br>kvartal=2005K2<br>alder=%{x}<br>value=%{y}",
           "legendgroup": "kjønn=Kvinner",
           "marker": {
            "color": "#EF553B",
            "symbol": "circle"
           },
           "mode": "markers",
           "name": "kjønn=Kvinner",
           "showlegend": true,
           "type": "scatter",
           "x": [
            "16-19 år",
            "20-24 år",
            "25-29 år",
            "30-34 år",
            "35-39 år",
            "40-44 år",
            "45-49 år",
            "50-54 år",
            "55-59 år",
            "60-64 år",
            "65-66 år",
            "67 år",
            "68 år",
            "69 år"
           ],
           "xaxis": "x",
           "y": [
            2.3,
            5,
            6.8,
            7.3,
            6.7,
            6.2,
            6.4,
            7,
            7.4,
            9,
            10.1,
            4.7,
            1.8,
            2.5
           ],
           "yaxis": "y"
          }
         ],
         "name": "2005K2"
        },
        {
         "data": [
          {
           "hoverlabel": {
            "namelength": 0
           },
           "hovertemplate": "kjønn=Menn<br>kvartal=2005K3<br>alder=%{x}<br>value=%{y}",
           "legendgroup": "kjønn=Menn",
           "marker": {
            "color": "#636efa",
            "symbol": "circle"
           },
           "mode": "markers",
           "name": "kjønn=Menn",
           "showlegend": true,
           "type": "scatter",
           "x": [
            "16-19 år",
            "20-24 år",
            "25-29 år",
            "30-34 år",
            "35-39 år",
            "40-44 år",
            "45-49 år",
            "50-54 år",
            "55-59 år",
            "60-64 år",
            "65-66 år",
            "67 år",
            "68 år",
            "69 år"
           ],
           "xaxis": "x",
           "y": [
            1.7,
            3.1,
            3.1,
            3.3,
            3.6,
            3.7,
            3.8,
            4.1,
            5,
            6,
            7.5,
            2.6,
            1.4,
            1.1
           ],
           "yaxis": "y"
          },
          {
           "hoverlabel": {
            "namelength": 0
           },
           "hovertemplate": "kjønn=Kvinner<br>kvartal=2005K3<br>alder=%{x}<br>value=%{y}",
           "legendgroup": "kjønn=Kvinner",
           "marker": {
            "color": "#EF553B",
            "symbol": "circle"
           },
           "mode": "markers",
           "name": "kjønn=Kvinner",
           "showlegend": true,
           "type": "scatter",
           "x": [
            "16-19 år",
            "20-24 år",
            "25-29 år",
            "30-34 år",
            "35-39 år",
            "40-44 år",
            "45-49 år",
            "50-54 år",
            "55-59 år",
            "60-64 år",
            "65-66 år",
            "67 år",
            "68 år",
            "69 år"
           ],
           "xaxis": "x",
           "y": [
            1.8,
            4.3,
            5.9,
            6.3,
            5.6,
            5.2,
            5.4,
            5.9,
            6.4,
            7.9,
            8.6,
            3.6,
            1.8,
            1.6
           ],
           "yaxis": "y"
          }
         ],
         "name": "2005K3"
        },
        {
         "data": [
          {
           "hoverlabel": {
            "namelength": 0
           },
           "hovertemplate": "kjønn=Menn<br>kvartal=2005K4<br>alder=%{x}<br>value=%{y}",
           "legendgroup": "kjønn=Menn",
           "marker": {
            "color": "#636efa",
            "symbol": "circle"
           },
           "mode": "markers",
           "name": "kjønn=Menn",
           "showlegend": true,
           "type": "scatter",
           "x": [
            "16-19 år",
            "20-24 år",
            "25-29 år",
            "30-34 år",
            "35-39 år",
            "40-44 år",
            "45-49 år",
            "50-54 år",
            "55-59 år",
            "60-64 år",
            "65-66 år",
            "67 år",
            "68 år",
            "69 år"
           ],
           "xaxis": "x",
           "y": [
            2.2,
            3.5,
            3.6,
            3.8,
            4.1,
            4.2,
            4.3,
            4.8,
            5.5,
            6.7,
            7.9,
            3.4,
            1.6,
            1.3
           ],
           "yaxis": "y"
          },
          {
           "hoverlabel": {
            "namelength": 0
           },
           "hovertemplate": "kjønn=Kvinner<br>kvartal=2005K4<br>alder=%{x}<br>value=%{y}",
           "legendgroup": "kjønn=Kvinner",
           "marker": {
            "color": "#EF553B",
            "symbol": "circle"
           },
           "mode": "markers",
           "name": "kjønn=Kvinner",
           "showlegend": true,
           "type": "scatter",
           "x": [
            "16-19 år",
            "20-24 år",
            "25-29 år",
            "30-34 år",
            "35-39 år",
            "40-44 år",
            "45-49 år",
            "50-54 år",
            "55-59 år",
            "60-64 år",
            "65-66 år",
            "67 år",
            "68 år",
            "69 år"
           ],
           "xaxis": "x",
           "y": [
            2.3,
            5.1,
            7.2,
            7.9,
            7.2,
            6.7,
            6.8,
            7.3,
            7.8,
            9.2,
            9.9,
            4,
            1.9,
            1.8
           ],
           "yaxis": "y"
          }
         ],
         "name": "2005K4"
        },
        {
         "data": [
          {
           "hoverlabel": {
            "namelength": 0
           },
           "hovertemplate": "kjønn=Menn<br>kvartal=2006K1<br>alder=%{x}<br>value=%{y}",
           "legendgroup": "kjønn=Menn",
           "marker": {
            "color": "#636efa",
            "symbol": "circle"
           },
           "mode": "markers",
           "name": "kjønn=Menn",
           "showlegend": true,
           "type": "scatter",
           "x": [
            "16-19 år",
            "20-24 år",
            "25-29 år",
            "30-34 år",
            "35-39 år",
            "40-44 år",
            "45-49 år",
            "50-54 år",
            "55-59 år",
            "60-64 år",
            "65-66 år",
            "67 år",
            "68 år",
            "69 år"
           ],
           "xaxis": "x",
           "y": [
            2.9,
            3.9,
            3.9,
            4.2,
            4.4,
            4.5,
            4.6,
            5.2,
            5.9,
            7.1,
            8.3,
            4,
            1.8,
            1.1
           ],
           "yaxis": "y"
          },
          {
           "hoverlabel": {
            "namelength": 0
           },
           "hovertemplate": "kjønn=Kvinner<br>kvartal=2006K1<br>alder=%{x}<br>value=%{y}",
           "legendgroup": "kjønn=Kvinner",
           "marker": {
            "color": "#EF553B",
            "symbol": "circle"
           },
           "mode": "markers",
           "name": "kjønn=Kvinner",
           "showlegend": true,
           "type": "scatter",
           "x": [
            "16-19 år",
            "20-24 år",
            "25-29 år",
            "30-34 år",
            "35-39 år",
            "40-44 år",
            "45-49 år",
            "50-54 år",
            "55-59 år",
            "60-64 år",
            "65-66 år",
            "67 år",
            "68 år",
            "69 år"
           ],
           "xaxis": "x",
           "y": [
            2.9,
            5.7,
            7.9,
            8.5,
            7.7,
            7.2,
            7.4,
            8,
            8.6,
            10.1,
            10.9,
            4.7,
            2.3,
            2
           ],
           "yaxis": "y"
          }
         ],
         "name": "2006K1"
        },
        {
         "data": [
          {
           "hoverlabel": {
            "namelength": 0
           },
           "hovertemplate": "kjønn=Menn<br>kvartal=2006K2<br>alder=%{x}<br>value=%{y}",
           "legendgroup": "kjønn=Menn",
           "marker": {
            "color": "#636efa",
            "symbol": "circle"
           },
           "mode": "markers",
           "name": "kjønn=Menn",
           "showlegend": true,
           "type": "scatter",
           "x": [
            "16-19 år",
            "20-24 år",
            "25-29 år",
            "30-34 år",
            "35-39 år",
            "40-44 år",
            "45-49 år",
            "50-54 år",
            "55-59 år",
            "60-64 år",
            "65-66 år",
            "67 år",
            "68 år",
            "69 år"
           ],
           "xaxis": "x",
           "y": [
            2.5,
            3.4,
            3.4,
            3.6,
            4,
            4.1,
            4.2,
            4.7,
            5.6,
            6.7,
            7.8,
            3.8,
            1.4,
            1.5
           ],
           "yaxis": "y"
          },
          {
           "hoverlabel": {
            "namelength": 0
           },
           "hovertemplate": "kjønn=Kvinner<br>kvartal=2006K2<br>alder=%{x}<br>value=%{y}",
           "legendgroup": "kjønn=Kvinner",
           "marker": {
            "color": "#EF553B",
            "symbol": "circle"
           },
           "mode": "markers",
           "name": "kjønn=Kvinner",
           "showlegend": true,
           "type": "scatter",
           "x": [
            "16-19 år",
            "20-24 år",
            "25-29 år",
            "30-34 år",
            "35-39 år",
            "40-44 år",
            "45-49 år",
            "50-54 år",
            "55-59 år",
            "60-64 år",
            "65-66 år",
            "67 år",
            "68 år",
            "69 år"
           ],
           "xaxis": "x",
           "y": [
            2.5,
            5.3,
            7,
            7.8,
            7.1,
            6.6,
            6.7,
            7.4,
            8,
            9.3,
            10.5,
            4.4,
            2,
            2.1
           ],
           "yaxis": "y"
          }
         ],
         "name": "2006K2"
        },
        {
         "data": [
          {
           "hoverlabel": {
            "namelength": 0
           },
           "hovertemplate": "kjønn=Menn<br>kvartal=2006K3<br>alder=%{x}<br>value=%{y}",
           "legendgroup": "kjønn=Menn",
           "marker": {
            "color": "#636efa",
            "symbol": "circle"
           },
           "mode": "markers",
           "name": "kjønn=Menn",
           "showlegend": true,
           "type": "scatter",
           "x": [
            "16-19 år",
            "20-24 år",
            "25-29 år",
            "30-34 år",
            "35-39 år",
            "40-44 år",
            "45-49 år",
            "50-54 år",
            "55-59 år",
            "60-64 år",
            "65-66 år",
            "67 år",
            "68 år",
            "69 år"
           ],
           "xaxis": "x",
           "y": [
            1.9,
            3.3,
            3.3,
            3.4,
            3.6,
            3.8,
            3.9,
            4.3,
            5.1,
            6.2,
            7.2,
            2.8,
            1,
            1.5
           ],
           "yaxis": "y"
          },
          {
           "hoverlabel": {
            "namelength": 0
           },
           "hovertemplate": "kjønn=Kvinner<br>kvartal=2006K3<br>alder=%{x}<br>value=%{y}",
           "legendgroup": "kjønn=Kvinner",
           "marker": {
            "color": "#EF553B",
            "symbol": "circle"
           },
           "mode": "markers",
           "name": "kjønn=Kvinner",
           "showlegend": true,
           "type": "scatter",
           "x": [
            "16-19 år",
            "20-24 år",
            "25-29 år",
            "30-34 år",
            "35-39 år",
            "40-44 år",
            "45-49 år",
            "50-54 år",
            "55-59 år",
            "60-64 år",
            "65-66 år",
            "67 år",
            "68 år",
            "69 år"
           ],
           "xaxis": "x",
           "y": [
            2.1,
            4.7,
            6.2,
            6.7,
            6,
            5.5,
            5.6,
            6.3,
            6.7,
            8.3,
            9.9,
            3.8,
            2.2,
            1.6
           ],
           "yaxis": "y"
          }
         ],
         "name": "2006K3"
        },
        {
         "data": [
          {
           "hoverlabel": {
            "namelength": 0
           },
           "hovertemplate": "kjønn=Menn<br>kvartal=2006K4<br>alder=%{x}<br>value=%{y}",
           "legendgroup": "kjønn=Menn",
           "marker": {
            "color": "#636efa",
            "symbol": "circle"
           },
           "mode": "markers",
           "name": "kjønn=Menn",
           "showlegend": true,
           "type": "scatter",
           "x": [
            "16-19 år",
            "20-24 år",
            "25-29 år",
            "30-34 år",
            "35-39 år",
            "40-44 år",
            "45-49 år",
            "50-54 år",
            "55-59 år",
            "60-64 år",
            "65-66 år",
            "67 år",
            "68 år",
            "69 år"
           ],
           "xaxis": "x",
           "y": [
            2.3,
            3.6,
            3.6,
            3.8,
            4,
            4.2,
            4.3,
            4.7,
            5.5,
            6.6,
            7.1,
            3.3,
            1.4,
            1.4
           ],
           "yaxis": "y"
          },
          {
           "hoverlabel": {
            "namelength": 0
           },
           "hovertemplate": "kjønn=Kvinner<br>kvartal=2006K4<br>alder=%{x}<br>value=%{y}",
           "legendgroup": "kjønn=Kvinner",
           "marker": {
            "color": "#EF553B",
            "symbol": "circle"
           },
           "mode": "markers",
           "name": "kjønn=Kvinner",
           "showlegend": true,
           "type": "scatter",
           "x": [
            "16-19 år",
            "20-24 år",
            "25-29 år",
            "30-34 år",
            "35-39 år",
            "40-44 år",
            "45-49 år",
            "50-54 år",
            "55-59 år",
            "60-64 år",
            "65-66 år",
            "67 år",
            "68 år",
            "69 år"
           ],
           "xaxis": "x",
           "y": [
            2.6,
            5.4,
            7.2,
            7.9,
            7.3,
            6.7,
            6.7,
            7.3,
            7.7,
            9.2,
            10.4,
            4.4,
            2.1,
            1.7
           ],
           "yaxis": "y"
          }
         ],
         "name": "2006K4"
        },
        {
         "data": [
          {
           "hoverlabel": {
            "namelength": 0
           },
           "hovertemplate": "kjønn=Menn<br>kvartal=2007K1<br>alder=%{x}<br>value=%{y}",
           "legendgroup": "kjønn=Menn",
           "marker": {
            "color": "#636efa",
            "symbol": "circle"
           },
           "mode": "markers",
           "name": "kjønn=Menn",
           "showlegend": true,
           "type": "scatter",
           "x": [
            "16-19 år",
            "20-24 år",
            "25-29 år",
            "30-34 år",
            "35-39 år",
            "40-44 år",
            "45-49 år",
            "50-54 år",
            "55-59 år",
            "60-64 år",
            "65-66 år",
            "67 år",
            "68 år",
            "69 år"
           ],
           "xaxis": "x",
           "y": [
            2.8,
            4,
            3.9,
            4,
            4.2,
            4.4,
            4.5,
            4.9,
            5.8,
            6.9,
            7.3,
            3.5,
            1.4,
            1.7
           ],
           "yaxis": "y"
          },
          {
           "hoverlabel": {
            "namelength": 0
           },
           "hovertemplate": "kjønn=Kvinner<br>kvartal=2007K1<br>alder=%{x}<br>value=%{y}",
           "legendgroup": "kjønn=Kvinner",
           "marker": {
            "color": "#EF553B",
            "symbol": "circle"
           },
           "mode": "markers",
           "name": "kjønn=Kvinner",
           "showlegend": true,
           "type": "scatter",
           "x": [
            "16-19 år",
            "20-24 år",
            "25-29 år",
            "30-34 år",
            "35-39 år",
            "40-44 år",
            "45-49 år",
            "50-54 år",
            "55-59 år",
            "60-64 år",
            "65-66 år",
            "67 år",
            "68 år",
            "69 år"
           ],
           "xaxis": "x",
           "y": [
            3,
            5.9,
            7.8,
            8.7,
            7.6,
            7.1,
            7.1,
            7.8,
            8.2,
            9.7,
            10.8,
            4.8,
            2.4,
            2.3
           ],
           "yaxis": "y"
          }
         ],
         "name": "2007K1"
        },
        {
         "data": [
          {
           "hoverlabel": {
            "namelength": 0
           },
           "hovertemplate": "kjønn=Menn<br>kvartal=2007K2<br>alder=%{x}<br>value=%{y}",
           "legendgroup": "kjønn=Menn",
           "marker": {
            "color": "#636efa",
            "symbol": "circle"
           },
           "mode": "markers",
           "name": "kjønn=Menn",
           "showlegend": true,
           "type": "scatter",
           "x": [
            "16-19 år",
            "20-24 år",
            "25-29 år",
            "30-34 år",
            "35-39 år",
            "40-44 år",
            "45-49 år",
            "50-54 år",
            "55-59 år",
            "60-64 år",
            "65-66 år",
            "67 år",
            "68 år",
            "69 år"
           ],
           "xaxis": "x",
           "y": [
            2.5,
            3.5,
            3.4,
            3.5,
            3.8,
            4,
            4,
            4.5,
            5.3,
            6.4,
            7.2,
            3.4,
            1.6,
            1.4
           ],
           "yaxis": "y"
          },
          {
           "hoverlabel": {
            "namelength": 0
           },
           "hovertemplate": "kjønn=Kvinner<br>kvartal=2007K2<br>alder=%{x}<br>value=%{y}",
           "legendgroup": "kjønn=Kvinner",
           "marker": {
            "color": "#EF553B",
            "symbol": "circle"
           },
           "mode": "markers",
           "name": "kjønn=Kvinner",
           "showlegend": true,
           "type": "scatter",
           "x": [
            "16-19 år",
            "20-24 år",
            "25-29 år",
            "30-34 år",
            "35-39 år",
            "40-44 år",
            "45-49 år",
            "50-54 år",
            "55-59 år",
            "60-64 år",
            "65-66 år",
            "67 år",
            "68 år",
            "69 år"
           ],
           "xaxis": "x",
           "y": [
            2.6,
            5.4,
            7,
            7.8,
            7.2,
            6.6,
            6.6,
            7.1,
            7.5,
            8.8,
            10,
            4.7,
            2,
            1.7
           ],
           "yaxis": "y"
          }
         ],
         "name": "2007K2"
        },
        {
         "data": [
          {
           "hoverlabel": {
            "namelength": 0
           },
           "hovertemplate": "kjønn=Menn<br>kvartal=2007K3<br>alder=%{x}<br>value=%{y}",
           "legendgroup": "kjønn=Menn",
           "marker": {
            "color": "#636efa",
            "symbol": "circle"
           },
           "mode": "markers",
           "name": "kjønn=Menn",
           "showlegend": true,
           "type": "scatter",
           "x": [
            "16-19 år",
            "20-24 år",
            "25-29 år",
            "30-34 år",
            "35-39 år",
            "40-44 år",
            "45-49 år",
            "50-54 år",
            "55-59 år",
            "60-64 år",
            "65-66 år",
            "67 år",
            "68 år",
            "69 år"
           ],
           "xaxis": "x",
           "y": [
            2,
            3.3,
            3.3,
            3.4,
            3.6,
            3.8,
            3.8,
            4.2,
            4.9,
            6,
            6.4,
            3,
            1.2,
            1.2
           ],
           "yaxis": "y"
          },
          {
           "hoverlabel": {
            "namelength": 0
           },
           "hovertemplate": "kjønn=Kvinner<br>kvartal=2007K3<br>alder=%{x}<br>value=%{y}",
           "legendgroup": "kjønn=Kvinner",
           "marker": {
            "color": "#EF553B",
            "symbol": "circle"
           },
           "mode": "markers",
           "name": "kjønn=Kvinner",
           "showlegend": true,
           "type": "scatter",
           "x": [
            "16-19 år",
            "20-24 år",
            "25-29 år",
            "30-34 år",
            "35-39 år",
            "40-44 år",
            "45-49 år",
            "50-54 år",
            "55-59 år",
            "60-64 år",
            "65-66 år",
            "67 år",
            "68 år",
            "69 år"
           ],
           "xaxis": "x",
           "y": [
            2.3,
            4.8,
            6.2,
            6.7,
            6,
            5.7,
            5.6,
            6.2,
            6.6,
            7.7,
            8.9,
            4.1,
            1.8,
            1.9
           ],
           "yaxis": "y"
          }
         ],
         "name": "2007K3"
        },
        {
         "data": [
          {
           "hoverlabel": {
            "namelength": 0
           },
           "hovertemplate": "kjønn=Menn<br>kvartal=2007K4<br>alder=%{x}<br>value=%{y}",
           "legendgroup": "kjønn=Menn",
           "marker": {
            "color": "#636efa",
            "symbol": "circle"
           },
           "mode": "markers",
           "name": "kjønn=Menn",
           "showlegend": true,
           "type": "scatter",
           "x": [
            "16-19 år",
            "20-24 år",
            "25-29 år",
            "30-34 år",
            "35-39 år",
            "40-44 år",
            "45-49 år",
            "50-54 år",
            "55-59 år",
            "60-64 år",
            "65-66 år",
            "67 år",
            "68 år",
            "69 år"
           ],
           "xaxis": "x",
           "y": [
            2.5,
            3.7,
            3.7,
            3.7,
            3.9,
            4.2,
            4.2,
            4.7,
            5.4,
            6.5,
            6.7,
            2.9,
            1.5,
            1.2
           ],
           "yaxis": "y"
          },
          {
           "hoverlabel": {
            "namelength": 0
           },
           "hovertemplate": "kjønn=Kvinner<br>kvartal=2007K4<br>alder=%{x}<br>value=%{y}",
           "legendgroup": "kjønn=Kvinner",
           "marker": {
            "color": "#EF553B",
            "symbol": "circle"
           },
           "mode": "markers",
           "name": "kjønn=Kvinner",
           "showlegend": true,
           "type": "scatter",
           "x": [
            "16-19 år",
            "20-24 år",
            "25-29 år",
            "30-34 år",
            "35-39 år",
            "40-44 år",
            "45-49 år",
            "50-54 år",
            "55-59 år",
            "60-64 år",
            "65-66 år",
            "67 år",
            "68 år",
            "69 år"
           ],
           "xaxis": "x",
           "y": [
            2.8,
            5.7,
            7.5,
            8.1,
            7.4,
            6.8,
            6.8,
            7.4,
            7.8,
            8.7,
            9.6,
            4.3,
            2.2,
            1.9
           ],
           "yaxis": "y"
          }
         ],
         "name": "2007K4"
        },
        {
         "data": [
          {
           "hoverlabel": {
            "namelength": 0
           },
           "hovertemplate": "kjønn=Menn<br>kvartal=2008K1<br>alder=%{x}<br>value=%{y}",
           "legendgroup": "kjønn=Menn",
           "marker": {
            "color": "#636efa",
            "symbol": "circle"
           },
           "mode": "markers",
           "name": "kjønn=Menn",
           "showlegend": true,
           "type": "scatter",
           "x": [
            "16-19 år",
            "20-24 år",
            "25-29 år",
            "30-34 år",
            "35-39 år",
            "40-44 år",
            "45-49 år",
            "50-54 år",
            "55-59 år",
            "60-64 år",
            "65-66 år",
            "67 år",
            "68 år",
            "69 år"
           ],
           "xaxis": "x",
           "y": [
            2.7,
            3.9,
            3.9,
            3.8,
            4.1,
            4.4,
            4.4,
            4.9,
            5.7,
            6.9,
            7,
            2.6,
            1.8,
            1.3
           ],
           "yaxis": "y"
          },
          {
           "hoverlabel": {
            "namelength": 0
           },
           "hovertemplate": "kjønn=Kvinner<br>kvartal=2008K1<br>alder=%{x}<br>value=%{y}",
           "legendgroup": "kjønn=Kvinner",
           "marker": {
            "color": "#EF553B",
            "symbol": "circle"
           },
           "mode": "markers",
           "name": "kjønn=Kvinner",
           "showlegend": true,
           "type": "scatter",
           "x": [
            "16-19 år",
            "20-24 år",
            "25-29 år",
            "30-34 år",
            "35-39 år",
            "40-44 år",
            "45-49 år",
            "50-54 år",
            "55-59 år",
            "60-64 år",
            "65-66 år",
            "67 år",
            "68 år",
            "69 år"
           ],
           "xaxis": "x",
           "y": [
            2.9,
            6,
            7.9,
            8.6,
            7.9,
            7,
            7.1,
            7.8,
            8.3,
            9.4,
            10.5,
            4.1,
            2.3,
            2.3
           ],
           "yaxis": "y"
          }
         ],
         "name": "2008K1"
        },
        {
         "data": [
          {
           "hoverlabel": {
            "namelength": 0
           },
           "hovertemplate": "kjønn=Menn<br>kvartal=2008K2<br>alder=%{x}<br>value=%{y}",
           "legendgroup": "kjønn=Menn",
           "marker": {
            "color": "#636efa",
            "symbol": "circle"
           },
           "mode": "markers",
           "name": "kjønn=Menn",
           "showlegend": true,
           "type": "scatter",
           "x": [
            "16-19 år",
            "20-24 år",
            "25-29 år",
            "30-34 år",
            "35-39 år",
            "40-44 år",
            "45-49 år",
            "50-54 år",
            "55-59 år",
            "60-64 år",
            "65-66 år",
            "67 år",
            "68 år",
            "69 år"
           ],
           "xaxis": "x",
           "y": [
            2.8,
            3.7,
            3.7,
            3.6,
            4,
            4.2,
            4.3,
            4.7,
            5.6,
            6.6,
            6.7,
            3,
            1.6,
            1.2
           ],
           "yaxis": "y"
          },
          {
           "hoverlabel": {
            "namelength": 0
           },
           "hovertemplate": "kjønn=Kvinner<br>kvartal=2008K2<br>alder=%{x}<br>value=%{y}",
           "legendgroup": "kjønn=Kvinner",
           "marker": {
            "color": "#EF553B",
            "symbol": "circle"
           },
           "mode": "markers",
           "name": "kjønn=Kvinner",
           "showlegend": true,
           "type": "scatter",
           "x": [
            "16-19 år",
            "20-24 år",
            "25-29 år",
            "30-34 år",
            "35-39 år",
            "40-44 år",
            "45-49 år",
            "50-54 år",
            "55-59 år",
            "60-64 år",
            "65-66 år",
            "67 år",
            "68 år",
            "69 år"
           ],
           "xaxis": "x",
           "y": [
            2.9,
            5.9,
            7.7,
            8.4,
            7.8,
            7.1,
            7,
            7.6,
            7.9,
            9.1,
            10.1,
            3.9,
            1.9,
            2.4
           ],
           "yaxis": "y"
          }
         ],
         "name": "2008K2"
        },
        {
         "data": [
          {
           "hoverlabel": {
            "namelength": 0
           },
           "hovertemplate": "kjønn=Menn<br>kvartal=2008K3<br>alder=%{x}<br>value=%{y}",
           "legendgroup": "kjønn=Menn",
           "marker": {
            "color": "#636efa",
            "symbol": "circle"
           },
           "mode": "markers",
           "name": "kjønn=Menn",
           "showlegend": true,
           "type": "scatter",
           "x": [
            "16-19 år",
            "20-24 år",
            "25-29 år",
            "30-34 år",
            "35-39 år",
            "40-44 år",
            "45-49 år",
            "50-54 år",
            "55-59 år",
            "60-64 år",
            "65-66 år",
            "67 år",
            "68 år",
            "69 år"
           ],
           "xaxis": "x",
           "y": [
            2.1,
            3.5,
            3.5,
            3.5,
            3.7,
            3.9,
            3.9,
            4.3,
            5,
            5.9,
            6.2,
            2.1,
            1.3,
            1.2
           ],
           "yaxis": "y"
          },
          {
           "hoverlabel": {
            "namelength": 0
           },
           "hovertemplate": "kjønn=Kvinner<br>kvartal=2008K3<br>alder=%{x}<br>value=%{y}",
           "legendgroup": "kjønn=Kvinner",
           "marker": {
            "color": "#EF553B",
            "symbol": "circle"
           },
           "mode": "markers",
           "name": "kjønn=Kvinner",
           "showlegend": true,
           "type": "scatter",
           "x": [
            "16-19 år",
            "20-24 år",
            "25-29 år",
            "30-34 år",
            "35-39 år",
            "40-44 år",
            "45-49 år",
            "50-54 år",
            "55-59 år",
            "60-64 år",
            "65-66 år",
            "67 år",
            "68 år",
            "69 år"
           ],
           "xaxis": "x",
           "y": [
            2.3,
            5.1,
            6.5,
            7,
            6.4,
            5.9,
            5.7,
            6.4,
            6.6,
            7.9,
            8.6,
            3.7,
            1.7,
            1.5
           ],
           "yaxis": "y"
          }
         ],
         "name": "2008K3"
        },
        {
         "data": [
          {
           "hoverlabel": {
            "namelength": 0
           },
           "hovertemplate": "kjønn=Menn<br>kvartal=2008K4<br>alder=%{x}<br>value=%{y}",
           "legendgroup": "kjønn=Menn",
           "marker": {
            "color": "#636efa",
            "symbol": "circle"
           },
           "mode": "markers",
           "name": "kjønn=Menn",
           "showlegend": true,
           "type": "scatter",
           "x": [
            "16-19 år",
            "20-24 år",
            "25-29 år",
            "30-34 år",
            "35-39 år",
            "40-44 år",
            "45-49 år",
            "50-54 år",
            "55-59 år",
            "60-64 år",
            "65-66 år",
            "67 år",
            "68 år",
            "69 år"
           ],
           "xaxis": "x",
           "y": [
            2.4,
            3.9,
            3.9,
            3.9,
            4.2,
            4.4,
            4.4,
            4.9,
            5.6,
            6.5,
            6.8,
            2.2,
            1.6,
            1.5
           ],
           "yaxis": "y"
          },
          {
           "hoverlabel": {
            "namelength": 0
           },
           "hovertemplate": "kjønn=Kvinner<br>kvartal=2008K4<br>alder=%{x}<br>value=%{y}",
           "legendgroup": "kjønn=Kvinner",
           "marker": {
            "color": "#EF553B",
            "symbol": "circle"
           },
           "mode": "markers",
           "name": "kjønn=Kvinner",
           "showlegend": true,
           "type": "scatter",
           "x": [
            "16-19 år",
            "20-24 år",
            "25-29 år",
            "30-34 år",
            "35-39 år",
            "40-44 år",
            "45-49 år",
            "50-54 år",
            "55-59 år",
            "60-64 år",
            "65-66 år",
            "67 år",
            "68 år",
            "69 år"
           ],
           "xaxis": "x",
           "y": [
            2.8,
            5.9,
            7.7,
            8.3,
            7.7,
            7,
            6.8,
            7.2,
            7.6,
            8.7,
            9.6,
            4,
            2.1,
            1.4
           ],
           "yaxis": "y"
          }
         ],
         "name": "2008K4"
        },
        {
         "data": [
          {
           "hoverlabel": {
            "namelength": 0
           },
           "hovertemplate": "kjønn=Menn<br>kvartal=2009K1<br>alder=%{x}<br>value=%{y}",
           "legendgroup": "kjønn=Menn",
           "marker": {
            "color": "#636efa",
            "symbol": "circle"
           },
           "mode": "markers",
           "name": "kjønn=Menn",
           "showlegend": true,
           "type": "scatter",
           "x": [
            "16-19 år",
            "20-24 år",
            "25-29 år",
            "30-34 år",
            "35-39 år",
            "40-44 år",
            "45-49 år",
            "50-54 år",
            "55-59 år",
            "60-64 år",
            "65-66 år",
            "67 år",
            "68 år",
            "69 år"
           ],
           "xaxis": "x",
           "y": [
            2.7,
            4.2,
            4.2,
            4.2,
            4.5,
            4.8,
            4.9,
            5.2,
            6,
            7.1,
            7.6,
            3.2,
            1.7,
            1.7
           ],
           "yaxis": "y"
          },
          {
           "hoverlabel": {
            "namelength": 0
           },
           "hovertemplate": "kjønn=Kvinner<br>kvartal=2009K1<br>alder=%{x}<br>value=%{y}",
           "legendgroup": "kjønn=Kvinner",
           "marker": {
            "color": "#EF553B",
            "symbol": "circle"
           },
           "mode": "markers",
           "name": "kjønn=Kvinner",
           "showlegend": true,
           "type": "scatter",
           "x": [
            "16-19 år",
            "20-24 år",
            "25-29 år",
            "30-34 år",
            "35-39 år",
            "40-44 år",
            "45-49 år",
            "50-54 år",
            "55-59 år",
            "60-64 år",
            "65-66 år",
            "67 år",
            "68 år",
            "69 år"
           ],
           "xaxis": "x",
           "y": [
            3.2,
            6.4,
            8.4,
            9,
            8.1,
            7.4,
            7.1,
            7.6,
            8.1,
            9.3,
            10.2,
            4.7,
            2.3,
            2.5
           ],
           "yaxis": "y"
          }
         ],
         "name": "2009K1"
        },
        {
         "data": [
          {
           "hoverlabel": {
            "namelength": 0
           },
           "hovertemplate": "kjønn=Menn<br>kvartal=2009K2<br>alder=%{x}<br>value=%{y}",
           "legendgroup": "kjønn=Menn",
           "marker": {
            "color": "#636efa",
            "symbol": "circle"
           },
           "mode": "markers",
           "name": "kjønn=Menn",
           "showlegend": true,
           "type": "scatter",
           "x": [
            "16-19 år",
            "20-24 år",
            "25-29 år",
            "30-34 år",
            "35-39 år",
            "40-44 år",
            "45-49 år",
            "50-54 år",
            "55-59 år",
            "60-64 år",
            "65-66 år",
            "67 år",
            "68 år",
            "69 år"
           ],
           "xaxis": "x",
           "y": [
            2.7,
            3.8,
            3.9,
            4,
            4.3,
            4.7,
            4.8,
            5.1,
            5.9,
            7.1,
            7.5,
            3.3,
            1.4,
            1.4
           ],
           "yaxis": "y"
          },
          {
           "hoverlabel": {
            "namelength": 0
           },
           "hovertemplate": "kjønn=Kvinner<br>kvartal=2009K2<br>alder=%{x}<br>value=%{y}",
           "legendgroup": "kjønn=Kvinner",
           "marker": {
            "color": "#EF553B",
            "symbol": "circle"
           },
           "mode": "markers",
           "name": "kjønn=Kvinner",
           "showlegend": true,
           "type": "scatter",
           "x": [
            "16-19 år",
            "20-24 år",
            "25-29 år",
            "30-34 år",
            "35-39 år",
            "40-44 år",
            "45-49 år",
            "50-54 år",
            "55-59 år",
            "60-64 år",
            "65-66 år",
            "67 år",
            "68 år",
            "69 år"
           ],
           "xaxis": "x",
           "y": [
            2.9,
            6.2,
            8,
            8.8,
            7.9,
            7.3,
            7.1,
            7.5,
            7.8,
            8.8,
            9.7,
            4.1,
            2.7,
            2
           ],
           "yaxis": "y"
          }
         ],
         "name": "2009K2"
        },
        {
         "data": [
          {
           "hoverlabel": {
            "namelength": 0
           },
           "hovertemplate": "kjønn=Menn<br>kvartal=2009K3<br>alder=%{x}<br>value=%{y}",
           "legendgroup": "kjønn=Menn",
           "marker": {
            "color": "#636efa",
            "symbol": "circle"
           },
           "mode": "markers",
           "name": "kjønn=Menn",
           "showlegend": true,
           "type": "scatter",
           "x": [
            "16-19 år",
            "20-24 år",
            "25-29 år",
            "30-34 år",
            "35-39 år",
            "40-44 år",
            "45-49 år",
            "50-54 år",
            "55-59 år",
            "60-64 år",
            "65-66 år",
            "67 år",
            "68 år",
            "69 år"
           ],
           "xaxis": "x",
           "y": [
            2.2,
            3.7,
            3.9,
            3.9,
            4.2,
            4.5,
            4.6,
            4.8,
            5.6,
            6.6,
            7.3,
            3.2,
            1.6,
            1.4
           ],
           "yaxis": "y"
          },
          {
           "hoverlabel": {
            "namelength": 0
           },
           "hovertemplate": "kjønn=Kvinner<br>kvartal=2009K3<br>alder=%{x}<br>value=%{y}",
           "legendgroup": "kjønn=Kvinner",
           "marker": {
            "color": "#EF553B",
            "symbol": "circle"
           },
           "mode": "markers",
           "name": "kjønn=Kvinner",
           "showlegend": true,
           "type": "scatter",
           "x": [
            "16-19 år",
            "20-24 år",
            "25-29 år",
            "30-34 år",
            "35-39 år",
            "40-44 år",
            "45-49 år",
            "50-54 år",
            "55-59 år",
            "60-64 år",
            "65-66 år",
            "67 år",
            "68 år",
            "69 år"
           ],
           "xaxis": "x",
           "y": [
            2.5,
            5.7,
            7.3,
            7.7,
            6.9,
            6.4,
            6.2,
            6.6,
            6.9,
            7.8,
            9.2,
            4.2,
            2.1,
            1.9
           ],
           "yaxis": "y"
          }
         ],
         "name": "2009K3"
        },
        {
         "data": [
          {
           "hoverlabel": {
            "namelength": 0
           },
           "hovertemplate": "kjønn=Menn<br>kvartal=2009K4<br>alder=%{x}<br>value=%{y}",
           "legendgroup": "kjønn=Menn",
           "marker": {
            "color": "#636efa",
            "symbol": "circle"
           },
           "mode": "markers",
           "name": "kjønn=Menn",
           "showlegend": true,
           "type": "scatter",
           "x": [
            "16-19 år",
            "20-24 år",
            "25-29 år",
            "30-34 år",
            "35-39 år",
            "40-44 år",
            "45-49 år",
            "50-54 år",
            "55-59 år",
            "60-64 år",
            "65-66 år",
            "67 år",
            "68 år",
            "69 år"
           ],
           "xaxis": "x",
           "y": [
            2.4,
            3.8,
            4,
            4.1,
            4.5,
            4.8,
            4.8,
            5.1,
            5.7,
            6.8,
            7.5,
            3.3,
            1.5,
            1.4
           ],
           "yaxis": "y"
          },
          {
           "hoverlabel": {
            "namelength": 0
           },
           "hovertemplate": "kjønn=Kvinner<br>kvartal=2009K4<br>alder=%{x}<br>value=%{y}",
           "legendgroup": "kjønn=Kvinner",
           "marker": {
            "color": "#EF553B",
            "symbol": "circle"
           },
           "mode": "markers",
           "name": "kjønn=Kvinner",
           "showlegend": true,
           "type": "scatter",
           "x": [
            "16-19 år",
            "20-24 år",
            "25-29 år",
            "30-34 år",
            "35-39 år",
            "40-44 år",
            "45-49 år",
            "50-54 år",
            "55-59 år",
            "60-64 år",
            "65-66 år",
            "67 år",
            "68 år",
            "69 år"
           ],
           "xaxis": "x",
           "y": [
            2.9,
            6.1,
            8,
            8.8,
            8,
            7.5,
            7.2,
            7.5,
            7.7,
            8.6,
            9.5,
            4.2,
            2.5,
            2
           ],
           "yaxis": "y"
          }
         ],
         "name": "2009K4"
        },
        {
         "data": [
          {
           "hoverlabel": {
            "namelength": 0
           },
           "hovertemplate": "kjønn=Menn<br>kvartal=2010K1<br>alder=%{x}<br>value=%{y}",
           "legendgroup": "kjønn=Menn",
           "marker": {
            "color": "#636efa",
            "symbol": "circle"
           },
           "mode": "markers",
           "name": "kjønn=Menn",
           "showlegend": true,
           "type": "scatter",
           "x": [
            "16-19 år",
            "20-24 år",
            "25-29 år",
            "30-34 år",
            "35-39 år",
            "40-44 år",
            "45-49 år",
            "50-54 år",
            "55-59 år",
            "60-64 år",
            "65-66 år",
            "67 år",
            "68 år",
            "69 år"
           ],
           "xaxis": "x",
           "y": [
            2.2,
            3.5,
            3.7,
            3.8,
            4.1,
            4.4,
            4.4,
            4.8,
            5.4,
            6.5,
            6.9,
            3.2,
            1.8,
            1.4
           ],
           "yaxis": "y"
          },
          {
           "hoverlabel": {
            "namelength": 0
           },
           "hovertemplate": "kjønn=Kvinner<br>kvartal=2010K1<br>alder=%{x}<br>value=%{y}",
           "legendgroup": "kjønn=Kvinner",
           "marker": {
            "color": "#EF553B",
            "symbol": "circle"
           },
           "mode": "markers",
           "name": "kjønn=Kvinner",
           "showlegend": true,
           "type": "scatter",
           "x": [
            "16-19 år",
            "20-24 år",
            "25-29 år",
            "30-34 år",
            "35-39 år",
            "40-44 år",
            "45-49 år",
            "50-54 år",
            "55-59 år",
            "60-64 år",
            "65-66 år",
            "67 år",
            "68 år",
            "69 år"
           ],
           "xaxis": "x",
           "y": [
            2.6,
            5.7,
            7.5,
            8.2,
            7.4,
            6.8,
            6.6,
            6.9,
            7.2,
            8.2,
            9.2,
            3.7,
            2.6,
            2.5
           ],
           "yaxis": "y"
          }
         ],
         "name": "2010K1"
        },
        {
         "data": [
          {
           "hoverlabel": {
            "namelength": 0
           },
           "hovertemplate": "kjønn=Menn<br>kvartal=2010K2<br>alder=%{x}<br>value=%{y}",
           "legendgroup": "kjønn=Menn",
           "marker": {
            "color": "#636efa",
            "symbol": "circle"
           },
           "mode": "markers",
           "name": "kjønn=Menn",
           "showlegend": true,
           "type": "scatter",
           "x": [
            "16-19 år",
            "20-24 år",
            "25-29 år",
            "30-34 år",
            "35-39 år",
            "40-44 år",
            "45-49 år",
            "50-54 år",
            "55-59 år",
            "60-64 år",
            "65-66 år",
            "67 år",
            "68 år",
            "69 år"
           ],
           "xaxis": "x",
           "y": [
            2.2,
            3.2,
            3.4,
            3.5,
            3.8,
            4.1,
            4.2,
            4.5,
            5.2,
            6.2,
            6.3,
            3,
            1.6,
            1.5
           ],
           "yaxis": "y"
          },
          {
           "hoverlabel": {
            "namelength": 0
           },
           "hovertemplate": "kjønn=Kvinner<br>kvartal=2010K2<br>alder=%{x}<br>value=%{y}",
           "legendgroup": "kjønn=Kvinner",
           "marker": {
            "color": "#EF553B",
            "symbol": "circle"
           },
           "mode": "markers",
           "name": "kjønn=Kvinner",
           "showlegend": true,
           "type": "scatter",
           "x": [
            "16-19 år",
            "20-24 år",
            "25-29 år",
            "30-34 år",
            "35-39 år",
            "40-44 år",
            "45-49 år",
            "50-54 år",
            "55-59 år",
            "60-64 år",
            "65-66 år",
            "67 år",
            "68 år",
            "69 år"
           ],
           "xaxis": "x",
           "y": [
            2.4,
            5.3,
            7.1,
            7.8,
            7.2,
            6.7,
            6.5,
            6.6,
            7,
            7.9,
            8.6,
            4.2,
            2.6,
            1.7
           ],
           "yaxis": "y"
          }
         ],
         "name": "2010K2"
        },
        {
         "data": [
          {
           "hoverlabel": {
            "namelength": 0
           },
           "hovertemplate": "kjønn=Menn<br>kvartal=2010K3<br>alder=%{x}<br>value=%{y}",
           "legendgroup": "kjønn=Menn",
           "marker": {
            "color": "#636efa",
            "symbol": "circle"
           },
           "mode": "markers",
           "name": "kjønn=Menn",
           "showlegend": true,
           "type": "scatter",
           "x": [
            "16-19 år",
            "20-24 år",
            "25-29 år",
            "30-34 år",
            "35-39 år",
            "40-44 år",
            "45-49 år",
            "50-54 år",
            "55-59 år",
            "60-64 år",
            "65-66 år",
            "67 år",
            "68 år",
            "69 år"
           ],
           "xaxis": "x",
           "y": [
            1.7,
            2.9,
            3.2,
            3.3,
            3.6,
            3.9,
            4,
            4.2,
            4.8,
            5.7,
            6,
            2.6,
            1.3,
            1.2
           ],
           "yaxis": "y"
          },
          {
           "hoverlabel": {
            "namelength": 0
           },
           "hovertemplate": "kjønn=Kvinner<br>kvartal=2010K3<br>alder=%{x}<br>value=%{y}",
           "legendgroup": "kjønn=Kvinner",
           "marker": {
            "color": "#EF553B",
            "symbol": "circle"
           },
           "mode": "markers",
           "name": "kjønn=Kvinner",
           "showlegend": true,
           "type": "scatter",
           "x": [
            "16-19 år",
            "20-24 år",
            "25-29 år",
            "30-34 år",
            "35-39 år",
            "40-44 år",
            "45-49 år",
            "50-54 år",
            "55-59 år",
            "60-64 år",
            "65-66 år",
            "67 år",
            "68 år",
            "69 år"
           ],
           "xaxis": "x",
           "y": [
            2,
            4.5,
            6.3,
            6.7,
            6.1,
            5.7,
            5.6,
            5.9,
            6.2,
            7.2,
            8,
            3.3,
            2.1,
            1.6
           ],
           "yaxis": "y"
          }
         ],
         "name": "2010K3"
        },
        {
         "data": [
          {
           "hoverlabel": {
            "namelength": 0
           },
           "hovertemplate": "kjønn=Menn<br>kvartal=2010K4<br>alder=%{x}<br>value=%{y}",
           "legendgroup": "kjønn=Menn",
           "marker": {
            "color": "#636efa",
            "symbol": "circle"
           },
           "mode": "markers",
           "name": "kjønn=Menn",
           "showlegend": true,
           "type": "scatter",
           "x": [
            "16-19 år",
            "20-24 år",
            "25-29 år",
            "30-34 år",
            "35-39 år",
            "40-44 år",
            "45-49 år",
            "50-54 år",
            "55-59 år",
            "60-64 år",
            "65-66 år",
            "67 år",
            "68 år",
            "69 år"
           ],
           "xaxis": "x",
           "y": [
            2,
            3.4,
            3.6,
            3.8,
            4.1,
            4.4,
            4.5,
            4.7,
            5.4,
            6.4,
            6.4,
            3.2,
            1.7,
            1.5
           ],
           "yaxis": "y"
          },
          {
           "hoverlabel": {
            "namelength": 0
           },
           "hovertemplate": "kjønn=Kvinner<br>kvartal=2010K4<br>alder=%{x}<br>value=%{y}",
           "legendgroup": "kjønn=Kvinner",
           "marker": {
            "color": "#EF553B",
            "symbol": "circle"
           },
           "mode": "markers",
           "name": "kjønn=Kvinner",
           "showlegend": true,
           "type": "scatter",
           "x": [
            "16-19 år",
            "20-24 år",
            "25-29 år",
            "30-34 år",
            "35-39 år",
            "40-44 år",
            "45-49 år",
            "50-54 år",
            "55-59 år",
            "60-64 år",
            "65-66 år",
            "67 år",
            "68 år",
            "69 år"
           ],
           "xaxis": "x",
           "y": [
            2.4,
            5.4,
            7.6,
            8.3,
            7.7,
            7.2,
            7,
            7.2,
            7.5,
            8.4,
            9.1,
            4.4,
            2.3,
            2
           ],
           "yaxis": "y"
          }
         ],
         "name": "2010K4"
        },
        {
         "data": [
          {
           "hoverlabel": {
            "namelength": 0
           },
           "hovertemplate": "kjønn=Menn<br>kvartal=2011K1<br>alder=%{x}<br>value=%{y}",
           "legendgroup": "kjønn=Menn",
           "marker": {
            "color": "#636efa",
            "symbol": "circle"
           },
           "mode": "markers",
           "name": "kjønn=Menn",
           "showlegend": true,
           "type": "scatter",
           "x": [
            "16-19 år",
            "20-24 år",
            "25-29 år",
            "30-34 år",
            "35-39 år",
            "40-44 år",
            "45-49 år",
            "50-54 år",
            "55-59 år",
            "60-64 år",
            "65-66 år",
            "67 år",
            "68 år",
            "69 år"
           ],
           "xaxis": "x",
           "y": [
            2.4,
            3.5,
            3.8,
            3.9,
            4.3,
            4.6,
            4.7,
            4.9,
            5.7,
            6.6,
            6.3,
            2.9,
            2.1,
            1.5
           ],
           "yaxis": "y"
          },
          {
           "hoverlabel": {
            "namelength": 0
           },
           "hovertemplate": "kjønn=Kvinner<br>kvartal=2011K1<br>alder=%{x}<br>value=%{y}",
           "legendgroup": "kjønn=Kvinner",
           "marker": {
            "color": "#EF553B",
            "symbol": "circle"
           },
           "mode": "markers",
           "name": "kjønn=Kvinner",
           "showlegend": true,
           "type": "scatter",
           "x": [
            "16-19 år",
            "20-24 år",
            "25-29 år",
            "30-34 år",
            "35-39 år",
            "40-44 år",
            "45-49 år",
            "50-54 år",
            "55-59 år",
            "60-64 år",
            "65-66 år",
            "67 år",
            "68 år",
            "69 år"
           ],
           "xaxis": "x",
           "y": [
            2.7,
            5.8,
            8,
            8.8,
            8,
            7.5,
            7.4,
            7.6,
            8.2,
            9,
            9.4,
            5.3,
            2.8,
            2.8
           ],
           "yaxis": "y"
          }
         ],
         "name": "2011K1"
        },
        {
         "data": [
          {
           "hoverlabel": {
            "namelength": 0
           },
           "hovertemplate": "kjønn=Menn<br>kvartal=2011K2<br>alder=%{x}<br>value=%{y}",
           "legendgroup": "kjønn=Menn",
           "marker": {
            "color": "#636efa",
            "symbol": "circle"
           },
           "mode": "markers",
           "name": "kjønn=Menn",
           "showlegend": true,
           "type": "scatter",
           "x": [
            "16-19 år",
            "20-24 år",
            "25-29 år",
            "30-34 år",
            "35-39 år",
            "40-44 år",
            "45-49 år",
            "50-54 år",
            "55-59 år",
            "60-64 år",
            "65-66 år",
            "67 år",
            "68 år",
            "69 år"
           ],
           "xaxis": "x",
           "y": [
            2,
            3,
            3.1,
            3.4,
            3.7,
            4,
            4.2,
            4.5,
            5.3,
            6.2,
            5.8,
            3.2,
            2,
            1.4
           ],
           "yaxis": "y"
          },
          {
           "hoverlabel": {
            "namelength": 0
           },
           "hovertemplate": "kjønn=Kvinner<br>kvartal=2011K2<br>alder=%{x}<br>value=%{y}",
           "legendgroup": "kjønn=Kvinner",
           "marker": {
            "color": "#EF553B",
            "symbol": "circle"
           },
           "mode": "markers",
           "name": "kjønn=Kvinner",
           "showlegend": true,
           "type": "scatter",
           "x": [
            "16-19 år",
            "20-24 år",
            "25-29 år",
            "30-34 år",
            "35-39 år",
            "40-44 år",
            "45-49 år",
            "50-54 år",
            "55-59 år",
            "60-64 år",
            "65-66 år",
            "67 år",
            "68 år",
            "69 år"
           ],
           "xaxis": "x",
           "y": [
            2.4,
            5,
            7,
            7.9,
            7.3,
            7,
            6.8,
            6.9,
            7.5,
            8.4,
            8.3,
            4.5,
            2.3,
            2.3
           ],
           "yaxis": "y"
          }
         ],
         "name": "2011K2"
        },
        {
         "data": [
          {
           "hoverlabel": {
            "namelength": 0
           },
           "hovertemplate": "kjønn=Menn<br>kvartal=2011K3<br>alder=%{x}<br>value=%{y}",
           "legendgroup": "kjønn=Menn",
           "marker": {
            "color": "#636efa",
            "symbol": "circle"
           },
           "mode": "markers",
           "name": "kjønn=Menn",
           "showlegend": true,
           "type": "scatter",
           "x": [
            "16-19 år",
            "20-24 år",
            "25-29 år",
            "30-34 år",
            "35-39 år",
            "40-44 år",
            "45-49 år",
            "50-54 år",
            "55-59 år",
            "60-64 år",
            "65-66 år",
            "67 år",
            "68 år",
            "69 år"
           ],
           "xaxis": "x",
           "y": [
            1.6,
            2.6,
            2.8,
            2.9,
            3.2,
            3.5,
            3.7,
            4,
            4.6,
            5.4,
            5,
            2.9,
            1.6,
            1.3
           ],
           "yaxis": "y"
          },
          {
           "hoverlabel": {
            "namelength": 0
           },
           "hovertemplate": "kjønn=Kvinner<br>kvartal=2011K3<br>alder=%{x}<br>value=%{y}",
           "legendgroup": "kjønn=Kvinner",
           "marker": {
            "color": "#EF553B",
            "symbol": "circle"
           },
           "mode": "markers",
           "name": "kjønn=Kvinner",
           "showlegend": true,
           "type": "scatter",
           "x": [
            "16-19 år",
            "20-24 år",
            "25-29 år",
            "30-34 år",
            "35-39 år",
            "40-44 år",
            "45-49 år",
            "50-54 år",
            "55-59 år",
            "60-64 år",
            "65-66 år",
            "67 år",
            "68 år",
            "69 år"
           ],
           "xaxis": "x",
           "y": [
            1.8,
            4.1,
            5.7,
            6.3,
            5.8,
            5.5,
            5.3,
            5.6,
            6.1,
            7,
            7.4,
            3.4,
            1.8,
            1.7
           ],
           "yaxis": "y"
          }
         ],
         "name": "2011K3"
        },
        {
         "data": [
          {
           "hoverlabel": {
            "namelength": 0
           },
           "hovertemplate": "kjønn=Menn<br>kvartal=2011K4<br>alder=%{x}<br>value=%{y}",
           "legendgroup": "kjønn=Menn",
           "marker": {
            "color": "#636efa",
            "symbol": "circle"
           },
           "mode": "markers",
           "name": "kjønn=Menn",
           "showlegend": true,
           "type": "scatter",
           "x": [
            "16-19 år",
            "20-24 år",
            "25-29 år",
            "30-34 år",
            "35-39 år",
            "40-44 år",
            "45-49 år",
            "50-54 år",
            "55-59 år",
            "60-64 år",
            "65-66 år",
            "67 år",
            "68 år",
            "69 år"
           ],
           "xaxis": "x",
           "y": [
            1.9,
            3,
            3.1,
            3.3,
            3.6,
            3.9,
            4,
            4.5,
            5,
            5.9,
            5.6,
            2.9,
            1.7,
            1.7
           ],
           "yaxis": "y"
          },
          {
           "hoverlabel": {
            "namelength": 0
           },
           "hovertemplate": "kjønn=Kvinner<br>kvartal=2011K4<br>alder=%{x}<br>value=%{y}",
           "legendgroup": "kjønn=Kvinner",
           "marker": {
            "color": "#EF553B",
            "symbol": "circle"
           },
           "mode": "markers",
           "name": "kjønn=Kvinner",
           "showlegend": true,
           "type": "scatter",
           "x": [
            "16-19 år",
            "20-24 år",
            "25-29 år",
            "30-34 år",
            "35-39 år",
            "40-44 år",
            "45-49 år",
            "50-54 år",
            "55-59 år",
            "60-64 år",
            "65-66 år",
            "67 år",
            "68 år",
            "69 år"
           ],
           "xaxis": "x",
           "y": [
            2.3,
            4.9,
            6.8,
            7.8,
            7.2,
            6.8,
            6.5,
            6.8,
            7.2,
            8.1,
            8.3,
            3.7,
            2.6,
            1.8
           ],
           "yaxis": "y"
          }
         ],
         "name": "2011K4"
        },
        {
         "data": [
          {
           "hoverlabel": {
            "namelength": 0
           },
           "hovertemplate": "kjønn=Menn<br>kvartal=2012K1<br>alder=%{x}<br>value=%{y}",
           "legendgroup": "kjønn=Menn",
           "marker": {
            "color": "#636efa",
            "symbol": "circle"
           },
           "mode": "markers",
           "name": "kjønn=Menn",
           "showlegend": true,
           "type": "scatter",
           "x": [
            "16-19 år",
            "20-24 år",
            "25-29 år",
            "30-34 år",
            "35-39 år",
            "40-44 år",
            "45-49 år",
            "50-54 år",
            "55-59 år",
            "60-64 år",
            "65-66 år",
            "67 år",
            "68 år",
            "69 år"
           ],
           "xaxis": "x",
           "y": [
            2.2,
            3.3,
            3.3,
            3.5,
            3.8,
            4.1,
            4.2,
            4.6,
            5.3,
            6.1,
            5.6,
            3,
            1.9,
            2.2
           ],
           "yaxis": "y"
          },
          {
           "hoverlabel": {
            "namelength": 0
           },
           "hovertemplate": "kjønn=Kvinner<br>kvartal=2012K1<br>alder=%{x}<br>value=%{y}",
           "legendgroup": "kjønn=Kvinner",
           "marker": {
            "color": "#EF553B",
            "symbol": "circle"
           },
           "mode": "markers",
           "name": "kjønn=Kvinner",
           "showlegend": true,
           "type": "scatter",
           "x": [
            "16-19 år",
            "20-24 år",
            "25-29 år",
            "30-34 år",
            "35-39 år",
            "40-44 år",
            "45-49 år",
            "50-54 år",
            "55-59 år",
            "60-64 år",
            "65-66 år",
            "67 år",
            "68 år",
            "69 år"
           ],
           "xaxis": "x",
           "y": [
            2.7,
            5.3,
            7.3,
            8.4,
            7.6,
            7.1,
            6.8,
            7.2,
            7.6,
            8.6,
            8.6,
            4.7,
            2.8,
            2.6
           ],
           "yaxis": "y"
          }
         ],
         "name": "2012K1"
        },
        {
         "data": [
          {
           "hoverlabel": {
            "namelength": 0
           },
           "hovertemplate": "kjønn=Menn<br>kvartal=2012K2<br>alder=%{x}<br>value=%{y}",
           "legendgroup": "kjønn=Menn",
           "marker": {
            "color": "#636efa",
            "symbol": "circle"
           },
           "mode": "markers",
           "name": "kjønn=Menn",
           "showlegend": true,
           "type": "scatter",
           "x": [
            "16-19 år",
            "20-24 år",
            "25-29 år",
            "30-34 år",
            "35-39 år",
            "40-44 år",
            "45-49 år",
            "50-54 år",
            "55-59 år",
            "60-64 år",
            "65-66 år",
            "67 år",
            "68 år",
            "69 år"
           ],
           "xaxis": "x",
           "y": [
            2,
            2.7,
            2.9,
            3,
            3.2,
            3.6,
            3.9,
            4.1,
            4.8,
            5.5,
            5.4,
            2.7,
            1.9,
            1.8
           ],
           "yaxis": "y"
          },
          {
           "hoverlabel": {
            "namelength": 0
           },
           "hovertemplate": "kjønn=Kvinner<br>kvartal=2012K2<br>alder=%{x}<br>value=%{y}",
           "legendgroup": "kjønn=Kvinner",
           "marker": {
            "color": "#EF553B",
            "symbol": "circle"
           },
           "mode": "markers",
           "name": "kjønn=Kvinner",
           "showlegend": true,
           "type": "scatter",
           "x": [
            "16-19 år",
            "20-24 år",
            "25-29 år",
            "30-34 år",
            "35-39 år",
            "40-44 år",
            "45-49 år",
            "50-54 år",
            "55-59 år",
            "60-64 år",
            "65-66 år",
            "67 år",
            "68 år",
            "69 år"
           ],
           "xaxis": "x",
           "y": [
            2.2,
            4.6,
            6.6,
            7.4,
            6.9,
            6.5,
            6.3,
            6.6,
            6.9,
            7.9,
            8.3,
            4.2,
            2.1,
            2.1
           ],
           "yaxis": "y"
          }
         ],
         "name": "2012K2"
        },
        {
         "data": [
          {
           "hoverlabel": {
            "namelength": 0
           },
           "hovertemplate": "kjønn=Menn<br>kvartal=2012K3<br>alder=%{x}<br>value=%{y}",
           "legendgroup": "kjønn=Menn",
           "marker": {
            "color": "#636efa",
            "symbol": "circle"
           },
           "mode": "markers",
           "name": "kjønn=Menn",
           "showlegend": true,
           "type": "scatter",
           "x": [
            "16-19 år",
            "20-24 år",
            "25-29 år",
            "30-34 år",
            "35-39 år",
            "40-44 år",
            "45-49 år",
            "50-54 år",
            "55-59 år",
            "60-64 år",
            "65-66 år",
            "67 år",
            "68 år",
            "69 år"
           ],
           "xaxis": "x",
           "y": [
            1.5,
            2.5,
            2.8,
            2.8,
            3.1,
            3.4,
            3.7,
            3.9,
            4.5,
            5.2,
            5.4,
            2.4,
            1.9,
            1.2
           ],
           "yaxis": "y"
          },
          {
           "hoverlabel": {
            "namelength": 0
           },
           "hovertemplate": "kjønn=Kvinner<br>kvartal=2012K3<br>alder=%{x}<br>value=%{y}",
           "legendgroup": "kjønn=Kvinner",
           "marker": {
            "color": "#EF553B",
            "symbol": "circle"
           },
           "mode": "markers",
           "name": "kjønn=Kvinner",
           "showlegend": true,
           "type": "scatter",
           "x": [
            "16-19 år",
            "20-24 år",
            "25-29 år",
            "30-34 år",
            "35-39 år",
            "40-44 år",
            "45-49 år",
            "50-54 år",
            "55-59 år",
            "60-64 år",
            "65-66 år",
            "67 år",
            "68 år",
            "69 år"
           ],
           "xaxis": "x",
           "y": [
            1.6,
            3.9,
            5.7,
            6.2,
            5.7,
            5.5,
            5.4,
            5.8,
            6.1,
            7.1,
            7.6,
            3,
            2.2,
            1.6
           ],
           "yaxis": "y"
          }
         ],
         "name": "2012K3"
        },
        {
         "data": [
          {
           "hoverlabel": {
            "namelength": 0
           },
           "hovertemplate": "kjønn=Menn<br>kvartal=2012K4<br>alder=%{x}<br>value=%{y}",
           "legendgroup": "kjønn=Menn",
           "marker": {
            "color": "#636efa",
            "symbol": "circle"
           },
           "mode": "markers",
           "name": "kjønn=Menn",
           "showlegend": true,
           "type": "scatter",
           "x": [
            "16-19 år",
            "20-24 år",
            "25-29 år",
            "30-34 år",
            "35-39 år",
            "40-44 år",
            "45-49 år",
            "50-54 år",
            "55-59 år",
            "60-64 år",
            "65-66 år",
            "67 år",
            "68 år",
            "69 år"
           ],
           "xaxis": "x",
           "y": [
            1.8,
            3,
            3.1,
            3.4,
            3.6,
            3.9,
            4.2,
            4.5,
            5.2,
            5.8,
            5.8,
            3.2,
            1.8,
            1.8
           ],
           "yaxis": "y"
          },
          {
           "hoverlabel": {
            "namelength": 0
           },
           "hovertemplate": "kjønn=Kvinner<br>kvartal=2012K4<br>alder=%{x}<br>value=%{y}",
           "legendgroup": "kjønn=Kvinner",
           "marker": {
            "color": "#EF553B",
            "symbol": "circle"
           },
           "mode": "markers",
           "name": "kjønn=Kvinner",
           "showlegend": true,
           "type": "scatter",
           "x": [
            "16-19 år",
            "20-24 år",
            "25-29 år",
            "30-34 år",
            "35-39 år",
            "40-44 år",
            "45-49 år",
            "50-54 år",
            "55-59 år",
            "60-64 år",
            "65-66 år",
            "67 år",
            "68 år",
            "69 år"
           ],
           "xaxis": "x",
           "y": [
            2.1,
            4.8,
            7,
            7.9,
            7.3,
            6.8,
            6.6,
            7,
            7.3,
            8.2,
            8.2,
            3.6,
            2,
            2.7
           ],
           "yaxis": "y"
          }
         ],
         "name": "2012K4"
        },
        {
         "data": [
          {
           "hoverlabel": {
            "namelength": 0
           },
           "hovertemplate": "kjønn=Menn<br>kvartal=2013K1<br>alder=%{x}<br>value=%{y}",
           "legendgroup": "kjønn=Menn",
           "marker": {
            "color": "#636efa",
            "symbol": "circle"
           },
           "mode": "markers",
           "name": "kjønn=Menn",
           "showlegend": true,
           "type": "scatter",
           "x": [
            "16-19 år",
            "20-24 år",
            "25-29 år",
            "30-34 år",
            "35-39 år",
            "40-44 år",
            "45-49 år",
            "50-54 år",
            "55-59 år",
            "60-64 år",
            "65-66 år",
            "67 år",
            "68 år",
            "69 år"
           ],
           "xaxis": "x",
           "y": [
            2.3,
            3.2,
            3.3,
            3.6,
            3.9,
            4.1,
            4.5,
            4.7,
            5.5,
            6.1,
            5.9,
            3.3,
            2.2,
            2.1
           ],
           "yaxis": "y"
          },
          {
           "hoverlabel": {
            "namelength": 0
           },
           "hovertemplate": "kjønn=Kvinner<br>kvartal=2013K1<br>alder=%{x}<br>value=%{y}",
           "legendgroup": "kjønn=Kvinner",
           "marker": {
            "color": "#EF553B",
            "symbol": "circle"
           },
           "mode": "markers",
           "name": "kjønn=Kvinner",
           "showlegend": true,
           "type": "scatter",
           "x": [
            "16-19 år",
            "20-24 år",
            "25-29 år",
            "30-34 år",
            "35-39 år",
            "40-44 år",
            "45-49 år",
            "50-54 år",
            "55-59 år",
            "60-64 år",
            "65-66 år",
            "67 år",
            "68 år",
            "69 år"
           ],
           "xaxis": "x",
           "y": [
            2.4,
            5.2,
            7.4,
            8.5,
            7.7,
            7.2,
            7,
            7.4,
            7.9,
            8.8,
            8.8,
            4.7,
            2.4,
            2.9
           ],
           "yaxis": "y"
          }
         ],
         "name": "2013K1"
        },
        {
         "data": [
          {
           "hoverlabel": {
            "namelength": 0
           },
           "hovertemplate": "kjønn=Menn<br>kvartal=2013K2<br>alder=%{x}<br>value=%{y}",
           "legendgroup": "kjønn=Menn",
           "marker": {
            "color": "#636efa",
            "symbol": "circle"
           },
           "mode": "markers",
           "name": "kjønn=Menn",
           "showlegend": true,
           "type": "scatter",
           "x": [
            "16-19 år",
            "20-24 år",
            "25-29 år",
            "30-34 år",
            "35-39 år",
            "40-44 år",
            "45-49 år",
            "50-54 år",
            "55-59 år",
            "60-64 år",
            "65-66 år",
            "67 år",
            "68 år",
            "69 år"
           ],
           "xaxis": "x",
           "y": [
            2,
            2.7,
            2.8,
            3,
            3.4,
            3.6,
            3.9,
            4.2,
            4.8,
            5.5,
            5.5,
            2.8,
            1.7,
            1.8
           ],
           "yaxis": "y"
          },
          {
           "hoverlabel": {
            "namelength": 0
           },
           "hovertemplate": "kjønn=Kvinner<br>kvartal=2013K2<br>alder=%{x}<br>value=%{y}",
           "legendgroup": "kjønn=Kvinner",
           "marker": {
            "color": "#EF553B",
            "symbol": "circle"
           },
           "mode": "markers",
           "name": "kjønn=Kvinner",
           "showlegend": true,
           "type": "scatter",
           "x": [
            "16-19 år",
            "20-24 år",
            "25-29 år",
            "30-34 år",
            "35-39 år",
            "40-44 år",
            "45-49 år",
            "50-54 år",
            "55-59 år",
            "60-64 år",
            "65-66 år",
            "67 år",
            "68 år",
            "69 år"
           ],
           "xaxis": "x",
           "y": [
            2.2,
            4.6,
            6.5,
            7.3,
            6.9,
            6.5,
            6.2,
            6.5,
            6.9,
            7.8,
            8.4,
            4.2,
            1.9,
            2.6
           ],
           "yaxis": "y"
          }
         ],
         "name": "2013K2"
        },
        {
         "data": [
          {
           "hoverlabel": {
            "namelength": 0
           },
           "hovertemplate": "kjønn=Menn<br>kvartal=2013K3<br>alder=%{x}<br>value=%{y}",
           "legendgroup": "kjønn=Menn",
           "marker": {
            "color": "#636efa",
            "symbol": "circle"
           },
           "mode": "markers",
           "name": "kjønn=Menn",
           "showlegend": true,
           "type": "scatter",
           "x": [
            "16-19 år",
            "20-24 år",
            "25-29 år",
            "30-34 år",
            "35-39 år",
            "40-44 år",
            "45-49 år",
            "50-54 år",
            "55-59 år",
            "60-64 år",
            "65-66 år",
            "67 år",
            "68 år",
            "69 år"
           ],
           "xaxis": "x",
           "y": [
            1.4,
            2.4,
            2.6,
            2.8,
            3.1,
            3.2,
            3.5,
            3.8,
            4.4,
            5,
            5,
            2.6,
            1.5,
            1.3
           ],
           "yaxis": "y"
          },
          {
           "hoverlabel": {
            "namelength": 0
           },
           "hovertemplate": "kjønn=Kvinner<br>kvartal=2013K3<br>alder=%{x}<br>value=%{y}",
           "legendgroup": "kjønn=Kvinner",
           "marker": {
            "color": "#EF553B",
            "symbol": "circle"
           },
           "mode": "markers",
           "name": "kjønn=Kvinner",
           "showlegend": true,
           "type": "scatter",
           "x": [
            "16-19 år",
            "20-24 år",
            "25-29 år",
            "30-34 år",
            "35-39 år",
            "40-44 år",
            "45-49 år",
            "50-54 år",
            "55-59 år",
            "60-64 år",
            "65-66 år",
            "67 år",
            "68 år",
            "69 år"
           ],
           "xaxis": "x",
           "y": [
            1.6,
            3.7,
            5.4,
            6,
            5.6,
            5.3,
            5.2,
            5.6,
            6,
            6.7,
            7.4,
            3.3,
            1.8,
            2
           ],
           "yaxis": "y"
          }
         ],
         "name": "2013K3"
        },
        {
         "data": [
          {
           "hoverlabel": {
            "namelength": 0
           },
           "hovertemplate": "kjønn=Menn<br>kvartal=2013K4<br>alder=%{x}<br>value=%{y}",
           "legendgroup": "kjønn=Menn",
           "marker": {
            "color": "#636efa",
            "symbol": "circle"
           },
           "mode": "markers",
           "name": "kjønn=Menn",
           "showlegend": true,
           "type": "scatter",
           "x": [
            "16-19 år",
            "20-24 år",
            "25-29 år",
            "30-34 år",
            "35-39 år",
            "40-44 år",
            "45-49 år",
            "50-54 år",
            "55-59 år",
            "60-64 år",
            "65-66 år",
            "67 år",
            "68 år",
            "69 år"
           ],
           "xaxis": "x",
           "y": [
            1.7,
            2.8,
            3,
            3.2,
            3.5,
            3.8,
            4.1,
            4.3,
            5,
            5.6,
            5.5,
            2.8,
            2.1,
            1.8
           ],
           "yaxis": "y"
          },
          {
           "hoverlabel": {
            "namelength": 0
           },
           "hovertemplate": "kjønn=Kvinner<br>kvartal=2013K4<br>alder=%{x}<br>value=%{y}",
           "legendgroup": "kjønn=Kvinner",
           "marker": {
            "color": "#EF553B",
            "symbol": "circle"
           },
           "mode": "markers",
           "name": "kjønn=Kvinner",
           "showlegend": true,
           "type": "scatter",
           "x": [
            "16-19 år",
            "20-24 år",
            "25-29 år",
            "30-34 år",
            "35-39 år",
            "40-44 år",
            "45-49 år",
            "50-54 år",
            "55-59 år",
            "60-64 år",
            "65-66 år",
            "67 år",
            "68 år",
            "69 år"
           ],
           "xaxis": "x",
           "y": [
            2,
            4.5,
            6.7,
            7.6,
            7.2,
            6.7,
            6.5,
            6.7,
            7,
            7.8,
            8,
            4.3,
            2.2,
            2.2
           ],
           "yaxis": "y"
          }
         ],
         "name": "2013K4"
        },
        {
         "data": [
          {
           "hoverlabel": {
            "namelength": 0
           },
           "hovertemplate": "kjønn=Menn<br>kvartal=2014K1<br>alder=%{x}<br>value=%{y}",
           "legendgroup": "kjønn=Menn",
           "marker": {
            "color": "#636efa",
            "symbol": "circle"
           },
           "mode": "markers",
           "name": "kjønn=Menn",
           "showlegend": true,
           "type": "scatter",
           "x": [
            "16-19 år",
            "20-24 år",
            "25-29 år",
            "30-34 år",
            "35-39 år",
            "40-44 år",
            "45-49 år",
            "50-54 år",
            "55-59 år",
            "60-64 år",
            "65-66 år",
            "67 år",
            "68 år",
            "69 år"
           ],
           "xaxis": "x",
           "y": [
            2,
            2.9,
            3,
            3.4,
            3.7,
            3.9,
            4.2,
            4.6,
            5.1,
            5.8,
            5.7,
            3,
            2.2,
            1.8
           ],
           "yaxis": "y"
          },
          {
           "hoverlabel": {
            "namelength": 0
           },
           "hovertemplate": "kjønn=Kvinner<br>kvartal=2014K1<br>alder=%{x}<br>value=%{y}",
           "legendgroup": "kjønn=Kvinner",
           "marker": {
            "color": "#EF553B",
            "symbol": "circle"
           },
           "mode": "markers",
           "name": "kjønn=Kvinner",
           "showlegend": true,
           "type": "scatter",
           "x": [
            "16-19 år",
            "20-24 år",
            "25-29 år",
            "30-34 år",
            "35-39 år",
            "40-44 år",
            "45-49 år",
            "50-54 år",
            "55-59 år",
            "60-64 år",
            "65-66 år",
            "67 år",
            "68 år",
            "69 år"
           ],
           "xaxis": "x",
           "y": [
            2.3,
            4.8,
            7,
            8,
            7.6,
            7,
            6.9,
            7,
            7.3,
            8.3,
            8.5,
            4.4,
            2.6,
            2.5
           ],
           "yaxis": "y"
          }
         ],
         "name": "2014K1"
        },
        {
         "data": [
          {
           "hoverlabel": {
            "namelength": 0
           },
           "hovertemplate": "kjønn=Menn<br>kvartal=2014K2<br>alder=%{x}<br>value=%{y}",
           "legendgroup": "kjønn=Menn",
           "marker": {
            "color": "#636efa",
            "symbol": "circle"
           },
           "mode": "markers",
           "name": "kjønn=Menn",
           "showlegend": true,
           "type": "scatter",
           "x": [
            "16-19 år",
            "20-24 år",
            "25-29 år",
            "30-34 år",
            "35-39 år",
            "40-44 år",
            "45-49 år",
            "50-54 år",
            "55-59 år",
            "60-64 år",
            "65-66 år",
            "67 år",
            "68 år",
            "69 år"
           ],
           "xaxis": "x",
           "y": [
            1.8,
            2.6,
            2.7,
            3,
            3.3,
            3.6,
            4,
            4.3,
            4.8,
            5.5,
            5.5,
            2.7,
            1.9,
            1.6
           ],
           "yaxis": "y"
          },
          {
           "hoverlabel": {
            "namelength": 0
           },
           "hovertemplate": "kjønn=Kvinner<br>kvartal=2014K2<br>alder=%{x}<br>value=%{y}",
           "legendgroup": "kjønn=Kvinner",
           "marker": {
            "color": "#EF553B",
            "symbol": "circle"
           },
           "mode": "markers",
           "name": "kjønn=Kvinner",
           "showlegend": true,
           "type": "scatter",
           "x": [
            "16-19 år",
            "20-24 år",
            "25-29 år",
            "30-34 år",
            "35-39 år",
            "40-44 år",
            "45-49 år",
            "50-54 år",
            "55-59 år",
            "60-64 år",
            "65-66 år",
            "67 år",
            "68 år",
            "69 år"
           ],
           "xaxis": "x",
           "y": [
            2.1,
            4.3,
            6.3,
            7.3,
            7.1,
            6.5,
            6.5,
            6.6,
            6.9,
            7.7,
            8.1,
            3.7,
            2.4,
            2
           ],
           "yaxis": "y"
          }
         ],
         "name": "2014K2"
        },
        {
         "data": [
          {
           "hoverlabel": {
            "namelength": 0
           },
           "hovertemplate": "kjønn=Menn<br>kvartal=2014K3<br>alder=%{x}<br>value=%{y}",
           "legendgroup": "kjønn=Menn",
           "marker": {
            "color": "#636efa",
            "symbol": "circle"
           },
           "mode": "markers",
           "name": "kjønn=Menn",
           "showlegend": true,
           "type": "scatter",
           "x": [
            "16-19 år",
            "20-24 år",
            "25-29 år",
            "30-34 år",
            "35-39 år",
            "40-44 år",
            "45-49 år",
            "50-54 år",
            "55-59 år",
            "60-64 år",
            "65-66 år",
            "67 år",
            "68 år",
            "69 år"
           ],
           "xaxis": "x",
           "y": [
            1.5,
            2.4,
            2.6,
            2.9,
            3.1,
            3.4,
            3.6,
            3.9,
            4.5,
            5.1,
            5.2,
            2.6,
            1.8,
            1.5
           ],
           "yaxis": "y"
          },
          {
           "hoverlabel": {
            "namelength": 0
           },
           "hovertemplate": "kjønn=Kvinner<br>kvartal=2014K3<br>alder=%{x}<br>value=%{y}",
           "legendgroup": "kjønn=Kvinner",
           "marker": {
            "color": "#EF553B",
            "symbol": "circle"
           },
           "mode": "markers",
           "name": "kjønn=Kvinner",
           "showlegend": true,
           "type": "scatter",
           "x": [
            "16-19 år",
            "20-24 år",
            "25-29 år",
            "30-34 år",
            "35-39 år",
            "40-44 år",
            "45-49 år",
            "50-54 år",
            "55-59 år",
            "60-64 år",
            "65-66 år",
            "67 år",
            "68 år",
            "69 år"
           ],
           "xaxis": "x",
           "y": [
            1.5,
            3.6,
            5.5,
            6.1,
            5.8,
            5.4,
            5.5,
            5.7,
            6.1,
            6.8,
            7.2,
            3.3,
            1.8,
            1.7
           ],
           "yaxis": "y"
          }
         ],
         "name": "2014K3"
        },
        {
         "data": [
          {
           "hoverlabel": {
            "namelength": 0
           },
           "hovertemplate": "kjønn=Menn<br>kvartal=2014K4<br>alder=%{x}<br>value=%{y}",
           "legendgroup": "kjønn=Menn",
           "marker": {
            "color": "#636efa",
            "symbol": "circle"
           },
           "mode": "markers",
           "name": "kjønn=Menn",
           "showlegend": true,
           "type": "scatter",
           "x": [
            "16-19 år",
            "20-24 år",
            "25-29 år",
            "30-34 år",
            "35-39 år",
            "40-44 år",
            "45-49 år",
            "50-54 år",
            "55-59 år",
            "60-64 år",
            "65-66 år",
            "67 år",
            "68 år",
            "69 år"
           ],
           "xaxis": "x",
           "y": [
            1.7,
            2.7,
            2.9,
            3.3,
            3.5,
            3.7,
            4.1,
            4.4,
            4.9,
            5.6,
            5.8,
            2.8,
            2.1,
            2.1
           ],
           "yaxis": "y"
          },
          {
           "hoverlabel": {
            "namelength": 0
           },
           "hovertemplate": "kjønn=Kvinner<br>kvartal=2014K4<br>alder=%{x}<br>value=%{y}",
           "legendgroup": "kjønn=Kvinner",
           "marker": {
            "color": "#EF553B",
            "symbol": "circle"
           },
           "mode": "markers",
           "name": "kjønn=Kvinner",
           "showlegend": true,
           "type": "scatter",
           "x": [
            "16-19 år",
            "20-24 år",
            "25-29 år",
            "30-34 år",
            "35-39 år",
            "40-44 år",
            "45-49 år",
            "50-54 år",
            "55-59 år",
            "60-64 år",
            "65-66 år",
            "67 år",
            "68 år",
            "69 år"
           ],
           "xaxis": "x",
           "y": [
            2.1,
            4.3,
            6.6,
            7.6,
            7.3,
            6.9,
            6.8,
            7,
            7.2,
            7.9,
            8.1,
            4.1,
            2.3,
            2.2
           ],
           "yaxis": "y"
          }
         ],
         "name": "2014K4"
        },
        {
         "data": [
          {
           "hoverlabel": {
            "namelength": 0
           },
           "hovertemplate": "kjønn=Menn<br>kvartal=2015K1<br>alder=%{x}<br>value=%{y}",
           "legendgroup": "kjønn=Menn",
           "marker": {
            "color": "#636efa",
            "symbol": "circle"
           },
           "mode": "markers",
           "name": "kjønn=Menn",
           "showlegend": true,
           "type": "scatter",
           "x": [
            "16-19 år",
            "20-24 år",
            "25-29 år",
            "30-34 år",
            "35-39 år",
            "40-44 år",
            "45-49 år",
            "50-54 år",
            "55-59 år",
            "60-64 år",
            "65-66 år",
            "67 år",
            "68 år",
            "69 år"
           ],
           "xaxis": "x",
           "y": [
            1.8,
            2.8,
            2.9,
            3.3,
            3.5,
            3.9,
            4.3,
            4.5,
            5.2,
            6,
            6.5,
            2.9,
            2.4,
            2.2
           ],
           "yaxis": "y"
          },
          {
           "hoverlabel": {
            "namelength": 0
           },
           "hovertemplate": "kjønn=Kvinner<br>kvartal=2015K1<br>alder=%{x}<br>value=%{y}",
           "legendgroup": "kjønn=Kvinner",
           "marker": {
            "color": "#EF553B",
            "symbol": "circle"
           },
           "mode": "markers",
           "name": "kjønn=Kvinner",
           "showlegend": true,
           "type": "scatter",
           "x": [
            "16-19 år",
            "20-24 år",
            "25-29 år",
            "30-34 år",
            "35-39 år",
            "40-44 år",
            "45-49 år",
            "50-54 år",
            "55-59 år",
            "60-64 år",
            "65-66 år",
            "67 år",
            "68 år",
            "69 år"
           ],
           "xaxis": "x",
           "y": [
            2.4,
            4.6,
            6.7,
            7.6,
            7.4,
            6.9,
            7.1,
            7.4,
            7.7,
            8.7,
            9,
            4.1,
            2.8,
            2.8
           ],
           "yaxis": "y"
          }
         ],
         "name": "2015K1"
        },
        {
         "data": [
          {
           "hoverlabel": {
            "namelength": 0
           },
           "hovertemplate": "kjønn=Menn<br>kvartal=2015K2<br>alder=%{x}<br>value=%{y}",
           "legendgroup": "kjønn=Menn",
           "marker": {
            "color": "#636efa",
            "symbol": "circle"
           },
           "mode": "markers",
           "name": "kjønn=Menn",
           "showlegend": true,
           "type": "scatter",
           "x": [
            "16-19 år",
            "20-24 år",
            "25-29 år",
            "30-34 år",
            "35-39 år",
            "40-44 år",
            "45-49 år",
            "50-54 år",
            "55-59 år",
            "60-64 år",
            "65-66 år",
            "67 år",
            "68 år",
            "69 år"
           ],
           "xaxis": "x",
           "y": [
            1.8,
            2.5,
            2.7,
            2.9,
            3.2,
            3.5,
            3.9,
            4.1,
            4.7,
            5.6,
            6.1,
            2.3,
            2.2,
            1.9
           ],
           "yaxis": "y"
          },
          {
           "hoverlabel": {
            "namelength": 0
           },
           "hovertemplate": "kjønn=Kvinner<br>kvartal=2015K2<br>alder=%{x}<br>value=%{y}",
           "legendgroup": "kjønn=Kvinner",
           "marker": {
            "color": "#EF553B",
            "symbol": "circle"
           },
           "mode": "markers",
           "name": "kjønn=Kvinner",
           "showlegend": true,
           "type": "scatter",
           "x": [
            "16-19 år",
            "20-24 år",
            "25-29 år",
            "30-34 år",
            "35-39 år",
            "40-44 år",
            "45-49 år",
            "50-54 år",
            "55-59 år",
            "60-64 år",
            "65-66 år",
            "67 år",
            "68 år",
            "69 år"
           ],
           "xaxis": "x",
           "y": [
            2,
            4.2,
            6,
            6.9,
            6.7,
            6.4,
            6.6,
            6.7,
            6.9,
            7.8,
            8.1,
            3.5,
            2.3,
            2.9
           ],
           "yaxis": "y"
          }
         ],
         "name": "2015K2"
        },
        {
         "data": [
          {
           "hoverlabel": {
            "namelength": 0
           },
           "hovertemplate": "kjønn=Menn<br>kvartal=2015K3<br>alder=%{x}<br>value=%{y}",
           "legendgroup": "kjønn=Menn",
           "marker": {
            "color": "#636efa",
            "symbol": "circle"
           },
           "mode": "markers",
           "name": "kjønn=Menn",
           "showlegend": true,
           "type": "scatter",
           "x": [
            "16-19 år",
            "20-24 år",
            "25-29 år",
            "30-34 år",
            "35-39 år",
            "40-44 år",
            "45-49 år",
            "50-54 år",
            "55-59 år",
            "60-64 år",
            "65-66 år",
            "67 år",
            "68 år",
            "69 år"
           ],
           "xaxis": "x",
           "y": [
            1.2,
            2.2,
            2.5,
            2.7,
            2.9,
            3.3,
            3.6,
            3.9,
            4.5,
            5.2,
            6,
            2.5,
            1.9,
            1.5
           ],
           "yaxis": "y"
          },
          {
           "hoverlabel": {
            "namelength": 0
           },
           "hovertemplate": "kjønn=Kvinner<br>kvartal=2015K3<br>alder=%{x}<br>value=%{y}",
           "legendgroup": "kjønn=Kvinner",
           "marker": {
            "color": "#EF553B",
            "symbol": "circle"
           },
           "mode": "markers",
           "name": "kjønn=Kvinner",
           "showlegend": true,
           "type": "scatter",
           "x": [
            "16-19 år",
            "20-24 år",
            "25-29 år",
            "30-34 år",
            "35-39 år",
            "40-44 år",
            "45-49 år",
            "50-54 år",
            "55-59 år",
            "60-64 år",
            "65-66 år",
            "67 år",
            "68 år",
            "69 år"
           ],
           "xaxis": "x",
           "y": [
            1.3,
            3.3,
            5,
            5.7,
            5.5,
            5.3,
            5.6,
            5.8,
            6.2,
            7.1,
            7.3,
            3,
            2.2,
            2.3
           ],
           "yaxis": "y"
          }
         ],
         "name": "2015K3"
        },
        {
         "data": [
          {
           "hoverlabel": {
            "namelength": 0
           },
           "hovertemplate": "kjønn=Menn<br>kvartal=2015K4<br>alder=%{x}<br>value=%{y}",
           "legendgroup": "kjønn=Menn",
           "marker": {
            "color": "#636efa",
            "symbol": "circle"
           },
           "mode": "markers",
           "name": "kjønn=Menn",
           "showlegend": true,
           "type": "scatter",
           "x": [
            "16-19 år",
            "20-24 år",
            "25-29 år",
            "30-34 år",
            "35-39 år",
            "40-44 år",
            "45-49 år",
            "50-54 år",
            "55-59 år",
            "60-64 år",
            "65-66 år",
            "67 år",
            "68 år",
            "69 år"
           ],
           "xaxis": "x",
           "y": [
            1.5,
            2.6,
            2.8,
            3.1,
            3.4,
            3.7,
            4.1,
            4.4,
            5,
            5.8,
            6.3,
            2.8,
            2,
            2.2
           ],
           "yaxis": "y"
          },
          {
           "hoverlabel": {
            "namelength": 0
           },
           "hovertemplate": "kjønn=Kvinner<br>kvartal=2015K4<br>alder=%{x}<br>value=%{y}",
           "legendgroup": "kjønn=Kvinner",
           "marker": {
            "color": "#EF553B",
            "symbol": "circle"
           },
           "mode": "markers",
           "name": "kjønn=Kvinner",
           "showlegend": true,
           "type": "scatter",
           "x": [
            "16-19 år",
            "20-24 år",
            "25-29 år",
            "30-34 år",
            "35-39 år",
            "40-44 år",
            "45-49 år",
            "50-54 år",
            "55-59 år",
            "60-64 år",
            "65-66 år",
            "67 år",
            "68 år",
            "69 år"
           ],
           "xaxis": "x",
           "y": [
            1.9,
            4.1,
            6,
            7,
            6.8,
            6.6,
            6.7,
            7,
            7.2,
            8.3,
            8.3,
            3.3,
            2.7,
            2.2
           ],
           "yaxis": "y"
          }
         ],
         "name": "2015K4"
        },
        {
         "data": [
          {
           "hoverlabel": {
            "namelength": 0
           },
           "hovertemplate": "kjønn=Menn<br>kvartal=2016K1<br>alder=%{x}<br>value=%{y}",
           "legendgroup": "kjønn=Menn",
           "marker": {
            "color": "#636efa",
            "symbol": "circle"
           },
           "mode": "markers",
           "name": "kjønn=Menn",
           "showlegend": true,
           "type": "scatter",
           "x": [
            "16-19 år",
            "20-24 år",
            "25-29 år",
            "30-34 år",
            "35-39 år",
            "40-44 år",
            "45-49 år",
            "50-54 år",
            "55-59 år",
            "60-64 år",
            "65-66 år",
            "67 år",
            "68 år",
            "69 år"
           ],
           "xaxis": "x",
           "y": [
            1.7,
            2.6,
            2.9,
            3.2,
            3.5,
            3.8,
            4.1,
            4.6,
            5.2,
            6,
            6.5,
            2.8,
            2.3,
            2.4
           ],
           "yaxis": "y"
          },
          {
           "hoverlabel": {
            "namelength": 0
           },
           "hovertemplate": "kjønn=Kvinner<br>kvartal=2016K1<br>alder=%{x}<br>value=%{y}",
           "legendgroup": "kjønn=Kvinner",
           "marker": {
            "color": "#EF553B",
            "symbol": "circle"
           },
           "mode": "markers",
           "name": "kjønn=Kvinner",
           "showlegend": true,
           "type": "scatter",
           "x": [
            "16-19 år",
            "20-24 år",
            "25-29 år",
            "30-34 år",
            "35-39 år",
            "40-44 år",
            "45-49 år",
            "50-54 år",
            "55-59 år",
            "60-64 år",
            "65-66 år",
            "67 år",
            "68 år",
            "69 år"
           ],
           "xaxis": "x",
           "y": [
            2,
            4.2,
            6.4,
            7.4,
            7,
            6.8,
            6.9,
            7.2,
            7.4,
            8.5,
            9.1,
            3.6,
            3.1,
            2.6
           ],
           "yaxis": "y"
          }
         ],
         "name": "2016K1"
        },
        {
         "data": [
          {
           "hoverlabel": {
            "namelength": 0
           },
           "hovertemplate": "kjønn=Menn<br>kvartal=2016K2<br>alder=%{x}<br>value=%{y}",
           "legendgroup": "kjønn=Menn",
           "marker": {
            "color": "#636efa",
            "symbol": "circle"
           },
           "mode": "markers",
           "name": "kjønn=Menn",
           "showlegend": true,
           "type": "scatter",
           "x": [
            "16-19 år",
            "20-24 år",
            "25-29 år",
            "30-34 år",
            "35-39 år",
            "40-44 år",
            "45-49 år",
            "50-54 år",
            "55-59 år",
            "60-64 år",
            "65-66 år",
            "67 år",
            "68 år",
            "69 år"
           ],
           "xaxis": "x",
           "y": [
            1.6,
            2.4,
            2.6,
            2.9,
            3.2,
            3.5,
            3.8,
            4.2,
            4.8,
            5.6,
            5.9,
            2.7,
            2.1,
            1.9
           ],
           "yaxis": "y"
          },
          {
           "hoverlabel": {
            "namelength": 0
           },
           "hovertemplate": "kjønn=Kvinner<br>kvartal=2016K2<br>alder=%{x}<br>value=%{y}",
           "legendgroup": "kjønn=Kvinner",
           "marker": {
            "color": "#EF553B",
            "symbol": "circle"
           },
           "mode": "markers",
           "name": "kjønn=Kvinner",
           "showlegend": true,
           "type": "scatter",
           "x": [
            "16-19 år",
            "20-24 år",
            "25-29 år",
            "30-34 år",
            "35-39 år",
            "40-44 år",
            "45-49 år",
            "50-54 år",
            "55-59 år",
            "60-64 år",
            "65-66 år",
            "67 år",
            "68 år",
            "69 år"
           ],
           "xaxis": "x",
           "y": [
            1.8,
            3.9,
            5.8,
            6.8,
            6.6,
            6.5,
            6.6,
            6.7,
            6.9,
            7.9,
            8.3,
            3.4,
            2.2,
            2
           ],
           "yaxis": "y"
          }
         ],
         "name": "2016K2"
        },
        {
         "data": [
          {
           "hoverlabel": {
            "namelength": 0
           },
           "hovertemplate": "kjønn=Menn<br>kvartal=2016K3<br>alder=%{x}<br>value=%{y}",
           "legendgroup": "kjønn=Menn",
           "marker": {
            "color": "#636efa",
            "symbol": "circle"
           },
           "mode": "markers",
           "name": "kjønn=Menn",
           "showlegend": true,
           "type": "scatter",
           "x": [
            "16-19 år",
            "20-24 år",
            "25-29 år",
            "30-34 år",
            "35-39 år",
            "40-44 år",
            "45-49 år",
            "50-54 år",
            "55-59 år",
            "60-64 år",
            "65-66 år",
            "67 år",
            "68 år",
            "69 år"
           ],
           "xaxis": "x",
           "y": [
            1.1,
            2.1,
            2.4,
            2.8,
            3,
            3.2,
            3.6,
            3.9,
            4.5,
            5.2,
            5.6,
            2.4,
            2.1,
            1.6
           ],
           "yaxis": "y"
          },
          {
           "hoverlabel": {
            "namelength": 0
           },
           "hovertemplate": "kjønn=Kvinner<br>kvartal=2016K3<br>alder=%{x}<br>value=%{y}",
           "legendgroup": "kjønn=Kvinner",
           "marker": {
            "color": "#EF553B",
            "symbol": "circle"
           },
           "mode": "markers",
           "name": "kjønn=Kvinner",
           "showlegend": true,
           "type": "scatter",
           "x": [
            "16-19 år",
            "20-24 år",
            "25-29 år",
            "30-34 år",
            "35-39 år",
            "40-44 år",
            "45-49 år",
            "50-54 år",
            "55-59 år",
            "60-64 år",
            "65-66 år",
            "67 år",
            "68 år",
            "69 år"
           ],
           "xaxis": "x",
           "y": [
            1.2,
            3.1,
            4.9,
            5.6,
            5.5,
            5.3,
            5.5,
            5.8,
            6.1,
            7,
            7.5,
            2.8,
            1.9,
            2.2
           ],
           "yaxis": "y"
          }
         ],
         "name": "2016K3"
        },
        {
         "data": [
          {
           "hoverlabel": {
            "namelength": 0
           },
           "hovertemplate": "kjønn=Menn<br>kvartal=2016K4<br>alder=%{x}<br>value=%{y}",
           "legendgroup": "kjønn=Menn",
           "marker": {
            "color": "#636efa",
            "symbol": "circle"
           },
           "mode": "markers",
           "name": "kjønn=Menn",
           "showlegend": true,
           "type": "scatter",
           "x": [
            "16-19 år",
            "20-24 år",
            "25-29 år",
            "30-34 år",
            "35-39 år",
            "40-44 år",
            "45-49 år",
            "50-54 år",
            "55-59 år",
            "60-64 år",
            "65-66 år",
            "67 år",
            "68 år",
            "69 år"
           ],
           "xaxis": "x",
           "y": [
            1.6,
            2.5,
            2.9,
            3.2,
            3.6,
            3.8,
            4.1,
            4.4,
            5.1,
            5.7,
            6.2,
            2.7,
            2.4,
            2
           ],
           "yaxis": "y"
          },
          {
           "hoverlabel": {
            "namelength": 0
           },
           "hovertemplate": "kjønn=Kvinner<br>kvartal=2016K4<br>alder=%{x}<br>value=%{y}",
           "legendgroup": "kjønn=Kvinner",
           "marker": {
            "color": "#EF553B",
            "symbol": "circle"
           },
           "mode": "markers",
           "name": "kjønn=Kvinner",
           "showlegend": true,
           "type": "scatter",
           "x": [
            "16-19 år",
            "20-24 år",
            "25-29 år",
            "30-34 år",
            "35-39 år",
            "40-44 år",
            "45-49 år",
            "50-54 år",
            "55-59 år",
            "60-64 år",
            "65-66 år",
            "67 år",
            "68 år",
            "69 år"
           ],
           "xaxis": "x",
           "y": [
            1.8,
            4,
            6.1,
            7.2,
            6.9,
            6.7,
            6.9,
            7,
            7.4,
            8.2,
            8.5,
            3.4,
            2.3,
            2.2
           ],
           "yaxis": "y"
          }
         ],
         "name": "2016K4"
        },
        {
         "data": [
          {
           "hoverlabel": {
            "namelength": 0
           },
           "hovertemplate": "kjønn=Menn<br>kvartal=2017K1<br>alder=%{x}<br>value=%{y}",
           "legendgroup": "kjønn=Menn",
           "marker": {
            "color": "#636efa",
            "symbol": "circle"
           },
           "mode": "markers",
           "name": "kjønn=Menn",
           "showlegend": true,
           "type": "scatter",
           "x": [
            "16-19 år",
            "20-24 år",
            "25-29 år",
            "30-34 år",
            "35-39 år",
            "40-44 år",
            "45-49 år",
            "50-54 år",
            "55-59 år",
            "60-64 år",
            "65-66 år",
            "67 år",
            "68 år",
            "69 år"
           ],
           "xaxis": "x",
           "y": [
            1.8,
            2.7,
            3.1,
            3.4,
            3.7,
            4,
            4.3,
            4.7,
            5.3,
            6.1,
            6.5,
            3.4,
            2.4,
            2.3
           ],
           "yaxis": "y"
          },
          {
           "hoverlabel": {
            "namelength": 0
           },
           "hovertemplate": "kjønn=Kvinner<br>kvartal=2017K1<br>alder=%{x}<br>value=%{y}",
           "legendgroup": "kjønn=Kvinner",
           "marker": {
            "color": "#EF553B",
            "symbol": "circle"
           },
           "mode": "markers",
           "name": "kjønn=Kvinner",
           "showlegend": true,
           "type": "scatter",
           "x": [
            "16-19 år",
            "20-24 år",
            "25-29 år",
            "30-34 år",
            "35-39 år",
            "40-44 år",
            "45-49 år",
            "50-54 år",
            "55-59 år",
            "60-64 år",
            "65-66 år",
            "67 år",
            "68 år",
            "69 år"
           ],
           "xaxis": "x",
           "y": [
            1.9,
            4.3,
            6.6,
            7.8,
            7.4,
            7.1,
            7.3,
            7.5,
            7.8,
            8.7,
            8.9,
            3.9,
            2.7,
            2.5
           ],
           "yaxis": "y"
          }
         ],
         "name": "2017K1"
        },
        {
         "data": [
          {
           "hoverlabel": {
            "namelength": 0
           },
           "hovertemplate": "kjønn=Menn<br>kvartal=2017K2<br>alder=%{x}<br>value=%{y}",
           "legendgroup": "kjønn=Menn",
           "marker": {
            "color": "#636efa",
            "symbol": "circle"
           },
           "mode": "markers",
           "name": "kjønn=Menn",
           "showlegend": true,
           "type": "scatter",
           "x": [
            "16-19 år",
            "20-24 år",
            "25-29 år",
            "30-34 år",
            "35-39 år",
            "40-44 år",
            "45-49 år",
            "50-54 år",
            "55-59 år",
            "60-64 år",
            "65-66 år",
            "67 år",
            "68 år",
            "69 år"
           ],
           "xaxis": "x",
           "y": [
            1.5,
            2.4,
            2.7,
            2.9,
            3.2,
            3.5,
            3.9,
            4.2,
            4.8,
            5.5,
            6.2,
            2.9,
            2.1,
            1.9
           ],
           "yaxis": "y"
          },
          {
           "hoverlabel": {
            "namelength": 0
           },
           "hovertemplate": "kjønn=Kvinner<br>kvartal=2017K2<br>alder=%{x}<br>value=%{y}",
           "legendgroup": "kjønn=Kvinner",
           "marker": {
            "color": "#EF553B",
            "symbol": "circle"
           },
           "mode": "markers",
           "name": "kjønn=Kvinner",
           "showlegend": true,
           "type": "scatter",
           "x": [
            "16-19 år",
            "20-24 år",
            "25-29 år",
            "30-34 år",
            "35-39 år",
            "40-44 år",
            "45-49 år",
            "50-54 år",
            "55-59 år",
            "60-64 år",
            "65-66 år",
            "67 år",
            "68 år",
            "69 år"
           ],
           "xaxis": "x",
           "y": [
            1.5,
            3.8,
            5.9,
            6.9,
            6.8,
            6.6,
            6.6,
            6.8,
            7,
            7.8,
            7.9,
            3,
            2.1,
            2.1
           ],
           "yaxis": "y"
          }
         ],
         "name": "2017K2"
        },
        {
         "data": [
          {
           "hoverlabel": {
            "namelength": 0
           },
           "hovertemplate": "kjønn=Menn<br>kvartal=2017K3<br>alder=%{x}<br>value=%{y}",
           "legendgroup": "kjønn=Menn",
           "marker": {
            "color": "#636efa",
            "symbol": "circle"
           },
           "mode": "markers",
           "name": "kjønn=Menn",
           "showlegend": true,
           "type": "scatter",
           "x": [
            "16-19 år",
            "20-24 år",
            "25-29 år",
            "30-34 år",
            "35-39 år",
            "40-44 år",
            "45-49 år",
            "50-54 år",
            "55-59 år",
            "60-64 år",
            "65-66 år",
            "67 år",
            "68 år",
            "69 år"
           ],
           "xaxis": "x",
           "y": [
            1.1,
            2.1,
            2.5,
            2.7,
            3,
            3.2,
            3.6,
            3.9,
            4.4,
            5.1,
            5.8,
            2.6,
            2.1,
            1.7
           ],
           "yaxis": "y"
          },
          {
           "hoverlabel": {
            "namelength": 0
           },
           "hovertemplate": "kjønn=Kvinner<br>kvartal=2017K3<br>alder=%{x}<br>value=%{y}",
           "legendgroup": "kjønn=Kvinner",
           "marker": {
            "color": "#EF553B",
            "symbol": "circle"
           },
           "mode": "markers",
           "name": "kjønn=Kvinner",
           "showlegend": true,
           "type": "scatter",
           "x": [
            "16-19 år",
            "20-24 år",
            "25-29 år",
            "30-34 år",
            "35-39 år",
            "40-44 år",
            "45-49 år",
            "50-54 år",
            "55-59 år",
            "60-64 år",
            "65-66 år",
            "67 år",
            "68 år",
            "69 år"
           ],
           "xaxis": "x",
           "y": [
            1.2,
            3,
            5,
            5.9,
            5.6,
            5.4,
            5.6,
            6,
            6.2,
            7,
            7.5,
            2.9,
            1.9,
            2.1
           ],
           "yaxis": "y"
          }
         ],
         "name": "2017K3"
        },
        {
         "data": [
          {
           "hoverlabel": {
            "namelength": 0
           },
           "hovertemplate": "kjønn=Menn<br>kvartal=2017K4<br>alder=%{x}<br>value=%{y}",
           "legendgroup": "kjønn=Menn",
           "marker": {
            "color": "#636efa",
            "symbol": "circle"
           },
           "mode": "markers",
           "name": "kjønn=Menn",
           "showlegend": true,
           "type": "scatter",
           "x": [
            "16-19 år",
            "20-24 år",
            "25-29 år",
            "30-34 år",
            "35-39 år",
            "40-44 år",
            "45-49 år",
            "50-54 år",
            "55-59 år",
            "60-64 år",
            "65-66 år",
            "67 år",
            "68 år",
            "69 år"
           ],
           "xaxis": "x",
           "y": [
            1.5,
            2.6,
            2.9,
            3.2,
            3.6,
            3.8,
            4.2,
            4.5,
            5,
            5.8,
            6.3,
            3,
            2.4,
            1.9
           ],
           "yaxis": "y"
          },
          {
           "hoverlabel": {
            "namelength": 0
           },
           "hovertemplate": "kjønn=Kvinner<br>kvartal=2017K4<br>alder=%{x}<br>value=%{y}",
           "legendgroup": "kjønn=Kvinner",
           "marker": {
            "color": "#EF553B",
            "symbol": "circle"
           },
           "mode": "markers",
           "name": "kjønn=Kvinner",
           "showlegend": true,
           "type": "scatter",
           "x": [
            "16-19 år",
            "20-24 år",
            "25-29 år",
            "30-34 år",
            "35-39 år",
            "40-44 år",
            "45-49 år",
            "50-54 år",
            "55-59 år",
            "60-64 år",
            "65-66 år",
            "67 år",
            "68 år",
            "69 år"
           ],
           "xaxis": "x",
           "y": [
            1.8,
            4.1,
            6.3,
            7.4,
            7.2,
            6.9,
            7.1,
            7.3,
            7.5,
            8.3,
            8.4,
            3.2,
            2.4,
            2.2
           ],
           "yaxis": "y"
          }
         ],
         "name": "2017K4"
        },
        {
         "data": [
          {
           "hoverlabel": {
            "namelength": 0
           },
           "hovertemplate": "kjønn=Menn<br>kvartal=2018K1<br>alder=%{x}<br>value=%{y}",
           "legendgroup": "kjønn=Menn",
           "marker": {
            "color": "#636efa",
            "symbol": "circle"
           },
           "mode": "markers",
           "name": "kjønn=Menn",
           "showlegend": true,
           "type": "scatter",
           "x": [
            "16-19 år",
            "20-24 år",
            "25-29 år",
            "30-34 år",
            "35-39 år",
            "40-44 år",
            "45-49 år",
            "50-54 år",
            "55-59 år",
            "60-64 år",
            "65-66 år",
            "67 år",
            "68 år",
            "69 år"
           ],
           "xaxis": "x",
           "y": [
            1.8,
            2.8,
            3.1,
            3.5,
            3.9,
            4.1,
            4.5,
            4.7,
            5.4,
            6.2,
            6.5,
            3.5,
            2.8,
            2.3
           ],
           "yaxis": "y"
          },
          {
           "hoverlabel": {
            "namelength": 0
           },
           "hovertemplate": "kjønn=Kvinner<br>kvartal=2018K1<br>alder=%{x}<br>value=%{y}",
           "legendgroup": "kjønn=Kvinner",
           "marker": {
            "color": "#EF553B",
            "symbol": "circle"
           },
           "mode": "markers",
           "name": "kjønn=Kvinner",
           "showlegend": true,
           "type": "scatter",
           "x": [
            "16-19 år",
            "20-24 år",
            "25-29 år",
            "30-34 år",
            "35-39 år",
            "40-44 år",
            "45-49 år",
            "50-54 år",
            "55-59 år",
            "60-64 år",
            "65-66 år",
            "67 år",
            "68 år",
            "69 år"
           ],
           "xaxis": "x",
           "y": [
            1.9,
            4.2,
            6.6,
            7.9,
            7.5,
            7.2,
            7.4,
            7.6,
            7.9,
            8.9,
            8.9,
            3.5,
            2.5,
            2.1
           ],
           "yaxis": "y"
          }
         ],
         "name": "2018K1"
        },
        {
         "data": [
          {
           "hoverlabel": {
            "namelength": 0
           },
           "hovertemplate": "kjønn=Menn<br>kvartal=2018K2<br>alder=%{x}<br>value=%{y}",
           "legendgroup": "kjønn=Menn",
           "marker": {
            "color": "#636efa",
            "symbol": "circle"
           },
           "mode": "markers",
           "name": "kjønn=Menn",
           "showlegend": true,
           "type": "scatter",
           "x": [
            "16-19 år",
            "20-24 år",
            "25-29 år",
            "30-34 år",
            "35-39 år",
            "40-44 år",
            "45-49 år",
            "50-54 år",
            "55-59 år",
            "60-64 år",
            "65-66 år",
            "67 år",
            "68 år",
            "69 år"
           ],
           "xaxis": "x",
           "y": [
            1.6,
            2.4,
            2.7,
            2.9,
            3.2,
            3.4,
            3.8,
            4.2,
            4.7,
            5.5,
            5.8,
            2.7,
            1.9,
            2
           ],
           "yaxis": "y"
          },
          {
           "hoverlabel": {
            "namelength": 0
           },
           "hovertemplate": "kjønn=Kvinner<br>kvartal=2018K2<br>alder=%{x}<br>value=%{y}",
           "legendgroup": "kjønn=Kvinner",
           "marker": {
            "color": "#EF553B",
            "symbol": "circle"
           },
           "mode": "markers",
           "name": "kjønn=Kvinner",
           "showlegend": true,
           "type": "scatter",
           "x": [
            "16-19 år",
            "20-24 år",
            "25-29 år",
            "30-34 år",
            "35-39 år",
            "40-44 år",
            "45-49 år",
            "50-54 år",
            "55-59 år",
            "60-64 år",
            "65-66 år",
            "67 år",
            "68 år",
            "69 år"
           ],
           "xaxis": "x",
           "y": [
            1.6,
            3.7,
            5.8,
            6.9,
            6.5,
            6.3,
            6.4,
            6.6,
            6.8,
            7.6,
            7.8,
            3,
            1.7,
            1.7
           ],
           "yaxis": "y"
          }
         ],
         "name": "2018K2"
        },
        {
         "data": [
          {
           "hoverlabel": {
            "namelength": 0
           },
           "hovertemplate": "kjønn=Menn<br>kvartal=2018K3<br>alder=%{x}<br>value=%{y}",
           "legendgroup": "kjønn=Menn",
           "marker": {
            "color": "#636efa",
            "symbol": "circle"
           },
           "mode": "markers",
           "name": "kjønn=Menn",
           "showlegend": true,
           "type": "scatter",
           "x": [
            "16-19 år",
            "20-24 år",
            "25-29 år",
            "30-34 år",
            "35-39 år",
            "40-44 år",
            "45-49 år",
            "50-54 år",
            "55-59 år",
            "60-64 år",
            "65-66 år",
            "67 år",
            "68 år",
            "69 år"
           ],
           "xaxis": "x",
           "y": [
            1.1,
            2.1,
            2.5,
            2.8,
            3,
            3.2,
            3.4,
            3.8,
            4.3,
            5,
            5.6,
            2.6,
            1.9,
            1.7
           ],
           "yaxis": "y"
          },
          {
           "hoverlabel": {
            "namelength": 0
           },
           "hovertemplate": "kjønn=Kvinner<br>kvartal=2018K3<br>alder=%{x}<br>value=%{y}",
           "legendgroup": "kjønn=Kvinner",
           "marker": {
            "color": "#EF553B",
            "symbol": "circle"
           },
           "mode": "markers",
           "name": "kjønn=Kvinner",
           "showlegend": true,
           "type": "scatter",
           "x": [
            "16-19 år",
            "20-24 år",
            "25-29 år",
            "30-34 år",
            "35-39 år",
            "40-44 år",
            "45-49 år",
            "50-54 år",
            "55-59 år",
            "60-64 år",
            "65-66 år",
            "67 år",
            "68 år",
            "69 år"
           ],
           "xaxis": "x",
           "y": [
            1.2,
            3,
            5,
            6,
            5.5,
            5.2,
            5.4,
            5.8,
            6,
            6.8,
            7.4,
            2.6,
            1.7,
            1.7
           ],
           "yaxis": "y"
          }
         ],
         "name": "2018K3"
        },
        {
         "data": [
          {
           "hoverlabel": {
            "namelength": 0
           },
           "hovertemplate": "kjønn=Menn<br>kvartal=2018K4<br>alder=%{x}<br>value=%{y}",
           "legendgroup": "kjønn=Menn",
           "marker": {
            "color": "#636efa",
            "symbol": "circle"
           },
           "mode": "markers",
           "name": "kjønn=Menn",
           "showlegend": true,
           "type": "scatter",
           "x": [
            "16-19 år",
            "20-24 år",
            "25-29 år",
            "30-34 år",
            "35-39 år",
            "40-44 år",
            "45-49 år",
            "50-54 år",
            "55-59 år",
            "60-64 år",
            "65-66 år",
            "67 år",
            "68 år",
            "69 år"
           ],
           "xaxis": "x",
           "y": [
            1.6,
            2.6,
            2.9,
            3.2,
            3.5,
            3.8,
            4,
            4.4,
            4.9,
            5.7,
            6.2,
            3,
            2.3,
            2.1
           ],
           "yaxis": "y"
          },
          {
           "hoverlabel": {
            "namelength": 0
           },
           "hovertemplate": "kjønn=Kvinner<br>kvartal=2018K4<br>alder=%{x}<br>value=%{y}",
           "legendgroup": "kjønn=Kvinner",
           "marker": {
            "color": "#EF553B",
            "symbol": "circle"
           },
           "mode": "markers",
           "name": "kjønn=Kvinner",
           "showlegend": true,
           "type": "scatter",
           "x": [
            "16-19 år",
            "20-24 år",
            "25-29 år",
            "30-34 år",
            "35-39 år",
            "40-44 år",
            "45-49 år",
            "50-54 år",
            "55-59 år",
            "60-64 år",
            "65-66 år",
            "67 år",
            "68 år",
            "69 år"
           ],
           "xaxis": "x",
           "y": [
            1.7,
            4,
            6.3,
            7.5,
            7.1,
            6.8,
            6.8,
            7.1,
            7.3,
            8,
            8.4,
            3.1,
            1.9,
            2.2
           ],
           "yaxis": "y"
          }
         ],
         "name": "2018K4"
        }
       ],
       "layout": {
        "grid": {
         "xaxes": [
          "x"
         ],
         "xgap": 0.1,
         "xside": "bottom",
         "yaxes": [
          "y"
         ],
         "ygap": 0.1,
         "yside": "left"
        },
        "height": 600,
        "legend": {
         "tracegroupgap": 0
        },
        "margin": {
         "t": 60
        },
        "sliders": [
         {
          "active": 0,
          "currentvalue": {
           "prefix": "kvartal="
          },
          "len": 0.9,
          "pad": {
           "b": 10,
           "t": 60
          },
          "steps": [
           {
            "args": [
             [
              "2000K2"
             ],
             {
              "frame": {
               "duration": 0,
               "redraw": false
              },
              "fromcurrent": true,
              "mode": "immediate",
              "transition": {
               "duration": 0,
               "easing": "linear"
              }
             }
            ],
            "label": "2000K2",
            "method": "animate"
           },
           {
            "args": [
             [
              "2000K3"
             ],
             {
              "frame": {
               "duration": 0,
               "redraw": false
              },
              "fromcurrent": true,
              "mode": "immediate",
              "transition": {
               "duration": 0,
               "easing": "linear"
              }
             }
            ],
            "label": "2000K3",
            "method": "animate"
           },
           {
            "args": [
             [
              "2000K4"
             ],
             {
              "frame": {
               "duration": 0,
               "redraw": false
              },
              "fromcurrent": true,
              "mode": "immediate",
              "transition": {
               "duration": 0,
               "easing": "linear"
              }
             }
            ],
            "label": "2000K4",
            "method": "animate"
           },
           {
            "args": [
             [
              "2001K1"
             ],
             {
              "frame": {
               "duration": 0,
               "redraw": false
              },
              "fromcurrent": true,
              "mode": "immediate",
              "transition": {
               "duration": 0,
               "easing": "linear"
              }
             }
            ],
            "label": "2001K1",
            "method": "animate"
           },
           {
            "args": [
             [
              "2001K2"
             ],
             {
              "frame": {
               "duration": 0,
               "redraw": false
              },
              "fromcurrent": true,
              "mode": "immediate",
              "transition": {
               "duration": 0,
               "easing": "linear"
              }
             }
            ],
            "label": "2001K2",
            "method": "animate"
           },
           {
            "args": [
             [
              "2001K3"
             ],
             {
              "frame": {
               "duration": 0,
               "redraw": false
              },
              "fromcurrent": true,
              "mode": "immediate",
              "transition": {
               "duration": 0,
               "easing": "linear"
              }
             }
            ],
            "label": "2001K3",
            "method": "animate"
           },
           {
            "args": [
             [
              "2001K4"
             ],
             {
              "frame": {
               "duration": 0,
               "redraw": false
              },
              "fromcurrent": true,
              "mode": "immediate",
              "transition": {
               "duration": 0,
               "easing": "linear"
              }
             }
            ],
            "label": "2001K4",
            "method": "animate"
           },
           {
            "args": [
             [
              "2002K1"
             ],
             {
              "frame": {
               "duration": 0,
               "redraw": false
              },
              "fromcurrent": true,
              "mode": "immediate",
              "transition": {
               "duration": 0,
               "easing": "linear"
              }
             }
            ],
            "label": "2002K1",
            "method": "animate"
           },
           {
            "args": [
             [
              "2002K2"
             ],
             {
              "frame": {
               "duration": 0,
               "redraw": false
              },
              "fromcurrent": true,
              "mode": "immediate",
              "transition": {
               "duration": 0,
               "easing": "linear"
              }
             }
            ],
            "label": "2002K2",
            "method": "animate"
           },
           {
            "args": [
             [
              "2002K3"
             ],
             {
              "frame": {
               "duration": 0,
               "redraw": false
              },
              "fromcurrent": true,
              "mode": "immediate",
              "transition": {
               "duration": 0,
               "easing": "linear"
              }
             }
            ],
            "label": "2002K3",
            "method": "animate"
           },
           {
            "args": [
             [
              "2002K4"
             ],
             {
              "frame": {
               "duration": 0,
               "redraw": false
              },
              "fromcurrent": true,
              "mode": "immediate",
              "transition": {
               "duration": 0,
               "easing": "linear"
              }
             }
            ],
            "label": "2002K4",
            "method": "animate"
           },
           {
            "args": [
             [
              "2003K1"
             ],
             {
              "frame": {
               "duration": 0,
               "redraw": false
              },
              "fromcurrent": true,
              "mode": "immediate",
              "transition": {
               "duration": 0,
               "easing": "linear"
              }
             }
            ],
            "label": "2003K1",
            "method": "animate"
           },
           {
            "args": [
             [
              "2003K2"
             ],
             {
              "frame": {
               "duration": 0,
               "redraw": false
              },
              "fromcurrent": true,
              "mode": "immediate",
              "transition": {
               "duration": 0,
               "easing": "linear"
              }
             }
            ],
            "label": "2003K2",
            "method": "animate"
           },
           {
            "args": [
             [
              "2003K3"
             ],
             {
              "frame": {
               "duration": 0,
               "redraw": false
              },
              "fromcurrent": true,
              "mode": "immediate",
              "transition": {
               "duration": 0,
               "easing": "linear"
              }
             }
            ],
            "label": "2003K3",
            "method": "animate"
           },
           {
            "args": [
             [
              "2003K4"
             ],
             {
              "frame": {
               "duration": 0,
               "redraw": false
              },
              "fromcurrent": true,
              "mode": "immediate",
              "transition": {
               "duration": 0,
               "easing": "linear"
              }
             }
            ],
            "label": "2003K4",
            "method": "animate"
           },
           {
            "args": [
             [
              "2004K1"
             ],
             {
              "frame": {
               "duration": 0,
               "redraw": false
              },
              "fromcurrent": true,
              "mode": "immediate",
              "transition": {
               "duration": 0,
               "easing": "linear"
              }
             }
            ],
            "label": "2004K1",
            "method": "animate"
           },
           {
            "args": [
             [
              "2004K2"
             ],
             {
              "frame": {
               "duration": 0,
               "redraw": false
              },
              "fromcurrent": true,
              "mode": "immediate",
              "transition": {
               "duration": 0,
               "easing": "linear"
              }
             }
            ],
            "label": "2004K2",
            "method": "animate"
           },
           {
            "args": [
             [
              "2004K3"
             ],
             {
              "frame": {
               "duration": 0,
               "redraw": false
              },
              "fromcurrent": true,
              "mode": "immediate",
              "transition": {
               "duration": 0,
               "easing": "linear"
              }
             }
            ],
            "label": "2004K3",
            "method": "animate"
           },
           {
            "args": [
             [
              "2004K4"
             ],
             {
              "frame": {
               "duration": 0,
               "redraw": false
              },
              "fromcurrent": true,
              "mode": "immediate",
              "transition": {
               "duration": 0,
               "easing": "linear"
              }
             }
            ],
            "label": "2004K4",
            "method": "animate"
           },
           {
            "args": [
             [
              "2005K1"
             ],
             {
              "frame": {
               "duration": 0,
               "redraw": false
              },
              "fromcurrent": true,
              "mode": "immediate",
              "transition": {
               "duration": 0,
               "easing": "linear"
              }
             }
            ],
            "label": "2005K1",
            "method": "animate"
           },
           {
            "args": [
             [
              "2005K2"
             ],
             {
              "frame": {
               "duration": 0,
               "redraw": false
              },
              "fromcurrent": true,
              "mode": "immediate",
              "transition": {
               "duration": 0,
               "easing": "linear"
              }
             }
            ],
            "label": "2005K2",
            "method": "animate"
           },
           {
            "args": [
             [
              "2005K3"
             ],
             {
              "frame": {
               "duration": 0,
               "redraw": false
              },
              "fromcurrent": true,
              "mode": "immediate",
              "transition": {
               "duration": 0,
               "easing": "linear"
              }
             }
            ],
            "label": "2005K3",
            "method": "animate"
           },
           {
            "args": [
             [
              "2005K4"
             ],
             {
              "frame": {
               "duration": 0,
               "redraw": false
              },
              "fromcurrent": true,
              "mode": "immediate",
              "transition": {
               "duration": 0,
               "easing": "linear"
              }
             }
            ],
            "label": "2005K4",
            "method": "animate"
           },
           {
            "args": [
             [
              "2006K1"
             ],
             {
              "frame": {
               "duration": 0,
               "redraw": false
              },
              "fromcurrent": true,
              "mode": "immediate",
              "transition": {
               "duration": 0,
               "easing": "linear"
              }
             }
            ],
            "label": "2006K1",
            "method": "animate"
           },
           {
            "args": [
             [
              "2006K2"
             ],
             {
              "frame": {
               "duration": 0,
               "redraw": false
              },
              "fromcurrent": true,
              "mode": "immediate",
              "transition": {
               "duration": 0,
               "easing": "linear"
              }
             }
            ],
            "label": "2006K2",
            "method": "animate"
           },
           {
            "args": [
             [
              "2006K3"
             ],
             {
              "frame": {
               "duration": 0,
               "redraw": false
              },
              "fromcurrent": true,
              "mode": "immediate",
              "transition": {
               "duration": 0,
               "easing": "linear"
              }
             }
            ],
            "label": "2006K3",
            "method": "animate"
           },
           {
            "args": [
             [
              "2006K4"
             ],
             {
              "frame": {
               "duration": 0,
               "redraw": false
              },
              "fromcurrent": true,
              "mode": "immediate",
              "transition": {
               "duration": 0,
               "easing": "linear"
              }
             }
            ],
            "label": "2006K4",
            "method": "animate"
           },
           {
            "args": [
             [
              "2007K1"
             ],
             {
              "frame": {
               "duration": 0,
               "redraw": false
              },
              "fromcurrent": true,
              "mode": "immediate",
              "transition": {
               "duration": 0,
               "easing": "linear"
              }
             }
            ],
            "label": "2007K1",
            "method": "animate"
           },
           {
            "args": [
             [
              "2007K2"
             ],
             {
              "frame": {
               "duration": 0,
               "redraw": false
              },
              "fromcurrent": true,
              "mode": "immediate",
              "transition": {
               "duration": 0,
               "easing": "linear"
              }
             }
            ],
            "label": "2007K2",
            "method": "animate"
           },
           {
            "args": [
             [
              "2007K3"
             ],
             {
              "frame": {
               "duration": 0,
               "redraw": false
              },
              "fromcurrent": true,
              "mode": "immediate",
              "transition": {
               "duration": 0,
               "easing": "linear"
              }
             }
            ],
            "label": "2007K3",
            "method": "animate"
           },
           {
            "args": [
             [
              "2007K4"
             ],
             {
              "frame": {
               "duration": 0,
               "redraw": false
              },
              "fromcurrent": true,
              "mode": "immediate",
              "transition": {
               "duration": 0,
               "easing": "linear"
              }
             }
            ],
            "label": "2007K4",
            "method": "animate"
           },
           {
            "args": [
             [
              "2008K1"
             ],
             {
              "frame": {
               "duration": 0,
               "redraw": false
              },
              "fromcurrent": true,
              "mode": "immediate",
              "transition": {
               "duration": 0,
               "easing": "linear"
              }
             }
            ],
            "label": "2008K1",
            "method": "animate"
           },
           {
            "args": [
             [
              "2008K2"
             ],
             {
              "frame": {
               "duration": 0,
               "redraw": false
              },
              "fromcurrent": true,
              "mode": "immediate",
              "transition": {
               "duration": 0,
               "easing": "linear"
              }
             }
            ],
            "label": "2008K2",
            "method": "animate"
           },
           {
            "args": [
             [
              "2008K3"
             ],
             {
              "frame": {
               "duration": 0,
               "redraw": false
              },
              "fromcurrent": true,
              "mode": "immediate",
              "transition": {
               "duration": 0,
               "easing": "linear"
              }
             }
            ],
            "label": "2008K3",
            "method": "animate"
           },
           {
            "args": [
             [
              "2008K4"
             ],
             {
              "frame": {
               "duration": 0,
               "redraw": false
              },
              "fromcurrent": true,
              "mode": "immediate",
              "transition": {
               "duration": 0,
               "easing": "linear"
              }
             }
            ],
            "label": "2008K4",
            "method": "animate"
           },
           {
            "args": [
             [
              "2009K1"
             ],
             {
              "frame": {
               "duration": 0,
               "redraw": false
              },
              "fromcurrent": true,
              "mode": "immediate",
              "transition": {
               "duration": 0,
               "easing": "linear"
              }
             }
            ],
            "label": "2009K1",
            "method": "animate"
           },
           {
            "args": [
             [
              "2009K2"
             ],
             {
              "frame": {
               "duration": 0,
               "redraw": false
              },
              "fromcurrent": true,
              "mode": "immediate",
              "transition": {
               "duration": 0,
               "easing": "linear"
              }
             }
            ],
            "label": "2009K2",
            "method": "animate"
           },
           {
            "args": [
             [
              "2009K3"
             ],
             {
              "frame": {
               "duration": 0,
               "redraw": false
              },
              "fromcurrent": true,
              "mode": "immediate",
              "transition": {
               "duration": 0,
               "easing": "linear"
              }
             }
            ],
            "label": "2009K3",
            "method": "animate"
           },
           {
            "args": [
             [
              "2009K4"
             ],
             {
              "frame": {
               "duration": 0,
               "redraw": false
              },
              "fromcurrent": true,
              "mode": "immediate",
              "transition": {
               "duration": 0,
               "easing": "linear"
              }
             }
            ],
            "label": "2009K4",
            "method": "animate"
           },
           {
            "args": [
             [
              "2010K1"
             ],
             {
              "frame": {
               "duration": 0,
               "redraw": false
              },
              "fromcurrent": true,
              "mode": "immediate",
              "transition": {
               "duration": 0,
               "easing": "linear"
              }
             }
            ],
            "label": "2010K1",
            "method": "animate"
           },
           {
            "args": [
             [
              "2010K2"
             ],
             {
              "frame": {
               "duration": 0,
               "redraw": false
              },
              "fromcurrent": true,
              "mode": "immediate",
              "transition": {
               "duration": 0,
               "easing": "linear"
              }
             }
            ],
            "label": "2010K2",
            "method": "animate"
           },
           {
            "args": [
             [
              "2010K3"
             ],
             {
              "frame": {
               "duration": 0,
               "redraw": false
              },
              "fromcurrent": true,
              "mode": "immediate",
              "transition": {
               "duration": 0,
               "easing": "linear"
              }
             }
            ],
            "label": "2010K3",
            "method": "animate"
           },
           {
            "args": [
             [
              "2010K4"
             ],
             {
              "frame": {
               "duration": 0,
               "redraw": false
              },
              "fromcurrent": true,
              "mode": "immediate",
              "transition": {
               "duration": 0,
               "easing": "linear"
              }
             }
            ],
            "label": "2010K4",
            "method": "animate"
           },
           {
            "args": [
             [
              "2011K1"
             ],
             {
              "frame": {
               "duration": 0,
               "redraw": false
              },
              "fromcurrent": true,
              "mode": "immediate",
              "transition": {
               "duration": 0,
               "easing": "linear"
              }
             }
            ],
            "label": "2011K1",
            "method": "animate"
           },
           {
            "args": [
             [
              "2011K2"
             ],
             {
              "frame": {
               "duration": 0,
               "redraw": false
              },
              "fromcurrent": true,
              "mode": "immediate",
              "transition": {
               "duration": 0,
               "easing": "linear"
              }
             }
            ],
            "label": "2011K2",
            "method": "animate"
           },
           {
            "args": [
             [
              "2011K3"
             ],
             {
              "frame": {
               "duration": 0,
               "redraw": false
              },
              "fromcurrent": true,
              "mode": "immediate",
              "transition": {
               "duration": 0,
               "easing": "linear"
              }
             }
            ],
            "label": "2011K3",
            "method": "animate"
           },
           {
            "args": [
             [
              "2011K4"
             ],
             {
              "frame": {
               "duration": 0,
               "redraw": false
              },
              "fromcurrent": true,
              "mode": "immediate",
              "transition": {
               "duration": 0,
               "easing": "linear"
              }
             }
            ],
            "label": "2011K4",
            "method": "animate"
           },
           {
            "args": [
             [
              "2012K1"
             ],
             {
              "frame": {
               "duration": 0,
               "redraw": false
              },
              "fromcurrent": true,
              "mode": "immediate",
              "transition": {
               "duration": 0,
               "easing": "linear"
              }
             }
            ],
            "label": "2012K1",
            "method": "animate"
           },
           {
            "args": [
             [
              "2012K2"
             ],
             {
              "frame": {
               "duration": 0,
               "redraw": false
              },
              "fromcurrent": true,
              "mode": "immediate",
              "transition": {
               "duration": 0,
               "easing": "linear"
              }
             }
            ],
            "label": "2012K2",
            "method": "animate"
           },
           {
            "args": [
             [
              "2012K3"
             ],
             {
              "frame": {
               "duration": 0,
               "redraw": false
              },
              "fromcurrent": true,
              "mode": "immediate",
              "transition": {
               "duration": 0,
               "easing": "linear"
              }
             }
            ],
            "label": "2012K3",
            "method": "animate"
           },
           {
            "args": [
             [
              "2012K4"
             ],
             {
              "frame": {
               "duration": 0,
               "redraw": false
              },
              "fromcurrent": true,
              "mode": "immediate",
              "transition": {
               "duration": 0,
               "easing": "linear"
              }
             }
            ],
            "label": "2012K4",
            "method": "animate"
           },
           {
            "args": [
             [
              "2013K1"
             ],
             {
              "frame": {
               "duration": 0,
               "redraw": false
              },
              "fromcurrent": true,
              "mode": "immediate",
              "transition": {
               "duration": 0,
               "easing": "linear"
              }
             }
            ],
            "label": "2013K1",
            "method": "animate"
           },
           {
            "args": [
             [
              "2013K2"
             ],
             {
              "frame": {
               "duration": 0,
               "redraw": false
              },
              "fromcurrent": true,
              "mode": "immediate",
              "transition": {
               "duration": 0,
               "easing": "linear"
              }
             }
            ],
            "label": "2013K2",
            "method": "animate"
           },
           {
            "args": [
             [
              "2013K3"
             ],
             {
              "frame": {
               "duration": 0,
               "redraw": false
              },
              "fromcurrent": true,
              "mode": "immediate",
              "transition": {
               "duration": 0,
               "easing": "linear"
              }
             }
            ],
            "label": "2013K3",
            "method": "animate"
           },
           {
            "args": [
             [
              "2013K4"
             ],
             {
              "frame": {
               "duration": 0,
               "redraw": false
              },
              "fromcurrent": true,
              "mode": "immediate",
              "transition": {
               "duration": 0,
               "easing": "linear"
              }
             }
            ],
            "label": "2013K4",
            "method": "animate"
           },
           {
            "args": [
             [
              "2014K1"
             ],
             {
              "frame": {
               "duration": 0,
               "redraw": false
              },
              "fromcurrent": true,
              "mode": "immediate",
              "transition": {
               "duration": 0,
               "easing": "linear"
              }
             }
            ],
            "label": "2014K1",
            "method": "animate"
           },
           {
            "args": [
             [
              "2014K2"
             ],
             {
              "frame": {
               "duration": 0,
               "redraw": false
              },
              "fromcurrent": true,
              "mode": "immediate",
              "transition": {
               "duration": 0,
               "easing": "linear"
              }
             }
            ],
            "label": "2014K2",
            "method": "animate"
           },
           {
            "args": [
             [
              "2014K3"
             ],
             {
              "frame": {
               "duration": 0,
               "redraw": false
              },
              "fromcurrent": true,
              "mode": "immediate",
              "transition": {
               "duration": 0,
               "easing": "linear"
              }
             }
            ],
            "label": "2014K3",
            "method": "animate"
           },
           {
            "args": [
             [
              "2014K4"
             ],
             {
              "frame": {
               "duration": 0,
               "redraw": false
              },
              "fromcurrent": true,
              "mode": "immediate",
              "transition": {
               "duration": 0,
               "easing": "linear"
              }
             }
            ],
            "label": "2014K4",
            "method": "animate"
           },
           {
            "args": [
             [
              "2015K1"
             ],
             {
              "frame": {
               "duration": 0,
               "redraw": false
              },
              "fromcurrent": true,
              "mode": "immediate",
              "transition": {
               "duration": 0,
               "easing": "linear"
              }
             }
            ],
            "label": "2015K1",
            "method": "animate"
           },
           {
            "args": [
             [
              "2015K2"
             ],
             {
              "frame": {
               "duration": 0,
               "redraw": false
              },
              "fromcurrent": true,
              "mode": "immediate",
              "transition": {
               "duration": 0,
               "easing": "linear"
              }
             }
            ],
            "label": "2015K2",
            "method": "animate"
           },
           {
            "args": [
             [
              "2015K3"
             ],
             {
              "frame": {
               "duration": 0,
               "redraw": false
              },
              "fromcurrent": true,
              "mode": "immediate",
              "transition": {
               "duration": 0,
               "easing": "linear"
              }
             }
            ],
            "label": "2015K3",
            "method": "animate"
           },
           {
            "args": [
             [
              "2015K4"
             ],
             {
              "frame": {
               "duration": 0,
               "redraw": false
              },
              "fromcurrent": true,
              "mode": "immediate",
              "transition": {
               "duration": 0,
               "easing": "linear"
              }
             }
            ],
            "label": "2015K4",
            "method": "animate"
           },
           {
            "args": [
             [
              "2016K1"
             ],
             {
              "frame": {
               "duration": 0,
               "redraw": false
              },
              "fromcurrent": true,
              "mode": "immediate",
              "transition": {
               "duration": 0,
               "easing": "linear"
              }
             }
            ],
            "label": "2016K1",
            "method": "animate"
           },
           {
            "args": [
             [
              "2016K2"
             ],
             {
              "frame": {
               "duration": 0,
               "redraw": false
              },
              "fromcurrent": true,
              "mode": "immediate",
              "transition": {
               "duration": 0,
               "easing": "linear"
              }
             }
            ],
            "label": "2016K2",
            "method": "animate"
           },
           {
            "args": [
             [
              "2016K3"
             ],
             {
              "frame": {
               "duration": 0,
               "redraw": false
              },
              "fromcurrent": true,
              "mode": "immediate",
              "transition": {
               "duration": 0,
               "easing": "linear"
              }
             }
            ],
            "label": "2016K3",
            "method": "animate"
           },
           {
            "args": [
             [
              "2016K4"
             ],
             {
              "frame": {
               "duration": 0,
               "redraw": false
              },
              "fromcurrent": true,
              "mode": "immediate",
              "transition": {
               "duration": 0,
               "easing": "linear"
              }
             }
            ],
            "label": "2016K4",
            "method": "animate"
           },
           {
            "args": [
             [
              "2017K1"
             ],
             {
              "frame": {
               "duration": 0,
               "redraw": false
              },
              "fromcurrent": true,
              "mode": "immediate",
              "transition": {
               "duration": 0,
               "easing": "linear"
              }
             }
            ],
            "label": "2017K1",
            "method": "animate"
           },
           {
            "args": [
             [
              "2017K2"
             ],
             {
              "frame": {
               "duration": 0,
               "redraw": false
              },
              "fromcurrent": true,
              "mode": "immediate",
              "transition": {
               "duration": 0,
               "easing": "linear"
              }
             }
            ],
            "label": "2017K2",
            "method": "animate"
           },
           {
            "args": [
             [
              "2017K3"
             ],
             {
              "frame": {
               "duration": 0,
               "redraw": false
              },
              "fromcurrent": true,
              "mode": "immediate",
              "transition": {
               "duration": 0,
               "easing": "linear"
              }
             }
            ],
            "label": "2017K3",
            "method": "animate"
           },
           {
            "args": [
             [
              "2017K4"
             ],
             {
              "frame": {
               "duration": 0,
               "redraw": false
              },
              "fromcurrent": true,
              "mode": "immediate",
              "transition": {
               "duration": 0,
               "easing": "linear"
              }
             }
            ],
            "label": "2017K4",
            "method": "animate"
           },
           {
            "args": [
             [
              "2018K1"
             ],
             {
              "frame": {
               "duration": 0,
               "redraw": false
              },
              "fromcurrent": true,
              "mode": "immediate",
              "transition": {
               "duration": 0,
               "easing": "linear"
              }
             }
            ],
            "label": "2018K1",
            "method": "animate"
           },
           {
            "args": [
             [
              "2018K2"
             ],
             {
              "frame": {
               "duration": 0,
               "redraw": false
              },
              "fromcurrent": true,
              "mode": "immediate",
              "transition": {
               "duration": 0,
               "easing": "linear"
              }
             }
            ],
            "label": "2018K2",
            "method": "animate"
           },
           {
            "args": [
             [
              "2018K3"
             ],
             {
              "frame": {
               "duration": 0,
               "redraw": false
              },
              "fromcurrent": true,
              "mode": "immediate",
              "transition": {
               "duration": 0,
               "easing": "linear"
              }
             }
            ],
            "label": "2018K3",
            "method": "animate"
           },
           {
            "args": [
             [
              "2018K4"
             ],
             {
              "frame": {
               "duration": 0,
               "redraw": false
              },
              "fromcurrent": true,
              "mode": "immediate",
              "transition": {
               "duration": 0,
               "easing": "linear"
              }
             }
            ],
            "label": "2018K4",
            "method": "animate"
           }
          ],
          "x": 0.1,
          "xanchor": "left",
          "y": 0,
          "yanchor": "top"
         }
        ],
        "template": {
         "data": {
          "bar": [
           {
            "marker": {
             "line": {
              "color": "#E5ECF6",
              "width": 0.5
             }
            },
            "type": "bar"
           }
          ],
          "barpolar": [
           {
            "marker": {
             "line": {
              "color": "#E5ECF6",
              "width": 0.5
             }
            },
            "type": "barpolar"
           }
          ],
          "carpet": [
           {
            "aaxis": {
             "endlinecolor": "#2a3f5f",
             "gridcolor": "white",
             "linecolor": "white",
             "minorgridcolor": "white",
             "startlinecolor": "#2a3f5f"
            },
            "baxis": {
             "endlinecolor": "#2a3f5f",
             "gridcolor": "white",
             "linecolor": "white",
             "minorgridcolor": "white",
             "startlinecolor": "#2a3f5f"
            },
            "type": "carpet"
           }
          ],
          "choropleth": [
           {
            "colorbar": {
             "outlinewidth": 0,
             "ticks": ""
            },
            "type": "choropleth"
           }
          ],
          "contour": [
           {
            "colorbar": {
             "outlinewidth": 0,
             "ticks": ""
            },
            "colorscale": [
             [
              0,
              "#0508b8"
             ],
             [
              0.0893854748603352,
              "#1910d8"
             ],
             [
              0.1787709497206704,
              "#3c19f0"
             ],
             [
              0.2681564245810056,
              "#6b1cfb"
             ],
             [
              0.3575418994413408,
              "#981cfd"
             ],
             [
              0.44692737430167595,
              "#bf1cfd"
             ],
             [
              0.5363128491620112,
              "#dd2bfd"
             ],
             [
              0.6256983240223464,
              "#f246fe"
             ],
             [
              0.7150837988826816,
              "#fc67fd"
             ],
             [
              0.8044692737430168,
              "#fe88fc"
             ],
             [
              0.8938547486033519,
              "#fea5fd"
             ],
             [
              0.9832402234636871,
              "#febefe"
             ],
             [
              1,
              "#fec3fe"
             ]
            ],
            "type": "contour"
           }
          ],
          "contourcarpet": [
           {
            "colorbar": {
             "outlinewidth": 0,
             "ticks": ""
            },
            "type": "contourcarpet"
           }
          ],
          "heatmap": [
           {
            "colorbar": {
             "outlinewidth": 0,
             "ticks": ""
            },
            "colorscale": [
             [
              0,
              "#0508b8"
             ],
             [
              0.0893854748603352,
              "#1910d8"
             ],
             [
              0.1787709497206704,
              "#3c19f0"
             ],
             [
              0.2681564245810056,
              "#6b1cfb"
             ],
             [
              0.3575418994413408,
              "#981cfd"
             ],
             [
              0.44692737430167595,
              "#bf1cfd"
             ],
             [
              0.5363128491620112,
              "#dd2bfd"
             ],
             [
              0.6256983240223464,
              "#f246fe"
             ],
             [
              0.7150837988826816,
              "#fc67fd"
             ],
             [
              0.8044692737430168,
              "#fe88fc"
             ],
             [
              0.8938547486033519,
              "#fea5fd"
             ],
             [
              0.9832402234636871,
              "#febefe"
             ],
             [
              1,
              "#fec3fe"
             ]
            ],
            "type": "heatmap"
           }
          ],
          "heatmapgl": [
           {
            "colorbar": {
             "outlinewidth": 0,
             "ticks": ""
            },
            "type": "heatmapgl"
           }
          ],
          "histogram": [
           {
            "marker": {
             "colorbar": {
              "outlinewidth": 0,
              "ticks": ""
             }
            },
            "type": "histogram"
           }
          ],
          "histogram2d": [
           {
            "colorbar": {
             "outlinewidth": 0,
             "ticks": ""
            },
            "colorscale": [
             [
              0,
              "#0508b8"
             ],
             [
              0.0893854748603352,
              "#1910d8"
             ],
             [
              0.1787709497206704,
              "#3c19f0"
             ],
             [
              0.2681564245810056,
              "#6b1cfb"
             ],
             [
              0.3575418994413408,
              "#981cfd"
             ],
             [
              0.44692737430167595,
              "#bf1cfd"
             ],
             [
              0.5363128491620112,
              "#dd2bfd"
             ],
             [
              0.6256983240223464,
              "#f246fe"
             ],
             [
              0.7150837988826816,
              "#fc67fd"
             ],
             [
              0.8044692737430168,
              "#fe88fc"
             ],
             [
              0.8938547486033519,
              "#fea5fd"
             ],
             [
              0.9832402234636871,
              "#febefe"
             ],
             [
              1,
              "#fec3fe"
             ]
            ],
            "type": "histogram2d"
           }
          ],
          "histogram2dcontour": [
           {
            "colorbar": {
             "outlinewidth": 0,
             "ticks": ""
            },
            "colorscale": [
             [
              0,
              "#0508b8"
             ],
             [
              0.0893854748603352,
              "#1910d8"
             ],
             [
              0.1787709497206704,
              "#3c19f0"
             ],
             [
              0.2681564245810056,
              "#6b1cfb"
             ],
             [
              0.3575418994413408,
              "#981cfd"
             ],
             [
              0.44692737430167595,
              "#bf1cfd"
             ],
             [
              0.5363128491620112,
              "#dd2bfd"
             ],
             [
              0.6256983240223464,
              "#f246fe"
             ],
             [
              0.7150837988826816,
              "#fc67fd"
             ],
             [
              0.8044692737430168,
              "#fe88fc"
             ],
             [
              0.8938547486033519,
              "#fea5fd"
             ],
             [
              0.9832402234636871,
              "#febefe"
             ],
             [
              1,
              "#fec3fe"
             ]
            ],
            "type": "histogram2dcontour"
           }
          ],
          "mesh3d": [
           {
            "colorbar": {
             "outlinewidth": 0,
             "ticks": ""
            },
            "type": "mesh3d"
           }
          ],
          "parcoords": [
           {
            "line": {
             "colorbar": {
              "outlinewidth": 0,
              "ticks": ""
             }
            },
            "type": "parcoords"
           }
          ],
          "scatter": [
           {
            "marker": {
             "colorbar": {
              "outlinewidth": 0,
              "ticks": ""
             }
            },
            "type": "scatter"
           }
          ],
          "scatter3d": [
           {
            "marker": {
             "colorbar": {
              "outlinewidth": 0,
              "ticks": ""
             }
            },
            "type": "scatter3d"
           }
          ],
          "scattercarpet": [
           {
            "marker": {
             "colorbar": {
              "outlinewidth": 0,
              "ticks": ""
             }
            },
            "type": "scattercarpet"
           }
          ],
          "scattergeo": [
           {
            "marker": {
             "colorbar": {
              "outlinewidth": 0,
              "ticks": ""
             }
            },
            "type": "scattergeo"
           }
          ],
          "scattergl": [
           {
            "marker": {
             "colorbar": {
              "outlinewidth": 0,
              "ticks": ""
             }
            },
            "type": "scattergl"
           }
          ],
          "scattermapbox": [
           {
            "marker": {
             "colorbar": {
              "outlinewidth": 0,
              "ticks": ""
             }
            },
            "type": "scattermapbox"
           }
          ],
          "scatterpolar": [
           {
            "marker": {
             "colorbar": {
              "outlinewidth": 0,
              "ticks": ""
             }
            },
            "type": "scatterpolar"
           }
          ],
          "scatterpolargl": [
           {
            "marker": {
             "colorbar": {
              "outlinewidth": 0,
              "ticks": ""
             }
            },
            "type": "scatterpolargl"
           }
          ],
          "scatterternary": [
           {
            "marker": {
             "colorbar": {
              "outlinewidth": 0,
              "ticks": ""
             }
            },
            "type": "scatterternary"
           }
          ],
          "surface": [
           {
            "colorbar": {
             "outlinewidth": 0,
             "ticks": ""
            },
            "type": "surface"
           }
          ],
          "table": [
           {
            "cells": {
             "fill": {
              "color": "#EBF0F8"
             },
             "line": {
              "color": "white"
             }
            },
            "header": {
             "fill": {
              "color": "#C8D4E3"
             },
             "line": {
              "color": "white"
             }
            },
            "type": "table"
           }
          ]
         },
         "layout": {
          "annotationdefaults": {
           "arrowcolor": "#506784",
           "arrowhead": 0,
           "arrowwidth": 1
          },
          "colorscale": {
           "diverging": [
            [
             0,
             "#8e0152"
            ],
            [
             0.1,
             "#c51b7d"
            ],
            [
             0.2,
             "#de77ae"
            ],
            [
             0.3,
             "#f1b6da"
            ],
            [
             0.4,
             "#fde0ef"
            ],
            [
             0.5,
             "#f7f7f7"
            ],
            [
             0.6,
             "#e6f5d0"
            ],
            [
             0.7,
             "#b8e186"
            ],
            [
             0.8,
             "#7fbc41"
            ],
            [
             0.9,
             "#4d9221"
            ],
            [
             1,
             "#276419"
            ]
           ],
           "sequential": [
            [
             0,
             "#0508b8"
            ],
            [
             0.0893854748603352,
             "#1910d8"
            ],
            [
             0.1787709497206704,
             "#3c19f0"
            ],
            [
             0.2681564245810056,
             "#6b1cfb"
            ],
            [
             0.3575418994413408,
             "#981cfd"
            ],
            [
             0.44692737430167595,
             "#bf1cfd"
            ],
            [
             0.5363128491620112,
             "#dd2bfd"
            ],
            [
             0.6256983240223464,
             "#f246fe"
            ],
            [
             0.7150837988826816,
             "#fc67fd"
            ],
            [
             0.8044692737430168,
             "#fe88fc"
            ],
            [
             0.8938547486033519,
             "#fea5fd"
            ],
            [
             0.9832402234636871,
             "#febefe"
            ],
            [
             1,
             "#fec3fe"
            ]
           ],
           "sequentialminus": [
            [
             0,
             "#0508b8"
            ],
            [
             0.0893854748603352,
             "#1910d8"
            ],
            [
             0.1787709497206704,
             "#3c19f0"
            ],
            [
             0.2681564245810056,
             "#6b1cfb"
            ],
            [
             0.3575418994413408,
             "#981cfd"
            ],
            [
             0.44692737430167595,
             "#bf1cfd"
            ],
            [
             0.5363128491620112,
             "#dd2bfd"
            ],
            [
             0.6256983240223464,
             "#f246fe"
            ],
            [
             0.7150837988826816,
             "#fc67fd"
            ],
            [
             0.8044692737430168,
             "#fe88fc"
            ],
            [
             0.8938547486033519,
             "#fea5fd"
            ],
            [
             0.9832402234636871,
             "#febefe"
            ],
            [
             1,
             "#fec3fe"
            ]
           ]
          },
          "colorway": [
           "#636efa",
           "#EF553B",
           "#00cc96",
           "#ab63fa",
           "#19d3f3",
           "#e763fa",
           "#FECB52",
           "#FFA15A",
           "#FF6692",
           "#B6E880"
          ],
          "font": {
           "color": "#2a3f5f"
          },
          "geo": {
           "bgcolor": "white",
           "lakecolor": "white",
           "landcolor": "#E5ECF6",
           "showlakes": true,
           "showland": true,
           "subunitcolor": "white"
          },
          "hoverlabel": {
           "align": "left"
          },
          "hovermode": "closest",
          "mapbox": {
           "style": "light"
          },
          "paper_bgcolor": "white",
          "plot_bgcolor": "#E5ECF6",
          "polar": {
           "angularaxis": {
            "gridcolor": "white",
            "linecolor": "white",
            "ticks": ""
           },
           "bgcolor": "#E5ECF6",
           "radialaxis": {
            "gridcolor": "white",
            "linecolor": "white",
            "ticks": ""
           }
          },
          "scene": {
           "xaxis": {
            "backgroundcolor": "#E5ECF6",
            "gridcolor": "white",
            "gridwidth": 2,
            "linecolor": "white",
            "showbackground": true,
            "ticks": "",
            "zerolinecolor": "white"
           },
           "yaxis": {
            "backgroundcolor": "#E5ECF6",
            "gridcolor": "white",
            "gridwidth": 2,
            "linecolor": "white",
            "showbackground": true,
            "ticks": "",
            "zerolinecolor": "white"
           },
           "zaxis": {
            "backgroundcolor": "#E5ECF6",
            "gridcolor": "white",
            "gridwidth": 2,
            "linecolor": "white",
            "showbackground": true,
            "ticks": "",
            "zerolinecolor": "white"
           }
          },
          "shapedefaults": {
           "fillcolor": "#506784",
           "line": {
            "width": 0
           },
           "opacity": 0.4
          },
          "ternary": {
           "aaxis": {
            "gridcolor": "white",
            "linecolor": "white",
            "ticks": ""
           },
           "baxis": {
            "gridcolor": "white",
            "linecolor": "white",
            "ticks": ""
           },
           "bgcolor": "#E5ECF6",
           "caxis": {
            "gridcolor": "white",
            "linecolor": "white",
            "ticks": ""
           }
          },
          "title": {
           "x": 0.05
          },
          "xaxis": {
           "automargin": true,
           "gridcolor": "white",
           "linecolor": "white",
           "ticks": "",
           "zerolinecolor": "white",
           "zerolinewidth": 2
          },
          "yaxis": {
           "automargin": true,
           "gridcolor": "white",
           "linecolor": "white",
           "ticks": "",
           "zerolinecolor": "white",
           "zerolinewidth": 2
          }
         }
        },
        "updatemenus": [
         {
          "buttons": [
           {
            "args": [
             null,
             {
              "frame": {
               "duration": 500,
               "redraw": false
              },
              "fromcurrent": true,
              "mode": "immediate",
              "transition": {
               "duration": 500,
               "easing": "linear"
              }
             }
            ],
            "label": "&#9654;",
            "method": "animate"
           },
           {
            "args": [
             [
              null
             ],
             {
              "frame": {
               "duration": 0,
               "redraw": false
              },
              "fromcurrent": true,
              "mode": "immediate",
              "transition": {
               "duration": 0,
               "easing": "linear"
              }
             }
            ],
            "label": "&#9724;",
            "method": "animate"
           }
          ],
          "direction": "left",
          "pad": {
           "r": 10,
           "t": 70
          },
          "showactive": false,
          "type": "buttons",
          "x": 0.1,
          "xanchor": "right",
          "y": 0,
          "yanchor": "top"
         }
        ],
        "xaxis": {
         "title": {
          "text": "alder"
         }
        },
        "yaxis": {
         "range": [
          -1,
          14.1
         ],
         "title": {
          "text": "value"
         }
        }
       }
      },
      "text/html": [
       "<div>\n",
       "        \n",
       "        \n",
       "            <div id=\"7728dfc4-2a1b-46e5-803f-35f022d2cf5e\" class=\"plotly-graph-div\" style=\"height:600px; width:100%;\"></div>\n",
       "            <script type=\"text/javascript\">\n",
       "                require([\"plotly\"], function(Plotly) {\n",
       "                    window.PLOTLYENV=window.PLOTLYENV || {};\n",
       "                    window.PLOTLYENV.BASE_URL='https://plot.ly';\n",
       "                    \n",
       "                if (document.getElementById(\"7728dfc4-2a1b-46e5-803f-35f022d2cf5e\")) {\n",
       "                    Plotly.newPlot(\n",
       "                        '7728dfc4-2a1b-46e5-803f-35f022d2cf5e',\n",
       "                        [{\"hoverlabel\": {\"namelength\": 0}, \"hovertemplate\": \"kj\\u00f8nn=Menn<br>kvartal=2000K2<br>alder=%{x}<br>value=%{y}\", \"legendgroup\": \"kj\\u00f8nn=Menn\", \"marker\": {\"color\": \"#636efa\", \"symbol\": \"circle\"}, \"mode\": \"markers\", \"name\": \"kj\\u00f8nn=Menn\", \"showlegend\": true, \"type\": \"scatter\", \"uid\": \"16a7aa48-4b61-48bc-b807-1d15f7e47741\", \"x\": [\"16-19 \\u00e5r\", \"20-24 \\u00e5r\", \"25-29 \\u00e5r\", \"30-34 \\u00e5r\", \"35-39 \\u00e5r\", \"40-44 \\u00e5r\", \"45-49 \\u00e5r\", \"50-54 \\u00e5r\", \"55-59 \\u00e5r\", \"60-64 \\u00e5r\", \"65-66 \\u00e5r\", \"67 \\u00e5r\", \"68 \\u00e5r\", \"69 \\u00e5r\"], \"xaxis\": \"x\", \"y\": [2.6, 4.1, 4.1, 4.3, 4.4, 4.5, 4.7, 5.3, 6.4, 9.1, 9.4, 4.9, 2.4, 1.5], \"yaxis\": \"y\"}, {\"hoverlabel\": {\"namelength\": 0}, \"hovertemplate\": \"kj\\u00f8nn=Kvinner<br>kvartal=2000K2<br>alder=%{x}<br>value=%{y}\", \"legendgroup\": \"kj\\u00f8nn=Kvinner\", \"marker\": {\"color\": \"#EF553B\", \"symbol\": \"circle\"}, \"mode\": \"markers\", \"name\": \"kj\\u00f8nn=Kvinner\", \"showlegend\": true, \"type\": \"scatter\", \"uid\": \"34c92316-6783-443d-b104-5b3735018e5b\", \"x\": [\"16-19 \\u00e5r\", \"20-24 \\u00e5r\", \"25-29 \\u00e5r\", \"30-34 \\u00e5r\", \"35-39 \\u00e5r\", \"40-44 \\u00e5r\", \"45-49 \\u00e5r\", \"50-54 \\u00e5r\", \"55-59 \\u00e5r\", \"60-64 \\u00e5r\", \"65-66 \\u00e5r\", \"67 \\u00e5r\", \"68 \\u00e5r\", \"69 \\u00e5r\"], \"xaxis\": \"x\", \"y\": [2.7, 5.7, 7.0, 7.6, 7.2, 7.0, 7.4, 8.0, 9.0, 11.4, 11.3, 4.8, 2.3, 2.6], \"yaxis\": \"y\"}],\n",
       "                        {\"grid\": {\"xaxes\": [\"x\"], \"xgap\": 0.1, \"xside\": \"bottom\", \"yaxes\": [\"y\"], \"ygap\": 0.1, \"yside\": \"left\"}, \"height\": 600, \"legend\": {\"tracegroupgap\": 0}, \"margin\": {\"t\": 60}, \"sliders\": [{\"active\": 0, \"currentvalue\": {\"prefix\": \"kvartal=\"}, \"len\": 0.9, \"pad\": {\"b\": 10, \"t\": 60}, \"steps\": [{\"args\": [[\"2000K2\"], {\"frame\": {\"duration\": 0, \"redraw\": false}, \"fromcurrent\": true, \"mode\": \"immediate\", \"transition\": {\"duration\": 0, \"easing\": \"linear\"}}], \"label\": \"2000K2\", \"method\": \"animate\"}, {\"args\": [[\"2000K3\"], {\"frame\": {\"duration\": 0, \"redraw\": false}, \"fromcurrent\": true, \"mode\": \"immediate\", \"transition\": {\"duration\": 0, \"easing\": \"linear\"}}], \"label\": \"2000K3\", \"method\": \"animate\"}, {\"args\": [[\"2000K4\"], {\"frame\": {\"duration\": 0, \"redraw\": false}, \"fromcurrent\": true, \"mode\": \"immediate\", \"transition\": {\"duration\": 0, \"easing\": \"linear\"}}], \"label\": \"2000K4\", \"method\": \"animate\"}, {\"args\": [[\"2001K1\"], {\"frame\": {\"duration\": 0, \"redraw\": false}, \"fromcurrent\": true, \"mode\": \"immediate\", \"transition\": {\"duration\": 0, \"easing\": \"linear\"}}], \"label\": \"2001K1\", \"method\": \"animate\"}, {\"args\": [[\"2001K2\"], {\"frame\": {\"duration\": 0, \"redraw\": false}, \"fromcurrent\": true, \"mode\": \"immediate\", \"transition\": {\"duration\": 0, \"easing\": \"linear\"}}], \"label\": \"2001K2\", \"method\": \"animate\"}, {\"args\": [[\"2001K3\"], {\"frame\": {\"duration\": 0, \"redraw\": false}, \"fromcurrent\": true, \"mode\": \"immediate\", \"transition\": {\"duration\": 0, \"easing\": \"linear\"}}], \"label\": \"2001K3\", \"method\": \"animate\"}, {\"args\": [[\"2001K4\"], {\"frame\": {\"duration\": 0, \"redraw\": false}, \"fromcurrent\": true, \"mode\": \"immediate\", \"transition\": {\"duration\": 0, \"easing\": \"linear\"}}], \"label\": \"2001K4\", \"method\": \"animate\"}, {\"args\": [[\"2002K1\"], {\"frame\": {\"duration\": 0, \"redraw\": false}, \"fromcurrent\": true, \"mode\": \"immediate\", \"transition\": {\"duration\": 0, \"easing\": \"linear\"}}], \"label\": \"2002K1\", \"method\": \"animate\"}, {\"args\": [[\"2002K2\"], {\"frame\": {\"duration\": 0, \"redraw\": false}, \"fromcurrent\": true, \"mode\": \"immediate\", \"transition\": {\"duration\": 0, \"easing\": \"linear\"}}], \"label\": \"2002K2\", \"method\": \"animate\"}, {\"args\": [[\"2002K3\"], {\"frame\": {\"duration\": 0, \"redraw\": false}, \"fromcurrent\": true, \"mode\": \"immediate\", \"transition\": {\"duration\": 0, \"easing\": \"linear\"}}], \"label\": \"2002K3\", \"method\": \"animate\"}, {\"args\": [[\"2002K4\"], {\"frame\": {\"duration\": 0, \"redraw\": false}, \"fromcurrent\": true, \"mode\": \"immediate\", \"transition\": {\"duration\": 0, \"easing\": \"linear\"}}], \"label\": \"2002K4\", \"method\": \"animate\"}, {\"args\": [[\"2003K1\"], {\"frame\": {\"duration\": 0, \"redraw\": false}, \"fromcurrent\": true, \"mode\": \"immediate\", \"transition\": {\"duration\": 0, \"easing\": \"linear\"}}], \"label\": \"2003K1\", \"method\": \"animate\"}, {\"args\": [[\"2003K2\"], {\"frame\": {\"duration\": 0, \"redraw\": false}, \"fromcurrent\": true, \"mode\": \"immediate\", \"transition\": {\"duration\": 0, \"easing\": \"linear\"}}], \"label\": \"2003K2\", \"method\": \"animate\"}, {\"args\": [[\"2003K3\"], {\"frame\": {\"duration\": 0, \"redraw\": false}, \"fromcurrent\": true, \"mode\": \"immediate\", \"transition\": {\"duration\": 0, \"easing\": \"linear\"}}], \"label\": \"2003K3\", \"method\": \"animate\"}, {\"args\": [[\"2003K4\"], {\"frame\": {\"duration\": 0, \"redraw\": false}, \"fromcurrent\": true, \"mode\": \"immediate\", \"transition\": {\"duration\": 0, \"easing\": \"linear\"}}], \"label\": \"2003K4\", \"method\": \"animate\"}, {\"args\": [[\"2004K1\"], {\"frame\": {\"duration\": 0, \"redraw\": false}, \"fromcurrent\": true, \"mode\": \"immediate\", \"transition\": {\"duration\": 0, \"easing\": \"linear\"}}], \"label\": \"2004K1\", \"method\": \"animate\"}, {\"args\": [[\"2004K2\"], {\"frame\": {\"duration\": 0, \"redraw\": false}, \"fromcurrent\": true, \"mode\": \"immediate\", \"transition\": {\"duration\": 0, \"easing\": \"linear\"}}], \"label\": \"2004K2\", \"method\": \"animate\"}, {\"args\": [[\"2004K3\"], {\"frame\": {\"duration\": 0, \"redraw\": false}, \"fromcurrent\": true, \"mode\": \"immediate\", \"transition\": {\"duration\": 0, \"easing\": \"linear\"}}], \"label\": \"2004K3\", \"method\": \"animate\"}, {\"args\": [[\"2004K4\"], {\"frame\": {\"duration\": 0, \"redraw\": false}, \"fromcurrent\": true, \"mode\": \"immediate\", \"transition\": {\"duration\": 0, \"easing\": \"linear\"}}], \"label\": \"2004K4\", \"method\": \"animate\"}, {\"args\": [[\"2005K1\"], {\"frame\": {\"duration\": 0, \"redraw\": false}, \"fromcurrent\": true, \"mode\": \"immediate\", \"transition\": {\"duration\": 0, \"easing\": \"linear\"}}], \"label\": \"2005K1\", \"method\": \"animate\"}, {\"args\": [[\"2005K2\"], {\"frame\": {\"duration\": 0, \"redraw\": false}, \"fromcurrent\": true, \"mode\": \"immediate\", \"transition\": {\"duration\": 0, \"easing\": \"linear\"}}], \"label\": \"2005K2\", \"method\": \"animate\"}, {\"args\": [[\"2005K3\"], {\"frame\": {\"duration\": 0, \"redraw\": false}, \"fromcurrent\": true, \"mode\": \"immediate\", \"transition\": {\"duration\": 0, \"easing\": \"linear\"}}], \"label\": \"2005K3\", \"method\": \"animate\"}, {\"args\": [[\"2005K4\"], {\"frame\": {\"duration\": 0, \"redraw\": false}, \"fromcurrent\": true, \"mode\": \"immediate\", \"transition\": {\"duration\": 0, \"easing\": \"linear\"}}], \"label\": \"2005K4\", \"method\": \"animate\"}, {\"args\": [[\"2006K1\"], {\"frame\": {\"duration\": 0, \"redraw\": false}, \"fromcurrent\": true, \"mode\": \"immediate\", \"transition\": {\"duration\": 0, \"easing\": \"linear\"}}], \"label\": \"2006K1\", \"method\": \"animate\"}, {\"args\": [[\"2006K2\"], {\"frame\": {\"duration\": 0, \"redraw\": false}, \"fromcurrent\": true, \"mode\": \"immediate\", \"transition\": {\"duration\": 0, \"easing\": \"linear\"}}], \"label\": \"2006K2\", \"method\": \"animate\"}, {\"args\": [[\"2006K3\"], {\"frame\": {\"duration\": 0, \"redraw\": false}, \"fromcurrent\": true, \"mode\": \"immediate\", \"transition\": {\"duration\": 0, \"easing\": \"linear\"}}], \"label\": \"2006K3\", \"method\": \"animate\"}, {\"args\": [[\"2006K4\"], {\"frame\": {\"duration\": 0, \"redraw\": false}, \"fromcurrent\": true, \"mode\": \"immediate\", \"transition\": {\"duration\": 0, \"easing\": \"linear\"}}], \"label\": \"2006K4\", \"method\": \"animate\"}, {\"args\": [[\"2007K1\"], {\"frame\": {\"duration\": 0, \"redraw\": false}, \"fromcurrent\": true, \"mode\": \"immediate\", \"transition\": {\"duration\": 0, \"easing\": \"linear\"}}], \"label\": \"2007K1\", \"method\": \"animate\"}, {\"args\": [[\"2007K2\"], {\"frame\": {\"duration\": 0, \"redraw\": false}, \"fromcurrent\": true, \"mode\": \"immediate\", \"transition\": {\"duration\": 0, \"easing\": \"linear\"}}], \"label\": \"2007K2\", \"method\": \"animate\"}, {\"args\": [[\"2007K3\"], {\"frame\": {\"duration\": 0, \"redraw\": false}, \"fromcurrent\": true, \"mode\": \"immediate\", \"transition\": {\"duration\": 0, \"easing\": \"linear\"}}], \"label\": \"2007K3\", \"method\": \"animate\"}, {\"args\": [[\"2007K4\"], {\"frame\": {\"duration\": 0, \"redraw\": false}, \"fromcurrent\": true, \"mode\": \"immediate\", \"transition\": {\"duration\": 0, \"easing\": \"linear\"}}], \"label\": \"2007K4\", \"method\": \"animate\"}, {\"args\": [[\"2008K1\"], {\"frame\": {\"duration\": 0, \"redraw\": false}, \"fromcurrent\": true, \"mode\": \"immediate\", \"transition\": {\"duration\": 0, \"easing\": \"linear\"}}], \"label\": \"2008K1\", \"method\": \"animate\"}, {\"args\": [[\"2008K2\"], {\"frame\": {\"duration\": 0, \"redraw\": false}, \"fromcurrent\": true, \"mode\": \"immediate\", \"transition\": {\"duration\": 0, \"easing\": \"linear\"}}], \"label\": \"2008K2\", \"method\": \"animate\"}, {\"args\": [[\"2008K3\"], {\"frame\": {\"duration\": 0, \"redraw\": false}, \"fromcurrent\": true, \"mode\": \"immediate\", \"transition\": {\"duration\": 0, \"easing\": \"linear\"}}], \"label\": \"2008K3\", \"method\": \"animate\"}, {\"args\": [[\"2008K4\"], {\"frame\": {\"duration\": 0, \"redraw\": false}, \"fromcurrent\": true, \"mode\": \"immediate\", \"transition\": {\"duration\": 0, \"easing\": \"linear\"}}], \"label\": \"2008K4\", \"method\": \"animate\"}, {\"args\": [[\"2009K1\"], {\"frame\": {\"duration\": 0, \"redraw\": false}, \"fromcurrent\": true, \"mode\": \"immediate\", \"transition\": {\"duration\": 0, \"easing\": \"linear\"}}], \"label\": \"2009K1\", \"method\": \"animate\"}, {\"args\": [[\"2009K2\"], {\"frame\": {\"duration\": 0, \"redraw\": false}, \"fromcurrent\": true, \"mode\": \"immediate\", \"transition\": {\"duration\": 0, \"easing\": \"linear\"}}], \"label\": \"2009K2\", \"method\": \"animate\"}, {\"args\": [[\"2009K3\"], {\"frame\": {\"duration\": 0, \"redraw\": false}, \"fromcurrent\": true, \"mode\": \"immediate\", \"transition\": {\"duration\": 0, \"easing\": \"linear\"}}], \"label\": \"2009K3\", \"method\": \"animate\"}, {\"args\": [[\"2009K4\"], {\"frame\": {\"duration\": 0, \"redraw\": false}, \"fromcurrent\": true, \"mode\": \"immediate\", \"transition\": {\"duration\": 0, \"easing\": \"linear\"}}], \"label\": \"2009K4\", \"method\": \"animate\"}, {\"args\": [[\"2010K1\"], {\"frame\": {\"duration\": 0, \"redraw\": false}, \"fromcurrent\": true, \"mode\": \"immediate\", \"transition\": {\"duration\": 0, \"easing\": \"linear\"}}], \"label\": \"2010K1\", \"method\": \"animate\"}, {\"args\": [[\"2010K2\"], {\"frame\": {\"duration\": 0, \"redraw\": false}, \"fromcurrent\": true, \"mode\": \"immediate\", \"transition\": {\"duration\": 0, \"easing\": \"linear\"}}], \"label\": \"2010K2\", \"method\": \"animate\"}, {\"args\": [[\"2010K3\"], {\"frame\": {\"duration\": 0, \"redraw\": false}, \"fromcurrent\": true, \"mode\": \"immediate\", \"transition\": {\"duration\": 0, \"easing\": \"linear\"}}], \"label\": \"2010K3\", \"method\": \"animate\"}, {\"args\": [[\"2010K4\"], {\"frame\": {\"duration\": 0, \"redraw\": false}, \"fromcurrent\": true, \"mode\": \"immediate\", \"transition\": {\"duration\": 0, \"easing\": \"linear\"}}], \"label\": \"2010K4\", \"method\": \"animate\"}, {\"args\": [[\"2011K1\"], {\"frame\": {\"duration\": 0, \"redraw\": false}, \"fromcurrent\": true, \"mode\": \"immediate\", \"transition\": {\"duration\": 0, \"easing\": \"linear\"}}], \"label\": \"2011K1\", \"method\": \"animate\"}, {\"args\": [[\"2011K2\"], {\"frame\": {\"duration\": 0, \"redraw\": false}, \"fromcurrent\": true, \"mode\": \"immediate\", \"transition\": {\"duration\": 0, \"easing\": \"linear\"}}], \"label\": \"2011K2\", \"method\": \"animate\"}, {\"args\": [[\"2011K3\"], {\"frame\": {\"duration\": 0, \"redraw\": false}, \"fromcurrent\": true, \"mode\": \"immediate\", \"transition\": {\"duration\": 0, \"easing\": \"linear\"}}], \"label\": \"2011K3\", \"method\": \"animate\"}, {\"args\": [[\"2011K4\"], {\"frame\": {\"duration\": 0, \"redraw\": false}, \"fromcurrent\": true, \"mode\": \"immediate\", \"transition\": {\"duration\": 0, \"easing\": \"linear\"}}], \"label\": \"2011K4\", \"method\": \"animate\"}, {\"args\": [[\"2012K1\"], {\"frame\": {\"duration\": 0, \"redraw\": false}, \"fromcurrent\": true, \"mode\": \"immediate\", \"transition\": {\"duration\": 0, \"easing\": \"linear\"}}], \"label\": \"2012K1\", \"method\": \"animate\"}, {\"args\": [[\"2012K2\"], {\"frame\": {\"duration\": 0, \"redraw\": false}, \"fromcurrent\": true, \"mode\": \"immediate\", \"transition\": {\"duration\": 0, \"easing\": \"linear\"}}], \"label\": \"2012K2\", \"method\": \"animate\"}, {\"args\": [[\"2012K3\"], {\"frame\": {\"duration\": 0, \"redraw\": false}, \"fromcurrent\": true, \"mode\": \"immediate\", \"transition\": {\"duration\": 0, \"easing\": \"linear\"}}], \"label\": \"2012K3\", \"method\": \"animate\"}, {\"args\": [[\"2012K4\"], {\"frame\": {\"duration\": 0, \"redraw\": false}, \"fromcurrent\": true, \"mode\": \"immediate\", \"transition\": {\"duration\": 0, \"easing\": \"linear\"}}], \"label\": \"2012K4\", \"method\": \"animate\"}, {\"args\": [[\"2013K1\"], {\"frame\": {\"duration\": 0, \"redraw\": false}, \"fromcurrent\": true, \"mode\": \"immediate\", \"transition\": {\"duration\": 0, \"easing\": \"linear\"}}], \"label\": \"2013K1\", \"method\": \"animate\"}, {\"args\": [[\"2013K2\"], {\"frame\": {\"duration\": 0, \"redraw\": false}, \"fromcurrent\": true, \"mode\": \"immediate\", \"transition\": {\"duration\": 0, \"easing\": \"linear\"}}], \"label\": \"2013K2\", \"method\": \"animate\"}, {\"args\": [[\"2013K3\"], {\"frame\": {\"duration\": 0, \"redraw\": false}, \"fromcurrent\": true, \"mode\": \"immediate\", \"transition\": {\"duration\": 0, \"easing\": \"linear\"}}], \"label\": \"2013K3\", \"method\": \"animate\"}, {\"args\": [[\"2013K4\"], {\"frame\": {\"duration\": 0, \"redraw\": false}, \"fromcurrent\": true, \"mode\": \"immediate\", \"transition\": {\"duration\": 0, \"easing\": \"linear\"}}], \"label\": \"2013K4\", \"method\": \"animate\"}, {\"args\": [[\"2014K1\"], {\"frame\": {\"duration\": 0, \"redraw\": false}, \"fromcurrent\": true, \"mode\": \"immediate\", \"transition\": {\"duration\": 0, \"easing\": \"linear\"}}], \"label\": \"2014K1\", \"method\": \"animate\"}, {\"args\": [[\"2014K2\"], {\"frame\": {\"duration\": 0, \"redraw\": false}, \"fromcurrent\": true, \"mode\": \"immediate\", \"transition\": {\"duration\": 0, \"easing\": \"linear\"}}], \"label\": \"2014K2\", \"method\": \"animate\"}, {\"args\": [[\"2014K3\"], {\"frame\": {\"duration\": 0, \"redraw\": false}, \"fromcurrent\": true, \"mode\": \"immediate\", \"transition\": {\"duration\": 0, \"easing\": \"linear\"}}], \"label\": \"2014K3\", \"method\": \"animate\"}, {\"args\": [[\"2014K4\"], {\"frame\": {\"duration\": 0, \"redraw\": false}, \"fromcurrent\": true, \"mode\": \"immediate\", \"transition\": {\"duration\": 0, \"easing\": \"linear\"}}], \"label\": \"2014K4\", \"method\": \"animate\"}, {\"args\": [[\"2015K1\"], {\"frame\": {\"duration\": 0, \"redraw\": false}, \"fromcurrent\": true, \"mode\": \"immediate\", \"transition\": {\"duration\": 0, \"easing\": \"linear\"}}], \"label\": \"2015K1\", \"method\": \"animate\"}, {\"args\": [[\"2015K2\"], {\"frame\": {\"duration\": 0, \"redraw\": false}, \"fromcurrent\": true, \"mode\": \"immediate\", \"transition\": {\"duration\": 0, \"easing\": \"linear\"}}], \"label\": \"2015K2\", \"method\": \"animate\"}, {\"args\": [[\"2015K3\"], {\"frame\": {\"duration\": 0, \"redraw\": false}, \"fromcurrent\": true, \"mode\": \"immediate\", \"transition\": {\"duration\": 0, \"easing\": \"linear\"}}], \"label\": \"2015K3\", \"method\": \"animate\"}, {\"args\": [[\"2015K4\"], {\"frame\": {\"duration\": 0, \"redraw\": false}, \"fromcurrent\": true, \"mode\": \"immediate\", \"transition\": {\"duration\": 0, \"easing\": \"linear\"}}], \"label\": \"2015K4\", \"method\": \"animate\"}, {\"args\": [[\"2016K1\"], {\"frame\": {\"duration\": 0, \"redraw\": false}, \"fromcurrent\": true, \"mode\": \"immediate\", \"transition\": {\"duration\": 0, \"easing\": \"linear\"}}], \"label\": \"2016K1\", \"method\": \"animate\"}, {\"args\": [[\"2016K2\"], {\"frame\": {\"duration\": 0, \"redraw\": false}, \"fromcurrent\": true, \"mode\": \"immediate\", \"transition\": {\"duration\": 0, \"easing\": \"linear\"}}], \"label\": \"2016K2\", \"method\": \"animate\"}, {\"args\": [[\"2016K3\"], {\"frame\": {\"duration\": 0, \"redraw\": false}, \"fromcurrent\": true, \"mode\": \"immediate\", \"transition\": {\"duration\": 0, \"easing\": \"linear\"}}], \"label\": \"2016K3\", \"method\": \"animate\"}, {\"args\": [[\"2016K4\"], {\"frame\": {\"duration\": 0, \"redraw\": false}, \"fromcurrent\": true, \"mode\": \"immediate\", \"transition\": {\"duration\": 0, \"easing\": \"linear\"}}], \"label\": \"2016K4\", \"method\": \"animate\"}, {\"args\": [[\"2017K1\"], {\"frame\": {\"duration\": 0, \"redraw\": false}, \"fromcurrent\": true, \"mode\": \"immediate\", \"transition\": {\"duration\": 0, \"easing\": \"linear\"}}], \"label\": \"2017K1\", \"method\": \"animate\"}, {\"args\": [[\"2017K2\"], {\"frame\": {\"duration\": 0, \"redraw\": false}, \"fromcurrent\": true, \"mode\": \"immediate\", \"transition\": {\"duration\": 0, \"easing\": \"linear\"}}], \"label\": \"2017K2\", \"method\": \"animate\"}, {\"args\": [[\"2017K3\"], {\"frame\": {\"duration\": 0, \"redraw\": false}, \"fromcurrent\": true, \"mode\": \"immediate\", \"transition\": {\"duration\": 0, \"easing\": \"linear\"}}], \"label\": \"2017K3\", \"method\": \"animate\"}, {\"args\": [[\"2017K4\"], {\"frame\": {\"duration\": 0, \"redraw\": false}, \"fromcurrent\": true, \"mode\": \"immediate\", \"transition\": {\"duration\": 0, \"easing\": \"linear\"}}], \"label\": \"2017K4\", \"method\": \"animate\"}, {\"args\": [[\"2018K1\"], {\"frame\": {\"duration\": 0, \"redraw\": false}, \"fromcurrent\": true, \"mode\": \"immediate\", \"transition\": {\"duration\": 0, \"easing\": \"linear\"}}], \"label\": \"2018K1\", \"method\": \"animate\"}, {\"args\": [[\"2018K2\"], {\"frame\": {\"duration\": 0, \"redraw\": false}, \"fromcurrent\": true, \"mode\": \"immediate\", \"transition\": {\"duration\": 0, \"easing\": \"linear\"}}], \"label\": \"2018K2\", \"method\": \"animate\"}, {\"args\": [[\"2018K3\"], {\"frame\": {\"duration\": 0, \"redraw\": false}, \"fromcurrent\": true, \"mode\": \"immediate\", \"transition\": {\"duration\": 0, \"easing\": \"linear\"}}], \"label\": \"2018K3\", \"method\": \"animate\"}, {\"args\": [[\"2018K4\"], {\"frame\": {\"duration\": 0, \"redraw\": false}, \"fromcurrent\": true, \"mode\": \"immediate\", \"transition\": {\"duration\": 0, \"easing\": \"linear\"}}], \"label\": \"2018K4\", \"method\": \"animate\"}], \"x\": 0.1, \"xanchor\": \"left\", \"y\": 0, \"yanchor\": \"top\"}], \"template\": {\"data\": {\"bar\": [{\"marker\": {\"line\": {\"color\": \"#E5ECF6\", \"width\": 0.5}}, \"type\": \"bar\"}], \"barpolar\": [{\"marker\": {\"line\": {\"color\": \"#E5ECF6\", \"width\": 0.5}}, \"type\": \"barpolar\"}], \"carpet\": [{\"aaxis\": {\"endlinecolor\": \"#2a3f5f\", \"gridcolor\": \"white\", \"linecolor\": \"white\", \"minorgridcolor\": \"white\", \"startlinecolor\": \"#2a3f5f\"}, \"baxis\": {\"endlinecolor\": \"#2a3f5f\", \"gridcolor\": \"white\", \"linecolor\": \"white\", \"minorgridcolor\": \"white\", \"startlinecolor\": \"#2a3f5f\"}, \"type\": \"carpet\"}], \"choropleth\": [{\"colorbar\": {\"outlinewidth\": 0, \"ticks\": \"\"}, \"type\": \"choropleth\"}], \"contour\": [{\"colorbar\": {\"outlinewidth\": 0, \"ticks\": \"\"}, \"colorscale\": [[0.0, \"#0508b8\"], [0.0893854748603352, \"#1910d8\"], [0.1787709497206704, \"#3c19f0\"], [0.2681564245810056, \"#6b1cfb\"], [0.3575418994413408, \"#981cfd\"], [0.44692737430167595, \"#bf1cfd\"], [0.5363128491620112, \"#dd2bfd\"], [0.6256983240223464, \"#f246fe\"], [0.7150837988826816, \"#fc67fd\"], [0.8044692737430168, \"#fe88fc\"], [0.8938547486033519, \"#fea5fd\"], [0.9832402234636871, \"#febefe\"], [1.0, \"#fec3fe\"]], \"type\": \"contour\"}], \"contourcarpet\": [{\"colorbar\": {\"outlinewidth\": 0, \"ticks\": \"\"}, \"type\": \"contourcarpet\"}], \"heatmap\": [{\"colorbar\": {\"outlinewidth\": 0, \"ticks\": \"\"}, \"colorscale\": [[0.0, \"#0508b8\"], [0.0893854748603352, \"#1910d8\"], [0.1787709497206704, \"#3c19f0\"], [0.2681564245810056, \"#6b1cfb\"], [0.3575418994413408, \"#981cfd\"], [0.44692737430167595, \"#bf1cfd\"], [0.5363128491620112, \"#dd2bfd\"], [0.6256983240223464, \"#f246fe\"], [0.7150837988826816, \"#fc67fd\"], [0.8044692737430168, \"#fe88fc\"], [0.8938547486033519, \"#fea5fd\"], [0.9832402234636871, \"#febefe\"], [1.0, \"#fec3fe\"]], \"type\": \"heatmap\"}], \"heatmapgl\": [{\"colorbar\": {\"outlinewidth\": 0, \"ticks\": \"\"}, \"type\": \"heatmapgl\"}], \"histogram\": [{\"marker\": {\"colorbar\": {\"outlinewidth\": 0, \"ticks\": \"\"}}, \"type\": \"histogram\"}], \"histogram2d\": [{\"colorbar\": {\"outlinewidth\": 0, \"ticks\": \"\"}, \"colorscale\": [[0.0, \"#0508b8\"], [0.0893854748603352, \"#1910d8\"], [0.1787709497206704, \"#3c19f0\"], [0.2681564245810056, \"#6b1cfb\"], [0.3575418994413408, \"#981cfd\"], [0.44692737430167595, \"#bf1cfd\"], [0.5363128491620112, \"#dd2bfd\"], [0.6256983240223464, \"#f246fe\"], [0.7150837988826816, \"#fc67fd\"], [0.8044692737430168, \"#fe88fc\"], [0.8938547486033519, \"#fea5fd\"], [0.9832402234636871, \"#febefe\"], [1.0, \"#fec3fe\"]], \"type\": \"histogram2d\"}], \"histogram2dcontour\": [{\"colorbar\": {\"outlinewidth\": 0, \"ticks\": \"\"}, \"colorscale\": [[0.0, \"#0508b8\"], [0.0893854748603352, \"#1910d8\"], [0.1787709497206704, \"#3c19f0\"], [0.2681564245810056, \"#6b1cfb\"], [0.3575418994413408, \"#981cfd\"], [0.44692737430167595, \"#bf1cfd\"], [0.5363128491620112, \"#dd2bfd\"], [0.6256983240223464, \"#f246fe\"], [0.7150837988826816, \"#fc67fd\"], [0.8044692737430168, \"#fe88fc\"], [0.8938547486033519, \"#fea5fd\"], [0.9832402234636871, \"#febefe\"], [1.0, \"#fec3fe\"]], \"type\": \"histogram2dcontour\"}], \"mesh3d\": [{\"colorbar\": {\"outlinewidth\": 0, \"ticks\": \"\"}, \"type\": \"mesh3d\"}], \"parcoords\": [{\"line\": {\"colorbar\": {\"outlinewidth\": 0, \"ticks\": \"\"}}, \"type\": \"parcoords\"}], \"scatter\": [{\"marker\": {\"colorbar\": {\"outlinewidth\": 0, \"ticks\": \"\"}}, \"type\": \"scatter\"}], \"scatter3d\": [{\"marker\": {\"colorbar\": {\"outlinewidth\": 0, \"ticks\": \"\"}}, \"type\": \"scatter3d\"}], \"scattercarpet\": [{\"marker\": {\"colorbar\": {\"outlinewidth\": 0, \"ticks\": \"\"}}, \"type\": \"scattercarpet\"}], \"scattergeo\": [{\"marker\": {\"colorbar\": {\"outlinewidth\": 0, \"ticks\": \"\"}}, \"type\": \"scattergeo\"}], \"scattergl\": [{\"marker\": {\"colorbar\": {\"outlinewidth\": 0, \"ticks\": \"\"}}, \"type\": \"scattergl\"}], \"scattermapbox\": [{\"marker\": {\"colorbar\": {\"outlinewidth\": 0, \"ticks\": \"\"}}, \"type\": \"scattermapbox\"}], \"scatterpolar\": [{\"marker\": {\"colorbar\": {\"outlinewidth\": 0, \"ticks\": \"\"}}, \"type\": \"scatterpolar\"}], \"scatterpolargl\": [{\"marker\": {\"colorbar\": {\"outlinewidth\": 0, \"ticks\": \"\"}}, \"type\": \"scatterpolargl\"}], \"scatterternary\": [{\"marker\": {\"colorbar\": {\"outlinewidth\": 0, \"ticks\": \"\"}}, \"type\": \"scatterternary\"}], \"surface\": [{\"colorbar\": {\"outlinewidth\": 0, \"ticks\": \"\"}, \"type\": \"surface\"}], \"table\": [{\"cells\": {\"fill\": {\"color\": \"#EBF0F8\"}, \"line\": {\"color\": \"white\"}}, \"header\": {\"fill\": {\"color\": \"#C8D4E3\"}, \"line\": {\"color\": \"white\"}}, \"type\": \"table\"}]}, \"layout\": {\"annotationdefaults\": {\"arrowcolor\": \"#506784\", \"arrowhead\": 0, \"arrowwidth\": 1}, \"colorscale\": {\"diverging\": [[0, \"#8e0152\"], [0.1, \"#c51b7d\"], [0.2, \"#de77ae\"], [0.3, \"#f1b6da\"], [0.4, \"#fde0ef\"], [0.5, \"#f7f7f7\"], [0.6, \"#e6f5d0\"], [0.7, \"#b8e186\"], [0.8, \"#7fbc41\"], [0.9, \"#4d9221\"], [1, \"#276419\"]], \"sequential\": [[0.0, \"#0508b8\"], [0.0893854748603352, \"#1910d8\"], [0.1787709497206704, \"#3c19f0\"], [0.2681564245810056, \"#6b1cfb\"], [0.3575418994413408, \"#981cfd\"], [0.44692737430167595, \"#bf1cfd\"], [0.5363128491620112, \"#dd2bfd\"], [0.6256983240223464, \"#f246fe\"], [0.7150837988826816, \"#fc67fd\"], [0.8044692737430168, \"#fe88fc\"], [0.8938547486033519, \"#fea5fd\"], [0.9832402234636871, \"#febefe\"], [1.0, \"#fec3fe\"]], \"sequentialminus\": [[0.0, \"#0508b8\"], [0.0893854748603352, \"#1910d8\"], [0.1787709497206704, \"#3c19f0\"], [0.2681564245810056, \"#6b1cfb\"], [0.3575418994413408, \"#981cfd\"], [0.44692737430167595, \"#bf1cfd\"], [0.5363128491620112, \"#dd2bfd\"], [0.6256983240223464, \"#f246fe\"], [0.7150837988826816, \"#fc67fd\"], [0.8044692737430168, \"#fe88fc\"], [0.8938547486033519, \"#fea5fd\"], [0.9832402234636871, \"#febefe\"], [1.0, \"#fec3fe\"]]}, \"colorway\": [\"#636efa\", \"#EF553B\", \"#00cc96\", \"#ab63fa\", \"#19d3f3\", \"#e763fa\", \"#FECB52\", \"#FFA15A\", \"#FF6692\", \"#B6E880\"], \"font\": {\"color\": \"#2a3f5f\"}, \"geo\": {\"bgcolor\": \"white\", \"lakecolor\": \"white\", \"landcolor\": \"#E5ECF6\", \"showlakes\": true, \"showland\": true, \"subunitcolor\": \"white\"}, \"hoverlabel\": {\"align\": \"left\"}, \"hovermode\": \"closest\", \"mapbox\": {\"style\": \"light\"}, \"paper_bgcolor\": \"white\", \"plot_bgcolor\": \"#E5ECF6\", \"polar\": {\"angularaxis\": {\"gridcolor\": \"white\", \"linecolor\": \"white\", \"ticks\": \"\"}, \"bgcolor\": \"#E5ECF6\", \"radialaxis\": {\"gridcolor\": \"white\", \"linecolor\": \"white\", \"ticks\": \"\"}}, \"scene\": {\"xaxis\": {\"backgroundcolor\": \"#E5ECF6\", \"gridcolor\": \"white\", \"gridwidth\": 2, \"linecolor\": \"white\", \"showbackground\": true, \"ticks\": \"\", \"zerolinecolor\": \"white\"}, \"yaxis\": {\"backgroundcolor\": \"#E5ECF6\", \"gridcolor\": \"white\", \"gridwidth\": 2, \"linecolor\": \"white\", \"showbackground\": true, \"ticks\": \"\", \"zerolinecolor\": \"white\"}, \"zaxis\": {\"backgroundcolor\": \"#E5ECF6\", \"gridcolor\": \"white\", \"gridwidth\": 2, \"linecolor\": \"white\", \"showbackground\": true, \"ticks\": \"\", \"zerolinecolor\": \"white\"}}, \"shapedefaults\": {\"fillcolor\": \"#506784\", \"line\": {\"width\": 0}, \"opacity\": 0.4}, \"ternary\": {\"aaxis\": {\"gridcolor\": \"white\", \"linecolor\": \"white\", \"ticks\": \"\"}, \"baxis\": {\"gridcolor\": \"white\", \"linecolor\": \"white\", \"ticks\": \"\"}, \"bgcolor\": \"#E5ECF6\", \"caxis\": {\"gridcolor\": \"white\", \"linecolor\": \"white\", \"ticks\": \"\"}}, \"title\": {\"x\": 0.05}, \"xaxis\": {\"automargin\": true, \"gridcolor\": \"white\", \"linecolor\": \"white\", \"ticks\": \"\", \"zerolinecolor\": \"white\", \"zerolinewidth\": 2}, \"yaxis\": {\"automargin\": true, \"gridcolor\": \"white\", \"linecolor\": \"white\", \"ticks\": \"\", \"zerolinecolor\": \"white\", \"zerolinewidth\": 2}}}, \"updatemenus\": [{\"buttons\": [{\"args\": [null, {\"frame\": {\"duration\": 500, \"redraw\": false}, \"fromcurrent\": true, \"mode\": \"immediate\", \"transition\": {\"duration\": 500, \"easing\": \"linear\"}}], \"label\": \"&#9654;\", \"method\": \"animate\"}, {\"args\": [[null], {\"frame\": {\"duration\": 0, \"redraw\": false}, \"fromcurrent\": true, \"mode\": \"immediate\", \"transition\": {\"duration\": 0, \"easing\": \"linear\"}}], \"label\": \"&#9724;\", \"method\": \"animate\"}], \"direction\": \"left\", \"pad\": {\"r\": 10, \"t\": 70}, \"showactive\": false, \"type\": \"buttons\", \"x\": 0.1, \"xanchor\": \"right\", \"y\": 0, \"yanchor\": \"top\"}], \"xaxis\": {\"title\": {\"text\": \"alder\"}}, \"yaxis\": {\"range\": [-1, 14.1], \"title\": {\"text\": \"value\"}}},\n",
       "                        {\"showLink\": false, \"linkText\": \"Export to plot.ly\", \"plotlyServerURL\": \"https://plot.ly\", \"responsive\": true}\n",
       "                    ).then(function(){\n",
       "                            Plotly.addFrames('7728dfc4-2a1b-46e5-803f-35f022d2cf5e', [{\"data\": [{\"hoverlabel\": {\"namelength\": 0}, \"hovertemplate\": \"kj\\u00f8nn=Menn<br>kvartal=2000K2<br>alder=%{x}<br>value=%{y}\", \"legendgroup\": \"kj\\u00f8nn=Menn\", \"marker\": {\"color\": \"#636efa\", \"symbol\": \"circle\"}, \"mode\": \"markers\", \"name\": \"kj\\u00f8nn=Menn\", \"showlegend\": true, \"x\": [\"16-19 \\u00e5r\", \"20-24 \\u00e5r\", \"25-29 \\u00e5r\", \"30-34 \\u00e5r\", \"35-39 \\u00e5r\", \"40-44 \\u00e5r\", \"45-49 \\u00e5r\", \"50-54 \\u00e5r\", \"55-59 \\u00e5r\", \"60-64 \\u00e5r\", \"65-66 \\u00e5r\", \"67 \\u00e5r\", \"68 \\u00e5r\", \"69 \\u00e5r\"], \"xaxis\": \"x\", \"y\": [2.6, 4.1, 4.1, 4.3, 4.4, 4.5, 4.7, 5.3, 6.4, 9.1, 9.4, 4.9, 2.4, 1.5], \"yaxis\": \"y\", \"type\": \"scatter\"}, {\"hoverlabel\": {\"namelength\": 0}, \"hovertemplate\": \"kj\\u00f8nn=Kvinner<br>kvartal=2000K2<br>alder=%{x}<br>value=%{y}\", \"legendgroup\": \"kj\\u00f8nn=Kvinner\", \"marker\": {\"color\": \"#EF553B\", \"symbol\": \"circle\"}, \"mode\": \"markers\", \"name\": \"kj\\u00f8nn=Kvinner\", \"showlegend\": true, \"x\": [\"16-19 \\u00e5r\", \"20-24 \\u00e5r\", \"25-29 \\u00e5r\", \"30-34 \\u00e5r\", \"35-39 \\u00e5r\", \"40-44 \\u00e5r\", \"45-49 \\u00e5r\", \"50-54 \\u00e5r\", \"55-59 \\u00e5r\", \"60-64 \\u00e5r\", \"65-66 \\u00e5r\", \"67 \\u00e5r\", \"68 \\u00e5r\", \"69 \\u00e5r\"], \"xaxis\": \"x\", \"y\": [2.7, 5.7, 7.0, 7.6, 7.2, 7.0, 7.4, 8.0, 9.0, 11.4, 11.3, 4.8, 2.3, 2.6], \"yaxis\": \"y\", \"type\": \"scatter\"}], \"name\": \"2000K2\"}, {\"data\": [{\"hoverlabel\": {\"namelength\": 0}, \"hovertemplate\": \"kj\\u00f8nn=Menn<br>kvartal=2000K3<br>alder=%{x}<br>value=%{y}\", \"legendgroup\": \"kj\\u00f8nn=Menn\", \"marker\": {\"color\": \"#636efa\", \"symbol\": \"circle\"}, \"mode\": \"markers\", \"name\": \"kj\\u00f8nn=Menn\", \"showlegend\": true, \"x\": [\"16-19 \\u00e5r\", \"20-24 \\u00e5r\", \"25-29 \\u00e5r\", \"30-34 \\u00e5r\", \"35-39 \\u00e5r\", \"40-44 \\u00e5r\", \"45-49 \\u00e5r\", \"50-54 \\u00e5r\", \"55-59 \\u00e5r\", \"60-64 \\u00e5r\", \"65-66 \\u00e5r\", \"67 \\u00e5r\", \"68 \\u00e5r\", \"69 \\u00e5r\"], \"xaxis\": \"x\", \"y\": [2.2, 3.7, 3.8, 4.0, 4.1, 4.1, 4.3, 4.8, 5.8, 8.0, 8.4, 4.2, 1.7, 1.1], \"yaxis\": \"y\", \"type\": \"scatter\"}, {\"hoverlabel\": {\"namelength\": 0}, \"hovertemplate\": \"kj\\u00f8nn=Kvinner<br>kvartal=2000K3<br>alder=%{x}<br>value=%{y}\", \"legendgroup\": \"kj\\u00f8nn=Kvinner\", \"marker\": {\"color\": \"#EF553B\", \"symbol\": \"circle\"}, \"mode\": \"markers\", \"name\": \"kj\\u00f8nn=Kvinner\", \"showlegend\": true, \"x\": [\"16-19 \\u00e5r\", \"20-24 \\u00e5r\", \"25-29 \\u00e5r\", \"30-34 \\u00e5r\", \"35-39 \\u00e5r\", \"40-44 \\u00e5r\", \"45-49 \\u00e5r\", \"50-54 \\u00e5r\", \"55-59 \\u00e5r\", \"60-64 \\u00e5r\", \"65-66 \\u00e5r\", \"67 \\u00e5r\", \"68 \\u00e5r\", \"69 \\u00e5r\"], \"xaxis\": \"x\", \"y\": [2.3, 5.0, 6.2, 6.7, 6.4, 6.0, 6.4, 7.1, 8.0, 10.1, 10.7, 5.0, 1.6, 1.6], \"yaxis\": \"y\", \"type\": \"scatter\"}], \"name\": \"2000K3\"}, {\"data\": [{\"hoverlabel\": {\"namelength\": 0}, \"hovertemplate\": \"kj\\u00f8nn=Menn<br>kvartal=2000K4<br>alder=%{x}<br>value=%{y}\", \"legendgroup\": \"kj\\u00f8nn=Menn\", \"marker\": {\"color\": \"#636efa\", \"symbol\": \"circle\"}, \"mode\": \"markers\", \"name\": \"kj\\u00f8nn=Menn\", \"showlegend\": true, \"x\": [\"16-19 \\u00e5r\", \"20-24 \\u00e5r\", \"25-29 \\u00e5r\", \"30-34 \\u00e5r\", \"35-39 \\u00e5r\", \"40-44 \\u00e5r\", \"45-49 \\u00e5r\", \"50-54 \\u00e5r\", \"55-59 \\u00e5r\", \"60-64 \\u00e5r\", \"65-66 \\u00e5r\", \"67 \\u00e5r\", \"68 \\u00e5r\", \"69 \\u00e5r\"], \"xaxis\": \"x\", \"y\": [2.7, 4.3, 4.2, 4.4, 4.6, 4.7, 4.8, 5.3, 6.3, 8.5, 8.7, 3.4, 2.1, 1.2], \"yaxis\": \"y\", \"type\": \"scatter\"}, {\"hoverlabel\": {\"namelength\": 0}, \"hovertemplate\": \"kj\\u00f8nn=Kvinner<br>kvartal=2000K4<br>alder=%{x}<br>value=%{y}\", \"legendgroup\": \"kj\\u00f8nn=Kvinner\", \"marker\": {\"color\": \"#EF553B\", \"symbol\": \"circle\"}, \"mode\": \"markers\", \"name\": \"kj\\u00f8nn=Kvinner\", \"showlegend\": true, \"x\": [\"16-19 \\u00e5r\", \"20-24 \\u00e5r\", \"25-29 \\u00e5r\", \"30-34 \\u00e5r\", \"35-39 \\u00e5r\", \"40-44 \\u00e5r\", \"45-49 \\u00e5r\", \"50-54 \\u00e5r\", \"55-59 \\u00e5r\", \"60-64 \\u00e5r\", \"65-66 \\u00e5r\", \"67 \\u00e5r\", \"68 \\u00e5r\", \"69 \\u00e5r\"], \"xaxis\": \"x\", \"y\": [3.0, 6.0, 7.4, 8.0, 7.7, 7.3, 7.5, 8.2, 9.1, 10.9, 11.1, 4.8, 2.4, 1.9], \"yaxis\": \"y\", \"type\": \"scatter\"}], \"name\": \"2000K4\"}, {\"data\": [{\"hoverlabel\": {\"namelength\": 0}, \"hovertemplate\": \"kj\\u00f8nn=Menn<br>kvartal=2001K1<br>alder=%{x}<br>value=%{y}\", \"legendgroup\": \"kj\\u00f8nn=Menn\", \"marker\": {\"color\": \"#636efa\", \"symbol\": \"circle\"}, \"mode\": \"markers\", \"name\": \"kj\\u00f8nn=Menn\", \"showlegend\": true, \"x\": [\"16-19 \\u00e5r\", \"20-24 \\u00e5r\", \"25-29 \\u00e5r\", \"30-34 \\u00e5r\", \"35-39 \\u00e5r\", \"40-44 \\u00e5r\", \"45-49 \\u00e5r\", \"50-54 \\u00e5r\", \"55-59 \\u00e5r\", \"60-64 \\u00e5r\", \"65-66 \\u00e5r\", \"67 \\u00e5r\", \"68 \\u00e5r\", \"69 \\u00e5r\"], \"xaxis\": \"x\", \"y\": [3.1, 4.6, 4.5, 4.7, 4.9, 4.9, 5.1, 5.5, 6.6, 9.0, 8.9, 3.8, 2.6, 1.6], \"yaxis\": \"y\", \"type\": \"scatter\"}, {\"hoverlabel\": {\"namelength\": 0}, \"hovertemplate\": \"kj\\u00f8nn=Kvinner<br>kvartal=2001K1<br>alder=%{x}<br>value=%{y}\", \"legendgroup\": \"kj\\u00f8nn=Kvinner\", \"marker\": {\"color\": \"#EF553B\", \"symbol\": \"circle\"}, \"mode\": \"markers\", \"name\": \"kj\\u00f8nn=Kvinner\", \"showlegend\": true, \"x\": [\"16-19 \\u00e5r\", \"20-24 \\u00e5r\", \"25-29 \\u00e5r\", \"30-34 \\u00e5r\", \"35-39 \\u00e5r\", \"40-44 \\u00e5r\", \"45-49 \\u00e5r\", \"50-54 \\u00e5r\", \"55-59 \\u00e5r\", \"60-64 \\u00e5r\", \"65-66 \\u00e5r\", \"67 \\u00e5r\", \"68 \\u00e5r\", \"69 \\u00e5r\"], \"xaxis\": \"x\", \"y\": [3.2, 6.3, 7.7, 8.5, 8.0, 7.7, 7.9, 8.6, 9.6, 11.5, 11.3, 5.5, 3.1, 2.3], \"yaxis\": \"y\", \"type\": \"scatter\"}], \"name\": \"2001K1\"}, {\"data\": [{\"hoverlabel\": {\"namelength\": 0}, \"hovertemplate\": \"kj\\u00f8nn=Menn<br>kvartal=2001K2<br>alder=%{x}<br>value=%{y}\", \"legendgroup\": \"kj\\u00f8nn=Menn\", \"marker\": {\"color\": \"#636efa\", \"symbol\": \"circle\"}, \"mode\": \"markers\", \"name\": \"kj\\u00f8nn=Menn\", \"showlegend\": true, \"x\": [\"16-19 \\u00e5r\", \"20-24 \\u00e5r\", \"25-29 \\u00e5r\", \"30-34 \\u00e5r\", \"35-39 \\u00e5r\", \"40-44 \\u00e5r\", \"45-49 \\u00e5r\", \"50-54 \\u00e5r\", \"55-59 \\u00e5r\", \"60-64 \\u00e5r\", \"65-66 \\u00e5r\", \"67 \\u00e5r\", \"68 \\u00e5r\", \"69 \\u00e5r\"], \"xaxis\": \"x\", \"y\": [2.8, 4.2, 4.1, 4.2, 4.5, 4.5, 4.7, 5.3, 6.2, 8.6, 8.5, 3.3, 2.8, 2.4], \"yaxis\": \"y\", \"type\": \"scatter\"}, {\"hoverlabel\": {\"namelength\": 0}, \"hovertemplate\": \"kj\\u00f8nn=Kvinner<br>kvartal=2001K2<br>alder=%{x}<br>value=%{y}\", \"legendgroup\": \"kj\\u00f8nn=Kvinner\", \"marker\": {\"color\": \"#EF553B\", \"symbol\": \"circle\"}, \"mode\": \"markers\", \"name\": \"kj\\u00f8nn=Kvinner\", \"showlegend\": true, \"x\": [\"16-19 \\u00e5r\", \"20-24 \\u00e5r\", \"25-29 \\u00e5r\", \"30-34 \\u00e5r\", \"35-39 \\u00e5r\", \"40-44 \\u00e5r\", \"45-49 \\u00e5r\", \"50-54 \\u00e5r\", \"55-59 \\u00e5r\", \"60-64 \\u00e5r\", \"65-66 \\u00e5r\", \"67 \\u00e5r\", \"68 \\u00e5r\", \"69 \\u00e5r\"], \"xaxis\": \"x\", \"y\": [2.9, 5.8, 7.1, 7.8, 7.4, 7.2, 7.5, 8.1, 9.0, 10.9, 11.1, 5.5, 2.3, 3.5], \"yaxis\": \"y\", \"type\": \"scatter\"}], \"name\": \"2001K2\"}, {\"data\": [{\"hoverlabel\": {\"namelength\": 0}, \"hovertemplate\": \"kj\\u00f8nn=Menn<br>kvartal=2001K3<br>alder=%{x}<br>value=%{y}\", \"legendgroup\": \"kj\\u00f8nn=Menn\", \"marker\": {\"color\": \"#636efa\", \"symbol\": \"circle\"}, \"mode\": \"markers\", \"name\": \"kj\\u00f8nn=Menn\", \"showlegend\": true, \"x\": [\"16-19 \\u00e5r\", \"20-24 \\u00e5r\", \"25-29 \\u00e5r\", \"30-34 \\u00e5r\", \"35-39 \\u00e5r\", \"40-44 \\u00e5r\", \"45-49 \\u00e5r\", \"50-54 \\u00e5r\", \"55-59 \\u00e5r\", \"60-64 \\u00e5r\", \"65-66 \\u00e5r\", \"67 \\u00e5r\", \"68 \\u00e5r\", \"69 \\u00e5r\"], \"xaxis\": \"x\", \"y\": [2.4, 4.1, 4.0, 4.2, 4.4, 4.4, 4.6, 5.0, 5.8, 8.2, 8.5, 4.0, 2.8, 2.2], \"yaxis\": \"y\", \"type\": \"scatter\"}, {\"hoverlabel\": {\"namelength\": 0}, \"hovertemplate\": \"kj\\u00f8nn=Kvinner<br>kvartal=2001K3<br>alder=%{x}<br>value=%{y}\", \"legendgroup\": \"kj\\u00f8nn=Kvinner\", \"marker\": {\"color\": \"#EF553B\", \"symbol\": \"circle\"}, \"mode\": \"markers\", \"name\": \"kj\\u00f8nn=Kvinner\", \"showlegend\": true, \"x\": [\"16-19 \\u00e5r\", \"20-24 \\u00e5r\", \"25-29 \\u00e5r\", \"30-34 \\u00e5r\", \"35-39 \\u00e5r\", \"40-44 \\u00e5r\", \"45-49 \\u00e5r\", \"50-54 \\u00e5r\", \"55-59 \\u00e5r\", \"60-64 \\u00e5r\", \"65-66 \\u00e5r\", \"67 \\u00e5r\", \"68 \\u00e5r\", \"69 \\u00e5r\"], \"xaxis\": \"x\", \"y\": [2.5, 5.5, 6.7, 7.1, 6.6, 6.3, 6.6, 7.2, 8.1, 10.1, 10.8, 6.0, 2.0, 3.1], \"yaxis\": \"y\", \"type\": \"scatter\"}], \"name\": \"2001K3\"}, {\"data\": [{\"hoverlabel\": {\"namelength\": 0}, \"hovertemplate\": \"kj\\u00f8nn=Menn<br>kvartal=2001K4<br>alder=%{x}<br>value=%{y}\", \"legendgroup\": \"kj\\u00f8nn=Menn\", \"marker\": {\"color\": \"#636efa\", \"symbol\": \"circle\"}, \"mode\": \"markers\", \"name\": \"kj\\u00f8nn=Menn\", \"showlegend\": true, \"x\": [\"16-19 \\u00e5r\", \"20-24 \\u00e5r\", \"25-29 \\u00e5r\", \"30-34 \\u00e5r\", \"35-39 \\u00e5r\", \"40-44 \\u00e5r\", \"45-49 \\u00e5r\", \"50-54 \\u00e5r\", \"55-59 \\u00e5r\", \"60-64 \\u00e5r\", \"65-66 \\u00e5r\", \"67 \\u00e5r\", \"68 \\u00e5r\", \"69 \\u00e5r\"], \"xaxis\": \"x\", \"y\": [2.9, 4.6, 4.4, 4.7, 4.9, 4.9, 5.1, 5.5, 6.4, 8.7, 9.0, 3.8, 2.4, 2.7], \"yaxis\": \"y\", \"type\": \"scatter\"}, {\"hoverlabel\": {\"namelength\": 0}, \"hovertemplate\": \"kj\\u00f8nn=Kvinner<br>kvartal=2001K4<br>alder=%{x}<br>value=%{y}\", \"legendgroup\": \"kj\\u00f8nn=Kvinner\", \"marker\": {\"color\": \"#EF553B\", \"symbol\": \"circle\"}, \"mode\": \"markers\", \"name\": \"kj\\u00f8nn=Kvinner\", \"showlegend\": true, \"x\": [\"16-19 \\u00e5r\", \"20-24 \\u00e5r\", \"25-29 \\u00e5r\", \"30-34 \\u00e5r\", \"35-39 \\u00e5r\", \"40-44 \\u00e5r\", \"45-49 \\u00e5r\", \"50-54 \\u00e5r\", \"55-59 \\u00e5r\", \"60-64 \\u00e5r\", \"65-66 \\u00e5r\", \"67 \\u00e5r\", \"68 \\u00e5r\", \"69 \\u00e5r\"], \"xaxis\": \"x\", \"y\": [3.1, 6.4, 7.8, 8.5, 8.1, 7.6, 7.9, 8.5, 9.3, 11.3, 11.5, 5.1, 2.7, 3.8], \"yaxis\": \"y\", \"type\": \"scatter\"}], \"name\": \"2001K4\"}, {\"data\": [{\"hoverlabel\": {\"namelength\": 0}, \"hovertemplate\": \"kj\\u00f8nn=Menn<br>kvartal=2002K1<br>alder=%{x}<br>value=%{y}\", \"legendgroup\": \"kj\\u00f8nn=Menn\", \"marker\": {\"color\": \"#636efa\", \"symbol\": \"circle\"}, \"mode\": \"markers\", \"name\": \"kj\\u00f8nn=Menn\", \"showlegend\": true, \"x\": [\"16-19 \\u00e5r\", \"20-24 \\u00e5r\", \"25-29 \\u00e5r\", \"30-34 \\u00e5r\", \"35-39 \\u00e5r\", \"40-44 \\u00e5r\", \"45-49 \\u00e5r\", \"50-54 \\u00e5r\", \"55-59 \\u00e5r\", \"60-64 \\u00e5r\", \"65-66 \\u00e5r\", \"67 \\u00e5r\", \"68 \\u00e5r\", \"69 \\u00e5r\"], \"xaxis\": \"x\", \"y\": [3.2, 4.8, 4.6, 4.9, 5.1, 5.2, 5.2, 5.8, 6.7, 9.0, 9.8, 5.0, 2.5, 2.7], \"yaxis\": \"y\", \"type\": \"scatter\"}, {\"hoverlabel\": {\"namelength\": 0}, \"hovertemplate\": \"kj\\u00f8nn=Kvinner<br>kvartal=2002K1<br>alder=%{x}<br>value=%{y}\", \"legendgroup\": \"kj\\u00f8nn=Kvinner\", \"marker\": {\"color\": \"#EF553B\", \"symbol\": \"circle\"}, \"mode\": \"markers\", \"name\": \"kj\\u00f8nn=Kvinner\", \"showlegend\": true, \"x\": [\"16-19 \\u00e5r\", \"20-24 \\u00e5r\", \"25-29 \\u00e5r\", \"30-34 \\u00e5r\", \"35-39 \\u00e5r\", \"40-44 \\u00e5r\", \"45-49 \\u00e5r\", \"50-54 \\u00e5r\", \"55-59 \\u00e5r\", \"60-64 \\u00e5r\", \"65-66 \\u00e5r\", \"67 \\u00e5r\", \"68 \\u00e5r\", \"69 \\u00e5r\"], \"xaxis\": \"x\", \"y\": [3.3, 6.7, 8.2, 9.0, 8.4, 7.9, 8.2, 8.9, 9.8, 11.7, 12.3, 5.3, 3.7, 3.6], \"yaxis\": \"y\", \"type\": \"scatter\"}], \"name\": \"2002K1\"}, {\"data\": [{\"hoverlabel\": {\"namelength\": 0}, \"hovertemplate\": \"kj\\u00f8nn=Menn<br>kvartal=2002K2<br>alder=%{x}<br>value=%{y}\", \"legendgroup\": \"kj\\u00f8nn=Menn\", \"marker\": {\"color\": \"#636efa\", \"symbol\": \"circle\"}, \"mode\": \"markers\", \"name\": \"kj\\u00f8nn=Menn\", \"showlegend\": true, \"x\": [\"16-19 \\u00e5r\", \"20-24 \\u00e5r\", \"25-29 \\u00e5r\", \"30-34 \\u00e5r\", \"35-39 \\u00e5r\", \"40-44 \\u00e5r\", \"45-49 \\u00e5r\", \"50-54 \\u00e5r\", \"55-59 \\u00e5r\", \"60-64 \\u00e5r\", \"65-66 \\u00e5r\", \"67 \\u00e5r\", \"68 \\u00e5r\", \"69 \\u00e5r\"], \"xaxis\": \"x\", \"y\": [3.0, 4.5, 4.3, 4.5, 4.8, 4.9, 5.0, 5.5, 6.4, 8.6, 9.2, 4.2, 2.5, 2.1], \"yaxis\": \"y\", \"type\": \"scatter\"}, {\"hoverlabel\": {\"namelength\": 0}, \"hovertemplate\": \"kj\\u00f8nn=Kvinner<br>kvartal=2002K2<br>alder=%{x}<br>value=%{y}\", \"legendgroup\": \"kj\\u00f8nn=Kvinner\", \"marker\": {\"color\": \"#EF553B\", \"symbol\": \"circle\"}, \"mode\": \"markers\", \"name\": \"kj\\u00f8nn=Kvinner\", \"showlegend\": true, \"x\": [\"16-19 \\u00e5r\", \"20-24 \\u00e5r\", \"25-29 \\u00e5r\", \"30-34 \\u00e5r\", \"35-39 \\u00e5r\", \"40-44 \\u00e5r\", \"45-49 \\u00e5r\", \"50-54 \\u00e5r\", \"55-59 \\u00e5r\", \"60-64 \\u00e5r\", \"65-66 \\u00e5r\", \"67 \\u00e5r\", \"68 \\u00e5r\", \"69 \\u00e5r\"], \"xaxis\": \"x\", \"y\": [3.0, 6.2, 7.6, 8.3, 8.0, 7.5, 7.7, 8.2, 9.2, 11.1, 11.2, 5.1, 2.5, 3.0], \"yaxis\": \"y\", \"type\": \"scatter\"}], \"name\": \"2002K2\"}, {\"data\": [{\"hoverlabel\": {\"namelength\": 0}, \"hovertemplate\": \"kj\\u00f8nn=Menn<br>kvartal=2002K3<br>alder=%{x}<br>value=%{y}\", \"legendgroup\": \"kj\\u00f8nn=Menn\", \"marker\": {\"color\": \"#636efa\", \"symbol\": \"circle\"}, \"mode\": \"markers\", \"name\": \"kj\\u00f8nn=Menn\", \"showlegend\": true, \"x\": [\"16-19 \\u00e5r\", \"20-24 \\u00e5r\", \"25-29 \\u00e5r\", \"30-34 \\u00e5r\", \"35-39 \\u00e5r\", \"40-44 \\u00e5r\", \"45-49 \\u00e5r\", \"50-54 \\u00e5r\", \"55-59 \\u00e5r\", \"60-64 \\u00e5r\", \"65-66 \\u00e5r\", \"67 \\u00e5r\", \"68 \\u00e5r\", \"69 \\u00e5r\"], \"xaxis\": \"x\", \"y\": [2.5, 4.3, 4.2, 4.4, 4.6, 4.6, 4.7, 5.1, 6.0, 8.0, 8.5, 4.5, 2.0, 2.0], \"yaxis\": \"y\", \"type\": \"scatter\"}, {\"hoverlabel\": {\"namelength\": 0}, \"hovertemplate\": \"kj\\u00f8nn=Kvinner<br>kvartal=2002K3<br>alder=%{x}<br>value=%{y}\", \"legendgroup\": \"kj\\u00f8nn=Kvinner\", \"marker\": {\"color\": \"#EF553B\", \"symbol\": \"circle\"}, \"mode\": \"markers\", \"name\": \"kj\\u00f8nn=Kvinner\", \"showlegend\": true, \"x\": [\"16-19 \\u00e5r\", \"20-24 \\u00e5r\", \"25-29 \\u00e5r\", \"30-34 \\u00e5r\", \"35-39 \\u00e5r\", \"40-44 \\u00e5r\", \"45-49 \\u00e5r\", \"50-54 \\u00e5r\", \"55-59 \\u00e5r\", \"60-64 \\u00e5r\", \"65-66 \\u00e5r\", \"67 \\u00e5r\", \"68 \\u00e5r\", \"69 \\u00e5r\"], \"xaxis\": \"x\", \"y\": [2.4, 5.6, 7.0, 7.5, 7.0, 6.5, 6.7, 7.1, 8.1, 10.1, 10.5, 4.6, 2.2, 2.5], \"yaxis\": \"y\", \"type\": \"scatter\"}], \"name\": \"2002K3\"}, {\"data\": [{\"hoverlabel\": {\"namelength\": 0}, \"hovertemplate\": \"kj\\u00f8nn=Menn<br>kvartal=2002K4<br>alder=%{x}<br>value=%{y}\", \"legendgroup\": \"kj\\u00f8nn=Menn\", \"marker\": {\"color\": \"#636efa\", \"symbol\": \"circle\"}, \"mode\": \"markers\", \"name\": \"kj\\u00f8nn=Menn\", \"showlegend\": true, \"x\": [\"16-19 \\u00e5r\", \"20-24 \\u00e5r\", \"25-29 \\u00e5r\", \"30-34 \\u00e5r\", \"35-39 \\u00e5r\", \"40-44 \\u00e5r\", \"45-49 \\u00e5r\", \"50-54 \\u00e5r\", \"55-59 \\u00e5r\", \"60-64 \\u00e5r\", \"65-66 \\u00e5r\", \"67 \\u00e5r\", \"68 \\u00e5r\", \"69 \\u00e5r\"], \"xaxis\": \"x\", \"y\": [2.9, 4.9, 4.8, 5.0, 5.4, 5.4, 5.4, 5.8, 6.8, 8.7, 8.9, 4.0, 2.0, 2.9], \"yaxis\": \"y\", \"type\": \"scatter\"}, {\"hoverlabel\": {\"namelength\": 0}, \"hovertemplate\": \"kj\\u00f8nn=Kvinner<br>kvartal=2002K4<br>alder=%{x}<br>value=%{y}\", \"legendgroup\": \"kj\\u00f8nn=Kvinner\", \"marker\": {\"color\": \"#EF553B\", \"symbol\": \"circle\"}, \"mode\": \"markers\", \"name\": \"kj\\u00f8nn=Kvinner\", \"showlegend\": true, \"x\": [\"16-19 \\u00e5r\", \"20-24 \\u00e5r\", \"25-29 \\u00e5r\", \"30-34 \\u00e5r\", \"35-39 \\u00e5r\", \"40-44 \\u00e5r\", \"45-49 \\u00e5r\", \"50-54 \\u00e5r\", \"55-59 \\u00e5r\", \"60-64 \\u00e5r\", \"65-66 \\u00e5r\", \"67 \\u00e5r\", \"68 \\u00e5r\", \"69 \\u00e5r\"], \"xaxis\": \"x\", \"y\": [3.0, 6.8, 8.4, 9.0, 8.5, 7.9, 8.1, 8.6, 9.4, 11.2, 10.9, 4.7, 2.5, 2.1], \"yaxis\": \"y\", \"type\": \"scatter\"}], \"name\": \"2002K4\"}, {\"data\": [{\"hoverlabel\": {\"namelength\": 0}, \"hovertemplate\": \"kj\\u00f8nn=Menn<br>kvartal=2003K1<br>alder=%{x}<br>value=%{y}\", \"legendgroup\": \"kj\\u00f8nn=Menn\", \"marker\": {\"color\": \"#636efa\", \"symbol\": \"circle\"}, \"mode\": \"markers\", \"name\": \"kj\\u00f8nn=Menn\", \"showlegend\": true, \"x\": [\"16-19 \\u00e5r\", \"20-24 \\u00e5r\", \"25-29 \\u00e5r\", \"30-34 \\u00e5r\", \"35-39 \\u00e5r\", \"40-44 \\u00e5r\", \"45-49 \\u00e5r\", \"50-54 \\u00e5r\", \"55-59 \\u00e5r\", \"60-64 \\u00e5r\", \"65-66 \\u00e5r\", \"67 \\u00e5r\", \"68 \\u00e5r\", \"69 \\u00e5r\"], \"xaxis\": \"x\", \"y\": [3.1, 5.1, 4.9, 5.2, 5.6, 5.6, 5.7, 6.1, 7.0, 9.0, 9.1, 4.6, 2.3, 2.3], \"yaxis\": \"y\", \"type\": \"scatter\"}, {\"hoverlabel\": {\"namelength\": 0}, \"hovertemplate\": \"kj\\u00f8nn=Kvinner<br>kvartal=2003K1<br>alder=%{x}<br>value=%{y}\", \"legendgroup\": \"kj\\u00f8nn=Kvinner\", \"marker\": {\"color\": \"#EF553B\", \"symbol\": \"circle\"}, \"mode\": \"markers\", \"name\": \"kj\\u00f8nn=Kvinner\", \"showlegend\": true, \"x\": [\"16-19 \\u00e5r\", \"20-24 \\u00e5r\", \"25-29 \\u00e5r\", \"30-34 \\u00e5r\", \"35-39 \\u00e5r\", \"40-44 \\u00e5r\", \"45-49 \\u00e5r\", \"50-54 \\u00e5r\", \"55-59 \\u00e5r\", \"60-64 \\u00e5r\", \"65-66 \\u00e5r\", \"67 \\u00e5r\", \"68 \\u00e5r\", \"69 \\u00e5r\"], \"xaxis\": \"x\", \"y\": [3.2, 7.1, 8.7, 9.5, 8.7, 8.4, 8.5, 9.0, 9.7, 11.7, 11.6, 5.7, 2.9, 3.4], \"yaxis\": \"y\", \"type\": \"scatter\"}], \"name\": \"2003K1\"}, {\"data\": [{\"hoverlabel\": {\"namelength\": 0}, \"hovertemplate\": \"kj\\u00f8nn=Menn<br>kvartal=2003K2<br>alder=%{x}<br>value=%{y}\", \"legendgroup\": \"kj\\u00f8nn=Menn\", \"marker\": {\"color\": \"#636efa\", \"symbol\": \"circle\"}, \"mode\": \"markers\", \"name\": \"kj\\u00f8nn=Menn\", \"showlegend\": true, \"x\": [\"16-19 \\u00e5r\", \"20-24 \\u00e5r\", \"25-29 \\u00e5r\", \"30-34 \\u00e5r\", \"35-39 \\u00e5r\", \"40-44 \\u00e5r\", \"45-49 \\u00e5r\", \"50-54 \\u00e5r\", \"55-59 \\u00e5r\", \"60-64 \\u00e5r\", \"65-66 \\u00e5r\", \"67 \\u00e5r\", \"68 \\u00e5r\", \"69 \\u00e5r\"], \"xaxis\": \"x\", \"y\": [2.9, 4.7, 4.6, 4.8, 5.3, 5.3, 5.5, 5.8, 6.8, 8.7, 9.1, 4.9, 1.8, 1.9], \"yaxis\": \"y\", \"type\": \"scatter\"}, {\"hoverlabel\": {\"namelength\": 0}, \"hovertemplate\": \"kj\\u00f8nn=Kvinner<br>kvartal=2003K2<br>alder=%{x}<br>value=%{y}\", \"legendgroup\": \"kj\\u00f8nn=Kvinner\", \"marker\": {\"color\": \"#EF553B\", \"symbol\": \"circle\"}, \"mode\": \"markers\", \"name\": \"kj\\u00f8nn=Kvinner\", \"showlegend\": true, \"x\": [\"16-19 \\u00e5r\", \"20-24 \\u00e5r\", \"25-29 \\u00e5r\", \"30-34 \\u00e5r\", \"35-39 \\u00e5r\", \"40-44 \\u00e5r\", \"45-49 \\u00e5r\", \"50-54 \\u00e5r\", \"55-59 \\u00e5r\", \"60-64 \\u00e5r\", \"65-66 \\u00e5r\", \"67 \\u00e5r\", \"68 \\u00e5r\", \"69 \\u00e5r\"], \"xaxis\": \"x\", \"y\": [2.9, 6.7, 8.4, 9.1, 8.6, 8.1, 8.1, 8.6, 9.4, 11.4, 11.8, 5.9, 2.6, 3.9], \"yaxis\": \"y\", \"type\": \"scatter\"}], \"name\": \"2003K2\"}, {\"data\": [{\"hoverlabel\": {\"namelength\": 0}, \"hovertemplate\": \"kj\\u00f8nn=Menn<br>kvartal=2003K3<br>alder=%{x}<br>value=%{y}\", \"legendgroup\": \"kj\\u00f8nn=Menn\", \"marker\": {\"color\": \"#636efa\", \"symbol\": \"circle\"}, \"mode\": \"markers\", \"name\": \"kj\\u00f8nn=Menn\", \"showlegend\": true, \"x\": [\"16-19 \\u00e5r\", \"20-24 \\u00e5r\", \"25-29 \\u00e5r\", \"30-34 \\u00e5r\", \"35-39 \\u00e5r\", \"40-44 \\u00e5r\", \"45-49 \\u00e5r\", \"50-54 \\u00e5r\", \"55-59 \\u00e5r\", \"60-64 \\u00e5r\", \"65-66 \\u00e5r\", \"67 \\u00e5r\", \"68 \\u00e5r\", \"69 \\u00e5r\"], \"xaxis\": \"x\", \"y\": [2.5, 4.3, 4.4, 4.6, 4.9, 4.9, 5.0, 5.6, 6.5, 8.1, 8.8, 4.4, 2.0, 1.7], \"yaxis\": \"y\", \"type\": \"scatter\"}, {\"hoverlabel\": {\"namelength\": 0}, \"hovertemplate\": \"kj\\u00f8nn=Kvinner<br>kvartal=2003K3<br>alder=%{x}<br>value=%{y}\", \"legendgroup\": \"kj\\u00f8nn=Kvinner\", \"marker\": {\"color\": \"#EF553B\", \"symbol\": \"circle\"}, \"mode\": \"markers\", \"name\": \"kj\\u00f8nn=Kvinner\", \"showlegend\": true, \"x\": [\"16-19 \\u00e5r\", \"20-24 \\u00e5r\", \"25-29 \\u00e5r\", \"30-34 \\u00e5r\", \"35-39 \\u00e5r\", \"40-44 \\u00e5r\", \"45-49 \\u00e5r\", \"50-54 \\u00e5r\", \"55-59 \\u00e5r\", \"60-64 \\u00e5r\", \"65-66 \\u00e5r\", \"67 \\u00e5r\", \"68 \\u00e5r\", \"69 \\u00e5r\"], \"xaxis\": \"x\", \"y\": [2.5, 5.7, 7.5, 7.9, 7.3, 6.8, 7.1, 7.5, 8.4, 10.4, 11.8, 5.5, 2.7, 2.9], \"yaxis\": \"y\", \"type\": \"scatter\"}], \"name\": \"2003K3\"}, {\"data\": [{\"hoverlabel\": {\"namelength\": 0}, \"hovertemplate\": \"kj\\u00f8nn=Menn<br>kvartal=2003K4<br>alder=%{x}<br>value=%{y}\", \"legendgroup\": \"kj\\u00f8nn=Menn\", \"marker\": {\"color\": \"#636efa\", \"symbol\": \"circle\"}, \"mode\": \"markers\", \"name\": \"kj\\u00f8nn=Menn\", \"showlegend\": true, \"x\": [\"16-19 \\u00e5r\", \"20-24 \\u00e5r\", \"25-29 \\u00e5r\", \"30-34 \\u00e5r\", \"35-39 \\u00e5r\", \"40-44 \\u00e5r\", \"45-49 \\u00e5r\", \"50-54 \\u00e5r\", \"55-59 \\u00e5r\", \"60-64 \\u00e5r\", \"65-66 \\u00e5r\", \"67 \\u00e5r\", \"68 \\u00e5r\", \"69 \\u00e5r\"], \"xaxis\": \"x\", \"y\": [2.9, 5.0, 5.0, 5.3, 5.6, 5.7, 5.7, 6.3, 7.2, 9.0, 9.6, 4.6, 1.9, 1.8], \"yaxis\": \"y\", \"type\": \"scatter\"}, {\"hoverlabel\": {\"namelength\": 0}, \"hovertemplate\": \"kj\\u00f8nn=Kvinner<br>kvartal=2003K4<br>alder=%{x}<br>value=%{y}\", \"legendgroup\": \"kj\\u00f8nn=Kvinner\", \"marker\": {\"color\": \"#EF553B\", \"symbol\": \"circle\"}, \"mode\": \"markers\", \"name\": \"kj\\u00f8nn=Kvinner\", \"showlegend\": true, \"x\": [\"16-19 \\u00e5r\", \"20-24 \\u00e5r\", \"25-29 \\u00e5r\", \"30-34 \\u00e5r\", \"35-39 \\u00e5r\", \"40-44 \\u00e5r\", \"45-49 \\u00e5r\", \"50-54 \\u00e5r\", \"55-59 \\u00e5r\", \"60-64 \\u00e5r\", \"65-66 \\u00e5r\", \"67 \\u00e5r\", \"68 \\u00e5r\", \"69 \\u00e5r\"], \"xaxis\": \"x\", \"y\": [3.1, 6.8, 8.9, 9.6, 9.0, 8.5, 8.6, 8.9, 9.9, 11.9, 12.8, 5.4, 3.4, 3.4], \"yaxis\": \"y\", \"type\": \"scatter\"}], \"name\": \"2003K4\"}, {\"data\": [{\"hoverlabel\": {\"namelength\": 0}, \"hovertemplate\": \"kj\\u00f8nn=Menn<br>kvartal=2004K1<br>alder=%{x}<br>value=%{y}\", \"legendgroup\": \"kj\\u00f8nn=Menn\", \"marker\": {\"color\": \"#636efa\", \"symbol\": \"circle\"}, \"mode\": \"markers\", \"name\": \"kj\\u00f8nn=Menn\", \"showlegend\": true, \"x\": [\"16-19 \\u00e5r\", \"20-24 \\u00e5r\", \"25-29 \\u00e5r\", \"30-34 \\u00e5r\", \"35-39 \\u00e5r\", \"40-44 \\u00e5r\", \"45-49 \\u00e5r\", \"50-54 \\u00e5r\", \"55-59 \\u00e5r\", \"60-64 \\u00e5r\", \"65-66 \\u00e5r\", \"67 \\u00e5r\", \"68 \\u00e5r\", \"69 \\u00e5r\"], \"xaxis\": \"x\", \"y\": [3.0, 4.6, 4.8, 5.0, 5.4, 5.4, 5.5, 6.1, 7.0, 8.9, 9.9, 5.2, 2.5, 2.0], \"yaxis\": \"y\", \"type\": \"scatter\"}, {\"hoverlabel\": {\"namelength\": 0}, \"hovertemplate\": \"kj\\u00f8nn=Kvinner<br>kvartal=2004K1<br>alder=%{x}<br>value=%{y}\", \"legendgroup\": \"kj\\u00f8nn=Kvinner\", \"marker\": {\"color\": \"#EF553B\", \"symbol\": \"circle\"}, \"mode\": \"markers\", \"name\": \"kj\\u00f8nn=Kvinner\", \"showlegend\": true, \"x\": [\"16-19 \\u00e5r\", \"20-24 \\u00e5r\", \"25-29 \\u00e5r\", \"30-34 \\u00e5r\", \"35-39 \\u00e5r\", \"40-44 \\u00e5r\", \"45-49 \\u00e5r\", \"50-54 \\u00e5r\", \"55-59 \\u00e5r\", \"60-64 \\u00e5r\", \"65-66 \\u00e5r\", \"67 \\u00e5r\", \"68 \\u00e5r\", \"69 \\u00e5r\"], \"xaxis\": \"x\", \"y\": [3.0, 6.7, 8.6, 9.3, 8.6, 8.1, 8.4, 8.8, 9.8, 12.0, 13.1, 5.9, 3.1, 3.9], \"yaxis\": \"y\", \"type\": \"scatter\"}], \"name\": \"2004K1\"}, {\"data\": [{\"hoverlabel\": {\"namelength\": 0}, \"hovertemplate\": \"kj\\u00f8nn=Menn<br>kvartal=2004K2<br>alder=%{x}<br>value=%{y}\", \"legendgroup\": \"kj\\u00f8nn=Menn\", \"marker\": {\"color\": \"#636efa\", \"symbol\": \"circle\"}, \"mode\": \"markers\", \"name\": \"kj\\u00f8nn=Menn\", \"showlegend\": true, \"x\": [\"16-19 \\u00e5r\", \"20-24 \\u00e5r\", \"25-29 \\u00e5r\", \"30-34 \\u00e5r\", \"35-39 \\u00e5r\", \"40-44 \\u00e5r\", \"45-49 \\u00e5r\", \"50-54 \\u00e5r\", \"55-59 \\u00e5r\", \"60-64 \\u00e5r\", \"65-66 \\u00e5r\", \"67 \\u00e5r\", \"68 \\u00e5r\", \"69 \\u00e5r\"], \"xaxis\": \"x\", \"y\": [2.5, 3.9, 4.1, 4.2, 4.6, 4.8, 4.8, 5.3, 6.2, 7.8, 8.7, 4.2, 1.6, 2.2], \"yaxis\": \"y\", \"type\": \"scatter\"}, {\"hoverlabel\": {\"namelength\": 0}, \"hovertemplate\": \"kj\\u00f8nn=Kvinner<br>kvartal=2004K2<br>alder=%{x}<br>value=%{y}\", \"legendgroup\": \"kj\\u00f8nn=Kvinner\", \"marker\": {\"color\": \"#EF553B\", \"symbol\": \"circle\"}, \"mode\": \"markers\", \"name\": \"kj\\u00f8nn=Kvinner\", \"showlegend\": true, \"x\": [\"16-19 \\u00e5r\", \"20-24 \\u00e5r\", \"25-29 \\u00e5r\", \"30-34 \\u00e5r\", \"35-39 \\u00e5r\", \"40-44 \\u00e5r\", \"45-49 \\u00e5r\", \"50-54 \\u00e5r\", \"55-59 \\u00e5r\", \"60-64 \\u00e5r\", \"65-66 \\u00e5r\", \"67 \\u00e5r\", \"68 \\u00e5r\", \"69 \\u00e5r\"], \"xaxis\": \"x\", \"y\": [2.7, 5.9, 7.7, 8.3, 7.8, 7.4, 7.5, 7.9, 8.7, 10.8, 11.6, 5.8, 3.4, 2.2], \"yaxis\": \"y\", \"type\": \"scatter\"}], \"name\": \"2004K2\"}, {\"data\": [{\"hoverlabel\": {\"namelength\": 0}, \"hovertemplate\": \"kj\\u00f8nn=Menn<br>kvartal=2004K3<br>alder=%{x}<br>value=%{y}\", \"legendgroup\": \"kj\\u00f8nn=Menn\", \"marker\": {\"color\": \"#636efa\", \"symbol\": \"circle\"}, \"mode\": \"markers\", \"name\": \"kj\\u00f8nn=Menn\", \"showlegend\": true, \"x\": [\"16-19 \\u00e5r\", \"20-24 \\u00e5r\", \"25-29 \\u00e5r\", \"30-34 \\u00e5r\", \"35-39 \\u00e5r\", \"40-44 \\u00e5r\", \"45-49 \\u00e5r\", \"50-54 \\u00e5r\", \"55-59 \\u00e5r\", \"60-64 \\u00e5r\", \"65-66 \\u00e5r\", \"67 \\u00e5r\", \"68 \\u00e5r\", \"69 \\u00e5r\"], \"xaxis\": \"x\", \"y\": [1.8, 3.2, 3.2, 3.3, 3.6, 3.7, 3.7, 4.1, 4.9, 6.4, 7.3, 3.0, 1.4, 1.2], \"yaxis\": \"y\", \"type\": \"scatter\"}, {\"hoverlabel\": {\"namelength\": 0}, \"hovertemplate\": \"kj\\u00f8nn=Kvinner<br>kvartal=2004K3<br>alder=%{x}<br>value=%{y}\", \"legendgroup\": \"kj\\u00f8nn=Kvinner\", \"marker\": {\"color\": \"#EF553B\", \"symbol\": \"circle\"}, \"mode\": \"markers\", \"name\": \"kj\\u00f8nn=Kvinner\", \"showlegend\": true, \"x\": [\"16-19 \\u00e5r\", \"20-24 \\u00e5r\", \"25-29 \\u00e5r\", \"30-34 \\u00e5r\", \"35-39 \\u00e5r\", \"40-44 \\u00e5r\", \"45-49 \\u00e5r\", \"50-54 \\u00e5r\", \"55-59 \\u00e5r\", \"60-64 \\u00e5r\", \"65-66 \\u00e5r\", \"67 \\u00e5r\", \"68 \\u00e5r\", \"69 \\u00e5r\"], \"xaxis\": \"x\", \"y\": [1.8, 4.3, 5.8, 6.1, 5.6, 5.2, 5.3, 5.8, 6.4, 8.6, 9.6, 4.4, 2.1, 2.1], \"yaxis\": \"y\", \"type\": \"scatter\"}], \"name\": \"2004K3\"}, {\"data\": [{\"hoverlabel\": {\"namelength\": 0}, \"hovertemplate\": \"kj\\u00f8nn=Menn<br>kvartal=2004K4<br>alder=%{x}<br>value=%{y}\", \"legendgroup\": \"kj\\u00f8nn=Menn\", \"marker\": {\"color\": \"#636efa\", \"symbol\": \"circle\"}, \"mode\": \"markers\", \"name\": \"kj\\u00f8nn=Menn\", \"showlegend\": true, \"x\": [\"16-19 \\u00e5r\", \"20-24 \\u00e5r\", \"25-29 \\u00e5r\", \"30-34 \\u00e5r\", \"35-39 \\u00e5r\", \"40-44 \\u00e5r\", \"45-49 \\u00e5r\", \"50-54 \\u00e5r\", \"55-59 \\u00e5r\", \"60-64 \\u00e5r\", \"65-66 \\u00e5r\", \"67 \\u00e5r\", \"68 \\u00e5r\", \"69 \\u00e5r\"], \"xaxis\": \"x\", \"y\": [2.2, 3.5, 3.5, 3.8, 4.0, 4.0, 4.1, 4.5, 5.3, 6.5, 7.6, 2.9, 1.8, 1.5], \"yaxis\": \"y\", \"type\": \"scatter\"}, {\"hoverlabel\": {\"namelength\": 0}, \"hovertemplate\": \"kj\\u00f8nn=Kvinner<br>kvartal=2004K4<br>alder=%{x}<br>value=%{y}\", \"legendgroup\": \"kj\\u00f8nn=Kvinner\", \"marker\": {\"color\": \"#EF553B\", \"symbol\": \"circle\"}, \"mode\": \"markers\", \"name\": \"kj\\u00f8nn=Kvinner\", \"showlegend\": true, \"x\": [\"16-19 \\u00e5r\", \"20-24 \\u00e5r\", \"25-29 \\u00e5r\", \"30-34 \\u00e5r\", \"35-39 \\u00e5r\", \"40-44 \\u00e5r\", \"45-49 \\u00e5r\", \"50-54 \\u00e5r\", \"55-59 \\u00e5r\", \"60-64 \\u00e5r\", \"65-66 \\u00e5r\", \"67 \\u00e5r\", \"68 \\u00e5r\", \"69 \\u00e5r\"], \"xaxis\": \"x\", \"y\": [2.2, 5.0, 6.9, 7.2, 6.5, 6.1, 6.2, 6.7, 7.2, 9.1, 10.1, 4.4, 1.7, 2.2], \"yaxis\": \"y\", \"type\": \"scatter\"}], \"name\": \"2004K4\"}, {\"data\": [{\"hoverlabel\": {\"namelength\": 0}, \"hovertemplate\": \"kj\\u00f8nn=Menn<br>kvartal=2005K1<br>alder=%{x}<br>value=%{y}\", \"legendgroup\": \"kj\\u00f8nn=Menn\", \"marker\": {\"color\": \"#636efa\", \"symbol\": \"circle\"}, \"mode\": \"markers\", \"name\": \"kj\\u00f8nn=Menn\", \"showlegend\": true, \"x\": [\"16-19 \\u00e5r\", \"20-24 \\u00e5r\", \"25-29 \\u00e5r\", \"30-34 \\u00e5r\", \"35-39 \\u00e5r\", \"40-44 \\u00e5r\", \"45-49 \\u00e5r\", \"50-54 \\u00e5r\", \"55-59 \\u00e5r\", \"60-64 \\u00e5r\", \"65-66 \\u00e5r\", \"67 \\u00e5r\", \"68 \\u00e5r\", \"69 \\u00e5r\"], \"xaxis\": \"x\", \"y\": [2.4, 3.9, 3.8, 4.0, 4.3, 4.3, 4.4, 4.7, 5.6, 6.9, 7.7, 3.6, 1.5, 1.6], \"yaxis\": \"y\", \"type\": \"scatter\"}, {\"hoverlabel\": {\"namelength\": 0}, \"hovertemplate\": \"kj\\u00f8nn=Kvinner<br>kvartal=2005K1<br>alder=%{x}<br>value=%{y}\", \"legendgroup\": \"kj\\u00f8nn=Kvinner\", \"marker\": {\"color\": \"#EF553B\", \"symbol\": \"circle\"}, \"mode\": \"markers\", \"name\": \"kj\\u00f8nn=Kvinner\", \"showlegend\": true, \"x\": [\"16-19 \\u00e5r\", \"20-24 \\u00e5r\", \"25-29 \\u00e5r\", \"30-34 \\u00e5r\", \"35-39 \\u00e5r\", \"40-44 \\u00e5r\", \"45-49 \\u00e5r\", \"50-54 \\u00e5r\", \"55-59 \\u00e5r\", \"60-64 \\u00e5r\", \"65-66 \\u00e5r\", \"67 \\u00e5r\", \"68 \\u00e5r\", \"69 \\u00e5r\"], \"xaxis\": \"x\", \"y\": [2.5, 5.3, 7.4, 7.8, 7.0, 6.4, 6.6, 7.2, 7.7, 9.5, 11.1, 4.9, 3.1, 2.7], \"yaxis\": \"y\", \"type\": \"scatter\"}], \"name\": \"2005K1\"}, {\"data\": [{\"hoverlabel\": {\"namelength\": 0}, \"hovertemplate\": \"kj\\u00f8nn=Menn<br>kvartal=2005K2<br>alder=%{x}<br>value=%{y}\", \"legendgroup\": \"kj\\u00f8nn=Menn\", \"marker\": {\"color\": \"#636efa\", \"symbol\": \"circle\"}, \"mode\": \"markers\", \"name\": \"kj\\u00f8nn=Menn\", \"showlegend\": true, \"x\": [\"16-19 \\u00e5r\", \"20-24 \\u00e5r\", \"25-29 \\u00e5r\", \"30-34 \\u00e5r\", \"35-39 \\u00e5r\", \"40-44 \\u00e5r\", \"45-49 \\u00e5r\", \"50-54 \\u00e5r\", \"55-59 \\u00e5r\", \"60-64 \\u00e5r\", \"65-66 \\u00e5r\", \"67 \\u00e5r\", \"68 \\u00e5r\", \"69 \\u00e5r\"], \"xaxis\": \"x\", \"y\": [2.2, 3.5, 3.3, 3.5, 3.8, 4.0, 4.2, 4.5, 5.4, 6.6, 7.7, 3.0, 1.6, 1.0], \"yaxis\": \"y\", \"type\": \"scatter\"}, {\"hoverlabel\": {\"namelength\": 0}, \"hovertemplate\": \"kj\\u00f8nn=Kvinner<br>kvartal=2005K2<br>alder=%{x}<br>value=%{y}\", \"legendgroup\": \"kj\\u00f8nn=Kvinner\", \"marker\": {\"color\": \"#EF553B\", \"symbol\": \"circle\"}, \"mode\": \"markers\", \"name\": \"kj\\u00f8nn=Kvinner\", \"showlegend\": true, \"x\": [\"16-19 \\u00e5r\", \"20-24 \\u00e5r\", \"25-29 \\u00e5r\", \"30-34 \\u00e5r\", \"35-39 \\u00e5r\", \"40-44 \\u00e5r\", \"45-49 \\u00e5r\", \"50-54 \\u00e5r\", \"55-59 \\u00e5r\", \"60-64 \\u00e5r\", \"65-66 \\u00e5r\", \"67 \\u00e5r\", \"68 \\u00e5r\", \"69 \\u00e5r\"], \"xaxis\": \"x\", \"y\": [2.3, 5.0, 6.8, 7.3, 6.7, 6.2, 6.4, 7.0, 7.4, 9.0, 10.1, 4.7, 1.8, 2.5], \"yaxis\": \"y\", \"type\": \"scatter\"}], \"name\": \"2005K2\"}, {\"data\": [{\"hoverlabel\": {\"namelength\": 0}, \"hovertemplate\": \"kj\\u00f8nn=Menn<br>kvartal=2005K3<br>alder=%{x}<br>value=%{y}\", \"legendgroup\": \"kj\\u00f8nn=Menn\", \"marker\": {\"color\": \"#636efa\", \"symbol\": \"circle\"}, \"mode\": \"markers\", \"name\": \"kj\\u00f8nn=Menn\", \"showlegend\": true, \"x\": [\"16-19 \\u00e5r\", \"20-24 \\u00e5r\", \"25-29 \\u00e5r\", \"30-34 \\u00e5r\", \"35-39 \\u00e5r\", \"40-44 \\u00e5r\", \"45-49 \\u00e5r\", \"50-54 \\u00e5r\", \"55-59 \\u00e5r\", \"60-64 \\u00e5r\", \"65-66 \\u00e5r\", \"67 \\u00e5r\", \"68 \\u00e5r\", \"69 \\u00e5r\"], \"xaxis\": \"x\", \"y\": [1.7, 3.1, 3.1, 3.3, 3.6, 3.7, 3.8, 4.1, 5.0, 6.0, 7.5, 2.6, 1.4, 1.1], \"yaxis\": \"y\", \"type\": \"scatter\"}, {\"hoverlabel\": {\"namelength\": 0}, \"hovertemplate\": \"kj\\u00f8nn=Kvinner<br>kvartal=2005K3<br>alder=%{x}<br>value=%{y}\", \"legendgroup\": \"kj\\u00f8nn=Kvinner\", \"marker\": {\"color\": \"#EF553B\", \"symbol\": \"circle\"}, \"mode\": \"markers\", \"name\": \"kj\\u00f8nn=Kvinner\", \"showlegend\": true, \"x\": [\"16-19 \\u00e5r\", \"20-24 \\u00e5r\", \"25-29 \\u00e5r\", \"30-34 \\u00e5r\", \"35-39 \\u00e5r\", \"40-44 \\u00e5r\", \"45-49 \\u00e5r\", \"50-54 \\u00e5r\", \"55-59 \\u00e5r\", \"60-64 \\u00e5r\", \"65-66 \\u00e5r\", \"67 \\u00e5r\", \"68 \\u00e5r\", \"69 \\u00e5r\"], \"xaxis\": \"x\", \"y\": [1.8, 4.3, 5.9, 6.3, 5.6, 5.2, 5.4, 5.9, 6.4, 7.9, 8.6, 3.6, 1.8, 1.6], \"yaxis\": \"y\", \"type\": \"scatter\"}], \"name\": \"2005K3\"}, {\"data\": [{\"hoverlabel\": {\"namelength\": 0}, \"hovertemplate\": \"kj\\u00f8nn=Menn<br>kvartal=2005K4<br>alder=%{x}<br>value=%{y}\", \"legendgroup\": \"kj\\u00f8nn=Menn\", \"marker\": {\"color\": \"#636efa\", \"symbol\": \"circle\"}, \"mode\": \"markers\", \"name\": \"kj\\u00f8nn=Menn\", \"showlegend\": true, \"x\": [\"16-19 \\u00e5r\", \"20-24 \\u00e5r\", \"25-29 \\u00e5r\", \"30-34 \\u00e5r\", \"35-39 \\u00e5r\", \"40-44 \\u00e5r\", \"45-49 \\u00e5r\", \"50-54 \\u00e5r\", \"55-59 \\u00e5r\", \"60-64 \\u00e5r\", \"65-66 \\u00e5r\", \"67 \\u00e5r\", \"68 \\u00e5r\", \"69 \\u00e5r\"], \"xaxis\": \"x\", \"y\": [2.2, 3.5, 3.6, 3.8, 4.1, 4.2, 4.3, 4.8, 5.5, 6.7, 7.9, 3.4, 1.6, 1.3], \"yaxis\": \"y\", \"type\": \"scatter\"}, {\"hoverlabel\": {\"namelength\": 0}, \"hovertemplate\": \"kj\\u00f8nn=Kvinner<br>kvartal=2005K4<br>alder=%{x}<br>value=%{y}\", \"legendgroup\": \"kj\\u00f8nn=Kvinner\", \"marker\": {\"color\": \"#EF553B\", \"symbol\": \"circle\"}, \"mode\": \"markers\", \"name\": \"kj\\u00f8nn=Kvinner\", \"showlegend\": true, \"x\": [\"16-19 \\u00e5r\", \"20-24 \\u00e5r\", \"25-29 \\u00e5r\", \"30-34 \\u00e5r\", \"35-39 \\u00e5r\", \"40-44 \\u00e5r\", \"45-49 \\u00e5r\", \"50-54 \\u00e5r\", \"55-59 \\u00e5r\", \"60-64 \\u00e5r\", \"65-66 \\u00e5r\", \"67 \\u00e5r\", \"68 \\u00e5r\", \"69 \\u00e5r\"], \"xaxis\": \"x\", \"y\": [2.3, 5.1, 7.2, 7.9, 7.2, 6.7, 6.8, 7.3, 7.8, 9.2, 9.9, 4.0, 1.9, 1.8], \"yaxis\": \"y\", \"type\": \"scatter\"}], \"name\": \"2005K4\"}, {\"data\": [{\"hoverlabel\": {\"namelength\": 0}, \"hovertemplate\": \"kj\\u00f8nn=Menn<br>kvartal=2006K1<br>alder=%{x}<br>value=%{y}\", \"legendgroup\": \"kj\\u00f8nn=Menn\", \"marker\": {\"color\": \"#636efa\", \"symbol\": \"circle\"}, \"mode\": \"markers\", \"name\": \"kj\\u00f8nn=Menn\", \"showlegend\": true, \"x\": [\"16-19 \\u00e5r\", \"20-24 \\u00e5r\", \"25-29 \\u00e5r\", \"30-34 \\u00e5r\", \"35-39 \\u00e5r\", \"40-44 \\u00e5r\", \"45-49 \\u00e5r\", \"50-54 \\u00e5r\", \"55-59 \\u00e5r\", \"60-64 \\u00e5r\", \"65-66 \\u00e5r\", \"67 \\u00e5r\", \"68 \\u00e5r\", \"69 \\u00e5r\"], \"xaxis\": \"x\", \"y\": [2.9, 3.9, 3.9, 4.2, 4.4, 4.5, 4.6, 5.2, 5.9, 7.1, 8.3, 4.0, 1.8, 1.1], \"yaxis\": \"y\", \"type\": \"scatter\"}, {\"hoverlabel\": {\"namelength\": 0}, \"hovertemplate\": \"kj\\u00f8nn=Kvinner<br>kvartal=2006K1<br>alder=%{x}<br>value=%{y}\", \"legendgroup\": \"kj\\u00f8nn=Kvinner\", \"marker\": {\"color\": \"#EF553B\", \"symbol\": \"circle\"}, \"mode\": \"markers\", \"name\": \"kj\\u00f8nn=Kvinner\", \"showlegend\": true, \"x\": [\"16-19 \\u00e5r\", \"20-24 \\u00e5r\", \"25-29 \\u00e5r\", \"30-34 \\u00e5r\", \"35-39 \\u00e5r\", \"40-44 \\u00e5r\", \"45-49 \\u00e5r\", \"50-54 \\u00e5r\", \"55-59 \\u00e5r\", \"60-64 \\u00e5r\", \"65-66 \\u00e5r\", \"67 \\u00e5r\", \"68 \\u00e5r\", \"69 \\u00e5r\"], \"xaxis\": \"x\", \"y\": [2.9, 5.7, 7.9, 8.5, 7.7, 7.2, 7.4, 8.0, 8.6, 10.1, 10.9, 4.7, 2.3, 2.0], \"yaxis\": \"y\", \"type\": \"scatter\"}], \"name\": \"2006K1\"}, {\"data\": [{\"hoverlabel\": {\"namelength\": 0}, \"hovertemplate\": \"kj\\u00f8nn=Menn<br>kvartal=2006K2<br>alder=%{x}<br>value=%{y}\", \"legendgroup\": \"kj\\u00f8nn=Menn\", \"marker\": {\"color\": \"#636efa\", \"symbol\": \"circle\"}, \"mode\": \"markers\", \"name\": \"kj\\u00f8nn=Menn\", \"showlegend\": true, \"x\": [\"16-19 \\u00e5r\", \"20-24 \\u00e5r\", \"25-29 \\u00e5r\", \"30-34 \\u00e5r\", \"35-39 \\u00e5r\", \"40-44 \\u00e5r\", \"45-49 \\u00e5r\", \"50-54 \\u00e5r\", \"55-59 \\u00e5r\", \"60-64 \\u00e5r\", \"65-66 \\u00e5r\", \"67 \\u00e5r\", \"68 \\u00e5r\", \"69 \\u00e5r\"], \"xaxis\": \"x\", \"y\": [2.5, 3.4, 3.4, 3.6, 4.0, 4.1, 4.2, 4.7, 5.6, 6.7, 7.8, 3.8, 1.4, 1.5], \"yaxis\": \"y\", \"type\": \"scatter\"}, {\"hoverlabel\": {\"namelength\": 0}, \"hovertemplate\": \"kj\\u00f8nn=Kvinner<br>kvartal=2006K2<br>alder=%{x}<br>value=%{y}\", \"legendgroup\": \"kj\\u00f8nn=Kvinner\", \"marker\": {\"color\": \"#EF553B\", \"symbol\": \"circle\"}, \"mode\": \"markers\", \"name\": \"kj\\u00f8nn=Kvinner\", \"showlegend\": true, \"x\": [\"16-19 \\u00e5r\", \"20-24 \\u00e5r\", \"25-29 \\u00e5r\", \"30-34 \\u00e5r\", \"35-39 \\u00e5r\", \"40-44 \\u00e5r\", \"45-49 \\u00e5r\", \"50-54 \\u00e5r\", \"55-59 \\u00e5r\", \"60-64 \\u00e5r\", \"65-66 \\u00e5r\", \"67 \\u00e5r\", \"68 \\u00e5r\", \"69 \\u00e5r\"], \"xaxis\": \"x\", \"y\": [2.5, 5.3, 7.0, 7.8, 7.1, 6.6, 6.7, 7.4, 8.0, 9.3, 10.5, 4.4, 2.0, 2.1], \"yaxis\": \"y\", \"type\": \"scatter\"}], \"name\": \"2006K2\"}, {\"data\": [{\"hoverlabel\": {\"namelength\": 0}, \"hovertemplate\": \"kj\\u00f8nn=Menn<br>kvartal=2006K3<br>alder=%{x}<br>value=%{y}\", \"legendgroup\": \"kj\\u00f8nn=Menn\", \"marker\": {\"color\": \"#636efa\", \"symbol\": \"circle\"}, \"mode\": \"markers\", \"name\": \"kj\\u00f8nn=Menn\", \"showlegend\": true, \"x\": [\"16-19 \\u00e5r\", \"20-24 \\u00e5r\", \"25-29 \\u00e5r\", \"30-34 \\u00e5r\", \"35-39 \\u00e5r\", \"40-44 \\u00e5r\", \"45-49 \\u00e5r\", \"50-54 \\u00e5r\", \"55-59 \\u00e5r\", \"60-64 \\u00e5r\", \"65-66 \\u00e5r\", \"67 \\u00e5r\", \"68 \\u00e5r\", \"69 \\u00e5r\"], \"xaxis\": \"x\", \"y\": [1.9, 3.3, 3.3, 3.4, 3.6, 3.8, 3.9, 4.3, 5.1, 6.2, 7.2, 2.8, 1.0, 1.5], \"yaxis\": \"y\", \"type\": \"scatter\"}, {\"hoverlabel\": {\"namelength\": 0}, \"hovertemplate\": \"kj\\u00f8nn=Kvinner<br>kvartal=2006K3<br>alder=%{x}<br>value=%{y}\", \"legendgroup\": \"kj\\u00f8nn=Kvinner\", \"marker\": {\"color\": \"#EF553B\", \"symbol\": \"circle\"}, \"mode\": \"markers\", \"name\": \"kj\\u00f8nn=Kvinner\", \"showlegend\": true, \"x\": [\"16-19 \\u00e5r\", \"20-24 \\u00e5r\", \"25-29 \\u00e5r\", \"30-34 \\u00e5r\", \"35-39 \\u00e5r\", \"40-44 \\u00e5r\", \"45-49 \\u00e5r\", \"50-54 \\u00e5r\", \"55-59 \\u00e5r\", \"60-64 \\u00e5r\", \"65-66 \\u00e5r\", \"67 \\u00e5r\", \"68 \\u00e5r\", \"69 \\u00e5r\"], \"xaxis\": \"x\", \"y\": [2.1, 4.7, 6.2, 6.7, 6.0, 5.5, 5.6, 6.3, 6.7, 8.3, 9.9, 3.8, 2.2, 1.6], \"yaxis\": \"y\", \"type\": \"scatter\"}], \"name\": \"2006K3\"}, {\"data\": [{\"hoverlabel\": {\"namelength\": 0}, \"hovertemplate\": \"kj\\u00f8nn=Menn<br>kvartal=2006K4<br>alder=%{x}<br>value=%{y}\", \"legendgroup\": \"kj\\u00f8nn=Menn\", \"marker\": {\"color\": \"#636efa\", \"symbol\": \"circle\"}, \"mode\": \"markers\", \"name\": \"kj\\u00f8nn=Menn\", \"showlegend\": true, \"x\": [\"16-19 \\u00e5r\", \"20-24 \\u00e5r\", \"25-29 \\u00e5r\", \"30-34 \\u00e5r\", \"35-39 \\u00e5r\", \"40-44 \\u00e5r\", \"45-49 \\u00e5r\", \"50-54 \\u00e5r\", \"55-59 \\u00e5r\", \"60-64 \\u00e5r\", \"65-66 \\u00e5r\", \"67 \\u00e5r\", \"68 \\u00e5r\", \"69 \\u00e5r\"], \"xaxis\": \"x\", \"y\": [2.3, 3.6, 3.6, 3.8, 4.0, 4.2, 4.3, 4.7, 5.5, 6.6, 7.1, 3.3, 1.4, 1.4], \"yaxis\": \"y\", \"type\": \"scatter\"}, {\"hoverlabel\": {\"namelength\": 0}, \"hovertemplate\": \"kj\\u00f8nn=Kvinner<br>kvartal=2006K4<br>alder=%{x}<br>value=%{y}\", \"legendgroup\": \"kj\\u00f8nn=Kvinner\", \"marker\": {\"color\": \"#EF553B\", \"symbol\": \"circle\"}, \"mode\": \"markers\", \"name\": \"kj\\u00f8nn=Kvinner\", \"showlegend\": true, \"x\": [\"16-19 \\u00e5r\", \"20-24 \\u00e5r\", \"25-29 \\u00e5r\", \"30-34 \\u00e5r\", \"35-39 \\u00e5r\", \"40-44 \\u00e5r\", \"45-49 \\u00e5r\", \"50-54 \\u00e5r\", \"55-59 \\u00e5r\", \"60-64 \\u00e5r\", \"65-66 \\u00e5r\", \"67 \\u00e5r\", \"68 \\u00e5r\", \"69 \\u00e5r\"], \"xaxis\": \"x\", \"y\": [2.6, 5.4, 7.2, 7.9, 7.3, 6.7, 6.7, 7.3, 7.7, 9.2, 10.4, 4.4, 2.1, 1.7], \"yaxis\": \"y\", \"type\": \"scatter\"}], \"name\": \"2006K4\"}, {\"data\": [{\"hoverlabel\": {\"namelength\": 0}, \"hovertemplate\": \"kj\\u00f8nn=Menn<br>kvartal=2007K1<br>alder=%{x}<br>value=%{y}\", \"legendgroup\": \"kj\\u00f8nn=Menn\", \"marker\": {\"color\": \"#636efa\", \"symbol\": \"circle\"}, \"mode\": \"markers\", \"name\": \"kj\\u00f8nn=Menn\", \"showlegend\": true, \"x\": [\"16-19 \\u00e5r\", \"20-24 \\u00e5r\", \"25-29 \\u00e5r\", \"30-34 \\u00e5r\", \"35-39 \\u00e5r\", \"40-44 \\u00e5r\", \"45-49 \\u00e5r\", \"50-54 \\u00e5r\", \"55-59 \\u00e5r\", \"60-64 \\u00e5r\", \"65-66 \\u00e5r\", \"67 \\u00e5r\", \"68 \\u00e5r\", \"69 \\u00e5r\"], \"xaxis\": \"x\", \"y\": [2.8, 4.0, 3.9, 4.0, 4.2, 4.4, 4.5, 4.9, 5.8, 6.9, 7.3, 3.5, 1.4, 1.7], \"yaxis\": \"y\", \"type\": \"scatter\"}, {\"hoverlabel\": {\"namelength\": 0}, \"hovertemplate\": \"kj\\u00f8nn=Kvinner<br>kvartal=2007K1<br>alder=%{x}<br>value=%{y}\", \"legendgroup\": \"kj\\u00f8nn=Kvinner\", \"marker\": {\"color\": \"#EF553B\", \"symbol\": \"circle\"}, \"mode\": \"markers\", \"name\": \"kj\\u00f8nn=Kvinner\", \"showlegend\": true, \"x\": [\"16-19 \\u00e5r\", \"20-24 \\u00e5r\", \"25-29 \\u00e5r\", \"30-34 \\u00e5r\", \"35-39 \\u00e5r\", \"40-44 \\u00e5r\", \"45-49 \\u00e5r\", \"50-54 \\u00e5r\", \"55-59 \\u00e5r\", \"60-64 \\u00e5r\", \"65-66 \\u00e5r\", \"67 \\u00e5r\", \"68 \\u00e5r\", \"69 \\u00e5r\"], \"xaxis\": \"x\", \"y\": [3.0, 5.9, 7.8, 8.7, 7.6, 7.1, 7.1, 7.8, 8.2, 9.7, 10.8, 4.8, 2.4, 2.3], \"yaxis\": \"y\", \"type\": \"scatter\"}], \"name\": \"2007K1\"}, {\"data\": [{\"hoverlabel\": {\"namelength\": 0}, \"hovertemplate\": \"kj\\u00f8nn=Menn<br>kvartal=2007K2<br>alder=%{x}<br>value=%{y}\", \"legendgroup\": \"kj\\u00f8nn=Menn\", \"marker\": {\"color\": \"#636efa\", \"symbol\": \"circle\"}, \"mode\": \"markers\", \"name\": \"kj\\u00f8nn=Menn\", \"showlegend\": true, \"x\": [\"16-19 \\u00e5r\", \"20-24 \\u00e5r\", \"25-29 \\u00e5r\", \"30-34 \\u00e5r\", \"35-39 \\u00e5r\", \"40-44 \\u00e5r\", \"45-49 \\u00e5r\", \"50-54 \\u00e5r\", \"55-59 \\u00e5r\", \"60-64 \\u00e5r\", \"65-66 \\u00e5r\", \"67 \\u00e5r\", \"68 \\u00e5r\", \"69 \\u00e5r\"], \"xaxis\": \"x\", \"y\": [2.5, 3.5, 3.4, 3.5, 3.8, 4.0, 4.0, 4.5, 5.3, 6.4, 7.2, 3.4, 1.6, 1.4], \"yaxis\": \"y\", \"type\": \"scatter\"}, {\"hoverlabel\": {\"namelength\": 0}, \"hovertemplate\": \"kj\\u00f8nn=Kvinner<br>kvartal=2007K2<br>alder=%{x}<br>value=%{y}\", \"legendgroup\": \"kj\\u00f8nn=Kvinner\", \"marker\": {\"color\": \"#EF553B\", \"symbol\": \"circle\"}, \"mode\": \"markers\", \"name\": \"kj\\u00f8nn=Kvinner\", \"showlegend\": true, \"x\": [\"16-19 \\u00e5r\", \"20-24 \\u00e5r\", \"25-29 \\u00e5r\", \"30-34 \\u00e5r\", \"35-39 \\u00e5r\", \"40-44 \\u00e5r\", \"45-49 \\u00e5r\", \"50-54 \\u00e5r\", \"55-59 \\u00e5r\", \"60-64 \\u00e5r\", \"65-66 \\u00e5r\", \"67 \\u00e5r\", \"68 \\u00e5r\", \"69 \\u00e5r\"], \"xaxis\": \"x\", \"y\": [2.6, 5.4, 7.0, 7.8, 7.2, 6.6, 6.6, 7.1, 7.5, 8.8, 10.0, 4.7, 2.0, 1.7], \"yaxis\": \"y\", \"type\": \"scatter\"}], \"name\": \"2007K2\"}, {\"data\": [{\"hoverlabel\": {\"namelength\": 0}, \"hovertemplate\": \"kj\\u00f8nn=Menn<br>kvartal=2007K3<br>alder=%{x}<br>value=%{y}\", \"legendgroup\": \"kj\\u00f8nn=Menn\", \"marker\": {\"color\": \"#636efa\", \"symbol\": \"circle\"}, \"mode\": \"markers\", \"name\": \"kj\\u00f8nn=Menn\", \"showlegend\": true, \"x\": [\"16-19 \\u00e5r\", \"20-24 \\u00e5r\", \"25-29 \\u00e5r\", \"30-34 \\u00e5r\", \"35-39 \\u00e5r\", \"40-44 \\u00e5r\", \"45-49 \\u00e5r\", \"50-54 \\u00e5r\", \"55-59 \\u00e5r\", \"60-64 \\u00e5r\", \"65-66 \\u00e5r\", \"67 \\u00e5r\", \"68 \\u00e5r\", \"69 \\u00e5r\"], \"xaxis\": \"x\", \"y\": [2.0, 3.3, 3.3, 3.4, 3.6, 3.8, 3.8, 4.2, 4.9, 6.0, 6.4, 3.0, 1.2, 1.2], \"yaxis\": \"y\", \"type\": \"scatter\"}, {\"hoverlabel\": {\"namelength\": 0}, \"hovertemplate\": \"kj\\u00f8nn=Kvinner<br>kvartal=2007K3<br>alder=%{x}<br>value=%{y}\", \"legendgroup\": \"kj\\u00f8nn=Kvinner\", \"marker\": {\"color\": \"#EF553B\", \"symbol\": \"circle\"}, \"mode\": \"markers\", \"name\": \"kj\\u00f8nn=Kvinner\", \"showlegend\": true, \"x\": [\"16-19 \\u00e5r\", \"20-24 \\u00e5r\", \"25-29 \\u00e5r\", \"30-34 \\u00e5r\", \"35-39 \\u00e5r\", \"40-44 \\u00e5r\", \"45-49 \\u00e5r\", \"50-54 \\u00e5r\", \"55-59 \\u00e5r\", \"60-64 \\u00e5r\", \"65-66 \\u00e5r\", \"67 \\u00e5r\", \"68 \\u00e5r\", \"69 \\u00e5r\"], \"xaxis\": \"x\", \"y\": [2.3, 4.8, 6.2, 6.7, 6.0, 5.7, 5.6, 6.2, 6.6, 7.7, 8.9, 4.1, 1.8, 1.9], \"yaxis\": \"y\", \"type\": \"scatter\"}], \"name\": \"2007K3\"}, {\"data\": [{\"hoverlabel\": {\"namelength\": 0}, \"hovertemplate\": \"kj\\u00f8nn=Menn<br>kvartal=2007K4<br>alder=%{x}<br>value=%{y}\", \"legendgroup\": \"kj\\u00f8nn=Menn\", \"marker\": {\"color\": \"#636efa\", \"symbol\": \"circle\"}, \"mode\": \"markers\", \"name\": \"kj\\u00f8nn=Menn\", \"showlegend\": true, \"x\": [\"16-19 \\u00e5r\", \"20-24 \\u00e5r\", \"25-29 \\u00e5r\", \"30-34 \\u00e5r\", \"35-39 \\u00e5r\", \"40-44 \\u00e5r\", \"45-49 \\u00e5r\", \"50-54 \\u00e5r\", \"55-59 \\u00e5r\", \"60-64 \\u00e5r\", \"65-66 \\u00e5r\", \"67 \\u00e5r\", \"68 \\u00e5r\", \"69 \\u00e5r\"], \"xaxis\": \"x\", \"y\": [2.5, 3.7, 3.7, 3.7, 3.9, 4.2, 4.2, 4.7, 5.4, 6.5, 6.7, 2.9, 1.5, 1.2], \"yaxis\": \"y\", \"type\": \"scatter\"}, {\"hoverlabel\": {\"namelength\": 0}, \"hovertemplate\": \"kj\\u00f8nn=Kvinner<br>kvartal=2007K4<br>alder=%{x}<br>value=%{y}\", \"legendgroup\": \"kj\\u00f8nn=Kvinner\", \"marker\": {\"color\": \"#EF553B\", \"symbol\": \"circle\"}, \"mode\": \"markers\", \"name\": \"kj\\u00f8nn=Kvinner\", \"showlegend\": true, \"x\": [\"16-19 \\u00e5r\", \"20-24 \\u00e5r\", \"25-29 \\u00e5r\", \"30-34 \\u00e5r\", \"35-39 \\u00e5r\", \"40-44 \\u00e5r\", \"45-49 \\u00e5r\", \"50-54 \\u00e5r\", \"55-59 \\u00e5r\", \"60-64 \\u00e5r\", \"65-66 \\u00e5r\", \"67 \\u00e5r\", \"68 \\u00e5r\", \"69 \\u00e5r\"], \"xaxis\": \"x\", \"y\": [2.8, 5.7, 7.5, 8.1, 7.4, 6.8, 6.8, 7.4, 7.8, 8.7, 9.6, 4.3, 2.2, 1.9], \"yaxis\": \"y\", \"type\": \"scatter\"}], \"name\": \"2007K4\"}, {\"data\": [{\"hoverlabel\": {\"namelength\": 0}, \"hovertemplate\": \"kj\\u00f8nn=Menn<br>kvartal=2008K1<br>alder=%{x}<br>value=%{y}\", \"legendgroup\": \"kj\\u00f8nn=Menn\", \"marker\": {\"color\": \"#636efa\", \"symbol\": \"circle\"}, \"mode\": \"markers\", \"name\": \"kj\\u00f8nn=Menn\", \"showlegend\": true, \"x\": [\"16-19 \\u00e5r\", \"20-24 \\u00e5r\", \"25-29 \\u00e5r\", \"30-34 \\u00e5r\", \"35-39 \\u00e5r\", \"40-44 \\u00e5r\", \"45-49 \\u00e5r\", \"50-54 \\u00e5r\", \"55-59 \\u00e5r\", \"60-64 \\u00e5r\", \"65-66 \\u00e5r\", \"67 \\u00e5r\", \"68 \\u00e5r\", \"69 \\u00e5r\"], \"xaxis\": \"x\", \"y\": [2.7, 3.9, 3.9, 3.8, 4.1, 4.4, 4.4, 4.9, 5.7, 6.9, 7.0, 2.6, 1.8, 1.3], \"yaxis\": \"y\", \"type\": \"scatter\"}, {\"hoverlabel\": {\"namelength\": 0}, \"hovertemplate\": \"kj\\u00f8nn=Kvinner<br>kvartal=2008K1<br>alder=%{x}<br>value=%{y}\", \"legendgroup\": \"kj\\u00f8nn=Kvinner\", \"marker\": {\"color\": \"#EF553B\", \"symbol\": \"circle\"}, \"mode\": \"markers\", \"name\": \"kj\\u00f8nn=Kvinner\", \"showlegend\": true, \"x\": [\"16-19 \\u00e5r\", \"20-24 \\u00e5r\", \"25-29 \\u00e5r\", \"30-34 \\u00e5r\", \"35-39 \\u00e5r\", \"40-44 \\u00e5r\", \"45-49 \\u00e5r\", \"50-54 \\u00e5r\", \"55-59 \\u00e5r\", \"60-64 \\u00e5r\", \"65-66 \\u00e5r\", \"67 \\u00e5r\", \"68 \\u00e5r\", \"69 \\u00e5r\"], \"xaxis\": \"x\", \"y\": [2.9, 6.0, 7.9, 8.6, 7.9, 7.0, 7.1, 7.8, 8.3, 9.4, 10.5, 4.1, 2.3, 2.3], \"yaxis\": \"y\", \"type\": \"scatter\"}], \"name\": \"2008K1\"}, {\"data\": [{\"hoverlabel\": {\"namelength\": 0}, \"hovertemplate\": \"kj\\u00f8nn=Menn<br>kvartal=2008K2<br>alder=%{x}<br>value=%{y}\", \"legendgroup\": \"kj\\u00f8nn=Menn\", \"marker\": {\"color\": \"#636efa\", \"symbol\": \"circle\"}, \"mode\": \"markers\", \"name\": \"kj\\u00f8nn=Menn\", \"showlegend\": true, \"x\": [\"16-19 \\u00e5r\", \"20-24 \\u00e5r\", \"25-29 \\u00e5r\", \"30-34 \\u00e5r\", \"35-39 \\u00e5r\", \"40-44 \\u00e5r\", \"45-49 \\u00e5r\", \"50-54 \\u00e5r\", \"55-59 \\u00e5r\", \"60-64 \\u00e5r\", \"65-66 \\u00e5r\", \"67 \\u00e5r\", \"68 \\u00e5r\", \"69 \\u00e5r\"], \"xaxis\": \"x\", \"y\": [2.8, 3.7, 3.7, 3.6, 4.0, 4.2, 4.3, 4.7, 5.6, 6.6, 6.7, 3.0, 1.6, 1.2], \"yaxis\": \"y\", \"type\": \"scatter\"}, {\"hoverlabel\": {\"namelength\": 0}, \"hovertemplate\": \"kj\\u00f8nn=Kvinner<br>kvartal=2008K2<br>alder=%{x}<br>value=%{y}\", \"legendgroup\": \"kj\\u00f8nn=Kvinner\", \"marker\": {\"color\": \"#EF553B\", \"symbol\": \"circle\"}, \"mode\": \"markers\", \"name\": \"kj\\u00f8nn=Kvinner\", \"showlegend\": true, \"x\": [\"16-19 \\u00e5r\", \"20-24 \\u00e5r\", \"25-29 \\u00e5r\", \"30-34 \\u00e5r\", \"35-39 \\u00e5r\", \"40-44 \\u00e5r\", \"45-49 \\u00e5r\", \"50-54 \\u00e5r\", \"55-59 \\u00e5r\", \"60-64 \\u00e5r\", \"65-66 \\u00e5r\", \"67 \\u00e5r\", \"68 \\u00e5r\", \"69 \\u00e5r\"], \"xaxis\": \"x\", \"y\": [2.9, 5.9, 7.7, 8.4, 7.8, 7.1, 7.0, 7.6, 7.9, 9.1, 10.1, 3.9, 1.9, 2.4], \"yaxis\": \"y\", \"type\": \"scatter\"}], \"name\": \"2008K2\"}, {\"data\": [{\"hoverlabel\": {\"namelength\": 0}, \"hovertemplate\": \"kj\\u00f8nn=Menn<br>kvartal=2008K3<br>alder=%{x}<br>value=%{y}\", \"legendgroup\": \"kj\\u00f8nn=Menn\", \"marker\": {\"color\": \"#636efa\", \"symbol\": \"circle\"}, \"mode\": \"markers\", \"name\": \"kj\\u00f8nn=Menn\", \"showlegend\": true, \"x\": [\"16-19 \\u00e5r\", \"20-24 \\u00e5r\", \"25-29 \\u00e5r\", \"30-34 \\u00e5r\", \"35-39 \\u00e5r\", \"40-44 \\u00e5r\", \"45-49 \\u00e5r\", \"50-54 \\u00e5r\", \"55-59 \\u00e5r\", \"60-64 \\u00e5r\", \"65-66 \\u00e5r\", \"67 \\u00e5r\", \"68 \\u00e5r\", \"69 \\u00e5r\"], \"xaxis\": \"x\", \"y\": [2.1, 3.5, 3.5, 3.5, 3.7, 3.9, 3.9, 4.3, 5.0, 5.9, 6.2, 2.1, 1.3, 1.2], \"yaxis\": \"y\", \"type\": \"scatter\"}, {\"hoverlabel\": {\"namelength\": 0}, \"hovertemplate\": \"kj\\u00f8nn=Kvinner<br>kvartal=2008K3<br>alder=%{x}<br>value=%{y}\", \"legendgroup\": \"kj\\u00f8nn=Kvinner\", \"marker\": {\"color\": \"#EF553B\", \"symbol\": \"circle\"}, \"mode\": \"markers\", \"name\": \"kj\\u00f8nn=Kvinner\", \"showlegend\": true, \"x\": [\"16-19 \\u00e5r\", \"20-24 \\u00e5r\", \"25-29 \\u00e5r\", \"30-34 \\u00e5r\", \"35-39 \\u00e5r\", \"40-44 \\u00e5r\", \"45-49 \\u00e5r\", \"50-54 \\u00e5r\", \"55-59 \\u00e5r\", \"60-64 \\u00e5r\", \"65-66 \\u00e5r\", \"67 \\u00e5r\", \"68 \\u00e5r\", \"69 \\u00e5r\"], \"xaxis\": \"x\", \"y\": [2.3, 5.1, 6.5, 7.0, 6.4, 5.9, 5.7, 6.4, 6.6, 7.9, 8.6, 3.7, 1.7, 1.5], \"yaxis\": \"y\", \"type\": \"scatter\"}], \"name\": \"2008K3\"}, {\"data\": [{\"hoverlabel\": {\"namelength\": 0}, \"hovertemplate\": \"kj\\u00f8nn=Menn<br>kvartal=2008K4<br>alder=%{x}<br>value=%{y}\", \"legendgroup\": \"kj\\u00f8nn=Menn\", \"marker\": {\"color\": \"#636efa\", \"symbol\": \"circle\"}, \"mode\": \"markers\", \"name\": \"kj\\u00f8nn=Menn\", \"showlegend\": true, \"x\": [\"16-19 \\u00e5r\", \"20-24 \\u00e5r\", \"25-29 \\u00e5r\", \"30-34 \\u00e5r\", \"35-39 \\u00e5r\", \"40-44 \\u00e5r\", \"45-49 \\u00e5r\", \"50-54 \\u00e5r\", \"55-59 \\u00e5r\", \"60-64 \\u00e5r\", \"65-66 \\u00e5r\", \"67 \\u00e5r\", \"68 \\u00e5r\", \"69 \\u00e5r\"], \"xaxis\": \"x\", \"y\": [2.4, 3.9, 3.9, 3.9, 4.2, 4.4, 4.4, 4.9, 5.6, 6.5, 6.8, 2.2, 1.6, 1.5], \"yaxis\": \"y\", \"type\": \"scatter\"}, {\"hoverlabel\": {\"namelength\": 0}, \"hovertemplate\": \"kj\\u00f8nn=Kvinner<br>kvartal=2008K4<br>alder=%{x}<br>value=%{y}\", \"legendgroup\": \"kj\\u00f8nn=Kvinner\", \"marker\": {\"color\": \"#EF553B\", \"symbol\": \"circle\"}, \"mode\": \"markers\", \"name\": \"kj\\u00f8nn=Kvinner\", \"showlegend\": true, \"x\": [\"16-19 \\u00e5r\", \"20-24 \\u00e5r\", \"25-29 \\u00e5r\", \"30-34 \\u00e5r\", \"35-39 \\u00e5r\", \"40-44 \\u00e5r\", \"45-49 \\u00e5r\", \"50-54 \\u00e5r\", \"55-59 \\u00e5r\", \"60-64 \\u00e5r\", \"65-66 \\u00e5r\", \"67 \\u00e5r\", \"68 \\u00e5r\", \"69 \\u00e5r\"], \"xaxis\": \"x\", \"y\": [2.8, 5.9, 7.7, 8.3, 7.7, 7.0, 6.8, 7.2, 7.6, 8.7, 9.6, 4.0, 2.1, 1.4], \"yaxis\": \"y\", \"type\": \"scatter\"}], \"name\": \"2008K4\"}, {\"data\": [{\"hoverlabel\": {\"namelength\": 0}, \"hovertemplate\": \"kj\\u00f8nn=Menn<br>kvartal=2009K1<br>alder=%{x}<br>value=%{y}\", \"legendgroup\": \"kj\\u00f8nn=Menn\", \"marker\": {\"color\": \"#636efa\", \"symbol\": \"circle\"}, \"mode\": \"markers\", \"name\": \"kj\\u00f8nn=Menn\", \"showlegend\": true, \"x\": [\"16-19 \\u00e5r\", \"20-24 \\u00e5r\", \"25-29 \\u00e5r\", \"30-34 \\u00e5r\", \"35-39 \\u00e5r\", \"40-44 \\u00e5r\", \"45-49 \\u00e5r\", \"50-54 \\u00e5r\", \"55-59 \\u00e5r\", \"60-64 \\u00e5r\", \"65-66 \\u00e5r\", \"67 \\u00e5r\", \"68 \\u00e5r\", \"69 \\u00e5r\"], \"xaxis\": \"x\", \"y\": [2.7, 4.2, 4.2, 4.2, 4.5, 4.8, 4.9, 5.2, 6.0, 7.1, 7.6, 3.2, 1.7, 1.7], \"yaxis\": \"y\", \"type\": \"scatter\"}, {\"hoverlabel\": {\"namelength\": 0}, \"hovertemplate\": \"kj\\u00f8nn=Kvinner<br>kvartal=2009K1<br>alder=%{x}<br>value=%{y}\", \"legendgroup\": \"kj\\u00f8nn=Kvinner\", \"marker\": {\"color\": \"#EF553B\", \"symbol\": \"circle\"}, \"mode\": \"markers\", \"name\": \"kj\\u00f8nn=Kvinner\", \"showlegend\": true, \"x\": [\"16-19 \\u00e5r\", \"20-24 \\u00e5r\", \"25-29 \\u00e5r\", \"30-34 \\u00e5r\", \"35-39 \\u00e5r\", \"40-44 \\u00e5r\", \"45-49 \\u00e5r\", \"50-54 \\u00e5r\", \"55-59 \\u00e5r\", \"60-64 \\u00e5r\", \"65-66 \\u00e5r\", \"67 \\u00e5r\", \"68 \\u00e5r\", \"69 \\u00e5r\"], \"xaxis\": \"x\", \"y\": [3.2, 6.4, 8.4, 9.0, 8.1, 7.4, 7.1, 7.6, 8.1, 9.3, 10.2, 4.7, 2.3, 2.5], \"yaxis\": \"y\", \"type\": \"scatter\"}], \"name\": \"2009K1\"}, {\"data\": [{\"hoverlabel\": {\"namelength\": 0}, \"hovertemplate\": \"kj\\u00f8nn=Menn<br>kvartal=2009K2<br>alder=%{x}<br>value=%{y}\", \"legendgroup\": \"kj\\u00f8nn=Menn\", \"marker\": {\"color\": \"#636efa\", \"symbol\": \"circle\"}, \"mode\": \"markers\", \"name\": \"kj\\u00f8nn=Menn\", \"showlegend\": true, \"x\": [\"16-19 \\u00e5r\", \"20-24 \\u00e5r\", \"25-29 \\u00e5r\", \"30-34 \\u00e5r\", \"35-39 \\u00e5r\", \"40-44 \\u00e5r\", \"45-49 \\u00e5r\", \"50-54 \\u00e5r\", \"55-59 \\u00e5r\", \"60-64 \\u00e5r\", \"65-66 \\u00e5r\", \"67 \\u00e5r\", \"68 \\u00e5r\", \"69 \\u00e5r\"], \"xaxis\": \"x\", \"y\": [2.7, 3.8, 3.9, 4.0, 4.3, 4.7, 4.8, 5.1, 5.9, 7.1, 7.5, 3.3, 1.4, 1.4], \"yaxis\": \"y\", \"type\": \"scatter\"}, {\"hoverlabel\": {\"namelength\": 0}, \"hovertemplate\": \"kj\\u00f8nn=Kvinner<br>kvartal=2009K2<br>alder=%{x}<br>value=%{y}\", \"legendgroup\": \"kj\\u00f8nn=Kvinner\", \"marker\": {\"color\": \"#EF553B\", \"symbol\": \"circle\"}, \"mode\": \"markers\", \"name\": \"kj\\u00f8nn=Kvinner\", \"showlegend\": true, \"x\": [\"16-19 \\u00e5r\", \"20-24 \\u00e5r\", \"25-29 \\u00e5r\", \"30-34 \\u00e5r\", \"35-39 \\u00e5r\", \"40-44 \\u00e5r\", \"45-49 \\u00e5r\", \"50-54 \\u00e5r\", \"55-59 \\u00e5r\", \"60-64 \\u00e5r\", \"65-66 \\u00e5r\", \"67 \\u00e5r\", \"68 \\u00e5r\", \"69 \\u00e5r\"], \"xaxis\": \"x\", \"y\": [2.9, 6.2, 8.0, 8.8, 7.9, 7.3, 7.1, 7.5, 7.8, 8.8, 9.7, 4.1, 2.7, 2.0], \"yaxis\": \"y\", \"type\": \"scatter\"}], \"name\": \"2009K2\"}, {\"data\": [{\"hoverlabel\": {\"namelength\": 0}, \"hovertemplate\": \"kj\\u00f8nn=Menn<br>kvartal=2009K3<br>alder=%{x}<br>value=%{y}\", \"legendgroup\": \"kj\\u00f8nn=Menn\", \"marker\": {\"color\": \"#636efa\", \"symbol\": \"circle\"}, \"mode\": \"markers\", \"name\": \"kj\\u00f8nn=Menn\", \"showlegend\": true, \"x\": [\"16-19 \\u00e5r\", \"20-24 \\u00e5r\", \"25-29 \\u00e5r\", \"30-34 \\u00e5r\", \"35-39 \\u00e5r\", \"40-44 \\u00e5r\", \"45-49 \\u00e5r\", \"50-54 \\u00e5r\", \"55-59 \\u00e5r\", \"60-64 \\u00e5r\", \"65-66 \\u00e5r\", \"67 \\u00e5r\", \"68 \\u00e5r\", \"69 \\u00e5r\"], \"xaxis\": \"x\", \"y\": [2.2, 3.7, 3.9, 3.9, 4.2, 4.5, 4.6, 4.8, 5.6, 6.6, 7.3, 3.2, 1.6, 1.4], \"yaxis\": \"y\", \"type\": \"scatter\"}, {\"hoverlabel\": {\"namelength\": 0}, \"hovertemplate\": \"kj\\u00f8nn=Kvinner<br>kvartal=2009K3<br>alder=%{x}<br>value=%{y}\", \"legendgroup\": \"kj\\u00f8nn=Kvinner\", \"marker\": {\"color\": \"#EF553B\", \"symbol\": \"circle\"}, \"mode\": \"markers\", \"name\": \"kj\\u00f8nn=Kvinner\", \"showlegend\": true, \"x\": [\"16-19 \\u00e5r\", \"20-24 \\u00e5r\", \"25-29 \\u00e5r\", \"30-34 \\u00e5r\", \"35-39 \\u00e5r\", \"40-44 \\u00e5r\", \"45-49 \\u00e5r\", \"50-54 \\u00e5r\", \"55-59 \\u00e5r\", \"60-64 \\u00e5r\", \"65-66 \\u00e5r\", \"67 \\u00e5r\", \"68 \\u00e5r\", \"69 \\u00e5r\"], \"xaxis\": \"x\", \"y\": [2.5, 5.7, 7.3, 7.7, 6.9, 6.4, 6.2, 6.6, 6.9, 7.8, 9.2, 4.2, 2.1, 1.9], \"yaxis\": \"y\", \"type\": \"scatter\"}], \"name\": \"2009K3\"}, {\"data\": [{\"hoverlabel\": {\"namelength\": 0}, \"hovertemplate\": \"kj\\u00f8nn=Menn<br>kvartal=2009K4<br>alder=%{x}<br>value=%{y}\", \"legendgroup\": \"kj\\u00f8nn=Menn\", \"marker\": {\"color\": \"#636efa\", \"symbol\": \"circle\"}, \"mode\": \"markers\", \"name\": \"kj\\u00f8nn=Menn\", \"showlegend\": true, \"x\": [\"16-19 \\u00e5r\", \"20-24 \\u00e5r\", \"25-29 \\u00e5r\", \"30-34 \\u00e5r\", \"35-39 \\u00e5r\", \"40-44 \\u00e5r\", \"45-49 \\u00e5r\", \"50-54 \\u00e5r\", \"55-59 \\u00e5r\", \"60-64 \\u00e5r\", \"65-66 \\u00e5r\", \"67 \\u00e5r\", \"68 \\u00e5r\", \"69 \\u00e5r\"], \"xaxis\": \"x\", \"y\": [2.4, 3.8, 4.0, 4.1, 4.5, 4.8, 4.8, 5.1, 5.7, 6.8, 7.5, 3.3, 1.5, 1.4], \"yaxis\": \"y\", \"type\": \"scatter\"}, {\"hoverlabel\": {\"namelength\": 0}, \"hovertemplate\": \"kj\\u00f8nn=Kvinner<br>kvartal=2009K4<br>alder=%{x}<br>value=%{y}\", \"legendgroup\": \"kj\\u00f8nn=Kvinner\", \"marker\": {\"color\": \"#EF553B\", \"symbol\": \"circle\"}, \"mode\": \"markers\", \"name\": \"kj\\u00f8nn=Kvinner\", \"showlegend\": true, \"x\": [\"16-19 \\u00e5r\", \"20-24 \\u00e5r\", \"25-29 \\u00e5r\", \"30-34 \\u00e5r\", \"35-39 \\u00e5r\", \"40-44 \\u00e5r\", \"45-49 \\u00e5r\", \"50-54 \\u00e5r\", \"55-59 \\u00e5r\", \"60-64 \\u00e5r\", \"65-66 \\u00e5r\", \"67 \\u00e5r\", \"68 \\u00e5r\", \"69 \\u00e5r\"], \"xaxis\": \"x\", \"y\": [2.9, 6.1, 8.0, 8.8, 8.0, 7.5, 7.2, 7.5, 7.7, 8.6, 9.5, 4.2, 2.5, 2.0], \"yaxis\": \"y\", \"type\": \"scatter\"}], \"name\": \"2009K4\"}, {\"data\": [{\"hoverlabel\": {\"namelength\": 0}, \"hovertemplate\": \"kj\\u00f8nn=Menn<br>kvartal=2010K1<br>alder=%{x}<br>value=%{y}\", \"legendgroup\": \"kj\\u00f8nn=Menn\", \"marker\": {\"color\": \"#636efa\", \"symbol\": \"circle\"}, \"mode\": \"markers\", \"name\": \"kj\\u00f8nn=Menn\", \"showlegend\": true, \"x\": [\"16-19 \\u00e5r\", \"20-24 \\u00e5r\", \"25-29 \\u00e5r\", \"30-34 \\u00e5r\", \"35-39 \\u00e5r\", \"40-44 \\u00e5r\", \"45-49 \\u00e5r\", \"50-54 \\u00e5r\", \"55-59 \\u00e5r\", \"60-64 \\u00e5r\", \"65-66 \\u00e5r\", \"67 \\u00e5r\", \"68 \\u00e5r\", \"69 \\u00e5r\"], \"xaxis\": \"x\", \"y\": [2.2, 3.5, 3.7, 3.8, 4.1, 4.4, 4.4, 4.8, 5.4, 6.5, 6.9, 3.2, 1.8, 1.4], \"yaxis\": \"y\", \"type\": \"scatter\"}, {\"hoverlabel\": {\"namelength\": 0}, \"hovertemplate\": \"kj\\u00f8nn=Kvinner<br>kvartal=2010K1<br>alder=%{x}<br>value=%{y}\", \"legendgroup\": \"kj\\u00f8nn=Kvinner\", \"marker\": {\"color\": \"#EF553B\", \"symbol\": \"circle\"}, \"mode\": \"markers\", \"name\": \"kj\\u00f8nn=Kvinner\", \"showlegend\": true, \"x\": [\"16-19 \\u00e5r\", \"20-24 \\u00e5r\", \"25-29 \\u00e5r\", \"30-34 \\u00e5r\", \"35-39 \\u00e5r\", \"40-44 \\u00e5r\", \"45-49 \\u00e5r\", \"50-54 \\u00e5r\", \"55-59 \\u00e5r\", \"60-64 \\u00e5r\", \"65-66 \\u00e5r\", \"67 \\u00e5r\", \"68 \\u00e5r\", \"69 \\u00e5r\"], \"xaxis\": \"x\", \"y\": [2.6, 5.7, 7.5, 8.2, 7.4, 6.8, 6.6, 6.9, 7.2, 8.2, 9.2, 3.7, 2.6, 2.5], \"yaxis\": \"y\", \"type\": \"scatter\"}], \"name\": \"2010K1\"}, {\"data\": [{\"hoverlabel\": {\"namelength\": 0}, \"hovertemplate\": \"kj\\u00f8nn=Menn<br>kvartal=2010K2<br>alder=%{x}<br>value=%{y}\", \"legendgroup\": \"kj\\u00f8nn=Menn\", \"marker\": {\"color\": \"#636efa\", \"symbol\": \"circle\"}, \"mode\": \"markers\", \"name\": \"kj\\u00f8nn=Menn\", \"showlegend\": true, \"x\": [\"16-19 \\u00e5r\", \"20-24 \\u00e5r\", \"25-29 \\u00e5r\", \"30-34 \\u00e5r\", \"35-39 \\u00e5r\", \"40-44 \\u00e5r\", \"45-49 \\u00e5r\", \"50-54 \\u00e5r\", \"55-59 \\u00e5r\", \"60-64 \\u00e5r\", \"65-66 \\u00e5r\", \"67 \\u00e5r\", \"68 \\u00e5r\", \"69 \\u00e5r\"], \"xaxis\": \"x\", \"y\": [2.2, 3.2, 3.4, 3.5, 3.8, 4.1, 4.2, 4.5, 5.2, 6.2, 6.3, 3.0, 1.6, 1.5], \"yaxis\": \"y\", \"type\": \"scatter\"}, {\"hoverlabel\": {\"namelength\": 0}, \"hovertemplate\": \"kj\\u00f8nn=Kvinner<br>kvartal=2010K2<br>alder=%{x}<br>value=%{y}\", \"legendgroup\": \"kj\\u00f8nn=Kvinner\", \"marker\": {\"color\": \"#EF553B\", \"symbol\": \"circle\"}, \"mode\": \"markers\", \"name\": \"kj\\u00f8nn=Kvinner\", \"showlegend\": true, \"x\": [\"16-19 \\u00e5r\", \"20-24 \\u00e5r\", \"25-29 \\u00e5r\", \"30-34 \\u00e5r\", \"35-39 \\u00e5r\", \"40-44 \\u00e5r\", \"45-49 \\u00e5r\", \"50-54 \\u00e5r\", \"55-59 \\u00e5r\", \"60-64 \\u00e5r\", \"65-66 \\u00e5r\", \"67 \\u00e5r\", \"68 \\u00e5r\", \"69 \\u00e5r\"], \"xaxis\": \"x\", \"y\": [2.4, 5.3, 7.1, 7.8, 7.2, 6.7, 6.5, 6.6, 7.0, 7.9, 8.6, 4.2, 2.6, 1.7], \"yaxis\": \"y\", \"type\": \"scatter\"}], \"name\": \"2010K2\"}, {\"data\": [{\"hoverlabel\": {\"namelength\": 0}, \"hovertemplate\": \"kj\\u00f8nn=Menn<br>kvartal=2010K3<br>alder=%{x}<br>value=%{y}\", \"legendgroup\": \"kj\\u00f8nn=Menn\", \"marker\": {\"color\": \"#636efa\", \"symbol\": \"circle\"}, \"mode\": \"markers\", \"name\": \"kj\\u00f8nn=Menn\", \"showlegend\": true, \"x\": [\"16-19 \\u00e5r\", \"20-24 \\u00e5r\", \"25-29 \\u00e5r\", \"30-34 \\u00e5r\", \"35-39 \\u00e5r\", \"40-44 \\u00e5r\", \"45-49 \\u00e5r\", \"50-54 \\u00e5r\", \"55-59 \\u00e5r\", \"60-64 \\u00e5r\", \"65-66 \\u00e5r\", \"67 \\u00e5r\", \"68 \\u00e5r\", \"69 \\u00e5r\"], \"xaxis\": \"x\", \"y\": [1.7, 2.9, 3.2, 3.3, 3.6, 3.9, 4.0, 4.2, 4.8, 5.7, 6.0, 2.6, 1.3, 1.2], \"yaxis\": \"y\", \"type\": \"scatter\"}, {\"hoverlabel\": {\"namelength\": 0}, \"hovertemplate\": \"kj\\u00f8nn=Kvinner<br>kvartal=2010K3<br>alder=%{x}<br>value=%{y}\", \"legendgroup\": \"kj\\u00f8nn=Kvinner\", \"marker\": {\"color\": \"#EF553B\", \"symbol\": \"circle\"}, \"mode\": \"markers\", \"name\": \"kj\\u00f8nn=Kvinner\", \"showlegend\": true, \"x\": [\"16-19 \\u00e5r\", \"20-24 \\u00e5r\", \"25-29 \\u00e5r\", \"30-34 \\u00e5r\", \"35-39 \\u00e5r\", \"40-44 \\u00e5r\", \"45-49 \\u00e5r\", \"50-54 \\u00e5r\", \"55-59 \\u00e5r\", \"60-64 \\u00e5r\", \"65-66 \\u00e5r\", \"67 \\u00e5r\", \"68 \\u00e5r\", \"69 \\u00e5r\"], \"xaxis\": \"x\", \"y\": [2.0, 4.5, 6.3, 6.7, 6.1, 5.7, 5.6, 5.9, 6.2, 7.2, 8.0, 3.3, 2.1, 1.6], \"yaxis\": \"y\", \"type\": \"scatter\"}], \"name\": \"2010K3\"}, {\"data\": [{\"hoverlabel\": {\"namelength\": 0}, \"hovertemplate\": \"kj\\u00f8nn=Menn<br>kvartal=2010K4<br>alder=%{x}<br>value=%{y}\", \"legendgroup\": \"kj\\u00f8nn=Menn\", \"marker\": {\"color\": \"#636efa\", \"symbol\": \"circle\"}, \"mode\": \"markers\", \"name\": \"kj\\u00f8nn=Menn\", \"showlegend\": true, \"x\": [\"16-19 \\u00e5r\", \"20-24 \\u00e5r\", \"25-29 \\u00e5r\", \"30-34 \\u00e5r\", \"35-39 \\u00e5r\", \"40-44 \\u00e5r\", \"45-49 \\u00e5r\", \"50-54 \\u00e5r\", \"55-59 \\u00e5r\", \"60-64 \\u00e5r\", \"65-66 \\u00e5r\", \"67 \\u00e5r\", \"68 \\u00e5r\", \"69 \\u00e5r\"], \"xaxis\": \"x\", \"y\": [2.0, 3.4, 3.6, 3.8, 4.1, 4.4, 4.5, 4.7, 5.4, 6.4, 6.4, 3.2, 1.7, 1.5], \"yaxis\": \"y\", \"type\": \"scatter\"}, {\"hoverlabel\": {\"namelength\": 0}, \"hovertemplate\": \"kj\\u00f8nn=Kvinner<br>kvartal=2010K4<br>alder=%{x}<br>value=%{y}\", \"legendgroup\": \"kj\\u00f8nn=Kvinner\", \"marker\": {\"color\": \"#EF553B\", \"symbol\": \"circle\"}, \"mode\": \"markers\", \"name\": \"kj\\u00f8nn=Kvinner\", \"showlegend\": true, \"x\": [\"16-19 \\u00e5r\", \"20-24 \\u00e5r\", \"25-29 \\u00e5r\", \"30-34 \\u00e5r\", \"35-39 \\u00e5r\", \"40-44 \\u00e5r\", \"45-49 \\u00e5r\", \"50-54 \\u00e5r\", \"55-59 \\u00e5r\", \"60-64 \\u00e5r\", \"65-66 \\u00e5r\", \"67 \\u00e5r\", \"68 \\u00e5r\", \"69 \\u00e5r\"], \"xaxis\": \"x\", \"y\": [2.4, 5.4, 7.6, 8.3, 7.7, 7.2, 7.0, 7.2, 7.5, 8.4, 9.1, 4.4, 2.3, 2.0], \"yaxis\": \"y\", \"type\": \"scatter\"}], \"name\": \"2010K4\"}, {\"data\": [{\"hoverlabel\": {\"namelength\": 0}, \"hovertemplate\": \"kj\\u00f8nn=Menn<br>kvartal=2011K1<br>alder=%{x}<br>value=%{y}\", \"legendgroup\": \"kj\\u00f8nn=Menn\", \"marker\": {\"color\": \"#636efa\", \"symbol\": \"circle\"}, \"mode\": \"markers\", \"name\": \"kj\\u00f8nn=Menn\", \"showlegend\": true, \"x\": [\"16-19 \\u00e5r\", \"20-24 \\u00e5r\", \"25-29 \\u00e5r\", \"30-34 \\u00e5r\", \"35-39 \\u00e5r\", \"40-44 \\u00e5r\", \"45-49 \\u00e5r\", \"50-54 \\u00e5r\", \"55-59 \\u00e5r\", \"60-64 \\u00e5r\", \"65-66 \\u00e5r\", \"67 \\u00e5r\", \"68 \\u00e5r\", \"69 \\u00e5r\"], \"xaxis\": \"x\", \"y\": [2.4, 3.5, 3.8, 3.9, 4.3, 4.6, 4.7, 4.9, 5.7, 6.6, 6.3, 2.9, 2.1, 1.5], \"yaxis\": \"y\", \"type\": \"scatter\"}, {\"hoverlabel\": {\"namelength\": 0}, \"hovertemplate\": \"kj\\u00f8nn=Kvinner<br>kvartal=2011K1<br>alder=%{x}<br>value=%{y}\", \"legendgroup\": \"kj\\u00f8nn=Kvinner\", \"marker\": {\"color\": \"#EF553B\", \"symbol\": \"circle\"}, \"mode\": \"markers\", \"name\": \"kj\\u00f8nn=Kvinner\", \"showlegend\": true, \"x\": [\"16-19 \\u00e5r\", \"20-24 \\u00e5r\", \"25-29 \\u00e5r\", \"30-34 \\u00e5r\", \"35-39 \\u00e5r\", \"40-44 \\u00e5r\", \"45-49 \\u00e5r\", \"50-54 \\u00e5r\", \"55-59 \\u00e5r\", \"60-64 \\u00e5r\", \"65-66 \\u00e5r\", \"67 \\u00e5r\", \"68 \\u00e5r\", \"69 \\u00e5r\"], \"xaxis\": \"x\", \"y\": [2.7, 5.8, 8.0, 8.8, 8.0, 7.5, 7.4, 7.6, 8.2, 9.0, 9.4, 5.3, 2.8, 2.8], \"yaxis\": \"y\", \"type\": \"scatter\"}], \"name\": \"2011K1\"}, {\"data\": [{\"hoverlabel\": {\"namelength\": 0}, \"hovertemplate\": \"kj\\u00f8nn=Menn<br>kvartal=2011K2<br>alder=%{x}<br>value=%{y}\", \"legendgroup\": \"kj\\u00f8nn=Menn\", \"marker\": {\"color\": \"#636efa\", \"symbol\": \"circle\"}, \"mode\": \"markers\", \"name\": \"kj\\u00f8nn=Menn\", \"showlegend\": true, \"x\": [\"16-19 \\u00e5r\", \"20-24 \\u00e5r\", \"25-29 \\u00e5r\", \"30-34 \\u00e5r\", \"35-39 \\u00e5r\", \"40-44 \\u00e5r\", \"45-49 \\u00e5r\", \"50-54 \\u00e5r\", \"55-59 \\u00e5r\", \"60-64 \\u00e5r\", \"65-66 \\u00e5r\", \"67 \\u00e5r\", \"68 \\u00e5r\", \"69 \\u00e5r\"], \"xaxis\": \"x\", \"y\": [2.0, 3.0, 3.1, 3.4, 3.7, 4.0, 4.2, 4.5, 5.3, 6.2, 5.8, 3.2, 2.0, 1.4], \"yaxis\": \"y\", \"type\": \"scatter\"}, {\"hoverlabel\": {\"namelength\": 0}, \"hovertemplate\": \"kj\\u00f8nn=Kvinner<br>kvartal=2011K2<br>alder=%{x}<br>value=%{y}\", \"legendgroup\": \"kj\\u00f8nn=Kvinner\", \"marker\": {\"color\": \"#EF553B\", \"symbol\": \"circle\"}, \"mode\": \"markers\", \"name\": \"kj\\u00f8nn=Kvinner\", \"showlegend\": true, \"x\": [\"16-19 \\u00e5r\", \"20-24 \\u00e5r\", \"25-29 \\u00e5r\", \"30-34 \\u00e5r\", \"35-39 \\u00e5r\", \"40-44 \\u00e5r\", \"45-49 \\u00e5r\", \"50-54 \\u00e5r\", \"55-59 \\u00e5r\", \"60-64 \\u00e5r\", \"65-66 \\u00e5r\", \"67 \\u00e5r\", \"68 \\u00e5r\", \"69 \\u00e5r\"], \"xaxis\": \"x\", \"y\": [2.4, 5.0, 7.0, 7.9, 7.3, 7.0, 6.8, 6.9, 7.5, 8.4, 8.3, 4.5, 2.3, 2.3], \"yaxis\": \"y\", \"type\": \"scatter\"}], \"name\": \"2011K2\"}, {\"data\": [{\"hoverlabel\": {\"namelength\": 0}, \"hovertemplate\": \"kj\\u00f8nn=Menn<br>kvartal=2011K3<br>alder=%{x}<br>value=%{y}\", \"legendgroup\": \"kj\\u00f8nn=Menn\", \"marker\": {\"color\": \"#636efa\", \"symbol\": \"circle\"}, \"mode\": \"markers\", \"name\": \"kj\\u00f8nn=Menn\", \"showlegend\": true, \"x\": [\"16-19 \\u00e5r\", \"20-24 \\u00e5r\", \"25-29 \\u00e5r\", \"30-34 \\u00e5r\", \"35-39 \\u00e5r\", \"40-44 \\u00e5r\", \"45-49 \\u00e5r\", \"50-54 \\u00e5r\", \"55-59 \\u00e5r\", \"60-64 \\u00e5r\", \"65-66 \\u00e5r\", \"67 \\u00e5r\", \"68 \\u00e5r\", \"69 \\u00e5r\"], \"xaxis\": \"x\", \"y\": [1.6, 2.6, 2.8, 2.9, 3.2, 3.5, 3.7, 4.0, 4.6, 5.4, 5.0, 2.9, 1.6, 1.3], \"yaxis\": \"y\", \"type\": \"scatter\"}, {\"hoverlabel\": {\"namelength\": 0}, \"hovertemplate\": \"kj\\u00f8nn=Kvinner<br>kvartal=2011K3<br>alder=%{x}<br>value=%{y}\", \"legendgroup\": \"kj\\u00f8nn=Kvinner\", \"marker\": {\"color\": \"#EF553B\", \"symbol\": \"circle\"}, \"mode\": \"markers\", \"name\": \"kj\\u00f8nn=Kvinner\", \"showlegend\": true, \"x\": [\"16-19 \\u00e5r\", \"20-24 \\u00e5r\", \"25-29 \\u00e5r\", \"30-34 \\u00e5r\", \"35-39 \\u00e5r\", \"40-44 \\u00e5r\", \"45-49 \\u00e5r\", \"50-54 \\u00e5r\", \"55-59 \\u00e5r\", \"60-64 \\u00e5r\", \"65-66 \\u00e5r\", \"67 \\u00e5r\", \"68 \\u00e5r\", \"69 \\u00e5r\"], \"xaxis\": \"x\", \"y\": [1.8, 4.1, 5.7, 6.3, 5.8, 5.5, 5.3, 5.6, 6.1, 7.0, 7.4, 3.4, 1.8, 1.7], \"yaxis\": \"y\", \"type\": \"scatter\"}], \"name\": \"2011K3\"}, {\"data\": [{\"hoverlabel\": {\"namelength\": 0}, \"hovertemplate\": \"kj\\u00f8nn=Menn<br>kvartal=2011K4<br>alder=%{x}<br>value=%{y}\", \"legendgroup\": \"kj\\u00f8nn=Menn\", \"marker\": {\"color\": \"#636efa\", \"symbol\": \"circle\"}, \"mode\": \"markers\", \"name\": \"kj\\u00f8nn=Menn\", \"showlegend\": true, \"x\": [\"16-19 \\u00e5r\", \"20-24 \\u00e5r\", \"25-29 \\u00e5r\", \"30-34 \\u00e5r\", \"35-39 \\u00e5r\", \"40-44 \\u00e5r\", \"45-49 \\u00e5r\", \"50-54 \\u00e5r\", \"55-59 \\u00e5r\", \"60-64 \\u00e5r\", \"65-66 \\u00e5r\", \"67 \\u00e5r\", \"68 \\u00e5r\", \"69 \\u00e5r\"], \"xaxis\": \"x\", \"y\": [1.9, 3.0, 3.1, 3.3, 3.6, 3.9, 4.0, 4.5, 5.0, 5.9, 5.6, 2.9, 1.7, 1.7], \"yaxis\": \"y\", \"type\": \"scatter\"}, {\"hoverlabel\": {\"namelength\": 0}, \"hovertemplate\": \"kj\\u00f8nn=Kvinner<br>kvartal=2011K4<br>alder=%{x}<br>value=%{y}\", \"legendgroup\": \"kj\\u00f8nn=Kvinner\", \"marker\": {\"color\": \"#EF553B\", \"symbol\": \"circle\"}, \"mode\": \"markers\", \"name\": \"kj\\u00f8nn=Kvinner\", \"showlegend\": true, \"x\": [\"16-19 \\u00e5r\", \"20-24 \\u00e5r\", \"25-29 \\u00e5r\", \"30-34 \\u00e5r\", \"35-39 \\u00e5r\", \"40-44 \\u00e5r\", \"45-49 \\u00e5r\", \"50-54 \\u00e5r\", \"55-59 \\u00e5r\", \"60-64 \\u00e5r\", \"65-66 \\u00e5r\", \"67 \\u00e5r\", \"68 \\u00e5r\", \"69 \\u00e5r\"], \"xaxis\": \"x\", \"y\": [2.3, 4.9, 6.8, 7.8, 7.2, 6.8, 6.5, 6.8, 7.2, 8.1, 8.3, 3.7, 2.6, 1.8], \"yaxis\": \"y\", \"type\": \"scatter\"}], \"name\": \"2011K4\"}, {\"data\": [{\"hoverlabel\": {\"namelength\": 0}, \"hovertemplate\": \"kj\\u00f8nn=Menn<br>kvartal=2012K1<br>alder=%{x}<br>value=%{y}\", \"legendgroup\": \"kj\\u00f8nn=Menn\", \"marker\": {\"color\": \"#636efa\", \"symbol\": \"circle\"}, \"mode\": \"markers\", \"name\": \"kj\\u00f8nn=Menn\", \"showlegend\": true, \"x\": [\"16-19 \\u00e5r\", \"20-24 \\u00e5r\", \"25-29 \\u00e5r\", \"30-34 \\u00e5r\", \"35-39 \\u00e5r\", \"40-44 \\u00e5r\", \"45-49 \\u00e5r\", \"50-54 \\u00e5r\", \"55-59 \\u00e5r\", \"60-64 \\u00e5r\", \"65-66 \\u00e5r\", \"67 \\u00e5r\", \"68 \\u00e5r\", \"69 \\u00e5r\"], \"xaxis\": \"x\", \"y\": [2.2, 3.3, 3.3, 3.5, 3.8, 4.1, 4.2, 4.6, 5.3, 6.1, 5.6, 3.0, 1.9, 2.2], \"yaxis\": \"y\", \"type\": \"scatter\"}, {\"hoverlabel\": {\"namelength\": 0}, \"hovertemplate\": \"kj\\u00f8nn=Kvinner<br>kvartal=2012K1<br>alder=%{x}<br>value=%{y}\", \"legendgroup\": \"kj\\u00f8nn=Kvinner\", \"marker\": {\"color\": \"#EF553B\", \"symbol\": \"circle\"}, \"mode\": \"markers\", \"name\": \"kj\\u00f8nn=Kvinner\", \"showlegend\": true, \"x\": [\"16-19 \\u00e5r\", \"20-24 \\u00e5r\", \"25-29 \\u00e5r\", \"30-34 \\u00e5r\", \"35-39 \\u00e5r\", \"40-44 \\u00e5r\", \"45-49 \\u00e5r\", \"50-54 \\u00e5r\", \"55-59 \\u00e5r\", \"60-64 \\u00e5r\", \"65-66 \\u00e5r\", \"67 \\u00e5r\", \"68 \\u00e5r\", \"69 \\u00e5r\"], \"xaxis\": \"x\", \"y\": [2.7, 5.3, 7.3, 8.4, 7.6, 7.1, 6.8, 7.2, 7.6, 8.6, 8.6, 4.7, 2.8, 2.6], \"yaxis\": \"y\", \"type\": \"scatter\"}], \"name\": \"2012K1\"}, {\"data\": [{\"hoverlabel\": {\"namelength\": 0}, \"hovertemplate\": \"kj\\u00f8nn=Menn<br>kvartal=2012K2<br>alder=%{x}<br>value=%{y}\", \"legendgroup\": \"kj\\u00f8nn=Menn\", \"marker\": {\"color\": \"#636efa\", \"symbol\": \"circle\"}, \"mode\": \"markers\", \"name\": \"kj\\u00f8nn=Menn\", \"showlegend\": true, \"x\": [\"16-19 \\u00e5r\", \"20-24 \\u00e5r\", \"25-29 \\u00e5r\", \"30-34 \\u00e5r\", \"35-39 \\u00e5r\", \"40-44 \\u00e5r\", \"45-49 \\u00e5r\", \"50-54 \\u00e5r\", \"55-59 \\u00e5r\", \"60-64 \\u00e5r\", \"65-66 \\u00e5r\", \"67 \\u00e5r\", \"68 \\u00e5r\", \"69 \\u00e5r\"], \"xaxis\": \"x\", \"y\": [2.0, 2.7, 2.9, 3.0, 3.2, 3.6, 3.9, 4.1, 4.8, 5.5, 5.4, 2.7, 1.9, 1.8], \"yaxis\": \"y\", \"type\": \"scatter\"}, {\"hoverlabel\": {\"namelength\": 0}, \"hovertemplate\": \"kj\\u00f8nn=Kvinner<br>kvartal=2012K2<br>alder=%{x}<br>value=%{y}\", \"legendgroup\": \"kj\\u00f8nn=Kvinner\", \"marker\": {\"color\": \"#EF553B\", \"symbol\": \"circle\"}, \"mode\": \"markers\", \"name\": \"kj\\u00f8nn=Kvinner\", \"showlegend\": true, \"x\": [\"16-19 \\u00e5r\", \"20-24 \\u00e5r\", \"25-29 \\u00e5r\", \"30-34 \\u00e5r\", \"35-39 \\u00e5r\", \"40-44 \\u00e5r\", \"45-49 \\u00e5r\", \"50-54 \\u00e5r\", \"55-59 \\u00e5r\", \"60-64 \\u00e5r\", \"65-66 \\u00e5r\", \"67 \\u00e5r\", \"68 \\u00e5r\", \"69 \\u00e5r\"], \"xaxis\": \"x\", \"y\": [2.2, 4.6, 6.6, 7.4, 6.9, 6.5, 6.3, 6.6, 6.9, 7.9, 8.3, 4.2, 2.1, 2.1], \"yaxis\": \"y\", \"type\": \"scatter\"}], \"name\": \"2012K2\"}, {\"data\": [{\"hoverlabel\": {\"namelength\": 0}, \"hovertemplate\": \"kj\\u00f8nn=Menn<br>kvartal=2012K3<br>alder=%{x}<br>value=%{y}\", \"legendgroup\": \"kj\\u00f8nn=Menn\", \"marker\": {\"color\": \"#636efa\", \"symbol\": \"circle\"}, \"mode\": \"markers\", \"name\": \"kj\\u00f8nn=Menn\", \"showlegend\": true, \"x\": [\"16-19 \\u00e5r\", \"20-24 \\u00e5r\", \"25-29 \\u00e5r\", \"30-34 \\u00e5r\", \"35-39 \\u00e5r\", \"40-44 \\u00e5r\", \"45-49 \\u00e5r\", \"50-54 \\u00e5r\", \"55-59 \\u00e5r\", \"60-64 \\u00e5r\", \"65-66 \\u00e5r\", \"67 \\u00e5r\", \"68 \\u00e5r\", \"69 \\u00e5r\"], \"xaxis\": \"x\", \"y\": [1.5, 2.5, 2.8, 2.8, 3.1, 3.4, 3.7, 3.9, 4.5, 5.2, 5.4, 2.4, 1.9, 1.2], \"yaxis\": \"y\", \"type\": \"scatter\"}, {\"hoverlabel\": {\"namelength\": 0}, \"hovertemplate\": \"kj\\u00f8nn=Kvinner<br>kvartal=2012K3<br>alder=%{x}<br>value=%{y}\", \"legendgroup\": \"kj\\u00f8nn=Kvinner\", \"marker\": {\"color\": \"#EF553B\", \"symbol\": \"circle\"}, \"mode\": \"markers\", \"name\": \"kj\\u00f8nn=Kvinner\", \"showlegend\": true, \"x\": [\"16-19 \\u00e5r\", \"20-24 \\u00e5r\", \"25-29 \\u00e5r\", \"30-34 \\u00e5r\", \"35-39 \\u00e5r\", \"40-44 \\u00e5r\", \"45-49 \\u00e5r\", \"50-54 \\u00e5r\", \"55-59 \\u00e5r\", \"60-64 \\u00e5r\", \"65-66 \\u00e5r\", \"67 \\u00e5r\", \"68 \\u00e5r\", \"69 \\u00e5r\"], \"xaxis\": \"x\", \"y\": [1.6, 3.9, 5.7, 6.2, 5.7, 5.5, 5.4, 5.8, 6.1, 7.1, 7.6, 3.0, 2.2, 1.6], \"yaxis\": \"y\", \"type\": \"scatter\"}], \"name\": \"2012K3\"}, {\"data\": [{\"hoverlabel\": {\"namelength\": 0}, \"hovertemplate\": \"kj\\u00f8nn=Menn<br>kvartal=2012K4<br>alder=%{x}<br>value=%{y}\", \"legendgroup\": \"kj\\u00f8nn=Menn\", \"marker\": {\"color\": \"#636efa\", \"symbol\": \"circle\"}, \"mode\": \"markers\", \"name\": \"kj\\u00f8nn=Menn\", \"showlegend\": true, \"x\": [\"16-19 \\u00e5r\", \"20-24 \\u00e5r\", \"25-29 \\u00e5r\", \"30-34 \\u00e5r\", \"35-39 \\u00e5r\", \"40-44 \\u00e5r\", \"45-49 \\u00e5r\", \"50-54 \\u00e5r\", \"55-59 \\u00e5r\", \"60-64 \\u00e5r\", \"65-66 \\u00e5r\", \"67 \\u00e5r\", \"68 \\u00e5r\", \"69 \\u00e5r\"], \"xaxis\": \"x\", \"y\": [1.8, 3.0, 3.1, 3.4, 3.6, 3.9, 4.2, 4.5, 5.2, 5.8, 5.8, 3.2, 1.8, 1.8], \"yaxis\": \"y\", \"type\": \"scatter\"}, {\"hoverlabel\": {\"namelength\": 0}, \"hovertemplate\": \"kj\\u00f8nn=Kvinner<br>kvartal=2012K4<br>alder=%{x}<br>value=%{y}\", \"legendgroup\": \"kj\\u00f8nn=Kvinner\", \"marker\": {\"color\": \"#EF553B\", \"symbol\": \"circle\"}, \"mode\": \"markers\", \"name\": \"kj\\u00f8nn=Kvinner\", \"showlegend\": true, \"x\": [\"16-19 \\u00e5r\", \"20-24 \\u00e5r\", \"25-29 \\u00e5r\", \"30-34 \\u00e5r\", \"35-39 \\u00e5r\", \"40-44 \\u00e5r\", \"45-49 \\u00e5r\", \"50-54 \\u00e5r\", \"55-59 \\u00e5r\", \"60-64 \\u00e5r\", \"65-66 \\u00e5r\", \"67 \\u00e5r\", \"68 \\u00e5r\", \"69 \\u00e5r\"], \"xaxis\": \"x\", \"y\": [2.1, 4.8, 7.0, 7.9, 7.3, 6.8, 6.6, 7.0, 7.3, 8.2, 8.2, 3.6, 2.0, 2.7], \"yaxis\": \"y\", \"type\": \"scatter\"}], \"name\": \"2012K4\"}, {\"data\": [{\"hoverlabel\": {\"namelength\": 0}, \"hovertemplate\": \"kj\\u00f8nn=Menn<br>kvartal=2013K1<br>alder=%{x}<br>value=%{y}\", \"legendgroup\": \"kj\\u00f8nn=Menn\", \"marker\": {\"color\": \"#636efa\", \"symbol\": \"circle\"}, \"mode\": \"markers\", \"name\": \"kj\\u00f8nn=Menn\", \"showlegend\": true, \"x\": [\"16-19 \\u00e5r\", \"20-24 \\u00e5r\", \"25-29 \\u00e5r\", \"30-34 \\u00e5r\", \"35-39 \\u00e5r\", \"40-44 \\u00e5r\", \"45-49 \\u00e5r\", \"50-54 \\u00e5r\", \"55-59 \\u00e5r\", \"60-64 \\u00e5r\", \"65-66 \\u00e5r\", \"67 \\u00e5r\", \"68 \\u00e5r\", \"69 \\u00e5r\"], \"xaxis\": \"x\", \"y\": [2.3, 3.2, 3.3, 3.6, 3.9, 4.1, 4.5, 4.7, 5.5, 6.1, 5.9, 3.3, 2.2, 2.1], \"yaxis\": \"y\", \"type\": \"scatter\"}, {\"hoverlabel\": {\"namelength\": 0}, \"hovertemplate\": \"kj\\u00f8nn=Kvinner<br>kvartal=2013K1<br>alder=%{x}<br>value=%{y}\", \"legendgroup\": \"kj\\u00f8nn=Kvinner\", \"marker\": {\"color\": \"#EF553B\", \"symbol\": \"circle\"}, \"mode\": \"markers\", \"name\": \"kj\\u00f8nn=Kvinner\", \"showlegend\": true, \"x\": [\"16-19 \\u00e5r\", \"20-24 \\u00e5r\", \"25-29 \\u00e5r\", \"30-34 \\u00e5r\", \"35-39 \\u00e5r\", \"40-44 \\u00e5r\", \"45-49 \\u00e5r\", \"50-54 \\u00e5r\", \"55-59 \\u00e5r\", \"60-64 \\u00e5r\", \"65-66 \\u00e5r\", \"67 \\u00e5r\", \"68 \\u00e5r\", \"69 \\u00e5r\"], \"xaxis\": \"x\", \"y\": [2.4, 5.2, 7.4, 8.5, 7.7, 7.2, 7.0, 7.4, 7.9, 8.8, 8.8, 4.7, 2.4, 2.9], \"yaxis\": \"y\", \"type\": \"scatter\"}], \"name\": \"2013K1\"}, {\"data\": [{\"hoverlabel\": {\"namelength\": 0}, \"hovertemplate\": \"kj\\u00f8nn=Menn<br>kvartal=2013K2<br>alder=%{x}<br>value=%{y}\", \"legendgroup\": \"kj\\u00f8nn=Menn\", \"marker\": {\"color\": \"#636efa\", \"symbol\": \"circle\"}, \"mode\": \"markers\", \"name\": \"kj\\u00f8nn=Menn\", \"showlegend\": true, \"x\": [\"16-19 \\u00e5r\", \"20-24 \\u00e5r\", \"25-29 \\u00e5r\", \"30-34 \\u00e5r\", \"35-39 \\u00e5r\", \"40-44 \\u00e5r\", \"45-49 \\u00e5r\", \"50-54 \\u00e5r\", \"55-59 \\u00e5r\", \"60-64 \\u00e5r\", \"65-66 \\u00e5r\", \"67 \\u00e5r\", \"68 \\u00e5r\", \"69 \\u00e5r\"], \"xaxis\": \"x\", \"y\": [2.0, 2.7, 2.8, 3.0, 3.4, 3.6, 3.9, 4.2, 4.8, 5.5, 5.5, 2.8, 1.7, 1.8], \"yaxis\": \"y\", \"type\": \"scatter\"}, {\"hoverlabel\": {\"namelength\": 0}, \"hovertemplate\": \"kj\\u00f8nn=Kvinner<br>kvartal=2013K2<br>alder=%{x}<br>value=%{y}\", \"legendgroup\": \"kj\\u00f8nn=Kvinner\", \"marker\": {\"color\": \"#EF553B\", \"symbol\": \"circle\"}, \"mode\": \"markers\", \"name\": \"kj\\u00f8nn=Kvinner\", \"showlegend\": true, \"x\": [\"16-19 \\u00e5r\", \"20-24 \\u00e5r\", \"25-29 \\u00e5r\", \"30-34 \\u00e5r\", \"35-39 \\u00e5r\", \"40-44 \\u00e5r\", \"45-49 \\u00e5r\", \"50-54 \\u00e5r\", \"55-59 \\u00e5r\", \"60-64 \\u00e5r\", \"65-66 \\u00e5r\", \"67 \\u00e5r\", \"68 \\u00e5r\", \"69 \\u00e5r\"], \"xaxis\": \"x\", \"y\": [2.2, 4.6, 6.5, 7.3, 6.9, 6.5, 6.2, 6.5, 6.9, 7.8, 8.4, 4.2, 1.9, 2.6], \"yaxis\": \"y\", \"type\": \"scatter\"}], \"name\": \"2013K2\"}, {\"data\": [{\"hoverlabel\": {\"namelength\": 0}, \"hovertemplate\": \"kj\\u00f8nn=Menn<br>kvartal=2013K3<br>alder=%{x}<br>value=%{y}\", \"legendgroup\": \"kj\\u00f8nn=Menn\", \"marker\": {\"color\": \"#636efa\", \"symbol\": \"circle\"}, \"mode\": \"markers\", \"name\": \"kj\\u00f8nn=Menn\", \"showlegend\": true, \"x\": [\"16-19 \\u00e5r\", \"20-24 \\u00e5r\", \"25-29 \\u00e5r\", \"30-34 \\u00e5r\", \"35-39 \\u00e5r\", \"40-44 \\u00e5r\", \"45-49 \\u00e5r\", \"50-54 \\u00e5r\", \"55-59 \\u00e5r\", \"60-64 \\u00e5r\", \"65-66 \\u00e5r\", \"67 \\u00e5r\", \"68 \\u00e5r\", \"69 \\u00e5r\"], \"xaxis\": \"x\", \"y\": [1.4, 2.4, 2.6, 2.8, 3.1, 3.2, 3.5, 3.8, 4.4, 5.0, 5.0, 2.6, 1.5, 1.3], \"yaxis\": \"y\", \"type\": \"scatter\"}, {\"hoverlabel\": {\"namelength\": 0}, \"hovertemplate\": \"kj\\u00f8nn=Kvinner<br>kvartal=2013K3<br>alder=%{x}<br>value=%{y}\", \"legendgroup\": \"kj\\u00f8nn=Kvinner\", \"marker\": {\"color\": \"#EF553B\", \"symbol\": \"circle\"}, \"mode\": \"markers\", \"name\": \"kj\\u00f8nn=Kvinner\", \"showlegend\": true, \"x\": [\"16-19 \\u00e5r\", \"20-24 \\u00e5r\", \"25-29 \\u00e5r\", \"30-34 \\u00e5r\", \"35-39 \\u00e5r\", \"40-44 \\u00e5r\", \"45-49 \\u00e5r\", \"50-54 \\u00e5r\", \"55-59 \\u00e5r\", \"60-64 \\u00e5r\", \"65-66 \\u00e5r\", \"67 \\u00e5r\", \"68 \\u00e5r\", \"69 \\u00e5r\"], \"xaxis\": \"x\", \"y\": [1.6, 3.7, 5.4, 6.0, 5.6, 5.3, 5.2, 5.6, 6.0, 6.7, 7.4, 3.3, 1.8, 2.0], \"yaxis\": \"y\", \"type\": \"scatter\"}], \"name\": \"2013K3\"}, {\"data\": [{\"hoverlabel\": {\"namelength\": 0}, \"hovertemplate\": \"kj\\u00f8nn=Menn<br>kvartal=2013K4<br>alder=%{x}<br>value=%{y}\", \"legendgroup\": \"kj\\u00f8nn=Menn\", \"marker\": {\"color\": \"#636efa\", \"symbol\": \"circle\"}, \"mode\": \"markers\", \"name\": \"kj\\u00f8nn=Menn\", \"showlegend\": true, \"x\": [\"16-19 \\u00e5r\", \"20-24 \\u00e5r\", \"25-29 \\u00e5r\", \"30-34 \\u00e5r\", \"35-39 \\u00e5r\", \"40-44 \\u00e5r\", \"45-49 \\u00e5r\", \"50-54 \\u00e5r\", \"55-59 \\u00e5r\", \"60-64 \\u00e5r\", \"65-66 \\u00e5r\", \"67 \\u00e5r\", \"68 \\u00e5r\", \"69 \\u00e5r\"], \"xaxis\": \"x\", \"y\": [1.7, 2.8, 3.0, 3.2, 3.5, 3.8, 4.1, 4.3, 5.0, 5.6, 5.5, 2.8, 2.1, 1.8], \"yaxis\": \"y\", \"type\": \"scatter\"}, {\"hoverlabel\": {\"namelength\": 0}, \"hovertemplate\": \"kj\\u00f8nn=Kvinner<br>kvartal=2013K4<br>alder=%{x}<br>value=%{y}\", \"legendgroup\": \"kj\\u00f8nn=Kvinner\", \"marker\": {\"color\": \"#EF553B\", \"symbol\": \"circle\"}, \"mode\": \"markers\", \"name\": \"kj\\u00f8nn=Kvinner\", \"showlegend\": true, \"x\": [\"16-19 \\u00e5r\", \"20-24 \\u00e5r\", \"25-29 \\u00e5r\", \"30-34 \\u00e5r\", \"35-39 \\u00e5r\", \"40-44 \\u00e5r\", \"45-49 \\u00e5r\", \"50-54 \\u00e5r\", \"55-59 \\u00e5r\", \"60-64 \\u00e5r\", \"65-66 \\u00e5r\", \"67 \\u00e5r\", \"68 \\u00e5r\", \"69 \\u00e5r\"], \"xaxis\": \"x\", \"y\": [2.0, 4.5, 6.7, 7.6, 7.2, 6.7, 6.5, 6.7, 7.0, 7.8, 8.0, 4.3, 2.2, 2.2], \"yaxis\": \"y\", \"type\": \"scatter\"}], \"name\": \"2013K4\"}, {\"data\": [{\"hoverlabel\": {\"namelength\": 0}, \"hovertemplate\": \"kj\\u00f8nn=Menn<br>kvartal=2014K1<br>alder=%{x}<br>value=%{y}\", \"legendgroup\": \"kj\\u00f8nn=Menn\", \"marker\": {\"color\": \"#636efa\", \"symbol\": \"circle\"}, \"mode\": \"markers\", \"name\": \"kj\\u00f8nn=Menn\", \"showlegend\": true, \"x\": [\"16-19 \\u00e5r\", \"20-24 \\u00e5r\", \"25-29 \\u00e5r\", \"30-34 \\u00e5r\", \"35-39 \\u00e5r\", \"40-44 \\u00e5r\", \"45-49 \\u00e5r\", \"50-54 \\u00e5r\", \"55-59 \\u00e5r\", \"60-64 \\u00e5r\", \"65-66 \\u00e5r\", \"67 \\u00e5r\", \"68 \\u00e5r\", \"69 \\u00e5r\"], \"xaxis\": \"x\", \"y\": [2.0, 2.9, 3.0, 3.4, 3.7, 3.9, 4.2, 4.6, 5.1, 5.8, 5.7, 3.0, 2.2, 1.8], \"yaxis\": \"y\", \"type\": \"scatter\"}, {\"hoverlabel\": {\"namelength\": 0}, \"hovertemplate\": \"kj\\u00f8nn=Kvinner<br>kvartal=2014K1<br>alder=%{x}<br>value=%{y}\", \"legendgroup\": \"kj\\u00f8nn=Kvinner\", \"marker\": {\"color\": \"#EF553B\", \"symbol\": \"circle\"}, \"mode\": \"markers\", \"name\": \"kj\\u00f8nn=Kvinner\", \"showlegend\": true, \"x\": [\"16-19 \\u00e5r\", \"20-24 \\u00e5r\", \"25-29 \\u00e5r\", \"30-34 \\u00e5r\", \"35-39 \\u00e5r\", \"40-44 \\u00e5r\", \"45-49 \\u00e5r\", \"50-54 \\u00e5r\", \"55-59 \\u00e5r\", \"60-64 \\u00e5r\", \"65-66 \\u00e5r\", \"67 \\u00e5r\", \"68 \\u00e5r\", \"69 \\u00e5r\"], \"xaxis\": \"x\", \"y\": [2.3, 4.8, 7.0, 8.0, 7.6, 7.0, 6.9, 7.0, 7.3, 8.3, 8.5, 4.4, 2.6, 2.5], \"yaxis\": \"y\", \"type\": \"scatter\"}], \"name\": \"2014K1\"}, {\"data\": [{\"hoverlabel\": {\"namelength\": 0}, \"hovertemplate\": \"kj\\u00f8nn=Menn<br>kvartal=2014K2<br>alder=%{x}<br>value=%{y}\", \"legendgroup\": \"kj\\u00f8nn=Menn\", \"marker\": {\"color\": \"#636efa\", \"symbol\": \"circle\"}, \"mode\": \"markers\", \"name\": \"kj\\u00f8nn=Menn\", \"showlegend\": true, \"x\": [\"16-19 \\u00e5r\", \"20-24 \\u00e5r\", \"25-29 \\u00e5r\", \"30-34 \\u00e5r\", \"35-39 \\u00e5r\", \"40-44 \\u00e5r\", \"45-49 \\u00e5r\", \"50-54 \\u00e5r\", \"55-59 \\u00e5r\", \"60-64 \\u00e5r\", \"65-66 \\u00e5r\", \"67 \\u00e5r\", \"68 \\u00e5r\", \"69 \\u00e5r\"], \"xaxis\": \"x\", \"y\": [1.8, 2.6, 2.7, 3.0, 3.3, 3.6, 4.0, 4.3, 4.8, 5.5, 5.5, 2.7, 1.9, 1.6], \"yaxis\": \"y\", \"type\": \"scatter\"}, {\"hoverlabel\": {\"namelength\": 0}, \"hovertemplate\": \"kj\\u00f8nn=Kvinner<br>kvartal=2014K2<br>alder=%{x}<br>value=%{y}\", \"legendgroup\": \"kj\\u00f8nn=Kvinner\", \"marker\": {\"color\": \"#EF553B\", \"symbol\": \"circle\"}, \"mode\": \"markers\", \"name\": \"kj\\u00f8nn=Kvinner\", \"showlegend\": true, \"x\": [\"16-19 \\u00e5r\", \"20-24 \\u00e5r\", \"25-29 \\u00e5r\", \"30-34 \\u00e5r\", \"35-39 \\u00e5r\", \"40-44 \\u00e5r\", \"45-49 \\u00e5r\", \"50-54 \\u00e5r\", \"55-59 \\u00e5r\", \"60-64 \\u00e5r\", \"65-66 \\u00e5r\", \"67 \\u00e5r\", \"68 \\u00e5r\", \"69 \\u00e5r\"], \"xaxis\": \"x\", \"y\": [2.1, 4.3, 6.3, 7.3, 7.1, 6.5, 6.5, 6.6, 6.9, 7.7, 8.1, 3.7, 2.4, 2.0], \"yaxis\": \"y\", \"type\": \"scatter\"}], \"name\": \"2014K2\"}, {\"data\": [{\"hoverlabel\": {\"namelength\": 0}, \"hovertemplate\": \"kj\\u00f8nn=Menn<br>kvartal=2014K3<br>alder=%{x}<br>value=%{y}\", \"legendgroup\": \"kj\\u00f8nn=Menn\", \"marker\": {\"color\": \"#636efa\", \"symbol\": \"circle\"}, \"mode\": \"markers\", \"name\": \"kj\\u00f8nn=Menn\", \"showlegend\": true, \"x\": [\"16-19 \\u00e5r\", \"20-24 \\u00e5r\", \"25-29 \\u00e5r\", \"30-34 \\u00e5r\", \"35-39 \\u00e5r\", \"40-44 \\u00e5r\", \"45-49 \\u00e5r\", \"50-54 \\u00e5r\", \"55-59 \\u00e5r\", \"60-64 \\u00e5r\", \"65-66 \\u00e5r\", \"67 \\u00e5r\", \"68 \\u00e5r\", \"69 \\u00e5r\"], \"xaxis\": \"x\", \"y\": [1.5, 2.4, 2.6, 2.9, 3.1, 3.4, 3.6, 3.9, 4.5, 5.1, 5.2, 2.6, 1.8, 1.5], \"yaxis\": \"y\", \"type\": \"scatter\"}, {\"hoverlabel\": {\"namelength\": 0}, \"hovertemplate\": \"kj\\u00f8nn=Kvinner<br>kvartal=2014K3<br>alder=%{x}<br>value=%{y}\", \"legendgroup\": \"kj\\u00f8nn=Kvinner\", \"marker\": {\"color\": \"#EF553B\", \"symbol\": \"circle\"}, \"mode\": \"markers\", \"name\": \"kj\\u00f8nn=Kvinner\", \"showlegend\": true, \"x\": [\"16-19 \\u00e5r\", \"20-24 \\u00e5r\", \"25-29 \\u00e5r\", \"30-34 \\u00e5r\", \"35-39 \\u00e5r\", \"40-44 \\u00e5r\", \"45-49 \\u00e5r\", \"50-54 \\u00e5r\", \"55-59 \\u00e5r\", \"60-64 \\u00e5r\", \"65-66 \\u00e5r\", \"67 \\u00e5r\", \"68 \\u00e5r\", \"69 \\u00e5r\"], \"xaxis\": \"x\", \"y\": [1.5, 3.6, 5.5, 6.1, 5.8, 5.4, 5.5, 5.7, 6.1, 6.8, 7.2, 3.3, 1.8, 1.7], \"yaxis\": \"y\", \"type\": \"scatter\"}], \"name\": \"2014K3\"}, {\"data\": [{\"hoverlabel\": {\"namelength\": 0}, \"hovertemplate\": \"kj\\u00f8nn=Menn<br>kvartal=2014K4<br>alder=%{x}<br>value=%{y}\", \"legendgroup\": \"kj\\u00f8nn=Menn\", \"marker\": {\"color\": \"#636efa\", \"symbol\": \"circle\"}, \"mode\": \"markers\", \"name\": \"kj\\u00f8nn=Menn\", \"showlegend\": true, \"x\": [\"16-19 \\u00e5r\", \"20-24 \\u00e5r\", \"25-29 \\u00e5r\", \"30-34 \\u00e5r\", \"35-39 \\u00e5r\", \"40-44 \\u00e5r\", \"45-49 \\u00e5r\", \"50-54 \\u00e5r\", \"55-59 \\u00e5r\", \"60-64 \\u00e5r\", \"65-66 \\u00e5r\", \"67 \\u00e5r\", \"68 \\u00e5r\", \"69 \\u00e5r\"], \"xaxis\": \"x\", \"y\": [1.7, 2.7, 2.9, 3.3, 3.5, 3.7, 4.1, 4.4, 4.9, 5.6, 5.8, 2.8, 2.1, 2.1], \"yaxis\": \"y\", \"type\": \"scatter\"}, {\"hoverlabel\": {\"namelength\": 0}, \"hovertemplate\": \"kj\\u00f8nn=Kvinner<br>kvartal=2014K4<br>alder=%{x}<br>value=%{y}\", \"legendgroup\": \"kj\\u00f8nn=Kvinner\", \"marker\": {\"color\": \"#EF553B\", \"symbol\": \"circle\"}, \"mode\": \"markers\", \"name\": \"kj\\u00f8nn=Kvinner\", \"showlegend\": true, \"x\": [\"16-19 \\u00e5r\", \"20-24 \\u00e5r\", \"25-29 \\u00e5r\", \"30-34 \\u00e5r\", \"35-39 \\u00e5r\", \"40-44 \\u00e5r\", \"45-49 \\u00e5r\", \"50-54 \\u00e5r\", \"55-59 \\u00e5r\", \"60-64 \\u00e5r\", \"65-66 \\u00e5r\", \"67 \\u00e5r\", \"68 \\u00e5r\", \"69 \\u00e5r\"], \"xaxis\": \"x\", \"y\": [2.1, 4.3, 6.6, 7.6, 7.3, 6.9, 6.8, 7.0, 7.2, 7.9, 8.1, 4.1, 2.3, 2.2], \"yaxis\": \"y\", \"type\": \"scatter\"}], \"name\": \"2014K4\"}, {\"data\": [{\"hoverlabel\": {\"namelength\": 0}, \"hovertemplate\": \"kj\\u00f8nn=Menn<br>kvartal=2015K1<br>alder=%{x}<br>value=%{y}\", \"legendgroup\": \"kj\\u00f8nn=Menn\", \"marker\": {\"color\": \"#636efa\", \"symbol\": \"circle\"}, \"mode\": \"markers\", \"name\": \"kj\\u00f8nn=Menn\", \"showlegend\": true, \"x\": [\"16-19 \\u00e5r\", \"20-24 \\u00e5r\", \"25-29 \\u00e5r\", \"30-34 \\u00e5r\", \"35-39 \\u00e5r\", \"40-44 \\u00e5r\", \"45-49 \\u00e5r\", \"50-54 \\u00e5r\", \"55-59 \\u00e5r\", \"60-64 \\u00e5r\", \"65-66 \\u00e5r\", \"67 \\u00e5r\", \"68 \\u00e5r\", \"69 \\u00e5r\"], \"xaxis\": \"x\", \"y\": [1.8, 2.8, 2.9, 3.3, 3.5, 3.9, 4.3, 4.5, 5.2, 6.0, 6.5, 2.9, 2.4, 2.2], \"yaxis\": \"y\", \"type\": \"scatter\"}, {\"hoverlabel\": {\"namelength\": 0}, \"hovertemplate\": \"kj\\u00f8nn=Kvinner<br>kvartal=2015K1<br>alder=%{x}<br>value=%{y}\", \"legendgroup\": \"kj\\u00f8nn=Kvinner\", \"marker\": {\"color\": \"#EF553B\", \"symbol\": \"circle\"}, \"mode\": \"markers\", \"name\": \"kj\\u00f8nn=Kvinner\", \"showlegend\": true, \"x\": [\"16-19 \\u00e5r\", \"20-24 \\u00e5r\", \"25-29 \\u00e5r\", \"30-34 \\u00e5r\", \"35-39 \\u00e5r\", \"40-44 \\u00e5r\", \"45-49 \\u00e5r\", \"50-54 \\u00e5r\", \"55-59 \\u00e5r\", \"60-64 \\u00e5r\", \"65-66 \\u00e5r\", \"67 \\u00e5r\", \"68 \\u00e5r\", \"69 \\u00e5r\"], \"xaxis\": \"x\", \"y\": [2.4, 4.6, 6.7, 7.6, 7.4, 6.9, 7.1, 7.4, 7.7, 8.7, 9.0, 4.1, 2.8, 2.8], \"yaxis\": \"y\", \"type\": \"scatter\"}], \"name\": \"2015K1\"}, {\"data\": [{\"hoverlabel\": {\"namelength\": 0}, \"hovertemplate\": \"kj\\u00f8nn=Menn<br>kvartal=2015K2<br>alder=%{x}<br>value=%{y}\", \"legendgroup\": \"kj\\u00f8nn=Menn\", \"marker\": {\"color\": \"#636efa\", \"symbol\": \"circle\"}, \"mode\": \"markers\", \"name\": \"kj\\u00f8nn=Menn\", \"showlegend\": true, \"x\": [\"16-19 \\u00e5r\", \"20-24 \\u00e5r\", \"25-29 \\u00e5r\", \"30-34 \\u00e5r\", \"35-39 \\u00e5r\", \"40-44 \\u00e5r\", \"45-49 \\u00e5r\", \"50-54 \\u00e5r\", \"55-59 \\u00e5r\", \"60-64 \\u00e5r\", \"65-66 \\u00e5r\", \"67 \\u00e5r\", \"68 \\u00e5r\", \"69 \\u00e5r\"], \"xaxis\": \"x\", \"y\": [1.8, 2.5, 2.7, 2.9, 3.2, 3.5, 3.9, 4.1, 4.7, 5.6, 6.1, 2.3, 2.2, 1.9], \"yaxis\": \"y\", \"type\": \"scatter\"}, {\"hoverlabel\": {\"namelength\": 0}, \"hovertemplate\": \"kj\\u00f8nn=Kvinner<br>kvartal=2015K2<br>alder=%{x}<br>value=%{y}\", \"legendgroup\": \"kj\\u00f8nn=Kvinner\", \"marker\": {\"color\": \"#EF553B\", \"symbol\": \"circle\"}, \"mode\": \"markers\", \"name\": \"kj\\u00f8nn=Kvinner\", \"showlegend\": true, \"x\": [\"16-19 \\u00e5r\", \"20-24 \\u00e5r\", \"25-29 \\u00e5r\", \"30-34 \\u00e5r\", \"35-39 \\u00e5r\", \"40-44 \\u00e5r\", \"45-49 \\u00e5r\", \"50-54 \\u00e5r\", \"55-59 \\u00e5r\", \"60-64 \\u00e5r\", \"65-66 \\u00e5r\", \"67 \\u00e5r\", \"68 \\u00e5r\", \"69 \\u00e5r\"], \"xaxis\": \"x\", \"y\": [2.0, 4.2, 6.0, 6.9, 6.7, 6.4, 6.6, 6.7, 6.9, 7.8, 8.1, 3.5, 2.3, 2.9], \"yaxis\": \"y\", \"type\": \"scatter\"}], \"name\": \"2015K2\"}, {\"data\": [{\"hoverlabel\": {\"namelength\": 0}, \"hovertemplate\": \"kj\\u00f8nn=Menn<br>kvartal=2015K3<br>alder=%{x}<br>value=%{y}\", \"legendgroup\": \"kj\\u00f8nn=Menn\", \"marker\": {\"color\": \"#636efa\", \"symbol\": \"circle\"}, \"mode\": \"markers\", \"name\": \"kj\\u00f8nn=Menn\", \"showlegend\": true, \"x\": [\"16-19 \\u00e5r\", \"20-24 \\u00e5r\", \"25-29 \\u00e5r\", \"30-34 \\u00e5r\", \"35-39 \\u00e5r\", \"40-44 \\u00e5r\", \"45-49 \\u00e5r\", \"50-54 \\u00e5r\", \"55-59 \\u00e5r\", \"60-64 \\u00e5r\", \"65-66 \\u00e5r\", \"67 \\u00e5r\", \"68 \\u00e5r\", \"69 \\u00e5r\"], \"xaxis\": \"x\", \"y\": [1.2, 2.2, 2.5, 2.7, 2.9, 3.3, 3.6, 3.9, 4.5, 5.2, 6.0, 2.5, 1.9, 1.5], \"yaxis\": \"y\", \"type\": \"scatter\"}, {\"hoverlabel\": {\"namelength\": 0}, \"hovertemplate\": \"kj\\u00f8nn=Kvinner<br>kvartal=2015K3<br>alder=%{x}<br>value=%{y}\", \"legendgroup\": \"kj\\u00f8nn=Kvinner\", \"marker\": {\"color\": \"#EF553B\", \"symbol\": \"circle\"}, \"mode\": \"markers\", \"name\": \"kj\\u00f8nn=Kvinner\", \"showlegend\": true, \"x\": [\"16-19 \\u00e5r\", \"20-24 \\u00e5r\", \"25-29 \\u00e5r\", \"30-34 \\u00e5r\", \"35-39 \\u00e5r\", \"40-44 \\u00e5r\", \"45-49 \\u00e5r\", \"50-54 \\u00e5r\", \"55-59 \\u00e5r\", \"60-64 \\u00e5r\", \"65-66 \\u00e5r\", \"67 \\u00e5r\", \"68 \\u00e5r\", \"69 \\u00e5r\"], \"xaxis\": \"x\", \"y\": [1.3, 3.3, 5.0, 5.7, 5.5, 5.3, 5.6, 5.8, 6.2, 7.1, 7.3, 3.0, 2.2, 2.3], \"yaxis\": \"y\", \"type\": \"scatter\"}], \"name\": \"2015K3\"}, {\"data\": [{\"hoverlabel\": {\"namelength\": 0}, \"hovertemplate\": \"kj\\u00f8nn=Menn<br>kvartal=2015K4<br>alder=%{x}<br>value=%{y}\", \"legendgroup\": \"kj\\u00f8nn=Menn\", \"marker\": {\"color\": \"#636efa\", \"symbol\": \"circle\"}, \"mode\": \"markers\", \"name\": \"kj\\u00f8nn=Menn\", \"showlegend\": true, \"x\": [\"16-19 \\u00e5r\", \"20-24 \\u00e5r\", \"25-29 \\u00e5r\", \"30-34 \\u00e5r\", \"35-39 \\u00e5r\", \"40-44 \\u00e5r\", \"45-49 \\u00e5r\", \"50-54 \\u00e5r\", \"55-59 \\u00e5r\", \"60-64 \\u00e5r\", \"65-66 \\u00e5r\", \"67 \\u00e5r\", \"68 \\u00e5r\", \"69 \\u00e5r\"], \"xaxis\": \"x\", \"y\": [1.5, 2.6, 2.8, 3.1, 3.4, 3.7, 4.1, 4.4, 5.0, 5.8, 6.3, 2.8, 2.0, 2.2], \"yaxis\": \"y\", \"type\": \"scatter\"}, {\"hoverlabel\": {\"namelength\": 0}, \"hovertemplate\": \"kj\\u00f8nn=Kvinner<br>kvartal=2015K4<br>alder=%{x}<br>value=%{y}\", \"legendgroup\": \"kj\\u00f8nn=Kvinner\", \"marker\": {\"color\": \"#EF553B\", \"symbol\": \"circle\"}, \"mode\": \"markers\", \"name\": \"kj\\u00f8nn=Kvinner\", \"showlegend\": true, \"x\": [\"16-19 \\u00e5r\", \"20-24 \\u00e5r\", \"25-29 \\u00e5r\", \"30-34 \\u00e5r\", \"35-39 \\u00e5r\", \"40-44 \\u00e5r\", \"45-49 \\u00e5r\", \"50-54 \\u00e5r\", \"55-59 \\u00e5r\", \"60-64 \\u00e5r\", \"65-66 \\u00e5r\", \"67 \\u00e5r\", \"68 \\u00e5r\", \"69 \\u00e5r\"], \"xaxis\": \"x\", \"y\": [1.9, 4.1, 6.0, 7.0, 6.8, 6.6, 6.7, 7.0, 7.2, 8.3, 8.3, 3.3, 2.7, 2.2], \"yaxis\": \"y\", \"type\": \"scatter\"}], \"name\": \"2015K4\"}, {\"data\": [{\"hoverlabel\": {\"namelength\": 0}, \"hovertemplate\": \"kj\\u00f8nn=Menn<br>kvartal=2016K1<br>alder=%{x}<br>value=%{y}\", \"legendgroup\": \"kj\\u00f8nn=Menn\", \"marker\": {\"color\": \"#636efa\", \"symbol\": \"circle\"}, \"mode\": \"markers\", \"name\": \"kj\\u00f8nn=Menn\", \"showlegend\": true, \"x\": [\"16-19 \\u00e5r\", \"20-24 \\u00e5r\", \"25-29 \\u00e5r\", \"30-34 \\u00e5r\", \"35-39 \\u00e5r\", \"40-44 \\u00e5r\", \"45-49 \\u00e5r\", \"50-54 \\u00e5r\", \"55-59 \\u00e5r\", \"60-64 \\u00e5r\", \"65-66 \\u00e5r\", \"67 \\u00e5r\", \"68 \\u00e5r\", \"69 \\u00e5r\"], \"xaxis\": \"x\", \"y\": [1.7, 2.6, 2.9, 3.2, 3.5, 3.8, 4.1, 4.6, 5.2, 6.0, 6.5, 2.8, 2.3, 2.4], \"yaxis\": \"y\", \"type\": \"scatter\"}, {\"hoverlabel\": {\"namelength\": 0}, \"hovertemplate\": \"kj\\u00f8nn=Kvinner<br>kvartal=2016K1<br>alder=%{x}<br>value=%{y}\", \"legendgroup\": \"kj\\u00f8nn=Kvinner\", \"marker\": {\"color\": \"#EF553B\", \"symbol\": \"circle\"}, \"mode\": \"markers\", \"name\": \"kj\\u00f8nn=Kvinner\", \"showlegend\": true, \"x\": [\"16-19 \\u00e5r\", \"20-24 \\u00e5r\", \"25-29 \\u00e5r\", \"30-34 \\u00e5r\", \"35-39 \\u00e5r\", \"40-44 \\u00e5r\", \"45-49 \\u00e5r\", \"50-54 \\u00e5r\", \"55-59 \\u00e5r\", \"60-64 \\u00e5r\", \"65-66 \\u00e5r\", \"67 \\u00e5r\", \"68 \\u00e5r\", \"69 \\u00e5r\"], \"xaxis\": \"x\", \"y\": [2.0, 4.2, 6.4, 7.4, 7.0, 6.8, 6.9, 7.2, 7.4, 8.5, 9.1, 3.6, 3.1, 2.6], \"yaxis\": \"y\", \"type\": \"scatter\"}], \"name\": \"2016K1\"}, {\"data\": [{\"hoverlabel\": {\"namelength\": 0}, \"hovertemplate\": \"kj\\u00f8nn=Menn<br>kvartal=2016K2<br>alder=%{x}<br>value=%{y}\", \"legendgroup\": \"kj\\u00f8nn=Menn\", \"marker\": {\"color\": \"#636efa\", \"symbol\": \"circle\"}, \"mode\": \"markers\", \"name\": \"kj\\u00f8nn=Menn\", \"showlegend\": true, \"x\": [\"16-19 \\u00e5r\", \"20-24 \\u00e5r\", \"25-29 \\u00e5r\", \"30-34 \\u00e5r\", \"35-39 \\u00e5r\", \"40-44 \\u00e5r\", \"45-49 \\u00e5r\", \"50-54 \\u00e5r\", \"55-59 \\u00e5r\", \"60-64 \\u00e5r\", \"65-66 \\u00e5r\", \"67 \\u00e5r\", \"68 \\u00e5r\", \"69 \\u00e5r\"], \"xaxis\": \"x\", \"y\": [1.6, 2.4, 2.6, 2.9, 3.2, 3.5, 3.8, 4.2, 4.8, 5.6, 5.9, 2.7, 2.1, 1.9], \"yaxis\": \"y\", \"type\": \"scatter\"}, {\"hoverlabel\": {\"namelength\": 0}, \"hovertemplate\": \"kj\\u00f8nn=Kvinner<br>kvartal=2016K2<br>alder=%{x}<br>value=%{y}\", \"legendgroup\": \"kj\\u00f8nn=Kvinner\", \"marker\": {\"color\": \"#EF553B\", \"symbol\": \"circle\"}, \"mode\": \"markers\", \"name\": \"kj\\u00f8nn=Kvinner\", \"showlegend\": true, \"x\": [\"16-19 \\u00e5r\", \"20-24 \\u00e5r\", \"25-29 \\u00e5r\", \"30-34 \\u00e5r\", \"35-39 \\u00e5r\", \"40-44 \\u00e5r\", \"45-49 \\u00e5r\", \"50-54 \\u00e5r\", \"55-59 \\u00e5r\", \"60-64 \\u00e5r\", \"65-66 \\u00e5r\", \"67 \\u00e5r\", \"68 \\u00e5r\", \"69 \\u00e5r\"], \"xaxis\": \"x\", \"y\": [1.8, 3.9, 5.8, 6.8, 6.6, 6.5, 6.6, 6.7, 6.9, 7.9, 8.3, 3.4, 2.2, 2.0], \"yaxis\": \"y\", \"type\": \"scatter\"}], \"name\": \"2016K2\"}, {\"data\": [{\"hoverlabel\": {\"namelength\": 0}, \"hovertemplate\": \"kj\\u00f8nn=Menn<br>kvartal=2016K3<br>alder=%{x}<br>value=%{y}\", \"legendgroup\": \"kj\\u00f8nn=Menn\", \"marker\": {\"color\": \"#636efa\", \"symbol\": \"circle\"}, \"mode\": \"markers\", \"name\": \"kj\\u00f8nn=Menn\", \"showlegend\": true, \"x\": [\"16-19 \\u00e5r\", \"20-24 \\u00e5r\", \"25-29 \\u00e5r\", \"30-34 \\u00e5r\", \"35-39 \\u00e5r\", \"40-44 \\u00e5r\", \"45-49 \\u00e5r\", \"50-54 \\u00e5r\", \"55-59 \\u00e5r\", \"60-64 \\u00e5r\", \"65-66 \\u00e5r\", \"67 \\u00e5r\", \"68 \\u00e5r\", \"69 \\u00e5r\"], \"xaxis\": \"x\", \"y\": [1.1, 2.1, 2.4, 2.8, 3.0, 3.2, 3.6, 3.9, 4.5, 5.2, 5.6, 2.4, 2.1, 1.6], \"yaxis\": \"y\", \"type\": \"scatter\"}, {\"hoverlabel\": {\"namelength\": 0}, \"hovertemplate\": \"kj\\u00f8nn=Kvinner<br>kvartal=2016K3<br>alder=%{x}<br>value=%{y}\", \"legendgroup\": \"kj\\u00f8nn=Kvinner\", \"marker\": {\"color\": \"#EF553B\", \"symbol\": \"circle\"}, \"mode\": \"markers\", \"name\": \"kj\\u00f8nn=Kvinner\", \"showlegend\": true, \"x\": [\"16-19 \\u00e5r\", \"20-24 \\u00e5r\", \"25-29 \\u00e5r\", \"30-34 \\u00e5r\", \"35-39 \\u00e5r\", \"40-44 \\u00e5r\", \"45-49 \\u00e5r\", \"50-54 \\u00e5r\", \"55-59 \\u00e5r\", \"60-64 \\u00e5r\", \"65-66 \\u00e5r\", \"67 \\u00e5r\", \"68 \\u00e5r\", \"69 \\u00e5r\"], \"xaxis\": \"x\", \"y\": [1.2, 3.1, 4.9, 5.6, 5.5, 5.3, 5.5, 5.8, 6.1, 7.0, 7.5, 2.8, 1.9, 2.2], \"yaxis\": \"y\", \"type\": \"scatter\"}], \"name\": \"2016K3\"}, {\"data\": [{\"hoverlabel\": {\"namelength\": 0}, \"hovertemplate\": \"kj\\u00f8nn=Menn<br>kvartal=2016K4<br>alder=%{x}<br>value=%{y}\", \"legendgroup\": \"kj\\u00f8nn=Menn\", \"marker\": {\"color\": \"#636efa\", \"symbol\": \"circle\"}, \"mode\": \"markers\", \"name\": \"kj\\u00f8nn=Menn\", \"showlegend\": true, \"x\": [\"16-19 \\u00e5r\", \"20-24 \\u00e5r\", \"25-29 \\u00e5r\", \"30-34 \\u00e5r\", \"35-39 \\u00e5r\", \"40-44 \\u00e5r\", \"45-49 \\u00e5r\", \"50-54 \\u00e5r\", \"55-59 \\u00e5r\", \"60-64 \\u00e5r\", \"65-66 \\u00e5r\", \"67 \\u00e5r\", \"68 \\u00e5r\", \"69 \\u00e5r\"], \"xaxis\": \"x\", \"y\": [1.6, 2.5, 2.9, 3.2, 3.6, 3.8, 4.1, 4.4, 5.1, 5.7, 6.2, 2.7, 2.4, 2.0], \"yaxis\": \"y\", \"type\": \"scatter\"}, {\"hoverlabel\": {\"namelength\": 0}, \"hovertemplate\": \"kj\\u00f8nn=Kvinner<br>kvartal=2016K4<br>alder=%{x}<br>value=%{y}\", \"legendgroup\": \"kj\\u00f8nn=Kvinner\", \"marker\": {\"color\": \"#EF553B\", \"symbol\": \"circle\"}, \"mode\": \"markers\", \"name\": \"kj\\u00f8nn=Kvinner\", \"showlegend\": true, \"x\": [\"16-19 \\u00e5r\", \"20-24 \\u00e5r\", \"25-29 \\u00e5r\", \"30-34 \\u00e5r\", \"35-39 \\u00e5r\", \"40-44 \\u00e5r\", \"45-49 \\u00e5r\", \"50-54 \\u00e5r\", \"55-59 \\u00e5r\", \"60-64 \\u00e5r\", \"65-66 \\u00e5r\", \"67 \\u00e5r\", \"68 \\u00e5r\", \"69 \\u00e5r\"], \"xaxis\": \"x\", \"y\": [1.8, 4.0, 6.1, 7.2, 6.9, 6.7, 6.9, 7.0, 7.4, 8.2, 8.5, 3.4, 2.3, 2.2], \"yaxis\": \"y\", \"type\": \"scatter\"}], \"name\": \"2016K4\"}, {\"data\": [{\"hoverlabel\": {\"namelength\": 0}, \"hovertemplate\": \"kj\\u00f8nn=Menn<br>kvartal=2017K1<br>alder=%{x}<br>value=%{y}\", \"legendgroup\": \"kj\\u00f8nn=Menn\", \"marker\": {\"color\": \"#636efa\", \"symbol\": \"circle\"}, \"mode\": \"markers\", \"name\": \"kj\\u00f8nn=Menn\", \"showlegend\": true, \"x\": [\"16-19 \\u00e5r\", \"20-24 \\u00e5r\", \"25-29 \\u00e5r\", \"30-34 \\u00e5r\", \"35-39 \\u00e5r\", \"40-44 \\u00e5r\", \"45-49 \\u00e5r\", \"50-54 \\u00e5r\", \"55-59 \\u00e5r\", \"60-64 \\u00e5r\", \"65-66 \\u00e5r\", \"67 \\u00e5r\", \"68 \\u00e5r\", \"69 \\u00e5r\"], \"xaxis\": \"x\", \"y\": [1.8, 2.7, 3.1, 3.4, 3.7, 4.0, 4.3, 4.7, 5.3, 6.1, 6.5, 3.4, 2.4, 2.3], \"yaxis\": \"y\", \"type\": \"scatter\"}, {\"hoverlabel\": {\"namelength\": 0}, \"hovertemplate\": \"kj\\u00f8nn=Kvinner<br>kvartal=2017K1<br>alder=%{x}<br>value=%{y}\", \"legendgroup\": \"kj\\u00f8nn=Kvinner\", \"marker\": {\"color\": \"#EF553B\", \"symbol\": \"circle\"}, \"mode\": \"markers\", \"name\": \"kj\\u00f8nn=Kvinner\", \"showlegend\": true, \"x\": [\"16-19 \\u00e5r\", \"20-24 \\u00e5r\", \"25-29 \\u00e5r\", \"30-34 \\u00e5r\", \"35-39 \\u00e5r\", \"40-44 \\u00e5r\", \"45-49 \\u00e5r\", \"50-54 \\u00e5r\", \"55-59 \\u00e5r\", \"60-64 \\u00e5r\", \"65-66 \\u00e5r\", \"67 \\u00e5r\", \"68 \\u00e5r\", \"69 \\u00e5r\"], \"xaxis\": \"x\", \"y\": [1.9, 4.3, 6.6, 7.8, 7.4, 7.1, 7.3, 7.5, 7.8, 8.7, 8.9, 3.9, 2.7, 2.5], \"yaxis\": \"y\", \"type\": \"scatter\"}], \"name\": \"2017K1\"}, {\"data\": [{\"hoverlabel\": {\"namelength\": 0}, \"hovertemplate\": \"kj\\u00f8nn=Menn<br>kvartal=2017K2<br>alder=%{x}<br>value=%{y}\", \"legendgroup\": \"kj\\u00f8nn=Menn\", \"marker\": {\"color\": \"#636efa\", \"symbol\": \"circle\"}, \"mode\": \"markers\", \"name\": \"kj\\u00f8nn=Menn\", \"showlegend\": true, \"x\": [\"16-19 \\u00e5r\", \"20-24 \\u00e5r\", \"25-29 \\u00e5r\", \"30-34 \\u00e5r\", \"35-39 \\u00e5r\", \"40-44 \\u00e5r\", \"45-49 \\u00e5r\", \"50-54 \\u00e5r\", \"55-59 \\u00e5r\", \"60-64 \\u00e5r\", \"65-66 \\u00e5r\", \"67 \\u00e5r\", \"68 \\u00e5r\", \"69 \\u00e5r\"], \"xaxis\": \"x\", \"y\": [1.5, 2.4, 2.7, 2.9, 3.2, 3.5, 3.9, 4.2, 4.8, 5.5, 6.2, 2.9, 2.1, 1.9], \"yaxis\": \"y\", \"type\": \"scatter\"}, {\"hoverlabel\": {\"namelength\": 0}, \"hovertemplate\": \"kj\\u00f8nn=Kvinner<br>kvartal=2017K2<br>alder=%{x}<br>value=%{y}\", \"legendgroup\": \"kj\\u00f8nn=Kvinner\", \"marker\": {\"color\": \"#EF553B\", \"symbol\": \"circle\"}, \"mode\": \"markers\", \"name\": \"kj\\u00f8nn=Kvinner\", \"showlegend\": true, \"x\": [\"16-19 \\u00e5r\", \"20-24 \\u00e5r\", \"25-29 \\u00e5r\", \"30-34 \\u00e5r\", \"35-39 \\u00e5r\", \"40-44 \\u00e5r\", \"45-49 \\u00e5r\", \"50-54 \\u00e5r\", \"55-59 \\u00e5r\", \"60-64 \\u00e5r\", \"65-66 \\u00e5r\", \"67 \\u00e5r\", \"68 \\u00e5r\", \"69 \\u00e5r\"], \"xaxis\": \"x\", \"y\": [1.5, 3.8, 5.9, 6.9, 6.8, 6.6, 6.6, 6.8, 7.0, 7.8, 7.9, 3.0, 2.1, 2.1], \"yaxis\": \"y\", \"type\": \"scatter\"}], \"name\": \"2017K2\"}, {\"data\": [{\"hoverlabel\": {\"namelength\": 0}, \"hovertemplate\": \"kj\\u00f8nn=Menn<br>kvartal=2017K3<br>alder=%{x}<br>value=%{y}\", \"legendgroup\": \"kj\\u00f8nn=Menn\", \"marker\": {\"color\": \"#636efa\", \"symbol\": \"circle\"}, \"mode\": \"markers\", \"name\": \"kj\\u00f8nn=Menn\", \"showlegend\": true, \"x\": [\"16-19 \\u00e5r\", \"20-24 \\u00e5r\", \"25-29 \\u00e5r\", \"30-34 \\u00e5r\", \"35-39 \\u00e5r\", \"40-44 \\u00e5r\", \"45-49 \\u00e5r\", \"50-54 \\u00e5r\", \"55-59 \\u00e5r\", \"60-64 \\u00e5r\", \"65-66 \\u00e5r\", \"67 \\u00e5r\", \"68 \\u00e5r\", \"69 \\u00e5r\"], \"xaxis\": \"x\", \"y\": [1.1, 2.1, 2.5, 2.7, 3.0, 3.2, 3.6, 3.9, 4.4, 5.1, 5.8, 2.6, 2.1, 1.7], \"yaxis\": \"y\", \"type\": \"scatter\"}, {\"hoverlabel\": {\"namelength\": 0}, \"hovertemplate\": \"kj\\u00f8nn=Kvinner<br>kvartal=2017K3<br>alder=%{x}<br>value=%{y}\", \"legendgroup\": \"kj\\u00f8nn=Kvinner\", \"marker\": {\"color\": \"#EF553B\", \"symbol\": \"circle\"}, \"mode\": \"markers\", \"name\": \"kj\\u00f8nn=Kvinner\", \"showlegend\": true, \"x\": [\"16-19 \\u00e5r\", \"20-24 \\u00e5r\", \"25-29 \\u00e5r\", \"30-34 \\u00e5r\", \"35-39 \\u00e5r\", \"40-44 \\u00e5r\", \"45-49 \\u00e5r\", \"50-54 \\u00e5r\", \"55-59 \\u00e5r\", \"60-64 \\u00e5r\", \"65-66 \\u00e5r\", \"67 \\u00e5r\", \"68 \\u00e5r\", \"69 \\u00e5r\"], \"xaxis\": \"x\", \"y\": [1.2, 3.0, 5.0, 5.9, 5.6, 5.4, 5.6, 6.0, 6.2, 7.0, 7.5, 2.9, 1.9, 2.1], \"yaxis\": \"y\", \"type\": \"scatter\"}], \"name\": \"2017K3\"}, {\"data\": [{\"hoverlabel\": {\"namelength\": 0}, \"hovertemplate\": \"kj\\u00f8nn=Menn<br>kvartal=2017K4<br>alder=%{x}<br>value=%{y}\", \"legendgroup\": \"kj\\u00f8nn=Menn\", \"marker\": {\"color\": \"#636efa\", \"symbol\": \"circle\"}, \"mode\": \"markers\", \"name\": \"kj\\u00f8nn=Menn\", \"showlegend\": true, \"x\": [\"16-19 \\u00e5r\", \"20-24 \\u00e5r\", \"25-29 \\u00e5r\", \"30-34 \\u00e5r\", \"35-39 \\u00e5r\", \"40-44 \\u00e5r\", \"45-49 \\u00e5r\", \"50-54 \\u00e5r\", \"55-59 \\u00e5r\", \"60-64 \\u00e5r\", \"65-66 \\u00e5r\", \"67 \\u00e5r\", \"68 \\u00e5r\", \"69 \\u00e5r\"], \"xaxis\": \"x\", \"y\": [1.5, 2.6, 2.9, 3.2, 3.6, 3.8, 4.2, 4.5, 5.0, 5.8, 6.3, 3.0, 2.4, 1.9], \"yaxis\": \"y\", \"type\": \"scatter\"}, {\"hoverlabel\": {\"namelength\": 0}, \"hovertemplate\": \"kj\\u00f8nn=Kvinner<br>kvartal=2017K4<br>alder=%{x}<br>value=%{y}\", \"legendgroup\": \"kj\\u00f8nn=Kvinner\", \"marker\": {\"color\": \"#EF553B\", \"symbol\": \"circle\"}, \"mode\": \"markers\", \"name\": \"kj\\u00f8nn=Kvinner\", \"showlegend\": true, \"x\": [\"16-19 \\u00e5r\", \"20-24 \\u00e5r\", \"25-29 \\u00e5r\", \"30-34 \\u00e5r\", \"35-39 \\u00e5r\", \"40-44 \\u00e5r\", \"45-49 \\u00e5r\", \"50-54 \\u00e5r\", \"55-59 \\u00e5r\", \"60-64 \\u00e5r\", \"65-66 \\u00e5r\", \"67 \\u00e5r\", \"68 \\u00e5r\", \"69 \\u00e5r\"], \"xaxis\": \"x\", \"y\": [1.8, 4.1, 6.3, 7.4, 7.2, 6.9, 7.1, 7.3, 7.5, 8.3, 8.4, 3.2, 2.4, 2.2], \"yaxis\": \"y\", \"type\": \"scatter\"}], \"name\": \"2017K4\"}, {\"data\": [{\"hoverlabel\": {\"namelength\": 0}, \"hovertemplate\": \"kj\\u00f8nn=Menn<br>kvartal=2018K1<br>alder=%{x}<br>value=%{y}\", \"legendgroup\": \"kj\\u00f8nn=Menn\", \"marker\": {\"color\": \"#636efa\", \"symbol\": \"circle\"}, \"mode\": \"markers\", \"name\": \"kj\\u00f8nn=Menn\", \"showlegend\": true, \"x\": [\"16-19 \\u00e5r\", \"20-24 \\u00e5r\", \"25-29 \\u00e5r\", \"30-34 \\u00e5r\", \"35-39 \\u00e5r\", \"40-44 \\u00e5r\", \"45-49 \\u00e5r\", \"50-54 \\u00e5r\", \"55-59 \\u00e5r\", \"60-64 \\u00e5r\", \"65-66 \\u00e5r\", \"67 \\u00e5r\", \"68 \\u00e5r\", \"69 \\u00e5r\"], \"xaxis\": \"x\", \"y\": [1.8, 2.8, 3.1, 3.5, 3.9, 4.1, 4.5, 4.7, 5.4, 6.2, 6.5, 3.5, 2.8, 2.3], \"yaxis\": \"y\", \"type\": \"scatter\"}, {\"hoverlabel\": {\"namelength\": 0}, \"hovertemplate\": \"kj\\u00f8nn=Kvinner<br>kvartal=2018K1<br>alder=%{x}<br>value=%{y}\", \"legendgroup\": \"kj\\u00f8nn=Kvinner\", \"marker\": {\"color\": \"#EF553B\", \"symbol\": \"circle\"}, \"mode\": \"markers\", \"name\": \"kj\\u00f8nn=Kvinner\", \"showlegend\": true, \"x\": [\"16-19 \\u00e5r\", \"20-24 \\u00e5r\", \"25-29 \\u00e5r\", \"30-34 \\u00e5r\", \"35-39 \\u00e5r\", \"40-44 \\u00e5r\", \"45-49 \\u00e5r\", \"50-54 \\u00e5r\", \"55-59 \\u00e5r\", \"60-64 \\u00e5r\", \"65-66 \\u00e5r\", \"67 \\u00e5r\", \"68 \\u00e5r\", \"69 \\u00e5r\"], \"xaxis\": \"x\", \"y\": [1.9, 4.2, 6.6, 7.9, 7.5, 7.2, 7.4, 7.6, 7.9, 8.9, 8.9, 3.5, 2.5, 2.1], \"yaxis\": \"y\", \"type\": \"scatter\"}], \"name\": \"2018K1\"}, {\"data\": [{\"hoverlabel\": {\"namelength\": 0}, \"hovertemplate\": \"kj\\u00f8nn=Menn<br>kvartal=2018K2<br>alder=%{x}<br>value=%{y}\", \"legendgroup\": \"kj\\u00f8nn=Menn\", \"marker\": {\"color\": \"#636efa\", \"symbol\": \"circle\"}, \"mode\": \"markers\", \"name\": \"kj\\u00f8nn=Menn\", \"showlegend\": true, \"x\": [\"16-19 \\u00e5r\", \"20-24 \\u00e5r\", \"25-29 \\u00e5r\", \"30-34 \\u00e5r\", \"35-39 \\u00e5r\", \"40-44 \\u00e5r\", \"45-49 \\u00e5r\", \"50-54 \\u00e5r\", \"55-59 \\u00e5r\", \"60-64 \\u00e5r\", \"65-66 \\u00e5r\", \"67 \\u00e5r\", \"68 \\u00e5r\", \"69 \\u00e5r\"], \"xaxis\": \"x\", \"y\": [1.6, 2.4, 2.7, 2.9, 3.2, 3.4, 3.8, 4.2, 4.7, 5.5, 5.8, 2.7, 1.9, 2.0], \"yaxis\": \"y\", \"type\": \"scatter\"}, {\"hoverlabel\": {\"namelength\": 0}, \"hovertemplate\": \"kj\\u00f8nn=Kvinner<br>kvartal=2018K2<br>alder=%{x}<br>value=%{y}\", \"legendgroup\": \"kj\\u00f8nn=Kvinner\", \"marker\": {\"color\": \"#EF553B\", \"symbol\": \"circle\"}, \"mode\": \"markers\", \"name\": \"kj\\u00f8nn=Kvinner\", \"showlegend\": true, \"x\": [\"16-19 \\u00e5r\", \"20-24 \\u00e5r\", \"25-29 \\u00e5r\", \"30-34 \\u00e5r\", \"35-39 \\u00e5r\", \"40-44 \\u00e5r\", \"45-49 \\u00e5r\", \"50-54 \\u00e5r\", \"55-59 \\u00e5r\", \"60-64 \\u00e5r\", \"65-66 \\u00e5r\", \"67 \\u00e5r\", \"68 \\u00e5r\", \"69 \\u00e5r\"], \"xaxis\": \"x\", \"y\": [1.6, 3.7, 5.8, 6.9, 6.5, 6.3, 6.4, 6.6, 6.8, 7.6, 7.8, 3.0, 1.7, 1.7], \"yaxis\": \"y\", \"type\": \"scatter\"}], \"name\": \"2018K2\"}, {\"data\": [{\"hoverlabel\": {\"namelength\": 0}, \"hovertemplate\": \"kj\\u00f8nn=Menn<br>kvartal=2018K3<br>alder=%{x}<br>value=%{y}\", \"legendgroup\": \"kj\\u00f8nn=Menn\", \"marker\": {\"color\": \"#636efa\", \"symbol\": \"circle\"}, \"mode\": \"markers\", \"name\": \"kj\\u00f8nn=Menn\", \"showlegend\": true, \"x\": [\"16-19 \\u00e5r\", \"20-24 \\u00e5r\", \"25-29 \\u00e5r\", \"30-34 \\u00e5r\", \"35-39 \\u00e5r\", \"40-44 \\u00e5r\", \"45-49 \\u00e5r\", \"50-54 \\u00e5r\", \"55-59 \\u00e5r\", \"60-64 \\u00e5r\", \"65-66 \\u00e5r\", \"67 \\u00e5r\", \"68 \\u00e5r\", \"69 \\u00e5r\"], \"xaxis\": \"x\", \"y\": [1.1, 2.1, 2.5, 2.8, 3.0, 3.2, 3.4, 3.8, 4.3, 5.0, 5.6, 2.6, 1.9, 1.7], \"yaxis\": \"y\", \"type\": \"scatter\"}, {\"hoverlabel\": {\"namelength\": 0}, \"hovertemplate\": \"kj\\u00f8nn=Kvinner<br>kvartal=2018K3<br>alder=%{x}<br>value=%{y}\", \"legendgroup\": \"kj\\u00f8nn=Kvinner\", \"marker\": {\"color\": \"#EF553B\", \"symbol\": \"circle\"}, \"mode\": \"markers\", \"name\": \"kj\\u00f8nn=Kvinner\", \"showlegend\": true, \"x\": [\"16-19 \\u00e5r\", \"20-24 \\u00e5r\", \"25-29 \\u00e5r\", \"30-34 \\u00e5r\", \"35-39 \\u00e5r\", \"40-44 \\u00e5r\", \"45-49 \\u00e5r\", \"50-54 \\u00e5r\", \"55-59 \\u00e5r\", \"60-64 \\u00e5r\", \"65-66 \\u00e5r\", \"67 \\u00e5r\", \"68 \\u00e5r\", \"69 \\u00e5r\"], \"xaxis\": \"x\", \"y\": [1.2, 3.0, 5.0, 6.0, 5.5, 5.2, 5.4, 5.8, 6.0, 6.8, 7.4, 2.6, 1.7, 1.7], \"yaxis\": \"y\", \"type\": \"scatter\"}], \"name\": \"2018K3\"}, {\"data\": [{\"hoverlabel\": {\"namelength\": 0}, \"hovertemplate\": \"kj\\u00f8nn=Menn<br>kvartal=2018K4<br>alder=%{x}<br>value=%{y}\", \"legendgroup\": \"kj\\u00f8nn=Menn\", \"marker\": {\"color\": \"#636efa\", \"symbol\": \"circle\"}, \"mode\": \"markers\", \"name\": \"kj\\u00f8nn=Menn\", \"showlegend\": true, \"x\": [\"16-19 \\u00e5r\", \"20-24 \\u00e5r\", \"25-29 \\u00e5r\", \"30-34 \\u00e5r\", \"35-39 \\u00e5r\", \"40-44 \\u00e5r\", \"45-49 \\u00e5r\", \"50-54 \\u00e5r\", \"55-59 \\u00e5r\", \"60-64 \\u00e5r\", \"65-66 \\u00e5r\", \"67 \\u00e5r\", \"68 \\u00e5r\", \"69 \\u00e5r\"], \"xaxis\": \"x\", \"y\": [1.6, 2.6, 2.9, 3.2, 3.5, 3.8, 4.0, 4.4, 4.9, 5.7, 6.2, 3.0, 2.3, 2.1], \"yaxis\": \"y\", \"type\": \"scatter\"}, {\"hoverlabel\": {\"namelength\": 0}, \"hovertemplate\": \"kj\\u00f8nn=Kvinner<br>kvartal=2018K4<br>alder=%{x}<br>value=%{y}\", \"legendgroup\": \"kj\\u00f8nn=Kvinner\", \"marker\": {\"color\": \"#EF553B\", \"symbol\": \"circle\"}, \"mode\": \"markers\", \"name\": \"kj\\u00f8nn=Kvinner\", \"showlegend\": true, \"x\": [\"16-19 \\u00e5r\", \"20-24 \\u00e5r\", \"25-29 \\u00e5r\", \"30-34 \\u00e5r\", \"35-39 \\u00e5r\", \"40-44 \\u00e5r\", \"45-49 \\u00e5r\", \"50-54 \\u00e5r\", \"55-59 \\u00e5r\", \"60-64 \\u00e5r\", \"65-66 \\u00e5r\", \"67 \\u00e5r\", \"68 \\u00e5r\", \"69 \\u00e5r\"], \"xaxis\": \"x\", \"y\": [1.7, 4.0, 6.3, 7.5, 7.1, 6.8, 6.8, 7.1, 7.3, 8.0, 8.4, 3.1, 1.9, 2.2], \"yaxis\": \"y\", \"type\": \"scatter\"}], \"name\": \"2018K4\"}]);\n",
       "                        }).then(function(){\n",
       "                            \n",
       "var gd = document.getElementById('7728dfc4-2a1b-46e5-803f-35f022d2cf5e');\n",
       "var x = new MutationObserver(function (mutations, observer) {{\n",
       "        var display = window.getComputedStyle(gd).display;\n",
       "        if (!display || display === 'none') {{\n",
       "            console.log([gd, 'removed!']);\n",
       "            Plotly.purge(gd);\n",
       "            observer.disconnect();\n",
       "        }}\n",
       "}});\n",
       "\n",
       "// Listen for the removal of the full notebook cells\n",
       "var notebookContainer = gd.closest('#notebook-container');\n",
       "if (notebookContainer) {{\n",
       "    x.observe(notebookContainer, {childList: true});\n",
       "}}\n",
       "\n",
       "// Listen for the clearing of the current output cell\n",
       "var outputEl = gd.closest('.output');\n",
       "if (outputEl) {{\n",
       "    x.observe(outputEl, {childList: true});\n",
       "}}\n",
       "\n",
       "                        })\n",
       "                };\n",
       "                });\n",
       "            </script>\n",
       "        </div>"
      ]
     },
     "metadata": {},
     "output_type": "display_data"
    }
   ],
   "source": [
    "margin = 1\n",
    "fig_3 = px.scatter(utv, x=\"alder\", y=\"value\", \n",
    "           animation_frame=\"kvartal\", color='kjønn', \n",
    "           range_y=[-margin,utv['value'].max() + margin])\n",
    "fig_3"
   ]
  },
  {
   "cell_type": "code",
   "execution_count": 79,
   "metadata": {},
   "outputs": [],
   "source": [
    "utv = df[(df['statistikkvariabel'] == 'Sykefraværsdagsverk') \n",
    "         & (df['region'] == 'Hele landet')\n",
    "         & (df['alder'] == '16-69 år')\n",
    "         & (df['kjønn'] == 'Begge kjønn')]\n",
    "\n",
    "trace1 = go.Bar(x=utv[\"kvartal\"], y=utv[\"value\"])"
   ]
  },
  {
   "cell_type": "code",
   "execution_count": 80,
   "metadata": {},
   "outputs": [],
   "source": [
    "utv = df[(df['statistikkvariabel'] == 'Sykefraværsprosent') \n",
    "         & (df['region'] == 'Hele landet')\n",
    "         & (df['alder'] == '16-69 år')\n",
    "         & (df['kjønn'] == 'Begge kjønn')]\n",
    "\n",
    "trace2 = go.Scatter(x=utv[\"kvartal\"], y=utv[\"value\"])"
   ]
  },
  {
   "cell_type": "code",
   "execution_count": 81,
   "metadata": {},
   "outputs": [],
   "source": [
    "utv = df[(df['statistikkvariabel'] == 'Sykefraværsprosent, prosentpoeng endring fra året før') \n",
    "         & (df['region'] == 'Hele landet')\n",
    "         & (df['alder'] == '16-69 år')\n",
    "         & (df['kjønn'] == 'Begge kjønn')]\n",
    "utv.head()\n",
    "\n",
    "trace3 = go.Scatter(x=utv[\"kvartal\"], y=utv[\"value\"])"
   ]
  },
  {
   "cell_type": "code",
   "execution_count": 82,
   "metadata": {},
   "outputs": [],
   "source": [
    "utv = df[(df['statistikkvariabel'] == 'Lønnstakere med sykefravær i prosent av arbeidstakere i alt') \n",
    "         & (df['region'] == 'Hele landet')\n",
    "         & (df['alder'] == '16-69 år')\n",
    "         & (df['kjønn'] == 'Begge kjønn')]\n",
    "utv.head()\n",
    "\n",
    "trace4 = go.Scatter(x=utv[\"kvartal\"], y=utv[\"value\"])"
   ]
  },
  {
   "cell_type": "code",
   "execution_count": 83,
   "metadata": {},
   "outputs": [
    {
     "name": "stdout",
     "output_type": "stream",
     "text": [
      "This is the format of your plot grid:\n",
      "[ (1,1) x1,y1 ]  [ (1,2) x2,y2 ]\n",
      "[ (2,1) x3,y3 ]  [ (2,2) x4,y4 ]\n",
      "\n"
     ]
    },
    {
     "data": {
      "application/vnd.jupyter.widget-view+json": {
       "model_id": "bc95ac00a81c4b5bb992d024ae4d16ed",
       "version_major": 2,
       "version_minor": 0
      },
      "text/plain": [
       "FigureWidget({\n",
       "    'data': [{'type': 'bar',\n",
       "              'uid': 'e23a0fb8-6c1a-4db0-940f-b00fd9bf62a5',\n",
       "     …"
      ]
     },
     "metadata": {},
     "output_type": "display_data"
    }
   ],
   "source": [
    "from plotly import tools\n",
    "\n",
    "fig_2 = tools.make_subplots(rows=2, cols=2,\n",
    "      subplot_titles=('Sykefraværsdagsverk',\n",
    "                      'Sykefraværsprosent',\n",
    "                      'Endring fra året før',\n",
    "                      'Andel med sykefravær'))\n",
    "\n",
    "fig_2.append_trace(trace1, 1, 1)\n",
    "fig_2.append_trace(trace2, 1, 2)\n",
    "fig_2.append_trace(trace3, 2, 1)\n",
    "fig_2.append_trace(trace4, 2, 2)\n",
    "\n",
    "fig_2['layout'].update(height=600, width=900, title='', showlegend=False)\n",
    "\n",
    "go.FigureWidget(fig_2)"
   ]
  },
  {
   "cell_type": "code",
   "execution_count": 84,
   "metadata": {},
   "outputs": [
    {
     "name": "stdout",
     "output_type": "stream",
     "text": [
      "This is the format of your plot grid:\n",
      "[ (1,1) x1,y1 ]  [ (1,2) x2,y2 ]\n",
      "[ (2,1) x3,y3           -      ]\n",
      "\n"
     ]
    },
    {
     "data": {
      "application/vnd.jupyter.widget-view+json": {
       "model_id": "fa03dafe74a447f8aa8581434644c1d5",
       "version_major": 2,
       "version_minor": 0
      },
      "text/plain": [
       "FigureWidget({\n",
       "    'data': [{'type': 'scatter',\n",
       "              'uid': '0c76b535-3325-48cf-b02c-79edf664f98f',\n",
       " …"
      ]
     },
     "metadata": {},
     "output_type": "display_data"
    }
   ],
   "source": [
    "fig_4 = tools.make_subplots(rows=2, cols=2, specs=[[{}, {}], [{'colspan': 2}, None]],\n",
    "                          subplot_titles=('Sykefraværsprosent','Endring fra året før', 'Sykefraværsdagsverk'))\n",
    "\n",
    "fig_4.append_trace(trace2, 1, 1)\n",
    "fig_4.append_trace(trace3, 1, 2)\n",
    "fig_4.append_trace(trace1, 2, 1)\n",
    "\n",
    "fig_4['layout'].update(height=600, width=900, title='', showlegend=False)\n",
    "\n",
    "go.FigureWidget(fig_4)"
   ]
  },
  {
   "cell_type": "markdown",
   "metadata": {},
   "source": [
    "## Create Datapackage"
   ]
  },
  {
   "cell_type": "code",
   "execution_count": 85,
   "metadata": {},
   "outputs": [],
   "source": [
    "metadata = {\n",
    "'store': 'gs',\n",
    "'host': 'https://raw.githubusercontent.com/datasett/nav-examples/master/',\n",
    "'title': 'Dashboard simple demo',\n",
    "'readme': '',\n",
    "'license':'MIT',\n",
    "'accessRights':'Open',\n",
    "'auth': 'NAV',\n",
    "'description':'Dashboard simple demo',\n",
    "'name':'Dashboard simple demo',\n",
    "'source':'NAV',\n",
    "'keywords':['dashboard, demo'],\n",
    "'provenance':'NAV',\n",
    "'publisher': 'NAV',\n",
    "'project': 'odata', \n",
    "'user':'nav-examples',\n",
    "'bucket': 'dataparcel',\n",
    "}"
   ]
  },
  {
   "cell_type": "code",
   "execution_count": 86,
   "metadata": {},
   "outputs": [],
   "source": [
    "dp = dv.Datapackage(metadata)"
   ]
  },
  {
   "cell_type": "markdown",
   "metadata": {},
   "source": [
    "### Add views"
   ]
  },
  {
   "cell_type": "code",
   "execution_count": 87,
   "metadata": {},
   "outputs": [
    {
     "data": {
      "text/plain": [
       "449    Lønnstakere med sykefravær i prosent av arbeid...\n",
       "Name: statistikkvariabel, dtype: object"
      ]
     },
     "execution_count": 87,
     "metadata": {},
     "output_type": "execute_result"
    }
   ],
   "source": [
    "periode = utv['kvartal'].max()\n",
    "sykefraværsprosent = utv[utv['kvartal'] == periode]['statistikkvariabel']\n",
    "sykefraværsprosent"
   ]
  },
  {
   "cell_type": "code",
   "execution_count": 88,
   "metadata": {},
   "outputs": [],
   "source": [
    "trace2 = go.Scatter(x=utv[\"kvartal\"], y=utv[\"value\"])\n",
    "\n",
    "desc = \"\"\"\n",
    "Sykefraværsprosent: **5.6**\n",
    "\"\"\"\n",
    "\n",
    "dp.add_view(\n",
    "    spec_type='plotly',\n",
    "    name='Sykefravær',\n",
    "    title='',\n",
    "    description =desc,\n",
    "    spec= plio.to_json(fig_4),\n",
    "    resources=''\n",
    ")"
   ]
  },
  {
   "cell_type": "code",
   "execution_count": 89,
   "metadata": {},
   "outputs": [],
   "source": [
    "dp.add_view(\n",
    "    spec_type='plotly',\n",
    "    name='Sykefravær',\n",
    "    title='',\n",
    "    description ='',\n",
    "    spec= plio.to_json(fig_2),\n",
    "    resources=''\n",
    ")"
   ]
  },
  {
   "cell_type": "code",
   "execution_count": 90,
   "metadata": {},
   "outputs": [],
   "source": [
    "dp.add_view(\n",
    "    spec_type='plotly',\n",
    "    name='Sykefravær',\n",
    "    title='',\n",
    "    description ='',\n",
    "    spec= plio.to_json(fig_3),\n",
    "    resources=''\n",
    ")"
   ]
  },
  {
   "cell_type": "code",
   "execution_count": 91,
   "metadata": {},
   "outputs": [],
   "source": [
    "import os\n",
    "os.environ['GOOGLE_APPLICATION_CREDENTIALS'] = '/users/b149899/projects/binder/binder/keys/mesiqi.json'\n"
   ]
  },
  {
   "cell_type": "markdown",
   "metadata": {},
   "source": [
    "## Save data and publish elastic search index entry"
   ]
  },
  {
   "cell_type": "code",
   "execution_count": 92,
   "metadata": {},
   "outputs": [
    {
     "name": "stdout",
     "output_type": "stream",
     "text": [
      "gs\n",
      "2019-06-07T11:17:57.707576: B149899 <class 'dataverk.connectors.google_storage.GoogleStorageConnector'>: String (format: json) written to https://storage.googleapis.com/dataparcel/ba7d6370c997eb352fa313d7a055b1a1/datapackage.json\n",
      "2019-06-07T11:17:58.212576: B149899 <class 'dataverk.connectors.elasticsearch.ElasticsearchConnector'>: Document ba7d6370c997eb352fa313d7a055b1a1 of type odata indexed to elastic index: odata.\n"
     ]
    }
   ],
   "source": [
    "#GOOGLE_APPLICATION_CREDENTIALS environment variable must be defined before initializing the client\n",
    "client = dv.Client() \n",
    "client.publish(dp)"
   ]
  },
  {
   "cell_type": "code",
   "execution_count": null,
   "metadata": {},
   "outputs": [],
   "source": []
  }
 ],
 "metadata": {
  "kernelspec": {
   "display_name": "Python (dv)",
   "language": "python",
   "name": "dv"
  },
  "language_info": {
   "codemirror_mode": {
    "name": "ipython",
    "version": 3
   },
   "file_extension": ".py",
   "mimetype": "text/x-python",
   "name": "python",
   "nbconvert_exporter": "python",
   "pygments_lexer": "ipython3",
   "version": "3.7.3"
  },
  "varInspector": {
   "cols": {
    "lenName": 16,
    "lenType": 16,
    "lenVar": 40
   },
   "kernels_config": {
    "python": {
     "delete_cmd_postfix": "",
     "delete_cmd_prefix": "del ",
     "library": "var_list.py",
     "varRefreshCmd": "print(var_dic_list())"
    },
    "r": {
     "delete_cmd_postfix": ") ",
     "delete_cmd_prefix": "rm(",
     "library": "var_list.r",
     "varRefreshCmd": "cat(var_dic_list()) "
    }
   },
   "types_to_exclude": [
    "module",
    "function",
    "builtin_function_or_method",
    "instance",
    "_Feature"
   ],
   "window_display": false
  }
 },
 "nbformat": 4,
 "nbformat_minor": 2
}
