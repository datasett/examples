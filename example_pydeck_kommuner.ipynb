{
  "nbformat": 4,
  "nbformat_minor": 0,
  "metadata": {
    "colab": {
      "name": "example_pydeck_kommuner.ipynb",
      "provenance": [],
      "authorship_tag": "ABX9TyMFD7eZiK7ibMwQbEDyzF21",
      "include_colab_link": true
    },
    "kernelspec": {
      "name": "python3",
      "display_name": "Python 3"
    }
  },
  "cells": [
    {
      "cell_type": "markdown",
      "metadata": {
        "id": "view-in-github",
        "colab_type": "text"
      },
      "source": [
        "<a href=\"https://colab.research.google.com/github/datasett/examples/blob/master/example_pydeck_kommuner.ipynb\" target=\"_parent\"><img src=\"https://colab.research.google.com/assets/colab-badge.svg\" alt=\"Open In Colab\"/></a>"
      ]
    },
    {
      "cell_type": "code",
      "metadata": {
        "id": "w-VQu4dTXv5g",
        "colab_type": "code",
        "colab": {}
      },
      "source": [
        "#!pip install deetly"
      ],
      "execution_count": 0,
      "outputs": []
    },
    {
      "cell_type": "code",
      "metadata": {
        "id": "AtAoowaxOR_g",
        "colab_type": "code",
        "colab": {}
      },
      "source": [
        "import json\n",
        "import requests\n",
        "\n",
        "import deetly\n",
        "import geopandas as gp\n",
        "from getpass import getpass\n",
        "import numpy as np\n",
        "import pandas as pd\n",
        "import pydeck"
      ],
      "execution_count": 0,
      "outputs": []
    },
    {
      "cell_type": "code",
      "metadata": {
        "id": "cNkYBrXDYOQG",
        "colab_type": "code",
        "colab": {
          "base_uri": "https://localhost:8080/",
          "height": 34
        },
        "outputId": "b69a02c3-7789-4a97-a9c3-2b2ca99aeebf"
      },
      "source": [
        "MAPBOX_TOKEN = getpass('Enter your mapbox token here')"
      ],
      "execution_count": 4,
      "outputs": [
        {
          "output_type": "stream",
          "text": [
            "Enter token here··········\n"
          ],
          "name": "stdout"
        }
      ]
    },
    {
      "cell_type": "code",
      "metadata": {
        "id": "aweTfGUKRUtA",
        "colab_type": "code",
        "colab": {}
      },
      "source": [
        "DATA_URL = 'https://raw.githubusercontent.com/datasett/maps/master/norway/data/counties_2018_s_geojson.json'"
      ],
      "execution_count": 0,
      "outputs": []
    },
    {
      "cell_type": "code",
      "metadata": {
        "id": "KxfIRqv6Lt_J",
        "colab_type": "code",
        "colab": {}
      },
      "source": [
        "description = \"\"\"\n",
        "# Mapping with pydeck\n",
        "\"\"\"\n",
        "\n",
        "package = {\n",
        "    \"title\":\"Example: Norwegian Counties Area\",\n",
        "    \"name\":\"Example: Norwegian Counties Area\", \n",
        "    \"description\":description, \n",
        "    \"author\":\"Paul Bencze\", \n",
        "    \"theme\":\"examples\",\n",
        "    \"license\": \"MIT\",\n",
        "    \"keywords\": [\"examples, pydeck, counties, maps\"]\n",
        "}\n",
        "\n",
        "dp = deetly.package(package)"
      ],
      "execution_count": 0,
      "outputs": []
    },
    {
      "cell_type": "code",
      "metadata": {
        "id": "IfHaItxIRMcC",
        "colab_type": "code",
        "colab": {}
      },
      "source": [
        "# Map centered on Trondheim, Norway\n",
        "view_state_norway = pydeck.ViewState(\n",
        "    longitude = 17,\n",
        "    latitude= 64,\n",
        "    zoom= 3,\n",
        "    minZoom= 3,\n",
        "    maxZoom= 12,\n",
        "    pitch= 45,\n",
        "    bearing= 0)"
      ],
      "execution_count": 0,
      "outputs": []
    },
    {
      "cell_type": "code",
      "metadata": {
        "id": "gZLcHR4ZQ51R",
        "colab_type": "code",
        "outputId": "d33e1588-fe0b-4f12-9a5a-3768118bd7af",
        "colab": {
          "base_uri": "https://localhost:8080/",
          "height": 538
        }
      },
      "source": [
        "layer = pydeck.Layer(\n",
        "    'GeoJsonLayer',\n",
        "    DATA_URL,\n",
        "    stroked = False,\n",
        "    filled = True,\n",
        "    extruded = True,\n",
        "    wireframe = True,\n",
        "    elevationScale = 250000,\n",
        "    getElevation = 'properties.area_kommune',\n",
        "    getFillColor = [\n",
        "        199,\n",
        "        233,\n",
        "        180\n",
        "      ],\n",
        "    getLineColor = [\n",
        "        255,\n",
        "        255,\n",
        "        255\n",
        "    ]\n",
        ")\n",
        "\n",
        "# Render\n",
        "fig = pydeck.Deck(layers=[layer], initial_view_state=view_state_norway, mapbox_key=MAPBOX_TOKEN)\n",
        "fig.to_html('fig.html')"
      ],
      "execution_count": 8,
      "outputs": [
        {
          "output_type": "display_data",
          "data": {
            "text/html": [
              "\n",
              "        <iframe\n",
              "            width=\"700\"\n",
              "            height=\"500\"\n",
              "            src=\"./fig.html\"\n",
              "            frameborder=\"0\"\n",
              "            allowfullscreen\n",
              "        ></iframe>\n",
              "        "
            ],
            "text/plain": [
              "<IPython.lib.display.IFrame at 0x7f506977d748>"
            ]
          },
          "metadata": {
            "tags": []
          }
        },
        {
          "output_type": "execute_result",
          "data": {
            "text/plain": [
              "'/content/fig.html'"
            ]
          },
          "metadata": {
            "tags": []
          },
          "execution_count": 8
        }
      ]
    },
    {
      "cell_type": "code",
      "metadata": {
        "id": "9UVgrW5USd-5",
        "colab_type": "code",
        "colab": {}
      },
      "source": [
        "# Add figure to data package\n",
        "description = \"\"\"\n",
        "## Area of Norwegian counties\n",
        "\"\"\"\n",
        "\n",
        "dp.pydeck(fig, \"Counties Area\",description)"
      ],
      "execution_count": 0,
      "outputs": []
    },
    {
      "cell_type": "code",
      "metadata": {
        "id": "3t5mFjhrYs71",
        "colab_type": "code",
        "colab": {
          "base_uri": "https://localhost:8080/",
          "height": 34
        },
        "outputId": "bd6c134f-4b00-46e8-d8c3-7f9d6eb0feaf"
      },
      "source": [
        "space = getpass('Enter space to publish to here')"
      ],
      "execution_count": 10,
      "outputs": [
        {
          "output_type": "stream",
          "text": [
            "Enter space to publish to here··········\n"
          ],
          "name": "stdout"
        }
      ]
    },
    {
      "cell_type": "code",
      "metadata": {
        "id": "a0hIvGVDYwpW",
        "colab_type": "code",
        "colab": {
          "base_uri": "https://localhost:8080/",
          "height": 34
        },
        "outputId": "0f96330e-9d30-47c8-9ee2-50d260f0f1fb"
      },
      "source": [
        "token = getpass('Enter your token here')"
      ],
      "execution_count": 11,
      "outputs": [
        {
          "output_type": "stream",
          "text": [
            "Enter your token here··········\n"
          ],
          "name": "stdout"
        }
      ]
    },
    {
      "cell_type": "code",
      "metadata": {
        "id": "4vvs_Dl1Tu3g",
        "colab_type": "code",
        "outputId": "17ec5f35-c356-4bbc-e535-5a52fce83bb2",
        "colab": {
          "base_uri": "https://localhost:8080/",
          "height": 105
        }
      },
      "source": [
        "# publish datapackage\n",
        "item = dp.publish(space, token)"
      ],
      "execution_count": 15,
      "outputs": [
        {
          "output_type": "stream",
          "text": [
            "Datapackage: https://storage.googleapis.com/deetly/dVd1SG/911b7f0831a4610bb650de0df09adfbf/datapackage.json \n",
            "\n",
            "Metadata index entry: updated \n",
            "\n"
          ],
          "name": "stdout"
        }
      ]
    }
  ]
}