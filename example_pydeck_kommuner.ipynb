{
  "nbformat": 4,
  "nbformat_minor": 0,
  "metadata": {
    "colab": {
      "name": "example_pydeck_kommuner.ipynb",
      "provenance": [],
      "authorship_tag": "ABX9TyM0lR+BlGZSwrSIdOaDZ6Da",
      "include_colab_link": true
    },
    "kernelspec": {
      "name": "python3",
      "display_name": "Python 3"
    }
  },
  "cells": [
    {
      "cell_type": "markdown",
      "metadata": {
        "id": "view-in-github",
        "colab_type": "text"
      },
      "source": [
        "<a href=\"https://colab.research.google.com/github/datasett/examples/blob/master/example_pydeck_kommuner.ipynb\" target=\"_parent\"><img src=\"https://colab.research.google.com/assets/colab-badge.svg\" alt=\"Open In Colab\"/></a>"
      ]
    },
    {
      "cell_type": "code",
      "metadata": {
        "id": "AtAoowaxOR_g",
        "colab_type": "code",
        "colab": {}
      },
      "source": [
        "import deetly\n",
        "import pydeck\n",
        "import json\n",
        "import requests\n",
        "import geopandas as gp\n",
        "import pandas as pd\n",
        "import numpy as np"
      ],
      "execution_count": 0,
      "outputs": []
    },
    {
      "cell_type": "code",
      "metadata": {
        "id": "aweTfGUKRUtA",
        "colab_type": "code",
        "colab": {}
      },
      "source": [
        "MAPBOX_TOKEN = '<token>'\n",
        "DATA_URL = 'https://raw.githubusercontent.com/datasett/maps/master/norway/data/counties_2018_s_geojson.json'"
      ],
      "execution_count": 0,
      "outputs": []
    },
    {
      "cell_type": "code",
      "metadata": {
        "id": "KxfIRqv6Lt_J",
        "colab_type": "code",
        "colab": {}
      },
      "source": [
        "description = \"\"\"\n",
        "# Mapping with pydeck\n",
        "\"\"\"\n",
        "\n",
        "package = {\n",
        "    \"title\":\"Example: Norwegian Counties Area\",\n",
        "    \"name\":\"Example: Norwegian Counties Area\", \n",
        "    \"description\":description, \n",
        "    \"author\":\"Paul Bencze\", \n",
        "    \"theme\":\"examples\",\n",
        "    \"license\": \"MIT\",\n",
        "    \"keywords\": [\"examples, pydeck, counties, maps\"]\n",
        "}\n",
        "\n",
        "dp = deetly.package(package)"
      ],
      "execution_count": 0,
      "outputs": []
    },
    {
      "cell_type": "code",
      "metadata": {
        "id": "IfHaItxIRMcC",
        "colab_type": "code",
        "colab": {}
      },
      "source": [
        "view_state_norway = pydeck.ViewState(\n",
        "    longitude = 17,\n",
        "    latitude= 64,\n",
        "    zoom= 3,\n",
        "    minZoom= 3,\n",
        "    maxZoom= 12,\n",
        "    pitch= 45,\n",
        "    bearing= 0)"
      ],
      "execution_count": 0,
      "outputs": []
    },
    {
      "cell_type": "code",
      "metadata": {
        "id": "gZLcHR4ZQ51R",
        "colab_type": "code",
        "colab": {
          "base_uri": "https://localhost:8080/",
          "height": 538
        },
        "outputId": "5b2312d1-63f7-4dc1-fafb-ab3061680b08"
      },
      "source": [
        "layer = pydeck.Layer(\n",
        "    'GeoJsonLayer',\n",
        "    DATA_URL,\n",
        "    stroked = False,\n",
        "    filled = True,\n",
        "    extruded = True,\n",
        "    wireframe = True,\n",
        "    elevationScale = 250000,\n",
        "    getElevation = 'properties.area_kommune',\n",
        "    getFillColor = [\n",
        "        199,\n",
        "        233,\n",
        "        180\n",
        "      ],\n",
        "    getLineColor = [\n",
        "        255,\n",
        "        255,\n",
        "        255\n",
        "    ]\n",
        ")\n",
        "\n",
        "# Render\n",
        "fig = pydeck.Deck(layers=[layer], initial_view_state=view_state_norway, mapbox_key=MAPBOX_TOKEN)\n",
        "fig.to_html('fig.html')"
      ],
      "execution_count": 21,
      "outputs": [
        {
          "output_type": "display_data",
          "data": {
            "text/html": [
              "\n",
              "        <iframe\n",
              "            width=\"700\"\n",
              "            height=\"500\"\n",
              "            src=\"./fig.html\"\n",
              "            frameborder=\"0\"\n",
              "            allowfullscreen\n",
              "        ></iframe>\n",
              "        "
            ],
            "text/plain": [
              "<IPython.lib.display.IFrame at 0x7f54f9adc588>"
            ]
          },
          "metadata": {
            "tags": []
          }
        },
        {
          "output_type": "execute_result",
          "data": {
            "text/plain": [
              "'/content/fig.html'"
            ]
          },
          "metadata": {
            "tags": []
          },
          "execution_count": 21
        }
      ]
    },
    {
      "cell_type": "code",
      "metadata": {
        "id": "9UVgrW5USd-5",
        "colab_type": "code",
        "colab": {}
      },
      "source": [
        "description = \"\"\"\n",
        "## Area of Norwegian counties\n",
        "\"\"\"\n",
        "\n",
        "dp.pydeck(fig, \"Counties Area\",description)"
      ],
      "execution_count": 0,
      "outputs": []
    },
    {
      "cell_type": "code",
      "metadata": {
        "id": "4vvs_Dl1Tu3g",
        "colab_type": "code",
        "colab": {
          "base_uri": "https://localhost:8080/",
          "height": 85
        },
        "outputId": "ca79ad6c-da2b-4408-c685-63bb9b4bd555"
      },
      "source": [
        "item = dp.publish(\"<space>\", \"<token>\")"
      ],
      "execution_count": 23,
      "outputs": [
        {
          "output_type": "stream",
          "text": [
            "Datapackage: https://storage.googleapis.com/deetly/dVd1SG/911b7f0831a4610bb650de0df09adfbf/datapackage.json \n",
            "\n",
            "Metadata index entry: created \n",
            "\n"
          ],
          "name": "stdout"
        }
      ]
    }
  ]
}