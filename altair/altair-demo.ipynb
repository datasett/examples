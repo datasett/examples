{
 "cells": [
  {
   "cell_type": "markdown",
   "metadata": {
    "colab_type": "text",
    "id": "view-in-github"
   },
   "source": [
    "<a href=\"https://colab.research.google.com/github/datasett/nav_opendata/blob/master/packages/arbeidsforhold/etl.ipynb\" target=\"_parent\"><img src=\"https://colab.research.google.com/assets/colab-badge.svg\" alt=\"Open In Colab\"/></a>"
   ]
  },
  {
   "cell_type": "markdown",
   "metadata": {
    "colab_type": "text",
    "id": "8EZlxYUYCLrA"
   },
   "source": [
    "# Setup"
   ]
  },
  {
   "cell_type": "code",
   "execution_count": 1,
   "metadata": {
    "colab": {},
    "colab_type": "code",
    "id": "30tbnyKcvwzn"
   },
   "outputs": [
    {
     "name": "stdout",
     "output_type": "stream",
     "text": [
      "Requirement already satisfied: dataverk in /Users/B149899/Projects/dataverk/src (0.2.2)\n",
      "Requirement already satisfied: dask[complete]==2.0.0 in /Users/B149899/anaconda3/envs/py37/lib/python3.7/site-packages (from dataverk) (2.0.0)\n",
      "Requirement already satisfied: google-api-core==1.10.0 in /Users/B149899/anaconda3/envs/py37/lib/python3.7/site-packages (from dataverk) (1.10.0)\n",
      "Requirement already satisfied: google-auth==1.6.3 in /Users/B149899/anaconda3/envs/py37/lib/python3.7/site-packages (from dataverk) (1.6.3)\n",
      "Requirement already satisfied: google-cloud-bigquery==1.11.2 in /Users/B149899/anaconda3/envs/py37/lib/python3.7/site-packages (from dataverk) (1.11.2)\n",
      "Requirement already satisfied: google-cloud-core==0.29.1 in /Users/B149899/anaconda3/envs/py37/lib/python3.7/site-packages (from dataverk) (0.29.1)\n",
      "Requirement already satisfied: google-cloud-storage==1.15.0 in /Users/B149899/anaconda3/envs/py37/lib/python3.7/site-packages (from dataverk) (1.15.0)\n",
      "Requirement already satisfied: google-resumable-media==0.3.2 in /Users/B149899/anaconda3/envs/py37/lib/python3.7/site-packages (from dataverk) (0.3.2)\n",
      "Requirement already satisfied: googleapis-common-protos==1.5.10 in /Users/B149899/anaconda3/envs/py37/lib/python3.7/site-packages (from dataverk) (1.5.10)\n",
      "Requirement already satisfied: avro-python3==1.8.2 in /Users/B149899/anaconda3/envs/py37/lib/python3.7/site-packages (from dataverk) (1.8.2)\n",
      "Requirement already satisfied: hvac==0.8.2 in /Users/B149899/anaconda3/envs/py37/lib/python3.7/site-packages (from dataverk) (0.8.2)\n",
      "Requirement already satisfied: SQLAlchemy==1.3.3 in /Users/B149899/anaconda3/envs/py37/lib/python3.7/site-packages (from dataverk) (1.3.3)\n",
      "Requirement already satisfied: urllib3==1.24.3 in /Users/B149899/anaconda3/envs/py37/lib/python3.7/site-packages (from dataverk) (1.24.3)\n",
      "Requirement already satisfied: fire==0.1.3 in /Users/B149899/anaconda3/envs/py37/lib/python3.7/site-packages (from dataverk) (0.1.3)\n",
      "Requirement already satisfied: prometheus_client==0.6.0 in /Users/B149899/anaconda3/envs/py37/lib/python3.7/site-packages (from dataverk) (0.6.0)\n",
      "Requirement already satisfied: pyjstat==1.0.1 in /Users/B149899/anaconda3/envs/py37/lib/python3.7/site-packages (from dataverk) (1.0.1)\n",
      "Requirement already satisfied: requests==2.21.0 in /Users/B149899/anaconda3/envs/py37/lib/python3.7/site-packages (from dataverk) (2.21.0)\n",
      "Requirement already satisfied: pandas==0.24.2 in /Users/B149899/anaconda3/envs/py37/lib/python3.7/site-packages (from dataverk) (0.24.2)\n",
      "Requirement already satisfied: cx_Oracle==7.1.3 in /Users/B149899/anaconda3/envs/py37/lib/python3.7/site-packages (from dataverk) (7.1.3)\n",
      "Requirement already satisfied: protobuf==3.7.1 in /Users/B149899/anaconda3/envs/py37/lib/python3.7/site-packages (from dataverk) (3.7.1)\n",
      "Requirement already satisfied: sphinx-rtd-theme==0.4.3 in /Users/B149899/anaconda3/envs/py37/lib/python3.7/site-packages (from dataverk) (0.4.3)\n",
      "Requirement already satisfied: nbsphinx==0.4.2 in /Users/B149899/anaconda3/envs/py37/lib/python3.7/site-packages (from dataverk) (0.4.2)\n",
      "Requirement already satisfied: Sphinx==2.0.1 in /Users/B149899/anaconda3/envs/py37/lib/python3.7/site-packages (from dataverk) (2.0.1)\n",
      "Requirement already satisfied: kafka-python==1.4.6 in /Users/B149899/anaconda3/envs/py37/lib/python3.7/site-packages (from dataverk) (1.4.6)\n",
      "Requirement already satisfied: elasticsearch==7.0.0 in /Users/B149899/anaconda3/envs/py37/lib/python3.7/site-packages (from dataverk) (7.0.0)\n",
      "Requirement already satisfied: streamz==0.5.1 in /Users/B149899/anaconda3/envs/py37/lib/python3.7/site-packages (from dataverk) (0.5.1)\n",
      "Requirement already satisfied: cloudpickle>=0.2.1; extra == \"complete\" in /Users/B149899/anaconda3/envs/py37/lib/python3.7/site-packages (from dask[complete]==2.0.0->dataverk) (1.2.1)\n",
      "Requirement already satisfied: toolz>=0.7.3; extra == \"complete\" in /Users/B149899/anaconda3/envs/py37/lib/python3.7/site-packages (from dask[complete]==2.0.0->dataverk) (0.10.0)\n",
      "Requirement already satisfied: partd>=0.3.10; extra == \"complete\" in /Users/B149899/anaconda3/envs/py37/lib/python3.7/site-packages (from dask[complete]==2.0.0->dataverk) (1.0.0)\n",
      "Requirement already satisfied: bokeh>=1.0.0; extra == \"complete\" in /Users/B149899/anaconda3/envs/py37/lib/python3.7/site-packages (from dask[complete]==2.0.0->dataverk) (1.3.4)\n",
      "Requirement already satisfied: numpy>=1.13.0; extra == \"complete\" in /Users/B149899/anaconda3/envs/py37/lib/python3.7/site-packages (from dask[complete]==2.0.0->dataverk) (1.17.0)\n",
      "Requirement already satisfied: distributed>=2.0; extra == \"complete\" in /Users/B149899/anaconda3/envs/py37/lib/python3.7/site-packages (from dask[complete]==2.0.0->dataverk) (2.3.0)\n",
      "Requirement already satisfied: pytz in /Users/B149899/anaconda3/envs/py37/lib/python3.7/site-packages (from google-api-core==1.10.0->dataverk) (2019.2)\n",
      "Requirement already satisfied: six>=1.10.0 in /Users/B149899/anaconda3/envs/py37/lib/python3.7/site-packages (from google-api-core==1.10.0->dataverk) (1.12.0)\n",
      "Requirement already satisfied: setuptools>=34.0.0 in /Users/B149899/anaconda3/envs/py37/lib/python3.7/site-packages (from google-api-core==1.10.0->dataverk) (41.1.0)\n",
      "Requirement already satisfied: rsa>=3.1.4 in /Users/B149899/anaconda3/envs/py37/lib/python3.7/site-packages (from google-auth==1.6.3->dataverk) (4.0)\n",
      "Requirement already satisfied: cachetools>=2.0.0 in /Users/B149899/anaconda3/envs/py37/lib/python3.7/site-packages (from google-auth==1.6.3->dataverk) (3.1.1)\n",
      "Requirement already satisfied: pyasn1-modules>=0.2.1 in /Users/B149899/anaconda3/envs/py37/lib/python3.7/site-packages (from google-auth==1.6.3->dataverk) (0.2.6)\n",
      "Requirement already satisfied: certifi>=2017.4.17 in /Users/B149899/anaconda3/envs/py37/lib/python3.7/site-packages (from requests==2.21.0->dataverk) (2019.6.16)\n",
      "Requirement already satisfied: idna<2.9,>=2.5 in /Users/B149899/anaconda3/envs/py37/lib/python3.7/site-packages (from requests==2.21.0->dataverk) (2.8)\n",
      "Requirement already satisfied: chardet<3.1.0,>=3.0.2 in /Users/B149899/anaconda3/envs/py37/lib/python3.7/site-packages (from requests==2.21.0->dataverk) (3.0.4)\n",
      "Requirement already satisfied: python-dateutil>=2.5.0 in /Users/B149899/anaconda3/envs/py37/lib/python3.7/site-packages (from pandas==0.24.2->dataverk) (2.8.0)\n",
      "Requirement already satisfied: nbconvert!=5.4 in /Users/B149899/anaconda3/envs/py37/lib/python3.7/site-packages (from nbsphinx==0.4.2->dataverk) (5.6.0)\n",
      "Requirement already satisfied: jinja2 in /Users/B149899/anaconda3/envs/py37/lib/python3.7/site-packages (from nbsphinx==0.4.2->dataverk) (2.10.1)\n",
      "Requirement already satisfied: docutils in /Users/B149899/anaconda3/envs/py37/lib/python3.7/site-packages (from nbsphinx==0.4.2->dataverk) (0.15.2)\n",
      "Requirement already satisfied: traitlets in /Users/B149899/anaconda3/envs/py37/lib/python3.7/site-packages (from nbsphinx==0.4.2->dataverk) (4.3.2)\n",
      "Requirement already satisfied: nbformat in /Users/B149899/anaconda3/envs/py37/lib/python3.7/site-packages (from nbsphinx==0.4.2->dataverk) (4.4.0)\n",
      "Requirement already satisfied: sphinxcontrib-jsmath in /Users/B149899/anaconda3/envs/py37/lib/python3.7/site-packages (from Sphinx==2.0.1->dataverk) (1.0.1)\n",
      "Requirement already satisfied: sphinxcontrib-htmlhelp in /Users/B149899/anaconda3/envs/py37/lib/python3.7/site-packages (from Sphinx==2.0.1->dataverk) (1.0.2)\n",
      "Requirement already satisfied: snowballstemmer>=1.1 in /Users/B149899/anaconda3/envs/py37/lib/python3.7/site-packages (from Sphinx==2.0.1->dataverk) (1.9.0)\n",
      "Requirement already satisfied: alabaster<0.8,>=0.7 in /Users/B149899/anaconda3/envs/py37/lib/python3.7/site-packages (from Sphinx==2.0.1->dataverk) (0.7.12)\n",
      "Requirement already satisfied: imagesize in /Users/B149899/anaconda3/envs/py37/lib/python3.7/site-packages (from Sphinx==2.0.1->dataverk) (1.1.0)\n",
      "Requirement already satisfied: packaging in /Users/B149899/anaconda3/envs/py37/lib/python3.7/site-packages (from Sphinx==2.0.1->dataverk) (19.1)\n",
      "Requirement already satisfied: sphinxcontrib-serializinghtml in /Users/B149899/anaconda3/envs/py37/lib/python3.7/site-packages (from Sphinx==2.0.1->dataverk) (1.1.3)\n",
      "Requirement already satisfied: sphinxcontrib-qthelp in /Users/B149899/anaconda3/envs/py37/lib/python3.7/site-packages (from Sphinx==2.0.1->dataverk) (1.0.2)\n",
      "Requirement already satisfied: Pygments>=2.0 in /Users/B149899/anaconda3/envs/py37/lib/python3.7/site-packages (from Sphinx==2.0.1->dataverk) (2.4.2)\n",
      "Requirement already satisfied: babel!=2.0,>=1.3 in /Users/B149899/anaconda3/envs/py37/lib/python3.7/site-packages (from Sphinx==2.0.1->dataverk) (2.7.0)\n",
      "Requirement already satisfied: sphinxcontrib-applehelp in /Users/B149899/anaconda3/envs/py37/lib/python3.7/site-packages (from Sphinx==2.0.1->dataverk) (1.0.1)\n",
      "Requirement already satisfied: sphinxcontrib-devhelp in /Users/B149899/anaconda3/envs/py37/lib/python3.7/site-packages (from Sphinx==2.0.1->dataverk) (1.0.1)\n",
      "Requirement already satisfied: tornado in /Users/B149899/anaconda3/envs/py37/lib/python3.7/site-packages (from streamz==0.5.1->dataverk) (6.0.3)\n",
      "Requirement already satisfied: zict in /Users/B149899/anaconda3/envs/py37/lib/python3.7/site-packages (from streamz==0.5.1->dataverk) (1.0.0)\n",
      "Requirement already satisfied: locket in /Users/B149899/anaconda3/envs/py37/lib/python3.7/site-packages (from partd>=0.3.10; extra == \"complete\"->dask[complete]==2.0.0->dataverk) (0.2.0)\n",
      "Requirement already satisfied: PyYAML>=3.10 in /Users/B149899/anaconda3/envs/py37/lib/python3.7/site-packages (from bokeh>=1.0.0; extra == \"complete\"->dask[complete]==2.0.0->dataverk) (5.1.2)\n",
      "Requirement already satisfied: pillow>=4.0 in /Users/B149899/anaconda3/envs/py37/lib/python3.7/site-packages (from bokeh>=1.0.0; extra == \"complete\"->dask[complete]==2.0.0->dataverk) (6.1.0)\n",
      "Requirement already satisfied: click>=6.6 in /Users/B149899/anaconda3/envs/py37/lib/python3.7/site-packages (from distributed>=2.0; extra == \"complete\"->dask[complete]==2.0.0->dataverk) (7.0)\n",
      "Requirement already satisfied: sortedcontainers!=2.0.0,!=2.0.1 in /Users/B149899/anaconda3/envs/py37/lib/python3.7/site-packages (from distributed>=2.0; extra == \"complete\"->dask[complete]==2.0.0->dataverk) (2.1.0)\n",
      "Requirement already satisfied: tblib in /Users/B149899/anaconda3/envs/py37/lib/python3.7/site-packages (from distributed>=2.0; extra == \"complete\"->dask[complete]==2.0.0->dataverk) (1.4.0)\n",
      "Requirement already satisfied: psutil>=5.0 in /Users/B149899/anaconda3/envs/py37/lib/python3.7/site-packages (from distributed>=2.0; extra == \"complete\"->dask[complete]==2.0.0->dataverk) (5.6.3)\n"
     ]
    },
    {
     "name": "stdout",
     "output_type": "stream",
     "text": [
      "Requirement already satisfied: msgpack in /Users/B149899/anaconda3/envs/py37/lib/python3.7/site-packages (from distributed>=2.0; extra == \"complete\"->dask[complete]==2.0.0->dataverk) (0.6.1)\n",
      "Requirement already satisfied: pyasn1>=0.1.3 in /Users/B149899/anaconda3/envs/py37/lib/python3.7/site-packages (from rsa>=3.1.4->google-auth==1.6.3->dataverk) (0.4.6)\n",
      "Requirement already satisfied: pandocfilters>=1.4.1 in /Users/B149899/anaconda3/envs/py37/lib/python3.7/site-packages (from nbconvert!=5.4->nbsphinx==0.4.2->dataverk) (1.4.2)\n",
      "Requirement already satisfied: jupyter-core in /Users/B149899/anaconda3/envs/py37/lib/python3.7/site-packages (from nbconvert!=5.4->nbsphinx==0.4.2->dataverk) (4.5.0)\n",
      "Requirement already satisfied: entrypoints>=0.2.2 in /Users/B149899/anaconda3/envs/py37/lib/python3.7/site-packages (from nbconvert!=5.4->nbsphinx==0.4.2->dataverk) (0.3)\n",
      "Requirement already satisfied: testpath in /Users/B149899/anaconda3/envs/py37/lib/python3.7/site-packages (from nbconvert!=5.4->nbsphinx==0.4.2->dataverk) (0.4.2)\n",
      "Requirement already satisfied: defusedxml in /Users/B149899/anaconda3/envs/py37/lib/python3.7/site-packages (from nbconvert!=5.4->nbsphinx==0.4.2->dataverk) (0.6.0)\n",
      "Requirement already satisfied: bleach in /Users/B149899/anaconda3/envs/py37/lib/python3.7/site-packages (from nbconvert!=5.4->nbsphinx==0.4.2->dataverk) (3.1.0)\n",
      "Requirement already satisfied: mistune<2,>=0.8.1 in /Users/B149899/anaconda3/envs/py37/lib/python3.7/site-packages (from nbconvert!=5.4->nbsphinx==0.4.2->dataverk) (0.8.4)\n",
      "Requirement already satisfied: MarkupSafe>=0.23 in /Users/B149899/anaconda3/envs/py37/lib/python3.7/site-packages (from jinja2->nbsphinx==0.4.2->dataverk) (1.1.1)\n",
      "Requirement already satisfied: decorator in /Users/B149899/anaconda3/envs/py37/lib/python3.7/site-packages (from traitlets->nbsphinx==0.4.2->dataverk) (4.4.0)\n",
      "Requirement already satisfied: ipython-genutils in /Users/B149899/anaconda3/envs/py37/lib/python3.7/site-packages (from traitlets->nbsphinx==0.4.2->dataverk) (0.2.0)\n",
      "Requirement already satisfied: jsonschema!=2.5.0,>=2.4 in /Users/B149899/anaconda3/envs/py37/lib/python3.7/site-packages (from nbformat->nbsphinx==0.4.2->dataverk) (3.0.2)\n",
      "Requirement already satisfied: pyparsing>=2.0.2 in /Users/B149899/anaconda3/envs/py37/lib/python3.7/site-packages (from packaging->Sphinx==2.0.1->dataverk) (2.4.2)\n",
      "Requirement already satisfied: attrs in /Users/B149899/anaconda3/envs/py37/lib/python3.7/site-packages (from packaging->Sphinx==2.0.1->dataverk) (19.1.0)\n",
      "Requirement already satisfied: heapdict in /Users/B149899/anaconda3/envs/py37/lib/python3.7/site-packages (from zict->streamz==0.5.1->dataverk) (1.0.0)\n",
      "Requirement already satisfied: webencodings in /Users/B149899/anaconda3/envs/py37/lib/python3.7/site-packages (from bleach->nbconvert!=5.4->nbsphinx==0.4.2->dataverk) (0.5.1)\n",
      "Requirement already satisfied: pyrsistent>=0.14.0 in /Users/B149899/anaconda3/envs/py37/lib/python3.7/site-packages (from jsonschema!=2.5.0,>=2.4->nbformat->nbsphinx==0.4.2->dataverk) (0.15.4)\n"
     ]
    }
   ],
   "source": [
    "import sys\n",
    "\n",
    "if 'dataverk' not in  sys.modules:\n",
    "    !pip install dataverk"
   ]
  },
  {
   "cell_type": "code",
   "execution_count": 2,
   "metadata": {},
   "outputs": [],
   "source": [
    "if 'google.colab' in sys.modules:\n",
    "    from google.colab import auth\n",
    "    auth.authenticate_user()"
   ]
  },
  {
   "cell_type": "code",
   "execution_count": 3,
   "metadata": {
    "colab": {},
    "colab_type": "code",
    "id": "2TJ12Rsva5C7"
   },
   "outputs": [],
   "source": [
    "import dataverk as dv\n",
    "import numpy as np\n",
    "import pandas as pd\n",
    "import ipywidgets as widgets\n",
    "\n",
    "import plotly.offline as py\n",
    "import plotly.graph_objs as go\n",
    "import plotly.io as plio"
   ]
  },
  {
   "cell_type": "markdown",
   "metadata": {
    "colab_type": "text",
    "id": "8K8JxKGUB3Us"
   },
   "source": [
    "# Get data"
   ]
  },
  {
   "cell_type": "code",
   "execution_count": 6,
   "metadata": {
    "colab": {},
    "colab_type": "code",
    "id": "t58iNPXA3Yn5"
   },
   "outputs": [
    {
     "data": {
      "application/javascript": [
       "var spec = {\"config\": {\"background\": \"white\", \"view\": {\"width\": 400, \"height\": 300}, \"mark\": {\"tooltip\": null}}, \"layer\": [{\"data\": {\"url\": \"https://vega.github.io/vega-datasets/data/us-10m.json\", \"format\": {\"feature\": \"states\", \"type\": \"topojson\"}}, \"mark\": {\"type\": \"geoshape\", \"fill\": \"lightgray\", \"stroke\": \"white\"}, \"height\": 300, \"projection\": {\"type\": \"albersUsa\"}, \"width\": 500}, {\"data\": {\"url\": \"https://vega.github.io/vega-datasets/data/airports.csv\"}, \"mark\": \"circle\", \"encoding\": {\"color\": {\"value\": \"steelblue\"}, \"latitude\": {\"field\": \"latitude\", \"type\": \"quantitative\"}, \"longitude\": {\"field\": \"longitude\", \"type\": \"quantitative\"}, \"size\": {\"type\": \"quantitative\", \"field\": \"count\", \"title\": \"Number of Airports\"}, \"tooltip\": [{\"type\": \"nominal\", \"field\": \"state\"}, {\"type\": \"quantitative\", \"field\": \"count\"}]}, \"title\": \"Number of airports in US\", \"transform\": [{\"aggregate\": [{\"op\": \"mean\", \"field\": \"latitude\", \"as\": \"latitude\"}, {\"op\": \"mean\", \"field\": \"longitude\", \"as\": \"longitude\"}, {\"op\": \"count\", \"as\": \"count\"}], \"groupby\": [\"state\"]}]}], \"$schema\": \"https://vega.github.io/schema/vega-lite/v3.4.0.json\"};\n",
       "var opt = {};\n",
       "var type = \"vega-lite\";\n",
       "var id = \"b0be3a83-29eb-4d55-80d7-18e5b01b672d\";\n",
       "\n",
       "var output_area = this;\n",
       "\n",
       "require([\"nbextensions/jupyter-vega/index\"], function(vega) {\n",
       "  var target = document.createElement(\"div\");\n",
       "  target.id = id;\n",
       "  target.className = \"vega-embed\";\n",
       "\n",
       "  var style = document.createElement(\"style\");\n",
       "  style.textContent = [\n",
       "    \".vega-embed .error p {\",\n",
       "    \"  color: firebrick;\",\n",
       "    \"  font-size: 14px;\",\n",
       "    \"}\",\n",
       "  ].join(\"\\\\n\");\n",
       "\n",
       "  // element is a jQuery wrapped DOM element inside the output area\n",
       "  // see http://ipython.readthedocs.io/en/stable/api/generated/\\\n",
       "  // IPython.display.html#IPython.display.Javascript.__init__\n",
       "  element[0].appendChild(target);\n",
       "  element[0].appendChild(style);\n",
       "\n",
       "  vega.render(\"#\" + id, spec, type, opt, output_area);\n",
       "}, function (err) {\n",
       "  if (err.requireType !== \"scripterror\") {\n",
       "    throw(err);\n",
       "  }\n",
       "});\n"
      ],
      "text/plain": [
       "<vega.vegalite.VegaLite at 0x3188defd0>"
      ]
     },
     "metadata": {
      "jupyter-vega": "#b0be3a83-29eb-4d55-80d7-18e5b01b672d"
     },
     "output_type": "display_data"
    },
    {
     "data": {
      "text/plain": []
     },
     "execution_count": 6,
     "metadata": {},
     "output_type": "execute_result"
    },
    {
     "data": {
      "image/png": "[encoded data removed]"
     },
     "metadata": {
      "jupyter-vega": "#b0be3a83-29eb-4d55-80d7-18e5b01b672d"
     },
     "output_type": "display_data"
    }
   ],
   "source": [
    "import altair as alt\n",
    "alt.renderers.enable('notebook')\n",
    "alt.themes.enable('opaque')\n",
    "from vega_datasets import data\n",
    "\n",
    "airports = data.airports.url\n",
    "states = alt.topo_feature(data.us_10m.url, feature='states')\n",
    "\n",
    "# US states background\n",
    "background = alt.Chart(states).mark_geoshape(\n",
    "    fill='lightgray',\n",
    "    stroke='white'\n",
    ").properties(\n",
    "    width=500,\n",
    "    height=300\n",
    ").project('albersUsa')\n",
    "\n",
    "# airport positions on background\n",
    "points = alt.Chart(airports).transform_aggregate(\n",
    "    latitude='mean(latitude)',\n",
    "    longitude='mean(longitude)',\n",
    "    count='count()',\n",
    "    groupby=['state']\n",
    ").mark_circle().encode(\n",
    "    longitude='longitude:Q',\n",
    "    latitude='latitude:Q',\n",
    "    size=alt.Size('count:Q', title='Number of Airports'),\n",
    "    color=alt.value('steelblue'),\n",
    "    tooltip=['state:N','count:Q']\n",
    ").properties(\n",
    "    title='Number of airports in US'\n",
    ")\n",
    "\n",
    "background + points"
   ]
  },
  {
   "cell_type": "code",
   "execution_count": 7,
   "metadata": {
    "colab": {},
    "colab_type": "code",
    "id": "EvQzHmJD53wY"
   },
   "outputs": [
    {
     "name": "stdout",
     "output_type": "stream",
     "text": [
      "{'$schema': 'https://vega.github.io/schema/vega-lite/v3.4.0.json',\n",
      " 'config': {'background': 'white',\n",
      "            'mark': {'tooltip': None},\n",
      "            'view': {'height': 300, 'width': 400}},\n",
      " 'data': {'url': 'https://vega.github.io/vega-datasets/data/airports.csv'},\n",
      " 'encoding': {'color': {'value': 'steelblue'},\n",
      "              'latitude': {'field': 'latitude', 'type': 'quantitative'},\n",
      "              'longitude': {'field': 'longitude', 'type': 'quantitative'},\n",
      "              'size': {'field': 'count',\n",
      "                       'title': 'Number of Airports',\n",
      "                       'type': 'quantitative'},\n",
      "              'tooltip': [{'field': 'state', 'type': 'nominal'},\n",
      "                          {'field': 'count', 'type': 'quantitative'}]},\n",
      " 'mark': 'circle',\n",
      " 'title': 'Number of airports in US',\n",
      " 'transform': [{'aggregate': [{'as': 'latitude',\n",
      "                               'field': 'latitude',\n",
      "                               'op': 'mean'},\n",
      "                              {'as': 'longitude',\n",
      "                               'field': 'longitude',\n",
      "                               'op': 'mean'},\n",
      "                              {'as': 'count', 'op': 'count'}],\n",
      "                'groupby': ['state']}]}\n"
     ]
    }
   ],
   "source": [
    "from pprint import pprint\n",
    "pprint(points.to_dict())"
   ]
  },
  {
   "cell_type": "code",
   "execution_count": null,
   "metadata": {
    "colab": {},
    "colab_type": "code",
    "id": "0gEinHwz6n6l"
   },
   "outputs": [],
   "source": [
    "print(data.us_10m.url)"
   ]
  },
  {
   "cell_type": "markdown",
   "metadata": {
    "colab_type": "text",
    "id": "jeqb6wRra5Dx"
   },
   "source": [
    "# Datapackage"
   ]
  },
  {
   "cell_type": "code",
   "execution_count": null,
   "metadata": {
    "colab": {},
    "colab_type": "code",
    "id": "EnL2pLoXGyBT"
   },
   "outputs": [],
   "source": []
  },
  {
   "cell_type": "code",
   "execution_count": null,
   "metadata": {
    "colab": {},
    "colab_type": "code",
    "id": "_9zlLM5Ca5Dx"
   },
   "outputs": [],
   "source": [
    "dp = dv.Datapackage(metadata)"
   ]
  },
  {
   "cell_type": "code",
   "execution_count": null,
   "metadata": {
    "colab": {},
    "colab_type": "code",
    "id": "2brXfGv3a5Dz"
   },
   "outputs": [],
   "source": [
    "description = '''\n",
    "Airports\n",
    "\n",
    "'''\n",
    "\n",
    "dp.add_view(\n",
    "    spec_type='altair',\n",
    "    name='Airports',\n",
    "    title='Airports',\n",
    "    description = description,\n",
    "    resources=[],\n",
    "    attribution = \"Kilde: NAV.\",\n",
    "    spec=points.to_dict()\n",
    ")"
   ]
  },
  {
   "cell_type": "code",
   "execution_count": null,
   "metadata": {
    "colab": {},
    "colab_type": "code",
    "id": "8iDENEPla5D1"
   },
   "outputs": [],
   "source": [
    "client = dv.Client()\n",
    "client.publish(dp)"
   ]
  },
  {
   "cell_type": "code",
   "execution_count": null,
   "metadata": {},
   "outputs": [],
   "source": []
  }
 ],
 "metadata": {
  "colab": {
   "include_colab_link": true,
   "name": "etl.ipynb",
   "private_outputs": true,
   "provenance": [],
   "toc_visible": true,
   "version": "0.3.2"
  },
  "kernelspec": {
   "display_name": "Python (py37)",
   "language": "python",
   "name": "py37"
  },
  "language_info": {
   "codemirror_mode": {
    "name": "ipython",
    "version": 3
   },
   "file_extension": ".py",
   "mimetype": "text/x-python",
   "name": "python",
   "nbconvert_exporter": "python",
   "pygments_lexer": "ipython3",
   "version": "3.7.4"
  },
  "varInspector": {
   "cols": {
    "lenName": 16,
    "lenType": 16,
    "lenVar": 40
   },
   "kernels_config": {
    "python": {
     "delete_cmd_postfix": "",
     "delete_cmd_prefix": "del ",
     "library": "var_list.py",
     "varRefreshCmd": "print(var_dic_list())"
    },
    "r": {
     "delete_cmd_postfix": ") ",
     "delete_cmd_prefix": "rm(",
     "library": "var_list.r",
     "varRefreshCmd": "cat(var_dic_list()) "
    }
   },
   "types_to_exclude": [
    "module",
    "function",
    "builtin_function_or_method",
    "instance",
    "_Feature"
   ],
   "window_display": false
  }
 },
 "nbformat": 4,
 "nbformat_minor": 2
}
